{
  "nbformat": 4,
  "nbformat_minor": 0,
  "metadata": {
    "colab": {
      "name": "res_dens_playground.ipynb",
      "provenance": [],
      "collapsed_sections": [],
      "authorship_tag": "ABX9TyPd6UsHYEdhGTcJRQFgmQJP",
      "include_colab_link": true
    },
    "kernelspec": {
      "name": "python3",
      "display_name": "Python 3"
    },
    "accelerator": "GPU"
  },
  "cells": [
    {
      "cell_type": "markdown",
      "metadata": {
        "id": "view-in-github",
        "colab_type": "text"
      },
      "source": [
        "<a href=\"https://colab.research.google.com/github/pranay8297/deep-learning-projects/blob/master/res_dens_playground.ipynb\" target=\"_parent\"><img src=\"https://colab.research.google.com/assets/colab-badge.svg\" alt=\"Open In Colab\"/></a>"
      ]
    },
    {
      "cell_type": "code",
      "metadata": {
        "id": "GPOaJa-q65IH",
        "colab_type": "code",
        "colab": {}
      },
      "source": [
        "from fastai import *\n",
        "from fastai.vision import *"
      ],
      "execution_count": 36,
      "outputs": []
    },
    {
      "cell_type": "code",
      "metadata": {
        "id": "EU7rns1L7BrC",
        "colab_type": "code",
        "colab": {
          "base_uri": "https://localhost:8080/",
          "height": 35
        },
        "outputId": "4a406257-b773-4c6b-efa7-fe671cdc05cd"
      },
      "source": [
        "path = untar_data(URLs.MNIST)\n",
        "il = ImageList.from_folder(path, convert_mode = 'L')\n",
        "split = il.split_by_folder(train = 'training', valid = 'testing')\n",
        "src = split.label_from_folder()\n",
        "tfms = [[*rand_pad(padding= 3, size = 28, mode = 'zeros')], []]\n",
        "ntfms = [[*rand_pad(padding = 3, size = 28, mode = 'reflection')]]\n",
        "bs = 128\n",
        "data = src.transform(tfms).databunch(bs = bs).normalize()"
      ],
      "execution_count": 2,
      "outputs": [
        {
          "output_type": "stream",
          "text": [
            "Downloading https://s3.amazonaws.com/fast-ai-imageclas/mnist_png.tgz\n"
          ],
          "name": "stdout"
        },
        {
          "output_type": "display_data",
          "data": {
            "text/html": [
              ""
            ],
            "text/plain": [
              "<IPython.core.display.HTML object>"
            ]
          },
          "metadata": {
            "tags": []
          }
        }
      ]
    },
    {
      "cell_type": "code",
      "metadata": {
        "id": "P2x7p3At7ZmO",
        "colab_type": "code",
        "colab": {}
      },
      "source": [
        "xb, yb = data.one_batch()"
      ],
      "execution_count": 3,
      "outputs": []
    },
    {
      "cell_type": "code",
      "metadata": {
        "id": "Km2snyT_7nXd",
        "colab_type": "code",
        "colab": {
          "base_uri": "https://localhost:8080/",
          "height": 35
        },
        "outputId": "2518c1e9-eb54-45a1-ce92-1106c66fa9e3"
      },
      "source": [
        "xb.shape, yb.shape"
      ],
      "execution_count": 4,
      "outputs": [
        {
          "output_type": "execute_result",
          "data": {
            "text/plain": [
              "(torch.Size([128, 1, 28, 28]), torch.Size([128]))"
            ]
          },
          "metadata": {
            "tags": []
          },
          "execution_count": 4
        }
      ]
    },
    {
      "cell_type": "code",
      "metadata": {
        "id": "zpgz7SGg7q69",
        "colab_type": "code",
        "colab": {}
      },
      "source": [
        "def conv(ni, nf, stride = 2, kernel_size = 3):\n",
        "  return nn.Sequential(nn.Conv2d(ni, nf, stride = stride, kernel_size = kernel_size, padding = 1), \n",
        "                       nn.BatchNorm2d(nf), \n",
        "                       nn.ReLU())\n",
        "\n",
        "def res_block(nf):\n",
        "  return nn.Sequential(conv(nf, nf, stride = 1), conv(nf, nf, stride = 1))\n"
      ],
      "execution_count": 21,
      "outputs": []
    },
    {
      "cell_type": "code",
      "metadata": {
        "id": "49DVCupE9C_W",
        "colab_type": "code",
        "colab": {}
      },
      "source": [
        "conv_layer = conv(1, 10)\n",
        "\n",
        "res_layer = res_block(10)"
      ],
      "execution_count": 22,
      "outputs": []
    },
    {
      "cell_type": "code",
      "metadata": {
        "id": "Y_5f_l7YJFtK",
        "colab_type": "code",
        "colab": {}
      },
      "source": [
        "conv_2, conv_3 = conv(10, 10, stride = 1), conv(10, 10, stride = 1)"
      ],
      "execution_count": 9,
      "outputs": []
    },
    {
      "cell_type": "code",
      "metadata": {
        "id": "XlT4wFcy9cQq",
        "colab_type": "code",
        "colab": {
          "base_uri": "https://localhost:8080/",
          "height": 35
        },
        "outputId": "b47fab1e-d7a7-4309-8ab9-b380ffa92887"
      },
      "source": [
        "params = []\n",
        "for i in res_layer.parameters():\n",
        "  params.append(i)\n",
        "len(params)"
      ],
      "execution_count": 24,
      "outputs": [
        {
          "output_type": "execute_result",
          "data": {
            "text/plain": [
              "8"
            ]
          },
          "metadata": {
            "tags": []
          },
          "execution_count": 24
        }
      ]
    },
    {
      "cell_type": "code",
      "metadata": {
        "id": "INOw22sy-NDU",
        "colab_type": "code",
        "colab": {
          "base_uri": "https://localhost:8080/",
          "height": 35
        },
        "outputId": "219eaf46-dc9c-4057-9966-f8e0663a9a4d"
      },
      "source": [
        "params[0].shape, params[4].shape"
      ],
      "execution_count": 26,
      "outputs": [
        {
          "output_type": "execute_result",
          "data": {
            "text/plain": [
              "(torch.Size([10, 10, 3, 3]), torch.Size([10, 10, 3, 3]))"
            ]
          },
          "metadata": {
            "tags": []
          },
          "execution_count": 26
        }
      ]
    },
    {
      "cell_type": "code",
      "metadata": {
        "id": "wRB43Ybw-jfK",
        "colab_type": "code",
        "colab": {}
      },
      "source": [
        "image = xb[0]\n",
        "image.data.shape\n",
        "image.data[None].shape\n",
        "img_data = image.data[None]"
      ],
      "execution_count": 11,
      "outputs": []
    },
    {
      "cell_type": "code",
      "metadata": {
        "id": "i2jB8lO8JRuj",
        "colab_type": "code",
        "colab": {
          "base_uri": "https://localhost:8080/",
          "height": 35
        },
        "outputId": "949d609b-22c3-4d24-c5ed-01102ae3e3b1"
      },
      "source": [
        "#testing\n",
        "op = conv_layer(img_data);\n",
        "op.shape"
      ],
      "execution_count": 12,
      "outputs": [
        {
          "output_type": "execute_result",
          "data": {
            "text/plain": [
              "torch.Size([1, 10, 13, 13])"
            ]
          },
          "metadata": {
            "tags": []
          },
          "execution_count": 12
        }
      ]
    },
    {
      "cell_type": "code",
      "metadata": {
        "id": "RxoJ0cf3Jf5M",
        "colab_type": "code",
        "colab": {
          "base_uri": "https://localhost:8080/",
          "height": 35
        },
        "outputId": "4d473f9a-d7ad-4db3-8540-7a2ac55ee767"
      },
      "source": [
        "inter_op = conv_2(op)\n",
        "inter_op.shape"
      ],
      "execution_count": 15,
      "outputs": [
        {
          "output_type": "execute_result",
          "data": {
            "text/plain": [
              "torch.Size([1, 10, 11, 11])"
            ]
          },
          "metadata": {
            "tags": []
          },
          "execution_count": 15
        }
      ]
    },
    {
      "cell_type": "code",
      "metadata": {
        "id": "cOOAyI8oJ6G5",
        "colab_type": "code",
        "colab": {}
      },
      "source": [
        "test_layer = conv_layer(1, 10, stride=2)\n",
        "test_res_1, test_res_2 = conv_layer(10, 10, stride = 1), conv_layer(10, 10, stride = 1)"
      ],
      "execution_count": 18,
      "outputs": []
    },
    {
      "cell_type": "code",
      "metadata": {
        "id": "K73CvExhKSiC",
        "colab_type": "code",
        "colab": {
          "base_uri": "https://localhost:8080/",
          "height": 35
        },
        "outputId": "37d87fe7-8a02-4a13-a35d-e741fe677bb7"
      },
      "source": [
        "img_data.shape"
      ],
      "execution_count": 19,
      "outputs": [
        {
          "output_type": "execute_result",
          "data": {
            "text/plain": [
              "torch.Size([1, 1, 28, 28])"
            ]
          },
          "metadata": {
            "tags": []
          },
          "execution_count": 19
        }
      ]
    },
    {
      "cell_type": "code",
      "metadata": {
        "id": "i-8LqWKNKIj6",
        "colab_type": "code",
        "colab": {
          "base_uri": "https://localhost:8080/",
          "height": 35
        },
        "outputId": "d4f9e095-913c-4645-cf94-e637018475c4"
      },
      "source": [
        "op = test_layer(img_data)\n",
        "op.shape"
      ],
      "execution_count": 20,
      "outputs": [
        {
          "output_type": "execute_result",
          "data": {
            "text/plain": [
              "torch.Size([1, 10, 14, 14])"
            ]
          },
          "metadata": {
            "tags": []
          },
          "execution_count": 20
        }
      ]
    },
    {
      "cell_type": "code",
      "metadata": {
        "id": "sgVexVP9-qaG",
        "colab_type": "code",
        "colab": {
          "base_uri": "https://localhost:8080/",
          "height": 52
        },
        "outputId": "3aeaba84-8867-4e26-b9fb-95cf880384e0"
      },
      "source": [
        "#step - 1 - get the op from first conv layer and store it in output variable\n",
        "img_data = image.data[None]\n",
        "conv_op = conv_layer(img_data)\n",
        "print(conv_op.shape)\n",
        "#step - 2 - Pass the output to res_block and store it in res_block_op variable\n",
        "new_arch_op = res_layer(conv_op)\n",
        "print(new_arch_op.shape)\n",
        "#step - 3 - perform operations of resnet, by adding and store it in resnet variable\n",
        "res_op = new_arch_op + conv_op\n",
        "#step - 4 - perform operations of densnet, by concatenating and store it in dens net variable\n",
        "dens_op = torch.cat([new_arch_op, conv_op], dim = 1)"
      ],
      "execution_count": 26,
      "outputs": [
        {
          "output_type": "stream",
          "text": [
            "torch.Size([1, 10, 14, 14])\n",
            "torch.Size([1, 10, 14, 14])\n"
          ],
          "name": "stdout"
        }
      ]
    },
    {
      "cell_type": "code",
      "metadata": {
        "id": "AKbvFz2bK1Fu",
        "colab_type": "code",
        "colab": {
          "base_uri": "https://localhost:8080/",
          "height": 35
        },
        "outputId": "99ca69a8-0e52-491d-d862-9aca5a4d5756"
      },
      "source": [
        "res_op.shape, dens_op.shape"
      ],
      "execution_count": 28,
      "outputs": [
        {
          "output_type": "execute_result",
          "data": {
            "text/plain": [
              "(torch.Size([1, 10, 14, 14]), torch.Size([1, 20, 14, 14]))"
            ]
          },
          "metadata": {
            "tags": []
          },
          "execution_count": 28
        }
      ]
    },
    {
      "cell_type": "code",
      "metadata": {
        "id": "TvPsxZlKLvY1",
        "colab_type": "code",
        "colab": {}
      },
      "source": [
        "\n",
        "class Block(nn.Module):\n",
        "  def __init__(self, nf, is_dense = False):\n",
        "    super().__init__()\n",
        "    self.is_dense = is_dense\n",
        "    self.l_1 = conv(nf, nf, stride = 1)\n",
        "    self.l_2 = conv(nf, nf, stride = 1)\n",
        "  \n",
        "  def forward(self, xb):\n",
        "    op = self.l_2(self.l_1(xb))\n",
        "    return xb + op if not self.is_dense else torch.cat([xb, op], dim = 1)"
      ],
      "execution_count": 48,
      "outputs": []
    },
    {
      "cell_type": "code",
      "metadata": {
        "id": "aLUzCt01MvcR",
        "colab_type": "code",
        "colab": {
          "base_uri": "https://localhost:8080/",
          "height": 225
        },
        "outputId": "d186438b-8f79-4f61-80c8-73f50c1ec5bb"
      },
      "source": [
        "'''\n",
        "def conv(ni, nf, stride = 2, kernel_size = 3):\n",
        "  return nn.Sequential(nn.Conv2d(ni, nf, stride = stride, kernel_size = kernel_size, padding = 1), \n",
        "                       nn.BatchNorm2d(nf), \n",
        "                       nn.ReLU())\n",
        "\"\"\"\n",
        "class Block(nn.Module):\n",
        "    def __init__(self, nf):\n",
        "        super().__init__()\n",
        "        self.conv1 = conv_layer(nf,nf)\n",
        "        self.conv2 = conv_layer(nf,nf)\n",
        "        \n",
        "    def forward(self, x): return x + self.conv2(self.conv1(x))\n",
        "\"\"\"\n",
        "'''\n",
        "Block(10)"
      ],
      "execution_count": 49,
      "outputs": [
        {
          "output_type": "execute_result",
          "data": {
            "text/plain": [
              "Block(\n",
              "  (l_1): Sequential(\n",
              "    (0): Conv2d(10, 10, kernel_size=(3, 3), stride=(1, 1), padding=(1, 1))\n",
              "    (1): BatchNorm2d(10, eps=1e-05, momentum=0.1, affine=True, track_running_stats=True)\n",
              "    (2): ReLU()\n",
              "  )\n",
              "  (l_2): Sequential(\n",
              "    (0): Conv2d(10, 10, kernel_size=(3, 3), stride=(1, 1), padding=(1, 1))\n",
              "    (1): BatchNorm2d(10, eps=1e-05, momentum=0.1, affine=True, track_running_stats=True)\n",
              "    (2): ReLU()\n",
              "  )\n",
              ")"
            ]
          },
          "metadata": {
            "tags": []
          },
          "execution_count": 49
        }
      ]
    },
    {
      "cell_type": "code",
      "metadata": {
        "id": "qAVrUkdgMlwm",
        "colab_type": "code",
        "colab": {}
      },
      "source": [
        "model = nn.Sequential(\n",
        "    conv(1, 10), #10,14,14\n",
        "    Block(10),#10, 14, 14\n",
        "    conv(10, 24), #24, 7, 7\n",
        "    Block(24),\n",
        "    conv(24, 32), #32, 3, 3\n",
        "    Block(32),\n",
        "    conv(32, 10), #10, 1, 1,\n",
        "    Block(10),\n",
        "    Flatten()\n",
        ")"
      ],
      "execution_count": 56,
      "outputs": []
    },
    {
      "cell_type": "code",
      "metadata": {
        "id": "hHYgoOCUONE5",
        "colab_type": "code",
        "colab": {
          "base_uri": "https://localhost:8080/",
          "height": 111
        },
        "outputId": "1a460985-2e4d-42ce-8ac1-437217da3692"
      },
      "source": [
        "learn = Learner(data, model, loss_func = nn.CrossEntropyLoss(), metrics = accuracy)\n",
        "learn.lr_find()"
      ],
      "execution_count": 57,
      "outputs": [
        {
          "output_type": "display_data",
          "data": {
            "text/html": [
              "\n",
              "    <div>\n",
              "        <style>\n",
              "            /* Turns off some styling */\n",
              "            progress {\n",
              "                /* gets rid of default border in Firefox and Opera. */\n",
              "                border: none;\n",
              "                /* Needs to be in here for Safari polyfill so background images work as expected. */\n",
              "                background-size: auto;\n",
              "            }\n",
              "            .progress-bar-interrupted, .progress-bar-interrupted::-webkit-progress-bar {\n",
              "                background: #F44336;\n",
              "            }\n",
              "        </style>\n",
              "      <progress value='0' class='' max='1' style='width:300px; height:20px; vertical-align: middle;'></progress>\n",
              "      0.00% [0/1 00:00<00:00]\n",
              "    </div>\n",
              "    \n",
              "<table border=\"1\" class=\"dataframe\">\n",
              "  <thead>\n",
              "    <tr style=\"text-align: left;\">\n",
              "      <th>epoch</th>\n",
              "      <th>train_loss</th>\n",
              "      <th>valid_loss</th>\n",
              "      <th>accuracy</th>\n",
              "      <th>time</th>\n",
              "    </tr>\n",
              "  </thead>\n",
              "  <tbody>\n",
              "  </tbody>\n",
              "</table><p>\n",
              "\n",
              "    <div>\n",
              "        <style>\n",
              "            /* Turns off some styling */\n",
              "            progress {\n",
              "                /* gets rid of default border in Firefox and Opera. */\n",
              "                border: none;\n",
              "                /* Needs to be in here for Safari polyfill so background images work as expected. */\n",
              "                background-size: auto;\n",
              "            }\n",
              "            .progress-bar-interrupted, .progress-bar-interrupted::-webkit-progress-bar {\n",
              "                background: #F44336;\n",
              "            }\n",
              "        </style>\n",
              "      <progress value='99' class='' max='468' style='width:300px; height:20px; vertical-align: middle;'></progress>\n",
              "      21.15% [99/468 00:05<00:21 2.2326]\n",
              "    </div>\n",
              "    "
            ],
            "text/plain": [
              "<IPython.core.display.HTML object>"
            ]
          },
          "metadata": {
            "tags": []
          }
        },
        {
          "output_type": "stream",
          "text": [
            "LR Finder is complete, type {learner_name}.recorder.plot() to see the graph.\n"
          ],
          "name": "stdout"
        }
      ]
    },
    {
      "cell_type": "code",
      "metadata": {
        "id": "y47fcwZ4QCZQ",
        "colab_type": "code",
        "colab": {
          "base_uri": "https://localhost:8080/",
          "height": 279
        },
        "outputId": "c15b99f4-59a4-4687-9145-a7da338337c1"
      },
      "source": [
        "learn.recorder.plot()"
      ],
      "execution_count": 58,
      "outputs": [
        {
          "output_type": "display_data",
          "data": {
            "image/png": "[encoded data removed]",
            "text/plain": [
              "<Figure size 432x288 with 1 Axes>"
            ]
          },
          "metadata": {
            "tags": [],
            "needs_background": "light"
          }
        }
      ]
    },
    {
      "cell_type": "code",
      "metadata": {
        "id": "BojWimpJQLpr",
        "colab_type": "code",
        "colab": {
          "base_uri": "https://localhost:8080/",
          "height": 168
        },
        "outputId": "e455c670-b23b-446f-f6bd-44d69933da79"
      },
      "source": [
        "learn.fit_one_cycle(4, max_lr = slice(3e-02))"
      ],
      "execution_count": 59,
      "outputs": [
        {
          "output_type": "display_data",
          "data": {
            "text/html": [
              "<table border=\"1\" class=\"dataframe\">\n",
              "  <thead>\n",
              "    <tr style=\"text-align: left;\">\n",
              "      <th>epoch</th>\n",
              "      <th>train_loss</th>\n",
              "      <th>valid_loss</th>\n",
              "      <th>accuracy</th>\n",
              "      <th>time</th>\n",
              "    </tr>\n",
              "  </thead>\n",
              "  <tbody>\n",
              "    <tr>\n",
              "      <td>0</td>\n",
              "      <td>0.164388</td>\n",
              "      <td>0.116619</td>\n",
              "      <td>0.966000</td>\n",
              "      <td>00:29</td>\n",
              "    </tr>\n",
              "    <tr>\n",
              "      <td>1</td>\n",
              "      <td>0.081797</td>\n",
              "      <td>0.084908</td>\n",
              "      <td>0.973900</td>\n",
              "      <td>00:29</td>\n",
              "    </tr>\n",
              "    <tr>\n",
              "      <td>2</td>\n",
              "      <td>0.049309</td>\n",
              "      <td>0.038172</td>\n",
              "      <td>0.988000</td>\n",
              "      <td>00:29</td>\n",
              "    </tr>\n",
              "    <tr>\n",
              "      <td>3</td>\n",
              "      <td>0.029017</td>\n",
              "      <td>0.019162</td>\n",
              "      <td>0.994100</td>\n",
              "      <td>00:29</td>\n",
              "    </tr>\n",
              "  </tbody>\n",
              "</table>"
            ],
            "text/plain": [
              "<IPython.core.display.HTML object>"
            ]
          },
          "metadata": {
            "tags": []
          }
        }
      ]
    },
    {
      "cell_type": "code",
      "metadata": {
        "id": "IQzXuL7sQ5w4",
        "colab_type": "code",
        "colab": {
          "base_uri": "https://localhost:8080/",
          "height": 373
        },
        "outputId": "fc200ea7-53bf-4b05-9231-109581dd17ad"
      },
      "source": [
        "\n",
        "dens_model = nn.Sequential(\n",
        "  conv(1, 10),#10, 14, 14\n",
        "  Block(10, True),#20, 14, 14\n",
        "  conv(20, 32), # 32, 7, 7\n",
        "  Block(32, True), #64, 7, 7\n",
        "  conv(64, 32), # 32, 3, 3\n",
        "  Block(32), #32, 3, 3\n",
        "  conv(32, 10), #10, 1, 1\n",
        "  Flatten()\n",
        ")\n",
        "res_dens_learn = Learner(data, dens_model, loss_func = nn.CrossEntropyLoss(), metrics = accuracy)\n",
        "res_dens_learn.lr_find()\n",
        "res_dens_learn.recorder.plot()"
      ],
      "execution_count": 60,
      "outputs": [
        {
          "output_type": "display_data",
          "data": {
            "text/html": [
              "\n",
              "    <div>\n",
              "        <style>\n",
              "            /* Turns off some styling */\n",
              "            progress {\n",
              "                /* gets rid of default border in Firefox and Opera. */\n",
              "                border: none;\n",
              "                /* Needs to be in here for Safari polyfill so background images work as expected. */\n",
              "                background-size: auto;\n",
              "            }\n",
              "            .progress-bar-interrupted, .progress-bar-interrupted::-webkit-progress-bar {\n",
              "                background: #F44336;\n",
              "            }\n",
              "        </style>\n",
              "      <progress value='0' class='' max='1' style='width:300px; height:20px; vertical-align: middle;'></progress>\n",
              "      0.00% [0/1 00:00<00:00]\n",
              "    </div>\n",
              "    \n",
              "<table border=\"1\" class=\"dataframe\">\n",
              "  <thead>\n",
              "    <tr style=\"text-align: left;\">\n",
              "      <th>epoch</th>\n",
              "      <th>train_loss</th>\n",
              "      <th>valid_loss</th>\n",
              "      <th>accuracy</th>\n",
              "      <th>time</th>\n",
              "    </tr>\n",
              "  </thead>\n",
              "  <tbody>\n",
              "  </tbody>\n",
              "</table><p>\n",
              "\n",
              "    <div>\n",
              "        <style>\n",
              "            /* Turns off some styling */\n",
              "            progress {\n",
              "                /* gets rid of default border in Firefox and Opera. */\n",
              "                border: none;\n",
              "                /* Needs to be in here for Safari polyfill so background images work as expected. */\n",
              "                background-size: auto;\n",
              "            }\n",
              "            .progress-bar-interrupted, .progress-bar-interrupted::-webkit-progress-bar {\n",
              "                background: #F44336;\n",
              "            }\n",
              "        </style>\n",
              "      <progress value='97' class='' max='468' style='width:300px; height:20px; vertical-align: middle;'></progress>\n",
              "      20.73% [97/468 00:05<00:20 2.2277]\n",
              "    </div>\n",
              "    "
            ],
            "text/plain": [
              "<IPython.core.display.HTML object>"
            ]
          },
          "metadata": {
            "tags": []
          }
        },
        {
          "output_type": "stream",
          "text": [
            "LR Finder is complete, type {learner_name}.recorder.plot() to see the graph.\n"
          ],
          "name": "stdout"
        },
        {
          "output_type": "display_data",
          "data": {
            "image/png": "[encoded data removed]",
            "text/plain": [
              "<Figure size 432x288 with 1 Axes>"
            ]
          },
          "metadata": {
            "tags": [],
            "needs_background": "light"
          }
        }
      ]
    },
    {
      "cell_type": "code",
      "metadata": {
        "id": "OlR2yQkqSF8o",
        "colab_type": "code",
        "colab": {
          "base_uri": "https://localhost:8080/",
          "height": 168
        },
        "outputId": "0b02c25c-377b-4fe9-f4da-18d876338ac6"
      },
      "source": [
        "res_dens_learn.fit_one_cycle(4, max_lr = slice(3e-02))"
      ],
      "execution_count": 61,
      "outputs": [
        {
          "output_type": "display_data",
          "data": {
            "text/html": [
              "<table border=\"1\" class=\"dataframe\">\n",
              "  <thead>\n",
              "    <tr style=\"text-align: left;\">\n",
              "      <th>epoch</th>\n",
              "      <th>train_loss</th>\n",
              "      <th>valid_loss</th>\n",
              "      <th>accuracy</th>\n",
              "      <th>time</th>\n",
              "    </tr>\n",
              "  </thead>\n",
              "  <tbody>\n",
              "    <tr>\n",
              "      <td>0</td>\n",
              "      <td>0.146008</td>\n",
              "      <td>0.659841</td>\n",
              "      <td>0.823000</td>\n",
              "      <td>00:28</td>\n",
              "    </tr>\n",
              "    <tr>\n",
              "      <td>1</td>\n",
              "      <td>0.091670</td>\n",
              "      <td>0.058197</td>\n",
              "      <td>0.982300</td>\n",
              "      <td>00:28</td>\n",
              "    </tr>\n",
              "    <tr>\n",
              "      <td>2</td>\n",
              "      <td>0.043457</td>\n",
              "      <td>0.032969</td>\n",
              "      <td>0.990100</td>\n",
              "      <td>00:28</td>\n",
              "    </tr>\n",
              "    <tr>\n",
              "      <td>3</td>\n",
              "      <td>0.023131</td>\n",
              "      <td>0.016709</td>\n",
              "      <td>0.994600</td>\n",
              "      <td>00:28</td>\n",
              "    </tr>\n",
              "  </tbody>\n",
              "</table>"
            ],
            "text/plain": [
              "<IPython.core.display.HTML object>"
            ]
          },
          "metadata": {
            "tags": []
          }
        }
      ]
    }
  ]
}