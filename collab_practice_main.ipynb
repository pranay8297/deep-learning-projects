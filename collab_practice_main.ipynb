{
  "nbformat": 4,
  "nbformat_minor": 0,
  "metadata": {
    "colab": {
      "name": "Untitled26.ipynb",
      "provenance": [],
      "collapsed_sections": [],
      "authorship_tag": "ABX9TyOaXE4tbgWPQo+cYEeNEzCk",
      "include_colab_link": true
    },
    "kernelspec": {
      "name": "python3",
      "display_name": "Python 3"
    },
    "accelerator": "GPU"
  },
  "cells": [
    {
      "cell_type": "markdown",
      "metadata": {
        "id": "view-in-github",
        "colab_type": "text"
      },
      "source": [
        "<a href=\"https://colab.research.google.com/github/pranay8297/deep-learning-projects/blob/master/collab_practice_main.ipynb\" target=\"_parent\"><img src=\"https://colab.research.google.com/assets/colab-badge.svg\" alt=\"Open In Colab\"/></a>"
      ]
    },
    {
      "cell_type": "code",
      "metadata": {
        "id": "B54qUrG6icdz",
        "colab_type": "code",
        "colab": {}
      },
      "source": [
        "from fastai import *\n",
        "from fastai.collab import *"
      ],
      "execution_count": 0,
      "outputs": []
    },
    {
      "cell_type": "code",
      "metadata": {
        "id": "_IvgS-rDygjr",
        "colab_type": "code",
        "colab": {
          "resources": {
            "http://localhost:8080/nbextensions/google.colab/files.js": {
              "data": "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",
              "ok": true,
              "headers": [
                [
                  "content-type",
                  "application/javascript"
                ]
              ],
              "status": 200,
              "status_text": ""
            }
          },
          "base_uri": "https://localhost:8080/",
          "height": 55
        },
        "outputId": "28aaa518-d174-46d1-f75a-960282178619"
      },
      "source": [
        "from google.colab import files\n",
        "files.upload()"
      ],
      "execution_count": 34,
      "outputs": [
        {
          "output_type": "display_data",
          "data": {
            "text/html": [
              "\n",
              "     <input type=\"file\" id=\"files-53cbe369-386f-4a0b-8a18-0189a53eb275\" name=\"files[]\" multiple disabled />\n",
              "     <output id=\"result-53cbe369-386f-4a0b-8a18-0189a53eb275\">\n",
              "      Upload widget is only available when the cell has been executed in the\n",
              "      current browser session. Please rerun this cell to enable.\n",
              "      </output>\n",
              "      <script src=\"/nbextensions/google.colab/files.js\"></script> "
            ],
            "text/plain": [
              "<IPython.core.display.HTML object>"
            ]
          },
          "metadata": {
            "tags": []
          }
        },
        {
          "output_type": "execute_result",
          "data": {
            "text/plain": [
              "{}"
            ]
          },
          "metadata": {
            "tags": []
          },
          "execution_count": 34
        }
      ]
    },
    {
      "cell_type": "code",
      "metadata": {
        "id": "4C-GxfLPzq88",
        "colab_type": "code",
        "colab": {
          "base_uri": "https://localhost:8080/",
          "height": 35
        },
        "outputId": "3f207ecd-9866-477e-bb60-cddf452bb3d6"
      },
      "source": [
        "!pwd"
      ],
      "execution_count": 35,
      "outputs": [
        {
          "output_type": "stream",
          "text": [
            "/content\n"
          ],
          "name": "stdout"
        }
      ]
    },
    {
      "cell_type": "code",
      "metadata": {
        "id": "UrSRVFsOzr5_",
        "colab_type": "code",
        "colab": {
          "base_uri": "https://localhost:8080/",
          "height": 86
        },
        "outputId": "c088a564-992e-44ec-fbb2-1c1ef734d2ec"
      },
      "source": [
        "path = Path('/content')\n",
        "path.ls()"
      ],
      "execution_count": 36,
      "outputs": [
        {
          "output_type": "execute_result",
          "data": {
            "text/plain": [
              "[PosixPath('/content/.config'),\n",
              " PosixPath('/content/u.item'),\n",
              " PosixPath('/content/u.data'),\n",
              " PosixPath('/content/sample_data')]"
            ]
          },
          "metadata": {
            "tags": []
          },
          "execution_count": 36
        }
      ]
    },
    {
      "cell_type": "code",
      "metadata": {
        "id": "oBfP1mKtzz-x",
        "colab_type": "code",
        "colab": {}
      },
      "source": [
        "user, item, title = 'userId', 'movieId', 'title'"
      ],
      "execution_count": 0,
      "outputs": []
    },
    {
      "cell_type": "code",
      "metadata": {
        "id": "drLmsRk_0EiM",
        "colab_type": "code",
        "colab": {
          "base_uri": "https://localhost:8080/",
          "height": 198
        },
        "outputId": "3f66bce7-5d1d-4edb-f75c-07950f74bb9a"
      },
      "source": [
        "pd.read_csv(path/'u.data').head()"
      ],
      "execution_count": 38,
      "outputs": [
        {
          "output_type": "execute_result",
          "data": {
            "text/html": [
              "<div>\n",
              "<style scoped>\n",
              "    .dataframe tbody tr th:only-of-type {\n",
              "        vertical-align: middle;\n",
              "    }\n",
              "\n",
              "    .dataframe tbody tr th {\n",
              "        vertical-align: top;\n",
              "    }\n",
              "\n",
              "    .dataframe thead th {\n",
              "        text-align: right;\n",
              "    }\n",
              "</style>\n",
              "<table border=\"1\" class=\"dataframe\">\n",
              "  <thead>\n",
              "    <tr style=\"text-align: right;\">\n",
              "      <th></th>\n",
              "      <th>196\\t242\\t3\\t881250949</th>\n",
              "    </tr>\n",
              "  </thead>\n",
              "  <tbody>\n",
              "    <tr>\n",
              "      <th>0</th>\n",
              "      <td>186\\t302\\t3\\t891717742</td>\n",
              "    </tr>\n",
              "    <tr>\n",
              "      <th>1</th>\n",
              "      <td>22\\t377\\t1\\t878887116</td>\n",
              "    </tr>\n",
              "    <tr>\n",
              "      <th>2</th>\n",
              "      <td>244\\t51\\t2\\t880606923</td>\n",
              "    </tr>\n",
              "    <tr>\n",
              "      <th>3</th>\n",
              "      <td>166\\t346\\t1\\t886397596</td>\n",
              "    </tr>\n",
              "    <tr>\n",
              "      <th>4</th>\n",
              "      <td>298\\t474\\t4\\t884182806</td>\n",
              "    </tr>\n",
              "  </tbody>\n",
              "</table>\n",
              "</div>"
            ],
            "text/plain": [
              "   196\\t242\\t3\\t881250949\n",
              "0  186\\t302\\t3\\t891717742\n",
              "1   22\\t377\\t1\\t878887116\n",
              "2   244\\t51\\t2\\t880606923\n",
              "3  166\\t346\\t1\\t886397596\n",
              "4  298\\t474\\t4\\t884182806"
            ]
          },
          "metadata": {
            "tags": []
          },
          "execution_count": 38
        }
      ]
    },
    {
      "cell_type": "code",
      "metadata": {
        "id": "nb4HFQbg0SSg",
        "colab_type": "code",
        "colab": {}
      },
      "source": [
        "ratings = pd.read_csv(path/'u.data', delimiter='\\t', header = None, names = [user, item, 'rating', 'timestamp'])"
      ],
      "execution_count": 0,
      "outputs": []
    },
    {
      "cell_type": "code",
      "metadata": {
        "id": "4jYaq7YR0t8R",
        "colab_type": "code",
        "colab": {
          "base_uri": "https://localhost:8080/",
          "height": 198
        },
        "outputId": "9f88de0c-47f7-4556-fbad-d635b486a2e3"
      },
      "source": [
        "ratings.head()"
      ],
      "execution_count": 40,
      "outputs": [
        {
          "output_type": "execute_result",
          "data": {
            "text/html": [
              "<div>\n",
              "<style scoped>\n",
              "    .dataframe tbody tr th:only-of-type {\n",
              "        vertical-align: middle;\n",
              "    }\n",
              "\n",
              "    .dataframe tbody tr th {\n",
              "        vertical-align: top;\n",
              "    }\n",
              "\n",
              "    .dataframe thead th {\n",
              "        text-align: right;\n",
              "    }\n",
              "</style>\n",
              "<table border=\"1\" class=\"dataframe\">\n",
              "  <thead>\n",
              "    <tr style=\"text-align: right;\">\n",
              "      <th></th>\n",
              "      <th>userId</th>\n",
              "      <th>movieId</th>\n",
              "      <th>rating</th>\n",
              "      <th>timestamp</th>\n",
              "    </tr>\n",
              "  </thead>\n",
              "  <tbody>\n",
              "    <tr>\n",
              "      <th>0</th>\n",
              "      <td>196</td>\n",
              "      <td>242</td>\n",
              "      <td>3</td>\n",
              "      <td>881250949</td>\n",
              "    </tr>\n",
              "    <tr>\n",
              "      <th>1</th>\n",
              "      <td>186</td>\n",
              "      <td>302</td>\n",
              "      <td>3</td>\n",
              "      <td>891717742</td>\n",
              "    </tr>\n",
              "    <tr>\n",
              "      <th>2</th>\n",
              "      <td>22</td>\n",
              "      <td>377</td>\n",
              "      <td>1</td>\n",
              "      <td>878887116</td>\n",
              "    </tr>\n",
              "    <tr>\n",
              "      <th>3</th>\n",
              "      <td>244</td>\n",
              "      <td>51</td>\n",
              "      <td>2</td>\n",
              "      <td>880606923</td>\n",
              "    </tr>\n",
              "    <tr>\n",
              "      <th>4</th>\n",
              "      <td>166</td>\n",
              "      <td>346</td>\n",
              "      <td>1</td>\n",
              "      <td>886397596</td>\n",
              "    </tr>\n",
              "  </tbody>\n",
              "</table>\n",
              "</div>"
            ],
            "text/plain": [
              "   userId  movieId  rating  timestamp\n",
              "0     196      242       3  881250949\n",
              "1     186      302       3  891717742\n",
              "2      22      377       1  878887116\n",
              "3     244       51       2  880606923\n",
              "4     166      346       1  886397596"
            ]
          },
          "metadata": {
            "tags": []
          },
          "execution_count": 40
        }
      ]
    },
    {
      "cell_type": "code",
      "metadata": {
        "id": "BDaFPsjR1Gig",
        "colab_type": "code",
        "colab": {
          "base_uri": "https://localhost:8080/",
          "height": 1000
        },
        "outputId": "a2858135-a455-4893-a004-6a1844453c4a"
      },
      "source": [
        "!cat u.item"
      ],
      "execution_count": 41,
      "outputs": [
        {
          "output_type": "stream",
          "text": [
            "1|Toy Story (1995)|01-Jan-1995||http://us.imdb.com/M/title-exact?Toy%20Story%20(1995)|0|0|0|1|1|1|0|0|0|0|0|0|0|0|0|0|0|0|0\n",
            "2|GoldenEye (1995)|01-Jan-1995||http://us.imdb.com/M/title-exact?GoldenEye%20(1995)|0|1|1|0|0|0|0|0|0|0|0|0|0|0|0|0|1|0|0\n",
            "3|Four Rooms (1995)|01-Jan-1995||http://us.imdb.com/M/title-exact?Four%20Rooms%20(1995)|0|0|0|0|0|0|0|0|0|0|0|0|0|0|0|0|1|0|0\n",
            "4|Get Shorty (1995)|01-Jan-1995||http://us.imdb.com/M/title-exact?Get%20Shorty%20(1995)|0|1|0|0|0|1|0|0|1|0|0|0|0|0|0|0|0|0|0\n",
            "5|Copycat (1995)|01-Jan-1995||http://us.imdb.com/M/title-exact?Copycat%20(1995)|0|0|0|0|0|0|1|0|1|0|0|0|0|0|0|0|1|0|0\n",
            "6|Shanghai Triad (Yao a yao yao dao waipo qiao) (1995)|01-Jan-1995||http://us.imdb.com/Title?Yao+a+yao+yao+dao+waipo+qiao+(1995)|0|0|0|0|0|0|0|0|1|0|0|0|0|0|0|0|0|0|0\n",
            "7|Twelve Monkeys (1995)|01-Jan-1995||http://us.imdb.com/M/title-exact?Twelve%20Monkeys%20(1995)|0|0|0|0|0|0|0|0|1|0|0|0|0|0|0|1|0|0|0\n",
            "8|Babe (1995)|01-Jan-1995||http://us.imdb.com/M/title-exact?Babe%20(1995)|0|0|0|0|1|1|0|0|1|0|0|0|0|0|0|0|0|0|0\n",
            "9|Dead Man Walking (1995)|01-Jan-1995||http://us.imdb.com/M/title-exact?Dead%20Man%20Walking%20(1995)|0|0|0|0|0|0|0|0|1|0|0|0|0|0|0|0|0|0|0\n",
            "10|Richard III (1995)|22-Jan-1996||http://us.imdb.com/M/title-exact?Richard%20III%20(1995)|0|0|0|0|0|0|0|0|1|0|0|0|0|0|0|0|0|1|0\n",
            "11|Seven (Se7en) (1995)|01-Jan-1995||http://us.imdb.com/M/title-exact?Se7en%20(1995)|0|0|0|0|0|0|1|0|0|0|0|0|0|0|0|0|1|0|0\n",
            "12|Usual Suspects, The (1995)|14-Aug-1995||http://us.imdb.com/M/title-exact?Usual%20Suspects,%20The%20(1995)|0|0|0|0|0|0|1|0|0|0|0|0|0|0|0|0|1|0|0\n",
            "13|Mighty Aphrodite (1995)|30-Oct-1995||http://us.imdb.com/M/title-exact?Mighty%20Aphrodite%20(1995)|0|0|0|0|0|1|0|0|0|0|0|0|0|0|0|0|0|0|0\n",
            "14|Postino, Il (1994)|01-Jan-1994||http://us.imdb.com/M/title-exact?Postino,%20Il%20(1994)|0|0|0|0|0|0|0|0|1|0|0|0|0|0|1|0|0|0|0\n",
            "15|Mr. Holland's Opus (1995)|29-Jan-1996||http://us.imdb.com/M/title-exact?Mr.%20Holland's%20Opus%20(1995)|0|0|0|0|0|0|0|0|1|0|0|0|0|0|0|0|0|0|0\n",
            "16|French Twist (Gazon maudit) (1995)|01-Jan-1995||http://us.imdb.com/M/title-exact?Gazon%20maudit%20(1995)|0|0|0|0|0|1|0|0|0|0|0|0|0|0|1|0|0|0|0\n",
            "17|From Dusk Till Dawn (1996)|05-Feb-1996||http://us.imdb.com/M/title-exact?From%20Dusk%20Till%20Dawn%20(1996)|0|1|0|0|0|1|1|0|0|0|0|1|0|0|0|0|1|0|0\n",
            "18|White Balloon, The (1995)|01-Jan-1995||http://us.imdb.com/M/title-exact?Badkonake%20Sefid%20(1995)|0|0|0|0|0|0|0|0|1|0|0|0|0|0|0|0|0|0|0\n",
            "19|Antonia's Line (1995)|01-Jan-1995||http://us.imdb.com/M/title-exact?Antonia%20(1995)|0|0|0|0|0|0|0|0|1|0|0|0|0|0|0|0|0|0|0\n",
            "20|Angels and Insects (1995)|01-Jan-1995||http://us.imdb.com/M/title-exact?Angels%20and%20Insects%20(1995)|0|0|0|0|0|0|0|0|1|0|0|0|0|0|1|0|0|0|0\n",
            "21|Muppet Treasure Island (1996)|16-Feb-1996||http://us.imdb.com/M/title-exact?Muppet%20Treasure%20Island%20(1996)|0|1|1|0|0|1|0|0|0|0|0|0|1|0|0|0|1|0|0\n",
            "22|Braveheart (1995)|16-Feb-1996||http://us.imdb.com/M/title-exact?Braveheart%20(1995)|0|1|0|0|0|0|0|0|1|0|0|0|0|0|0|0|0|1|0\n",
            "23|Taxi Driver (1976)|16-Feb-1996||http://us.imdb.com/M/title-exact?Taxi%20Driver%20(1976)|0|0|0|0|0|0|0|0|1|0|0|0|0|0|0|0|1|0|0\n",
            "24|Rumble in the Bronx (1995)|23-Feb-1996||http://us.imdb.com/M/title-exact?Hong%20Faan%20Kui%20(1995)|0|1|1|0|0|0|1|0|0|0|0|0|0|0|0|0|0|0|0\n",
            "25|Birdcage, The (1996)|08-Mar-1996||http://us.imdb.com/M/title-exact?Birdcage,%20The%20(1996)|0|0|0|0|0|1|0|0|0|0|0|0|0|0|0|0|0|0|0\n",
            "26|Brothers McMullen, The (1995)|01-Jan-1995||http://us.imdb.com/M/title-exact?Brothers%20McMullen,%20The%20(1995)|0|0|0|0|0|1|0|0|0|0|0|0|0|0|0|0|0|0|0\n",
            "27|Bad Boys (1995)|01-Jan-1995||http://us.imdb.com/M/title-exact?Bad%20Boys%20(1995)|0|1|0|0|0|0|0|0|0|0|0|0|0|0|0|0|0|0|0\n",
            "28|Apollo 13 (1995)|01-Jan-1995||http://us.imdb.com/M/title-exact?Apollo%2013%20(1995)|0|1|0|0|0|0|0|0|1|0|0|0|0|0|0|0|1|0|0\n",
            "29|Batman Forever (1995)|01-Jan-1995||http://us.imdb.com/M/title-exact?Batman%20Forever%20(1995)|0|1|1|0|0|1|1|0|0|0|0|0|0|0|0|0|0|0|0\n",
            "30|Belle de jour (1967)|01-Jan-1967||http://us.imdb.com/M/title-exact?Belle%20de%20jour%20(1967)|0|0|0|0|0|0|0|0|1|0|0|0|0|0|0|0|0|0|0\n",
            "31|Crimson Tide (1995)|01-Jan-1995||http://us.imdb.com/M/title-exact?Crimson%20Tide%20(1995)|0|0|0|0|0|0|0|0|1|0|0|0|0|0|0|0|1|1|0\n",
            "32|Crumb (1994)|01-Jan-1994||http://us.imdb.com/M/title-exact?Crumb%20(1994)|0|0|0|0|0|0|0|1|0|0|0|0|0|0|0|0|0|0|0\n",
            "33|Desperado (1995)|01-Jan-1995||http://us.imdb.com/M/title-exact?Desperado%20(1995)|0|1|0|0|0|0|0|0|0|0|0|0|0|0|1|0|1|0|0\n",
            "34|Doom Generation, The (1995)|01-Jan-1995||http://us.imdb.com/M/title-exact?Doom%20Generation,%20The%20(1995)|0|0|0|0|0|1|0|0|1|0|0|0|0|0|0|0|0|0|0\n",
            "35|Free Willy 2: The Adventure Home (1995)|01-Jan-1995||http://us.imdb.com/M/title-exact?Free%20Willy%202:%20The%20Adventure%20Home%20(1995)|0|0|1|0|1|0|0|0|1|0|0|0|0|0|0|0|0|0|0\n",
            "36|Mad Love (1995)|01-Jan-1995||http://us.imdb.com/M/title-exact?Mad%20Love%20(1995)|0|0|0|0|0|0|0|0|1|0|0|0|0|0|1|0|0|0|0\n",
            "37|Nadja (1994)|01-Jan-1994||http://us.imdb.com/M/title-exact?Nadja%20(1994)|0|0|0|0|0|0|0|0|1|0|0|0|0|0|0|0|0|0|0\n",
            "38|Net, The (1995)|01-Jan-1995||http://us.imdb.com/M/title-exact?Net,%20The%20(1995)|0|0|0|0|0|0|0|0|0|0|0|0|0|0|0|1|1|0|0\n",
            "39|Strange Days (1995)|01-Jan-1995||http://us.imdb.com/M/title-exact?Strange%20Days%20(1995)|0|1|0|0|0|0|1|0|0|0|0|0|0|0|0|1|0|0|0\n",
            "40|To Wong Foo, Thanks for Everything! Julie Newmar (1995)|01-Jan-1995||http://us.imdb.com/M/title-exact?To%20Wong%20Foo,%20Thanks%20for%20Everything!%20Julie%20Newmar%20(1995)|0|0|0|0|0|1|0|0|0|0|0|0|0|0|0|0|0|0|0\n",
            "41|Billy Madison (1995)|01-Jan-1995||http://us.imdb.com/M/title-exact?Billy%20Madison%20(1995)|0|0|0|0|0|1|0|0|0|0|0|0|0|0|0|0|0|0|0\n",
            "42|Clerks (1994)|01-Jan-1994||http://us.imdb.com/M/title-exact?Clerks%20(1994)|0|0|0|0|0|1|0|0|0|0|0|0|0|0|0|0|0|0|0\n",
            "43|Disclosure (1994)|01-Jan-1994||http://us.imdb.com/M/title-exact?Disclosure%20(1994)|0|0|0|0|0|0|0|0|1|0|0|0|0|0|0|0|1|0|0\n",
            "44|Dolores Claiborne (1994)|01-Jan-1994||http://us.imdb.com/M/title-exact?Dolores%20Claiborne%20(1994)|0|0|0|0|0|0|0|0|1|0|0|0|0|0|0|0|1|0|0\n",
            "45|Eat Drink Man Woman (1994)|01-Jan-1994||http://us.imdb.com/M/title-exact?Yinshi%20Nan%20Nu%20(1994)|0|0|0|0|0|1|0|0|1|0|0|0|0|0|0|0|0|0|0\n",
            "46|Exotica (1994)|01-Jan-1994||http://us.imdb.com/M/title-exact?Exotica%20(1994)|0|0|0|0|0|0|0|0|1|0|0|0|0|0|0|0|0|0|0\n",
            "47|Ed Wood (1994)|01-Jan-1994||http://us.imdb.com/M/title-exact?Ed%20Wood%20(1994)|0|0|0|0|0|1|0|0|1|0|0|0|0|0|0|0|0|0|0\n",
            "48|Hoop Dreams (1994)|01-Jan-1994||http://us.imdb.com/M/title-exact?Hoop%20Dreams%20(1994)|0|0|0|0|0|0|0|1|0|0|0|0|0|0|0|0|0|0|0\n",
            "49|I.Q. (1994)|01-Jan-1994||http://us.imdb.com/M/title-exact?I.Q.%20(1994)|0|0|0|0|0|1|0|0|0|0|0|0|0|0|1|0|0|0|0\n",
            "50|Star Wars (1977)|01-Jan-1977||http://us.imdb.com/M/title-exact?Star%20Wars%20(1977)|0|1|1|0|0|0|0|0|0|0|0|0|0|0|1|1|0|1|0\n",
            "51|Legends of the Fall (1994)|01-Jan-1994||http://us.imdb.com/M/title-exact?Legends%20of%20the%20Fall%20(1994)|0|0|0|0|0|0|0|0|1|0|0|0|0|0|1|0|0|1|1\n",
            "52|Madness of King George, The (1994)|01-Jan-1994||http://us.imdb.com/M/title-exact?Madness%20of%20King%20George,%20The%20(1994)|0|0|0|0|0|0|0|0|1|0|0|0|0|0|0|0|0|0|0\n",
            "53|Natural Born Killers (1994)|01-Jan-1994||http://us.imdb.com/M/title-exact?Natural%20Born%20Killers%20(1994)|0|1|0|0|0|0|0|0|0|0|0|0|0|0|0|0|1|0|0\n",
            "54|Outbreak (1995)|01-Jan-1995||http://us.imdb.com/M/title-exact?Outbreak%20(1995)|0|1|0|0|0|0|0|0|1|0|0|0|0|0|0|0|1|0|0\n",
            "55|Professional, The (1994)|01-Jan-1994||http://us.imdb.com/Title?L%E9on+(1994)|0|0|0|0|0|0|1|0|1|0|0|0|0|0|1|0|1|0|0\n",
            "56|Pulp Fiction (1994)|01-Jan-1994||http://us.imdb.com/M/title-exact?Pulp%20Fiction%20(1994)|0|0|0|0|0|0|1|0|1|0|0|0|0|0|0|0|0|0|0\n",
            "57|Priest (1994)|01-Jan-1994||http://us.imdb.com/M/title-exact?Priest%20(1994)|0|0|0|0|0|0|0|0|1|0|0|0|0|0|0|0|0|0|0\n",
            "58|Quiz Show (1994)|01-Jan-1994||http://us.imdb.com/M/title-exact?Quiz%20Show%20(1994)|0|0|0|0|0|0|0|0|1|0|0|0|0|0|0|0|0|0|0\n",
            "59|Three Colors: Red (1994)|01-Jan-1994||http://us.imdb.com/M/title-exact?Trzy%20kolory:%20Czerwony%20(1994)|0|0|0|0|0|0|0|0|1|0|0|0|0|0|0|0|0|0|0\n",
            "60|Three Colors: Blue (1993)|01-Jan-1993||http://us.imdb.com/M/title-exact?Trzy%20kolory:%20Niebieski%20(1993)|0|0|0|0|0|0|0|0|1|0|0|0|0|0|0|0|0|0|0\n",
            "61|Three Colors: White (1994)|01-Jan-1994||http://us.imdb.com/M/title-exact?Trzy%20kolory:%20Bialy%20(1994)|0|0|0|0|0|0|0|0|1|0|0|0|0|0|0|0|0|0|0\n",
            "62|Stargate (1994)|01-Jan-1994||http://us.imdb.com/M/title-exact?Stargate%20(1994)|0|1|1|0|0|0|0|0|0|0|0|0|0|0|0|1|0|0|0\n",
            "63|Santa Clause, The (1994)|01-Jan-1994||http://us.imdb.com/M/title-exact?Santa%20Clause,%20The%20(1994)|0|0|0|0|1|1|0|0|0|0|0|0|0|0|0|0|0|0|0\n",
            "64|Shawshank Redemption, The (1994)|01-Jan-1994||http://us.imdb.com/M/title-exact?Shawshank%20Redemption,%20The%20(1994)|0|0|0|0|0|0|0|0|1|0|0|0|0|0|0|0|0|0|0\n",
            "65|What's Eating Gilbert Grape (1993)|01-Jan-1993||http://us.imdb.com/M/title-exact?What's%20Eating%20Gilbert%20Grape%20(1993)|0|0|0|0|0|1|0|0|1|0|0|0|0|0|0|0|0|0|0\n",
            "66|While You Were Sleeping (1995)|01-Jan-1995||http://us.imdb.com/M/title-exact?While%20You%20Were%20Sleeping%20(1995)|0|0|0|0|0|1|0|0|0|0|0|0|0|0|1|0|0|0|0\n",
            "67|Ace Ventura: Pet Detective (1994)|01-Jan-1994||http://us.imdb.com/M/title-exact?Ace%20Ventura:%20Pet%20Detective%20(1994)|0|0|0|0|0|1|0|0|0|0|0|0|0|0|0|0|0|0|0\n",
            "68|Crow, The (1994)|01-Jan-1994||http://us.imdb.com/M/title-exact?Crow,%20The%20(1994)|0|1|0|0|0|0|0|0|0|0|0|0|0|0|1|0|1|0|0\n",
            "69|Forrest Gump (1994)|01-Jan-1994||http://us.imdb.com/M/title-exact?Forrest%20Gump%20(1994)|0|0|0|0|0|1|0|0|0|0|0|0|0|0|1|0|0|1|0\n",
            "70|Four Weddings and a Funeral (1994)|01-Jan-1994||http://us.imdb.com/M/title-exact?Four%20Weddings%20and%20a%20Funeral%20(1994)|0|0|0|0|0|1|0|0|0|0|0|0|0|0|1|0|0|0|0\n",
            "71|Lion King, The (1994)|01-Jan-1994||http://us.imdb.com/M/title-exact?Lion%20King,%20The%20(1994)|0|0|0|1|1|0|0|0|0|0|0|0|1|0|0|0|0|0|0\n",
            "72|Mask, The (1994)|01-Jan-1994||http://us.imdb.com/M/title-exact?Mask,%20The%20(1994)|0|0|0|0|0|1|1|0|0|1|0|0|0|0|0|0|0|0|0\n",
            "73|Maverick (1994)|01-Jan-1994||http://us.imdb.com/M/title-exact?Maverick%20(1994)|0|1|0|0|0|1|0|0|0|0|0|0|0|0|0|0|0|0|1\n",
            "74|Faster Pussycat! Kill! Kill! (1965)|01-Jan-1965||http://us.imdb.com/M/title-exact?Faster%20Pussycat!%20Kill!%20Kill!%20(1965)|0|1|0|0|0|1|0|0|1|0|0|0|0|0|0|0|0|0|0\n",
            "75|Brother Minister: The Assassination of Malcolm X (1994)|01-Jan-1994||http://us.imdb.com/M/title-exact?Brother%20Minister:%20The%20Assassination%20of%20Malcolm%20X%20(1994)|0|0|0|0|0|0|0|1|0|0|0|0|0|0|0|0|0|0|0\n",
            "76|Carlito's Way (1993)|01-Jan-1993||http://us.imdb.com/M/title-exact?Carlito's%20Way%20(1993)|0|0|0|0|0|0|1|0|1|0|0|0|0|0|0|0|0|0|0\n",
            "77|Firm, The (1993)|01-Jan-1993||http://us.imdb.com/M/title-exact?Firm,%20The%20(1993)|0|0|0|0|0|0|0|0|1|0|0|0|0|0|0|0|1|0|0\n",
            "78|Free Willy (1993)|01-Jan-1993||http://us.imdb.com/M/title-exact?Free%20Willy%20(1993)|0|0|1|0|1|0|0|0|1|0|0|0|0|0|0|0|0|0|0\n",
            "79|Fugitive, The (1993)|01-Jan-1993||http://us.imdb.com/M/title-exact?Fugitive,%20The%20(1993)|0|1|0|0|0|0|0|0|0|0|0|0|0|0|0|0|1|0|0\n",
            "80|Hot Shots! Part Deux (1993)|01-Jan-1993||http://us.imdb.com/M/title-exact?Hot%20Shots!%20Part%20Deux%20(1993)|0|1|0|0|0|1|0|0|0|0|0|0|0|0|0|0|0|1|0\n",
            "81|Hudsucker Proxy, The (1994)|01-Jan-1994||http://us.imdb.com/M/title-exact?Hudsucker%20Proxy,%20The%20(1994)|0|0|0|0|0|1|0|0|0|0|0|0|0|0|1|0|0|0|0\n",
            "82|Jurassic Park (1993)|01-Jan-1993||http://us.imdb.com/M/title-exact?Jurassic%20Park%20(1993)|0|1|1|0|0|0|0|0|0|0|0|0|0|0|0|1|0|0|0\n",
            "83|Much Ado About Nothing (1993)|01-Jan-1993||http://us.imdb.com/M/title-exact?Much%20Ado%20About%20Nothing%20(1993)|0|0|0|0|0|1|0|0|0|0|0|0|0|0|1|0|0|0|0\n",
            "84|Robert A. Heinlein's The Puppet Masters (1994)|01-Jan-1994||http://us.imdb.com/M/title-exact?Robert%20A.%20Heinlein's%20The%20Puppet%20Masters%20(1994)|0|0|0|0|0|0|0|0|0|0|0|1|0|0|0|1|0|0|0\n",
            "85|Ref, The (1994)|01-Jan-1994||http://us.imdb.com/M/title-exact?Ref,%20The%20(1994)|0|0|0|0|0|1|0|0|0|0|0|0|0|0|0|0|0|0|0\n",
            "86|Remains of the Day, The (1993)|01-Jan-1993||http://us.imdb.com/M/title-exact?Remains%20of%20the%20Day,%20The%20(1993)|0|0|0|0|0|0|0|0|1|0|0|0|0|0|0|0|0|0|0\n",
            "87|Searching for Bobby Fischer (1993)|01-Jan-1993||http://us.imdb.com/M/title-exact?Searching%20for%20Bobby%20Fischer%20(1993)|0|0|0|0|0|0|0|0|1|0|0|0|0|0|0|0|0|0|0\n",
            "88|Sleepless in Seattle (1993)|01-Jan-1993||http://us.imdb.com/M/title-exact?Sleepless%20in%20Seattle%20(1993)|0|0|0|0|0|1|0|0|0|0|0|0|0|0|1|0|0|0|0\n",
            "89|Blade Runner (1982)|01-Jan-1982||http://us.imdb.com/M/title-exact?Blade%20Runner%20(1982)|0|0|0|0|0|0|0|0|0|0|1|0|0|0|0|1|0|0|0\n",
            "90|So I Married an Axe Murderer (1993)|01-Jan-1993||http://us.imdb.com/M/title-exact?So%20I%20Married%20an%20Axe%20Murderer%20(1993)|0|0|0|0|0|1|0|0|0|0|0|0|0|0|1|0|1|0|0\n",
            "91|Nightmare Before Christmas, The (1993)|01-Jan-1993||http://us.imdb.com/M/title-exact?Nightmare%20Before%20Christmas,%20The%20(1993)|0|0|0|0|1|1|0|0|0|0|0|0|1|0|0|0|0|0|0\n",
            "92|True Romance (1993)|01-Jan-1993||http://us.imdb.com/M/title-exact?True%20Romance%20(1993)|0|1|0|0|0|0|1|0|0|0|0|0|0|0|1|0|0|0|0\n",
            "93|Welcome to the Dollhouse (1995)|24-May-1996||http://us.imdb.com/Title?Welcome+to+the+Dollhouse+(1995)|0|0|0|0|0|1|0|0|1|0|0|0|0|0|0|0|0|0|0\n",
            "94|Home Alone (1990)|01-Jan-1990||http://us.imdb.com/M/title-exact?Home%20Alone%20(1990)|0|0|0|0|1|1|0|0|0|0|0|0|0|0|0|0|0|0|0\n",
            "95|Aladdin (1992)|01-Jan-1992||http://us.imdb.com/M/title-exact?Aladdin%20(1992)|0|0|0|1|1|1|0|0|0|0|0|0|1|0|0|0|0|0|0\n",
            "96|Terminator 2: Judgment Day (1991)|01-Jan-1991||http://us.imdb.com/M/title-exact?Terminator%202:%20Judgment%20Day%20(1991)|0|1|0|0|0|0|0|0|0|0|0|0|0|0|0|1|1|0|0\n",
            "97|Dances with Wolves (1990)|01-Jan-1990||http://us.imdb.com/M/title-exact?Dances%20with%20Wolves%20(1990)|0|0|1|0|0|0|0|0|1|0|0|0|0|0|0|0|0|0|1\n",
            "98|Silence of the Lambs, The (1991)|01-Jan-1991||http://us.imdb.com/M/title-exact?Silence%20of%20the%20Lambs,%20The%20(1991)|0|0|0|0|0|0|0|0|1|0|0|0|0|0|0|0|1|0|0\n",
            "99|Snow White and the Seven Dwarfs (1937)|01-Jan-1937||http://us.imdb.com/M/title-exact?Snow%20White%20and%20the%20Seven%20Dwarfs%20(1937)|0|0|0|1|1|0|0|0|0|0|0|0|1|0|0|0|0|0|0\n",
            "100|Fargo (1996)|14-Feb-1997||http://us.imdb.com/M/title-exact?Fargo%20(1996)|0|0|0|0|0|0|1|0|1|0|0|0|0|0|0|0|1|0|0\n",
            "101|Heavy Metal (1981)|08-Mar-1981||http://us.imdb.com/M/title-exact?Heavy%20Metal%20(1981)|0|1|1|1|0|0|0|0|0|0|0|1|0|0|0|1|0|0|0\n",
            "102|Aristocats, The (1970)|01-Jan-1970||http://us.imdb.com/M/title-exact?Aristocats,%20The%20(1970)|0|0|0|1|1|0|0|0|0|0|0|0|0|0|0|0|0|0|0\n",
            "103|All Dogs Go to Heaven 2 (1996)|29-Mar-1996||http://us.imdb.com/M/title-exact?All%20Dogs%20Go%20to%20Heaven%202%20(1996)|0|0|0|1|1|0|0|0|0|0|0|0|1|0|0|0|0|0|0\n",
            "104|Theodore Rex (1995)|29-Mar-1996||http://us.imdb.com/M/title-exact?Theodore%20Rex%20(1995)|0|0|0|0|0|1|0|0|0|0|0|0|0|0|0|0|0|0|0\n",
            "105|Sgt. Bilko (1996)|29-Mar-1996||http://us.imdb.com/M/title-exact?Sgt.%20Bilko%20(1996)|0|0|0|0|0|1|0|0|0|0|0|0|0|0|0|0|0|0|0\n",
            "106|Diabolique (1996)|01-Jan-1996||http://us.imdb.com/M/title-exact?Diabolique%20(1996)|0|0|0|0|0|0|0|0|1|0|0|0|0|0|0|0|1|0|0\n",
            "107|Moll Flanders (1996)|14-Jun-1996||http://us.imdb.com/M/title-exact?Moll%20Flanders%20(1996)|0|0|0|0|0|0|0|0|1|0|0|0|0|0|0|0|0|0|0\n",
            "108|Kids in the Hall: Brain Candy (1996)|12-Apr-1996||http://us.imdb.com/M/title-exact?Kids%20in%20the%20Hall:%20Brain%20Candy%20(1996)|0|0|0|0|0|1|0|0|0|0|0|0|0|0|0|0|0|0|0\n",
            "109|Mystery Science Theater 3000: The Movie (1996)|19-Apr-1996||http://us.imdb.com/M/title-exact?Mystery%20Science%20Theater%203000:%20The%20Movie%20(1996)|0|0|0|0|0|1|0|0|0|0|0|0|0|0|0|1|0|0|0\n",
            "110|Operation Dumbo Drop (1995)|01-Jan-1995||http://us.imdb.com/M/title-exact?Operation%20Dumbo%20Drop%20(1995)|0|1|1|0|0|1|0|0|0|0|0|0|0|0|0|0|0|1|0\n",
            "111|Truth About Cats & Dogs, The (1996)|26-Apr-1996||http://us.imdb.com/M/title-exact?Truth%20About%20Cats%20&%20Dogs,%20The%20(1996)|0|0|0|0|0|1|0|0|0|0|0|0|0|0|1|0|0|0|0\n",
            "112|Flipper (1996)|10-May-1996||http://us.imdb.com/M/title-exact?Flipper%20(1996)|0|0|1|0|1|0|0|0|0|0|0|0|0|0|0|0|0|0|0\n",
            "113|Horseman on the Roof, The (Hussard sur le toit, Le) (1995)|19-Apr-1996||http://us.imdb.com/M/title-exact?Hussard%20sur%20le%20toit,%20Le%20(1995)|0|0|0|0|0|0|0|0|1|0|0|0|0|0|0|0|0|0|0\n",
            "114|Wallace & Gromit: The Best of Aardman Animation (1996)|05-Apr-1996||http://us.imdb.com/Title?Wallace+%26+Gromit%3A+The+Best+of+Aardman+Animation+(1996)|0|0|0|1|0|0|0|0|0|0|0|0|0|0|0|0|0|0|0\n",
            "115|Haunted World of Edward D. Wood Jr., The (1995)|26-Apr-1996||http://us.imdb.com/Title?Haunted+World+of+Edward+D.+Wood+Jr.,+The+(1995)|0|0|0|0|0|0|0|1|0|0|0|0|0|0|0|0|0|0|0\n",
            "116|Cold Comfort Farm (1995)|23-Apr-1996||http://us.imdb.com/M/title-exact?Cold%20Comfort%20Farm%20(1995)%20(TV)|0|0|0|0|0|1|0|0|0|0|0|0|0|0|0|0|0|0|0\n",
            "117|Rock, The (1996)|07-Jun-1996||http://us.imdb.com/M/title-exact?Rock,%20The%20(1996)|0|1|1|0|0|0|0|0|0|0|0|0|0|0|0|0|1|0|0\n",
            "118|Twister (1996)|10-May-1996||http://us.imdb.com/M/title-exact?Twister%20(1996)|0|1|1|0|0|0|0|0|0|0|0|0|0|0|0|0|1|0|0\n",
            "119|Maya Lin: A Strong Clear Vision (1994)|01-Jan-1994||http://us.imdb.com/M/title-exact?Maya%20Lin:%20A%20Strong%20Clear%20Vision%20(1994)|0|0|0|0|0|0|0|1|0|0|0|0|0|0|0|0|0|0|0\n",
            "120|Striptease (1996)|28-Jun-1996||http://us.imdb.com/M/title-exact?Striptease%20(1996)|0|0|0|0|0|1|1|0|0|0|0|0|0|0|0|0|0|0|0\n",
            "121|Independence Day (ID4) (1996)|03-Jul-1996||http://us.imdb.com/M/title-exact?Independence%20Day%20(1996)|0|1|0|0|0|0|0|0|0|0|0|0|0|0|0|1|0|1|0\n",
            "122|Cable Guy, The (1996)|14-Jun-1996||http://us.imdb.com/M/title-exact?Cable%20Guy,%20The%20(1996)|0|0|0|0|0|1|0|0|0|0|0|0|0|0|0|0|0|0|0\n",
            "123|Frighteners, The (1996)|19-Jul-1996||http://us.imdb.com/M/title-exact?Frighteners,%20The%20(1996)|0|0|0|0|0|1|0|0|0|0|0|1|0|0|0|0|0|0|0\n",
            "124|Lone Star (1996)|21-Jun-1996||http://us.imdb.com/M/title-exact?Lone%20Star%20(1996)|0|0|0|0|0|0|0|0|1|0|0|0|0|1|0|0|0|0|0\n",
            "125|Phenomenon (1996)|29-Jun-1996||http://us.imdb.com/M/title-exact?Phenomenon%20(1996)|0|0|0|0|0|0|0|0|1|0|0|0|0|0|1|0|0|0|0\n",
            "126|Spitfire Grill, The (1996)|06-Sep-1996||http://us.imdb.com/M/title-exact?Spitfire%20Grill,%20The%20(1996)|0|0|0|0|0|0|0|0|1|0|0|0|0|0|0|0|0|0|0\n",
            "127|Godfather, The (1972)|01-Jan-1972||http://us.imdb.com/M/title-exact?Godfather,%20The%20(1972)|0|1|0|0|0|0|1|0|1|0|0|0|0|0|0|0|0|0|0\n",
            "128|Supercop (1992)|26-Jul-1996||http://us.imdb.com/M/title-exact?Police%20Story%20III:%20Supercop%20(1992)|0|1|0|0|0|0|0|0|0|0|0|0|0|0|0|0|1|0|0\n",
            "129|Bound (1996)|04-Oct-1996||http://us.imdb.com/M/title-exact?Bound%20(1996)|0|0|0|0|0|0|1|0|1|0|0|0|0|0|1|0|1|0|0\n",
            "130|Kansas City (1996)|16-Aug-1996||http://us.imdb.com/M/title-exact?Kansas%20City%20(1996)|0|0|0|0|0|0|1|0|0|0|0|0|0|0|0|0|0|0|0\n",
            "131|Breakfast at Tiffany's (1961)|01-Jan-1961||http://us.imdb.com/M/title-exact?Breakfast%20at%20Tiffany's%20(1961)|0|0|0|0|0|0|0|0|1|0|0|0|0|0|1|0|0|0|0\n",
            "132|Wizard of Oz, The (1939)|01-Jan-1939||http://us.imdb.com/M/title-exact?Wizard%20of%20Oz,%20The%20(1939)|0|0|1|0|1|0|0|0|1|0|0|0|1|0|0|0|0|0|0\n",
            "133|Gone with the Wind (1939)|01-Jan-1939||http://us.imdb.com/M/title-exact?Gone%20with%20the%20Wind%20(1939)|0|0|0|0|0|0|0|0|1|0|0|0|0|0|1|0|0|1|0\n",
            "134|Citizen Kane (1941)|01-Jan-1941||http://us.imdb.com/M/title-exact?Citizen%20Kane%20(1941)|0|0|0|0|0|0|0|0|1|0|0|0|0|0|0|0|0|0|0\n",
            "135|2001: A Space Odyssey (1968)|01-Jan-1968||http://us.imdb.com/M/title-exact?2001:%20A%20Space%20Odyssey%20(1968)|0|0|0|0|0|0|0|0|1|0|0|0|0|1|0|1|1|0|0\n",
            "136|Mr. Smith Goes to Washington (1939)|01-Jan-1939||http://us.imdb.com/M/title-exact?Mr.%20Smith%20Goes%20to%20Washington%20(1939)|0|0|0|0|0|0|0|0|1|0|0|0|0|0|0|0|0|0|0\n",
            "137|Big Night (1996)|20-Sep-1996||http://us.imdb.com/M/title-exact?Big%20Night%20(1996)|0|0|0|0|0|0|0|0|1|0|0|0|0|0|0|0|0|0|0\n",
            "138|D3: The Mighty Ducks (1996)|04-Oct-1996||http://us.imdb.com/M/title-exact?D3:%20The%20Mighty%20Ducks%20(1996)|0|0|0|0|1|1|0|0|0|0|0|0|0|0|0|0|0|0|0\n",
            "139|Love Bug, The (1969)|01-Jan-1969||http://us.imdb.com/M/title-exact?Love%20Bug,%20The%20(1969)|0|0|0|0|1|1|0|0|0|0|0|0|0|0|0|0|0|0|0\n",
            "140|Homeward Bound: The Incredible Journey (1993)|01-Jan-1993||http://us.imdb.com/M/title-exact?Homeward%20Bound:%20The%20Incredible%20Journey%20(1993)|0|0|1|0|1|0|0|0|0|0|0|0|0|0|0|0|0|0|0\n",
            "141|20,000 Leagues Under the Sea (1954)|01-Jan-1954||http://us.imdb.com/M/title-exact?20,000%20Leagues%20Under%20the%20Sea%20(1954)|0|0|1|0|1|0|0|0|0|1|0|0|0|0|0|1|0|0|0\n",
            "142|Bedknobs and Broomsticks (1971)|01-Jan-1971||http://us.imdb.com/M/title-exact?Bedknobs%20and%20Broomsticks%20(1971)|0|0|1|0|1|0|0|0|0|0|0|0|1|0|0|0|0|0|0\n",
            "143|Sound of Music, The (1965)|01-Jan-1965||http://us.imdb.com/M/title-exact?Sound%20of%20Music,%20The%20(1965)|0|0|0|0|0|0|0|0|0|0|0|0|1|0|0|0|0|0|0\n",
            "144|Die Hard (1988)|01-Jan-1988||http://us.imdb.com/M/title-exact?Die%20Hard%20(1988)|0|1|0|0|0|0|0|0|0|0|0|0|0|0|0|0|1|0|0\n",
            "145|Lawnmower Man, The (1992)|01-Jan-1992||http://us.imdb.com/M/title-exact?Lawnmower%20Man,%20The%20(1992)|0|1|0|0|0|0|0|0|0|0|0|0|0|0|0|1|1|0|0\n",
            "146|Unhook the Stars (1996)|30-Oct-1996||http://us.imdb.com/M/title-exact?Unhook%20the%20Stars%20(1996)|0|0|0|0|0|0|0|0|1|0|0|0|0|0|0|0|0|0|0\n",
            "147|Long Kiss Goodnight, The (1996)|05-Oct-1996||http://us.imdb.com/M/title-exact?Long%20Kiss%20Goodnight,%20The%20(1996)|0|1|0|0|0|0|0|0|0|0|0|0|0|0|0|0|1|0|0\n",
            "148|Ghost and the Darkness, The (1996)|11-Oct-1996||http://us.imdb.com/M/title-exact?Ghost%20and%20the%20Darkness,%20The%20(1996)|0|1|1|0|0|0|0|0|0|0|0|0|0|0|0|0|0|0|0\n",
            "149|Jude (1996)|01-Nov-1996||http://us.imdb.com/M/title-exact?Jude%20(1996)|0|0|0|0|0|0|0|0|1|0|0|0|0|0|0|0|0|0|0\n",
            "150|Swingers (1996)|18-Oct-1996||http://us.imdb.com/M/title-exact?Swingers%20(1996)|0|0|0|0|0|1|0|0|1|0|0|0|0|0|0|0|0|0|0\n",
            "151|Willy Wonka and the Chocolate Factory (1971)|01-Jan-1971||http://us.imdb.com/M/title-exact?Willy%20Wonka%20and%20the%20Chocolate%20Factory%20(1971)|0|0|1|0|1|1|0|0|0|0|0|0|0|0|0|0|0|0|0\n",
            "152|Sleeper (1973)|01-Jan-1973||http://us.imdb.com/M/title-exact?Sleeper%20(1973)|0|0|0|0|0|1|0|0|0|0|0|0|0|0|0|1|0|0|0\n",
            "153|Fish Called Wanda, A (1988)|01-Jan-1988||http://us.imdb.com/M/title-exact?Fish%20Called%20Wanda,%20A%20(1988)|0|0|0|0|0|1|0|0|0|0|0|0|0|0|0|0|0|0|0\n",
            "154|Monty Python's Life of Brian (1979)|01-Jan-1979||http://us.imdb.com/M/title-exact?Life%20of%20Brian%20(1979)|0|0|0|0|0|1|0|0|0|0|0|0|0|0|0|0|0|0|0\n",
            "155|Dirty Dancing (1987)|01-Jan-1987||http://us.imdb.com/M/title-exact?Dirty%20Dancing%20(1987)|0|0|0|0|0|0|0|0|0|0|0|0|1|0|1|0|0|0|0\n",
            "156|Reservoir Dogs (1992)|01-Jan-1992||http://us.imdb.com/M/title-exact?Reservoir%20Dogs%20(1992)|0|0|0|0|0|0|1|0|0|0|0|0|0|0|0|0|1|0|0\n",
            "157|Platoon (1986)|01-Jan-1986||http://us.imdb.com/M/title-exact?Platoon%20(1986)|0|0|0|0|0|0|0|0|1|0|0|0|0|0|0|0|0|1|0\n",
            "158|Weekend at Bernie's (1989)|01-Jan-1989||http://us.imdb.com/M/title-exact?Weekend%20at%20Bernie's%20(1989)|0|0|0|0|0|1|0|0|0|0|0|0|0|0|0|0|0|0|0\n",
            "159|Basic Instinct (1992)|01-Jan-1992||http://us.imdb.com/M/title-exact?Basic%20Instinct%20(1992)|0|0|0|0|0|0|0|0|0|0|0|0|0|1|0|0|1|0|0\n",
            "160|Glengarry Glen Ross (1992)|01-Jan-1992||http://us.imdb.com/M/title-exact?Glengarry%20Glen%20Ross%20(1992)|0|0|0|0|0|0|0|0|1|0|0|0|0|0|0|0|0|0|0\n",
            "161|Top Gun (1986)|01-Jan-1986||http://us.imdb.com/M/title-exact?Top%20Gun%20(1986)|0|1|0|0|0|0|0|0|0|0|0|0|0|0|1|0|0|0|0\n",
            "162|On Golden Pond (1981)|01-Jan-1981||http://us.imdb.com/M/title-exact?On%20Golden%20Pond%20(1981)|0|0|0|0|0|0|0|0|1|0|0|0|0|0|0|0|0|0|0\n",
            "163|Return of the Pink Panther, The (1974)|01-Jan-1974||http://us.imdb.com/M/title-exact?Return%20of%20the%20Pink%20Panther,%20The%20(1974)|0|0|0|0|0|1|0|0|0|0|0|0|0|0|0|0|0|0|0\n",
            "164|Abyss, The (1989)|01-Jan-1989||http://us.imdb.com/M/title-exact?Abyss,%20The%20(1989)|0|1|1|0|0|0|0|0|0|0|0|0|0|0|0|1|1|0|0\n",
            "165|Jean de Florette (1986)|01-Jan-1986||http://us.imdb.com/M/title-exact?Jean%20de%20Florette%20(1986)|0|0|0|0|0|0|0|0|1|0|0|0|0|0|0|0|0|0|0\n",
            "166|Manon of the Spring (Manon des sources) (1986)|01-Jan-1986||http://us.imdb.com/M/title-exact?Manon%20des%20sources%20(1986)|0|0|0|0|0|0|0|0|1|0|0|0|0|0|0|0|0|0|0\n",
            "167|Private Benjamin (1980)|01-Jan-1980||http://us.imdb.com/M/title-exact?Private%20Benjamin%20(1980)|0|0|0|0|0|1|0|0|0|0|0|0|0|0|0|0|0|0|0\n",
            "168|Monty Python and the Holy Grail (1974)|01-Jan-1974||http://us.imdb.com/M/title-exact?Monty%20Python%20and%20the%20Holy%20Grail%20(1974)|0|0|0|0|0|1|0|0|0|0|0|0|0|0|0|0|0|0|0\n",
            "169|Wrong Trousers, The (1993)|01-Jan-1993||http://us.imdb.com/M/title-exact?Wrong%20Trousers,%20The%20(1993)|0|0|0|1|0|1|0|0|0|0|0|0|0|0|0|0|0|0|0\n",
            "170|Cinema Paradiso (1988)|01-Jan-1988||http://us.imdb.com/M/title-exact?Nuovo%20cinema%20Paradiso%20(1988)|0|0|0|0|0|1|0|0|1|0|0|0|0|0|1|0|0|0|0\n",
            "171|Delicatessen (1991)|01-Jan-1991||http://us.imdb.com/M/title-exact?Delicatessen%20(1991)|0|0|0|0|0|1|0|0|0|0|0|0|0|0|0|1|0|0|0\n",
            "172|Empire Strikes Back, The (1980)|01-Jan-1980||http://us.imdb.com/M/title-exact?Empire%20Strikes%20Back,%20The%20(1980)|0|1|1|0|0|0|0|0|1|0|0|0|0|0|1|1|0|1|0\n",
            "173|Princess Bride, The (1987)|01-Jan-1987||http://us.imdb.com/M/title-exact?Princess%20Bride,%20The%20(1987)|0|1|1|0|0|1|0|0|0|0|0|0|0|0|1|0|0|0|0\n",
            "174|Raiders of the Lost Ark (1981)|01-Jan-1981||http://us.imdb.com/M/title-exact?Raiders%20of%20the%20Lost%20Ark%20(1981)|0|1|1|0|0|0|0|0|0|0|0|0|0|0|0|0|0|0|0\n",
            "175|Brazil (1985)|01-Jan-1985||http://us.imdb.com/M/title-exact?Brazil%20(1985)|0|0|0|0|0|0|0|0|0|0|0|0|0|0|0|1|0|0|0\n",
            "176|Aliens (1986)|01-Jan-1986||http://us.imdb.com/M/title-exact?Aliens%20(1986)|0|1|0|0|0|0|0|0|0|0|0|0|0|0|0|1|1|1|0\n",
            "177|Good, The Bad and The Ugly, The (1966)|01-Jan-1966||http://us.imdb.com/M/title-exact?Buono,%20il%20brutto,%20il%20cattivo,%20Il%20(1966)|0|1|0|0|0|0|0|0|0|0|0|0|0|0|0|0|0|0|1\n",
            "178|12 Angry Men (1957)|01-Jan-1957||http://us.imdb.com/M/title-exact?12%20Angry%20Men%20(1957)|0|0|0|0|0|0|0|0|1|0|0|0|0|0|0|0|0|0|0\n",
            "179|Clockwork Orange, A (1971)|01-Jan-1971||http://us.imdb.com/M/title-exact?Clockwork%20Orange,%20A%20(1971)|0|0|0|0|0|0|0|0|0|0|0|0|0|0|0|1|0|0|0\n",
            "180|Apocalypse Now (1979)|01-Jan-1979||http://us.imdb.com/M/title-exact?Apocalypse%20Now%20(1979)|0|0|0|0|0|0|0|0|1|0|0|0|0|0|0|0|0|1|0\n",
            "181|Return of the Jedi (1983)|14-Mar-1997||http://us.imdb.com/M/title-exact?Return%20of%20the%20Jedi%20(1983)|0|1|1|0|0|0|0|0|0|0|0|0|0|0|1|1|0|1|0\n",
            "182|GoodFellas (1990)|01-Jan-1990||http://us.imdb.com/M/title-exact?GoodFellas%20(1990)|0|0|0|0|0|0|1|0|1|0|0|0|0|0|0|0|0|0|0\n",
            "183|Alien (1979)|01-Jan-1979||http://us.imdb.com/M/title-exact?Alien%20(1979)|0|1|0|0|0|0|0|0|0|0|0|1|0|0|0|1|1|0|0\n",
            "184|Army of Darkness (1993)|01-Jan-1993||http://us.imdb.com/M/title-exact?Army%20of%20Darkness%20(1993)|0|1|1|0|0|1|0|0|0|0|0|1|0|0|0|1|0|0|0\n",
            "185|Psycho (1960)|01-Jan-1960||http://us.imdb.com/M/title-exact?Psycho%20(1960)|0|0|0|0|0|0|0|0|0|0|0|1|0|0|1|0|1|0|0\n",
            "186|Blues Brothers, The (1980)|01-Jan-1980||http://us.imdb.com/M/title-exact?Blues%20Brothers,%20The%20(1980)|0|1|0|0|0|1|0|0|0|0|0|0|1|0|0|0|0|0|0\n",
            "187|Godfather: Part II, The (1974)|01-Jan-1974||http://us.imdb.com/M/title-exact?Godfather:%20Part%20II,%20The%20(1974)|0|1|0|0|0|0|1|0|1|0|0|0|0|0|0|0|0|0|0\n",
            "188|Full Metal Jacket (1987)|01-Jan-1987||http://us.imdb.com/M/title-exact?Full%20Metal%20Jacket%20(1987)|0|1|0|0|0|0|0|0|1|0|0|0|0|0|0|0|0|1|0\n",
            "189|Grand Day Out, A (1992)|01-Jan-1992||http://us.imdb.com/M/title-exact?Grand%20Day%20Out,%20A%20(1992)|0|0|0|1|0|1|0|0|0|0|0|0|0|0|0|0|0|0|0\n",
            "190|Henry V (1989)|01-Jan-1989||http://us.imdb.com/M/title-exact?Henry%20V%20(1989)|0|0|0|0|0|0|0|0|1|0|0|0|0|0|0|0|0|1|0\n",
            "191|Amadeus (1984)|01-Jan-1984||http://us.imdb.com/M/title-exact?Amadeus%20(1984)|0|0|0|0|0|0|0|0|1|0|0|0|0|1|0|0|0|0|0\n",
            "192|Raging Bull (1980)|01-Jan-1980||http://us.imdb.com/M/title-exact?Raging%20Bull%20(1980)|0|0|0|0|0|0|0|0|1|0|0|0|0|0|0|0|0|0|0\n",
            "193|Right Stuff, The (1983)|01-Jan-1983||http://us.imdb.com/M/title-exact?Right%20Stuff,%20The%20(1983)|0|0|0|0|0|0|0|0|1|0|0|0|0|0|0|0|0|0|0\n",
            "194|Sting, The (1973)|01-Jan-1973||http://us.imdb.com/M/title-exact?Sting,%20The%20(1973)|0|0|0|0|0|1|1|0|0|0|0|0|0|0|0|0|0|0|0\n",
            "195|Terminator, The (1984)|01-Jan-1984||http://us.imdb.com/M/title-exact?Terminator,%20The%20(1984)|0|1|0|0|0|0|0|0|0|0|0|0|0|0|0|1|1|0|0\n",
            "196|Dead Poets Society (1989)|01-Jan-1989||http://us.imdb.com/M/title-exact?Dead%20Poets%20Society%20(1989)|0|0|0|0|0|0|0|0|1|0|0|0|0|0|0|0|0|0|0\n",
            "197|Graduate, The (1967)|01-Jan-1967||http://us.imdb.com/M/title-exact?Graduate,%20The%20(1967)|0|0|0|0|0|0|0|0|1|0|0|0|0|0|1|0|0|0|0\n",
            "198|Nikita (La Femme Nikita) (1990)|01-Jan-1990||http://us.imdb.com/M/title-exact?Nikita%20(1990)|0|0|0|0|0|0|0|0|0|0|0|0|0|0|0|0|1|0|0\n",
            "199|Bridge on the River Kwai, The (1957)|01-Jan-1957||http://us.imdb.com/M/title-exact?Bridge%20on%20the%20River%20Kwai,%20The%20(1957)|0|0|0|0|0|0|0|0|1|0|0|0|0|0|0|0|0|1|0\n",
            "200|Shining, The (1980)|01-Jan-1980||http://us.imdb.com/M/title-exact?Shining,%20The%20(1980)|0|0|0|0|0|0|0|0|0|0|0|1|0|0|0|0|0|0|0\n",
            "201|Evil Dead II (1987)|01-Jan-1987||http://us.imdb.com/M/title-exact?Evil%20Dead%20II%20(1987)|0|1|1|0|0|1|0|0|0|0|0|1|0|0|0|0|0|0|0\n",
            "202|Groundhog Day (1993)|01-Jan-1993||http://us.imdb.com/M/title-exact?Groundhog%20Day%20(1993)|0|0|0|0|0|1|0|0|0|0|0|0|0|0|1|0|0|0|0\n",
            "203|Unforgiven (1992)|01-Jan-1992||http://us.imdb.com/M/title-exact?Unforgiven%20(1992)|0|0|0|0|0|0|0|0|0|0|0|0|0|0|0|0|0|0|1\n",
            "204|Back to the Future (1985)|01-Jan-1985||http://us.imdb.com/M/title-exact?Back%20to%20the%20Future%20(1985)|0|0|0|0|0|1|0|0|0|0|0|0|0|0|0|1|0|0|0\n",
            "205|Patton (1970)|01-Jan-1970||http://us.imdb.com/M/title-exact?Patton%20(1970)|0|0|0|0|0|0|0|0|1|0|0|0|0|0|0|0|0|1|0\n",
            "206|Akira (1988)|01-Jan-1988||http://us.imdb.com/M/title-exact?Akira%20(1988)|0|0|1|1|0|0|0|0|0|0|0|0|0|0|0|1|1|0|0\n",
            "207|Cyrano de Bergerac (1990)|01-Jan-1990||http://us.imdb.com/M/title-exact?Cyrano%20de%20Bergerac%20(1990)|0|1|0|0|0|0|0|0|1|0|0|0|0|0|1|0|0|0|0\n",
            "208|Young Frankenstein (1974)|01-Jan-1974||http://us.imdb.com/M/title-exact?Young%20Frankenstein%20(1974)|0|0|0|0|0|1|0|0|0|0|0|1|0|0|0|0|0|0|0\n",
            "209|This Is Spinal Tap (1984)|01-Jan-1984||http://us.imdb.com/M/title-exact?This%20Is%20Spinal%20Tap%20(1984)|0|0|0|0|0|1|0|0|1|0|0|0|1|0|0|0|0|0|0\n",
            "210|Indiana Jones and the Last Crusade (1989)|01-Jan-1989||http://us.imdb.com/M/title-exact?Indiana%20Jones%20and%20the%20Last%20Crusade%20(1989)|0|1|1|0|0|0|0|0|0|0|0|0|0|0|0|0|0|0|0\n",
            "211|M*A*S*H (1970)|01-Jan-1970||http://us.imdb.com/M/title-exact?MASH%20(1970)|0|0|0|0|0|1|0|0|0|0|0|0|0|0|0|0|0|1|0\n",
            "212|Unbearable Lightness of Being, The (1988)|01-Jan-1988||http://us.imdb.com/M/title-exact?Unbearable%20Lightness%20of%20Being,%20The%20(1988)|0|0|0|0|0|0|0|0|1|0|0|0|0|0|0|0|0|0|0\n",
            "213|Room with a View, A (1986)|01-Jan-1986||http://us.imdb.com/M/title-exact?Room%20with%20a%20View,%20A%20(1986)|0|0|0|0|0|0|0|0|1|0|0|0|0|0|1|0|0|0|0\n",
            "214|Pink Floyd - The Wall (1982)|01-Jan-1982||http://us.imdb.com/M/title-exact?Pink%20Floyd%20-%20The%20Wall%20(1982)|0|0|0|0|0|0|0|0|1|0|0|0|1|0|0|0|0|1|0\n",
            "215|Field of Dreams (1989)|01-Jan-1989||http://us.imdb.com/M/title-exact?Field%20of%20Dreams%20(1989)|0|0|0|0|0|0|0|0|1|0|0|0|0|0|0|0|0|0|0\n",
            "216|When Harry Met Sally... (1989)|01-Jan-1989||http://us.imdb.com/M/title-exact?When%20Harry%20Met%20Sally...%20(1989)|0|0|0|0|0|1|0|0|0|0|0|0|0|0|1|0|0|0|0\n",
            "217|Bram Stoker's Dracula (1992)|01-Jan-1992||http://us.imdb.com/M/title-exact?Bram%20Stoker's%20Dracula%20(1992)|0|0|0|0|0|0|0|0|0|0|0|1|0|0|1|0|0|0|0\n",
            "218|Cape Fear (1991)|01-Jan-1991||http://us.imdb.com/M/title-exact?Cape%20Fear%20(1991)|0|0|0|0|0|0|0|0|0|0|0|0|0|0|0|0|1|0|0\n",
            "219|Nightmare on Elm Street, A (1984)|01-Jan-1984||http://us.imdb.com/M/title-exact?Nightmare%20on%20Elm%20Street,%20A%20(1984)|0|0|0|0|0|0|0|0|0|0|0|1|0|0|0|0|0|0|0\n",
            "220|Mirror Has Two Faces, The (1996)|15-Nov-1996||http://us.imdb.com/M/title-exact?Mirror%20Has%20Two%20Faces,%20The%20(1996)|0|0|0|0|0|1|0|0|0|0|0|0|0|0|1|0|0|0|0\n",
            "221|Breaking the Waves (1996)|15-Nov-1996||http://us.imdb.com/M/title-exact?Breaking%20the%20Waves%20(1996)|0|0|0|0|0|0|0|0|1|0|0|0|0|0|0|0|0|0|0\n",
            "222|Star Trek: First Contact (1996)|22-Nov-1996||http://us.imdb.com/M/title-exact?Star%20Trek:%20First%20Contact%20(1996)|0|1|1|0|0|0|0|0|0|0|0|0|0|0|0|1|0|0|0\n",
            "223|Sling Blade (1996)|22-Nov-1996||http://us.imdb.com/M/title-exact?Sling%20Blade%20(1996)|0|0|0|0|0|0|0|0|1|0|0|0|0|0|0|0|1|0|0\n",
            "224|Ridicule (1996)|27-Nov-1996||http://us.imdb.com/M/title-exact?Ridicule%20(1996)|0|0|0|0|0|0|0|0|1|0|0|0|0|0|0|0|0|0|0\n",
            "225|101 Dalmatians (1996)|27-Nov-1996||http://us.imdb.com/M/title-exact?101%20Dalmatians%20(1996)|0|0|0|0|1|1|0|0|0|0|0|0|0|0|0|0|0|0|0\n",
            "226|Die Hard 2 (1990)|01-Jan-1990||http://us.imdb.com/M/title-exact?Die%20Hard%202%20(1990)|0|1|0|0|0|0|0|0|0|0|0|0|0|0|0|0|1|0|0\n",
            "227|Star Trek VI: The Undiscovered Country (1991)|01-Jan-1991||http://us.imdb.com/M/title-exact?Star%20Trek%20VI:%20The%20Undiscovered%20Country%20(1991)|0|1|1|0|0|0|0|0|0|0|0|0|0|0|0|1|0|0|0\n",
            "228|Star Trek: The Wrath of Khan (1982)|01-Jan-1982||http://us.imdb.com/M/title-exact?Star%20Trek:%20The%20Wrath%20of%20Khan%20(1982)|0|1|1|0|0|0|0|0|0|0|0|0|0|0|0|1|0|0|0\n",
            "229|Star Trek III: The Search for Spock (1984)|01-Jan-1984||http://us.imdb.com/M/title-exact?Star%20Trek%20III:%20The%20Search%20for%20Spock%20(1984)|0|1|1|0|0|0|0|0|0|0|0|0|0|0|0|1|0|0|0\n",
            "230|Star Trek IV: The Voyage Home (1986)|01-Jan-1986||http://us.imdb.com/M/title-exact?Star%20Trek%20IV:%20The%20Voyage%20Home%20(1986)|0|1|1|0|0|0|0|0|0|0|0|0|0|0|0|1|0|0|0\n",
            "231|Batman Returns (1992)|01-Jan-1992||http://us.imdb.com/M/title-exact?Batman%20Returns%20(1992)|0|1|1|0|0|1|1|0|0|0|0|0|0|0|0|0|0|0|0\n",
            "232|Young Guns (1988)|01-Jan-1988||http://us.imdb.com/M/title-exact?Young%20Guns%20(1988)|0|1|0|0|0|1|0|0|0|0|0|0|0|0|0|0|0|0|1\n",
            "233|Under Siege (1992)|01-Jan-1992||http://us.imdb.com/M/title-exact?Under%20Siege%20(1992)|0|1|0|0|0|0|0|0|0|0|0|0|0|0|0|0|0|0|0\n",
            "234|Jaws (1975)|01-Jan-1975||http://us.imdb.com/M/title-exact?Jaws%20(1975)|0|1|0|0|0|0|0|0|0|0|0|1|0|0|0|0|0|0|0\n",
            "235|Mars Attacks! (1996)|13-Dec-1996||http://us.imdb.com/M/title-exact?Mars%20Attacks!%20(1996)|0|1|0|0|0|1|0|0|0|0|0|0|0|0|0|1|0|1|0\n",
            "236|Citizen Ruth (1996)|13-Dec-1996||http://us.imdb.com/M/title-exact?Citizen%20Ruth%20(1996)|0|0|0|0|0|1|0|0|1|0|0|0|0|0|0|0|0|0|0\n",
            "237|Jerry Maguire (1996)|13-Dec-1996||http://us.imdb.com/M/title-exact?Jerry%20Maguire%20(1996)|0|0|0|0|0|0|0|0|1|0|0|0|0|0|1|0|0|0|0\n",
            "238|Raising Arizona (1987)|01-Jan-1987||http://us.imdb.com/M/title-exact?Raising%20Arizona%20(1987)|0|0|0|0|0|1|0|0|0|0|0|0|0|0|0|0|0|0|0\n",
            "239|Sneakers (1992)|01-Jan-1992||http://us.imdb.com/M/title-exact?Sneakers%20(1992)|0|0|0|0|0|0|1|0|1|0|0|0|0|0|0|1|0|0|0\n",
            "240|Beavis and Butt-head Do America (1996)|20-Dec-1996||http://us.imdb.com/M/title-exact?Beavis%20and%20Butt-head%20Do%20America%20(1996)|0|0|0|1|0|1|0|0|0|0|0|0|0|0|0|0|0|0|0\n",
            "241|Last of the Mohicans, The (1992)|01-Jan-1992||http://us.imdb.com/M/title-exact?Last%20of%20the%20Mohicans,%20The%20(1992)|0|1|0|0|0|0|0|0|0|0|0|0|0|0|1|0|0|1|0\n",
            "242|Kolya (1996)|24-Jan-1997||http://us.imdb.com/M/title-exact?Kolya%20(1996)|0|0|0|0|0|1|0|0|0|0|0|0|0|0|0|0|0|0|0\n",
            "243|Jungle2Jungle (1997)|07-Mar-1997||http://us.imdb.com/M/title-exact?Jungle2Jungle%20(1997)|0|0|0|0|1|1|0|0|0|0|0|0|0|0|0|0|0|0|0\n",
            "244|Smilla's Sense of Snow (1997)|14-Mar-1997||http://us.imdb.com/M/title-exact?Smilla%27s%20Sense%20of%20Snow%20(1997)|0|1|0|0|0|0|0|0|1|0|0|0|0|0|0|0|1|0|0\n",
            "245|Devil's Own, The (1997)|26-Mar-1997||http://us.imdb.com/M/title-exact?Devil%27s%20Own%2C%20The%20(1997)|0|1|0|0|0|0|0|0|1|0|0|0|0|0|0|0|1|1|0\n",
            "246|Chasing Amy (1997)|01-Jan-1997||http://us.imdb.com/M/title-exact?Chasing+Amy+(1997)|0|0|0|0|0|0|0|0|1|0|0|0|0|0|1|0|0|0|0\n",
            "247|Turbo: A Power Rangers Movie (1997)|28-Mar-1997||http://us.imdb.com/M/title-exact?Turbo%3A%20A%20Power%20Rangers%20Movie%20%281997%29|0|1|1|0|1|0|0|0|0|0|0|0|0|0|0|0|0|0|0\n",
            "248|Grosse Pointe Blank (1997)|11-Apr-1997||http://us.imdb.com/M/title-exact?Grosse%20Pointe%20Blank%20%281997%29|0|0|0|0|0|1|1|0|0|0|0|0|0|0|0|0|0|0|0\n",
            "249|Austin Powers: International Man of Mystery (1997)|02-May-1997||http://us.imdb.com/M/title-exact?Austin%20Powers%3A%20International%20Man%20of%20Mystery%20%281997%29|0|0|0|0|0|1|0|0|0|0|0|0|0|0|0|0|0|0|0\n",
            "250|Fifth Element, The (1997)|09-May-1997||http://us.imdb.com/M/title-exact?Fifth%20Element%2C%20The%20%281997%29|0|1|0|0|0|0|0|0|0|0|0|0|0|0|0|1|0|0|0\n",
            "251|Shall We Dance? (1996)|11-Jul-1997||http://us.imdb.com/M/title-exact?Shall%20we%20DANSU%3F%20%281996%29|0|0|0|0|0|1|0|0|0|0|0|0|0|0|0|0|0|0|0\n",
            "252|Lost World: Jurassic Park, The (1997)|23-May-1997||http://us.imdb.com/M/title-exact?Lost%20World%3A%20Jurassic%20Park%2C%20The%20%281997%29|0|1|1|0|0|0|0|0|0|0|0|0|0|0|0|1|1|0|0\n",
            "253|Pillow Book, The (1995)|13-Jun-1997||http://us.imdb.com/M/title-exact?Pillow%20Book%2C%20The%20%281995%29|0|0|0|0|0|0|0|0|1|0|0|0|0|0|1|0|0|0|0\n",
            "254|Batman & Robin (1997)|20-Jun-1997||http://us.imdb.com/M/title-exact?Batman+%26+Robin+(1997)|0|1|1|0|0|0|1|0|0|0|0|0|0|0|0|0|0|0|0\n",
            "255|My Best Friend's Wedding (1997)|20-Jun-1997||http://us.imdb.com/M/title-exact?My+Best+Friend%27s+Wedding+(1997)|0|0|0|0|0|1|0|0|0|0|0|0|0|0|1|0|0|0|0\n",
            "256|When the Cats Away (Chacun cherche son chat) (1996)|20-Jun-1997||http://us.imdb.com/M/title-exact?Chacun+cherche+son+chat+(1996)|0|0|0|0|0|1|0|0|0|0|0|0|0|0|1|0|0|0|0\n",
            "257|Men in Black (1997)|04-Jul-1997||http://us.imdb.com/M/title-exact?Men+in+Black+(1997)|0|1|1|0|0|1|0|0|0|0|0|0|0|0|0|1|0|0|0\n",
            "258|Contact (1997)|11-Jul-1997||http://us.imdb.com/Title?Contact+(1997/I)|0|0|0|0|0|0|0|0|1|0|0|0|0|0|0|1|0|0|0\n",
            "259|George of the Jungle (1997)|01-Jan-1997||http://us.imdb.com/M/title-exact?George+of+the+Jungle+(1997)|0|0|0|0|1|1|0|0|0|0|0|0|0|0|0|0|0|0|0\n",
            "260|Event Horizon (1997)|01-Jan-1997||http://us.imdb.com/M/title-exact?Event+Horizon+(1997)|0|1|0|0|0|0|0|0|0|0|0|0|0|1|0|1|1|0|0\n",
            "261|Air Bud (1997)|01-Aug-1997||http://us.imdb.com/M/title-exact?Air+Bud+(1997)|0|0|0|0|1|1|0|0|0|0|0|0|0|0|0|0|0|0|0\n",
            "262|In the Company of Men (1997)|01-Aug-1997||http://us.imdb.com/M/title-exact?In+the+Company+of+Men+(1997)|0|0|0|0|0|0|0|0|1|0|0|0|0|0|0|0|0|0|0\n",
            "263|Steel (1997)|15-Aug-1997||http://us.imdb.com/M/title-exact?Steel+(1997)|0|1|0|0|0|0|0|0|0|0|0|0|0|0|0|0|0|0|0\n",
            "264|Mimic (1997)|22-Aug-1997||http://us.imdb.com/M/title-exact?Mimic+(1997)|0|0|0|0|0|0|0|0|0|0|0|0|0|0|0|1|1|0|0\n",
            "265|Hunt for Red October, The (1990)|01-Jan-1990||http://us.imdb.com/M/title-exact?Hunt+for+Red+October%2C+The+(1990)|0|1|0|0|0|0|0|0|0|0|0|0|0|0|0|0|1|0|0\n",
            "266|Kull the Conqueror (1997)|29-Aug-1997||http://us.imdb.com/M/title-exact?Kull+the+Conqueror+(1997)|0|1|1|0|0|0|0|0|0|0|0|0|0|0|0|0|0|0|0\n",
            "267|unknown||||1|0|0|0|0|0|0|0|0|0|0|0|0|0|0|0|0|0|0\n",
            "268|Chasing Amy (1997)|01-Jan-1997||http://us.imdb.com/M/title-exact?Chasing+Amy+(1997)|0|0|0|0|0|0|0|0|1|0|0|0|0|0|1|0|0|0|0\n",
            "269|Full Monty, The (1997)|01-Jan-1997||http://us.imdb.com/M/title-exact?Full+Monty%2C+The+(1997)|0|0|0|0|0|1|0|0|0|0|0|0|0|0|0|0|0|0|0\n",
            "270|Gattaca (1997)|01-Jan-1997||http://us.imdb.com/M/title-exact?Gattaca+(1997)|0|0|0|0|0|0|0|0|1|0|0|0|0|0|0|1|1|0|0\n",
            "271|Starship Troopers (1997)|01-Jan-1997||http://us.imdb.com/M/title-exact?Starship+Troopers+(1997)|0|1|1|0|0|0|0|0|0|0|0|0|0|0|0|1|0|1|0\n",
            "272|Good Will Hunting (1997)|01-Jan-1997||http://us.imdb.com/M/title-exact?imdb-title-119217|0|0|0|0|0|0|0|0|1|0|0|0|0|0|0|0|0|0|0\n",
            "273|Heat (1995)|01-Jan-1995||http://us.imdb.com/M/title-exact?Heat%20(1995)|0|1|0|0|0|0|1|0|0|0|0|0|0|0|0|0|1|0|0\n",
            "274|Sabrina (1995)|01-Jan-1995||http://us.imdb.com/M/title-exact?Sabrina%20(1995)|0|0|0|0|0|1|0|0|0|0|0|0|0|0|1|0|0|0|0\n",
            "275|Sense and Sensibility (1995)|01-Jan-1995||http://us.imdb.com/M/title-exact?Sense%20and%20Sensibility%20(1995)|0|0|0|0|0|0|0|0|1|0|0|0|0|0|1|0|0|0|0\n",
            "276|Leaving Las Vegas (1995)|01-Jan-1995||http://us.imdb.com/M/title-exact?Leaving%20Las%20Vegas%20(1995)|0|0|0|0|0|0|0|0|1|0|0|0|0|0|1|0|0|0|0\n",
            "277|Restoration (1995)|01-Jan-1995||http://us.imdb.com/M/title-exact?Restoration%20(1995)|0|0|0|0|0|0|0|0|1|0|0|0|0|0|0|0|0|0|0\n",
            "278|Bed of Roses (1996)|01-Jan-1996||http://us.imdb.com/M/title-exact?Bed%20of%20Roses%20(1996)|0|0|0|0|0|0|0|0|1|0|0|0|0|0|1|0|0|0|0\n",
            "279|Once Upon a Time... When We Were Colored (1995)|01-Jan-1995||http://us.imdb.com/M/title-exact?Once%20Upon%20a%20Time... When%20We%20Were%20Colored%20(1995)|0|0|0|0|0|0|0|0|1|0|0|0|0|0|0|0|0|0|0\n",
            "280|Up Close and Personal (1996)|01-Mar-1996||http://us.imdb.com/M/title-exact?Up%20Close%20and%20Personal%20(1996)|0|0|0|0|0|0|0|0|1|0|0|0|0|0|1|0|0|0|0\n",
            "281|River Wild, The (1994)|01-Jan-1994||http://us.imdb.com/M/title-exact?River%20Wild,%20The%20(1994)|0|1|0|0|0|0|0|0|0|0|0|0|0|0|0|0|1|0|0\n",
            "282|Time to Kill, A (1996)|13-Jul-1996||http://us.imdb.com/M/title-exact?Time%20to%20Kill,%20A%20(1996)|0|0|0|0|0|0|0|0|1|0|0|0|0|0|0|0|0|0|0\n",
            "283|Emma (1996)|02-Aug-1996||http://us.imdb.com/M/title-exact?Emma%20(1996)|0|0|0|0|0|0|0|0|1|0|0|0|0|0|1|0|0|0|0\n",
            "284|Tin Cup (1996)|16-Aug-1996||http://us.imdb.com/M/title-exact?Tin%20Cup%20(1996)|0|0|0|0|0|1|0|0|0|0|0|0|0|0|1|0|0|0|0\n",
            "285|Secrets & Lies (1996)|04-Oct-1996||http://us.imdb.com/M/title-exact?Secrets%20&%20Lies%20(1996)|0|0|0|0|0|0|0|0|1|0|0|0|0|0|0|0|0|0|0\n",
            "286|English Patient, The (1996)|15-Nov-1996||http://us.imdb.com/M/title-exact?English%20Patient,%20The%20(1996)|0|0|0|0|0|0|0|0|1|0|0|0|0|0|1|0|0|1|0\n",
            "287|Marvin's Room (1996)|18-Dec-1996||http://us.imdb.com/M/title-exact?Marvin's%20Room%20(1996)|0|0|0|0|0|0|0|0|1|0|0|0|0|0|0|0|0|0|0\n",
            "288|Scream (1996)|20-Dec-1996||http://us.imdb.com/M/title-exact?Scream%20(1996)|0|0|0|0|0|0|0|0|0|0|0|1|0|0|0|0|1|0|0\n",
            "289|Evita (1996)|25-Dec-1996||http://us.imdb.com/M/title-exact?Evita%20(1996)|0|0|0|0|0|0|0|0|1|0|0|0|1|0|0|0|0|0|0\n",
            "290|Fierce Creatures (1997)|10-Jan-1997||http://us.imdb.com/M/title-exact?Fierce%20Creatures%20(1997)|0|0|0|0|0|1|0|0|0|0|0|0|0|0|0|0|0|0|0\n",
            "291|Absolute Power (1997)|14-Feb-1997||http://us.imdb.com/M/title-exact?Absolute%20Power%20(1997)|0|0|0|0|0|0|0|0|0|0|0|0|0|1|0|0|1|0|0\n",
            "292|Rosewood (1997)|21-Feb-1997||http://us.imdb.com/M/title-exact?Rosewood%20(1997)|0|0|0|0|0|0|0|0|1|0|0|0|0|0|0|0|0|0|0\n",
            "293|Donnie Brasco (1997)|28-Feb-1997||http://us.imdb.com/M/title-exact?Donnie%20Brasco%20(1997)|0|0|0|0|0|0|1|0|1|0|0|0|0|0|0|0|0|0|0\n",
            "294|Liar Liar (1997)|21-Mar-1997||http://us.imdb.com/Title?Liar+Liar+(1997)|0|0|0|0|0|1|0|0|0|0|0|0|0|0|0|0|0|0|0\n",
            "295|Breakdown (1997)|02-May-1997||http://us.imdb.com/M/title-exact?Breakdown%20%281997%29|0|1|0|0|0|0|0|0|0|0|0|0|0|0|0|0|1|0|0\n",
            "296|Promesse, La (1996)|16-May-1997||http://us.imdb.com/M/title-exact?Promesse%2C%20La%20%281996%29|0|0|0|0|0|0|0|0|1|0|0|0|0|0|0|0|0|0|0\n",
            "297|Ulee's Gold (1997)|01-Jan-1997||http://us.imdb.com/M/title-exact?Ulee%27s+Gold+(1997)|0|0|0|0|0|0|0|0|1|0|0|0|0|0|0|0|0|0|0\n",
            "298|Face/Off (1997)|27-Jun-1997||http://us.imdb.com/M/title-exact?Face/Off+(1997)|0|1|0|0|0|0|0|0|0|0|0|0|0|0|0|1|1|0|0\n",
            "299|Hoodlum (1997)|22-Aug-1997||http://us.imdb.com/M/title-exact?Hoodlum+(1997)|0|0|0|0|0|0|1|0|1|0|1|0|0|0|0|0|0|0|0\n",
            "300|Air Force One (1997)|01-Jan-1997||http://us.imdb.com/M/title-exact?Air+Force+One+(1997)|0|1|0|0|0|0|0|0|0|0|0|0|0|0|0|0|1|0|0\n",
            "301|In & Out (1997)|19-Sep-1997||http://us.imdb.com/Title?In+%26+Out+(1997)|0|0|0|0|0|1|0|0|0|0|0|0|0|0|0|0|0|0|0\n",
            "302|L.A. Confidential (1997)|01-Jan-1997||http://us.imdb.com/M/title-exact?L%2EA%2E+Confidential+(1997)|0|0|0|0|0|0|1|0|0|0|1|0|0|1|0|0|1|0|0\n",
            "303|Ulee's Gold (1997)|01-Jan-1997||http://us.imdb.com/M/title-exact?Ulee%27s+Gold+(1997)|0|0|0|0|0|0|0|0|1|0|0|0|0|0|0|0|0|0|0\n",
            "304|Fly Away Home (1996)|13-Sep-1996||http://us.imdb.com/M/title-exact?Fly%20Away%20Home%20(1996)|0|0|1|0|1|0|0|0|0|0|0|0|0|0|0|0|0|0|0\n",
            "305|Ice Storm, The (1997)|01-Jan-1997||http://us.imdb.com/M/title-exact?Ice+Storm%2C+The+(1997)|0|0|0|0|0|0|0|0|1|0|0|0|0|0|0|0|0|0|0\n",
            "306|Mrs. Brown (Her Majesty, Mrs. Brown) (1997)|01-Jan-1997||http://us.imdb.com/M/title-exact?Her+Majesty%2C+Mrs%2E+Brown+(1997)|0|0|0|0|0|0|0|0|1|0|0|0|0|0|1|0|0|0|0\n",
            "307|Devil's Advocate, The (1997)|01-Jan-1997||http://us.imdb.com/M/title-exact?Devil's+Advocate,+The+(1997)|0|0|0|0|0|0|1|0|0|0|0|1|0|1|0|0|1|0|0\n",
            "308|FairyTale: A True Story (1997)|01-Jan-1997||http://us.imdb.com/M/title-exact?Fairytale:+A+True+Story+(1997)|0|0|0|0|1|0|0|0|1|1|0|0|0|0|0|0|0|0|0\n",
            "309|Deceiver (1997)|01-Jan-1997||http://us.imdb.com/M/title-exact?Liar+(1997)|0|0|0|0|0|0|1|0|0|0|0|0|0|0|0|0|0|0|0\n",
            "310|Rainmaker, The (1997)|01-Jan-1997||http://us.imdb.com/M/title-exact?Rainmaker,+The+(1997)|0|0|0|0|0|0|0|0|1|0|0|0|0|0|0|0|0|0|0\n",
            "311|Wings of the Dove, The (1997)|01-Jan-1997||http://us.imdb.com/M/title-exact?Wings+of+the+Dove%2C+The+(1997)|0|0|0|0|0|0|0|0|1|0|0|0|0|0|1|0|1|0|0\n",
            "312|Midnight in the Garden of Good and Evil (1997)|01-Jan-1997||http://us.imdb.com/M/title-exact?Midnight+in+the+Garden+of+Good+and+Evil+(1997)|0|0|0|0|0|1|1|0|1|0|0|0|0|1|0|0|0|0|0\n",
            "313|Titanic (1997)|01-Jan-1997||http://us.imdb.com/M/title-exact?imdb-title-120338|0|1|0|0|0|0|0|0|1|0|0|0|0|0|1|0|0|0|0\n",
            "314|3 Ninjas: High Noon At Mega Mountain (1998)|01-Jan-1997||http://us.imdb.com/M/title-exact?imdb-title-118539|0|1|0|0|1|0|0|0|0|0|0|0|0|0|0|0|0|0|0\n",
            "315|Apt Pupil (1998)|23-Oct-1998||http://us.imdb.com/Title?Apt+Pupil+(1998)|0|0|0|0|0|0|0|0|1|0|0|0|0|0|0|0|1|0|0\n",
            "316|As Good As It Gets (1997)|23-Dec-1997||http://us.imdb.com/Title?As+Good+As+It+Gets+(1997)|0|0|0|0|0|1|0|0|1|0|0|0|0|0|0|0|0|0|0\n",
            "317|In the Name of the Father (1993)|01-Jan-1993||http://us.imdb.com/M/title-exact?In%20the%20Name%20of%20the%20Father%20(1993)|0|0|0|0|0|0|0|0|1|0|0|0|0|0|0|0|0|0|0\n",
            "318|Schindler's List (1993)|01-Jan-1993||http://us.imdb.com/M/title-exact?Schindler's%20List%20(1993)|0|0|0|0|0|0|0|0|1|0|0|0|0|0|0|0|0|1|0\n",
            "319|Everyone Says I Love You (1996)|06-Dec-1996||http://us.imdb.com/M/title-exact?Everyone%20Says%20I%20Love%20You%20(1996)|0|0|0|0|0|1|0|0|0|0|0|0|1|0|1|0|0|0|0\n",
            "320|Paradise Lost: The Child Murders at Robin Hood Hills (1996)|06-Dec-1996||http://us.imdb.com/M/title-exact?Paradise%20Lost%3a%20The%20Child%20Murders%20at%20Robin%20Hood%20Hills%20(1996)|0|0|0|0|0|0|0|1|0|0|0|0|0|0|0|0|0|0|0\n",
            "321|Mother (1996)|25-Dec-1996||http://us.imdb.com/M/title-exact?Mother%20(1996/I)|0|0|0|0|0|1|0|0|0|0|0|0|0|0|0|0|0|0|0\n",
            "322|Murder at 1600 (1997)|18-Apr-1997||http://us.imdb.com/M/title-exact?Murder%20at%201600%20(1997)|0|0|0|0|0|0|0|0|0|0|0|0|0|1|0|0|1|0|0\n",
            "323|Dante's Peak (1997)|07-Feb-1997||http://us.imdb.com/M/title-exact?Dante's%20Peak%20(1997)|0|1|0|0|0|0|0|0|0|0|0|0|0|0|0|0|1|0|0\n",
            "324|Lost Highway (1997)|21-Feb-1997||http://us.imdb.com/Title?Lost+Highway+(1997)|0|0|0|0|0|0|0|0|0|0|0|0|0|1|0|0|0|0|0\n",
            "325|Crash (1996)|21-Mar-1997||http://us.imdb.com/M/title-exact?Crash%20(1996)|0|0|0|0|0|0|0|0|1|0|0|0|0|0|0|0|1|0|0\n",
            "326|G.I. Jane (1997)|01-Jan-1997||http://us.imdb.com/M/title-exact?G%2EI%2E+Jane+(1997)|0|1|0|0|0|0|0|0|1|0|0|0|0|0|0|0|0|1|0\n",
            "327|Cop Land (1997)|01-Jan-1997||http://us.imdb.com/M/title-exact?Cop+Land+(1997)|0|0|0|0|0|0|1|0|1|0|0|0|0|1|0|0|0|0|0\n",
            "328|Conspiracy Theory (1997)|08-Aug-1997||http://us.imdb.com/M/title-exact?Conspiracy+Theory+(1997)|0|1|0|0|0|0|0|0|0|0|0|0|0|1|1|0|1|0|0\n",
            "329|Desperate Measures (1998)|30-Jan-1998||http://us.imdb.com/Title?Desperate+Measures+(1998)|0|0|0|0|0|0|1|0|1|0|0|0|0|0|0|0|1|0|0\n",
            "330|187 (1997)|01-Jan-1997||http://us.imdb.com/M/title-exact?187+(1997)|0|0|0|0|0|0|0|0|1|0|0|0|0|0|0|0|0|0|0\n",
            "331|Edge, The (1997)|26-Sep-1997||http://us.imdb.com/M/title-exact?Edge%2C+The+(1997/I)|0|0|1|0|0|0|0|0|0|0|0|0|0|0|0|0|1|0|0\n",
            "332|Kiss the Girls (1997)|01-Jan-1997||http://us.imdb.com/M/title-exact?Kiss+the+Girls+(1997)|0|0|0|0|0|0|1|0|1|0|0|0|0|0|0|0|1|0|0\n",
            "333|Game, The (1997)|01-Jan-1997||http://us.imdb.com/M/title-exact?Game%2C+The+(1997)|0|0|0|0|0|0|0|0|0|0|0|0|0|1|0|0|1|0|0\n",
            "334|U Turn (1997)|01-Jan-1997||http://us.imdb.com/Title?U+Turn+(1997)|0|1|0|0|0|0|1|0|0|0|0|0|0|1|0|0|0|0|0\n",
            "335|How to Be a Player (1997)|01-Jan-1997||http://us.imdb.com/M/title-exact?How+to+Be+a+Player+(1997)|0|0|0|0|0|1|0|0|0|0|0|0|0|0|0|0|0|0|0\n",
            "336|Playing God (1997)|01-Jan-1997||http://us.imdb.com/M/title-exact?Playing+God+(1997)|0|0|0|0|0|0|1|0|0|0|0|0|0|0|0|0|1|0|0\n",
            "337|House of Yes, The (1997)|01-Jan-1997||http://us.imdb.com/M/title-exact?House+of+Yes,+The+(1997)|0|0|0|0|0|1|0|0|1|0|0|0|0|0|0|0|1|0|0\n",
            "338|Bean (1997)|01-Jan-1997||http://us.imdb.com/M/title-exact?Bean+(1997)|0|0|0|0|0|1|0|0|0|0|0|0|0|0|0|0|0|0|0\n",
            "339|Mad City (1997)|01-Jan-1997||http://us.imdb.com/M/title-exact?Mad+City+(1997)|0|1|0|0|0|0|0|0|1|0|0|0|0|0|0|0|0|0|0\n",
            "340|Boogie Nights (1997)|01-Jan-1997||http://us.imdb.com/M/title-exact?Boogie+Nights+(1997)|0|0|0|0|0|0|0|0|1|0|0|0|0|0|0|0|0|0|0\n",
            "341|Critical Care (1997)|01-Jan-1997||http://us.imdb.com/M/title-exact?Critical+Care+(1997)|0|0|0|0|0|1|0|0|0|0|0|0|0|0|0|0|0|0|0\n",
            "342|Man Who Knew Too Little, The (1997)|01-Jan-1997||http://us.imdb.com/M/title-exact?Man+Who+Knew+Too+Little%2C+The+(1997)|0|0|0|0|0|1|0|0|0|0|0|0|0|1|0|0|0|0|0\n",
            "343|Alien: Resurrection (1997)|01-Jan-1997||http://us.imdb.com/M/title-exact?Alien%3A+Resurrection+(1997)|0|1|0|0|0|0|0|0|0|0|0|1|0|0|0|1|0|0|0\n",
            "344|Apostle, The (1997)|18-Dec-1997||http://us.imdb.com/M/title-exact?imdb-title-118632|0|0|0|0|0|0|0|0|1|0|0|0|0|0|0|0|0|0|0\n",
            "345|Deconstructing Harry (1997)|01-Jan-1997||http://us.imdb.com/M/title-exact?imdb-title-118954|0|0|0|0|0|1|0|0|1|0|0|0|0|0|0|0|0|0|0\n",
            "346|Jackie Brown (1997)|01-Jan-1997||http://us.imdb.com/M/title-exact?imdb-title-119396|0|0|0|0|0|0|1|0|1|0|0|0|0|0|0|0|0|0|0\n",
            "347|Wag the Dog (1997)|09-Jan-1998||http://us.imdb.com/M/title-exact?imdb-title-120885|0|0|0|0|0|1|0|0|1|0|0|0|0|0|0|0|0|0|0\n",
            "348|Desperate Measures (1998)|30-Jan-1998||http://us.imdb.com/Title?Desperate+Measures+(1998)|0|0|0|0|0|0|1|0|1|0|0|0|0|0|0|0|1|0|0\n",
            "349|Hard Rain (1998)|16-Jan-1998||http://us.imdb.com/M/title-exact?imdb-title-120696|0|1|0|0|0|0|0|0|0|0|0|0|0|0|0|0|1|0|0\n",
            "350|Fallen (1998)|16-Jan-1998||http://us.imdb.com/Title?Fallen+(1998)|0|1|0|0|0|0|0|0|0|0|0|0|0|1|0|0|1|0|0\n",
            "351|Prophecy II, The (1998)|16-Jan-1998||http://us.imdb.com/M/title-exact?imdb-title-119959|0|0|0|0|0|0|0|0|0|0|0|1|0|0|0|0|0|0|0\n",
            "352|Spice World (1997)|01-Jan-1997||http://us.imdb.com/M/title-exact?imdb-title-120185|0|0|0|0|0|1|0|0|0|0|0|0|1|0|0|0|0|0|0\n",
            "353|Deep Rising (1998)|30-Jan-1998||http://us.imdb.com/M/title-exact?imdb-title-118956|0|1|0|0|0|0|0|0|0|0|0|1|0|0|0|1|0|0|0\n",
            "354|Wedding Singer, The (1998)|13-Feb-1998||http://us.imdb.com/M/title-exact?Wedding+Singer%2C+The+(1998)|0|0|0|0|0|1|0|0|0|0|0|0|0|0|1|0|0|0|0\n",
            "355|Sphere (1998)|13-Feb-1998||http://us.imdb.com/M/title-exact?Sphere+(1998)|0|0|1|0|0|0|0|0|0|0|0|0|0|0|0|1|1|0|0\n",
            "356|Client, The (1994)|01-Jan-1994||http://us.imdb.com/M/title-exact?Client,%20The%20(1994)|0|0|0|0|0|0|0|0|1|0|0|0|0|1|0|0|1|0|0\n",
            "357|One Flew Over the Cuckoo's Nest (1975)|01-Jan-1975||http://us.imdb.com/M/title-exact?One%20Flew%20Over%20the%20Cuckoo's%20Nest%20(1975)|0|0|0|0|0|0|0|0|1|0|0|0|0|0|0|0|0|0|0\n",
            "358|Spawn (1997)|01-Aug-1997||http://us.imdb.com/M/title-exact?Spawn+(1997/I)|0|1|1|0|0|0|0|0|0|0|0|0|0|0|0|1|1|0|0\n",
            "359|Assignment, The (1997)|01-Jan-1997||http://us.imdb.com/M/title-exact?Assignment%2C+The+(1997)|0|0|0|0|0|0|0|0|0|0|0|0|0|0|0|0|1|0|0\n",
            "360|Wonderland (1997)|01-Jan-1997||http://us.imdb.com/M/title-exact?Wonderland+(1997)|0|0|0|0|0|0|0|1|0|0|0|0|0|0|0|0|0|0|0\n",
            "361|Incognito (1997)|01-Jan-1997||http://us.imdb.com/M/title-exact?Incognito+(1997)|0|0|0|0|0|0|1|0|0|0|0|0|0|0|0|0|1|0|0\n",
            "362|Blues Brothers 2000 (1998)|06-Feb-1998||http://us.imdb.com/M/title-exact?Blues+Brothers+2000+(1998)|0|1|0|0|0|1|0|0|0|0|0|0|1|0|0|0|0|0|0\n",
            "363|Sudden Death (1995)|01-Jan-1995||http://us.imdb.com/M/title-exact?Sudden%20Death%20(1995)|0|1|0|0|0|0|0|0|0|0|0|0|0|0|0|0|0|0|0\n",
            "364|Ace Ventura: When Nature Calls (1995)|01-Jan-1995||http://us.imdb.com/M/title-exact?Ace%20Ventura:%20When%20Nature%20Calls%20(1995)|0|0|0|0|0|1|0|0|0|0|0|0|0|0|0|0|0|0|0\n",
            "365|Powder (1995)|01-Jan-1995||http://us.imdb.com/M/title-exact?Powder%20(1995)|0|0|0|0|0|0|0|0|1|0|0|0|0|0|0|0|0|0|0\n",
            "366|Dangerous Minds (1995)|01-Jan-1995||http://us.imdb.com/M/title-exact?Dangerous%20Minds%20(1995)|0|0|0|0|0|0|0|0|1|0|0|0|0|0|0|0|0|0|0\n",
            "367|Clueless (1995)|01-Jan-1995||http://us.imdb.com/M/title-exact?Clueless%20(1995)|0|0|0|0|0|1|0|0|0|0|0|0|0|0|0|0|0|0|0\n",
            "368|Bio-Dome (1996)|01-Jan-1996||http://us.imdb.com/M/title-exact?Bio-Dome%20(1996)|0|0|0|0|0|1|0|0|0|0|0|0|0|0|0|0|0|0|0\n",
            "369|Black Sheep (1996)|02-Feb-1996||http://us.imdb.com/M/title-exact?Black%20Sheep%20(1996)|0|0|0|0|0|1|0|0|0|0|0|0|0|0|0|0|0|0|0\n",
            "370|Mary Reilly (1996)|23-Feb-1996||http://us.imdb.com/M/title-exact?Mary%20Reilly%20(1996)|0|0|0|0|0|0|0|0|1|0|0|0|0|0|0|0|1|0|0\n",
            "371|Bridges of Madison County, The (1995)|09-Feb-1996||http://us.imdb.com/M/title-exact?Bridges%20of%20Madison%20County,%20The%20(1995)|0|0|0|0|0|0|0|0|1|0|0|0|0|0|1|0|0|0|0\n",
            "372|Jeffrey (1995)|01-Jan-1995||http://us.imdb.com/M/title-exact?Jeffrey%20(1995)|0|0|0|0|0|1|0|0|0|0|0|0|0|0|0|0|0|0|0\n",
            "373|Judge Dredd (1995)|01-Jan-1995||http://us.imdb.com/M/title-exact?Judge%20Dredd%20(1995)|0|1|1|0|0|0|0|0|0|0|0|0|0|0|0|1|0|0|0\n",
            "374|Mighty Morphin Power Rangers: The Movie (1995)|01-Jan-1995||http://us.imdb.com/M/title-exact?Mighty%20Morphin%20Power%20Rangers:%20The%20Movie%20(1995)|0|1|0|0|1|0|0|0|0|0|0|0|0|0|0|0|0|0|0\n",
            "375|Showgirls (1995)|01-Jan-1995||http://us.imdb.com/M/title-exact?Showgirls%20(1995)|0|0|0|0|0|0|0|0|1|0|0|0|0|0|0|0|0|0|0\n",
            "376|Houseguest (1994)|01-Jan-1994||http://us.imdb.com/M/title-exact?Houseguest%20(1994)|0|0|0|0|0|1|0|0|0|0|0|0|0|0|0|0|0|0|0\n",
            "377|Heavyweights (1994)|01-Jan-1994||http://us.imdb.com/M/title-exact?Heavyweights%20(1994)|0|0|0|0|1|1|0|0|0|0|0|0|0|0|0|0|0|0|0\n",
            "378|Miracle on 34th Street (1994)|01-Jan-1994||http://us.imdb.com/M/title-exact?Miracle%20on%2034th%20Street%20(1994)|0|0|0|0|0|0|0|0|1|0|0|0|0|0|0|0|0|0|0\n",
            "379|Tales From the Crypt Presents: Demon Knight (1995)|01-Jan-1995||http://us.imdb.com/M/title-exact?Tales%20From%20the%20Crypt%20Presents:%20Demon%20Knight%20(1995)|0|0|0|0|0|0|0|0|0|0|0|1|0|0|0|0|0|0|0\n",
            "380|Star Trek: Generations (1994)|01-Jan-1994||http://us.imdb.com/M/title-exact?Star%20Trek:%20Generations%20(1994)|0|1|1|0|0|0|0|0|0|0|0|0|0|0|0|1|0|0|0\n",
            "381|Muriel's Wedding (1994)|01-Jan-1994||http://us.imdb.com/M/title-exact?Muriel's%20Wedding%20(1994)|0|0|0|0|0|1|0|0|0|0|0|0|0|0|1|0|0|0|0\n",
            "382|Adventures of Priscilla, Queen of the Desert, The (1994)|01-Jan-1994||http://us.imdb.com/M/title-exact?Adventures%20of%20Priscilla,%20Queen%20of%20the%20Desert,%20The%20(1994)|0|0|0|0|0|1|0|0|1|0|0|0|0|0|0|0|0|0|0\n",
            "383|Flintstones, The (1994)|01-Jan-1994||http://us.imdb.com/M/title-exact?Flintstones,%20The%20(1994)|0|0|0|0|1|1|0|0|0|0|0|0|0|0|0|0|0|0|0\n",
            "384|Naked Gun 33 1/3: The Final Insult (1994)|01-Jan-1994||http://us.imdb.com/M/title-exact?Naked%20Gun%2033%201/3:%20The%20Final%20Insult%20(1994)|0|0|0|0|0|1|0|0|0|0|0|0|0|0|0|0|0|0|0\n",
            "385|True Lies (1994)|01-Jan-1994||http://us.imdb.com/M/title-exact?True%20Lies%20(1994)|0|1|1|0|0|1|0|0|0|0|0|0|0|0|1|0|0|0|0\n",
            "386|Addams Family Values (1993)|01-Jan-1993||http://us.imdb.com/M/title-exact?Addams%20Family%20Values%20(1993)|0|0|0|0|0|1|0|0|0|0|0|0|0|0|0|0|0|0|0\n",
            "387|Age of Innocence, The (1993)|01-Jan-1993||http://us.imdb.com/M/title-exact?Age%20of%20Innocence,%20The%20(1993)|0|0|0|0|0|0|0|0|1|0|0|0|0|0|0|0|0|0|0\n",
            "388|Beverly Hills Cop III (1994)|01-Jan-1994||http://us.imdb.com/M/title-exact?Beverly%20Hills%20Cop%20III%20(1994)|0|1|0|0|0|1|0|0|0|0|0|0|0|0|0|0|0|0|0\n",
            "389|Black Beauty (1994)|01-Jan-1994||http://us.imdb.com/Title?Black+Beauty+(1994/I)|0|0|1|0|1|0|0|0|0|0|0|0|0|0|0|0|0|0|0\n",
            "390|Fear of a Black Hat (1993)|01-Jan-1993||http://us.imdb.com/M/title-exact?Fear%20of%20a%20Black%20Hat%20(1993)|0|0|0|0|0|1|0|0|0|0|0|0|0|0|0|0|0|0|0\n",
            "391|Last Action Hero (1993)|01-Jan-1993||http://us.imdb.com/M/title-exact?Last%20Action%20Hero%20(1993)|0|1|0|0|0|1|0|0|0|0|0|0|0|0|0|0|0|0|0\n",
            "392|Man Without a Face, The (1993)|01-Jan-1993||http://us.imdb.com/M/title-exact?Man%20Without%20a%20Face,%20The%20(1993)|0|0|0|0|0|0|0|0|1|0|0|0|0|0|0|0|0|0|0\n",
            "393|Mrs. Doubtfire (1993)|01-Jan-1993||http://us.imdb.com/M/title-exact?Mrs.%20Doubtfire%20(1993)|0|0|0|0|0|1|0|0|0|0|0|0|0|0|0|0|0|0|0\n",
            "394|Radioland Murders (1994)|01-Jan-1994||http://us.imdb.com/M/title-exact?Radioland%20Murders%20(1994)|0|0|0|0|0|1|0|0|0|0|0|0|0|1|1|0|0|0|0\n",
            "395|Robin Hood: Men in Tights (1993)|01-Jan-1993||http://us.imdb.com/M/title-exact?Robin%20Hood:%20Men%20in%20Tights%20(1993)|0|0|0|0|0|1|0|0|0|0|0|0|0|0|0|0|0|0|0\n",
            "396|Serial Mom (1994)|01-Jan-1994||http://us.imdb.com/M/title-exact?Serial%20Mom%20(1994)|0|0|0|0|0|1|1|0|0|0|0|1|0|0|0|0|0|0|0\n",
            "397|Striking Distance (1993)|01-Jan-1993||http://us.imdb.com/M/title-exact?Striking%20Distance%20(1993)|0|1|0|0|0|0|0|0|0|0|0|0|0|0|0|0|0|0|0\n",
            "398|Super Mario Bros. (1993)|01-Jan-1993||http://us.imdb.com/M/title-exact?Super%20Mario%20Bros.%20(1993)|0|1|1|0|1|0|0|0|0|0|0|0|0|0|0|1|0|0|0\n",
            "399|Three Musketeers, The (1993)|01-Jan-1993||http://us.imdb.com/M/title-exact?Three%20Musketeers,%20The%20(1993)|0|1|1|0|0|1|0|0|0|0|0|0|0|0|0|0|0|0|0\n",
            "400|Little Rascals, The (1994)|01-Jan-1994||http://us.imdb.com/M/title-exact?Little%20Rascals,%20The%20(1994)|0|0|0|0|1|1|0|0|0|0|0|0|0|0|0|0|0|0|0\n",
            "401|Brady Bunch Movie, The (1995)|01-Jan-1995||http://us.imdb.com/M/title-exact?Brady%20Bunch%20Movie,%20The%20(1995)|0|0|0|0|0|1|0|0|0|0|0|0|0|0|0|0|0|0|0\n",
            "402|Ghost (1990)|01-Jan-1990||http://us.imdb.com/M/title-exact?Ghost%20(1990)|0|0|0|0|0|1|0|0|0|0|0|0|0|0|1|0|1|0|0\n",
            "403|Batman (1989)|01-Jan-1989||http://us.imdb.com/M/title-exact?Batman%20(1989)|0|1|1|0|0|0|1|0|1|0|0|0|0|0|0|0|0|0|0\n",
            "404|Pinocchio (1940)|01-Jan-1940||http://us.imdb.com/M/title-exact?Pinocchio%20(1940)|0|0|0|1|1|0|0|0|0|0|0|0|0|0|0|0|0|0|0\n",
            "405|Mission: Impossible (1996)|22-May-1996||http://us.imdb.com/M/title-exact?Mission:%20Impossible%20(1996)|0|1|1|0|0|0|0|0|0|0|0|0|0|1|0|0|0|0|0\n",
            "406|Thinner (1996)|25-Oct-1996||http://us.imdb.com/M/title-exact?Thinner%20(1996)|0|0|0|0|0|0|0|0|0|0|0|1|0|0|0|0|1|0|0\n",
            "407|Spy Hard (1996)|24-May-1996||http://us.imdb.com/M/title-exact?Spy%20Hard%20(1996)|0|0|0|0|0|1|0|0|0|0|0|0|0|0|0|0|0|0|0\n",
            "408|Close Shave, A (1995)|28-Apr-1996||http://us.imdb.com/M/title-exact?Close%20Shave,%20A%20(1995)|0|0|0|1|0|1|0|0|0|0|0|0|0|0|0|0|1|0|0\n",
            "409|Jack (1996)|07-Aug-1996||http://us.imdb.com/M/title-exact?Jack%20(1996)|0|0|0|0|0|1|0|0|1|0|0|0|0|0|0|0|0|0|0\n",
            "410|Kingpin (1996)|12-Jul-1996||http://us.imdb.com/M/title-exact?Kingpin%20(1996)|0|0|0|0|0|1|0|0|0|0|0|0|0|0|0|0|0|0|0\n",
            "411|Nutty Professor, The (1996)|28-Jun-1996||http://us.imdb.com/M/title-exact?Nutty%20Professor,%20The%20(1996)|0|0|0|0|0|1|0|0|0|1|0|0|0|0|1|1|0|0|0\n",
            "412|Very Brady Sequel, A (1996)|23-Aug-1996||http://us.imdb.com/M/title-exact?Very%20Brady%20Sequel,%20A%20(1996)|0|0|0|0|0|1|0|0|0|0|0|0|0|0|0|0|0|0|0\n",
            "413|Tales from the Crypt Presents: Bordello of Blood (1996)|19-Jul-1996||http://us.imdb.com/M/title-exact?Tales%20from%20the%20Crypt%20Presents:%20Bordello%20of%20Blood%20(1996)|0|0|0|0|0|0|0|0|0|0|0|1|0|0|0|0|0|0|0\n",
            "414|My Favorite Year (1982)|01-Jan-1982||http://us.imdb.com/M/title-exact?My%20Favorite%20Year%20(1982)|0|0|0|0|0|1|0|0|0|0|0|0|0|0|0|0|0|0|0\n",
            "415|Apple Dumpling Gang, The (1975)|01-Jan-1975||http://us.imdb.com/M/title-exact?Apple%20Dumpling%20Gang,%20The%20(1975)|0|0|0|0|1|1|0|0|0|0|0|0|0|0|0|0|0|0|1\n",
            "416|Old Yeller (1957)|01-Jan-1957||http://us.imdb.com/M/title-exact?Old%20Yeller%20(1957)|0|0|0|0|1|0|0|0|1|0|0|0|0|0|0|0|0|0|0\n",
            "417|Parent Trap, The (1961)|01-Jan-1961||http://us.imdb.com/M/title-exact?Parent%20Trap,%20The%20(1961)|0|0|0|0|1|0|0|0|1|0|0|0|0|0|0|0|0|0|0\n",
            "418|Cinderella (1950)|01-Jan-1950||http://us.imdb.com/M/title-exact?Cinderella%20(1950)|0|0|0|1|1|0|0|0|0|0|0|0|1|0|0|0|0|0|0\n",
            "419|Mary Poppins (1964)|01-Jan-1964||http://us.imdb.com/M/title-exact?Mary%20Poppins%20(1964)|0|0|0|0|1|1|0|0|0|0|0|0|1|0|0|0|0|0|0\n",
            "420|Alice in Wonderland (1951)|01-Jan-1951||http://us.imdb.com/M/title-exact?Alice%20in%20Wonderland%20(1951)|0|0|0|1|1|0|0|0|0|0|0|0|1|0|0|0|0|0|0\n",
            "421|William Shakespeare's Romeo and Juliet (1996)|25-Oct-1996||http://us.imdb.com/Title?Romeo+%2B+Juliet+(1996)|0|0|0|0|0|0|0|0|1|0|0|0|0|0|1|0|0|0|0\n",
            "422|Aladdin and the King of Thieves (1996)|01-Jan-1996||http://us.imdb.com/M/title-exact?Aladdin%20and%20the%20King%20of%20Thieves%20(1996)%20(V)|0|0|0|1|1|1|0|0|0|0|0|0|0|0|0|0|0|0|0\n",
            "423|E.T. the Extra-Terrestrial (1982)|01-Jan-1982||http://us.imdb.com/M/title-exact?E%2ET%2E%20the%20Extra-Terrestrial%20%281982%29|0|0|0|0|1|0|0|0|1|1|0|0|0|0|0|1|0|0|0\n",
            "424|Children of the Corn: The Gathering (1996)|01-Jan-1996||http://us.imdb.com/M/title-exact?Children%20of%20the%20Corn%3A%20The%20Gathering%20%281996%29|0|0|0|0|0|0|0|0|0|0|0|1|0|0|0|0|0|0|0\n",
            "425|Bob Roberts (1992)|01-Jan-1992||http://us.imdb.com/M/title-exact?Bob%20Roberts%20(1992)|0|0|0|0|0|1|0|0|0|0|0|0|0|0|0|0|0|0|0\n",
            "426|Transformers: The Movie, The (1986)|01-Jan-1986||http://us.imdb.com/M/title-exact?Transformers:%20The%20Movie,%20The%20(1986)|0|1|0|1|1|0|0|0|0|0|0|0|0|0|0|1|1|1|0\n",
            "427|To Kill a Mockingbird (1962)|01-Jan-1962||http://us.imdb.com/M/title-exact?To%20Kill%20a%20Mockingbird%20(1962)|0|0|0|0|0|0|0|0|1|0|0|0|0|0|0|0|0|0|0\n",
            "428|Harold and Maude (1971)|01-Jan-1971||http://us.imdb.com/M/title-exact?Harold%20and%20Maude%20(1971)|0|0|0|0|0|1|0|0|0|0|0|0|0|0|0|0|0|0|0\n",
            "429|Day the Earth Stood Still, The (1951)|01-Jan-1951||http://us.imdb.com/M/title-exact?Day%20the%20Earth%20Stood%20Still,%20The%20(1951)|0|0|0|0|0|0|0|0|1|0|0|0|0|0|0|1|0|0|0\n",
            "430|Duck Soup (1933)|01-Jan-1933||http://us.imdb.com/M/title-exact?Duck%20Soup%20(1933)|0|0|0|0|0|1|0|0|0|0|0|0|0|0|0|0|0|1|0\n",
            "431|Highlander (1986)|01-Jan-1986||http://us.imdb.com/M/title-exact?Highlander%20(1986)|0|1|1|0|0|0|0|0|0|0|0|0|0|0|0|0|0|0|0\n",
            "432|Fantasia (1940)|01-Jan-1940||http://us.imdb.com/M/title-exact?Fantasia%20(1940)|0|0|0|1|1|0|0|0|0|0|0|0|1|0|0|0|0|0|0\n",
            "433|Heathers (1989)|01-Jan-1989||http://us.imdb.com/M/title-exact?Heathers%20(1989)|0|0|0|0|0|1|0|0|0|0|0|0|0|0|0|0|0|0|0\n",
            "434|Forbidden Planet (1956)|01-Jan-1956||http://us.imdb.com/M/title-exact?Forbidden%20Planet%20(1956)|0|0|0|0|0|0|0|0|0|0|0|0|0|0|0|1|0|0|0\n",
            "435|Butch Cassidy and the Sundance Kid (1969)|01-Jan-1969||http://us.imdb.com/M/title-exact?Butch%20Cassidy%20and%20the%20Sundance%20Kid%20(1969)|0|1|0|0|0|1|0|0|0|0|0|0|0|0|0|0|0|0|1\n",
            "436|American Werewolf in London, An (1981)|01-Jan-1981||http://us.imdb.com/M/title-exact?American%20Werewolf%20in%20London,%20An%20(1981)|0|0|0|0|0|0|0|0|0|0|0|1|0|0|0|0|0|0|0\n",
            "437|Amityville 1992: It's About Time (1992)|01-Jan-1992||http://us.imdb.com/M/title-exact?Amityville%201992:%20It's%20About%20Time%20(1992)|0|0|0|0|0|0|0|0|0|0|0|1|0|0|0|0|0|0|0\n",
            "438|Amityville 3-D (1983)|01-Jan-1983||http://us.imdb.com/M/title-exact?Amityville%203-D%20(1983)|0|0|0|0|0|0|0|0|0|0|0|1|0|0|0|0|0|0|0\n",
            "439|Amityville: A New Generation (1993)|01-Jan-1993||http://us.imdb.com/M/title-exact?Amityville:%20A%20New%20Generation%20(1993)|0|0|0|0|0|0|0|0|0|0|0|1|0|0|0|0|0|0|0\n",
            "440|Amityville II: The Possession (1982)|01-Jan-1982||http://us.imdb.com/M/title-exact?Amityville%20II:%20The%20Possession%20(1982)|0|0|0|0|0|0|0|0|0|0|0|1|0|0|0|0|0|0|0\n",
            "441|Amityville Horror, The (1979)|01-Jan-1979||http://us.imdb.com/M/title-exact?Amityville%20Horror,%20The%20(1979)|0|0|0|0|0|0|0|0|0|0|0|1|0|0|0|0|0|0|0\n",
            "442|Amityville Curse, The (1990)|01-Jan-1990||http://us.imdb.com/M/title-exact?Amityville%20Curse,%20The%20(1990)|0|0|0|0|0|0|0|0|0|0|0|1|0|0|0|0|0|0|0\n",
            "443|Birds, The (1963)|01-Jan-1963||http://us.imdb.com/M/title-exact?Birds,%20The%20(1963)|0|0|0|0|0|0|0|0|0|0|0|1|0|0|0|0|0|0|0\n",
            "444|Blob, The (1958)|01-Jan-1958||http://us.imdb.com/M/title-exact?Blob,%20The%20(1958)|0|0|0|0|0|0|0|0|0|0|0|1|0|0|0|1|0|0|0\n",
            "445|Body Snatcher, The (1945)|01-Jan-1945||http://us.imdb.com/M/title-exact?Body%20Snatcher,%20The%20(1945)|0|0|0|0|0|0|0|0|0|0|0|1|0|0|0|0|0|0|0\n",
            "446|Burnt Offerings (1976)|01-Jan-1976||http://us.imdb.com/M/title-exact?Burnt%20Offerings%20(1976)|0|0|0|0|0|0|0|0|0|0|0|1|0|0|0|0|0|0|0\n",
            "447|Carrie (1976)|01-Jan-1976||http://us.imdb.com/M/title-exact?Carrie%20(1976)|0|0|0|0|0|0|0|0|0|0|0|1|0|0|0|0|0|0|0\n",
            "448|Omen, The (1976)|01-Jan-1976||http://us.imdb.com/M/title-exact?Omen,%20The%20(1976)|0|0|0|0|0|0|0|0|0|0|0|1|0|0|0|0|0|0|0\n",
            "449|Star Trek: The Motion Picture (1979)|01-Jan-1979||http://us.imdb.com/M/title-exact?Star%20Trek:%20The%20Motion%20Picture%20(1979)|0|1|1|0|0|0|0|0|0|0|0|0|0|0|0|1|0|0|0\n",
            "450|Star Trek V: The Final Frontier (1989)|01-Jan-1989||http://us.imdb.com/M/title-exact?Star%20Trek%20V:%20The%20Final%20Frontier%20(1989)|0|1|1|0|0|0|0|0|0|0|0|0|0|0|0|1|0|0|0\n",
            "451|Grease (1978)|01-Jan-1978||http://us.imdb.com/M/title-exact?Grease%20(1978)|0|0|0|0|0|1|0|0|0|0|0|0|1|0|1|0|0|0|0\n",
            "452|Jaws 2 (1978)|01-Jan-1978||http://us.imdb.com/M/title-exact?Jaws%202%20(1978)|0|1|0|0|0|0|0|0|0|0|0|1|0|0|0|0|0|0|0\n",
            "453|Jaws 3-D (1983)|01-Jan-1983||http://us.imdb.com/M/title-exact?Jaws%203-D%20(1983)|0|1|0|0|0|0|0|0|0|0|0|1|0|0|0|0|0|0|0\n",
            "454|Bastard Out of Carolina (1996)|15-Dec-1996||http://us.imdb.com/M/title-exact?Bastard%20Out%20of%20Carolina%20(1996)|0|0|0|0|0|0|0|0|1|0|0|0|0|0|0|0|0|0|0\n",
            "455|Jackie Chan's First Strike (1996)|10-Jan-1997||http://us.imdb.com/M/title-exact?Police%20Story%204:%20First%20Strike%20(1996)|0|1|0|0|0|0|0|0|0|0|0|0|0|0|0|0|0|0|0\n",
            "456|Beverly Hills Ninja (1997)|17-Jan-1997||http://us.imdb.com/M/title-exact?Beverly%20Hills%20Ninja%20(1997)|0|1|0|0|0|1|0|0|0|0|0|0|0|0|0|0|0|0|0\n",
            "457|Free Willy 3: The Rescue (1997)|08-Aug-1997||http://us.imdb.com/M/title-exact?Free+Willy+3%3A+The+Rescue+(1997)|0|0|1|0|1|0|0|0|1|0|0|0|0|0|0|0|0|0|0\n",
            "458|Nixon (1995)|01-Jan-1995||http://us.imdb.com/M/title-exact?Nixon%20(1995)|0|0|0|0|0|0|0|0|1|0|0|0|0|0|0|0|0|0|0\n",
            "459|Cry, the Beloved Country (1995)|01-Jan-1995||http://us.imdb.com/M/title-exact?Cry,%20the%20Beloved%20Country%20(1995)|0|0|0|0|0|0|0|0|1|0|0|0|0|0|0|0|0|0|0\n",
            "460|Crossing Guard, The (1995)|01-Jan-1995||http://us.imdb.com/M/title-exact?Crossing%20Guard,%20The%20(1995)|0|0|0|0|0|0|0|0|1|0|0|0|0|0|0|0|0|0|0\n",
            "461|Smoke (1995)|01-Jan-1995||http://us.imdb.com/M/title-exact?Smoke%20(1995)|0|0|0|0|0|0|0|0|1|0|0|0|0|0|0|0|0|0|0\n",
            "462|Like Water For Chocolate (Como agua para chocolate) (1992)|01-Jan-1992||http://us.imdb.com/M/title-exact?Como%20agua%20para%20chocolate%20(1992)|0|0|0|0|0|0|0|0|1|0|0|0|0|0|1|0|0|0|0\n",
            "463|Secret of Roan Inish, The (1994)|01-Jan-1994||http://us.imdb.com/M/title-exact?Secret%20of%20Roan%20Inish,%20The%20(1994)|0|0|1|0|0|0|0|0|0|0|0|0|0|0|0|0|0|0|0\n",
            "464|Vanya on 42nd Street (1994)|01-Jan-1994||http://us.imdb.com/M/title-exact?Vanya%20on%2042nd%20Street%20(1994)|0|0|0|0|0|0|0|0|1|0|0|0|0|0|0|0|0|0|0\n",
            "465|Jungle Book, The (1994)|01-Jan-1994||http://us.imdb.com/M/title-exact?Jungle%20Book,%20The%20(1994)|0|0|1|0|1|0|0|0|0|0|0|0|0|0|1|0|0|0|0\n",
            "466|Red Rock West (1992)|01-Jan-1992||http://us.imdb.com/M/title-exact?Red%20Rock%20West%20(1992)|0|0|0|0|0|0|0|0|0|0|0|0|0|0|0|0|1|0|0\n",
            "467|Bronx Tale, A (1993)|01-Jan-1993||http://us.imdb.com/M/title-exact?Bronx%20Tale,%20A%20(1993)|0|0|0|0|0|0|0|0|1|0|0|0|0|0|0|0|0|0|0\n",
            "468|Rudy (1993)|01-Jan-1993||http://us.imdb.com/M/title-exact?Rudy%20(1993)|0|0|0|0|0|0|0|0|1|0|0|0|0|0|0|0|0|0|0\n",
            "469|Short Cuts (1993)|01-Jan-1993||http://us.imdb.com/M/title-exact?Short%20Cuts%20(1993)|0|0|0|0|0|0|0|0|1|0|0|0|0|0|0|0|0|0|0\n",
            "470|Tombstone (1993)|01-Jan-1993||http://us.imdb.com/M/title-exact?Tombstone%20(1993)|0|0|0|0|0|0|0|0|0|0|0|0|0|0|0|0|0|0|1\n",
            "471|Courage Under Fire (1996)|08-Mar-1996||http://us.imdb.com/M/title-exact?Courage%20Under%20Fire%20(1996)|0|0|0|0|0|0|0|0|1|0|0|0|0|0|0|0|0|1|0\n",
            "472|Dragonheart (1996)|31-May-1996||http://us.imdb.com/M/title-exact?Dragonheart%20(1996)|0|1|1|0|0|0|0|0|0|1|0|0|0|0|0|0|0|0|0\n",
            "473|James and the Giant Peach (1996)|12-Apr-1996||http://us.imdb.com/M/title-exact?James%20and%20the%20Giant%20Peach%20(1996)|0|0|0|1|1|0|0|0|0|0|0|0|1|0|0|0|0|0|0\n",
            "474|Dr. Strangelove or: How I Learned to Stop Worrying and Love the Bomb (1963)|01-Jan-1963||http://us.imdb.com/M/title-exact?Dr.%20Strangelove%20or:%20How%20I%20Learned%20to%20Stop%20Worrying%20and%20Love%20the%20Bomb%20(1963)|0|0|0|0|0|0|0|0|0|0|0|0|0|0|0|1|0|1|0\n",
            "475|Trainspotting (1996)|19-Jul-1996||http://us.imdb.com/Title?Trainspotting+(1996)|0|0|0|0|0|0|0|0|1|0|0|0|0|0|0|0|0|0|0\n",
            "476|First Wives Club, The (1996)|14-Sep-1996||http://us.imdb.com/M/title-exact?First%20Wives%20Club,%20The%20(1996)|0|0|0|0|0|1|0|0|0|0|0|0|0|0|0|0|0|0|0\n",
            "477|Matilda (1996)|02-Aug-1996||http://us.imdb.com/M/title-exact?Matilda%20(1996)|0|0|0|0|1|1|0|0|0|0|0|0|0|0|0|0|0|0|0\n",
            "478|Philadelphia Story, The (1940)|01-Jan-1940||http://us.imdb.com/M/title-exact?Philadelphia%20Story,%20The%20(1940)|0|0|0|0|0|1|0|0|0|0|0|0|0|0|1|0|0|0|0\n",
            "479|Vertigo (1958)|01-Jan-1958||http://us.imdb.com/M/title-exact?Vertigo%20(1958)|0|0|0|0|0|0|0|0|0|0|0|0|0|1|0|0|1|0|0\n",
            "480|North by Northwest (1959)|01-Jan-1959||http://us.imdb.com/M/title-exact?North%20by%20Northwest%20(1959)|0|0|0|0|0|1|0|0|0|0|0|0|0|0|0|0|1|0|0\n",
            "481|Apartment, The (1960)|01-Jan-1960||http://us.imdb.com/M/title-exact?Apartment,%20The%20(1960)|0|0|0|0|0|1|0|0|1|0|0|0|0|0|0|0|0|0|0\n",
            "482|Some Like It Hot (1959)|01-Jan-1959||http://us.imdb.com/M/title-exact?Some%20Like%20It%20Hot%20(1959)|0|0|0|0|0|1|1|0|0|0|0|0|0|0|0|0|0|0|0\n",
            "483|Casablanca (1942)|01-Jan-1942||http://us.imdb.com/M/title-exact?Casablanca%20(1942)|0|0|0|0|0|0|0|0|1|0|0|0|0|0|1|0|0|1|0\n",
            "484|Maltese Falcon, The (1941)|01-Jan-1941||http://us.imdb.com/M/title-exact?Maltese%20Falcon,%20The%20(1941)|0|0|0|0|0|0|0|0|0|0|1|0|0|1|0|0|0|0|0\n",
            "485|My Fair Lady (1964)|01-Jan-1964||http://us.imdb.com/M/title-exact?My%20Fair%20Lady%20(1964)|0|0|0|0|0|0|0|0|0|0|0|0|1|0|1|0|0|0|0\n",
            "486|Sabrina (1954)|01-Jan-1954||http://us.imdb.com/M/title-exact?Sabrina%20(1954)|0|0|0|0|0|1|0|0|0|0|0|0|0|0|1|0|0|0|0\n",
            "487|Roman Holiday (1953)|01-Jan-1953||http://us.imdb.com/M/title-exact?Roman%20Holiday%20(1953)|0|0|0|0|0|1|0|0|0|0|0|0|0|0|1|0|0|0|0\n",
            "488|Sunset Blvd. (1950)|01-Jan-1950||http://us.imdb.com/M/title-exact?Sunset%20Boulevard%20(1950)|0|0|0|0|0|0|0|0|0|0|1|0|0|0|0|0|0|0|0\n",
            "489|Notorious (1946)|01-Jan-1946||http://us.imdb.com/M/title-exact?Notorious%20(1946)|0|0|0|0|0|0|0|0|0|0|1|0|0|0|1|0|1|0|0\n",
            "490|To Catch a Thief (1955)|01-Jan-1955||http://us.imdb.com/M/title-exact?To%20Catch%20a%20Thief%20(1955)|0|0|0|0|0|1|0|0|0|0|0|0|0|0|1|0|1|0|0\n",
            "491|Adventures of Robin Hood, The (1938)|01-Jan-1938||http://us.imdb.com/M/title-exact?Adventures%20of%20Robin%20Hood,%20The%20(1938)|0|1|1|0|0|0|0|0|0|0|0|0|0|0|0|0|0|0|0\n",
            "492|East of Eden (1955)|01-Jan-1955||http://us.imdb.com/M/title-exact?East%20of%20Eden%20(1955)|0|0|0|0|0|0|0|0|1|0|0|0|0|0|0|0|0|0|0\n",
            "493|Thin Man, The (1934)|01-Jan-1934||http://us.imdb.com/M/title-exact?Thin%20Man,%20The%20(1934)|0|0|0|0|0|0|0|0|0|0|0|0|0|1|0|0|0|0|0\n",
            "494|His Girl Friday (1940)|01-Jan-1940||http://us.imdb.com/M/title-exact?His%20Girl%20Friday%20(1940)|0|0|0|0|0|1|0|0|0|0|0|0|0|0|0|0|0|0|0\n",
            "495|Around the World in 80 Days (1956)|01-Jan-1956||http://us.imdb.com/M/title-exact?Around%20the%20World%20in%2080%20Days%20(1956)|0|0|1|0|0|1|0|0|0|0|0|0|0|0|0|0|0|0|0\n",
            "496|It's a Wonderful Life (1946)|01-Jan-1946||http://us.imdb.com/M/title-exact?It's%20a%20Wonderful%20Life%20(1946)|0|0|0|0|0|0|0|0|1|0|0|0|0|0|0|0|0|0|0\n",
            "497|Bringing Up Baby (1938)|01-Jan-1938||http://us.imdb.com/M/title-exact?Bringing%20Up%20Baby%20(1938)|0|0|0|0|0|1|0|0|0|0|0|0|0|0|0|0|0|0|0\n",
            "498|African Queen, The (1951)|01-Jan-1951||http://us.imdb.com/M/title-exact?African%20Queen,%20The%20(1951)|0|1|1|0|0|0|0|0|0|0|0|0|0|0|1|0|0|1|0\n",
            "499|Cat on a Hot Tin Roof (1958)|01-Jan-1958||http://us.imdb.com/M/title-exact?Cat%20on%20a%20Hot%20Tin%20Roof%20(1958)|0|0|0|0|0|0|0|0|1|0|0|0|0|0|0|0|0|0|0\n",
            "500|Fly Away Home (1996)|13-Sep-1996||http://us.imdb.com/M/title-exact?Fly%20Away%20Home%20(1996)|0|0|1|0|1|0|0|0|0|0|0|0|0|0|0|0|0|0|0\n",
            "501|Dumbo (1941)|01-Jan-1941||http://us.imdb.com/M/title-exact?Dumbo%20(1941)|0|0|0|1|1|0|0|0|0|0|0|0|1|0|0|0|0|0|0\n",
            "502|Bananas (1971)|01-Jan-1971||http://us.imdb.com/M/title-exact?Bananas%20(1971)|0|0|0|0|0|1|0|0|0|0|0|0|0|0|0|0|0|1|0\n",
            "503|Candidate, The (1972)|01-Jan-1972||http://us.imdb.com/M/title-exact?Candidate,%20The%20(1972)|0|0|0|0|0|0|0|0|1|0|0|0|0|0|0|0|0|0|0\n",
            "504|Bonnie and Clyde (1967)|01-Jan-1967||http://us.imdb.com/M/title-exact?Bonnie%20and%20Clyde%20(1967)|0|0|0|0|0|0|1|0|1|0|0|0|0|0|0|0|0|0|0\n",
            "505|Dial M for Murder (1954)|01-Jan-1954||http://us.imdb.com/M/title-exact?Dial%20M%20for%20Murder%20(1954)|0|0|0|0|0|0|0|0|0|0|0|0|0|1|0|0|1|0|0\n",
            "506|Rebel Without a Cause (1955)|01-Jan-1955||http://us.imdb.com/M/title-exact?Rebel%20Without%20a%20Cause%20(1955)|0|0|0|0|0|0|0|0|1|0|0|0|0|0|0|0|0|0|0\n",
            "507|Streetcar Named Desire, A (1951)|01-Jan-1951||http://us.imdb.com/M/title-exact?Streetcar%20Named%20Desire,%20A%20(1951)|0|0|0|0|0|0|0|0|1|0|0|0|0|0|0|0|0|0|0\n",
            "508|People vs. Larry Flynt, The (1996)|27-Dec-1996||http://us.imdb.com/M/title-exact?People%20vs.%20Larry%20Flynt,%20The%20(1996)|0|0|0|0|0|0|0|0|1|0|0|0|0|0|0|0|0|0|0\n",
            "509|My Left Foot (1989)|01-Jan-1989||http://us.imdb.com/M/title-exact?My%20Left%20Foot%20(1989)|0|0|0|0|0|0|0|0|1|0|0|0|0|0|0|0|0|0|0\n",
            "510|Magnificent Seven, The (1954)|01-Jan-1954||http://us.imdb.com/M/title-exact?Shichinin%20no%20samurai%20(1954)|0|1|0|0|0|0|0|0|1|0|0|0|0|0|0|0|0|0|1\n",
            "511|Lawrence of Arabia (1962)|01-Jan-1962||http://us.imdb.com/M/title-exact?Lawrence%20of%20Arabia%20(1962)|0|0|1|0|0|0|0|0|0|0|0|0|0|0|0|0|0|1|0\n",
            "512|Wings of Desire (1987)|01-Jan-1987||http://us.imdb.com/Title?Himmel+%FCber+Berlin,+Der+(1987)|0|0|0|0|0|1|0|0|1|0|0|0|0|0|1|0|0|0|0\n",
            "513|Third Man, The (1949)|01-Jan-1949||http://us.imdb.com/M/title-exact?Third%20Man,%20The%20(1949)|0|0|0|0|0|0|0|0|0|0|0|0|0|1|0|0|1|0|0\n",
            "514|Annie Hall (1977)|01-Jan-1977||http://us.imdb.com/M/title-exact?Annie%20Hall%20(1977)|0|0|0|0|0|1|0|0|0|0|0|0|0|0|1|0|0|0|0\n",
            "515|Boot, Das (1981)|04-Apr-1997||http://us.imdb.com/M/title-exact?Boot,%20Das%20(1981)|0|1|0|0|0|0|0|0|1|0|0|0|0|0|0|0|0|1|0\n",
            "516|Local Hero (1983)|01-Jan-1983||http://us.imdb.com/M/title-exact?Local%20Hero%20(1983)|0|0|0|0|0|1|0|0|0|0|0|0|0|0|0|0|0|0|0\n",
            "517|Manhattan (1979)|01-Jan-1979||http://us.imdb.com/M/title-exact?Manhattan%20(1979)|0|0|0|0|0|1|0|0|1|0|0|0|0|0|1|0|0|0|0\n",
            "518|Miller's Crossing (1990)|01-Jan-1990||http://us.imdb.com/M/title-exact?Miller's%20Crossing%20(1990)|0|0|0|0|0|0|0|0|1|0|0|0|0|0|0|0|0|0|0\n",
            "519|Treasure of the Sierra Madre, The (1948)|01-Jan-1948||http://us.imdb.com/M/title-exact?Treasure%20of%20the%20Sierra%20Madre,%20The%20(1948)|0|0|1|0|0|0|0|0|0|0|0|0|0|0|0|0"
          ],
          "name": "stdout"
        },
        {
          "output_type": "error",
          "ename": "UnicodeDecodeError",
          "evalue": "ignored",
          "traceback": [
            "\u001b[0;31m---------------------------------------------------------------------------\u001b[0m",
            "\u001b[0;31mUnicodeDecodeError\u001b[0m                        Traceback (most recent call last)",
            "\u001b[0;32m<ipython-input-41-63a00e6190f4>\u001b[0m in \u001b[0;36m<module>\u001b[0;34m()\u001b[0m\n\u001b[0;32m----> 1\u001b[0;31m \u001b[0mget_ipython\u001b[0m\u001b[0;34m(\u001b[0m\u001b[0;34m)\u001b[0m\u001b[0;34m.\u001b[0m\u001b[0msystem\u001b[0m\u001b[0;34m(\u001b[0m\u001b[0;34m'cat u.item'\u001b[0m\u001b[0;34m)\u001b[0m\u001b[0;34m\u001b[0m\u001b[0;34m\u001b[0m\u001b[0m\n\u001b[0m",
            "\u001b[0;32m/usr/local/lib/python3.6/dist-packages/google/colab/_shell.py\u001b[0m in \u001b[0;36msystem\u001b[0;34m(self, *args, **kwargs)\u001b[0m\n\u001b[1;32m     94\u001b[0m       \u001b[0mkwargs\u001b[0m\u001b[0;34m.\u001b[0m\u001b[0mupdate\u001b[0m\u001b[0;34m(\u001b[0m\u001b[0;34m{\u001b[0m\u001b[0;34m'also_return_output'\u001b[0m\u001b[0;34m:\u001b[0m \u001b[0;32mTrue\u001b[0m\u001b[0;34m}\u001b[0m\u001b[0;34m)\u001b[0m\u001b[0;34m\u001b[0m\u001b[0;34m\u001b[0m\u001b[0m\n\u001b[1;32m     95\u001b[0m \u001b[0;34m\u001b[0m\u001b[0m\n\u001b[0;32m---> 96\u001b[0;31m     \u001b[0moutput\u001b[0m \u001b[0;34m=\u001b[0m \u001b[0m_system_commands\u001b[0m\u001b[0;34m.\u001b[0m\u001b[0m_system_compat\u001b[0m\u001b[0;34m(\u001b[0m\u001b[0mself\u001b[0m\u001b[0;34m,\u001b[0m \u001b[0;34m*\u001b[0m\u001b[0margs\u001b[0m\u001b[0;34m,\u001b[0m \u001b[0;34m**\u001b[0m\u001b[0mkwargs\u001b[0m\u001b[0;34m)\u001b[0m  \u001b[0;31m# pylint:disable=protected-access\u001b[0m\u001b[0;34m\u001b[0m\u001b[0;34m\u001b[0m\u001b[0m\n\u001b[0m\u001b[1;32m     97\u001b[0m \u001b[0;34m\u001b[0m\u001b[0m\n\u001b[1;32m     98\u001b[0m     \u001b[0;32mif\u001b[0m \u001b[0mpip_warn\u001b[0m\u001b[0;34m:\u001b[0m\u001b[0;34m\u001b[0m\u001b[0;34m\u001b[0m\u001b[0m\n",
            "\u001b[0;32m/usr/local/lib/python3.6/dist-packages/google/colab/_system_commands.py\u001b[0m in \u001b[0;36m_system_compat\u001b[0;34m(shell, cmd, also_return_output)\u001b[0m\n\u001b[1;32m    436\u001b[0m   \u001b[0;31m# stack.\u001b[0m\u001b[0;34m\u001b[0m\u001b[0;34m\u001b[0m\u001b[0;34m\u001b[0m\u001b[0m\n\u001b[1;32m    437\u001b[0m   result = _run_command(\n\u001b[0;32m--> 438\u001b[0;31m       shell.var_expand(cmd, depth=2), clear_streamed_output=False)\n\u001b[0m\u001b[1;32m    439\u001b[0m   \u001b[0mshell\u001b[0m\u001b[0;34m.\u001b[0m\u001b[0muser_ns\u001b[0m\u001b[0;34m[\u001b[0m\u001b[0;34m'_exit_code'\u001b[0m\u001b[0;34m]\u001b[0m \u001b[0;34m=\u001b[0m \u001b[0mresult\u001b[0m\u001b[0;34m.\u001b[0m\u001b[0mreturncode\u001b[0m\u001b[0;34m\u001b[0m\u001b[0;34m\u001b[0m\u001b[0m\n\u001b[1;32m    440\u001b[0m   \u001b[0;32mif\u001b[0m \u001b[0;34m-\u001b[0m\u001b[0mresult\u001b[0m\u001b[0;34m.\u001b[0m\u001b[0mreturncode\u001b[0m \u001b[0;32min\u001b[0m \u001b[0m_INTERRUPTED_SIGNALS\u001b[0m\u001b[0;34m:\u001b[0m\u001b[0;34m\u001b[0m\u001b[0;34m\u001b[0m\u001b[0m\n",
            "\u001b[0;32m/usr/local/lib/python3.6/dist-packages/google/colab/_system_commands.py\u001b[0m in \u001b[0;36m_run_command\u001b[0;34m(cmd, clear_streamed_output)\u001b[0m\n\u001b[1;32m    193\u001b[0m       \u001b[0mos\u001b[0m\u001b[0;34m.\u001b[0m\u001b[0mclose\u001b[0m\u001b[0;34m(\u001b[0m\u001b[0mchild_pty\u001b[0m\u001b[0;34m)\u001b[0m\u001b[0;34m\u001b[0m\u001b[0;34m\u001b[0m\u001b[0m\n\u001b[1;32m    194\u001b[0m \u001b[0;34m\u001b[0m\u001b[0m\n\u001b[0;32m--> 195\u001b[0;31m       \u001b[0;32mreturn\u001b[0m \u001b[0m_monitor_process\u001b[0m\u001b[0;34m(\u001b[0m\u001b[0mparent_pty\u001b[0m\u001b[0;34m,\u001b[0m \u001b[0mepoll\u001b[0m\u001b[0;34m,\u001b[0m \u001b[0mp\u001b[0m\u001b[0;34m,\u001b[0m \u001b[0mcmd\u001b[0m\u001b[0;34m,\u001b[0m \u001b[0mupdate_stdin_widget\u001b[0m\u001b[0;34m)\u001b[0m\u001b[0;34m\u001b[0m\u001b[0;34m\u001b[0m\u001b[0m\n\u001b[0m\u001b[1;32m    196\u001b[0m   \u001b[0;32mfinally\u001b[0m\u001b[0;34m:\u001b[0m\u001b[0;34m\u001b[0m\u001b[0;34m\u001b[0m\u001b[0m\n\u001b[1;32m    197\u001b[0m     \u001b[0mepoll\u001b[0m\u001b[0;34m.\u001b[0m\u001b[0mclose\u001b[0m\u001b[0;34m(\u001b[0m\u001b[0;34m)\u001b[0m\u001b[0;34m\u001b[0m\u001b[0;34m\u001b[0m\u001b[0m\n",
            "\u001b[0;32m/usr/local/lib/python3.6/dist-packages/google/colab/_system_commands.py\u001b[0m in \u001b[0;36m_monitor_process\u001b[0;34m(parent_pty, epoll, p, cmd, update_stdin_widget)\u001b[0m\n\u001b[1;32m    220\u001b[0m   \u001b[0;32mwhile\u001b[0m \u001b[0;32mTrue\u001b[0m\u001b[0;34m:\u001b[0m\u001b[0;34m\u001b[0m\u001b[0;34m\u001b[0m\u001b[0m\n\u001b[1;32m    221\u001b[0m     \u001b[0;32mtry\u001b[0m\u001b[0;34m:\u001b[0m\u001b[0;34m\u001b[0m\u001b[0;34m\u001b[0m\u001b[0m\n\u001b[0;32m--> 222\u001b[0;31m       \u001b[0mresult\u001b[0m \u001b[0;34m=\u001b[0m \u001b[0m_poll_process\u001b[0m\u001b[0;34m(\u001b[0m\u001b[0mparent_pty\u001b[0m\u001b[0;34m,\u001b[0m \u001b[0mepoll\u001b[0m\u001b[0;34m,\u001b[0m \u001b[0mp\u001b[0m\u001b[0;34m,\u001b[0m \u001b[0mcmd\u001b[0m\u001b[0;34m,\u001b[0m \u001b[0mdecoder\u001b[0m\u001b[0;34m,\u001b[0m \u001b[0mstate\u001b[0m\u001b[0;34m)\u001b[0m\u001b[0;34m\u001b[0m\u001b[0;34m\u001b[0m\u001b[0m\n\u001b[0m\u001b[1;32m    223\u001b[0m       \u001b[0;32mif\u001b[0m \u001b[0mresult\u001b[0m \u001b[0;32mis\u001b[0m \u001b[0;32mnot\u001b[0m \u001b[0;32mNone\u001b[0m\u001b[0;34m:\u001b[0m\u001b[0;34m\u001b[0m\u001b[0;34m\u001b[0m\u001b[0m\n\u001b[1;32m    224\u001b[0m         \u001b[0;32mreturn\u001b[0m \u001b[0mresult\u001b[0m\u001b[0;34m\u001b[0m\u001b[0;34m\u001b[0m\u001b[0m\n",
            "\u001b[0;32m/usr/local/lib/python3.6/dist-packages/google/colab/_system_commands.py\u001b[0m in \u001b[0;36m_poll_process\u001b[0;34m(parent_pty, epoll, p, cmd, decoder, state)\u001b[0m\n\u001b[1;32m    273\u001b[0m       \u001b[0moutput_available\u001b[0m \u001b[0;34m=\u001b[0m \u001b[0;32mTrue\u001b[0m\u001b[0;34m\u001b[0m\u001b[0;34m\u001b[0m\u001b[0m\n\u001b[1;32m    274\u001b[0m       \u001b[0mraw_contents\u001b[0m \u001b[0;34m=\u001b[0m \u001b[0mos\u001b[0m\u001b[0;34m.\u001b[0m\u001b[0mread\u001b[0m\u001b[0;34m(\u001b[0m\u001b[0mparent_pty\u001b[0m\u001b[0;34m,\u001b[0m \u001b[0m_PTY_READ_MAX_BYTES_FOR_TEST\u001b[0m\u001b[0;34m)\u001b[0m\u001b[0;34m\u001b[0m\u001b[0;34m\u001b[0m\u001b[0m\n\u001b[0;32m--> 275\u001b[0;31m       \u001b[0mdecoded_contents\u001b[0m \u001b[0;34m=\u001b[0m \u001b[0mdecoder\u001b[0m\u001b[0;34m.\u001b[0m\u001b[0mdecode\u001b[0m\u001b[0;34m(\u001b[0m\u001b[0mraw_contents\u001b[0m\u001b[0;34m)\u001b[0m\u001b[0;34m\u001b[0m\u001b[0;34m\u001b[0m\u001b[0m\n\u001b[0m\u001b[1;32m    276\u001b[0m \u001b[0;34m\u001b[0m\u001b[0m\n\u001b[1;32m    277\u001b[0m       \u001b[0msys\u001b[0m\u001b[0;34m.\u001b[0m\u001b[0mstdout\u001b[0m\u001b[0;34m.\u001b[0m\u001b[0mwrite\u001b[0m\u001b[0;34m(\u001b[0m\u001b[0mdecoded_contents\u001b[0m\u001b[0;34m)\u001b[0m\u001b[0;34m\u001b[0m\u001b[0;34m\u001b[0m\u001b[0m\n",
            "\u001b[0;32m/usr/lib/python3.6/codecs.py\u001b[0m in \u001b[0;36mdecode\u001b[0;34m(self, input, final)\u001b[0m\n\u001b[1;32m    319\u001b[0m         \u001b[0;31m# decode input (taking the buffer into account)\u001b[0m\u001b[0;34m\u001b[0m\u001b[0;34m\u001b[0m\u001b[0;34m\u001b[0m\u001b[0m\n\u001b[1;32m    320\u001b[0m         \u001b[0mdata\u001b[0m \u001b[0;34m=\u001b[0m \u001b[0mself\u001b[0m\u001b[0;34m.\u001b[0m\u001b[0mbuffer\u001b[0m \u001b[0;34m+\u001b[0m \u001b[0minput\u001b[0m\u001b[0;34m\u001b[0m\u001b[0;34m\u001b[0m\u001b[0m\n\u001b[0;32m--> 321\u001b[0;31m         \u001b[0;34m(\u001b[0m\u001b[0mresult\u001b[0m\u001b[0;34m,\u001b[0m \u001b[0mconsumed\u001b[0m\u001b[0;34m)\u001b[0m \u001b[0;34m=\u001b[0m \u001b[0mself\u001b[0m\u001b[0;34m.\u001b[0m\u001b[0m_buffer_decode\u001b[0m\u001b[0;34m(\u001b[0m\u001b[0mdata\u001b[0m\u001b[0;34m,\u001b[0m \u001b[0mself\u001b[0m\u001b[0;34m.\u001b[0m\u001b[0merrors\u001b[0m\u001b[0;34m,\u001b[0m \u001b[0mfinal\u001b[0m\u001b[0;34m)\u001b[0m\u001b[0;34m\u001b[0m\u001b[0;34m\u001b[0m\u001b[0m\n\u001b[0m\u001b[1;32m    322\u001b[0m         \u001b[0;31m# keep undecoded input until the next call\u001b[0m\u001b[0;34m\u001b[0m\u001b[0;34m\u001b[0m\u001b[0;34m\u001b[0m\u001b[0m\n\u001b[1;32m    323\u001b[0m         \u001b[0mself\u001b[0m\u001b[0;34m.\u001b[0m\u001b[0mbuffer\u001b[0m \u001b[0;34m=\u001b[0m \u001b[0mdata\u001b[0m\u001b[0;34m[\u001b[0m\u001b[0mconsumed\u001b[0m\u001b[0;34m:\u001b[0m\u001b[0;34m]\u001b[0m\u001b[0;34m\u001b[0m\u001b[0;34m\u001b[0m\u001b[0m\n",
            "\u001b[0;31mUnicodeDecodeError\u001b[0m: 'utf-8' codec can't decode byte 0xe9 in position 3155: invalid continuation byte"
          ]
        }
      ]
    },
    {
      "cell_type": "code",
      "metadata": {
        "id": "FWTjnK-G3Kl3",
        "colab_type": "code",
        "colab": {
          "base_uri": "https://localhost:8080/",
          "height": 345
        },
        "outputId": "c137d6ef-0736-4578-ec59-15b44a261570"
      },
      "source": [
        "[*[f'g{i}' for i in range(19)]]"
      ],
      "execution_count": 42,
      "outputs": [
        {
          "output_type": "execute_result",
          "data": {
            "text/plain": [
              "['g0',\n",
              " 'g1',\n",
              " 'g2',\n",
              " 'g3',\n",
              " 'g4',\n",
              " 'g5',\n",
              " 'g6',\n",
              " 'g7',\n",
              " 'g8',\n",
              " 'g9',\n",
              " 'g10',\n",
              " 'g11',\n",
              " 'g12',\n",
              " 'g13',\n",
              " 'g14',\n",
              " 'g15',\n",
              " 'g16',\n",
              " 'g17',\n",
              " 'g18']"
            ]
          },
          "metadata": {
            "tags": []
          },
          "execution_count": 42
        }
      ]
    },
    {
      "cell_type": "code",
      "metadata": {
        "id": "l0Odyo5f11uY",
        "colab_type": "code",
        "colab": {}
      },
      "source": [
        "movies = pd.read_csv(path/'u.item', delimiter = '|', header = None, encoding = 'latin-1', names = [item, title, 'date', 'N', 'url', *[f'g{i}' for i in range(19)]])"
      ],
      "execution_count": 0,
      "outputs": []
    },
    {
      "cell_type": "code",
      "metadata": {
        "id": "GZGcIDjs3ACP",
        "colab_type": "code",
        "colab": {
          "base_uri": "https://localhost:8080/",
          "height": 198
        },
        "outputId": "9ced30d2-5348-4d81-b065-24a7a6768f1e"
      },
      "source": [
        "movies.head()"
      ],
      "execution_count": 44,
      "outputs": [
        {
          "output_type": "execute_result",
          "data": {
            "text/html": [
              "<div>\n",
              "<style scoped>\n",
              "    .dataframe tbody tr th:only-of-type {\n",
              "        vertical-align: middle;\n",
              "    }\n",
              "\n",
              "    .dataframe tbody tr th {\n",
              "        vertical-align: top;\n",
              "    }\n",
              "\n",
              "    .dataframe thead th {\n",
              "        text-align: right;\n",
              "    }\n",
              "</style>\n",
              "<table border=\"1\" class=\"dataframe\">\n",
              "  <thead>\n",
              "    <tr style=\"text-align: right;\">\n",
              "      <th></th>\n",
              "      <th>movieId</th>\n",
              "      <th>title</th>\n",
              "      <th>date</th>\n",
              "      <th>N</th>\n",
              "      <th>url</th>\n",
              "      <th>g0</th>\n",
              "      <th>g1</th>\n",
              "      <th>g2</th>\n",
              "      <th>g3</th>\n",
              "      <th>g4</th>\n",
              "      <th>g5</th>\n",
              "      <th>g6</th>\n",
              "      <th>g7</th>\n",
              "      <th>g8</th>\n",
              "      <th>g9</th>\n",
              "      <th>g10</th>\n",
              "      <th>g11</th>\n",
              "      <th>g12</th>\n",
              "      <th>g13</th>\n",
              "      <th>g14</th>\n",
              "      <th>g15</th>\n",
              "      <th>g16</th>\n",
              "      <th>g17</th>\n",
              "      <th>g18</th>\n",
              "    </tr>\n",
              "  </thead>\n",
              "  <tbody>\n",
              "    <tr>\n",
              "      <th>0</th>\n",
              "      <td>1</td>\n",
              "      <td>Toy Story (1995)</td>\n",
              "      <td>01-Jan-1995</td>\n",
              "      <td>NaN</td>\n",
              "      <td>http://us.imdb.com/M/title-exact?Toy%20Story%2...</td>\n",
              "      <td>0</td>\n",
              "      <td>0</td>\n",
              "      <td>0</td>\n",
              "      <td>1</td>\n",
              "      <td>1</td>\n",
              "      <td>1</td>\n",
              "      <td>0</td>\n",
              "      <td>0</td>\n",
              "      <td>0</td>\n",
              "      <td>0</td>\n",
              "      <td>0</td>\n",
              "      <td>0</td>\n",
              "      <td>0</td>\n",
              "      <td>0</td>\n",
              "      <td>0</td>\n",
              "      <td>0</td>\n",
              "      <td>0</td>\n",
              "      <td>0</td>\n",
              "      <td>0</td>\n",
              "    </tr>\n",
              "    <tr>\n",
              "      <th>1</th>\n",
              "      <td>2</td>\n",
              "      <td>GoldenEye (1995)</td>\n",
              "      <td>01-Jan-1995</td>\n",
              "      <td>NaN</td>\n",
              "      <td>http://us.imdb.com/M/title-exact?GoldenEye%20(...</td>\n",
              "      <td>0</td>\n",
              "      <td>1</td>\n",
              "      <td>1</td>\n",
              "      <td>0</td>\n",
              "      <td>0</td>\n",
              "      <td>0</td>\n",
              "      <td>0</td>\n",
              "      <td>0</td>\n",
              "      <td>0</td>\n",
              "      <td>0</td>\n",
              "      <td>0</td>\n",
              "      <td>0</td>\n",
              "      <td>0</td>\n",
              "      <td>0</td>\n",
              "      <td>0</td>\n",
              "      <td>0</td>\n",
              "      <td>1</td>\n",
              "      <td>0</td>\n",
              "      <td>0</td>\n",
              "    </tr>\n",
              "    <tr>\n",
              "      <th>2</th>\n",
              "      <td>3</td>\n",
              "      <td>Four Rooms (1995)</td>\n",
              "      <td>01-Jan-1995</td>\n",
              "      <td>NaN</td>\n",
              "      <td>http://us.imdb.com/M/title-exact?Four%20Rooms%...</td>\n",
              "      <td>0</td>\n",
              "      <td>0</td>\n",
              "      <td>0</td>\n",
              "      <td>0</td>\n",
              "      <td>0</td>\n",
              "      <td>0</td>\n",
              "      <td>0</td>\n",
              "      <td>0</td>\n",
              "      <td>0</td>\n",
              "      <td>0</td>\n",
              "      <td>0</td>\n",
              "      <td>0</td>\n",
              "      <td>0</td>\n",
              "      <td>0</td>\n",
              "      <td>0</td>\n",
              "      <td>0</td>\n",
              "      <td>1</td>\n",
              "      <td>0</td>\n",
              "      <td>0</td>\n",
              "    </tr>\n",
              "    <tr>\n",
              "      <th>3</th>\n",
              "      <td>4</td>\n",
              "      <td>Get Shorty (1995)</td>\n",
              "      <td>01-Jan-1995</td>\n",
              "      <td>NaN</td>\n",
              "      <td>http://us.imdb.com/M/title-exact?Get%20Shorty%...</td>\n",
              "      <td>0</td>\n",
              "      <td>1</td>\n",
              "      <td>0</td>\n",
              "      <td>0</td>\n",
              "      <td>0</td>\n",
              "      <td>1</td>\n",
              "      <td>0</td>\n",
              "      <td>0</td>\n",
              "      <td>1</td>\n",
              "      <td>0</td>\n",
              "      <td>0</td>\n",
              "      <td>0</td>\n",
              "      <td>0</td>\n",
              "      <td>0</td>\n",
              "      <td>0</td>\n",
              "      <td>0</td>\n",
              "      <td>0</td>\n",
              "      <td>0</td>\n",
              "      <td>0</td>\n",
              "    </tr>\n",
              "    <tr>\n",
              "      <th>4</th>\n",
              "      <td>5</td>\n",
              "      <td>Copycat (1995)</td>\n",
              "      <td>01-Jan-1995</td>\n",
              "      <td>NaN</td>\n",
              "      <td>http://us.imdb.com/M/title-exact?Copycat%20(1995)</td>\n",
              "      <td>0</td>\n",
              "      <td>0</td>\n",
              "      <td>0</td>\n",
              "      <td>0</td>\n",
              "      <td>0</td>\n",
              "      <td>0</td>\n",
              "      <td>1</td>\n",
              "      <td>0</td>\n",
              "      <td>1</td>\n",
              "      <td>0</td>\n",
              "      <td>0</td>\n",
              "      <td>0</td>\n",
              "      <td>0</td>\n",
              "      <td>0</td>\n",
              "      <td>0</td>\n",
              "      <td>0</td>\n",
              "      <td>1</td>\n",
              "      <td>0</td>\n",
              "      <td>0</td>\n",
              "    </tr>\n",
              "  </tbody>\n",
              "</table>\n",
              "</div>"
            ],
            "text/plain": [
              "   movieId              title         date   N  ... g15  g16  g17  g18\n",
              "0        1   Toy Story (1995)  01-Jan-1995 NaN  ...   0    0    0    0\n",
              "1        2   GoldenEye (1995)  01-Jan-1995 NaN  ...   0    1    0    0\n",
              "2        3  Four Rooms (1995)  01-Jan-1995 NaN  ...   0    1    0    0\n",
              "3        4  Get Shorty (1995)  01-Jan-1995 NaN  ...   0    0    0    0\n",
              "4        5     Copycat (1995)  01-Jan-1995 NaN  ...   0    1    0    0\n",
              "\n",
              "[5 rows x 24 columns]"
            ]
          },
          "metadata": {
            "tags": []
          },
          "execution_count": 44
        }
      ]
    },
    {
      "cell_type": "code",
      "metadata": {
        "id": "iS5issMS6YU5",
        "colab_type": "code",
        "colab": {
          "base_uri": "https://localhost:8080/",
          "height": 35
        },
        "outputId": "cc86ae07-b598-4510-92b0-0fbbc4b7bb74"
      },
      "source": [
        "len(ratings)"
      ],
      "execution_count": 45,
      "outputs": [
        {
          "output_type": "execute_result",
          "data": {
            "text/plain": [
              "100000"
            ]
          },
          "metadata": {
            "tags": []
          },
          "execution_count": 45
        }
      ]
    },
    {
      "cell_type": "code",
      "metadata": {
        "id": "GrcBN9YZ6ZiB",
        "colab_type": "code",
        "colab": {}
      },
      "source": [
        "rating_movie = ratings.merge(movies[[item, title]])"
      ],
      "execution_count": 0,
      "outputs": []
    },
    {
      "cell_type": "code",
      "metadata": {
        "id": "meBOrRLs7MBA",
        "colab_type": "code",
        "colab": {
          "base_uri": "https://localhost:8080/",
          "height": 198
        },
        "outputId": "ad348d67-62ff-40c7-9b0e-54aa899257d5"
      },
      "source": [
        "rating_movie.head()"
      ],
      "execution_count": 47,
      "outputs": [
        {
          "output_type": "execute_result",
          "data": {
            "text/html": [
              "<div>\n",
              "<style scoped>\n",
              "    .dataframe tbody tr th:only-of-type {\n",
              "        vertical-align: middle;\n",
              "    }\n",
              "\n",
              "    .dataframe tbody tr th {\n",
              "        vertical-align: top;\n",
              "    }\n",
              "\n",
              "    .dataframe thead th {\n",
              "        text-align: right;\n",
              "    }\n",
              "</style>\n",
              "<table border=\"1\" class=\"dataframe\">\n",
              "  <thead>\n",
              "    <tr style=\"text-align: right;\">\n",
              "      <th></th>\n",
              "      <th>userId</th>\n",
              "      <th>movieId</th>\n",
              "      <th>rating</th>\n",
              "      <th>timestamp</th>\n",
              "      <th>title</th>\n",
              "    </tr>\n",
              "  </thead>\n",
              "  <tbody>\n",
              "    <tr>\n",
              "      <th>0</th>\n",
              "      <td>196</td>\n",
              "      <td>242</td>\n",
              "      <td>3</td>\n",
              "      <td>881250949</td>\n",
              "      <td>Kolya (1996)</td>\n",
              "    </tr>\n",
              "    <tr>\n",
              "      <th>1</th>\n",
              "      <td>63</td>\n",
              "      <td>242</td>\n",
              "      <td>3</td>\n",
              "      <td>875747190</td>\n",
              "      <td>Kolya (1996)</td>\n",
              "    </tr>\n",
              "    <tr>\n",
              "      <th>2</th>\n",
              "      <td>226</td>\n",
              "      <td>242</td>\n",
              "      <td>5</td>\n",
              "      <td>883888671</td>\n",
              "      <td>Kolya (1996)</td>\n",
              "    </tr>\n",
              "    <tr>\n",
              "      <th>3</th>\n",
              "      <td>154</td>\n",
              "      <td>242</td>\n",
              "      <td>3</td>\n",
              "      <td>879138235</td>\n",
              "      <td>Kolya (1996)</td>\n",
              "    </tr>\n",
              "    <tr>\n",
              "      <th>4</th>\n",
              "      <td>306</td>\n",
              "      <td>242</td>\n",
              "      <td>5</td>\n",
              "      <td>876503793</td>\n",
              "      <td>Kolya (1996)</td>\n",
              "    </tr>\n",
              "  </tbody>\n",
              "</table>\n",
              "</div>"
            ],
            "text/plain": [
              "   userId  movieId  rating  timestamp         title\n",
              "0     196      242       3  881250949  Kolya (1996)\n",
              "1      63      242       3  875747190  Kolya (1996)\n",
              "2     226      242       5  883888671  Kolya (1996)\n",
              "3     154      242       3  879138235  Kolya (1996)\n",
              "4     306      242       5  876503793  Kolya (1996)"
            ]
          },
          "metadata": {
            "tags": []
          },
          "execution_count": 47
        }
      ]
    },
    {
      "cell_type": "code",
      "metadata": {
        "id": "RVbG4GsXJIsv",
        "colab_type": "code",
        "colab": {}
      },
      "source": [
        "y_range = [0, 5.5]"
      ],
      "execution_count": 0,
      "outputs": []
    },
    {
      "cell_type": "code",
      "metadata": {
        "id": "4t5s12W5BMHi",
        "colab_type": "code",
        "colab": {}
      },
      "source": [
        "data = CollabDataBunch.from_df(rating_movie, seed = 42, valid_pct=0.1, item_name=title)"
      ],
      "execution_count": 0,
      "outputs": []
    },
    {
      "cell_type": "code",
      "metadata": {
        "id": "rR4m_ovwJ4hj",
        "colab_type": "code",
        "colab": {
          "base_uri": "https://localhost:8080/",
          "height": 198
        },
        "outputId": "b9353ed7-ad03-484f-ed5b-3e357287b88e"
      },
      "source": [
        "data.show_batch()"
      ],
      "execution_count": 49,
      "outputs": [
        {
          "output_type": "display_data",
          "data": {
            "text/html": [
              "<table border=\"1\" class=\"dataframe\">\n",
              "  <thead>\n",
              "    <tr style=\"text-align: right;\">\n",
              "      <th>userId</th>\n",
              "      <th>title</th>\n",
              "      <th>target</th>\n",
              "    </tr>\n",
              "  </thead>\n",
              "  <tbody>\n",
              "    <tr>\n",
              "      <td>255</td>\n",
              "      <td>Believers, The (1987)</td>\n",
              "      <td>2.0</td>\n",
              "    </tr>\n",
              "    <tr>\n",
              "      <td>761</td>\n",
              "      <td>In Love and War (1996)</td>\n",
              "      <td>2.0</td>\n",
              "    </tr>\n",
              "    <tr>\n",
              "      <td>618</td>\n",
              "      <td>Mystery Science Theater 3000: The Movie (1996)</td>\n",
              "      <td>2.0</td>\n",
              "    </tr>\n",
              "    <tr>\n",
              "      <td>314</td>\n",
              "      <td>Mr. Holland's Opus (1995)</td>\n",
              "      <td>5.0</td>\n",
              "    </tr>\n",
              "    <tr>\n",
              "      <td>303</td>\n",
              "      <td>Friday (1995)</td>\n",
              "      <td>4.0</td>\n",
              "    </tr>\n",
              "  </tbody>\n",
              "</table>"
            ],
            "text/plain": [
              "<IPython.core.display.HTML object>"
            ]
          },
          "metadata": {
            "tags": []
          }
        }
      ]
    },
    {
      "cell_type": "code",
      "metadata": {
        "id": "Pq7YPa3eJ5so",
        "colab_type": "code",
        "colab": {}
      },
      "source": [
        "y_range = [0, 5.5]\n",
        "def get_learner(n_factors):\n",
        "  learn = collab_learner(data, n_factors=n_factors, y_range=y_range, wd=1e-01)\n",
        "  print(learn.lr_find())\n",
        "  print(learn.recorder.plot(skip_end =15))\n",
        "  learn.save(f'stage_{n_factors}')\n",
        "  return learn"
      ],
      "execution_count": 0,
      "outputs": []
    },
    {
      "cell_type": "code",
      "metadata": {
        "id": "hq-umin1KlV0",
        "colab_type": "code",
        "colab": {}
      },
      "source": [
        "def train_learner(learn, lr, n_factors = 0):\n",
        "  if n_factors > 0:\n",
        "    learn.load(f'stage_{n_factors}')\n",
        "  print(learn.fit_one_cycle(3, lr))\n",
        "  # return learn\n",
        "  #learn.recorder.plot_losses()\n",
        "  #learn.recorder.plot_lr()"
      ],
      "execution_count": 0,
      "outputs": []
    },
    {
      "cell_type": "code",
      "metadata": {
        "id": "lQXF8j4_LMJB",
        "colab_type": "code",
        "colab": {
          "base_uri": "https://localhost:8080/",
          "height": 407
        },
        "outputId": "88ea5b5b-edc0-4eeb-c379-5358ce3fdf12"
      },
      "source": [
        "learn = get_learner(10)"
      ],
      "execution_count": 77,
      "outputs": [
        {
          "output_type": "display_data",
          "data": {
            "text/html": [
              "\n",
              "    <div>\n",
              "        <style>\n",
              "            /* Turns off some styling */\n",
              "            progress {\n",
              "                /* gets rid of default border in Firefox and Opera. */\n",
              "                border: none;\n",
              "                /* Needs to be in here for Safari polyfill so background images work as expected. */\n",
              "                background-size: auto;\n",
              "            }\n",
              "            .progress-bar-interrupted, .progress-bar-interrupted::-webkit-progress-bar {\n",
              "                background: #F44336;\n",
              "            }\n",
              "        </style>\n",
              "      <progress value='0' class='' max='1' style='width:300px; height:20px; vertical-align: middle;'></progress>\n",
              "      0.00% [0/1 00:00<00:00]\n",
              "    </div>\n",
              "    \n",
              "<table border=\"1\" class=\"dataframe\">\n",
              "  <thead>\n",
              "    <tr style=\"text-align: left;\">\n",
              "      <th>epoch</th>\n",
              "      <th>train_loss</th>\n",
              "      <th>valid_loss</th>\n",
              "      <th>time</th>\n",
              "    </tr>\n",
              "  </thead>\n",
              "  <tbody>\n",
              "  </tbody>\n",
              "</table><p>\n",
              "\n",
              "    <div>\n",
              "        <style>\n",
              "            /* Turns off some styling */\n",
              "            progress {\n",
              "                /* gets rid of default border in Firefox and Opera. */\n",
              "                border: none;\n",
              "                /* Needs to be in here for Safari polyfill so background images work as expected. */\n",
              "                background-size: auto;\n",
              "            }\n",
              "            .progress-bar-interrupted, .progress-bar-interrupted::-webkit-progress-bar {\n",
              "                background: #F44336;\n",
              "            }\n",
              "        </style>\n",
              "      <progress value='85' class='' max='1406' style='width:300px; height:20px; vertical-align: middle;'></progress>\n",
              "      6.05% [85/1406 00:00<00:13 1.7589]\n",
              "    </div>\n",
              "    "
            ],
            "text/plain": [
              "<IPython.core.display.HTML object>"
            ]
          },
          "metadata": {
            "tags": []
          }
        },
        {
          "output_type": "stream",
          "text": [
            "LR Finder is complete, type {learner_name}.recorder.plot() to see the graph.\n",
            "None\n",
            "None\n"
          ],
          "name": "stdout"
        },
        {
          "output_type": "display_data",
          "data": {
            "image/png": "[encoded data removed]",
            "text/plain": [
              "<Figure size 432x288 with 1 Axes>"
            ]
          },
          "metadata": {
            "tags": [],
            "needs_background": "light"
          }
        }
      ]
    },
    {
      "cell_type": "code",
      "metadata": {
        "id": "w_y41IYDMlig",
        "colab_type": "code",
        "colab": {
          "base_uri": "https://localhost:8080/",
          "height": 1000
        },
        "outputId": "a1971ad3-7285-4da0-9b75-3dc888dcfb6d"
      },
      "source": [
        "for i in [10, 20, 40, 80]:\n",
        "  learn = get_learner(i)"
      ],
      "execution_count": 79,
      "outputs": [
        {
          "output_type": "display_data",
          "data": {
            "text/html": [
              "\n",
              "    <div>\n",
              "        <style>\n",
              "            /* Turns off some styling */\n",
              "            progress {\n",
              "                /* gets rid of default border in Firefox and Opera. */\n",
              "                border: none;\n",
              "                /* Needs to be in here for Safari polyfill so background images work as expected. */\n",
              "                background-size: auto;\n",
              "            }\n",
              "            .progress-bar-interrupted, .progress-bar-interrupted::-webkit-progress-bar {\n",
              "                background: #F44336;\n",
              "            }\n",
              "        </style>\n",
              "      <progress value='0' class='' max='1' style='width:300px; height:20px; vertical-align: middle;'></progress>\n",
              "      0.00% [0/1 00:00<00:00]\n",
              "    </div>\n",
              "    \n",
              "<table border=\"1\" class=\"dataframe\">\n",
              "  <thead>\n",
              "    <tr style=\"text-align: left;\">\n",
              "      <th>epoch</th>\n",
              "      <th>train_loss</th>\n",
              "      <th>valid_loss</th>\n",
              "      <th>time</th>\n",
              "    </tr>\n",
              "  </thead>\n",
              "  <tbody>\n",
              "  </tbody>\n",
              "</table><p>\n",
              "\n",
              "    <div>\n",
              "        <style>\n",
              "            /* Turns off some styling */\n",
              "            progress {\n",
              "                /* gets rid of default border in Firefox and Opera. */\n",
              "                border: none;\n",
              "                /* Needs to be in here for Safari polyfill so background images work as expected. */\n",
              "                background-size: auto;\n",
              "            }\n",
              "            .progress-bar-interrupted, .progress-bar-interrupted::-webkit-progress-bar {\n",
              "                background: #F44336;\n",
              "            }\n",
              "        </style>\n",
              "      <progress value='94' class='' max='1406' style='width:300px; height:20px; vertical-align: middle;'></progress>\n",
              "      6.69% [94/1406 00:00<00:13 2.3676]\n",
              "    </div>\n",
              "    "
            ],
            "text/plain": [
              "<IPython.core.display.HTML object>"
            ]
          },
          "metadata": {
            "tags": []
          }
        },
        {
          "output_type": "stream",
          "text": [
            "LR Finder is complete, type {learner_name}.recorder.plot() to see the graph.\n",
            "None\n",
            "None\n"
          ],
          "name": "stdout"
        },
        {
          "output_type": "display_data",
          "data": {
            "text/html": [
              "\n",
              "    <div>\n",
              "        <style>\n",
              "            /* Turns off some styling */\n",
              "            progress {\n",
              "                /* gets rid of default border in Firefox and Opera. */\n",
              "                border: none;\n",
              "                /* Needs to be in here for Safari polyfill so background images work as expected. */\n",
              "                background-size: auto;\n",
              "            }\n",
              "            .progress-bar-interrupted, .progress-bar-interrupted::-webkit-progress-bar {\n",
              "                background: #F44336;\n",
              "            }\n",
              "        </style>\n",
              "      <progress value='0' class='' max='1' style='width:300px; height:20px; vertical-align: middle;'></progress>\n",
              "      0.00% [0/1 00:00<00:00]\n",
              "    </div>\n",
              "    \n",
              "<table border=\"1\" class=\"dataframe\">\n",
              "  <thead>\n",
              "    <tr style=\"text-align: left;\">\n",
              "      <th>epoch</th>\n",
              "      <th>train_loss</th>\n",
              "      <th>valid_loss</th>\n",
              "      <th>time</th>\n",
              "    </tr>\n",
              "  </thead>\n",
              "  <tbody>\n",
              "  </tbody>\n",
              "</table><p>\n",
              "\n",
              "    <div>\n",
              "        <style>\n",
              "            /* Turns off some styling */\n",
              "            progress {\n",
              "                /* gets rid of default border in Firefox and Opera. */\n",
              "                border: none;\n",
              "                /* Needs to be in here for Safari polyfill so background images work as expected. */\n",
              "                background-size: auto;\n",
              "            }\n",
              "            .progress-bar-interrupted, .progress-bar-interrupted::-webkit-progress-bar {\n",
              "                background: #F44336;\n",
              "            }\n",
              "        </style>\n",
              "      <progress value='90' class='' max='1406' style='width:300px; height:20px; vertical-align: middle;'></progress>\n",
              "      6.40% [90/1406 00:00<00:12 2.1372]\n",
              "    </div>\n",
              "    "
            ],
            "text/plain": [
              "<IPython.core.display.HTML object>"
            ]
          },
          "metadata": {
            "tags": []
          }
        },
        {
          "output_type": "stream",
          "text": [
            "LR Finder is complete, type {learner_name}.recorder.plot() to see the graph.\n",
            "None\n",
            "None\n"
          ],
          "name": "stdout"
        },
        {
          "output_type": "display_data",
          "data": {
            "text/html": [
              "\n",
              "    <div>\n",
              "        <style>\n",
              "            /* Turns off some styling */\n",
              "            progress {\n",
              "                /* gets rid of default border in Firefox and Opera. */\n",
              "                border: none;\n",
              "                /* Needs to be in here for Safari polyfill so background images work as expected. */\n",
              "                background-size: auto;\n",
              "            }\n",
              "            .progress-bar-interrupted, .progress-bar-interrupted::-webkit-progress-bar {\n",
              "                background: #F44336;\n",
              "            }\n",
              "        </style>\n",
              "      <progress value='0' class='' max='1' style='width:300px; height:20px; vertical-align: middle;'></progress>\n",
              "      0.00% [0/1 00:00<00:00]\n",
              "    </div>\n",
              "    \n",
              "<table border=\"1\" class=\"dataframe\">\n",
              "  <thead>\n",
              "    <tr style=\"text-align: left;\">\n",
              "      <th>epoch</th>\n",
              "      <th>train_loss</th>\n",
              "      <th>valid_loss</th>\n",
              "      <th>time</th>\n",
              "    </tr>\n",
              "  </thead>\n",
              "  <tbody>\n",
              "  </tbody>\n",
              "</table><p>\n",
              "\n",
              "    <div>\n",
              "        <style>\n",
              "            /* Turns off some styling */\n",
              "            progress {\n",
              "                /* gets rid of default border in Firefox and Opera. */\n",
              "                border: none;\n",
              "                /* Needs to be in here for Safari polyfill so background images work as expected. */\n",
              "                background-size: auto;\n",
              "            }\n",
              "            .progress-bar-interrupted, .progress-bar-interrupted::-webkit-progress-bar {\n",
              "                background: #F44336;\n",
              "            }\n",
              "        </style>\n",
              "      <progress value='87' class='' max='1406' style='width:300px; height:20px; vertical-align: middle;'></progress>\n",
              "      6.19% [87/1406 00:00<00:13 1.9396]\n",
              "    </div>\n",
              "    "
            ],
            "text/plain": [
              "<IPython.core.display.HTML object>"
            ]
          },
          "metadata": {
            "tags": []
          }
        },
        {
          "output_type": "stream",
          "text": [
            "LR Finder is complete, type {learner_name}.recorder.plot() to see the graph.\n",
            "None\n",
            "None\n"
          ],
          "name": "stdout"
        },
        {
          "output_type": "display_data",
          "data": {
            "text/html": [
              "\n",
              "    <div>\n",
              "        <style>\n",
              "            /* Turns off some styling */\n",
              "            progress {\n",
              "                /* gets rid of default border in Firefox and Opera. */\n",
              "                border: none;\n",
              "                /* Needs to be in here for Safari polyfill so background images work as expected. */\n",
              "                background-size: auto;\n",
              "            }\n",
              "            .progress-bar-interrupted, .progress-bar-interrupted::-webkit-progress-bar {\n",
              "                background: #F44336;\n",
              "            }\n",
              "        </style>\n",
              "      <progress value='0' class='' max='1' style='width:300px; height:20px; vertical-align: middle;'></progress>\n",
              "      0.00% [0/1 00:00<00:00]\n",
              "    </div>\n",
              "    \n",
              "<table border=\"1\" class=\"dataframe\">\n",
              "  <thead>\n",
              "    <tr style=\"text-align: left;\">\n",
              "      <th>epoch</th>\n",
              "      <th>train_loss</th>\n",
              "      <th>valid_loss</th>\n",
              "      <th>time</th>\n",
              "    </tr>\n",
              "  </thead>\n",
              "  <tbody>\n",
              "  </tbody>\n",
              "</table><p>\n",
              "\n",
              "    <div>\n",
              "        <style>\n",
              "            /* Turns off some styling */\n",
              "            progress {\n",
              "                /* gets rid of default border in Firefox and Opera. */\n",
              "                border: none;\n",
              "                /* Needs to be in here for Safari polyfill so background images work as expected. */\n",
              "                background-size: auto;\n",
              "            }\n",
              "            .progress-bar-interrupted, .progress-bar-interrupted::-webkit-progress-bar {\n",
              "                background: #F44336;\n",
              "            }\n",
              "        </style>\n",
              "      <progress value='82' class='' max='1406' style='width:300px; height:20px; vertical-align: middle;'></progress>\n",
              "      5.83% [82/1406 00:00<00:13 1.8392]\n",
              "    </div>\n",
              "    "
            ],
            "text/plain": [
              "<IPython.core.display.HTML object>"
            ]
          },
          "metadata": {
            "tags": []
          }
        },
        {
          "output_type": "stream",
          "text": [
            "LR Finder is complete, type {learner_name}.recorder.plot() to see the graph.\n",
            "None\n",
            "None\n"
          ],
          "name": "stdout"
        },
        {
          "output_type": "display_data",
          "data": {
            "image/png": "[encoded data removed]",
            "text/plain": [
              "<Figure size 432x288 with 1 Axes>"
            ]
          },
          "metadata": {
            "tags": [],
            "needs_background": "light"
          }
        },
        {
          "output_type": "display_data",
          "data": {
            "image/png": "[encoded data removed]",
            "text/plain": [
              "<Figure size 432x288 with 1 Axes>"
            ]
          },
          "metadata": {
            "tags": [],
            "needs_background": "light"
          }
        },
        {
          "output_type": "display_data",
          "data": {
            "image/png": "[encoded data removed]",
            "text/plain": [
              "<Figure size 432x288 with 1 Axes>"
            ]
          },
          "metadata": {
            "tags": [],
            "needs_background": "light"
          }
        },
        {
          "output_type": "display_data",
          "data": {
            "image/png": "[encoded data removed]",
            "text/plain": [
              "<Figure size 432x288 with 1 Axes>"
            ]
          },
          "metadata": {
            "tags": [],
            "needs_background": "light"
          }
        }
      ]
    },
    {
      "cell_type": "code",
      "metadata": {
        "id": "S20h183IL8bZ",
        "colab_type": "code",
        "colab": {}
      },
      "source": [
        "train_learner(learn, 2e-02, 10)"
      ],
      "execution_count": 0,
      "outputs": []
    },
    {
      "cell_type": "code",
      "metadata": {
        "id": "BvyFbEijLkHd",
        "colab_type": "code",
        "colab": {
          "base_uri": "https://localhost:8080/",
          "height": 407
        },
        "outputId": "b79edde7-3186-47ae-db2c-008487ed905e"
      },
      "source": [
        "learn = get_learner(20)"
      ],
      "execution_count": 81,
      "outputs": [
        {
          "output_type": "display_data",
          "data": {
            "text/html": [
              "\n",
              "    <div>\n",
              "        <style>\n",
              "            /* Turns off some styling */\n",
              "            progress {\n",
              "                /* gets rid of default border in Firefox and Opera. */\n",
              "                border: none;\n",
              "                /* Needs to be in here for Safari polyfill so background images work as expected. */\n",
              "                background-size: auto;\n",
              "            }\n",
              "            .progress-bar-interrupted, .progress-bar-interrupted::-webkit-progress-bar {\n",
              "                background: #F44336;\n",
              "            }\n",
              "        </style>\n",
              "      <progress value='0' class='' max='1' style='width:300px; height:20px; vertical-align: middle;'></progress>\n",
              "      0.00% [0/1 00:00<00:00]\n",
              "    </div>\n",
              "    \n",
              "<table border=\"1\" class=\"dataframe\">\n",
              "  <thead>\n",
              "    <tr style=\"text-align: left;\">\n",
              "      <th>epoch</th>\n",
              "      <th>train_loss</th>\n",
              "      <th>valid_loss</th>\n",
              "      <th>time</th>\n",
              "    </tr>\n",
              "  </thead>\n",
              "  <tbody>\n",
              "  </tbody>\n",
              "</table><p>\n",
              "\n",
              "    <div>\n",
              "        <style>\n",
              "            /* Turns off some styling */\n",
              "            progress {\n",
              "                /* gets rid of default border in Firefox and Opera. */\n",
              "                border: none;\n",
              "                /* Needs to be in here for Safari polyfill so background images work as expected. */\n",
              "                background-size: auto;\n",
              "            }\n",
              "            .progress-bar-interrupted, .progress-bar-interrupted::-webkit-progress-bar {\n",
              "                background: #F44336;\n",
              "            }\n",
              "        </style>\n",
              "      <progress value='95' class='' max='1406' style='width:300px; height:20px; vertical-align: middle;'></progress>\n",
              "      6.76% [95/1406 00:00<00:13 2.6375]\n",
              "    </div>\n",
              "    "
            ],
            "text/plain": [
              "<IPython.core.display.HTML object>"
            ]
          },
          "metadata": {
            "tags": []
          }
        },
        {
          "output_type": "stream",
          "text": [
            "LR Finder is complete, type {learner_name}.recorder.plot() to see the graph.\n",
            "None\n",
            "None\n"
          ],
          "name": "stdout"
        },
        {
          "output_type": "display_data",
          "data": {
            "image/png": "[encoded data removed]",
            "text/plain": [
              "<Figure size 432x288 with 1 Axes>"
            ]
          },
          "metadata": {
            "tags": [],
            "needs_background": "light"
          }
        }
      ]
    },
    {
      "cell_type": "code",
      "metadata": {
        "id": "bYvZQsV6Obas",
        "colab_type": "code",
        "colab": {
          "base_uri": "https://localhost:8080/",
          "height": 642
        },
        "outputId": "0d48736d-e8ab-4e6e-f7d4-8452dff6e450"
      },
      "source": [
        "train_learner(learn, 2e-02, 20)"
      ],
      "execution_count": 82,
      "outputs": [
        {
          "output_type": "display_data",
          "data": {
            "text/html": [
              "<table border=\"1\" class=\"dataframe\">\n",
              "  <thead>\n",
              "    <tr style=\"text-align: left;\">\n",
              "      <th>epoch</th>\n",
              "      <th>train_loss</th>\n",
              "      <th>valid_loss</th>\n",
              "      <th>time</th>\n",
              "    </tr>\n",
              "  </thead>\n",
              "  <tbody>\n",
              "    <tr>\n",
              "      <td>0</td>\n",
              "      <td>0.984595</td>\n",
              "      <td>1.007668</td>\n",
              "      <td>00:13</td>\n",
              "    </tr>\n",
              "    <tr>\n",
              "      <td>1</td>\n",
              "      <td>0.901196</td>\n",
              "      <td>0.904841</td>\n",
              "      <td>00:13</td>\n",
              "    </tr>\n",
              "    <tr>\n",
              "      <td>2</td>\n",
              "      <td>0.744364</td>\n",
              "      <td>0.846694</td>\n",
              "      <td>00:13</td>\n",
              "    </tr>\n",
              "  </tbody>\n",
              "</table>"
            ],
            "text/plain": [
              "<IPython.core.display.HTML object>"
            ]
          },
          "metadata": {
            "tags": []
          }
        },
        {
          "output_type": "stream",
          "text": [
            "None\n"
          ],
          "name": "stdout"
        },
        {
          "output_type": "execute_result",
          "data": {
            "text/plain": [
              "CollabLearner(data=TabularDataBunch;\n",
              "\n",
              "Train: LabelList (90000 items)\n",
              "x: CollabList\n",
              "userId 196; title Kolya (1996); ,userId 63; title Kolya (1996); ,userId 226; title Kolya (1996); ,userId 154; title Kolya (1996); ,userId 306; title Kolya (1996); \n",
              "y: FloatList\n",
              "3.0,3.0,5.0,3.0,5.0\n",
              "Path: .;\n",
              "\n",
              "Valid: LabelList (10000 items)\n",
              "x: CollabList\n",
              "userId 498; title Casino (1995); ,userId 642; title Pocahontas (1995); ,userId 58; title 2001: A Space Odyssey (1968); ,userId 495; title Cat People (1982); ,userId 618; title Philadelphia (1993); \n",
              "y: FloatList\n",
              "3.0,5.0,4.0,3.0,3.0\n",
              "Path: .;\n",
              "\n",
              "Test: None, model=EmbeddingDotBias(\n",
              "  (u_weight): Embedding(944, 20)\n",
              "  (i_weight): Embedding(1654, 20)\n",
              "  (u_bias): Embedding(944, 1)\n",
              "  (i_bias): Embedding(1654, 1)\n",
              "), opt_func=functools.partial(<class 'torch.optim.adam.Adam'>, betas=(0.9, 0.99)), loss_func=FlattenedLoss of MSELoss(), metrics=[], true_wd=True, bn_wd=True, wd=0.1, train_bn=True, path=PosixPath('.'), model_dir='models', callback_fns=[functools.partial(<class 'fastai.basic_train.Recorder'>, add_time=True, silent=False)], callbacks=[], layer_groups=[Sequential(\n",
              "  (0): Embedding(944, 20)\n",
              "  (1): Embedding(1654, 20)\n",
              "  (2): Embedding(944, 1)\n",
              "  (3): Embedding(1654, 1)\n",
              ")], add_time=True, silent=False)"
            ]
          },
          "metadata": {
            "tags": []
          },
          "execution_count": 82
        }
      ]
    },
    {
      "cell_type": "code",
      "metadata": {
        "id": "_OitiuE3OtRt",
        "colab_type": "code",
        "colab": {
          "base_uri": "https://localhost:8080/",
          "height": 407
        },
        "outputId": "6e27757e-38ce-4156-b2a7-f2b86e686d42"
      },
      "source": [
        "learn = get_learner(40)"
      ],
      "execution_count": 89,
      "outputs": [
        {
          "output_type": "display_data",
          "data": {
            "text/html": [
              "\n",
              "    <div>\n",
              "        <style>\n",
              "            /* Turns off some styling */\n",
              "            progress {\n",
              "                /* gets rid of default border in Firefox and Opera. */\n",
              "                border: none;\n",
              "                /* Needs to be in here for Safari polyfill so background images work as expected. */\n",
              "                background-size: auto;\n",
              "            }\n",
              "            .progress-bar-interrupted, .progress-bar-interrupted::-webkit-progress-bar {\n",
              "                background: #F44336;\n",
              "            }\n",
              "        </style>\n",
              "      <progress value='0' class='' max='1' style='width:300px; height:20px; vertical-align: middle;'></progress>\n",
              "      0.00% [0/1 00:00<00:00]\n",
              "    </div>\n",
              "    \n",
              "<table border=\"1\" class=\"dataframe\">\n",
              "  <thead>\n",
              "    <tr style=\"text-align: left;\">\n",
              "      <th>epoch</th>\n",
              "      <th>train_loss</th>\n",
              "      <th>valid_loss</th>\n",
              "      <th>time</th>\n",
              "    </tr>\n",
              "  </thead>\n",
              "  <tbody>\n",
              "  </tbody>\n",
              "</table><p>\n",
              "\n",
              "    <div>\n",
              "        <style>\n",
              "            /* Turns off some styling */\n",
              "            progress {\n",
              "                /* gets rid of default border in Firefox and Opera. */\n",
              "                border: none;\n",
              "                /* Needs to be in here for Safari polyfill so background images work as expected. */\n",
              "                background-size: auto;\n",
              "            }\n",
              "            .progress-bar-interrupted, .progress-bar-interrupted::-webkit-progress-bar {\n",
              "                background: #F44336;\n",
              "            }\n",
              "        </style>\n",
              "      <progress value='86' class='' max='1406' style='width:300px; height:20px; vertical-align: middle;'></progress>\n",
              "      6.12% [86/1406 00:00<00:13 1.8751]\n",
              "    </div>\n",
              "    "
            ],
            "text/plain": [
              "<IPython.core.display.HTML object>"
            ]
          },
          "metadata": {
            "tags": []
          }
        },
        {
          "output_type": "stream",
          "text": [
            "LR Finder is complete, type {learner_name}.recorder.plot() to see the graph.\n",
            "None\n",
            "None\n"
          ],
          "name": "stdout"
        },
        {
          "output_type": "display_data",
          "data": {
            "image/png": "[encoded data removed]",
            "text/plain": [
              "<Figure size 432x288 with 1 Axes>"
            ]
          },
          "metadata": {
            "tags": [],
            "needs_background": "light"
          }
        }
      ]
    },
    {
      "cell_type": "code",
      "metadata": {
        "id": "jnHAsfXkO4Z5",
        "colab_type": "code",
        "colab": {
          "base_uri": "https://localhost:8080/",
          "height": 155
        },
        "outputId": "be0a7ac9-562a-4866-de6b-85aa45b23794"
      },
      "source": [
        "train_learner(learn, 5e-03, 40)"
      ],
      "execution_count": 91,
      "outputs": [
        {
          "output_type": "display_data",
          "data": {
            "text/html": [
              "<table border=\"1\" class=\"dataframe\">\n",
              "  <thead>\n",
              "    <tr style=\"text-align: left;\">\n",
              "      <th>epoch</th>\n",
              "      <th>train_loss</th>\n",
              "      <th>valid_loss</th>\n",
              "      <th>time</th>\n",
              "    </tr>\n",
              "  </thead>\n",
              "  <tbody>\n",
              "    <tr>\n",
              "      <td>0</td>\n",
              "      <td>0.925580</td>\n",
              "      <td>0.930691</td>\n",
              "      <td>00:13</td>\n",
              "    </tr>\n",
              "    <tr>\n",
              "      <td>1</td>\n",
              "      <td>0.806529</td>\n",
              "      <td>0.851070</td>\n",
              "      <td>00:13</td>\n",
              "    </tr>\n",
              "    <tr>\n",
              "      <td>2</td>\n",
              "      <td>0.697962</td>\n",
              "      <td>0.831383</td>\n",
              "      <td>00:13</td>\n",
              "    </tr>\n",
              "  </tbody>\n",
              "</table>"
            ],
            "text/plain": [
              "<IPython.core.display.HTML object>"
            ]
          },
          "metadata": {
            "tags": []
          }
        },
        {
          "output_type": "stream",
          "text": [
            "None\n"
          ],
          "name": "stdout"
        }
      ]
    },
    {
      "cell_type": "code",
      "metadata": {
        "id": "hnXn_QZIPb8w",
        "colab_type": "code",
        "colab": {
          "base_uri": "https://localhost:8080/",
          "height": 407
        },
        "outputId": "416ff1f2-3a91-4a03-8372-0de2fd63923a"
      },
      "source": [
        "learn = get_learner(80)"
      ],
      "execution_count": 87,
      "outputs": [
        {
          "output_type": "display_data",
          "data": {
            "text/html": [
              "\n",
              "    <div>\n",
              "        <style>\n",
              "            /* Turns off some styling */\n",
              "            progress {\n",
              "                /* gets rid of default border in Firefox and Opera. */\n",
              "                border: none;\n",
              "                /* Needs to be in here for Safari polyfill so background images work as expected. */\n",
              "                background-size: auto;\n",
              "            }\n",
              "            .progress-bar-interrupted, .progress-bar-interrupted::-webkit-progress-bar {\n",
              "                background: #F44336;\n",
              "            }\n",
              "        </style>\n",
              "      <progress value='0' class='' max='1' style='width:300px; height:20px; vertical-align: middle;'></progress>\n",
              "      0.00% [0/1 00:00<00:00]\n",
              "    </div>\n",
              "    \n",
              "<table border=\"1\" class=\"dataframe\">\n",
              "  <thead>\n",
              "    <tr style=\"text-align: left;\">\n",
              "      <th>epoch</th>\n",
              "      <th>train_loss</th>\n",
              "      <th>valid_loss</th>\n",
              "      <th>time</th>\n",
              "    </tr>\n",
              "  </thead>\n",
              "  <tbody>\n",
              "  </tbody>\n",
              "</table><p>\n",
              "\n",
              "    <div>\n",
              "        <style>\n",
              "            /* Turns off some styling */\n",
              "            progress {\n",
              "                /* gets rid of default border in Firefox and Opera. */\n",
              "                border: none;\n",
              "                /* Needs to be in here for Safari polyfill so background images work as expected. */\n",
              "                background-size: auto;\n",
              "            }\n",
              "            .progress-bar-interrupted, .progress-bar-interrupted::-webkit-progress-bar {\n",
              "                background: #F44336;\n",
              "            }\n",
              "        </style>\n",
              "      <progress value='97' class='' max='1406' style='width:300px; height:20px; vertical-align: middle;'></progress>\n",
              "      6.90% [97/1406 00:00<00:13 3.0558]\n",
              "    </div>\n",
              "    "
            ],
            "text/plain": [
              "<IPython.core.display.HTML object>"
            ]
          },
          "metadata": {
            "tags": []
          }
        },
        {
          "output_type": "stream",
          "text": [
            "LR Finder is complete, type {learner_name}.recorder.plot() to see the graph.\n",
            "None\n",
            "None\n"
          ],
          "name": "stdout"
        },
        {
          "output_type": "display_data",
          "data": {
            "image/png": "[encoded data removed]",
            "text/plain": [
              "<Figure size 432x288 with 1 Axes>"
            ]
          },
          "metadata": {
            "tags": [],
            "needs_background": "light"
          }
        }
      ]
    },
    {
      "cell_type": "code",
      "metadata": {
        "id": "qdkfDe5lPfkz",
        "colab_type": "code",
        "colab": {
          "base_uri": "https://localhost:8080/",
          "height": 155
        },
        "outputId": "4dfeaaba-1001-4388-981f-31b31f7c2d13"
      },
      "source": [
        "train_learner(learn, 1e-02)"
      ],
      "execution_count": 88,
      "outputs": [
        {
          "output_type": "display_data",
          "data": {
            "text/html": [
              "<table border=\"1\" class=\"dataframe\">\n",
              "  <thead>\n",
              "    <tr style=\"text-align: left;\">\n",
              "      <th>epoch</th>\n",
              "      <th>train_loss</th>\n",
              "      <th>valid_loss</th>\n",
              "      <th>time</th>\n",
              "    </tr>\n",
              "  </thead>\n",
              "  <tbody>\n",
              "    <tr>\n",
              "      <td>0</td>\n",
              "      <td>1.001016</td>\n",
              "      <td>0.994911</td>\n",
              "      <td>00:13</td>\n",
              "    </tr>\n",
              "    <tr>\n",
              "      <td>1</td>\n",
              "      <td>0.845153</td>\n",
              "      <td>0.882302</td>\n",
              "      <td>00:13</td>\n",
              "    </tr>\n",
              "    <tr>\n",
              "      <td>2</td>\n",
              "      <td>0.551561</td>\n",
              "      <td>0.846095</td>\n",
              "      <td>00:13</td>\n",
              "    </tr>\n",
              "  </tbody>\n",
              "</table>"
            ],
            "text/plain": [
              "<IPython.core.display.HTML object>"
            ]
          },
          "metadata": {
            "tags": []
          }
        },
        {
          "output_type": "stream",
          "text": [
            "None\n"
          ],
          "name": "stdout"
        }
      ]
    },
    {
      "cell_type": "code",
      "metadata": {
        "id": "K5vraxWKT_0t",
        "colab_type": "code",
        "colab": {}
      },
      "source": [
        "learn.save('dot_prod')"
      ],
      "execution_count": 0,
      "outputs": []
    },
    {
      "cell_type": "code",
      "metadata": {
        "id": "lS1heXa8UFv8",
        "colab_type": "code",
        "colab": {
          "base_uri": "https://localhost:8080/",
          "height": 121
        },
        "outputId": "4b21b0d8-4672-4860-a64a-8a1a613ee7e4"
      },
      "source": [
        "learn.model"
      ],
      "execution_count": 93,
      "outputs": [
        {
          "output_type": "execute_result",
          "data": {
            "text/plain": [
              "EmbeddingDotBias(\n",
              "  (u_weight): Embedding(944, 40)\n",
              "  (i_weight): Embedding(1654, 40)\n",
              "  (u_bias): Embedding(944, 1)\n",
              "  (i_bias): Embedding(1654, 1)\n",
              ")"
            ]
          },
          "metadata": {
            "tags": []
          },
          "execution_count": 93
        }
      ]
    },
    {
      "cell_type": "code",
      "metadata": {
        "id": "ml6FutiyURQE",
        "colab_type": "code",
        "colab": {}
      },
      "source": [
        "g = rating_movie.groupby(title)['rating'].count()"
      ],
      "execution_count": 0,
      "outputs": []
    },
    {
      "cell_type": "code",
      "metadata": {
        "id": "Tn6YCWabUWWI",
        "colab_type": "code",
        "colab": {
          "base_uri": "https://localhost:8080/",
          "height": 138
        },
        "outputId": "d2d9fdb5-f8a3-4f89-be68-458d23516987"
      },
      "source": [
        "g.head()"
      ],
      "execution_count": 101,
      "outputs": [
        {
          "output_type": "execute_result",
          "data": {
            "text/plain": [
              "title\n",
              "'Til There Was You (1997)      9\n",
              "1-900 (1994)                   5\n",
              "101 Dalmatians (1996)        109\n",
              "12 Angry Men (1957)          125\n",
              "187 (1997)                    41\n",
              "Name: rating, dtype: int64"
            ]
          },
          "metadata": {
            "tags": []
          },
          "execution_count": 101
        }
      ]
    },
    {
      "cell_type": "code",
      "metadata": {
        "id": "PjL-5OAMUmUn",
        "colab_type": "code",
        "colab": {}
      },
      "source": [
        "top_movies = g.sort_values(ascending=False).index.values[:1000]"
      ],
      "execution_count": 0,
      "outputs": []
    },
    {
      "cell_type": "code",
      "metadata": {
        "id": "19XI_SoWUzca",
        "colab_type": "code",
        "colab": {
          "base_uri": "https://localhost:8080/",
          "height": 69
        },
        "outputId": "93379a93-f2b7-4c4d-c7f6-cae21188d066"
      },
      "source": [
        "top_movies"
      ],
      "execution_count": 103,
      "outputs": [
        {
          "output_type": "execute_result",
          "data": {
            "text/plain": [
              "array(['Star Wars (1977)', 'Contact (1997)', 'Fargo (1996)', 'Return of the Jedi (1983)', ...,\n",
              "       'In the Bleak Midwinter (1995)', 'Party Girl (1995)', 'Highlander III: The Sorcerer (1994)',\n",
              "       'Bastard Out of Carolina (1996)'], dtype=object)"
            ]
          },
          "metadata": {
            "tags": []
          },
          "execution_count": 103
        }
      ]
    },
    {
      "cell_type": "code",
      "metadata": {
        "id": "r20OK5J0U_00",
        "colab_type": "code",
        "colab": {}
      },
      "source": [
        "movie_bias=learn.bias(top_movies, is_item = True)"
      ],
      "execution_count": 0,
      "outputs": []
    },
    {
      "cell_type": "code",
      "metadata": {
        "id": "AV5NvjPZVFJ-",
        "colab_type": "code",
        "colab": {
          "base_uri": "https://localhost:8080/",
          "height": 35
        },
        "outputId": "6680ccd4-81c9-4363-c0c4-af130c1eae6b"
      },
      "source": [
        "len(movie_bias)"
      ],
      "execution_count": 106,
      "outputs": [
        {
          "output_type": "execute_result",
          "data": {
            "text/plain": [
              "1000"
            ]
          },
          "metadata": {
            "tags": []
          },
          "execution_count": 106
        }
      ]
    },
    {
      "cell_type": "code",
      "metadata": {
        "id": "hiTAt4S7VKtX",
        "colab_type": "code",
        "colab": {}
      },
      "source": [
        "mean_rating = rating_movie.groupby(title)['rating'].mean()"
      ],
      "execution_count": 0,
      "outputs": []
    },
    {
      "cell_type": "code",
      "metadata": {
        "id": "p855r6mTVGse",
        "colab_type": "code",
        "colab": {
          "base_uri": "https://localhost:8080/",
          "height": 138
        },
        "outputId": "8270fe42-6a9f-49eb-90d9-90197623c097"
      },
      "source": [
        "mean_rating.head()"
      ],
      "execution_count": 109,
      "outputs": [
        {
          "output_type": "execute_result",
          "data": {
            "text/plain": [
              "title\n",
              "'Til There Was You (1997)    2.333333\n",
              "1-900 (1994)                 2.600000\n",
              "101 Dalmatians (1996)        2.908257\n",
              "12 Angry Men (1957)          4.344000\n",
              "187 (1997)                   3.024390\n",
              "Name: rating, dtype: float64"
            ]
          },
          "metadata": {
            "tags": []
          },
          "execution_count": 109
        }
      ]
    },
    {
      "cell_type": "code",
      "metadata": {
        "id": "FZNrbLFFV8KO",
        "colab_type": "code",
        "colab": {
          "base_uri": "https://localhost:8080/",
          "height": 207
        },
        "outputId": "052356db-5f5a-4dcd-8d32-57e2b7d16b91"
      },
      "source": [
        "c = 0\n",
        "for i in zip(top_movies, movie_bias):\n",
        "  print(i)\n",
        "  c += 1\n",
        "  if c > 10:\n",
        "    break"
      ],
      "execution_count": 112,
      "outputs": [
        {
          "output_type": "stream",
          "text": [
            "('Star Wars (1977)', tensor(0.5026))\n",
            "('Contact (1997)', tensor(0.4133))\n",
            "('Fargo (1996)', tensor(0.3848))\n",
            "('Return of the Jedi (1983)', tensor(0.4033))\n",
            "('Liar Liar (1997)', tensor(0.1017))\n",
            "('English Patient, The (1996)', tensor(0.1546))\n",
            "('Scream (1996)', tensor(0.2423))\n",
            "('Toy Story (1995)', tensor(0.3111))\n",
            "('Air Force One (1997)', tensor(0.3003))\n",
            "('Independence Day (ID4) (1996)', tensor(0.1810))\n",
            "('Raiders of the Lost Ark (1981)', tensor(0.3769))\n"
          ],
          "name": "stdout"
        }
      ]
    },
    {
      "cell_type": "code",
      "metadata": {
        "id": "lz-isGP5WgmZ",
        "colab_type": "code",
        "colab": {}
      },
      "source": [
        "movie_ratings = [(b, i, mean_rating.loc[i]) for i, b in zip(top_movies, movie_bias)]"
      ],
      "execution_count": 0,
      "outputs": []
    },
    {
      "cell_type": "code",
      "metadata": {
        "id": "iOlb0eQbWqXF",
        "colab_type": "code",
        "colab": {
          "base_uri": "https://localhost:8080/",
          "height": 190
        },
        "outputId": "4312e545-114c-43e9-86be-e35044c90b24"
      },
      "source": [
        "movie_ratings[:10]"
      ],
      "execution_count": 115,
      "outputs": [
        {
          "output_type": "execute_result",
          "data": {
            "text/plain": [
              "[(tensor(0.5026), 'Star Wars (1977)', 4.3584905660377355),\n",
              " (tensor(0.4133), 'Contact (1997)', 3.8035363457760316),\n",
              " (tensor(0.3848), 'Fargo (1996)', 4.155511811023622),\n",
              " (tensor(0.4033), 'Return of the Jedi (1983)', 4.007889546351085),\n",
              " (tensor(0.1017), 'Liar Liar (1997)', 3.156701030927835),\n",
              " (tensor(0.1546), 'English Patient, The (1996)', 3.656964656964657),\n",
              " (tensor(0.2423), 'Scream (1996)', 3.4414225941422596),\n",
              " (tensor(0.3111), 'Toy Story (1995)', 3.8783185840707963),\n",
              " (tensor(0.3003), 'Air Force One (1997)', 3.6310904872389793),\n",
              " (tensor(0.1810), 'Independence Day (ID4) (1996)', 3.438228438228438)]"
            ]
          },
          "metadata": {
            "tags": []
          },
          "execution_count": 115
        }
      ]
    },
    {
      "cell_type": "code",
      "metadata": {
        "id": "C5XWxkWuWVDo",
        "colab_type": "code",
        "colab": {}
      },
      "source": [
        "item_0 = lambda x: x[0]"
      ],
      "execution_count": 0,
      "outputs": []
    },
    {
      "cell_type": "code",
      "metadata": {
        "id": "2cO7H-j-W8w7",
        "colab_type": "code",
        "colab": {
          "base_uri": "https://localhost:8080/",
          "height": 345
        },
        "outputId": "99c8913a-4778-44aa-cb3c-dd38839ab25e"
      },
      "source": [
        "sorted(movie_ratings, key = item_0)[:15]"
      ],
      "execution_count": 117,
      "outputs": [
        {
          "output_type": "execute_result",
          "data": {
            "text/plain": [
              "[(tensor(-0.3072),\n",
              "  'Children of the Corn: The Gathering (1996)',\n",
              "  1.3157894736842106),\n",
              " (tensor(-0.2695),\n",
              "  'Lawnmower Man 2: Beyond Cyberspace (1996)',\n",
              "  1.7142857142857142),\n",
              " (tensor(-0.2652), 'Free Willy 3: The Rescue (1997)', 1.7407407407407407),\n",
              " (tensor(-0.2550), 'Island of Dr. Moreau, The (1996)', 2.1578947368421053),\n",
              " (tensor(-0.2459), 'Mortal Kombat: Annihilation (1997)', 1.9534883720930232),\n",
              " (tensor(-0.2428), 'Barb Wire (1996)', 1.9333333333333333),\n",
              " (tensor(-0.2374), 'Crow: City of Angels, The (1996)', 1.9487179487179487),\n",
              " (tensor(-0.2368), 'Striptease (1996)', 2.2388059701492535),\n",
              " (tensor(-0.2359), 'Cable Guy, The (1996)', 2.339622641509434),\n",
              " (tensor(-0.2343), 'Beautician and the Beast, The (1997)', 2.313953488372093),\n",
              " (tensor(-0.2281), 'Beverly Hills Ninja (1997)', 2.3125),\n",
              " (tensor(-0.2216), \"McHale's Navy (1997)\", 2.1884057971014492),\n",
              " (tensor(-0.2161), 'Bio-Dome (1996)', 1.903225806451613),\n",
              " (tensor(-0.2085), 'Leave It to Beaver (1997)', 1.8409090909090908),\n",
              " (tensor(-0.2073), 'Showgirls (1995)', 1.9565217391304348)]"
            ]
          },
          "metadata": {
            "tags": []
          },
          "execution_count": 117
        }
      ]
    },
    {
      "cell_type": "code",
      "metadata": {
        "id": "JNDBQez7XHq9",
        "colab_type": "code",
        "colab": {
          "base_uri": "https://localhost:8080/",
          "height": 276
        },
        "outputId": "73cfa366-9437-49ae-8c45-18903c30b291"
      },
      "source": [
        "sorted(movie_ratings, key = item_0, reverse=True)[:15]"
      ],
      "execution_count": 118,
      "outputs": [
        {
          "output_type": "execute_result",
          "data": {
            "text/plain": [
              "[(tensor(0.6010), \"Schindler's List (1993)\", 4.466442953020135),\n",
              " (tensor(0.5814), 'Titanic (1997)', 4.2457142857142856),\n",
              " (tensor(0.5361), 'Good Will Hunting (1997)', 4.262626262626263),\n",
              " (tensor(0.5334), 'Shawshank Redemption, The (1994)', 4.445229681978798),\n",
              " (tensor(0.5299), 'L.A. Confidential (1997)', 4.161616161616162),\n",
              " (tensor(0.5164), 'Silence of the Lambs, The (1991)', 4.28974358974359),\n",
              " (tensor(0.5026), 'Star Wars (1977)', 4.3584905660377355),\n",
              " (tensor(0.4961), 'As Good As It Gets (1997)', 4.196428571428571),\n",
              " (tensor(0.4494), 'Rear Window (1954)', 4.3875598086124405),\n",
              " (tensor(0.4482), 'Close Shave, A (1995)', 4.491071428571429),\n",
              " (tensor(0.4471), 'Casablanca (1942)', 4.45679012345679),\n",
              " (tensor(0.4432), 'Usual Suspects, The (1995)', 4.385767790262173),\n",
              " (tensor(0.4376), 'Vertigo (1958)', 4.251396648044692),\n",
              " (tensor(0.4350), 'Princess Bride, The (1987)', 4.172839506172839),\n",
              " (tensor(0.4265), 'Apt Pupil (1998)', 4.1)]"
            ]
          },
          "metadata": {
            "tags": []
          },
          "execution_count": 118
        }
      ]
    },
    {
      "cell_type": "code",
      "metadata": {
        "id": "aEb3OadaYlmR",
        "colab_type": "code",
        "colab": {}
      },
      "source": [
        "movie_w = learn.weight(top_movies, is_item= True)"
      ],
      "execution_count": 0,
      "outputs": []
    },
    {
      "cell_type": "code",
      "metadata": {
        "id": "j-quuLFyYyEs",
        "colab_type": "code",
        "colab": {
          "base_uri": "https://localhost:8080/",
          "height": 35
        },
        "outputId": "4b8b87d9-4271-4a66-bbff-056b8f41a0c1"
      },
      "source": [
        "movie_w.shape"
      ],
      "execution_count": 121,
      "outputs": [
        {
          "output_type": "execute_result",
          "data": {
            "text/plain": [
              "torch.Size([1000, 40])"
            ]
          },
          "metadata": {
            "tags": []
          },
          "execution_count": 121
        }
      ]
    },
    {
      "cell_type": "code",
      "metadata": {
        "id": "QqZlOyr1Y1aY",
        "colab_type": "code",
        "colab": {
          "base_uri": "https://localhost:8080/",
          "height": 35
        },
        "outputId": "2f9fdf83-d6f3-462f-964a-ae73eb401f5e"
      },
      "source": [
        "len(movie_w[0])"
      ],
      "execution_count": 124,
      "outputs": [
        {
          "output_type": "execute_result",
          "data": {
            "text/plain": [
              "40"
            ]
          },
          "metadata": {
            "tags": []
          },
          "execution_count": 124
        }
      ]
    },
    {
      "cell_type": "code",
      "metadata": {
        "id": "CYbMDG8hZYXB",
        "colab_type": "code",
        "colab": {}
      },
      "source": [
        "movie_pca = movie_w.pca(3)"
      ],
      "execution_count": 0,
      "outputs": []
    },
    {
      "cell_type": "code",
      "metadata": {
        "id": "BVy1XwJZbP70",
        "colab_type": "code",
        "colab": {
          "base_uri": "https://localhost:8080/",
          "height": 138
        },
        "outputId": "ec07200a-57d4-4938-db2a-1917d59754de"
      },
      "source": [
        "movie_pca"
      ],
      "execution_count": 126,
      "outputs": [
        {
          "output_type": "execute_result",
          "data": {
            "text/plain": [
              "tensor([[-0.8049,  0.7032, -0.3162],\n",
              "        [-0.0327,  0.2721, -0.2380],\n",
              "        [-0.8320, -0.2885, -0.2638],\n",
              "        ...,\n",
              "        [ 0.2671, -0.2880,  0.0314],\n",
              "        [ 0.8846, -0.1018,  0.1269],\n",
              "        [ 0.5455,  0.1634, -0.0827]])"
            ]
          },
          "metadata": {
            "tags": []
          },
          "execution_count": 126
        }
      ]
    },
    {
      "cell_type": "code",
      "metadata": {
        "id": "k0ozgOUvbaNj",
        "colab_type": "code",
        "colab": {}
      },
      "source": [
        "fac_0, fac_1, fac_2 = movie_pca.t()"
      ],
      "execution_count": 0,
      "outputs": []
    },
    {
      "cell_type": "code",
      "metadata": {
        "id": "PYbT-mgCby3P",
        "colab_type": "code",
        "colab": {
          "base_uri": "https://localhost:8080/",
          "height": 35
        },
        "outputId": "9e9585b1-f571-4827-d07a-2c2235b5769e"
      },
      "source": [
        "fac_0.shape"
      ],
      "execution_count": 132,
      "outputs": [
        {
          "output_type": "execute_result",
          "data": {
            "text/plain": [
              "torch.Size([1000])"
            ]
          },
          "metadata": {
            "tags": []
          },
          "execution_count": 132
        }
      ]
    },
    {
      "cell_type": "code",
      "metadata": {
        "id": "N5_nBm5tbkE0",
        "colab_type": "code",
        "colab": {}
      },
      "source": [
        "movie_comp = [(f, i) for f, i in zip(fac_2, top_movies)]"
      ],
      "execution_count": 0,
      "outputs": []
    },
    {
      "cell_type": "code",
      "metadata": {
        "id": "khBbkpKab8Xx",
        "colab_type": "code",
        "colab": {
          "base_uri": "https://localhost:8080/",
          "height": 276
        },
        "outputId": "db8d51b7-b1da-4352-b625-afb3e4ad835d"
      },
      "source": [
        "sorted(movie_comp, key = itemgetter(0), reverse = True)[:15]"
      ],
      "execution_count": 147,
      "outputs": [
        {
          "output_type": "execute_result",
          "data": {
            "text/plain": [
              "[(tensor(0.5995), 'E.T. the Extra-Terrestrial (1982)'),\n",
              " (tensor(0.5538), 'Gone with the Wind (1939)'),\n",
              " (tensor(0.5494), 'Wizard of Oz, The (1939)'),\n",
              " (tensor(0.5364), 'Miracle on 34th Street (1994)'),\n",
              " (tensor(0.5257), 'Old Yeller (1957)'),\n",
              " (tensor(0.5144), 'Dirty Dancing (1987)'),\n",
              " (tensor(0.5116), 'Sound of Music, The (1965)'),\n",
              " (tensor(0.5090), 'Dumbo (1941)'),\n",
              " (tensor(0.4759), 'Ghost (1990)'),\n",
              " (tensor(0.4622), 'Cinema Paradiso (1988)'),\n",
              " (tensor(0.4601), \"It's a Wonderful Life (1946)\"),\n",
              " (tensor(0.4561), 'My Fair Lady (1964)'),\n",
              " (tensor(0.4181), 'Mr. Smith Goes to Washington (1939)'),\n",
              " (tensor(0.4091), 'All About Eve (1950)'),\n",
              " (tensor(0.3967), 'Mary Poppins (1964)')]"
            ]
          },
          "metadata": {
            "tags": []
          },
          "execution_count": 147
        }
      ]
    },
    {
      "cell_type": "code",
      "metadata": {
        "id": "6pk9pH-ScMWM",
        "colab_type": "code",
        "colab": {
          "base_uri": "https://localhost:8080/",
          "height": 276
        },
        "outputId": "25b7628a-4b11-4e4e-fb9c-85d3863f40e5"
      },
      "source": [
        "sorted(movie_comp, key = itemgetter(0))[:15]"
      ],
      "execution_count": 148,
      "outputs": [
        {
          "output_type": "execute_result",
          "data": {
            "text/plain": [
              "[(tensor(-0.6903), 'Chasing Amy (1997)'),\n",
              " (tensor(-0.6692), 'Game, The (1997)'),\n",
              " (tensor(-0.6211), 'Rock, The (1996)'),\n",
              " (tensor(-0.5433), 'Pulp Fiction (1994)'),\n",
              " (tensor(-0.5119), \"Devil's Advocate, The (1997)\"),\n",
              " (tensor(-0.5083), 'Reservoir Dogs (1992)'),\n",
              " (tensor(-0.4934), 'Alien: Resurrection (1997)'),\n",
              " (tensor(-0.4885), 'Clerks (1994)'),\n",
              " (tensor(-0.4850), 'Terminator, The (1984)'),\n",
              " (tensor(-0.4600), 'Heat (1995)'),\n",
              " (tensor(-0.4535), 'People vs. Larry Flynt, The (1996)'),\n",
              " (tensor(-0.4522), 'Fifth Element, The (1997)'),\n",
              " (tensor(-0.4475), 'Empire Strikes Back, The (1980)'),\n",
              " (tensor(-0.4457), 'Die Hard (1988)'),\n",
              " (tensor(-0.4355), 'Blues Brothers, The (1980)')]"
            ]
          },
          "metadata": {
            "tags": []
          },
          "execution_count": 148
        }
      ]
    },
    {
      "cell_type": "code",
      "metadata": {
        "id": "je171wuRdjzs",
        "colab_type": "code",
        "colab": {}
      },
      "source": [
        "idxs = np.random.choice(len(top_movies), 50, replace = False)"
      ],
      "execution_count": 0,
      "outputs": []
    },
    {
      "cell_type": "code",
      "metadata": {
        "id": "pf785IIqdsDU",
        "colab_type": "code",
        "colab": {
          "base_uri": "https://localhost:8080/",
          "height": 69
        },
        "outputId": "6836f288-f336-4954-9226-557742136fc4"
      },
      "source": [
        "idxs"
      ],
      "execution_count": 156,
      "outputs": [
        {
          "output_type": "execute_result",
          "data": {
            "text/plain": [
              "array([755, 320, 399, 795, 554, 197, 277, 292, 553, 902, 788, 686, 473,  67, 651, 721, 820, 720, 212, 253, 679, 345,\n",
              "       319, 156, 371,  45, 418, 752, 546,  93, 170, 422, 322, 173, 261, 603, 317, 447,  13, 116, 879, 344, 263, 534,\n",
              "       968, 962, 593, 837,  34, 476])"
            ]
          },
          "metadata": {
            "tags": []
          },
          "execution_count": 156
        }
      ]
    },
    {
      "cell_type": "code",
      "metadata": {
        "id": "Ba1rAm2td1S5",
        "colab_type": "code",
        "colab": {}
      },
      "source": [
        "idxs = list(range(50))"
      ],
      "execution_count": 0,
      "outputs": []
    },
    {
      "cell_type": "code",
      "metadata": {
        "id": "y6_ivZ-id7wY",
        "colab_type": "code",
        "colab": {
          "base_uri": "https://localhost:8080/",
          "height": 138
        },
        "outputId": "9c423b77-db97-4668-d733-22787d67f335"
      },
      "source": [
        "X = fac_0[idxs]\n",
        "Y = fac_2[idxs]\n",
        "X"
      ],
      "execution_count": 166,
      "outputs": [
        {
          "output_type": "execute_result",
          "data": {
            "text/plain": [
              "tensor([-0.8049, -0.0327, -0.8320, -0.1872,  0.6720, -0.4056,  0.3249, -0.2206,\n",
              "         0.3793,  0.4318, -0.6106, -0.9205, -0.7626, -0.2470, -0.7322, -0.0041,\n",
              "        -0.5571,  0.1808, -0.7421,  0.0186, -0.2235, -0.0692,  0.3966, -0.2397,\n",
              "        -0.1377, -0.3839, -0.6193, -0.2829, -0.7763,  0.5433, -0.3525,  0.0248,\n",
              "        -0.3234, -0.3390, -0.6871, -0.8176, -0.4619, -0.4493, -0.4514, -0.1903,\n",
              "         0.4244, -0.0225, -0.0656,  0.6581, -0.5373, -0.3870, -0.4238, -0.7845,\n",
              "        -0.2673, -0.4438])"
            ]
          },
          "metadata": {
            "tags": []
          },
          "execution_count": 166
        }
      ]
    },
    {
      "cell_type": "code",
      "metadata": {
        "id": "WwB1azsheXi2",
        "colab_type": "code",
        "colab": {
          "base_uri": "https://localhost:8080/",
          "height": 863
        },
        "outputId": "30390484-3243-4830-b5cb-9d6a40f2b02b"
      },
      "source": [
        "plt.figure(figsize = (15, 15))\n",
        "plt.scatter(X, Y)\n",
        "for i, x, y in zip(top_movies[idxs], X, Y):\n",
        "  plt.text(x, y, i, color = np.random.rand(3)*0.5, fontsize = 11)\n",
        "plt.show()"
      ],
      "execution_count": 168,
      "outputs": [
        {
          "output_type": "display_data",
          "data": {
            "image/png": "[encoded data removed]",
            "text/plain": [
              "<Figure size 1080x1080 with 1 Axes>"
            ]
          },
          "metadata": {
            "tags": [],
            "needs_background": "light"
          }
        }
      ]
    }
  ]
}