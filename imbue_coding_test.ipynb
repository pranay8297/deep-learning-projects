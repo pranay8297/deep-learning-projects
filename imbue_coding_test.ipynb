{
  "nbformat": 4,
  "nbformat_minor": 0,
  "metadata": {
    "colab": {
      "provenance": [],
      "authorship_tag": "ABX9TyNUxmBA7a49wQfaClFkDWhr",
      "include_colab_link": true
    },
    "kernelspec": {
      "name": "python3",
      "display_name": "Python 3"
    },
    "language_info": {
      "name": "python"
    }
  },
  "cells": [
    {
      "cell_type": "markdown",
      "metadata": {
        "id": "view-in-github",
        "colab_type": "text"
      },
      "source": [
        "<a href=\"https://colab.research.google.com/github/pranay8297/deep-learning-projects/blob/master/imbue_coding_test.ipynb\" target=\"_parent\"><img src=\"https://colab.research.google.com/assets/colab-badge.svg\" alt=\"Open In Colab\"/></a>"
      ]
    },
    {
      "cell_type": "code",
      "source": [
        "import numpy as np"
      ],
      "metadata": {
        "id": "c1eTOWTwZ8CB"
      },
      "execution_count": null,
      "outputs": []
    },
    {
      "cell_type": "code",
      "execution_count": null,
      "metadata": {
        "id": "TJCscdyvP4v2"
      },
      "outputs": [],
      "source": [
        "field = [\n",
        " \"*#..#\",\n",
        " \".#*#.\",\n",
        " \"*...*\"]"
      ]
    },
    {
      "cell_type": "code",
      "source": [
        "def get_checkpoint_idxs(fields):\n",
        "    checkpoint_idxs = []\n",
        "    for idx, row in enumerate(field):\n",
        "        for cidx, point in enumerate(row):\n",
        "            if point == '*': checkpoint_idxs.append((idx, cidx))\n",
        "    return np.array(checkpoint_idxs)\n",
        "\n",
        "def get_all_combinations(checkpoints, k):\n",
        "    def solve(l,n,r,index,temp,i,ans):\n",
        "        if index==r:\n",
        "            ans.append(temp.copy())\n",
        "            return temp\n",
        "        if i>=n:\n",
        "            return\n",
        "        temp[index]=l[i]\n",
        "        solve(l,n,r,index+1,temp,i+1,ans)\n",
        "        solve(l,n,r,index,temp,i+1,ans)\n",
        "        return ans\n",
        "\n",
        "    n = len(checkpoints)\n",
        "    l=[i for i in range(0,n)]\n",
        "    q=solve(l,n,k,0,[0]*k,0,[])\n",
        "    return [tuple(checkpoints[i]) for i in q]\n",
        "\n",
        "class Node():\n",
        "\n",
        "    def __init__(self, parent = None, position = None):\n",
        "        self.parent = parent\n",
        "        self.position = position\n",
        "\n",
        "        self.g = 0\n",
        "        self.h = 0\n",
        "        self.f = 0\n",
        "\n",
        "    def __eq__(self, other):\n",
        "        return (self.position[0] == other.position[0] and self.position[1] == other.position[1])\n",
        "\n",
        "def astar(maze, start, end):\n",
        "    \"\"\"Returns a list of tuples as a path from the given start to the given end in the given maze\"\"\"\n",
        "\n",
        "    # Create start and end node\n",
        "    start_node = Node(None, start)\n",
        "    start_node.g = start_node.h = start_node.f = 0\n",
        "    end_node = Node(None, end)\n",
        "    end_node.g = end_node.h = end_node.f = 0\n",
        "\n",
        "    # Initialize both open and closed list\n",
        "    open_list = []\n",
        "    closed_list = []\n",
        "\n",
        "    # Add the start node\n",
        "    open_list.append(start_node)\n",
        "\n",
        "    # Loop until you find the end\n",
        "    while len(open_list) > 0:\n",
        "        # Get the current node\n",
        "        # print([i.position for i in open_list])\n",
        "        current_node = open_list[0]\n",
        "        current_index = 0\n",
        "        for index, item in enumerate(open_list):\n",
        "            if item.f < current_node.f:\n",
        "                current_node = item\n",
        "                current_index = index\n",
        "\n",
        "        # Pop current off open list, add to closed list\n",
        "        open_list.pop(current_index)\n",
        "        closed_list.append(current_node)\n",
        "\n",
        "        # Found the goal\n",
        "        if current_node == end_node:\n",
        "            path = []\n",
        "            current = current_node\n",
        "            while current is not None:\n",
        "                path.append(current.position)\n",
        "                current = current.parent\n",
        "            return path[::-1] # Return reversed path\n",
        "\n",
        "        # Generate children\n",
        "        children = []\n",
        "        # st()\n",
        "        for new_position in [(0, -1), (0, 1), (-1, 0), (1, 0)]: # Adjacent squares\n",
        "\n",
        "            # Get node position\n",
        "            node_position = (current_node.position[0] + new_position[0], current_node.position[1] + new_position[1])\n",
        "\n",
        "            # Make sure within range\n",
        "            if node_position[0] > (len(maze) - 1) or node_position[0] < 0 or node_position[1] > (len(maze[len(maze)-1]) -1) or node_position[1] < 0:\n",
        "                continue\n",
        "\n",
        "            # Make sure walkable terrain\n",
        "            if maze[node_position[0]][node_position[1]] == '#':\n",
        "                continue\n",
        "\n",
        "            # Create new node\n",
        "            new_node = Node(current_node, node_position)\n",
        "\n",
        "            # Append\n",
        "            children.append(new_node)\n",
        "\n",
        "        # Loop through children\n",
        "        # st()\n",
        "        for child in children:\n",
        "\n",
        "            # Child is on the closed list\n",
        "            for closed_child in closed_list:\n",
        "                if child == closed_child:\n",
        "                    continue\n",
        "\n",
        "            # Create the f, g, and h values\n",
        "            child.g = current_node.g + 1\n",
        "            child.h = ((child.position[0] - end_node.position[0]) ** 2) + ((child.position[1] - end_node.position[1]) ** 2)\n",
        "            child.f = child.g + child.h\n",
        "\n",
        "            # Child is already in the open list\n",
        "            for open_node in open_list:\n",
        "                if child == open_node and child.g > open_node.g:\n",
        "                    continue\n",
        "\n",
        "            # Add the child to the open list\n",
        "            open_list.append(child)"
      ],
      "metadata": {
        "id": "cvkZ9xOlYtll"
      },
      "execution_count": null,
      "outputs": []
    },
    {
      "cell_type": "code",
      "source": [
        "checkpoints = get_checkpoint_idxs(field)\n",
        "combinations = get_all_combinations(checkpoints, 3)\n",
        "combinations"
      ],
      "metadata": {
        "colab": {
          "base_uri": "https://localhost:8080/"
        },
        "id": "08cVkhrZY9ks",
        "outputId": "fd8f5fef-f672-4c80-ee6c-0051664d89fb"
      },
      "execution_count": null,
      "outputs": [
        {
          "output_type": "execute_result",
          "data": {
            "text/plain": [
              "[(array([0, 0]), array([1, 2]), array([2, 0])),\n",
              " (array([0, 0]), array([1, 2]), array([2, 4])),\n",
              " (array([0, 0]), array([2, 0]), array([2, 4])),\n",
              " (array([1, 2]), array([2, 0]), array([2, 4]))]"
            ]
          },
          "metadata": {},
          "execution_count": 84
        }
      ]
    },
    {
      "cell_type": "code",
      "source": [
        "grid = [list(i) for i in field]\n",
        "grid"
      ],
      "metadata": {
        "colab": {
          "base_uri": "https://localhost:8080/"
        },
        "id": "smcNaEbMjMoa",
        "outputId": "ba1fe829-5ac8-40ac-8885-cb4cf8e6578a"
      },
      "execution_count": null,
      "outputs": [
        {
          "output_type": "execute_result",
          "data": {
            "text/plain": [
              "[['*', '#', '.', '.', '#'],\n",
              " ['.', '#', '*', '#', '.'],\n",
              " ['*', '.', '.', '.', '*']]"
            ]
          },
          "metadata": {},
          "execution_count": 47
        }
      ]
    },
    {
      "cell_type": "code",
      "source": [
        "combinations[0]"
      ],
      "metadata": {
        "colab": {
          "base_uri": "https://localhost:8080/"
        },
        "id": "BftHB8NVowG1",
        "outputId": "19c1e938-93af-4010-8d63-1c1659b07814"
      },
      "execution_count": null,
      "outputs": [
        {
          "output_type": "execute_result",
          "data": {
            "text/plain": [
              "(array([0, 0]), array([1, 2]), array([2, 0]))"
            ]
          },
          "metadata": {},
          "execution_count": 85
        }
      ]
    },
    {
      "cell_type": "code",
      "source": [
        "get_all_combinations(np.array(combinations[0]), 2)"
      ],
      "metadata": {
        "colab": {
          "base_uri": "https://localhost:8080/"
        },
        "id": "hpm_CnfYonz_",
        "outputId": "a24bc154-6f62-49c3-c37c-9a6a1b2195d2"
      },
      "execution_count": null,
      "outputs": [
        {
          "output_type": "execute_result",
          "data": {
            "text/plain": [
              "[(array([0, 0]), array([1, 2])),\n",
              " (array([0, 0]), array([2, 0])),\n",
              " (array([1, 2]), array([2, 0]))]"
            ]
          },
          "metadata": {},
          "execution_count": 86
        }
      ]
    },
    {
      "cell_type": "code",
      "source": [
        "distances = []\n",
        "for each_comb in combinations:\n",
        "    all_combinations = get_all_combinations(np.array(each_comb), 2)\n",
        "    for i in range(len(all_combinations - 2)):\n",
        "        start, end =all_combinations[i], all_combinations[i]"
      ],
      "metadata": {
        "id": "khMUNu_-aK3D"
      },
      "execution_count": null,
      "outputs": []
    },
    {
      "cell_type": "code",
      "source": [
        "[['*', '#', '.', '.', '#'],\n",
        " ['.', '#', '*', '#', '.'],\n",
        " ['*', '.', '.', '.', '*']]\n",
        "astar(grid, [0, 0], [1, 2])"
      ],
      "metadata": {
        "colab": {
          "base_uri": "https://localhost:8080/"
        },
        "id": "zHBtTdhjjPC8",
        "outputId": "56c58a91-d973-4c9e-c0fa-f0e7bf5b3e8f"
      },
      "execution_count": null,
      "outputs": [
        {
          "output_type": "execute_result",
          "data": {
            "text/plain": [
              "[[0, 0], (1, 0), (2, 0), (2, 1), (2, 2), (1, 2)]"
            ]
          },
          "metadata": {},
          "execution_count": 73
        }
      ]
    },
    {
      "cell_type": "code",
      "source": [],
      "metadata": {
        "id": "H99aKpLcjdfz"
      },
      "execution_count": null,
      "outputs": []
    }
  ]
}