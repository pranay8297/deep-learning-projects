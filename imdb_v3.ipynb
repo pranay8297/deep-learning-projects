{
  "nbformat": 4,
  "nbformat_minor": 0,
  "metadata": {
    "colab": {
      "name": "Untitled9.ipynb",
      "provenance": [],
      "machine_shape": "hm",
      "authorship_tag": "ABX9TyOqSE3u/v8wcfUUuang5c6o",
      "include_colab_link": true
    },
    "kernelspec": {
      "display_name": "Python 3",
      "name": "python3"
    },
    "accelerator": "GPU"
  },
  "cells": [
    {
      "cell_type": "markdown",
      "metadata": {
        "id": "view-in-github",
        "colab_type": "text"
      },
      "source": [
        "<a href=\"https://colab.research.google.com/github/pranay8297/deep-learning-projects/blob/master/imdb_v3.ipynb\" target=\"_parent\"><img src=\"https://colab.research.google.com/assets/colab-badge.svg\" alt=\"Open In Colab\"/></a>"
      ]
    },
    {
      "cell_type": "code",
      "metadata": {
        "colab": {
          "base_uri": "https://localhost:8080/"
        },
        "id": "_J_y_qtaLyZU",
        "outputId": "53200070-0e58-4345-d536-4eb4f2d29617"
      },
      "source": [
        "!pip install \"torch==1.4\" \"torchvision==0.5.0\" #use the old version"
      ],
      "execution_count": 1,
      "outputs": [
        {
          "output_type": "stream",
          "text": [
            "Collecting torch==1.4\n",
            "\u001b[?25l  Downloading https://files.pythonhosted.org/packages/24/19/4804aea17cd136f1705a5e98a00618cb8f6ccc375ad8bfa437408e09d058/torch-1.4.0-cp36-cp36m-manylinux1_x86_64.whl (753.4MB)\n",
            "\u001b[K     |████████████████████████████████| 753.4MB 20kB/s \n",
            "\u001b[?25hCollecting torchvision==0.5.0\n",
            "\u001b[?25l  Downloading https://files.pythonhosted.org/packages/7e/90/6141bf41f5655c78e24f40f710fdd4f8a8aff6c8b7c6f0328240f649bdbe/torchvision-0.5.0-cp36-cp36m-manylinux1_x86_64.whl (4.0MB)\n",
            "\u001b[K     |████████████████████████████████| 4.0MB 43.7MB/s \n",
            "\u001b[?25hRequirement already satisfied: pillow>=4.1.1 in /usr/local/lib/python3.6/dist-packages (from torchvision==0.5.0) (7.0.0)\n",
            "Requirement already satisfied: numpy in /usr/local/lib/python3.6/dist-packages (from torchvision==0.5.0) (1.18.5)\n",
            "Requirement already satisfied: six in /usr/local/lib/python3.6/dist-packages (from torchvision==0.5.0) (1.15.0)\n",
            "Installing collected packages: torch, torchvision\n",
            "  Found existing installation: torch 1.7.0+cu101\n",
            "    Uninstalling torch-1.7.0+cu101:\n",
            "      Successfully uninstalled torch-1.7.0+cu101\n",
            "  Found existing installation: torchvision 0.8.1+cu101\n",
            "    Uninstalling torchvision-0.8.1+cu101:\n",
            "      Successfully uninstalled torchvision-0.8.1+cu101\n",
            "Successfully installed torch-1.4.0 torchvision-0.5.0\n"
          ],
          "name": "stdout"
        }
      ]
    },
    {
      "cell_type": "code",
      "metadata": {
        "colab": {
          "base_uri": "https://localhost:8080/"
        },
        "id": "7JslEvLSJcVq",
        "outputId": "697c7c2a-ba7d-491b-8672-9bc64e0cd832"
      },
      "source": [
        "!pip install ipdb\n",
        "from ipdb import set_trace as st"
      ],
      "execution_count": 2,
      "outputs": [
        {
          "output_type": "stream",
          "text": [
            "Requirement already satisfied: ipdb in /usr/local/lib/python3.6/dist-packages (0.13.4)\n",
            "Requirement already satisfied: ipython>=5.1.0; python_version >= \"3.4\" in /usr/local/lib/python3.6/dist-packages (from ipdb) (5.5.0)\n",
            "Requirement already satisfied: setuptools in /usr/local/lib/python3.6/dist-packages (from ipdb) (50.3.2)\n",
            "Requirement already satisfied: prompt-toolkit<2.0.0,>=1.0.4 in /usr/local/lib/python3.6/dist-packages (from ipython>=5.1.0; python_version >= \"3.4\"->ipdb) (1.0.18)\n",
            "Requirement already satisfied: simplegeneric>0.8 in /usr/local/lib/python3.6/dist-packages (from ipython>=5.1.0; python_version >= \"3.4\"->ipdb) (0.8.1)\n",
            "Requirement already satisfied: pickleshare in /usr/local/lib/python3.6/dist-packages (from ipython>=5.1.0; python_version >= \"3.4\"->ipdb) (0.7.5)\n",
            "Requirement already satisfied: pygments in /usr/local/lib/python3.6/dist-packages (from ipython>=5.1.0; python_version >= \"3.4\"->ipdb) (2.6.1)\n",
            "Requirement already satisfied: pexpect; sys_platform != \"win32\" in /usr/local/lib/python3.6/dist-packages (from ipython>=5.1.0; python_version >= \"3.4\"->ipdb) (4.8.0)\n",
            "Requirement already satisfied: traitlets>=4.2 in /usr/local/lib/python3.6/dist-packages (from ipython>=5.1.0; python_version >= \"3.4\"->ipdb) (4.3.3)\n",
            "Requirement already satisfied: decorator in /usr/local/lib/python3.6/dist-packages (from ipython>=5.1.0; python_version >= \"3.4\"->ipdb) (4.4.2)\n",
            "Requirement already satisfied: six>=1.9.0 in /usr/local/lib/python3.6/dist-packages (from prompt-toolkit<2.0.0,>=1.0.4->ipython>=5.1.0; python_version >= \"3.4\"->ipdb) (1.15.0)\n",
            "Requirement already satisfied: wcwidth in /usr/local/lib/python3.6/dist-packages (from prompt-toolkit<2.0.0,>=1.0.4->ipython>=5.1.0; python_version >= \"3.4\"->ipdb) (0.2.5)\n",
            "Requirement already satisfied: ptyprocess>=0.5 in /usr/local/lib/python3.6/dist-packages (from pexpect; sys_platform != \"win32\"->ipython>=5.1.0; python_version >= \"3.4\"->ipdb) (0.6.0)\n",
            "Requirement already satisfied: ipython-genutils in /usr/local/lib/python3.6/dist-packages (from traitlets>=4.2->ipython>=5.1.0; python_version >= \"3.4\"->ipdb) (0.2.0)\n"
          ],
          "name": "stdout"
        }
      ]
    },
    {
      "cell_type": "code",
      "metadata": {
        "id": "TxuE_nsjJlBi"
      },
      "source": [
        "from fastai import *\n",
        "from fastai.text import *"
      ],
      "execution_count": 3,
      "outputs": []
    },
    {
      "cell_type": "code",
      "metadata": {
        "colab": {
          "base_uri": "https://localhost:8080/"
        },
        "id": "5WTuIuv1JsqL",
        "outputId": "2a762332-b43d-4c6a-8fed-be1e8187cfbe"
      },
      "source": [
        "path = untar_data(URLs.IMDB)\n",
        "path.ls()"
      ],
      "execution_count": 5,
      "outputs": [
        {
          "output_type": "execute_result",
          "data": {
            "text/plain": [
              "[PosixPath('/root/.fastai/data/imdb/imdb.vocab'),\n",
              " PosixPath('/root/.fastai/data/imdb/test'),\n",
              " PosixPath('/root/.fastai/data/imdb/train'),\n",
              " PosixPath('/root/.fastai/data/imdb/tmp_lm'),\n",
              " PosixPath('/root/.fastai/data/imdb/README'),\n",
              " PosixPath('/root/.fastai/data/imdb/tmp_clas'),\n",
              " PosixPath('/root/.fastai/data/imdb/unsup')]"
            ]
          },
          "metadata": {
            "tags": []
          },
          "execution_count": 5
        }
      ]
    },
    {
      "cell_type": "code",
      "metadata": {
        "id": "pzyH69kYKV5f",
        "outputId": "c57e7b8f-74f0-4c5b-b863-220a84de9002",
        "colab": {
          "base_uri": "https://localhost:8080/"
        }
      },
      "source": [
        "#test\n",
        "(path/'train'/'pos').ls()[:10]"
      ],
      "execution_count": 7,
      "outputs": [
        {
          "output_type": "execute_result",
          "data": {
            "text/plain": [
              "[PosixPath('/root/.fastai/data/imdb/train/pos/8877_9.txt'),\n",
              " PosixPath('/root/.fastai/data/imdb/train/pos/8480_10.txt'),\n",
              " PosixPath('/root/.fastai/data/imdb/train/pos/3287_9.txt'),\n",
              " PosixPath('/root/.fastai/data/imdb/train/pos/8627_10.txt'),\n",
              " PosixPath('/root/.fastai/data/imdb/train/pos/8990_10.txt'),\n",
              " PosixPath('/root/.fastai/data/imdb/train/pos/4562_9.txt'),\n",
              " PosixPath('/root/.fastai/data/imdb/train/pos/10679_10.txt'),\n",
              " PosixPath('/root/.fastai/data/imdb/train/pos/6682_10.txt'),\n",
              " PosixPath('/root/.fastai/data/imdb/train/pos/11405_8.txt'),\n",
              " PosixPath('/root/.fastai/data/imdb/train/pos/821_10.txt')]"
            ]
          },
          "metadata": {
            "tags": []
          },
          "execution_count": 7
        }
      ]
    },
    {
      "cell_type": "code",
      "metadata": {
        "id": "H0fw5sPRKMlC",
        "outputId": "64046c2f-a009-4ceb-df04-a5d589f8a22c",
        "colab": {
          "base_uri": "https://localhost:8080/",
          "height": 17
        }
      },
      "source": [
        "#language model learner\n",
        "src_lm = TextList.from_folder(path, include = ['train', 'test']).split_by_rand_pct().label_for_lm()\n",
        "data_lm = src_lm.databunch()"
      ],
      "execution_count": 15,
      "outputs": [
        {
          "output_type": "display_data",
          "data": {
            "text/html": [
              ""
            ],
            "text/plain": [
              "<IPython.core.display.HTML object>"
            ]
          },
          "metadata": {
            "tags": []
          }
        },
        {
          "output_type": "display_data",
          "data": {
            "text/html": [
              ""
            ],
            "text/plain": [
              "<IPython.core.display.HTML object>"
            ]
          },
          "metadata": {
            "tags": []
          }
        }
      ]
    },
    {
      "cell_type": "code",
      "metadata": {
        "id": "9l1198IhKj40",
        "outputId": "ac7079e2-5e11-43b4-a27f-119928916f77",
        "colab": {
          "base_uri": "https://localhost:8080/"
        }
      },
      "source": [
        "#test\n",
        "src_lm"
      ],
      "execution_count": 14,
      "outputs": [
        {
          "output_type": "execute_result",
          "data": {
            "text/plain": [
              "LabelLists;\n",
              "\n",
              "Train: LabelList (40000 items)\n",
              "x: LMTextList\n",
              "xxbos xxmaj as a physicist , talk about xxunk and cosmology gets my heart racing . xxmaj however i found this presentation too slow and not packed with enough information for the interested layman ( who is most likely to see it ) . xxmaj if you have more than a passing curiosity in this sort of stuff , go to the library and check out some books . xxmaj you will find they explain current scientific xxunk with far more detail while at the same time filling you with more of a sense of wonder than this movie does . xxmaj also to set the record straight : xxmaj hawking is xxup not considered the \" greatest mind \" or the world 's \" smartest person \" as commonly asserted even among the user reviews here at the imdb . xxmaj hawking himself has commented that \" xxmaj it is rubbish . xxmaj it is just media hype . xxmaj they needed somebody to fill the role model of disabled genius . xxmaj at least i 'm disabled . \" xxmaj to be fair , he is probably a genius but among history 's greatest scientists , people like xxmaj einstein , xxmaj newton , xxmaj xxunk , and many others easily are even more highly regarded . xxmaj this is not to disrespect xxmaj hawking who is a undoubtedly a great scientist but rather not to disrespect others who have done even more than he has . xxmaj anyhow , see the movie if you are truly into science . xxmaj but if not , i think it would be boring for you .,xxbos a teen - age boy , who is not in the military and has not trained to be a jet pilot , takes off for a foreign country to rescue his dad . xxmaj if this is not ridiculous enough , he talks a xxmaj colonel in the xxmaj air xxmaj force into helping him get his hands on a jet [ wow ! ] . xxmaj to make the picture even more absurd , the xxmaj colonel risks his career and life by giving the spunky lad some hands on aid . xxmaj they not only do n't make xxmaj xxunk like this anymore , but they never did . xxmaj this sappy , corny film should be tossed into the air and blown away by a xxup mig .,xxbos xxmaj they 've shown i twice in a very short time now here in xxmaj sweden and i am so very tired of it . xxmaj the bad acting is n't enough ... xxmaj the story itself is so boring and the effects hardly exists . i love the original from 1953 so i recommend you to go and rent that one instead . xxmaj because this one is such a bore .,xxbos xxmaj this straight to video cheap flick is based on a true story . i do n't doubt it . xxmaj does n't mean it 's particularly interesting ( unless you are one of the main characters who actually lived though this experience ) . a young woman named xxmaj angela buys a great , big old country home really really cheap . xxmaj well , as we all know from watching xxmaj horror movies , when you buy a big house cheap it usually means it 's haunted in some way , shape or form . xxmaj in fact , the second the house is being handed over to xxmaj angela the wise guy kid who lived in the house up to now takes a moment to \" introduce \" xxmaj angela to one of the ghosts ! xxmaj nice guy , huh ? xxmaj angela gets in touch with a psychic and a paranormal expert and tells them that her house is haunted and invites them to come over and see the ghosts for themselves . xxmaj they come to a party and sure enough there are ghosts walking around , sitting on the couch , hanging in the garage and trying to seduce people in the bathroom . a few friends sleep over the night of the party , see the ghosts and vow never to come back in the house again . ( xxmaj check out the girl who xxunk \" i 'm so scared . i 'm so scared . \" totally emotionless . xxmaj if she was so scared why did n't she get up , turn the knob and leave ? ! ) xxmaj the ghosts do n't really do anything menacing aside from show up ( xxmaj and there is no xxunk or aura about them . xxmaj they look just like regular people ) . xxmaj they steal celery from the kitchen , move chairs around a la xxup poltergeist and one bisexual female ghost seduces xxmaj angela , who , get this , does n't seem to mind ! xxmaj this scene plays like the kind of soft - core porn you see on the xxup spice channel . ( xxmaj ummm ... not that i 'd xxup know ! xxmaj hahaha ) . xxmaj the actresses are n't your typical porn stars though . xxmaj they should hit the beach and the gym more . xxmaj when xxmaj xxunk xxup not making love to the dead she gets mad at them and stands alone in a room screaming \" xxmaj why wo n't you leave ? ! xxmaj this is xxup my house ! xxmaj get out ! \" xxmaj they do n't leave . i could n't help but think of all the times i 've heard psychic xxmaj sylvia xxmaj brown on xxup tv saying that if you have a ghost in your house you should calmly rationalize with the ghost and say \" xxmaj look , you 're dead . xxmaj it 's time to cross over to the other side . xxmaj in other words , get out ! \" xxmaj according to xxmaj sylvia xxmaj brown , as long as your not hostile and nasty about it , they 'll leave ! xxmaj this movie looks like it cost about $ 50 to make . xxmaj it has a really cheap feel , and bad acting . i could have made this movie with 5 friends and a camcorder .,xxbos xxmaj this movie is not so good as i thought it would be . xxmaj there is no story whatsoever , no characters and some dialog would have been nice . xxmaj the gore effects are good and it gets quite bloody at times but nothing over the top . xxmaj it starts with an autopsy on a man and when that is over the scene with the girl starts . xxmaj the music is a classic score and fits the movie very well . xxmaj they should have made a 90 minutes version in which they could have had some time for character development so we can feel sorry for the person on the autopsy table . xxmaj and some more info about the xxunk would have made this movie far scarier than it is . xxmaj do n't expect a scary movie but a nice , gory special effects reel .\n",
              "y: LMLabelList\n",
              ",,,,\n",
              "Path: /root/.fastai/data/imdb;\n",
              "\n",
              "Valid: LabelList (10000 items)\n",
              "x: LMTextList\n",
              "xxbos i saw this in the theater when it came out , and just yesterday i saw it again on cable . xxmaj this i was able to xxunk myself with the feeling of just how revolting this film is . xxmaj the whole bunch of characters are self - absorbed xxunk xxunk . xxmaj worst of all , it reinforces every negative stereotype about 20-something dating , even as it purports to celebrate people \" finding themselves \" . xxmaj the nice guys finish last , the jerky guys make out great , the xxunk guys do best . xxmaj the girls are all boy toy xxunk . xxmaj only one character ( \" xxmaj wendy \" ) is seen doing anything remotely useful to society , and she dispenses with her long - saved virginity in a throwaway one - night stand with a scumbag , in a lushly filmed scene that we 're supposed to think is romantic . xxmaj what this really is is xxmaj hollywood 's concept of young xxmaj america : xxunk , detached , promiscuous , conceited .,xxbos xxmaj this film is one of the finest xxmaj american b - movies of the 90s . xxmaj if you 're looking for a serious film , look elsewhere . xxmaj however , if you 're looking for some action , a lot of laughs , and a tongue in cheek variation on cops fighting gangsters , this is well worth watching . xxmaj everyone chews the scenery a bit , but that 's really what the film is all about , and everyone is quite funny . xxmaj donald xxmaj sutherland and xxmaj john xxmaj lithgow have great chemistry and need to do another film together .,xxbos xxmaj australian xxmaj fred xxmaj schepisi ( a xxmaj cry in the xxmaj dark ) directs this comedy / romance that is fun , relaxing , and set in the spring . xxmaj you will laugh while watching this movie . xxmaj tim xxmaj robbins ( xxmaj shawshank xxmaj redemption , xxmaj dead xxmaj man xxmaj walking ) is an auto mechanic , xxmaj ed xxmaj walters , with a high xxup iq , which gets higher with the help of xxmaj albert xxmaj einstein , xxmaj walter xxmaj matthau ( xxmaj grumpy xxmaj old xxmaj men ) and his academic friends xxmaj nathan , xxmaj kurt and xxmaj boris . xxmaj you can tell them by their preppie shoes . xxmaj meg xxmaj ryan ( xxmaj sleepless in xxmaj seattle , xxmaj you 've xxmaj got xxmaj mail ) is xxmaj catherine xxmaj boyd , xxmaj einstein 's niece who is a competent , but not so confident mathematician . xxmaj perhaps it is because she is surrounded by all that genius . xxmaj she thinks that if she marries someone with a high xxup i.q. her kids will have a high xxup i.q. as well , but she does not knows what she wants . xxmaj between xxmaj tim xxmaj robbins cute smile and xxmaj meg 's cuteness this is a refreshing movie . i love sweet stories . xxmaj people all ages should enjoy this movie . xxmaj catherine is engaged to the jerk xxmaj james xxmaj moreland , who works in animal behavior , but is very stuffy . xxmaj this is a love a first sight type situation , between the mechanic and the mathematician . xxmaj witty lines and subliminal lines ! xxmaj the cinematography is nice . xxmaj princeton , xxmaj new xxmaj jersey is beautiful in the xxmaj spring . xxmaj with much help from all those brilliant men xxmaj catherine falls for xxmaj ed , without knowing that he is an automobile mechanic . \n",
              " \n",
              "  xxmaj favorite xxmaj scenes : xxmaj ed taking a multiple choice test in front of a crowd with the help of xxmaj einstein , xxmaj nathan , xxmaj kurt , and xxmaj boris . xxmaj ed and xxmaj einstein riding on the motorcycle . xxmaj nathan , xxmaj kurt and xxmaj boris letting all the research animals free ! \n",
              " \n",
              "  xxmaj favorite xxmaj quotes : xxmaj albert xxmaj einstein : \" xxmaj do n't let your brain interfere with your heart \" . xxmaj ed xxmaj walters : \" xxmaj when was the last time he said \" xxmaj xxunk \" \" ? xxmaj catherine xxmaj boyd : \" xxmaj well i 'm sure i do n't know \" . xxmaj this is a refreshing movie , i recommend it . i have the tape and every once and awhile i will watch it again .,xxbos xxmaj this movie deals with the xxmaj european xxup erasmus exchange program but more generally about the xxmaj european youth . xxmaj it is so true , that i do n't know xxmaj klapisch did to reach such a masterpiece ... xxmaj definitely one of my top 5 movies . xxmaj it reminds me of the famous song \" xxmaj this is my life , my life , life is life ... \" 10 / 10,xxbos xxmaj klaus xxmaj kinski popped up in a sizable number of spaghetti xxmaj westerns throughout the 60 's and early 70 's ; he was usually cast in secondary parts as nasty villains . xxmaj kooky xxmaj klaus lands himself a juicy lead role as xxmaj crazy xxmaj johnny xxmaj xxunk , a foul , twitchy , and deranged sex maniac who comes up with a plan to abduct a lovely heiress in order to obtain her considerable inheritance . xxmaj johnny and his gang become wanted fugitives after the plan goes disastrously awry . xxmaj writer / director xxmaj mario xxmaj costa ably crafts a xxunk compelling portrait of a severely sick and twisted piece of sniveling low - life work : the plot unfolds at a steady pace , the tone is appropriately gritty and serious , and the exciting action scenes are staged with real skill and brio ( the shoot - outs in rock xxunk are especially gripping and thrilling ) . xxmaj ironically dressed in white , oozing oily charisma from every rotten pore , and jumping on beautiful women every chance he gets , xxmaj kinski 's xxmaj johnny makes for a fascinatingly creepy and monstrous brute . xxmaj kinski is simply spectacular as this gloriously repellent character ; he receives fine support from the luscious xxmaj gabriella xxmaj xxunk as sweet , fiery saloon girl xxmaj juanita , xxmaj steven xxmaj xxunk as the cheery xxmaj riccardo , xxmaj giovanni xxmaj xxunk as ruthless band gang leader xxmaj machete , xxmaj giuliano xxmaj xxunk as smart lawyer xxmaj gary xxmaj pinkerton , and xxmaj paolo xxmaj xxunk as xxmaj johnny 's sensible parter xxmaj glen . xxmaj kudos are also in order for xxmaj stelvio xxmaj cipriani 's moody and spirited score . xxmaj well worth seeing for xxmaj kinski fans .\n",
              "y: LMLabelList\n",
              ",,,,\n",
              "Path: /root/.fastai/data/imdb;\n",
              "\n",
              "Test: None"
            ]
          },
          "metadata": {
            "tags": []
          },
          "execution_count": 14
        }
      ]
    },
    {
      "cell_type": "code",
      "metadata": {
        "id": "sRiq_o22LSI3",
        "outputId": "e42f699e-bad3-4c40-dcca-1505fdd3df61",
        "colab": {
          "base_uri": "https://localhost:8080/",
          "height": 289
        }
      },
      "source": [
        "data_lm.show_batch()"
      ],
      "execution_count": 16,
      "outputs": [
        {
          "output_type": "display_data",
          "data": {
            "text/html": [
              "<table border=\"1\" class=\"dataframe\">\n",
              "  <thead>\n",
              "    <tr style=\"text-align: right;\">\n",
              "      <th>idx</th>\n",
              "      <th>text</th>\n",
              "    </tr>\n",
              "  </thead>\n",
              "  <tbody>\n",
              "    <tr>\n",
              "      <td>0</td>\n",
              "      <td>you will find they explain current scientific xxunk with far more detail while at the same time filling you with more of a sense of wonder than this movie does . xxmaj also to set the record straight : xxmaj hawking is xxup not considered the \" greatest mind \" or the world 's \" smartest person \" as commonly asserted even among the user reviews here at the imdb</td>\n",
              "    </tr>\n",
              "    <tr>\n",
              "      <td>1</td>\n",
              "      <td>the camera : \" dirty ho \" , everything but the rim shot was missing , and even that would n't have helped . \\n \\n  xxmaj the same folks who created ' xxmaj whoville ' , clearly had a hand in the creation of the town and the houses in ' xxmaj cat ' . xxmaj the sets and props were very appealing , giving the viewer a</td>\n",
              "    </tr>\n",
              "    <tr>\n",
              "      <td>2</td>\n",
              "      <td>was n't feeling too annoyed , the movie was unintentionally quite hilarious once in a while , as it showed xxmaj holland at its smallest . xxbos xxmaj first off , i saw another reviewer said this movie was \" fantastic \" . xxmaj well nothing could be further from the truth ! xxmaj this movie is complete garbage ! ! ! a moronic horror comedy that is xxup not</td>\n",
              "    </tr>\n",
              "    <tr>\n",
              "      <td>3</td>\n",
              "      <td>they seem to be made purely because they fit the financial criteria rather than had any potential audience . a lucky few get a week at a small screen in xxmaj london before going to budget xxup dvd , but xxmaj the xxmaj riddle distinguished itself by completely xxunk cinema , xxup tv or even the rental market to premiere as a free gift xxup dvd in the xxmaj mail</td>\n",
              "    </tr>\n",
              "    <tr>\n",
              "      <td>4</td>\n",
              "      <td>slasher films on xxup vhs because the cover artwork is fantastic . xxmaj usually though , it turns out that the film itself is less than fantastic . xxmaj the xxmaj prey is one of those films . \\n \\n  xxmaj to be fair , it started off xxup ok , with the killer stalking the cliché teenagers in the woods . xxmaj the heartbeat sounds used are a</td>\n",
              "    </tr>\n",
              "  </tbody>\n",
              "</table>"
            ],
            "text/plain": [
              "<IPython.core.display.HTML object>"
            ]
          },
          "metadata": {
            "tags": []
          }
        }
      ]
    },
    {
      "cell_type": "code",
      "metadata": {
        "id": "kOIeC4-2MD3t"
      },
      "source": [
        "for x, y in data_lm.train_dl: break"
      ],
      "execution_count": 18,
      "outputs": []
    },
    {
      "cell_type": "code",
      "metadata": {
        "id": "5rA8qh7OMHpI",
        "outputId": "485b89da-34b9-47a2-f0ef-6425f6855f63",
        "colab": {
          "base_uri": "https://localhost:8080/"
        }
      },
      "source": [
        "#test\n",
        "x, y "
      ],
      "execution_count": 19,
      "outputs": [
        {
          "output_type": "execute_result",
          "data": {
            "text/plain": [
              "(tensor([[   10,     5, 12906,  ...,     0,    11,    12],\n",
              "         [ 7140,    53,     9,  ...,     5,   663,     9],\n",
              "         [   77,  1076,   174,  ...,   115,    13,  8842],\n",
              "         ...,\n",
              "         [ 5503,    12,    15,  ...,    22,   192, 29409],\n",
              "         [  628,  1859,    11,  ...,  4411,    32,    11],\n",
              "         [  116,  5978,    34,  ...,    56,   483,    49]], device='cuda:0'),\n",
              " tensor([[    5, 12906,   337,  ...,    11,    12,   129],\n",
              "         [   53,     9,    98,  ...,   663,     9,     6],\n",
              "         [ 1076,   174,    49,  ...,    13,  8842,   391],\n",
              "         ...,\n",
              "         [   12,    15,  9672,  ...,   192, 29409,    11],\n",
              "         [ 1859,    11,    17,  ...,    32,    11,    58],\n",
              "         [ 5978,    34,   152,  ...,   483,    49,     5]], device='cuda:0'))"
            ]
          },
          "metadata": {
            "tags": []
          },
          "execution_count": 19
        }
      ]
    },
    {
      "cell_type": "code",
      "metadata": {
        "id": "AW2q5DPKMMGo",
        "outputId": "306e24e8-6a01-4d2d-84c3-be4d07b9fb36",
        "colab": {
          "base_uri": "https://localhost:8080/"
        }
      },
      "source": [
        "voc = data_lm.vocab\n",
        "len(voc.itos)"
      ],
      "execution_count": 23,
      "outputs": [
        {
          "output_type": "execute_result",
          "data": {
            "text/plain": [
              "47496"
            ]
          },
          "metadata": {
            "tags": []
          },
          "execution_count": 23
        }
      ]
    },
    {
      "cell_type": "code",
      "metadata": {
        "id": "4vo2MgXHMmD4",
        "outputId": "1e772319-8f8b-4b26-90ad-44d17dc6bb66",
        "colab": {
          "base_uri": "https://localhost:8080/",
          "height": 253
        }
      },
      "source": [
        "#test\n",
        "doc(language_model_learner)"
      ],
      "execution_count": 24,
      "outputs": [
        {
          "output_type": "display_data",
          "data": {
            "text/html": [
              "<h4 id=\"language_model_learner\" class=\"doc_header\"><code>language_model_learner</code><a href=\"https://github.com/fastai/fastai/blob/master/fastai/text/learner.py#L203\" class=\"source_link\" style=\"float:right\">[source]</a><a class=\"source_link\" data-toggle=\"collapse\" data-target=\"#language_model_learner-pytest\" style=\"float:right; padding-right:10px\">[test]</a></h4><blockquote><p><code>language_model_learner</code>(<strong><code>data</code></strong>:<a href=\"https://docs.fast.ai/basic_data.html#DataBunch\"><code>DataBunch</code></a>, <strong><code>arch</code></strong>, <strong><code>config</code></strong>:<code>dict</code>=<strong><em><code>None</code></em></strong>, <strong><code>drop_mult</code></strong>:<code>float</code>=<strong><em><code>1.0</code></em></strong>, <strong><code>pretrained</code></strong>:<code>bool</code>=<strong><em><code>True</code></em></strong>, <strong><code>pretrained_fnames</code></strong>:<code>OptStrTuple</code>=<strong><em><code>None</code></em></strong>, <strong>**<code>learn_kwargs</code></strong>) → <code>LanguageLearner</code></p>\n",
              "</blockquote>\n",
              "<div class=\"collapse\" id=\"language_model_learner-pytest\"><div class=\"card card-body pytest_card\"><a type=\"button\" data-toggle=\"collapse\" data-target=\"#language_model_learner-pytest\" class=\"close\" aria-label=\"Close\"><span aria-hidden=\"true\">&times;</span></a><p>Tests found for <code>language_model_learner</code>:</p><ul><li><code>pytest -sv tests/test_text_train.py::test_qrnn_works_if_split_fn_provided</code> <a href=\"https://github.com/fastai/fastai/blob/master/tests/test_text_train.py#L73\" class=\"source_link\" style=\"float:right\">[source]</a></li><li><code>pytest -sv tests/test_text_train.py::test_qrnn_works_with_no_split</code> <a href=\"https://github.com/fastai/fastai/blob/master/tests/test_text_train.py#L61\" class=\"source_link\" style=\"float:right\">[source]</a></li></ul><p>To run tests please refer to this <a href=\"/dev/test.html#quick-guide\">guide</a>.</p></div></div><p>Create a <a href=\"https://docs.fast.ai/basic_train.html#Learner\"><code>Learner</code></a> with a language model from <code>data</code> and <code>arch</code>.</p>\n",
              "<p><a href=\"https://docs.fast.ai/text.learner.html#language_model_learner\" target=\"_blank\" rel=\"noreferrer noopener\">Show in docs</a></p>\n"
            ],
            "text/plain": [
              "<IPython.core.display.HTML object>"
            ]
          },
          "metadata": {
            "tags": []
          }
        }
      ]
    },
    {
      "cell_type": "code",
      "metadata": {
        "id": "z9J4e4PmMy19",
        "outputId": "df30eb2e-7f37-4172-c25b-8557e5f78ab0",
        "colab": {
          "base_uri": "https://localhost:8080/"
        }
      },
      "source": [
        "arch = AWD_LSTM\n",
        "arch.__dict__"
      ],
      "execution_count": 29,
      "outputs": [
        {
          "output_type": "execute_result",
          "data": {
            "text/plain": [
              "mappingproxy({'__doc__': 'AWD-LSTM/QRNN inspired by https://arxiv.org/abs/1708.02182.',\n",
              "              '__init__': <function fastai.text.models.awd_lstm.AWD_LSTM.__init__>,\n",
              "              '__module__': 'fastai.text.models.awd_lstm',\n",
              "              '_one_hidden': <function fastai.text.models.awd_lstm.AWD_LSTM._one_hidden>,\n",
              "              'forward': <function fastai.text.models.awd_lstm.AWD_LSTM.forward>,\n",
              "              'initrange': 0.1,\n",
              "              'reset': <function fastai.text.models.awd_lstm.AWD_LSTM.reset>,\n",
              "              'select_hidden': <function fastai.text.models.awd_lstm.AWD_LSTM.select_hidden>})"
            ]
          },
          "metadata": {
            "tags": []
          },
          "execution_count": 29
        }
      ]
    },
    {
      "cell_type": "code",
      "metadata": {
        "id": "KmsfGs-XMbPb",
        "outputId": "7d7d02e7-1c44-42de-dffb-0c0628b9ee01",
        "colab": {
          "base_uri": "https://localhost:8080/",
          "height": 34
        }
      },
      "source": [
        "learn_lm = language_model_learner(data_lm, arch, pretrained= True, drop_mult=0.3)"
      ],
      "execution_count": 30,
      "outputs": [
        {
          "output_type": "stream",
          "text": [
            "Downloading https://s3.amazonaws.com/fast-ai-modelzoo/wt103-fwd.tgz\n"
          ],
          "name": "stdout"
        },
        {
          "output_type": "display_data",
          "data": {
            "text/html": [
              ""
            ],
            "text/plain": [
              "<IPython.core.display.HTML object>"
            ]
          },
          "metadata": {
            "tags": []
          }
        }
      ]
    },
    {
      "cell_type": "code",
      "metadata": {
        "id": "3kXfXhfjNNIK",
        "outputId": "01805952-80d6-4439-81d1-123d9e2f134a",
        "colab": {
          "base_uri": "https://localhost:8080/",
          "height": 374
        }
      },
      "source": [
        "learn_lm.lr_find()\n",
        "learn_lm.recorder.plot()"
      ],
      "execution_count": 31,
      "outputs": [
        {
          "output_type": "display_data",
          "data": {
            "text/html": [
              "\n",
              "    <div>\n",
              "        <style>\n",
              "            /* Turns off some styling */\n",
              "            progress {\n",
              "                /* gets rid of default border in Firefox and Opera. */\n",
              "                border: none;\n",
              "                /* Needs to be in here for Safari polyfill so background images work as expected. */\n",
              "                background-size: auto;\n",
              "            }\n",
              "            .progress-bar-interrupted, .progress-bar-interrupted::-webkit-progress-bar {\n",
              "                background: #F44336;\n",
              "            }\n",
              "        </style>\n",
              "      <progress value='0' class='' max='1' style='width:300px; height:20px; vertical-align: middle;'></progress>\n",
              "      0.00% [0/1 00:00<00:00]\n",
              "    </div>\n",
              "    \n",
              "<table border=\"1\" class=\"dataframe\">\n",
              "  <thead>\n",
              "    <tr style=\"text-align: left;\">\n",
              "      <th>epoch</th>\n",
              "      <th>train_loss</th>\n",
              "      <th>valid_loss</th>\n",
              "      <th>accuracy</th>\n",
              "      <th>time</th>\n",
              "    </tr>\n",
              "  </thead>\n",
              "  <tbody>\n",
              "  </tbody>\n",
              "</table><p>\n",
              "\n",
              "    <div>\n",
              "        <style>\n",
              "            /* Turns off some styling */\n",
              "            progress {\n",
              "                /* gets rid of default border in Firefox and Opera. */\n",
              "                border: none;\n",
              "                /* Needs to be in here for Safari polyfill so background images work as expected. */\n",
              "                background-size: auto;\n",
              "            }\n",
              "            .progress-bar-interrupted, .progress-bar-interrupted::-webkit-progress-bar {\n",
              "                background: #F44336;\n",
              "            }\n",
              "        </style>\n",
              "      <progress value='99' class='' max='2666' style='width:300px; height:20px; vertical-align: middle;'></progress>\n",
              "      3.71% [99/2666 00:10<04:30 11.2725]\n",
              "    </div>\n",
              "    "
            ],
            "text/plain": [
              "<IPython.core.display.HTML object>"
            ]
          },
          "metadata": {
            "tags": []
          }
        },
        {
          "output_type": "stream",
          "text": [
            "LR Finder is complete, type {learner_name}.recorder.plot() to see the graph.\n"
          ],
          "name": "stdout"
        },
        {
          "output_type": "display_data",
          "data": {
            "image/png": "[encoded data removed]",
            "text/plain": [
              "<Figure size 432x288 with 1 Axes>"
            ]
          },
          "metadata": {
            "tags": [],
            "needs_background": "light"
          }
        }
      ]
    },
    {
      "cell_type": "code",
      "metadata": {
        "id": "4oG39wphNaQA",
        "outputId": "79c317ff-bc43-4d44-b049-11cb256fad8a",
        "colab": {
          "base_uri": "https://localhost:8080/",
          "height": 111
        }
      },
      "source": [
        "learn_lm.fit_one_cycle(2, 1e-02)"
      ],
      "execution_count": 33,
      "outputs": [
        {
          "output_type": "display_data",
          "data": {
            "text/html": [
              "<table border=\"1\" class=\"dataframe\">\n",
              "  <thead>\n",
              "    <tr style=\"text-align: left;\">\n",
              "      <th>epoch</th>\n",
              "      <th>train_loss</th>\n",
              "      <th>valid_loss</th>\n",
              "      <th>accuracy</th>\n",
              "      <th>time</th>\n",
              "    </tr>\n",
              "  </thead>\n",
              "  <tbody>\n",
              "    <tr>\n",
              "      <td>0</td>\n",
              "      <td>4.204300</td>\n",
              "      <td>4.071762</td>\n",
              "      <td>0.287401</td>\n",
              "      <td>05:11</td>\n",
              "    </tr>\n",
              "    <tr>\n",
              "      <td>1</td>\n",
              "      <td>3.997254</td>\n",
              "      <td>3.943815</td>\n",
              "      <td>0.299049</td>\n",
              "      <td>05:12</td>\n",
              "    </tr>\n",
              "  </tbody>\n",
              "</table>"
            ],
            "text/plain": [
              "<IPython.core.display.HTML object>"
            ]
          },
          "metadata": {
            "tags": []
          }
        }
      ]
    },
    {
      "cell_type": "code",
      "metadata": {
        "id": "WW7NXhhXPMK8",
        "outputId": "731ac06e-f488-4abc-a40e-e690b8aa496d",
        "colab": {
          "base_uri": "https://localhost:8080/",
          "height": 377
        }
      },
      "source": [
        "learn_lm.unfreeze()\n",
        "learn_lm.lr_find()\n",
        "learn_lm.recorder.plot()"
      ],
      "execution_count": 34,
      "outputs": [
        {
          "output_type": "display_data",
          "data": {
            "text/html": [
              "\n",
              "    <div>\n",
              "        <style>\n",
              "            /* Turns off some styling */\n",
              "            progress {\n",
              "                /* gets rid of default border in Firefox and Opera. */\n",
              "                border: none;\n",
              "                /* Needs to be in here for Safari polyfill so background images work as expected. */\n",
              "                background-size: auto;\n",
              "            }\n",
              "            .progress-bar-interrupted, .progress-bar-interrupted::-webkit-progress-bar {\n",
              "                background: #F44336;\n",
              "            }\n",
              "        </style>\n",
              "      <progress value='0' class='' max='1' style='width:300px; height:20px; vertical-align: middle;'></progress>\n",
              "      0.00% [0/1 00:00<00:00]\n",
              "    </div>\n",
              "    \n",
              "<table border=\"1\" class=\"dataframe\">\n",
              "  <thead>\n",
              "    <tr style=\"text-align: left;\">\n",
              "      <th>epoch</th>\n",
              "      <th>train_loss</th>\n",
              "      <th>valid_loss</th>\n",
              "      <th>accuracy</th>\n",
              "      <th>time</th>\n",
              "    </tr>\n",
              "  </thead>\n",
              "  <tbody>\n",
              "  </tbody>\n",
              "</table><p>\n",
              "\n",
              "    <div>\n",
              "        <style>\n",
              "            /* Turns off some styling */\n",
              "            progress {\n",
              "                /* gets rid of default border in Firefox and Opera. */\n",
              "                border: none;\n",
              "                /* Needs to be in here for Safari polyfill so background images work as expected. */\n",
              "                background-size: auto;\n",
              "            }\n",
              "            .progress-bar-interrupted, .progress-bar-interrupted::-webkit-progress-bar {\n",
              "                background: #F44336;\n",
              "            }\n",
              "        </style>\n",
              "      <progress value='97' class='' max='2666' style='width:300px; height:20px; vertical-align: middle;'></progress>\n",
              "      3.64% [97/2666 00:11<05:15 14.5291]\n",
              "    </div>\n",
              "    "
            ],
            "text/plain": [
              "<IPython.core.display.HTML object>"
            ]
          },
          "metadata": {
            "tags": []
          }
        },
        {
          "output_type": "stream",
          "text": [
            "LR Finder is complete, type {learner_name}.recorder.plot() to see the graph.\n"
          ],
          "name": "stdout"
        },
        {
          "output_type": "display_data",
          "data": {
            "image/png": "[encoded data removed]",
            "text/plain": [
              "<Figure size 432x288 with 1 Axes>"
            ]
          },
          "metadata": {
            "tags": [],
            "needs_background": "light"
          }
        }
      ]
    },
    {
      "cell_type": "code",
      "metadata": {
        "id": "wQzIR_haQA9_",
        "outputId": "b05156f8-2649-422a-a80f-45c4a55c2a87",
        "colab": {
          "base_uri": "https://localhost:8080/",
          "height": 111
        }
      },
      "source": [
        "learn_lm.fit_one_cycle(2, 1e-03)"
      ],
      "execution_count": 35,
      "outputs": [
        {
          "output_type": "display_data",
          "data": {
            "text/html": [
              "<table border=\"1\" class=\"dataframe\">\n",
              "  <thead>\n",
              "    <tr style=\"text-align: left;\">\n",
              "      <th>epoch</th>\n",
              "      <th>train_loss</th>\n",
              "      <th>valid_loss</th>\n",
              "      <th>accuracy</th>\n",
              "      <th>time</th>\n",
              "    </tr>\n",
              "  </thead>\n",
              "  <tbody>\n",
              "    <tr>\n",
              "      <td>0</td>\n",
              "      <td>3.776662</td>\n",
              "      <td>3.785966</td>\n",
              "      <td>0.317828</td>\n",
              "      <td>05:57</td>\n",
              "    </tr>\n",
              "    <tr>\n",
              "      <td>1</td>\n",
              "      <td>3.600149</td>\n",
              "      <td>3.717384</td>\n",
              "      <td>0.326492</td>\n",
              "      <td>05:57</td>\n",
              "    </tr>\n",
              "  </tbody>\n",
              "</table>"
            ],
            "text/plain": [
              "<IPython.core.display.HTML object>"
            ]
          },
          "metadata": {
            "tags": []
          }
        }
      ]
    },
    {
      "cell_type": "code",
      "metadata": {
        "id": "oYLmX99RQJnZ"
      },
      "source": [
        "learn_lm.save_encoder('fine_tuned')"
      ],
      "execution_count": 36,
      "outputs": []
    },
    {
      "cell_type": "code",
      "metadata": {
        "id": "K0J9ZuBDQUib",
        "outputId": "a30eb1e6-aa60-4d61-c4ba-9a28c60c08a1",
        "colab": {
          "base_uri": "https://localhost:8080/",
          "height": 17
        }
      },
      "source": [
        "#now NLP classifier\n",
        "src = TextList.from_folder(path, include = ['train', 'test'], vocab = data_lm.vocab).split_by_folder(valid = 'test').label_from_folder(classes = ['pos', 'neg'])\n",
        "data = src.databunch()"
      ],
      "execution_count": 46,
      "outputs": [
        {
          "output_type": "display_data",
          "data": {
            "text/html": [
              ""
            ],
            "text/plain": [
              "<IPython.core.display.HTML object>"
            ]
          },
          "metadata": {
            "tags": []
          }
        },
        {
          "output_type": "display_data",
          "data": {
            "text/html": [
              ""
            ],
            "text/plain": [
              "<IPython.core.display.HTML object>"
            ]
          },
          "metadata": {
            "tags": []
          }
        }
      ]
    },
    {
      "cell_type": "code",
      "metadata": {
        "id": "WSzcNdfoQ2bU",
        "outputId": "46e583a6-2ae3-4d94-e965-4dfd438ae5b8",
        "colab": {
          "base_uri": "https://localhost:8080/",
          "height": 289
        }
      },
      "source": [
        "data.show_batch()"
      ],
      "execution_count": 47,
      "outputs": [
        {
          "output_type": "display_data",
          "data": {
            "text/html": [
              "<table border=\"1\" class=\"dataframe\">\n",
              "  <thead>\n",
              "    <tr style=\"text-align: right;\">\n",
              "      <th>text</th>\n",
              "      <th>target</th>\n",
              "    </tr>\n",
              "  </thead>\n",
              "  <tbody>\n",
              "    <tr>\n",
              "      <td>xxbos xxmaj match 1 : xxmaj tag xxmaj team xxmaj table xxmaj match xxmaj bubba xxmaj ray and xxmaj spike xxmaj dudley vs xxmaj eddie xxmaj guerrero and xxmaj chris xxmaj benoit xxmaj bubba xxmaj ray and xxmaj spike xxmaj dudley started things off with a xxmaj tag xxmaj team xxmaj table xxmaj match against xxmaj eddie xxmaj guerrero and xxmaj chris xxmaj benoit . xxmaj according to the rules</td>\n",
              "      <td>pos</td>\n",
              "    </tr>\n",
              "    <tr>\n",
              "      <td>xxbos xxmaj warning : xxmaj does contain spoilers . \\n \\n  xxmaj open xxmaj your xxmaj eyes \\n \\n  xxmaj if you have not seen this film and plan on doing so , just stop reading here and take my word for it . xxmaj you have to see this film . i have seen it four times so far and i still have n't made up my</td>\n",
              "      <td>pos</td>\n",
              "    </tr>\n",
              "    <tr>\n",
              "      <td>xxbos xxup anchors xxup aweigh sees two eager young sailors , xxmaj joe xxmaj brady ( xxmaj gene xxmaj kelly ) and xxmaj clarence xxmaj doolittle / xxmaj brooklyn ( xxmaj frank xxmaj sinatra ) , get a special four - day shore leave . xxmaj eager to get to the girls , particularly xxmaj joe 's xxmaj lola , neither xxmaj joe nor xxmaj brooklyn figure on the interruption</td>\n",
              "      <td>pos</td>\n",
              "    </tr>\n",
              "    <tr>\n",
              "      <td>xxbos xxunk ) is the developing world 's answer to xxmaj silence of the xxmaj lambs . xxmaj where ` xxmaj silence ' terrorized our peace of mind , ` xxmaj citizen ' exhausts and saddens us instead . xxmaj this dramatization of the xxmaj chikatilo case translates rather well , thanks to a xxmaj westernized friendship between two xxmaj rostov cops who become equals . \\n \\n  citizenx</td>\n",
              "      <td>pos</td>\n",
              "    </tr>\n",
              "    <tr>\n",
              "      <td>xxbos xxmaj office work , especially in this era of computers , multi - functional copy machines , e - mail , voice mail , snail mail and ` temps , ' is territory ripe with satirical possibilities , a vein previously tapped in such films as ` xxmaj xxunk ' and ` xxmaj office xxmaj space , ' and very successfully . xxmaj this latest addition to the temp</td>\n",
              "      <td>neg</td>\n",
              "    </tr>\n",
              "  </tbody>\n",
              "</table>"
            ],
            "text/plain": [
              "<IPython.core.display.HTML object>"
            ]
          },
          "metadata": {
            "tags": []
          }
        }
      ]
    },
    {
      "cell_type": "code",
      "metadata": {
        "id": "L_BrglWMT3hT"
      },
      "source": [
        "#test\n",
        "data_lm = src_lm.databunch()\n",
        "learn_lm = language_model_learner(data_lm, arch, drop_mult = 0.3)\n",
        "learn_lm.load('fine_tuned')\n",
        "learn_lm.save_encoder('fine_enc')"
      ],
      "execution_count": 51,
      "outputs": []
    },
    {
      "cell_type": "code",
      "metadata": {
        "id": "LiJ_S3NZQNcd",
        "outputId": "5176afdd-e11a-4d64-f460-8eba20635f23",
        "colab": {
          "base_uri": "https://localhost:8080/"
        }
      },
      "source": [
        "learn_lm = None\n",
        "data_lm = None\n",
        "gc.collect()"
      ],
      "execution_count": 52,
      "outputs": [
        {
          "output_type": "execute_result",
          "data": {
            "text/plain": [
              "93"
            ]
          },
          "metadata": {
            "tags": []
          },
          "execution_count": 52
        }
      ]
    },
    {
      "cell_type": "code",
      "metadata": {
        "id": "-LUVZ7AIQ9gN"
      },
      "source": [
        "learn = text_classifier_learner(data, arch, drop_mult = 0.3)\n",
        "learn.load_encoder('fine_enc') "
      ],
      "execution_count": null,
      "outputs": []
    },
    {
      "cell_type": "code",
      "metadata": {
        "id": "lQolVTkpRjIj",
        "outputId": "e0bfeb1b-0913-4914-f73f-1c7103a611c3",
        "colab": {
          "base_uri": "https://localhost:8080/",
          "height": 374
        }
      },
      "source": [
        "learn.lr_find()\n",
        "learn.recorder.plot()"
      ],
      "execution_count": 54,
      "outputs": [
        {
          "output_type": "display_data",
          "data": {
            "text/html": [
              "\n",
              "    <div>\n",
              "        <style>\n",
              "            /* Turns off some styling */\n",
              "            progress {\n",
              "                /* gets rid of default border in Firefox and Opera. */\n",
              "                border: none;\n",
              "                /* Needs to be in here for Safari polyfill so background images work as expected. */\n",
              "                background-size: auto;\n",
              "            }\n",
              "            .progress-bar-interrupted, .progress-bar-interrupted::-webkit-progress-bar {\n",
              "                background: #F44336;\n",
              "            }\n",
              "        </style>\n",
              "      <progress value='0' class='' max='1' style='width:300px; height:20px; vertical-align: middle;'></progress>\n",
              "      0.00% [0/1 00:00<00:00]\n",
              "    </div>\n",
              "    \n",
              "<table border=\"1\" class=\"dataframe\">\n",
              "  <thead>\n",
              "    <tr style=\"text-align: left;\">\n",
              "      <th>epoch</th>\n",
              "      <th>train_loss</th>\n",
              "      <th>valid_loss</th>\n",
              "      <th>accuracy</th>\n",
              "      <th>time</th>\n",
              "    </tr>\n",
              "  </thead>\n",
              "  <tbody>\n",
              "  </tbody>\n",
              "</table><p>\n",
              "\n",
              "    <div>\n",
              "        <style>\n",
              "            /* Turns off some styling */\n",
              "            progress {\n",
              "                /* gets rid of default border in Firefox and Opera. */\n",
              "                border: none;\n",
              "                /* Needs to be in here for Safari polyfill so background images work as expected. */\n",
              "                background-size: auto;\n",
              "            }\n",
              "            .progress-bar-interrupted, .progress-bar-interrupted::-webkit-progress-bar {\n",
              "                background: #F44336;\n",
              "            }\n",
              "        </style>\n",
              "      <progress value='94' class='' max='390' style='width:300px; height:20px; vertical-align: middle;'></progress>\n",
              "      24.10% [94/390 00:16<00:52 1.7646]\n",
              "    </div>\n",
              "    "
            ],
            "text/plain": [
              "<IPython.core.display.HTML object>"
            ]
          },
          "metadata": {
            "tags": []
          }
        },
        {
          "output_type": "stream",
          "text": [
            "LR Finder is complete, type {learner_name}.recorder.plot() to see the graph.\n"
          ],
          "name": "stdout"
        },
        {
          "output_type": "display_data",
          "data": {
            "image/png": "[encoded data removed]",
            "text/plain": [
              "<Figure size 432x288 with 1 Axes>"
            ]
          },
          "metadata": {
            "tags": [],
            "needs_background": "light"
          }
        }
      ]
    },
    {
      "cell_type": "code",
      "metadata": {
        "id": "98qa-HOvUR8D"
      },
      "source": [
        "lr, new_lr = 3e-02, 2e-03"
      ],
      "execution_count": 55,
      "outputs": []
    },
    {
      "cell_type": "code",
      "metadata": {
        "id": "W-KKjmUYRlCa",
        "outputId": "34ccc3b0-33b7-49d6-c174-16776b786fb6",
        "colab": {
          "base_uri": "https://localhost:8080/",
          "height": 111
        }
      },
      "source": [
        "learn.fit_one_cycle(2, lr)"
      ],
      "execution_count": 56,
      "outputs": [
        {
          "output_type": "display_data",
          "data": {
            "text/html": [
              "<table border=\"1\" class=\"dataframe\">\n",
              "  <thead>\n",
              "    <tr style=\"text-align: left;\">\n",
              "      <th>epoch</th>\n",
              "      <th>train_loss</th>\n",
              "      <th>valid_loss</th>\n",
              "      <th>accuracy</th>\n",
              "      <th>time</th>\n",
              "    </tr>\n",
              "  </thead>\n",
              "  <tbody>\n",
              "    <tr>\n",
              "      <td>0</td>\n",
              "      <td>0.298748</td>\n",
              "      <td>0.259053</td>\n",
              "      <td>0.898720</td>\n",
              "      <td>01:36</td>\n",
              "    </tr>\n",
              "    <tr>\n",
              "      <td>1</td>\n",
              "      <td>0.269086</td>\n",
              "      <td>0.224575</td>\n",
              "      <td>0.908960</td>\n",
              "      <td>01:38</td>\n",
              "    </tr>\n",
              "  </tbody>\n",
              "</table>"
            ],
            "text/plain": [
              "<IPython.core.display.HTML object>"
            ]
          },
          "metadata": {
            "tags": []
          }
        }
      ]
    },
    {
      "cell_type": "code",
      "metadata": {
        "id": "PFtHWElURru8",
        "outputId": "269c5bd8-669c-445c-d5d2-056b3f9b7508",
        "colab": {
          "base_uri": "https://localhost:8080/",
          "height": 374
        }
      },
      "source": [
        "learn.save('stage_1')\n",
        "learn.unfreeze()\n",
        "learn.lr_find()\n",
        "learn.recorder.plot()"
      ],
      "execution_count": 57,
      "outputs": [
        {
          "output_type": "display_data",
          "data": {
            "text/html": [
              "\n",
              "    <div>\n",
              "        <style>\n",
              "            /* Turns off some styling */\n",
              "            progress {\n",
              "                /* gets rid of default border in Firefox and Opera. */\n",
              "                border: none;\n",
              "                /* Needs to be in here for Safari polyfill so background images work as expected. */\n",
              "                background-size: auto;\n",
              "            }\n",
              "            .progress-bar-interrupted, .progress-bar-interrupted::-webkit-progress-bar {\n",
              "                background: #F44336;\n",
              "            }\n",
              "        </style>\n",
              "      <progress value='0' class='' max='1' style='width:300px; height:20px; vertical-align: middle;'></progress>\n",
              "      0.00% [0/1 00:00<00:00]\n",
              "    </div>\n",
              "    \n",
              "<table border=\"1\" class=\"dataframe\">\n",
              "  <thead>\n",
              "    <tr style=\"text-align: left;\">\n",
              "      <th>epoch</th>\n",
              "      <th>train_loss</th>\n",
              "      <th>valid_loss</th>\n",
              "      <th>accuracy</th>\n",
              "      <th>time</th>\n",
              "    </tr>\n",
              "  </thead>\n",
              "  <tbody>\n",
              "  </tbody>\n",
              "</table><p>\n",
              "\n",
              "    <div>\n",
              "        <style>\n",
              "            /* Turns off some styling */\n",
              "            progress {\n",
              "                /* gets rid of default border in Firefox and Opera. */\n",
              "                border: none;\n",
              "                /* Needs to be in here for Safari polyfill so background images work as expected. */\n",
              "                background-size: auto;\n",
              "            }\n",
              "            .progress-bar-interrupted, .progress-bar-interrupted::-webkit-progress-bar {\n",
              "                background: #F44336;\n",
              "            }\n",
              "        </style>\n",
              "      <progress value='90' class='' max='390' style='width:300px; height:20px; vertical-align: middle;'></progress>\n",
              "      23.08% [90/390 00:31<01:46 0.6635]\n",
              "    </div>\n",
              "    "
            ],
            "text/plain": [
              "<IPython.core.display.HTML object>"
            ]
          },
          "metadata": {
            "tags": []
          }
        },
        {
          "output_type": "stream",
          "text": [
            "LR Finder is complete, type {learner_name}.recorder.plot() to see the graph.\n"
          ],
          "name": "stdout"
        },
        {
          "output_type": "display_data",
          "data": {
            "image/png": "[encoded data removed]",
            "text/plain": [
              "<Figure size 432x288 with 1 Axes>"
            ]
          },
          "metadata": {
            "tags": [],
            "needs_background": "light"
          }
        }
      ]
    },
    {
      "cell_type": "code",
      "metadata": {
        "id": "Ov0A50fYVOTo",
        "outputId": "f1c39697-967c-4ae9-febc-9a77a379b518",
        "colab": {
          "base_uri": "https://localhost:8080/",
          "height": 359
        }
      },
      "source": [
        "learn.fit_one_cycle(10, 1e-03)"
      ],
      "execution_count": 59,
      "outputs": [
        {
          "output_type": "display_data",
          "data": {
            "text/html": [
              "<table border=\"1\" class=\"dataframe\">\n",
              "  <thead>\n",
              "    <tr style=\"text-align: left;\">\n",
              "      <th>epoch</th>\n",
              "      <th>train_loss</th>\n",
              "      <th>valid_loss</th>\n",
              "      <th>accuracy</th>\n",
              "      <th>time</th>\n",
              "    </tr>\n",
              "  </thead>\n",
              "  <tbody>\n",
              "    <tr>\n",
              "      <td>0</td>\n",
              "      <td>0.023620</td>\n",
              "      <td>0.226539</td>\n",
              "      <td>0.932520</td>\n",
              "      <td>03:11</td>\n",
              "    </tr>\n",
              "    <tr>\n",
              "      <td>1</td>\n",
              "      <td>0.034979</td>\n",
              "      <td>0.244642</td>\n",
              "      <td>0.927360</td>\n",
              "      <td>02:43</td>\n",
              "    </tr>\n",
              "    <tr>\n",
              "      <td>2</td>\n",
              "      <td>0.039197</td>\n",
              "      <td>0.318953</td>\n",
              "      <td>0.909880</td>\n",
              "      <td>02:58</td>\n",
              "    </tr>\n",
              "    <tr>\n",
              "      <td>3</td>\n",
              "      <td>0.029498</td>\n",
              "      <td>0.322379</td>\n",
              "      <td>0.917920</td>\n",
              "      <td>03:09</td>\n",
              "    </tr>\n",
              "    <tr>\n",
              "      <td>4</td>\n",
              "      <td>0.026992</td>\n",
              "      <td>0.331342</td>\n",
              "      <td>0.921000</td>\n",
              "      <td>02:57</td>\n",
              "    </tr>\n",
              "    <tr>\n",
              "      <td>5</td>\n",
              "      <td>0.011977</td>\n",
              "      <td>0.338810</td>\n",
              "      <td>0.926040</td>\n",
              "      <td>03:00</td>\n",
              "    </tr>\n",
              "    <tr>\n",
              "      <td>6</td>\n",
              "      <td>0.008789</td>\n",
              "      <td>0.335589</td>\n",
              "      <td>0.928000</td>\n",
              "      <td>03:02</td>\n",
              "    </tr>\n",
              "    <tr>\n",
              "      <td>7</td>\n",
              "      <td>0.005584</td>\n",
              "      <td>0.362975</td>\n",
              "      <td>0.927040</td>\n",
              "      <td>03:02</td>\n",
              "    </tr>\n",
              "    <tr>\n",
              "      <td>8</td>\n",
              "      <td>0.001221</td>\n",
              "      <td>0.363702</td>\n",
              "      <td>0.926960</td>\n",
              "      <td>02:58</td>\n",
              "    </tr>\n",
              "    <tr>\n",
              "      <td>9</td>\n",
              "      <td>0.001586</td>\n",
              "      <td>0.368670</td>\n",
              "      <td>0.926960</td>\n",
              "      <td>02:51</td>\n",
              "    </tr>\n",
              "  </tbody>\n",
              "</table>"
            ],
            "text/plain": [
              "<IPython.core.display.HTML object>"
            ]
          },
          "metadata": {
            "tags": []
          }
        }
      ]
    },
    {
      "cell_type": "code",
      "metadata": {
        "id": "FRz-Ab5tnkwH",
        "outputId": "e641f55d-c7ac-407e-cedf-f6edc95685ab",
        "colab": {
          "base_uri": "https://localhost:8080/"
        }
      },
      "source": [
        "learn.predict('chris nolan is amazing')"
      ],
      "execution_count": 62,
      "outputs": [
        {
          "output_type": "execute_result",
          "data": {
            "text/plain": [
              "(Category tensor(0), tensor(0), tensor([0.6025, 0.3975]))"
            ]
          },
          "metadata": {
            "tags": []
          },
          "execution_count": 62
        }
      ]
    }
  ]
}