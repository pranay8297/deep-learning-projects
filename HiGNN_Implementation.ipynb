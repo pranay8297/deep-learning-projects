{
  "nbformat": 4,
  "nbformat_minor": 0,
  "metadata": {
    "colab": {
      "provenance": [],
      "collapsed_sections": [
        "dhMXiDUHABeZ"
      ],
      "authorship_tag": "ABX9TyM6bVGjdTt0Lb9xAsEEpmqv",
      "include_colab_link": true
    },
    "kernelspec": {
      "name": "python3",
      "display_name": "Python 3"
    },
    "language_info": {
      "name": "python"
    },
    "widgets": {
      "application/vnd.jupyter.widget-state+json": {
        "bf9bf6d37a67480c8831da0e54048de0": {
          "model_module": "@jupyter-widgets/controls",
          "model_name": "VBoxModel",
          "model_module_version": "1.5.0",
          "state": {
            "_dom_classes": [],
            "_model_module": "@jupyter-widgets/controls",
            "_model_module_version": "1.5.0",
            "_model_name": "VBoxModel",
            "_view_count": null,
            "_view_module": "@jupyter-widgets/controls",
            "_view_module_version": "1.5.0",
            "_view_name": "VBoxView",
            "box_style": "",
            "children": [
              "IPY_MODEL_156e27e8e9e5424396200cfd1b18e794",
              "IPY_MODEL_1d98a32030554d979ddb8b2ebb95e415"
            ],
            "layout": "IPY_MODEL_a11e9ea15f5e4d4fb88ae8907530a0f7"
          }
        },
        "156e27e8e9e5424396200cfd1b18e794": {
          "model_module": "@jupyter-widgets/controls",
          "model_name": "LabelModel",
          "model_module_version": "1.5.0",
          "state": {
            "_dom_classes": [],
            "_model_module": "@jupyter-widgets/controls",
            "_model_module_version": "1.5.0",
            "_model_name": "LabelModel",
            "_view_count": null,
            "_view_module": "@jupyter-widgets/controls",
            "_view_module_version": "1.5.0",
            "_view_name": "LabelView",
            "description": "",
            "description_tooltip": null,
            "layout": "IPY_MODEL_3dafba33f3d14caea42f4c833c866792",
            "placeholder": "​",
            "style": "IPY_MODEL_bcd950f3c44f499898f92fe1ff8191da",
            "value": "Waiting for wandb.init()...\r"
          }
        },
        "1d98a32030554d979ddb8b2ebb95e415": {
          "model_module": "@jupyter-widgets/controls",
          "model_name": "FloatProgressModel",
          "model_module_version": "1.5.0",
          "state": {
            "_dom_classes": [],
            "_model_module": "@jupyter-widgets/controls",
            "_model_module_version": "1.5.0",
            "_model_name": "FloatProgressModel",
            "_view_count": null,
            "_view_module": "@jupyter-widgets/controls",
            "_view_module_version": "1.5.0",
            "_view_name": "ProgressView",
            "bar_style": "",
            "description": "",
            "description_tooltip": null,
            "layout": "IPY_MODEL_788ed4d8f6884e078beff90225270336",
            "max": 1,
            "min": 0,
            "orientation": "horizontal",
            "style": "IPY_MODEL_337d07fdaacc4c8393c9ea6c3460bad6",
            "value": 1
          }
        },
        "a11e9ea15f5e4d4fb88ae8907530a0f7": {
          "model_module": "@jupyter-widgets/base",
          "model_name": "LayoutModel",
          "model_module_version": "1.2.0",
          "state": {
            "_model_module": "@jupyter-widgets/base",
            "_model_module_version": "1.2.0",
            "_model_name": "LayoutModel",
            "_view_count": null,
            "_view_module": "@jupyter-widgets/base",
            "_view_module_version": "1.2.0",
            "_view_name": "LayoutView",
            "align_content": null,
            "align_items": null,
            "align_self": null,
            "border": null,
            "bottom": null,
            "display": null,
            "flex": null,
            "flex_flow": null,
            "grid_area": null,
            "grid_auto_columns": null,
            "grid_auto_flow": null,
            "grid_auto_rows": null,
            "grid_column": null,
            "grid_gap": null,
            "grid_row": null,
            "grid_template_areas": null,
            "grid_template_columns": null,
            "grid_template_rows": null,
            "height": null,
            "justify_content": null,
            "justify_items": null,
            "left": null,
            "margin": null,
            "max_height": null,
            "max_width": null,
            "min_height": null,
            "min_width": null,
            "object_fit": null,
            "object_position": null,
            "order": null,
            "overflow": null,
            "overflow_x": null,
            "overflow_y": null,
            "padding": null,
            "right": null,
            "top": null,
            "visibility": null,
            "width": null
          }
        },
        "3dafba33f3d14caea42f4c833c866792": {
          "model_module": "@jupyter-widgets/base",
          "model_name": "LayoutModel",
          "model_module_version": "1.2.0",
          "state": {
            "_model_module": "@jupyter-widgets/base",
            "_model_module_version": "1.2.0",
            "_model_name": "LayoutModel",
            "_view_count": null,
            "_view_module": "@jupyter-widgets/base",
            "_view_module_version": "1.2.0",
            "_view_name": "LayoutView",
            "align_content": null,
            "align_items": null,
            "align_self": null,
            "border": null,
            "bottom": null,
            "display": null,
            "flex": null,
            "flex_flow": null,
            "grid_area": null,
            "grid_auto_columns": null,
            "grid_auto_flow": null,
            "grid_auto_rows": null,
            "grid_column": null,
            "grid_gap": null,
            "grid_row": null,
            "grid_template_areas": null,
            "grid_template_columns": null,
            "grid_template_rows": null,
            "height": null,
            "justify_content": null,
            "justify_items": null,
            "left": null,
            "margin": null,
            "max_height": null,
            "max_width": null,
            "min_height": null,
            "min_width": null,
            "object_fit": null,
            "object_position": null,
            "order": null,
            "overflow": null,
            "overflow_x": null,
            "overflow_y": null,
            "padding": null,
            "right": null,
            "top": null,
            "visibility": null,
            "width": null
          }
        },
        "bcd950f3c44f499898f92fe1ff8191da": {
          "model_module": "@jupyter-widgets/controls",
          "model_name": "DescriptionStyleModel",
          "model_module_version": "1.5.0",
          "state": {
            "_model_module": "@jupyter-widgets/controls",
            "_model_module_version": "1.5.0",
            "_model_name": "DescriptionStyleModel",
            "_view_count": null,
            "_view_module": "@jupyter-widgets/base",
            "_view_module_version": "1.2.0",
            "_view_name": "StyleView",
            "description_width": ""
          }
        },
        "788ed4d8f6884e078beff90225270336": {
          "model_module": "@jupyter-widgets/base",
          "model_name": "LayoutModel",
          "model_module_version": "1.2.0",
          "state": {
            "_model_module": "@jupyter-widgets/base",
            "_model_module_version": "1.2.0",
            "_model_name": "LayoutModel",
            "_view_count": null,
            "_view_module": "@jupyter-widgets/base",
            "_view_module_version": "1.2.0",
            "_view_name": "LayoutView",
            "align_content": null,
            "align_items": null,
            "align_self": null,
            "border": null,
            "bottom": null,
            "display": null,
            "flex": null,
            "flex_flow": null,
            "grid_area": null,
            "grid_auto_columns": null,
            "grid_auto_flow": null,
            "grid_auto_rows": null,
            "grid_column": null,
            "grid_gap": null,
            "grid_row": null,
            "grid_template_areas": null,
            "grid_template_columns": null,
            "grid_template_rows": null,
            "height": null,
            "justify_content": null,
            "justify_items": null,
            "left": null,
            "margin": null,
            "max_height": null,
            "max_width": null,
            "min_height": null,
            "min_width": null,
            "object_fit": null,
            "object_position": null,
            "order": null,
            "overflow": null,
            "overflow_x": null,
            "overflow_y": null,
            "padding": null,
            "right": null,
            "top": null,
            "visibility": null,
            "width": null
          }
        },
        "337d07fdaacc4c8393c9ea6c3460bad6": {
          "model_module": "@jupyter-widgets/controls",
          "model_name": "ProgressStyleModel",
          "model_module_version": "1.5.0",
          "state": {
            "_model_module": "@jupyter-widgets/controls",
            "_model_module_version": "1.5.0",
            "_model_name": "ProgressStyleModel",
            "_view_count": null,
            "_view_module": "@jupyter-widgets/base",
            "_view_module_version": "1.2.0",
            "_view_name": "StyleView",
            "bar_color": null,
            "description_width": ""
          }
        }
      }
    }
  },
  "cells": [
    {
      "cell_type": "markdown",
      "metadata": {
        "id": "view-in-github",
        "colab_type": "text"
      },
      "source": [
        "<a href=\"https://colab.research.google.com/github/pranay8297/deep-learning-projects/blob/master/HiGNN_Implementation.ipynb\" target=\"_parent\"><img src=\"https://colab.research.google.com/assets/colab-badge.svg\" alt=\"Open In Colab\"/></a>"
      ]
    },
    {
      "cell_type": "code",
      "execution_count": 4,
      "metadata": {
        "id": "lJgxemOMeN6p"
      },
      "outputs": [],
      "source": [
        "# Get all functions from\n",
        "import os\n",
        "import numpy as np\n",
        "import pandas as pd\n",
        "from tqdm import tqdm\n",
        "from random import Random\n",
        "from collections import defaultdict\n",
        "\n",
        "import torch\n",
        "from torch_geometric.data import Data, InMemoryDataset\n",
        "from torch_geometric.data import DataLoader\n",
        "\n",
        "from rdkit import Chem\n",
        "from rdkit.Chem.BRICS import FindBRICSBonds\n",
        "from rdkit.Chem.Scaffolds import MurckoScaffold\n",
        "from rdkit import RDLogger\n",
        "\n",
        "from torch import nn\n",
        "import torch.nn.functional as F\n",
        "from torch.nn import Linear, Sequential, Parameter, Bilinear\n",
        "\n",
        "from torch_scatter import scatter\n",
        "from torch_geometric.nn import global_add_pool, GATConv\n",
        "from torch_geometric.nn.conv import MessagePassing\n",
        "from torch_geometric.nn.inits import glorot, reset\n",
        "from torch_geometric.nn.pool.pool import pool_batch\n",
        "from torch_geometric.nn.pool.consecutive import consecutive_cluster\n",
        "import wandb\n",
        "\n",
        "\n",
        "import os\n",
        "import torch.nn.init as init\n",
        "from torch_geometric.utils import softmax\n",
        "from torch_geometric.nn import global_mean_pool\n",
        "\n",
        "from ipdb import set_trace as st"
      ]
    },
    {
      "cell_type": "markdown",
      "source": [
        "# Section - 1: All the Helper Functions"
      ],
      "metadata": {
        "id": "lLGMhKQsJoZx"
      }
    },
    {
      "cell_type": "code",
      "source": [
        "# This cell consists of all the helper functions and helper classes that are required to create a dataset.\n",
        "def onehot_encoding(x, allowable_set):\n",
        "    if x not in allowable_set:\n",
        "        raise Exception(\"input {0} not in allowable set{1}:\".format(\n",
        "            x, allowable_set))\n",
        "    return [x == s for s in allowable_set]\n",
        "\n",
        "\n",
        "def onehot_encoding_unk(x, allowable_set):\n",
        "    \"\"\"Maps inputs not in the allowable set to the last element.\"\"\"\n",
        "    if x not in allowable_set:\n",
        "        x = allowable_set[-1]\n",
        "    return [x == s for s in allowable_set]\n",
        "\n",
        "\n",
        "def atom_attr(mol, explicit_H=False, use_chirality=True, pharmaco=True, scaffold=True):\n",
        "    if pharmaco:\n",
        "        mol = tag_pharmacophore(mol)\n",
        "    if scaffold:\n",
        "        mol = tag_scaffold(mol)\n",
        "\n",
        "    feat = []\n",
        "    for i, atom in enumerate(mol.GetAtoms()):\n",
        "        results = onehot_encoding_unk(\n",
        "            atom.GetSymbol(),\n",
        "            ['B', 'C', 'N', 'O', 'F', 'Si', 'P', 'S', 'Cl', 'As', 'Se', 'Br', 'Te', 'I', 'At', 'other'\n",
        "             ]) + onehot_encoding_unk(atom.GetDegree(),\n",
        "                                      [0, 1, 2, 3, 4, 5, 'other']) + \\\n",
        "                  [atom.GetFormalCharge(), atom.GetNumRadicalElectrons()] + \\\n",
        "                  onehot_encoding_unk(atom.GetHybridization(), [\n",
        "                      Chem.rdchem.HybridizationType.SP, Chem.rdchem.HybridizationType.SP2,\n",
        "                      Chem.rdchem.HybridizationType.SP3, Chem.rdchem.HybridizationType.SP3D,\n",
        "                      Chem.rdchem.HybridizationType.SP3D2, 'other'\n",
        "                  ]) + [atom.GetIsAromatic()]\n",
        "        if not explicit_H:\n",
        "            results = results + onehot_encoding_unk(atom.GetTotalNumHs(),\n",
        "                                                    [0, 1, 2, 3, 4])\n",
        "        if use_chirality:\n",
        "            try:\n",
        "                results = results + onehot_encoding_unk(\n",
        "                    atom.GetProp('_CIPCode'),\n",
        "                    ['R', 'S']) + [atom.HasProp('_ChiralityPossible')]\n",
        "            # print(one_of_k_encoding_unk(atom.GetProp('_CIPCode'), ['R', 'S']) + [atom.HasProp('_ChiralityPossible')])\n",
        "            except:\n",
        "                results = results + [0, 0] + [atom.HasProp('_ChiralityPossible')]\n",
        "        if pharmaco:\n",
        "            results = results + [int(atom.GetProp('Hbond_donor'))] + [int(atom.GetProp('Hbond_acceptor'))] + \\\n",
        "                      [int(atom.GetProp('Basic'))] + [int(atom.GetProp('Acid'))] + \\\n",
        "                      [int(atom.GetProp('Halogen'))]\n",
        "        if scaffold:\n",
        "            results = results + [int(atom.GetProp('Scaffold'))]\n",
        "        feat.append(results)\n",
        "\n",
        "    return np.array(feat)\n",
        "\n",
        "\n",
        "def bond_attr(mol, use_chirality=True):\n",
        "    feat = []\n",
        "    index = []\n",
        "    n = mol.GetNumAtoms()\n",
        "    for i in range(n):\n",
        "        for j in range(n):\n",
        "            if i != j:\n",
        "                bond = mol.GetBondBetweenAtoms(i, j)\n",
        "                if bond is not None:\n",
        "                    bt = bond.GetBondType()\n",
        "                    bond_feats = [\n",
        "                        bt == Chem.rdchem.BondType.SINGLE, bt == Chem.rdchem.BondType.DOUBLE,\n",
        "                        bt == Chem.rdchem.BondType.TRIPLE, bt == Chem.rdchem.BondType.AROMATIC,\n",
        "                        bond.GetIsConjugated(),\n",
        "                        bond.IsInRing()\n",
        "                    ]\n",
        "                    if use_chirality:\n",
        "                        bond_feats = bond_feats + onehot_encoding_unk(\n",
        "                            str(bond.GetStereo()),\n",
        "                            [\"STEREONONE\", \"STEREOANY\", \"STEREOZ\", \"STEREOE\"])\n",
        "                    feat.append(bond_feats)\n",
        "                    index.append([i, j])\n",
        "\n",
        "    return np.array(index), np.array(feat)\n",
        "\n",
        "\n",
        "def bond_break(mol):\n",
        "    results = np.array(sorted(list(FindBRICSBonds(mol))), dtype=np.long)\n",
        "\n",
        "    if results.size == 0:\n",
        "        cluster_idx = []\n",
        "        Chem.rdmolops.GetMolFrags(mol, asMols=True, frags=cluster_idx)\n",
        "        fra_edge_index, fra_edge_attr = bond_attr(mol)\n",
        "\n",
        "    else:\n",
        "        bond_to_break = results[:, 0, :]\n",
        "        bond_to_break = bond_to_break.tolist()\n",
        "        with Chem.RWMol(mol) as rwmol:\n",
        "            for i in bond_to_break:\n",
        "                rwmol.RemoveBond(*i)\n",
        "        rwmol = rwmol.GetMol()\n",
        "        cluster_idx = []\n",
        "        Chem.rdmolops.GetMolFrags(rwmol, asMols=True, sanitizeFrags=False, frags=cluster_idx)\n",
        "        fra_edge_index, fra_edge_attr = bond_attr(rwmol)\n",
        "        cluster_idx = torch.LongTensor(cluster_idx)\n",
        "\n",
        "    return fra_edge_index, fra_edge_attr, cluster_idx\n",
        "\n",
        "\n",
        "# ---------------------------------------------\n",
        "# Scaffold and pharmacophore information utils\n",
        "# ---------------------------------------------\n",
        "# tag pharmoco features to each atom\n",
        "fun_smarts = {\n",
        "        'Hbond_donor': '[$([N;!H0;v3,v4&+1]),$([O,S;H1;+0]),n&H1&+0]',\n",
        "        'Hbond_acceptor': '[$([O,S;H1;v2;!$(*-*=[O,N,P,S])]),$([O,S;H0;v2]),$([O,S;-]),$([N;v3;!$(N-*=[O,N,P,S])]),n&X2&H0&+0,$([o,s;+0;!$([o,s]:n);!$([o,s]:c:n)])]',\n",
        "        'Basic': '[#7;+,$([N;H2&+0][$([C,a]);!$([C,a](=O))]),$([N;H1&+0]([$([C,a]);!$([C,a](=O))])[$([C,a]);!$([C,a](=O))]),$([N;H0&+0]([C;!$(C(=O))])([C;!$(C(=O))])[C;!$(C(=O))]),$([n;X2;+0;-0])]',\n",
        "        'Acid': '[C,S](=[O,S,P])-[O;H1,-1]',\n",
        "        'Halogen': '[F,Cl,Br,I]'\n",
        "        }\n",
        "FunQuery = dict([(pharmaco, Chem.MolFromSmarts(s)) for (pharmaco, s) in fun_smarts.items()])\n",
        "\n",
        "\n",
        "def tag_pharmacophore(mol):\n",
        "    for fungrp, qmol in FunQuery.items():\n",
        "        matches = mol.GetSubstructMatches(qmol)\n",
        "        match_idxes = []\n",
        "        for mat in matches:\n",
        "            match_idxes.extend(mat)\n",
        "        for i, atom in enumerate(mol.GetAtoms()):\n",
        "            tag = '1' if i in match_idxes else '0'\n",
        "            atom.SetProp(fungrp, tag)\n",
        "    return mol\n",
        "\n",
        "\n",
        "# tag scaffold information to each atom\n",
        "def tag_scaffold(mol):\n",
        "    core = MurckoScaffold.GetScaffoldForMol(mol)\n",
        "    match_idxes = mol.GetSubstructMatch(core)\n",
        "    for i, atom in enumerate(mol.GetAtoms()):\n",
        "        tag = '1' if i in match_idxes else '0'\n",
        "        atom.SetProp('Scaffold', tag)\n",
        "    return mol"
      ],
      "metadata": {
        "id": "kD6Ko2yBerpZ"
      },
      "execution_count": 5,
      "outputs": []
    },
    {
      "cell_type": "code",
      "source": [
        "class MolData(Data):\n",
        "    def __init__(self, fra_edge_index=None, fra_edge_attr=None, cluster_index=None, **kwargs):\n",
        "        super(MolData, self).__init__(**kwargs)\n",
        "        self.cluster_index = cluster_index\n",
        "        self.fra_edge_index = fra_edge_index\n",
        "        self.fra_edge_attr = fra_edge_attr\n",
        "\n",
        "    def __inc__(self, key, value, *args, **kwargs):\n",
        "        if key == 'cluster_index':\n",
        "            return int(self.cluster_index.max()) + 1\n",
        "        else:\n",
        "            return super().__inc__(key, value, *args, **kwargs)\n",
        "\n",
        "\n",
        "class MolDataset(InMemoryDataset):\n",
        "\n",
        "    def __init__(self, root, fpath, dataset, task_type, tasks, logger=None, smiles_col = 'smiles',\n",
        "                 transform=None, pre_transform=None, pre_filter=None):\n",
        "\n",
        "        self.tasks = tasks\n",
        "        self.dataset = dataset\n",
        "        self.task_type = task_type\n",
        "        self.logger = logger\n",
        "        self.fpath = fpath\n",
        "        self.smiles_col = smiles_col\n",
        "\n",
        "        super(MolDataset, self).__init__(root, transform, pre_transform, pre_filter)\n",
        "        self.data, self.slices = torch.load(self.processed_paths[0])\n",
        "\n",
        "    @property\n",
        "    def raw_file_names(self):\n",
        "        return ['{}.csv'.format(self.dataset)]\n",
        "\n",
        "    @property\n",
        "    def processed_file_names(self):\n",
        "        return ['{}.pt'.format(self.dataset)]\n",
        "\n",
        "    def download(self):\n",
        "        pass\n",
        "\n",
        "    def process(self):\n",
        "\n",
        "        df = pd.read_csv(self.fpath)\n",
        "\n",
        "        df = df[:100]\n",
        "        smilesList = df[self.smiles_col].values\n",
        "\n",
        "        print(f'number of all smiles: {len(smilesList)}')\n",
        "        remained_smiles = []\n",
        "        canonical_smiles_list = []\n",
        "        for smiles in smilesList:\n",
        "            try:\n",
        "                canonical_smiles_list.append(Chem.MolToSmiles(Chem.MolFromSmiles(smiles), isomericSmiles=True))\n",
        "                remained_smiles.append(smiles)\n",
        "            except:\n",
        "                self.logger.info(f'not successfully processed smiles: {smiles}')\n",
        "                pass\n",
        "\n",
        "        print(f'number of successfully processed smiles: {len(remained_smiles)}')\n",
        "        df = df[df[self.smiles_col].isin(remained_smiles)].reset_index()\n",
        "\n",
        "        target = df[self.tasks].values\n",
        "        smilesList = df[self.smiles_col].values\n",
        "        data_list = []\n",
        "\n",
        "        for i, smi in enumerate(tqdm(smilesList)):\n",
        "\n",
        "            mol = Chem.MolFromSmiles(smi)\n",
        "            data = self.mol2graph(mol)\n",
        "\n",
        "            if data is not None:\n",
        "                label = target[i]\n",
        "                label[np.isnan(label)] = 666\n",
        "                data.y = torch.LongTensor([label])\n",
        "                if self.task_type == 'regression':\n",
        "                    data.y = torch.FloatTensor([label])\n",
        "                data_list.append(data)\n",
        "\n",
        "        if self.pre_filter is not None:\n",
        "            data_list = [data for data in data_list if self.pre_filter(data)]\n",
        "        if self.pre_transform is not None:\n",
        "            data_list = [self.pre_transform(data) for data in data_list]\n",
        "\n",
        "        data, slices = self.collate(data_list)\n",
        "        torch.save((data, slices), self.processed_paths[0])\n",
        "\n",
        "    def mol2graph(self, mol):\n",
        "        smiles = Chem.MolToSmiles(mol)\n",
        "        if mol is None: return None\n",
        "        node_attr = atom_attr(mol, scaffold = False)\n",
        "        edge_index, edge_attr = bond_attr(mol)\n",
        "        fra_edge_index, fra_edge_attr, cluster_index = bond_break(mol)\n",
        "        data = MolData(\n",
        "            x=torch.FloatTensor(node_attr),\n",
        "            edge_index=torch.LongTensor(edge_index).t(),\n",
        "            edge_attr=torch.FloatTensor(edge_attr),\n",
        "            fra_edge_index=torch.LongTensor(fra_edge_index).t(),\n",
        "            fra_edge_attr=torch.FloatTensor(fra_edge_attr),\n",
        "            cluster_index=torch.LongTensor(cluster_index),\n",
        "            y=None,\n",
        "            smiles=smiles,\n",
        "        )\n",
        "        return data"
      ],
      "metadata": {
        "id": "9UEJO6rUr5z8"
      },
      "execution_count": 16,
      "outputs": []
    },
    {
      "cell_type": "code",
      "source": [
        "def load_dataset_random(root, fpath, dataset, task_type, tasks=None, smiles_col = 'smiles', seed = 201):\n",
        "    # save_path = path + 'processed/train_valid_test_{}_seed_{}.ckpt'.format(dataset, seed)\n",
        "    # if os.path.isfile(save_path):\n",
        "    #     trn, val, test = torch.load(save_path)\n",
        "    #     return trn, val, test\n",
        "\n",
        "    pyg_dataset = MolDataset(root=root, fpath = fpath, dataset=dataset, task_type=task_type, tasks=tasks, smiles_col = smiles_col)\n",
        "    del pyg_dataset.data.smiles\n",
        "\n",
        "    # Seed randomness\n",
        "    random = Random(seed)\n",
        "    indices = list(range(len(pyg_dataset)))\n",
        "    random.seed(seed)\n",
        "    random.shuffle(indices)\n",
        "\n",
        "    train_size = int(0.8 * len(pyg_dataset))\n",
        "    val_size = int(0.1 * len(pyg_dataset))\n",
        "    test_size = len(pyg_dataset) - train_size - val_size\n",
        "\n",
        "    trn_id, val_id, test_id = indices[:train_size], \\\n",
        "                              indices[train_size:(train_size + val_size)], \\\n",
        "                              indices[(train_size + val_size):]\n",
        "\n",
        "    trn, val, test = pyg_dataset[torch.LongTensor(trn_id)], \\\n",
        "                     pyg_dataset[torch.LongTensor(val_id)], \\\n",
        "                     pyg_dataset[torch.LongTensor(test_id)]\n",
        "\n",
        "    print(f'Total smiles = {len(pyg_dataset):,} | '\n",
        "                f'train smiles = {train_size:,} | '\n",
        "                f'val smiles = {val_size:,} | '\n",
        "                f'test smiles = {test_size:,}')\n",
        "\n",
        "    assert task_type == 'classification' or 'regression'\n",
        "    if task_type == 'classification':\n",
        "        weights = []\n",
        "        for i in range(len(tasks)):\n",
        "            validId = np.where((pyg_dataset.data.y[:, i] == 0) | (pyg_dataset.data.y[:, i] == 1))[0]\n",
        "            pos_len = (pyg_dataset.data.y[:, i][validId].sum()).item()\n",
        "            neg_len = len(pyg_dataset.data.y[:, i][validId]) - pos_len\n",
        "            weights.append([(neg_len + pos_len) / neg_len, (neg_len + pos_len) / pos_len])\n",
        "        trn.weights = weights\n",
        "\n",
        "    else:\n",
        "        trn.weights = None\n",
        "\n",
        "    # torch.save([trn, val, test], save_path)\n",
        "    return trn, val, test\n",
        "\n",
        "def get_loaders(root, fpath, dataset, task_type = 'regression', tasks=None, smiles_col = 'smiles', seed = 201, bs = 32):\n",
        "\n",
        "    '''\n",
        "    This function prepares data loaders by using other helper functions.\n",
        "\n",
        "    Args:\n",
        "      root {Str}: Path to store saved data. Not csv file path\n",
        "      path {Str}: Path to the CSV file\n",
        "      smiles_col {Str}: smiles column name in the csv file\n",
        "      label_col {Str or List}: Label column name in the csv file\n",
        "      task_type {Str}: is it regression or classification\n",
        "      bs {Int}: Batch size, use 32 if GPU available, else use 4.\n",
        "    '''\n",
        "\n",
        "    train, val, test = load_dataset_random(root, fpath, dataset, task_type, tasks = tasks, smiles_col = smiles_col, seed = seed)\n",
        "\n",
        "    # train, val, test = load_dataset_random()\n",
        "    train_dataloader = DataLoader(train, batch_size = bs, shuffle=True)\n",
        "    valid_dataloader = DataLoader(val, bs)\n",
        "    test_dataloader = DataLoader(test, bs)\n",
        "\n",
        "    return train_dataloader, valid_dataloader, test_dataloader"
      ],
      "metadata": {
        "id": "ehvYmfmVzcIx"
      },
      "execution_count": 17,
      "outputs": []
    },
    {
      "cell_type": "code",
      "source": [
        "wandb.init(project = \"HiGNN Implementation - 3\")"
      ],
      "metadata": {
        "colab": {
          "base_uri": "https://localhost:8080/",
          "height": 161
        },
        "id": "qaEf32d08ig4",
        "outputId": "73bed179-340b-466c-c56e-62e34040270b"
      },
      "execution_count": 8,
      "outputs": [
        {
          "output_type": "stream",
          "name": "stderr",
          "text": [
            "\u001b[34m\u001b[1mwandb\u001b[0m: Currently logged in as: \u001b[33mbindelapranay1997\u001b[0m (\u001b[33mcomp_chem\u001b[0m). Use \u001b[1m`wandb login --relogin`\u001b[0m to force relogin\n"
          ]
        },
        {
          "output_type": "display_data",
          "data": {
            "text/plain": [
              "<IPython.core.display.HTML object>"
            ],
            "text/html": [
              "wandb version 0.15.4 is available!  To upgrade, please run:\n",
              " $ pip install wandb --upgrade"
            ]
          },
          "metadata": {}
        },
        {
          "output_type": "display_data",
          "data": {
            "text/plain": [
              "<IPython.core.display.HTML object>"
            ],
            "text/html": [
              "Tracking run with wandb version 0.14.0"
            ]
          },
          "metadata": {}
        },
        {
          "output_type": "display_data",
          "data": {
            "text/plain": [
              "<IPython.core.display.HTML object>"
            ],
            "text/html": [
              "Run data is saved locally in <code>/home/ec2-user/project/wandb/run-20230621_075346-hubopu6q</code>"
            ]
          },
          "metadata": {}
        },
        {
          "output_type": "display_data",
          "data": {
            "text/plain": [
              "<IPython.core.display.HTML object>"
            ],
            "text/html": [
              "Syncing run <strong><a href='https://wandb.ai/comp_chem/HiGNN%20Implementation%20-%203/runs/hubopu6q' target=\"_blank\">warm-snow-4</a></strong> to <a href='https://wandb.ai/comp_chem/HiGNN%20Implementation%20-%203' target=\"_blank\">Weights & Biases</a> (<a href='https://wandb.me/run' target=\"_blank\">docs</a>)<br/>"
            ]
          },
          "metadata": {}
        },
        {
          "output_type": "display_data",
          "data": {
            "text/plain": [
              "<IPython.core.display.HTML object>"
            ],
            "text/html": [
              " View project at <a href='https://wandb.ai/comp_chem/HiGNN%20Implementation%20-%203' target=\"_blank\">https://wandb.ai/comp_chem/HiGNN%20Implementation%20-%203</a>"
            ]
          },
          "metadata": {}
        },
        {
          "output_type": "display_data",
          "data": {
            "text/plain": [
              "<IPython.core.display.HTML object>"
            ],
            "text/html": [
              " View run at <a href='https://wandb.ai/comp_chem/HiGNN%20Implementation%20-%203/runs/hubopu6q' target=\"_blank\">https://wandb.ai/comp_chem/HiGNN%20Implementation%20-%203/runs/hubopu6q</a>"
            ]
          },
          "metadata": {}
        },
        {
          "output_type": "execute_result",
          "data": {
            "text/html": [
              "<button onClick=\"this.nextSibling.style.display='block';this.style.display='none';\">Display W&B run</button><iframe src='https://wandb.ai/comp_chem/HiGNN%20Implementation%20-%203/runs/hubopu6q?jupyter=true' style='border:none;width:100%;height:420px;display:none;'></iframe>"
            ],
            "text/plain": [
              "<wandb.sdk.wandb_run.Run at 0x7f6740e63fd0>"
            ]
          },
          "metadata": {},
          "execution_count": 8
        }
      ]
    },
    {
      "cell_type": "code",
      "source": [
        "# This Cell consists of helper functions and base classes of HiGNN and the Message Passing Architecture.\n",
        "\n",
        "class FeatureAttention(nn.Module):\n",
        "    '''\n",
        "    c = (W5 (W4fG sum ) + W5 (W4fG max ))\n",
        "    '''\n",
        "    def __init__(self, channels, reduction):\n",
        "        super().__init__()\n",
        "        self.mlp = Sequential(\n",
        "            Linear(channels, channels // reduction),\n",
        "            nn.ReLU(inplace=True),\n",
        "            Linear(channels // reduction, channels, bias=False),\n",
        "        )\n",
        "\n",
        "        self.reset_parameters()\n",
        "\n",
        "    def reset_parameters(self):\n",
        "        reset(self.mlp)\n",
        "\n",
        "    def forward(self, x, batch, size=None):\n",
        "        max_result = scatter(x, batch, dim=0, dim_size=size, reduce='max')\n",
        "        sum_result = scatter(x, batch, dim=0, dim_size=size, reduce='sum')\n",
        "        max_out = self.mlp(max_result)\n",
        "        sum_out = self.mlp(sum_result)\n",
        "        y = torch.sigmoid(max_out + sum_out)\n",
        "        y = y[batch]\n",
        "        return x * y\n",
        "\n",
        "# ---------------------------------------\n",
        "# Neural tensor networks conv\n",
        "# ---------------------------------------\n",
        "class NTNConv(MessagePassing):\n",
        "\n",
        "    '''\n",
        "    Base Message Passing Class for HiGNN. Core of the architecture.\n",
        "    alpha(i j) = tanh(hi W[ ]h + W[h , h ] + b)\n",
        "    d = d/a\n",
        "    mi = ReLU(reshape(alpha(i, j), hj , d))\n",
        "    β = W3T.[hi,mi,hi − mi].\n",
        "    hi = β.hi + (1 - β).mi\n",
        "    '''\n",
        "\n",
        "    def __init__(self, in_channels, out_channels, slices, dropout, edge_dim=None, **kwargs):\n",
        "        kwargs.setdefault('aggr', 'add')\n",
        "        super(NTNConv, self).__init__(node_dim=0, **kwargs)\n",
        "\n",
        "        self.in_channels = in_channels\n",
        "        self.out_channels = out_channels\n",
        "        self.slices = slices\n",
        "        self.dropout = dropout\n",
        "        self.edge_dim = edge_dim\n",
        "\n",
        "        self.weight_node = Parameter(torch.Tensor(in_channels,\n",
        "                                                  out_channels))\n",
        "        if edge_dim is not None:\n",
        "            self.weight_edge = Parameter(torch.Tensor(edge_dim,\n",
        "                                                      out_channels))\n",
        "        else:\n",
        "            self.weight_edge = self.register_parameter('weight_edge', None)\n",
        "\n",
        "        self.bilinear = Bilinear(out_channels, out_channels, slices, bias=False)\n",
        "\n",
        "        if self.edge_dim is not None:\n",
        "            self.linear = Linear(3 * out_channels, slices)\n",
        "        else:\n",
        "            self.linear = Linear(2 * out_channels, slices)\n",
        "\n",
        "        self._alpha = None\n",
        "\n",
        "        self.reset_parameters()\n",
        "\n",
        "    def reset_parameters(self):\n",
        "        glorot(self.weight_node)\n",
        "        glorot(self.weight_edge)\n",
        "        self.bilinear.reset_parameters()\n",
        "        self.linear.reset_parameters()\n",
        "\n",
        "    def forward(self, x, edge_index, edge_attr=None, return_attention_weights=None):\n",
        "\n",
        "        x = torch.matmul(x, self.weight_node)\n",
        "\n",
        "        if self.weight_edge is not None:\n",
        "            assert edge_attr is not None\n",
        "            edge_attr = torch.matmul(edge_attr, self.weight_edge)\n",
        "\n",
        "        out = self.propagate(edge_index, x=x, edge_attr=edge_attr)\n",
        "\n",
        "        alpha = self._alpha\n",
        "        self._alpha = None\n",
        "\n",
        "        if isinstance(return_attention_weights, bool):\n",
        "            assert alpha is not None\n",
        "            return out, (edge_index, alpha)\n",
        "        else:\n",
        "            return out\n",
        "\n",
        "    def message(self, x_i, x_j, edge_attr):\n",
        "        score = self.bilinear(x_i, x_j)\n",
        "        if edge_attr is not None:\n",
        "            vec = torch.cat((x_i, edge_attr, x_j), 1)\n",
        "            block_score = self.linear(vec)  # bias already included\n",
        "        else:\n",
        "            vec = torch.cat((x_i, x_j), 1)\n",
        "            block_score = self.linear(vec)\n",
        "        scores = score + block_score\n",
        "        alpha = torch.tanh(scores)\n",
        "        self._alpha = alpha\n",
        "        alpha = F.dropout(alpha, p=self.dropout, training=self.training)\n",
        "\n",
        "        dim_split = self.out_channels // self.slices\n",
        "        out = torch.max(x_j, edge_attr).view(-1, self.slices, dim_split)\n",
        "\n",
        "        out = out * alpha.view(-1, self.slices, 1)\n",
        "        out = out.view(-1, self.out_channels)\n",
        "        return out\n",
        "\n",
        "    def __repr__(self):\n",
        "        return '{}({}, {}, slices={})'.format(self.__class__.__name__,\n",
        "                                              self.in_channels,\n",
        "                                              self.out_channels, self.slices)\n",
        "\n",
        "class HiGNN(torch.nn.Module):\n",
        "    \"\"\"Hierarchical informative graph neural network for molecular representation.\n",
        "\n",
        "    There are 2 parts to HiGNN, one is at molecule level and other is at fragment level.\n",
        "    We do message passing at both levels (Atom Level and Fragment Level)\n",
        "\n",
        "    Once after Message Passing,\n",
        "      1. mean pool atom attributes\n",
        "      2. Calculate Cross Attention scores of each of those fragment attributes to molecule attributes\n",
        "      3. Weighted sum of fragment attributes using cross attention scores\n",
        "      4. Concatenate molecule attributes obtained from atom level features and fragment level features and get prediction.\n",
        "\n",
        "    After Message Passing\n",
        "\n",
        "    Readout:\n",
        "      hg = sigme(hi)\n",
        "\n",
        "    Cross Attention -\n",
        "    hg - Graph Readout\n",
        "    st - Fragment Representation of Message Passing.\n",
        "\n",
        "    alpha(t) = softmax(LeakyReLU(a [Whg || Wst]))\n",
        "\n",
        "\n",
        "    \"\"\"\n",
        "\n",
        "    def __init__(self, in_channels, hidden_channels, out_channels, edge_dim, num_layers,\n",
        "                 slices, dropout, f_att=False, r=4, brics=True, cl=False, save_path = None, load_path = None, num_outputs = 1):\n",
        "        super(HiGNN, self).__init__()\n",
        "\n",
        "        self.hidden_channels = hidden_channels\n",
        "        self.num_layers = num_layers\n",
        "        self.dropout = dropout\n",
        "\n",
        "        self.num_outputs = num_outputs\n",
        "\n",
        "        self.f_att = f_att\n",
        "        self.brics = brics\n",
        "        self.cl = cl\n",
        "\n",
        "        self.save_path = save_path\n",
        "        self.load_path = load_path\n",
        "\n",
        "        self.pre_trained = True if load_path else False\n",
        "\n",
        "        # atom feature transformation\n",
        "        self.lin_a = Linear(in_channels, hidden_channels)\n",
        "        self.lin_b = Linear(edge_dim, hidden_channels)\n",
        "\n",
        "        # convs block\n",
        "        self.atom_convs = torch.nn.ModuleList()\n",
        "        for _ in range(num_layers):\n",
        "            conv = NTNConv(hidden_channels, hidden_channels, slices=slices,\n",
        "                           dropout=dropout, edge_dim=hidden_channels)\n",
        "            self.atom_convs.append(conv)\n",
        "\n",
        "        self.lin_gate = Linear(3 * hidden_channels, hidden_channels)\n",
        "\n",
        "        if self.f_att:\n",
        "            self.feature_att = FeatureAttention(channels=hidden_channels, reduction=r)\n",
        "\n",
        "        if self.brics:\n",
        "            # mol-fra attention\n",
        "            self.cross_att = GATConv(hidden_channels, hidden_channels, heads=4,\n",
        "                                     dropout=dropout, add_self_loops=False,\n",
        "                                     negative_slope=0.01, concat=False)\n",
        "\n",
        "        if self.brics:\n",
        "            self.out = nn.ModuleList([Linear(2 * hidden_channels, out_channels) for i in range(self.num_outputs)])\n",
        "        else:\n",
        "            self.out = nn.ModuleList([Linear(hidden_channels, out_channels) for i in range(self.num_outputs)])\n",
        "\n",
        "        if self.cl:\n",
        "            self.lin_project = Linear(hidden_channels, int(hidden_channels/2))\n",
        "\n",
        "        if self.pre_trained:\n",
        "            self.load_model(load_model)\n",
        "\n",
        "        self.reset_parameters()\n",
        "\n",
        "    def save_model(self, save_path, complete_model = False):\n",
        "\n",
        "        model_dict = {\n",
        "            'atom_convs': self.atom_convs.state_dict(),\n",
        "            'lin_gate': self.lin_gate.state_dict(),\n",
        "            'lin_a': self.lin_a.state_dict(),\n",
        "            'lin_b': self.lin_b.state_dict(),\n",
        "        }\n",
        "\n",
        "        if self.f_att:\n",
        "            model_dict['feature_att'] =  self.feature_att.state_dict()\n",
        "\n",
        "        if self.brics:\n",
        "            model_dict['cross_att'] = self.cross_att.state_dict()\n",
        "\n",
        "        if complete_model:\n",
        "            model_dict['out'] = self.out.state_dict()\n",
        "\n",
        "        torch.save(model_dict, save_path)\n",
        "\n",
        "    def load_model(self, load_path):\n",
        "\n",
        "        model_dict = torch.load(load_path)\n",
        "        self.atom_convs.load_state_dict(model_dict['atom_convs'])\n",
        "        self.lin_gate.load_state_dict(model_dict['lin_gate'])\n",
        "        self.lin_a.load_state_dict(model_dict['lin_a'])\n",
        "        self.lin_b.load_state_dict(model_dict['lin_b'])\n",
        "\n",
        "        if self.f_att:\n",
        "            self.feature_att.load_state_dict(model_dict['feature_att'])\n",
        "\n",
        "        if self.brics:\n",
        "            self.cross_att.load_state_dict(model_dict['cross_att'])\n",
        "\n",
        "        if 'out' in model_dict:\n",
        "            self.out.load_state_dict(model_dict['out'])\n",
        "\n",
        "\n",
        "    def reset_parameters(self):\n",
        "\n",
        "        self.lin_a.reset_parameters()\n",
        "        self.lin_b.reset_parameters()\n",
        "\n",
        "        for conv in self.atom_convs:\n",
        "            conv.reset_parameters()\n",
        "\n",
        "        self.lin_gate.reset_parameters()\n",
        "\n",
        "        if self.f_att:\n",
        "            self.feature_att.reset_parameters()\n",
        "\n",
        "        if self.brics:\n",
        "            self.cross_att.reset_parameters()\n",
        "\n",
        "        for i in self.out:\n",
        "            i.reset_parameters()\n",
        "\n",
        "        if self.cl:\n",
        "            self.lin_project.reset_parameters()\n",
        "\n",
        "    def forward(self, data):\n",
        "        # get mol input\n",
        "        x = data.x\n",
        "        edge_index = data.edge_index\n",
        "        edge_attr = data.edge_attr\n",
        "        batch = data.batch\n",
        "\n",
        "        x = F.relu(self.lin_a(x))  # (N, 46) -> (N, hidden_channels)\n",
        "        edge_attr = F.relu(self.lin_b(edge_attr))  # (N, 10) -> (N, hidden_channels)\n",
        "\n",
        "        # mol conv block\n",
        "        for i in range(0, self.num_layers):\n",
        "            h = F.relu(self.atom_convs[i](x, edge_index, edge_attr))\n",
        "            beta = self.lin_gate(torch.cat([x, h, x - h], 1)).sigmoid()\n",
        "            x = beta * x + (1 - beta) * h\n",
        "            if self.f_att:\n",
        "                x = self.feature_att(x, batch)\n",
        "\n",
        "        mol_vec = global_add_pool(x, batch).relu_()\n",
        "\n",
        "        if self.brics:\n",
        "            # get fragment input\n",
        "            fra_x = data.x\n",
        "            fra_edge_index = data.fra_edge_index\n",
        "            fra_edge_attr = data.fra_edge_attr\n",
        "            cluster = data.cluster_index\n",
        "\n",
        "            fra_x = F.relu(self.lin_a(fra_x))  # (N, 46) -> (N, hidden_channels)\n",
        "            fra_edge_attr = F.relu(self.lin_b(fra_edge_attr))  # (N, 10) -> (N, hidden_channels)\n",
        "\n",
        "            # fragment convs block\n",
        "            for i in range(0, self.num_layers):\n",
        "                fra_h = F.relu(self.atom_convs[i](fra_x, fra_edge_index, fra_edge_attr))\n",
        "                beta = self.lin_gate(torch.cat([fra_x, fra_h, fra_x - fra_h], 1)).sigmoid()\n",
        "                fra_x = beta * fra_x + (1 - beta) * fra_h\n",
        "\n",
        "                if self.f_att:\n",
        "                    fra_x = self.feature_att(fra_x, cluster)\n",
        "\n",
        "            fra_x = global_add_pool(fra_x, cluster).relu_()\n",
        "\n",
        "            # get fragment batch\n",
        "            cluster, perm = consecutive_cluster(cluster)\n",
        "            fra_batch = pool_batch(perm, data.batch)\n",
        "\n",
        "            # molecule-fragment attention\n",
        "            row = torch.arange(fra_batch.size(0), device=batch.device)\n",
        "            mol_fra_index = torch.stack([row, fra_batch], dim=0)\n",
        "            fra_vec = self.cross_att((fra_x, mol_vec), mol_fra_index).relu_()\n",
        "\n",
        "            vectors_concat = list()\n",
        "            vectors_concat.append(mol_vec)\n",
        "            vectors_concat.append(fra_vec)\n",
        "\n",
        "            out = torch.cat(vectors_concat, 1)\n",
        "\n",
        "            # molecule-fragment contrastive\n",
        "            if self.cl:\n",
        "                out = F.dropout(out, p=self.dropout, training=self.training)\n",
        "                return torch.cat([l(out) for l in self.out], dim = 1), self.lin_project(mol_vec).relu_(), self.lin_project(fra_vec).relu_()\n",
        "            else:\n",
        "                out = F.dropout(out, p=self.dropout, training=self.training)\n",
        "                return torch.cat([l(out) for l in self.out], dim = 1)\n",
        "        else:\n",
        "            assert self.cl is False\n",
        "            out = F.dropout(mol_vec, p=self.dropout, training=self.training)\n",
        "            return torch.cat([l(out) for l in self.out], dim = 1)\n",
        "\n",
        "def build_model(in_channels=45, hidden_channels = 64, out_channels = 1, edge_dim = 10, num_layers = 3, dropout = 0.2, slices = 2,\n",
        "                  f_att = True, r = 4, brics = True, cl = False, save_path = None, load_path = None, num_outputs = 1):\n",
        "\n",
        "    model = HiGNN(in_channels,\n",
        "                  hidden_channels = hidden_channels,\n",
        "                  out_channels = out_channels,\n",
        "                  edge_dim = edge_dim,\n",
        "                  num_layers = num_layers,\n",
        "                  dropout = dropout,\n",
        "                  slices = slices,\n",
        "                  f_att = f_att,\n",
        "                  r = r,\n",
        "                  brics = brics,\n",
        "                  cl = cl,\n",
        "                  save_path = save_path,\n",
        "                  load_path = load_path,\n",
        "                  num_outputs = num_outputs )\n",
        "\n",
        "    return model"
      ],
      "metadata": {
        "id": "m1Re7EtLfB_z"
      },
      "execution_count": 18,
      "outputs": []
    },
    {
      "cell_type": "code",
      "source": [
        "def calculate_loss(criterion, out, y):\n",
        "\n",
        "    '''\n",
        "    criterion - Loss Function\n",
        "    out - Batch Size * num_outputs\n",
        "    y - Batch Size* num_outputs\n",
        "    '''\n",
        "\n",
        "    num_outputs = out.shape[-1]\n",
        "\n",
        "    if len(y.shape) == 1:\n",
        "        y = y.unsqueeze(dim = -1)\n",
        "    assert out.shape == y.shape\n",
        "\n",
        "    loss = criterion(out[:, 0].squeeze(), y[:, 0].squeeze())\n",
        "    for i in range(1, num_outputs):\n",
        "        loss += criterion(out[:, i].squeeze(), y[:, i].squeeze())\n",
        "\n",
        "    return loss"
      ],
      "metadata": {
        "id": "j0XM349-_VCr"
      },
      "execution_count": 44,
      "outputs": []
    },
    {
      "cell_type": "code",
      "source": [
        "y = torch.randn(32)\n",
        "y.unsqueeze(dim = -1).shape"
      ],
      "metadata": {
        "colab": {
          "base_uri": "https://localhost:8080/"
        },
        "id": "IkEOYgDhC0Pw",
        "outputId": "7e7686cd-b659-402d-878a-05798adf2b5b"
      },
      "execution_count": 43,
      "outputs": [
        {
          "output_type": "execute_result",
          "data": {
            "text/plain": [
              "torch.Size([32, 1])"
            ]
          },
          "metadata": {},
          "execution_count": 43
        }
      ]
    },
    {
      "cell_type": "code",
      "source": [
        "def train_one_epoch(model, train_dataloader, val_dataloader, criterion_1, optimizer, scheduler, device, is_classification = False):\n",
        "\n",
        "    total_loss_train = []\n",
        "    total_loss_val = []\n",
        "    rmse_train = []\n",
        "    rmse_valid = []\n",
        "    c = 0\n",
        "\n",
        "    # st()\n",
        "    for data in tqdm(train_dataloader):\n",
        "        try:\n",
        "\n",
        "            data = data.to(device)\n",
        "            outputs = model(data)\n",
        "            loss = calculate_loss(criterion_1, outputs, data.y)\n",
        "\n",
        "            loss.backward()\n",
        "            optimizer.step()  # Update parameters based on gradients.\n",
        "            optimizer.zero_grad()\n",
        "\n",
        "            # scheduler.step()\n",
        "            total_loss_train.append(loss.item())\n",
        "\n",
        "            if is_classification:\n",
        "                # Calculate ROC_AUC\n",
        "                rmse_train.append(roc_auc(train_label[:, 0].to(torch.device('cpu').numpy()), outputs[0].squeeze().detach().to(torch.device('cpu')).numpy()))\n",
        "            else:\n",
        "                rmse_train.append(np.sqrt(loss.item()))\n",
        "\n",
        "            c += 1\n",
        "            if (c%10 == 0):\n",
        "                wandb.log({\n",
        "                  \"Train Loss Running Mean\": np.mean(total_loss_train)\n",
        "                })\n",
        "                wandb.log({\n",
        "                  \"Train RMSE Running Mean\": np.mean(rmse_train)\n",
        "                })\n",
        "\n",
        "\n",
        "        except Exception as e:\n",
        "            print(e)\n",
        "\n",
        "    with torch.no_grad():\n",
        "        c = 0\n",
        "        for data in val_dataloader:\n",
        "            try:\n",
        "                data = data.to(device)\n",
        "                outputs = model(data)\n",
        "\n",
        "                # loss = criterion_1(outputs.squeeze(), data.y.squeeze())\n",
        "                loss = calculate_loss(criterion_1, outputs, data.y)\n",
        "\n",
        "                c += 1\n",
        "                total_loss_val.append(loss.item())\n",
        "\n",
        "                if is_classification:\n",
        "                    # Calculate ROC_AUC\n",
        "                    rmse_valid.append(roc_auc(val_label[:, 0].to(torch.device('cpu').numpy()), outputs[0].squeeze().detach().to(torch.device('cpu')).numpy()))\n",
        "                else:\n",
        "                    rmse_valid.append(np.sqrt(loss.item()))\n",
        "                if (c%3 == 0):\n",
        "                    wandb.log({\n",
        "                      \"Validation Loss Running Mean\": np.mean(total_loss_val)\n",
        "                    })\n",
        "                    wandb.log({\n",
        "                      \"Validation RMSE Running Mean\": np.mean(rmse_valid)\n",
        "                    })\n",
        "\n",
        "                scheduler.step(np.mean(total_loss_val))\n",
        "            except Exception as e:\n",
        "                print(e)\n",
        "\n",
        "    return np.mean(total_loss_train), np.mean(total_loss_val), np.mean(rmse_train), np.mean(rmse_valid)\n",
        "\n",
        "def train_regression(model, train_dataloader, val_dataloader, learning_rate = 1e-03, min_lr = 1e-05, epochs = 50, wd = 1e-02):\n",
        "\n",
        "    hyperparameters = {\n",
        "        \"batch_size\": train_dataloader.batch_size,\n",
        "        \"num_epochs\": epochs,\n",
        "    }\n",
        "    wandb.config.update(hyperparameters)\n",
        "\n",
        "    use_cuda = torch.cuda.is_available()\n",
        "    device = torch.device(\"cuda\" if use_cuda else \"cpu\")\n",
        "    model.to(device)\n",
        "\n",
        "    optimizer = torch.optim.Adam(model.parameters(), lr = learning_rate, weight_decay = wd)\n",
        "    criterion_1 = nn.MSELoss()\n",
        "    scheduler = torch.optim.lr_scheduler.ReduceLROnPlateau(\n",
        "                            optimizer,\n",
        "                            mode = 'min',\n",
        "                            factor = 0.7,\n",
        "                            patience = 10,\n",
        "                            min_lr = min_lr\n",
        "                )\n",
        "\n",
        "    for epoch_num in range(epochs):\n",
        "\n",
        "        train_loss, valid_loss, train_rmse, valid_rmse = train_one_epoch(model, train_dataloader, val_dataloader, criterion_1, optimizer, scheduler, device)\n",
        "        print(\n",
        "            f'Epochs: {epoch_num + 1} | Train Loss: {train_loss: .3f} \\\n",
        "            | Val Loss: {valid_loss: .3f} \\\n",
        "            | Train RMSE: {train_rmse: .3f} \\\n",
        "            | Val RMSE: {valid_rmse: .3f}')\n",
        "\n",
        "    return model\n"
      ],
      "metadata": {
        "id": "HFSybyXH4i-c"
      },
      "execution_count": 45,
      "outputs": []
    },
    {
      "cell_type": "markdown",
      "source": [
        "# Section - 2: Train a Model"
      ],
      "metadata": {
        "id": "p4Y3P71RJh7L"
      }
    },
    {
      "cell_type": "code",
      "source": [
        "# Prepare Data Loaders\n",
        "# train_loader, val_loader, test_loader = get_loaders('./root/', \"./chem_datasets/dataset-delaney.csv\", 'SMILES', 'measured log(solubility:mol/L)', 'esol_1')\n",
        "train_loader, val_loader, test_loader = get_loaders(root = './root/',\n",
        "                                                    fpath = \"./chem_datasets/dataset-delaney.csv\",\n",
        "                                                    dataset = \"esol\",\n",
        "                                                    task_type = 'regression',\n",
        "                                                    tasks = ['measured log(solubility:mol/L)'],\n",
        "                                                    smiles_col = 'SMILES')"
      ],
      "metadata": {
        "colab": {
          "base_uri": "https://localhost:8080/"
        },
        "id": "OOFvLC380SqP",
        "outputId": "856f6084-7fe7-4256-d3ec-4dc5feec70b7"
      },
      "execution_count": 29,
      "outputs": [
        {
          "output_type": "stream",
          "name": "stdout",
          "text": [
            "Total smiles = 1,144 | train smiles = 915 | val smiles = 114 | test smiles = 115\n"
          ]
        },
        {
          "output_type": "stream",
          "name": "stderr",
          "text": [
            "/home/ec2-user/virtenv/lib64/python3.7/site-packages/torch_geometric/data/in_memory_dataset.py:157: UserWarning: It is not recommended to directly access the internal storage format `data` of an 'InMemoryDataset'. If you are absolutely certain what you are doing, access the internal storage via `InMemoryDataset._data` instead to suppress this warning. Alternatively, you can access stacked individual attributes of every graph via `dataset.{attr_name}`.\n",
            "  warnings.warn(msg)\n",
            "/home/ec2-user/virtenv/lib64/python3.7/site-packages/torch_geometric/deprecation.py:22: UserWarning: 'data.DataLoader' is deprecated, use 'loader.DataLoader' instead\n",
            "  warnings.warn(out)\n"
          ]
        }
      ]
    },
    {
      "cell_type": "code",
      "source": [
        "#Get Device\n",
        "device = torch.device('cuda' if torch.cuda.is_available() else 'cpu')"
      ],
      "metadata": {
        "id": "12RTe1fmZ9c6"
      },
      "execution_count": 30,
      "outputs": []
    },
    {
      "cell_type": "code",
      "source": [
        "# Prepapre Model\n",
        "hi_gnn = build_model()"
      ],
      "metadata": {
        "id": "JtYDFbaj4gsm"
      },
      "execution_count": 46,
      "outputs": []
    },
    {
      "cell_type": "code",
      "source": [
        "# Load a pre trained model if available. This cell is completely optional\n",
        "hi_gnn.load_model(\"./models/hignn_test_sol_pretrained.pth\")"
      ],
      "metadata": {
        "id": "4UnrCYGKB-rV"
      },
      "execution_count": 47,
      "outputs": []
    },
    {
      "cell_type": "code",
      "source": [
        "# Train the model\n",
        "train_regression(hi_gnn, train_loader, val_loader, learning_rate = 1e-03, min_lr = 1e-04, epochs = 250, wd = 1e-03)"
      ],
      "metadata": {
        "colab": {
          "base_uri": "https://localhost:8080/"
        },
        "id": "uIxkd5EL8cGp",
        "outputId": "c5ae5e45-dd0e-495c-f4a7-71efab01de01"
      },
      "execution_count": 48,
      "outputs": [
        {
          "output_type": "stream",
          "name": "stderr",
          "text": [
            "100%|██████████| 29/29 [00:00<00:00, 36.04it/s]\n"
          ]
        },
        {
          "output_type": "stream",
          "name": "stdout",
          "text": [
            "Epochs: 1 | Train Loss:  25.534             | Val Loss:  8.352             | Train RMSE:  4.935             | Val RMSE:  2.881\n"
          ]
        },
        {
          "output_type": "stream",
          "name": "stderr",
          "text": [
            "100%|██████████| 29/29 [00:00<00:00, 35.81it/s]\n"
          ]
        },
        {
          "output_type": "stream",
          "name": "stdout",
          "text": [
            "Epochs: 2 | Train Loss:  8.989             | Val Loss:  4.708             | Train RMSE:  2.947             | Val RMSE:  2.139\n"
          ]
        },
        {
          "output_type": "stream",
          "name": "stderr",
          "text": [
            "100%|██████████| 29/29 [00:00<00:00, 36.03it/s]\n"
          ]
        },
        {
          "output_type": "stream",
          "name": "stdout",
          "text": [
            "Epochs: 3 | Train Loss:  6.561             | Val Loss:  4.064             | Train RMSE:  2.498             | Val RMSE:  2.000\n"
          ]
        },
        {
          "output_type": "stream",
          "name": "stderr",
          "text": [
            "100%|██████████| 29/29 [00:00<00:00, 35.93it/s]\n"
          ]
        },
        {
          "output_type": "stream",
          "name": "stdout",
          "text": [
            "Epochs: 4 | Train Loss:  3.238             | Val Loss:  2.770             | Train RMSE:  1.755             | Val RMSE:  1.646\n"
          ]
        },
        {
          "output_type": "stream",
          "name": "stderr",
          "text": [
            "100%|██████████| 29/29 [00:00<00:00, 35.80it/s]\n"
          ]
        },
        {
          "output_type": "stream",
          "name": "stdout",
          "text": [
            "Epochs: 5 | Train Loss:  2.124             | Val Loss:  1.757             | Train RMSE:  1.442             | Val RMSE:  1.319\n"
          ]
        },
        {
          "output_type": "stream",
          "name": "stderr",
          "text": [
            "100%|██████████| 29/29 [00:00<00:00, 35.86it/s]\n"
          ]
        },
        {
          "output_type": "stream",
          "name": "stdout",
          "text": [
            "Epochs: 6 | Train Loss:  1.962             | Val Loss:  1.563             | Train RMSE:  1.386             | Val RMSE:  1.244\n"
          ]
        },
        {
          "output_type": "stream",
          "name": "stderr",
          "text": [
            "100%|██████████| 29/29 [00:00<00:00, 35.88it/s]\n"
          ]
        },
        {
          "output_type": "stream",
          "name": "stdout",
          "text": [
            "Epochs: 7 | Train Loss:  1.634             | Val Loss:  1.305             | Train RMSE:  1.271             | Val RMSE:  1.130\n"
          ]
        },
        {
          "output_type": "stream",
          "name": "stderr",
          "text": [
            "100%|██████████| 29/29 [00:00<00:00, 35.98it/s]\n"
          ]
        },
        {
          "output_type": "stream",
          "name": "stdout",
          "text": [
            "Epochs: 8 | Train Loss:  1.485             | Val Loss:  1.249             | Train RMSE:  1.203             | Val RMSE:  1.102\n"
          ]
        },
        {
          "output_type": "stream",
          "name": "stderr",
          "text": [
            "100%|██████████| 29/29 [00:00<00:00, 36.54it/s]\n"
          ]
        },
        {
          "output_type": "stream",
          "name": "stdout",
          "text": [
            "Epochs: 9 | Train Loss:  1.297             | Val Loss:  1.154             | Train RMSE:  1.127             | Val RMSE:  1.063\n"
          ]
        },
        {
          "output_type": "stream",
          "name": "stderr",
          "text": [
            "100%|██████████| 29/29 [00:00<00:00, 36.55it/s]\n"
          ]
        },
        {
          "output_type": "stream",
          "name": "stdout",
          "text": [
            "Epochs: 10 | Train Loss:  1.206             | Val Loss:  1.155             | Train RMSE:  1.082             | Val RMSE:  1.068\n"
          ]
        },
        {
          "output_type": "stream",
          "name": "stderr",
          "text": [
            "100%|██████████| 29/29 [00:00<00:00, 36.58it/s]\n"
          ]
        },
        {
          "output_type": "stream",
          "name": "stdout",
          "text": [
            "Epochs: 11 | Train Loss:  1.051             | Val Loss:  0.876             | Train RMSE:  1.009             | Val RMSE:  0.927\n"
          ]
        },
        {
          "output_type": "stream",
          "name": "stderr",
          "text": [
            "100%|██████████| 29/29 [00:00<00:00, 36.67it/s]\n"
          ]
        },
        {
          "output_type": "stream",
          "name": "stdout",
          "text": [
            "Epochs: 12 | Train Loss:  1.104             | Val Loss:  0.917             | Train RMSE:  1.034             | Val RMSE:  0.951\n"
          ]
        },
        {
          "output_type": "stream",
          "name": "stderr",
          "text": [
            "100%|██████████| 29/29 [00:00<00:00, 36.71it/s]\n"
          ]
        },
        {
          "output_type": "stream",
          "name": "stdout",
          "text": [
            "Epochs: 13 | Train Loss:  0.994             | Val Loss:  0.905             | Train RMSE:  0.990             | Val RMSE:  0.936\n"
          ]
        },
        {
          "output_type": "stream",
          "name": "stderr",
          "text": [
            "100%|██████████| 29/29 [00:00<00:00, 36.34it/s]\n"
          ]
        },
        {
          "output_type": "stream",
          "name": "stdout",
          "text": [
            "Epochs: 14 | Train Loss:  0.954             | Val Loss:  0.766             | Train RMSE:  0.970             | Val RMSE:  0.868\n"
          ]
        },
        {
          "output_type": "stream",
          "name": "stderr",
          "text": [
            "100%|██████████| 29/29 [00:00<00:00, 36.57it/s]\n"
          ]
        },
        {
          "output_type": "stream",
          "name": "stdout",
          "text": [
            "Epochs: 15 | Train Loss:  0.948             | Val Loss:  0.926             | Train RMSE:  0.964             | Val RMSE:  0.937\n"
          ]
        },
        {
          "output_type": "stream",
          "name": "stderr",
          "text": [
            "100%|██████████| 29/29 [00:00<00:00, 36.76it/s]\n"
          ]
        },
        {
          "output_type": "stream",
          "name": "stdout",
          "text": [
            "Epochs: 16 | Train Loss:  0.995             | Val Loss:  0.950             | Train RMSE:  0.982             | Val RMSE:  0.960\n"
          ]
        },
        {
          "output_type": "stream",
          "name": "stderr",
          "text": [
            "100%|██████████| 29/29 [00:00<00:00, 36.43it/s]\n"
          ]
        },
        {
          "output_type": "stream",
          "name": "stdout",
          "text": [
            "Epochs: 17 | Train Loss:  0.905             | Val Loss:  0.848             | Train RMSE:  0.941             | Val RMSE:  0.906\n"
          ]
        },
        {
          "output_type": "stream",
          "name": "stderr",
          "text": [
            "100%|██████████| 29/29 [00:00<00:00, 36.60it/s]\n"
          ]
        },
        {
          "output_type": "stream",
          "name": "stdout",
          "text": [
            "Epochs: 18 | Train Loss:  0.826             | Val Loss:  0.767             | Train RMSE:  0.898             | Val RMSE:  0.875\n"
          ]
        },
        {
          "output_type": "stream",
          "name": "stderr",
          "text": [
            "100%|██████████| 29/29 [00:00<00:00, 36.39it/s]\n"
          ]
        },
        {
          "output_type": "stream",
          "name": "stdout",
          "text": [
            "Epochs: 19 | Train Loss:  0.828             | Val Loss:  0.872             | Train RMSE:  0.901             | Val RMSE:  0.932\n"
          ]
        },
        {
          "output_type": "stream",
          "name": "stderr",
          "text": [
            "100%|██████████| 29/29 [00:00<00:00, 36.28it/s]\n"
          ]
        },
        {
          "output_type": "stream",
          "name": "stdout",
          "text": [
            "Epochs: 20 | Train Loss:  0.811             | Val Loss:  0.675             | Train RMSE:  0.892             | Val RMSE:  0.821\n"
          ]
        },
        {
          "output_type": "stream",
          "name": "stderr",
          "text": [
            "100%|██████████| 29/29 [00:00<00:00, 36.62it/s]\n"
          ]
        },
        {
          "output_type": "stream",
          "name": "stdout",
          "text": [
            "Epochs: 21 | Train Loss:  0.772             | Val Loss:  0.918             | Train RMSE:  0.869             | Val RMSE:  0.942\n"
          ]
        },
        {
          "output_type": "stream",
          "name": "stderr",
          "text": [
            "100%|██████████| 29/29 [00:00<00:00, 36.57it/s]\n"
          ]
        },
        {
          "output_type": "stream",
          "name": "stdout",
          "text": [
            "Epochs: 22 | Train Loss:  0.749             | Val Loss:  0.792             | Train RMSE:  0.857             | Val RMSE:  0.851\n"
          ]
        },
        {
          "output_type": "stream",
          "name": "stderr",
          "text": [
            "100%|██████████| 29/29 [00:00<00:00, 36.89it/s]\n"
          ]
        },
        {
          "output_type": "stream",
          "name": "stdout",
          "text": [
            "Epochs: 23 | Train Loss:  0.711             | Val Loss:  0.716             | Train RMSE:  0.831             | Val RMSE:  0.841\n"
          ]
        },
        {
          "output_type": "stream",
          "name": "stderr",
          "text": [
            "100%|██████████| 29/29 [00:00<00:00, 36.60it/s]\n"
          ]
        },
        {
          "output_type": "stream",
          "name": "stdout",
          "text": [
            "Epochs: 24 | Train Loss:  0.734             | Val Loss:  0.708             | Train RMSE:  0.846             | Val RMSE:  0.841\n"
          ]
        },
        {
          "output_type": "stream",
          "name": "stderr",
          "text": [
            "100%|██████████| 29/29 [00:00<00:00, 36.55it/s]\n"
          ]
        },
        {
          "output_type": "stream",
          "name": "stdout",
          "text": [
            "Epochs: 25 | Train Loss:  0.756             | Val Loss:  0.636             | Train RMSE:  0.859             | Val RMSE:  0.792\n"
          ]
        },
        {
          "output_type": "stream",
          "name": "stderr",
          "text": [
            "100%|██████████| 29/29 [00:00<00:00, 36.56it/s]\n"
          ]
        },
        {
          "output_type": "stream",
          "name": "stdout",
          "text": [
            "Epochs: 26 | Train Loss:  0.700             | Val Loss:  0.667             | Train RMSE:  0.828             | Val RMSE:  0.804\n"
          ]
        },
        {
          "output_type": "stream",
          "name": "stderr",
          "text": [
            "100%|██████████| 29/29 [00:00<00:00, 36.58it/s]\n"
          ]
        },
        {
          "output_type": "stream",
          "name": "stdout",
          "text": [
            "Epochs: 27 | Train Loss:  0.718             | Val Loss:  0.715             | Train RMSE:  0.834             | Val RMSE:  0.835\n"
          ]
        },
        {
          "output_type": "stream",
          "name": "stderr",
          "text": [
            "100%|██████████| 29/29 [00:00<00:00, 36.90it/s]\n"
          ]
        },
        {
          "output_type": "stream",
          "name": "stdout",
          "text": [
            "Epochs: 28 | Train Loss:  0.632             | Val Loss:  0.546             | Train RMSE:  0.786             | Val RMSE:  0.726\n"
          ]
        },
        {
          "output_type": "stream",
          "name": "stderr",
          "text": [
            "100%|██████████| 29/29 [00:00<00:00, 36.51it/s]\n"
          ]
        },
        {
          "output_type": "stream",
          "name": "stdout",
          "text": [
            "Epochs: 29 | Train Loss:  0.621             | Val Loss:  0.572             | Train RMSE:  0.781             | Val RMSE:  0.749\n"
          ]
        },
        {
          "output_type": "stream",
          "name": "stderr",
          "text": [
            "100%|██████████| 29/29 [00:00<00:00, 36.57it/s]\n"
          ]
        },
        {
          "output_type": "stream",
          "name": "stdout",
          "text": [
            "Epochs: 30 | Train Loss:  0.674             | Val Loss:  0.589             | Train RMSE:  0.810             | Val RMSE:  0.762\n"
          ]
        },
        {
          "output_type": "stream",
          "name": "stderr",
          "text": [
            "100%|██████████| 29/29 [00:00<00:00, 36.81it/s]\n"
          ]
        },
        {
          "output_type": "stream",
          "name": "stdout",
          "text": [
            "Epochs: 31 | Train Loss:  0.603             | Val Loss:  0.584             | Train RMSE:  0.770             | Val RMSE:  0.757\n"
          ]
        },
        {
          "output_type": "stream",
          "name": "stderr",
          "text": [
            "100%|██████████| 29/29 [00:00<00:00, 36.95it/s]\n"
          ]
        },
        {
          "output_type": "stream",
          "name": "stdout",
          "text": [
            "Epochs: 32 | Train Loss:  0.627             | Val Loss:  0.680             | Train RMSE:  0.782             | Val RMSE:  0.818\n"
          ]
        },
        {
          "output_type": "stream",
          "name": "stderr",
          "text": [
            "100%|██████████| 29/29 [00:00<00:00, 36.78it/s]\n"
          ]
        },
        {
          "output_type": "stream",
          "name": "stdout",
          "text": [
            "Epochs: 33 | Train Loss:  0.632             | Val Loss:  0.444             | Train RMSE:  0.786             | Val RMSE:  0.644\n"
          ]
        },
        {
          "output_type": "stream",
          "name": "stderr",
          "text": [
            "100%|██████████| 29/29 [00:00<00:00, 36.78it/s]\n"
          ]
        },
        {
          "output_type": "stream",
          "name": "stdout",
          "text": [
            "Epochs: 34 | Train Loss:  0.665             | Val Loss:  0.581             | Train RMSE:  0.805             | Val RMSE:  0.751\n"
          ]
        },
        {
          "output_type": "stream",
          "name": "stderr",
          "text": [
            "100%|██████████| 29/29 [00:00<00:00, 36.85it/s]\n"
          ]
        },
        {
          "output_type": "stream",
          "name": "stdout",
          "text": [
            "Epochs: 35 | Train Loss:  0.630             | Val Loss:  0.600             | Train RMSE:  0.781             | Val RMSE:  0.757\n"
          ]
        },
        {
          "output_type": "stream",
          "name": "stderr",
          "text": [
            "100%|██████████| 29/29 [00:00<00:00, 36.74it/s]\n"
          ]
        },
        {
          "output_type": "stream",
          "name": "stdout",
          "text": [
            "Epochs: 36 | Train Loss:  0.640             | Val Loss:  0.454             | Train RMSE:  0.791             | Val RMSE:  0.663\n"
          ]
        },
        {
          "output_type": "stream",
          "name": "stderr",
          "text": [
            "100%|██████████| 29/29 [00:00<00:00, 36.79it/s]\n"
          ]
        },
        {
          "output_type": "stream",
          "name": "stdout",
          "text": [
            "Epochs: 37 | Train Loss:  0.614             | Val Loss:  0.745             | Train RMSE:  0.774             | Val RMSE:  0.850\n"
          ]
        },
        {
          "output_type": "stream",
          "name": "stderr",
          "text": [
            "100%|██████████| 29/29 [00:00<00:00, 36.82it/s]\n"
          ]
        },
        {
          "output_type": "stream",
          "name": "stdout",
          "text": [
            "Epochs: 38 | Train Loss:  0.579             | Val Loss:  0.678             | Train RMSE:  0.751             | Val RMSE:  0.802\n"
          ]
        },
        {
          "output_type": "stream",
          "name": "stderr",
          "text": [
            "100%|██████████| 29/29 [00:00<00:00, 36.77it/s]\n"
          ]
        },
        {
          "output_type": "stream",
          "name": "stdout",
          "text": [
            "Epochs: 39 | Train Loss:  0.578             | Val Loss:  0.526             | Train RMSE:  0.753             | Val RMSE:  0.710\n"
          ]
        },
        {
          "output_type": "stream",
          "name": "stderr",
          "text": [
            "100%|██████████| 29/29 [00:00<00:00, 36.66it/s]\n"
          ]
        },
        {
          "output_type": "stream",
          "name": "stdout",
          "text": [
            "Epochs: 40 | Train Loss:  0.587             | Val Loss:  0.634             | Train RMSE:  0.760             | Val RMSE:  0.777\n"
          ]
        },
        {
          "output_type": "stream",
          "name": "stderr",
          "text": [
            "100%|██████████| 29/29 [00:00<00:00, 36.70it/s]\n"
          ]
        },
        {
          "output_type": "stream",
          "name": "stdout",
          "text": [
            "Epochs: 41 | Train Loss:  0.549             | Val Loss:  0.566             | Train RMSE:  0.730             | Val RMSE:  0.741\n"
          ]
        },
        {
          "output_type": "stream",
          "name": "stderr",
          "text": [
            "100%|██████████| 29/29 [00:00<00:00, 36.76it/s]\n"
          ]
        },
        {
          "output_type": "stream",
          "name": "stdout",
          "text": [
            "Epochs: 42 | Train Loss:  0.556             | Val Loss:  0.603             | Train RMSE:  0.739             | Val RMSE:  0.764\n"
          ]
        },
        {
          "output_type": "stream",
          "name": "stderr",
          "text": [
            "100%|██████████| 29/29 [00:00<00:00, 36.78it/s]\n"
          ]
        },
        {
          "output_type": "stream",
          "name": "stdout",
          "text": [
            "Epochs: 43 | Train Loss:  0.584             | Val Loss:  0.639             | Train RMSE:  0.757             | Val RMSE:  0.797\n"
          ]
        },
        {
          "output_type": "stream",
          "name": "stderr",
          "text": [
            "100%|██████████| 29/29 [00:00<00:00, 36.59it/s]\n"
          ]
        },
        {
          "output_type": "stream",
          "name": "stdout",
          "text": [
            "Epochs: 44 | Train Loss:  0.622             | Val Loss:  0.683             | Train RMSE:  0.782             | Val RMSE:  0.820\n"
          ]
        },
        {
          "output_type": "stream",
          "name": "stderr",
          "text": [
            "100%|██████████| 29/29 [00:00<00:00, 36.78it/s]\n"
          ]
        },
        {
          "output_type": "stream",
          "name": "stdout",
          "text": [
            "Epochs: 45 | Train Loss:  0.588             | Val Loss:  0.616             | Train RMSE:  0.756             | Val RMSE:  0.769\n"
          ]
        },
        {
          "output_type": "stream",
          "name": "stderr",
          "text": [
            "100%|██████████| 29/29 [00:00<00:00, 36.79it/s]\n"
          ]
        },
        {
          "output_type": "stream",
          "name": "stdout",
          "text": [
            "Epochs: 46 | Train Loss:  0.587             | Val Loss:  0.543             | Train RMSE:  0.758             | Val RMSE:  0.735\n"
          ]
        },
        {
          "output_type": "stream",
          "name": "stderr",
          "text": [
            "100%|██████████| 29/29 [00:00<00:00, 36.91it/s]\n"
          ]
        },
        {
          "output_type": "stream",
          "name": "stdout",
          "text": [
            "Epochs: 47 | Train Loss:  0.596             | Val Loss:  0.479             | Train RMSE:  0.758             | Val RMSE:  0.673\n"
          ]
        },
        {
          "output_type": "stream",
          "name": "stderr",
          "text": [
            "100%|██████████| 29/29 [00:00<00:00, 36.96it/s]\n"
          ]
        },
        {
          "output_type": "stream",
          "name": "stdout",
          "text": [
            "Epochs: 48 | Train Loss:  0.576             | Val Loss:  0.590             | Train RMSE:  0.750             | Val RMSE:  0.767\n"
          ]
        },
        {
          "output_type": "stream",
          "name": "stderr",
          "text": [
            "100%|██████████| 29/29 [00:00<00:00, 36.75it/s]\n"
          ]
        },
        {
          "output_type": "stream",
          "name": "stdout",
          "text": [
            "Epochs: 49 | Train Loss:  0.583             | Val Loss:  0.708             | Train RMSE:  0.754             | Val RMSE:  0.833\n"
          ]
        },
        {
          "output_type": "stream",
          "name": "stderr",
          "text": [
            "100%|██████████| 29/29 [00:00<00:00, 36.80it/s]\n"
          ]
        },
        {
          "output_type": "stream",
          "name": "stdout",
          "text": [
            "Epochs: 50 | Train Loss:  0.609             | Val Loss:  0.566             | Train RMSE:  0.772             | Val RMSE:  0.746\n"
          ]
        },
        {
          "output_type": "stream",
          "name": "stderr",
          "text": [
            "100%|██████████| 29/29 [00:00<00:00, 36.79it/s]\n"
          ]
        },
        {
          "output_type": "stream",
          "name": "stdout",
          "text": [
            "Epochs: 51 | Train Loss:  0.580             | Val Loss:  0.561             | Train RMSE:  0.753             | Val RMSE:  0.743\n"
          ]
        },
        {
          "output_type": "stream",
          "name": "stderr",
          "text": [
            "100%|██████████| 29/29 [00:00<00:00, 36.67it/s]\n"
          ]
        },
        {
          "output_type": "stream",
          "name": "stdout",
          "text": [
            "Epochs: 52 | Train Loss:  0.544             | Val Loss:  0.515             | Train RMSE:  0.731             | Val RMSE:  0.703\n"
          ]
        },
        {
          "output_type": "stream",
          "name": "stderr",
          "text": [
            "100%|██████████| 29/29 [00:00<00:00, 36.84it/s]\n"
          ]
        },
        {
          "output_type": "stream",
          "name": "stdout",
          "text": [
            "Epochs: 53 | Train Loss:  0.537             | Val Loss:  0.556             | Train RMSE:  0.726             | Val RMSE:  0.744\n"
          ]
        },
        {
          "output_type": "stream",
          "name": "stderr",
          "text": [
            "100%|██████████| 29/29 [00:00<00:00, 36.96it/s]\n"
          ]
        },
        {
          "output_type": "stream",
          "name": "stdout",
          "text": [
            "Epochs: 54 | Train Loss:  0.538             | Val Loss:  0.631             | Train RMSE:  0.719             | Val RMSE:  0.790\n"
          ]
        },
        {
          "output_type": "stream",
          "name": "stderr",
          "text": [
            "100%|██████████| 29/29 [00:00<00:00, 36.60it/s]\n"
          ]
        },
        {
          "output_type": "stream",
          "name": "stdout",
          "text": [
            "Epochs: 55 | Train Loss:  0.582             | Val Loss:  0.634             | Train RMSE:  0.756             | Val RMSE:  0.792\n"
          ]
        },
        {
          "output_type": "stream",
          "name": "stderr",
          "text": [
            "100%|██████████| 29/29 [00:00<00:00, 36.73it/s]\n"
          ]
        },
        {
          "output_type": "stream",
          "name": "stdout",
          "text": [
            "Epochs: 56 | Train Loss:  0.590             | Val Loss:  0.641             | Train RMSE:  0.761             | Val RMSE:  0.799\n"
          ]
        },
        {
          "output_type": "stream",
          "name": "stderr",
          "text": [
            "100%|██████████| 29/29 [00:00<00:00, 36.58it/s]\n"
          ]
        },
        {
          "output_type": "stream",
          "name": "stdout",
          "text": [
            "Epochs: 57 | Train Loss:  0.560             | Val Loss:  0.576             | Train RMSE:  0.742             | Val RMSE:  0.756\n"
          ]
        },
        {
          "output_type": "stream",
          "name": "stderr",
          "text": [
            "100%|██████████| 29/29 [00:00<00:00, 36.68it/s]\n"
          ]
        },
        {
          "output_type": "stream",
          "name": "stdout",
          "text": [
            "Epochs: 58 | Train Loss:  0.586             | Val Loss:  0.524             | Train RMSE:  0.758             | Val RMSE:  0.710\n"
          ]
        },
        {
          "output_type": "stream",
          "name": "stderr",
          "text": [
            "100%|██████████| 29/29 [00:00<00:00, 36.63it/s]\n"
          ]
        },
        {
          "output_type": "stream",
          "name": "stdout",
          "text": [
            "Epochs: 59 | Train Loss:  0.584             | Val Loss:  0.711             | Train RMSE:  0.755             | Val RMSE:  0.840\n"
          ]
        },
        {
          "output_type": "stream",
          "name": "stderr",
          "text": [
            "100%|██████████| 29/29 [00:00<00:00, 36.79it/s]\n"
          ]
        },
        {
          "output_type": "stream",
          "name": "stdout",
          "text": [
            "Epochs: 60 | Train Loss:  0.578             | Val Loss:  0.547             | Train RMSE:  0.754             | Val RMSE:  0.727\n"
          ]
        },
        {
          "output_type": "stream",
          "name": "stderr",
          "text": [
            "100%|██████████| 29/29 [00:00<00:00, 36.81it/s]\n"
          ]
        },
        {
          "output_type": "stream",
          "name": "stdout",
          "text": [
            "Epochs: 61 | Train Loss:  0.542             | Val Loss:  0.553             | Train RMSE:  0.729             | Val RMSE:  0.740\n"
          ]
        },
        {
          "output_type": "stream",
          "name": "stderr",
          "text": [
            "100%|██████████| 29/29 [00:00<00:00, 36.72it/s]\n"
          ]
        },
        {
          "output_type": "stream",
          "name": "stdout",
          "text": [
            "Epochs: 62 | Train Loss:  0.553             | Val Loss:  0.609             | Train RMSE:  0.737             | Val RMSE:  0.776\n"
          ]
        },
        {
          "output_type": "stream",
          "name": "stderr",
          "text": [
            "100%|██████████| 29/29 [00:00<00:00, 36.77it/s]\n"
          ]
        },
        {
          "output_type": "stream",
          "name": "stdout",
          "text": [
            "Epochs: 63 | Train Loss:  0.551             | Val Loss:  0.614             | Train RMSE:  0.736             | Val RMSE:  0.772\n"
          ]
        },
        {
          "output_type": "stream",
          "name": "stderr",
          "text": [
            "100%|██████████| 29/29 [00:00<00:00, 36.78it/s]\n"
          ]
        },
        {
          "output_type": "stream",
          "name": "stdout",
          "text": [
            "Epochs: 64 | Train Loss:  0.568             | Val Loss:  0.493             | Train RMSE:  0.748             | Val RMSE:  0.696\n"
          ]
        },
        {
          "output_type": "stream",
          "name": "stderr",
          "text": [
            "100%|██████████| 29/29 [00:00<00:00, 36.84it/s]\n"
          ]
        },
        {
          "output_type": "stream",
          "name": "stdout",
          "text": [
            "Epochs: 65 | Train Loss:  0.550             | Val Loss:  0.656             | Train RMSE:  0.736             | Val RMSE:  0.801\n"
          ]
        },
        {
          "output_type": "stream",
          "name": "stderr",
          "text": [
            "100%|██████████| 29/29 [00:00<00:00, 36.78it/s]\n"
          ]
        },
        {
          "output_type": "stream",
          "name": "stdout",
          "text": [
            "Epochs: 66 | Train Loss:  0.531             | Val Loss:  0.520             | Train RMSE:  0.717             | Val RMSE:  0.711\n"
          ]
        },
        {
          "output_type": "stream",
          "name": "stderr",
          "text": [
            "100%|██████████| 29/29 [00:00<00:00, 37.05it/s]\n"
          ]
        },
        {
          "output_type": "stream",
          "name": "stdout",
          "text": [
            "Epochs: 67 | Train Loss:  0.575             | Val Loss:  0.510             | Train RMSE:  0.749             | Val RMSE:  0.703\n"
          ]
        },
        {
          "output_type": "stream",
          "name": "stderr",
          "text": [
            "100%|██████████| 29/29 [00:00<00:00, 36.83it/s]\n"
          ]
        },
        {
          "output_type": "stream",
          "name": "stdout",
          "text": [
            "Epochs: 68 | Train Loss:  0.543             | Val Loss:  0.609             | Train RMSE:  0.727             | Val RMSE:  0.765\n"
          ]
        },
        {
          "output_type": "stream",
          "name": "stderr",
          "text": [
            "100%|██████████| 29/29 [00:00<00:00, 36.57it/s]\n"
          ]
        },
        {
          "output_type": "stream",
          "name": "stdout",
          "text": [
            "Epochs: 69 | Train Loss:  0.567             | Val Loss:  0.603             | Train RMSE:  0.745             | Val RMSE:  0.759\n"
          ]
        },
        {
          "output_type": "stream",
          "name": "stderr",
          "text": [
            "100%|██████████| 29/29 [00:00<00:00, 36.44it/s]\n"
          ]
        },
        {
          "output_type": "stream",
          "name": "stdout",
          "text": [
            "Epochs: 70 | Train Loss:  0.556             | Val Loss:  0.518             | Train RMSE:  0.738             | Val RMSE:  0.716\n"
          ]
        },
        {
          "output_type": "stream",
          "name": "stderr",
          "text": [
            "100%|██████████| 29/29 [00:00<00:00, 36.00it/s]\n"
          ]
        },
        {
          "output_type": "stream",
          "name": "stdout",
          "text": [
            "Epochs: 71 | Train Loss:  0.546             | Val Loss:  0.550             | Train RMSE:  0.730             | Val RMSE:  0.730\n"
          ]
        },
        {
          "output_type": "stream",
          "name": "stderr",
          "text": [
            "100%|██████████| 29/29 [00:00<00:00, 35.60it/s]\n"
          ]
        },
        {
          "output_type": "stream",
          "name": "stdout",
          "text": [
            "Epochs: 72 | Train Loss:  0.548             | Val Loss:  0.510             | Train RMSE:  0.731             | Val RMSE:  0.707\n"
          ]
        },
        {
          "output_type": "stream",
          "name": "stderr",
          "text": [
            "100%|██████████| 29/29 [00:00<00:00, 35.82it/s]\n"
          ]
        },
        {
          "output_type": "stream",
          "name": "stdout",
          "text": [
            "Epochs: 73 | Train Loss:  0.563             | Val Loss:  0.456             | Train RMSE:  0.741             | Val RMSE:  0.658\n"
          ]
        },
        {
          "output_type": "stream",
          "name": "stderr",
          "text": [
            "100%|██████████| 29/29 [00:00<00:00, 35.86it/s]\n"
          ]
        },
        {
          "output_type": "stream",
          "name": "stdout",
          "text": [
            "Epochs: 74 | Train Loss:  0.560             | Val Loss:  0.591             | Train RMSE:  0.740             | Val RMSE:  0.763\n"
          ]
        },
        {
          "output_type": "stream",
          "name": "stderr",
          "text": [
            "100%|██████████| 29/29 [00:00<00:00, 35.99it/s]\n"
          ]
        },
        {
          "output_type": "stream",
          "name": "stdout",
          "text": [
            "Epochs: 75 | Train Loss:  0.534             | Val Loss:  0.521             | Train RMSE:  0.723             | Val RMSE:  0.716\n"
          ]
        },
        {
          "output_type": "stream",
          "name": "stderr",
          "text": [
            "100%|██████████| 29/29 [00:00<00:00, 35.99it/s]\n"
          ]
        },
        {
          "output_type": "stream",
          "name": "stdout",
          "text": [
            "Epochs: 76 | Train Loss:  0.517             | Val Loss:  0.403             | Train RMSE:  0.708             | Val RMSE:  0.631\n"
          ]
        },
        {
          "output_type": "stream",
          "name": "stderr",
          "text": [
            "100%|██████████| 29/29 [00:00<00:00, 36.16it/s]\n"
          ]
        },
        {
          "output_type": "stream",
          "name": "stdout",
          "text": [
            "Epochs: 77 | Train Loss:  0.521             | Val Loss:  0.635             | Train RMSE:  0.715             | Val RMSE:  0.794\n"
          ]
        },
        {
          "output_type": "stream",
          "name": "stderr",
          "text": [
            "100%|██████████| 29/29 [00:00<00:00, 35.88it/s]\n"
          ]
        },
        {
          "output_type": "stream",
          "name": "stdout",
          "text": [
            "Epochs: 78 | Train Loss:  0.542             | Val Loss:  0.590             | Train RMSE:  0.728             | Val RMSE:  0.767\n"
          ]
        },
        {
          "output_type": "stream",
          "name": "stderr",
          "text": [
            "100%|██████████| 29/29 [00:00<00:00, 35.87it/s]\n"
          ]
        },
        {
          "output_type": "stream",
          "name": "stdout",
          "text": [
            "Epochs: 79 | Train Loss:  0.498             | Val Loss:  0.624             | Train RMSE:  0.699             | Val RMSE:  0.782\n"
          ]
        },
        {
          "output_type": "stream",
          "name": "stderr",
          "text": [
            "100%|██████████| 29/29 [00:00<00:00, 35.97it/s]\n"
          ]
        },
        {
          "output_type": "stream",
          "name": "stdout",
          "text": [
            "Epochs: 80 | Train Loss:  0.563             | Val Loss:  0.607             | Train RMSE:  0.743             | Val RMSE:  0.771\n"
          ]
        },
        {
          "output_type": "stream",
          "name": "stderr",
          "text": [
            "100%|██████████| 29/29 [00:00<00:00, 36.21it/s]\n"
          ]
        },
        {
          "output_type": "stream",
          "name": "stdout",
          "text": [
            "Epochs: 81 | Train Loss:  0.557             | Val Loss:  0.539             | Train RMSE:  0.741             | Val RMSE:  0.723\n"
          ]
        },
        {
          "output_type": "stream",
          "name": "stderr",
          "text": [
            "100%|██████████| 29/29 [00:00<00:00, 36.84it/s]\n"
          ]
        },
        {
          "output_type": "stream",
          "name": "stdout",
          "text": [
            "Epochs: 82 | Train Loss:  0.524             | Val Loss:  0.643             | Train RMSE:  0.718             | Val RMSE:  0.800\n"
          ]
        },
        {
          "output_type": "stream",
          "name": "stderr",
          "text": [
            "100%|██████████| 29/29 [00:00<00:00, 36.73it/s]\n"
          ]
        },
        {
          "output_type": "stream",
          "name": "stdout",
          "text": [
            "Epochs: 83 | Train Loss:  0.506             | Val Loss:  0.679             | Train RMSE:  0.704             | Val RMSE:  0.823\n"
          ]
        },
        {
          "output_type": "stream",
          "name": "stderr",
          "text": [
            "100%|██████████| 29/29 [00:00<00:00, 36.97it/s]\n"
          ]
        },
        {
          "output_type": "stream",
          "name": "stdout",
          "text": [
            "Epochs: 84 | Train Loss:  0.537             | Val Loss:  0.408             | Train RMSE:  0.728             | Val RMSE:  0.632\n"
          ]
        },
        {
          "output_type": "stream",
          "name": "stderr",
          "text": [
            "100%|██████████| 29/29 [00:00<00:00, 36.79it/s]\n"
          ]
        },
        {
          "output_type": "stream",
          "name": "stdout",
          "text": [
            "Epochs: 85 | Train Loss:  0.574             | Val Loss:  0.538             | Train RMSE:  0.745             | Val RMSE:  0.724\n"
          ]
        },
        {
          "output_type": "stream",
          "name": "stderr",
          "text": [
            "100%|██████████| 29/29 [00:00<00:00, 36.94it/s]\n"
          ]
        },
        {
          "output_type": "stream",
          "name": "stdout",
          "text": [
            "Epochs: 86 | Train Loss:  0.515             | Val Loss:  0.471             | Train RMSE:  0.710             | Val RMSE:  0.668\n"
          ]
        },
        {
          "output_type": "stream",
          "name": "stderr",
          "text": [
            "100%|██████████| 29/29 [00:00<00:00, 36.68it/s]\n"
          ]
        },
        {
          "output_type": "stream",
          "name": "stdout",
          "text": [
            "Epochs: 87 | Train Loss:  0.574             | Val Loss:  0.486             | Train RMSE:  0.745             | Val RMSE:  0.695\n"
          ]
        },
        {
          "output_type": "stream",
          "name": "stderr",
          "text": [
            "100%|██████████| 29/29 [00:00<00:00, 36.59it/s]\n"
          ]
        },
        {
          "output_type": "stream",
          "name": "stdout",
          "text": [
            "Epochs: 88 | Train Loss:  0.501             | Val Loss:  0.479             | Train RMSE:  0.699             | Val RMSE:  0.685\n"
          ]
        },
        {
          "output_type": "stream",
          "name": "stderr",
          "text": [
            "100%|██████████| 29/29 [00:00<00:00, 36.66it/s]\n"
          ]
        },
        {
          "output_type": "stream",
          "name": "stdout",
          "text": [
            "Epochs: 89 | Train Loss:  0.517             | Val Loss:  0.590             | Train RMSE:  0.712             | Val RMSE:  0.750\n"
          ]
        },
        {
          "output_type": "stream",
          "name": "stderr",
          "text": [
            "100%|██████████| 29/29 [00:00<00:00, 36.86it/s]\n"
          ]
        },
        {
          "output_type": "stream",
          "name": "stdout",
          "text": [
            "Epochs: 90 | Train Loss:  0.559             | Val Loss:  0.539             | Train RMSE:  0.738             | Val RMSE:  0.721\n"
          ]
        },
        {
          "output_type": "stream",
          "name": "stderr",
          "text": [
            "100%|██████████| 29/29 [00:00<00:00, 36.90it/s]\n"
          ]
        },
        {
          "output_type": "stream",
          "name": "stdout",
          "text": [
            "Epochs: 91 | Train Loss:  0.546             | Val Loss:  0.494             | Train RMSE:  0.729             | Val RMSE:  0.689\n"
          ]
        },
        {
          "output_type": "stream",
          "name": "stderr",
          "text": [
            "100%|██████████| 29/29 [00:00<00:00, 36.87it/s]\n"
          ]
        },
        {
          "output_type": "stream",
          "name": "stdout",
          "text": [
            "Epochs: 92 | Train Loss:  0.476             | Val Loss:  0.485             | Train RMSE:  0.679             | Val RMSE:  0.680\n"
          ]
        },
        {
          "output_type": "stream",
          "name": "stderr",
          "text": [
            "100%|██████████| 29/29 [00:00<00:00, 36.80it/s]\n"
          ]
        },
        {
          "output_type": "stream",
          "name": "stdout",
          "text": [
            "Epochs: 93 | Train Loss:  0.497             | Val Loss:  0.603             | Train RMSE:  0.699             | Val RMSE:  0.775\n"
          ]
        },
        {
          "output_type": "stream",
          "name": "stderr",
          "text": [
            "100%|██████████| 29/29 [00:00<00:00, 36.90it/s]\n"
          ]
        },
        {
          "output_type": "stream",
          "name": "stdout",
          "text": [
            "Epochs: 94 | Train Loss:  0.503             | Val Loss:  0.527             | Train RMSE:  0.702             | Val RMSE:  0.719\n"
          ]
        },
        {
          "output_type": "stream",
          "name": "stderr",
          "text": [
            "100%|██████████| 29/29 [00:00<00:00, 36.75it/s]\n"
          ]
        },
        {
          "output_type": "stream",
          "name": "stdout",
          "text": [
            "Epochs: 95 | Train Loss:  0.520             | Val Loss:  0.546             | Train RMSE:  0.714             | Val RMSE:  0.738\n"
          ]
        },
        {
          "output_type": "stream",
          "name": "stderr",
          "text": [
            "100%|██████████| 29/29 [00:00<00:00, 36.93it/s]\n"
          ]
        },
        {
          "output_type": "stream",
          "name": "stdout",
          "text": [
            "Epochs: 96 | Train Loss:  0.469             | Val Loss:  0.393             | Train RMSE:  0.679             | Val RMSE:  0.621\n"
          ]
        },
        {
          "output_type": "stream",
          "name": "stderr",
          "text": [
            "100%|██████████| 29/29 [00:00<00:00, 36.65it/s]\n"
          ]
        },
        {
          "output_type": "stream",
          "name": "stdout",
          "text": [
            "Epochs: 97 | Train Loss:  0.504             | Val Loss:  0.538             | Train RMSE:  0.704             | Val RMSE:  0.726\n"
          ]
        },
        {
          "output_type": "stream",
          "name": "stderr",
          "text": [
            "100%|██████████| 29/29 [00:00<00:00, 36.60it/s]\n"
          ]
        },
        {
          "output_type": "stream",
          "name": "stdout",
          "text": [
            "Epochs: 98 | Train Loss:  0.495             | Val Loss:  0.567             | Train RMSE:  0.694             | Val RMSE:  0.741\n"
          ]
        },
        {
          "output_type": "stream",
          "name": "stderr",
          "text": [
            "100%|██████████| 29/29 [00:00<00:00, 36.69it/s]\n"
          ]
        },
        {
          "output_type": "stream",
          "name": "stdout",
          "text": [
            "Epochs: 99 | Train Loss:  0.510             | Val Loss:  0.464             | Train RMSE:  0.705             | Val RMSE:  0.674\n"
          ]
        },
        {
          "output_type": "stream",
          "name": "stderr",
          "text": [
            "100%|██████████| 29/29 [00:00<00:00, 36.92it/s]\n"
          ]
        },
        {
          "output_type": "stream",
          "name": "stdout",
          "text": [
            "Epochs: 100 | Train Loss:  0.553             | Val Loss:  0.533             | Train RMSE:  0.737             | Val RMSE:  0.723\n"
          ]
        },
        {
          "output_type": "stream",
          "name": "stderr",
          "text": [
            "100%|██████████| 29/29 [00:00<00:00, 37.19it/s]\n"
          ]
        },
        {
          "output_type": "stream",
          "name": "stdout",
          "text": [
            "Epochs: 101 | Train Loss:  0.540             | Val Loss:  0.422             | Train RMSE:  0.724             | Val RMSE:  0.635\n"
          ]
        },
        {
          "output_type": "stream",
          "name": "stderr",
          "text": [
            "100%|██████████| 29/29 [00:00<00:00, 36.96it/s]\n"
          ]
        },
        {
          "output_type": "stream",
          "name": "stdout",
          "text": [
            "Epochs: 102 | Train Loss:  0.490             | Val Loss:  0.490             | Train RMSE:  0.693             | Val RMSE:  0.696\n"
          ]
        },
        {
          "output_type": "stream",
          "name": "stderr",
          "text": [
            "100%|██████████| 29/29 [00:00<00:00, 36.76it/s]\n"
          ]
        },
        {
          "output_type": "stream",
          "name": "stdout",
          "text": [
            "Epochs: 103 | Train Loss:  0.477             | Val Loss:  0.545             | Train RMSE:  0.686             | Val RMSE:  0.737\n"
          ]
        },
        {
          "output_type": "stream",
          "name": "stderr",
          "text": [
            "100%|██████████| 29/29 [00:00<00:00, 36.54it/s]\n"
          ]
        },
        {
          "output_type": "stream",
          "name": "stdout",
          "text": [
            "Epochs: 104 | Train Loss:  0.490             | Val Loss:  0.458             | Train RMSE:  0.694             | Val RMSE:  0.675\n"
          ]
        },
        {
          "output_type": "stream",
          "name": "stderr",
          "text": [
            "100%|██████████| 29/29 [00:00<00:00, 36.50it/s]\n"
          ]
        },
        {
          "output_type": "stream",
          "name": "stdout",
          "text": [
            "Epochs: 105 | Train Loss:  0.479             | Val Loss:  0.534             | Train RMSE:  0.686             | Val RMSE:  0.724\n"
          ]
        },
        {
          "output_type": "stream",
          "name": "stderr",
          "text": [
            "100%|██████████| 29/29 [00:00<00:00, 36.78it/s]\n"
          ]
        },
        {
          "output_type": "stream",
          "name": "stdout",
          "text": [
            "Epochs: 106 | Train Loss:  0.505             | Val Loss:  0.503             | Train RMSE:  0.700             | Val RMSE:  0.695\n"
          ]
        },
        {
          "output_type": "stream",
          "name": "stderr",
          "text": [
            "100%|██████████| 29/29 [00:00<00:00, 36.16it/s]\n"
          ]
        },
        {
          "output_type": "stream",
          "name": "stdout",
          "text": [
            "Epochs: 107 | Train Loss:  0.495             | Val Loss:  0.413             | Train RMSE:  0.693             | Val RMSE:  0.629\n"
          ]
        },
        {
          "output_type": "stream",
          "name": "stderr",
          "text": [
            "100%|██████████| 29/29 [00:00<00:00, 36.88it/s]\n"
          ]
        },
        {
          "output_type": "stream",
          "name": "stdout",
          "text": [
            "Epochs: 108 | Train Loss:  0.484             | Val Loss:  0.439             | Train RMSE:  0.683             | Val RMSE:  0.660\n"
          ]
        },
        {
          "output_type": "stream",
          "name": "stderr",
          "text": [
            "100%|██████████| 29/29 [00:00<00:00, 37.02it/s]\n"
          ]
        },
        {
          "output_type": "stream",
          "name": "stdout",
          "text": [
            "Epochs: 109 | Train Loss:  0.511             | Val Loss:  0.507             | Train RMSE:  0.709             | Val RMSE:  0.704\n"
          ]
        },
        {
          "output_type": "stream",
          "name": "stderr",
          "text": [
            "100%|██████████| 29/29 [00:00<00:00, 37.00it/s]\n"
          ]
        },
        {
          "output_type": "stream",
          "name": "stdout",
          "text": [
            "Epochs: 110 | Train Loss:  0.498             | Val Loss:  0.644             | Train RMSE:  0.699             | Val RMSE:  0.791\n"
          ]
        },
        {
          "output_type": "stream",
          "name": "stderr",
          "text": [
            "100%|██████████| 29/29 [00:00<00:00, 36.99it/s]\n"
          ]
        },
        {
          "output_type": "stream",
          "name": "stdout",
          "text": [
            "Epochs: 111 | Train Loss:  0.517             | Val Loss:  0.604             | Train RMSE:  0.713             | Val RMSE:  0.769\n"
          ]
        },
        {
          "output_type": "stream",
          "name": "stderr",
          "text": [
            "100%|██████████| 29/29 [00:00<00:00, 36.86it/s]\n"
          ]
        },
        {
          "output_type": "stream",
          "name": "stdout",
          "text": [
            "Epochs: 112 | Train Loss:  0.473             | Val Loss:  0.526             | Train RMSE:  0.679             | Val RMSE:  0.714\n"
          ]
        },
        {
          "output_type": "stream",
          "name": "stderr",
          "text": [
            "100%|██████████| 29/29 [00:00<00:00, 36.95it/s]\n"
          ]
        },
        {
          "output_type": "stream",
          "name": "stdout",
          "text": [
            "Epochs: 113 | Train Loss:  0.522             | Val Loss:  0.503             | Train RMSE:  0.719             | Val RMSE:  0.698\n"
          ]
        },
        {
          "output_type": "stream",
          "name": "stderr",
          "text": [
            "100%|██████████| 29/29 [00:00<00:00, 37.02it/s]\n"
          ]
        },
        {
          "output_type": "stream",
          "name": "stdout",
          "text": [
            "Epochs: 114 | Train Loss:  0.472             | Val Loss:  0.470             | Train RMSE:  0.679             | Val RMSE:  0.680\n"
          ]
        },
        {
          "output_type": "stream",
          "name": "stderr",
          "text": [
            "100%|██████████| 29/29 [00:00<00:00, 37.11it/s]\n"
          ]
        },
        {
          "output_type": "stream",
          "name": "stdout",
          "text": [
            "Epochs: 115 | Train Loss:  0.478             | Val Loss:  0.440             | Train RMSE:  0.686             | Val RMSE:  0.662\n"
          ]
        },
        {
          "output_type": "stream",
          "name": "stderr",
          "text": [
            "100%|██████████| 29/29 [00:00<00:00, 36.90it/s]\n"
          ]
        },
        {
          "output_type": "stream",
          "name": "stdout",
          "text": [
            "Epochs: 116 | Train Loss:  0.490             | Val Loss:  0.446             | Train RMSE:  0.692             | Val RMSE:  0.650\n"
          ]
        },
        {
          "output_type": "stream",
          "name": "stderr",
          "text": [
            "100%|██████████| 29/29 [00:00<00:00, 36.79it/s]\n"
          ]
        },
        {
          "output_type": "stream",
          "name": "stdout",
          "text": [
            "Epochs: 117 | Train Loss:  0.457             | Val Loss:  0.508             | Train RMSE:  0.672             | Val RMSE:  0.692\n"
          ]
        },
        {
          "output_type": "stream",
          "name": "stderr",
          "text": [
            "100%|██████████| 29/29 [00:00<00:00, 36.96it/s]\n"
          ]
        },
        {
          "output_type": "stream",
          "name": "stdout",
          "text": [
            "Epochs: 118 | Train Loss:  0.466             | Val Loss:  0.560             | Train RMSE:  0.674             | Val RMSE:  0.740\n"
          ]
        },
        {
          "output_type": "stream",
          "name": "stderr",
          "text": [
            "100%|██████████| 29/29 [00:00<00:00, 37.10it/s]\n"
          ]
        },
        {
          "output_type": "stream",
          "name": "stdout",
          "text": [
            "Epochs: 119 | Train Loss:  0.472             | Val Loss:  0.462             | Train RMSE:  0.676             | Val RMSE:  0.676\n"
          ]
        },
        {
          "output_type": "stream",
          "name": "stderr",
          "text": [
            "100%|██████████| 29/29 [00:00<00:00, 37.17it/s]\n"
          ]
        },
        {
          "output_type": "stream",
          "name": "stdout",
          "text": [
            "Epochs: 120 | Train Loss:  0.519             | Val Loss:  0.559             | Train RMSE:  0.705             | Val RMSE:  0.730\n"
          ]
        },
        {
          "output_type": "stream",
          "name": "stderr",
          "text": [
            "100%|██████████| 29/29 [00:00<00:00, 37.19it/s]\n"
          ]
        },
        {
          "output_type": "stream",
          "name": "stdout",
          "text": [
            "Epochs: 121 | Train Loss:  0.543             | Val Loss:  0.525             | Train RMSE:  0.726             | Val RMSE:  0.718\n"
          ]
        },
        {
          "output_type": "stream",
          "name": "stderr",
          "text": [
            "100%|██████████| 29/29 [00:00<00:00, 37.25it/s]\n"
          ]
        },
        {
          "output_type": "stream",
          "name": "stdout",
          "text": [
            "Epochs: 122 | Train Loss:  0.478             | Val Loss:  0.491             | Train RMSE:  0.686             | Val RMSE:  0.692\n"
          ]
        },
        {
          "output_type": "stream",
          "name": "stderr",
          "text": [
            "100%|██████████| 29/29 [00:00<00:00, 37.32it/s]\n"
          ]
        },
        {
          "output_type": "stream",
          "name": "stdout",
          "text": [
            "Epochs: 123 | Train Loss:  0.550             | Val Loss:  0.541             | Train RMSE:  0.733             | Val RMSE:  0.723\n"
          ]
        },
        {
          "output_type": "stream",
          "name": "stderr",
          "text": [
            "100%|██████████| 29/29 [00:00<00:00, 37.00it/s]\n"
          ]
        },
        {
          "output_type": "stream",
          "name": "stdout",
          "text": [
            "Epochs: 124 | Train Loss:  0.465             | Val Loss:  0.565             | Train RMSE:  0.676             | Val RMSE:  0.750\n"
          ]
        },
        {
          "output_type": "stream",
          "name": "stderr",
          "text": [
            "100%|██████████| 29/29 [00:00<00:00, 36.89it/s]\n"
          ]
        },
        {
          "output_type": "stream",
          "name": "stdout",
          "text": [
            "Epochs: 125 | Train Loss:  0.482             | Val Loss:  0.517             | Train RMSE:  0.687             | Val RMSE:  0.708\n"
          ]
        },
        {
          "output_type": "stream",
          "name": "stderr",
          "text": [
            "100%|██████████| 29/29 [00:00<00:00, 36.92it/s]\n"
          ]
        },
        {
          "output_type": "stream",
          "name": "stdout",
          "text": [
            "Epochs: 126 | Train Loss:  0.511             | Val Loss:  0.602             | Train RMSE:  0.709             | Val RMSE:  0.774\n"
          ]
        },
        {
          "output_type": "stream",
          "name": "stderr",
          "text": [
            "100%|██████████| 29/29 [00:00<00:00, 36.95it/s]\n"
          ]
        },
        {
          "output_type": "stream",
          "name": "stdout",
          "text": [
            "Epochs: 127 | Train Loss:  0.491             | Val Loss:  0.391             | Train RMSE:  0.692             | Val RMSE:  0.619\n"
          ]
        },
        {
          "output_type": "stream",
          "name": "stderr",
          "text": [
            "100%|██████████| 29/29 [00:00<00:00, 37.03it/s]\n"
          ]
        },
        {
          "output_type": "stream",
          "name": "stdout",
          "text": [
            "Epochs: 128 | Train Loss:  0.456             | Val Loss:  0.497             | Train RMSE:  0.667             | Val RMSE:  0.703\n"
          ]
        },
        {
          "output_type": "stream",
          "name": "stderr",
          "text": [
            "100%|██████████| 29/29 [00:00<00:00, 36.74it/s]\n"
          ]
        },
        {
          "output_type": "stream",
          "name": "stdout",
          "text": [
            "Epochs: 129 | Train Loss:  0.463             | Val Loss:  0.468             | Train RMSE:  0.674             | Val RMSE:  0.675\n"
          ]
        },
        {
          "output_type": "stream",
          "name": "stderr",
          "text": [
            "100%|██████████| 29/29 [00:00<00:00, 36.83it/s]\n"
          ]
        },
        {
          "output_type": "stream",
          "name": "stdout",
          "text": [
            "Epochs: 130 | Train Loss:  0.456             | Val Loss:  0.438             | Train RMSE:  0.670             | Val RMSE:  0.638\n"
          ]
        },
        {
          "output_type": "stream",
          "name": "stderr",
          "text": [
            "100%|██████████| 29/29 [00:00<00:00, 36.77it/s]\n"
          ]
        },
        {
          "output_type": "stream",
          "name": "stdout",
          "text": [
            "Epochs: 131 | Train Loss:  0.460             | Val Loss:  0.455             | Train RMSE:  0.671             | Val RMSE:  0.669\n"
          ]
        },
        {
          "output_type": "stream",
          "name": "stderr",
          "text": [
            "100%|██████████| 29/29 [00:00<00:00, 36.99it/s]\n"
          ]
        },
        {
          "output_type": "stream",
          "name": "stdout",
          "text": [
            "Epochs: 132 | Train Loss:  0.489             | Val Loss:  0.490             | Train RMSE:  0.692             | Val RMSE:  0.684\n"
          ]
        },
        {
          "output_type": "stream",
          "name": "stderr",
          "text": [
            "100%|██████████| 29/29 [00:00<00:00, 36.87it/s]\n"
          ]
        },
        {
          "output_type": "stream",
          "name": "stdout",
          "text": [
            "Epochs: 133 | Train Loss:  0.483             | Val Loss:  0.563             | Train RMSE:  0.687             | Val RMSE:  0.747\n"
          ]
        },
        {
          "output_type": "stream",
          "name": "stderr",
          "text": [
            "100%|██████████| 29/29 [00:00<00:00, 36.91it/s]\n"
          ]
        },
        {
          "output_type": "stream",
          "name": "stdout",
          "text": [
            "Epochs: 134 | Train Loss:  0.428             | Val Loss:  0.457             | Train RMSE:  0.648             | Val RMSE:  0.672\n"
          ]
        },
        {
          "output_type": "stream",
          "name": "stderr",
          "text": [
            "100%|██████████| 29/29 [00:00<00:00, 36.91it/s]\n"
          ]
        },
        {
          "output_type": "stream",
          "name": "stdout",
          "text": [
            "Epochs: 135 | Train Loss:  0.474             | Val Loss:  0.439             | Train RMSE:  0.680             | Val RMSE:  0.658\n"
          ]
        },
        {
          "output_type": "stream",
          "name": "stderr",
          "text": [
            "100%|██████████| 29/29 [00:00<00:00, 36.93it/s]\n"
          ]
        },
        {
          "output_type": "stream",
          "name": "stdout",
          "text": [
            "Epochs: 136 | Train Loss:  0.480             | Val Loss:  0.512             | Train RMSE:  0.679             | Val RMSE:  0.712\n"
          ]
        },
        {
          "output_type": "stream",
          "name": "stderr",
          "text": [
            "100%|██████████| 29/29 [00:00<00:00, 37.05it/s]\n"
          ]
        },
        {
          "output_type": "stream",
          "name": "stdout",
          "text": [
            "Epochs: 137 | Train Loss:  0.476             | Val Loss:  0.471             | Train RMSE:  0.685             | Val RMSE:  0.684\n"
          ]
        },
        {
          "output_type": "stream",
          "name": "stderr",
          "text": [
            "100%|██████████| 29/29 [00:00<00:00, 37.03it/s]\n"
          ]
        },
        {
          "output_type": "stream",
          "name": "stdout",
          "text": [
            "Epochs: 138 | Train Loss:  0.473             | Val Loss:  0.472             | Train RMSE:  0.679             | Val RMSE:  0.678\n"
          ]
        },
        {
          "output_type": "stream",
          "name": "stderr",
          "text": [
            "100%|██████████| 29/29 [00:00<00:00, 36.83it/s]\n"
          ]
        },
        {
          "output_type": "stream",
          "name": "stdout",
          "text": [
            "Epochs: 139 | Train Loss:  0.467             | Val Loss:  0.449             | Train RMSE:  0.676             | Val RMSE:  0.657\n"
          ]
        },
        {
          "output_type": "stream",
          "name": "stderr",
          "text": [
            "100%|██████████| 29/29 [00:00<00:00, 36.85it/s]\n"
          ]
        },
        {
          "output_type": "stream",
          "name": "stdout",
          "text": [
            "Epochs: 140 | Train Loss:  0.427             | Val Loss:  0.566             | Train RMSE:  0.644             | Val RMSE:  0.747\n"
          ]
        },
        {
          "output_type": "stream",
          "name": "stderr",
          "text": [
            "100%|██████████| 29/29 [00:00<00:00, 36.86it/s]\n"
          ]
        },
        {
          "output_type": "stream",
          "name": "stdout",
          "text": [
            "Epochs: 141 | Train Loss:  0.479             | Val Loss:  0.346             | Train RMSE:  0.685             | Val RMSE:  0.582\n"
          ]
        },
        {
          "output_type": "stream",
          "name": "stderr",
          "text": [
            "100%|██████████| 29/29 [00:00<00:00, 37.09it/s]\n"
          ]
        },
        {
          "output_type": "stream",
          "name": "stdout",
          "text": [
            "Epochs: 142 | Train Loss:  0.475             | Val Loss:  0.512             | Train RMSE:  0.683             | Val RMSE:  0.708\n"
          ]
        },
        {
          "output_type": "stream",
          "name": "stderr",
          "text": [
            "100%|██████████| 29/29 [00:00<00:00, 37.02it/s]\n"
          ]
        },
        {
          "output_type": "stream",
          "name": "stdout",
          "text": [
            "Epochs: 143 | Train Loss:  0.454             | Val Loss:  0.464             | Train RMSE:  0.668             | Val RMSE:  0.677\n"
          ]
        },
        {
          "output_type": "stream",
          "name": "stderr",
          "text": [
            "100%|██████████| 29/29 [00:00<00:00, 36.63it/s]\n"
          ]
        },
        {
          "output_type": "stream",
          "name": "stdout",
          "text": [
            "Epochs: 144 | Train Loss:  0.489             | Val Loss:  0.415             | Train RMSE:  0.694             | Val RMSE:  0.642\n"
          ]
        },
        {
          "output_type": "stream",
          "name": "stderr",
          "text": [
            "100%|██████████| 29/29 [00:00<00:00, 36.90it/s]\n"
          ]
        },
        {
          "output_type": "stream",
          "name": "stdout",
          "text": [
            "Epochs: 145 | Train Loss:  0.462             | Val Loss:  0.541             | Train RMSE:  0.670             | Val RMSE:  0.734\n"
          ]
        },
        {
          "output_type": "stream",
          "name": "stderr",
          "text": [
            "100%|██████████| 29/29 [00:00<00:00, 37.02it/s]\n"
          ]
        },
        {
          "output_type": "stream",
          "name": "stdout",
          "text": [
            "Epochs: 146 | Train Loss:  0.450             | Val Loss:  0.441             | Train RMSE:  0.665             | Val RMSE:  0.642\n"
          ]
        },
        {
          "output_type": "stream",
          "name": "stderr",
          "text": [
            "100%|██████████| 29/29 [00:00<00:00, 36.94it/s]\n"
          ]
        },
        {
          "output_type": "stream",
          "name": "stdout",
          "text": [
            "Epochs: 147 | Train Loss:  0.444             | Val Loss:  0.434             | Train RMSE:  0.658             | Val RMSE:  0.657\n"
          ]
        },
        {
          "output_type": "stream",
          "name": "stderr",
          "text": [
            "100%|██████████| 29/29 [00:00<00:00, 36.91it/s]\n"
          ]
        },
        {
          "output_type": "stream",
          "name": "stdout",
          "text": [
            "Epochs: 148 | Train Loss:  0.447             | Val Loss:  0.514             | Train RMSE:  0.661             | Val RMSE:  0.716\n"
          ]
        },
        {
          "output_type": "stream",
          "name": "stderr",
          "text": [
            "100%|██████████| 29/29 [00:00<00:00, 36.89it/s]\n"
          ]
        },
        {
          "output_type": "stream",
          "name": "stdout",
          "text": [
            "Epochs: 149 | Train Loss:  0.456             | Val Loss:  0.499             | Train RMSE:  0.669             | Val RMSE:  0.704\n"
          ]
        },
        {
          "output_type": "stream",
          "name": "stderr",
          "text": [
            "100%|██████████| 29/29 [00:00<00:00, 37.08it/s]\n"
          ]
        },
        {
          "output_type": "stream",
          "name": "stdout",
          "text": [
            "Epochs: 150 | Train Loss:  0.458             | Val Loss:  0.434             | Train RMSE:  0.665             | Val RMSE:  0.656\n"
          ]
        },
        {
          "output_type": "stream",
          "name": "stderr",
          "text": [
            "100%|██████████| 29/29 [00:00<00:00, 36.97it/s]\n"
          ]
        },
        {
          "output_type": "stream",
          "name": "stdout",
          "text": [
            "Epochs: 151 | Train Loss:  0.479             | Val Loss:  0.386             | Train RMSE:  0.683             | Val RMSE:  0.617\n"
          ]
        },
        {
          "output_type": "stream",
          "name": "stderr",
          "text": [
            "100%|██████████| 29/29 [00:00<00:00, 37.00it/s]\n"
          ]
        },
        {
          "output_type": "stream",
          "name": "stdout",
          "text": [
            "Epochs: 152 | Train Loss:  0.437             | Val Loss:  0.478             | Train RMSE:  0.655             | Val RMSE:  0.689\n"
          ]
        },
        {
          "output_type": "stream",
          "name": "stderr",
          "text": [
            "100%|██████████| 29/29 [00:00<00:00, 37.01it/s]\n"
          ]
        },
        {
          "output_type": "stream",
          "name": "stdout",
          "text": [
            "Epochs: 153 | Train Loss:  0.467             | Val Loss:  0.461             | Train RMSE:  0.678             | Val RMSE:  0.675\n"
          ]
        },
        {
          "output_type": "stream",
          "name": "stderr",
          "text": [
            "100%|██████████| 29/29 [00:00<00:00, 37.00it/s]\n"
          ]
        },
        {
          "output_type": "stream",
          "name": "stdout",
          "text": [
            "Epochs: 154 | Train Loss:  0.438             | Val Loss:  0.460             | Train RMSE:  0.654             | Val RMSE:  0.672\n"
          ]
        },
        {
          "output_type": "stream",
          "name": "stderr",
          "text": [
            "100%|██████████| 29/29 [00:00<00:00, 37.01it/s]\n"
          ]
        },
        {
          "output_type": "stream",
          "name": "stdout",
          "text": [
            "Epochs: 155 | Train Loss:  0.452             | Val Loss:  0.517             | Train RMSE:  0.663             | Val RMSE:  0.715\n"
          ]
        },
        {
          "output_type": "stream",
          "name": "stderr",
          "text": [
            "100%|██████████| 29/29 [00:00<00:00, 37.06it/s]\n"
          ]
        },
        {
          "output_type": "stream",
          "name": "stdout",
          "text": [
            "Epochs: 156 | Train Loss:  0.436             | Val Loss:  0.536             | Train RMSE:  0.654             | Val RMSE:  0.730\n"
          ]
        },
        {
          "output_type": "stream",
          "name": "stderr",
          "text": [
            "100%|██████████| 29/29 [00:00<00:00, 36.94it/s]\n"
          ]
        },
        {
          "output_type": "stream",
          "name": "stdout",
          "text": [
            "Epochs: 157 | Train Loss:  0.435             | Val Loss:  0.485             | Train RMSE:  0.655             | Val RMSE:  0.684\n"
          ]
        },
        {
          "output_type": "stream",
          "name": "stderr",
          "text": [
            "100%|██████████| 29/29 [00:00<00:00, 37.02it/s]\n"
          ]
        },
        {
          "output_type": "stream",
          "name": "stdout",
          "text": [
            "Epochs: 158 | Train Loss:  0.433             | Val Loss:  0.495             | Train RMSE:  0.651             | Val RMSE:  0.701\n"
          ]
        },
        {
          "output_type": "stream",
          "name": "stderr",
          "text": [
            "100%|██████████| 29/29 [00:00<00:00, 36.92it/s]\n"
          ]
        },
        {
          "output_type": "stream",
          "name": "stdout",
          "text": [
            "Epochs: 159 | Train Loss:  0.481             | Val Loss:  0.522             | Train RMSE:  0.686             | Val RMSE:  0.719\n"
          ]
        },
        {
          "output_type": "stream",
          "name": "stderr",
          "text": [
            "100%|██████████| 29/29 [00:00<00:00, 36.90it/s]\n"
          ]
        },
        {
          "output_type": "stream",
          "name": "stdout",
          "text": [
            "Epochs: 160 | Train Loss:  0.440             | Val Loss:  0.417             | Train RMSE:  0.656             | Val RMSE:  0.642\n"
          ]
        },
        {
          "output_type": "stream",
          "name": "stderr",
          "text": [
            "100%|██████████| 29/29 [00:00<00:00, 36.98it/s]\n"
          ]
        },
        {
          "output_type": "stream",
          "name": "stdout",
          "text": [
            "Epochs: 161 | Train Loss:  0.407             | Val Loss:  0.426             | Train RMSE:  0.627             | Val RMSE:  0.629\n"
          ]
        },
        {
          "output_type": "stream",
          "name": "stderr",
          "text": [
            "100%|██████████| 29/29 [00:00<00:00, 36.85it/s]\n"
          ]
        },
        {
          "output_type": "stream",
          "name": "stdout",
          "text": [
            "Epochs: 162 | Train Loss:  0.417             | Val Loss:  0.549             | Train RMSE:  0.639             | Val RMSE:  0.739\n"
          ]
        },
        {
          "output_type": "stream",
          "name": "stderr",
          "text": [
            "100%|██████████| 29/29 [00:00<00:00, 36.97it/s]\n"
          ]
        },
        {
          "output_type": "stream",
          "name": "stdout",
          "text": [
            "Epochs: 163 | Train Loss:  0.493             | Val Loss:  0.393             | Train RMSE:  0.694             | Val RMSE:  0.626\n"
          ]
        },
        {
          "output_type": "stream",
          "name": "stderr",
          "text": [
            "100%|██████████| 29/29 [00:00<00:00, 36.97it/s]\n"
          ]
        },
        {
          "output_type": "stream",
          "name": "stdout",
          "text": [
            "Epochs: 164 | Train Loss:  0.517             | Val Loss:  0.432             | Train RMSE:  0.711             | Val RMSE:  0.653\n"
          ]
        },
        {
          "output_type": "stream",
          "name": "stderr",
          "text": [
            "100%|██████████| 29/29 [00:00<00:00, 36.79it/s]\n"
          ]
        },
        {
          "output_type": "stream",
          "name": "stdout",
          "text": [
            "Epochs: 165 | Train Loss:  0.441             | Val Loss:  0.490             | Train RMSE:  0.659             | Val RMSE:  0.700\n"
          ]
        },
        {
          "output_type": "stream",
          "name": "stderr",
          "text": [
            "100%|██████████| 29/29 [00:00<00:00, 36.91it/s]\n"
          ]
        },
        {
          "output_type": "stream",
          "name": "stdout",
          "text": [
            "Epochs: 166 | Train Loss:  0.476             | Val Loss:  0.551             | Train RMSE:  0.679             | Val RMSE:  0.741\n"
          ]
        },
        {
          "output_type": "stream",
          "name": "stderr",
          "text": [
            "100%|██████████| 29/29 [00:00<00:00, 36.80it/s]\n"
          ]
        },
        {
          "output_type": "stream",
          "name": "stdout",
          "text": [
            "Epochs: 167 | Train Loss:  0.461             | Val Loss:  0.506             | Train RMSE:  0.671             | Val RMSE:  0.698\n"
          ]
        },
        {
          "output_type": "stream",
          "name": "stderr",
          "text": [
            "100%|██████████| 29/29 [00:00<00:00, 36.90it/s]\n"
          ]
        },
        {
          "output_type": "stream",
          "name": "stdout",
          "text": [
            "Epochs: 168 | Train Loss:  0.442             | Val Loss:  0.467             | Train RMSE:  0.659             | Val RMSE:  0.674\n"
          ]
        },
        {
          "output_type": "stream",
          "name": "stderr",
          "text": [
            "100%|██████████| 29/29 [00:00<00:00, 36.85it/s]\n"
          ]
        },
        {
          "output_type": "stream",
          "name": "stdout",
          "text": [
            "Epochs: 169 | Train Loss:  0.448             | Val Loss:  0.563             | Train RMSE:  0.664             | Val RMSE:  0.750\n"
          ]
        },
        {
          "output_type": "stream",
          "name": "stderr",
          "text": [
            "100%|██████████| 29/29 [00:00<00:00, 36.91it/s]\n"
          ]
        },
        {
          "output_type": "stream",
          "name": "stdout",
          "text": [
            "Epochs: 170 | Train Loss:  0.417             | Val Loss:  0.491             | Train RMSE:  0.638             | Val RMSE:  0.692\n"
          ]
        },
        {
          "output_type": "stream",
          "name": "stderr",
          "text": [
            "100%|██████████| 29/29 [00:00<00:00, 36.97it/s]\n"
          ]
        },
        {
          "output_type": "stream",
          "name": "stdout",
          "text": [
            "Epochs: 171 | Train Loss:  0.448             | Val Loss:  0.407             | Train RMSE:  0.663             | Val RMSE:  0.636\n"
          ]
        },
        {
          "output_type": "stream",
          "name": "stderr",
          "text": [
            "100%|██████████| 29/29 [00:00<00:00, 36.80it/s]\n"
          ]
        },
        {
          "output_type": "stream",
          "name": "stdout",
          "text": [
            "Epochs: 172 | Train Loss:  0.438             | Val Loss:  0.491             | Train RMSE:  0.654             | Val RMSE:  0.700\n"
          ]
        },
        {
          "output_type": "stream",
          "name": "stderr",
          "text": [
            "100%|██████████| 29/29 [00:00<00:00, 36.82it/s]\n"
          ]
        },
        {
          "output_type": "stream",
          "name": "stdout",
          "text": [
            "Epochs: 173 | Train Loss:  0.425             | Val Loss:  0.527             | Train RMSE:  0.645             | Val RMSE:  0.723\n"
          ]
        },
        {
          "output_type": "stream",
          "name": "stderr",
          "text": [
            "100%|██████████| 29/29 [00:00<00:00, 36.86it/s]\n"
          ]
        },
        {
          "output_type": "stream",
          "name": "stdout",
          "text": [
            "Epochs: 174 | Train Loss:  0.440             | Val Loss:  0.592             | Train RMSE:  0.653             | Val RMSE:  0.755\n"
          ]
        },
        {
          "output_type": "stream",
          "name": "stderr",
          "text": [
            "100%|██████████| 29/29 [00:00<00:00, 36.99it/s]\n"
          ]
        },
        {
          "output_type": "stream",
          "name": "stdout",
          "text": [
            "Epochs: 175 | Train Loss:  0.441             | Val Loss:  0.508             | Train RMSE:  0.657             | Val RMSE:  0.709\n"
          ]
        },
        {
          "output_type": "stream",
          "name": "stderr",
          "text": [
            "100%|██████████| 29/29 [00:00<00:00, 36.79it/s]\n"
          ]
        },
        {
          "output_type": "stream",
          "name": "stdout",
          "text": [
            "Epochs: 176 | Train Loss:  0.467             | Val Loss:  0.441             | Train RMSE:  0.676             | Val RMSE:  0.659\n"
          ]
        },
        {
          "output_type": "stream",
          "name": "stderr",
          "text": [
            "100%|██████████| 29/29 [00:00<00:00, 36.95it/s]\n"
          ]
        },
        {
          "output_type": "stream",
          "name": "stdout",
          "text": [
            "Epochs: 177 | Train Loss:  0.454             | Val Loss:  0.469             | Train RMSE:  0.669             | Val RMSE:  0.680\n"
          ]
        },
        {
          "output_type": "stream",
          "name": "stderr",
          "text": [
            "100%|██████████| 29/29 [00:00<00:00, 36.94it/s]\n"
          ]
        },
        {
          "output_type": "stream",
          "name": "stdout",
          "text": [
            "Epochs: 178 | Train Loss:  0.464             | Val Loss:  0.435             | Train RMSE:  0.673             | Val RMSE:  0.658\n"
          ]
        },
        {
          "output_type": "stream",
          "name": "stderr",
          "text": [
            "100%|██████████| 29/29 [00:00<00:00, 36.68it/s]\n"
          ]
        },
        {
          "output_type": "stream",
          "name": "stdout",
          "text": [
            "Epochs: 179 | Train Loss:  0.459             | Val Loss:  0.472             | Train RMSE:  0.673             | Val RMSE:  0.673\n"
          ]
        },
        {
          "output_type": "stream",
          "name": "stderr",
          "text": [
            "100%|██████████| 29/29 [00:00<00:00, 36.77it/s]\n"
          ]
        },
        {
          "output_type": "stream",
          "name": "stdout",
          "text": [
            "Epochs: 180 | Train Loss:  0.437             | Val Loss:  0.464             | Train RMSE:  0.654             | Val RMSE:  0.679\n"
          ]
        },
        {
          "output_type": "stream",
          "name": "stderr",
          "text": [
            "100%|██████████| 29/29 [00:00<00:00, 36.67it/s]\n"
          ]
        },
        {
          "output_type": "stream",
          "name": "stdout",
          "text": [
            "Epochs: 181 | Train Loss:  0.449             | Val Loss:  0.579             | Train RMSE:  0.662             | Val RMSE:  0.746\n"
          ]
        },
        {
          "output_type": "stream",
          "name": "stderr",
          "text": [
            "100%|██████████| 29/29 [00:00<00:00, 36.77it/s]\n"
          ]
        },
        {
          "output_type": "stream",
          "name": "stdout",
          "text": [
            "Epochs: 182 | Train Loss:  0.444             | Val Loss:  0.508             | Train RMSE:  0.661             | Val RMSE:  0.701\n"
          ]
        },
        {
          "output_type": "stream",
          "name": "stderr",
          "text": [
            "100%|██████████| 29/29 [00:00<00:00, 36.76it/s]\n"
          ]
        },
        {
          "output_type": "stream",
          "name": "stdout",
          "text": [
            "Epochs: 183 | Train Loss:  0.446             | Val Loss:  0.542             | Train RMSE:  0.660             | Val RMSE:  0.726\n"
          ]
        },
        {
          "output_type": "stream",
          "name": "stderr",
          "text": [
            "100%|██████████| 29/29 [00:00<00:00, 36.90it/s]\n"
          ]
        },
        {
          "output_type": "stream",
          "name": "stdout",
          "text": [
            "Epochs: 184 | Train Loss:  0.421             | Val Loss:  0.492             | Train RMSE:  0.644             | Val RMSE:  0.694\n"
          ]
        },
        {
          "output_type": "stream",
          "name": "stderr",
          "text": [
            "100%|██████████| 29/29 [00:00<00:00, 36.91it/s]\n"
          ]
        },
        {
          "output_type": "stream",
          "name": "stdout",
          "text": [
            "Epochs: 185 | Train Loss:  0.446             | Val Loss:  0.447             | Train RMSE:  0.662             | Val RMSE:  0.658\n"
          ]
        },
        {
          "output_type": "stream",
          "name": "stderr",
          "text": [
            "100%|██████████| 29/29 [00:00<00:00, 36.92it/s]\n"
          ]
        },
        {
          "output_type": "stream",
          "name": "stdout",
          "text": [
            "Epochs: 186 | Train Loss:  0.427             | Val Loss:  0.473             | Train RMSE:  0.646             | Val RMSE:  0.679\n"
          ]
        },
        {
          "output_type": "stream",
          "name": "stderr",
          "text": [
            "100%|██████████| 29/29 [00:00<00:00, 36.82it/s]\n"
          ]
        },
        {
          "output_type": "stream",
          "name": "stdout",
          "text": [
            "Epochs: 187 | Train Loss:  0.425             | Val Loss:  0.538             | Train RMSE:  0.646             | Val RMSE:  0.724\n"
          ]
        },
        {
          "output_type": "stream",
          "name": "stderr",
          "text": [
            "100%|██████████| 29/29 [00:00<00:00, 36.87it/s]\n"
          ]
        },
        {
          "output_type": "stream",
          "name": "stdout",
          "text": [
            "Epochs: 188 | Train Loss:  0.414             | Val Loss:  0.451             | Train RMSE:  0.634             | Val RMSE:  0.663\n"
          ]
        },
        {
          "output_type": "stream",
          "name": "stderr",
          "text": [
            "100%|██████████| 29/29 [00:00<00:00, 36.48it/s]\n"
          ]
        },
        {
          "output_type": "stream",
          "name": "stdout",
          "text": [
            "Epochs: 189 | Train Loss:  0.430             | Val Loss:  0.405             | Train RMSE:  0.645             | Val RMSE:  0.631\n"
          ]
        },
        {
          "output_type": "stream",
          "name": "stderr",
          "text": [
            "100%|██████████| 29/29 [00:00<00:00, 36.69it/s]\n"
          ]
        },
        {
          "output_type": "stream",
          "name": "stdout",
          "text": [
            "Epochs: 190 | Train Loss:  0.434             | Val Loss:  0.525             | Train RMSE:  0.651             | Val RMSE:  0.716\n"
          ]
        },
        {
          "output_type": "stream",
          "name": "stderr",
          "text": [
            "100%|██████████| 29/29 [00:00<00:00, 36.44it/s]\n"
          ]
        },
        {
          "output_type": "stream",
          "name": "stdout",
          "text": [
            "Epochs: 191 | Train Loss:  0.394             | Val Loss:  0.464             | Train RMSE:  0.619             | Val RMSE:  0.672\n"
          ]
        },
        {
          "output_type": "stream",
          "name": "stderr",
          "text": [
            "100%|██████████| 29/29 [00:00<00:00, 36.46it/s]\n"
          ]
        },
        {
          "output_type": "stream",
          "name": "stdout",
          "text": [
            "Epochs: 192 | Train Loss:  0.442             | Val Loss:  0.423             | Train RMSE:  0.654             | Val RMSE:  0.636\n"
          ]
        },
        {
          "output_type": "stream",
          "name": "stderr",
          "text": [
            "100%|██████████| 29/29 [00:00<00:00, 36.61it/s]\n"
          ]
        },
        {
          "output_type": "stream",
          "name": "stdout",
          "text": [
            "Epochs: 193 | Train Loss:  0.450             | Val Loss:  0.529             | Train RMSE:  0.666             | Val RMSE:  0.708\n"
          ]
        },
        {
          "output_type": "stream",
          "name": "stderr",
          "text": [
            "100%|██████████| 29/29 [00:00<00:00, 36.90it/s]\n"
          ]
        },
        {
          "output_type": "stream",
          "name": "stdout",
          "text": [
            "Epochs: 194 | Train Loss:  0.405             | Val Loss:  0.355             | Train RMSE:  0.632             | Val RMSE:  0.582\n"
          ]
        },
        {
          "output_type": "stream",
          "name": "stderr",
          "text": [
            "100%|██████████| 29/29 [00:00<00:00, 36.79it/s]\n"
          ]
        },
        {
          "output_type": "stream",
          "name": "stdout",
          "text": [
            "Epochs: 195 | Train Loss:  0.444             | Val Loss:  0.531             | Train RMSE:  0.659             | Val RMSE:  0.728\n"
          ]
        },
        {
          "output_type": "stream",
          "name": "stderr",
          "text": [
            "100%|██████████| 29/29 [00:00<00:00, 36.74it/s]\n"
          ]
        },
        {
          "output_type": "stream",
          "name": "stdout",
          "text": [
            "Epochs: 196 | Train Loss:  0.435             | Val Loss:  0.418             | Train RMSE:  0.648             | Val RMSE:  0.639\n"
          ]
        },
        {
          "output_type": "stream",
          "name": "stderr",
          "text": [
            "100%|██████████| 29/29 [00:00<00:00, 36.76it/s]\n"
          ]
        },
        {
          "output_type": "stream",
          "name": "stdout",
          "text": [
            "Epochs: 197 | Train Loss:  0.412             | Val Loss:  0.419             | Train RMSE:  0.634             | Val RMSE:  0.636\n"
          ]
        },
        {
          "output_type": "stream",
          "name": "stderr",
          "text": [
            "100%|██████████| 29/29 [00:00<00:00, 36.85it/s]\n"
          ]
        },
        {
          "output_type": "stream",
          "name": "stdout",
          "text": [
            "Epochs: 198 | Train Loss:  0.429             | Val Loss:  0.551             | Train RMSE:  0.647             | Val RMSE:  0.732\n"
          ]
        },
        {
          "output_type": "stream",
          "name": "stderr",
          "text": [
            "100%|██████████| 29/29 [00:00<00:00, 36.98it/s]\n"
          ]
        },
        {
          "output_type": "stream",
          "name": "stdout",
          "text": [
            "Epochs: 199 | Train Loss:  0.425             | Val Loss:  0.457             | Train RMSE:  0.647             | Val RMSE:  0.675\n"
          ]
        },
        {
          "output_type": "stream",
          "name": "stderr",
          "text": [
            "100%|██████████| 29/29 [00:00<00:00, 36.92it/s]\n"
          ]
        },
        {
          "output_type": "stream",
          "name": "stdout",
          "text": [
            "Epochs: 200 | Train Loss:  0.405             | Val Loss:  0.505             | Train RMSE:  0.629             | Val RMSE:  0.705\n"
          ]
        },
        {
          "output_type": "stream",
          "name": "stderr",
          "text": [
            "100%|██████████| 29/29 [00:00<00:00, 37.00it/s]\n"
          ]
        },
        {
          "output_type": "stream",
          "name": "stdout",
          "text": [
            "Epochs: 201 | Train Loss:  0.428             | Val Loss:  0.541             | Train RMSE:  0.650             | Val RMSE:  0.732\n"
          ]
        },
        {
          "output_type": "stream",
          "name": "stderr",
          "text": [
            "100%|██████████| 29/29 [00:00<00:00, 36.98it/s]\n"
          ]
        },
        {
          "output_type": "stream",
          "name": "stdout",
          "text": [
            "Epochs: 202 | Train Loss:  0.396             | Val Loss:  0.524             | Train RMSE:  0.623             | Val RMSE:  0.719\n"
          ]
        },
        {
          "output_type": "stream",
          "name": "stderr",
          "text": [
            "100%|██████████| 29/29 [00:00<00:00, 37.10it/s]\n"
          ]
        },
        {
          "output_type": "stream",
          "name": "stdout",
          "text": [
            "Epochs: 203 | Train Loss:  0.432             | Val Loss:  0.483             | Train RMSE:  0.651             | Val RMSE:  0.691\n"
          ]
        },
        {
          "output_type": "stream",
          "name": "stderr",
          "text": [
            "100%|██████████| 29/29 [00:00<00:00, 36.94it/s]\n"
          ]
        },
        {
          "output_type": "stream",
          "name": "stdout",
          "text": [
            "Epochs: 204 | Train Loss:  0.456             | Val Loss:  0.507             | Train RMSE:  0.668             | Val RMSE:  0.699\n"
          ]
        },
        {
          "output_type": "stream",
          "name": "stderr",
          "text": [
            "100%|██████████| 29/29 [00:00<00:00, 37.08it/s]\n"
          ]
        },
        {
          "output_type": "stream",
          "name": "stdout",
          "text": [
            "Epochs: 205 | Train Loss:  0.412             | Val Loss:  0.423             | Train RMSE:  0.637             | Val RMSE:  0.648\n"
          ]
        },
        {
          "output_type": "stream",
          "name": "stderr",
          "text": [
            "100%|██████████| 29/29 [00:00<00:00, 37.04it/s]\n"
          ]
        },
        {
          "output_type": "stream",
          "name": "stdout",
          "text": [
            "Epochs: 206 | Train Loss:  0.418             | Val Loss:  0.403             | Train RMSE:  0.638             | Val RMSE:  0.633\n"
          ]
        },
        {
          "output_type": "stream",
          "name": "stderr",
          "text": [
            "100%|██████████| 29/29 [00:00<00:00, 37.06it/s]\n"
          ]
        },
        {
          "output_type": "stream",
          "name": "stdout",
          "text": [
            "Epochs: 207 | Train Loss:  0.421             | Val Loss:  0.430             | Train RMSE:  0.644             | Val RMSE:  0.654\n"
          ]
        },
        {
          "output_type": "stream",
          "name": "stderr",
          "text": [
            "100%|██████████| 29/29 [00:00<00:00, 36.97it/s]\n"
          ]
        },
        {
          "output_type": "stream",
          "name": "stdout",
          "text": [
            "Epochs: 208 | Train Loss:  0.431             | Val Loss:  0.484             | Train RMSE:  0.648             | Val RMSE:  0.689\n"
          ]
        },
        {
          "output_type": "stream",
          "name": "stderr",
          "text": [
            "100%|██████████| 29/29 [00:00<00:00, 36.89it/s]\n"
          ]
        },
        {
          "output_type": "stream",
          "name": "stdout",
          "text": [
            "Epochs: 209 | Train Loss:  0.423             | Val Loss:  0.385             | Train RMSE:  0.639             | Val RMSE:  0.616\n"
          ]
        },
        {
          "output_type": "stream",
          "name": "stderr",
          "text": [
            "100%|██████████| 29/29 [00:00<00:00, 36.97it/s]\n"
          ]
        },
        {
          "output_type": "stream",
          "name": "stdout",
          "text": [
            "Epochs: 210 | Train Loss:  0.402             | Val Loss:  0.414             | Train RMSE:  0.628             | Val RMSE:  0.643\n"
          ]
        },
        {
          "output_type": "stream",
          "name": "stderr",
          "text": [
            "100%|██████████| 29/29 [00:00<00:00, 36.81it/s]\n"
          ]
        },
        {
          "output_type": "stream",
          "name": "stdout",
          "text": [
            "Epochs: 211 | Train Loss:  0.457             | Val Loss:  0.503             | Train RMSE:  0.666             | Val RMSE:  0.701\n"
          ]
        },
        {
          "output_type": "stream",
          "name": "stderr",
          "text": [
            "100%|██████████| 29/29 [00:00<00:00, 36.80it/s]\n"
          ]
        },
        {
          "output_type": "stream",
          "name": "stdout",
          "text": [
            "Epochs: 212 | Train Loss:  0.419             | Val Loss:  0.448             | Train RMSE:  0.640             | Val RMSE:  0.660\n"
          ]
        },
        {
          "output_type": "stream",
          "name": "stderr",
          "text": [
            "100%|██████████| 29/29 [00:00<00:00, 36.88it/s]\n"
          ]
        },
        {
          "output_type": "stream",
          "name": "stdout",
          "text": [
            "Epochs: 213 | Train Loss:  0.399             | Val Loss:  0.467             | Train RMSE:  0.625             | Val RMSE:  0.680\n"
          ]
        },
        {
          "output_type": "stream",
          "name": "stderr",
          "text": [
            "100%|██████████| 29/29 [00:00<00:00, 36.76it/s]\n"
          ]
        },
        {
          "output_type": "stream",
          "name": "stdout",
          "text": [
            "Epochs: 214 | Train Loss:  0.396             | Val Loss:  0.373             | Train RMSE:  0.622             | Val RMSE:  0.610\n"
          ]
        },
        {
          "output_type": "stream",
          "name": "stderr",
          "text": [
            "100%|██████████| 29/29 [00:00<00:00, 36.94it/s]\n"
          ]
        },
        {
          "output_type": "stream",
          "name": "stdout",
          "text": [
            "Epochs: 215 | Train Loss:  0.424             | Val Loss:  0.431             | Train RMSE:  0.647             | Val RMSE:  0.634\n"
          ]
        },
        {
          "output_type": "stream",
          "name": "stderr",
          "text": [
            "100%|██████████| 29/29 [00:00<00:00, 36.78it/s]\n"
          ]
        },
        {
          "output_type": "stream",
          "name": "stdout",
          "text": [
            "Epochs: 216 | Train Loss:  0.374             | Val Loss:  0.439             | Train RMSE:  0.605             | Val RMSE:  0.653\n"
          ]
        },
        {
          "output_type": "stream",
          "name": "stderr",
          "text": [
            "100%|██████████| 29/29 [00:00<00:00, 36.82it/s]\n"
          ]
        },
        {
          "output_type": "stream",
          "name": "stdout",
          "text": [
            "Epochs: 217 | Train Loss:  0.383             | Val Loss:  0.433             | Train RMSE:  0.612             | Val RMSE:  0.644\n"
          ]
        },
        {
          "output_type": "stream",
          "name": "stderr",
          "text": [
            "100%|██████████| 29/29 [00:00<00:00, 36.92it/s]\n"
          ]
        },
        {
          "output_type": "stream",
          "name": "stdout",
          "text": [
            "Epochs: 218 | Train Loss:  0.408             | Val Loss:  0.376             | Train RMSE:  0.627             | Val RMSE:  0.612\n"
          ]
        },
        {
          "output_type": "stream",
          "name": "stderr",
          "text": [
            "100%|██████████| 29/29 [00:00<00:00, 36.75it/s]\n"
          ]
        },
        {
          "output_type": "stream",
          "name": "stdout",
          "text": [
            "Epochs: 219 | Train Loss:  0.399             | Val Loss:  0.427             | Train RMSE:  0.623             | Val RMSE:  0.651\n"
          ]
        },
        {
          "output_type": "stream",
          "name": "stderr",
          "text": [
            "100%|██████████| 29/29 [00:00<00:00, 36.83it/s]\n"
          ]
        },
        {
          "output_type": "stream",
          "name": "stdout",
          "text": [
            "Epochs: 220 | Train Loss:  0.417             | Val Loss:  0.575             | Train RMSE:  0.640             | Val RMSE:  0.755\n"
          ]
        },
        {
          "output_type": "stream",
          "name": "stderr",
          "text": [
            "100%|██████████| 29/29 [00:00<00:00, 36.84it/s]\n"
          ]
        },
        {
          "output_type": "stream",
          "name": "stdout",
          "text": [
            "Epochs: 221 | Train Loss:  0.429             | Val Loss:  0.356             | Train RMSE:  0.650             | Val RMSE:  0.584\n"
          ]
        },
        {
          "output_type": "stream",
          "name": "stderr",
          "text": [
            "100%|██████████| 29/29 [00:00<00:00, 36.71it/s]\n"
          ]
        },
        {
          "output_type": "stream",
          "name": "stdout",
          "text": [
            "Epochs: 222 | Train Loss:  0.412             | Val Loss:  0.411             | Train RMSE:  0.634             | Val RMSE:  0.632\n"
          ]
        },
        {
          "output_type": "stream",
          "name": "stderr",
          "text": [
            "100%|██████████| 29/29 [00:00<00:00, 36.63it/s]\n"
          ]
        },
        {
          "output_type": "stream",
          "name": "stdout",
          "text": [
            "Epochs: 223 | Train Loss:  0.414             | Val Loss:  0.416             | Train RMSE:  0.638             | Val RMSE:  0.639\n"
          ]
        },
        {
          "output_type": "stream",
          "name": "stderr",
          "text": [
            "100%|██████████| 29/29 [00:00<00:00, 36.62it/s]\n"
          ]
        },
        {
          "output_type": "stream",
          "name": "stdout",
          "text": [
            "Epochs: 224 | Train Loss:  0.421             | Val Loss:  0.474             | Train RMSE:  0.641             | Val RMSE:  0.684\n"
          ]
        },
        {
          "output_type": "stream",
          "name": "stderr",
          "text": [
            "100%|██████████| 29/29 [00:00<00:00, 36.57it/s]\n"
          ]
        },
        {
          "output_type": "stream",
          "name": "stdout",
          "text": [
            "Epochs: 225 | Train Loss:  0.417             | Val Loss:  0.435             | Train RMSE:  0.639             | Val RMSE:  0.644\n"
          ]
        },
        {
          "output_type": "stream",
          "name": "stderr",
          "text": [
            "100%|██████████| 29/29 [00:00<00:00, 36.85it/s]\n"
          ]
        },
        {
          "output_type": "stream",
          "name": "stdout",
          "text": [
            "Epochs: 226 | Train Loss:  0.389             | Val Loss:  0.391             | Train RMSE:  0.618             | Val RMSE:  0.624\n"
          ]
        },
        {
          "output_type": "stream",
          "name": "stderr",
          "text": [
            "100%|██████████| 29/29 [00:00<00:00, 36.89it/s]\n"
          ]
        },
        {
          "output_type": "stream",
          "name": "stdout",
          "text": [
            "Epochs: 227 | Train Loss:  0.395             | Val Loss:  0.340             | Train RMSE:  0.622             | Val RMSE:  0.578\n"
          ]
        },
        {
          "output_type": "stream",
          "name": "stderr",
          "text": [
            "100%|██████████| 29/29 [00:00<00:00, 37.12it/s]\n"
          ]
        },
        {
          "output_type": "stream",
          "name": "stdout",
          "text": [
            "Epochs: 228 | Train Loss:  0.395             | Val Loss:  0.533             | Train RMSE:  0.622             | Val RMSE:  0.726\n"
          ]
        },
        {
          "output_type": "stream",
          "name": "stderr",
          "text": [
            "100%|██████████| 29/29 [00:00<00:00, 36.96it/s]\n"
          ]
        },
        {
          "output_type": "stream",
          "name": "stdout",
          "text": [
            "Epochs: 229 | Train Loss:  0.404             | Val Loss:  0.398             | Train RMSE:  0.631             | Val RMSE:  0.628\n"
          ]
        },
        {
          "output_type": "stream",
          "name": "stderr",
          "text": [
            "100%|██████████| 29/29 [00:00<00:00, 37.04it/s]\n"
          ]
        },
        {
          "output_type": "stream",
          "name": "stdout",
          "text": [
            "Epochs: 230 | Train Loss:  0.435             | Val Loss:  0.370             | Train RMSE:  0.652             | Val RMSE:  0.583\n"
          ]
        },
        {
          "output_type": "stream",
          "name": "stderr",
          "text": [
            "100%|██████████| 29/29 [00:00<00:00, 36.92it/s]\n"
          ]
        },
        {
          "output_type": "stream",
          "name": "stdout",
          "text": [
            "Epochs: 231 | Train Loss:  0.406             | Val Loss:  0.398             | Train RMSE:  0.633             | Val RMSE:  0.628\n"
          ]
        },
        {
          "output_type": "stream",
          "name": "stderr",
          "text": [
            "100%|██████████| 29/29 [00:00<00:00, 36.80it/s]\n"
          ]
        },
        {
          "output_type": "stream",
          "name": "stdout",
          "text": [
            "Epochs: 232 | Train Loss:  0.418             | Val Loss:  0.362             | Train RMSE:  0.640             | Val RMSE:  0.582\n"
          ]
        },
        {
          "output_type": "stream",
          "name": "stderr",
          "text": [
            "100%|██████████| 29/29 [00:00<00:00, 36.82it/s]\n"
          ]
        },
        {
          "output_type": "stream",
          "name": "stdout",
          "text": [
            "Epochs: 233 | Train Loss:  0.424             | Val Loss:  0.452             | Train RMSE:  0.645             | Val RMSE:  0.660\n"
          ]
        },
        {
          "output_type": "stream",
          "name": "stderr",
          "text": [
            "100%|██████████| 29/29 [00:00<00:00, 36.66it/s]\n"
          ]
        },
        {
          "output_type": "stream",
          "name": "stdout",
          "text": [
            "Epochs: 234 | Train Loss:  0.419             | Val Loss:  0.413             | Train RMSE:  0.639             | Val RMSE:  0.640\n"
          ]
        },
        {
          "output_type": "stream",
          "name": "stderr",
          "text": [
            "100%|██████████| 29/29 [00:00<00:00, 36.86it/s]\n"
          ]
        },
        {
          "output_type": "stream",
          "name": "stdout",
          "text": [
            "Epochs: 235 | Train Loss:  0.408             | Val Loss:  0.360             | Train RMSE:  0.632             | Val RMSE:  0.592\n"
          ]
        },
        {
          "output_type": "stream",
          "name": "stderr",
          "text": [
            "100%|██████████| 29/29 [00:00<00:00, 36.79it/s]\n"
          ]
        },
        {
          "output_type": "stream",
          "name": "stdout",
          "text": [
            "Epochs: 236 | Train Loss:  0.412             | Val Loss:  0.475             | Train RMSE:  0.636             | Val RMSE:  0.677\n"
          ]
        },
        {
          "output_type": "stream",
          "name": "stderr",
          "text": [
            "100%|██████████| 29/29 [00:00<00:00, 36.65it/s]\n"
          ]
        },
        {
          "output_type": "stream",
          "name": "stdout",
          "text": [
            "Epochs: 237 | Train Loss:  0.401             | Val Loss:  0.453             | Train RMSE:  0.628             | Val RMSE:  0.672\n"
          ]
        },
        {
          "output_type": "stream",
          "name": "stderr",
          "text": [
            "100%|██████████| 29/29 [00:00<00:00, 36.68it/s]\n"
          ]
        },
        {
          "output_type": "stream",
          "name": "stdout",
          "text": [
            "Epochs: 238 | Train Loss:  0.404             | Val Loss:  0.488             | Train RMSE:  0.631             | Val RMSE:  0.689\n"
          ]
        },
        {
          "output_type": "stream",
          "name": "stderr",
          "text": [
            "100%|██████████| 29/29 [00:00<00:00, 36.91it/s]\n"
          ]
        },
        {
          "output_type": "stream",
          "name": "stdout",
          "text": [
            "Epochs: 239 | Train Loss:  0.405             | Val Loss:  0.366             | Train RMSE:  0.627             | Val RMSE:  0.600\n"
          ]
        },
        {
          "output_type": "stream",
          "name": "stderr",
          "text": [
            "100%|██████████| 29/29 [00:00<00:00, 36.75it/s]\n"
          ]
        },
        {
          "output_type": "stream",
          "name": "stdout",
          "text": [
            "Epochs: 240 | Train Loss:  0.404             | Val Loss:  0.438             | Train RMSE:  0.628             | Val RMSE:  0.661\n"
          ]
        },
        {
          "output_type": "stream",
          "name": "stderr",
          "text": [
            "100%|██████████| 29/29 [00:00<00:00, 36.77it/s]\n"
          ]
        },
        {
          "output_type": "stream",
          "name": "stdout",
          "text": [
            "Epochs: 241 | Train Loss:  0.419             | Val Loss:  0.410             | Train RMSE:  0.637             | Val RMSE:  0.640\n"
          ]
        },
        {
          "output_type": "stream",
          "name": "stderr",
          "text": [
            "100%|██████████| 29/29 [00:00<00:00, 36.78it/s]\n"
          ]
        },
        {
          "output_type": "stream",
          "name": "stdout",
          "text": [
            "Epochs: 242 | Train Loss:  0.420             | Val Loss:  0.327             | Train RMSE:  0.642             | Val RMSE:  0.566\n"
          ]
        },
        {
          "output_type": "stream",
          "name": "stderr",
          "text": [
            "100%|██████████| 29/29 [00:00<00:00, 36.59it/s]\n"
          ]
        },
        {
          "output_type": "stream",
          "name": "stdout",
          "text": [
            "Epochs: 243 | Train Loss:  0.404             | Val Loss:  0.381             | Train RMSE:  0.629             | Val RMSE:  0.614\n"
          ]
        },
        {
          "output_type": "stream",
          "name": "stderr",
          "text": [
            "100%|██████████| 29/29 [00:00<00:00, 36.69it/s]\n"
          ]
        },
        {
          "output_type": "stream",
          "name": "stdout",
          "text": [
            "Epochs: 244 | Train Loss:  0.427             | Val Loss:  0.381             | Train RMSE:  0.645             | Val RMSE:  0.612\n"
          ]
        },
        {
          "output_type": "stream",
          "name": "stderr",
          "text": [
            "100%|██████████| 29/29 [00:00<00:00, 36.83it/s]\n"
          ]
        },
        {
          "output_type": "stream",
          "name": "stdout",
          "text": [
            "Epochs: 245 | Train Loss:  0.394             | Val Loss:  0.336             | Train RMSE:  0.622             | Val RMSE:  0.571\n"
          ]
        },
        {
          "output_type": "stream",
          "name": "stderr",
          "text": [
            "100%|██████████| 29/29 [00:00<00:00, 36.78it/s]\n"
          ]
        },
        {
          "output_type": "stream",
          "name": "stdout",
          "text": [
            "Epochs: 246 | Train Loss:  0.403             | Val Loss:  0.386             | Train RMSE:  0.623             | Val RMSE:  0.617\n"
          ]
        },
        {
          "output_type": "stream",
          "name": "stderr",
          "text": [
            "100%|██████████| 29/29 [00:00<00:00, 36.81it/s]\n"
          ]
        },
        {
          "output_type": "stream",
          "name": "stdout",
          "text": [
            "Epochs: 247 | Train Loss:  0.370             | Val Loss:  0.399             | Train RMSE:  0.598             | Val RMSE:  0.631\n"
          ]
        },
        {
          "output_type": "stream",
          "name": "stderr",
          "text": [
            "100%|██████████| 29/29 [00:00<00:00, 36.79it/s]\n"
          ]
        },
        {
          "output_type": "stream",
          "name": "stdout",
          "text": [
            "Epochs: 248 | Train Loss:  0.447             | Val Loss:  0.408             | Train RMSE:  0.658             | Val RMSE:  0.634\n"
          ]
        },
        {
          "output_type": "stream",
          "name": "stderr",
          "text": [
            "100%|██████████| 29/29 [00:00<00:00, 36.77it/s]\n"
          ]
        },
        {
          "output_type": "stream",
          "name": "stdout",
          "text": [
            "Epochs: 249 | Train Loss:  0.378             | Val Loss:  0.439             | Train RMSE:  0.607             | Val RMSE:  0.654\n"
          ]
        },
        {
          "output_type": "stream",
          "name": "stderr",
          "text": [
            "100%|██████████| 29/29 [00:00<00:00, 36.97it/s]"
          ]
        },
        {
          "output_type": "stream",
          "name": "stdout",
          "text": [
            "Epochs: 250 | Train Loss:  0.413             | Val Loss:  0.383             | Train RMSE:  0.635             | Val RMSE:  0.603\n"
          ]
        },
        {
          "output_type": "stream",
          "name": "stderr",
          "text": [
            "\n"
          ]
        },
        {
          "output_type": "execute_result",
          "data": {
            "text/plain": [
              "HiGNN(\n",
              "  (lin_a): Linear(in_features=45, out_features=64, bias=True)\n",
              "  (lin_b): Linear(in_features=10, out_features=64, bias=True)\n",
              "  (atom_convs): ModuleList(\n",
              "    (0): NTNConv(64, 64, slices=2)\n",
              "    (1): NTNConv(64, 64, slices=2)\n",
              "    (2): NTNConv(64, 64, slices=2)\n",
              "  )\n",
              "  (lin_gate): Linear(in_features=192, out_features=64, bias=True)\n",
              "  (feature_att): FeatureAttention(\n",
              "    (mlp): Sequential(\n",
              "      (0): Linear(in_features=64, out_features=16, bias=True)\n",
              "      (1): ReLU(inplace=True)\n",
              "      (2): Linear(in_features=16, out_features=64, bias=False)\n",
              "    )\n",
              "  )\n",
              "  (cross_att): GATConv(64, 64, heads=4)\n",
              "  (out): ModuleList(\n",
              "    (0): Linear(in_features=128, out_features=1, bias=True)\n",
              "  )\n",
              ")"
            ]
          },
          "metadata": {},
          "execution_count": 48
        }
      ]
    },
    {
      "cell_type": "markdown",
      "source": [
        "# Section - 3: Code for pretraining a model."
      ],
      "metadata": {
        "id": "oaQ9KTDD4j2z"
      }
    },
    {
      "cell_type": "code",
      "source": [
        "# Prepapre the Data Loaders.\n",
        "train_loader, valid_loader, test_loader = get_loaders(root = './root/',\n",
        "                                                      fpath = \"./chem_datasets/deleney_assistant_ds_descriptors.csv\",\n",
        "                                                      dataset = \"deleney_assistant_ds_descriptors\",\n",
        "                                                      task_type = 'regression',\n",
        "                                                      tasks = ['MolWt', 'HeavyAtomMolWt', 'ExactMolWt', 'FpDensityMorgan1', 'Chi0v', 'Chi1v', 'LabuteASA', 'PEOE_VSA6', 'MolLogP', 'MolMR'],\n",
        "                                                      smiles_col = 'smiles'\n",
        "                                                  )"
      ],
      "metadata": {
        "colab": {
          "base_uri": "https://localhost:8080/"
        },
        "id": "Z6B-gqAREhQ7",
        "outputId": "70f63480-8a45-4dc4-928d-9208d300f232"
      },
      "execution_count": 21,
      "outputs": [
        {
          "output_type": "stream",
          "name": "stdout",
          "text": [
            "Total smiles = 89,051 | train smiles = 71,240 | val smiles = 8,905 | test smiles = 8,906\n"
          ]
        },
        {
          "output_type": "stream",
          "name": "stderr",
          "text": [
            "/home/ec2-user/virtenv/lib64/python3.7/site-packages/torch_geometric/data/in_memory_dataset.py:157: UserWarning: It is not recommended to directly access the internal storage format `data` of an 'InMemoryDataset'. If you are absolutely certain what you are doing, access the internal storage via `InMemoryDataset._data` instead to suppress this warning. Alternatively, you can access stacked individual attributes of every graph via `dataset.{attr_name}`.\n",
            "  warnings.warn(msg)\n",
            "/home/ec2-user/virtenv/lib64/python3.7/site-packages/torch_geometric/deprecation.py:22: UserWarning: 'data.DataLoader' is deprecated, use 'loader.DataLoader' instead\n",
            "  warnings.warn(out)\n"
          ]
        }
      ]
    },
    {
      "cell_type": "code",
      "source": [
        "# Build a Model - Make Sure that num_outputs is the number of outputs that we are trying to predict, in this case 10\n",
        "hi_gnn = build_model(num_outputs = 10)"
      ],
      "metadata": {
        "id": "TGJVBIs15LkX"
      },
      "execution_count": 22,
      "outputs": []
    },
    {
      "cell_type": "code",
      "source": [
        "# Get The device object\n",
        "device = torch.device('cuda' if torch.cuda.is_available() else 'cpu')"
      ],
      "metadata": {
        "id": "9JCFN8sY5rtb"
      },
      "execution_count": 23,
      "outputs": []
    },
    {
      "cell_type": "code",
      "source": [
        "# Train the model by passing in data loaders model object\n",
        "hi_gnn = train_regression(hi_gnn, train_loader, valid_loader, learning_rate = 1e-03, min_lr = 1e-04, epochs = 3, wd = 1e-03)"
      ],
      "metadata": {
        "colab": {
          "base_uri": "https://localhost:8080/"
        },
        "id": "3U_q3faA5xNo",
        "outputId": "ac314060-a6d1-436a-9657-9fbb3a384708"
      },
      "execution_count": 26,
      "outputs": [
        {
          "output_type": "stream",
          "name": "stderr",
          "text": [
            "100%|██████████| 2227/2227 [01:11<00:00, 31.09it/s]\n"
          ]
        },
        {
          "output_type": "stream",
          "name": "stdout",
          "text": [
            "Epochs: 1 | Train Loss:  1471.696             | Val Loss:  1486.437             | Train RMSE:  37.937             | Val RMSE:  38.152\n"
          ]
        },
        {
          "output_type": "stream",
          "name": "stderr",
          "text": [
            "100%|██████████| 2227/2227 [01:10<00:00, 31.42it/s]\n"
          ]
        },
        {
          "output_type": "stream",
          "name": "stdout",
          "text": [
            "Epochs: 2 | Train Loss:  1294.425             | Val Loss:  1277.298             | Train RMSE:  35.622             | Val RMSE:  35.341\n"
          ]
        },
        {
          "output_type": "stream",
          "name": "stderr",
          "text": [
            "100%|██████████| 2227/2227 [01:10<00:00, 31.69it/s]\n"
          ]
        },
        {
          "output_type": "stream",
          "name": "stdout",
          "text": [
            "Epochs: 3 | Train Loss:  1259.048             | Val Loss:  1276.295             | Train RMSE:  35.097             | Val RMSE:  35.398\n"
          ]
        }
      ]
    },
    {
      "cell_type": "code",
      "source": [
        "# Save the model\n",
        "hi_gnn.save_model(\"./models/hignn_test_sol_pretrained.pth\")"
      ],
      "metadata": {
        "id": "lvJT6IyTAGT4"
      },
      "execution_count": 27,
      "outputs": []
    },
    {
      "cell_type": "markdown",
      "source": [
        "**Code for prediction**"
      ],
      "metadata": {
        "id": "CkuZpDhWAsx2"
      }
    },
    {
      "cell_type": "code",
      "source": [
        "def predict(model, dl, device = device):\n",
        "\n",
        "  '''\n",
        "  This model takes in model and dataloader and gives out predicted values for all the samples in the dataloader.\n",
        "\n",
        "  Args:\n",
        "    model {nn.module}: Model Object (HiGNN)\n",
        "    dl {DataLoader}: DataLoader object.\n",
        "    device {torch.device}: cuda if GPU available else cpu\n",
        "  '''\n",
        "  out = torch.Tensor([])\n",
        "  model.eval()\n",
        "  with torch.no_grad():\n",
        "    for x in dl:\n",
        "      x = x.to(device)\n",
        "      outputs = model(x)\n",
        "      yhat = outputs.squeeze()\n",
        "      yhat = yhat.to(torch.device('cpu'))\n",
        "      out = torch.cat([out, yhat], dim = -1)\n",
        "  return out.numpy()"
      ],
      "metadata": {
        "id": "e5Lq44J6kF9E"
      },
      "execution_count": 14,
      "outputs": []
    },
    {
      "cell_type": "code",
      "source": [
        "# Visualization of Predicted values and real values.\n",
        "import matplotlib.pyplot as plt\n",
        "\n",
        "y = torch.Tensor([])\n",
        "for x in test_loader:\n",
        "  y = torch.cat([y, x.y.squeeze()], dim = 0)\n",
        "\n",
        "y = y.numpy()\n",
        "y_hat = predict(hi_gnn, test_loader)\n",
        "\n",
        "\n",
        "plt.figure(figsize=(10,6))\n",
        "\n",
        "# Plotting y\n",
        "plt.plot(y, label='True values')\n",
        "\n",
        "# Plotting yhat\n",
        "plt.plot(y_hat, label='Predicted values')\n",
        "\n",
        "plt.legend()\n",
        "plt.show()"
      ],
      "metadata": {
        "colab": {
          "base_uri": "https://localhost:8080/",
          "height": 522
        },
        "id": "YPebRT5zkoKu",
        "outputId": "0a633b7e-60f7-4675-8a7a-fba7541527cd"
      },
      "execution_count": 53,
      "outputs": [
        {
          "output_type": "display_data",
          "data": {
            "text/plain": [
              "<Figure size 1000x600 with 1 Axes>"
            ],
            "image/png": "[encoded data removed]"
          },
          "metadata": {}
        }
      ]
    },
    {
      "cell_type": "code",
      "source": [],
      "metadata": {
        "id": "u06mBUqblUBN"
      },
      "execution_count": null,
      "outputs": []
    },
    {
      "cell_type": "markdown",
      "source": [
        "# Section - 4: Arrakis GNN"
      ],
      "metadata": {
        "id": "dhMXiDUHABeZ"
      }
    },
    {
      "cell_type": "code",
      "source": [
        "def linear_layer(in_channels, out_channels):\n",
        "  return nn.Sequential(nn.Linear(in_channels, out_channels),\n",
        "                      nn.BatchNorm1d(out_channels),\n",
        "                      nn.LeakyReLU(1e-02))\n",
        "\n",
        "def attn_heads(in_channels, out_channels):\n",
        "  return nn.Sequential(nn.Linear(in_channels, out_channels), nn.Tanh())\n",
        "\n",
        "class ResLayer(nn.Module):\n",
        "  def __init__(self, in_c, out_c):\n",
        "    super().__init__()\n",
        "    self.l1 = linear_layer(in_c, out_c)\n",
        "    self.l2 = linear_layer(out_c, out_c)\n",
        "    self.l3 = linear_layer(out_c, out_c)\n",
        "\n",
        "  def forward(self, x):\n",
        "    x = self.l1(x)\n",
        "    return self.l3(self.l2(x)) + x\n",
        "\n",
        "class GATv2ConvEV2(MessagePassing):\n",
        "\n",
        "  def __init__(self, n_in, n_out, e_in, e_out):\n",
        "    super().__init__(aggr = 'add')\n",
        "    self.n_transform = ResLayer(n_in, n_out)\n",
        "    self.e_transform = ResLayer(e_in, e_out)\n",
        "\n",
        "    # Node\n",
        "    self.n_attn = attn_heads(2*n_out + e_out, 1)\n",
        "    self.e_attn = attn_heads(2*n_out + e_out, 1)\n",
        "    self.s_attn = attn_heads(2*n_out + e_out, 1)\n",
        "    self.n_message = ResLayer(e_out + 2*n_out , n_out)\n",
        "\n",
        "    # For Edge\n",
        "    self.n1_attn = ResLayer(e_out + 2*n_out, 1)\n",
        "    self.n2_attn = ResLayer(e_out + 2*n_out, 1)\n",
        "    self.s_e_attn = ResLayer(e_out + 2*n_out, 1)\n",
        "\n",
        "    # For Node Update\n",
        "    self.u_m_attn = attn_heads(2*n_out, 1)\n",
        "    self.u_s_attn = attn_heads(2*n_out, 1)\n",
        "    self.n_update = ResLayer(2*n_out, n_out)\n",
        "\n",
        "    self.e_update = ResLayer(e_out + 2*n_out, e_out)\n",
        "\n",
        "    self.n_in = n_in\n",
        "    self.n_out = n_out\n",
        "    self.e_in = e_in\n",
        "    self.e_out = e_out\n",
        "\n",
        "  def forward(self, x, edge_index, edge_attr):\n",
        "    # st()\n",
        "    x = self.n_transform(x)\n",
        "    edge_attr = self.e_transform(edge_attr)\n",
        "\n",
        "    node_features = self.propagate(edge_index, x = x, edge_attr = edge_attr)\n",
        "    edge_features = self.edge_updater(edge_index, x = x, edge_attr = edge_attr)\n",
        "\n",
        "    return node_features, edge_features\n",
        "\n",
        "  def edge_update(self, edge_index, x_i, x_j, edge_attr):\n",
        "    # 2. Edge Message Calculation\n",
        "\n",
        "    input = torch.cat([x_i, x_j, edge_attr], dim = 1)\n",
        "    n1_attn = self.n1_attn(input)\n",
        "    n2_attn = self.n2_attn(input)\n",
        "    self_attn = self.s_e_attn(input)\n",
        "\n",
        "    edge_message = torch.cat([n1_attn*x_i, n2_attn*x_j, self_attn*edge_attr], dim = 1)\n",
        "    return self.e_update(edge_message) + edge_attr\n",
        "\n",
        "  def message(self, x_i, x_j, edge_index, edge_attr):\n",
        "\n",
        "    input = torch.cat([x_i, x_j, edge_attr], dim = 1)\n",
        "    # 1. Node Message Calculation\n",
        "\n",
        "    neighbour_attn = self.n_attn(input)\n",
        "    edge_attn = self.e_attn(input)\n",
        "    self_attn = self.s_attn(input)\n",
        "\n",
        "    # 1.1 Attention Softmax\n",
        "    neighbour_attn = softmax(neighbour_attn, edge_index[0])\n",
        "    edge_attn = softmax(edge_attn, edge_index[0])\n",
        "    self_attn = softmax(self_attn, edge_index[0])\n",
        "\n",
        "    # 1.2 Gather the message\n",
        "    node_message = torch.cat([self_attn*x_i, neighbour_attn*x_j, edge_attn*edge_attr], dim = 1)\n",
        "\n",
        "    op = self.n_message(node_message)\n",
        "    return op\n",
        "\n",
        "  def update(self, aggregated_output, x):\n",
        "    '''\n",
        "    input = aggregated_output || x\n",
        "    message_attn = msg_attn(input)\n",
        "    self_attn = self_attn(input)\n",
        "\n",
        "    h` = update(message_attn*aggregated_output || self_attn*x)\n",
        "    return h`\n",
        "    '''\n",
        "\n",
        "    input = torch.cat([aggregated_output, x], dim = 1)\n",
        "    m_attn = self.u_m_attn(input)\n",
        "    s_attn = self.u_s_attn(input)\n",
        "\n",
        "    return self.n_update(torch.cat([m_attn*aggregated_output, s_attn*x], dim = 1))\n",
        "\n",
        "\n",
        "class GATV2(torch.nn.Module):\n",
        "    def __init__(self, hidden_channels = 64, num_node_features = 45, num_edge_features = 10, num_classes = 1, regression = True):\n",
        "        super(GATV2, self).__init__()\n",
        "        torch.manual_seed(12345)\n",
        "        self.conv1 = GATv2ConvEV2(num_node_features, hidden_channels, num_edge_features, hidden_channels)\n",
        "        self.conv2 = GATv2ConvEV2(hidden_channels, hidden_channels, hidden_channels, hidden_channels)\n",
        "        self.conv3 = GATv2ConvEV2(hidden_channels, hidden_channels, hidden_channels, hidden_channels)\n",
        "        self.conv4 = GATv2ConvEV2(hidden_channels, hidden_channels, hidden_channels, hidden_channels)\n",
        "\n",
        "\n",
        "\n",
        "        self.regression = regression\n",
        "        if regression:\n",
        "          self.lin = nn.Sequential(nn.Linear(hidden_channels, 1))\n",
        "        else:\n",
        "          self.lin = ResLayer(hidden_channels, num_classes)\n",
        "\n",
        "    def forward(self, data):\n",
        "        # 1. Obtain node embeddings\n",
        "        x, edge_index, edge_attr, batch = data.x, data.edge_index, data.edge_attr, data.batch\n",
        "        x, edge_attr = self.conv1(x, edge_index, edge_attr = edge_attr)\n",
        "        x, edge_attr = F.dropout(x, p = 0.4), F.dropout(edge_attr, p = 0.4)\n",
        "        x, edge_attr = self.conv2(x, edge_index, edge_attr = edge_attr)\n",
        "        x, edge_attr = F.dropout(x, p = 0.4), F.dropout(edge_attr, p = 0.4)\n",
        "        x, edge_attr = self.conv3(x, edge_index, edge_attr = edge_attr)\n",
        "        x, edge_attr = F.dropout(x, p = 0.4), F.dropout(edge_attr, p = 0.4)\n",
        "        x, edge_attr = self.conv4(x, edge_index, edge_attr = edge_attr)\n",
        "        x, edge_attr = F.dropout(x, p = 0.2), F.dropout(edge_attr, p = 0.2)\n",
        "\n",
        "        # 2. Readout layer\n",
        "        x = global_mean_pool(x, batch)  # [batch_size, hidden_channels]\n",
        "\n",
        "        # 3. Apply a final classifier\n",
        "        x = F.dropout(x, p=0.2, training=self.training)\n",
        "        if self.regression:\n",
        "          x = self.lin(x)\n",
        "        else:\n",
        "          x = F.sigmoid(self.lin(x))\n",
        "\n",
        "\n",
        "        return x\n",
        "\n"
      ],
      "metadata": {
        "id": "lGmjlAzQAGmN"
      },
      "execution_count": 15,
      "outputs": []
    },
    {
      "cell_type": "code",
      "source": [],
      "metadata": {
        "id": "nz5uheI9aXeE"
      },
      "execution_count": null,
      "outputs": []
    },
    {
      "cell_type": "code",
      "source": [
        "wandb.init('ArrakisGNN')"
      ],
      "metadata": {
        "colab": {
          "base_uri": "https://localhost:8080/",
          "height": 695,
          "referenced_widgets": [
            "bf9bf6d37a67480c8831da0e54048de0",
            "156e27e8e9e5424396200cfd1b18e794",
            "1d98a32030554d979ddb8b2ebb95e415",
            "a11e9ea15f5e4d4fb88ae8907530a0f7",
            "3dafba33f3d14caea42f4c833c866792",
            "bcd950f3c44f499898f92fe1ff8191da",
            "788ed4d8f6884e078beff90225270336",
            "337d07fdaacc4c8393c9ea6c3460bad6"
          ]
        },
        "id": "oiopuaKGyaHk",
        "outputId": "1b374caf-1fb8-40ea-9c3d-d6c220338680"
      },
      "execution_count": 15,
      "outputs": [
        {
          "output_type": "display_data",
          "data": {
            "text/plain": [
              "<IPython.core.display.HTML object>"
            ],
            "text/html": [
              "Finishing last run (ID:821kuvgt) before initializing another..."
            ]
          },
          "metadata": {}
        },
        {
          "output_type": "display_data",
          "data": {
            "text/plain": [
              "<IPython.core.display.HTML object>"
            ],
            "text/html": [
              "Waiting for W&B process to finish... <strong style=\"color:green\">(success).</strong>"
            ]
          },
          "metadata": {}
        },
        {
          "output_type": "display_data",
          "data": {
            "text/plain": [
              "<IPython.core.display.HTML object>"
            ],
            "text/html": [
              "<style>\n",
              "    table.wandb td:nth-child(1) { padding: 0 10px; text-align: left ; width: auto;} td:nth-child(2) {text-align: left ; width: 100%}\n",
              "    .wandb-row { display: flex; flex-direction: row; flex-wrap: wrap; justify-content: flex-start; width: 100% }\n",
              "    .wandb-col { display: flex; flex-direction: column; flex-basis: 100%; flex: 1; padding: 10px; }\n",
              "    </style>\n",
              "<div class=\"wandb-row\"><div class=\"wandb-col\"><h3>Run history:</h3><br/><table class=\"wandb\"><tr><td>Train Loss Running Mean</td><td>█▃▂▂▂▂▂▂▂▂▂▁▁▁▂▁▁▁▁▁▁▁▁▁▁▁▁▁▁▁▁▁▁▁▁▁▁▁▁▁</td></tr><tr><td>Train RMSE Running Mean</td><td>█▄▃▂▂▂▂▂▂▂▂▂▂▂▂▂▂▂▂▁▁▁▂▁▁▁▁▁▁▁▁▁▁▁▁▁▁▁▁▁</td></tr><tr><td>Validation Loss Running Mean</td><td>█▃▃▂▂▂▂▂▂▂▁▂▂▂▂▂▂▁▂▁▂▁▁▂▁▂▁▁▁▁▁▁▁▁▁▁▁▁▁▁</td></tr><tr><td>Validation RMSE Running Mean</td><td>█▃▃▂▂▂▃▂▂▂▂▂▂▂▂▂▂▂▂▁▂▂▁▂▁▂▂▁▂▂▁▂▁▁▁▂▁▁▁▁</td></tr></table><br/></div><div class=\"wandb-col\"><h3>Run summary:</h3><br/><table class=\"wandb\"><tr><td>Train Loss Running Mean</td><td>0.42819</td></tr><tr><td>Train RMSE Running Mean</td><td>0.64755</td></tr><tr><td>Validation Loss Running Mean</td><td>0.40583</td></tr><tr><td>Validation RMSE Running Mean</td><td>0.63276</td></tr></table><br/></div></div>"
            ]
          },
          "metadata": {}
        },
        {
          "output_type": "display_data",
          "data": {
            "text/plain": [
              "<IPython.core.display.HTML object>"
            ],
            "text/html": [
              " View run <strong style=\"color:#cdcd00\">easy-plasma-1</strong> at: <a href='https://wandb.ai/comp_chem/HiGNN%20Implementation%20-%202/runs/821kuvgt' target=\"_blank\">https://wandb.ai/comp_chem/HiGNN%20Implementation%20-%202/runs/821kuvgt</a><br/>Synced 5 W&B file(s), 0 media file(s), 0 artifact file(s) and 0 other file(s)"
            ]
          },
          "metadata": {}
        },
        {
          "output_type": "display_data",
          "data": {
            "text/plain": [
              "<IPython.core.display.HTML object>"
            ],
            "text/html": [
              "Find logs at: <code>./wandb/run-20230615_155502-821kuvgt/logs</code>"
            ]
          },
          "metadata": {}
        },
        {
          "output_type": "display_data",
          "data": {
            "text/plain": [
              "<IPython.core.display.HTML object>"
            ],
            "text/html": [
              "Successfully finished last run (ID:821kuvgt). Initializing new run:<br/>"
            ]
          },
          "metadata": {}
        },
        {
          "output_type": "display_data",
          "data": {
            "text/plain": [
              "VBox(children=(Label(value='Waiting for wandb.init()...\\r'), FloatProgress(value=0.01666839250000104, max=1.0)…"
            ],
            "application/vnd.jupyter.widget-view+json": {
              "version_major": 2,
              "version_minor": 0,
              "model_id": "bf9bf6d37a67480c8831da0e54048de0"
            }
          },
          "metadata": {}
        },
        {
          "output_type": "display_data",
          "data": {
            "text/plain": [
              "<IPython.core.display.HTML object>"
            ],
            "text/html": [
              "wandb version 0.15.4 is available!  To upgrade, please run:\n",
              " $ pip install wandb --upgrade"
            ]
          },
          "metadata": {}
        },
        {
          "output_type": "display_data",
          "data": {
            "text/plain": [
              "<IPython.core.display.HTML object>"
            ],
            "text/html": [
              "Tracking run with wandb version 0.14.0"
            ]
          },
          "metadata": {}
        },
        {
          "output_type": "display_data",
          "data": {
            "text/plain": [
              "<IPython.core.display.HTML object>"
            ],
            "text/html": [
              "Run data is saved locally in <code>/home/ec2-user/project/wandb/run-20230615_160050-s70fhn3s</code>"
            ]
          },
          "metadata": {}
        },
        {
          "output_type": "display_data",
          "data": {
            "text/plain": [
              "<IPython.core.display.HTML object>"
            ],
            "text/html": [
              "Syncing run <strong><a href='https://wandb.ai/comp_chem/uncategorized/runs/s70fhn3s' target=\"_blank\">divine-firebrand-1</a></strong> to <a href='https://wandb.ai/comp_chem/uncategorized' target=\"_blank\">Weights & Biases</a> (<a href='https://wandb.me/run' target=\"_blank\">docs</a>)<br/>"
            ]
          },
          "metadata": {}
        },
        {
          "output_type": "display_data",
          "data": {
            "text/plain": [
              "<IPython.core.display.HTML object>"
            ],
            "text/html": [
              " View project at <a href='https://wandb.ai/comp_chem/uncategorized' target=\"_blank\">https://wandb.ai/comp_chem/uncategorized</a>"
            ]
          },
          "metadata": {}
        },
        {
          "output_type": "display_data",
          "data": {
            "text/plain": [
              "<IPython.core.display.HTML object>"
            ],
            "text/html": [
              " View run at <a href='https://wandb.ai/comp_chem/uncategorized/runs/s70fhn3s' target=\"_blank\">https://wandb.ai/comp_chem/uncategorized/runs/s70fhn3s</a>"
            ]
          },
          "metadata": {}
        },
        {
          "output_type": "execute_result",
          "data": {
            "text/html": [
              "<button onClick=\"this.nextSibling.style.display='block';this.style.display='none';\">Display W&B run</button><iframe src='https://wandb.ai/comp_chem/uncategorized/runs/s70fhn3s?jupyter=true' style='border:none;width:100%;height:420px;display:none;'></iframe>"
            ],
            "text/plain": [
              "<wandb.sdk.wandb_run.Run at 0x7f34c211b2d0>"
            ]
          },
          "metadata": {},
          "execution_count": 15
        }
      ]
    },
    {
      "cell_type": "code",
      "source": [
        "model = GATV2()\n",
        "train_regression(model, train_loader, val_loader, learning_rate = 1e-03, epochs = 250, wd = 1e-03)"
      ],
      "metadata": {
        "id": "4LGyZnWaycf5"
      },
      "execution_count": null,
      "outputs": []
    },
    {
      "cell_type": "code",
      "source": [
        "model = GATV2()\n",
        "optimizer = torch.optim.Adam(model.parameters(), lr = 1e-03, weight_decay = 1e-03)\n",
        "lr_scheduler = torch.optim.lr_scheduler.ReduceLROnPlateau(\n",
        "            optimizer,\n",
        "            mode = 'min',\n",
        "            factor = 0.7,\n",
        "            patience = 10,\n",
        "            min_lr = 5e-05\n",
        ")\n",
        "\n",
        "criterion = torch.nn.MSELoss()\n",
        "device = torch.device('cuda')\n",
        "model.to(device)\n",
        "\n",
        "def train():\n",
        "    model.train()\n",
        "    train_losses = []\n",
        "    for data in train_loader:  # Iterate in batches over the training dataset.\n",
        "        data.to(device)\n",
        "        out = model(data)\n",
        "        # out = model(data.x, data.edge_index, data.batch)\n",
        "        loss = criterion(out.squeeze(), data.y)  # Compute the loss.\n",
        "        loss.backward()  # Derive gradients.\n",
        "        optimizer.step()  # Update parameters based on gradients.\n",
        "        optimizer.zero_grad()  # Clear gradients.\n",
        "        train_losses.append(loss.item())\n",
        "\n",
        "    model.eval()\n",
        "    val_losses = []\n",
        "    with torch.no_grad():\n",
        "        for data in val_loader:\n",
        "            data.to(device)\n",
        "            out = model(data)\n",
        "            loss = criterion(out.squeeze(), data.y)\n",
        "            val_losses.append(loss.item())\n",
        "        lr_scheduler.step(np.mean(val_losses))\n",
        "\n",
        "    print(f'Train RMSE: {np.mean(np.sqrt(train_losses))}, Valid Losses: {np.mean(np.sqrt(val_losses))}')\n",
        "\n",
        "\n",
        "for epoch in range(1, 300):\n",
        "    train()"
      ],
      "metadata": {
        "colab": {
          "base_uri": "https://localhost:8080/"
        },
        "id": "6ONdxLU-BINm",
        "outputId": "0aa16a59-8f28-4dff-8725-e842e692301c"
      },
      "execution_count": 24,
      "outputs": [
        {
          "output_type": "stream",
          "name": "stdout",
          "text": [
            "Train RMSE: 2.9842989082883293, Valid Losses: 2.0001142014262925\n",
            "Train RMSE: 2.0052198688360208, Valid Losses: 1.5607009951337156\n",
            "Train RMSE: 1.8054535464676715, Valid Losses: 1.5882145020316658\n",
            "Train RMSE: 1.6523577884707499, Valid Losses: 1.374557775719843\n",
            "Train RMSE: 1.491449343441479, Valid Losses: 1.2262336184969234\n",
            "Train RMSE: 1.4258951208972241, Valid Losses: 1.2955457708651807\n",
            "Train RMSE: 1.3840052125224263, Valid Losses: 1.1915894334570798\n",
            "Train RMSE: 1.294500570910789, Valid Losses: 1.117678510115483\n",
            "Train RMSE: 1.3465072802813542, Valid Losses: 1.063530416003561\n",
            "Train RMSE: 1.2431030223101454, Valid Losses: 1.05867431905123\n",
            "Train RMSE: 1.1683893622934538, Valid Losses: 1.0310755200833497\n",
            "Train RMSE: 1.230765673701987, Valid Losses: 1.0652530511989535\n",
            "Train RMSE: 1.1934999292610886, Valid Losses: 0.9520675769795193\n",
            "Train RMSE: 1.2311406807763772, Valid Losses: 1.1153399344622132\n",
            "Train RMSE: 1.1862570692436782, Valid Losses: 1.0834075012270958\n",
            "Train RMSE: 1.1589314785727323, Valid Losses: 0.950185044411944\n",
            "Train RMSE: 1.153901922921996, Valid Losses: 0.9929578174068352\n",
            "Train RMSE: 1.1573378798262721, Valid Losses: 1.1156773453168767\n",
            "Train RMSE: 1.134519330109669, Valid Losses: 1.0104794643744996\n",
            "Train RMSE: 1.1851915279575382, Valid Losses: 0.9495648638286247\n",
            "Train RMSE: 1.1343287242057418, Valid Losses: 0.9742292149395669\n",
            "Train RMSE: 1.0345227269249209, Valid Losses: 0.935771300715116\n",
            "Train RMSE: 1.0747387195498463, Valid Losses: 1.0395239635449642\n",
            "Train RMSE: 1.0540280290511985, Valid Losses: 0.9186374300006948\n",
            "Train RMSE: 1.045517895066571, Valid Losses: 0.8618763187945061\n",
            "Train RMSE: 1.0467949655442081, Valid Losses: 0.8785931937683557\n",
            "Train RMSE: 1.0409875036245693, Valid Losses: 0.9256169335808389\n",
            "Train RMSE: 0.9961447171748584, Valid Losses: 0.8597582481582808\n",
            "Train RMSE: 1.0684139659571275, Valid Losses: 0.9308412561617886\n",
            "Train RMSE: 1.0345255419331012, Valid Losses: 0.8637206596005468\n",
            "Train RMSE: 0.974677279248836, Valid Losses: 0.9576680770395892\n",
            "Train RMSE: 0.9974391396573487, Valid Losses: 0.8766157919567765\n",
            "Train RMSE: 1.0083668812209439, Valid Losses: 0.8622993915711358\n",
            "Train RMSE: 0.9300944779541422, Valid Losses: 0.9127286751216832\n",
            "Train RMSE: 0.9602669237030755, Valid Losses: 0.8851615540085132\n",
            "Train RMSE: 1.008040432434909, Valid Losses: 0.9859785053957251\n",
            "Train RMSE: 0.9864395099457604, Valid Losses: 0.886813262591189\n",
            "Train RMSE: 0.9922169605620319, Valid Losses: 1.0386634305427878\n",
            "Train RMSE: 0.9967949082376117, Valid Losses: 0.9027377338279777\n",
            "Train RMSE: 1.0473686060874212, Valid Losses: 0.8601232873841288\n",
            "Train RMSE: 0.9851083977174592, Valid Losses: 0.8272391348769492\n",
            "Train RMSE: 0.9591112007723506, Valid Losses: 0.9316319634014916\n",
            "Train RMSE: 0.965917638814999, Valid Losses: 0.8470520549593299\n",
            "Train RMSE: 0.9280379371792717, Valid Losses: 0.808290703346419\n",
            "Train RMSE: 0.9799160182696468, Valid Losses: 0.8645845370449106\n",
            "Train RMSE: 0.9385809264702283, Valid Losses: 0.8728554538566629\n",
            "Train RMSE: 0.9729705249000797, Valid Losses: 0.8751134455643772\n",
            "Train RMSE: 0.8868634057296144, Valid Losses: 0.8192855769641137\n",
            "Train RMSE: 0.9584742885021311, Valid Losses: 0.9081890541078703\n",
            "Train RMSE: 0.9046609516284424, Valid Losses: 0.7885022647598887\n",
            "Train RMSE: 0.8502734271375134, Valid Losses: 0.8615290691423154\n",
            "Train RMSE: 0.8790703072232281, Valid Losses: 0.879225393508803\n",
            "Train RMSE: 0.9318169078994142, Valid Losses: 0.8266451481848184\n",
            "Train RMSE: 0.9207445499832271, Valid Losses: 0.8284185838884452\n",
            "Train RMSE: 0.8666502722133128, Valid Losses: 0.8021479891773893\n",
            "Train RMSE: 0.8535736539868, Valid Losses: 0.8081744830233808\n",
            "Train RMSE: 0.8604596781836374, Valid Losses: 0.8263294206140306\n",
            "Train RMSE: 0.8446400805008917, Valid Losses: 0.817979766189033\n",
            "Train RMSE: 0.8684275874419748, Valid Losses: 0.8390511373233343\n",
            "Train RMSE: 0.892027702487956, Valid Losses: 0.8669749921592648\n",
            "Train RMSE: 0.8321720920121529, Valid Losses: 0.8448687849897821\n",
            "Train RMSE: 0.8472750385057045, Valid Losses: 0.7792379003740459\n",
            "Train RMSE: 0.8403209953651601, Valid Losses: 0.8195820689086767\n",
            "Train RMSE: 0.8197172423554817, Valid Losses: 0.7210659003888915\n",
            "Train RMSE: 0.8226999261084802, Valid Losses: 0.7898371232752528\n",
            "Train RMSE: 0.8178069561407934, Valid Losses: 0.7143712294027794\n",
            "Train RMSE: 0.8049634933342683, Valid Losses: 0.768765397927874\n",
            "Train RMSE: 0.8318525542409678, Valid Losses: 0.7694500956121525\n",
            "Train RMSE: 0.8338918070296262, Valid Losses: 0.8229473647410247\n",
            "Train RMSE: 0.8839832057993614, Valid Losses: 0.770978357964065\n",
            "Train RMSE: 0.7950946797422298, Valid Losses: 0.7314557574033099\n",
            "Train RMSE: 0.8352423998548095, Valid Losses: 0.8318654017359421\n",
            "Train RMSE: 0.7954286172180818, Valid Losses: 0.7203182275219859\n",
            "Train RMSE: 0.7737313289205032, Valid Losses: 0.7478554742133645\n",
            "Train RMSE: 0.7981343176864213, Valid Losses: 0.6974750403046206\n",
            "Train RMSE: 0.8162005407404117, Valid Losses: 0.7313895565897598\n",
            "Train RMSE: 0.8017149337041407, Valid Losses: 0.7520078698117975\n",
            "Train RMSE: 0.786329907458953, Valid Losses: 0.7798813100164532\n",
            "Train RMSE: 0.7979169857525293, Valid Losses: 0.7326738074197253\n",
            "Train RMSE: 0.8472957745467312, Valid Losses: 0.6927390084866313\n",
            "Train RMSE: 0.836534346003012, Valid Losses: 0.7992515285986728\n",
            "Train RMSE: 0.7846009404065952, Valid Losses: 0.68752282939118\n",
            "Train RMSE: 0.7936707266425524, Valid Losses: 0.7212921919332574\n",
            "Train RMSE: 0.7648981127479214, Valid Losses: 0.6718351612114676\n",
            "Train RMSE: 0.7444739680536631, Valid Losses: 0.7564253846894512\n",
            "Train RMSE: 0.7796209184431511, Valid Losses: 0.7724404100763833\n",
            "Train RMSE: 0.7919096903235632, Valid Losses: 0.7196584870840634\n",
            "Train RMSE: 0.771963388736095, Valid Losses: 0.7225422657882921\n",
            "Train RMSE: 0.7740358225404409, Valid Losses: 0.7412357911980483\n",
            "Train RMSE: 0.8103875727316928, Valid Losses: 0.7373957272772578\n",
            "Train RMSE: 0.7113388751925152, Valid Losses: 0.7120276054039045\n",
            "Train RMSE: 0.7424767994998909, Valid Losses: 0.7589720169356384\n",
            "Train RMSE: 0.7383221149914568, Valid Losses: 0.7782789344817469\n",
            "Train RMSE: 0.7799627061273295, Valid Losses: 0.7032763327503893\n",
            "Train RMSE: 0.7171281759162046, Valid Losses: 0.7358739581059062\n",
            "Train RMSE: 0.7890474174389602, Valid Losses: 0.6954914723102937\n",
            "Train RMSE: 0.7649548006041255, Valid Losses: 0.660956536113146\n",
            "Train RMSE: 0.7249253187452077, Valid Losses: 0.7545528721189315\n",
            "Train RMSE: 0.6952831240255046, Valid Losses: 0.7479267339613946\n",
            "Train RMSE: 0.7453065240908837, Valid Losses: 0.8310403534971095\n",
            "Train RMSE: 0.7242294628212523, Valid Losses: 0.7110193505102925\n",
            "Train RMSE: 0.7338217680753061, Valid Losses: 0.7291173125767852\n",
            "Train RMSE: 0.7337336577764455, Valid Losses: 0.6774289147620036\n",
            "Train RMSE: 0.7140189353047989, Valid Losses: 0.7227398536094853\n",
            "Train RMSE: 0.7161992279633123, Valid Losses: 0.6808989745268681\n",
            "Train RMSE: 0.7746767909748885, Valid Losses: 0.7138688683494676\n",
            "Train RMSE: 0.6991067256375632, Valid Losses: 0.6643864842354834\n",
            "Train RMSE: 0.7148741266753997, Valid Losses: 0.7166317087586451\n",
            "Train RMSE: 0.7104679529666252, Valid Losses: 0.6672904046112345\n",
            "Train RMSE: 0.7122625164717408, Valid Losses: 0.7783612295451869\n",
            "Train RMSE: 0.7321356827975333, Valid Losses: 0.6870188524279985\n",
            "Train RMSE: 0.736970245660449, Valid Losses: 0.749579691220553\n",
            "Train RMSE: 0.6916560830064512, Valid Losses: 0.6740277521351425\n",
            "Train RMSE: 0.678955010857099, Valid Losses: 0.7093221918049863\n",
            "Train RMSE: 0.7349212616986676, Valid Losses: 0.7584114128340066\n",
            "Train RMSE: 0.6918588313772929, Valid Losses: 0.6917415048552896\n",
            "Train RMSE: 0.6832718670827906, Valid Losses: 0.6586425216064528\n",
            "Train RMSE: 0.7238661202524462, Valid Losses: 0.6292185480226892\n",
            "Train RMSE: 0.7133751560739806, Valid Losses: 0.6842484203018139\n",
            "Train RMSE: 0.6432612099190699, Valid Losses: 0.7382752079209035\n",
            "Train RMSE: 0.7325137903418232, Valid Losses: 0.692023112170763\n",
            "Train RMSE: 0.7026284085901625, Valid Losses: 0.7197829236674771\n",
            "Train RMSE: 0.6570885551723259, Valid Losses: 0.6312227198962679\n",
            "Train RMSE: 0.687659105600313, Valid Losses: 0.6234946125866336\n",
            "Train RMSE: 0.6834254155464423, Valid Losses: 0.6527291941506433\n",
            "Train RMSE: 0.6183034582041562, Valid Losses: 0.6301208319253033\n",
            "Train RMSE: 0.6619267136072637, Valid Losses: 0.6384225063597434\n",
            "Train RMSE: 0.6929180885949392, Valid Losses: 0.6676221575618009\n",
            "Train RMSE: 0.6728448614875802, Valid Losses: 0.6880557957294379\n",
            "Train RMSE: 0.6705634818565143, Valid Losses: 0.6782917463879854\n",
            "Train RMSE: 0.6625806944541304, Valid Losses: 0.6409523799802904\n",
            "Train RMSE: 0.7087111717233863, Valid Losses: 0.6957823540630675\n",
            "Train RMSE: 0.630885580399937, Valid Losses: 0.6297696591988317\n",
            "Train RMSE: 0.6691743755028092, Valid Losses: 0.6558687454423285\n",
            "Train RMSE: 0.7287123065897043, Valid Losses: 0.7543790010672262\n",
            "Train RMSE: 0.6570656101001174, Valid Losses: 0.6352008504151876\n",
            "Train RMSE: 0.706101401880442, Valid Losses: 0.5914010769647858\n",
            "Train RMSE: 0.6549027632343385, Valid Losses: 0.6696643493435724\n",
            "Train RMSE: 0.6701141169865054, Valid Losses: 0.6516906596839372\n",
            "Train RMSE: 0.662612043798288, Valid Losses: 0.6699047577224595\n",
            "Train RMSE: 0.6540680003933229, Valid Losses: 0.6605419004548093\n",
            "Train RMSE: 0.6665251867730763, Valid Losses: 0.6547343622211198\n",
            "Train RMSE: 0.6418967485656994, Valid Losses: 0.6645876614166438\n",
            "Train RMSE: 0.6632340467767225, Valid Losses: 0.5919207096317344\n",
            "Train RMSE: 0.6369750966930386, Valid Losses: 0.674530403014543\n",
            "Train RMSE: 0.6527895443831713, Valid Losses: 0.6265498986050291\n",
            "Train RMSE: 0.6535467920205092, Valid Losses: 0.7331929568079301\n",
            "Train RMSE: 0.6655314204485901, Valid Losses: 0.5967941533065072\n",
            "Train RMSE: 0.6669541030461922, Valid Losses: 0.6183387769792235\n",
            "Train RMSE: 0.6297274894840426, Valid Losses: 0.622568668661987\n",
            "Train RMSE: 0.644576775641454, Valid Losses: 0.6143067873975934\n",
            "Train RMSE: 0.6424188893681706, Valid Losses: 0.6025272853451983\n",
            "Train RMSE: 0.6151597531219918, Valid Losses: 0.6049624592750611\n",
            "Train RMSE: 0.6426879680059439, Valid Losses: 0.6328852553849719\n",
            "Train RMSE: 0.6088108517319742, Valid Losses: 0.6818378904544451\n",
            "Train RMSE: 0.6303563498704533, Valid Losses: 0.654015846971876\n",
            "Train RMSE: 0.6314891214634474, Valid Losses: 0.5911616067235078\n",
            "Train RMSE: 0.5778885445089578, Valid Losses: 0.5859030356391451\n",
            "Train RMSE: 0.6049277746128715, Valid Losses: 0.6380929533469797\n",
            "Train RMSE: 0.6102907998121847, Valid Losses: 0.6300205576522125\n",
            "Train RMSE: 0.5945195132302854, Valid Losses: 0.6116006471739628\n",
            "Train RMSE: 0.5609440532684995, Valid Losses: 0.6482779389677005\n",
            "Train RMSE: 0.5882656244230104, Valid Losses: 0.6209324186691985\n",
            "Train RMSE: 0.6050055109711228, Valid Losses: 0.6696722968842634\n",
            "Train RMSE: 0.6368202270332688, Valid Losses: 0.6402728753819883\n",
            "Train RMSE: 0.5979278131156464, Valid Losses: 0.6971792684518847\n",
            "Train RMSE: 0.610846686421695, Valid Losses: 0.6864879565213418\n",
            "Train RMSE: 0.6243838731435882, Valid Losses: 0.6561640856089799\n",
            "Train RMSE: 0.5669764556634773, Valid Losses: 0.6068733592502998\n",
            "Train RMSE: 0.6071613174447069, Valid Losses: 0.6591909428437379\n",
            "Train RMSE: 0.6235521243076657, Valid Losses: 0.6737285862569324\n",
            "Train RMSE: 0.6105841554482767, Valid Losses: 0.6773810665878313\n",
            "Train RMSE: 0.5745055305174411, Valid Losses: 0.6310972058128547\n",
            "Train RMSE: 0.5833488430824831, Valid Losses: 0.6697909785233461\n",
            "Train RMSE: 0.5733676701672789, Valid Losses: 0.6297555489398067\n",
            "Train RMSE: 0.631020981434597, Valid Losses: 0.6343081063097686\n",
            "Train RMSE: 0.5988944941464311, Valid Losses: 0.6061171455371656\n",
            "Train RMSE: 0.5904058371585235, Valid Losses: 0.6815636551270791\n",
            "Train RMSE: 0.5696956762114453, Valid Losses: 0.6681397115033288\n",
            "Train RMSE: 0.594864566186597, Valid Losses: 0.6598302828419543\n",
            "Train RMSE: 0.5829589676629915, Valid Losses: 0.6020789524939021\n",
            "Train RMSE: 0.5857265207637706, Valid Losses: 0.64828858933396\n",
            "Train RMSE: 0.5729401681243282, Valid Losses: 0.6670547210953\n",
            "Train RMSE: 0.592107446570826, Valid Losses: 0.6300549995528203\n",
            "Train RMSE: 0.567003730112923, Valid Losses: 0.6270681851779063\n",
            "Train RMSE: 0.5937046166968302, Valid Losses: 0.625815520566889\n",
            "Train RMSE: 0.5779425935310792, Valid Losses: 0.6586089146057357\n",
            "Train RMSE: 0.6021932154639171, Valid Losses: 0.6376807381378096\n",
            "Train RMSE: 0.5857241190918205, Valid Losses: 0.6937046233031043\n",
            "Train RMSE: 0.564073047600897, Valid Losses: 0.6420507268984732\n",
            "Train RMSE: 0.5511222109200757, Valid Losses: 0.6201057715187794\n",
            "Train RMSE: 0.5550006919361995, Valid Losses: 0.6284877164614743\n",
            "Train RMSE: 0.5941259779498231, Valid Losses: 0.6235421074904515\n",
            "Train RMSE: 0.5698617451937243, Valid Losses: 0.6642935708775757\n",
            "Train RMSE: 0.5671734002971154, Valid Losses: 0.5991008053188907\n",
            "Train RMSE: 0.5540898344627517, Valid Losses: 0.5824995212230801\n",
            "Train RMSE: 0.556405088191878, Valid Losses: 0.6174621494933913\n",
            "Train RMSE: 0.5691583940024647, Valid Losses: 0.6475497729065278\n",
            "Train RMSE: 0.6138523406682697, Valid Losses: 0.6329619110589803\n",
            "Train RMSE: 0.5748601424668777, Valid Losses: 0.6301206396684127\n",
            "Train RMSE: 0.5460832093697224, Valid Losses: 0.6227898075294351\n",
            "Train RMSE: 0.5304419365682056, Valid Losses: 0.6241061708617495\n",
            "Train RMSE: 0.5587482402195835, Valid Losses: 0.6176544560076457\n",
            "Train RMSE: 0.5746446097966306, Valid Losses: 0.6201439735460398\n",
            "Train RMSE: 0.557778221590526, Valid Losses: 0.6081181642906044\n",
            "Train RMSE: 0.5549347009714394, Valid Losses: 0.6398776604753645\n",
            "Train RMSE: 0.548879180875096, Valid Losses: 0.615728297531439\n",
            "Train RMSE: 0.5671894725558727, Valid Losses: 0.6086327432523718\n",
            "Train RMSE: 0.547175324819657, Valid Losses: 0.6058994181895375\n",
            "Train RMSE: 0.5577223275333727, Valid Losses: 0.621796725869198\n",
            "Train RMSE: 0.578198569589407, Valid Losses: 0.6016226725871595\n",
            "Train RMSE: 0.5492086817961205, Valid Losses: 0.6302371058325368\n",
            "Train RMSE: 0.5777165091536852, Valid Losses: 0.6555624596396706\n",
            "Train RMSE: 0.5534254050614148, Valid Losses: 0.6289053464534282\n",
            "Train RMSE: 0.5475320031737718, Valid Losses: 0.644737287552829\n",
            "Train RMSE: 0.5716698921804497, Valid Losses: 0.6284481481001545\n",
            "Train RMSE: 0.5599459315304571, Valid Losses: 0.6489299950537448\n",
            "Train RMSE: 0.5563311505310198, Valid Losses: 0.6269056928470529\n",
            "Train RMSE: 0.5677132724303838, Valid Losses: 0.6178544119860251\n",
            "Train RMSE: 0.545067706207474, Valid Losses: 0.6301397960025371\n",
            "Train RMSE: 0.5572851425301739, Valid Losses: 0.6169155186855139\n",
            "Train RMSE: 0.5470250765093947, Valid Losses: 0.633765712019662\n",
            "Train RMSE: 0.558851505616332, Valid Losses: 0.6363724879044883\n",
            "Train RMSE: 0.5570673651425166, Valid Losses: 0.5979754377920776\n",
            "Train RMSE: 0.5106720477995015, Valid Losses: 0.5950632452301565\n",
            "Train RMSE: 0.5336721763496893, Valid Losses: 0.617556744133274\n",
            "Train RMSE: 0.5444361962310869, Valid Losses: 0.6126885272877964\n",
            "Train RMSE: 0.5604762961749211, Valid Losses: 0.6008911281511536\n",
            "Train RMSE: 0.5765250403134226, Valid Losses: 0.5959897595319565\n",
            "Train RMSE: 0.5830691743313811, Valid Losses: 0.5806508752358597\n",
            "Train RMSE: 0.5356830498422139, Valid Losses: 0.5921766517685777\n",
            "Train RMSE: 0.584687816138726, Valid Losses: 0.6362520405717965\n",
            "Train RMSE: 0.5546015108658567, Valid Losses: 0.5960331670634663\n",
            "Train RMSE: 0.5254768076161124, Valid Losses: 0.5911651901944485\n",
            "Train RMSE: 0.5251695869367548, Valid Losses: 0.6389524980557756\n",
            "Train RMSE: 0.5366523219973909, Valid Losses: 0.6309760821067028\n",
            "Train RMSE: 0.5391493217549176, Valid Losses: 0.5755876759760258\n",
            "Train RMSE: 0.5332263028120864, Valid Losses: 0.5700552987050237\n",
            "Train RMSE: 0.5184193013496416, Valid Losses: 0.585950962598308\n",
            "Train RMSE: 0.5610710968893587, Valid Losses: 0.6356010205977426\n",
            "Train RMSE: 0.5559174476013339, Valid Losses: 0.5971593534750466\n",
            "Train RMSE: 0.5206980364924894, Valid Losses: 0.6221055198370039\n",
            "Train RMSE: 0.5667217386874744, Valid Losses: 0.6175958650293581\n",
            "Train RMSE: 0.5221151017792631, Valid Losses: 0.6055979903755796\n",
            "Train RMSE: 0.4943350445629284, Valid Losses: 0.6343648903815338\n",
            "Train RMSE: 0.5378558143308902, Valid Losses: 0.5874660756520682\n",
            "Train RMSE: 0.5359129285018421, Valid Losses: 0.5909201960919235\n",
            "Train RMSE: 0.5399382002548518, Valid Losses: 0.6273144436445434\n",
            "Train RMSE: 0.5415713764824447, Valid Losses: 0.6118356958460258\n",
            "Train RMSE: 0.5178342934154709, Valid Losses: 0.6049681474089608\n",
            "Train RMSE: 0.5336077503356552, Valid Losses: 0.5986395717712991\n",
            "Train RMSE: 0.5030807626533214, Valid Losses: 0.5987695945461488\n",
            "Train RMSE: 0.530640967284999, Valid Losses: 0.6772915957068308\n",
            "Train RMSE: 0.5494225734033144, Valid Losses: 0.6341795266635997\n",
            "Train RMSE: 0.5183571913104671, Valid Losses: 0.5965582879941829\n",
            "Train RMSE: 0.5173949220323014, Valid Losses: 0.5953555073307113\n",
            "Train RMSE: 0.5566168129691157, Valid Losses: 0.5884268906205428\n",
            "Train RMSE: 0.5477072557162971, Valid Losses: 0.6370816040286272\n",
            "Train RMSE: 0.5208381369942778, Valid Losses: 0.5962062967432258\n",
            "Train RMSE: 0.5189110923510518, Valid Losses: 0.6342277194439174\n",
            "Train RMSE: 0.5324049555432636, Valid Losses: 0.625472683642022\n",
            "Train RMSE: 0.533386437088838, Valid Losses: 0.5964542087401474\n",
            "Train RMSE: 0.527028952499602, Valid Losses: 0.6736518617725235\n",
            "Train RMSE: 0.5200662026369237, Valid Losses: 0.6197313645525372\n",
            "Train RMSE: 0.5232245735886053, Valid Losses: 0.5859638066409683\n",
            "Train RMSE: 0.5481035660852072, Valid Losses: 0.6064390584581105\n",
            "Train RMSE: 0.5542853697695417, Valid Losses: 0.6120531132321017\n",
            "Train RMSE: 0.5331032253164952, Valid Losses: 0.5830042898984888\n",
            "Train RMSE: 0.5009081390503223, Valid Losses: 0.6138301834352531\n",
            "Train RMSE: 0.5306869790674256, Valid Losses: 0.6055002177210732\n",
            "Train RMSE: 0.5237946704602777, Valid Losses: 0.607676272394261\n",
            "Train RMSE: 0.5321644402327934, Valid Losses: 0.5757301984721492\n",
            "Train RMSE: 0.5173542078375832, Valid Losses: 0.6200997824991099\n",
            "Train RMSE: 0.4996121785580369, Valid Losses: 0.6065442560891287\n",
            "Train RMSE: 0.5138652783896693, Valid Losses: 0.6411610652929561\n",
            "Train RMSE: 0.5461588049075937, Valid Losses: 0.5991410987984991\n",
            "Train RMSE: 0.5323362990535692, Valid Losses: 0.6049529864198138\n",
            "Train RMSE: 0.5455800952504827, Valid Losses: 0.6141498069883728\n",
            "Train RMSE: 0.4884406509403843, Valid Losses: 0.5982265412528152\n",
            "Train RMSE: 0.5196731226551435, Valid Losses: 0.6117090786644308\n",
            "Train RMSE: 0.5609141698477648, Valid Losses: 0.632002222377207\n",
            "Train RMSE: 0.5226556457750473, Valid Losses: 0.6111657059237803\n",
            "Train RMSE: 0.53426376478108, Valid Losses: 0.6000601109036233\n",
            "Train RMSE: 0.5264537461526844, Valid Losses: 0.6399312237481897\n",
            "Train RMSE: 0.5409858042603751, Valid Losses: 0.6413444880008821\n",
            "Train RMSE: 0.5336182904747699, Valid Losses: 0.5951989550746957\n",
            "Train RMSE: 0.5347700756797202, Valid Losses: 0.5722779622901559\n",
            "Train RMSE: 0.5112553410330674, Valid Losses: 0.595884087784943\n",
            "Train RMSE: 0.515752434975434, Valid Losses: 0.6130374441677968\n",
            "Train RMSE: 0.5158666278752161, Valid Losses: 0.6293092714489481\n",
            "Train RMSE: 0.5416217465297352, Valid Losses: 0.5959143555429856\n",
            "Train RMSE: 0.5439595571241552, Valid Losses: 0.6125779856375627\n",
            "Train RMSE: 0.5004546927458915, Valid Losses: 0.6118282897322123\n",
            "Train RMSE: 0.5378484198329782, Valid Losses: 0.6045958186000476\n",
            "Train RMSE: 0.5206995593531718, Valid Losses: 0.6066318125161412\n",
            "Train RMSE: 0.5210601236757939, Valid Losses: 0.6204797874698859\n",
            "Train RMSE: 0.5341589432505638, Valid Losses: 0.6312717637160259\n",
            "Train RMSE: 0.5246815829651802, Valid Losses: 0.560520845374055\n",
            "Train RMSE: 0.5361186769081835, Valid Losses: 0.6532172097473137\n"
          ]
        }
      ]
    },
    {
      "cell_type": "code",
      "source": [
        "layer = nn.TransformerEncoderLayer(128, 4, 512, dropout = 0.2)"
      ],
      "metadata": {
        "id": "_ljSDuTRqXUc"
      },
      "execution_count": 55,
      "outputs": []
    },
    {
      "cell_type": "code",
      "source": [
        "x = torch.randn(32, 64, 128)"
      ],
      "metadata": {
        "id": "zj2M9hDBqoDS"
      },
      "execution_count": 59,
      "outputs": []
    },
    {
      "cell_type": "code",
      "source": [
        "yhat = layer(x)"
      ],
      "metadata": {
        "id": "iAdsSBowq42x"
      },
      "execution_count": 61,
      "outputs": []
    },
    {
      "cell_type": "code",
      "source": [
        "yhat.shape"
      ],
      "metadata": {
        "colab": {
          "base_uri": "https://localhost:8080/"
        },
        "id": "hjPAywWqq6m_",
        "outputId": "b0508b2e-24f3-4b84-ffd6-83a91683e71b"
      },
      "execution_count": 63,
      "outputs": [
        {
          "output_type": "execute_result",
          "data": {
            "text/plain": [
              "torch.Size([32, 64, 128])"
            ]
          },
          "metadata": {},
          "execution_count": 63
        }
      ]
    },
    {
      "cell_type": "code",
      "source": [
        "batch = next(iter(train_loader))"
      ],
      "metadata": {
        "id": "lnhup9BxswVs"
      },
      "execution_count": 16,
      "outputs": []
    },
    {
      "cell_type": "code",
      "source": [
        "batch"
      ],
      "metadata": {
        "colab": {
          "base_uri": "https://localhost:8080/"
        },
        "id": "KlsaXfxhassq",
        "outputId": "3d2be5f9-14d5-4951-ec30-6838053c5249"
      },
      "execution_count": 18,
      "outputs": [
        {
          "output_type": "execute_result",
          "data": {
            "text/plain": [
              "MolDataBatch(x=[465, 45], edge_index=[2, 978], edge_attr=[978, 10], cluster_index=[465], fra_edge_index=[2, 900], fra_edge_attr=[900, 10], y=[32], batch=[465], ptr=[33])"
            ]
          },
          "metadata": {},
          "execution_count": 18
        }
      ]
    },
    {
      "cell_type": "code",
      "source": [
        "layer = GATv2ConvEV2(batch.num_node_features, 128, batch.num_edge_features, 128)"
      ],
      "metadata": {
        "id": "eQ5uCOZnaus2"
      },
      "execution_count": 19,
      "outputs": []
    },
    {
      "cell_type": "code",
      "source": [
        "node_attr, edge_attr = layer(batch.x, batch.edge_index, batch.edge_attr)"
      ],
      "metadata": {
        "id": "SlYG2IV4bVUo"
      },
      "execution_count": 23,
      "outputs": []
    },
    {
      "cell_type": "code",
      "source": [
        "node_attr.shape"
      ],
      "metadata": {
        "colab": {
          "base_uri": "https://localhost:8080/"
        },
        "id": "fVWrhpSZbeo6",
        "outputId": "7e5a8017-bafa-4572-dec6-4a82c326ef27"
      },
      "execution_count": 27,
      "outputs": [
        {
          "output_type": "execute_result",
          "data": {
            "text/plain": [
              "torch.Size([465, 128])"
            ]
          },
          "metadata": {},
          "execution_count": 27
        }
      ]
    }
  ]
}