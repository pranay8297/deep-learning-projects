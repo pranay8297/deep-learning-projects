{
  "nbformat": 4,
  "nbformat_minor": 0,
  "metadata": {
    "colab": {
      "provenance": [],
      "collapsed_sections": [
        "oaQ9KTDD4j2z",
        "hqB5hZWb-U07",
        "dhMXiDUHABeZ"
      ],
      "authorship_tag": "ABX9TyNsdvESFh70PUk17hPCfYcB",
      "include_colab_link": true
    },
    "kernelspec": {
      "name": "python3",
      "display_name": "Python 3"
    },
    "language_info": {
      "name": "python"
    }
  },
  "cells": [
    {
      "cell_type": "markdown",
      "metadata": {
        "id": "view-in-github",
        "colab_type": "text"
      },
      "source": [
        "<a href=\"https://colab.research.google.com/github/pranay8297/deep-learning-projects/blob/master/HiGNN_Implementation.ipynb\" target=\"_parent\"><img src=\"https://colab.research.google.com/assets/colab-badge.svg\" alt=\"Open In Colab\"/></a>"
      ]
    },
    {
      "cell_type": "code",
      "execution_count": 1,
      "metadata": {
        "id": "lJgxemOMeN6p"
      },
      "outputs": [],
      "source": [
        "# Get all functions from\n",
        "import os\n",
        "import numpy as np\n",
        "import pandas as pd\n",
        "from tqdm import tqdm\n",
        "from random import Random\n",
        "from collections import defaultdict\n",
        "\n",
        "import torch\n",
        "from torch_geometric.data import Data, InMemoryDataset\n",
        "from torch_geometric.data import DataLoader\n",
        "\n",
        "from rdkit import Chem\n",
        "from rdkit.Chem.BRICS import FindBRICSBonds\n",
        "from rdkit.Chem.Scaffolds import MurckoScaffold\n",
        "from rdkit import RDLogger\n",
        "\n",
        "from torch import nn\n",
        "import torch.nn.functional as F\n",
        "from torch.nn import Linear, Sequential, Parameter, Bilinear\n",
        "\n",
        "from torch_scatter import scatter\n",
        "from torch_geometric.nn import global_add_pool, GATConv\n",
        "from torch_geometric.nn.conv import MessagePassing\n",
        "from torch_geometric.nn.inits import glorot, reset\n",
        "from torch_geometric.nn.pool.pool import pool_batch\n",
        "from torch_geometric.nn.pool.consecutive import consecutive_cluster\n",
        "import wandb\n",
        "\n",
        "\n",
        "import os\n",
        "import torch.nn.init as init\n",
        "from torch_geometric.utils import softmax\n",
        "from torch_geometric.nn import global_mean_pool\n",
        "\n",
        "from ipdb import set_trace as st"
      ]
    },
    {
      "cell_type": "markdown",
      "source": [
        "# Section - 1: All the Helper Functions"
      ],
      "metadata": {
        "id": "lLGMhKQsJoZx"
      }
    },
    {
      "cell_type": "code",
      "source": [
        "# This cell consists of all the helper functions and helper classes that are required to create a dataset.\n",
        "def onehot_encoding(x, allowable_set):\n",
        "    if x not in allowable_set:\n",
        "        raise Exception(\"input {0} not in allowable set{1}:\".format(\n",
        "            x, allowable_set))\n",
        "    return [x == s for s in allowable_set]\n",
        "\n",
        "\n",
        "def onehot_encoding_unk(x, allowable_set):\n",
        "    \"\"\"Maps inputs not in the allowable set to the last element.\"\"\"\n",
        "    if x not in allowable_set:\n",
        "        x = allowable_set[-1]\n",
        "    return [x == s for s in allowable_set]\n",
        "\n",
        "\n",
        "def atom_attr(mol, explicit_H=False, use_chirality=True, pharmaco=True, scaffold=True):\n",
        "    if pharmaco:\n",
        "        mol = tag_pharmacophore(mol)\n",
        "    if scaffold:\n",
        "        mol = tag_scaffold(mol)\n",
        "\n",
        "    feat = []\n",
        "    for i, atom in enumerate(mol.GetAtoms()):\n",
        "        results = onehot_encoding_unk(\n",
        "            atom.GetSymbol(),\n",
        "            ['B', 'C', 'N', 'O', 'F', 'Si', 'P', 'S', 'Cl', 'As', 'Se', 'Br', 'Te', 'I', 'At', 'other'\n",
        "             ]) + onehot_encoding_unk(atom.GetDegree(),\n",
        "                                      [0, 1, 2, 3, 4, 5, 'other']) + \\\n",
        "                  [atom.GetFormalCharge(), atom.GetNumRadicalElectrons()] + \\\n",
        "                  onehot_encoding_unk(atom.GetHybridization(), [\n",
        "                      Chem.rdchem.HybridizationType.SP, Chem.rdchem.HybridizationType.SP2,\n",
        "                      Chem.rdchem.HybridizationType.SP3, Chem.rdchem.HybridizationType.SP3D,\n",
        "                      Chem.rdchem.HybridizationType.SP3D2, 'other'\n",
        "                  ]) + [atom.GetIsAromatic()]\n",
        "        if not explicit_H:\n",
        "            results = results + onehot_encoding_unk(atom.GetTotalNumHs(),\n",
        "                                                    [0, 1, 2, 3, 4])\n",
        "        if use_chirality:\n",
        "            try:\n",
        "                results = results + onehot_encoding_unk(\n",
        "                    atom.GetProp('_CIPCode'),\n",
        "                    ['R', 'S']) + [atom.HasProp('_ChiralityPossible')]\n",
        "            # print(one_of_k_encoding_unk(atom.GetProp('_CIPCode'), ['R', 'S']) + [atom.HasProp('_ChiralityPossible')])\n",
        "            except:\n",
        "                results = results + [0, 0] + [atom.HasProp('_ChiralityPossible')]\n",
        "        if pharmaco:\n",
        "            results = results + [int(atom.GetProp('Hbond_donor'))] + [int(atom.GetProp('Hbond_acceptor'))] + \\\n",
        "                      [int(atom.GetProp('Basic'))] + [int(atom.GetProp('Acid'))] + \\\n",
        "                      [int(atom.GetProp('Halogen'))]\n",
        "        if scaffold:\n",
        "            results = results + [int(atom.GetProp('Scaffold'))]\n",
        "        feat.append(results)\n",
        "\n",
        "    return np.array(feat)\n",
        "\n",
        "\n",
        "def bond_attr(mol, use_chirality=True):\n",
        "    feat = []\n",
        "    index = []\n",
        "    n = mol.GetNumAtoms()\n",
        "    for i in range(n):\n",
        "        for j in range(n):\n",
        "            if i != j:\n",
        "                bond = mol.GetBondBetweenAtoms(i, j)\n",
        "                if bond is not None:\n",
        "                    bt = bond.GetBondType()\n",
        "                    bond_feats = [\n",
        "                        bt == Chem.rdchem.BondType.SINGLE, bt == Chem.rdchem.BondType.DOUBLE,\n",
        "                        bt == Chem.rdchem.BondType.TRIPLE, bt == Chem.rdchem.BondType.AROMATIC,\n",
        "                        bond.GetIsConjugated(),\n",
        "                        bond.IsInRing()\n",
        "                    ]\n",
        "                    if use_chirality:\n",
        "                        bond_feats = bond_feats + onehot_encoding_unk(\n",
        "                            str(bond.GetStereo()),\n",
        "                            [\"STEREONONE\", \"STEREOANY\", \"STEREOZ\", \"STEREOE\"])\n",
        "                    feat.append(bond_feats)\n",
        "                    index.append([i, j])\n",
        "\n",
        "    return np.array(index), np.array(feat)\n",
        "\n",
        "\n",
        "def bond_break(mol):\n",
        "    results = np.array(sorted(list(FindBRICSBonds(mol))), dtype=np.long)\n",
        "\n",
        "    if results.size == 0:\n",
        "        cluster_idx = []\n",
        "        Chem.rdmolops.GetMolFrags(mol, asMols=True, frags=cluster_idx)\n",
        "        fra_edge_index, fra_edge_attr = bond_attr(mol)\n",
        "\n",
        "    else:\n",
        "        bond_to_break = results[:, 0, :]\n",
        "        bond_to_break = bond_to_break.tolist()\n",
        "        with Chem.RWMol(mol) as rwmol:\n",
        "            for i in bond_to_break:\n",
        "                rwmol.RemoveBond(*i)\n",
        "        rwmol = rwmol.GetMol()\n",
        "        cluster_idx = []\n",
        "        Chem.rdmolops.GetMolFrags(rwmol, asMols=True, sanitizeFrags=False, frags=cluster_idx)\n",
        "        fra_edge_index, fra_edge_attr = bond_attr(rwmol)\n",
        "        cluster_idx = torch.LongTensor(cluster_idx)\n",
        "\n",
        "    return fra_edge_index, fra_edge_attr, cluster_idx\n",
        "\n",
        "\n",
        "# ---------------------------------------------\n",
        "# Scaffold and pharmacophore information utils\n",
        "# ---------------------------------------------\n",
        "# tag pharmoco features to each atom\n",
        "fun_smarts = {\n",
        "        'Hbond_donor': '[$([N;!H0;v3,v4&+1]),$([O,S;H1;+0]),n&H1&+0]',\n",
        "        'Hbond_acceptor': '[$([O,S;H1;v2;!$(*-*=[O,N,P,S])]),$([O,S;H0;v2]),$([O,S;-]),$([N;v3;!$(N-*=[O,N,P,S])]),n&X2&H0&+0,$([o,s;+0;!$([o,s]:n);!$([o,s]:c:n)])]',\n",
        "        'Basic': '[#7;+,$([N;H2&+0][$([C,a]);!$([C,a](=O))]),$([N;H1&+0]([$([C,a]);!$([C,a](=O))])[$([C,a]);!$([C,a](=O))]),$([N;H0&+0]([C;!$(C(=O))])([C;!$(C(=O))])[C;!$(C(=O))]),$([n;X2;+0;-0])]',\n",
        "        'Acid': '[C,S](=[O,S,P])-[O;H1,-1]',\n",
        "        'Halogen': '[F,Cl,Br,I]'\n",
        "        }\n",
        "FunQuery = dict([(pharmaco, Chem.MolFromSmarts(s)) for (pharmaco, s) in fun_smarts.items()])\n",
        "\n",
        "\n",
        "def tag_pharmacophore(mol):\n",
        "    for fungrp, qmol in FunQuery.items():\n",
        "        matches = mol.GetSubstructMatches(qmol)\n",
        "        match_idxes = []\n",
        "        for mat in matches:\n",
        "            match_idxes.extend(mat)\n",
        "        for i, atom in enumerate(mol.GetAtoms()):\n",
        "            tag = '1' if i in match_idxes else '0'\n",
        "            atom.SetProp(fungrp, tag)\n",
        "    return mol\n",
        "\n",
        "\n",
        "# tag scaffold information to each atom\n",
        "def tag_scaffold(mol):\n",
        "    core = MurckoScaffold.GetScaffoldForMol(mol)\n",
        "    match_idxes = mol.GetSubstructMatch(core)\n",
        "    for i, atom in enumerate(mol.GetAtoms()):\n",
        "        tag = '1' if i in match_idxes else '0'\n",
        "        atom.SetProp('Scaffold', tag)\n",
        "    return mol"
      ],
      "metadata": {
        "id": "kD6Ko2yBerpZ"
      },
      "execution_count": 2,
      "outputs": []
    },
    {
      "cell_type": "code",
      "source": [
        "class MolData(Data):\n",
        "    def __init__(self, fra_edge_index=None, fra_edge_attr=None, cluster_index=None, **kwargs):\n",
        "        super(MolData, self).__init__(**kwargs)\n",
        "        self.cluster_index = cluster_index\n",
        "        self.fra_edge_index = fra_edge_index\n",
        "        self.fra_edge_attr = fra_edge_attr\n",
        "\n",
        "    def __inc__(self, key, value, *args, **kwargs):\n",
        "        if key == 'cluster_index':\n",
        "            return int(self.cluster_index.max()) + 1\n",
        "        else:\n",
        "            return super().__inc__(key, value, *args, **kwargs)\n",
        "\n",
        "\n",
        "class MolDataset(InMemoryDataset):\n",
        "\n",
        "    def __init__(self, root, fpath, dataset, task_type, tasks, logger=None, smiles_col = 'smiles',\n",
        "                 transform=None, pre_transform=None, pre_filter=None):\n",
        "\n",
        "        self.tasks = tasks\n",
        "        self.dataset = dataset\n",
        "        self.task_type = task_type\n",
        "        self.logger = logger\n",
        "        self.fpath = fpath\n",
        "        self.smiles_col = smiles_col\n",
        "\n",
        "        super(MolDataset, self).__init__(root, transform, pre_transform, pre_filter)\n",
        "        self.data, self.slices = torch.load(self.processed_paths[0])\n",
        "\n",
        "    @property\n",
        "    def raw_file_names(self):\n",
        "        return ['{}.csv'.format(self.dataset)]\n",
        "\n",
        "    @property\n",
        "    def processed_file_names(self):\n",
        "        return ['{}.pt'.format(self.dataset)]\n",
        "\n",
        "    def download(self):\n",
        "        pass\n",
        "\n",
        "    def process(self):\n",
        "\n",
        "        df = pd.read_csv(self.fpath)\n",
        "        # df = df[:100]\n",
        "        smilesList = df[self.smiles_col].values\n",
        "\n",
        "        print(f'number of all smiles: {len(smilesList)}')\n",
        "        remained_smiles = []\n",
        "        canonical_smiles_list = []\n",
        "        for smiles in smilesList:\n",
        "            try:\n",
        "                canonical_smiles_list.append(Chem.MolToSmiles(Chem.MolFromSmiles(smiles), isomericSmiles=True))\n",
        "                remained_smiles.append(smiles)\n",
        "            except:\n",
        "                self.logger.info(f'not successfully processed smiles: {smiles}')\n",
        "                pass\n",
        "\n",
        "        print(f'number of successfully processed smiles: {len(remained_smiles)}')\n",
        "        df = df[df[self.smiles_col].isin(remained_smiles)].reset_index()\n",
        "\n",
        "        if len(self.tasks) > 0:\n",
        "            target = df[self.tasks].values\n",
        "\n",
        "        smilesList = df[self.smiles_col].values\n",
        "        data_list = []\n",
        "\n",
        "        for i, smi in enumerate(tqdm(smilesList)):\n",
        "\n",
        "            mol = Chem.MolFromSmiles(smi)\n",
        "            data = self.mol2graph(mol)\n",
        "\n",
        "            if data is not None and len(self.tasks) > 0:\n",
        "                label = target[i]\n",
        "                label[np.isnan(label)] = 666\n",
        "                data.y = torch.LongTensor([label])\n",
        "                if self.task_type == 'regression':\n",
        "                    data.y = torch.FloatTensor([label])\n",
        "                data_list.append(data)\n",
        "\n",
        "        if self.pre_filter is not None:\n",
        "            data_list = [data for data in data_list if self.pre_filter(data)]\n",
        "        if self.pre_transform is not None:\n",
        "            data_list = [self.pre_transform(data) for data in data_list]\n",
        "\n",
        "        data, slices = self.collate(data_list)\n",
        "        torch.save((data, slices), self.processed_paths[0])\n",
        "\n",
        "    def mol2graph(self, mol):\n",
        "        smiles = Chem.MolToSmiles(mol)\n",
        "        if mol is None: return None\n",
        "        node_attr = atom_attr(mol, scaffold = False)\n",
        "        edge_index, edge_attr = bond_attr(mol)\n",
        "        fra_edge_index, fra_edge_attr, cluster_index = bond_break(mol)\n",
        "        data = MolData(\n",
        "            x=torch.FloatTensor(node_attr),\n",
        "            edge_index=torch.LongTensor(edge_index).t(),\n",
        "            edge_attr=torch.FloatTensor(edge_attr),\n",
        "            fra_edge_index=torch.LongTensor(fra_edge_index).t(),\n",
        "            fra_edge_attr=torch.FloatTensor(fra_edge_attr),\n",
        "            cluster_index=torch.LongTensor(cluster_index),\n",
        "            y=None,\n",
        "            smiles=smiles,\n",
        "        )\n",
        "        return data"
      ],
      "metadata": {
        "id": "9UEJO6rUr5z8"
      },
      "execution_count": 3,
      "outputs": []
    },
    {
      "cell_type": "code",
      "source": [
        "def load_dataset_random(root, fpath, dataset, task_type, tasks=None, smiles_col = 'smiles', seed = 201):\n",
        "    # save_path = path + 'processed/train_valid_test_{}_seed_{}.ckpt'.format(dataset, seed)\n",
        "    # if os.path.isfile(save_path):\n",
        "    #     trn, val, test = torch.load(save_path)\n",
        "    #     return trn, val, test\n",
        "\n",
        "    pyg_dataset = MolDataset(root=root, fpath = fpath, dataset=dataset, task_type=task_type, tasks=tasks, smiles_col = smiles_col)\n",
        "    del pyg_dataset.data.smiles\n",
        "\n",
        "    # Seed randomness\n",
        "    random = Random(seed)\n",
        "    indices = list(range(len(pyg_dataset)))\n",
        "    random.seed(seed)\n",
        "    random.shuffle(indices)\n",
        "\n",
        "    train_size = int(0.8 * len(pyg_dataset))\n",
        "    val_size = int(0.1 * len(pyg_dataset))\n",
        "    test_size = len(pyg_dataset) - train_size - val_size\n",
        "\n",
        "    trn_id, val_id, test_id = indices[:train_size], \\\n",
        "                              indices[train_size:(train_size + val_size)], \\\n",
        "                              indices[(train_size + val_size):]\n",
        "\n",
        "    trn, val, test = pyg_dataset[torch.LongTensor(trn_id)], \\\n",
        "                     pyg_dataset[torch.LongTensor(val_id)], \\\n",
        "                     pyg_dataset[torch.LongTensor(test_id)]\n",
        "\n",
        "    print(f'Total smiles = {len(pyg_dataset):,} | '\n",
        "                f'train smiles = {train_size:,} | '\n",
        "                f'val smiles = {val_size:,} | '\n",
        "                f'test smiles = {test_size:,}')\n",
        "\n",
        "    assert task_type == 'classification' or 'regression'\n",
        "    if task_type == 'classification':\n",
        "        weights = []\n",
        "        for i in range(len(tasks)):\n",
        "            validId = np.where((pyg_dataset.data.y[:, i] == 0) | (pyg_dataset.data.y[:, i] == 1))[0]\n",
        "            pos_len = (pyg_dataset.data.y[:, i][validId].sum()).item()\n",
        "            neg_len = len(pyg_dataset.data.y[:, i][validId]) - pos_len\n",
        "            weights.append([(neg_len + pos_len) / neg_len, (neg_len + pos_len) / pos_len])\n",
        "        trn.weights = weights\n",
        "\n",
        "    else:\n",
        "        trn.weights = None\n",
        "\n",
        "    # torch.save([trn, val, test], save_path)\n",
        "    return trn, val, test\n",
        "\n",
        "def get_loaders(root, fpath, dataset, task_type = 'regression', tasks=None, smiles_col = 'smiles', seed = 201, bs = 32):\n",
        "\n",
        "    '''\n",
        "    This function prepares data loaders by using other helper functions.\n",
        "\n",
        "    Args:\n",
        "      root {Str}: Path to store saved data. Not csv file path\n",
        "      path {Str}: Path to the CSV file\n",
        "      smiles_col {Str}: smiles column name in the csv file\n",
        "      label_col {Str or List}: Label column name in the csv file\n",
        "      task_type {Str}: is it regression or classification\n",
        "      bs {Int}: Batch size, use 32 if GPU available, else use 4.\n",
        "    '''\n",
        "\n",
        "    train, val, test = load_dataset_random(root, fpath, dataset, task_type, tasks = tasks, smiles_col = smiles_col, seed = seed)\n",
        "\n",
        "    # train, val, test = load_dataset_random()\n",
        "    train_dataloader = DataLoader(train, batch_size = bs, shuffle=True)\n",
        "    valid_dataloader = DataLoader(val, bs)\n",
        "    test_dataloader = DataLoader(test, bs)\n",
        "\n",
        "    return train_dataloader, valid_dataloader, test_dataloader"
      ],
      "metadata": {
        "id": "ehvYmfmVzcIx"
      },
      "execution_count": 4,
      "outputs": []
    },
    {
      "cell_type": "code",
      "source": [
        "wandb.init(project = \"PBS Run - 1\")"
      ],
      "metadata": {
        "colab": {
          "base_uri": "https://localhost:8080/",
          "height": 160
        },
        "id": "qaEf32d08ig4",
        "outputId": "932c134d-9c80-4426-c557-788443b8cf1a"
      },
      "execution_count": 5,
      "outputs": [
        {
          "output_type": "stream",
          "name": "stderr",
          "text": [
            "\u001b[34m\u001b[1mwandb\u001b[0m: Currently logged in as: \u001b[33mbindelapranay1997\u001b[0m (\u001b[33mcomp_chem\u001b[0m). Use \u001b[1m`wandb login --relogin`\u001b[0m to force relogin\n"
          ]
        },
        {
          "output_type": "display_data",
          "data": {
            "text/plain": [
              "<IPython.core.display.HTML object>"
            ],
            "text/html": [
              "wandb version 0.15.4 is available!  To upgrade, please run:\n",
              " $ pip install wandb --upgrade"
            ]
          },
          "metadata": {}
        },
        {
          "output_type": "display_data",
          "data": {
            "text/plain": [
              "<IPython.core.display.HTML object>"
            ],
            "text/html": [
              "Tracking run with wandb version 0.14.0"
            ]
          },
          "metadata": {}
        },
        {
          "output_type": "display_data",
          "data": {
            "text/plain": [
              "<IPython.core.display.HTML object>"
            ],
            "text/html": [
              "Run data is saved locally in <code>/home/ec2-user/project/wandb/run-20230628_192617-kj0u9dn0</code>"
            ]
          },
          "metadata": {}
        },
        {
          "output_type": "display_data",
          "data": {
            "text/plain": [
              "<IPython.core.display.HTML object>"
            ],
            "text/html": [
              "Syncing run <strong><a href='https://wandb.ai/comp_chem/PBS%20Run%20-%201/runs/kj0u9dn0' target=\"_blank\">hearty-mountain-2</a></strong> to <a href='https://wandb.ai/comp_chem/PBS%20Run%20-%201' target=\"_blank\">Weights & Biases</a> (<a href='https://wandb.me/run' target=\"_blank\">docs</a>)<br/>"
            ]
          },
          "metadata": {}
        },
        {
          "output_type": "display_data",
          "data": {
            "text/plain": [
              "<IPython.core.display.HTML object>"
            ],
            "text/html": [
              " View project at <a href='https://wandb.ai/comp_chem/PBS%20Run%20-%201' target=\"_blank\">https://wandb.ai/comp_chem/PBS%20Run%20-%201</a>"
            ]
          },
          "metadata": {}
        },
        {
          "output_type": "display_data",
          "data": {
            "text/plain": [
              "<IPython.core.display.HTML object>"
            ],
            "text/html": [
              " View run at <a href='https://wandb.ai/comp_chem/PBS%20Run%20-%201/runs/kj0u9dn0' target=\"_blank\">https://wandb.ai/comp_chem/PBS%20Run%20-%201/runs/kj0u9dn0</a>"
            ]
          },
          "metadata": {}
        },
        {
          "output_type": "execute_result",
          "data": {
            "text/html": [
              "<button onClick=\"this.nextSibling.style.display='block';this.style.display='none';\">Display W&B run</button><iframe src='https://wandb.ai/comp_chem/PBS%20Run%20-%201/runs/kj0u9dn0?jupyter=true' style='border:none;width:100%;height:420px;display:none;'></iframe>"
            ],
            "text/plain": [
              "<wandb.sdk.wandb_run.Run at 0x7f477ad5b790>"
            ]
          },
          "metadata": {},
          "execution_count": 5
        }
      ]
    },
    {
      "cell_type": "code",
      "source": [
        "# This Cell consists of helper functions and base classes of HiGNN and the Message Passing Architecture.\n",
        "\n",
        "class FeatureAttention(nn.Module):\n",
        "    '''\n",
        "    c = (W5 (W4fG sum ) + W5 (W4fG max ))\n",
        "    '''\n",
        "    def __init__(self, channels, reduction):\n",
        "        super().__init__()\n",
        "        self.mlp = Sequential(\n",
        "            Linear(channels, channels // reduction),\n",
        "            nn.ReLU(inplace=True),\n",
        "            Linear(channels // reduction, channels, bias=False),\n",
        "        )\n",
        "\n",
        "        self.reset_parameters()\n",
        "\n",
        "    def reset_parameters(self):\n",
        "        reset(self.mlp)\n",
        "\n",
        "    def forward(self, x, batch, size=None):\n",
        "        max_result = scatter(x, batch, dim=0, dim_size=size, reduce='max')\n",
        "        sum_result = scatter(x, batch, dim=0, dim_size=size, reduce='sum')\n",
        "        max_out = self.mlp(max_result)\n",
        "        sum_out = self.mlp(sum_result)\n",
        "        y = torch.sigmoid(max_out + sum_out)\n",
        "        y = y[batch]\n",
        "        return x * y\n",
        "\n",
        "# ---------------------------------------\n",
        "# Neural tensor networks conv\n",
        "# ---------------------------------------\n",
        "class NTNConv(MessagePassing):\n",
        "\n",
        "    '''\n",
        "    Base Message Passing Class for HiGNN. Core of the architecture.\n",
        "    alpha(i j) = tanh(hi W[ ]h + W[h , h ] + b)\n",
        "    d = d/a\n",
        "    mi = ReLU(reshape(alpha(i, j), hj , d))\n",
        "    β = W3T.[hi,mi,hi − mi].\n",
        "    hi = β.hi + (1 - β).mi\n",
        "    '''\n",
        "\n",
        "    def __init__(self, in_channels, out_channels, slices, dropout, edge_dim=None, **kwargs):\n",
        "        kwargs.setdefault('aggr', 'add')\n",
        "        super(NTNConv, self).__init__(node_dim=0, **kwargs)\n",
        "\n",
        "        self.in_channels = in_channels\n",
        "        self.out_channels = out_channels\n",
        "        self.slices = slices\n",
        "        self.dropout = dropout\n",
        "        self.edge_dim = edge_dim\n",
        "\n",
        "        self.weight_node = Parameter(torch.Tensor(in_channels,\n",
        "                                                  out_channels))\n",
        "        if edge_dim is not None:\n",
        "            self.weight_edge = Parameter(torch.Tensor(edge_dim,\n",
        "                                                      out_channels))\n",
        "        else:\n",
        "            self.weight_edge = self.register_parameter('weight_edge', None)\n",
        "\n",
        "        self.bilinear = Bilinear(out_channels, out_channels, slices, bias=False)\n",
        "\n",
        "        if self.edge_dim is not None:\n",
        "            self.linear = Linear(3 * out_channels, slices)\n",
        "        else:\n",
        "            self.linear = Linear(2 * out_channels, slices)\n",
        "\n",
        "        self._alpha = None\n",
        "\n",
        "        self.reset_parameters()\n",
        "\n",
        "    def reset_parameters(self):\n",
        "        glorot(self.weight_node)\n",
        "        glorot(self.weight_edge)\n",
        "        self.bilinear.reset_parameters()\n",
        "        self.linear.reset_parameters()\n",
        "\n",
        "    def forward(self, x, edge_index, edge_attr=None, return_attention_weights=None):\n",
        "\n",
        "        x = torch.matmul(x, self.weight_node)\n",
        "\n",
        "        if self.weight_edge is not None:\n",
        "            assert edge_attr is not None\n",
        "            edge_attr = torch.matmul(edge_attr, self.weight_edge)\n",
        "\n",
        "        out = self.propagate(edge_index, x=x, edge_attr=edge_attr)\n",
        "\n",
        "        alpha = self._alpha\n",
        "        self._alpha = None\n",
        "\n",
        "        if isinstance(return_attention_weights, bool):\n",
        "            assert alpha is not None\n",
        "            return out, (edge_index, alpha)\n",
        "        else:\n",
        "            return out\n",
        "\n",
        "    def message(self, x_i, x_j, edge_attr):\n",
        "        score = self.bilinear(x_i, x_j)\n",
        "        if edge_attr is not None:\n",
        "            vec = torch.cat((x_i, edge_attr, x_j), 1)\n",
        "            block_score = self.linear(vec)  # bias already included\n",
        "        else:\n",
        "            vec = torch.cat((x_i, x_j), 1)\n",
        "            block_score = self.linear(vec)\n",
        "        scores = score + block_score\n",
        "        alpha = torch.tanh(scores)\n",
        "        self._alpha = alpha\n",
        "        alpha = F.dropout(alpha, p=self.dropout, training=self.training)\n",
        "\n",
        "        dim_split = self.out_channels // self.slices\n",
        "        out = torch.max(x_j, edge_attr).view(-1, self.slices, dim_split)\n",
        "\n",
        "        out = out * alpha.view(-1, self.slices, 1)\n",
        "        out = out.view(-1, self.out_channels)\n",
        "        return out\n",
        "\n",
        "    def __repr__(self):\n",
        "        return '{}({}, {}, slices={})'.format(self.__class__.__name__,\n",
        "                                              self.in_channels,\n",
        "                                              self.out_channels, self.slices)\n",
        "\n",
        "class HiGNN(torch.nn.Module):\n",
        "    \"\"\"Hierarchical informative graph neural network for molecular representation.\n",
        "\n",
        "    There are 2 parts to HiGNN, one is at molecule level and other is at fragment level.\n",
        "    We do message passing at both levels (Atom Level and Fragment Level)\n",
        "\n",
        "    Once after Message Passing,\n",
        "      1. mean pool atom attributes\n",
        "      2. Calculate Cross Attention scores of each of those fragment attributes to molecule attributes\n",
        "      3. Weighted sum of fragment attributes using cross attention scores\n",
        "      4. Concatenate molecule attributes obtained from atom level features and fragment level features and get prediction.\n",
        "\n",
        "    After Message Passing\n",
        "\n",
        "    Readout:\n",
        "      hg = sigme(hi)\n",
        "\n",
        "    Cross Attention -\n",
        "    hg - Graph Readout\n",
        "    st - Fragment Representation of Message Passing.\n",
        "\n",
        "    alpha(t) = softmax(LeakyReLU(a [Whg || Wst]))\n",
        "\n",
        "\n",
        "    \"\"\"\n",
        "\n",
        "    def __init__(self, in_channels, hidden_channels, out_channels, edge_dim, num_layers,\n",
        "                 slices, dropout, f_att=False, r=4, brics=True, cl=False, save_path = None, load_path = None, num_outputs = 1):\n",
        "        super(HiGNN, self).__init__()\n",
        "\n",
        "        self.hidden_channels = hidden_channels\n",
        "        self.num_layers = num_layers\n",
        "        self.dropout = dropout\n",
        "\n",
        "        self.num_outputs = num_outputs\n",
        "\n",
        "        self.f_att = f_att\n",
        "        self.brics = brics\n",
        "        self.cl = cl\n",
        "\n",
        "        self.save_path = save_path\n",
        "        self.load_path = load_path\n",
        "\n",
        "        self.pre_trained = True if load_path else False\n",
        "\n",
        "        # atom feature transformation\n",
        "        self.lin_a = Linear(in_channels, hidden_channels)\n",
        "        self.lin_b = Linear(edge_dim, hidden_channels)\n",
        "\n",
        "        # convs block\n",
        "        self.atom_convs = torch.nn.ModuleList()\n",
        "        for _ in range(num_layers):\n",
        "            conv = NTNConv(hidden_channels, hidden_channels, slices=slices,\n",
        "                           dropout=dropout, edge_dim=hidden_channels)\n",
        "            self.atom_convs.append(conv)\n",
        "\n",
        "        self.lin_gate = Linear(3 * hidden_channels, hidden_channels)\n",
        "\n",
        "        if self.f_att:\n",
        "            self.feature_att = FeatureAttention(channels=hidden_channels, reduction=r)\n",
        "\n",
        "        if self.brics:\n",
        "            # mol-fra attention\n",
        "            self.cross_att = GATConv(hidden_channels, hidden_channels, heads=4,\n",
        "                                     dropout=dropout, add_self_loops=False,\n",
        "                                     negative_slope=0.01, concat=False)\n",
        "\n",
        "        if self.brics:\n",
        "            self.out = nn.ModuleList([Linear(2 * hidden_channels, out_channels) for i in range(self.num_outputs)])\n",
        "        else:\n",
        "            self.out = nn.ModuleList([Linear(hidden_channels, out_channels) for i in range(self.num_outputs)])\n",
        "\n",
        "        if self.cl:\n",
        "            self.lin_project = Linear(hidden_channels, int(hidden_channels/2))\n",
        "\n",
        "        if self.pre_trained:\n",
        "            self.load_model(load_model)\n",
        "\n",
        "        self.reset_parameters()\n",
        "\n",
        "    def save_model(self, save_path, complete_model = False):\n",
        "\n",
        "        model_dict = {\n",
        "            'atom_convs': self.atom_convs.state_dict(),\n",
        "            'lin_gate': self.lin_gate.state_dict(),\n",
        "            'lin_a': self.lin_a.state_dict(),\n",
        "            'lin_b': self.lin_b.state_dict(),\n",
        "        }\n",
        "\n",
        "        if self.f_att:\n",
        "            model_dict['feature_att'] =  self.feature_att.state_dict()\n",
        "\n",
        "        if self.brics:\n",
        "            model_dict['cross_att'] = self.cross_att.state_dict()\n",
        "\n",
        "        if complete_model:\n",
        "            model_dict['out'] = self.out.state_dict()\n",
        "\n",
        "        torch.save(model_dict, save_path)\n",
        "\n",
        "    def load_model(self, load_path):\n",
        "\n",
        "        model_dict = torch.load(load_path)\n",
        "        self.atom_convs.load_state_dict(model_dict['atom_convs'])\n",
        "        self.lin_gate.load_state_dict(model_dict['lin_gate'])\n",
        "        self.lin_a.load_state_dict(model_dict['lin_a'])\n",
        "        self.lin_b.load_state_dict(model_dict['lin_b'])\n",
        "\n",
        "        if self.f_att:\n",
        "            self.feature_att.load_state_dict(model_dict['feature_att'])\n",
        "\n",
        "        if self.brics:\n",
        "            self.cross_att.load_state_dict(model_dict['cross_att'])\n",
        "\n",
        "        if 'out' in model_dict:\n",
        "            self.out.load_state_dict(model_dict['out'])\n",
        "\n",
        "\n",
        "    def reset_parameters(self):\n",
        "\n",
        "        self.lin_a.reset_parameters()\n",
        "        self.lin_b.reset_parameters()\n",
        "\n",
        "        for conv in self.atom_convs:\n",
        "            conv.reset_parameters()\n",
        "\n",
        "        self.lin_gate.reset_parameters()\n",
        "\n",
        "        if self.f_att:\n",
        "            self.feature_att.reset_parameters()\n",
        "\n",
        "        if self.brics:\n",
        "            self.cross_att.reset_parameters()\n",
        "\n",
        "        for i in self.out:\n",
        "            i.reset_parameters()\n",
        "\n",
        "        if self.cl:\n",
        "            self.lin_project.reset_parameters()\n",
        "\n",
        "    def forward(self, data):\n",
        "        # get mol input\n",
        "        x = data.x\n",
        "        edge_index = data.edge_index\n",
        "        edge_attr = data.edge_attr\n",
        "        batch = data.batch\n",
        "\n",
        "        x = F.relu(self.lin_a(x))  # (N, 46) -> (N, hidden_channels)\n",
        "        edge_attr = F.relu(self.lin_b(edge_attr))  # (N, 10) -> (N, hidden_channels)\n",
        "\n",
        "        # mol conv block\n",
        "        for i in range(0, self.num_layers):\n",
        "            h = F.relu(self.atom_convs[i](x, edge_index, edge_attr))\n",
        "            beta = self.lin_gate(torch.cat([x, h, x - h], 1)).sigmoid()\n",
        "            x = beta * x + (1 - beta) * h\n",
        "            if self.f_att:\n",
        "                x = self.feature_att(x, batch)\n",
        "\n",
        "        mol_vec = global_add_pool(x, batch).relu_()\n",
        "\n",
        "        if self.brics:\n",
        "            # get fragment input\n",
        "            fra_x = data.x\n",
        "            fra_edge_index = data.fra_edge_index\n",
        "            fra_edge_attr = data.fra_edge_attr\n",
        "            cluster = data.cluster_index\n",
        "\n",
        "            fra_x = F.relu(self.lin_a(fra_x))  # (N, 46) -> (N, hidden_channels)\n",
        "            fra_edge_attr = F.relu(self.lin_b(fra_edge_attr))  # (N, 10) -> (N, hidden_channels)\n",
        "\n",
        "            # fragment convs block\n",
        "            for i in range(0, self.num_layers):\n",
        "                fra_h = F.relu(self.atom_convs[i](fra_x, fra_edge_index, fra_edge_attr))\n",
        "                beta = self.lin_gate(torch.cat([fra_x, fra_h, fra_x - fra_h], 1)).sigmoid()\n",
        "                fra_x = beta * fra_x + (1 - beta) * fra_h\n",
        "\n",
        "                if self.f_att:\n",
        "                    fra_x = self.feature_att(fra_x, cluster)\n",
        "\n",
        "            fra_x = global_add_pool(fra_x, cluster).relu_()\n",
        "\n",
        "            # get fragment batch\n",
        "            cluster, perm = consecutive_cluster(cluster)\n",
        "            fra_batch = pool_batch(perm, data.batch)\n",
        "\n",
        "            # molecule-fragment attention\n",
        "            row = torch.arange(fra_batch.size(0), device=batch.device)\n",
        "            mol_fra_index = torch.stack([row, fra_batch], dim=0)\n",
        "            fra_vec = self.cross_att((fra_x, mol_vec), mol_fra_index).relu_()\n",
        "\n",
        "            vectors_concat = list()\n",
        "            vectors_concat.append(mol_vec)\n",
        "            vectors_concat.append(fra_vec)\n",
        "\n",
        "            out = torch.cat(vectors_concat, 1)\n",
        "\n",
        "            # molecule-fragment contrastive\n",
        "            if self.cl:\n",
        "                out = F.dropout(out, p=self.dropout, training=self.training)\n",
        "                return torch.cat([l(out) for l in self.out], dim = 1), self.lin_project(mol_vec).relu_(), self.lin_project(fra_vec).relu_()\n",
        "            else:\n",
        "                out = F.dropout(out, p=self.dropout, training=self.training)\n",
        "                return torch.cat([l(out) for l in self.out], dim = 1)\n",
        "        else:\n",
        "            assert self.cl is False\n",
        "            out = F.dropout(mol_vec, p=self.dropout, training=self.training)\n",
        "            return torch.cat([l(out) for l in self.out], dim = 1)\n",
        "\n",
        "def build_model(in_channels=45, hidden_channels = 64, out_channels = 1, edge_dim = 10, num_layers = 3, dropout = 0.2, slices = 2,\n",
        "                  f_att = True, r = 4, brics = True, cl = False, save_path = None, load_path = None, num_outputs = 1):\n",
        "\n",
        "    model = HiGNN(in_channels,\n",
        "                  hidden_channels = hidden_channels,\n",
        "                  out_channels = out_channels,\n",
        "                  edge_dim = edge_dim,\n",
        "                  num_layers = num_layers,\n",
        "                  dropout = dropout,\n",
        "                  slices = slices,\n",
        "                  f_att = f_att,\n",
        "                  r = r,\n",
        "                  brics = brics,\n",
        "                  cl = cl,\n",
        "                  save_path = save_path,\n",
        "                  load_path = load_path,\n",
        "                  num_outputs = num_outputs )\n",
        "\n",
        "    return model"
      ],
      "metadata": {
        "id": "m1Re7EtLfB_z"
      },
      "execution_count": 6,
      "outputs": []
    },
    {
      "cell_type": "code",
      "source": [
        "def calculate_loss(criterion, out, y):\n",
        "\n",
        "    '''\n",
        "    criterion - Loss Function\n",
        "    out - Batch Size * num_outputs\n",
        "    y - Batch Size* num_outputs\n",
        "    '''\n",
        "\n",
        "    num_outputs = out.shape[-1]\n",
        "\n",
        "    if len(y.shape) == 1:\n",
        "        y = y.unsqueeze(dim = -1)\n",
        "    assert out.shape == y.shape\n",
        "\n",
        "    loss = criterion(out[:, 0].squeeze(), y[:, 0].squeeze())\n",
        "    for i in range(1, num_outputs):\n",
        "        loss += criterion(out[:, i].squeeze(), y[:, i].squeeze())\n",
        "\n",
        "    return loss"
      ],
      "metadata": {
        "id": "j0XM349-_VCr"
      },
      "execution_count": 7,
      "outputs": []
    },
    {
      "cell_type": "code",
      "source": [
        "def train_one_epoch(model, train_dataloader, val_dataloader, criterion_1, optimizer, scheduler, device, is_classification = False):\n",
        "\n",
        "    total_loss_train = []\n",
        "    total_loss_val = []\n",
        "    rmse_train = []\n",
        "    rmse_valid = []\n",
        "    c = 0\n",
        "\n",
        "    # st()\n",
        "    for data in tqdm(train_dataloader):\n",
        "        try:\n",
        "\n",
        "            data = data.to(device)\n",
        "            outputs = model(data)\n",
        "            loss = calculate_loss(criterion_1, outputs, data.y)\n",
        "\n",
        "            loss.backward()\n",
        "            optimizer.step()  # Update parameters based on gradients.\n",
        "            optimizer.zero_grad()\n",
        "\n",
        "            # scheduler.step()\n",
        "            total_loss_train.append(loss.item())\n",
        "\n",
        "            if is_classification:\n",
        "                # Calculate ROC_AUC\n",
        "                rmse_train.append(roc_auc(train_label[:, 0].to(torch.device('cpu').numpy()), outputs[0].squeeze().detach().to(torch.device('cpu')).numpy()))\n",
        "            else:\n",
        "                rmse_train.append(np.sqrt(loss.item()))\n",
        "\n",
        "            c += 1\n",
        "            if (c%10 == 0):\n",
        "                wandb.log({\n",
        "                  \"Train Loss Running Mean\": np.mean(total_loss_train)\n",
        "                })\n",
        "                wandb.log({\n",
        "                  \"Train RMSE Running Mean\": np.mean(rmse_train)\n",
        "                })\n",
        "\n",
        "\n",
        "        except Exception as e:\n",
        "            print(e)\n",
        "\n",
        "    with torch.no_grad():\n",
        "        c = 0\n",
        "        for data in val_dataloader:\n",
        "            try:\n",
        "                data = data.to(device)\n",
        "                outputs = model(data)\n",
        "\n",
        "                # loss = criterion_1(outputs.squeeze(), data.y.squeeze())\n",
        "                loss = calculate_loss(criterion_1, outputs, data.y)\n",
        "\n",
        "                c += 1\n",
        "                total_loss_val.append(loss.item())\n",
        "\n",
        "                if is_classification:\n",
        "                    # Calculate ROC_AUC\n",
        "                    rmse_valid.append(roc_auc(val_label[:, 0].to(torch.device('cpu').numpy()), outputs[0].squeeze().detach().to(torch.device('cpu')).numpy()))\n",
        "                else:\n",
        "                    rmse_valid.append(np.sqrt(loss.item()))\n",
        "                if (c%3 == 0):\n",
        "                    wandb.log({\n",
        "                      \"Validation Loss Running Mean\": np.mean(total_loss_val)\n",
        "                    })\n",
        "                    wandb.log({\n",
        "                      \"Validation RMSE Running Mean\": np.mean(rmse_valid)\n",
        "                    })\n",
        "\n",
        "                scheduler.step(np.mean(total_loss_val))\n",
        "            except Exception as e:\n",
        "                print(e)\n",
        "\n",
        "    return np.mean(total_loss_train), np.mean(total_loss_val), np.mean(rmse_train), np.mean(rmse_valid)\n",
        "\n",
        "def train_regression(model, train_dataloader, val_dataloader, learning_rate = 1e-03, min_lr = 1e-05, epochs = 50, wd = 1e-02):\n",
        "\n",
        "    hyperparameters = {\n",
        "        \"batch_size\": train_dataloader.batch_size,\n",
        "        \"num_epochs\": epochs,\n",
        "    }\n",
        "    wandb.config.update(hyperparameters)\n",
        "\n",
        "    use_cuda = torch.cuda.is_available()\n",
        "    device = torch.device(\"cuda\" if use_cuda else \"cpu\")\n",
        "    model.to(device)\n",
        "\n",
        "    optimizer = torch.optim.Adam(model.parameters(), lr = learning_rate, weight_decay = wd)\n",
        "    criterion_1 = nn.MSELoss()\n",
        "    scheduler = torch.optim.lr_scheduler.ReduceLROnPlateau(\n",
        "                            optimizer,\n",
        "                            mode = 'min',\n",
        "                            factor = 0.7,\n",
        "                            patience = 10,\n",
        "                            min_lr = min_lr\n",
        "                )\n",
        "\n",
        "    for epoch_num in range(epochs):\n",
        "\n",
        "        train_loss, valid_loss, train_rmse, valid_rmse = train_one_epoch(model, train_dataloader, val_dataloader, criterion_1, optimizer, scheduler, device)\n",
        "        print(\n",
        "            f'Epochs: {epoch_num + 1} | Train Loss: {train_loss: .3f} \\\n",
        "            | Val Loss: {valid_loss: .3f} \\\n",
        "            | Train RMSE: {train_rmse: .3f} \\\n",
        "            | Val RMSE: {valid_rmse: .3f}')\n",
        "\n",
        "    return model\n"
      ],
      "metadata": {
        "id": "HFSybyXH4i-c"
      },
      "execution_count": 8,
      "outputs": []
    },
    {
      "cell_type": "markdown",
      "source": [
        "# Section - 2: Train a Model"
      ],
      "metadata": {
        "id": "p4Y3P71RJh7L"
      }
    },
    {
      "cell_type": "code",
      "source": [
        "# Prepare Data Loaders\n",
        "# train_loader, val_loader, test_loader = get_loaders('./root/', \"./chem_datasets/dataset-delaney.csv\", 'SMILES', 'measured log(solubility:mol/L)', 'esol_1')\n",
        "train_loader, val_loader, test_loader = get_loaders(root = './root/',\n",
        "                                                    fpath = \"./chem_datasets/dataset-delaney.csv\",\n",
        "                                                    dataset = \"esol\",\n",
        "                                                    task_type = 'regression',\n",
        "                                                    tasks = ['measured log(solubility:mol/L)'],\n",
        "                                                    smiles_col = 'SMILES')"
      ],
      "metadata": {
        "colab": {
          "base_uri": "https://localhost:8080/"
        },
        "id": "OOFvLC380SqP",
        "outputId": "1f90c395-1661-4ee4-fe02-c6f4ecaebffa"
      },
      "execution_count": null,
      "outputs": [
        {
          "output_type": "stream",
          "name": "stdout",
          "text": [
            "Total smiles = 1,144 | train smiles = 915 | val smiles = 114 | test smiles = 115\n"
          ]
        },
        {
          "output_type": "stream",
          "name": "stderr",
          "text": [
            "/home/ec2-user/virtenv/lib64/python3.7/site-packages/torch_geometric/data/in_memory_dataset.py:157: UserWarning: It is not recommended to directly access the internal storage format `data` of an 'InMemoryDataset'. If you are absolutely certain what you are doing, access the internal storage via `InMemoryDataset._data` instead to suppress this warning. Alternatively, you can access stacked individual attributes of every graph via `dataset.{attr_name}`.\n",
            "  warnings.warn(msg)\n",
            "/home/ec2-user/virtenv/lib64/python3.7/site-packages/torch_geometric/deprecation.py:22: UserWarning: 'data.DataLoader' is deprecated, use 'loader.DataLoader' instead\n",
            "  warnings.warn(out)\n"
          ]
        }
      ]
    },
    {
      "cell_type": "code",
      "source": [
        "#Get Device\n",
        "device = torch.device('cuda' if torch.cuda.is_available() else 'cpu')"
      ],
      "metadata": {
        "id": "12RTe1fmZ9c6"
      },
      "execution_count": null,
      "outputs": []
    },
    {
      "cell_type": "code",
      "source": [
        "# Prepapre Model\n",
        "hi_gnn = build_model()"
      ],
      "metadata": {
        "id": "JtYDFbaj4gsm"
      },
      "execution_count": null,
      "outputs": []
    },
    {
      "cell_type": "code",
      "source": [
        "# Load a pre trained model if available. This cell is completely optional\n",
        "hi_gnn.load_model(\"./models/hignn_test_sol_pretrained.pth\")"
      ],
      "metadata": {
        "id": "4UnrCYGKB-rV"
      },
      "execution_count": null,
      "outputs": []
    },
    {
      "cell_type": "code",
      "source": [
        "# Train the model\n",
        "train_regression(hi_gnn, train_loader, val_loader, learning_rate = 1e-03, min_lr = 1e-04, epochs = 250, wd = 1e-03)"
      ],
      "metadata": {
        "colab": {
          "base_uri": "https://localhost:8080/"
        },
        "id": "uIxkd5EL8cGp",
        "outputId": "c5ae5e45-dd0e-495c-f4a7-71efab01de01"
      },
      "execution_count": null,
      "outputs": [
        {
          "output_type": "stream",
          "name": "stderr",
          "text": [
            "100%|██████████| 29/29 [00:00<00:00, 36.04it/s]\n"
          ]
        },
        {
          "output_type": "stream",
          "name": "stdout",
          "text": [
            "Epochs: 1 | Train Loss:  25.534             | Val Loss:  8.352             | Train RMSE:  4.935             | Val RMSE:  2.881\n"
          ]
        },
        {
          "output_type": "stream",
          "name": "stderr",
          "text": [
            "100%|██████████| 29/29 [00:00<00:00, 35.81it/s]\n"
          ]
        },
        {
          "output_type": "stream",
          "name": "stdout",
          "text": [
            "Epochs: 2 | Train Loss:  8.989             | Val Loss:  4.708             | Train RMSE:  2.947             | Val RMSE:  2.139\n"
          ]
        },
        {
          "output_type": "stream",
          "name": "stderr",
          "text": [
            "100%|██████████| 29/29 [00:00<00:00, 36.03it/s]\n"
          ]
        },
        {
          "output_type": "stream",
          "name": "stdout",
          "text": [
            "Epochs: 3 | Train Loss:  6.561             | Val Loss:  4.064             | Train RMSE:  2.498             | Val RMSE:  2.000\n"
          ]
        },
        {
          "output_type": "stream",
          "name": "stderr",
          "text": [
            "100%|██████████| 29/29 [00:00<00:00, 35.93it/s]\n"
          ]
        },
        {
          "output_type": "stream",
          "name": "stdout",
          "text": [
            "Epochs: 4 | Train Loss:  3.238             | Val Loss:  2.770             | Train RMSE:  1.755             | Val RMSE:  1.646\n"
          ]
        },
        {
          "output_type": "stream",
          "name": "stderr",
          "text": [
            "100%|██████████| 29/29 [00:00<00:00, 35.80it/s]\n"
          ]
        },
        {
          "output_type": "stream",
          "name": "stdout",
          "text": [
            "Epochs: 5 | Train Loss:  2.124             | Val Loss:  1.757             | Train RMSE:  1.442             | Val RMSE:  1.319\n"
          ]
        },
        {
          "output_type": "stream",
          "name": "stderr",
          "text": [
            "100%|██████████| 29/29 [00:00<00:00, 35.86it/s]\n"
          ]
        },
        {
          "output_type": "stream",
          "name": "stdout",
          "text": [
            "Epochs: 6 | Train Loss:  1.962             | Val Loss:  1.563             | Train RMSE:  1.386             | Val RMSE:  1.244\n"
          ]
        },
        {
          "output_type": "stream",
          "name": "stderr",
          "text": [
            "100%|██████████| 29/29 [00:00<00:00, 35.88it/s]\n"
          ]
        },
        {
          "output_type": "stream",
          "name": "stdout",
          "text": [
            "Epochs: 7 | Train Loss:  1.634             | Val Loss:  1.305             | Train RMSE:  1.271             | Val RMSE:  1.130\n"
          ]
        },
        {
          "output_type": "stream",
          "name": "stderr",
          "text": [
            "100%|██████████| 29/29 [00:00<00:00, 35.98it/s]\n"
          ]
        },
        {
          "output_type": "stream",
          "name": "stdout",
          "text": [
            "Epochs: 8 | Train Loss:  1.485             | Val Loss:  1.249             | Train RMSE:  1.203             | Val RMSE:  1.102\n"
          ]
        },
        {
          "output_type": "stream",
          "name": "stderr",
          "text": [
            "100%|██████████| 29/29 [00:00<00:00, 36.54it/s]\n"
          ]
        },
        {
          "output_type": "stream",
          "name": "stdout",
          "text": [
            "Epochs: 9 | Train Loss:  1.297             | Val Loss:  1.154             | Train RMSE:  1.127             | Val RMSE:  1.063\n"
          ]
        },
        {
          "output_type": "stream",
          "name": "stderr",
          "text": [
            "100%|██████████| 29/29 [00:00<00:00, 36.55it/s]\n"
          ]
        },
        {
          "output_type": "stream",
          "name": "stdout",
          "text": [
            "Epochs: 10 | Train Loss:  1.206             | Val Loss:  1.155             | Train RMSE:  1.082             | Val RMSE:  1.068\n"
          ]
        },
        {
          "output_type": "stream",
          "name": "stderr",
          "text": [
            "100%|██████████| 29/29 [00:00<00:00, 36.58it/s]\n"
          ]
        },
        {
          "output_type": "stream",
          "name": "stdout",
          "text": [
            "Epochs: 11 | Train Loss:  1.051             | Val Loss:  0.876             | Train RMSE:  1.009             | Val RMSE:  0.927\n"
          ]
        },
        {
          "output_type": "stream",
          "name": "stderr",
          "text": [
            "100%|██████████| 29/29 [00:00<00:00, 36.67it/s]\n"
          ]
        },
        {
          "output_type": "stream",
          "name": "stdout",
          "text": [
            "Epochs: 12 | Train Loss:  1.104             | Val Loss:  0.917             | Train RMSE:  1.034             | Val RMSE:  0.951\n"
          ]
        },
        {
          "output_type": "stream",
          "name": "stderr",
          "text": [
            "100%|██████████| 29/29 [00:00<00:00, 36.71it/s]\n"
          ]
        },
        {
          "output_type": "stream",
          "name": "stdout",
          "text": [
            "Epochs: 13 | Train Loss:  0.994             | Val Loss:  0.905             | Train RMSE:  0.990             | Val RMSE:  0.936\n"
          ]
        },
        {
          "output_type": "stream",
          "name": "stderr",
          "text": [
            "100%|██████████| 29/29 [00:00<00:00, 36.34it/s]\n"
          ]
        },
        {
          "output_type": "stream",
          "name": "stdout",
          "text": [
            "Epochs: 14 | Train Loss:  0.954             | Val Loss:  0.766             | Train RMSE:  0.970             | Val RMSE:  0.868\n"
          ]
        },
        {
          "output_type": "stream",
          "name": "stderr",
          "text": [
            "100%|██████████| 29/29 [00:00<00:00, 36.57it/s]\n"
          ]
        },
        {
          "output_type": "stream",
          "name": "stdout",
          "text": [
            "Epochs: 15 | Train Loss:  0.948             | Val Loss:  0.926             | Train RMSE:  0.964             | Val RMSE:  0.937\n"
          ]
        },
        {
          "output_type": "stream",
          "name": "stderr",
          "text": [
            "100%|██████████| 29/29 [00:00<00:00, 36.76it/s]\n"
          ]
        },
        {
          "output_type": "stream",
          "name": "stdout",
          "text": [
            "Epochs: 16 | Train Loss:  0.995             | Val Loss:  0.950             | Train RMSE:  0.982             | Val RMSE:  0.960\n"
          ]
        },
        {
          "output_type": "stream",
          "name": "stderr",
          "text": [
            "100%|██████████| 29/29 [00:00<00:00, 36.43it/s]\n"
          ]
        },
        {
          "output_type": "stream",
          "name": "stdout",
          "text": [
            "Epochs: 17 | Train Loss:  0.905             | Val Loss:  0.848             | Train RMSE:  0.941             | Val RMSE:  0.906\n"
          ]
        },
        {
          "output_type": "stream",
          "name": "stderr",
          "text": [
            "100%|██████████| 29/29 [00:00<00:00, 36.60it/s]\n"
          ]
        },
        {
          "output_type": "stream",
          "name": "stdout",
          "text": [
            "Epochs: 18 | Train Loss:  0.826             | Val Loss:  0.767             | Train RMSE:  0.898             | Val RMSE:  0.875\n"
          ]
        },
        {
          "output_type": "stream",
          "name": "stderr",
          "text": [
            "100%|██████████| 29/29 [00:00<00:00, 36.39it/s]\n"
          ]
        },
        {
          "output_type": "stream",
          "name": "stdout",
          "text": [
            "Epochs: 19 | Train Loss:  0.828             | Val Loss:  0.872             | Train RMSE:  0.901             | Val RMSE:  0.932\n"
          ]
        },
        {
          "output_type": "stream",
          "name": "stderr",
          "text": [
            "100%|██████████| 29/29 [00:00<00:00, 36.28it/s]\n"
          ]
        },
        {
          "output_type": "stream",
          "name": "stdout",
          "text": [
            "Epochs: 20 | Train Loss:  0.811             | Val Loss:  0.675             | Train RMSE:  0.892             | Val RMSE:  0.821\n"
          ]
        },
        {
          "output_type": "stream",
          "name": "stderr",
          "text": [
            "100%|██████████| 29/29 [00:00<00:00, 36.62it/s]\n"
          ]
        },
        {
          "output_type": "stream",
          "name": "stdout",
          "text": [
            "Epochs: 21 | Train Loss:  0.772             | Val Loss:  0.918             | Train RMSE:  0.869             | Val RMSE:  0.942\n"
          ]
        },
        {
          "output_type": "stream",
          "name": "stderr",
          "text": [
            "100%|██████████| 29/29 [00:00<00:00, 36.57it/s]\n"
          ]
        },
        {
          "output_type": "stream",
          "name": "stdout",
          "text": [
            "Epochs: 22 | Train Loss:  0.749             | Val Loss:  0.792             | Train RMSE:  0.857             | Val RMSE:  0.851\n"
          ]
        },
        {
          "output_type": "stream",
          "name": "stderr",
          "text": [
            "100%|██████████| 29/29 [00:00<00:00, 36.89it/s]\n"
          ]
        },
        {
          "output_type": "stream",
          "name": "stdout",
          "text": [
            "Epochs: 23 | Train Loss:  0.711             | Val Loss:  0.716             | Train RMSE:  0.831             | Val RMSE:  0.841\n"
          ]
        },
        {
          "output_type": "stream",
          "name": "stderr",
          "text": [
            "100%|██████████| 29/29 [00:00<00:00, 36.60it/s]\n"
          ]
        },
        {
          "output_type": "stream",
          "name": "stdout",
          "text": [
            "Epochs: 24 | Train Loss:  0.734             | Val Loss:  0.708             | Train RMSE:  0.846             | Val RMSE:  0.841\n"
          ]
        },
        {
          "output_type": "stream",
          "name": "stderr",
          "text": [
            "100%|██████████| 29/29 [00:00<00:00, 36.55it/s]\n"
          ]
        },
        {
          "output_type": "stream",
          "name": "stdout",
          "text": [
            "Epochs: 25 | Train Loss:  0.756             | Val Loss:  0.636             | Train RMSE:  0.859             | Val RMSE:  0.792\n"
          ]
        },
        {
          "output_type": "stream",
          "name": "stderr",
          "text": [
            "100%|██████████| 29/29 [00:00<00:00, 36.56it/s]\n"
          ]
        },
        {
          "output_type": "stream",
          "name": "stdout",
          "text": [
            "Epochs: 26 | Train Loss:  0.700             | Val Loss:  0.667             | Train RMSE:  0.828             | Val RMSE:  0.804\n"
          ]
        },
        {
          "output_type": "stream",
          "name": "stderr",
          "text": [
            "100%|██████████| 29/29 [00:00<00:00, 36.58it/s]\n"
          ]
        },
        {
          "output_type": "stream",
          "name": "stdout",
          "text": [
            "Epochs: 27 | Train Loss:  0.718             | Val Loss:  0.715             | Train RMSE:  0.834             | Val RMSE:  0.835\n"
          ]
        },
        {
          "output_type": "stream",
          "name": "stderr",
          "text": [
            "100%|██████████| 29/29 [00:00<00:00, 36.90it/s]\n"
          ]
        },
        {
          "output_type": "stream",
          "name": "stdout",
          "text": [
            "Epochs: 28 | Train Loss:  0.632             | Val Loss:  0.546             | Train RMSE:  0.786             | Val RMSE:  0.726\n"
          ]
        },
        {
          "output_type": "stream",
          "name": "stderr",
          "text": [
            "100%|██████████| 29/29 [00:00<00:00, 36.51it/s]\n"
          ]
        },
        {
          "output_type": "stream",
          "name": "stdout",
          "text": [
            "Epochs: 29 | Train Loss:  0.621             | Val Loss:  0.572             | Train RMSE:  0.781             | Val RMSE:  0.749\n"
          ]
        },
        {
          "output_type": "stream",
          "name": "stderr",
          "text": [
            "100%|██████████| 29/29 [00:00<00:00, 36.57it/s]\n"
          ]
        },
        {
          "output_type": "stream",
          "name": "stdout",
          "text": [
            "Epochs: 30 | Train Loss:  0.674             | Val Loss:  0.589             | Train RMSE:  0.810             | Val RMSE:  0.762\n"
          ]
        },
        {
          "output_type": "stream",
          "name": "stderr",
          "text": [
            "100%|██████████| 29/29 [00:00<00:00, 36.81it/s]\n"
          ]
        },
        {
          "output_type": "stream",
          "name": "stdout",
          "text": [
            "Epochs: 31 | Train Loss:  0.603             | Val Loss:  0.584             | Train RMSE:  0.770             | Val RMSE:  0.757\n"
          ]
        },
        {
          "output_type": "stream",
          "name": "stderr",
          "text": [
            "100%|██████████| 29/29 [00:00<00:00, 36.95it/s]\n"
          ]
        },
        {
          "output_type": "stream",
          "name": "stdout",
          "text": [
            "Epochs: 32 | Train Loss:  0.627             | Val Loss:  0.680             | Train RMSE:  0.782             | Val RMSE:  0.818\n"
          ]
        },
        {
          "output_type": "stream",
          "name": "stderr",
          "text": [
            "100%|██████████| 29/29 [00:00<00:00, 36.78it/s]\n"
          ]
        },
        {
          "output_type": "stream",
          "name": "stdout",
          "text": [
            "Epochs: 33 | Train Loss:  0.632             | Val Loss:  0.444             | Train RMSE:  0.786             | Val RMSE:  0.644\n"
          ]
        },
        {
          "output_type": "stream",
          "name": "stderr",
          "text": [
            "100%|██████████| 29/29 [00:00<00:00, 36.78it/s]\n"
          ]
        },
        {
          "output_type": "stream",
          "name": "stdout",
          "text": [
            "Epochs: 34 | Train Loss:  0.665             | Val Loss:  0.581             | Train RMSE:  0.805             | Val RMSE:  0.751\n"
          ]
        },
        {
          "output_type": "stream",
          "name": "stderr",
          "text": [
            "100%|██████████| 29/29 [00:00<00:00, 36.85it/s]\n"
          ]
        },
        {
          "output_type": "stream",
          "name": "stdout",
          "text": [
            "Epochs: 35 | Train Loss:  0.630             | Val Loss:  0.600             | Train RMSE:  0.781             | Val RMSE:  0.757\n"
          ]
        },
        {
          "output_type": "stream",
          "name": "stderr",
          "text": [
            "100%|██████████| 29/29 [00:00<00:00, 36.74it/s]\n"
          ]
        },
        {
          "output_type": "stream",
          "name": "stdout",
          "text": [
            "Epochs: 36 | Train Loss:  0.640             | Val Loss:  0.454             | Train RMSE:  0.791             | Val RMSE:  0.663\n"
          ]
        },
        {
          "output_type": "stream",
          "name": "stderr",
          "text": [
            "100%|██████████| 29/29 [00:00<00:00, 36.79it/s]\n"
          ]
        },
        {
          "output_type": "stream",
          "name": "stdout",
          "text": [
            "Epochs: 37 | Train Loss:  0.614             | Val Loss:  0.745             | Train RMSE:  0.774             | Val RMSE:  0.850\n"
          ]
        },
        {
          "output_type": "stream",
          "name": "stderr",
          "text": [
            "100%|██████████| 29/29 [00:00<00:00, 36.82it/s]\n"
          ]
        },
        {
          "output_type": "stream",
          "name": "stdout",
          "text": [
            "Epochs: 38 | Train Loss:  0.579             | Val Loss:  0.678             | Train RMSE:  0.751             | Val RMSE:  0.802\n"
          ]
        },
        {
          "output_type": "stream",
          "name": "stderr",
          "text": [
            "100%|██████████| 29/29 [00:00<00:00, 36.77it/s]\n"
          ]
        },
        {
          "output_type": "stream",
          "name": "stdout",
          "text": [
            "Epochs: 39 | Train Loss:  0.578             | Val Loss:  0.526             | Train RMSE:  0.753             | Val RMSE:  0.710\n"
          ]
        },
        {
          "output_type": "stream",
          "name": "stderr",
          "text": [
            "100%|██████████| 29/29 [00:00<00:00, 36.66it/s]\n"
          ]
        },
        {
          "output_type": "stream",
          "name": "stdout",
          "text": [
            "Epochs: 40 | Train Loss:  0.587             | Val Loss:  0.634             | Train RMSE:  0.760             | Val RMSE:  0.777\n"
          ]
        },
        {
          "output_type": "stream",
          "name": "stderr",
          "text": [
            "100%|██████████| 29/29 [00:00<00:00, 36.70it/s]\n"
          ]
        },
        {
          "output_type": "stream",
          "name": "stdout",
          "text": [
            "Epochs: 41 | Train Loss:  0.549             | Val Loss:  0.566             | Train RMSE:  0.730             | Val RMSE:  0.741\n"
          ]
        },
        {
          "output_type": "stream",
          "name": "stderr",
          "text": [
            "100%|██████████| 29/29 [00:00<00:00, 36.76it/s]\n"
          ]
        },
        {
          "output_type": "stream",
          "name": "stdout",
          "text": [
            "Epochs: 42 | Train Loss:  0.556             | Val Loss:  0.603             | Train RMSE:  0.739             | Val RMSE:  0.764\n"
          ]
        },
        {
          "output_type": "stream",
          "name": "stderr",
          "text": [
            "100%|██████████| 29/29 [00:00<00:00, 36.78it/s]\n"
          ]
        },
        {
          "output_type": "stream",
          "name": "stdout",
          "text": [
            "Epochs: 43 | Train Loss:  0.584             | Val Loss:  0.639             | Train RMSE:  0.757             | Val RMSE:  0.797\n"
          ]
        },
        {
          "output_type": "stream",
          "name": "stderr",
          "text": [
            "100%|██████████| 29/29 [00:00<00:00, 36.59it/s]\n"
          ]
        },
        {
          "output_type": "stream",
          "name": "stdout",
          "text": [
            "Epochs: 44 | Train Loss:  0.622             | Val Loss:  0.683             | Train RMSE:  0.782             | Val RMSE:  0.820\n"
          ]
        },
        {
          "output_type": "stream",
          "name": "stderr",
          "text": [
            "100%|██████████| 29/29 [00:00<00:00, 36.78it/s]\n"
          ]
        },
        {
          "output_type": "stream",
          "name": "stdout",
          "text": [
            "Epochs: 45 | Train Loss:  0.588             | Val Loss:  0.616             | Train RMSE:  0.756             | Val RMSE:  0.769\n"
          ]
        },
        {
          "output_type": "stream",
          "name": "stderr",
          "text": [
            "100%|██████████| 29/29 [00:00<00:00, 36.79it/s]\n"
          ]
        },
        {
          "output_type": "stream",
          "name": "stdout",
          "text": [
            "Epochs: 46 | Train Loss:  0.587             | Val Loss:  0.543             | Train RMSE:  0.758             | Val RMSE:  0.735\n"
          ]
        },
        {
          "output_type": "stream",
          "name": "stderr",
          "text": [
            "100%|██████████| 29/29 [00:00<00:00, 36.91it/s]\n"
          ]
        },
        {
          "output_type": "stream",
          "name": "stdout",
          "text": [
            "Epochs: 47 | Train Loss:  0.596             | Val Loss:  0.479             | Train RMSE:  0.758             | Val RMSE:  0.673\n"
          ]
        },
        {
          "output_type": "stream",
          "name": "stderr",
          "text": [
            "100%|██████████| 29/29 [00:00<00:00, 36.96it/s]\n"
          ]
        },
        {
          "output_type": "stream",
          "name": "stdout",
          "text": [
            "Epochs: 48 | Train Loss:  0.576             | Val Loss:  0.590             | Train RMSE:  0.750             | Val RMSE:  0.767\n"
          ]
        },
        {
          "output_type": "stream",
          "name": "stderr",
          "text": [
            "100%|██████████| 29/29 [00:00<00:00, 36.75it/s]\n"
          ]
        },
        {
          "output_type": "stream",
          "name": "stdout",
          "text": [
            "Epochs: 49 | Train Loss:  0.583             | Val Loss:  0.708             | Train RMSE:  0.754             | Val RMSE:  0.833\n"
          ]
        },
        {
          "output_type": "stream",
          "name": "stderr",
          "text": [
            "100%|██████████| 29/29 [00:00<00:00, 36.80it/s]\n"
          ]
        },
        {
          "output_type": "stream",
          "name": "stdout",
          "text": [
            "Epochs: 50 | Train Loss:  0.609             | Val Loss:  0.566             | Train RMSE:  0.772             | Val RMSE:  0.746\n"
          ]
        },
        {
          "output_type": "stream",
          "name": "stderr",
          "text": [
            "100%|██████████| 29/29 [00:00<00:00, 36.79it/s]\n"
          ]
        },
        {
          "output_type": "stream",
          "name": "stdout",
          "text": [
            "Epochs: 51 | Train Loss:  0.580             | Val Loss:  0.561             | Train RMSE:  0.753             | Val RMSE:  0.743\n"
          ]
        },
        {
          "output_type": "stream",
          "name": "stderr",
          "text": [
            "100%|██████████| 29/29 [00:00<00:00, 36.67it/s]\n"
          ]
        },
        {
          "output_type": "stream",
          "name": "stdout",
          "text": [
            "Epochs: 52 | Train Loss:  0.544             | Val Loss:  0.515             | Train RMSE:  0.731             | Val RMSE:  0.703\n"
          ]
        },
        {
          "output_type": "stream",
          "name": "stderr",
          "text": [
            "100%|██████████| 29/29 [00:00<00:00, 36.84it/s]\n"
          ]
        },
        {
          "output_type": "stream",
          "name": "stdout",
          "text": [
            "Epochs: 53 | Train Loss:  0.537             | Val Loss:  0.556             | Train RMSE:  0.726             | Val RMSE:  0.744\n"
          ]
        },
        {
          "output_type": "stream",
          "name": "stderr",
          "text": [
            "100%|██████████| 29/29 [00:00<00:00, 36.96it/s]\n"
          ]
        },
        {
          "output_type": "stream",
          "name": "stdout",
          "text": [
            "Epochs: 54 | Train Loss:  0.538             | Val Loss:  0.631             | Train RMSE:  0.719             | Val RMSE:  0.790\n"
          ]
        },
        {
          "output_type": "stream",
          "name": "stderr",
          "text": [
            "100%|██████████| 29/29 [00:00<00:00, 36.60it/s]\n"
          ]
        },
        {
          "output_type": "stream",
          "name": "stdout",
          "text": [
            "Epochs: 55 | Train Loss:  0.582             | Val Loss:  0.634             | Train RMSE:  0.756             | Val RMSE:  0.792\n"
          ]
        },
        {
          "output_type": "stream",
          "name": "stderr",
          "text": [
            "100%|██████████| 29/29 [00:00<00:00, 36.73it/s]\n"
          ]
        },
        {
          "output_type": "stream",
          "name": "stdout",
          "text": [
            "Epochs: 56 | Train Loss:  0.590             | Val Loss:  0.641             | Train RMSE:  0.761             | Val RMSE:  0.799\n"
          ]
        },
        {
          "output_type": "stream",
          "name": "stderr",
          "text": [
            "100%|██████████| 29/29 [00:00<00:00, 36.58it/s]\n"
          ]
        },
        {
          "output_type": "stream",
          "name": "stdout",
          "text": [
            "Epochs: 57 | Train Loss:  0.560             | Val Loss:  0.576             | Train RMSE:  0.742             | Val RMSE:  0.756\n"
          ]
        },
        {
          "output_type": "stream",
          "name": "stderr",
          "text": [
            "100%|██████████| 29/29 [00:00<00:00, 36.68it/s]\n"
          ]
        },
        {
          "output_type": "stream",
          "name": "stdout",
          "text": [
            "Epochs: 58 | Train Loss:  0.586             | Val Loss:  0.524             | Train RMSE:  0.758             | Val RMSE:  0.710\n"
          ]
        },
        {
          "output_type": "stream",
          "name": "stderr",
          "text": [
            "100%|██████████| 29/29 [00:00<00:00, 36.63it/s]\n"
          ]
        },
        {
          "output_type": "stream",
          "name": "stdout",
          "text": [
            "Epochs: 59 | Train Loss:  0.584             | Val Loss:  0.711             | Train RMSE:  0.755             | Val RMSE:  0.840\n"
          ]
        },
        {
          "output_type": "stream",
          "name": "stderr",
          "text": [
            "100%|██████████| 29/29 [00:00<00:00, 36.79it/s]\n"
          ]
        },
        {
          "output_type": "stream",
          "name": "stdout",
          "text": [
            "Epochs: 60 | Train Loss:  0.578             | Val Loss:  0.547             | Train RMSE:  0.754             | Val RMSE:  0.727\n"
          ]
        },
        {
          "output_type": "stream",
          "name": "stderr",
          "text": [
            "100%|██████████| 29/29 [00:00<00:00, 36.81it/s]\n"
          ]
        },
        {
          "output_type": "stream",
          "name": "stdout",
          "text": [
            "Epochs: 61 | Train Loss:  0.542             | Val Loss:  0.553             | Train RMSE:  0.729             | Val RMSE:  0.740\n"
          ]
        },
        {
          "output_type": "stream",
          "name": "stderr",
          "text": [
            "100%|██████████| 29/29 [00:00<00:00, 36.72it/s]\n"
          ]
        },
        {
          "output_type": "stream",
          "name": "stdout",
          "text": [
            "Epochs: 62 | Train Loss:  0.553             | Val Loss:  0.609             | Train RMSE:  0.737             | Val RMSE:  0.776\n"
          ]
        },
        {
          "output_type": "stream",
          "name": "stderr",
          "text": [
            "100%|██████████| 29/29 [00:00<00:00, 36.77it/s]\n"
          ]
        },
        {
          "output_type": "stream",
          "name": "stdout",
          "text": [
            "Epochs: 63 | Train Loss:  0.551             | Val Loss:  0.614             | Train RMSE:  0.736             | Val RMSE:  0.772\n"
          ]
        },
        {
          "output_type": "stream",
          "name": "stderr",
          "text": [
            "100%|██████████| 29/29 [00:00<00:00, 36.78it/s]\n"
          ]
        },
        {
          "output_type": "stream",
          "name": "stdout",
          "text": [
            "Epochs: 64 | Train Loss:  0.568             | Val Loss:  0.493             | Train RMSE:  0.748             | Val RMSE:  0.696\n"
          ]
        },
        {
          "output_type": "stream",
          "name": "stderr",
          "text": [
            "100%|██████████| 29/29 [00:00<00:00, 36.84it/s]\n"
          ]
        },
        {
          "output_type": "stream",
          "name": "stdout",
          "text": [
            "Epochs: 65 | Train Loss:  0.550             | Val Loss:  0.656             | Train RMSE:  0.736             | Val RMSE:  0.801\n"
          ]
        },
        {
          "output_type": "stream",
          "name": "stderr",
          "text": [
            "100%|██████████| 29/29 [00:00<00:00, 36.78it/s]\n"
          ]
        },
        {
          "output_type": "stream",
          "name": "stdout",
          "text": [
            "Epochs: 66 | Train Loss:  0.531             | Val Loss:  0.520             | Train RMSE:  0.717             | Val RMSE:  0.711\n"
          ]
        },
        {
          "output_type": "stream",
          "name": "stderr",
          "text": [
            "100%|██████████| 29/29 [00:00<00:00, 37.05it/s]\n"
          ]
        },
        {
          "output_type": "stream",
          "name": "stdout",
          "text": [
            "Epochs: 67 | Train Loss:  0.575             | Val Loss:  0.510             | Train RMSE:  0.749             | Val RMSE:  0.703\n"
          ]
        },
        {
          "output_type": "stream",
          "name": "stderr",
          "text": [
            "100%|██████████| 29/29 [00:00<00:00, 36.83it/s]\n"
          ]
        },
        {
          "output_type": "stream",
          "name": "stdout",
          "text": [
            "Epochs: 68 | Train Loss:  0.543             | Val Loss:  0.609             | Train RMSE:  0.727             | Val RMSE:  0.765\n"
          ]
        },
        {
          "output_type": "stream",
          "name": "stderr",
          "text": [
            "100%|██████████| 29/29 [00:00<00:00, 36.57it/s]\n"
          ]
        },
        {
          "output_type": "stream",
          "name": "stdout",
          "text": [
            "Epochs: 69 | Train Loss:  0.567             | Val Loss:  0.603             | Train RMSE:  0.745             | Val RMSE:  0.759\n"
          ]
        },
        {
          "output_type": "stream",
          "name": "stderr",
          "text": [
            "100%|██████████| 29/29 [00:00<00:00, 36.44it/s]\n"
          ]
        },
        {
          "output_type": "stream",
          "name": "stdout",
          "text": [
            "Epochs: 70 | Train Loss:  0.556             | Val Loss:  0.518             | Train RMSE:  0.738             | Val RMSE:  0.716\n"
          ]
        },
        {
          "output_type": "stream",
          "name": "stderr",
          "text": [
            "100%|██████████| 29/29 [00:00<00:00, 36.00it/s]\n"
          ]
        },
        {
          "output_type": "stream",
          "name": "stdout",
          "text": [
            "Epochs: 71 | Train Loss:  0.546             | Val Loss:  0.550             | Train RMSE:  0.730             | Val RMSE:  0.730\n"
          ]
        },
        {
          "output_type": "stream",
          "name": "stderr",
          "text": [
            "100%|██████████| 29/29 [00:00<00:00, 35.60it/s]\n"
          ]
        },
        {
          "output_type": "stream",
          "name": "stdout",
          "text": [
            "Epochs: 72 | Train Loss:  0.548             | Val Loss:  0.510             | Train RMSE:  0.731             | Val RMSE:  0.707\n"
          ]
        },
        {
          "output_type": "stream",
          "name": "stderr",
          "text": [
            "100%|██████████| 29/29 [00:00<00:00, 35.82it/s]\n"
          ]
        },
        {
          "output_type": "stream",
          "name": "stdout",
          "text": [
            "Epochs: 73 | Train Loss:  0.563             | Val Loss:  0.456             | Train RMSE:  0.741             | Val RMSE:  0.658\n"
          ]
        },
        {
          "output_type": "stream",
          "name": "stderr",
          "text": [
            "100%|██████████| 29/29 [00:00<00:00, 35.86it/s]\n"
          ]
        },
        {
          "output_type": "stream",
          "name": "stdout",
          "text": [
            "Epochs: 74 | Train Loss:  0.560             | Val Loss:  0.591             | Train RMSE:  0.740             | Val RMSE:  0.763\n"
          ]
        },
        {
          "output_type": "stream",
          "name": "stderr",
          "text": [
            "100%|██████████| 29/29 [00:00<00:00, 35.99it/s]\n"
          ]
        },
        {
          "output_type": "stream",
          "name": "stdout",
          "text": [
            "Epochs: 75 | Train Loss:  0.534             | Val Loss:  0.521             | Train RMSE:  0.723             | Val RMSE:  0.716\n"
          ]
        },
        {
          "output_type": "stream",
          "name": "stderr",
          "text": [
            "100%|██████████| 29/29 [00:00<00:00, 35.99it/s]\n"
          ]
        },
        {
          "output_type": "stream",
          "name": "stdout",
          "text": [
            "Epochs: 76 | Train Loss:  0.517             | Val Loss:  0.403             | Train RMSE:  0.708             | Val RMSE:  0.631\n"
          ]
        },
        {
          "output_type": "stream",
          "name": "stderr",
          "text": [
            "100%|██████████| 29/29 [00:00<00:00, 36.16it/s]\n"
          ]
        },
        {
          "output_type": "stream",
          "name": "stdout",
          "text": [
            "Epochs: 77 | Train Loss:  0.521             | Val Loss:  0.635             | Train RMSE:  0.715             | Val RMSE:  0.794\n"
          ]
        },
        {
          "output_type": "stream",
          "name": "stderr",
          "text": [
            "100%|██████████| 29/29 [00:00<00:00, 35.88it/s]\n"
          ]
        },
        {
          "output_type": "stream",
          "name": "stdout",
          "text": [
            "Epochs: 78 | Train Loss:  0.542             | Val Loss:  0.590             | Train RMSE:  0.728             | Val RMSE:  0.767\n"
          ]
        },
        {
          "output_type": "stream",
          "name": "stderr",
          "text": [
            "100%|██████████| 29/29 [00:00<00:00, 35.87it/s]\n"
          ]
        },
        {
          "output_type": "stream",
          "name": "stdout",
          "text": [
            "Epochs: 79 | Train Loss:  0.498             | Val Loss:  0.624             | Train RMSE:  0.699             | Val RMSE:  0.782\n"
          ]
        },
        {
          "output_type": "stream",
          "name": "stderr",
          "text": [
            "100%|██████████| 29/29 [00:00<00:00, 35.97it/s]\n"
          ]
        },
        {
          "output_type": "stream",
          "name": "stdout",
          "text": [
            "Epochs: 80 | Train Loss:  0.563             | Val Loss:  0.607             | Train RMSE:  0.743             | Val RMSE:  0.771\n"
          ]
        },
        {
          "output_type": "stream",
          "name": "stderr",
          "text": [
            "100%|██████████| 29/29 [00:00<00:00, 36.21it/s]\n"
          ]
        },
        {
          "output_type": "stream",
          "name": "stdout",
          "text": [
            "Epochs: 81 | Train Loss:  0.557             | Val Loss:  0.539             | Train RMSE:  0.741             | Val RMSE:  0.723\n"
          ]
        },
        {
          "output_type": "stream",
          "name": "stderr",
          "text": [
            "100%|██████████| 29/29 [00:00<00:00, 36.84it/s]\n"
          ]
        },
        {
          "output_type": "stream",
          "name": "stdout",
          "text": [
            "Epochs: 82 | Train Loss:  0.524             | Val Loss:  0.643             | Train RMSE:  0.718             | Val RMSE:  0.800\n"
          ]
        },
        {
          "output_type": "stream",
          "name": "stderr",
          "text": [
            "100%|██████████| 29/29 [00:00<00:00, 36.73it/s]\n"
          ]
        },
        {
          "output_type": "stream",
          "name": "stdout",
          "text": [
            "Epochs: 83 | Train Loss:  0.506             | Val Loss:  0.679             | Train RMSE:  0.704             | Val RMSE:  0.823\n"
          ]
        },
        {
          "output_type": "stream",
          "name": "stderr",
          "text": [
            "100%|██████████| 29/29 [00:00<00:00, 36.97it/s]\n"
          ]
        },
        {
          "output_type": "stream",
          "name": "stdout",
          "text": [
            "Epochs: 84 | Train Loss:  0.537             | Val Loss:  0.408             | Train RMSE:  0.728             | Val RMSE:  0.632\n"
          ]
        },
        {
          "output_type": "stream",
          "name": "stderr",
          "text": [
            "100%|██████████| 29/29 [00:00<00:00, 36.79it/s]\n"
          ]
        },
        {
          "output_type": "stream",
          "name": "stdout",
          "text": [
            "Epochs: 85 | Train Loss:  0.574             | Val Loss:  0.538             | Train RMSE:  0.745             | Val RMSE:  0.724\n"
          ]
        },
        {
          "output_type": "stream",
          "name": "stderr",
          "text": [
            "100%|██████████| 29/29 [00:00<00:00, 36.94it/s]\n"
          ]
        },
        {
          "output_type": "stream",
          "name": "stdout",
          "text": [
            "Epochs: 86 | Train Loss:  0.515             | Val Loss:  0.471             | Train RMSE:  0.710             | Val RMSE:  0.668\n"
          ]
        },
        {
          "output_type": "stream",
          "name": "stderr",
          "text": [
            "100%|██████████| 29/29 [00:00<00:00, 36.68it/s]\n"
          ]
        },
        {
          "output_type": "stream",
          "name": "stdout",
          "text": [
            "Epochs: 87 | Train Loss:  0.574             | Val Loss:  0.486             | Train RMSE:  0.745             | Val RMSE:  0.695\n"
          ]
        },
        {
          "output_type": "stream",
          "name": "stderr",
          "text": [
            "100%|██████████| 29/29 [00:00<00:00, 36.59it/s]\n"
          ]
        },
        {
          "output_type": "stream",
          "name": "stdout",
          "text": [
            "Epochs: 88 | Train Loss:  0.501             | Val Loss:  0.479             | Train RMSE:  0.699             | Val RMSE:  0.685\n"
          ]
        },
        {
          "output_type": "stream",
          "name": "stderr",
          "text": [
            "100%|██████████| 29/29 [00:00<00:00, 36.66it/s]\n"
          ]
        },
        {
          "output_type": "stream",
          "name": "stdout",
          "text": [
            "Epochs: 89 | Train Loss:  0.517             | Val Loss:  0.590             | Train RMSE:  0.712             | Val RMSE:  0.750\n"
          ]
        },
        {
          "output_type": "stream",
          "name": "stderr",
          "text": [
            "100%|██████████| 29/29 [00:00<00:00, 36.86it/s]\n"
          ]
        },
        {
          "output_type": "stream",
          "name": "stdout",
          "text": [
            "Epochs: 90 | Train Loss:  0.559             | Val Loss:  0.539             | Train RMSE:  0.738             | Val RMSE:  0.721\n"
          ]
        },
        {
          "output_type": "stream",
          "name": "stderr",
          "text": [
            "100%|██████████| 29/29 [00:00<00:00, 36.90it/s]\n"
          ]
        },
        {
          "output_type": "stream",
          "name": "stdout",
          "text": [
            "Epochs: 91 | Train Loss:  0.546             | Val Loss:  0.494             | Train RMSE:  0.729             | Val RMSE:  0.689\n"
          ]
        },
        {
          "output_type": "stream",
          "name": "stderr",
          "text": [
            "100%|██████████| 29/29 [00:00<00:00, 36.87it/s]\n"
          ]
        },
        {
          "output_type": "stream",
          "name": "stdout",
          "text": [
            "Epochs: 92 | Train Loss:  0.476             | Val Loss:  0.485             | Train RMSE:  0.679             | Val RMSE:  0.680\n"
          ]
        },
        {
          "output_type": "stream",
          "name": "stderr",
          "text": [
            "100%|██████████| 29/29 [00:00<00:00, 36.80it/s]\n"
          ]
        },
        {
          "output_type": "stream",
          "name": "stdout",
          "text": [
            "Epochs: 93 | Train Loss:  0.497             | Val Loss:  0.603             | Train RMSE:  0.699             | Val RMSE:  0.775\n"
          ]
        },
        {
          "output_type": "stream",
          "name": "stderr",
          "text": [
            "100%|██████████| 29/29 [00:00<00:00, 36.90it/s]\n"
          ]
        },
        {
          "output_type": "stream",
          "name": "stdout",
          "text": [
            "Epochs: 94 | Train Loss:  0.503             | Val Loss:  0.527             | Train RMSE:  0.702             | Val RMSE:  0.719\n"
          ]
        },
        {
          "output_type": "stream",
          "name": "stderr",
          "text": [
            "100%|██████████| 29/29 [00:00<00:00, 36.75it/s]\n"
          ]
        },
        {
          "output_type": "stream",
          "name": "stdout",
          "text": [
            "Epochs: 95 | Train Loss:  0.520             | Val Loss:  0.546             | Train RMSE:  0.714             | Val RMSE:  0.738\n"
          ]
        },
        {
          "output_type": "stream",
          "name": "stderr",
          "text": [
            "100%|██████████| 29/29 [00:00<00:00, 36.93it/s]\n"
          ]
        },
        {
          "output_type": "stream",
          "name": "stdout",
          "text": [
            "Epochs: 96 | Train Loss:  0.469             | Val Loss:  0.393             | Train RMSE:  0.679             | Val RMSE:  0.621\n"
          ]
        },
        {
          "output_type": "stream",
          "name": "stderr",
          "text": [
            "100%|██████████| 29/29 [00:00<00:00, 36.65it/s]\n"
          ]
        },
        {
          "output_type": "stream",
          "name": "stdout",
          "text": [
            "Epochs: 97 | Train Loss:  0.504             | Val Loss:  0.538             | Train RMSE:  0.704             | Val RMSE:  0.726\n"
          ]
        },
        {
          "output_type": "stream",
          "name": "stderr",
          "text": [
            "100%|██████████| 29/29 [00:00<00:00, 36.60it/s]\n"
          ]
        },
        {
          "output_type": "stream",
          "name": "stdout",
          "text": [
            "Epochs: 98 | Train Loss:  0.495             | Val Loss:  0.567             | Train RMSE:  0.694             | Val RMSE:  0.741\n"
          ]
        },
        {
          "output_type": "stream",
          "name": "stderr",
          "text": [
            "100%|██████████| 29/29 [00:00<00:00, 36.69it/s]\n"
          ]
        },
        {
          "output_type": "stream",
          "name": "stdout",
          "text": [
            "Epochs: 99 | Train Loss:  0.510             | Val Loss:  0.464             | Train RMSE:  0.705             | Val RMSE:  0.674\n"
          ]
        },
        {
          "output_type": "stream",
          "name": "stderr",
          "text": [
            "100%|██████████| 29/29 [00:00<00:00, 36.92it/s]\n"
          ]
        },
        {
          "output_type": "stream",
          "name": "stdout",
          "text": [
            "Epochs: 100 | Train Loss:  0.553             | Val Loss:  0.533             | Train RMSE:  0.737             | Val RMSE:  0.723\n"
          ]
        },
        {
          "output_type": "stream",
          "name": "stderr",
          "text": [
            "100%|██████████| 29/29 [00:00<00:00, 37.19it/s]\n"
          ]
        },
        {
          "output_type": "stream",
          "name": "stdout",
          "text": [
            "Epochs: 101 | Train Loss:  0.540             | Val Loss:  0.422             | Train RMSE:  0.724             | Val RMSE:  0.635\n"
          ]
        },
        {
          "output_type": "stream",
          "name": "stderr",
          "text": [
            "100%|██████████| 29/29 [00:00<00:00, 36.96it/s]\n"
          ]
        },
        {
          "output_type": "stream",
          "name": "stdout",
          "text": [
            "Epochs: 102 | Train Loss:  0.490             | Val Loss:  0.490             | Train RMSE:  0.693             | Val RMSE:  0.696\n"
          ]
        },
        {
          "output_type": "stream",
          "name": "stderr",
          "text": [
            "100%|██████████| 29/29 [00:00<00:00, 36.76it/s]\n"
          ]
        },
        {
          "output_type": "stream",
          "name": "stdout",
          "text": [
            "Epochs: 103 | Train Loss:  0.477             | Val Loss:  0.545             | Train RMSE:  0.686             | Val RMSE:  0.737\n"
          ]
        },
        {
          "output_type": "stream",
          "name": "stderr",
          "text": [
            "100%|██████████| 29/29 [00:00<00:00, 36.54it/s]\n"
          ]
        },
        {
          "output_type": "stream",
          "name": "stdout",
          "text": [
            "Epochs: 104 | Train Loss:  0.490             | Val Loss:  0.458             | Train RMSE:  0.694             | Val RMSE:  0.675\n"
          ]
        },
        {
          "output_type": "stream",
          "name": "stderr",
          "text": [
            "100%|██████████| 29/29 [00:00<00:00, 36.50it/s]\n"
          ]
        },
        {
          "output_type": "stream",
          "name": "stdout",
          "text": [
            "Epochs: 105 | Train Loss:  0.479             | Val Loss:  0.534             | Train RMSE:  0.686             | Val RMSE:  0.724\n"
          ]
        },
        {
          "output_type": "stream",
          "name": "stderr",
          "text": [
            "100%|██████████| 29/29 [00:00<00:00, 36.78it/s]\n"
          ]
        },
        {
          "output_type": "stream",
          "name": "stdout",
          "text": [
            "Epochs: 106 | Train Loss:  0.505             | Val Loss:  0.503             | Train RMSE:  0.700             | Val RMSE:  0.695\n"
          ]
        },
        {
          "output_type": "stream",
          "name": "stderr",
          "text": [
            "100%|██████████| 29/29 [00:00<00:00, 36.16it/s]\n"
          ]
        },
        {
          "output_type": "stream",
          "name": "stdout",
          "text": [
            "Epochs: 107 | Train Loss:  0.495             | Val Loss:  0.413             | Train RMSE:  0.693             | Val RMSE:  0.629\n"
          ]
        },
        {
          "output_type": "stream",
          "name": "stderr",
          "text": [
            "100%|██████████| 29/29 [00:00<00:00, 36.88it/s]\n"
          ]
        },
        {
          "output_type": "stream",
          "name": "stdout",
          "text": [
            "Epochs: 108 | Train Loss:  0.484             | Val Loss:  0.439             | Train RMSE:  0.683             | Val RMSE:  0.660\n"
          ]
        },
        {
          "output_type": "stream",
          "name": "stderr",
          "text": [
            "100%|██████████| 29/29 [00:00<00:00, 37.02it/s]\n"
          ]
        },
        {
          "output_type": "stream",
          "name": "stdout",
          "text": [
            "Epochs: 109 | Train Loss:  0.511             | Val Loss:  0.507             | Train RMSE:  0.709             | Val RMSE:  0.704\n"
          ]
        },
        {
          "output_type": "stream",
          "name": "stderr",
          "text": [
            "100%|██████████| 29/29 [00:00<00:00, 37.00it/s]\n"
          ]
        },
        {
          "output_type": "stream",
          "name": "stdout",
          "text": [
            "Epochs: 110 | Train Loss:  0.498             | Val Loss:  0.644             | Train RMSE:  0.699             | Val RMSE:  0.791\n"
          ]
        },
        {
          "output_type": "stream",
          "name": "stderr",
          "text": [
            "100%|██████████| 29/29 [00:00<00:00, 36.99it/s]\n"
          ]
        },
        {
          "output_type": "stream",
          "name": "stdout",
          "text": [
            "Epochs: 111 | Train Loss:  0.517             | Val Loss:  0.604             | Train RMSE:  0.713             | Val RMSE:  0.769\n"
          ]
        },
        {
          "output_type": "stream",
          "name": "stderr",
          "text": [
            "100%|██████████| 29/29 [00:00<00:00, 36.86it/s]\n"
          ]
        },
        {
          "output_type": "stream",
          "name": "stdout",
          "text": [
            "Epochs: 112 | Train Loss:  0.473             | Val Loss:  0.526             | Train RMSE:  0.679             | Val RMSE:  0.714\n"
          ]
        },
        {
          "output_type": "stream",
          "name": "stderr",
          "text": [
            "100%|██████████| 29/29 [00:00<00:00, 36.95it/s]\n"
          ]
        },
        {
          "output_type": "stream",
          "name": "stdout",
          "text": [
            "Epochs: 113 | Train Loss:  0.522             | Val Loss:  0.503             | Train RMSE:  0.719             | Val RMSE:  0.698\n"
          ]
        },
        {
          "output_type": "stream",
          "name": "stderr",
          "text": [
            "100%|██████████| 29/29 [00:00<00:00, 37.02it/s]\n"
          ]
        },
        {
          "output_type": "stream",
          "name": "stdout",
          "text": [
            "Epochs: 114 | Train Loss:  0.472             | Val Loss:  0.470             | Train RMSE:  0.679             | Val RMSE:  0.680\n"
          ]
        },
        {
          "output_type": "stream",
          "name": "stderr",
          "text": [
            "100%|██████████| 29/29 [00:00<00:00, 37.11it/s]\n"
          ]
        },
        {
          "output_type": "stream",
          "name": "stdout",
          "text": [
            "Epochs: 115 | Train Loss:  0.478             | Val Loss:  0.440             | Train RMSE:  0.686             | Val RMSE:  0.662\n"
          ]
        },
        {
          "output_type": "stream",
          "name": "stderr",
          "text": [
            "100%|██████████| 29/29 [00:00<00:00, 36.90it/s]\n"
          ]
        },
        {
          "output_type": "stream",
          "name": "stdout",
          "text": [
            "Epochs: 116 | Train Loss:  0.490             | Val Loss:  0.446             | Train RMSE:  0.692             | Val RMSE:  0.650\n"
          ]
        },
        {
          "output_type": "stream",
          "name": "stderr",
          "text": [
            "100%|██████████| 29/29 [00:00<00:00, 36.79it/s]\n"
          ]
        },
        {
          "output_type": "stream",
          "name": "stdout",
          "text": [
            "Epochs: 117 | Train Loss:  0.457             | Val Loss:  0.508             | Train RMSE:  0.672             | Val RMSE:  0.692\n"
          ]
        },
        {
          "output_type": "stream",
          "name": "stderr",
          "text": [
            "100%|██████████| 29/29 [00:00<00:00, 36.96it/s]\n"
          ]
        },
        {
          "output_type": "stream",
          "name": "stdout",
          "text": [
            "Epochs: 118 | Train Loss:  0.466             | Val Loss:  0.560             | Train RMSE:  0.674             | Val RMSE:  0.740\n"
          ]
        },
        {
          "output_type": "stream",
          "name": "stderr",
          "text": [
            "100%|██████████| 29/29 [00:00<00:00, 37.10it/s]\n"
          ]
        },
        {
          "output_type": "stream",
          "name": "stdout",
          "text": [
            "Epochs: 119 | Train Loss:  0.472             | Val Loss:  0.462             | Train RMSE:  0.676             | Val RMSE:  0.676\n"
          ]
        },
        {
          "output_type": "stream",
          "name": "stderr",
          "text": [
            "100%|██████████| 29/29 [00:00<00:00, 37.17it/s]\n"
          ]
        },
        {
          "output_type": "stream",
          "name": "stdout",
          "text": [
            "Epochs: 120 | Train Loss:  0.519             | Val Loss:  0.559             | Train RMSE:  0.705             | Val RMSE:  0.730\n"
          ]
        },
        {
          "output_type": "stream",
          "name": "stderr",
          "text": [
            "100%|██████████| 29/29 [00:00<00:00, 37.19it/s]\n"
          ]
        },
        {
          "output_type": "stream",
          "name": "stdout",
          "text": [
            "Epochs: 121 | Train Loss:  0.543             | Val Loss:  0.525             | Train RMSE:  0.726             | Val RMSE:  0.718\n"
          ]
        },
        {
          "output_type": "stream",
          "name": "stderr",
          "text": [
            "100%|██████████| 29/29 [00:00<00:00, 37.25it/s]\n"
          ]
        },
        {
          "output_type": "stream",
          "name": "stdout",
          "text": [
            "Epochs: 122 | Train Loss:  0.478             | Val Loss:  0.491             | Train RMSE:  0.686             | Val RMSE:  0.692\n"
          ]
        },
        {
          "output_type": "stream",
          "name": "stderr",
          "text": [
            "100%|██████████| 29/29 [00:00<00:00, 37.32it/s]\n"
          ]
        },
        {
          "output_type": "stream",
          "name": "stdout",
          "text": [
            "Epochs: 123 | Train Loss:  0.550             | Val Loss:  0.541             | Train RMSE:  0.733             | Val RMSE:  0.723\n"
          ]
        },
        {
          "output_type": "stream",
          "name": "stderr",
          "text": [
            "100%|██████████| 29/29 [00:00<00:00, 37.00it/s]\n"
          ]
        },
        {
          "output_type": "stream",
          "name": "stdout",
          "text": [
            "Epochs: 124 | Train Loss:  0.465             | Val Loss:  0.565             | Train RMSE:  0.676             | Val RMSE:  0.750\n"
          ]
        },
        {
          "output_type": "stream",
          "name": "stderr",
          "text": [
            "100%|██████████| 29/29 [00:00<00:00, 36.89it/s]\n"
          ]
        },
        {
          "output_type": "stream",
          "name": "stdout",
          "text": [
            "Epochs: 125 | Train Loss:  0.482             | Val Loss:  0.517             | Train RMSE:  0.687             | Val RMSE:  0.708\n"
          ]
        },
        {
          "output_type": "stream",
          "name": "stderr",
          "text": [
            "100%|██████████| 29/29 [00:00<00:00, 36.92it/s]\n"
          ]
        },
        {
          "output_type": "stream",
          "name": "stdout",
          "text": [
            "Epochs: 126 | Train Loss:  0.511             | Val Loss:  0.602             | Train RMSE:  0.709             | Val RMSE:  0.774\n"
          ]
        },
        {
          "output_type": "stream",
          "name": "stderr",
          "text": [
            "100%|██████████| 29/29 [00:00<00:00, 36.95it/s]\n"
          ]
        },
        {
          "output_type": "stream",
          "name": "stdout",
          "text": [
            "Epochs: 127 | Train Loss:  0.491             | Val Loss:  0.391             | Train RMSE:  0.692             | Val RMSE:  0.619\n"
          ]
        },
        {
          "output_type": "stream",
          "name": "stderr",
          "text": [
            "100%|██████████| 29/29 [00:00<00:00, 37.03it/s]\n"
          ]
        },
        {
          "output_type": "stream",
          "name": "stdout",
          "text": [
            "Epochs: 128 | Train Loss:  0.456             | Val Loss:  0.497             | Train RMSE:  0.667             | Val RMSE:  0.703\n"
          ]
        },
        {
          "output_type": "stream",
          "name": "stderr",
          "text": [
            "100%|██████████| 29/29 [00:00<00:00, 36.74it/s]\n"
          ]
        },
        {
          "output_type": "stream",
          "name": "stdout",
          "text": [
            "Epochs: 129 | Train Loss:  0.463             | Val Loss:  0.468             | Train RMSE:  0.674             | Val RMSE:  0.675\n"
          ]
        },
        {
          "output_type": "stream",
          "name": "stderr",
          "text": [
            "100%|██████████| 29/29 [00:00<00:00, 36.83it/s]\n"
          ]
        },
        {
          "output_type": "stream",
          "name": "stdout",
          "text": [
            "Epochs: 130 | Train Loss:  0.456             | Val Loss:  0.438             | Train RMSE:  0.670             | Val RMSE:  0.638\n"
          ]
        },
        {
          "output_type": "stream",
          "name": "stderr",
          "text": [
            "100%|██████████| 29/29 [00:00<00:00, 36.77it/s]\n"
          ]
        },
        {
          "output_type": "stream",
          "name": "stdout",
          "text": [
            "Epochs: 131 | Train Loss:  0.460             | Val Loss:  0.455             | Train RMSE:  0.671             | Val RMSE:  0.669\n"
          ]
        },
        {
          "output_type": "stream",
          "name": "stderr",
          "text": [
            "100%|██████████| 29/29 [00:00<00:00, 36.99it/s]\n"
          ]
        },
        {
          "output_type": "stream",
          "name": "stdout",
          "text": [
            "Epochs: 132 | Train Loss:  0.489             | Val Loss:  0.490             | Train RMSE:  0.692             | Val RMSE:  0.684\n"
          ]
        },
        {
          "output_type": "stream",
          "name": "stderr",
          "text": [
            "100%|██████████| 29/29 [00:00<00:00, 36.87it/s]\n"
          ]
        },
        {
          "output_type": "stream",
          "name": "stdout",
          "text": [
            "Epochs: 133 | Train Loss:  0.483             | Val Loss:  0.563             | Train RMSE:  0.687             | Val RMSE:  0.747\n"
          ]
        },
        {
          "output_type": "stream",
          "name": "stderr",
          "text": [
            "100%|██████████| 29/29 [00:00<00:00, 36.91it/s]\n"
          ]
        },
        {
          "output_type": "stream",
          "name": "stdout",
          "text": [
            "Epochs: 134 | Train Loss:  0.428             | Val Loss:  0.457             | Train RMSE:  0.648             | Val RMSE:  0.672\n"
          ]
        },
        {
          "output_type": "stream",
          "name": "stderr",
          "text": [
            "100%|██████████| 29/29 [00:00<00:00, 36.91it/s]\n"
          ]
        },
        {
          "output_type": "stream",
          "name": "stdout",
          "text": [
            "Epochs: 135 | Train Loss:  0.474             | Val Loss:  0.439             | Train RMSE:  0.680             | Val RMSE:  0.658\n"
          ]
        },
        {
          "output_type": "stream",
          "name": "stderr",
          "text": [
            "100%|██████████| 29/29 [00:00<00:00, 36.93it/s]\n"
          ]
        },
        {
          "output_type": "stream",
          "name": "stdout",
          "text": [
            "Epochs: 136 | Train Loss:  0.480             | Val Loss:  0.512             | Train RMSE:  0.679             | Val RMSE:  0.712\n"
          ]
        },
        {
          "output_type": "stream",
          "name": "stderr",
          "text": [
            "100%|██████████| 29/29 [00:00<00:00, 37.05it/s]\n"
          ]
        },
        {
          "output_type": "stream",
          "name": "stdout",
          "text": [
            "Epochs: 137 | Train Loss:  0.476             | Val Loss:  0.471             | Train RMSE:  0.685             | Val RMSE:  0.684\n"
          ]
        },
        {
          "output_type": "stream",
          "name": "stderr",
          "text": [
            "100%|██████████| 29/29 [00:00<00:00, 37.03it/s]\n"
          ]
        },
        {
          "output_type": "stream",
          "name": "stdout",
          "text": [
            "Epochs: 138 | Train Loss:  0.473             | Val Loss:  0.472             | Train RMSE:  0.679             | Val RMSE:  0.678\n"
          ]
        },
        {
          "output_type": "stream",
          "name": "stderr",
          "text": [
            "100%|██████████| 29/29 [00:00<00:00, 36.83it/s]\n"
          ]
        },
        {
          "output_type": "stream",
          "name": "stdout",
          "text": [
            "Epochs: 139 | Train Loss:  0.467             | Val Loss:  0.449             | Train RMSE:  0.676             | Val RMSE:  0.657\n"
          ]
        },
        {
          "output_type": "stream",
          "name": "stderr",
          "text": [
            "100%|██████████| 29/29 [00:00<00:00, 36.85it/s]\n"
          ]
        },
        {
          "output_type": "stream",
          "name": "stdout",
          "text": [
            "Epochs: 140 | Train Loss:  0.427             | Val Loss:  0.566             | Train RMSE:  0.644             | Val RMSE:  0.747\n"
          ]
        },
        {
          "output_type": "stream",
          "name": "stderr",
          "text": [
            "100%|██████████| 29/29 [00:00<00:00, 36.86it/s]\n"
          ]
        },
        {
          "output_type": "stream",
          "name": "stdout",
          "text": [
            "Epochs: 141 | Train Loss:  0.479             | Val Loss:  0.346             | Train RMSE:  0.685             | Val RMSE:  0.582\n"
          ]
        },
        {
          "output_type": "stream",
          "name": "stderr",
          "text": [
            "100%|██████████| 29/29 [00:00<00:00, 37.09it/s]\n"
          ]
        },
        {
          "output_type": "stream",
          "name": "stdout",
          "text": [
            "Epochs: 142 | Train Loss:  0.475             | Val Loss:  0.512             | Train RMSE:  0.683             | Val RMSE:  0.708\n"
          ]
        },
        {
          "output_type": "stream",
          "name": "stderr",
          "text": [
            "100%|██████████| 29/29 [00:00<00:00, 37.02it/s]\n"
          ]
        },
        {
          "output_type": "stream",
          "name": "stdout",
          "text": [
            "Epochs: 143 | Train Loss:  0.454             | Val Loss:  0.464             | Train RMSE:  0.668             | Val RMSE:  0.677\n"
          ]
        },
        {
          "output_type": "stream",
          "name": "stderr",
          "text": [
            "100%|██████████| 29/29 [00:00<00:00, 36.63it/s]\n"
          ]
        },
        {
          "output_type": "stream",
          "name": "stdout",
          "text": [
            "Epochs: 144 | Train Loss:  0.489             | Val Loss:  0.415             | Train RMSE:  0.694             | Val RMSE:  0.642\n"
          ]
        },
        {
          "output_type": "stream",
          "name": "stderr",
          "text": [
            "100%|██████████| 29/29 [00:00<00:00, 36.90it/s]\n"
          ]
        },
        {
          "output_type": "stream",
          "name": "stdout",
          "text": [
            "Epochs: 145 | Train Loss:  0.462             | Val Loss:  0.541             | Train RMSE:  0.670             | Val RMSE:  0.734\n"
          ]
        },
        {
          "output_type": "stream",
          "name": "stderr",
          "text": [
            "100%|██████████| 29/29 [00:00<00:00, 37.02it/s]\n"
          ]
        },
        {
          "output_type": "stream",
          "name": "stdout",
          "text": [
            "Epochs: 146 | Train Loss:  0.450             | Val Loss:  0.441             | Train RMSE:  0.665             | Val RMSE:  0.642\n"
          ]
        },
        {
          "output_type": "stream",
          "name": "stderr",
          "text": [
            "100%|██████████| 29/29 [00:00<00:00, 36.94it/s]\n"
          ]
        },
        {
          "output_type": "stream",
          "name": "stdout",
          "text": [
            "Epochs: 147 | Train Loss:  0.444             | Val Loss:  0.434             | Train RMSE:  0.658             | Val RMSE:  0.657\n"
          ]
        },
        {
          "output_type": "stream",
          "name": "stderr",
          "text": [
            "100%|██████████| 29/29 [00:00<00:00, 36.91it/s]\n"
          ]
        },
        {
          "output_type": "stream",
          "name": "stdout",
          "text": [
            "Epochs: 148 | Train Loss:  0.447             | Val Loss:  0.514             | Train RMSE:  0.661             | Val RMSE:  0.716\n"
          ]
        },
        {
          "output_type": "stream",
          "name": "stderr",
          "text": [
            "100%|██████████| 29/29 [00:00<00:00, 36.89it/s]\n"
          ]
        },
        {
          "output_type": "stream",
          "name": "stdout",
          "text": [
            "Epochs: 149 | Train Loss:  0.456             | Val Loss:  0.499             | Train RMSE:  0.669             | Val RMSE:  0.704\n"
          ]
        },
        {
          "output_type": "stream",
          "name": "stderr",
          "text": [
            "100%|██████████| 29/29 [00:00<00:00, 37.08it/s]\n"
          ]
        },
        {
          "output_type": "stream",
          "name": "stdout",
          "text": [
            "Epochs: 150 | Train Loss:  0.458             | Val Loss:  0.434             | Train RMSE:  0.665             | Val RMSE:  0.656\n"
          ]
        },
        {
          "output_type": "stream",
          "name": "stderr",
          "text": [
            "100%|██████████| 29/29 [00:00<00:00, 36.97it/s]\n"
          ]
        },
        {
          "output_type": "stream",
          "name": "stdout",
          "text": [
            "Epochs: 151 | Train Loss:  0.479             | Val Loss:  0.386             | Train RMSE:  0.683             | Val RMSE:  0.617\n"
          ]
        },
        {
          "output_type": "stream",
          "name": "stderr",
          "text": [
            "100%|██████████| 29/29 [00:00<00:00, 37.00it/s]\n"
          ]
        },
        {
          "output_type": "stream",
          "name": "stdout",
          "text": [
            "Epochs: 152 | Train Loss:  0.437             | Val Loss:  0.478             | Train RMSE:  0.655             | Val RMSE:  0.689\n"
          ]
        },
        {
          "output_type": "stream",
          "name": "stderr",
          "text": [
            "100%|██████████| 29/29 [00:00<00:00, 37.01it/s]\n"
          ]
        },
        {
          "output_type": "stream",
          "name": "stdout",
          "text": [
            "Epochs: 153 | Train Loss:  0.467             | Val Loss:  0.461             | Train RMSE:  0.678             | Val RMSE:  0.675\n"
          ]
        },
        {
          "output_type": "stream",
          "name": "stderr",
          "text": [
            "100%|██████████| 29/29 [00:00<00:00, 37.00it/s]\n"
          ]
        },
        {
          "output_type": "stream",
          "name": "stdout",
          "text": [
            "Epochs: 154 | Train Loss:  0.438             | Val Loss:  0.460             | Train RMSE:  0.654             | Val RMSE:  0.672\n"
          ]
        },
        {
          "output_type": "stream",
          "name": "stderr",
          "text": [
            "100%|██████████| 29/29 [00:00<00:00, 37.01it/s]\n"
          ]
        },
        {
          "output_type": "stream",
          "name": "stdout",
          "text": [
            "Epochs: 155 | Train Loss:  0.452             | Val Loss:  0.517             | Train RMSE:  0.663             | Val RMSE:  0.715\n"
          ]
        },
        {
          "output_type": "stream",
          "name": "stderr",
          "text": [
            "100%|██████████| 29/29 [00:00<00:00, 37.06it/s]\n"
          ]
        },
        {
          "output_type": "stream",
          "name": "stdout",
          "text": [
            "Epochs: 156 | Train Loss:  0.436             | Val Loss:  0.536             | Train RMSE:  0.654             | Val RMSE:  0.730\n"
          ]
        },
        {
          "output_type": "stream",
          "name": "stderr",
          "text": [
            "100%|██████████| 29/29 [00:00<00:00, 36.94it/s]\n"
          ]
        },
        {
          "output_type": "stream",
          "name": "stdout",
          "text": [
            "Epochs: 157 | Train Loss:  0.435             | Val Loss:  0.485             | Train RMSE:  0.655             | Val RMSE:  0.684\n"
          ]
        },
        {
          "output_type": "stream",
          "name": "stderr",
          "text": [
            "100%|██████████| 29/29 [00:00<00:00, 37.02it/s]\n"
          ]
        },
        {
          "output_type": "stream",
          "name": "stdout",
          "text": [
            "Epochs: 158 | Train Loss:  0.433             | Val Loss:  0.495             | Train RMSE:  0.651             | Val RMSE:  0.701\n"
          ]
        },
        {
          "output_type": "stream",
          "name": "stderr",
          "text": [
            "100%|██████████| 29/29 [00:00<00:00, 36.92it/s]\n"
          ]
        },
        {
          "output_type": "stream",
          "name": "stdout",
          "text": [
            "Epochs: 159 | Train Loss:  0.481             | Val Loss:  0.522             | Train RMSE:  0.686             | Val RMSE:  0.719\n"
          ]
        },
        {
          "output_type": "stream",
          "name": "stderr",
          "text": [
            "100%|██████████| 29/29 [00:00<00:00, 36.90it/s]\n"
          ]
        },
        {
          "output_type": "stream",
          "name": "stdout",
          "text": [
            "Epochs: 160 | Train Loss:  0.440             | Val Loss:  0.417             | Train RMSE:  0.656             | Val RMSE:  0.642\n"
          ]
        },
        {
          "output_type": "stream",
          "name": "stderr",
          "text": [
            "100%|██████████| 29/29 [00:00<00:00, 36.98it/s]\n"
          ]
        },
        {
          "output_type": "stream",
          "name": "stdout",
          "text": [
            "Epochs: 161 | Train Loss:  0.407             | Val Loss:  0.426             | Train RMSE:  0.627             | Val RMSE:  0.629\n"
          ]
        },
        {
          "output_type": "stream",
          "name": "stderr",
          "text": [
            "100%|██████████| 29/29 [00:00<00:00, 36.85it/s]\n"
          ]
        },
        {
          "output_type": "stream",
          "name": "stdout",
          "text": [
            "Epochs: 162 | Train Loss:  0.417             | Val Loss:  0.549             | Train RMSE:  0.639             | Val RMSE:  0.739\n"
          ]
        },
        {
          "output_type": "stream",
          "name": "stderr",
          "text": [
            "100%|██████████| 29/29 [00:00<00:00, 36.97it/s]\n"
          ]
        },
        {
          "output_type": "stream",
          "name": "stdout",
          "text": [
            "Epochs: 163 | Train Loss:  0.493             | Val Loss:  0.393             | Train RMSE:  0.694             | Val RMSE:  0.626\n"
          ]
        },
        {
          "output_type": "stream",
          "name": "stderr",
          "text": [
            "100%|██████████| 29/29 [00:00<00:00, 36.97it/s]\n"
          ]
        },
        {
          "output_type": "stream",
          "name": "stdout",
          "text": [
            "Epochs: 164 | Train Loss:  0.517             | Val Loss:  0.432             | Train RMSE:  0.711             | Val RMSE:  0.653\n"
          ]
        },
        {
          "output_type": "stream",
          "name": "stderr",
          "text": [
            "100%|██████████| 29/29 [00:00<00:00, 36.79it/s]\n"
          ]
        },
        {
          "output_type": "stream",
          "name": "stdout",
          "text": [
            "Epochs: 165 | Train Loss:  0.441             | Val Loss:  0.490             | Train RMSE:  0.659             | Val RMSE:  0.700\n"
          ]
        },
        {
          "output_type": "stream",
          "name": "stderr",
          "text": [
            "100%|██████████| 29/29 [00:00<00:00, 36.91it/s]\n"
          ]
        },
        {
          "output_type": "stream",
          "name": "stdout",
          "text": [
            "Epochs: 166 | Train Loss:  0.476             | Val Loss:  0.551             | Train RMSE:  0.679             | Val RMSE:  0.741\n"
          ]
        },
        {
          "output_type": "stream",
          "name": "stderr",
          "text": [
            "100%|██████████| 29/29 [00:00<00:00, 36.80it/s]\n"
          ]
        },
        {
          "output_type": "stream",
          "name": "stdout",
          "text": [
            "Epochs: 167 | Train Loss:  0.461             | Val Loss:  0.506             | Train RMSE:  0.671             | Val RMSE:  0.698\n"
          ]
        },
        {
          "output_type": "stream",
          "name": "stderr",
          "text": [
            "100%|██████████| 29/29 [00:00<00:00, 36.90it/s]\n"
          ]
        },
        {
          "output_type": "stream",
          "name": "stdout",
          "text": [
            "Epochs: 168 | Train Loss:  0.442             | Val Loss:  0.467             | Train RMSE:  0.659             | Val RMSE:  0.674\n"
          ]
        },
        {
          "output_type": "stream",
          "name": "stderr",
          "text": [
            "100%|██████████| 29/29 [00:00<00:00, 36.85it/s]\n"
          ]
        },
        {
          "output_type": "stream",
          "name": "stdout",
          "text": [
            "Epochs: 169 | Train Loss:  0.448             | Val Loss:  0.563             | Train RMSE:  0.664             | Val RMSE:  0.750\n"
          ]
        },
        {
          "output_type": "stream",
          "name": "stderr",
          "text": [
            "100%|██████████| 29/29 [00:00<00:00, 36.91it/s]\n"
          ]
        },
        {
          "output_type": "stream",
          "name": "stdout",
          "text": [
            "Epochs: 170 | Train Loss:  0.417             | Val Loss:  0.491             | Train RMSE:  0.638             | Val RMSE:  0.692\n"
          ]
        },
        {
          "output_type": "stream",
          "name": "stderr",
          "text": [
            "100%|██████████| 29/29 [00:00<00:00, 36.97it/s]\n"
          ]
        },
        {
          "output_type": "stream",
          "name": "stdout",
          "text": [
            "Epochs: 171 | Train Loss:  0.448             | Val Loss:  0.407             | Train RMSE:  0.663             | Val RMSE:  0.636\n"
          ]
        },
        {
          "output_type": "stream",
          "name": "stderr",
          "text": [
            "100%|██████████| 29/29 [00:00<00:00, 36.80it/s]\n"
          ]
        },
        {
          "output_type": "stream",
          "name": "stdout",
          "text": [
            "Epochs: 172 | Train Loss:  0.438             | Val Loss:  0.491             | Train RMSE:  0.654             | Val RMSE:  0.700\n"
          ]
        },
        {
          "output_type": "stream",
          "name": "stderr",
          "text": [
            "100%|██████████| 29/29 [00:00<00:00, 36.82it/s]\n"
          ]
        },
        {
          "output_type": "stream",
          "name": "stdout",
          "text": [
            "Epochs: 173 | Train Loss:  0.425             | Val Loss:  0.527             | Train RMSE:  0.645             | Val RMSE:  0.723\n"
          ]
        },
        {
          "output_type": "stream",
          "name": "stderr",
          "text": [
            "100%|██████████| 29/29 [00:00<00:00, 36.86it/s]\n"
          ]
        },
        {
          "output_type": "stream",
          "name": "stdout",
          "text": [
            "Epochs: 174 | Train Loss:  0.440             | Val Loss:  0.592             | Train RMSE:  0.653             | Val RMSE:  0.755\n"
          ]
        },
        {
          "output_type": "stream",
          "name": "stderr",
          "text": [
            "100%|██████████| 29/29 [00:00<00:00, 36.99it/s]\n"
          ]
        },
        {
          "output_type": "stream",
          "name": "stdout",
          "text": [
            "Epochs: 175 | Train Loss:  0.441             | Val Loss:  0.508             | Train RMSE:  0.657             | Val RMSE:  0.709\n"
          ]
        },
        {
          "output_type": "stream",
          "name": "stderr",
          "text": [
            "100%|██████████| 29/29 [00:00<00:00, 36.79it/s]\n"
          ]
        },
        {
          "output_type": "stream",
          "name": "stdout",
          "text": [
            "Epochs: 176 | Train Loss:  0.467             | Val Loss:  0.441             | Train RMSE:  0.676             | Val RMSE:  0.659\n"
          ]
        },
        {
          "output_type": "stream",
          "name": "stderr",
          "text": [
            "100%|██████████| 29/29 [00:00<00:00, 36.95it/s]\n"
          ]
        },
        {
          "output_type": "stream",
          "name": "stdout",
          "text": [
            "Epochs: 177 | Train Loss:  0.454             | Val Loss:  0.469             | Train RMSE:  0.669             | Val RMSE:  0.680\n"
          ]
        },
        {
          "output_type": "stream",
          "name": "stderr",
          "text": [
            "100%|██████████| 29/29 [00:00<00:00, 36.94it/s]\n"
          ]
        },
        {
          "output_type": "stream",
          "name": "stdout",
          "text": [
            "Epochs: 178 | Train Loss:  0.464             | Val Loss:  0.435             | Train RMSE:  0.673             | Val RMSE:  0.658\n"
          ]
        },
        {
          "output_type": "stream",
          "name": "stderr",
          "text": [
            "100%|██████████| 29/29 [00:00<00:00, 36.68it/s]\n"
          ]
        },
        {
          "output_type": "stream",
          "name": "stdout",
          "text": [
            "Epochs: 179 | Train Loss:  0.459             | Val Loss:  0.472             | Train RMSE:  0.673             | Val RMSE:  0.673\n"
          ]
        },
        {
          "output_type": "stream",
          "name": "stderr",
          "text": [
            "100%|██████████| 29/29 [00:00<00:00, 36.77it/s]\n"
          ]
        },
        {
          "output_type": "stream",
          "name": "stdout",
          "text": [
            "Epochs: 180 | Train Loss:  0.437             | Val Loss:  0.464             | Train RMSE:  0.654             | Val RMSE:  0.679\n"
          ]
        },
        {
          "output_type": "stream",
          "name": "stderr",
          "text": [
            "100%|██████████| 29/29 [00:00<00:00, 36.67it/s]\n"
          ]
        },
        {
          "output_type": "stream",
          "name": "stdout",
          "text": [
            "Epochs: 181 | Train Loss:  0.449             | Val Loss:  0.579             | Train RMSE:  0.662             | Val RMSE:  0.746\n"
          ]
        },
        {
          "output_type": "stream",
          "name": "stderr",
          "text": [
            "100%|██████████| 29/29 [00:00<00:00, 36.77it/s]\n"
          ]
        },
        {
          "output_type": "stream",
          "name": "stdout",
          "text": [
            "Epochs: 182 | Train Loss:  0.444             | Val Loss:  0.508             | Train RMSE:  0.661             | Val RMSE:  0.701\n"
          ]
        },
        {
          "output_type": "stream",
          "name": "stderr",
          "text": [
            "100%|██████████| 29/29 [00:00<00:00, 36.76it/s]\n"
          ]
        },
        {
          "output_type": "stream",
          "name": "stdout",
          "text": [
            "Epochs: 183 | Train Loss:  0.446             | Val Loss:  0.542             | Train RMSE:  0.660             | Val RMSE:  0.726\n"
          ]
        },
        {
          "output_type": "stream",
          "name": "stderr",
          "text": [
            "100%|██████████| 29/29 [00:00<00:00, 36.90it/s]\n"
          ]
        },
        {
          "output_type": "stream",
          "name": "stdout",
          "text": [
            "Epochs: 184 | Train Loss:  0.421             | Val Loss:  0.492             | Train RMSE:  0.644             | Val RMSE:  0.694\n"
          ]
        },
        {
          "output_type": "stream",
          "name": "stderr",
          "text": [
            "100%|██████████| 29/29 [00:00<00:00, 36.91it/s]\n"
          ]
        },
        {
          "output_type": "stream",
          "name": "stdout",
          "text": [
            "Epochs: 185 | Train Loss:  0.446             | Val Loss:  0.447             | Train RMSE:  0.662             | Val RMSE:  0.658\n"
          ]
        },
        {
          "output_type": "stream",
          "name": "stderr",
          "text": [
            "100%|██████████| 29/29 [00:00<00:00, 36.92it/s]\n"
          ]
        },
        {
          "output_type": "stream",
          "name": "stdout",
          "text": [
            "Epochs: 186 | Train Loss:  0.427             | Val Loss:  0.473             | Train RMSE:  0.646             | Val RMSE:  0.679\n"
          ]
        },
        {
          "output_type": "stream",
          "name": "stderr",
          "text": [
            "100%|██████████| 29/29 [00:00<00:00, 36.82it/s]\n"
          ]
        },
        {
          "output_type": "stream",
          "name": "stdout",
          "text": [
            "Epochs: 187 | Train Loss:  0.425             | Val Loss:  0.538             | Train RMSE:  0.646             | Val RMSE:  0.724\n"
          ]
        },
        {
          "output_type": "stream",
          "name": "stderr",
          "text": [
            "100%|██████████| 29/29 [00:00<00:00, 36.87it/s]\n"
          ]
        },
        {
          "output_type": "stream",
          "name": "stdout",
          "text": [
            "Epochs: 188 | Train Loss:  0.414             | Val Loss:  0.451             | Train RMSE:  0.634             | Val RMSE:  0.663\n"
          ]
        },
        {
          "output_type": "stream",
          "name": "stderr",
          "text": [
            "100%|██████████| 29/29 [00:00<00:00, 36.48it/s]\n"
          ]
        },
        {
          "output_type": "stream",
          "name": "stdout",
          "text": [
            "Epochs: 189 | Train Loss:  0.430             | Val Loss:  0.405             | Train RMSE:  0.645             | Val RMSE:  0.631\n"
          ]
        },
        {
          "output_type": "stream",
          "name": "stderr",
          "text": [
            "100%|██████████| 29/29 [00:00<00:00, 36.69it/s]\n"
          ]
        },
        {
          "output_type": "stream",
          "name": "stdout",
          "text": [
            "Epochs: 190 | Train Loss:  0.434             | Val Loss:  0.525             | Train RMSE:  0.651             | Val RMSE:  0.716\n"
          ]
        },
        {
          "output_type": "stream",
          "name": "stderr",
          "text": [
            "100%|██████████| 29/29 [00:00<00:00, 36.44it/s]\n"
          ]
        },
        {
          "output_type": "stream",
          "name": "stdout",
          "text": [
            "Epochs: 191 | Train Loss:  0.394             | Val Loss:  0.464             | Train RMSE:  0.619             | Val RMSE:  0.672\n"
          ]
        },
        {
          "output_type": "stream",
          "name": "stderr",
          "text": [
            "100%|██████████| 29/29 [00:00<00:00, 36.46it/s]\n"
          ]
        },
        {
          "output_type": "stream",
          "name": "stdout",
          "text": [
            "Epochs: 192 | Train Loss:  0.442             | Val Loss:  0.423             | Train RMSE:  0.654             | Val RMSE:  0.636\n"
          ]
        },
        {
          "output_type": "stream",
          "name": "stderr",
          "text": [
            "100%|██████████| 29/29 [00:00<00:00, 36.61it/s]\n"
          ]
        },
        {
          "output_type": "stream",
          "name": "stdout",
          "text": [
            "Epochs: 193 | Train Loss:  0.450             | Val Loss:  0.529             | Train RMSE:  0.666             | Val RMSE:  0.708\n"
          ]
        },
        {
          "output_type": "stream",
          "name": "stderr",
          "text": [
            "100%|██████████| 29/29 [00:00<00:00, 36.90it/s]\n"
          ]
        },
        {
          "output_type": "stream",
          "name": "stdout",
          "text": [
            "Epochs: 194 | Train Loss:  0.405             | Val Loss:  0.355             | Train RMSE:  0.632             | Val RMSE:  0.582\n"
          ]
        },
        {
          "output_type": "stream",
          "name": "stderr",
          "text": [
            "100%|██████████| 29/29 [00:00<00:00, 36.79it/s]\n"
          ]
        },
        {
          "output_type": "stream",
          "name": "stdout",
          "text": [
            "Epochs: 195 | Train Loss:  0.444             | Val Loss:  0.531             | Train RMSE:  0.659             | Val RMSE:  0.728\n"
          ]
        },
        {
          "output_type": "stream",
          "name": "stderr",
          "text": [
            "100%|██████████| 29/29 [00:00<00:00, 36.74it/s]\n"
          ]
        },
        {
          "output_type": "stream",
          "name": "stdout",
          "text": [
            "Epochs: 196 | Train Loss:  0.435             | Val Loss:  0.418             | Train RMSE:  0.648             | Val RMSE:  0.639\n"
          ]
        },
        {
          "output_type": "stream",
          "name": "stderr",
          "text": [
            "100%|██████████| 29/29 [00:00<00:00, 36.76it/s]\n"
          ]
        },
        {
          "output_type": "stream",
          "name": "stdout",
          "text": [
            "Epochs: 197 | Train Loss:  0.412             | Val Loss:  0.419             | Train RMSE:  0.634             | Val RMSE:  0.636\n"
          ]
        },
        {
          "output_type": "stream",
          "name": "stderr",
          "text": [
            "100%|██████████| 29/29 [00:00<00:00, 36.85it/s]\n"
          ]
        },
        {
          "output_type": "stream",
          "name": "stdout",
          "text": [
            "Epochs: 198 | Train Loss:  0.429             | Val Loss:  0.551             | Train RMSE:  0.647             | Val RMSE:  0.732\n"
          ]
        },
        {
          "output_type": "stream",
          "name": "stderr",
          "text": [
            "100%|██████████| 29/29 [00:00<00:00, 36.98it/s]\n"
          ]
        },
        {
          "output_type": "stream",
          "name": "stdout",
          "text": [
            "Epochs: 199 | Train Loss:  0.425             | Val Loss:  0.457             | Train RMSE:  0.647             | Val RMSE:  0.675\n"
          ]
        },
        {
          "output_type": "stream",
          "name": "stderr",
          "text": [
            "100%|██████████| 29/29 [00:00<00:00, 36.92it/s]\n"
          ]
        },
        {
          "output_type": "stream",
          "name": "stdout",
          "text": [
            "Epochs: 200 | Train Loss:  0.405             | Val Loss:  0.505             | Train RMSE:  0.629             | Val RMSE:  0.705\n"
          ]
        },
        {
          "output_type": "stream",
          "name": "stderr",
          "text": [
            "100%|██████████| 29/29 [00:00<00:00, 37.00it/s]\n"
          ]
        },
        {
          "output_type": "stream",
          "name": "stdout",
          "text": [
            "Epochs: 201 | Train Loss:  0.428             | Val Loss:  0.541             | Train RMSE:  0.650             | Val RMSE:  0.732\n"
          ]
        },
        {
          "output_type": "stream",
          "name": "stderr",
          "text": [
            "100%|██████████| 29/29 [00:00<00:00, 36.98it/s]\n"
          ]
        },
        {
          "output_type": "stream",
          "name": "stdout",
          "text": [
            "Epochs: 202 | Train Loss:  0.396             | Val Loss:  0.524             | Train RMSE:  0.623             | Val RMSE:  0.719\n"
          ]
        },
        {
          "output_type": "stream",
          "name": "stderr",
          "text": [
            "100%|██████████| 29/29 [00:00<00:00, 37.10it/s]\n"
          ]
        },
        {
          "output_type": "stream",
          "name": "stdout",
          "text": [
            "Epochs: 203 | Train Loss:  0.432             | Val Loss:  0.483             | Train RMSE:  0.651             | Val RMSE:  0.691\n"
          ]
        },
        {
          "output_type": "stream",
          "name": "stderr",
          "text": [
            "100%|██████████| 29/29 [00:00<00:00, 36.94it/s]\n"
          ]
        },
        {
          "output_type": "stream",
          "name": "stdout",
          "text": [
            "Epochs: 204 | Train Loss:  0.456             | Val Loss:  0.507             | Train RMSE:  0.668             | Val RMSE:  0.699\n"
          ]
        },
        {
          "output_type": "stream",
          "name": "stderr",
          "text": [
            "100%|██████████| 29/29 [00:00<00:00, 37.08it/s]\n"
          ]
        },
        {
          "output_type": "stream",
          "name": "stdout",
          "text": [
            "Epochs: 205 | Train Loss:  0.412             | Val Loss:  0.423             | Train RMSE:  0.637             | Val RMSE:  0.648\n"
          ]
        },
        {
          "output_type": "stream",
          "name": "stderr",
          "text": [
            "100%|██████████| 29/29 [00:00<00:00, 37.04it/s]\n"
          ]
        },
        {
          "output_type": "stream",
          "name": "stdout",
          "text": [
            "Epochs: 206 | Train Loss:  0.418             | Val Loss:  0.403             | Train RMSE:  0.638             | Val RMSE:  0.633\n"
          ]
        },
        {
          "output_type": "stream",
          "name": "stderr",
          "text": [
            "100%|██████████| 29/29 [00:00<00:00, 37.06it/s]\n"
          ]
        },
        {
          "output_type": "stream",
          "name": "stdout",
          "text": [
            "Epochs: 207 | Train Loss:  0.421             | Val Loss:  0.430             | Train RMSE:  0.644             | Val RMSE:  0.654\n"
          ]
        },
        {
          "output_type": "stream",
          "name": "stderr",
          "text": [
            "100%|██████████| 29/29 [00:00<00:00, 36.97it/s]\n"
          ]
        },
        {
          "output_type": "stream",
          "name": "stdout",
          "text": [
            "Epochs: 208 | Train Loss:  0.431             | Val Loss:  0.484             | Train RMSE:  0.648             | Val RMSE:  0.689\n"
          ]
        },
        {
          "output_type": "stream",
          "name": "stderr",
          "text": [
            "100%|██████████| 29/29 [00:00<00:00, 36.89it/s]\n"
          ]
        },
        {
          "output_type": "stream",
          "name": "stdout",
          "text": [
            "Epochs: 209 | Train Loss:  0.423             | Val Loss:  0.385             | Train RMSE:  0.639             | Val RMSE:  0.616\n"
          ]
        },
        {
          "output_type": "stream",
          "name": "stderr",
          "text": [
            "100%|██████████| 29/29 [00:00<00:00, 36.97it/s]\n"
          ]
        },
        {
          "output_type": "stream",
          "name": "stdout",
          "text": [
            "Epochs: 210 | Train Loss:  0.402             | Val Loss:  0.414             | Train RMSE:  0.628             | Val RMSE:  0.643\n"
          ]
        },
        {
          "output_type": "stream",
          "name": "stderr",
          "text": [
            "100%|██████████| 29/29 [00:00<00:00, 36.81it/s]\n"
          ]
        },
        {
          "output_type": "stream",
          "name": "stdout",
          "text": [
            "Epochs: 211 | Train Loss:  0.457             | Val Loss:  0.503             | Train RMSE:  0.666             | Val RMSE:  0.701\n"
          ]
        },
        {
          "output_type": "stream",
          "name": "stderr",
          "text": [
            "100%|██████████| 29/29 [00:00<00:00, 36.80it/s]\n"
          ]
        },
        {
          "output_type": "stream",
          "name": "stdout",
          "text": [
            "Epochs: 212 | Train Loss:  0.419             | Val Loss:  0.448             | Train RMSE:  0.640             | Val RMSE:  0.660\n"
          ]
        },
        {
          "output_type": "stream",
          "name": "stderr",
          "text": [
            "100%|██████████| 29/29 [00:00<00:00, 36.88it/s]\n"
          ]
        },
        {
          "output_type": "stream",
          "name": "stdout",
          "text": [
            "Epochs: 213 | Train Loss:  0.399             | Val Loss:  0.467             | Train RMSE:  0.625             | Val RMSE:  0.680\n"
          ]
        },
        {
          "output_type": "stream",
          "name": "stderr",
          "text": [
            "100%|██████████| 29/29 [00:00<00:00, 36.76it/s]\n"
          ]
        },
        {
          "output_type": "stream",
          "name": "stdout",
          "text": [
            "Epochs: 214 | Train Loss:  0.396             | Val Loss:  0.373             | Train RMSE:  0.622             | Val RMSE:  0.610\n"
          ]
        },
        {
          "output_type": "stream",
          "name": "stderr",
          "text": [
            "100%|██████████| 29/29 [00:00<00:00, 36.94it/s]\n"
          ]
        },
        {
          "output_type": "stream",
          "name": "stdout",
          "text": [
            "Epochs: 215 | Train Loss:  0.424             | Val Loss:  0.431             | Train RMSE:  0.647             | Val RMSE:  0.634\n"
          ]
        },
        {
          "output_type": "stream",
          "name": "stderr",
          "text": [
            "100%|██████████| 29/29 [00:00<00:00, 36.78it/s]\n"
          ]
        },
        {
          "output_type": "stream",
          "name": "stdout",
          "text": [
            "Epochs: 216 | Train Loss:  0.374             | Val Loss:  0.439             | Train RMSE:  0.605             | Val RMSE:  0.653\n"
          ]
        },
        {
          "output_type": "stream",
          "name": "stderr",
          "text": [
            "100%|██████████| 29/29 [00:00<00:00, 36.82it/s]\n"
          ]
        },
        {
          "output_type": "stream",
          "name": "stdout",
          "text": [
            "Epochs: 217 | Train Loss:  0.383             | Val Loss:  0.433             | Train RMSE:  0.612             | Val RMSE:  0.644\n"
          ]
        },
        {
          "output_type": "stream",
          "name": "stderr",
          "text": [
            "100%|██████████| 29/29 [00:00<00:00, 36.92it/s]\n"
          ]
        },
        {
          "output_type": "stream",
          "name": "stdout",
          "text": [
            "Epochs: 218 | Train Loss:  0.408             | Val Loss:  0.376             | Train RMSE:  0.627             | Val RMSE:  0.612\n"
          ]
        },
        {
          "output_type": "stream",
          "name": "stderr",
          "text": [
            "100%|██████████| 29/29 [00:00<00:00, 36.75it/s]\n"
          ]
        },
        {
          "output_type": "stream",
          "name": "stdout",
          "text": [
            "Epochs: 219 | Train Loss:  0.399             | Val Loss:  0.427             | Train RMSE:  0.623             | Val RMSE:  0.651\n"
          ]
        },
        {
          "output_type": "stream",
          "name": "stderr",
          "text": [
            "100%|██████████| 29/29 [00:00<00:00, 36.83it/s]\n"
          ]
        },
        {
          "output_type": "stream",
          "name": "stdout",
          "text": [
            "Epochs: 220 | Train Loss:  0.417             | Val Loss:  0.575             | Train RMSE:  0.640             | Val RMSE:  0.755\n"
          ]
        },
        {
          "output_type": "stream",
          "name": "stderr",
          "text": [
            "100%|██████████| 29/29 [00:00<00:00, 36.84it/s]\n"
          ]
        },
        {
          "output_type": "stream",
          "name": "stdout",
          "text": [
            "Epochs: 221 | Train Loss:  0.429             | Val Loss:  0.356             | Train RMSE:  0.650             | Val RMSE:  0.584\n"
          ]
        },
        {
          "output_type": "stream",
          "name": "stderr",
          "text": [
            "100%|██████████| 29/29 [00:00<00:00, 36.71it/s]\n"
          ]
        },
        {
          "output_type": "stream",
          "name": "stdout",
          "text": [
            "Epochs: 222 | Train Loss:  0.412             | Val Loss:  0.411             | Train RMSE:  0.634             | Val RMSE:  0.632\n"
          ]
        },
        {
          "output_type": "stream",
          "name": "stderr",
          "text": [
            "100%|██████████| 29/29 [00:00<00:00, 36.63it/s]\n"
          ]
        },
        {
          "output_type": "stream",
          "name": "stdout",
          "text": [
            "Epochs: 223 | Train Loss:  0.414             | Val Loss:  0.416             | Train RMSE:  0.638             | Val RMSE:  0.639\n"
          ]
        },
        {
          "output_type": "stream",
          "name": "stderr",
          "text": [
            "100%|██████████| 29/29 [00:00<00:00, 36.62it/s]\n"
          ]
        },
        {
          "output_type": "stream",
          "name": "stdout",
          "text": [
            "Epochs: 224 | Train Loss:  0.421             | Val Loss:  0.474             | Train RMSE:  0.641             | Val RMSE:  0.684\n"
          ]
        },
        {
          "output_type": "stream",
          "name": "stderr",
          "text": [
            "100%|██████████| 29/29 [00:00<00:00, 36.57it/s]\n"
          ]
        },
        {
          "output_type": "stream",
          "name": "stdout",
          "text": [
            "Epochs: 225 | Train Loss:  0.417             | Val Loss:  0.435             | Train RMSE:  0.639             | Val RMSE:  0.644\n"
          ]
        },
        {
          "output_type": "stream",
          "name": "stderr",
          "text": [
            "100%|██████████| 29/29 [00:00<00:00, 36.85it/s]\n"
          ]
        },
        {
          "output_type": "stream",
          "name": "stdout",
          "text": [
            "Epochs: 226 | Train Loss:  0.389             | Val Loss:  0.391             | Train RMSE:  0.618             | Val RMSE:  0.624\n"
          ]
        },
        {
          "output_type": "stream",
          "name": "stderr",
          "text": [
            "100%|██████████| 29/29 [00:00<00:00, 36.89it/s]\n"
          ]
        },
        {
          "output_type": "stream",
          "name": "stdout",
          "text": [
            "Epochs: 227 | Train Loss:  0.395             | Val Loss:  0.340             | Train RMSE:  0.622             | Val RMSE:  0.578\n"
          ]
        },
        {
          "output_type": "stream",
          "name": "stderr",
          "text": [
            "100%|██████████| 29/29 [00:00<00:00, 37.12it/s]\n"
          ]
        },
        {
          "output_type": "stream",
          "name": "stdout",
          "text": [
            "Epochs: 228 | Train Loss:  0.395             | Val Loss:  0.533             | Train RMSE:  0.622             | Val RMSE:  0.726\n"
          ]
        },
        {
          "output_type": "stream",
          "name": "stderr",
          "text": [
            "100%|██████████| 29/29 [00:00<00:00, 36.96it/s]\n"
          ]
        },
        {
          "output_type": "stream",
          "name": "stdout",
          "text": [
            "Epochs: 229 | Train Loss:  0.404             | Val Loss:  0.398             | Train RMSE:  0.631             | Val RMSE:  0.628\n"
          ]
        },
        {
          "output_type": "stream",
          "name": "stderr",
          "text": [
            "100%|██████████| 29/29 [00:00<00:00, 37.04it/s]\n"
          ]
        },
        {
          "output_type": "stream",
          "name": "stdout",
          "text": [
            "Epochs: 230 | Train Loss:  0.435             | Val Loss:  0.370             | Train RMSE:  0.652             | Val RMSE:  0.583\n"
          ]
        },
        {
          "output_type": "stream",
          "name": "stderr",
          "text": [
            "100%|██████████| 29/29 [00:00<00:00, 36.92it/s]\n"
          ]
        },
        {
          "output_type": "stream",
          "name": "stdout",
          "text": [
            "Epochs: 231 | Train Loss:  0.406             | Val Loss:  0.398             | Train RMSE:  0.633             | Val RMSE:  0.628\n"
          ]
        },
        {
          "output_type": "stream",
          "name": "stderr",
          "text": [
            "100%|██████████| 29/29 [00:00<00:00, 36.80it/s]\n"
          ]
        },
        {
          "output_type": "stream",
          "name": "stdout",
          "text": [
            "Epochs: 232 | Train Loss:  0.418             | Val Loss:  0.362             | Train RMSE:  0.640             | Val RMSE:  0.582\n"
          ]
        },
        {
          "output_type": "stream",
          "name": "stderr",
          "text": [
            "100%|██████████| 29/29 [00:00<00:00, 36.82it/s]\n"
          ]
        },
        {
          "output_type": "stream",
          "name": "stdout",
          "text": [
            "Epochs: 233 | Train Loss:  0.424             | Val Loss:  0.452             | Train RMSE:  0.645             | Val RMSE:  0.660\n"
          ]
        },
        {
          "output_type": "stream",
          "name": "stderr",
          "text": [
            "100%|██████████| 29/29 [00:00<00:00, 36.66it/s]\n"
          ]
        },
        {
          "output_type": "stream",
          "name": "stdout",
          "text": [
            "Epochs: 234 | Train Loss:  0.419             | Val Loss:  0.413             | Train RMSE:  0.639             | Val RMSE:  0.640\n"
          ]
        },
        {
          "output_type": "stream",
          "name": "stderr",
          "text": [
            "100%|██████████| 29/29 [00:00<00:00, 36.86it/s]\n"
          ]
        },
        {
          "output_type": "stream",
          "name": "stdout",
          "text": [
            "Epochs: 235 | Train Loss:  0.408             | Val Loss:  0.360             | Train RMSE:  0.632             | Val RMSE:  0.592\n"
          ]
        },
        {
          "output_type": "stream",
          "name": "stderr",
          "text": [
            "100%|██████████| 29/29 [00:00<00:00, 36.79it/s]\n"
          ]
        },
        {
          "output_type": "stream",
          "name": "stdout",
          "text": [
            "Epochs: 236 | Train Loss:  0.412             | Val Loss:  0.475             | Train RMSE:  0.636             | Val RMSE:  0.677\n"
          ]
        },
        {
          "output_type": "stream",
          "name": "stderr",
          "text": [
            "100%|██████████| 29/29 [00:00<00:00, 36.65it/s]\n"
          ]
        },
        {
          "output_type": "stream",
          "name": "stdout",
          "text": [
            "Epochs: 237 | Train Loss:  0.401             | Val Loss:  0.453             | Train RMSE:  0.628             | Val RMSE:  0.672\n"
          ]
        },
        {
          "output_type": "stream",
          "name": "stderr",
          "text": [
            "100%|██████████| 29/29 [00:00<00:00, 36.68it/s]\n"
          ]
        },
        {
          "output_type": "stream",
          "name": "stdout",
          "text": [
            "Epochs: 238 | Train Loss:  0.404             | Val Loss:  0.488             | Train RMSE:  0.631             | Val RMSE:  0.689\n"
          ]
        },
        {
          "output_type": "stream",
          "name": "stderr",
          "text": [
            "100%|██████████| 29/29 [00:00<00:00, 36.91it/s]\n"
          ]
        },
        {
          "output_type": "stream",
          "name": "stdout",
          "text": [
            "Epochs: 239 | Train Loss:  0.405             | Val Loss:  0.366             | Train RMSE:  0.627             | Val RMSE:  0.600\n"
          ]
        },
        {
          "output_type": "stream",
          "name": "stderr",
          "text": [
            "100%|██████████| 29/29 [00:00<00:00, 36.75it/s]\n"
          ]
        },
        {
          "output_type": "stream",
          "name": "stdout",
          "text": [
            "Epochs: 240 | Train Loss:  0.404             | Val Loss:  0.438             | Train RMSE:  0.628             | Val RMSE:  0.661\n"
          ]
        },
        {
          "output_type": "stream",
          "name": "stderr",
          "text": [
            "100%|██████████| 29/29 [00:00<00:00, 36.77it/s]\n"
          ]
        },
        {
          "output_type": "stream",
          "name": "stdout",
          "text": [
            "Epochs: 241 | Train Loss:  0.419             | Val Loss:  0.410             | Train RMSE:  0.637             | Val RMSE:  0.640\n"
          ]
        },
        {
          "output_type": "stream",
          "name": "stderr",
          "text": [
            "100%|██████████| 29/29 [00:00<00:00, 36.78it/s]\n"
          ]
        },
        {
          "output_type": "stream",
          "name": "stdout",
          "text": [
            "Epochs: 242 | Train Loss:  0.420             | Val Loss:  0.327             | Train RMSE:  0.642             | Val RMSE:  0.566\n"
          ]
        },
        {
          "output_type": "stream",
          "name": "stderr",
          "text": [
            "100%|██████████| 29/29 [00:00<00:00, 36.59it/s]\n"
          ]
        },
        {
          "output_type": "stream",
          "name": "stdout",
          "text": [
            "Epochs: 243 | Train Loss:  0.404             | Val Loss:  0.381             | Train RMSE:  0.629             | Val RMSE:  0.614\n"
          ]
        },
        {
          "output_type": "stream",
          "name": "stderr",
          "text": [
            "100%|██████████| 29/29 [00:00<00:00, 36.69it/s]\n"
          ]
        },
        {
          "output_type": "stream",
          "name": "stdout",
          "text": [
            "Epochs: 244 | Train Loss:  0.427             | Val Loss:  0.381             | Train RMSE:  0.645             | Val RMSE:  0.612\n"
          ]
        },
        {
          "output_type": "stream",
          "name": "stderr",
          "text": [
            "100%|██████████| 29/29 [00:00<00:00, 36.83it/s]\n"
          ]
        },
        {
          "output_type": "stream",
          "name": "stdout",
          "text": [
            "Epochs: 245 | Train Loss:  0.394             | Val Loss:  0.336             | Train RMSE:  0.622             | Val RMSE:  0.571\n"
          ]
        },
        {
          "output_type": "stream",
          "name": "stderr",
          "text": [
            "100%|██████████| 29/29 [00:00<00:00, 36.78it/s]\n"
          ]
        },
        {
          "output_type": "stream",
          "name": "stdout",
          "text": [
            "Epochs: 246 | Train Loss:  0.403             | Val Loss:  0.386             | Train RMSE:  0.623             | Val RMSE:  0.617\n"
          ]
        },
        {
          "output_type": "stream",
          "name": "stderr",
          "text": [
            "100%|██████████| 29/29 [00:00<00:00, 36.81it/s]\n"
          ]
        },
        {
          "output_type": "stream",
          "name": "stdout",
          "text": [
            "Epochs: 247 | Train Loss:  0.370             | Val Loss:  0.399             | Train RMSE:  0.598             | Val RMSE:  0.631\n"
          ]
        },
        {
          "output_type": "stream",
          "name": "stderr",
          "text": [
            "100%|██████████| 29/29 [00:00<00:00, 36.79it/s]\n"
          ]
        },
        {
          "output_type": "stream",
          "name": "stdout",
          "text": [
            "Epochs: 248 | Train Loss:  0.447             | Val Loss:  0.408             | Train RMSE:  0.658             | Val RMSE:  0.634\n"
          ]
        },
        {
          "output_type": "stream",
          "name": "stderr",
          "text": [
            "100%|██████████| 29/29 [00:00<00:00, 36.77it/s]\n"
          ]
        },
        {
          "output_type": "stream",
          "name": "stdout",
          "text": [
            "Epochs: 249 | Train Loss:  0.378             | Val Loss:  0.439             | Train RMSE:  0.607             | Val RMSE:  0.654\n"
          ]
        },
        {
          "output_type": "stream",
          "name": "stderr",
          "text": [
            "100%|██████████| 29/29 [00:00<00:00, 36.97it/s]"
          ]
        },
        {
          "output_type": "stream",
          "name": "stdout",
          "text": [
            "Epochs: 250 | Train Loss:  0.413             | Val Loss:  0.383             | Train RMSE:  0.635             | Val RMSE:  0.603\n"
          ]
        },
        {
          "output_type": "stream",
          "name": "stderr",
          "text": [
            "\n"
          ]
        },
        {
          "output_type": "execute_result",
          "data": {
            "text/plain": [
              "HiGNN(\n",
              "  (lin_a): Linear(in_features=45, out_features=64, bias=True)\n",
              "  (lin_b): Linear(in_features=10, out_features=64, bias=True)\n",
              "  (atom_convs): ModuleList(\n",
              "    (0): NTNConv(64, 64, slices=2)\n",
              "    (1): NTNConv(64, 64, slices=2)\n",
              "    (2): NTNConv(64, 64, slices=2)\n",
              "  )\n",
              "  (lin_gate): Linear(in_features=192, out_features=64, bias=True)\n",
              "  (feature_att): FeatureAttention(\n",
              "    (mlp): Sequential(\n",
              "      (0): Linear(in_features=64, out_features=16, bias=True)\n",
              "      (1): ReLU(inplace=True)\n",
              "      (2): Linear(in_features=16, out_features=64, bias=False)\n",
              "    )\n",
              "  )\n",
              "  (cross_att): GATConv(64, 64, heads=4)\n",
              "  (out): ModuleList(\n",
              "    (0): Linear(in_features=128, out_features=1, bias=True)\n",
              "  )\n",
              ")"
            ]
          },
          "metadata": {},
          "execution_count": 48
        }
      ]
    },
    {
      "cell_type": "markdown",
      "source": [
        "# Section - 3: Code for pretraining a model."
      ],
      "metadata": {
        "id": "oaQ9KTDD4j2z"
      }
    },
    {
      "cell_type": "code",
      "source": [
        "# Prepapre the Data Loaders.\n",
        "train_loader, valid_loader, test_loader = get_loaders(root = './root/',\n",
        "                                                      fpath = \"./chem_datasets/deleney_assistant_ds_descriptors.csv\",\n",
        "                                                      dataset = \"deleney_assistant_ds_descriptors\",\n",
        "                                                      task_type = 'regression',\n",
        "                                                      tasks = ['MolWt', 'HeavyAtomMolWt', 'ExactMolWt', 'FpDensityMorgan1', 'Chi0v', 'Chi1v', 'LabuteASA', 'PEOE_VSA6', 'MolLogP', 'MolMR'],\n",
        "                                                      smiles_col = 'smiles'\n",
        "                                                  )"
      ],
      "metadata": {
        "colab": {
          "base_uri": "https://localhost:8080/"
        },
        "id": "Z6B-gqAREhQ7",
        "outputId": "70f63480-8a45-4dc4-928d-9208d300f232"
      },
      "execution_count": null,
      "outputs": [
        {
          "output_type": "stream",
          "name": "stdout",
          "text": [
            "Total smiles = 89,051 | train smiles = 71,240 | val smiles = 8,905 | test smiles = 8,906\n"
          ]
        },
        {
          "output_type": "stream",
          "name": "stderr",
          "text": [
            "/home/ec2-user/virtenv/lib64/python3.7/site-packages/torch_geometric/data/in_memory_dataset.py:157: UserWarning: It is not recommended to directly access the internal storage format `data` of an 'InMemoryDataset'. If you are absolutely certain what you are doing, access the internal storage via `InMemoryDataset._data` instead to suppress this warning. Alternatively, you can access stacked individual attributes of every graph via `dataset.{attr_name}`.\n",
            "  warnings.warn(msg)\n",
            "/home/ec2-user/virtenv/lib64/python3.7/site-packages/torch_geometric/deprecation.py:22: UserWarning: 'data.DataLoader' is deprecated, use 'loader.DataLoader' instead\n",
            "  warnings.warn(out)\n"
          ]
        }
      ]
    },
    {
      "cell_type": "code",
      "source": [
        "# Build a Model - Make Sure that num_outputs is the number of outputs that we are trying to predict, in this case 10\n",
        "hi_gnn = build_model(num_outputs = 10)"
      ],
      "metadata": {
        "id": "TGJVBIs15LkX"
      },
      "execution_count": null,
      "outputs": []
    },
    {
      "cell_type": "code",
      "source": [
        "# Get The device object\n",
        "device = torch.device('cuda' if torch.cuda.is_available() else 'cpu')"
      ],
      "metadata": {
        "id": "9JCFN8sY5rtb"
      },
      "execution_count": null,
      "outputs": []
    },
    {
      "cell_type": "code",
      "source": [
        "# Train the model by passing in data loaders model object\n",
        "hi_gnn = train_regression(hi_gnn, train_loader, valid_loader, learning_rate = 1e-03, min_lr = 1e-04, epochs = 3, wd = 1e-03)"
      ],
      "metadata": {
        "colab": {
          "base_uri": "https://localhost:8080/"
        },
        "id": "3U_q3faA5xNo",
        "outputId": "ac314060-a6d1-436a-9657-9fbb3a384708"
      },
      "execution_count": null,
      "outputs": [
        {
          "output_type": "stream",
          "name": "stderr",
          "text": [
            "100%|██████████| 2227/2227 [01:11<00:00, 31.09it/s]\n"
          ]
        },
        {
          "output_type": "stream",
          "name": "stdout",
          "text": [
            "Epochs: 1 | Train Loss:  1471.696             | Val Loss:  1486.437             | Train RMSE:  37.937             | Val RMSE:  38.152\n"
          ]
        },
        {
          "output_type": "stream",
          "name": "stderr",
          "text": [
            "100%|██████████| 2227/2227 [01:10<00:00, 31.42it/s]\n"
          ]
        },
        {
          "output_type": "stream",
          "name": "stdout",
          "text": [
            "Epochs: 2 | Train Loss:  1294.425             | Val Loss:  1277.298             | Train RMSE:  35.622             | Val RMSE:  35.341\n"
          ]
        },
        {
          "output_type": "stream",
          "name": "stderr",
          "text": [
            "100%|██████████| 2227/2227 [01:10<00:00, 31.69it/s]\n"
          ]
        },
        {
          "output_type": "stream",
          "name": "stdout",
          "text": [
            "Epochs: 3 | Train Loss:  1259.048             | Val Loss:  1276.295             | Train RMSE:  35.097             | Val RMSE:  35.398\n"
          ]
        }
      ]
    },
    {
      "cell_type": "code",
      "source": [
        "# Save the model\n",
        "hi_gnn.save_model(\"./models/hignn_test_sol_pretrained.pth\")"
      ],
      "metadata": {
        "id": "lvJT6IyTAGT4"
      },
      "execution_count": null,
      "outputs": []
    },
    {
      "cell_type": "markdown",
      "source": [
        "**Code for prediction**"
      ],
      "metadata": {
        "id": "CkuZpDhWAsx2"
      }
    },
    {
      "cell_type": "code",
      "source": [
        "def predict(model, dl, device = device):\n",
        "\n",
        "  '''\n",
        "  This model takes in model and dataloader and gives out predicted values for all the samples in the dataloader.\n",
        "\n",
        "  Args:\n",
        "    model {nn.module}: Model Object (HiGNN)\n",
        "    dl {DataLoader}: DataLoader object.\n",
        "    device {torch.device}: cuda if GPU available else cpu\n",
        "  '''\n",
        "  out = torch.Tensor([])\n",
        "  model.eval()\n",
        "  with torch.no_grad():\n",
        "    for x in dl:\n",
        "      x = x.to(device)\n",
        "      outputs = model(x)\n",
        "      yhat = outputs.squeeze()\n",
        "      yhat = yhat.to(torch.device('cpu'))\n",
        "      out = torch.cat([out, yhat], dim = -1)\n",
        "  return out.numpy()"
      ],
      "metadata": {
        "id": "e5Lq44J6kF9E"
      },
      "execution_count": null,
      "outputs": []
    },
    {
      "cell_type": "code",
      "source": [
        "# Visualization of Predicted values and real values.\n",
        "import matplotlib.pyplot as plt\n",
        "\n",
        "y = torch.Tensor([])\n",
        "for x in test_loader:\n",
        "  y = torch.cat([y, x.y.squeeze()], dim = 0)\n",
        "\n",
        "y = y.numpy()\n",
        "y_hat = predict(hi_gnn, test_loader)\n",
        "\n",
        "\n",
        "plt.figure(figsize=(10,6))\n",
        "\n",
        "# Plotting y\n",
        "plt.plot(y, label='True values')\n",
        "\n",
        "# Plotting yhat\n",
        "plt.plot(y_hat, label='Predicted values')\n",
        "\n",
        "plt.legend()\n",
        "plt.show()"
      ],
      "metadata": {
        "colab": {
          "base_uri": "https://localhost:8080/"
        },
        "id": "YPebRT5zkoKu",
        "outputId": "0a633b7e-60f7-4675-8a7a-fba7541527cd"
      },
      "execution_count": null,
      "outputs": [
        {
          "output_type": "display_data",
          "data": {
            "text/plain": [
              "<Figure size 1000x600 with 1 Axes>"
            ],
            "image/png": "[encoded data removed]"
          },
          "metadata": {}
        }
      ]
    },
    {
      "cell_type": "code",
      "source": [],
      "metadata": {
        "id": "u06mBUqblUBN"
      },
      "execution_count": null,
      "outputs": []
    },
    {
      "cell_type": "markdown",
      "source": [
        "# Section - 4 - input_PBS_final"
      ],
      "metadata": {
        "id": "hqB5hZWb-U07"
      }
    },
    {
      "cell_type": "code",
      "source": [
        "df = pd.read_csv(\"./chem_datasets/input_PBS_final.csv\")\n",
        "df.head()"
      ],
      "metadata": {
        "colab": {
          "base_uri": "https://localhost:8080/",
          "height": 0
        },
        "id": "_iB7Qmq3-d8l",
        "outputId": "473a1699-1720-4e22-e3b6-63a97e10c9ae"
      },
      "execution_count": 128,
      "outputs": [
        {
          "output_type": "execute_result",
          "data": {
            "text/plain": [
              "                                              SMILES  Average logS PBS\n",
              "0  [C@@H]1(CO)[C@@H](O)[C@@H](OCCOCCOCCOCCOCC#C)[...         -4.011887\n",
              "1  [C@@H]1(CO)[C@@H](O)[C@@H](OS(=O)(=O)NC(COCCOC...         -4.032920\n",
              "2  [C@@H]1(CO)[C@@H](OS(NC(COCCOCCOCCOCC#C)=O)(=O...         -3.962574\n",
              "3  [C@@H]1(COCCOCCOCCOCCOCC#C)[C@@H](O)[C@@H](O)[...         -4.007889\n",
              "4  [C@@H]1(COP(=O)(NCCOCCOCCOCCOCC#C)O)[C@@H](O)[...         -4.004365"
            ],
            "text/html": [
              "<div>\n",
              "<style scoped>\n",
              "    .dataframe tbody tr th:only-of-type {\n",
              "        vertical-align: middle;\n",
              "    }\n",
              "\n",
              "    .dataframe tbody tr th {\n",
              "        vertical-align: top;\n",
              "    }\n",
              "\n",
              "    .dataframe thead th {\n",
              "        text-align: right;\n",
              "    }\n",
              "</style>\n",
              "<table border=\"1\" class=\"dataframe\">\n",
              "  <thead>\n",
              "    <tr style=\"text-align: right;\">\n",
              "      <th></th>\n",
              "      <th>SMILES</th>\n",
              "      <th>Average logS PBS</th>\n",
              "    </tr>\n",
              "  </thead>\n",
              "  <tbody>\n",
              "    <tr>\n",
              "      <th>0</th>\n",
              "      <td>[C@@H]1(CO)[C@@H](O)[C@@H](OCCOCCOCCOCCOCC#C)[...</td>\n",
              "      <td>-4.011887</td>\n",
              "    </tr>\n",
              "    <tr>\n",
              "      <th>1</th>\n",
              "      <td>[C@@H]1(CO)[C@@H](O)[C@@H](OS(=O)(=O)NC(COCCOC...</td>\n",
              "      <td>-4.032920</td>\n",
              "    </tr>\n",
              "    <tr>\n",
              "      <th>2</th>\n",
              "      <td>[C@@H]1(CO)[C@@H](OS(NC(COCCOCCOCCOCC#C)=O)(=O...</td>\n",
              "      <td>-3.962574</td>\n",
              "    </tr>\n",
              "    <tr>\n",
              "      <th>3</th>\n",
              "      <td>[C@@H]1(COCCOCCOCCOCCOCC#C)[C@@H](O)[C@@H](O)[...</td>\n",
              "      <td>-4.007889</td>\n",
              "    </tr>\n",
              "    <tr>\n",
              "      <th>4</th>\n",
              "      <td>[C@@H]1(COP(=O)(NCCOCCOCCOCCOCC#C)O)[C@@H](O)[...</td>\n",
              "      <td>-4.004365</td>\n",
              "    </tr>\n",
              "  </tbody>\n",
              "</table>\n",
              "</div>"
            ]
          },
          "metadata": {},
          "execution_count": 128
        }
      ]
    },
    {
      "cell_type": "code",
      "source": [
        "df.describe()"
      ],
      "metadata": {
        "colab": {
          "base_uri": "https://localhost:8080/",
          "height": 0
        },
        "id": "mlkMa-xG-TVn",
        "outputId": "cf9aa078-7e0d-4c3d-9ca5-c4312ad6a27b"
      },
      "execution_count": 105,
      "outputs": [
        {
          "output_type": "execute_result",
          "data": {
            "text/plain": [
              "       Average logS PBS\n",
              "count       3719.000000\n",
              "mean          -5.443525\n",
              "std            1.347607\n",
              "min           -9.924453\n",
              "25%           -6.259637\n",
              "50%           -5.204120\n",
              "75%           -4.230992\n",
              "max           -3.581699"
            ],
            "text/html": [
              "<div>\n",
              "<style scoped>\n",
              "    .dataframe tbody tr th:only-of-type {\n",
              "        vertical-align: middle;\n",
              "    }\n",
              "\n",
              "    .dataframe tbody tr th {\n",
              "        vertical-align: top;\n",
              "    }\n",
              "\n",
              "    .dataframe thead th {\n",
              "        text-align: right;\n",
              "    }\n",
              "</style>\n",
              "<table border=\"1\" class=\"dataframe\">\n",
              "  <thead>\n",
              "    <tr style=\"text-align: right;\">\n",
              "      <th></th>\n",
              "      <th>Average logS PBS</th>\n",
              "    </tr>\n",
              "  </thead>\n",
              "  <tbody>\n",
              "    <tr>\n",
              "      <th>count</th>\n",
              "      <td>3719.000000</td>\n",
              "    </tr>\n",
              "    <tr>\n",
              "      <th>mean</th>\n",
              "      <td>-5.443525</td>\n",
              "    </tr>\n",
              "    <tr>\n",
              "      <th>std</th>\n",
              "      <td>1.347607</td>\n",
              "    </tr>\n",
              "    <tr>\n",
              "      <th>min</th>\n",
              "      <td>-9.924453</td>\n",
              "    </tr>\n",
              "    <tr>\n",
              "      <th>25%</th>\n",
              "      <td>-6.259637</td>\n",
              "    </tr>\n",
              "    <tr>\n",
              "      <th>50%</th>\n",
              "      <td>-5.204120</td>\n",
              "    </tr>\n",
              "    <tr>\n",
              "      <th>75%</th>\n",
              "      <td>-4.230992</td>\n",
              "    </tr>\n",
              "    <tr>\n",
              "      <th>max</th>\n",
              "      <td>-3.581699</td>\n",
              "    </tr>\n",
              "  </tbody>\n",
              "</table>\n",
              "</div>"
            ]
          },
          "metadata": {},
          "execution_count": 105
        }
      ]
    },
    {
      "cell_type": "code",
      "source": [
        "df = df.sample(frac=1).reset_index(drop=True)\n",
        "df.to_csv('./chem_datasets/input_PBS_final_random.csv', index= None)"
      ],
      "metadata": {
        "id": "VfFVh6lIA4t-"
      },
      "execution_count": 129,
      "outputs": []
    },
    {
      "cell_type": "code",
      "source": [
        "df = pd.read_csv('./chem_datasets/input_PBS_final_random.csv')\n",
        "df.head()"
      ],
      "metadata": {
        "colab": {
          "base_uri": "https://localhost:8080/",
          "height": 0
        },
        "id": "DbZ-APUjBIc9",
        "outputId": "100076b1-da4c-48e8-db4d-13ca6e5b9b1e"
      },
      "execution_count": 130,
      "outputs": [
        {
          "output_type": "execute_result",
          "data": {
            "text/plain": [
              "                                              SMILES  Average logS PBS\n",
              "0  N1(C(C2=CC=CC(NC(NC3=NN=C(SCCN(C)C)S3)=O)=C2)=...         -4.081970\n",
              "1  C1(F)=C(OCC2CCN2S(=O)(F)=O)C=CC(NC(=O)NC2=NN=C...         -5.416801\n",
              "2  C1(N(C(C2=CC=C(Br)S2)=O)CCCN2CCOCC2)=NC2=C(S1)...         -5.588380\n",
              "3  O=C1N(CCC2=CC3=C(NC(=O)N3)C=C2)C(CCN2C(=O)N3C=...         -5.193142\n",
              "4  C12=C(C(=O)N(CCC3=CC=C(OC)C(OC)=C3)C(CCN3C(=O)...         -6.879426"
            ],
            "text/html": [
              "<div>\n",
              "<style scoped>\n",
              "    .dataframe tbody tr th:only-of-type {\n",
              "        vertical-align: middle;\n",
              "    }\n",
              "\n",
              "    .dataframe tbody tr th {\n",
              "        vertical-align: top;\n",
              "    }\n",
              "\n",
              "    .dataframe thead th {\n",
              "        text-align: right;\n",
              "    }\n",
              "</style>\n",
              "<table border=\"1\" class=\"dataframe\">\n",
              "  <thead>\n",
              "    <tr style=\"text-align: right;\">\n",
              "      <th></th>\n",
              "      <th>SMILES</th>\n",
              "      <th>Average logS PBS</th>\n",
              "    </tr>\n",
              "  </thead>\n",
              "  <tbody>\n",
              "    <tr>\n",
              "      <th>0</th>\n",
              "      <td>N1(C(C2=CC=CC(NC(NC3=NN=C(SCCN(C)C)S3)=O)=C2)=...</td>\n",
              "      <td>-4.081970</td>\n",
              "    </tr>\n",
              "    <tr>\n",
              "      <th>1</th>\n",
              "      <td>C1(F)=C(OCC2CCN2S(=O)(F)=O)C=CC(NC(=O)NC2=NN=C...</td>\n",
              "      <td>-5.416801</td>\n",
              "    </tr>\n",
              "    <tr>\n",
              "      <th>2</th>\n",
              "      <td>C1(N(C(C2=CC=C(Br)S2)=O)CCCN2CCOCC2)=NC2=C(S1)...</td>\n",
              "      <td>-5.588380</td>\n",
              "    </tr>\n",
              "    <tr>\n",
              "      <th>3</th>\n",
              "      <td>O=C1N(CCC2=CC3=C(NC(=O)N3)C=C2)C(CCN2C(=O)N3C=...</td>\n",
              "      <td>-5.193142</td>\n",
              "    </tr>\n",
              "    <tr>\n",
              "      <th>4</th>\n",
              "      <td>C12=C(C(=O)N(CCC3=CC=C(OC)C(OC)=C3)C(CCN3C(=O)...</td>\n",
              "      <td>-6.879426</td>\n",
              "    </tr>\n",
              "  </tbody>\n",
              "</table>\n",
              "</div>"
            ]
          },
          "metadata": {},
          "execution_count": 130
        }
      ]
    },
    {
      "cell_type": "code",
      "source": [
        "# Prepapre the Data Loaders.\n",
        "train_loader, valid_loader, test_loader = get_loaders(root = './root/',\n",
        "                                                      fpath = \"./chem_datasets/input_PBS_final_random.csv\",\n",
        "                                                      dataset = \"input_PBS_final_random_iter_3\",\n",
        "                                                      task_type = 'regression',\n",
        "                                                      tasks = ['Average logS PBS'],\n",
        "                                                      smiles_col = 'SMILES'\n",
        "                                                  )"
      ],
      "metadata": {
        "colab": {
          "base_uri": "https://localhost:8080/"
        },
        "id": "2GCsG5Fu-xni",
        "outputId": "80c4efd7-f5b2-4c46-aa7e-08f625fe318c"
      },
      "execution_count": 10,
      "outputs": [
        {
          "output_type": "stream",
          "name": "stdout",
          "text": [
            "Total smiles = 3,719 | train smiles = 2,975 | val smiles = 371 | test smiles = 373\n"
          ]
        },
        {
          "output_type": "stream",
          "name": "stderr",
          "text": [
            "/home/ec2-user/virtenv/lib64/python3.7/site-packages/torch_geometric/data/in_memory_dataset.py:157: UserWarning: It is not recommended to directly access the internal storage format `data` of an 'InMemoryDataset'. If you are absolutely certain what you are doing, access the internal storage via `InMemoryDataset._data` instead to suppress this warning. Alternatively, you can access stacked individual attributes of every graph via `dataset.{attr_name}`.\n",
            "  warnings.warn(msg)\n",
            "/home/ec2-user/virtenv/lib64/python3.7/site-packages/torch_geometric/deprecation.py:22: UserWarning: 'data.DataLoader' is deprecated, use 'loader.DataLoader' instead\n",
            "  warnings.warn(out)\n"
          ]
        }
      ]
    },
    {
      "cell_type": "code",
      "source": [
        "#Get Device\n",
        "device = torch.device('cuda' if torch.cuda.is_available() else 'cpu')\n",
        "\n",
        "#Build Model\n",
        "hi_gnn = build_model()"
      ],
      "metadata": {
        "id": "OJZ55UIe-7Cb"
      },
      "execution_count": 13,
      "outputs": []
    },
    {
      "cell_type": "code",
      "source": [
        "# Train the model\n",
        "train_regression(hi_gnn, train_loader, valid_loader, learning_rate = 1e-03, min_lr = 1e-04, epochs = 250, wd = 1e-03)"
      ],
      "metadata": {
        "colab": {
          "base_uri": "https://localhost:8080/"
        },
        "id": "DXfSmjq6-uZM",
        "outputId": "a74dee10-9a17-4613-c0e7-12a8a6e2aecb"
      },
      "execution_count": 15,
      "outputs": [
        {
          "output_type": "stream",
          "name": "stderr",
          "text": [
            "100%|██████████| 93/93 [00:03<00:00, 24.27it/s]\n"
          ]
        },
        {
          "output_type": "stream",
          "name": "stdout",
          "text": [
            "Epochs: 1 | Train Loss:  4.668             | Val Loss:  1.974             | Train RMSE:  1.977             | Val RMSE:  1.390\n"
          ]
        },
        {
          "output_type": "stream",
          "name": "stderr",
          "text": [
            "100%|██████████| 93/93 [00:02<00:00, 37.11it/s]\n"
          ]
        },
        {
          "output_type": "stream",
          "name": "stdout",
          "text": [
            "Epochs: 2 | Train Loss:  1.881             | Val Loss:  1.757             | Train RMSE:  1.354             | Val RMSE:  1.313\n"
          ]
        },
        {
          "output_type": "stream",
          "name": "stderr",
          "text": [
            "100%|██████████| 93/93 [00:02<00:00, 37.07it/s]\n"
          ]
        },
        {
          "output_type": "stream",
          "name": "stdout",
          "text": [
            "Epochs: 3 | Train Loss:  1.746             | Val Loss:  1.985             | Train RMSE:  1.307             | Val RMSE:  1.398\n"
          ]
        },
        {
          "output_type": "stream",
          "name": "stderr",
          "text": [
            "100%|██████████| 93/93 [00:02<00:00, 37.04it/s]\n"
          ]
        },
        {
          "output_type": "stream",
          "name": "stdout",
          "text": [
            "Epochs: 4 | Train Loss:  1.560             | Val Loss:  1.465             | Train RMSE:  1.236             | Val RMSE:  1.204\n"
          ]
        },
        {
          "output_type": "stream",
          "name": "stderr",
          "text": [
            "100%|██████████| 93/93 [00:02<00:00, 36.98it/s]\n"
          ]
        },
        {
          "output_type": "stream",
          "name": "stdout",
          "text": [
            "Epochs: 5 | Train Loss:  1.482             | Val Loss:  1.542             | Train RMSE:  1.205             | Val RMSE:  1.238\n"
          ]
        },
        {
          "output_type": "stream",
          "name": "stderr",
          "text": [
            "100%|██████████| 93/93 [00:02<00:00, 37.01it/s]\n"
          ]
        },
        {
          "output_type": "stream",
          "name": "stdout",
          "text": [
            "Epochs: 6 | Train Loss:  1.444             | Val Loss:  1.479             | Train RMSE:  1.186             | Val RMSE:  1.202\n"
          ]
        },
        {
          "output_type": "stream",
          "name": "stderr",
          "text": [
            "100%|██████████| 93/93 [00:02<00:00, 37.05it/s]\n"
          ]
        },
        {
          "output_type": "stream",
          "name": "stdout",
          "text": [
            "Epochs: 7 | Train Loss:  1.357             | Val Loss:  1.419             | Train RMSE:  1.151             | Val RMSE:  1.183\n"
          ]
        },
        {
          "output_type": "stream",
          "name": "stderr",
          "text": [
            "100%|██████████| 93/93 [00:02<00:00, 37.06it/s]\n"
          ]
        },
        {
          "output_type": "stream",
          "name": "stdout",
          "text": [
            "Epochs: 8 | Train Loss:  1.352             | Val Loss:  1.477             | Train RMSE:  1.152             | Val RMSE:  1.209\n"
          ]
        },
        {
          "output_type": "stream",
          "name": "stderr",
          "text": [
            "100%|██████████| 93/93 [00:02<00:00, 36.97it/s]\n"
          ]
        },
        {
          "output_type": "stream",
          "name": "stdout",
          "text": [
            "Epochs: 9 | Train Loss:  1.359             | Val Loss:  1.551             | Train RMSE:  1.157             | Val RMSE:  1.240\n"
          ]
        },
        {
          "output_type": "stream",
          "name": "stderr",
          "text": [
            "100%|██████████| 93/93 [00:02<00:00, 36.94it/s]\n"
          ]
        },
        {
          "output_type": "stream",
          "name": "stdout",
          "text": [
            "Epochs: 10 | Train Loss:  1.334             | Val Loss:  1.410             | Train RMSE:  1.142             | Val RMSE:  1.177\n"
          ]
        },
        {
          "output_type": "stream",
          "name": "stderr",
          "text": [
            "100%|██████████| 93/93 [00:02<00:00, 36.87it/s]\n"
          ]
        },
        {
          "output_type": "stream",
          "name": "stdout",
          "text": [
            "Epochs: 11 | Train Loss:  1.347             | Val Loss:  1.345             | Train RMSE:  1.143             | Val RMSE:  1.148\n"
          ]
        },
        {
          "output_type": "stream",
          "name": "stderr",
          "text": [
            "100%|██████████| 93/93 [00:02<00:00, 37.00it/s]\n"
          ]
        },
        {
          "output_type": "stream",
          "name": "stdout",
          "text": [
            "Epochs: 12 | Train Loss:  1.319             | Val Loss:  1.415             | Train RMSE:  1.138             | Val RMSE:  1.186\n"
          ]
        },
        {
          "output_type": "stream",
          "name": "stderr",
          "text": [
            "100%|██████████| 93/93 [00:02<00:00, 37.06it/s]\n"
          ]
        },
        {
          "output_type": "stream",
          "name": "stdout",
          "text": [
            "Epochs: 13 | Train Loss:  1.308             | Val Loss:  1.276             | Train RMSE:  1.130             | Val RMSE:  1.121\n"
          ]
        },
        {
          "output_type": "stream",
          "name": "stderr",
          "text": [
            "100%|██████████| 93/93 [00:02<00:00, 37.00it/s]\n"
          ]
        },
        {
          "output_type": "stream",
          "name": "stdout",
          "text": [
            "Epochs: 14 | Train Loss:  1.332             | Val Loss:  1.302             | Train RMSE:  1.142             | Val RMSE:  1.132\n"
          ]
        },
        {
          "output_type": "stream",
          "name": "stderr",
          "text": [
            "100%|██████████| 93/93 [00:02<00:00, 37.02it/s]\n"
          ]
        },
        {
          "output_type": "stream",
          "name": "stdout",
          "text": [
            "Epochs: 15 | Train Loss:  1.282             | Val Loss:  1.338             | Train RMSE:  1.121             | Val RMSE:  1.151\n"
          ]
        },
        {
          "output_type": "stream",
          "name": "stderr",
          "text": [
            "100%|██████████| 93/93 [00:02<00:00, 36.89it/s]\n"
          ]
        },
        {
          "output_type": "stream",
          "name": "stdout",
          "text": [
            "Epochs: 16 | Train Loss:  1.259             | Val Loss:  1.299             | Train RMSE:  1.110             | Val RMSE:  1.125\n"
          ]
        },
        {
          "output_type": "stream",
          "name": "stderr",
          "text": [
            "100%|██████████| 93/93 [00:02<00:00, 37.02it/s]\n"
          ]
        },
        {
          "output_type": "stream",
          "name": "stdout",
          "text": [
            "Epochs: 17 | Train Loss:  1.276             | Val Loss:  1.310             | Train RMSE:  1.121             | Val RMSE:  1.140\n"
          ]
        },
        {
          "output_type": "stream",
          "name": "stderr",
          "text": [
            "100%|██████████| 93/93 [00:02<00:00, 37.05it/s]\n"
          ]
        },
        {
          "output_type": "stream",
          "name": "stdout",
          "text": [
            "Epochs: 18 | Train Loss:  1.219             | Val Loss:  1.246             | Train RMSE:  1.090             | Val RMSE:  1.102\n"
          ]
        },
        {
          "output_type": "stream",
          "name": "stderr",
          "text": [
            "100%|██████████| 93/93 [00:02<00:00, 37.05it/s]\n"
          ]
        },
        {
          "output_type": "stream",
          "name": "stdout",
          "text": [
            "Epochs: 19 | Train Loss:  1.255             | Val Loss:  1.222             | Train RMSE:  1.107             | Val RMSE:  1.100\n"
          ]
        },
        {
          "output_type": "stream",
          "name": "stderr",
          "text": [
            "100%|██████████| 93/93 [00:02<00:00, 37.04it/s]\n"
          ]
        },
        {
          "output_type": "stream",
          "name": "stdout",
          "text": [
            "Epochs: 20 | Train Loss:  1.285             | Val Loss:  1.309             | Train RMSE:  1.124             | Val RMSE:  1.136\n"
          ]
        },
        {
          "output_type": "stream",
          "name": "stderr",
          "text": [
            "100%|██████████| 93/93 [00:02<00:00, 36.99it/s]\n"
          ]
        },
        {
          "output_type": "stream",
          "name": "stdout",
          "text": [
            "Epochs: 21 | Train Loss:  1.257             | Val Loss:  1.244             | Train RMSE:  1.107             | Val RMSE:  1.106\n"
          ]
        },
        {
          "output_type": "stream",
          "name": "stderr",
          "text": [
            "100%|██████████| 93/93 [00:02<00:00, 37.03it/s]\n"
          ]
        },
        {
          "output_type": "stream",
          "name": "stdout",
          "text": [
            "Epochs: 22 | Train Loss:  1.221             | Val Loss:  1.293             | Train RMSE:  1.089             | Val RMSE:  1.127\n"
          ]
        },
        {
          "output_type": "stream",
          "name": "stderr",
          "text": [
            "100%|██████████| 93/93 [00:02<00:00, 36.97it/s]\n"
          ]
        },
        {
          "output_type": "stream",
          "name": "stdout",
          "text": [
            "Epochs: 23 | Train Loss:  1.199             | Val Loss:  1.273             | Train RMSE:  1.084             | Val RMSE:  1.115\n"
          ]
        },
        {
          "output_type": "stream",
          "name": "stderr",
          "text": [
            "100%|██████████| 93/93 [00:02<00:00, 36.84it/s]\n"
          ]
        },
        {
          "output_type": "stream",
          "name": "stdout",
          "text": [
            "Epochs: 24 | Train Loss:  1.199             | Val Loss:  1.253             | Train RMSE:  1.085             | Val RMSE:  1.110\n"
          ]
        },
        {
          "output_type": "stream",
          "name": "stderr",
          "text": [
            "100%|██████████| 93/93 [00:02<00:00, 36.81it/s]\n"
          ]
        },
        {
          "output_type": "stream",
          "name": "stdout",
          "text": [
            "Epochs: 25 | Train Loss:  1.186             | Val Loss:  1.231             | Train RMSE:  1.077             | Val RMSE:  1.102\n"
          ]
        },
        {
          "output_type": "stream",
          "name": "stderr",
          "text": [
            "100%|██████████| 93/93 [00:02<00:00, 36.83it/s]\n"
          ]
        },
        {
          "output_type": "stream",
          "name": "stdout",
          "text": [
            "Epochs: 26 | Train Loss:  1.225             | Val Loss:  1.194             | Train RMSE:  1.095             | Val RMSE:  1.088\n"
          ]
        },
        {
          "output_type": "stream",
          "name": "stderr",
          "text": [
            "100%|██████████| 93/93 [00:02<00:00, 36.81it/s]\n"
          ]
        },
        {
          "output_type": "stream",
          "name": "stdout",
          "text": [
            "Epochs: 27 | Train Loss:  1.212             | Val Loss:  1.222             | Train RMSE:  1.089             | Val RMSE:  1.096\n"
          ]
        },
        {
          "output_type": "stream",
          "name": "stderr",
          "text": [
            "100%|██████████| 93/93 [00:02<00:00, 36.93it/s]\n"
          ]
        },
        {
          "output_type": "stream",
          "name": "stdout",
          "text": [
            "Epochs: 28 | Train Loss:  1.177             | Val Loss:  1.307             | Train RMSE:  1.074             | Val RMSE:  1.132\n"
          ]
        },
        {
          "output_type": "stream",
          "name": "stderr",
          "text": [
            "100%|██████████| 93/93 [00:02<00:00, 36.94it/s]\n"
          ]
        },
        {
          "output_type": "stream",
          "name": "stdout",
          "text": [
            "Epochs: 29 | Train Loss:  1.148             | Val Loss:  1.199             | Train RMSE:  1.061             | Val RMSE:  1.082\n"
          ]
        },
        {
          "output_type": "stream",
          "name": "stderr",
          "text": [
            "100%|██████████| 93/93 [00:02<00:00, 37.00it/s]\n"
          ]
        },
        {
          "output_type": "stream",
          "name": "stdout",
          "text": [
            "Epochs: 30 | Train Loss:  1.163             | Val Loss:  1.268             | Train RMSE:  1.066             | Val RMSE:  1.118\n"
          ]
        },
        {
          "output_type": "stream",
          "name": "stderr",
          "text": [
            "100%|██████████| 93/93 [00:02<00:00, 37.02it/s]\n"
          ]
        },
        {
          "output_type": "stream",
          "name": "stdout",
          "text": [
            "Epochs: 31 | Train Loss:  1.147             | Val Loss:  1.139             | Train RMSE:  1.058             | Val RMSE:  1.056\n"
          ]
        },
        {
          "output_type": "stream",
          "name": "stderr",
          "text": [
            "100%|██████████| 93/93 [00:02<00:00, 37.04it/s]\n"
          ]
        },
        {
          "output_type": "stream",
          "name": "stdout",
          "text": [
            "Epochs: 32 | Train Loss:  1.153             | Val Loss:  1.302             | Train RMSE:  1.064             | Val RMSE:  1.132\n"
          ]
        },
        {
          "output_type": "stream",
          "name": "stderr",
          "text": [
            "100%|██████████| 93/93 [00:02<00:00, 36.88it/s]\n"
          ]
        },
        {
          "output_type": "stream",
          "name": "stdout",
          "text": [
            "Epochs: 33 | Train Loss:  1.151             | Val Loss:  1.134             | Train RMSE:  1.060             | Val RMSE:  1.058\n"
          ]
        },
        {
          "output_type": "stream",
          "name": "stderr",
          "text": [
            "100%|██████████| 93/93 [00:02<00:00, 36.79it/s]\n"
          ]
        },
        {
          "output_type": "stream",
          "name": "stdout",
          "text": [
            "Epochs: 34 | Train Loss:  1.142             | Val Loss:  1.233             | Train RMSE:  1.058             | Val RMSE:  1.095\n"
          ]
        },
        {
          "output_type": "stream",
          "name": "stderr",
          "text": [
            "100%|██████████| 93/93 [00:02<00:00, 37.00it/s]\n"
          ]
        },
        {
          "output_type": "stream",
          "name": "stdout",
          "text": [
            "Epochs: 35 | Train Loss:  1.153             | Val Loss:  1.237             | Train RMSE:  1.061             | Val RMSE:  1.103\n"
          ]
        },
        {
          "output_type": "stream",
          "name": "stderr",
          "text": [
            "100%|██████████| 93/93 [00:02<00:00, 36.98it/s]\n"
          ]
        },
        {
          "output_type": "stream",
          "name": "stdout",
          "text": [
            "Epochs: 36 | Train Loss:  1.134             | Val Loss:  1.172             | Train RMSE:  1.053             | Val RMSE:  1.069\n"
          ]
        },
        {
          "output_type": "stream",
          "name": "stderr",
          "text": [
            "100%|██████████| 93/93 [00:02<00:00, 36.97it/s]\n"
          ]
        },
        {
          "output_type": "stream",
          "name": "stdout",
          "text": [
            "Epochs: 37 | Train Loss:  1.163             | Val Loss:  1.146             | Train RMSE:  1.065             | Val RMSE:  1.064\n"
          ]
        },
        {
          "output_type": "stream",
          "name": "stderr",
          "text": [
            "100%|██████████| 93/93 [00:02<00:00, 37.00it/s]\n"
          ]
        },
        {
          "output_type": "stream",
          "name": "stdout",
          "text": [
            "Epochs: 38 | Train Loss:  1.137             | Val Loss:  1.195             | Train RMSE:  1.051             | Val RMSE:  1.088\n"
          ]
        },
        {
          "output_type": "stream",
          "name": "stderr",
          "text": [
            "100%|██████████| 93/93 [00:02<00:00, 36.97it/s]\n"
          ]
        },
        {
          "output_type": "stream",
          "name": "stdout",
          "text": [
            "Epochs: 39 | Train Loss:  1.135             | Val Loss:  1.142             | Train RMSE:  1.056             | Val RMSE:  1.060\n"
          ]
        },
        {
          "output_type": "stream",
          "name": "stderr",
          "text": [
            "100%|██████████| 93/93 [00:02<00:00, 36.99it/s]\n"
          ]
        },
        {
          "output_type": "stream",
          "name": "stdout",
          "text": [
            "Epochs: 40 | Train Loss:  1.113             | Val Loss:  1.191             | Train RMSE:  1.042             | Val RMSE:  1.084\n"
          ]
        },
        {
          "output_type": "stream",
          "name": "stderr",
          "text": [
            "100%|██████████| 93/93 [00:02<00:00, 36.95it/s]\n"
          ]
        },
        {
          "output_type": "stream",
          "name": "stdout",
          "text": [
            "Epochs: 41 | Train Loss:  1.130             | Val Loss:  1.286             | Train RMSE:  1.049             | Val RMSE:  1.125\n"
          ]
        },
        {
          "output_type": "stream",
          "name": "stderr",
          "text": [
            "100%|██████████| 93/93 [00:02<00:00, 36.88it/s]\n"
          ]
        },
        {
          "output_type": "stream",
          "name": "stdout",
          "text": [
            "Epochs: 42 | Train Loss:  1.086             | Val Loss:  1.274             | Train RMSE:  1.027             | Val RMSE:  1.117\n"
          ]
        },
        {
          "output_type": "stream",
          "name": "stderr",
          "text": [
            "100%|██████████| 93/93 [00:02<00:00, 36.94it/s]\n"
          ]
        },
        {
          "output_type": "stream",
          "name": "stdout",
          "text": [
            "Epochs: 43 | Train Loss:  1.124             | Val Loss:  1.192             | Train RMSE:  1.048             | Val RMSE:  1.084\n"
          ]
        },
        {
          "output_type": "stream",
          "name": "stderr",
          "text": [
            "100%|██████████| 93/93 [00:02<00:00, 37.08it/s]\n"
          ]
        },
        {
          "output_type": "stream",
          "name": "stdout",
          "text": [
            "Epochs: 44 | Train Loss:  1.085             | Val Loss:  1.228             | Train RMSE:  1.028             | Val RMSE:  1.098\n"
          ]
        },
        {
          "output_type": "stream",
          "name": "stderr",
          "text": [
            "100%|██████████| 93/93 [00:02<00:00, 37.12it/s]\n"
          ]
        },
        {
          "output_type": "stream",
          "name": "stdout",
          "text": [
            "Epochs: 45 | Train Loss:  1.101             | Val Loss:  1.153             | Train RMSE:  1.038             | Val RMSE:  1.066\n"
          ]
        },
        {
          "output_type": "stream",
          "name": "stderr",
          "text": [
            "100%|██████████| 93/93 [00:02<00:00, 37.03it/s]\n"
          ]
        },
        {
          "output_type": "stream",
          "name": "stdout",
          "text": [
            "Epochs: 46 | Train Loss:  1.102             | Val Loss:  1.172             | Train RMSE:  1.035             | Val RMSE:  1.067\n"
          ]
        },
        {
          "output_type": "stream",
          "name": "stderr",
          "text": [
            "100%|██████████| 93/93 [00:02<00:00, 36.97it/s]\n"
          ]
        },
        {
          "output_type": "stream",
          "name": "stdout",
          "text": [
            "Epochs: 47 | Train Loss:  1.074             | Val Loss:  1.082             | Train RMSE:  1.021             | Val RMSE:  1.031\n"
          ]
        },
        {
          "output_type": "stream",
          "name": "stderr",
          "text": [
            "100%|██████████| 93/93 [00:02<00:00, 36.89it/s]\n"
          ]
        },
        {
          "output_type": "stream",
          "name": "stdout",
          "text": [
            "Epochs: 48 | Train Loss:  1.130             | Val Loss:  1.157             | Train RMSE:  1.050             | Val RMSE:  1.062\n"
          ]
        },
        {
          "output_type": "stream",
          "name": "stderr",
          "text": [
            "100%|██████████| 93/93 [00:02<00:00, 36.79it/s]\n"
          ]
        },
        {
          "output_type": "stream",
          "name": "stdout",
          "text": [
            "Epochs: 49 | Train Loss:  1.081             | Val Loss:  1.110             | Train RMSE:  1.027             | Val RMSE:  1.043\n"
          ]
        },
        {
          "output_type": "stream",
          "name": "stderr",
          "text": [
            "100%|██████████| 93/93 [00:02<00:00, 36.79it/s]\n"
          ]
        },
        {
          "output_type": "stream",
          "name": "stdout",
          "text": [
            "Epochs: 50 | Train Loss:  1.073             | Val Loss:  1.009             | Train RMSE:  1.025             | Val RMSE:  0.998\n"
          ]
        },
        {
          "output_type": "stream",
          "name": "stderr",
          "text": [
            "100%|██████████| 93/93 [00:02<00:00, 36.83it/s]\n"
          ]
        },
        {
          "output_type": "stream",
          "name": "stdout",
          "text": [
            "Epochs: 51 | Train Loss:  1.076             | Val Loss:  1.131             | Train RMSE:  1.023             | Val RMSE:  1.057\n"
          ]
        },
        {
          "output_type": "stream",
          "name": "stderr",
          "text": [
            "100%|██████████| 93/93 [00:02<00:00, 36.87it/s]\n"
          ]
        },
        {
          "output_type": "stream",
          "name": "stdout",
          "text": [
            "Epochs: 52 | Train Loss:  1.046             | Val Loss:  1.242             | Train RMSE:  1.010             | Val RMSE:  1.097\n"
          ]
        },
        {
          "output_type": "stream",
          "name": "stderr",
          "text": [
            "100%|██████████| 93/93 [00:02<00:00, 36.68it/s]\n"
          ]
        },
        {
          "output_type": "stream",
          "name": "stdout",
          "text": [
            "Epochs: 53 | Train Loss:  1.080             | Val Loss:  1.026             | Train RMSE:  1.026             | Val RMSE:  1.002\n"
          ]
        },
        {
          "output_type": "stream",
          "name": "stderr",
          "text": [
            "100%|██████████| 93/93 [00:02<00:00, 36.69it/s]\n"
          ]
        },
        {
          "output_type": "stream",
          "name": "stdout",
          "text": [
            "Epochs: 54 | Train Loss:  1.067             | Val Loss:  1.014             | Train RMSE:  1.020             | Val RMSE:  0.997\n"
          ]
        },
        {
          "output_type": "stream",
          "name": "stderr",
          "text": [
            "100%|██████████| 93/93 [00:02<00:00, 36.98it/s]\n"
          ]
        },
        {
          "output_type": "stream",
          "name": "stdout",
          "text": [
            "Epochs: 55 | Train Loss:  1.062             | Val Loss:  1.053             | Train RMSE:  1.018             | Val RMSE:  1.018\n"
          ]
        },
        {
          "output_type": "stream",
          "name": "stderr",
          "text": [
            "100%|██████████| 93/93 [00:02<00:00, 36.88it/s]\n"
          ]
        },
        {
          "output_type": "stream",
          "name": "stdout",
          "text": [
            "Epochs: 56 | Train Loss:  1.055             | Val Loss:  1.062             | Train RMSE:  1.014             | Val RMSE:  1.023\n"
          ]
        },
        {
          "output_type": "stream",
          "name": "stderr",
          "text": [
            "100%|██████████| 93/93 [00:02<00:00, 36.76it/s]\n"
          ]
        },
        {
          "output_type": "stream",
          "name": "stdout",
          "text": [
            "Epochs: 57 | Train Loss:  1.071             | Val Loss:  1.042             | Train RMSE:  1.022             | Val RMSE:  1.016\n"
          ]
        },
        {
          "output_type": "stream",
          "name": "stderr",
          "text": [
            "100%|██████████| 93/93 [00:02<00:00, 36.90it/s]\n"
          ]
        },
        {
          "output_type": "stream",
          "name": "stdout",
          "text": [
            "Epochs: 58 | Train Loss:  1.039             | Val Loss:  1.115             | Train RMSE:  1.007             | Val RMSE:  1.044\n"
          ]
        },
        {
          "output_type": "stream",
          "name": "stderr",
          "text": [
            "100%|██████████| 93/93 [00:02<00:00, 36.86it/s]\n"
          ]
        },
        {
          "output_type": "stream",
          "name": "stdout",
          "text": [
            "Epochs: 59 | Train Loss:  1.015             | Val Loss:  1.227             | Train RMSE:  0.996             | Val RMSE:  1.096\n"
          ]
        },
        {
          "output_type": "stream",
          "name": "stderr",
          "text": [
            "100%|██████████| 93/93 [00:02<00:00, 37.07it/s]\n"
          ]
        },
        {
          "output_type": "stream",
          "name": "stdout",
          "text": [
            "Epochs: 60 | Train Loss:  1.029             | Val Loss:  1.046             | Train RMSE:  1.004             | Val RMSE:  1.014\n"
          ]
        },
        {
          "output_type": "stream",
          "name": "stderr",
          "text": [
            "100%|██████████| 93/93 [00:02<00:00, 37.02it/s]\n"
          ]
        },
        {
          "output_type": "stream",
          "name": "stdout",
          "text": [
            "Epochs: 61 | Train Loss:  1.036             | Val Loss:  1.092             | Train RMSE:  1.007             | Val RMSE:  1.036\n"
          ]
        },
        {
          "output_type": "stream",
          "name": "stderr",
          "text": [
            "100%|██████████| 93/93 [00:02<00:00, 37.08it/s]\n"
          ]
        },
        {
          "output_type": "stream",
          "name": "stdout",
          "text": [
            "Epochs: 62 | Train Loss:  1.022             | Val Loss:  1.084             | Train RMSE:  1.000             | Val RMSE:  1.030\n"
          ]
        },
        {
          "output_type": "stream",
          "name": "stderr",
          "text": [
            "100%|██████████| 93/93 [00:02<00:00, 37.11it/s]\n"
          ]
        },
        {
          "output_type": "stream",
          "name": "stdout",
          "text": [
            "Epochs: 63 | Train Loss:  1.028             | Val Loss:  0.995             | Train RMSE:  1.001             | Val RMSE:  0.989\n"
          ]
        },
        {
          "output_type": "stream",
          "name": "stderr",
          "text": [
            "100%|██████████| 93/93 [00:02<00:00, 37.11it/s]\n"
          ]
        },
        {
          "output_type": "stream",
          "name": "stdout",
          "text": [
            "Epochs: 64 | Train Loss:  1.040             | Val Loss:  1.142             | Train RMSE:  1.006             | Val RMSE:  1.057\n"
          ]
        },
        {
          "output_type": "stream",
          "name": "stderr",
          "text": [
            "100%|██████████| 93/93 [00:02<00:00, 37.08it/s]\n"
          ]
        },
        {
          "output_type": "stream",
          "name": "stdout",
          "text": [
            "Epochs: 65 | Train Loss:  1.030             | Val Loss:  1.113             | Train RMSE:  1.003             | Val RMSE:  1.040\n"
          ]
        },
        {
          "output_type": "stream",
          "name": "stderr",
          "text": [
            "100%|██████████| 93/93 [00:02<00:00, 37.02it/s]\n"
          ]
        },
        {
          "output_type": "stream",
          "name": "stdout",
          "text": [
            "Epochs: 66 | Train Loss:  1.028             | Val Loss:  1.137             | Train RMSE:  1.003             | Val RMSE:  1.055\n"
          ]
        },
        {
          "output_type": "stream",
          "name": "stderr",
          "text": [
            "100%|██████████| 93/93 [00:02<00:00, 36.94it/s]\n"
          ]
        },
        {
          "output_type": "stream",
          "name": "stdout",
          "text": [
            "Epochs: 67 | Train Loss:  1.033             | Val Loss:  1.032             | Train RMSE:  1.004             | Val RMSE:  1.008\n"
          ]
        },
        {
          "output_type": "stream",
          "name": "stderr",
          "text": [
            "100%|██████████| 93/93 [00:02<00:00, 37.03it/s]\n"
          ]
        },
        {
          "output_type": "stream",
          "name": "stdout",
          "text": [
            "Epochs: 68 | Train Loss:  0.978             | Val Loss:  1.043             | Train RMSE:  0.977             | Val RMSE:  1.006\n"
          ]
        },
        {
          "output_type": "stream",
          "name": "stderr",
          "text": [
            "100%|██████████| 93/93 [00:02<00:00, 37.01it/s]\n"
          ]
        },
        {
          "output_type": "stream",
          "name": "stdout",
          "text": [
            "Epochs: 69 | Train Loss:  0.993             | Val Loss:  1.123             | Train RMSE:  0.985             | Val RMSE:  1.052\n"
          ]
        },
        {
          "output_type": "stream",
          "name": "stderr",
          "text": [
            "100%|██████████| 93/93 [00:02<00:00, 36.99it/s]\n"
          ]
        },
        {
          "output_type": "stream",
          "name": "stdout",
          "text": [
            "Epochs: 70 | Train Loss:  1.030             | Val Loss:  1.144             | Train RMSE:  1.002             | Val RMSE:  1.060\n"
          ]
        },
        {
          "output_type": "stream",
          "name": "stderr",
          "text": [
            "100%|██████████| 93/93 [00:02<00:00, 37.04it/s]\n"
          ]
        },
        {
          "output_type": "stream",
          "name": "stdout",
          "text": [
            "Epochs: 71 | Train Loss:  1.012             | Val Loss:  1.013             | Train RMSE:  0.995             | Val RMSE:  0.991\n"
          ]
        },
        {
          "output_type": "stream",
          "name": "stderr",
          "text": [
            "100%|██████████| 93/93 [00:02<00:00, 36.95it/s]\n"
          ]
        },
        {
          "output_type": "stream",
          "name": "stdout",
          "text": [
            "Epochs: 72 | Train Loss:  1.005             | Val Loss:  1.069             | Train RMSE:  0.989             | Val RMSE:  1.021\n"
          ]
        },
        {
          "output_type": "stream",
          "name": "stderr",
          "text": [
            "100%|██████████| 93/93 [00:02<00:00, 36.90it/s]\n"
          ]
        },
        {
          "output_type": "stream",
          "name": "stdout",
          "text": [
            "Epochs: 73 | Train Loss:  0.967             | Val Loss:  0.965             | Train RMSE:  0.970             | Val RMSE:  0.975\n"
          ]
        },
        {
          "output_type": "stream",
          "name": "stderr",
          "text": [
            "100%|██████████| 93/93 [00:02<00:00, 36.89it/s]\n"
          ]
        },
        {
          "output_type": "stream",
          "name": "stdout",
          "text": [
            "Epochs: 74 | Train Loss:  0.988             | Val Loss:  0.983             | Train RMSE:  0.985             | Val RMSE:  0.980\n"
          ]
        },
        {
          "output_type": "stream",
          "name": "stderr",
          "text": [
            "100%|██████████| 93/93 [00:02<00:00, 36.96it/s]\n"
          ]
        },
        {
          "output_type": "stream",
          "name": "stdout",
          "text": [
            "Epochs: 75 | Train Loss:  1.006             | Val Loss:  0.958             | Train RMSE:  0.993             | Val RMSE:  0.971\n"
          ]
        },
        {
          "output_type": "stream",
          "name": "stderr",
          "text": [
            "100%|██████████| 93/93 [00:02<00:00, 36.96it/s]\n"
          ]
        },
        {
          "output_type": "stream",
          "name": "stdout",
          "text": [
            "Epochs: 76 | Train Loss:  1.024             | Val Loss:  1.117             | Train RMSE:  1.002             | Val RMSE:  1.049\n"
          ]
        },
        {
          "output_type": "stream",
          "name": "stderr",
          "text": [
            "100%|██████████| 93/93 [00:02<00:00, 36.99it/s]\n"
          ]
        },
        {
          "output_type": "stream",
          "name": "stdout",
          "text": [
            "Epochs: 77 | Train Loss:  1.007             | Val Loss:  1.010             | Train RMSE:  0.993             | Val RMSE:  0.997\n"
          ]
        },
        {
          "output_type": "stream",
          "name": "stderr",
          "text": [
            "100%|██████████| 93/93 [00:02<00:00, 36.96it/s]\n"
          ]
        },
        {
          "output_type": "stream",
          "name": "stdout",
          "text": [
            "Epochs: 78 | Train Loss:  1.021             | Val Loss:  1.076             | Train RMSE:  0.998             | Val RMSE:  1.029\n"
          ]
        },
        {
          "output_type": "stream",
          "name": "stderr",
          "text": [
            "100%|██████████| 93/93 [00:02<00:00, 36.88it/s]\n"
          ]
        },
        {
          "output_type": "stream",
          "name": "stdout",
          "text": [
            "Epochs: 79 | Train Loss:  0.981             | Val Loss:  1.117             | Train RMSE:  0.981             | Val RMSE:  1.046\n"
          ]
        },
        {
          "output_type": "stream",
          "name": "stderr",
          "text": [
            "100%|██████████| 93/93 [00:02<00:00, 36.95it/s]\n"
          ]
        },
        {
          "output_type": "stream",
          "name": "stdout",
          "text": [
            "Epochs: 80 | Train Loss:  0.990             | Val Loss:  0.941             | Train RMSE:  0.984             | Val RMSE:  0.961\n"
          ]
        },
        {
          "output_type": "stream",
          "name": "stderr",
          "text": [
            "100%|██████████| 93/93 [00:02<00:00, 37.00it/s]\n"
          ]
        },
        {
          "output_type": "stream",
          "name": "stdout",
          "text": [
            "Epochs: 81 | Train Loss:  0.954             | Val Loss:  1.055             | Train RMSE:  0.965             | Val RMSE:  1.018\n"
          ]
        },
        {
          "output_type": "stream",
          "name": "stderr",
          "text": [
            "100%|██████████| 93/93 [00:02<00:00, 37.01it/s]\n"
          ]
        },
        {
          "output_type": "stream",
          "name": "stdout",
          "text": [
            "Epochs: 82 | Train Loss:  0.949             | Val Loss:  1.042             | Train RMSE:  0.964             | Val RMSE:  1.015\n"
          ]
        },
        {
          "output_type": "stream",
          "name": "stderr",
          "text": [
            "100%|██████████| 93/93 [00:02<00:00, 37.02it/s]\n"
          ]
        },
        {
          "output_type": "stream",
          "name": "stdout",
          "text": [
            "Epochs: 83 | Train Loss:  0.975             | Val Loss:  1.046             | Train RMSE:  0.976             | Val RMSE:  1.018\n"
          ]
        },
        {
          "output_type": "stream",
          "name": "stderr",
          "text": [
            "100%|██████████| 93/93 [00:02<00:00, 37.04it/s]\n"
          ]
        },
        {
          "output_type": "stream",
          "name": "stdout",
          "text": [
            "Epochs: 84 | Train Loss:  0.949             | Val Loss:  1.039             | Train RMSE:  0.965             | Val RMSE:  1.012\n"
          ]
        },
        {
          "output_type": "stream",
          "name": "stderr",
          "text": [
            "100%|██████████| 93/93 [00:02<00:00, 37.05it/s]\n"
          ]
        },
        {
          "output_type": "stream",
          "name": "stdout",
          "text": [
            "Epochs: 85 | Train Loss:  0.992             | Val Loss:  1.052             | Train RMSE:  0.985             | Val RMSE:  1.019\n"
          ]
        },
        {
          "output_type": "stream",
          "name": "stderr",
          "text": [
            "100%|██████████| 93/93 [00:02<00:00, 36.95it/s]\n"
          ]
        },
        {
          "output_type": "stream",
          "name": "stdout",
          "text": [
            "Epochs: 86 | Train Loss:  0.975             | Val Loss:  0.924             | Train RMSE:  0.974             | Val RMSE:  0.951\n"
          ]
        },
        {
          "output_type": "stream",
          "name": "stderr",
          "text": [
            "100%|██████████| 93/93 [00:02<00:00, 36.93it/s]\n"
          ]
        },
        {
          "output_type": "stream",
          "name": "stdout",
          "text": [
            "Epochs: 87 | Train Loss:  0.966             | Val Loss:  1.099             | Train RMSE:  0.971             | Val RMSE:  1.039\n"
          ]
        },
        {
          "output_type": "stream",
          "name": "stderr",
          "text": [
            "100%|██████████| 93/93 [00:02<00:00, 37.02it/s]\n"
          ]
        },
        {
          "output_type": "stream",
          "name": "stdout",
          "text": [
            "Epochs: 88 | Train Loss:  0.949             | Val Loss:  1.133             | Train RMSE:  0.960             | Val RMSE:  1.052\n"
          ]
        },
        {
          "output_type": "stream",
          "name": "stderr",
          "text": [
            "100%|██████████| 93/93 [00:02<00:00, 36.97it/s]\n"
          ]
        },
        {
          "output_type": "stream",
          "name": "stdout",
          "text": [
            "Epochs: 89 | Train Loss:  0.952             | Val Loss:  1.084             | Train RMSE:  0.963             | Val RMSE:  1.025\n"
          ]
        },
        {
          "output_type": "stream",
          "name": "stderr",
          "text": [
            "100%|██████████| 93/93 [00:02<00:00, 36.97it/s]\n"
          ]
        },
        {
          "output_type": "stream",
          "name": "stdout",
          "text": [
            "Epochs: 90 | Train Loss:  0.960             | Val Loss:  1.070             | Train RMSE:  0.966             | Val RMSE:  1.027\n"
          ]
        },
        {
          "output_type": "stream",
          "name": "stderr",
          "text": [
            "100%|██████████| 93/93 [00:02<00:00, 36.85it/s]\n"
          ]
        },
        {
          "output_type": "stream",
          "name": "stdout",
          "text": [
            "Epochs: 91 | Train Loss:  0.977             | Val Loss:  0.917             | Train RMSE:  0.979             | Val RMSE:  0.953\n"
          ]
        },
        {
          "output_type": "stream",
          "name": "stderr",
          "text": [
            "100%|██████████| 93/93 [00:02<00:00, 36.86it/s]\n"
          ]
        },
        {
          "output_type": "stream",
          "name": "stdout",
          "text": [
            "Epochs: 92 | Train Loss:  0.978             | Val Loss:  1.038             | Train RMSE:  0.976             | Val RMSE:  1.007\n"
          ]
        },
        {
          "output_type": "stream",
          "name": "stderr",
          "text": [
            "100%|██████████| 93/93 [00:02<00:00, 36.94it/s]\n"
          ]
        },
        {
          "output_type": "stream",
          "name": "stdout",
          "text": [
            "Epochs: 93 | Train Loss:  0.968             | Val Loss:  0.988             | Train RMSE:  0.973             | Val RMSE:  0.987\n"
          ]
        },
        {
          "output_type": "stream",
          "name": "stderr",
          "text": [
            "100%|██████████| 93/93 [00:02<00:00, 37.03it/s]\n"
          ]
        },
        {
          "output_type": "stream",
          "name": "stdout",
          "text": [
            "Epochs: 94 | Train Loss:  0.913             | Val Loss:  1.016             | Train RMSE:  0.944             | Val RMSE:  0.997\n"
          ]
        },
        {
          "output_type": "stream",
          "name": "stderr",
          "text": [
            "100%|██████████| 93/93 [00:02<00:00, 37.08it/s]\n"
          ]
        },
        {
          "output_type": "stream",
          "name": "stdout",
          "text": [
            "Epochs: 95 | Train Loss:  0.938             | Val Loss:  1.068             | Train RMSE:  0.955             | Val RMSE:  1.027\n"
          ]
        },
        {
          "output_type": "stream",
          "name": "stderr",
          "text": [
            "100%|██████████| 93/93 [00:02<00:00, 37.22it/s]\n"
          ]
        },
        {
          "output_type": "stream",
          "name": "stdout",
          "text": [
            "Epochs: 96 | Train Loss:  0.934             | Val Loss:  1.003             | Train RMSE:  0.953             | Val RMSE:  0.994\n"
          ]
        },
        {
          "output_type": "stream",
          "name": "stderr",
          "text": [
            "100%|██████████| 93/93 [00:02<00:00, 37.05it/s]\n"
          ]
        },
        {
          "output_type": "stream",
          "name": "stdout",
          "text": [
            "Epochs: 97 | Train Loss:  0.977             | Val Loss:  0.953             | Train RMSE:  0.975             | Val RMSE:  0.968\n"
          ]
        },
        {
          "output_type": "stream",
          "name": "stderr",
          "text": [
            "100%|██████████| 93/93 [00:02<00:00, 37.13it/s]\n"
          ]
        },
        {
          "output_type": "stream",
          "name": "stdout",
          "text": [
            "Epochs: 98 | Train Loss:  0.932             | Val Loss:  1.077             | Train RMSE:  0.952             | Val RMSE:  1.028\n"
          ]
        },
        {
          "output_type": "stream",
          "name": "stderr",
          "text": [
            "100%|██████████| 93/93 [00:02<00:00, 36.83it/s]\n"
          ]
        },
        {
          "output_type": "stream",
          "name": "stdout",
          "text": [
            "Epochs: 99 | Train Loss:  0.933             | Val Loss:  1.050             | Train RMSE:  0.954             | Val RMSE:  1.015\n"
          ]
        },
        {
          "output_type": "stream",
          "name": "stderr",
          "text": [
            "100%|██████████| 93/93 [00:02<00:00, 36.66it/s]\n"
          ]
        },
        {
          "output_type": "stream",
          "name": "stdout",
          "text": [
            "Epochs: 100 | Train Loss:  0.951             | Val Loss:  1.046             | Train RMSE:  0.964             | Val RMSE:  1.012\n"
          ]
        },
        {
          "output_type": "stream",
          "name": "stderr",
          "text": [
            "100%|██████████| 93/93 [00:02<00:00, 37.00it/s]\n"
          ]
        },
        {
          "output_type": "stream",
          "name": "stdout",
          "text": [
            "Epochs: 101 | Train Loss:  0.946             | Val Loss:  0.969             | Train RMSE:  0.959             | Val RMSE:  0.976\n"
          ]
        },
        {
          "output_type": "stream",
          "name": "stderr",
          "text": [
            "100%|██████████| 93/93 [00:02<00:00, 36.97it/s]\n"
          ]
        },
        {
          "output_type": "stream",
          "name": "stdout",
          "text": [
            "Epochs: 102 | Train Loss:  0.932             | Val Loss:  1.050             | Train RMSE:  0.954             | Val RMSE:  1.012\n"
          ]
        },
        {
          "output_type": "stream",
          "name": "stderr",
          "text": [
            "100%|██████████| 93/93 [00:02<00:00, 37.00it/s]\n"
          ]
        },
        {
          "output_type": "stream",
          "name": "stdout",
          "text": [
            "Epochs: 103 | Train Loss:  0.917             | Val Loss:  0.906             | Train RMSE:  0.947             | Val RMSE:  0.948\n"
          ]
        },
        {
          "output_type": "stream",
          "name": "stderr",
          "text": [
            "100%|██████████| 93/93 [00:02<00:00, 36.89it/s]\n"
          ]
        },
        {
          "output_type": "stream",
          "name": "stdout",
          "text": [
            "Epochs: 104 | Train Loss:  0.928             | Val Loss:  0.951             | Train RMSE:  0.951             | Val RMSE:  0.966\n"
          ]
        },
        {
          "output_type": "stream",
          "name": "stderr",
          "text": [
            "100%|██████████| 93/93 [00:02<00:00, 36.91it/s]\n"
          ]
        },
        {
          "output_type": "stream",
          "name": "stdout",
          "text": [
            "Epochs: 105 | Train Loss:  0.946             | Val Loss:  0.943             | Train RMSE:  0.962             | Val RMSE:  0.960\n"
          ]
        },
        {
          "output_type": "stream",
          "name": "stderr",
          "text": [
            "100%|██████████| 93/93 [00:02<00:00, 36.88it/s]\n"
          ]
        },
        {
          "output_type": "stream",
          "name": "stdout",
          "text": [
            "Epochs: 106 | Train Loss:  0.908             | Val Loss:  0.994             | Train RMSE:  0.939             | Val RMSE:  0.986\n"
          ]
        },
        {
          "output_type": "stream",
          "name": "stderr",
          "text": [
            "100%|██████████| 93/93 [00:02<00:00, 37.04it/s]\n"
          ]
        },
        {
          "output_type": "stream",
          "name": "stdout",
          "text": [
            "Epochs: 107 | Train Loss:  0.905             | Val Loss:  0.934             | Train RMSE:  0.938             | Val RMSE:  0.958\n"
          ]
        },
        {
          "output_type": "stream",
          "name": "stderr",
          "text": [
            "100%|██████████| 93/93 [00:02<00:00, 37.04it/s]\n"
          ]
        },
        {
          "output_type": "stream",
          "name": "stdout",
          "text": [
            "Epochs: 108 | Train Loss:  0.916             | Val Loss:  0.902             | Train RMSE:  0.945             | Val RMSE:  0.943\n"
          ]
        },
        {
          "output_type": "stream",
          "name": "stderr",
          "text": [
            "100%|██████████| 93/93 [00:02<00:00, 37.02it/s]\n"
          ]
        },
        {
          "output_type": "stream",
          "name": "stdout",
          "text": [
            "Epochs: 109 | Train Loss:  0.901             | Val Loss:  0.976             | Train RMSE:  0.939             | Val RMSE:  0.978\n"
          ]
        },
        {
          "output_type": "stream",
          "name": "stderr",
          "text": [
            "100%|██████████| 93/93 [00:02<00:00, 37.08it/s]\n"
          ]
        },
        {
          "output_type": "stream",
          "name": "stdout",
          "text": [
            "Epochs: 110 | Train Loss:  0.897             | Val Loss:  0.964             | Train RMSE:  0.938             | Val RMSE:  0.967\n"
          ]
        },
        {
          "output_type": "stream",
          "name": "stderr",
          "text": [
            "100%|██████████| 93/93 [00:02<00:00, 36.99it/s]\n"
          ]
        },
        {
          "output_type": "stream",
          "name": "stdout",
          "text": [
            "Epochs: 111 | Train Loss:  0.907             | Val Loss:  0.873             | Train RMSE:  0.943             | Val RMSE:  0.929\n"
          ]
        },
        {
          "output_type": "stream",
          "name": "stderr",
          "text": [
            "100%|██████████| 93/93 [00:02<00:00, 36.76it/s]\n"
          ]
        },
        {
          "output_type": "stream",
          "name": "stdout",
          "text": [
            "Epochs: 112 | Train Loss:  0.909             | Val Loss:  0.953             | Train RMSE:  0.939             | Val RMSE:  0.969\n"
          ]
        },
        {
          "output_type": "stream",
          "name": "stderr",
          "text": [
            "100%|██████████| 93/93 [00:02<00:00, 36.98it/s]\n"
          ]
        },
        {
          "output_type": "stream",
          "name": "stdout",
          "text": [
            "Epochs: 113 | Train Loss:  0.889             | Val Loss:  0.982             | Train RMSE:  0.928             | Val RMSE:  0.983\n"
          ]
        },
        {
          "output_type": "stream",
          "name": "stderr",
          "text": [
            "100%|██████████| 93/93 [00:02<00:00, 37.00it/s]\n"
          ]
        },
        {
          "output_type": "stream",
          "name": "stdout",
          "text": [
            "Epochs: 114 | Train Loss:  0.866             | Val Loss:  0.917             | Train RMSE:  0.920             | Val RMSE:  0.947\n"
          ]
        },
        {
          "output_type": "stream",
          "name": "stderr",
          "text": [
            "100%|██████████| 93/93 [00:02<00:00, 37.00it/s]\n"
          ]
        },
        {
          "output_type": "stream",
          "name": "stdout",
          "text": [
            "Epochs: 115 | Train Loss:  0.893             | Val Loss:  1.013             | Train RMSE:  0.931             | Val RMSE:  1.003\n"
          ]
        },
        {
          "output_type": "stream",
          "name": "stderr",
          "text": [
            "100%|██████████| 93/93 [00:02<00:00, 37.00it/s]\n"
          ]
        },
        {
          "output_type": "stream",
          "name": "stdout",
          "text": [
            "Epochs: 116 | Train Loss:  0.935             | Val Loss:  0.854             | Train RMSE:  0.957             | Val RMSE:  0.917\n"
          ]
        },
        {
          "output_type": "stream",
          "name": "stderr",
          "text": [
            "100%|██████████| 93/93 [00:02<00:00, 36.91it/s]\n"
          ]
        },
        {
          "output_type": "stream",
          "name": "stdout",
          "text": [
            "Epochs: 117 | Train Loss:  0.878             | Val Loss:  0.967             | Train RMSE:  0.925             | Val RMSE:  0.977\n"
          ]
        },
        {
          "output_type": "stream",
          "name": "stderr",
          "text": [
            "100%|██████████| 93/93 [00:02<00:00, 36.95it/s]\n"
          ]
        },
        {
          "output_type": "stream",
          "name": "stdout",
          "text": [
            "Epochs: 118 | Train Loss:  0.909             | Val Loss:  0.939             | Train RMSE:  0.941             | Val RMSE:  0.963\n"
          ]
        },
        {
          "output_type": "stream",
          "name": "stderr",
          "text": [
            "100%|██████████| 93/93 [00:02<00:00, 37.03it/s]\n"
          ]
        },
        {
          "output_type": "stream",
          "name": "stdout",
          "text": [
            "Epochs: 119 | Train Loss:  0.874             | Val Loss:  0.959             | Train RMSE:  0.922             | Val RMSE:  0.970\n"
          ]
        },
        {
          "output_type": "stream",
          "name": "stderr",
          "text": [
            "100%|██████████| 93/93 [00:02<00:00, 36.96it/s]\n"
          ]
        },
        {
          "output_type": "stream",
          "name": "stdout",
          "text": [
            "Epochs: 120 | Train Loss:  0.882             | Val Loss:  0.954             | Train RMSE:  0.926             | Val RMSE:  0.966\n"
          ]
        },
        {
          "output_type": "stream",
          "name": "stderr",
          "text": [
            "100%|██████████| 93/93 [00:02<00:00, 36.90it/s]\n"
          ]
        },
        {
          "output_type": "stream",
          "name": "stdout",
          "text": [
            "Epochs: 121 | Train Loss:  0.893             | Val Loss:  0.933             | Train RMSE:  0.933             | Val RMSE:  0.960\n"
          ]
        },
        {
          "output_type": "stream",
          "name": "stderr",
          "text": [
            "100%|██████████| 93/93 [00:02<00:00, 36.92it/s]\n"
          ]
        },
        {
          "output_type": "stream",
          "name": "stdout",
          "text": [
            "Epochs: 122 | Train Loss:  0.868             | Val Loss:  0.934             | Train RMSE:  0.916             | Val RMSE:  0.956\n"
          ]
        },
        {
          "output_type": "stream",
          "name": "stderr",
          "text": [
            "100%|██████████| 93/93 [00:02<00:00, 36.78it/s]\n"
          ]
        },
        {
          "output_type": "stream",
          "name": "stdout",
          "text": [
            "Epochs: 123 | Train Loss:  0.865             | Val Loss:  0.929             | Train RMSE:  0.919             | Val RMSE:  0.955\n"
          ]
        },
        {
          "output_type": "stream",
          "name": "stderr",
          "text": [
            "100%|██████████| 93/93 [00:02<00:00, 36.87it/s]\n"
          ]
        },
        {
          "output_type": "stream",
          "name": "stdout",
          "text": [
            "Epochs: 124 | Train Loss:  0.857             | Val Loss:  0.963             | Train RMSE:  0.915             | Val RMSE:  0.977\n"
          ]
        },
        {
          "output_type": "stream",
          "name": "stderr",
          "text": [
            "100%|██████████| 93/93 [00:02<00:00, 36.99it/s]\n"
          ]
        },
        {
          "output_type": "stream",
          "name": "stdout",
          "text": [
            "Epochs: 125 | Train Loss:  0.881             | Val Loss:  0.945             | Train RMSE:  0.926             | Val RMSE:  0.962\n"
          ]
        },
        {
          "output_type": "stream",
          "name": "stderr",
          "text": [
            "100%|██████████| 93/93 [00:02<00:00, 36.99it/s]\n"
          ]
        },
        {
          "output_type": "stream",
          "name": "stdout",
          "text": [
            "Epochs: 126 | Train Loss:  0.863             | Val Loss:  0.932             | Train RMSE:  0.916             | Val RMSE:  0.960\n"
          ]
        },
        {
          "output_type": "stream",
          "name": "stderr",
          "text": [
            "100%|██████████| 93/93 [00:02<00:00, 37.10it/s]\n"
          ]
        },
        {
          "output_type": "stream",
          "name": "stdout",
          "text": [
            "Epochs: 127 | Train Loss:  0.908             | Val Loss:  0.918             | Train RMSE:  0.942             | Val RMSE:  0.946\n"
          ]
        },
        {
          "output_type": "stream",
          "name": "stderr",
          "text": [
            "100%|██████████| 93/93 [00:02<00:00, 37.09it/s]\n"
          ]
        },
        {
          "output_type": "stream",
          "name": "stdout",
          "text": [
            "Epochs: 128 | Train Loss:  0.867             | Val Loss:  0.922             | Train RMSE:  0.919             | Val RMSE:  0.953\n"
          ]
        },
        {
          "output_type": "stream",
          "name": "stderr",
          "text": [
            "100%|██████████| 93/93 [00:02<00:00, 37.07it/s]\n"
          ]
        },
        {
          "output_type": "stream",
          "name": "stdout",
          "text": [
            "Epochs: 129 | Train Loss:  0.877             | Val Loss:  0.835             | Train RMSE:  0.926             | Val RMSE:  0.907\n"
          ]
        },
        {
          "output_type": "stream",
          "name": "stderr",
          "text": [
            "100%|██████████| 93/93 [00:02<00:00, 37.11it/s]\n"
          ]
        },
        {
          "output_type": "stream",
          "name": "stdout",
          "text": [
            "Epochs: 130 | Train Loss:  0.855             | Val Loss:  0.894             | Train RMSE:  0.912             | Val RMSE:  0.938\n"
          ]
        },
        {
          "output_type": "stream",
          "name": "stderr",
          "text": [
            "100%|██████████| 93/93 [00:02<00:00, 37.12it/s]\n"
          ]
        },
        {
          "output_type": "stream",
          "name": "stdout",
          "text": [
            "Epochs: 131 | Train Loss:  0.902             | Val Loss:  0.892             | Train RMSE:  0.938             | Val RMSE:  0.937\n"
          ]
        },
        {
          "output_type": "stream",
          "name": "stderr",
          "text": [
            "100%|██████████| 93/93 [00:02<00:00, 37.09it/s]\n"
          ]
        },
        {
          "output_type": "stream",
          "name": "stdout",
          "text": [
            "Epochs: 132 | Train Loss:  0.891             | Val Loss:  0.911             | Train RMSE:  0.931             | Val RMSE:  0.946\n"
          ]
        },
        {
          "output_type": "stream",
          "name": "stderr",
          "text": [
            "100%|██████████| 93/93 [00:02<00:00, 37.04it/s]\n"
          ]
        },
        {
          "output_type": "stream",
          "name": "stdout",
          "text": [
            "Epochs: 133 | Train Loss:  0.839             | Val Loss:  0.919             | Train RMSE:  0.903             | Val RMSE:  0.948\n"
          ]
        },
        {
          "output_type": "stream",
          "name": "stderr",
          "text": [
            "100%|██████████| 93/93 [00:02<00:00, 36.98it/s]\n"
          ]
        },
        {
          "output_type": "stream",
          "name": "stdout",
          "text": [
            "Epochs: 134 | Train Loss:  0.840             | Val Loss:  0.864             | Train RMSE:  0.901             | Val RMSE:  0.918\n"
          ]
        },
        {
          "output_type": "stream",
          "name": "stderr",
          "text": [
            "100%|██████████| 93/93 [00:02<00:00, 37.08it/s]\n"
          ]
        },
        {
          "output_type": "stream",
          "name": "stdout",
          "text": [
            "Epochs: 135 | Train Loss:  0.873             | Val Loss:  0.912             | Train RMSE:  0.920             | Val RMSE:  0.943\n"
          ]
        },
        {
          "output_type": "stream",
          "name": "stderr",
          "text": [
            "100%|██████████| 93/93 [00:02<00:00, 37.11it/s]\n"
          ]
        },
        {
          "output_type": "stream",
          "name": "stdout",
          "text": [
            "Epochs: 136 | Train Loss:  0.857             | Val Loss:  0.839             | Train RMSE:  0.914             | Val RMSE:  0.906\n"
          ]
        },
        {
          "output_type": "stream",
          "name": "stderr",
          "text": [
            "100%|██████████| 93/93 [00:02<00:00, 37.08it/s]\n"
          ]
        },
        {
          "output_type": "stream",
          "name": "stdout",
          "text": [
            "Epochs: 137 | Train Loss:  0.886             | Val Loss:  0.930             | Train RMSE:  0.927             | Val RMSE:  0.958\n"
          ]
        },
        {
          "output_type": "stream",
          "name": "stderr",
          "text": [
            "100%|██████████| 93/93 [00:02<00:00, 37.15it/s]\n"
          ]
        },
        {
          "output_type": "stream",
          "name": "stdout",
          "text": [
            "Epochs: 138 | Train Loss:  0.863             | Val Loss:  0.837             | Train RMSE:  0.920             | Val RMSE:  0.908\n"
          ]
        },
        {
          "output_type": "stream",
          "name": "stderr",
          "text": [
            "100%|██████████| 93/93 [00:02<00:00, 37.19it/s]\n"
          ]
        },
        {
          "output_type": "stream",
          "name": "stdout",
          "text": [
            "Epochs: 139 | Train Loss:  0.848             | Val Loss:  0.873             | Train RMSE:  0.912             | Val RMSE:  0.922\n"
          ]
        },
        {
          "output_type": "stream",
          "name": "stderr",
          "text": [
            "100%|██████████| 93/93 [00:02<00:00, 37.09it/s]\n"
          ]
        },
        {
          "output_type": "stream",
          "name": "stdout",
          "text": [
            "Epochs: 140 | Train Loss:  0.861             | Val Loss:  0.983             | Train RMSE:  0.915             | Val RMSE:  0.985\n"
          ]
        },
        {
          "output_type": "stream",
          "name": "stderr",
          "text": [
            "100%|██████████| 93/93 [00:02<00:00, 37.07it/s]\n"
          ]
        },
        {
          "output_type": "stream",
          "name": "stdout",
          "text": [
            "Epochs: 141 | Train Loss:  0.844             | Val Loss:  0.994             | Train RMSE:  0.910             | Val RMSE:  0.991\n"
          ]
        },
        {
          "output_type": "stream",
          "name": "stderr",
          "text": [
            "100%|██████████| 93/93 [00:02<00:00, 37.15it/s]\n"
          ]
        },
        {
          "output_type": "stream",
          "name": "stdout",
          "text": [
            "Epochs: 142 | Train Loss:  0.828             | Val Loss:  0.917             | Train RMSE:  0.897             | Val RMSE:  0.950\n"
          ]
        },
        {
          "output_type": "stream",
          "name": "stderr",
          "text": [
            "100%|██████████| 93/93 [00:02<00:00, 37.08it/s]\n"
          ]
        },
        {
          "output_type": "stream",
          "name": "stdout",
          "text": [
            "Epochs: 143 | Train Loss:  0.829             | Val Loss:  0.926             | Train RMSE:  0.897             | Val RMSE:  0.952\n"
          ]
        },
        {
          "output_type": "stream",
          "name": "stderr",
          "text": [
            "100%|██████████| 93/93 [00:02<00:00, 37.17it/s]\n"
          ]
        },
        {
          "output_type": "stream",
          "name": "stdout",
          "text": [
            "Epochs: 144 | Train Loss:  0.884             | Val Loss:  0.834             | Train RMSE:  0.924             | Val RMSE:  0.904\n"
          ]
        },
        {
          "output_type": "stream",
          "name": "stderr",
          "text": [
            "100%|██████████| 93/93 [00:02<00:00, 37.11it/s]\n"
          ]
        },
        {
          "output_type": "stream",
          "name": "stdout",
          "text": [
            "Epochs: 145 | Train Loss:  0.826             | Val Loss:  0.988             | Train RMSE:  0.899             | Val RMSE:  0.986\n"
          ]
        },
        {
          "output_type": "stream",
          "name": "stderr",
          "text": [
            "100%|██████████| 93/93 [00:02<00:00, 37.10it/s]\n"
          ]
        },
        {
          "output_type": "stream",
          "name": "stdout",
          "text": [
            "Epochs: 146 | Train Loss:  0.853             | Val Loss:  0.867             | Train RMSE:  0.912             | Val RMSE:  0.915\n"
          ]
        },
        {
          "output_type": "stream",
          "name": "stderr",
          "text": [
            "100%|██████████| 93/93 [00:02<00:00, 37.07it/s]\n"
          ]
        },
        {
          "output_type": "stream",
          "name": "stdout",
          "text": [
            "Epochs: 147 | Train Loss:  0.847             | Val Loss:  0.849             | Train RMSE:  0.908             | Val RMSE:  0.916\n"
          ]
        },
        {
          "output_type": "stream",
          "name": "stderr",
          "text": [
            "100%|██████████| 93/93 [00:02<00:00, 37.08it/s]\n"
          ]
        },
        {
          "output_type": "stream",
          "name": "stdout",
          "text": [
            "Epochs: 148 | Train Loss:  0.833             | Val Loss:  0.844             | Train RMSE:  0.903             | Val RMSE:  0.913\n"
          ]
        },
        {
          "output_type": "stream",
          "name": "stderr",
          "text": [
            "100%|██████████| 93/93 [00:02<00:00, 37.09it/s]\n"
          ]
        },
        {
          "output_type": "stream",
          "name": "stdout",
          "text": [
            "Epochs: 149 | Train Loss:  0.827             | Val Loss:  0.900             | Train RMSE:  0.897             | Val RMSE:  0.942\n"
          ]
        },
        {
          "output_type": "stream",
          "name": "stderr",
          "text": [
            "100%|██████████| 93/93 [00:02<00:00, 37.08it/s]\n"
          ]
        },
        {
          "output_type": "stream",
          "name": "stdout",
          "text": [
            "Epochs: 150 | Train Loss:  0.844             | Val Loss:  0.897             | Train RMSE:  0.907             | Val RMSE:  0.937\n"
          ]
        },
        {
          "output_type": "stream",
          "name": "stderr",
          "text": [
            "100%|██████████| 93/93 [00:02<00:00, 36.91it/s]\n"
          ]
        },
        {
          "output_type": "stream",
          "name": "stdout",
          "text": [
            "Epochs: 151 | Train Loss:  0.855             | Val Loss:  0.952             | Train RMSE:  0.914             | Val RMSE:  0.966\n"
          ]
        },
        {
          "output_type": "stream",
          "name": "stderr",
          "text": [
            "100%|██████████| 93/93 [00:02<00:00, 37.01it/s]\n"
          ]
        },
        {
          "output_type": "stream",
          "name": "stdout",
          "text": [
            "Epochs: 152 | Train Loss:  0.868             | Val Loss:  0.887             | Train RMSE:  0.919             | Val RMSE:  0.935\n"
          ]
        },
        {
          "output_type": "stream",
          "name": "stderr",
          "text": [
            "100%|██████████| 93/93 [00:02<00:00, 37.03it/s]\n"
          ]
        },
        {
          "output_type": "stream",
          "name": "stdout",
          "text": [
            "Epochs: 153 | Train Loss:  0.840             | Val Loss:  0.965             | Train RMSE:  0.906             | Val RMSE:  0.973\n"
          ]
        },
        {
          "output_type": "stream",
          "name": "stderr",
          "text": [
            "100%|██████████| 93/93 [00:02<00:00, 36.98it/s]\n"
          ]
        },
        {
          "output_type": "stream",
          "name": "stdout",
          "text": [
            "Epochs: 154 | Train Loss:  0.842             | Val Loss:  0.840             | Train RMSE:  0.908             | Val RMSE:  0.909\n"
          ]
        },
        {
          "output_type": "stream",
          "name": "stderr",
          "text": [
            "100%|██████████| 93/93 [00:02<00:00, 37.01it/s]\n"
          ]
        },
        {
          "output_type": "stream",
          "name": "stdout",
          "text": [
            "Epochs: 155 | Train Loss:  0.843             | Val Loss:  0.945             | Train RMSE:  0.907             | Val RMSE:  0.959\n"
          ]
        },
        {
          "output_type": "stream",
          "name": "stderr",
          "text": [
            "100%|██████████| 93/93 [00:02<00:00, 37.03it/s]\n"
          ]
        },
        {
          "output_type": "stream",
          "name": "stdout",
          "text": [
            "Epochs: 156 | Train Loss:  0.863             | Val Loss:  0.836             | Train RMSE:  0.917             | Val RMSE:  0.906\n"
          ]
        },
        {
          "output_type": "stream",
          "name": "stderr",
          "text": [
            "100%|██████████| 93/93 [00:02<00:00, 37.08it/s]\n"
          ]
        },
        {
          "output_type": "stream",
          "name": "stdout",
          "text": [
            "Epochs: 157 | Train Loss:  0.833             | Val Loss:  0.902             | Train RMSE:  0.901             | Val RMSE:  0.943\n"
          ]
        },
        {
          "output_type": "stream",
          "name": "stderr",
          "text": [
            "100%|██████████| 93/93 [00:02<00:00, 37.07it/s]\n"
          ]
        },
        {
          "output_type": "stream",
          "name": "stdout",
          "text": [
            "Epochs: 158 | Train Loss:  0.856             | Val Loss:  0.908             | Train RMSE:  0.913             | Val RMSE:  0.940\n"
          ]
        },
        {
          "output_type": "stream",
          "name": "stderr",
          "text": [
            "100%|██████████| 93/93 [00:02<00:00, 37.11it/s]\n"
          ]
        },
        {
          "output_type": "stream",
          "name": "stdout",
          "text": [
            "Epochs: 159 | Train Loss:  0.844             | Val Loss:  0.887             | Train RMSE:  0.908             | Val RMSE:  0.934\n"
          ]
        },
        {
          "output_type": "stream",
          "name": "stderr",
          "text": [
            "100%|██████████| 93/93 [00:02<00:00, 37.08it/s]\n"
          ]
        },
        {
          "output_type": "stream",
          "name": "stdout",
          "text": [
            "Epochs: 160 | Train Loss:  0.817             | Val Loss:  0.867             | Train RMSE:  0.893             | Val RMSE:  0.927\n"
          ]
        },
        {
          "output_type": "stream",
          "name": "stderr",
          "text": [
            "100%|██████████| 93/93 [00:02<00:00, 37.12it/s]\n"
          ]
        },
        {
          "output_type": "stream",
          "name": "stdout",
          "text": [
            "Epochs: 161 | Train Loss:  0.832             | Val Loss:  0.939             | Train RMSE:  0.899             | Val RMSE:  0.961\n"
          ]
        },
        {
          "output_type": "stream",
          "name": "stderr",
          "text": [
            "100%|██████████| 93/93 [00:02<00:00, 37.09it/s]\n"
          ]
        },
        {
          "output_type": "stream",
          "name": "stdout",
          "text": [
            "Epochs: 162 | Train Loss:  0.814             | Val Loss:  0.839             | Train RMSE:  0.892             | Val RMSE:  0.911\n"
          ]
        },
        {
          "output_type": "stream",
          "name": "stderr",
          "text": [
            "100%|██████████| 93/93 [00:02<00:00, 36.95it/s]\n"
          ]
        },
        {
          "output_type": "stream",
          "name": "stdout",
          "text": [
            "Epochs: 163 | Train Loss:  0.829             | Val Loss:  0.812             | Train RMSE:  0.897             | Val RMSE:  0.894\n"
          ]
        },
        {
          "output_type": "stream",
          "name": "stderr",
          "text": [
            "100%|██████████| 93/93 [00:02<00:00, 37.00it/s]\n"
          ]
        },
        {
          "output_type": "stream",
          "name": "stdout",
          "text": [
            "Epochs: 164 | Train Loss:  0.811             | Val Loss:  0.847             | Train RMSE:  0.890             | Val RMSE:  0.913\n"
          ]
        },
        {
          "output_type": "stream",
          "name": "stderr",
          "text": [
            "100%|██████████| 93/93 [00:02<00:00, 37.01it/s]\n"
          ]
        },
        {
          "output_type": "stream",
          "name": "stdout",
          "text": [
            "Epochs: 165 | Train Loss:  0.836             | Val Loss:  0.948             | Train RMSE:  0.906             | Val RMSE:  0.966\n"
          ]
        },
        {
          "output_type": "stream",
          "name": "stderr",
          "text": [
            "100%|██████████| 93/93 [00:02<00:00, 37.08it/s]\n"
          ]
        },
        {
          "output_type": "stream",
          "name": "stdout",
          "text": [
            "Epochs: 166 | Train Loss:  0.791             | Val Loss:  0.867             | Train RMSE:  0.877             | Val RMSE:  0.921\n"
          ]
        },
        {
          "output_type": "stream",
          "name": "stderr",
          "text": [
            "100%|██████████| 93/93 [00:02<00:00, 36.96it/s]\n"
          ]
        },
        {
          "output_type": "stream",
          "name": "stdout",
          "text": [
            "Epochs: 167 | Train Loss:  0.826             | Val Loss:  0.959             | Train RMSE:  0.894             | Val RMSE:  0.963\n"
          ]
        },
        {
          "output_type": "stream",
          "name": "stderr",
          "text": [
            "100%|██████████| 93/93 [00:02<00:00, 36.83it/s]\n"
          ]
        },
        {
          "output_type": "stream",
          "name": "stdout",
          "text": [
            "Epochs: 168 | Train Loss:  0.810             | Val Loss:  0.906             | Train RMSE:  0.887             | Val RMSE:  0.941\n"
          ]
        },
        {
          "output_type": "stream",
          "name": "stderr",
          "text": [
            "100%|██████████| 93/93 [00:02<00:00, 36.88it/s]\n"
          ]
        },
        {
          "output_type": "stream",
          "name": "stdout",
          "text": [
            "Epochs: 169 | Train Loss:  0.819             | Val Loss:  0.857             | Train RMSE:  0.897             | Val RMSE:  0.918\n"
          ]
        },
        {
          "output_type": "stream",
          "name": "stderr",
          "text": [
            "100%|██████████| 93/93 [00:02<00:00, 36.86it/s]\n"
          ]
        },
        {
          "output_type": "stream",
          "name": "stdout",
          "text": [
            "Epochs: 170 | Train Loss:  0.787             | Val Loss:  0.998             | Train RMSE:  0.877             | Val RMSE:  0.987\n"
          ]
        },
        {
          "output_type": "stream",
          "name": "stderr",
          "text": [
            "100%|██████████| 93/93 [00:02<00:00, 36.88it/s]\n"
          ]
        },
        {
          "output_type": "stream",
          "name": "stdout",
          "text": [
            "Epochs: 171 | Train Loss:  0.800             | Val Loss:  0.871             | Train RMSE:  0.883             | Val RMSE:  0.920\n"
          ]
        },
        {
          "output_type": "stream",
          "name": "stderr",
          "text": [
            "100%|██████████| 93/93 [00:02<00:00, 37.02it/s]\n"
          ]
        },
        {
          "output_type": "stream",
          "name": "stdout",
          "text": [
            "Epochs: 172 | Train Loss:  0.834             | Val Loss:  0.943             | Train RMSE:  0.902             | Val RMSE:  0.961\n"
          ]
        },
        {
          "output_type": "stream",
          "name": "stderr",
          "text": [
            "100%|██████████| 93/93 [00:02<00:00, 36.98it/s]\n"
          ]
        },
        {
          "output_type": "stream",
          "name": "stdout",
          "text": [
            "Epochs: 173 | Train Loss:  0.793             | Val Loss:  0.900             | Train RMSE:  0.879             | Val RMSE:  0.939\n"
          ]
        },
        {
          "output_type": "stream",
          "name": "stderr",
          "text": [
            "100%|██████████| 93/93 [00:02<00:00, 36.98it/s]\n"
          ]
        },
        {
          "output_type": "stream",
          "name": "stdout",
          "text": [
            "Epochs: 174 | Train Loss:  0.831             | Val Loss:  0.883             | Train RMSE:  0.900             | Val RMSE:  0.928\n"
          ]
        },
        {
          "output_type": "stream",
          "name": "stderr",
          "text": [
            "100%|██████████| 93/93 [00:02<00:00, 37.05it/s]\n"
          ]
        },
        {
          "output_type": "stream",
          "name": "stdout",
          "text": [
            "Epochs: 175 | Train Loss:  0.807             | Val Loss:  0.916             | Train RMSE:  0.890             | Val RMSE:  0.948\n"
          ]
        },
        {
          "output_type": "stream",
          "name": "stderr",
          "text": [
            "100%|██████████| 93/93 [00:02<00:00, 37.05it/s]\n"
          ]
        },
        {
          "output_type": "stream",
          "name": "stdout",
          "text": [
            "Epochs: 176 | Train Loss:  0.811             | Val Loss:  0.891             | Train RMSE:  0.889             | Val RMSE:  0.937\n"
          ]
        },
        {
          "output_type": "stream",
          "name": "stderr",
          "text": [
            "100%|██████████| 93/93 [00:02<00:00, 37.02it/s]\n"
          ]
        },
        {
          "output_type": "stream",
          "name": "stdout",
          "text": [
            "Epochs: 177 | Train Loss:  0.807             | Val Loss:  0.814             | Train RMSE:  0.887             | Val RMSE:  0.894\n"
          ]
        },
        {
          "output_type": "stream",
          "name": "stderr",
          "text": [
            "100%|██████████| 93/93 [00:02<00:00, 37.06it/s]\n"
          ]
        },
        {
          "output_type": "stream",
          "name": "stdout",
          "text": [
            "Epochs: 178 | Train Loss:  0.800             | Val Loss:  0.929             | Train RMSE:  0.885             | Val RMSE:  0.952\n"
          ]
        },
        {
          "output_type": "stream",
          "name": "stderr",
          "text": [
            "100%|██████████| 93/93 [00:02<00:00, 37.01it/s]\n"
          ]
        },
        {
          "output_type": "stream",
          "name": "stdout",
          "text": [
            "Epochs: 179 | Train Loss:  0.802             | Val Loss:  0.848             | Train RMSE:  0.884             | Val RMSE:  0.915\n"
          ]
        },
        {
          "output_type": "stream",
          "name": "stderr",
          "text": [
            "100%|██████████| 93/93 [00:02<00:00, 37.03it/s]\n"
          ]
        },
        {
          "output_type": "stream",
          "name": "stdout",
          "text": [
            "Epochs: 180 | Train Loss:  0.782             | Val Loss:  0.941             | Train RMSE:  0.871             | Val RMSE:  0.965\n"
          ]
        },
        {
          "output_type": "stream",
          "name": "stderr",
          "text": [
            "100%|██████████| 93/93 [00:02<00:00, 36.96it/s]\n"
          ]
        },
        {
          "output_type": "stream",
          "name": "stdout",
          "text": [
            "Epochs: 181 | Train Loss:  0.814             | Val Loss:  0.807             | Train RMSE:  0.891             | Val RMSE:  0.893\n"
          ]
        },
        {
          "output_type": "stream",
          "name": "stderr",
          "text": [
            "100%|██████████| 93/93 [00:02<00:00, 36.76it/s]\n"
          ]
        },
        {
          "output_type": "stream",
          "name": "stdout",
          "text": [
            "Epochs: 182 | Train Loss:  0.793             | Val Loss:  0.828             | Train RMSE:  0.879             | Val RMSE:  0.897\n"
          ]
        },
        {
          "output_type": "stream",
          "name": "stderr",
          "text": [
            "100%|██████████| 93/93 [00:02<00:00, 36.95it/s]\n"
          ]
        },
        {
          "output_type": "stream",
          "name": "stdout",
          "text": [
            "Epochs: 183 | Train Loss:  0.846             | Val Loss:  0.842             | Train RMSE:  0.908             | Val RMSE:  0.906\n"
          ]
        },
        {
          "output_type": "stream",
          "name": "stderr",
          "text": [
            "100%|██████████| 93/93 [00:02<00:00, 36.92it/s]\n"
          ]
        },
        {
          "output_type": "stream",
          "name": "stdout",
          "text": [
            "Epochs: 184 | Train Loss:  0.794             | Val Loss:  0.835             | Train RMSE:  0.879             | Val RMSE:  0.899\n"
          ]
        },
        {
          "output_type": "stream",
          "name": "stderr",
          "text": [
            "100%|██████████| 93/93 [00:02<00:00, 36.86it/s]\n"
          ]
        },
        {
          "output_type": "stream",
          "name": "stdout",
          "text": [
            "Epochs: 185 | Train Loss:  0.811             | Val Loss:  0.836             | Train RMSE:  0.890             | Val RMSE:  0.910\n"
          ]
        },
        {
          "output_type": "stream",
          "name": "stderr",
          "text": [
            "100%|██████████| 93/93 [00:02<00:00, 36.90it/s]\n"
          ]
        },
        {
          "output_type": "stream",
          "name": "stdout",
          "text": [
            "Epochs: 186 | Train Loss:  0.820             | Val Loss:  0.898             | Train RMSE:  0.893             | Val RMSE:  0.938\n"
          ]
        },
        {
          "output_type": "stream",
          "name": "stderr",
          "text": [
            "100%|██████████| 93/93 [00:02<00:00, 36.88it/s]\n"
          ]
        },
        {
          "output_type": "stream",
          "name": "stdout",
          "text": [
            "Epochs: 187 | Train Loss:  0.814             | Val Loss:  0.913             | Train RMSE:  0.890             | Val RMSE:  0.947\n"
          ]
        },
        {
          "output_type": "stream",
          "name": "stderr",
          "text": [
            "100%|██████████| 93/93 [00:02<00:00, 36.79it/s]\n"
          ]
        },
        {
          "output_type": "stream",
          "name": "stdout",
          "text": [
            "Epochs: 188 | Train Loss:  0.787             | Val Loss:  0.841             | Train RMSE:  0.876             | Val RMSE:  0.908\n"
          ]
        },
        {
          "output_type": "stream",
          "name": "stderr",
          "text": [
            "100%|██████████| 93/93 [00:02<00:00, 36.88it/s]\n"
          ]
        },
        {
          "output_type": "stream",
          "name": "stdout",
          "text": [
            "Epochs: 189 | Train Loss:  0.830             | Val Loss:  0.888             | Train RMSE:  0.903             | Val RMSE:  0.934\n"
          ]
        },
        {
          "output_type": "stream",
          "name": "stderr",
          "text": [
            "100%|██████████| 93/93 [00:02<00:00, 36.83it/s]\n"
          ]
        },
        {
          "output_type": "stream",
          "name": "stdout",
          "text": [
            "Epochs: 190 | Train Loss:  0.786             | Val Loss:  0.797             | Train RMSE:  0.877             | Val RMSE:  0.888\n"
          ]
        },
        {
          "output_type": "stream",
          "name": "stderr",
          "text": [
            "100%|██████████| 93/93 [00:02<00:00, 36.86it/s]\n"
          ]
        },
        {
          "output_type": "stream",
          "name": "stdout",
          "text": [
            "Epochs: 191 | Train Loss:  0.794             | Val Loss:  0.867             | Train RMSE:  0.880             | Val RMSE:  0.916\n"
          ]
        },
        {
          "output_type": "stream",
          "name": "stderr",
          "text": [
            "100%|██████████| 93/93 [00:02<00:00, 36.97it/s]\n"
          ]
        },
        {
          "output_type": "stream",
          "name": "stdout",
          "text": [
            "Epochs: 192 | Train Loss:  0.789             | Val Loss:  0.800             | Train RMSE:  0.880             | Val RMSE:  0.888\n"
          ]
        },
        {
          "output_type": "stream",
          "name": "stderr",
          "text": [
            "100%|██████████| 93/93 [00:02<00:00, 36.94it/s]\n"
          ]
        },
        {
          "output_type": "stream",
          "name": "stdout",
          "text": [
            "Epochs: 193 | Train Loss:  0.760             | Val Loss:  0.860             | Train RMSE:  0.861             | Val RMSE:  0.916\n"
          ]
        },
        {
          "output_type": "stream",
          "name": "stderr",
          "text": [
            "100%|██████████| 93/93 [00:02<00:00, 36.98it/s]\n"
          ]
        },
        {
          "output_type": "stream",
          "name": "stdout",
          "text": [
            "Epochs: 194 | Train Loss:  0.772             | Val Loss:  0.865             | Train RMSE:  0.869             | Val RMSE:  0.922\n"
          ]
        },
        {
          "output_type": "stream",
          "name": "stderr",
          "text": [
            "100%|██████████| 93/93 [00:02<00:00, 36.92it/s]\n"
          ]
        },
        {
          "output_type": "stream",
          "name": "stdout",
          "text": [
            "Epochs: 195 | Train Loss:  0.787             | Val Loss:  0.876             | Train RMSE:  0.879             | Val RMSE:  0.925\n"
          ]
        },
        {
          "output_type": "stream",
          "name": "stderr",
          "text": [
            "100%|██████████| 93/93 [00:02<00:00, 37.02it/s]\n"
          ]
        },
        {
          "output_type": "stream",
          "name": "stdout",
          "text": [
            "Epochs: 196 | Train Loss:  0.818             | Val Loss:  0.848             | Train RMSE:  0.893             | Val RMSE:  0.916\n"
          ]
        },
        {
          "output_type": "stream",
          "name": "stderr",
          "text": [
            "100%|██████████| 93/93 [00:02<00:00, 37.08it/s]\n"
          ]
        },
        {
          "output_type": "stream",
          "name": "stdout",
          "text": [
            "Epochs: 197 | Train Loss:  0.794             | Val Loss:  0.811             | Train RMSE:  0.878             | Val RMSE:  0.890\n"
          ]
        },
        {
          "output_type": "stream",
          "name": "stderr",
          "text": [
            "100%|██████████| 93/93 [00:02<00:00, 37.05it/s]\n"
          ]
        },
        {
          "output_type": "stream",
          "name": "stdout",
          "text": [
            "Epochs: 198 | Train Loss:  0.804             | Val Loss:  0.870             | Train RMSE:  0.885             | Val RMSE:  0.925\n"
          ]
        },
        {
          "output_type": "stream",
          "name": "stderr",
          "text": [
            "100%|██████████| 93/93 [00:02<00:00, 37.04it/s]\n"
          ]
        },
        {
          "output_type": "stream",
          "name": "stdout",
          "text": [
            "Epochs: 199 | Train Loss:  0.764             | Val Loss:  0.935             | Train RMSE:  0.862             | Val RMSE:  0.954\n"
          ]
        },
        {
          "output_type": "stream",
          "name": "stderr",
          "text": [
            "100%|██████████| 93/93 [00:02<00:00, 36.70it/s]\n"
          ]
        },
        {
          "output_type": "stream",
          "name": "stdout",
          "text": [
            "Epochs: 200 | Train Loss:  0.781             | Val Loss:  0.796             | Train RMSE:  0.874             | Val RMSE:  0.886\n"
          ]
        },
        {
          "output_type": "stream",
          "name": "stderr",
          "text": [
            "100%|██████████| 93/93 [00:02<00:00, 36.82it/s]\n"
          ]
        },
        {
          "output_type": "stream",
          "name": "stdout",
          "text": [
            "Epochs: 201 | Train Loss:  0.800             | Val Loss:  0.925             | Train RMSE:  0.882             | Val RMSE:  0.954\n"
          ]
        },
        {
          "output_type": "stream",
          "name": "stderr",
          "text": [
            "100%|██████████| 93/93 [00:02<00:00, 36.70it/s]\n"
          ]
        },
        {
          "output_type": "stream",
          "name": "stdout",
          "text": [
            "Epochs: 202 | Train Loss:  0.790             | Val Loss:  0.843             | Train RMSE:  0.878             | Val RMSE:  0.912\n"
          ]
        },
        {
          "output_type": "stream",
          "name": "stderr",
          "text": [
            "100%|██████████| 93/93 [00:02<00:00, 36.74it/s]\n"
          ]
        },
        {
          "output_type": "stream",
          "name": "stdout",
          "text": [
            "Epochs: 203 | Train Loss:  0.780             | Val Loss:  0.802             | Train RMSE:  0.874             | Val RMSE:  0.888\n"
          ]
        },
        {
          "output_type": "stream",
          "name": "stderr",
          "text": [
            "100%|██████████| 93/93 [00:02<00:00, 36.26it/s]\n"
          ]
        },
        {
          "output_type": "stream",
          "name": "stdout",
          "text": [
            "Epochs: 204 | Train Loss:  0.783             | Val Loss:  0.777             | Train RMSE:  0.873             | Val RMSE:  0.875\n"
          ]
        },
        {
          "output_type": "stream",
          "name": "stderr",
          "text": [
            "100%|██████████| 93/93 [00:02<00:00, 36.37it/s]\n"
          ]
        },
        {
          "output_type": "stream",
          "name": "stdout",
          "text": [
            "Epochs: 205 | Train Loss:  0.774             | Val Loss:  0.844             | Train RMSE:  0.869             | Val RMSE:  0.912\n"
          ]
        },
        {
          "output_type": "stream",
          "name": "stderr",
          "text": [
            "100%|██████████| 93/93 [00:02<00:00, 36.81it/s]\n"
          ]
        },
        {
          "output_type": "stream",
          "name": "stdout",
          "text": [
            "Epochs: 206 | Train Loss:  0.794             | Val Loss:  0.838             | Train RMSE:  0.880             | Val RMSE:  0.911\n"
          ]
        },
        {
          "output_type": "stream",
          "name": "stderr",
          "text": [
            "100%|██████████| 93/93 [00:02<00:00, 37.16it/s]\n"
          ]
        },
        {
          "output_type": "stream",
          "name": "stdout",
          "text": [
            "Epochs: 207 | Train Loss:  0.759             | Val Loss:  1.025             | Train RMSE:  0.860             | Val RMSE:  1.008\n"
          ]
        },
        {
          "output_type": "stream",
          "name": "stderr",
          "text": [
            "100%|██████████| 93/93 [00:02<00:00, 37.16it/s]\n"
          ]
        },
        {
          "output_type": "stream",
          "name": "stdout",
          "text": [
            "Epochs: 208 | Train Loss:  0.777             | Val Loss:  0.826             | Train RMSE:  0.868             | Val RMSE:  0.900\n"
          ]
        },
        {
          "output_type": "stream",
          "name": "stderr",
          "text": [
            "100%|██████████| 93/93 [00:02<00:00, 37.14it/s]\n"
          ]
        },
        {
          "output_type": "stream",
          "name": "stdout",
          "text": [
            "Epochs: 209 | Train Loss:  0.779             | Val Loss:  0.908             | Train RMSE:  0.871             | Val RMSE:  0.948\n"
          ]
        },
        {
          "output_type": "stream",
          "name": "stderr",
          "text": [
            "100%|██████████| 93/93 [00:02<00:00, 37.05it/s]\n"
          ]
        },
        {
          "output_type": "stream",
          "name": "stdout",
          "text": [
            "Epochs: 210 | Train Loss:  0.759             | Val Loss:  0.959             | Train RMSE:  0.861             | Val RMSE:  0.969\n"
          ]
        },
        {
          "output_type": "stream",
          "name": "stderr",
          "text": [
            "100%|██████████| 93/93 [00:02<00:00, 37.14it/s]\n"
          ]
        },
        {
          "output_type": "stream",
          "name": "stdout",
          "text": [
            "Epochs: 211 | Train Loss:  0.771             | Val Loss:  0.877             | Train RMSE:  0.865             | Val RMSE:  0.929\n"
          ]
        },
        {
          "output_type": "stream",
          "name": "stderr",
          "text": [
            "100%|██████████| 93/93 [00:02<00:00, 37.16it/s]\n"
          ]
        },
        {
          "output_type": "stream",
          "name": "stdout",
          "text": [
            "Epochs: 212 | Train Loss:  0.795             | Val Loss:  0.941             | Train RMSE:  0.882             | Val RMSE:  0.962\n"
          ]
        },
        {
          "output_type": "stream",
          "name": "stderr",
          "text": [
            "100%|██████████| 93/93 [00:02<00:00, 36.31it/s]\n"
          ]
        },
        {
          "output_type": "stream",
          "name": "stdout",
          "text": [
            "Epochs: 213 | Train Loss:  0.767             | Val Loss:  0.807             | Train RMSE:  0.866             | Val RMSE:  0.886\n"
          ]
        },
        {
          "output_type": "stream",
          "name": "stderr",
          "text": [
            "100%|██████████| 93/93 [00:02<00:00, 36.25it/s]\n"
          ]
        },
        {
          "output_type": "stream",
          "name": "stdout",
          "text": [
            "Epochs: 214 | Train Loss:  0.779             | Val Loss:  0.811             | Train RMSE:  0.873             | Val RMSE:  0.890\n"
          ]
        },
        {
          "output_type": "stream",
          "name": "stderr",
          "text": [
            "100%|██████████| 93/93 [00:02<00:00, 37.05it/s]\n"
          ]
        },
        {
          "output_type": "stream",
          "name": "stdout",
          "text": [
            "Epochs: 215 | Train Loss:  0.754             | Val Loss:  0.821             | Train RMSE:  0.859             | Val RMSE:  0.895\n"
          ]
        },
        {
          "output_type": "stream",
          "name": "stderr",
          "text": [
            "100%|██████████| 93/93 [00:02<00:00, 37.06it/s]\n"
          ]
        },
        {
          "output_type": "stream",
          "name": "stdout",
          "text": [
            "Epochs: 216 | Train Loss:  0.794             | Val Loss:  0.877             | Train RMSE:  0.883             | Val RMSE:  0.929\n"
          ]
        },
        {
          "output_type": "stream",
          "name": "stderr",
          "text": [
            "100%|██████████| 93/93 [00:02<00:00, 37.09it/s]\n"
          ]
        },
        {
          "output_type": "stream",
          "name": "stdout",
          "text": [
            "Epochs: 217 | Train Loss:  0.781             | Val Loss:  0.846             | Train RMSE:  0.875             | Val RMSE:  0.912\n"
          ]
        },
        {
          "output_type": "stream",
          "name": "stderr",
          "text": [
            "100%|██████████| 93/93 [00:02<00:00, 37.08it/s]\n"
          ]
        },
        {
          "output_type": "stream",
          "name": "stdout",
          "text": [
            "Epochs: 218 | Train Loss:  0.759             | Val Loss:  0.795             | Train RMSE:  0.862             | Val RMSE:  0.882\n"
          ]
        },
        {
          "output_type": "stream",
          "name": "stderr",
          "text": [
            "100%|██████████| 93/93 [00:02<00:00, 36.90it/s]\n"
          ]
        },
        {
          "output_type": "stream",
          "name": "stdout",
          "text": [
            "Epochs: 219 | Train Loss:  0.754             | Val Loss:  0.787             | Train RMSE:  0.859             | Val RMSE:  0.879\n"
          ]
        },
        {
          "output_type": "stream",
          "name": "stderr",
          "text": [
            "100%|██████████| 93/93 [00:02<00:00, 37.11it/s]\n"
          ]
        },
        {
          "output_type": "stream",
          "name": "stdout",
          "text": [
            "Epochs: 220 | Train Loss:  0.747             | Val Loss:  0.899             | Train RMSE:  0.853             | Val RMSE:  0.938\n"
          ]
        },
        {
          "output_type": "stream",
          "name": "stderr",
          "text": [
            "100%|██████████| 93/93 [00:02<00:00, 37.21it/s]\n"
          ]
        },
        {
          "output_type": "stream",
          "name": "stdout",
          "text": [
            "Epochs: 221 | Train Loss:  0.777             | Val Loss:  0.851             | Train RMSE:  0.868             | Val RMSE:  0.916\n"
          ]
        },
        {
          "output_type": "stream",
          "name": "stderr",
          "text": [
            "100%|██████████| 93/93 [00:02<00:00, 37.11it/s]\n"
          ]
        },
        {
          "output_type": "stream",
          "name": "stdout",
          "text": [
            "Epochs: 222 | Train Loss:  0.749             | Val Loss:  0.837             | Train RMSE:  0.856             | Val RMSE:  0.907\n"
          ]
        },
        {
          "output_type": "stream",
          "name": "stderr",
          "text": [
            "100%|██████████| 93/93 [00:02<00:00, 37.02it/s]\n"
          ]
        },
        {
          "output_type": "stream",
          "name": "stdout",
          "text": [
            "Epochs: 223 | Train Loss:  0.732             | Val Loss:  0.809             | Train RMSE:  0.844             | Val RMSE:  0.891\n"
          ]
        },
        {
          "output_type": "stream",
          "name": "stderr",
          "text": [
            "100%|██████████| 93/93 [00:02<00:00, 36.94it/s]\n"
          ]
        },
        {
          "output_type": "stream",
          "name": "stdout",
          "text": [
            "Epochs: 224 | Train Loss:  0.781             | Val Loss:  0.800             | Train RMSE:  0.870             | Val RMSE:  0.892\n"
          ]
        },
        {
          "output_type": "stream",
          "name": "stderr",
          "text": [
            "100%|██████████| 93/93 [00:02<00:00, 37.08it/s]\n"
          ]
        },
        {
          "output_type": "stream",
          "name": "stdout",
          "text": [
            "Epochs: 225 | Train Loss:  0.774             | Val Loss:  0.763             | Train RMSE:  0.872             | Val RMSE:  0.867\n"
          ]
        },
        {
          "output_type": "stream",
          "name": "stderr",
          "text": [
            "100%|██████████| 93/93 [00:02<00:00, 37.05it/s]\n"
          ]
        },
        {
          "output_type": "stream",
          "name": "stdout",
          "text": [
            "Epochs: 226 | Train Loss:  0.774             | Val Loss:  0.902             | Train RMSE:  0.869             | Val RMSE:  0.934\n"
          ]
        },
        {
          "output_type": "stream",
          "name": "stderr",
          "text": [
            "100%|██████████| 93/93 [00:02<00:00, 37.11it/s]\n"
          ]
        },
        {
          "output_type": "stream",
          "name": "stdout",
          "text": [
            "Epochs: 227 | Train Loss:  0.762             | Val Loss:  0.893             | Train RMSE:  0.861             | Val RMSE:  0.932\n"
          ]
        },
        {
          "output_type": "stream",
          "name": "stderr",
          "text": [
            "100%|██████████| 93/93 [00:02<00:00, 37.13it/s]\n"
          ]
        },
        {
          "output_type": "stream",
          "name": "stdout",
          "text": [
            "Epochs: 228 | Train Loss:  0.752             | Val Loss:  0.810             | Train RMSE:  0.856             | Val RMSE:  0.893\n"
          ]
        },
        {
          "output_type": "stream",
          "name": "stderr",
          "text": [
            "100%|██████████| 93/93 [00:02<00:00, 37.16it/s]\n"
          ]
        },
        {
          "output_type": "stream",
          "name": "stdout",
          "text": [
            "Epochs: 229 | Train Loss:  0.779             | Val Loss:  0.788             | Train RMSE:  0.869             | Val RMSE:  0.878\n"
          ]
        },
        {
          "output_type": "stream",
          "name": "stderr",
          "text": [
            "100%|██████████| 93/93 [00:02<00:00, 37.14it/s]\n"
          ]
        },
        {
          "output_type": "stream",
          "name": "stdout",
          "text": [
            "Epochs: 230 | Train Loss:  0.764             | Val Loss:  0.826             | Train RMSE:  0.863             | Val RMSE:  0.904\n"
          ]
        },
        {
          "output_type": "stream",
          "name": "stderr",
          "text": [
            "100%|██████████| 93/93 [00:02<00:00, 37.04it/s]\n"
          ]
        },
        {
          "output_type": "stream",
          "name": "stdout",
          "text": [
            "Epochs: 231 | Train Loss:  0.770             | Val Loss:  1.006             | Train RMSE:  0.869             | Val RMSE:  0.993\n"
          ]
        },
        {
          "output_type": "stream",
          "name": "stderr",
          "text": [
            "100%|██████████| 93/93 [00:02<00:00, 36.97it/s]\n"
          ]
        },
        {
          "output_type": "stream",
          "name": "stdout",
          "text": [
            "Epochs: 232 | Train Loss:  0.753             | Val Loss:  0.779             | Train RMSE:  0.857             | Val RMSE:  0.879\n"
          ]
        },
        {
          "output_type": "stream",
          "name": "stderr",
          "text": [
            "100%|██████████| 93/93 [00:02<00:00, 36.87it/s]\n"
          ]
        },
        {
          "output_type": "stream",
          "name": "stdout",
          "text": [
            "Epochs: 233 | Train Loss:  0.784             | Val Loss:  0.820             | Train RMSE:  0.875             | Val RMSE:  0.896\n"
          ]
        },
        {
          "output_type": "stream",
          "name": "stderr",
          "text": [
            "100%|██████████| 93/93 [00:02<00:00, 36.81it/s]\n"
          ]
        },
        {
          "output_type": "stream",
          "name": "stdout",
          "text": [
            "Epochs: 234 | Train Loss:  0.751             | Val Loss:  0.929             | Train RMSE:  0.856             | Val RMSE:  0.955\n"
          ]
        },
        {
          "output_type": "stream",
          "name": "stderr",
          "text": [
            "100%|██████████| 93/93 [00:02<00:00, 36.77it/s]\n"
          ]
        },
        {
          "output_type": "stream",
          "name": "stdout",
          "text": [
            "Epochs: 235 | Train Loss:  0.776             | Val Loss:  0.780             | Train RMSE:  0.871             | Val RMSE:  0.876\n"
          ]
        },
        {
          "output_type": "stream",
          "name": "stderr",
          "text": [
            "100%|██████████| 93/93 [00:02<00:00, 36.85it/s]\n"
          ]
        },
        {
          "output_type": "stream",
          "name": "stdout",
          "text": [
            "Epochs: 236 | Train Loss:  0.728             | Val Loss:  0.871             | Train RMSE:  0.844             | Val RMSE:  0.924\n"
          ]
        },
        {
          "output_type": "stream",
          "name": "stderr",
          "text": [
            "100%|██████████| 93/93 [00:02<00:00, 36.97it/s]\n"
          ]
        },
        {
          "output_type": "stream",
          "name": "stdout",
          "text": [
            "Epochs: 237 | Train Loss:  0.741             | Val Loss:  0.792             | Train RMSE:  0.851             | Val RMSE:  0.883\n"
          ]
        },
        {
          "output_type": "stream",
          "name": "stderr",
          "text": [
            "100%|██████████| 93/93 [00:02<00:00, 37.07it/s]\n"
          ]
        },
        {
          "output_type": "stream",
          "name": "stdout",
          "text": [
            "Epochs: 238 | Train Loss:  0.748             | Val Loss:  0.766             | Train RMSE:  0.853             | Val RMSE:  0.871\n"
          ]
        },
        {
          "output_type": "stream",
          "name": "stderr",
          "text": [
            "100%|██████████| 93/93 [00:02<00:00, 37.07it/s]\n"
          ]
        },
        {
          "output_type": "stream",
          "name": "stdout",
          "text": [
            "Epochs: 239 | Train Loss:  0.734             | Val Loss:  0.845             | Train RMSE:  0.847             | Val RMSE:  0.913\n"
          ]
        },
        {
          "output_type": "stream",
          "name": "stderr",
          "text": [
            "100%|██████████| 93/93 [00:02<00:00, 37.11it/s]\n"
          ]
        },
        {
          "output_type": "stream",
          "name": "stdout",
          "text": [
            "Epochs: 240 | Train Loss:  0.729             | Val Loss:  0.784             | Train RMSE:  0.840             | Val RMSE:  0.882\n"
          ]
        },
        {
          "output_type": "stream",
          "name": "stderr",
          "text": [
            "100%|██████████| 93/93 [00:02<00:00, 37.09it/s]\n"
          ]
        },
        {
          "output_type": "stream",
          "name": "stdout",
          "text": [
            "Epochs: 241 | Train Loss:  0.756             | Val Loss:  0.940             | Train RMSE:  0.859             | Val RMSE:  0.961\n"
          ]
        },
        {
          "output_type": "stream",
          "name": "stderr",
          "text": [
            "100%|██████████| 93/93 [00:02<00:00, 37.15it/s]\n"
          ]
        },
        {
          "output_type": "stream",
          "name": "stdout",
          "text": [
            "Epochs: 242 | Train Loss:  0.741             | Val Loss:  0.877             | Train RMSE:  0.851             | Val RMSE:  0.932\n"
          ]
        },
        {
          "output_type": "stream",
          "name": "stderr",
          "text": [
            "100%|██████████| 93/93 [00:02<00:00, 37.06it/s]\n"
          ]
        },
        {
          "output_type": "stream",
          "name": "stdout",
          "text": [
            "Epochs: 243 | Train Loss:  0.773             | Val Loss:  0.800             | Train RMSE:  0.867             | Val RMSE:  0.888\n"
          ]
        },
        {
          "output_type": "stream",
          "name": "stderr",
          "text": [
            "100%|██████████| 93/93 [00:02<00:00, 37.08it/s]\n"
          ]
        },
        {
          "output_type": "stream",
          "name": "stdout",
          "text": [
            "Epochs: 244 | Train Loss:  0.768             | Val Loss:  0.826             | Train RMSE:  0.867             | Val RMSE:  0.903\n"
          ]
        },
        {
          "output_type": "stream",
          "name": "stderr",
          "text": [
            "100%|██████████| 93/93 [00:02<00:00, 37.08it/s]\n"
          ]
        },
        {
          "output_type": "stream",
          "name": "stdout",
          "text": [
            "Epochs: 245 | Train Loss:  0.736             | Val Loss:  0.765             | Train RMSE:  0.844             | Val RMSE:  0.868\n"
          ]
        },
        {
          "output_type": "stream",
          "name": "stderr",
          "text": [
            "100%|██████████| 93/93 [00:02<00:00, 37.14it/s]\n"
          ]
        },
        {
          "output_type": "stream",
          "name": "stdout",
          "text": [
            "Epochs: 246 | Train Loss:  0.739             | Val Loss:  0.841             | Train RMSE:  0.848             | Val RMSE:  0.912\n"
          ]
        },
        {
          "output_type": "stream",
          "name": "stderr",
          "text": [
            "100%|██████████| 93/93 [00:02<00:00, 37.13it/s]\n"
          ]
        },
        {
          "output_type": "stream",
          "name": "stdout",
          "text": [
            "Epochs: 247 | Train Loss:  0.763             | Val Loss:  0.891             | Train RMSE:  0.864             | Val RMSE:  0.935\n"
          ]
        },
        {
          "output_type": "stream",
          "name": "stderr",
          "text": [
            "100%|██████████| 93/93 [00:02<00:00, 37.10it/s]\n"
          ]
        },
        {
          "output_type": "stream",
          "name": "stdout",
          "text": [
            "Epochs: 248 | Train Loss:  0.747             | Val Loss:  0.827             | Train RMSE:  0.851             | Val RMSE:  0.904\n"
          ]
        },
        {
          "output_type": "stream",
          "name": "stderr",
          "text": [
            "100%|██████████| 93/93 [00:02<00:00, 36.92it/s]\n"
          ]
        },
        {
          "output_type": "stream",
          "name": "stdout",
          "text": [
            "Epochs: 249 | Train Loss:  0.767             | Val Loss:  0.870             | Train RMSE:  0.866             | Val RMSE:  0.930\n"
          ]
        },
        {
          "output_type": "stream",
          "name": "stderr",
          "text": [
            "100%|██████████| 93/93 [00:02<00:00, 36.89it/s]\n"
          ]
        },
        {
          "output_type": "stream",
          "name": "stdout",
          "text": [
            "Epochs: 250 | Train Loss:  0.743             | Val Loss:  0.830             | Train RMSE:  0.851             | Val RMSE:  0.903\n"
          ]
        },
        {
          "output_type": "execute_result",
          "data": {
            "text/plain": [
              "HiGNN(\n",
              "  (lin_a): Linear(in_features=45, out_features=64, bias=True)\n",
              "  (lin_b): Linear(in_features=10, out_features=64, bias=True)\n",
              "  (atom_convs): ModuleList(\n",
              "    (0): NTNConv(64, 64, slices=2)\n",
              "    (1): NTNConv(64, 64, slices=2)\n",
              "    (2): NTNConv(64, 64, slices=2)\n",
              "  )\n",
              "  (lin_gate): Linear(in_features=192, out_features=64, bias=True)\n",
              "  (feature_att): FeatureAttention(\n",
              "    (mlp): Sequential(\n",
              "      (0): Linear(in_features=64, out_features=16, bias=True)\n",
              "      (1): ReLU(inplace=True)\n",
              "      (2): Linear(in_features=16, out_features=64, bias=False)\n",
              "    )\n",
              "  )\n",
              "  (cross_att): GATConv(64, 64, heads=4)\n",
              "  (out): ModuleList(\n",
              "    (0): Linear(in_features=128, out_features=1, bias=True)\n",
              "  )\n",
              ")"
            ]
          },
          "metadata": {},
          "execution_count": 15
        }
      ]
    },
    {
      "cell_type": "markdown",
      "source": [
        "# Input SPR"
      ],
      "metadata": {
        "id": "swAPp-eVMwdO"
      }
    },
    {
      "cell_type": "code",
      "source": [
        "df = pd.read_csv(\"./chem_datasets/input_SPR_final.csv\")\n",
        "df.head()"
      ],
      "metadata": {
        "colab": {
          "base_uri": "https://localhost:8080/",
          "height": 206
        },
        "id": "Spy33DrsMzuE",
        "outputId": "ea943f7b-e578-4c87-d757-1cb3525e4c2a"
      },
      "execution_count": 27,
      "outputs": [
        {
          "output_type": "execute_result",
          "data": {
            "text/plain": [
              "                                              SMILES  Average logS SPR\n",
              "0  [C@@H]1(C)N[C@H](C)C2=C(C1)C(C(=O)NCCC1=CC=C(F...         -5.125518\n",
              "1  [C@@H]1(O)[C@@H](N)[C@H](OC2=CN=CC(C3=CC=C4C(=...         -3.730487\n",
              "2  [C@H]1(C)N[C@@H](C)C2=C(C1)C(C(OCC)=O)=C(NC(C1...         -4.434152\n",
              "3  [C@H]1(NC(CSC2=NC(=O)NC=C2Cl)=O)C2=C(CC1)C=C(O...         -4.709965\n",
              "4    [C@H]1(NC(NC2=NN=C(SCCN(C)C)S2)=O)CC[C@H](C)CC1         -4.003488"
            ],
            "text/html": [
              "<div>\n",
              "<style scoped>\n",
              "    .dataframe tbody tr th:only-of-type {\n",
              "        vertical-align: middle;\n",
              "    }\n",
              "\n",
              "    .dataframe tbody tr th {\n",
              "        vertical-align: top;\n",
              "    }\n",
              "\n",
              "    .dataframe thead th {\n",
              "        text-align: right;\n",
              "    }\n",
              "</style>\n",
              "<table border=\"1\" class=\"dataframe\">\n",
              "  <thead>\n",
              "    <tr style=\"text-align: right;\">\n",
              "      <th></th>\n",
              "      <th>SMILES</th>\n",
              "      <th>Average logS SPR</th>\n",
              "    </tr>\n",
              "  </thead>\n",
              "  <tbody>\n",
              "    <tr>\n",
              "      <th>0</th>\n",
              "      <td>[C@@H]1(C)N[C@H](C)C2=C(C1)C(C(=O)NCCC1=CC=C(F...</td>\n",
              "      <td>-5.125518</td>\n",
              "    </tr>\n",
              "    <tr>\n",
              "      <th>1</th>\n",
              "      <td>[C@@H]1(O)[C@@H](N)[C@H](OC2=CN=CC(C3=CC=C4C(=...</td>\n",
              "      <td>-3.730487</td>\n",
              "    </tr>\n",
              "    <tr>\n",
              "      <th>2</th>\n",
              "      <td>[C@H]1(C)N[C@@H](C)C2=C(C1)C(C(OCC)=O)=C(NC(C1...</td>\n",
              "      <td>-4.434152</td>\n",
              "    </tr>\n",
              "    <tr>\n",
              "      <th>3</th>\n",
              "      <td>[C@H]1(NC(CSC2=NC(=O)NC=C2Cl)=O)C2=C(CC1)C=C(O...</td>\n",
              "      <td>-4.709965</td>\n",
              "    </tr>\n",
              "    <tr>\n",
              "      <th>4</th>\n",
              "      <td>[C@H]1(NC(NC2=NN=C(SCCN(C)C)S2)=O)CC[C@H](C)CC1</td>\n",
              "      <td>-4.003488</td>\n",
              "    </tr>\n",
              "  </tbody>\n",
              "</table>\n",
              "</div>"
            ]
          },
          "metadata": {},
          "execution_count": 27
        }
      ]
    },
    {
      "cell_type": "code",
      "source": [
        "df = df.sample(frac=1).reset_index(drop=True)\n",
        "df.to_csv('./chem_datasets/input_SPR_final_random.csv', index = False)"
      ],
      "metadata": {
        "id": "T_yUv_q-Mzmv"
      },
      "execution_count": 29,
      "outputs": []
    },
    {
      "cell_type": "code",
      "source": [
        "df = pd.read_csv('./chem_datasets/input_SPR_final_random.csv')\n",
        "df.head()"
      ],
      "metadata": {
        "colab": {
          "base_uri": "https://localhost:8080/",
          "height": 206
        },
        "id": "N1rSNOnWNGcv",
        "outputId": "99a54707-c588-44dd-8433-a504b42e52de"
      },
      "execution_count": 31,
      "outputs": [
        {
          "output_type": "execute_result",
          "data": {
            "text/plain": [
              "                                              SMILES  Average logS SPR\n",
              "0         C12=C(N=C(C3=CC=C(Br)C=C3)N1)C(=O)NC(N)=N2         -4.856985\n",
              "1   O=C(NC1=NC2=C(C=C3OCCOC3=C2)S1)C1=CC=C2CCCNC2=C1         -5.832683\n",
              "2  OC(C1=NN(C2=C(C(NC3=NC4=C(C=C5C(=C4)OCCO5)S3)=...         -4.013676\n",
              "3  FC1=CC2=C(C=C1)N=C(N(CCCN1CCOCC1)C(=O)C1=CC=C(...         -6.163043\n",
              "4  N1(CC(N[C@H](C2=NC3=C(N2)C=CC=C3)CC(C)C)=O)C(=...         -4.882729"
            ],
            "text/html": [
              "<div>\n",
              "<style scoped>\n",
              "    .dataframe tbody tr th:only-of-type {\n",
              "        vertical-align: middle;\n",
              "    }\n",
              "\n",
              "    .dataframe tbody tr th {\n",
              "        vertical-align: top;\n",
              "    }\n",
              "\n",
              "    .dataframe thead th {\n",
              "        text-align: right;\n",
              "    }\n",
              "</style>\n",
              "<table border=\"1\" class=\"dataframe\">\n",
              "  <thead>\n",
              "    <tr style=\"text-align: right;\">\n",
              "      <th></th>\n",
              "      <th>SMILES</th>\n",
              "      <th>Average logS SPR</th>\n",
              "    </tr>\n",
              "  </thead>\n",
              "  <tbody>\n",
              "    <tr>\n",
              "      <th>0</th>\n",
              "      <td>C12=C(N=C(C3=CC=C(Br)C=C3)N1)C(=O)NC(N)=N2</td>\n",
              "      <td>-4.856985</td>\n",
              "    </tr>\n",
              "    <tr>\n",
              "      <th>1</th>\n",
              "      <td>O=C(NC1=NC2=C(C=C3OCCOC3=C2)S1)C1=CC=C2CCCNC2=C1</td>\n",
              "      <td>-5.832683</td>\n",
              "    </tr>\n",
              "    <tr>\n",
              "      <th>2</th>\n",
              "      <td>OC(C1=NN(C2=C(C(NC3=NC4=C(C=C5C(=C4)OCCO5)S3)=...</td>\n",
              "      <td>-4.013676</td>\n",
              "    </tr>\n",
              "    <tr>\n",
              "      <th>3</th>\n",
              "      <td>FC1=CC2=C(C=C1)N=C(N(CCCN1CCOCC1)C(=O)C1=CC=C(...</td>\n",
              "      <td>-6.163043</td>\n",
              "    </tr>\n",
              "    <tr>\n",
              "      <th>4</th>\n",
              "      <td>N1(CC(N[C@H](C2=NC3=C(N2)C=CC=C3)CC(C)C)=O)C(=...</td>\n",
              "      <td>-4.882729</td>\n",
              "    </tr>\n",
              "  </tbody>\n",
              "</table>\n",
              "</div>"
            ]
          },
          "metadata": {},
          "execution_count": 31
        }
      ]
    },
    {
      "cell_type": "code",
      "source": [
        "# Prepapre the Data Loaders. - root/dataset - ./root/processed/input_SPR_final_random_iter_1\n",
        "# In order\n",
        "train_loader, valid_loader, test_loader = get_loaders(root = './root/',\n",
        "                                                      fpath = './chem_datasets/input_SPR_final_random.csv',\n",
        "                                                      dataset = \"input_SPR_final_random_iter_1\",\n",
        "                                                      task_type = 'regression',\n",
        "                                                      tasks = ['Average logS SPR'],\n",
        "                                                      smiles_col = 'SMILES'\n",
        "                                                  )"
      ],
      "metadata": {
        "colab": {
          "base_uri": "https://localhost:8080/"
        },
        "id": "OMDRtHlMNNCt",
        "outputId": "408e81ab-bd88-43e5-c345-23b1e16cd8ae"
      },
      "execution_count": 9,
      "outputs": [
        {
          "output_type": "stream",
          "name": "stdout",
          "text": [
            "Total smiles = 7,141 | train smiles = 5,712 | val smiles = 714 | test smiles = 715\n"
          ]
        },
        {
          "output_type": "stream",
          "name": "stderr",
          "text": [
            "/home/ec2-user/virtenv/lib64/python3.7/site-packages/torch_geometric/data/in_memory_dataset.py:157: UserWarning: It is not recommended to directly access the internal storage format `data` of an 'InMemoryDataset'. If you are absolutely certain what you are doing, access the internal storage via `InMemoryDataset._data` instead to suppress this warning. Alternatively, you can access stacked individual attributes of every graph via `dataset.{attr_name}`.\n",
            "  warnings.warn(msg)\n",
            "/home/ec2-user/virtenv/lib64/python3.7/site-packages/torch_geometric/deprecation.py:22: UserWarning: 'data.DataLoader' is deprecated, use 'loader.DataLoader' instead\n",
            "  warnings.warn(out)\n"
          ]
        }
      ]
    },
    {
      "cell_type": "code",
      "source": [
        "next(iter(train_loader))"
      ],
      "metadata": {
        "id": "0MAMtvjnNlhi"
      },
      "execution_count": null,
      "outputs": []
    },
    {
      "cell_type": "code",
      "source": [
        "#Get Device\n",
        "device = torch.device('cuda' if torch.cuda.is_available() else 'cpu')\n",
        "\n",
        "#Build Model\n",
        "spr_hi_gnn = build_model()\n",
        "\n",
        "# Train the model\n",
        "spr_hi_gnn = train_regression(spr_hi_gnn, train_loader, valid_loader, learning_rate = 1e-03, min_lr = 1e-04, epochs = 250, wd = 1e-03)"
      ],
      "metadata": {
        "colab": {
          "base_uri": "https://localhost:8080/"
        },
        "id": "P2hpACLsNbh4",
        "outputId": "105dd4c2-6751-4eee-87e0-8fe768d3d265"
      },
      "execution_count": null,
      "outputs": [
        {
          "output_type": "stream",
          "name": "stderr",
          "text": [
            "100%|██████████| 179/179 [00:06<00:00, 27.42it/s]\n"
          ]
        },
        {
          "output_type": "stream",
          "name": "stdout",
          "text": [
            "Epochs: 1 | Train Loss:  2.413             | Val Loss:  0.988             | Train RMSE:  1.350             | Val RMSE:  0.978\n"
          ]
        },
        {
          "output_type": "stream",
          "name": "stderr",
          "text": [
            "100%|██████████| 179/179 [00:04<00:00, 37.39it/s]\n"
          ]
        },
        {
          "output_type": "stream",
          "name": "stdout",
          "text": [
            "Epochs: 2 | Train Loss:  0.866             | Val Loss:  0.834             | Train RMSE:  0.920             | Val RMSE:  0.896\n"
          ]
        },
        {
          "output_type": "stream",
          "name": "stderr",
          "text": [
            "100%|██████████| 179/179 [00:04<00:00, 37.30it/s]\n"
          ]
        },
        {
          "output_type": "stream",
          "name": "stdout",
          "text": [
            "Epochs: 3 | Train Loss:  0.812             | Val Loss:  0.917             | Train RMSE:  0.890             | Val RMSE:  0.942\n"
          ]
        },
        {
          "output_type": "stream",
          "name": "stderr",
          "text": [
            "100%|██████████| 179/179 [00:04<00:00, 37.30it/s]\n"
          ]
        },
        {
          "output_type": "stream",
          "name": "stdout",
          "text": [
            "Epochs: 4 | Train Loss:  0.770             | Val Loss:  0.827             | Train RMSE:  0.866             | Val RMSE:  0.899\n"
          ]
        },
        {
          "output_type": "stream",
          "name": "stderr",
          "text": [
            "100%|██████████| 179/179 [00:04<00:00, 37.40it/s]\n"
          ]
        },
        {
          "output_type": "stream",
          "name": "stdout",
          "text": [
            "Epochs: 5 | Train Loss:  0.740             | Val Loss:  0.849             | Train RMSE:  0.849             | Val RMSE:  0.908\n"
          ]
        },
        {
          "output_type": "stream",
          "name": "stderr",
          "text": [
            "100%|██████████| 179/179 [00:04<00:00, 37.33it/s]\n"
          ]
        },
        {
          "output_type": "stream",
          "name": "stdout",
          "text": [
            "Epochs: 6 | Train Loss:  0.751             | Val Loss:  0.713             | Train RMSE:  0.856             | Val RMSE:  0.827\n"
          ]
        },
        {
          "output_type": "stream",
          "name": "stderr",
          "text": [
            "100%|██████████| 179/179 [00:04<00:00, 37.36it/s]\n"
          ]
        },
        {
          "output_type": "stream",
          "name": "stdout",
          "text": [
            "Epochs: 7 | Train Loss:  0.736             | Val Loss:  0.777             | Train RMSE:  0.848             | Val RMSE:  0.858\n"
          ]
        },
        {
          "output_type": "stream",
          "name": "stderr",
          "text": [
            "100%|██████████| 179/179 [00:04<00:00, 37.54it/s]\n"
          ]
        },
        {
          "output_type": "stream",
          "name": "stdout",
          "text": [
            "Epochs: 8 | Train Loss:  0.726             | Val Loss:  0.796             | Train RMSE:  0.842             | Val RMSE:  0.874\n"
          ]
        },
        {
          "output_type": "stream",
          "name": "stderr",
          "text": [
            "100%|██████████| 179/179 [00:04<00:00, 37.45it/s]\n"
          ]
        },
        {
          "output_type": "stream",
          "name": "stdout",
          "text": [
            "Epochs: 9 | Train Loss:  0.712             | Val Loss:  0.725             | Train RMSE:  0.834             | Val RMSE:  0.831\n"
          ]
        },
        {
          "output_type": "stream",
          "name": "stderr",
          "text": [
            "100%|██████████| 179/179 [00:04<00:00, 36.95it/s]\n"
          ]
        },
        {
          "output_type": "stream",
          "name": "stdout",
          "text": [
            "Epochs: 10 | Train Loss:  0.709             | Val Loss:  0.761             | Train RMSE:  0.833             | Val RMSE:  0.860\n"
          ]
        },
        {
          "output_type": "stream",
          "name": "stderr",
          "text": [
            "100%|██████████| 179/179 [00:04<00:00, 36.63it/s]\n"
          ]
        },
        {
          "output_type": "stream",
          "name": "stdout",
          "text": [
            "Epochs: 11 | Train Loss:  0.694             | Val Loss:  0.752             | Train RMSE:  0.820             | Val RMSE:  0.854\n"
          ]
        },
        {
          "output_type": "stream",
          "name": "stderr",
          "text": [
            "100%|██████████| 179/179 [00:04<00:00, 37.21it/s]\n"
          ]
        },
        {
          "output_type": "stream",
          "name": "stdout",
          "text": [
            "Epochs: 12 | Train Loss:  0.703             | Val Loss:  0.748             | Train RMSE:  0.827             | Val RMSE:  0.848\n"
          ]
        },
        {
          "output_type": "stream",
          "name": "stderr",
          "text": [
            "100%|██████████| 179/179 [00:04<00:00, 37.34it/s]\n"
          ]
        },
        {
          "output_type": "stream",
          "name": "stdout",
          "text": [
            "Epochs: 13 | Train Loss:  0.703             | Val Loss:  0.713             | Train RMSE:  0.826             | Val RMSE:  0.832\n"
          ]
        },
        {
          "output_type": "stream",
          "name": "stderr",
          "text": [
            "100%|██████████| 179/179 [00:04<00:00, 37.27it/s]\n"
          ]
        },
        {
          "output_type": "stream",
          "name": "stdout",
          "text": [
            "Epochs: 14 | Train Loss:  0.688             | Val Loss:  0.759             | Train RMSE:  0.818             | Val RMSE:  0.851\n"
          ]
        },
        {
          "output_type": "stream",
          "name": "stderr",
          "text": [
            "100%|██████████| 179/179 [00:04<00:00, 37.22it/s]\n"
          ]
        },
        {
          "output_type": "stream",
          "name": "stdout",
          "text": [
            "Epochs: 15 | Train Loss:  0.686             | Val Loss:  0.698             | Train RMSE:  0.817             | Val RMSE:  0.817\n"
          ]
        },
        {
          "output_type": "stream",
          "name": "stderr",
          "text": [
            "100%|██████████| 179/179 [00:04<00:00, 37.11it/s]\n"
          ]
        },
        {
          "output_type": "stream",
          "name": "stdout",
          "text": [
            "Epochs: 16 | Train Loss:  0.683             | Val Loss:  0.726             | Train RMSE:  0.816             | Val RMSE:  0.833\n"
          ]
        },
        {
          "output_type": "stream",
          "name": "stderr",
          "text": [
            "100%|██████████| 179/179 [00:04<00:00, 36.93it/s]\n"
          ]
        },
        {
          "output_type": "stream",
          "name": "stdout",
          "text": [
            "Epochs: 17 | Train Loss:  0.669             | Val Loss:  0.720             | Train RMSE:  0.804             | Val RMSE:  0.834\n"
          ]
        },
        {
          "output_type": "stream",
          "name": "stderr",
          "text": [
            "100%|██████████| 179/179 [00:04<00:00, 37.13it/s]\n"
          ]
        },
        {
          "output_type": "stream",
          "name": "stdout",
          "text": [
            "Epochs: 18 | Train Loss:  0.664             | Val Loss:  0.702             | Train RMSE:  0.804             | Val RMSE:  0.825\n"
          ]
        },
        {
          "output_type": "stream",
          "name": "stderr",
          "text": [
            "100%|██████████| 179/179 [00:04<00:00, 37.16it/s]\n"
          ]
        },
        {
          "output_type": "stream",
          "name": "stdout",
          "text": [
            "Epochs: 19 | Train Loss:  0.663             | Val Loss:  0.701             | Train RMSE:  0.803             | Val RMSE:  0.825\n"
          ]
        },
        {
          "output_type": "stream",
          "name": "stderr",
          "text": [
            "100%|██████████| 179/179 [00:04<00:00, 37.08it/s]\n"
          ]
        },
        {
          "output_type": "stream",
          "name": "stdout",
          "text": [
            "Epochs: 20 | Train Loss:  0.674             | Val Loss:  0.707             | Train RMSE:  0.811             | Val RMSE:  0.828\n"
          ]
        },
        {
          "output_type": "stream",
          "name": "stderr",
          "text": [
            "100%|██████████| 179/179 [00:04<00:00, 37.27it/s]\n"
          ]
        },
        {
          "output_type": "stream",
          "name": "stdout",
          "text": [
            "Epochs: 21 | Train Loss:  0.665             | Val Loss:  0.667             | Train RMSE:  0.805             | Val RMSE:  0.798\n"
          ]
        },
        {
          "output_type": "stream",
          "name": "stderr",
          "text": [
            "100%|██████████| 179/179 [00:04<00:00, 37.34it/s]\n"
          ]
        },
        {
          "output_type": "stream",
          "name": "stdout",
          "text": [
            "Epochs: 22 | Train Loss:  0.658             | Val Loss:  0.669             | Train RMSE:  0.799             | Val RMSE:  0.802\n"
          ]
        },
        {
          "output_type": "stream",
          "name": "stderr",
          "text": [
            "100%|██████████| 179/179 [00:04<00:00, 37.36it/s]\n"
          ]
        },
        {
          "output_type": "stream",
          "name": "stdout",
          "text": [
            "Epochs: 23 | Train Loss:  0.674             | Val Loss:  0.687             | Train RMSE:  0.810             | Val RMSE:  0.815\n"
          ]
        },
        {
          "output_type": "stream",
          "name": "stderr",
          "text": [
            "100%|██████████| 179/179 [00:04<00:00, 37.04it/s]\n"
          ]
        },
        {
          "output_type": "stream",
          "name": "stdout",
          "text": [
            "Epochs: 24 | Train Loss:  0.659             | Val Loss:  0.701             | Train RMSE:  0.801             | Val RMSE:  0.820\n"
          ]
        },
        {
          "output_type": "stream",
          "name": "stderr",
          "text": [
            "100%|██████████| 179/179 [00:04<00:00, 37.38it/s]\n"
          ]
        },
        {
          "output_type": "stream",
          "name": "stdout",
          "text": [
            "Epochs: 25 | Train Loss:  0.637             | Val Loss:  0.735             | Train RMSE:  0.787             | Val RMSE:  0.837\n"
          ]
        },
        {
          "output_type": "stream",
          "name": "stderr",
          "text": [
            "100%|██████████| 179/179 [00:04<00:00, 37.38it/s]\n"
          ]
        },
        {
          "output_type": "stream",
          "name": "stdout",
          "text": [
            "Epochs: 26 | Train Loss:  0.649             | Val Loss:  0.685             | Train RMSE:  0.793             | Val RMSE:  0.805\n"
          ]
        },
        {
          "output_type": "stream",
          "name": "stderr",
          "text": [
            "100%|██████████| 179/179 [00:04<00:00, 37.31it/s]\n"
          ]
        },
        {
          "output_type": "stream",
          "name": "stdout",
          "text": [
            "Epochs: 27 | Train Loss:  0.656             | Val Loss:  0.705             | Train RMSE:  0.800             | Val RMSE:  0.820\n"
          ]
        },
        {
          "output_type": "stream",
          "name": "stderr",
          "text": [
            "100%|██████████| 179/179 [00:04<00:00, 36.42it/s]\n"
          ]
        },
        {
          "output_type": "stream",
          "name": "stdout",
          "text": [
            "Epochs: 28 | Train Loss:  0.641             | Val Loss:  0.736             | Train RMSE:  0.790             | Val RMSE:  0.838\n"
          ]
        },
        {
          "output_type": "stream",
          "name": "stderr",
          "text": [
            "100%|██████████| 179/179 [00:04<00:00, 36.41it/s]\n"
          ]
        },
        {
          "output_type": "stream",
          "name": "stdout",
          "text": [
            "Epochs: 29 | Train Loss:  0.658             | Val Loss:  0.682             | Train RMSE:  0.801             | Val RMSE:  0.806\n"
          ]
        },
        {
          "output_type": "stream",
          "name": "stderr",
          "text": [
            "100%|██████████| 179/179 [00:04<00:00, 37.33it/s]\n"
          ]
        },
        {
          "output_type": "stream",
          "name": "stdout",
          "text": [
            "Epochs: 30 | Train Loss:  0.642             | Val Loss:  0.701             | Train RMSE:  0.789             | Val RMSE:  0.821\n"
          ]
        },
        {
          "output_type": "stream",
          "name": "stderr",
          "text": [
            "100%|██████████| 179/179 [00:04<00:00, 37.39it/s]\n"
          ]
        },
        {
          "output_type": "stream",
          "name": "stdout",
          "text": [
            "Epochs: 31 | Train Loss:  0.630             | Val Loss:  0.655             | Train RMSE:  0.784             | Val RMSE:  0.788\n"
          ]
        },
        {
          "output_type": "stream",
          "name": "stderr",
          "text": [
            "100%|██████████| 179/179 [00:04<00:00, 37.42it/s]\n"
          ]
        },
        {
          "output_type": "stream",
          "name": "stdout",
          "text": [
            "Epochs: 32 | Train Loss:  0.635             | Val Loss:  0.656             | Train RMSE:  0.786             | Val RMSE:  0.801\n"
          ]
        },
        {
          "output_type": "stream",
          "name": "stderr",
          "text": [
            "100%|██████████| 179/179 [00:04<00:00, 37.37it/s]\n"
          ]
        },
        {
          "output_type": "stream",
          "name": "stdout",
          "text": [
            "Epochs: 33 | Train Loss:  0.630             | Val Loss:  0.722             | Train RMSE:  0.783             | Val RMSE:  0.832\n"
          ]
        },
        {
          "output_type": "stream",
          "name": "stderr",
          "text": [
            "100%|██████████| 179/179 [00:04<00:00, 37.47it/s]\n"
          ]
        },
        {
          "output_type": "stream",
          "name": "stdout",
          "text": [
            "Epochs: 34 | Train Loss:  0.617             | Val Loss:  0.624             | Train RMSE:  0.775             | Val RMSE:  0.770\n"
          ]
        },
        {
          "output_type": "stream",
          "name": "stderr",
          "text": [
            "100%|██████████| 179/179 [00:04<00:00, 36.98it/s]\n"
          ]
        },
        {
          "output_type": "stream",
          "name": "stdout",
          "text": [
            "Epochs: 35 | Train Loss:  0.622             | Val Loss:  0.684             | Train RMSE:  0.778             | Val RMSE:  0.814\n"
          ]
        },
        {
          "output_type": "stream",
          "name": "stderr",
          "text": [
            "100%|██████████| 179/179 [00:04<00:00, 37.22it/s]\n"
          ]
        },
        {
          "output_type": "stream",
          "name": "stdout",
          "text": [
            "Epochs: 36 | Train Loss:  0.615             | Val Loss:  0.670             | Train RMSE:  0.773             | Val RMSE:  0.798\n"
          ]
        },
        {
          "output_type": "stream",
          "name": "stderr",
          "text": [
            "100%|██████████| 179/179 [00:04<00:00, 37.24it/s]\n"
          ]
        },
        {
          "output_type": "stream",
          "name": "stdout",
          "text": [
            "Epochs: 37 | Train Loss:  0.619             | Val Loss:  0.637             | Train RMSE:  0.776             | Val RMSE:  0.787\n"
          ]
        },
        {
          "output_type": "stream",
          "name": "stderr",
          "text": [
            "100%|██████████| 179/179 [00:04<00:00, 37.31it/s]\n"
          ]
        },
        {
          "output_type": "stream",
          "name": "stdout",
          "text": [
            "Epochs: 38 | Train Loss:  0.621             | Val Loss:  0.685             | Train RMSE:  0.778             | Val RMSE:  0.805\n"
          ]
        },
        {
          "output_type": "stream",
          "name": "stderr",
          "text": [
            "100%|██████████| 179/179 [00:04<00:00, 37.37it/s]\n"
          ]
        },
        {
          "output_type": "stream",
          "name": "stdout",
          "text": [
            "Epochs: 39 | Train Loss:  0.624             | Val Loss:  0.668             | Train RMSE:  0.778             | Val RMSE:  0.798\n"
          ]
        },
        {
          "output_type": "stream",
          "name": "stderr",
          "text": [
            "100%|██████████| 179/179 [00:04<00:00, 37.43it/s]\n"
          ]
        },
        {
          "output_type": "stream",
          "name": "stdout",
          "text": [
            "Epochs: 40 | Train Loss:  0.601             | Val Loss:  0.716             | Train RMSE:  0.764             | Val RMSE:  0.824\n"
          ]
        },
        {
          "output_type": "stream",
          "name": "stderr",
          "text": [
            "100%|██████████| 179/179 [00:04<00:00, 37.41it/s]\n"
          ]
        },
        {
          "output_type": "stream",
          "name": "stdout",
          "text": [
            "Epochs: 41 | Train Loss:  0.607             | Val Loss:  0.654             | Train RMSE:  0.767             | Val RMSE:  0.791\n"
          ]
        },
        {
          "output_type": "stream",
          "name": "stderr",
          "text": [
            "100%|██████████| 179/179 [00:04<00:00, 37.30it/s]\n"
          ]
        },
        {
          "output_type": "stream",
          "name": "stdout",
          "text": [
            "Epochs: 42 | Train Loss:  0.607             | Val Loss:  0.657             | Train RMSE:  0.768             | Val RMSE:  0.794\n"
          ]
        },
        {
          "output_type": "stream",
          "name": "stderr",
          "text": [
            "100%|██████████| 179/179 [00:04<00:00, 37.18it/s]\n"
          ]
        },
        {
          "output_type": "stream",
          "name": "stdout",
          "text": [
            "Epochs: 43 | Train Loss:  0.609             | Val Loss:  0.679             | Train RMSE:  0.769             | Val RMSE:  0.805\n"
          ]
        },
        {
          "output_type": "stream",
          "name": "stderr",
          "text": [
            "100%|██████████| 179/179 [00:04<00:00, 37.13it/s]\n"
          ]
        },
        {
          "output_type": "stream",
          "name": "stdout",
          "text": [
            "Epochs: 44 | Train Loss:  0.614             | Val Loss:  0.667             | Train RMSE:  0.772             | Val RMSE:  0.800\n"
          ]
        },
        {
          "output_type": "stream",
          "name": "stderr",
          "text": [
            "100%|██████████| 179/179 [00:04<00:00, 37.09it/s]\n"
          ]
        },
        {
          "output_type": "stream",
          "name": "stdout",
          "text": [
            "Epochs: 45 | Train Loss:  0.599             | Val Loss:  0.646             | Train RMSE:  0.762             | Val RMSE:  0.787\n"
          ]
        },
        {
          "output_type": "stream",
          "name": "stderr",
          "text": [
            "100%|██████████| 179/179 [00:04<00:00, 37.07it/s]\n"
          ]
        },
        {
          "output_type": "stream",
          "name": "stdout",
          "text": [
            "Epochs: 46 | Train Loss:  0.598             | Val Loss:  0.624             | Train RMSE:  0.762             | Val RMSE:  0.772\n"
          ]
        },
        {
          "output_type": "stream",
          "name": "stderr",
          "text": [
            "100%|██████████| 179/179 [00:04<00:00, 37.10it/s]\n"
          ]
        },
        {
          "output_type": "stream",
          "name": "stdout",
          "text": [
            "Epochs: 47 | Train Loss:  0.599             | Val Loss:  0.639             | Train RMSE:  0.762             | Val RMSE:  0.779\n"
          ]
        },
        {
          "output_type": "stream",
          "name": "stderr",
          "text": [
            "100%|██████████| 179/179 [00:04<00:00, 37.21it/s]\n"
          ]
        },
        {
          "output_type": "stream",
          "name": "stdout",
          "text": [
            "Epochs: 48 | Train Loss:  0.601             | Val Loss:  0.606             | Train RMSE:  0.765             | Val RMSE:  0.762\n"
          ]
        },
        {
          "output_type": "stream",
          "name": "stderr",
          "text": [
            "100%|██████████| 179/179 [00:04<00:00, 37.31it/s]\n"
          ]
        },
        {
          "output_type": "stream",
          "name": "stdout",
          "text": [
            "Epochs: 49 | Train Loss:  0.594             | Val Loss:  0.628             | Train RMSE:  0.758             | Val RMSE:  0.774\n"
          ]
        },
        {
          "output_type": "stream",
          "name": "stderr",
          "text": [
            "100%|██████████| 179/179 [00:04<00:00, 37.14it/s]\n"
          ]
        },
        {
          "output_type": "stream",
          "name": "stdout",
          "text": [
            "Epochs: 50 | Train Loss:  0.585             | Val Loss:  0.615             | Train RMSE:  0.755             | Val RMSE:  0.766\n"
          ]
        },
        {
          "output_type": "stream",
          "name": "stderr",
          "text": [
            "100%|██████████| 179/179 [00:04<00:00, 37.25it/s]\n"
          ]
        },
        {
          "output_type": "stream",
          "name": "stdout",
          "text": [
            "Epochs: 51 | Train Loss:  0.594             | Val Loss:  0.622             | Train RMSE:  0.758             | Val RMSE:  0.773\n"
          ]
        },
        {
          "output_type": "stream",
          "name": "stderr",
          "text": [
            "100%|██████████| 179/179 [00:04<00:00, 37.08it/s]\n"
          ]
        },
        {
          "output_type": "stream",
          "name": "stdout",
          "text": [
            "Epochs: 52 | Train Loss:  0.595             | Val Loss:  0.625             | Train RMSE:  0.760             | Val RMSE:  0.778\n"
          ]
        },
        {
          "output_type": "stream",
          "name": "stderr",
          "text": [
            "100%|██████████| 179/179 [00:04<00:00, 37.06it/s]\n"
          ]
        },
        {
          "output_type": "stream",
          "name": "stdout",
          "text": [
            "Epochs: 53 | Train Loss:  0.579             | Val Loss:  0.629             | Train RMSE:  0.752             | Val RMSE:  0.777\n"
          ]
        },
        {
          "output_type": "stream",
          "name": "stderr",
          "text": [
            "100%|██████████| 179/179 [00:04<00:00, 37.18it/s]\n"
          ]
        },
        {
          "output_type": "stream",
          "name": "stdout",
          "text": [
            "Epochs: 54 | Train Loss:  0.579             | Val Loss:  0.586             | Train RMSE:  0.749             | Val RMSE:  0.753\n"
          ]
        },
        {
          "output_type": "stream",
          "name": "stderr",
          "text": [
            "100%|██████████| 179/179 [00:04<00:00, 37.31it/s]\n"
          ]
        },
        {
          "output_type": "stream",
          "name": "stdout",
          "text": [
            "Epochs: 55 | Train Loss:  0.592             | Val Loss:  0.652             | Train RMSE:  0.755             | Val RMSE:  0.787\n"
          ]
        },
        {
          "output_type": "stream",
          "name": "stderr",
          "text": [
            "100%|██████████| 179/179 [00:04<00:00, 37.25it/s]\n"
          ]
        },
        {
          "output_type": "stream",
          "name": "stdout",
          "text": [
            "Epochs: 56 | Train Loss:  0.583             | Val Loss:  0.609             | Train RMSE:  0.752             | Val RMSE:  0.765\n"
          ]
        },
        {
          "output_type": "stream",
          "name": "stderr",
          "text": [
            "100%|██████████| 179/179 [00:04<00:00, 37.15it/s]\n"
          ]
        },
        {
          "output_type": "stream",
          "name": "stdout",
          "text": [
            "Epochs: 57 | Train Loss:  0.574             | Val Loss:  0.579             | Train RMSE:  0.747             | Val RMSE:  0.749\n"
          ]
        },
        {
          "output_type": "stream",
          "name": "stderr",
          "text": [
            "100%|██████████| 179/179 [00:04<00:00, 37.01it/s]\n"
          ]
        },
        {
          "output_type": "stream",
          "name": "stdout",
          "text": [
            "Epochs: 58 | Train Loss:  0.582             | Val Loss:  0.626             | Train RMSE:  0.749             | Val RMSE:  0.769\n"
          ]
        },
        {
          "output_type": "stream",
          "name": "stderr",
          "text": [
            "100%|██████████| 179/179 [00:04<00:00, 37.37it/s]\n"
          ]
        },
        {
          "output_type": "stream",
          "name": "stdout",
          "text": [
            "Epochs: 59 | Train Loss:  0.575             | Val Loss:  0.607             | Train RMSE:  0.748             | Val RMSE:  0.764\n"
          ]
        },
        {
          "output_type": "stream",
          "name": "stderr",
          "text": [
            "100%|██████████| 179/179 [00:04<00:00, 37.13it/s]\n"
          ]
        },
        {
          "output_type": "stream",
          "name": "stdout",
          "text": [
            "Epochs: 60 | Train Loss:  0.579             | Val Loss:  0.628             | Train RMSE:  0.750             | Val RMSE:  0.780\n"
          ]
        },
        {
          "output_type": "stream",
          "name": "stderr",
          "text": [
            "100%|██████████| 179/179 [00:04<00:00, 37.16it/s]\n"
          ]
        },
        {
          "output_type": "stream",
          "name": "stdout",
          "text": [
            "Epochs: 61 | Train Loss:  0.577             | Val Loss:  0.616             | Train RMSE:  0.749             | Val RMSE:  0.767\n"
          ]
        },
        {
          "output_type": "stream",
          "name": "stderr",
          "text": [
            "100%|██████████| 179/179 [00:04<00:00, 37.19it/s]\n"
          ]
        },
        {
          "output_type": "stream",
          "name": "stdout",
          "text": [
            "Epochs: 62 | Train Loss:  0.578             | Val Loss:  0.589             | Train RMSE:  0.748             | Val RMSE:  0.750\n"
          ]
        },
        {
          "output_type": "stream",
          "name": "stderr",
          "text": [
            "100%|██████████| 179/179 [00:04<00:00, 37.24it/s]\n"
          ]
        },
        {
          "output_type": "stream",
          "name": "stdout",
          "text": [
            "Epochs: 63 | Train Loss:  0.564             | Val Loss:  0.608             | Train RMSE:  0.741             | Val RMSE:  0.763\n"
          ]
        },
        {
          "output_type": "stream",
          "name": "stderr",
          "text": [
            "100%|██████████| 179/179 [00:04<00:00, 37.36it/s]\n"
          ]
        },
        {
          "output_type": "stream",
          "name": "stdout",
          "text": [
            "Epochs: 64 | Train Loss:  0.572             | Val Loss:  0.609             | Train RMSE:  0.747             | Val RMSE:  0.766\n"
          ]
        },
        {
          "output_type": "stream",
          "name": "stderr",
          "text": [
            "100%|██████████| 179/179 [00:04<00:00, 37.40it/s]\n"
          ]
        },
        {
          "output_type": "stream",
          "name": "stdout",
          "text": [
            "Epochs: 65 | Train Loss:  0.570             | Val Loss:  0.584             | Train RMSE:  0.745             | Val RMSE:  0.747\n"
          ]
        },
        {
          "output_type": "stream",
          "name": "stderr",
          "text": [
            "100%|██████████| 179/179 [00:04<00:00, 37.28it/s]\n"
          ]
        },
        {
          "output_type": "stream",
          "name": "stdout",
          "text": [
            "Epochs: 66 | Train Loss:  0.568             | Val Loss:  0.578             | Train RMSE:  0.742             | Val RMSE:  0.743\n"
          ]
        },
        {
          "output_type": "stream",
          "name": "stderr",
          "text": [
            "100%|██████████| 179/179 [00:04<00:00, 37.27it/s]\n"
          ]
        },
        {
          "output_type": "stream",
          "name": "stdout",
          "text": [
            "Epochs: 67 | Train Loss:  0.566             | Val Loss:  0.609             | Train RMSE:  0.742             | Val RMSE:  0.762\n"
          ]
        },
        {
          "output_type": "stream",
          "name": "stderr",
          "text": [
            "100%|██████████| 179/179 [00:04<00:00, 37.23it/s]\n"
          ]
        },
        {
          "output_type": "stream",
          "name": "stdout",
          "text": [
            "Epochs: 68 | Train Loss:  0.569             | Val Loss:  0.616             | Train RMSE:  0.745             | Val RMSE:  0.761\n"
          ]
        },
        {
          "output_type": "stream",
          "name": "stderr",
          "text": [
            "100%|██████████| 179/179 [00:04<00:00, 37.18it/s]\n"
          ]
        },
        {
          "output_type": "stream",
          "name": "stdout",
          "text": [
            "Epochs: 69 | Train Loss:  0.551             | Val Loss:  0.614             | Train RMSE:  0.732             | Val RMSE:  0.769\n"
          ]
        },
        {
          "output_type": "stream",
          "name": "stderr",
          "text": [
            "100%|██████████| 179/179 [00:04<00:00, 37.09it/s]\n"
          ]
        },
        {
          "output_type": "stream",
          "name": "stdout",
          "text": [
            "Epochs: 70 | Train Loss:  0.578             | Val Loss:  0.595             | Train RMSE:  0.751             | Val RMSE:  0.751\n"
          ]
        },
        {
          "output_type": "stream",
          "name": "stderr",
          "text": [
            "100%|██████████| 179/179 [00:04<00:00, 36.40it/s]\n"
          ]
        },
        {
          "output_type": "stream",
          "name": "stdout",
          "text": [
            "Epochs: 71 | Train Loss:  0.568             | Val Loss:  0.601             | Train RMSE:  0.742             | Val RMSE:  0.757\n"
          ]
        },
        {
          "output_type": "stream",
          "name": "stderr",
          "text": [
            "100%|██████████| 179/179 [00:04<00:00, 37.04it/s]\n"
          ]
        },
        {
          "output_type": "stream",
          "name": "stdout",
          "text": [
            "Epochs: 72 | Train Loss:  0.552             | Val Loss:  0.586             | Train RMSE:  0.732             | Val RMSE:  0.750\n"
          ]
        },
        {
          "output_type": "stream",
          "name": "stderr",
          "text": [
            "100%|██████████| 179/179 [00:04<00:00, 37.26it/s]\n"
          ]
        },
        {
          "output_type": "stream",
          "name": "stdout",
          "text": [
            "Epochs: 73 | Train Loss:  0.557             | Val Loss:  0.578             | Train RMSE:  0.734             | Val RMSE:  0.744\n"
          ]
        },
        {
          "output_type": "stream",
          "name": "stderr",
          "text": [
            "100%|██████████| 179/179 [00:04<00:00, 37.21it/s]\n"
          ]
        },
        {
          "output_type": "stream",
          "name": "stdout",
          "text": [
            "Epochs: 74 | Train Loss:  0.567             | Val Loss:  0.589             | Train RMSE:  0.741             | Val RMSE:  0.754\n"
          ]
        },
        {
          "output_type": "stream",
          "name": "stderr",
          "text": [
            "100%|██████████| 179/179 [00:04<00:00, 37.12it/s]\n"
          ]
        },
        {
          "output_type": "stream",
          "name": "stdout",
          "text": [
            "Epochs: 75 | Train Loss:  0.563             | Val Loss:  0.595             | Train RMSE:  0.738             | Val RMSE:  0.758\n"
          ]
        },
        {
          "output_type": "stream",
          "name": "stderr",
          "text": [
            "100%|██████████| 179/179 [00:04<00:00, 37.09it/s]\n"
          ]
        },
        {
          "output_type": "stream",
          "name": "stdout",
          "text": [
            "Epochs: 76 | Train Loss:  0.559             | Val Loss:  0.589             | Train RMSE:  0.735             | Val RMSE:  0.749\n"
          ]
        },
        {
          "output_type": "stream",
          "name": "stderr",
          "text": [
            "100%|██████████| 179/179 [00:04<00:00, 37.22it/s]\n"
          ]
        },
        {
          "output_type": "stream",
          "name": "stdout",
          "text": [
            "Epochs: 77 | Train Loss:  0.546             | Val Loss:  0.614             | Train RMSE:  0.729             | Val RMSE:  0.759\n"
          ]
        },
        {
          "output_type": "stream",
          "name": "stderr",
          "text": [
            "100%|██████████| 179/179 [00:04<00:00, 37.24it/s]\n"
          ]
        },
        {
          "output_type": "stream",
          "name": "stdout",
          "text": [
            "Epochs: 78 | Train Loss:  0.553             | Val Loss:  0.579             | Train RMSE:  0.732             | Val RMSE:  0.739\n"
          ]
        },
        {
          "output_type": "stream",
          "name": "stderr",
          "text": [
            "100%|██████████| 179/179 [00:04<00:00, 37.18it/s]\n"
          ]
        },
        {
          "output_type": "stream",
          "name": "stdout",
          "text": [
            "Epochs: 79 | Train Loss:  0.553             | Val Loss:  0.551             | Train RMSE:  0.732             | Val RMSE:  0.724\n"
          ]
        },
        {
          "output_type": "stream",
          "name": "stderr",
          "text": [
            "100%|██████████| 179/179 [00:04<00:00, 37.15it/s]\n"
          ]
        },
        {
          "output_type": "stream",
          "name": "stdout",
          "text": [
            "Epochs: 80 | Train Loss:  0.554             | Val Loss:  0.606             | Train RMSE:  0.733             | Val RMSE:  0.762\n"
          ]
        },
        {
          "output_type": "stream",
          "name": "stderr",
          "text": [
            "100%|██████████| 179/179 [00:04<00:00, 37.23it/s]\n"
          ]
        },
        {
          "output_type": "stream",
          "name": "stdout",
          "text": [
            "Epochs: 81 | Train Loss:  0.557             | Val Loss:  0.585             | Train RMSE:  0.735             | Val RMSE:  0.755\n"
          ]
        },
        {
          "output_type": "stream",
          "name": "stderr",
          "text": [
            "100%|██████████| 179/179 [00:04<00:00, 37.18it/s]\n"
          ]
        },
        {
          "output_type": "stream",
          "name": "stdout",
          "text": [
            "Epochs: 82 | Train Loss:  0.552             | Val Loss:  0.539             | Train RMSE:  0.732             | Val RMSE:  0.720\n"
          ]
        },
        {
          "output_type": "stream",
          "name": "stderr",
          "text": [
            "100%|██████████| 179/179 [00:04<00:00, 37.23it/s]\n"
          ]
        },
        {
          "output_type": "stream",
          "name": "stdout",
          "text": [
            "Epochs: 83 | Train Loss:  0.552             | Val Loss:  0.570             | Train RMSE:  0.732             | Val RMSE:  0.738\n"
          ]
        },
        {
          "output_type": "stream",
          "name": "stderr",
          "text": [
            "100%|██████████| 179/179 [00:04<00:00, 37.32it/s]\n"
          ]
        },
        {
          "output_type": "stream",
          "name": "stdout",
          "text": [
            "Epochs: 84 | Train Loss:  0.556             | Val Loss:  0.601             | Train RMSE:  0.732             | Val RMSE:  0.759\n"
          ]
        },
        {
          "output_type": "stream",
          "name": "stderr",
          "text": [
            "100%|██████████| 179/179 [00:04<00:00, 37.20it/s]\n"
          ]
        },
        {
          "output_type": "stream",
          "name": "stdout",
          "text": [
            "Epochs: 85 | Train Loss:  0.550             | Val Loss:  0.576             | Train RMSE:  0.730             | Val RMSE:  0.746\n"
          ]
        },
        {
          "output_type": "stream",
          "name": "stderr",
          "text": [
            "100%|██████████| 179/179 [00:04<00:00, 36.98it/s]\n"
          ]
        },
        {
          "output_type": "stream",
          "name": "stdout",
          "text": [
            "Epochs: 86 | Train Loss:  0.552             | Val Loss:  0.559             | Train RMSE:  0.733             | Val RMSE:  0.729\n"
          ]
        },
        {
          "output_type": "stream",
          "name": "stderr",
          "text": [
            "100%|██████████| 179/179 [00:04<00:00, 37.05it/s]\n"
          ]
        },
        {
          "output_type": "stream",
          "name": "stdout",
          "text": [
            "Epochs: 87 | Train Loss:  0.541             | Val Loss:  0.643             | Train RMSE:  0.726             | Val RMSE:  0.783\n"
          ]
        },
        {
          "output_type": "stream",
          "name": "stderr",
          "text": [
            "100%|██████████| 179/179 [00:04<00:00, 37.21it/s]\n"
          ]
        },
        {
          "output_type": "stream",
          "name": "stdout",
          "text": [
            "Epochs: 88 | Train Loss:  0.547             | Val Loss:  0.585             | Train RMSE:  0.726             | Val RMSE:  0.753\n"
          ]
        },
        {
          "output_type": "stream",
          "name": "stderr",
          "text": [
            "100%|██████████| 179/179 [00:04<00:00, 37.18it/s]\n"
          ]
        },
        {
          "output_type": "stream",
          "name": "stdout",
          "text": [
            "Epochs: 89 | Train Loss:  0.537             | Val Loss:  0.546             | Train RMSE:  0.722             | Val RMSE:  0.722\n"
          ]
        },
        {
          "output_type": "stream",
          "name": "stderr",
          "text": [
            "100%|██████████| 179/179 [00:04<00:00, 36.50it/s]\n"
          ]
        },
        {
          "output_type": "stream",
          "name": "stdout",
          "text": [
            "Epochs: 90 | Train Loss:  0.546             | Val Loss:  0.562             | Train RMSE:  0.728             | Val RMSE:  0.737\n"
          ]
        },
        {
          "output_type": "stream",
          "name": "stderr",
          "text": [
            "100%|██████████| 179/179 [00:04<00:00, 36.55it/s]\n"
          ]
        },
        {
          "output_type": "stream",
          "name": "stdout",
          "text": [
            "Epochs: 91 | Train Loss:  0.542             | Val Loss:  0.563             | Train RMSE:  0.724             | Val RMSE:  0.732\n"
          ]
        },
        {
          "output_type": "stream",
          "name": "stderr",
          "text": [
            "100%|██████████| 179/179 [00:04<00:00, 36.81it/s]\n"
          ]
        },
        {
          "output_type": "stream",
          "name": "stdout",
          "text": [
            "Epochs: 92 | Train Loss:  0.534             | Val Loss:  0.559             | Train RMSE:  0.720             | Val RMSE:  0.727\n"
          ]
        },
        {
          "output_type": "stream",
          "name": "stderr",
          "text": [
            "100%|██████████| 179/179 [00:04<00:00, 37.24it/s]\n"
          ]
        },
        {
          "output_type": "stream",
          "name": "stdout",
          "text": [
            "Epochs: 93 | Train Loss:  0.538             | Val Loss:  0.580             | Train RMSE:  0.721             | Val RMSE:  0.745\n"
          ]
        },
        {
          "output_type": "stream",
          "name": "stderr",
          "text": [
            "100%|██████████| 179/179 [00:04<00:00, 37.06it/s]\n"
          ]
        },
        {
          "output_type": "stream",
          "name": "stdout",
          "text": [
            "Epochs: 94 | Train Loss:  0.543             | Val Loss:  0.569             | Train RMSE:  0.726             | Val RMSE:  0.732\n"
          ]
        },
        {
          "output_type": "stream",
          "name": "stderr",
          "text": [
            "100%|██████████| 179/179 [00:04<00:00, 37.11it/s]\n"
          ]
        },
        {
          "output_type": "stream",
          "name": "stdout",
          "text": [
            "Epochs: 95 | Train Loss:  0.541             | Val Loss:  0.573             | Train RMSE:  0.723             | Val RMSE:  0.738\n"
          ]
        },
        {
          "output_type": "stream",
          "name": "stderr",
          "text": [
            "100%|██████████| 179/179 [00:04<00:00, 37.22it/s]\n"
          ]
        },
        {
          "output_type": "stream",
          "name": "stdout",
          "text": [
            "Epochs: 96 | Train Loss:  0.526             | Val Loss:  0.576             | Train RMSE:  0.714             | Val RMSE:  0.747\n"
          ]
        },
        {
          "output_type": "stream",
          "name": "stderr",
          "text": [
            "100%|██████████| 179/179 [00:04<00:00, 37.06it/s]\n"
          ]
        },
        {
          "output_type": "stream",
          "name": "stdout",
          "text": [
            "Epochs: 97 | Train Loss:  0.533             | Val Loss:  0.576             | Train RMSE:  0.717             | Val RMSE:  0.740\n"
          ]
        },
        {
          "output_type": "stream",
          "name": "stderr",
          "text": [
            "100%|██████████| 179/179 [00:04<00:00, 37.35it/s]\n"
          ]
        },
        {
          "output_type": "stream",
          "name": "stdout",
          "text": [
            "Epochs: 98 | Train Loss:  0.529             | Val Loss:  0.532             | Train RMSE:  0.715             | Val RMSE:  0.713\n"
          ]
        },
        {
          "output_type": "stream",
          "name": "stderr",
          "text": [
            "100%|██████████| 179/179 [00:04<00:00, 37.15it/s]\n"
          ]
        },
        {
          "output_type": "stream",
          "name": "stdout",
          "text": [
            "Epochs: 99 | Train Loss:  0.530             | Val Loss:  0.581             | Train RMSE:  0.718             | Val RMSE:  0.744\n"
          ]
        },
        {
          "output_type": "stream",
          "name": "stderr",
          "text": [
            "100%|██████████| 179/179 [00:04<00:00, 36.95it/s]\n"
          ]
        },
        {
          "output_type": "stream",
          "name": "stdout",
          "text": [
            "Epochs: 100 | Train Loss:  0.536             | Val Loss:  0.552             | Train RMSE:  0.720             | Val RMSE:  0.727\n"
          ]
        },
        {
          "output_type": "stream",
          "name": "stderr",
          "text": [
            "100%|██████████| 179/179 [00:04<00:00, 37.24it/s]\n"
          ]
        },
        {
          "output_type": "stream",
          "name": "stdout",
          "text": [
            "Epochs: 101 | Train Loss:  0.531             | Val Loss:  0.632             | Train RMSE:  0.718             | Val RMSE:  0.772\n"
          ]
        },
        {
          "output_type": "stream",
          "name": "stderr",
          "text": [
            "100%|██████████| 179/179 [00:04<00:00, 36.79it/s]\n"
          ]
        },
        {
          "output_type": "stream",
          "name": "stdout",
          "text": [
            "Epochs: 102 | Train Loss:  0.519             | Val Loss:  0.578             | Train RMSE:  0.709             | Val RMSE:  0.741\n"
          ]
        },
        {
          "output_type": "stream",
          "name": "stderr",
          "text": [
            "100%|██████████| 179/179 [00:04<00:00, 37.20it/s]\n"
          ]
        },
        {
          "output_type": "stream",
          "name": "stdout",
          "text": [
            "Epochs: 103 | Train Loss:  0.532             | Val Loss:  0.590             | Train RMSE:  0.719             | Val RMSE:  0.749\n"
          ]
        },
        {
          "output_type": "stream",
          "name": "stderr",
          "text": [
            "100%|██████████| 179/179 [00:04<00:00, 36.97it/s]\n"
          ]
        },
        {
          "output_type": "stream",
          "name": "stdout",
          "text": [
            "Epochs: 104 | Train Loss:  0.520             | Val Loss:  0.540             | Train RMSE:  0.712             | Val RMSE:  0.719\n"
          ]
        },
        {
          "output_type": "stream",
          "name": "stderr",
          "text": [
            "100%|██████████| 179/179 [00:04<00:00, 36.40it/s]\n"
          ]
        },
        {
          "output_type": "stream",
          "name": "stdout",
          "text": [
            "Epochs: 105 | Train Loss:  0.526             | Val Loss:  0.523             | Train RMSE:  0.715             | Val RMSE:  0.709\n"
          ]
        },
        {
          "output_type": "stream",
          "name": "stderr",
          "text": [
            "100%|██████████| 179/179 [00:04<00:00, 36.89it/s]\n"
          ]
        },
        {
          "output_type": "stream",
          "name": "stdout",
          "text": [
            "Epochs: 106 | Train Loss:  0.530             | Val Loss:  0.558             | Train RMSE:  0.719             | Val RMSE:  0.728\n"
          ]
        },
        {
          "output_type": "stream",
          "name": "stderr",
          "text": [
            "100%|██████████| 179/179 [00:04<00:00, 37.31it/s]\n"
          ]
        },
        {
          "output_type": "stream",
          "name": "stdout",
          "text": [
            "Epochs: 107 | Train Loss:  0.524             | Val Loss:  0.588             | Train RMSE:  0.713             | Val RMSE:  0.755\n"
          ]
        },
        {
          "output_type": "stream",
          "name": "stderr",
          "text": [
            "100%|██████████| 179/179 [00:04<00:00, 36.51it/s]\n"
          ]
        },
        {
          "output_type": "stream",
          "name": "stdout",
          "text": [
            "Epochs: 108 | Train Loss:  0.530             | Val Loss:  0.583             | Train RMSE:  0.718             | Val RMSE:  0.746\n"
          ]
        },
        {
          "output_type": "stream",
          "name": "stderr",
          "text": [
            "100%|██████████| 179/179 [00:04<00:00, 36.89it/s]\n"
          ]
        },
        {
          "output_type": "stream",
          "name": "stdout",
          "text": [
            "Epochs: 109 | Train Loss:  0.513             | Val Loss:  0.530             | Train RMSE:  0.706             | Val RMSE:  0.712\n"
          ]
        },
        {
          "output_type": "stream",
          "name": "stderr",
          "text": [
            "100%|██████████| 179/179 [00:04<00:00, 37.32it/s]\n"
          ]
        },
        {
          "output_type": "stream",
          "name": "stdout",
          "text": [
            "Epochs: 110 | Train Loss:  0.525             | Val Loss:  0.558             | Train RMSE:  0.713             | Val RMSE:  0.729\n"
          ]
        },
        {
          "output_type": "stream",
          "name": "stderr",
          "text": [
            "100%|██████████| 179/179 [00:04<00:00, 37.22it/s]\n"
          ]
        },
        {
          "output_type": "stream",
          "name": "stdout",
          "text": [
            "Epochs: 111 | Train Loss:  0.520             | Val Loss:  0.541             | Train RMSE:  0.709             | Val RMSE:  0.720\n"
          ]
        },
        {
          "output_type": "stream",
          "name": "stderr",
          "text": [
            "100%|██████████| 179/179 [00:04<00:00, 37.27it/s]\n"
          ]
        },
        {
          "output_type": "stream",
          "name": "stdout",
          "text": [
            "Epochs: 112 | Train Loss:  0.524             | Val Loss:  0.549             | Train RMSE:  0.712             | Val RMSE:  0.722\n"
          ]
        },
        {
          "output_type": "stream",
          "name": "stderr",
          "text": [
            "100%|██████████| 179/179 [00:04<00:00, 37.33it/s]\n"
          ]
        },
        {
          "output_type": "stream",
          "name": "stdout",
          "text": [
            "Epochs: 113 | Train Loss:  0.515             | Val Loss:  0.558             | Train RMSE:  0.708             | Val RMSE:  0.733\n"
          ]
        },
        {
          "output_type": "stream",
          "name": "stderr",
          "text": [
            "100%|██████████| 179/179 [00:04<00:00, 37.33it/s]\n"
          ]
        },
        {
          "output_type": "stream",
          "name": "stdout",
          "text": [
            "Epochs: 114 | Train Loss:  0.518             | Val Loss:  0.581             | Train RMSE:  0.710             | Val RMSE:  0.753\n"
          ]
        },
        {
          "output_type": "stream",
          "name": "stderr",
          "text": [
            "100%|██████████| 179/179 [00:04<00:00, 37.24it/s]\n"
          ]
        },
        {
          "output_type": "stream",
          "name": "stdout",
          "text": [
            "Epochs: 115 | Train Loss:  0.515             | Val Loss:  0.528             | Train RMSE:  0.706             | Val RMSE:  0.709\n"
          ]
        },
        {
          "output_type": "stream",
          "name": "stderr",
          "text": [
            "100%|██████████| 179/179 [00:04<00:00, 37.25it/s]\n"
          ]
        },
        {
          "output_type": "stream",
          "name": "stdout",
          "text": [
            "Epochs: 116 | Train Loss:  0.514             | Val Loss:  0.575             | Train RMSE:  0.704             | Val RMSE:  0.734\n"
          ]
        },
        {
          "output_type": "stream",
          "name": "stderr",
          "text": [
            "100%|██████████| 179/179 [00:04<00:00, 37.20it/s]\n"
          ]
        },
        {
          "output_type": "stream",
          "name": "stdout",
          "text": [
            "Epochs: 117 | Train Loss:  0.521             | Val Loss:  0.563             | Train RMSE:  0.711             | Val RMSE:  0.732\n"
          ]
        },
        {
          "output_type": "stream",
          "name": "stderr",
          "text": [
            "100%|██████████| 179/179 [00:04<00:00, 36.98it/s]\n"
          ]
        },
        {
          "output_type": "stream",
          "name": "stdout",
          "text": [
            "Epochs: 118 | Train Loss:  0.534             | Val Loss:  0.594             | Train RMSE:  0.719             | Val RMSE:  0.750\n"
          ]
        },
        {
          "output_type": "stream",
          "name": "stderr",
          "text": [
            "100%|██████████| 179/179 [00:04<00:00, 36.99it/s]\n"
          ]
        },
        {
          "output_type": "stream",
          "name": "stdout",
          "text": [
            "Epochs: 119 | Train Loss:  0.519             | Val Loss:  0.535             | Train RMSE:  0.710             | Val RMSE:  0.718\n"
          ]
        },
        {
          "output_type": "stream",
          "name": "stderr",
          "text": [
            "100%|██████████| 179/179 [00:04<00:00, 37.16it/s]\n"
          ]
        },
        {
          "output_type": "stream",
          "name": "stdout",
          "text": [
            "Epochs: 120 | Train Loss:  0.506             | Val Loss:  0.575             | Train RMSE:  0.699             | Val RMSE:  0.740\n"
          ]
        },
        {
          "output_type": "stream",
          "name": "stderr",
          "text": [
            "100%|██████████| 179/179 [00:04<00:00, 37.16it/s]\n"
          ]
        },
        {
          "output_type": "stream",
          "name": "stdout",
          "text": [
            "Epochs: 121 | Train Loss:  0.515             | Val Loss:  0.553             | Train RMSE:  0.707             | Val RMSE:  0.734\n"
          ]
        },
        {
          "output_type": "stream",
          "name": "stderr",
          "text": [
            "100%|██████████| 179/179 [00:04<00:00, 37.22it/s]\n"
          ]
        },
        {
          "output_type": "stream",
          "name": "stdout",
          "text": [
            "Epochs: 122 | Train Loss:  0.511             | Val Loss:  0.520             | Train RMSE:  0.704             | Val RMSE:  0.703\n"
          ]
        },
        {
          "output_type": "stream",
          "name": "stderr",
          "text": [
            "100%|██████████| 179/179 [00:04<00:00, 37.05it/s]\n"
          ]
        },
        {
          "output_type": "stream",
          "name": "stdout",
          "text": [
            "Epochs: 123 | Train Loss:  0.515             | Val Loss:  0.526             | Train RMSE:  0.706             | Val RMSE:  0.711\n"
          ]
        },
        {
          "output_type": "stream",
          "name": "stderr",
          "text": [
            "100%|██████████| 179/179 [00:04<00:00, 36.99it/s]\n"
          ]
        },
        {
          "output_type": "stream",
          "name": "stdout",
          "text": [
            "Epochs: 124 | Train Loss:  0.508             | Val Loss:  0.590             | Train RMSE:  0.702             | Val RMSE:  0.750\n"
          ]
        },
        {
          "output_type": "stream",
          "name": "stderr",
          "text": [
            "100%|██████████| 179/179 [00:04<00:00, 37.04it/s]\n"
          ]
        },
        {
          "output_type": "stream",
          "name": "stdout",
          "text": [
            "Epochs: 125 | Train Loss:  0.518             | Val Loss:  0.586             | Train RMSE:  0.708             | Val RMSE:  0.742\n"
          ]
        },
        {
          "output_type": "stream",
          "name": "stderr",
          "text": [
            "100%|██████████| 179/179 [00:04<00:00, 37.04it/s]\n"
          ]
        },
        {
          "output_type": "stream",
          "name": "stdout",
          "text": [
            "Epochs: 126 | Train Loss:  0.513             | Val Loss:  0.496             | Train RMSE:  0.705             | Val RMSE:  0.689\n"
          ]
        },
        {
          "output_type": "stream",
          "name": "stderr",
          "text": [
            "100%|██████████| 179/179 [00:04<00:00, 36.90it/s]\n"
          ]
        },
        {
          "output_type": "stream",
          "name": "stdout",
          "text": [
            "Epochs: 127 | Train Loss:  0.513             | Val Loss:  0.538             | Train RMSE:  0.705             | Val RMSE:  0.720\n"
          ]
        },
        {
          "output_type": "stream",
          "name": "stderr",
          "text": [
            "100%|██████████| 179/179 [00:04<00:00, 36.89it/s]\n"
          ]
        },
        {
          "output_type": "stream",
          "name": "stdout",
          "text": [
            "Epochs: 128 | Train Loss:  0.511             | Val Loss:  0.519             | Train RMSE:  0.705             | Val RMSE:  0.707\n"
          ]
        },
        {
          "output_type": "stream",
          "name": "stderr",
          "text": [
            "100%|██████████| 179/179 [00:04<00:00, 36.93it/s]\n"
          ]
        },
        {
          "output_type": "stream",
          "name": "stdout",
          "text": [
            "Epochs: 129 | Train Loss:  0.510             | Val Loss:  0.578             | Train RMSE:  0.703             | Val RMSE:  0.738\n"
          ]
        },
        {
          "output_type": "stream",
          "name": "stderr",
          "text": [
            "100%|██████████| 179/179 [00:04<00:00, 36.97it/s]\n"
          ]
        },
        {
          "output_type": "stream",
          "name": "stdout",
          "text": [
            "Epochs: 130 | Train Loss:  0.510             | Val Loss:  0.498             | Train RMSE:  0.702             | Val RMSE:  0.695\n"
          ]
        },
        {
          "output_type": "stream",
          "name": "stderr",
          "text": [
            "100%|██████████| 179/179 [00:04<00:00, 37.05it/s]\n"
          ]
        },
        {
          "output_type": "stream",
          "name": "stdout",
          "text": [
            "Epochs: 131 | Train Loss:  0.504             | Val Loss:  0.546             | Train RMSE:  0.698             | Val RMSE:  0.721\n"
          ]
        },
        {
          "output_type": "stream",
          "name": "stderr",
          "text": [
            "100%|██████████| 179/179 [00:04<00:00, 37.04it/s]\n"
          ]
        },
        {
          "output_type": "stream",
          "name": "stdout",
          "text": [
            "Epochs: 132 | Train Loss:  0.501             | Val Loss:  0.514             | Train RMSE:  0.699             | Val RMSE:  0.698\n"
          ]
        },
        {
          "output_type": "stream",
          "name": "stderr",
          "text": [
            "100%|██████████| 179/179 [00:04<00:00, 37.17it/s]\n"
          ]
        },
        {
          "output_type": "stream",
          "name": "stdout",
          "text": [
            "Epochs: 133 | Train Loss:  0.516             | Val Loss:  0.560             | Train RMSE:  0.706             | Val RMSE:  0.727\n"
          ]
        },
        {
          "output_type": "stream",
          "name": "stderr",
          "text": [
            "100%|██████████| 179/179 [00:04<00:00, 37.14it/s]\n"
          ]
        },
        {
          "output_type": "stream",
          "name": "stdout",
          "text": [
            "Epochs: 134 | Train Loss:  0.510             | Val Loss:  0.584             | Train RMSE:  0.703             | Val RMSE:  0.748\n"
          ]
        },
        {
          "output_type": "stream",
          "name": "stderr",
          "text": [
            "100%|██████████| 179/179 [00:04<00:00, 37.09it/s]\n"
          ]
        },
        {
          "output_type": "stream",
          "name": "stdout",
          "text": [
            "Epochs: 135 | Train Loss:  0.500             | Val Loss:  0.563             | Train RMSE:  0.694             | Val RMSE:  0.728\n"
          ]
        },
        {
          "output_type": "stream",
          "name": "stderr",
          "text": [
            "100%|██████████| 179/179 [00:04<00:00, 37.12it/s]\n"
          ]
        },
        {
          "output_type": "stream",
          "name": "stdout",
          "text": [
            "Epochs: 136 | Train Loss:  0.506             | Val Loss:  0.572             | Train RMSE:  0.699             | Val RMSE:  0.743\n"
          ]
        },
        {
          "output_type": "stream",
          "name": "stderr",
          "text": [
            "100%|██████████| 179/179 [00:04<00:00, 37.14it/s]\n"
          ]
        },
        {
          "output_type": "stream",
          "name": "stdout",
          "text": [
            "Epochs: 137 | Train Loss:  0.513             | Val Loss:  0.552             | Train RMSE:  0.706             | Val RMSE:  0.727\n"
          ]
        },
        {
          "output_type": "stream",
          "name": "stderr",
          "text": [
            "100%|██████████| 179/179 [00:04<00:00, 37.09it/s]\n"
          ]
        },
        {
          "output_type": "stream",
          "name": "stdout",
          "text": [
            "Epochs: 138 | Train Loss:  0.514             | Val Loss:  0.514             | Train RMSE:  0.706             | Val RMSE:  0.701\n"
          ]
        },
        {
          "output_type": "stream",
          "name": "stderr",
          "text": [
            "100%|██████████| 179/179 [00:04<00:00, 37.03it/s]\n"
          ]
        },
        {
          "output_type": "stream",
          "name": "stdout",
          "text": [
            "Epochs: 139 | Train Loss:  0.494             | Val Loss:  0.527             | Train RMSE:  0.694             | Val RMSE:  0.715\n"
          ]
        },
        {
          "output_type": "stream",
          "name": "stderr",
          "text": [
            "100%|██████████| 179/179 [00:04<00:00, 37.08it/s]\n"
          ]
        },
        {
          "output_type": "stream",
          "name": "stdout",
          "text": [
            "Epochs: 140 | Train Loss:  0.499             | Val Loss:  0.523             | Train RMSE:  0.695             | Val RMSE:  0.702\n"
          ]
        },
        {
          "output_type": "stream",
          "name": "stderr",
          "text": [
            "100%|██████████| 179/179 [00:04<00:00, 36.57it/s]\n"
          ]
        },
        {
          "output_type": "stream",
          "name": "stdout",
          "text": [
            "Epochs: 141 | Train Loss:  0.503             | Val Loss:  0.513             | Train RMSE:  0.697             | Val RMSE:  0.695\n"
          ]
        },
        {
          "output_type": "stream",
          "name": "stderr",
          "text": [
            "100%|██████████| 179/179 [00:04<00:00, 37.16it/s]\n"
          ]
        },
        {
          "output_type": "stream",
          "name": "stdout",
          "text": [
            "Epochs: 142 | Train Loss:  0.496             | Val Loss:  0.552             | Train RMSE:  0.692             | Val RMSE:  0.728\n"
          ]
        },
        {
          "output_type": "stream",
          "name": "stderr",
          "text": [
            "100%|██████████| 179/179 [00:04<00:00, 37.16it/s]\n"
          ]
        },
        {
          "output_type": "stream",
          "name": "stdout",
          "text": [
            "Epochs: 143 | Train Loss:  0.515             | Val Loss:  0.582             | Train RMSE:  0.705             | Val RMSE:  0.741\n"
          ]
        },
        {
          "output_type": "stream",
          "name": "stderr",
          "text": [
            "100%|██████████| 179/179 [00:04<00:00, 37.08it/s]\n"
          ]
        },
        {
          "output_type": "stream",
          "name": "stdout",
          "text": [
            "Epochs: 144 | Train Loss:  0.500             | Val Loss:  0.537             | Train RMSE:  0.696             | Val RMSE:  0.714\n"
          ]
        },
        {
          "output_type": "stream",
          "name": "stderr",
          "text": [
            "100%|██████████| 179/179 [00:04<00:00, 36.86it/s]\n"
          ]
        },
        {
          "output_type": "stream",
          "name": "stdout",
          "text": [
            "Epochs: 145 | Train Loss:  0.497             | Val Loss:  0.516             | Train RMSE:  0.693             | Val RMSE:  0.702\n"
          ]
        },
        {
          "output_type": "stream",
          "name": "stderr",
          "text": [
            "100%|██████████| 179/179 [00:04<00:00, 37.22it/s]\n"
          ]
        },
        {
          "output_type": "stream",
          "name": "stdout",
          "text": [
            "Epochs: 146 | Train Loss:  0.501             | Val Loss:  0.518             | Train RMSE:  0.697             | Val RMSE:  0.704\n"
          ]
        },
        {
          "output_type": "stream",
          "name": "stderr",
          "text": [
            "100%|██████████| 179/179 [00:04<00:00, 37.23it/s]\n"
          ]
        },
        {
          "output_type": "stream",
          "name": "stdout",
          "text": [
            "Epochs: 147 | Train Loss:  0.514             | Val Loss:  0.540             | Train RMSE:  0.703             | Val RMSE:  0.710\n"
          ]
        },
        {
          "output_type": "stream",
          "name": "stderr",
          "text": [
            "100%|██████████| 179/179 [00:04<00:00, 37.19it/s]\n"
          ]
        },
        {
          "output_type": "stream",
          "name": "stdout",
          "text": [
            "Epochs: 148 | Train Loss:  0.499             | Val Loss:  0.537             | Train RMSE:  0.695             | Val RMSE:  0.711\n"
          ]
        },
        {
          "output_type": "stream",
          "name": "stderr",
          "text": [
            "100%|██████████| 179/179 [00:04<00:00, 37.22it/s]\n"
          ]
        },
        {
          "output_type": "stream",
          "name": "stdout",
          "text": [
            "Epochs: 149 | Train Loss:  0.490             | Val Loss:  0.527             | Train RMSE:  0.690             | Val RMSE:  0.709\n"
          ]
        },
        {
          "output_type": "stream",
          "name": "stderr",
          "text": [
            "100%|██████████| 179/179 [00:04<00:00, 36.42it/s]\n"
          ]
        },
        {
          "output_type": "stream",
          "name": "stdout",
          "text": [
            "Epochs: 150 | Train Loss:  0.496             | Val Loss:  0.535             | Train RMSE:  0.693             | Val RMSE:  0.711\n"
          ]
        },
        {
          "output_type": "stream",
          "name": "stderr",
          "text": [
            "100%|██████████| 179/179 [00:04<00:00, 37.38it/s]\n"
          ]
        },
        {
          "output_type": "stream",
          "name": "stdout",
          "text": [
            "Epochs: 151 | Train Loss:  0.499             | Val Loss:  0.538             | Train RMSE:  0.696             | Val RMSE:  0.716\n"
          ]
        },
        {
          "output_type": "stream",
          "name": "stderr",
          "text": [
            "100%|██████████| 179/179 [00:04<00:00, 37.29it/s]\n"
          ]
        },
        {
          "output_type": "stream",
          "name": "stdout",
          "text": [
            "Epochs: 152 | Train Loss:  0.496             | Val Loss:  0.523             | Train RMSE:  0.693             | Val RMSE:  0.706\n"
          ]
        },
        {
          "output_type": "stream",
          "name": "stderr",
          "text": [
            "100%|██████████| 179/179 [00:04<00:00, 36.89it/s]\n"
          ]
        },
        {
          "output_type": "stream",
          "name": "stdout",
          "text": [
            "Epochs: 153 | Train Loss:  0.493             | Val Loss:  0.600             | Train RMSE:  0.691             | Val RMSE:  0.758\n"
          ]
        },
        {
          "output_type": "stream",
          "name": "stderr",
          "text": [
            "100%|██████████| 179/179 [00:04<00:00, 37.36it/s]\n"
          ]
        },
        {
          "output_type": "stream",
          "name": "stdout",
          "text": [
            "Epochs: 154 | Train Loss:  0.510             | Val Loss:  0.524             | Train RMSE:  0.705             | Val RMSE:  0.709\n"
          ]
        },
        {
          "output_type": "stream",
          "name": "stderr",
          "text": [
            "100%|██████████| 179/179 [00:04<00:00, 37.32it/s]\n"
          ]
        },
        {
          "output_type": "stream",
          "name": "stdout",
          "text": [
            "Epochs: 155 | Train Loss:  0.504             | Val Loss:  0.521             | Train RMSE:  0.700             | Val RMSE:  0.705\n"
          ]
        },
        {
          "output_type": "stream",
          "name": "stderr",
          "text": [
            "100%|██████████| 179/179 [00:04<00:00, 37.37it/s]\n"
          ]
        },
        {
          "output_type": "stream",
          "name": "stdout",
          "text": [
            "Epochs: 156 | Train Loss:  0.499             | Val Loss:  0.517             | Train RMSE:  0.695             | Val RMSE:  0.704\n"
          ]
        },
        {
          "output_type": "stream",
          "name": "stderr",
          "text": [
            "100%|██████████| 179/179 [00:04<00:00, 37.41it/s]\n"
          ]
        },
        {
          "output_type": "stream",
          "name": "stdout",
          "text": [
            "Epochs: 157 | Train Loss:  0.493             | Val Loss:  0.595             | Train RMSE:  0.691             | Val RMSE:  0.759\n"
          ]
        },
        {
          "output_type": "stream",
          "name": "stderr",
          "text": [
            "100%|██████████| 179/179 [00:04<00:00, 37.43it/s]\n"
          ]
        },
        {
          "output_type": "stream",
          "name": "stdout",
          "text": [
            "Epochs: 158 | Train Loss:  0.505             | Val Loss:  0.537             | Train RMSE:  0.698             | Val RMSE:  0.716\n"
          ]
        },
        {
          "output_type": "stream",
          "name": "stderr",
          "text": [
            "100%|██████████| 179/179 [00:04<00:00, 37.32it/s]\n"
          ]
        },
        {
          "output_type": "stream",
          "name": "stdout",
          "text": [
            "Epochs: 159 | Train Loss:  0.500             | Val Loss:  0.545             | Train RMSE:  0.695             | Val RMSE:  0.718\n"
          ]
        },
        {
          "output_type": "stream",
          "name": "stderr",
          "text": [
            "100%|██████████| 179/179 [00:04<00:00, 37.27it/s]\n"
          ]
        },
        {
          "output_type": "stream",
          "name": "stdout",
          "text": [
            "Epochs: 160 | Train Loss:  0.487             | Val Loss:  0.517             | Train RMSE:  0.687             | Val RMSE:  0.699\n"
          ]
        },
        {
          "output_type": "stream",
          "name": "stderr",
          "text": [
            "100%|██████████| 179/179 [00:04<00:00, 37.10it/s]\n"
          ]
        },
        {
          "output_type": "stream",
          "name": "stdout",
          "text": [
            "Epochs: 161 | Train Loss:  0.491             | Val Loss:  0.556             | Train RMSE:  0.690             | Val RMSE:  0.726\n"
          ]
        },
        {
          "output_type": "stream",
          "name": "stderr",
          "text": [
            "100%|██████████| 179/179 [00:04<00:00, 37.22it/s]\n"
          ]
        },
        {
          "output_type": "stream",
          "name": "stdout",
          "text": [
            "Epochs: 162 | Train Loss:  0.496             | Val Loss:  0.528             | Train RMSE:  0.694             | Val RMSE:  0.714\n"
          ]
        },
        {
          "output_type": "stream",
          "name": "stderr",
          "text": [
            "100%|██████████| 179/179 [00:04<00:00, 37.29it/s]\n"
          ]
        },
        {
          "output_type": "stream",
          "name": "stdout",
          "text": [
            "Epochs: 163 | Train Loss:  0.507             | Val Loss:  0.507             | Train RMSE:  0.701             | Val RMSE:  0.697\n"
          ]
        },
        {
          "output_type": "stream",
          "name": "stderr",
          "text": [
            "100%|██████████| 179/179 [00:04<00:00, 37.48it/s]\n"
          ]
        },
        {
          "output_type": "stream",
          "name": "stdout",
          "text": [
            "Epochs: 164 | Train Loss:  0.483             | Val Loss:  0.522             | Train RMSE:  0.684             | Val RMSE:  0.706\n"
          ]
        },
        {
          "output_type": "stream",
          "name": "stderr",
          "text": [
            "100%|██████████| 179/179 [00:04<00:00, 37.43it/s]\n"
          ]
        },
        {
          "output_type": "stream",
          "name": "stdout",
          "text": [
            "Epochs: 165 | Train Loss:  0.492             | Val Loss:  0.513             | Train RMSE:  0.689             | Val RMSE:  0.700\n"
          ]
        },
        {
          "output_type": "stream",
          "name": "stderr",
          "text": [
            "100%|██████████| 179/179 [00:04<00:00, 37.45it/s]\n"
          ]
        },
        {
          "output_type": "stream",
          "name": "stdout",
          "text": [
            "Epochs: 166 | Train Loss:  0.494             | Val Loss:  0.513             | Train RMSE:  0.690             | Val RMSE:  0.702\n"
          ]
        },
        {
          "output_type": "stream",
          "name": "stderr",
          "text": [
            "100%|██████████| 179/179 [00:04<00:00, 37.46it/s]\n"
          ]
        },
        {
          "output_type": "stream",
          "name": "stdout",
          "text": [
            "Epochs: 167 | Train Loss:  0.497             | Val Loss:  0.514             | Train RMSE:  0.695             | Val RMSE:  0.698\n"
          ]
        },
        {
          "output_type": "stream",
          "name": "stderr",
          "text": [
            "100%|██████████| 179/179 [00:04<00:00, 36.69it/s]\n"
          ]
        },
        {
          "output_type": "stream",
          "name": "stdout",
          "text": [
            "Epochs: 168 | Train Loss:  0.491             | Val Loss:  0.544             | Train RMSE:  0.689             | Val RMSE:  0.720\n"
          ]
        },
        {
          "output_type": "stream",
          "name": "stderr",
          "text": [
            "100%|██████████| 179/179 [00:04<00:00, 37.15it/s]\n"
          ]
        },
        {
          "output_type": "stream",
          "name": "stdout",
          "text": [
            "Epochs: 169 | Train Loss:  0.490             | Val Loss:  0.552             | Train RMSE:  0.689             | Val RMSE:  0.726\n"
          ]
        },
        {
          "output_type": "stream",
          "name": "stderr",
          "text": [
            "100%|██████████| 179/179 [00:04<00:00, 37.10it/s]\n"
          ]
        },
        {
          "output_type": "stream",
          "name": "stdout",
          "text": [
            "Epochs: 170 | Train Loss:  0.494             | Val Loss:  0.484             | Train RMSE:  0.692             | Val RMSE:  0.675\n"
          ]
        },
        {
          "output_type": "stream",
          "name": "stderr",
          "text": [
            "100%|██████████| 179/179 [00:04<00:00, 37.15it/s]\n"
          ]
        },
        {
          "output_type": "stream",
          "name": "stdout",
          "text": [
            "Epochs: 171 | Train Loss:  0.494             | Val Loss:  0.510             | Train RMSE:  0.690             | Val RMSE:  0.697\n"
          ]
        },
        {
          "output_type": "stream",
          "name": "stderr",
          "text": [
            "100%|██████████| 179/179 [00:04<00:00, 37.31it/s]\n"
          ]
        },
        {
          "output_type": "stream",
          "name": "stdout",
          "text": [
            "Epochs: 172 | Train Loss:  0.492             | Val Loss:  0.521             | Train RMSE:  0.691             | Val RMSE:  0.702\n"
          ]
        },
        {
          "output_type": "stream",
          "name": "stderr",
          "text": [
            "100%|██████████| 179/179 [00:04<00:00, 37.32it/s]\n"
          ]
        },
        {
          "output_type": "stream",
          "name": "stdout",
          "text": [
            "Epochs: 173 | Train Loss:  0.482             | Val Loss:  0.571             | Train RMSE:  0.684             | Val RMSE:  0.736\n"
          ]
        },
        {
          "output_type": "stream",
          "name": "stderr",
          "text": [
            "100%|██████████| 179/179 [00:04<00:00, 36.52it/s]\n"
          ]
        },
        {
          "output_type": "stream",
          "name": "stdout",
          "text": [
            "Epochs: 174 | Train Loss:  0.492             | Val Loss:  0.536             | Train RMSE:  0.688             | Val RMSE:  0.718\n"
          ]
        },
        {
          "output_type": "stream",
          "name": "stderr",
          "text": [
            "100%|██████████| 179/179 [00:04<00:00, 36.71it/s]\n"
          ]
        },
        {
          "output_type": "stream",
          "name": "stdout",
          "text": [
            "Epochs: 175 | Train Loss:  0.495             | Val Loss:  0.495             | Train RMSE:  0.693             | Val RMSE:  0.689\n"
          ]
        },
        {
          "output_type": "stream",
          "name": "stderr",
          "text": [
            "100%|██████████| 179/179 [00:04<00:00, 37.02it/s]\n"
          ]
        },
        {
          "output_type": "stream",
          "name": "stdout",
          "text": [
            "Epochs: 176 | Train Loss:  0.498             | Val Loss:  0.558             | Train RMSE:  0.694             | Val RMSE:  0.727\n"
          ]
        },
        {
          "output_type": "stream",
          "name": "stderr",
          "text": [
            "100%|██████████| 179/179 [00:04<00:00, 36.93it/s]\n"
          ]
        },
        {
          "output_type": "stream",
          "name": "stdout",
          "text": [
            "Epochs: 177 | Train Loss:  0.490             | Val Loss:  0.501             | Train RMSE:  0.688             | Val RMSE:  0.693\n"
          ]
        },
        {
          "output_type": "stream",
          "name": "stderr",
          "text": [
            "100%|██████████| 179/179 [00:04<00:00, 36.43it/s]\n"
          ]
        },
        {
          "output_type": "stream",
          "name": "stdout",
          "text": [
            "Epochs: 178 | Train Loss:  0.473             | Val Loss:  0.543             | Train RMSE:  0.677             | Val RMSE:  0.722\n"
          ]
        },
        {
          "output_type": "stream",
          "name": "stderr",
          "text": [
            "100%|██████████| 179/179 [00:04<00:00, 36.54it/s]\n"
          ]
        },
        {
          "output_type": "stream",
          "name": "stdout",
          "text": [
            "Epochs: 179 | Train Loss:  0.491             | Val Loss:  0.552             | Train RMSE:  0.687             | Val RMSE:  0.728\n"
          ]
        },
        {
          "output_type": "stream",
          "name": "stderr",
          "text": [
            "100%|██████████| 179/179 [00:04<00:00, 36.56it/s]\n"
          ]
        },
        {
          "output_type": "stream",
          "name": "stdout",
          "text": [
            "Epochs: 180 | Train Loss:  0.487             | Val Loss:  0.533             | Train RMSE:  0.685             | Val RMSE:  0.712\n"
          ]
        },
        {
          "output_type": "stream",
          "name": "stderr",
          "text": [
            "100%|██████████| 179/179 [00:04<00:00, 36.51it/s]\n"
          ]
        },
        {
          "output_type": "stream",
          "name": "stdout",
          "text": [
            "Epochs: 181 | Train Loss:  0.481             | Val Loss:  0.528             | Train RMSE:  0.683             | Val RMSE:  0.706\n"
          ]
        },
        {
          "output_type": "stream",
          "name": "stderr",
          "text": [
            "100%|██████████| 179/179 [00:04<00:00, 36.44it/s]\n"
          ]
        },
        {
          "output_type": "stream",
          "name": "stdout",
          "text": [
            "Epochs: 182 | Train Loss:  0.480             | Val Loss:  0.510             | Train RMSE:  0.682             | Val RMSE:  0.695\n"
          ]
        },
        {
          "output_type": "stream",
          "name": "stderr",
          "text": [
            "100%|██████████| 179/179 [00:04<00:00, 37.35it/s]\n"
          ]
        },
        {
          "output_type": "stream",
          "name": "stdout",
          "text": [
            "Epochs: 183 | Train Loss:  0.485             | Val Loss:  0.562             | Train RMSE:  0.685             | Val RMSE:  0.734\n"
          ]
        },
        {
          "output_type": "stream",
          "name": "stderr",
          "text": [
            "100%|██████████| 179/179 [00:04<00:00, 37.27it/s]\n"
          ]
        },
        {
          "output_type": "stream",
          "name": "stdout",
          "text": [
            "Epochs: 184 | Train Loss:  0.488             | Val Loss:  0.542             | Train RMSE:  0.688             | Val RMSE:  0.716\n"
          ]
        },
        {
          "output_type": "stream",
          "name": "stderr",
          "text": [
            "100%|██████████| 179/179 [00:04<00:00, 37.09it/s]\n"
          ]
        },
        {
          "output_type": "stream",
          "name": "stdout",
          "text": [
            "Epochs: 185 | Train Loss:  0.478             | Val Loss:  0.516             | Train RMSE:  0.680             | Val RMSE:  0.700\n"
          ]
        },
        {
          "output_type": "stream",
          "name": "stderr",
          "text": [
            "100%|██████████| 179/179 [00:04<00:00, 37.13it/s]\n"
          ]
        },
        {
          "output_type": "stream",
          "name": "stdout",
          "text": [
            "Epochs: 186 | Train Loss:  0.485             | Val Loss:  0.512             | Train RMSE:  0.684             | Val RMSE:  0.698\n"
          ]
        },
        {
          "output_type": "stream",
          "name": "stderr",
          "text": [
            "100%|██████████| 179/179 [00:04<00:00, 37.17it/s]\n"
          ]
        },
        {
          "output_type": "stream",
          "name": "stdout",
          "text": [
            "Epochs: 187 | Train Loss:  0.491             | Val Loss:  0.529             | Train RMSE:  0.689             | Val RMSE:  0.708\n"
          ]
        },
        {
          "output_type": "stream",
          "name": "stderr",
          "text": [
            "100%|██████████| 179/179 [00:04<00:00, 37.22it/s]\n"
          ]
        },
        {
          "output_type": "stream",
          "name": "stdout",
          "text": [
            "Epochs: 188 | Train Loss:  0.485             | Val Loss:  0.527             | Train RMSE:  0.685             | Val RMSE:  0.706\n"
          ]
        },
        {
          "output_type": "stream",
          "name": "stderr",
          "text": [
            "100%|██████████| 179/179 [00:04<00:00, 36.44it/s]\n"
          ]
        },
        {
          "output_type": "stream",
          "name": "stdout",
          "text": [
            "Epochs: 189 | Train Loss:  0.478             | Val Loss:  0.519             | Train RMSE:  0.680             | Val RMSE:  0.700\n"
          ]
        },
        {
          "output_type": "stream",
          "name": "stderr",
          "text": [
            "100%|██████████| 179/179 [00:04<00:00, 37.26it/s]\n"
          ]
        },
        {
          "output_type": "stream",
          "name": "stdout",
          "text": [
            "Epochs: 190 | Train Loss:  0.487             | Val Loss:  0.511             | Train RMSE:  0.688             | Val RMSE:  0.695\n"
          ]
        },
        {
          "output_type": "stream",
          "name": "stderr",
          "text": [
            "100%|██████████| 179/179 [00:04<00:00, 37.28it/s]\n"
          ]
        },
        {
          "output_type": "stream",
          "name": "stdout",
          "text": [
            "Epochs: 191 | Train Loss:  0.485             | Val Loss:  0.499             | Train RMSE:  0.685             | Val RMSE:  0.690\n"
          ]
        },
        {
          "output_type": "stream",
          "name": "stderr",
          "text": [
            "100%|██████████| 179/179 [00:04<00:00, 36.54it/s]\n"
          ]
        },
        {
          "output_type": "stream",
          "name": "stdout",
          "text": [
            "Epochs: 192 | Train Loss:  0.484             | Val Loss:  0.508             | Train RMSE:  0.686             | Val RMSE:  0.698\n"
          ]
        },
        {
          "output_type": "stream",
          "name": "stderr",
          "text": [
            "100%|██████████| 179/179 [00:04<00:00, 36.70it/s]\n"
          ]
        },
        {
          "output_type": "stream",
          "name": "stdout",
          "text": [
            "Epochs: 193 | Train Loss:  0.482             | Val Loss:  0.507             | Train RMSE:  0.683             | Val RMSE:  0.693\n"
          ]
        },
        {
          "output_type": "stream",
          "name": "stderr",
          "text": [
            "100%|██████████| 179/179 [00:04<00:00, 37.05it/s]\n"
          ]
        },
        {
          "output_type": "stream",
          "name": "stdout",
          "text": [
            "Epochs: 194 | Train Loss:  0.480             | Val Loss:  0.512             | Train RMSE:  0.681             | Val RMSE:  0.696\n"
          ]
        },
        {
          "output_type": "stream",
          "name": "stderr",
          "text": [
            "100%|██████████| 179/179 [00:04<00:00, 37.09it/s]\n"
          ]
        },
        {
          "output_type": "stream",
          "name": "stdout",
          "text": [
            "Epochs: 195 | Train Loss:  0.485             | Val Loss:  0.510             | Train RMSE:  0.685             | Val RMSE:  0.694\n"
          ]
        },
        {
          "output_type": "stream",
          "name": "stderr",
          "text": [
            "100%|██████████| 179/179 [00:04<00:00, 37.20it/s]\n"
          ]
        },
        {
          "output_type": "stream",
          "name": "stdout",
          "text": [
            "Epochs: 196 | Train Loss:  0.483             | Val Loss:  0.526             | Train RMSE:  0.684             | Val RMSE:  0.706\n"
          ]
        },
        {
          "output_type": "stream",
          "name": "stderr",
          "text": [
            "100%|██████████| 179/179 [00:04<00:00, 37.22it/s]\n"
          ]
        },
        {
          "output_type": "stream",
          "name": "stdout",
          "text": [
            "Epochs: 197 | Train Loss:  0.473             | Val Loss:  0.500             | Train RMSE:  0.677             | Val RMSE:  0.692\n"
          ]
        },
        {
          "output_type": "stream",
          "name": "stderr",
          "text": [
            "100%|██████████| 179/179 [00:04<00:00, 37.25it/s]\n"
          ]
        },
        {
          "output_type": "stream",
          "name": "stdout",
          "text": [
            "Epochs: 198 | Train Loss:  0.498             | Val Loss:  0.493             | Train RMSE:  0.695             | Val RMSE:  0.684\n"
          ]
        },
        {
          "output_type": "stream",
          "name": "stderr",
          "text": [
            "100%|██████████| 179/179 [00:04<00:00, 37.23it/s]\n"
          ]
        },
        {
          "output_type": "stream",
          "name": "stdout",
          "text": [
            "Epochs: 199 | Train Loss:  0.480             | Val Loss:  0.581             | Train RMSE:  0.680             | Val RMSE:  0.740\n"
          ]
        },
        {
          "output_type": "stream",
          "name": "stderr",
          "text": [
            "100%|██████████| 179/179 [00:04<00:00, 37.17it/s]\n"
          ]
        },
        {
          "output_type": "stream",
          "name": "stdout",
          "text": [
            "Epochs: 200 | Train Loss:  0.473             | Val Loss:  0.514             | Train RMSE:  0.676             | Val RMSE:  0.703\n"
          ]
        },
        {
          "output_type": "stream",
          "name": "stderr",
          "text": [
            "100%|██████████| 179/179 [00:04<00:00, 37.11it/s]\n"
          ]
        },
        {
          "output_type": "stream",
          "name": "stdout",
          "text": [
            "Epochs: 201 | Train Loss:  0.476             | Val Loss:  0.510             | Train RMSE:  0.679             | Val RMSE:  0.698\n"
          ]
        },
        {
          "output_type": "stream",
          "name": "stderr",
          "text": [
            "100%|██████████| 179/179 [00:04<00:00, 37.22it/s]\n"
          ]
        },
        {
          "output_type": "stream",
          "name": "stdout",
          "text": [
            "Epochs: 202 | Train Loss:  0.485             | Val Loss:  0.543             | Train RMSE:  0.684             | Val RMSE:  0.722\n"
          ]
        },
        {
          "output_type": "stream",
          "name": "stderr",
          "text": [
            "100%|██████████| 179/179 [00:04<00:00, 37.05it/s]\n"
          ]
        },
        {
          "output_type": "stream",
          "name": "stdout",
          "text": [
            "Epochs: 203 | Train Loss:  0.476             | Val Loss:  0.512             | Train RMSE:  0.677             | Val RMSE:  0.700\n"
          ]
        },
        {
          "output_type": "stream",
          "name": "stderr",
          "text": [
            "100%|██████████| 179/179 [00:04<00:00, 37.08it/s]\n"
          ]
        },
        {
          "output_type": "stream",
          "name": "stdout",
          "text": [
            "Epochs: 204 | Train Loss:  0.477             | Val Loss:  0.509             | Train RMSE:  0.680             | Val RMSE:  0.697\n"
          ]
        },
        {
          "output_type": "stream",
          "name": "stderr",
          "text": [
            "100%|██████████| 179/179 [00:04<00:00, 36.91it/s]\n"
          ]
        },
        {
          "output_type": "stream",
          "name": "stdout",
          "text": [
            "Epochs: 205 | Train Loss:  0.473             | Val Loss:  0.516             | Train RMSE:  0.676             | Val RMSE:  0.703\n"
          ]
        },
        {
          "output_type": "stream",
          "name": "stderr",
          "text": [
            "100%|██████████| 179/179 [00:04<00:00, 36.95it/s]\n"
          ]
        },
        {
          "output_type": "stream",
          "name": "stdout",
          "text": [
            "Epochs: 206 | Train Loss:  0.480             | Val Loss:  0.520             | Train RMSE:  0.682             | Val RMSE:  0.703\n"
          ]
        },
        {
          "output_type": "stream",
          "name": "stderr",
          "text": [
            "100%|██████████| 179/179 [00:04<00:00, 37.25it/s]\n"
          ]
        },
        {
          "output_type": "stream",
          "name": "stdout",
          "text": [
            "Epochs: 207 | Train Loss:  0.481             | Val Loss:  0.500             | Train RMSE:  0.683             | Val RMSE:  0.687\n"
          ]
        },
        {
          "output_type": "stream",
          "name": "stderr",
          "text": [
            "100%|██████████| 179/179 [00:04<00:00, 37.31it/s]\n"
          ]
        },
        {
          "output_type": "stream",
          "name": "stdout",
          "text": [
            "Epochs: 208 | Train Loss:  0.491             | Val Loss:  0.512             | Train RMSE:  0.688             | Val RMSE:  0.699\n"
          ]
        },
        {
          "output_type": "stream",
          "name": "stderr",
          "text": [
            "100%|██████████| 179/179 [00:04<00:00, 36.52it/s]\n"
          ]
        },
        {
          "output_type": "stream",
          "name": "stdout",
          "text": [
            "Epochs: 209 | Train Loss:  0.482             | Val Loss:  0.492             | Train RMSE:  0.683             | Val RMSE:  0.678\n"
          ]
        },
        {
          "output_type": "stream",
          "name": "stderr",
          "text": [
            "100%|██████████| 179/179 [00:04<00:00, 36.69it/s]\n"
          ]
        },
        {
          "output_type": "stream",
          "name": "stdout",
          "text": [
            "Epochs: 210 | Train Loss:  0.489             | Val Loss:  0.602             | Train RMSE:  0.686             | Val RMSE:  0.755\n"
          ]
        },
        {
          "output_type": "stream",
          "name": "stderr",
          "text": [
            "100%|██████████| 179/179 [00:04<00:00, 37.15it/s]\n"
          ]
        },
        {
          "output_type": "stream",
          "name": "stdout",
          "text": [
            "Epochs: 211 | Train Loss:  0.478             | Val Loss:  0.510             | Train RMSE:  0.679             | Val RMSE:  0.700\n"
          ]
        },
        {
          "output_type": "stream",
          "name": "stderr",
          "text": [
            "100%|██████████| 179/179 [00:04<00:00, 37.12it/s]\n"
          ]
        },
        {
          "output_type": "stream",
          "name": "stdout",
          "text": [
            "Epochs: 212 | Train Loss:  0.482             | Val Loss:  0.531             | Train RMSE:  0.683             | Val RMSE:  0.713\n"
          ]
        },
        {
          "output_type": "stream",
          "name": "stderr",
          "text": [
            "100%|██████████| 179/179 [00:04<00:00, 37.15it/s]\n"
          ]
        },
        {
          "output_type": "stream",
          "name": "stdout",
          "text": [
            "Epochs: 213 | Train Loss:  0.476             | Val Loss:  0.510             | Train RMSE:  0.679             | Val RMSE:  0.693\n"
          ]
        },
        {
          "output_type": "stream",
          "name": "stderr",
          "text": [
            "100%|██████████| 179/179 [00:04<00:00, 37.18it/s]\n"
          ]
        },
        {
          "output_type": "stream",
          "name": "stdout",
          "text": [
            "Epochs: 214 | Train Loss:  0.485             | Val Loss:  0.564             | Train RMSE:  0.684             | Val RMSE:  0.728\n"
          ]
        },
        {
          "output_type": "stream",
          "name": "stderr",
          "text": [
            "100%|██████████| 179/179 [00:04<00:00, 36.63it/s]\n"
          ]
        },
        {
          "output_type": "stream",
          "name": "stdout",
          "text": [
            "Epochs: 215 | Train Loss:  0.479             | Val Loss:  0.498             | Train RMSE:  0.679             | Val RMSE:  0.692\n"
          ]
        },
        {
          "output_type": "stream",
          "name": "stderr",
          "text": [
            "100%|██████████| 179/179 [00:04<00:00, 37.40it/s]\n"
          ]
        },
        {
          "output_type": "stream",
          "name": "stdout",
          "text": [
            "Epochs: 216 | Train Loss:  0.471             | Val Loss:  0.510             | Train RMSE:  0.675             | Val RMSE:  0.692\n"
          ]
        },
        {
          "output_type": "stream",
          "name": "stderr",
          "text": [
            "100%|██████████| 179/179 [00:04<00:00, 37.35it/s]\n"
          ]
        },
        {
          "output_type": "stream",
          "name": "stdout",
          "text": [
            "Epochs: 217 | Train Loss:  0.470             | Val Loss:  0.551             | Train RMSE:  0.673             | Val RMSE:  0.719\n"
          ]
        },
        {
          "output_type": "stream",
          "name": "stderr",
          "text": [
            "100%|██████████| 179/179 [00:04<00:00, 37.22it/s]\n"
          ]
        },
        {
          "output_type": "stream",
          "name": "stdout",
          "text": [
            "Epochs: 218 | Train Loss:  0.471             | Val Loss:  0.514             | Train RMSE:  0.676             | Val RMSE:  0.695\n"
          ]
        },
        {
          "output_type": "stream",
          "name": "stderr",
          "text": [
            "100%|██████████| 179/179 [00:04<00:00, 36.55it/s]\n"
          ]
        },
        {
          "output_type": "stream",
          "name": "stdout",
          "text": [
            "Epochs: 219 | Train Loss:  0.478             | Val Loss:  0.481             | Train RMSE:  0.681             | Val RMSE:  0.676\n"
          ]
        },
        {
          "output_type": "stream",
          "name": "stderr",
          "text": [
            "100%|██████████| 179/179 [00:04<00:00, 37.07it/s]\n"
          ]
        },
        {
          "output_type": "stream",
          "name": "stdout",
          "text": [
            "Epochs: 220 | Train Loss:  0.485             | Val Loss:  0.532             | Train RMSE:  0.685             | Val RMSE:  0.710\n"
          ]
        },
        {
          "output_type": "stream",
          "name": "stderr",
          "text": [
            "100%|██████████| 179/179 [00:04<00:00, 37.11it/s]\n"
          ]
        },
        {
          "output_type": "stream",
          "name": "stdout",
          "text": [
            "Epochs: 221 | Train Loss:  0.479             | Val Loss:  0.512             | Train RMSE:  0.680             | Val RMSE:  0.694\n"
          ]
        },
        {
          "output_type": "stream",
          "name": "stderr",
          "text": [
            "100%|██████████| 179/179 [00:04<00:00, 37.18it/s]\n"
          ]
        },
        {
          "output_type": "stream",
          "name": "stdout",
          "text": [
            "Epochs: 222 | Train Loss:  0.473             | Val Loss:  0.478             | Train RMSE:  0.675             | Val RMSE:  0.672\n"
          ]
        },
        {
          "output_type": "stream",
          "name": "stderr",
          "text": [
            "100%|██████████| 179/179 [00:04<00:00, 37.34it/s]\n"
          ]
        },
        {
          "output_type": "stream",
          "name": "stdout",
          "text": [
            "Epochs: 223 | Train Loss:  0.467             | Val Loss:  0.496             | Train RMSE:  0.673             | Val RMSE:  0.688\n"
          ]
        },
        {
          "output_type": "stream",
          "name": "stderr",
          "text": [
            "100%|██████████| 179/179 [00:04<00:00, 37.40it/s]\n"
          ]
        },
        {
          "output_type": "stream",
          "name": "stdout",
          "text": [
            "Epochs: 224 | Train Loss:  0.473             | Val Loss:  0.529             | Train RMSE:  0.678             | Val RMSE:  0.708\n"
          ]
        },
        {
          "output_type": "stream",
          "name": "stderr",
          "text": [
            "100%|██████████| 179/179 [00:04<00:00, 37.42it/s]\n"
          ]
        },
        {
          "output_type": "stream",
          "name": "stdout",
          "text": [
            "Epochs: 225 | Train Loss:  0.464             | Val Loss:  0.513             | Train RMSE:  0.669             | Val RMSE:  0.695\n"
          ]
        },
        {
          "output_type": "stream",
          "name": "stderr",
          "text": [
            "100%|██████████| 179/179 [00:04<00:00, 37.38it/s]\n"
          ]
        },
        {
          "output_type": "stream",
          "name": "stdout",
          "text": [
            "Epochs: 226 | Train Loss:  0.476             | Val Loss:  0.525             | Train RMSE:  0.680             | Val RMSE:  0.704\n"
          ]
        },
        {
          "output_type": "stream",
          "name": "stderr",
          "text": [
            "100%|██████████| 179/179 [00:04<00:00, 37.39it/s]\n"
          ]
        },
        {
          "output_type": "stream",
          "name": "stdout",
          "text": [
            "Epochs: 227 | Train Loss:  0.469             | Val Loss:  0.520             | Train RMSE:  0.672             | Val RMSE:  0.700\n"
          ]
        },
        {
          "output_type": "stream",
          "name": "stderr",
          "text": [
            "100%|██████████| 179/179 [00:04<00:00, 37.25it/s]\n"
          ]
        },
        {
          "output_type": "stream",
          "name": "stdout",
          "text": [
            "Epochs: 228 | Train Loss:  0.471             | Val Loss:  0.527             | Train RMSE:  0.675             | Val RMSE:  0.713\n"
          ]
        },
        {
          "output_type": "stream",
          "name": "stderr",
          "text": [
            "100%|██████████| 179/179 [00:04<00:00, 37.32it/s]\n"
          ]
        },
        {
          "output_type": "stream",
          "name": "stdout",
          "text": [
            "Epochs: 229 | Train Loss:  0.466             | Val Loss:  0.533             | Train RMSE:  0.670             | Val RMSE:  0.708\n"
          ]
        },
        {
          "output_type": "stream",
          "name": "stderr",
          "text": [
            "100%|██████████| 179/179 [00:04<00:00, 37.19it/s]\n"
          ]
        },
        {
          "output_type": "stream",
          "name": "stdout",
          "text": [
            "Epochs: 230 | Train Loss:  0.472             | Val Loss:  0.544             | Train RMSE:  0.677             | Val RMSE:  0.717\n"
          ]
        },
        {
          "output_type": "stream",
          "name": "stderr",
          "text": [
            "100%|██████████| 179/179 [00:04<00:00, 37.19it/s]\n"
          ]
        },
        {
          "output_type": "stream",
          "name": "stdout",
          "text": [
            "Epochs: 231 | Train Loss:  0.465             | Val Loss:  0.500             | Train RMSE:  0.672             | Val RMSE:  0.691\n"
          ]
        },
        {
          "output_type": "stream",
          "name": "stderr",
          "text": [
            "100%|██████████| 179/179 [00:04<00:00, 37.22it/s]\n"
          ]
        },
        {
          "output_type": "stream",
          "name": "stdout",
          "text": [
            "Epochs: 232 | Train Loss:  0.479             | Val Loss:  0.557             | Train RMSE:  0.679             | Val RMSE:  0.725\n"
          ]
        },
        {
          "output_type": "stream",
          "name": "stderr",
          "text": [
            "100%|██████████| 179/179 [00:04<00:00, 37.23it/s]\n"
          ]
        },
        {
          "output_type": "stream",
          "name": "stdout",
          "text": [
            "Epochs: 233 | Train Loss:  0.481             | Val Loss:  0.512             | Train RMSE:  0.681             | Val RMSE:  0.700\n"
          ]
        },
        {
          "output_type": "stream",
          "name": "stderr",
          "text": [
            "100%|██████████| 179/179 [00:04<00:00, 37.26it/s]\n"
          ]
        },
        {
          "output_type": "stream",
          "name": "stdout",
          "text": [
            "Epochs: 234 | Train Loss:  0.481             | Val Loss:  0.527             | Train RMSE:  0.683             | Val RMSE:  0.711\n"
          ]
        },
        {
          "output_type": "stream",
          "name": "stderr",
          "text": [
            "100%|██████████| 179/179 [00:04<00:00, 37.20it/s]\n"
          ]
        },
        {
          "output_type": "stream",
          "name": "stdout",
          "text": [
            "Epochs: 235 | Train Loss:  0.465             | Val Loss:  0.507             | Train RMSE:  0.670             | Val RMSE:  0.696\n"
          ]
        },
        {
          "output_type": "stream",
          "name": "stderr",
          "text": [
            "100%|██████████| 179/179 [00:04<00:00, 37.16it/s]\n"
          ]
        },
        {
          "output_type": "stream",
          "name": "stdout",
          "text": [
            "Epochs: 236 | Train Loss:  0.477             | Val Loss:  0.503             | Train RMSE:  0.679             | Val RMSE:  0.689\n"
          ]
        },
        {
          "output_type": "stream",
          "name": "stderr",
          "text": [
            "100%|██████████| 179/179 [00:04<00:00, 36.82it/s]\n"
          ]
        },
        {
          "output_type": "stream",
          "name": "stdout",
          "text": [
            "Epochs: 237 | Train Loss:  0.459             | Val Loss:  0.495             | Train RMSE:  0.665             | Val RMSE:  0.681\n"
          ]
        },
        {
          "output_type": "stream",
          "name": "stderr",
          "text": [
            "100%|██████████| 179/179 [00:04<00:00, 37.27it/s]\n"
          ]
        },
        {
          "output_type": "stream",
          "name": "stdout",
          "text": [
            "Epochs: 238 | Train Loss:  0.483             | Val Loss:  0.495             | Train RMSE:  0.683             | Val RMSE:  0.682\n"
          ]
        },
        {
          "output_type": "stream",
          "name": "stderr",
          "text": [
            "100%|██████████| 179/179 [00:04<00:00, 37.26it/s]\n"
          ]
        },
        {
          "output_type": "stream",
          "name": "stdout",
          "text": [
            "Epochs: 239 | Train Loss:  0.465             | Val Loss:  0.503             | Train RMSE:  0.671             | Val RMSE:  0.693\n"
          ]
        },
        {
          "output_type": "stream",
          "name": "stderr",
          "text": [
            "100%|██████████| 179/179 [00:04<00:00, 37.33it/s]\n"
          ]
        },
        {
          "output_type": "stream",
          "name": "stdout",
          "text": [
            "Epochs: 240 | Train Loss:  0.463             | Val Loss:  0.495             | Train RMSE:  0.669             | Val RMSE:  0.689\n"
          ]
        },
        {
          "output_type": "stream",
          "name": "stderr",
          "text": [
            "100%|██████████| 179/179 [00:04<00:00, 37.24it/s]\n"
          ]
        },
        {
          "output_type": "stream",
          "name": "stdout",
          "text": [
            "Epochs: 241 | Train Loss:  0.467             | Val Loss:  0.579             | Train RMSE:  0.672             | Val RMSE:  0.740\n"
          ]
        },
        {
          "output_type": "stream",
          "name": "stderr",
          "text": [
            "100%|██████████| 179/179 [00:04<00:00, 37.20it/s]\n"
          ]
        },
        {
          "output_type": "stream",
          "name": "stdout",
          "text": [
            "Epochs: 242 | Train Loss:  0.469             | Val Loss:  0.498             | Train RMSE:  0.673             | Val RMSE:  0.692\n"
          ]
        },
        {
          "output_type": "stream",
          "name": "stderr",
          "text": [
            "100%|██████████| 179/179 [00:04<00:00, 37.32it/s]\n"
          ]
        },
        {
          "output_type": "stream",
          "name": "stdout",
          "text": [
            "Epochs: 243 | Train Loss:  0.466             | Val Loss:  0.511             | Train RMSE:  0.670             | Val RMSE:  0.701\n"
          ]
        },
        {
          "output_type": "stream",
          "name": "stderr",
          "text": [
            "100%|██████████| 179/179 [00:04<00:00, 37.18it/s]\n"
          ]
        },
        {
          "output_type": "stream",
          "name": "stdout",
          "text": [
            "Epochs: 244 | Train Loss:  0.473             | Val Loss:  0.523             | Train RMSE:  0.674             | Val RMSE:  0.708\n"
          ]
        },
        {
          "output_type": "stream",
          "name": "stderr",
          "text": [
            "100%|██████████| 179/179 [00:04<00:00, 37.17it/s]\n"
          ]
        },
        {
          "output_type": "stream",
          "name": "stdout",
          "text": [
            "Epochs: 245 | Train Loss:  0.459             | Val Loss:  0.494             | Train RMSE:  0.667             | Val RMSE:  0.682\n"
          ]
        },
        {
          "output_type": "stream",
          "name": "stderr",
          "text": [
            "100%|██████████| 179/179 [00:04<00:00, 37.22it/s]\n"
          ]
        },
        {
          "output_type": "stream",
          "name": "stdout",
          "text": [
            "Epochs: 246 | Train Loss:  0.468             | Val Loss:  0.493             | Train RMSE:  0.671             | Val RMSE:  0.685\n"
          ]
        },
        {
          "output_type": "stream",
          "name": "stderr",
          "text": [
            "  7%|▋         | 12/179 [00:00<00:04, 37.32it/s]"
          ]
        }
      ]
    },
    {
      "cell_type": "code",
      "source": [
        "# Save the Model after training.\n",
        "spr_hi_gnn.save_model(\"./models/spr_hi_gnn_finetuned_complete_v1.pth\")"
      ],
      "metadata": {
        "id": "ZANwoDkpswRR"
      },
      "execution_count": 15,
      "outputs": []
    },
    {
      "cell_type": "markdown",
      "source": [
        "# Section - 4: Arrakis GNN"
      ],
      "metadata": {
        "id": "dhMXiDUHABeZ"
      }
    },
    {
      "cell_type": "code",
      "source": [
        "def linear_layer(in_channels, out_channels):\n",
        "  return nn.Sequential(nn.Linear(in_channels, out_channels),\n",
        "                      nn.BatchNorm1d(out_channels),\n",
        "                      nn.LeakyReLU(1e-02))\n",
        "\n",
        "def attn_heads(in_channels, out_channels):\n",
        "  return nn.Sequential(nn.Linear(in_channels, out_channels), nn.Tanh())\n",
        "\n",
        "class ResLayer(nn.Module):\n",
        "  def __init__(self, in_c, out_c):\n",
        "    super().__init__()\n",
        "    self.l1 = linear_layer(in_c, out_c)\n",
        "    self.l2 = linear_layer(out_c, out_c)\n",
        "    self.l3 = linear_layer(out_c, out_c)\n",
        "\n",
        "  def forward(self, x):\n",
        "    x = self.l1(x)\n",
        "    return self.l3(self.l2(x)) + x\n",
        "\n",
        "class GATv2ConvEV2(MessagePassing):\n",
        "\n",
        "  def __init__(self, n_in, n_out, e_in, e_out):\n",
        "    super().__init__(aggr = 'add')\n",
        "    self.n_transform = ResLayer(n_in, n_out)\n",
        "    self.e_transform = ResLayer(e_in, e_out)\n",
        "\n",
        "    # Node\n",
        "    self.n_attn = attn_heads(2*n_out + e_out, 1)\n",
        "    self.e_attn = attn_heads(2*n_out + e_out, 1)\n",
        "    self.s_attn = attn_heads(2*n_out + e_out, 1)\n",
        "    self.n_message = ResLayer(e_out + 2*n_out , n_out)\n",
        "\n",
        "    # For Edge\n",
        "    self.n1_attn = ResLayer(e_out + 2*n_out, 1)\n",
        "    self.n2_attn = ResLayer(e_out + 2*n_out, 1)\n",
        "    self.s_e_attn = ResLayer(e_out + 2*n_out, 1)\n",
        "\n",
        "    # For Node Update\n",
        "    self.u_m_attn = attn_heads(2*n_out, 1)\n",
        "    self.u_s_attn = attn_heads(2*n_out, 1)\n",
        "    self.n_update = ResLayer(2*n_out, n_out)\n",
        "\n",
        "    self.e_update = ResLayer(e_out + 2*n_out, e_out)\n",
        "\n",
        "    self.n_in = n_in\n",
        "    self.n_out = n_out\n",
        "    self.e_in = e_in\n",
        "    self.e_out = e_out\n",
        "\n",
        "  def forward(self, x, edge_index, edge_attr):\n",
        "    # st()\n",
        "    x = self.n_transform(x)\n",
        "    edge_attr = self.e_transform(edge_attr)\n",
        "\n",
        "    node_features = self.propagate(edge_index, x = x, edge_attr = edge_attr)\n",
        "    edge_features = self.edge_updater(edge_index, x = x, edge_attr = edge_attr)\n",
        "\n",
        "    return node_features, edge_features\n",
        "\n",
        "  def edge_update(self, edge_index, x_i, x_j, edge_attr):\n",
        "    # 2. Edge Message Calculation\n",
        "\n",
        "    input = torch.cat([x_i, x_j, edge_attr], dim = 1)\n",
        "    n1_attn = self.n1_attn(input)\n",
        "    n2_attn = self.n2_attn(input)\n",
        "    self_attn = self.s_e_attn(input)\n",
        "\n",
        "    edge_message = torch.cat([n1_attn*x_i, n2_attn*x_j, self_attn*edge_attr], dim = 1)\n",
        "    return self.e_update(edge_message) + edge_attr\n",
        "\n",
        "  def message(self, x_i, x_j, edge_index, edge_attr):\n",
        "\n",
        "    input = torch.cat([x_i, x_j, edge_attr], dim = 1)\n",
        "    # 1. Node Message Calculation\n",
        "\n",
        "    neighbour_attn = self.n_attn(input)\n",
        "    edge_attn = self.e_attn(input)\n",
        "    self_attn = self.s_attn(input)\n",
        "\n",
        "    # 1.1 Attention Softmax\n",
        "    neighbour_attn = softmax(neighbour_attn, edge_index[0])\n",
        "    edge_attn = softmax(edge_attn, edge_index[0])\n",
        "    self_attn = softmax(self_attn, edge_index[0])\n",
        "\n",
        "    # 1.2 Gather the message\n",
        "    node_message = torch.cat([self_attn*x_i, neighbour_attn*x_j, edge_attn*edge_attr], dim = 1)\n",
        "\n",
        "    op = self.n_message(node_message)\n",
        "    return op\n",
        "\n",
        "  def update(self, aggregated_output, x):\n",
        "    '''\n",
        "    input = aggregated_output || x\n",
        "    message_attn = msg_attn(input)\n",
        "    self_attn = self_attn(input)\n",
        "\n",
        "    h` = update(message_attn*aggregated_output || self_attn*x)\n",
        "    return h`\n",
        "    '''\n",
        "\n",
        "    input = torch.cat([aggregated_output, x], dim = 1)\n",
        "    m_attn = self.u_m_attn(input)\n",
        "    s_attn = self.u_s_attn(input)\n",
        "\n",
        "    return self.n_update(torch.cat([m_attn*aggregated_output, s_attn*x], dim = 1))\n",
        "\n",
        "\n",
        "class GATV2(torch.nn.Module):\n",
        "    def __init__(self, hidden_channels = 64, num_node_features = 45, num_edge_features = 10, num_classes = 1, regression = True):\n",
        "        super(GATV2, self).__init__()\n",
        "        torch.manual_seed(12345)\n",
        "        self.conv1 = GATv2ConvEV2(num_node_features, hidden_channels, num_edge_features, hidden_channels)\n",
        "        self.conv2 = GATv2ConvEV2(hidden_channels, hidden_channels, hidden_channels, hidden_channels)\n",
        "        self.conv3 = GATv2ConvEV2(hidden_channels, hidden_channels, hidden_channels, hidden_channels)\n",
        "        self.conv4 = GATv2ConvEV2(hidden_channels, hidden_channels, hidden_channels, hidden_channels)\n",
        "\n",
        "        self.regression = regression\n",
        "        if regression:\n",
        "          self.lin = nn.Sequential(nn.Linear(hidden_channels, 1))\n",
        "        else:\n",
        "          self.lin = ResLayer(hidden_channels, num_classes)\n",
        "\n",
        "    def forward(self, data):\n",
        "        # 1. Obtain node embeddings\n",
        "        x, edge_index, edge_attr, batch = data.x, data.edge_index, data.edge_attr, data.batch\n",
        "        x, edge_attr = self.conv1(x, edge_index, edge_attr = edge_attr)\n",
        "        x, edge_attr = F.dropout(x, p = 0.4), F.dropout(edge_attr, p = 0.4)\n",
        "        x, edge_attr = self.conv2(x, edge_index, edge_attr = edge_attr)\n",
        "        x, edge_attr = F.dropout(x, p = 0.4), F.dropout(edge_attr, p = 0.4)\n",
        "        x, edge_attr = self.conv3(x, edge_index, edge_attr = edge_attr)\n",
        "        x, edge_attr = F.dropout(x, p = 0.4), F.dropout(edge_attr, p = 0.4)\n",
        "        x, edge_attr = self.conv4(x, edge_index, edge_attr = edge_attr)\n",
        "        x, edge_attr = F.dropout(x, p = 0.2), F.dropout(edge_attr, p = 0.2)\n",
        "\n",
        "        # 2. Readout layer\n",
        "        x = global_mean_pool(x, batch)  # [batch_size, hidden_channels]\n",
        "\n",
        "        # 3. Apply a final classifier\n",
        "        x = F.dropout(x, p=0.2, training=self.training)\n",
        "        if self.regression:\n",
        "          x = self.lin(x)\n",
        "        else:\n",
        "          x = F.sigmoid(self.lin(x))\n",
        "\n",
        "        return x"
      ],
      "metadata": {
        "id": "lGmjlAzQAGmN"
      },
      "execution_count": 17,
      "outputs": []
    },
    {
      "cell_type": "code",
      "source": [
        "class MultiHeadGATv2ConvEV2(nn.Module):\n",
        "\n",
        "    def __init__(self, n_in, n_out, e_in, e_out, n_heads = 4):\n",
        "        super().__init__()\n",
        "        self.layers = nn.ModuleList([GATv2ConvEV2(n_in, n_out, e_in, e_out) for i in range(n_heads)])\n",
        "\n",
        "        self.res_n = ResLayer(n_out*n_heads, n_out)\n",
        "        self.res_e = ResLayer(e_out*n_heads, e_out)\n",
        "\n",
        "    def forward(self, x, edge_index, edge_attr, f_att):\n",
        "\n",
        "        out = [i(x, edge_index = edge_index, edge_attr = edge_attr) for i in self.layers]\n",
        "        node_out, e_out = torch.cat([i[0] for i in out], dim = 1), torch.cat([j[1] for j in out], dim = 1)\n",
        "        return self.res_n(node_out), self.res_e(e_out)"
      ],
      "metadata": {
        "id": "4vHVF4JLBdDe"
      },
      "execution_count": 18,
      "outputs": []
    },
    {
      "cell_type": "code",
      "source": [
        "layer = MultiHeadGATv2ConvEV2(45, 64, 10, 64)\n",
        "results = layer(batch.x, batch.edge_index, batch.edge_attr)"
      ],
      "metadata": {
        "id": "YlhWFs3WEnHa"
      },
      "execution_count": null,
      "outputs": []
    },
    {
      "cell_type": "code",
      "source": [
        "results[0].shape,  results[1].shape"
      ],
      "metadata": {
        "colab": {
          "base_uri": "https://localhost:8080/"
        },
        "id": "gSD2lKcpEwkS",
        "outputId": "a22fabb5-3e9c-40b6-cc3e-d817e13c1e4c"
      },
      "execution_count": null,
      "outputs": [
        {
          "output_type": "execute_result",
          "data": {
            "text/plain": [
              "(torch.Size([439, 64]), torch.Size([908, 64]))"
            ]
          },
          "metadata": {},
          "execution_count": 83
        }
      ]
    },
    {
      "cell_type": "code",
      "source": [
        "wandb.init('ArrakisGNN')"
      ],
      "metadata": {
        "colab": {
          "base_uri": "https://localhost:8080/",
          "height": 161
        },
        "id": "oiopuaKGyaHk",
        "outputId": "9e1ada6c-5093-4208-f42b-eab7c2b3fd07"
      },
      "execution_count": null,
      "outputs": [
        {
          "output_type": "stream",
          "name": "stderr",
          "text": [
            "\u001b[34m\u001b[1mwandb\u001b[0m: Currently logged in as: \u001b[33mbindelapranay1997\u001b[0m (\u001b[33mcomp_chem\u001b[0m). Use \u001b[1m`wandb login --relogin`\u001b[0m to force relogin\n"
          ]
        },
        {
          "output_type": "display_data",
          "data": {
            "text/plain": [
              "<IPython.core.display.HTML object>"
            ],
            "text/html": [
              "wandb version 0.15.4 is available!  To upgrade, please run:\n",
              " $ pip install wandb --upgrade"
            ]
          },
          "metadata": {}
        },
        {
          "output_type": "display_data",
          "data": {
            "text/plain": [
              "<IPython.core.display.HTML object>"
            ],
            "text/html": [
              "Tracking run with wandb version 0.14.0"
            ]
          },
          "metadata": {}
        },
        {
          "output_type": "display_data",
          "data": {
            "text/plain": [
              "<IPython.core.display.HTML object>"
            ],
            "text/html": [
              "Run data is saved locally in <code>/home/ec2-user/project/wandb/run-20230625_204805-eqo5u746</code>"
            ]
          },
          "metadata": {}
        },
        {
          "output_type": "display_data",
          "data": {
            "text/plain": [
              "<IPython.core.display.HTML object>"
            ],
            "text/html": [
              "Syncing run <strong><a href='https://wandb.ai/comp_chem/uncategorized/runs/eqo5u746' target=\"_blank\">swept-dew-2</a></strong> to <a href='https://wandb.ai/comp_chem/uncategorized' target=\"_blank\">Weights & Biases</a> (<a href='https://wandb.me/run' target=\"_blank\">docs</a>)<br/>"
            ]
          },
          "metadata": {}
        },
        {
          "output_type": "display_data",
          "data": {
            "text/plain": [
              "<IPython.core.display.HTML object>"
            ],
            "text/html": [
              " View project at <a href='https://wandb.ai/comp_chem/uncategorized' target=\"_blank\">https://wandb.ai/comp_chem/uncategorized</a>"
            ]
          },
          "metadata": {}
        },
        {
          "output_type": "display_data",
          "data": {
            "text/plain": [
              "<IPython.core.display.HTML object>"
            ],
            "text/html": [
              " View run at <a href='https://wandb.ai/comp_chem/uncategorized/runs/eqo5u746' target=\"_blank\">https://wandb.ai/comp_chem/uncategorized/runs/eqo5u746</a>"
            ]
          },
          "metadata": {}
        },
        {
          "output_type": "execute_result",
          "data": {
            "text/html": [
              "<button onClick=\"this.nextSibling.style.display='block';this.style.display='none';\">Display W&B run</button><iframe src='https://wandb.ai/comp_chem/uncategorized/runs/eqo5u746?jupyter=true' style='border:none;width:100%;height:420px;display:none;'></iframe>"
            ],
            "text/plain": [
              "<wandb.sdk.wandb_run.Run at 0x7f255ac686d0>"
            ]
          },
          "metadata": {},
          "execution_count": 12
        }
      ]
    },
    {
      "cell_type": "code",
      "source": [
        "# model = GATV2()\n",
        "# train_regression(model, train_loader, val_loader, learning_rate = 1e-03, epochs = 250, wd = 1e-03)"
      ],
      "metadata": {
        "id": "4LGyZnWaycf5"
      },
      "execution_count": null,
      "outputs": []
    },
    {
      "cell_type": "code",
      "source": [
        "model = GATV2()\n",
        "optimizer = torch.optim.Adam(model.parameters(), lr = 1e-03, weight_decay = 1e-03)\n",
        "lr_scheduler = torch.optim.lr_scheduler.ReduceLROnPlateau(\n",
        "            optimizer,\n",
        "            mode = 'min',\n",
        "            factor = 0.7,\n",
        "            patience = 10,\n",
        "            min_lr = 5e-05\n",
        ")\n",
        "\n",
        "criterion = torch.nn.MSELoss()\n",
        "device = torch.device('cuda')\n",
        "model.to(device)"
      ],
      "metadata": {
        "id": "NFn0JATvJNMi"
      },
      "execution_count": null,
      "outputs": []
    },
    {
      "cell_type": "code",
      "source": [
        "\n",
        "\n",
        "def train():\n",
        "    model.train()\n",
        "    train_losses = []\n",
        "    for data in train_loader:  # Iterate in batches over the training dataset.\n",
        "        data.to(device)\n",
        "        out = model(data)\n",
        "        # out = model(data.x, data.edge_index, data.batch)\n",
        "        loss = criterion(out.squeeze(), data.y)  # Compute the loss.\n",
        "        loss.backward()  # Derive gradients.\n",
        "        optimizer.step()  # Update parameters based on gradients.\n",
        "        optimizer.zero_grad()  # Clear gradients.\n",
        "        train_losses.append(loss.item())\n",
        "\n",
        "    model.eval()\n",
        "    val_losses = []\n",
        "    with torch.no_grad():\n",
        "        for data in val_loader:\n",
        "            data.to(device)\n",
        "            out = model(data)\n",
        "            loss = criterion(out.squeeze(), data.y)\n",
        "            val_losses.append(loss.item())\n",
        "        lr_scheduler.step(np.mean(val_losses))\n",
        "\n",
        "    print(f'Train RMSE: {np.mean(np.sqrt(train_losses))}, Valid Losses: {np.mean(np.sqrt(val_losses))}')\n"
      ],
      "metadata": {
        "id": "6ONdxLU-BINm"
      },
      "execution_count": 21,
      "outputs": []
    },
    {
      "cell_type": "code",
      "source": [
        "train_loader"
      ],
      "metadata": {
        "colab": {
          "base_uri": "https://localhost:8080/"
        },
        "id": "oCNLanA7Ugel",
        "outputId": "97c46c06-55aa-47e7-c644-bd98311e0bae"
      },
      "execution_count": null,
      "outputs": [
        {
          "output_type": "execute_result",
          "data": {
            "text/plain": [
              "<torch_geometric.deprecation.DataLoader at 0x7f255a9aaf10>"
            ]
          },
          "metadata": {},
          "execution_count": 21
        }
      ]
    },
    {
      "cell_type": "code",
      "source": [
        "batch = next(iter(train_loader))"
      ],
      "metadata": {
        "id": "lnhup9BxswVs"
      },
      "execution_count": null,
      "outputs": []
    },
    {
      "cell_type": "code",
      "source": [
        "batch"
      ],
      "metadata": {
        "colab": {
          "base_uri": "https://localhost:8080/"
        },
        "id": "KlsaXfxhassq",
        "outputId": "cee8dad7-e319-4597-b972-c69a88dce9a4"
      },
      "execution_count": null,
      "outputs": [
        {
          "output_type": "execute_result",
          "data": {
            "text/plain": [
              "MolDataBatch(x=[439, 45], edge_index=[2, 908], edge_attr=[908, 10], cluster_index=[439], fra_edge_index=[2, 826], fra_edge_attr=[826, 10], y=[32], batch=[439], ptr=[33])"
            ]
          },
          "metadata": {},
          "execution_count": 23
        }
      ]
    },
    {
      "cell_type": "code",
      "source": [
        "conv1 = GATv2ConvEV2(45, 64, 10, 64)"
      ],
      "metadata": {
        "id": "vqPxim9JU-NH"
      },
      "execution_count": null,
      "outputs": []
    },
    {
      "cell_type": "code",
      "source": [
        "x, edge_attr = conv1(x = batch.x, edge_index = batch.edge_index, edge_attr = batch.edge_attr)"
      ],
      "metadata": {
        "id": "CxWFzy5_VHHF"
      },
      "execution_count": null,
      "outputs": []
    },
    {
      "cell_type": "code",
      "source": [
        "from torch_geometric.nn.pool import SAGPooling"
      ],
      "metadata": {
        "id": "IxyRaPpZWB1v"
      },
      "execution_count": null,
      "outputs": []
    },
    {
      "cell_type": "code",
      "source": [
        "poll = SAGPooling(\n",
        "    in_channels = 64,\n",
        "    ratio = 0.5,\n",
        ")"
      ],
      "metadata": {
        "id": "vWTfV9vAWp4g"
      },
      "execution_count": null,
      "outputs": []
    },
    {
      "cell_type": "code",
      "source": [
        "results = poll(x = x, edge_index = batch.edge_index, edge_attr = edge_attr, batch = batch.batch)"
      ],
      "metadata": {
        "id": "NbFeajGFW6fa"
      },
      "execution_count": null,
      "outputs": []
    },
    {
      "cell_type": "code",
      "source": [
        "x.shape"
      ],
      "metadata": {
        "colab": {
          "base_uri": "https://localhost:8080/"
        },
        "id": "RFvYO5HBXPpF",
        "outputId": "f7a5e37b-1baf-44e1-fa91-97b467650c06"
      },
      "execution_count": null,
      "outputs": [
        {
          "output_type": "execute_result",
          "data": {
            "text/plain": [
              "torch.Size([439, 64])"
            ]
          },
          "metadata": {},
          "execution_count": 38
        }
      ]
    },
    {
      "cell_type": "code",
      "source": [
        "results[0].shape"
      ],
      "metadata": {
        "colab": {
          "base_uri": "https://localhost:8080/"
        },
        "id": "PHEne9VgXKx4",
        "outputId": "02097098-374a-4e4d-ad05-38d4761bb246"
      },
      "execution_count": null,
      "outputs": [
        {
          "output_type": "execute_result",
          "data": {
            "text/plain": [
              "torch.Size([228, 64])"
            ]
          },
          "metadata": {},
          "execution_count": 39
        }
      ]
    },
    {
      "cell_type": "code",
      "source": [
        "results[-3]"
      ],
      "metadata": {
        "colab": {
          "base_uri": "https://localhost:8080/"
        },
        "id": "srjuyhubXWf1",
        "outputId": "171f7dad-a665-497b-c9ca-0ab6cc7dca8f"
      },
      "execution_count": null,
      "outputs": [
        {
          "output_type": "execute_result",
          "data": {
            "text/plain": [
              "tensor([ 0,  0,  0,  0,  0,  0,  0,  0,  1,  1,  2,  2,  2,  2,  2,  3,  3,  3,\n",
              "         3,  4,  4,  4,  4,  4,  4,  4,  4,  4,  4,  4,  4,  4,  4,  5,  5,  5,\n",
              "         5,  5,  5,  5,  5,  5,  5,  5,  5,  5,  5,  5,  5,  6,  6,  6,  7,  7,\n",
              "         7,  7,  7,  7,  7,  7,  7,  8,  8,  8,  8,  8,  8,  8,  8,  8,  8,  8,\n",
              "         8,  8,  8,  9,  9,  9,  9,  9,  9,  9, 10, 10, 10, 10, 10, 10, 11, 11,\n",
              "        11, 11, 11, 11, 12, 12, 12, 12, 12, 12, 12, 12, 12, 12, 12, 12, 13, 13,\n",
              "        13, 14, 14, 14, 14, 14, 14, 14, 14, 14, 15, 15, 15, 15, 15, 15, 15, 15,\n",
              "        16, 16, 16, 16, 16, 17, 17, 17, 17, 18, 18, 18, 18, 18, 19, 19, 19, 19,\n",
              "        20, 20, 20, 20, 20, 20, 20, 20, 20, 20, 20, 21, 21, 21, 21, 21, 21, 21,\n",
              "        21, 22, 22, 22, 23, 23, 23, 23, 23, 23, 23, 24, 24, 24, 24, 24, 24, 24,\n",
              "        24, 24, 24, 25, 25, 25, 26, 26, 26, 26, 26, 26, 26, 27, 27, 27, 27, 27,\n",
              "        27, 27, 27, 27, 27, 27, 27, 28, 28, 28, 28, 29, 29, 29, 29, 29, 29, 29,\n",
              "        29, 29, 30, 30, 30, 30, 30, 30, 30, 31, 31, 31])"
            ]
          },
          "metadata": {},
          "execution_count": 41
        }
      ]
    },
    {
      "cell_type": "code",
      "source": [
        "class GATV3(torch.nn.Module):\n",
        "    def __init__(self, hidden_channels = 64, num_node_features = 45, num_edge_features = 10, num_classes = 1, regression = True):\n",
        "        super().__init__()\n",
        "        torch.manual_seed(12345)\n",
        "        self.conv1 = GATv2ConvEV2(num_node_features, hidden_channels, num_edge_features, hidden_channels)\n",
        "        self.conv2 = GATv2ConvEV2(hidden_channels, hidden_channels, hidden_channels, hidden_channels)\n",
        "        self.conv3 = GATv2ConvEV2(hidden_channels, hidden_channels, hidden_channels, hidden_channels)\n",
        "        self.conv4 = GATv2ConvEV2(hidden_channels, hidden_channels, hidden_channels, hidden_channels)\n",
        "\n",
        "        self.regression = regression\n",
        "\n",
        "        self.f_att = FeatureAttention(channels=hidden_channels, reduction = 4)\n",
        "\n",
        "        self.cross_att = GATConv(hidden_channels, hidden_channels, heads=4,\n",
        "                                     dropout = 0.2, add_self_loops=False,\n",
        "                                     negative_slope=0.01, concat=False)\n",
        "\n",
        "        # self.pool = SAGPooling(hidden_channels)\n",
        "\n",
        "        if regression:\n",
        "          self.lin = nn.Sequential(nn.Linear(hidden_channels, 1))\n",
        "        else:\n",
        "          self.lin = ResLayer(hidden_channels, num_classes)\n",
        "\n",
        "    def forward(self, data):\n",
        "        # 1. Obtain node embeddings\n",
        "\n",
        "        '''\n",
        "        mol_vec = global_add_pool(x, batch).relu_()\n",
        "\n",
        "        if self.brics:\n",
        "            # get fragment input\n",
        "            fra_x = data.x\n",
        "            fra_edge_index = data.fra_edge_index\n",
        "            fra_edge_attr = data.fra_edge_attr\n",
        "            cluster = data.cluster_index\n",
        "\n",
        "            fra_x = F.relu(self.lin_a(fra_x))  # (N, 46) -> (N, hidden_channels)\n",
        "            fra_edge_attr = F.relu(self.lin_b(fra_edge_attr))  # (N, 10) -> (N, hidden_channels)\n",
        "\n",
        "            # fragment convs block\n",
        "            for i in range(0, self.num_layers):\n",
        "                fra_h = F.relu(self.atom_convs[i](fra_x, fra_edge_index, fra_edge_attr))\n",
        "                beta = self.lin_gate(torch.cat([fra_x, fra_h, fra_x - fra_h], 1)).sigmoid()\n",
        "                fra_x = beta * fra_x + (1 - beta) * fra_h\n",
        "\n",
        "                if self.f_att:\n",
        "                    fra_x = self.feature_att(fra_x, cluster)\n",
        "\n",
        "            fra_x = global_add_pool(fra_x, cluster).relu_()\n",
        "\n",
        "            # get fragment batch\n",
        "            cluster, perm = consecutive_cluster(cluster)\n",
        "            fra_batch = pool_batch(perm, data.batch)\n",
        "\n",
        "            # molecule-fragment attention\n",
        "            row = torch.arange(fra_batch.size(0), device=batch.device)\n",
        "            mol_fra_index = torch.stack([row, fra_batch], dim=0)\n",
        "            fra_vec = self.cross_att((fra_x, mol_vec), mol_fra_index).relu_()\n",
        "\n",
        "            vectors_concat = list()\n",
        "            vectors_concat.append(mol_vec)\n",
        "            vectors_concat.append(fra_vec)\n",
        "\n",
        "            out = torch.cat(vectors_concat, 1)\n",
        "        '''\n",
        "        x, edge_index, edge_attr, batch = data.x, data.edge_index, data.edge_attr, data.batch\n",
        "        x, edge_attr = self.conv1(x, edge_index, edge_attr = edge_attr)\n",
        "        x = self.f_att(x, batch)\n",
        "        x, edge_attr = F.dropout(x, p = 0.4), F.dropout(edge_attr, p = 0.4)\n",
        "        x, edge_attr = self.conv2(x, edge_index, edge_attr = edge_attr)\n",
        "        x = self.f_att(x, batch)\n",
        "        x, edge_attr = F.dropout(x, p = 0.4), F.dropout(edge_attr, p = 0.4)\n",
        "        x, edge_attr = self.conv3(x, edge_index, edge_attr = edge_attr)\n",
        "        x = self.f_att(x, batch)\n",
        "        x, edge_attr = F.dropout(x, p = 0.4), F.dropout(edge_attr, p = 0.4)\n",
        "        x, edge_attr = self.conv4(x, edge_index, edge_attr = edge_attr)\n",
        "        x = self.f_att(x, batch)\n",
        "        x, edge_attr = F.dropout(x, p = 0.2), F.dropout(edge_attr, p = 0.2)\n",
        "\n",
        "        mol_vec = global_mean_pool(x, batch)\n",
        "\n",
        "        out = mol_vec\n",
        "\n",
        "        out = F.dropout(out, p=0.2, training=self.training)\n",
        "        if self.regression:\n",
        "          out = self.lin(out)\n",
        "        else:\n",
        "          out = F.sigmoid(self.lin(out))\n",
        "\n",
        "        return out\n"
      ],
      "metadata": {
        "id": "qNiGH9mldVq2"
      },
      "execution_count": 22,
      "outputs": []
    },
    {
      "cell_type": "code",
      "source": [
        "model = GATV3()\n",
        "yhat = model(batch)"
      ],
      "metadata": {
        "id": "LiNWMcFqd00g"
      },
      "execution_count": null,
      "outputs": []
    },
    {
      "cell_type": "code",
      "source": [
        "yhat.shape"
      ],
      "metadata": {
        "colab": {
          "base_uri": "https://localhost:8080/"
        },
        "id": "BiKrX3USjZAH",
        "outputId": "9ce61f10-79d3-4ca2-e346-418a9b41334d"
      },
      "execution_count": null,
      "outputs": [
        {
          "output_type": "execute_result",
          "data": {
            "text/plain": [
              "torch.Size([32, 1])"
            ]
          },
          "metadata": {},
          "execution_count": 57
        }
      ]
    },
    {
      "cell_type": "code",
      "source": [
        "model = GATV3()\n",
        "optimizer = torch.optim.Adam(model.parameters(), lr = 1e-03, weight_decay = 1e-02)\n",
        "lr_scheduler = torch.optim.lr_scheduler.ReduceLROnPlateau(\n",
        "            optimizer,\n",
        "            mode = 'min',\n",
        "            factor = 0.7,\n",
        "            patience = 10,\n",
        "            min_lr = 5e-05\n",
        ")\n",
        "\n",
        "criterion = torch.nn.MSELoss()\n",
        "device = torch.device('cuda')\n",
        "model.to(device)\n",
        "\n",
        "def train():\n",
        "    model.train()\n",
        "    train_losses = []\n",
        "    for data in train_loader:  # Iterate in batches over the training dataset.\n",
        "        data.to(device)\n",
        "        out = model(data)\n",
        "        # out = model(data.x, data.edge_index, data.batch)\n",
        "        loss = criterion(out.squeeze(), data.y)  # Compute the loss.\n",
        "        loss.backward()  # Derive gradients.\n",
        "        optimizer.step()  # Update parameters based on gradients.\n",
        "        optimizer.zero_grad()  # Clear gradients.\n",
        "        train_losses.append(loss.item())\n",
        "\n",
        "    model.eval()\n",
        "    val_losses = []\n",
        "    with torch.no_grad():\n",
        "        for data in val_loader:\n",
        "            data.to(device)\n",
        "            out = model(data)\n",
        "            loss = criterion(out.squeeze(), data.y)\n",
        "            val_losses.append(loss.item())\n",
        "        lr_scheduler.step(np.mean(val_losses))\n",
        "\n",
        "    print(f'Train RMSE: {np.mean(np.sqrt(train_losses))}, Valid Losses: {np.mean(np.sqrt(val_losses))}')\n",
        "\n",
        "\n",
        "for epoch in range(1, 150):\n",
        "    train()"
      ],
      "metadata": {
        "colab": {
          "base_uri": "https://localhost:8080/"
        },
        "id": "6otXMX92d-ZU",
        "outputId": "a9e256b3-32aa-49fa-f759-ae673de2a8c7"
      },
      "execution_count": null,
      "outputs": [
        {
          "output_type": "stream",
          "name": "stdout",
          "text": [
            "Train RMSE: 3.400248248124444, Valid Losses: 2.991268308280298\n",
            "Train RMSE: 2.2827690435616343, Valid Losses: 1.8206401418262548\n",
            "Train RMSE: 1.6990140753245646, Valid Losses: 1.4607409038501178\n",
            "Train RMSE: 1.5723290652607669, Valid Losses: 1.3188192792617532\n",
            "Train RMSE: 1.377244443309599, Valid Losses: 1.3349492352891676\n",
            "Train RMSE: 1.251257478049895, Valid Losses: 1.1785874257085263\n",
            "Train RMSE: 1.2116517309992003, Valid Losses: 1.1094417081062748\n",
            "Train RMSE: 1.1754300490480352, Valid Losses: 1.0376966012523667\n",
            "Train RMSE: 1.1621967692379338, Valid Losses: 1.106565663095354\n",
            "Train RMSE: 1.1582052914518466, Valid Losses: 0.9371782549396932\n",
            "Train RMSE: 1.1215483036530811, Valid Losses: 0.9890749444971806\n",
            "Train RMSE: 1.0389021412812165, Valid Losses: 0.9231088329105299\n",
            "Train RMSE: 1.0467408307282062, Valid Losses: 0.9633297009517967\n",
            "Train RMSE: 1.0477751313752968, Valid Losses: 0.9244987815009452\n",
            "Train RMSE: 1.0152549875824426, Valid Losses: 0.9987712555932905\n",
            "Train RMSE: 1.079957898957609, Valid Losses: 0.8985605870381267\n",
            "Train RMSE: 0.9870264776776769, Valid Losses: 0.9610116191815443\n",
            "Train RMSE: 0.978848159380597, Valid Losses: 0.7785560668189473\n",
            "Train RMSE: 0.9702278655767284, Valid Losses: 0.7853132210829477\n",
            "Train RMSE: 0.9705363296145932, Valid Losses: 0.8150728844978011\n",
            "Train RMSE: 0.955103781383021, Valid Losses: 0.9063188073787557\n",
            "Train RMSE: 0.952112572200559, Valid Losses: 0.8299310512786775\n",
            "Train RMSE: 0.9577411034164771, Valid Losses: 0.7697254760141627\n",
            "Train RMSE: 0.9069860829622148, Valid Losses: 0.8368137700179038\n",
            "Train RMSE: 0.9098336159164797, Valid Losses: 0.7509277536962748\n",
            "Train RMSE: 0.900207349401541, Valid Losses: 0.7639052282052216\n",
            "Train RMSE: 0.8802465624829734, Valid Losses: 0.7812245579806201\n",
            "Train RMSE: 0.8945722018993771, Valid Losses: 0.7986114175951763\n",
            "Train RMSE: 0.8883702343215938, Valid Losses: 0.7567619227171475\n",
            "Train RMSE: 0.8564553245764175, Valid Losses: 0.7448261376453075\n",
            "Train RMSE: 0.877968400484667, Valid Losses: 0.7947322882326259\n",
            "Train RMSE: 0.8783036488397185, Valid Losses: 0.7838410009546093\n",
            "Train RMSE: 0.8887799531747467, Valid Losses: 0.7317151771334683\n",
            "Train RMSE: 0.9042416535443333, Valid Losses: 0.842222921286027\n",
            "Train RMSE: 0.9381111697185831, Valid Losses: 0.902834472252857\n",
            "Train RMSE: 0.9024003066853579, Valid Losses: 0.7006051872125311\n",
            "Train RMSE: 0.8815630613295641, Valid Losses: 0.7501369591899111\n",
            "Train RMSE: 0.9095665967545359, Valid Losses: 0.7442176950680843\n",
            "Train RMSE: 0.9147790253728277, Valid Losses: 0.7693897433195859\n",
            "Train RMSE: 0.8548946017804514, Valid Losses: 0.7346013757374675\n",
            "Train RMSE: 0.859306404512484, Valid Losses: 0.6947275731299059\n",
            "Train RMSE: 0.8314549562763309, Valid Losses: 0.7721126805042462\n",
            "Train RMSE: 0.8203904252050804, Valid Losses: 0.6820753352982905\n",
            "Train RMSE: 0.8723041207714728, Valid Losses: 0.7433224759489435\n",
            "Train RMSE: 0.8414778506657821, Valid Losses: 0.8047685513803214\n",
            "Train RMSE: 0.8463835802184622, Valid Losses: 0.7619411873499712\n",
            "Train RMSE: 0.8542203169042876, Valid Losses: 0.7239779014909897\n",
            "Train RMSE: 0.8420143485210176, Valid Losses: 0.8151207444476634\n",
            "Train RMSE: 0.821710664308083, Valid Losses: 0.697701619334379\n",
            "Train RMSE: 0.808826576613088, Valid Losses: 0.7032530328117743\n",
            "Train RMSE: 0.833028123245892, Valid Losses: 0.6980092056818875\n",
            "Train RMSE: 0.8572460915818729, Valid Losses: 0.7203573886173302\n",
            "Train RMSE: 0.8047216085214421, Valid Losses: 0.7077259237534805\n",
            "Train RMSE: 0.8177274169622394, Valid Losses: 0.7831461766013532\n",
            "Train RMSE: 0.7921157812347855, Valid Losses: 0.7594387210281094\n",
            "Train RMSE: 0.7934139641247019, Valid Losses: 0.6901118307827449\n",
            "Train RMSE: 0.7983388144733803, Valid Losses: 0.6369370585686573\n",
            "Train RMSE: 0.8362094738865334, Valid Losses: 0.6684935309324893\n",
            "Train RMSE: 0.8031804648620046, Valid Losses: 0.7224688305646659\n",
            "Train RMSE: 0.8289737745241039, Valid Losses: 0.7423052971380085\n",
            "Train RMSE: 0.8109394183301479, Valid Losses: 0.7046811907727796\n",
            "Train RMSE: 0.8015625690683861, Valid Losses: 0.6450623317455626\n",
            "Train RMSE: 0.7531914976202662, Valid Losses: 0.7229754346472472\n",
            "Train RMSE: 0.7718225151511093, Valid Losses: 0.6413295934959582\n",
            "Train RMSE: 0.7546162180669679, Valid Losses: 0.6382498080629164\n",
            "Train RMSE: 0.7737264519729835, Valid Losses: 0.6314121778539461\n",
            "Train RMSE: 0.7584742950343923, Valid Losses: 0.7315226607180261\n",
            "Train RMSE: 0.7631454003854908, Valid Losses: 0.7341348675668307\n",
            "Train RMSE: 0.7737034456062172, Valid Losses: 0.6579465679601613\n",
            "Train RMSE: 0.781451077926983, Valid Losses: 0.6418799019701977\n",
            "Train RMSE: 0.7731263570352058, Valid Losses: 0.6931964922958763\n",
            "Train RMSE: 0.8364671815968486, Valid Losses: 0.7133450829410845\n",
            "Train RMSE: 0.7282533555852262, Valid Losses: 0.6643535869131106\n",
            "Train RMSE: 0.8029821067166264, Valid Losses: 0.6623047890696435\n",
            "Train RMSE: 0.7736177676716225, Valid Losses: 0.7055198489396651\n",
            "Train RMSE: 0.7434051733837154, Valid Losses: 0.7288054066173357\n",
            "Train RMSE: 0.7837021479269495, Valid Losses: 0.6698889027034831\n",
            "Train RMSE: 0.7433315572840447, Valid Losses: 0.6537847791120797\n",
            "Train RMSE: 0.7601841840207643, Valid Losses: 0.6551808365656782\n",
            "Train RMSE: 0.7652890647584082, Valid Losses: 0.7036253066639288\n",
            "Train RMSE: 0.7462134162678278, Valid Losses: 0.6469136265214904\n",
            "Train RMSE: 0.7415209909033357, Valid Losses: 0.6624443762249383\n",
            "Train RMSE: 0.7135096190245466, Valid Losses: 0.6705207832104949\n",
            "Train RMSE: 0.714278601661379, Valid Losses: 0.6406404184761556\n",
            "Train RMSE: 0.7511591668799992, Valid Losses: 0.6390831018476248\n",
            "Train RMSE: 0.722913172072262, Valid Losses: 0.6079664060348604\n",
            "Train RMSE: 0.7185349454714356, Valid Losses: 0.6177260740447348\n",
            "Train RMSE: 0.7243832102254735, Valid Losses: 0.5721151178882025\n",
            "Train RMSE: 0.6964940675662137, Valid Losses: 0.6114389635758998\n",
            "Train RMSE: 0.7275751474286416, Valid Losses: 0.6750690853370732\n",
            "Train RMSE: 0.7223964845866788, Valid Losses: 0.615636079372159\n",
            "Train RMSE: 0.7495872970840728, Valid Losses: 0.6544413011769036\n",
            "Train RMSE: 0.6905417993690803, Valid Losses: 0.7178385365055812\n",
            "Train RMSE: 0.7707834476795641, Valid Losses: 0.6783698488713721\n",
            "Train RMSE: 0.76012734297284, Valid Losses: 0.6386970061649947\n",
            "Train RMSE: 0.7656651187977084, Valid Losses: 0.6974620990302098\n",
            "Train RMSE: 0.764356587319764, Valid Losses: 0.6747136878404415\n",
            "Train RMSE: 0.7573070519289744, Valid Losses: 0.6034069357987496\n",
            "Train RMSE: 0.7266562027722058, Valid Losses: 0.609856840561464\n",
            "Train RMSE: 0.6983738393791725, Valid Losses: 0.5832420737998268\n",
            "Train RMSE: 0.6917682589968939, Valid Losses: 0.5987748399387449\n",
            "Train RMSE: 0.7012784077743578, Valid Losses: 0.568808598557317\n",
            "Train RMSE: 0.7202655993975999, Valid Losses: 0.5897955049936943\n",
            "Train RMSE: 0.742423040812655, Valid Losses: 0.6128036032260051\n",
            "Train RMSE: 0.7374042020106008, Valid Losses: 0.6168218286325258\n",
            "Train RMSE: 0.7161832515492725, Valid Losses: 0.5789009505483833\n",
            "Train RMSE: 0.7645427447519502, Valid Losses: 0.5985438089950417\n",
            "Train RMSE: 0.6925550809749553, Valid Losses: 0.6228760252401606\n",
            "Train RMSE: 0.662458791076201, Valid Losses: 0.5884122675811689\n",
            "Train RMSE: 0.6875586983873856, Valid Losses: 0.6517260162609589\n",
            "Train RMSE: 0.6617357462106743, Valid Losses: 0.6001138296992016\n",
            "Train RMSE: 0.6816156073132057, Valid Losses: 0.6011573251471621\n",
            "Train RMSE: 0.7022632434351354, Valid Losses: 0.5671818356608169\n",
            "Train RMSE: 0.7215227410317941, Valid Losses: 0.6068653215424068\n",
            "Train RMSE: 0.6880828137430602, Valid Losses: 0.5779605587182556\n",
            "Train RMSE: 0.6669014008702653, Valid Losses: 0.6219627005095346\n",
            "Train RMSE: 0.6615669650524181, Valid Losses: 0.5789373579244558\n",
            "Train RMSE: 0.6899403134075789, Valid Losses: 0.58322521656928\n",
            "Train RMSE: 0.7013298535140051, Valid Losses: 0.5887614631305653\n",
            "Train RMSE: 0.6622571334535607, Valid Losses: 0.6112265579792132\n",
            "Train RMSE: 0.6836415701441703, Valid Losses: 0.5708872867833931\n",
            "Train RMSE: 0.7021520495855094, Valid Losses: 0.598392936897937\n",
            "Train RMSE: 0.6883693944307597, Valid Losses: 0.5937422414282284\n",
            "Train RMSE: 0.6661074559150899, Valid Losses: 0.5431525449148674\n",
            "Train RMSE: 0.6600616494878799, Valid Losses: 0.592986015345401\n",
            "Train RMSE: 0.6635981527725584, Valid Losses: 0.6099332109264106\n",
            "Train RMSE: 0.6708858149873611, Valid Losses: 0.6250799302701572\n",
            "Train RMSE: 0.6614953766399416, Valid Losses: 0.6366874900794371\n",
            "Train RMSE: 0.6493317860393287, Valid Losses: 0.5439345454420896\n",
            "Train RMSE: 0.6681551918271392, Valid Losses: 0.6013797979956548\n",
            "Train RMSE: 0.6581354197387624, Valid Losses: 0.5671133933420398\n",
            "Train RMSE: 0.6453663603785977, Valid Losses: 0.5783080950405112\n",
            "Train RMSE: 0.6634215053558195, Valid Losses: 0.4978611024466695\n",
            "Train RMSE: 0.6321888699876276, Valid Losses: 0.5551293013972826\n",
            "Train RMSE: 0.6409429499807693, Valid Losses: 0.5462476469470867\n",
            "Train RMSE: 0.6274425085398588, Valid Losses: 0.6237427704156705\n",
            "Train RMSE: 0.671170204626409, Valid Losses: 0.5788562563056197\n",
            "Train RMSE: 0.6469435746503185, Valid Losses: 0.6266201451267255\n",
            "Train RMSE: 0.684897051587173, Valid Losses: 0.5919540311249523\n",
            "Train RMSE: 0.6747806338301244, Valid Losses: 0.6333569067677335\n",
            "Train RMSE: 0.6062688347062669, Valid Losses: 0.5988134134702945\n",
            "Train RMSE: 0.6732282395314171, Valid Losses: 0.5739796993674977\n",
            "Train RMSE: 0.6668494847025207, Valid Losses: 0.5786409201767101\n",
            "Train RMSE: 0.6521670292329665, Valid Losses: 0.5914205834811936\n",
            "Train RMSE: 0.6519149503767006, Valid Losses: 0.6211949149949949\n",
            "Train RMSE: 0.6176419325234923, Valid Losses: 0.5800561113068813\n",
            "Train RMSE: 0.6306615030182073, Valid Losses: 0.5488100980099236\n",
            "Train RMSE: 0.6149118856237945, Valid Losses: 0.5438583177637579\n",
            "Train RMSE: 0.6063010167549355, Valid Losses: 0.5294025399284635\n"
          ]
        }
      ]
    },
    {
      "cell_type": "code",
      "source": [
        "for epoch in range(1, 150):\n",
        "    train()"
      ],
      "metadata": {
        "colab": {
          "base_uri": "https://localhost:8080/"
        },
        "id": "aXbJ0E9cqvYj",
        "outputId": "6eac0cec-a4a9-4ac2-9b3d-a9a1fa9dd7ca"
      },
      "execution_count": null,
      "outputs": [
        {
          "output_type": "stream",
          "name": "stdout",
          "text": [
            "Train RMSE: 0.6937379033765744, Valid Losses: 0.5179732512345189\n",
            "Train RMSE: 0.6800312429451907, Valid Losses: 0.5653500727598703\n",
            "Train RMSE: 0.6036149992319468, Valid Losses: 0.5779908563101285\n",
            "Train RMSE: 0.6411733088402959, Valid Losses: 0.5746442992547252\n",
            "Train RMSE: 0.6451669579735426, Valid Losses: 0.5710047845411389\n",
            "Train RMSE: 0.615684936223692, Valid Losses: 0.5826755585333527\n",
            "Train RMSE: 0.6177300414934402, Valid Losses: 0.5486188112138968\n",
            "Train RMSE: 0.6420171511953122, Valid Losses: 0.5598852368125777\n",
            "Train RMSE: 0.6018550749898338, Valid Losses: 0.5839248557479892\n",
            "Train RMSE: 0.5894411015179676, Valid Losses: 0.5387001497876084\n",
            "Train RMSE: 0.5891836826493689, Valid Losses: 0.5455377357919855\n",
            "Train RMSE: 0.6398945443934864, Valid Losses: 0.5200548831707131\n",
            "Train RMSE: 0.6295798339459001, Valid Losses: 0.5524677006423165\n",
            "Train RMSE: 0.6322705993185701, Valid Losses: 0.5760578557568532\n",
            "Train RMSE: 0.5903749686352014, Valid Losses: 0.5519906506588834\n",
            "Train RMSE: 0.6186243071391648, Valid Losses: 0.5408870387078933\n",
            "Train RMSE: 0.6085657931061255, Valid Losses: 0.5706232339639922\n",
            "Train RMSE: 0.6053724927984603, Valid Losses: 0.603676299590451\n",
            "Train RMSE: 0.6117600424436361, Valid Losses: 0.5136700434468469\n",
            "Train RMSE: 0.6271679326323635, Valid Losses: 0.5641745607478326\n",
            "Train RMSE: 0.5990097155536808, Valid Losses: 0.5830406977443102\n",
            "Train RMSE: 0.6056423545195836, Valid Losses: 0.5961954429271236\n",
            "Train RMSE: 0.6175550127671474, Valid Losses: 0.5602951843869339\n",
            "Train RMSE: 0.5979246463646917, Valid Losses: 0.5574089315018724\n",
            "Train RMSE: 0.5819551798190612, Valid Losses: 0.5444921867688177\n",
            "Train RMSE: 0.5993284764876123, Valid Losses: 0.5062778314961297\n",
            "Train RMSE: 0.574015404222579, Valid Losses: 0.4995317909365351\n",
            "Train RMSE: 0.632283152117804, Valid Losses: 0.5745713471713447\n",
            "Train RMSE: 0.6037516123892621, Valid Losses: 0.528781697674758\n",
            "Train RMSE: 0.5795900313351768, Valid Losses: 0.5502835277382891\n",
            "Train RMSE: 0.6008833600385632, Valid Losses: 0.5939560070812113\n",
            "Train RMSE: 0.5891828889187235, Valid Losses: 0.5764005418130336\n",
            "Train RMSE: 0.585169359142765, Valid Losses: 0.5517174997992044\n",
            "Train RMSE: 0.5746782639706624, Valid Losses: 0.5596383434435908\n",
            "Train RMSE: 0.5684888630394391, Valid Losses: 0.5642921410328684\n",
            "Train RMSE: 0.5924340298244882, Valid Losses: 0.5351539517267088\n",
            "Train RMSE: 0.602964139067822, Valid Losses: 0.5662276192520727\n",
            "Train RMSE: 0.5757802722149656, Valid Losses: 0.5688556894630508\n",
            "Train RMSE: 0.5827409319982703, Valid Losses: 0.5836402344112126\n",
            "Train RMSE: 0.585448783822957, Valid Losses: 0.5719606058818295\n",
            "Train RMSE: 0.5722623434027445, Valid Losses: 0.5410796158574661\n",
            "Train RMSE: 0.5530268853059476, Valid Losses: 0.5743603643013561\n",
            "Train RMSE: 0.5577366558395929, Valid Losses: 0.5583031784945244\n",
            "Train RMSE: 0.5654582673573716, Valid Losses: 0.5281885029963841\n",
            "Train RMSE: 0.5615247572876189, Valid Losses: 0.589648658619066\n",
            "Train RMSE: 0.5624648660815394, Valid Losses: 0.5718397556033915\n",
            "Train RMSE: 0.5556996291263387, Valid Losses: 0.5362780209402541\n",
            "Train RMSE: 0.588907349941578, Valid Losses: 0.5438076022997386\n",
            "Train RMSE: 0.589885848345874, Valid Losses: 0.5535692627404989\n",
            "Train RMSE: 0.5496507251916425, Valid Losses: 0.5508285292813655\n",
            "Train RMSE: 0.5386211267627029, Valid Losses: 0.5294949865438076\n",
            "Train RMSE: 0.5739604446760105, Valid Losses: 0.566799941261715\n",
            "Train RMSE: 0.5682956424746415, Valid Losses: 0.577796424165874\n",
            "Train RMSE: 0.5541503001401661, Valid Losses: 0.563956616977487\n",
            "Train RMSE: 0.5973447082971125, Valid Losses: 0.5470724649743987\n",
            "Train RMSE: 0.5699897279760693, Valid Losses: 0.6085355408591122\n",
            "Train RMSE: 0.5753115285763891, Valid Losses: 0.5959464042143773\n",
            "Train RMSE: 0.5718466128607043, Valid Losses: 0.5624881464196312\n",
            "Train RMSE: 0.59955687039159, Valid Losses: 0.606666849160054\n",
            "Train RMSE: 0.5718374930995714, Valid Losses: 0.5453354099130638\n",
            "Train RMSE: 0.5645619852782902, Valid Losses: 0.5397898538394825\n",
            "Train RMSE: 0.558608073305857, Valid Losses: 0.5723048175525609\n",
            "Train RMSE: 0.5435896154358554, Valid Losses: 0.5663600769995409\n",
            "Train RMSE: 0.5469737188645889, Valid Losses: 0.5402055650480891\n",
            "Train RMSE: 0.5640266517921049, Valid Losses: 0.5547061326381423\n",
            "Train RMSE: 0.5635890433119684, Valid Losses: 0.5856369020312922\n",
            "Train RMSE: 0.5811378184102998, Valid Losses: 0.5592147957682728\n",
            "Train RMSE: 0.5331866683664171, Valid Losses: 0.5712029938567118\n",
            "Train RMSE: 0.5478319598838616, Valid Losses: 0.5839927996117663\n",
            "Train RMSE: 0.5775207350473346, Valid Losses: 0.5320592646317971\n",
            "Train RMSE: 0.5528246166615883, Valid Losses: 0.570856606032765\n",
            "Train RMSE: 0.5604143149487086, Valid Losses: 0.5585839266901848\n",
            "Train RMSE: 0.5569778558379073, Valid Losses: 0.5499643042740767\n",
            "Train RMSE: 0.5664352740512728, Valid Losses: 0.5699423605469367\n",
            "Train RMSE: 0.5560784321251842, Valid Losses: 0.5402775449648112\n",
            "Train RMSE: 0.5399442069784768, Valid Losses: 0.5525919682936257\n",
            "Train RMSE: 0.544236747661804, Valid Losses: 0.5528464433352471\n",
            "Train RMSE: 0.5664045940611484, Valid Losses: 0.5512164307433427\n",
            "Train RMSE: 0.5370918021190675, Valid Losses: 0.5628804371286834\n",
            "Train RMSE: 0.535526278683793, Valid Losses: 0.5726191168354323\n",
            "Train RMSE: 0.5638821274066717, Valid Losses: 0.5565221051781561\n",
            "Train RMSE: 0.554668932889298, Valid Losses: 0.5863924084696446\n",
            "Train RMSE: 0.5549563456518269, Valid Losses: 0.5489404144468667\n",
            "Train RMSE: 0.5378729970075167, Valid Losses: 0.6008787752331212\n",
            "Train RMSE: 0.5412412996239007, Valid Losses: 0.5578576739370322\n",
            "Train RMSE: 0.5441059855649455, Valid Losses: 0.5484895833182426\n",
            "Train RMSE: 0.5455469429844307, Valid Losses: 0.5039271023327418\n",
            "Train RMSE: 0.5489374847494987, Valid Losses: 0.5442466152742239\n",
            "Train RMSE: 0.5551467437480949, Valid Losses: 0.5320701723150366\n",
            "Train RMSE: 0.529784422903332, Valid Losses: 0.5688420462920734\n",
            "Train RMSE: 0.5845920800010567, Valid Losses: 0.5731747773998342\n",
            "Train RMSE: 0.5481413067755148, Valid Losses: 0.565690477085232\n",
            "Train RMSE: 0.5449711676455657, Valid Losses: 0.57810788491138\n",
            "Train RMSE: 0.5860443410728182, Valid Losses: 0.5679054730220775\n",
            "Train RMSE: 0.5574425957010996, Valid Losses: 0.5633231380756119\n",
            "Train RMSE: 0.5609560716249657, Valid Losses: 0.5793371670494497\n",
            "Train RMSE: 0.563469234843939, Valid Losses: 0.5523886215684889\n",
            "Train RMSE: 0.548285170014942, Valid Losses: 0.5709828813470026\n",
            "Train RMSE: 0.5609468586603615, Valid Losses: 0.5375265606099511\n",
            "Train RMSE: 0.5220726723754554, Valid Losses: 0.5756373342492838\n",
            "Train RMSE: 0.5423262319257289, Valid Losses: 0.5825210741221354\n",
            "Train RMSE: 0.5489430643813037, Valid Losses: 0.5648639081085677\n",
            "Train RMSE: 0.5599634207969807, Valid Losses: 0.553525330918271\n",
            "Train RMSE: 0.5483721664893316, Valid Losses: 0.5441305591717761\n",
            "Train RMSE: 0.5265788401031284, Valid Losses: 0.5532578707634104\n",
            "Train RMSE: 0.5638842006402789, Valid Losses: 0.5489063123990745\n",
            "Train RMSE: 0.554140257191458, Valid Losses: 0.547638766453999\n",
            "Train RMSE: 0.5535248991200802, Valid Losses: 0.5599109801678107\n",
            "Train RMSE: 0.5349926806368945, Valid Losses: 0.5396780861512028\n",
            "Train RMSE: 0.5295833680698302, Valid Losses: 0.5756157137060639\n",
            "Train RMSE: 0.5101874786392603, Valid Losses: 0.5121280894852422\n",
            "Train RMSE: 0.5230013661151992, Valid Losses: 0.546108327566956\n",
            "Train RMSE: 0.536128358342957, Valid Losses: 0.5360351494906205\n",
            "Train RMSE: 0.5320329924355927, Valid Losses: 0.5369759510470988\n",
            "Train RMSE: 0.5322434402282561, Valid Losses: 0.5049059709110296\n",
            "Train RMSE: 0.5261231807371128, Valid Losses: 0.5199260343107369\n",
            "Train RMSE: 0.5392108006433628, Valid Losses: 0.5185820492734662\n",
            "Train RMSE: 0.5358028207966272, Valid Losses: 0.5689998024639601\n",
            "Train RMSE: 0.5314574299524661, Valid Losses: 0.5647380690312278\n",
            "Train RMSE: 0.5522901083916463, Valid Losses: 0.5048587274188762\n",
            "Train RMSE: 0.5352377219108572, Valid Losses: 0.5232827327058182\n",
            "Train RMSE: 0.5353325845995367, Valid Losses: 0.549368816242204\n",
            "Train RMSE: 0.5387824943507245, Valid Losses: 0.5541797121992813\n",
            "Train RMSE: 0.5291843569199325, Valid Losses: 0.5449627021126274\n",
            "Train RMSE: 0.5501506755934799, Valid Losses: 0.570489905714018\n",
            "Train RMSE: 0.5358407424978816, Valid Losses: 0.5578916195206932\n",
            "Train RMSE: 0.5489519839428806, Valid Losses: 0.5655703658370606\n",
            "Train RMSE: 0.5585885150452936, Valid Losses: 0.5449902032931796\n",
            "Train RMSE: 0.5606251430265462, Valid Losses: 0.5746430891530346\n",
            "Train RMSE: 0.5480455410291709, Valid Losses: 0.5930362546628927\n",
            "Train RMSE: 0.5463447855016312, Valid Losses: 0.5560804183526395\n",
            "Train RMSE: 0.5215216008094568, Valid Losses: 0.5811427472429165\n",
            "Train RMSE: 0.5075109530823847, Valid Losses: 0.5714541308424079\n",
            "Train RMSE: 0.5547167556293383, Valid Losses: 0.6117985810849209\n",
            "Train RMSE: 0.5304857757011083, Valid Losses: 0.5831082902197346\n",
            "Train RMSE: 0.5221241208795256, Valid Losses: 0.5684458084258637\n",
            "Train RMSE: 0.5397903927355225, Valid Losses: 0.5518327051474395\n",
            "Train RMSE: 0.5530956408895448, Valid Losses: 0.5622306369202303\n",
            "Train RMSE: 0.5436361149192329, Valid Losses: 0.5632014233409942\n",
            "Train RMSE: 0.5241952344754544, Valid Losses: 0.6053078002871719\n",
            "Train RMSE: 0.5223208858234162, Valid Losses: 0.5546332472706966\n",
            "Train RMSE: 0.5130306562277497, Valid Losses: 0.5579607528469065\n",
            "Train RMSE: 0.5339375484911657, Valid Losses: 0.579479584027806\n",
            "Train RMSE: 0.5551991683177525, Valid Losses: 0.5724887915800247\n",
            "Train RMSE: 0.5237225142149858, Valid Losses: 0.5318643191323051\n",
            "Train RMSE: 0.5334787252118806, Valid Losses: 0.5340945373621157\n",
            "Train RMSE: 0.5230493239444314, Valid Losses: 0.5625722488943975\n",
            "Train RMSE: 0.5697436610863424, Valid Losses: 0.57052819268674\n",
            "Train RMSE: 0.5501470668704311, Valid Losses: 0.5514882548968096\n"
          ]
        }
      ]
    },
    {
      "cell_type": "code",
      "source": [
        "batch"
      ],
      "metadata": {
        "colab": {
          "base_uri": "https://localhost:8080/"
        },
        "id": "aofRQLrlz8_0",
        "outputId": "55617a54-95e9-49ee-cb8f-b553bb86420f"
      },
      "execution_count": null,
      "outputs": [
        {
          "output_type": "execute_result",
          "data": {
            "text/plain": [
              "MolDataBatch(x=[439, 45], edge_index=[2, 908], edge_attr=[908, 10], cluster_index=[439], fra_edge_index=[2, 826], fra_edge_attr=[826, 10], y=[32], batch=[439], ptr=[33])"
            ]
          },
          "metadata": {},
          "execution_count": 66
        }
      ]
    },
    {
      "cell_type": "code",
      "source": [
        "class GATV4(torch.nn.Module):\n",
        "    def __init__(self, hidden_channels = 64, num_node_features = 45, num_edge_features = 10, num_classes = 1, regression = True, n_heads = 4):\n",
        "        super().__init__()\n",
        "        torch.manual_seed(12345)\n",
        "        self.conv1 = MultiHeadGATv2ConvEV2(num_node_features, hidden_channels, num_edge_features, hidden_channels, n_heads = n_heads)\n",
        "        self.conv2 = MultiHeadGATv2ConvEV2(hidden_channels, hidden_channels, hidden_channels, hidden_channels, n_heads = n_heads)\n",
        "        self.conv3 = MultiHeadGATv2ConvEV2(hidden_channels, hidden_channels, hidden_channels, hidden_channels, n_heads = n_heads)\n",
        "        self.conv4 = MultiHeadGATv2ConvEV2(hidden_channels, hidden_channels, hidden_channels, hidden_channels, n_heads = n_heads)\n",
        "\n",
        "        self.regression = regression\n",
        "\n",
        "        self.f_att = FeatureAttention(channels=hidden_channels, reduction = 4)\n",
        "\n",
        "        self.res = ResLayer(hidden_channels, hidden_channels)\n",
        "        # self.pool = SAGPooling(hidden_channels)\n",
        "\n",
        "        if regression:\n",
        "          self.lin = nn.Sequential(nn.Linear(hidden_channels, 1))\n",
        "        else:\n",
        "          self.lin = ResLayer(hidden_channels, num_classes)\n",
        "\n",
        "    def forward(self, data):\n",
        "        # 1. Obtain node embeddings\n",
        "\n",
        "        x, edge_index, edge_attr, batch = data.x, data.edge_index, data.edge_attr, data.batch\n",
        "        x, edge_attr = self.conv1(x, edge_index, edge_attr = edge_attr)\n",
        "        x = self.f_att(x, batch)\n",
        "\n",
        "        # mol_vec = global_mean_pool(x, batch)\n",
        "\n",
        "        x, edge_attr = F.dropout(x, p = 0.4), F.dropout(edge_attr, p = 0.4)\n",
        "        x, edge_attr = self.conv2(x, edge_index, edge_attr = edge_attr)\n",
        "        x = self.f_att(x, batch)\n",
        "\n",
        "        # mol_vec += global_mean_pool(x, batch)\n",
        "\n",
        "        x, edge_attr = F.dropout(x, p = 0.4), F.dropout(edge_attr, p = 0.4)\n",
        "        x, edge_attr = self.conv3(x, edge_index, edge_attr = edge_attr)\n",
        "        x = self.f_att(x, batch)\n",
        "\n",
        "        # mol_vec += global_mean_pool(x, batch)\n",
        "\n",
        "        x, edge_attr = F.dropout(x, p = 0.4), F.dropout(edge_attr, p = 0.4)\n",
        "        x, edge_attr = self.conv4(x, edge_index, edge_attr = edge_attr)\n",
        "        x = self.f_att(x, batch)\n",
        "        x, edge_attr = F.dropout(x, p = 0.2), F.dropout(edge_attr, p = 0.2)\n",
        "\n",
        "        # results = self.pool(x, edge_index = edge_index, edge_attr = edge_attr, batch = batch)\n",
        "\n",
        "        # x, new_batch = results[0], results[-3]\n",
        "        mol_vec = global_mean_pool(x, batch)\n",
        "\n",
        "        # out = self.res(mol_vec)\n",
        "        out = mol_vec\n",
        "        out = F.dropout(out, p=0.2, training=self.training)\n",
        "        if self.regression:\n",
        "          out = self.lin(out)\n",
        "        else:\n",
        "          out = F.sigmoid(self.lin(out))\n",
        "\n",
        "        return out\n"
      ],
      "metadata": {
        "id": "l6eP1vqvvLbN"
      },
      "execution_count": null,
      "outputs": []
    },
    {
      "cell_type": "code",
      "source": [
        "model = GATV4(hidden_channels= 128)\n",
        "model(batch)"
      ],
      "metadata": {
        "id": "Sl9LZd0702Gz"
      },
      "execution_count": null,
      "outputs": []
    },
    {
      "cell_type": "code",
      "source": [
        "len()"
      ],
      "metadata": {
        "colab": {
          "base_uri": "https://localhost:8080/"
        },
        "id": "r_Gvi7GiFSP_",
        "outputId": "6c33de3e-725e-43b6-895c-e6f935d0393b"
      },
      "execution_count": 124,
      "outputs": [
        {
          "output_type": "execute_result",
          "data": {
            "text/plain": [
              "3"
            ]
          },
          "metadata": {},
          "execution_count": 124
        }
      ]
    },
    {
      "cell_type": "code",
      "source": [
        "model = GATV4(hidden_channels = 128)\n",
        "optimizer = torch.optim.Adam(model.parameters(), lr = 1e-03, weight_decay = 1e-03)\n",
        "# lr_scheduler = torch.optim.lr_scheduler.ReduceLROnPlateau(\n",
        "#             optimizer,\n",
        "#             mode = 'min',\n",
        "#             factor = 0.7,\n",
        "#             patience = 10,\n",
        "#             min_lr = 5e-05\n",
        "# )\n",
        "\n",
        "lr_scheduler = torch.optim.lr_scheduler.OneCycleLR(\n",
        "    optimizer,\n",
        "    max_lr = 1e-03,\n",
        "    epochs = 250,\n",
        "    steps_per_epoch = len(train_loader)\n",
        ")\n",
        "\n",
        "criterion = torch.nn.MSELoss()\n",
        "device = torch.device('cuda')\n",
        "model.to(device)\n",
        "\n",
        "def train():\n",
        "    model.train()\n",
        "    train_losses = []\n",
        "    for data in train_loader:  # Iterate in batches over the training dataset.\n",
        "        data.to(device)\n",
        "        out = model(data)\n",
        "        # out = model(data.x, data.edge_index, data.batch)\n",
        "        loss = criterion(out.squeeze(), data.y)  # Compute the loss.\n",
        "        loss.backward()  # Derive gradients.\n",
        "        optimizer.step()  # Update parameters based on gradients.\n",
        "        optimizer.zero_grad()  # Clear gradients.\n",
        "        train_losses.append(loss.item())\n",
        "\n",
        "    model.eval()\n",
        "    val_losses = []\n",
        "    with torch.no_grad():\n",
        "        for data in val_loader:\n",
        "            data.to(device)\n",
        "            out = model(data)\n",
        "            loss = criterion(out.squeeze(), data.y)\n",
        "            val_losses.append(loss.item())\n",
        "        lr_scheduler.step(np.mean(val_losses))\n",
        "\n",
        "    print(f'Train RMSE: {np.mean(np.sqrt(train_losses))}, Valid Losses: {np.mean(np.sqrt(val_losses))}')\n",
        "\n",
        "\n",
        "for epoch in range(1, 250):\n",
        "    train()"
      ],
      "metadata": {
        "colab": {
          "base_uri": "https://localhost:8080/"
        },
        "id": "zC4cD3iFvu4Q",
        "outputId": "ac81978e-09c3-49a5-d458-16bd76b5d1ff"
      },
      "execution_count": null,
      "outputs": [
        {
          "output_type": "stream",
          "name": "stdout",
          "text": [
            "Train RMSE: 2.7149897921995327, Valid Losses: 2.32883527083911\n",
            "Train RMSE: 1.8061926069451855, Valid Losses: 2.206508559527851\n",
            "Train RMSE: 1.544204898167386, Valid Losses: 1.711243951495466\n",
            "Train RMSE: 1.416636652663055, Valid Losses: 1.5511585716226317\n",
            "Train RMSE: 1.3092830463948033, Valid Losses: 1.58008059084729\n",
            "Train RMSE: 1.3068012533620135, Valid Losses: 1.3168007080862547\n",
            "Train RMSE: 1.2165544446052032, Valid Losses: 1.1047186313327764\n",
            "Train RMSE: 1.147266531153502, Valid Losses: 1.3711730420584605\n",
            "Train RMSE: 1.0534742124852525, Valid Losses: 1.086479976739377\n",
            "Train RMSE: 1.0374653361819093, Valid Losses: 1.0097324926372537\n",
            "Train RMSE: 1.0301041478518151, Valid Losses: 0.8463671132875785\n",
            "Train RMSE: 0.9810862363407924, Valid Losses: 1.0139828257502657\n",
            "Train RMSE: 0.9168565312025015, Valid Losses: 0.7597968225709\n",
            "Train RMSE: 0.9289993415888591, Valid Losses: 0.7742265584272746\n",
            "Train RMSE: 0.8611756809609681, Valid Losses: 0.8394028537939329\n",
            "Train RMSE: 0.9098639061475758, Valid Losses: 0.8400852366416593\n",
            "Train RMSE: 0.936702494275647, Valid Losses: 0.8878591868552158\n",
            "Train RMSE: 0.8706771765684351, Valid Losses: 0.8388410032583186\n",
            "Train RMSE: 0.8656498582522287, Valid Losses: 0.8140687571624192\n",
            "Train RMSE: 0.8741621733244392, Valid Losses: 0.8012410113737048\n",
            "Train RMSE: 0.8297134651571718, Valid Losses: 0.7611974944101464\n",
            "Train RMSE: 0.837816366204584, Valid Losses: 0.8115661149124618\n",
            "Train RMSE: 0.9033939990174088, Valid Losses: 0.6736250506767882\n",
            "Train RMSE: 0.8615402708367199, Valid Losses: 0.7324554058167891\n",
            "Train RMSE: 0.8532190827705256, Valid Losses: 0.7523154634576822\n",
            "Train RMSE: 0.8171546173672369, Valid Losses: 0.8259161917307629\n",
            "Train RMSE: 0.7714541432170832, Valid Losses: 0.7090498279210762\n",
            "Train RMSE: 0.8482024768604626, Valid Losses: 0.8883232646881875\n",
            "Train RMSE: 0.8305200753025056, Valid Losses: 0.7300480080442163\n",
            "Train RMSE: 0.811157877799913, Valid Losses: 0.7188890142920155\n",
            "Train RMSE: 0.8304094046592291, Valid Losses: 0.7656570993673818\n",
            "Train RMSE: 0.821423676102164, Valid Losses: 0.7995290367526068\n",
            "Train RMSE: 0.7859941054333026, Valid Losses: 0.7355509426881304\n",
            "Train RMSE: 0.8248161292916708, Valid Losses: 0.7164729022749119\n",
            "Train RMSE: 0.841838127711764, Valid Losses: 0.7505151572497286\n",
            "Train RMSE: 0.8004447183795075, Valid Losses: 0.7478465998408266\n",
            "Train RMSE: 0.7979932909034158, Valid Losses: 0.717759965337613\n",
            "Train RMSE: 0.7759185514863477, Valid Losses: 0.7021787864138365\n",
            "Train RMSE: 0.7678960280985607, Valid Losses: 0.7223905672283023\n",
            "Train RMSE: 0.7368623885135996, Valid Losses: 0.6976997889950664\n",
            "Train RMSE: 0.7308716632475054, Valid Losses: 0.6745418063039661\n",
            "Train RMSE: 0.7595012421059868, Valid Losses: 0.6787990971638003\n",
            "Train RMSE: 0.7691094485298493, Valid Losses: 0.643604023385483\n",
            "Train RMSE: 0.7657690495347264, Valid Losses: 0.7133023763645909\n",
            "Train RMSE: 0.7312171128444471, Valid Losses: 0.7267602209315555\n",
            "Train RMSE: 0.7064870174693024, Valid Losses: 0.7012456664226916\n",
            "Train RMSE: 0.7167133888378199, Valid Losses: 0.699023420286286\n",
            "Train RMSE: 0.7116068201927364, Valid Losses: 0.7240332479078433\n",
            "Train RMSE: 0.7327930827878776, Valid Losses: 0.7078036695424258\n",
            "Train RMSE: 0.7351821300933217, Valid Losses: 0.7515703300708404\n",
            "Train RMSE: 0.720012828488658, Valid Losses: 0.6869647635321895\n",
            "Train RMSE: 0.7140912912536694, Valid Losses: 0.6776651706347656\n",
            "Train RMSE: 0.7182298368312958, Valid Losses: 0.6946849314947133\n",
            "Train RMSE: 0.7044602678866043, Valid Losses: 0.6698302013152616\n",
            "Train RMSE: 0.6840193724186463, Valid Losses: 0.682821921385431\n",
            "Train RMSE: 0.7040483644517861, Valid Losses: 0.6474451827029732\n",
            "Train RMSE: 0.6354364832777243, Valid Losses: 0.6520634934075807\n",
            "Train RMSE: 0.6623483668229804, Valid Losses: 0.672014158374036\n",
            "Train RMSE: 0.6750965733441545, Valid Losses: 0.7065763893443702\n",
            "Train RMSE: 0.6394094721623985, Valid Losses: 0.6281411825941347\n",
            "Train RMSE: 0.6848259492686285, Valid Losses: 0.6872804964553414\n",
            "Train RMSE: 0.655592087542349, Valid Losses: 0.6544554697448185\n",
            "Train RMSE: 0.6497074344441137, Valid Losses: 0.6052910274335499\n",
            "Train RMSE: 0.7071816048895571, Valid Losses: 0.6557700715153265\n",
            "Train RMSE: 0.7231010028396512, Valid Losses: 0.707511847064498\n",
            "Train RMSE: 0.6258704896941998, Valid Losses: 0.635343905362667\n",
            "Train RMSE: 0.6709662113626167, Valid Losses: 0.6793945551276459\n",
            "Train RMSE: 0.6609525946463897, Valid Losses: 0.612395131885709\n",
            "Train RMSE: 0.6557366062309018, Valid Losses: 0.6352392984595416\n",
            "Train RMSE: 0.6461783658701388, Valid Losses: 0.6403223472767519\n",
            "Train RMSE: 0.6925583711041384, Valid Losses: 0.6561033962832086\n",
            "Train RMSE: 0.6729499532564751, Valid Losses: 0.6357307259397149\n",
            "Train RMSE: 0.633326803852568, Valid Losses: 0.6317378105133733\n",
            "Train RMSE: 0.6637928563270676, Valid Losses: 0.6223570752143416\n",
            "Train RMSE: 0.6674084987339401, Valid Losses: 0.6135945742621125\n",
            "Train RMSE: 0.6446465144262553, Valid Losses: 0.6028120420540313\n",
            "Train RMSE: 0.6666941985970114, Valid Losses: 0.6796829690585396\n",
            "Train RMSE: 0.6081935353458785, Valid Losses: 0.6263933801082822\n",
            "Train RMSE: 0.601657160766161, Valid Losses: 0.6038819615219514\n",
            "Train RMSE: 0.6176341568497693, Valid Losses: 0.6470562121429358\n",
            "Train RMSE: 0.6080671869720065, Valid Losses: 0.6383149820482379\n",
            "Train RMSE: 0.5986266171740402, Valid Losses: 0.6289995832165602\n",
            "Train RMSE: 0.6350882027538841, Valid Losses: 0.6428770535833378\n",
            "Train RMSE: 0.6045704024244075, Valid Losses: 0.5859969901743617\n",
            "Train RMSE: 0.6492588163821258, Valid Losses: 0.6432892254572998\n",
            "Train RMSE: 0.6361932129607758, Valid Losses: 0.6391093407940727\n",
            "Train RMSE: 0.581581689921079, Valid Losses: 0.6241289907290228\n",
            "Train RMSE: 0.6202915118683912, Valid Losses: 0.6257967927093449\n",
            "Train RMSE: 0.6257752306129618, Valid Losses: 0.6261371382301476\n",
            "Train RMSE: 0.6232017316098584, Valid Losses: 0.6770097899639864\n",
            "Train RMSE: 0.6215944008015853, Valid Losses: 0.6469613788665369\n",
            "Train RMSE: 0.628261734140925, Valid Losses: 0.6820919804735662\n",
            "Train RMSE: 0.6102975077437122, Valid Losses: 0.6848771170846053\n",
            "Train RMSE: 0.6662129004941575, Valid Losses: 0.6265441789585187\n",
            "Train RMSE: 0.629581457703612, Valid Losses: 0.6631716065856739\n",
            "Train RMSE: 0.6093032733192603, Valid Losses: 0.5762710344911609\n",
            "Train RMSE: 0.6067854875848326, Valid Losses: 0.6420065225493256\n",
            "Train RMSE: 0.5813788559099515, Valid Losses: 0.5780767371322159\n",
            "Train RMSE: 0.587400500339214, Valid Losses: 0.5697038747881662\n",
            "Train RMSE: 0.6071826152198112, Valid Losses: 0.5959580169822664\n",
            "Train RMSE: 0.5879059381980708, Valid Losses: 0.6760611081657484\n",
            "Train RMSE: 0.60021300013431, Valid Losses: 0.6144794031201254\n",
            "Train RMSE: 0.5982268620578053, Valid Losses: 0.6301042765484155\n",
            "Train RMSE: 0.5890073352328336, Valid Losses: 0.5849022198735978\n",
            "Train RMSE: 0.5627794603995678, Valid Losses: 0.617852790908963\n",
            "Train RMSE: 0.5994622829881008, Valid Losses: 0.595789525116402\n",
            "Train RMSE: 0.567497283795353, Valid Losses: 0.583780493365599\n",
            "Train RMSE: 0.6021496044889885, Valid Losses: 0.6316906147341362\n",
            "Train RMSE: 0.5873373462798588, Valid Losses: 0.552899765452562\n",
            "Train RMSE: 0.5825509075163787, Valid Losses: 0.6390435209468983\n",
            "Train RMSE: 0.5995053126050733, Valid Losses: 0.6480391026065175\n",
            "Train RMSE: 0.5828103896113938, Valid Losses: 0.5777060708899793\n",
            "Train RMSE: 0.5882154097871231, Valid Losses: 0.6098794508957677\n",
            "Train RMSE: 0.5477102565741788, Valid Losses: 0.6351730862218017\n",
            "Train RMSE: 0.5472529655674838, Valid Losses: 0.6086099528913893\n",
            "Train RMSE: 0.5713256833360418, Valid Losses: 0.6221659866008631\n",
            "Train RMSE: 0.576641524872057, Valid Losses: 0.5709518013576544\n",
            "Train RMSE: 0.6076523826721199, Valid Losses: 0.6124845279031556\n",
            "Train RMSE: 0.6084009789610815, Valid Losses: 0.5731923089254604\n",
            "Train RMSE: 0.5195270990166956, Valid Losses: 0.6445662133411277\n",
            "Train RMSE: 0.5459567861970269, Valid Losses: 0.5883841008620138\n",
            "Train RMSE: 0.5524338739541179, Valid Losses: 0.5659407540920075\n",
            "Train RMSE: 0.5625360161269606, Valid Losses: 0.6202491942902582\n",
            "Train RMSE: 0.5410839160032793, Valid Losses: 0.5889019764139524\n",
            "Train RMSE: 0.5626399863097248, Valid Losses: 0.625794771715445\n",
            "Train RMSE: 0.5670242044991763, Valid Losses: 0.6127573054652521\n",
            "Train RMSE: 0.5611497013825791, Valid Losses: 0.626289358871684\n",
            "Train RMSE: 0.5575198837016502, Valid Losses: 0.5795726601382261\n",
            "Train RMSE: 0.5219155967866708, Valid Losses: 0.6068434778401348\n",
            "Train RMSE: 0.5611489042474254, Valid Losses: 0.5775557900652027\n",
            "Train RMSE: 0.5487472167361603, Valid Losses: 0.5930068751491746\n",
            "Train RMSE: 0.5324785485047437, Valid Losses: 0.5894368988619602\n",
            "Train RMSE: 0.503203236730827, Valid Losses: 0.5858400305809228\n",
            "Train RMSE: 0.553037722649361, Valid Losses: 0.5713532110995585\n",
            "Train RMSE: 0.5254874832487932, Valid Losses: 0.5776233447062409\n",
            "Train RMSE: 0.5421016402726244, Valid Losses: 0.5613626873736742\n",
            "Train RMSE: 0.5317881544351717, Valid Losses: 0.5855306348910905\n",
            "Train RMSE: 0.5191275332716742, Valid Losses: 0.510934841307854\n",
            "Train RMSE: 0.49872835575229724, Valid Losses: 0.5549368912741144\n",
            "Train RMSE: 0.5221044144162065, Valid Losses: 0.5768826024952616\n",
            "Train RMSE: 0.5046633151276193, Valid Losses: 0.5916171735057038\n",
            "Train RMSE: 0.5188287889327428, Valid Losses: 0.5220603824795178\n",
            "Train RMSE: 0.5387349210138757, Valid Losses: 0.5747906426702639\n",
            "Train RMSE: 0.5469851243282077, Valid Losses: 0.6135596385393934\n",
            "Train RMSE: 0.5089784649397598, Valid Losses: 0.6011535155749484\n",
            "Train RMSE: 0.49025988068628173, Valid Losses: 0.5666374678095193\n",
            "Train RMSE: 0.5108925059241843, Valid Losses: 0.5651589254300108\n",
            "Train RMSE: 0.5200830120003789, Valid Losses: 0.5561470406963296\n",
            "Train RMSE: 0.49861733987229345, Valid Losses: 0.5865543192281535\n",
            "Train RMSE: 0.5284729432957697, Valid Losses: 0.5524157880894656\n",
            "Train RMSE: 0.5011487214369553, Valid Losses: 0.5633817091712836\n",
            "Train RMSE: 0.49873890803359905, Valid Losses: 0.5487609260798815\n",
            "Train RMSE: 0.4921966960619467, Valid Losses: 0.5974712048403941\n",
            "Train RMSE: 0.5013536838463414, Valid Losses: 0.5916080126604275\n",
            "Train RMSE: 0.48944498384432344, Valid Losses: 0.5397936689805005\n",
            "Train RMSE: 0.5020131469199061, Valid Losses: 0.567263318319967\n",
            "Train RMSE: 0.5029183582683501, Valid Losses: 0.5512876901338131\n",
            "Train RMSE: 0.4919549226194928, Valid Losses: 0.570826199446244\n",
            "Train RMSE: 0.50125470521624, Valid Losses: 0.5457617500374059\n",
            "Train RMSE: 0.48125655347697777, Valid Losses: 0.5391396240430913\n",
            "Train RMSE: 0.49168568188604334, Valid Losses: 0.5524240487949688\n",
            "Train RMSE: 0.4763042626091057, Valid Losses: 0.5324952367455709\n",
            "Train RMSE: 0.4926217136860639, Valid Losses: 0.5332906127645991\n",
            "Train RMSE: 0.44714048602424533, Valid Losses: 0.5268480860253993\n",
            "Train RMSE: 0.48646610989562433, Valid Losses: 0.5634317015362047\n",
            "Train RMSE: 0.49243983243889206, Valid Losses: 0.5533405540464607\n",
            "Train RMSE: 0.465313449226078, Valid Losses: 0.5261638685111653\n",
            "Train RMSE: 0.5192075564099262, Valid Losses: 0.509096457937714\n",
            "Train RMSE: 0.45179504988514185, Valid Losses: 0.558155396914076\n",
            "Train RMSE: 0.4993288727214687, Valid Losses: 0.5557847061495964\n",
            "Train RMSE: 0.47741129464731163, Valid Losses: 0.5249759298053185\n",
            "Train RMSE: 0.47375674578984106, Valid Losses: 0.5752069416283515\n",
            "Train RMSE: 0.45320455611953203, Valid Losses: 0.5200447347942105\n",
            "Train RMSE: 0.460185679896974, Valid Losses: 0.5519625728746428\n",
            "Train RMSE: 0.48302924329064645, Valid Losses: 0.5305476825500338\n",
            "Train RMSE: 0.48885980510687604, Valid Losses: 0.5984613121007701\n",
            "Train RMSE: 0.5010345639938891, Valid Losses: 0.5604036172398741\n",
            "Train RMSE: 0.48553919017418257, Valid Losses: 0.5841702522460924\n",
            "Train RMSE: 0.47042149052538146, Valid Losses: 0.5676112202693497\n",
            "Train RMSE: 0.47338834354227644, Valid Losses: 0.5626560189471248\n",
            "Train RMSE: 0.5000016589616046, Valid Losses: 0.5698634657642019\n",
            "Train RMSE: 0.47173992876830834, Valid Losses: 0.5768512130953407\n",
            "Train RMSE: 0.4471264232036542, Valid Losses: 0.5379829337463515\n",
            "Train RMSE: 0.4805585057660743, Valid Losses: 0.5566566118359682\n",
            "Train RMSE: 0.47454296538582597, Valid Losses: 0.5350805404546295\n",
            "Train RMSE: 0.4671734615155955, Valid Losses: 0.5430304137133155\n",
            "Train RMSE: 0.4562358199887519, Valid Losses: 0.5861585009608739\n",
            "Train RMSE: 0.47096512260528167, Valid Losses: 0.5789500203342361\n",
            "Train RMSE: 0.47106367553222067, Valid Losses: 0.5724401913346449\n",
            "Train RMSE: 0.4738256633658847, Valid Losses: 0.5691613657705806\n",
            "Train RMSE: 0.4756080951946569, Valid Losses: 0.5503116013546747\n",
            "Train RMSE: 0.4799263709417616, Valid Losses: 0.5499529318903594\n",
            "Train RMSE: 0.4364478637367053, Valid Losses: 0.5239635590259204\n",
            "Train RMSE: 0.4723404912438199, Valid Losses: 0.569112928505219\n",
            "Train RMSE: 0.4692153361180469, Valid Losses: 0.5641507301009987\n",
            "Train RMSE: 0.46458726327053557, Valid Losses: 0.5587721415846197\n",
            "Train RMSE: 0.464310328425341, Valid Losses: 0.584530721170629\n",
            "Train RMSE: 0.4461965705324397, Valid Losses: 0.5374436915274792\n",
            "Train RMSE: 0.46002306272161636, Valid Losses: 0.5481043728150438\n",
            "Train RMSE: 0.4784762924509729, Valid Losses: 0.577516217423062\n",
            "Train RMSE: 0.4626815805039839, Valid Losses: 0.5074526808303775\n",
            "Train RMSE: 0.4748571293493117, Valid Losses: 0.5403644999264655\n",
            "Train RMSE: 0.4506872557484524, Valid Losses: 0.5507450129682586\n",
            "Train RMSE: 0.47025577356121817, Valid Losses: 0.5611742405266773\n",
            "Train RMSE: 0.4658872848985035, Valid Losses: 0.5527096525442633\n",
            "Train RMSE: 0.4553072070431305, Valid Losses: 0.5492214487902729\n",
            "Train RMSE: 0.45844529379568316, Valid Losses: 0.5587936066296733\n",
            "Train RMSE: 0.49311666498164974, Valid Losses: 0.5466345269021192\n",
            "Train RMSE: 0.47249074601259666, Valid Losses: 0.5613098384711513\n",
            "Train RMSE: 0.4640377480142321, Valid Losses: 0.5617554768751413\n",
            "Train RMSE: 0.4732979484628288, Valid Losses: 0.5959397837806193\n",
            "Train RMSE: 0.4727422095127762, Valid Losses: 0.5749515308700486\n",
            "Train RMSE: 0.45642164122264794, Valid Losses: 0.5473315780931387\n",
            "Train RMSE: 0.44856970644337335, Valid Losses: 0.5449539724043674\n",
            "Train RMSE: 0.45645300400425637, Valid Losses: 0.5514325480630229\n",
            "Train RMSE: 0.49958182084782427, Valid Losses: 0.5569267074467518\n",
            "Train RMSE: 0.46767473279477245, Valid Losses: 0.5555127812385121\n",
            "Train RMSE: 0.4474099502828864, Valid Losses: 0.5212312027504136\n",
            "Train RMSE: 0.4437229703600563, Valid Losses: 0.5397488712150036\n",
            "Train RMSE: 0.4487713096687092, Valid Losses: 0.5468599802379318\n",
            "Train RMSE: 0.46555709688650504, Valid Losses: 0.5357615316877853\n",
            "Train RMSE: 0.4511462258254244, Valid Losses: 0.5673379813358103\n",
            "Train RMSE: 0.45346518448004913, Valid Losses: 0.5562484370167055\n",
            "Train RMSE: 0.4709661017356658, Valid Losses: 0.5533707278454515\n",
            "Train RMSE: 0.4799143403725255, Valid Losses: 0.5658294076331302\n",
            "Train RMSE: 0.46752210970093755, Valid Losses: 0.5633289261390718\n",
            "Train RMSE: 0.46004785824630806, Valid Losses: 0.5560849650184214\n",
            "Train RMSE: 0.458801496280429, Valid Losses: 0.5631605696676127\n",
            "Train RMSE: 0.4540871286055847, Valid Losses: 0.5824630994507217\n",
            "Train RMSE: 0.4877392238866424, Valid Losses: 0.5464229841017936\n",
            "Train RMSE: 0.4606833074343994, Valid Losses: 0.6027025344670427\n",
            "Train RMSE: 0.4568550584467278, Valid Losses: 0.5310714040667615\n",
            "Train RMSE: 0.4452074648328717, Valid Losses: 0.5345027703444933\n",
            "Train RMSE: 0.45327496429869646, Valid Losses: 0.5567469499814484\n",
            "Train RMSE: 0.4435171016001894, Valid Losses: 0.5741571559320492\n",
            "Train RMSE: 0.449205047585156, Valid Losses: 0.499310787840771\n",
            "Train RMSE: 0.4566983872147054, Valid Losses: 0.5454295587451139\n",
            "Train RMSE: 0.423072315100456, Valid Losses: 0.5870446712656964\n",
            "Train RMSE: 0.45904215256460174, Valid Losses: 0.588365507643301\n",
            "Train RMSE: 0.43881000842381374, Valid Losses: 0.5883598132006319\n",
            "Train RMSE: 0.43335398681643705, Valid Losses: 0.5457456194831249\n",
            "Train RMSE: 0.45994950761088577, Valid Losses: 0.5547577609920913\n",
            "Train RMSE: 0.45314762885562304, Valid Losses: 0.5720416064578525\n",
            "Train RMSE: 0.44135348429123417, Valid Losses: 0.5498871396592179\n",
            "Train RMSE: 0.44855180335943595, Valid Losses: 0.59086368883393\n",
            "Train RMSE: 0.46196546326426985, Valid Losses: 0.5543978433376029\n",
            "Train RMSE: 0.46880781227999824, Valid Losses: 0.5746799435497818\n",
            "Train RMSE: 0.4645600222170997, Valid Losses: 0.5250134692949482\n",
            "Train RMSE: 0.4316891449748186, Valid Losses: 0.5664870519552854\n"
          ]
        }
      ]
    },
    {
      "cell_type": "code",
      "source": [
        "class GATV5(torch.nn.Module):\n",
        "    def __init__(self, hidden_channels = 64, num_node_features = 45, num_edge_features = 10, num_classes = 1, regression = True, n_heads = 4):\n",
        "        super().__init__()\n",
        "        torch.manual_seed(12345)\n",
        "        self.conv1 = MultiHeadGATv2ConvEV2(num_node_features, hidden_channels, num_edge_features, hidden_channels, n_heads = n_heads)\n",
        "        self.conv2 = MultiHeadGATv2ConvEV2(hidden_channels, hidden_channels, hidden_channels, hidden_channels, n_heads = n_heads)\n",
        "        self.conv3 = MultiHeadGATv2ConvEV2(hidden_channels, hidden_channels, hidden_channels, hidden_channels, n_heads = n_heads)\n",
        "        self.conv4 = MultiHeadGATv2ConvEV2(hidden_channels, hidden_channels, hidden_channels, hidden_channels, n_heads = n_heads)\n",
        "\n",
        "        self.regression = regression\n",
        "\n",
        "        self.f_att = FeatureAttention(channels=hidden_channels, reduction = 4)\n",
        "\n",
        "        self.res = ResLayer(hidden_channels, hidden_channels)\n",
        "        # self.pool = SAGPooling(hidden_channels)\n",
        "\n",
        "        if regression:\n",
        "          self.lin = nn.Sequential(nn.Linear(hidden_channels, 1))\n",
        "        else:\n",
        "          self.lin = ResLayer(hidden_channels, num_classes)\n",
        "\n",
        "    def forward(self, data):\n",
        "        # 1. Obtain node embeddings\n",
        "\n",
        "        x, edge_index, edge_attr, batch = data.x, data.edge_index, data.edge_attr, data.batch\n",
        "        x, edge_attr = self.conv1(x, edge_index, edge_attr = edge_attr)\n",
        "        x = self.f_att(x, batch)\n",
        "\n",
        "        # mol_vec = global_mean_pool(x, batch)\n",
        "\n",
        "        x, edge_attr = F.dropout(x, p = 0.4), F.dropout(edge_attr, p = 0.4)\n",
        "        x, edge_attr = self.conv2(x, edge_index, edge_attr = edge_attr)\n",
        "        x = self.f_att(x, batch)\n",
        "\n",
        "        # mol_vec += global_mean_pool(x, batch)\n",
        "\n",
        "        x, edge_attr = F.dropout(x, p = 0.4), F.dropout(edge_attr, p = 0.4)\n",
        "        x, edge_attr = self.conv3(x, edge_index, edge_attr = edge_attr)\n",
        "        x = self.f_att(x, batch)\n",
        "\n",
        "        # mol_vec += global_mean_pool(x, batch)\n",
        "\n",
        "        x, edge_attr = F.dropout(x, p = 0.4), F.dropout(edge_attr, p = 0.4)\n",
        "        x, edge_attr = self.conv4(x, edge_index, edge_attr = edge_attr)\n",
        "        x = self.f_att(x, batch)\n",
        "        x, edge_attr = F.dropout(x, p = 0.2), F.dropout(edge_attr, p = 0.2)\n",
        "\n",
        "        # results = self.pool(x, edge_index = edge_index, edge_attr = edge_attr, batch = batch)\n",
        "\n",
        "        # x, new_batch = results[0], results[-3]\n",
        "        mol_vec = global_mean_pool(x, batch)\n",
        "\n",
        "        # out = self.res(mol_vec)\n",
        "        out = mol_vec\n",
        "        out = F.dropout(out, p=0.2, training=self.training)\n",
        "        if self.regression:\n",
        "          out = self.lin(out)\n",
        "        else:\n",
        "          out = F.sigmoid(self.lin(out))\n",
        "\n",
        "        return out\n"
      ],
      "metadata": {
        "id": "ovUc8JIZazGB"
      },
      "execution_count": null,
      "outputs": []
    },
    {
      "cell_type": "code",
      "source": [
        "model = GATV5(hidden_channels = 128)"
      ],
      "metadata": {
        "id": "YaMFtpISbAUi"
      },
      "execution_count": null,
      "outputs": []
    },
    {
      "cell_type": "code",
      "source": [
        "def weights_init(m):\n",
        "    if isinstance(m, nn.Linear):\n",
        "        init.kaiming_normal_(m.weight)\n",
        "        if m.bias is not None:\n",
        "            init.zeros_(m.bias)\n",
        "\n",
        "model.apply(weights_init)"
      ],
      "metadata": {
        "id": "MmUwWvBQbWGg"
      },
      "execution_count": null,
      "outputs": []
    },
    {
      "cell_type": "code",
      "source": [
        "model = GATV5(hidden_channels = 128)\n",
        "optimizer = torch.optim.Adam(model.parameters(), lr = 1e-03, weight_decay = 1e-02)\n",
        "model.apply(weights_init)\n",
        "lr_scheduler = torch.optim.lr_scheduler.ReduceLROnPlateau(\n",
        "            optimizer,\n",
        "            mode = 'min',\n",
        "            factor = 0.7,\n",
        "            patience = 10,\n",
        "            min_lr = 5e-05\n",
        ")\n",
        "\n",
        "criterion = torch.nn.MSELoss()\n",
        "device = torch.device('cuda')\n",
        "model.to(device)\n",
        "\n",
        "for epoch in range(1, 300):\n",
        "    train()"
      ],
      "metadata": {
        "id": "GGoDu8edcBf_"
      },
      "execution_count": null,
      "outputs": []
    },
    {
      "cell_type": "code",
      "source": [
        "val_loader = valid_loader"
      ],
      "metadata": {
        "id": "SWubf6QbJaGG"
      },
      "execution_count": 25,
      "outputs": []
    },
    {
      "cell_type": "code",
      "source": [
        "model = GATV3()\n",
        "optimizer = torch.optim.Adam(model.parameters(), lr = 1e-03, weight_decay = 1e-03)\n",
        "# model.apply(weights_init)\n",
        "lr_scheduler = torch.optim.lr_scheduler.ReduceLROnPlateau(\n",
        "            optimizer,\n",
        "            mode = 'min',\n",
        "            factor = 0.7,\n",
        "            patience = 10,\n",
        "            min_lr = 1e-05\n",
        ")\n",
        "\n",
        "criterion = torch.nn.MSELoss()\n",
        "device = torch.device('cuda')\n",
        "model.to(device)\n",
        "\n",
        "for epoch in range(1, 300):\n",
        "    train()"
      ],
      "metadata": {
        "colab": {
          "base_uri": "https://localhost:8080/",
          "height": 0
        },
        "id": "pNVnoD7aCUUr",
        "outputId": "a6ceddac-367f-462b-cb05-d1edfd289459"
      },
      "execution_count": 26,
      "outputs": [
        {
          "output_type": "stream",
          "name": "stderr",
          "text": [
            "/home/ec2-user/virtenv/lib64/python3.7/site-packages/torch/nn/modules/loss.py:536: UserWarning: Using a target size (torch.Size([32, 1])) that is different to the input size (torch.Size([32])). This will likely lead to incorrect results due to broadcasting. Please ensure they have the same size.\n",
            "  return F.mse_loss(input, target, reduction=self.reduction)\n",
            "/home/ec2-user/virtenv/lib64/python3.7/site-packages/torch/nn/modules/loss.py:536: UserWarning: Using a target size (torch.Size([31, 1])) that is different to the input size (torch.Size([31])). This will likely lead to incorrect results due to broadcasting. Please ensure they have the same size.\n",
            "  return F.mse_loss(input, target, reduction=self.reduction)\n",
            "/home/ec2-user/virtenv/lib64/python3.7/site-packages/torch/nn/modules/loss.py:536: UserWarning: Using a target size (torch.Size([19, 1])) that is different to the input size (torch.Size([19])). This will likely lead to incorrect results due to broadcasting. Please ensure they have the same size.\n",
            "  return F.mse_loss(input, target, reduction=self.reduction)\n"
          ]
        },
        {
          "output_type": "stream",
          "name": "stdout",
          "text": [
            "Train RMSE: 3.4082550968473995, Valid Losses: 1.4039438803529691\n",
            "Train RMSE: 1.4407199254658385, Valid Losses: 1.3637817878747542\n",
            "Train RMSE: 1.4303922172581611, Valid Losses: 1.3709688207336024\n",
            "Train RMSE: 1.4360271975184162, Valid Losses: 1.371837274199889\n",
            "Train RMSE: 1.4278416665341551, Valid Losses: 1.3583469686193628\n",
            "Train RMSE: 1.4194070150124383, Valid Losses: 1.4164847808684924\n",
            "Train RMSE: 1.4193032327096113, Valid Losses: 1.3550428375652128\n",
            "Train RMSE: 1.4150181414192453, Valid Losses: 1.3774237457184688\n",
            "Train RMSE: 1.420961975821467, Valid Losses: 1.356550591948799\n",
            "Train RMSE: 1.4176093340874274, Valid Losses: 1.3700332531911326\n",
            "Train RMSE: 1.41282726018431, Valid Losses: 1.3718150734512793\n",
            "Train RMSE: 1.4100098030587096, Valid Losses: 1.3587291035685964\n",
            "Train RMSE: 1.4108551113665662, Valid Losses: 1.3579477337963446\n",
            "Train RMSE: 1.4074980846206993, Valid Losses: 1.3540439398730806\n",
            "Train RMSE: 1.4074180087923909, Valid Losses: 1.3612908388631972\n",
            "Train RMSE: 1.4078264789707053, Valid Losses: 1.3541732519278706\n",
            "Train RMSE: 1.4092666004413519, Valid Losses: 1.362003877041218\n",
            "Train RMSE: 1.4098042668575368, Valid Losses: 1.356282441035581\n",
            "Train RMSE: 1.4029912467474517, Valid Losses: 1.370640855639569\n",
            "Train RMSE: 1.4107061605888696, Valid Losses: 1.3651413438695694\n",
            "Train RMSE: 1.4078825453154684, Valid Losses: 1.3644404684617886\n",
            "Train RMSE: 1.4040980834449623, Valid Losses: 1.3559290873894725\n",
            "Train RMSE: 1.4097228695941917, Valid Losses: 1.3573193843476956\n",
            "Train RMSE: 1.404228650584658, Valid Losses: 1.3614586902341317\n",
            "Train RMSE: 1.4027249407330218, Valid Losses: 1.3670296953299284\n",
            "Train RMSE: 1.4012459685083034, Valid Losses: 1.3556750279506848\n",
            "Train RMSE: 1.3967989078773628, Valid Losses: 1.366411214845435\n",
            "Train RMSE: 1.4039327938249802, Valid Losses: 1.353899197541496\n",
            "Train RMSE: 1.402139313919522, Valid Losses: 1.3536076725715513\n",
            "Train RMSE: 1.39624103663869, Valid Losses: 1.353661929422034\n",
            "Train RMSE: 1.3989470744008599, Valid Losses: 1.3564464371424396\n",
            "Train RMSE: 1.3970282020035965, Valid Losses: 1.3534886758398776\n",
            "Train RMSE: 1.3967395110608605, Valid Losses: 1.3530936768244954\n",
            "Train RMSE: 1.3990280980740963, Valid Losses: 1.3530729392224037\n",
            "Train RMSE: 1.3997751775778697, Valid Losses: 1.3541014541550345\n",
            "Train RMSE: 1.3988777958973757, Valid Losses: 1.3538373816851568\n",
            "Train RMSE: 1.3971371794649792, Valid Losses: 1.3535419856903397\n",
            "Train RMSE: 1.3974843438701563, Valid Losses: 1.3565962096637059\n",
            "Train RMSE: 1.395151983638876, Valid Losses: 1.3549276879247614\n",
            "Train RMSE: 1.400382026099342, Valid Losses: 1.3526455129088355\n",
            "Train RMSE: 1.3977869504162301, Valid Losses: 1.3542095560569265\n",
            "Train RMSE: 1.3979795538137443, Valid Losses: 1.353860633053246\n",
            "Train RMSE: 1.3897660777397076, Valid Losses: 1.3544010985096016\n",
            "Train RMSE: 1.3893112213593077, Valid Losses: 1.355288966722118\n",
            "Train RMSE: 1.3911364155902965, Valid Losses: 1.3549420956482525\n",
            "Train RMSE: 1.3931054074787228, Valid Losses: 1.353488911819058\n",
            "Train RMSE: 1.392106592799855, Valid Losses: 1.3579616865870905\n",
            "Train RMSE: 1.3947479956994326, Valid Losses: 1.3536034893245592\n",
            "Train RMSE: 1.3980107014745045, Valid Losses: 1.3599463679095762\n",
            "Train RMSE: 1.3920430833400532, Valid Losses: 1.3527480050211829\n",
            "Train RMSE: 1.384307306601855, Valid Losses: 1.3658869324720577\n",
            "Train RMSE: 1.3875296029883002, Valid Losses: 1.3539793537595506\n",
            "Train RMSE: 1.3930635519227468, Valid Losses: 1.3534325057119483\n",
            "Train RMSE: 1.3942521502389105, Valid Losses: 1.3520887481812167\n",
            "Train RMSE: 1.3853830171889097, Valid Losses: 1.3565662641745442\n",
            "Train RMSE: 1.3895712711386141, Valid Losses: 1.3527221251148083\n",
            "Train RMSE: 1.3859351910296962, Valid Losses: 1.3605291356669473\n",
            "Train RMSE: 1.3906530956181027, Valid Losses: 1.3537669140063446\n",
            "Train RMSE: 1.3886803151974243, Valid Losses: 1.3528414344517072\n",
            "Train RMSE: 1.3861214831712176, Valid Losses: 1.35290278170491\n",
            "Train RMSE: 1.385755048822778, Valid Losses: 1.3532398297399346\n",
            "Train RMSE: 1.3885688537199696, Valid Losses: 1.3532047927594872\n",
            "Train RMSE: 1.3854223367676632, Valid Losses: 1.3537098713027893\n",
            "Train RMSE: 1.3890533784620396, Valid Losses: 1.3532001313482205\n",
            "Train RMSE: 1.3858112452454414, Valid Losses: 1.3542260993425723\n",
            "Train RMSE: 1.3805328268931525, Valid Losses: 1.3524189715437351\n",
            "Train RMSE: 1.3860106843968698, Valid Losses: 1.3538739251656224\n",
            "Train RMSE: 1.385334413276676, Valid Losses: 1.3559457050010388\n",
            "Train RMSE: 1.3823431951554648, Valid Losses: 1.3560151957230857\n",
            "Train RMSE: 1.38328675080022, Valid Losses: 1.352048239911815\n",
            "Train RMSE: 1.3854970929964296, Valid Losses: 1.3533728573342028\n",
            "Train RMSE: 1.386040111230265, Valid Losses: 1.3541631232929892\n",
            "Train RMSE: 1.385726721712917, Valid Losses: 1.3564751702633142\n",
            "Train RMSE: 1.386278089204303, Valid Losses: 1.3531046563980738\n",
            "Train RMSE: 1.3849034300391145, Valid Losses: 1.3594436839270791\n",
            "Train RMSE: 1.3839374773282584, Valid Losses: 1.3536613130796857\n",
            "Train RMSE: 1.3822730643781018, Valid Losses: 1.3522808822938688\n",
            "Train RMSE: 1.3847034233087476, Valid Losses: 1.3524882136910328\n",
            "Train RMSE: 1.3838700215541742, Valid Losses: 1.3556637272106113\n",
            "Train RMSE: 1.3826026182487507, Valid Losses: 1.3523973106299048\n",
            "Train RMSE: 1.3817828472521927, Valid Losses: 1.3527391077371318\n",
            "Train RMSE: 1.3800569515557963, Valid Losses: 1.3593687478955598\n",
            "Train RMSE: 1.3812438896264774, Valid Losses: 1.353356901726359\n",
            "Train RMSE: 1.3818782504365548, Valid Losses: 1.3531716402260967\n",
            "Train RMSE: 1.3827737002381226, Valid Losses: 1.3612816480000018\n",
            "Train RMSE: 1.3787910890226505, Valid Losses: 1.3539733888306873\n",
            "Train RMSE: 1.3821432026859715, Valid Losses: 1.3573995497698244\n",
            "Train RMSE: 1.3801389071613583, Valid Losses: 1.353422784204201\n",
            "Train RMSE: 1.381082461718854, Valid Losses: 1.3518018856943785\n",
            "Train RMSE: 1.379559410440128, Valid Losses: 1.351963838527916\n",
            "Train RMSE: 1.3776416313754951, Valid Losses: 1.3529149615890808\n",
            "Train RMSE: 1.3774156017994583, Valid Losses: 1.3524255440466588\n",
            "Train RMSE: 1.377378918834652, Valid Losses: 1.3524518718081249\n",
            "Train RMSE: 1.378203608792115, Valid Losses: 1.3544163074348867\n",
            "Train RMSE: 1.3783798700527556, Valid Losses: 1.3519445271904564\n",
            "Train RMSE: 1.381145024214986, Valid Losses: 1.3519125678728816\n",
            "Train RMSE: 1.3767957242948274, Valid Losses: 1.3516409891503711\n",
            "Train RMSE: 1.3786297363979014, Valid Losses: 1.3517588726008745\n",
            "Train RMSE: 1.381528833408145, Valid Losses: 1.3517136687375417\n",
            "Train RMSE: 1.3788368707171386, Valid Losses: 1.3514641074757332\n",
            "Train RMSE: 1.3813420441091215, Valid Losses: 1.3519456250929156\n",
            "Train RMSE: 1.3754246636315182, Valid Losses: 1.3528332311495956\n",
            "Train RMSE: 1.379912038632667, Valid Losses: 1.351802185264443\n"
          ]
        },
        {
          "output_type": "error",
          "ename": "KeyboardInterrupt",
          "evalue": "ignored",
          "traceback": [
            "\u001b[0;31m---------------------------------------------------------------------------\u001b[0m",
            "\u001b[0;31mKeyboardInterrupt\u001b[0m                         Traceback (most recent call last)",
            "\u001b[0;32m/tmp/ipykernel_7287/1041590507.py\u001b[0m in \u001b[0;36m<module>\u001b[0;34m\u001b[0m\n\u001b[1;32m     15\u001b[0m \u001b[0;34m\u001b[0m\u001b[0m\n\u001b[1;32m     16\u001b[0m \u001b[0;32mfor\u001b[0m \u001b[0mepoch\u001b[0m \u001b[0;32min\u001b[0m \u001b[0mrange\u001b[0m\u001b[0;34m(\u001b[0m\u001b[0;36m1\u001b[0m\u001b[0;34m,\u001b[0m \u001b[0;36m300\u001b[0m\u001b[0;34m)\u001b[0m\u001b[0;34m:\u001b[0m\u001b[0;34m\u001b[0m\u001b[0;34m\u001b[0m\u001b[0m\n\u001b[0;32m---> 17\u001b[0;31m     \u001b[0mtrain\u001b[0m\u001b[0;34m(\u001b[0m\u001b[0;34m)\u001b[0m\u001b[0;34m\u001b[0m\u001b[0;34m\u001b[0m\u001b[0m\n\u001b[0m",
            "\u001b[0;32m/tmp/ipykernel_7287/1952531460.py\u001b[0m in \u001b[0;36mtrain\u001b[0;34m()\u001b[0m\n\u001b[1;32m      8\u001b[0m         \u001b[0mloss\u001b[0m \u001b[0;34m=\u001b[0m \u001b[0mcriterion\u001b[0m\u001b[0;34m(\u001b[0m\u001b[0mout\u001b[0m\u001b[0;34m.\u001b[0m\u001b[0msqueeze\u001b[0m\u001b[0;34m(\u001b[0m\u001b[0;34m)\u001b[0m\u001b[0;34m,\u001b[0m \u001b[0mdata\u001b[0m\u001b[0;34m.\u001b[0m\u001b[0my\u001b[0m\u001b[0;34m)\u001b[0m  \u001b[0;31m# Compute the loss.\u001b[0m\u001b[0;34m\u001b[0m\u001b[0;34m\u001b[0m\u001b[0m\n\u001b[1;32m      9\u001b[0m         \u001b[0mloss\u001b[0m\u001b[0;34m.\u001b[0m\u001b[0mbackward\u001b[0m\u001b[0;34m(\u001b[0m\u001b[0;34m)\u001b[0m  \u001b[0;31m# Derive gradients.\u001b[0m\u001b[0;34m\u001b[0m\u001b[0;34m\u001b[0m\u001b[0m\n\u001b[0;32m---> 10\u001b[0;31m         \u001b[0moptimizer\u001b[0m\u001b[0;34m.\u001b[0m\u001b[0mstep\u001b[0m\u001b[0;34m(\u001b[0m\u001b[0;34m)\u001b[0m  \u001b[0;31m# Update parameters based on gradients.\u001b[0m\u001b[0;34m\u001b[0m\u001b[0;34m\u001b[0m\u001b[0m\n\u001b[0m\u001b[1;32m     11\u001b[0m         \u001b[0moptimizer\u001b[0m\u001b[0;34m.\u001b[0m\u001b[0mzero_grad\u001b[0m\u001b[0;34m(\u001b[0m\u001b[0;34m)\u001b[0m  \u001b[0;31m# Clear gradients.\u001b[0m\u001b[0;34m\u001b[0m\u001b[0;34m\u001b[0m\u001b[0m\n\u001b[1;32m     12\u001b[0m         \u001b[0mtrain_losses\u001b[0m\u001b[0;34m.\u001b[0m\u001b[0mappend\u001b[0m\u001b[0;34m(\u001b[0m\u001b[0mloss\u001b[0m\u001b[0;34m.\u001b[0m\u001b[0mitem\u001b[0m\u001b[0;34m(\u001b[0m\u001b[0;34m)\u001b[0m\u001b[0;34m)\u001b[0m\u001b[0;34m\u001b[0m\u001b[0;34m\u001b[0m\u001b[0m\n",
            "\u001b[0;32m~/virtenv/lib64/python3.7/site-packages/torch/optim/optimizer.py\u001b[0m in \u001b[0;36mwrapper\u001b[0;34m(*args, **kwargs)\u001b[0m\n\u001b[1;32m    138\u001b[0m                 \u001b[0mprofile_name\u001b[0m \u001b[0;34m=\u001b[0m \u001b[0;34m\"Optimizer.step#{}.step\"\u001b[0m\u001b[0;34m.\u001b[0m\u001b[0mformat\u001b[0m\u001b[0;34m(\u001b[0m\u001b[0mobj\u001b[0m\u001b[0;34m.\u001b[0m\u001b[0m__class__\u001b[0m\u001b[0;34m.\u001b[0m\u001b[0m__name__\u001b[0m\u001b[0;34m)\u001b[0m\u001b[0;34m\u001b[0m\u001b[0;34m\u001b[0m\u001b[0m\n\u001b[1;32m    139\u001b[0m                 \u001b[0;32mwith\u001b[0m \u001b[0mtorch\u001b[0m\u001b[0;34m.\u001b[0m\u001b[0mautograd\u001b[0m\u001b[0;34m.\u001b[0m\u001b[0mprofiler\u001b[0m\u001b[0;34m.\u001b[0m\u001b[0mrecord_function\u001b[0m\u001b[0;34m(\u001b[0m\u001b[0mprofile_name\u001b[0m\u001b[0;34m)\u001b[0m\u001b[0;34m:\u001b[0m\u001b[0;34m\u001b[0m\u001b[0;34m\u001b[0m\u001b[0m\n\u001b[0;32m--> 140\u001b[0;31m                     \u001b[0mout\u001b[0m \u001b[0;34m=\u001b[0m \u001b[0mfunc\u001b[0m\u001b[0;34m(\u001b[0m\u001b[0;34m*\u001b[0m\u001b[0margs\u001b[0m\u001b[0;34m,\u001b[0m \u001b[0;34m**\u001b[0m\u001b[0mkwargs\u001b[0m\u001b[0;34m)\u001b[0m\u001b[0;34m\u001b[0m\u001b[0;34m\u001b[0m\u001b[0m\n\u001b[0m\u001b[1;32m    141\u001b[0m                     \u001b[0mobj\u001b[0m\u001b[0;34m.\u001b[0m\u001b[0m_optimizer_step_code\u001b[0m\u001b[0;34m(\u001b[0m\u001b[0;34m)\u001b[0m\u001b[0;34m\u001b[0m\u001b[0;34m\u001b[0m\u001b[0m\n\u001b[1;32m    142\u001b[0m                     \u001b[0;32mreturn\u001b[0m \u001b[0mout\u001b[0m\u001b[0;34m\u001b[0m\u001b[0;34m\u001b[0m\u001b[0m\n",
            "\u001b[0;32m~/virtenv/lib64/python3.7/site-packages/torch/optim/optimizer.py\u001b[0m in \u001b[0;36m_use_grad\u001b[0;34m(self, *args, **kwargs)\u001b[0m\n\u001b[1;32m     21\u001b[0m         \u001b[0;32mtry\u001b[0m\u001b[0;34m:\u001b[0m\u001b[0;34m\u001b[0m\u001b[0;34m\u001b[0m\u001b[0m\n\u001b[1;32m     22\u001b[0m             \u001b[0mtorch\u001b[0m\u001b[0;34m.\u001b[0m\u001b[0mset_grad_enabled\u001b[0m\u001b[0;34m(\u001b[0m\u001b[0mself\u001b[0m\u001b[0;34m.\u001b[0m\u001b[0mdefaults\u001b[0m\u001b[0;34m[\u001b[0m\u001b[0;34m'differentiable'\u001b[0m\u001b[0;34m]\u001b[0m\u001b[0;34m)\u001b[0m\u001b[0;34m\u001b[0m\u001b[0;34m\u001b[0m\u001b[0m\n\u001b[0;32m---> 23\u001b[0;31m             \u001b[0mret\u001b[0m \u001b[0;34m=\u001b[0m \u001b[0mfunc\u001b[0m\u001b[0;34m(\u001b[0m\u001b[0mself\u001b[0m\u001b[0;34m,\u001b[0m \u001b[0;34m*\u001b[0m\u001b[0margs\u001b[0m\u001b[0;34m,\u001b[0m \u001b[0;34m**\u001b[0m\u001b[0mkwargs\u001b[0m\u001b[0;34m)\u001b[0m\u001b[0;34m\u001b[0m\u001b[0;34m\u001b[0m\u001b[0m\n\u001b[0m\u001b[1;32m     24\u001b[0m         \u001b[0;32mfinally\u001b[0m\u001b[0;34m:\u001b[0m\u001b[0;34m\u001b[0m\u001b[0;34m\u001b[0m\u001b[0m\n\u001b[1;32m     25\u001b[0m             \u001b[0mtorch\u001b[0m\u001b[0;34m.\u001b[0m\u001b[0mset_grad_enabled\u001b[0m\u001b[0;34m(\u001b[0m\u001b[0mprev_grad\u001b[0m\u001b[0;34m)\u001b[0m\u001b[0;34m\u001b[0m\u001b[0;34m\u001b[0m\u001b[0m\n",
            "\u001b[0;32m~/virtenv/lib64/python3.7/site-packages/torch/optim/adam.py\u001b[0m in \u001b[0;36mstep\u001b[0;34m(self, closure, grad_scaler)\u001b[0m\n\u001b[1;32m    250\u001b[0m                  \u001b[0mfused\u001b[0m\u001b[0;34m=\u001b[0m\u001b[0mgroup\u001b[0m\u001b[0;34m[\u001b[0m\u001b[0;34m'fused'\u001b[0m\u001b[0;34m]\u001b[0m\u001b[0;34m,\u001b[0m\u001b[0;34m\u001b[0m\u001b[0;34m\u001b[0m\u001b[0m\n\u001b[1;32m    251\u001b[0m                  \u001b[0mgrad_scale\u001b[0m\u001b[0;34m=\u001b[0m\u001b[0mgrad_scale\u001b[0m\u001b[0;34m,\u001b[0m\u001b[0;34m\u001b[0m\u001b[0;34m\u001b[0m\u001b[0m\n\u001b[0;32m--> 252\u001b[0;31m                  found_inf=found_inf)\n\u001b[0m\u001b[1;32m    253\u001b[0m \u001b[0;34m\u001b[0m\u001b[0m\n\u001b[1;32m    254\u001b[0m         \u001b[0;32mreturn\u001b[0m \u001b[0mloss\u001b[0m\u001b[0;34m\u001b[0m\u001b[0;34m\u001b[0m\u001b[0m\n",
            "\u001b[0;32m~/virtenv/lib64/python3.7/site-packages/torch/optim/adam.py\u001b[0m in \u001b[0;36madam\u001b[0;34m(params, grads, exp_avgs, exp_avg_sqs, max_exp_avg_sqs, state_steps, foreach, capturable, differentiable, fused, grad_scale, found_inf, amsgrad, beta1, beta2, lr, weight_decay, eps, maximize)\u001b[0m\n\u001b[1;32m    314\u001b[0m          \u001b[0mdifferentiable\u001b[0m\u001b[0;34m=\u001b[0m\u001b[0mdifferentiable\u001b[0m\u001b[0;34m,\u001b[0m\u001b[0;34m\u001b[0m\u001b[0;34m\u001b[0m\u001b[0m\n\u001b[1;32m    315\u001b[0m          \u001b[0mgrad_scale\u001b[0m\u001b[0;34m=\u001b[0m\u001b[0mgrad_scale\u001b[0m\u001b[0;34m,\u001b[0m\u001b[0;34m\u001b[0m\u001b[0;34m\u001b[0m\u001b[0m\n\u001b[0;32m--> 316\u001b[0;31m          found_inf=found_inf)\n\u001b[0m\u001b[1;32m    317\u001b[0m \u001b[0;34m\u001b[0m\u001b[0m\n\u001b[1;32m    318\u001b[0m \u001b[0;34m\u001b[0m\u001b[0m\n",
            "\u001b[0;32m~/virtenv/lib64/python3.7/site-packages/torch/optim/adam.py\u001b[0m in \u001b[0;36m_single_tensor_adam\u001b[0;34m(params, grads, exp_avgs, exp_avg_sqs, max_exp_avg_sqs, state_steps, grad_scale, found_inf, amsgrad, beta1, beta2, lr, weight_decay, eps, maximize, capturable, differentiable)\u001b[0m\n\u001b[1;32m    361\u001b[0m \u001b[0;34m\u001b[0m\u001b[0m\n\u001b[1;32m    362\u001b[0m         \u001b[0;31m# Decay the first and second moment running average coefficient\u001b[0m\u001b[0;34m\u001b[0m\u001b[0;34m\u001b[0m\u001b[0;34m\u001b[0m\u001b[0m\n\u001b[0;32m--> 363\u001b[0;31m         \u001b[0mexp_avg\u001b[0m\u001b[0;34m.\u001b[0m\u001b[0mmul_\u001b[0m\u001b[0;34m(\u001b[0m\u001b[0mbeta1\u001b[0m\u001b[0;34m)\u001b[0m\u001b[0;34m.\u001b[0m\u001b[0madd_\u001b[0m\u001b[0;34m(\u001b[0m\u001b[0mgrad\u001b[0m\u001b[0;34m,\u001b[0m \u001b[0malpha\u001b[0m\u001b[0;34m=\u001b[0m\u001b[0;36m1\u001b[0m \u001b[0;34m-\u001b[0m \u001b[0mbeta1\u001b[0m\u001b[0;34m)\u001b[0m\u001b[0;34m\u001b[0m\u001b[0;34m\u001b[0m\u001b[0m\n\u001b[0m\u001b[1;32m    364\u001b[0m         \u001b[0mexp_avg_sq\u001b[0m\u001b[0;34m.\u001b[0m\u001b[0mmul_\u001b[0m\u001b[0;34m(\u001b[0m\u001b[0mbeta2\u001b[0m\u001b[0;34m)\u001b[0m\u001b[0;34m.\u001b[0m\u001b[0maddcmul_\u001b[0m\u001b[0;34m(\u001b[0m\u001b[0mgrad\u001b[0m\u001b[0;34m,\u001b[0m \u001b[0mgrad\u001b[0m\u001b[0;34m.\u001b[0m\u001b[0mconj\u001b[0m\u001b[0;34m(\u001b[0m\u001b[0;34m)\u001b[0m\u001b[0;34m,\u001b[0m \u001b[0mvalue\u001b[0m\u001b[0;34m=\u001b[0m\u001b[0;36m1\u001b[0m \u001b[0;34m-\u001b[0m \u001b[0mbeta2\u001b[0m\u001b[0;34m)\u001b[0m\u001b[0;34m\u001b[0m\u001b[0;34m\u001b[0m\u001b[0m\n\u001b[1;32m    365\u001b[0m \u001b[0;34m\u001b[0m\u001b[0m\n",
            "\u001b[0;31mKeyboardInterrupt\u001b[0m: "
          ]
        }
      ]
    },
    {
      "cell_type": "markdown",
      "source": [
        "# Prediction of compounds."
      ],
      "metadata": {
        "id": "Vt3GuvWjtASL"
      }
    },
    {
      "cell_type": "code",
      "source": [
        "# Function to Predict.\n",
        "def predict(model, dl, device = device):\n",
        "\n",
        "  '''\n",
        "  This model takes in model and dataloader and gives out predicted values for all the samples in the dataloader.\n",
        "\n",
        "  Args:\n",
        "    model {nn.module}: Model Object (HiGNN)\n",
        "    dl {DataLoader}: DataLoader object.\n",
        "    device {torch.device}: cuda if GPU available else cpu\n",
        "  '''\n",
        "  out = torch.Tensor([])\n",
        "  model.eval()\n",
        "  with torch.no_grad():\n",
        "    for x in tqdm(dl):\n",
        "      x = x.to(device)\n",
        "      outputs = model(x)\n",
        "      yhat = outputs.squeeze()\n",
        "      yhat = yhat.to(torch.device('cpu'))\n",
        "      out = torch.cat([out, yhat], dim = -1)\n",
        "  return out.numpy()"
      ],
      "metadata": {
        "id": "78N0HOpUtLl5"
      },
      "execution_count": 27,
      "outputs": []
    },
    {
      "cell_type": "code",
      "source": [
        "# Function to prepare a dataloader object\n",
        "\n",
        "def prepare_loader(fpath, root = './root/', dataset = 'experiment_1', task_type = 'regression', tasks = [], smiles_col = 'smiles', bs = 32): # Use bs = 32 only if GPU is available, else use bs = 4\n",
        "    pyg_dataset = MolDataset(root=root, fpath = fpath, dataset=dataset, task_type=task_type, tasks=tasks, smiles_col = smiles_col)\n",
        "    # del pyg_dataset.data.smiles\n",
        "\n",
        "    return DataLoader(pyg_dataset, batch_size = bs)\n"
      ],
      "metadata": {
        "id": "4bq0BFo2tYkN"
      },
      "execution_count": 30,
      "outputs": []
    },
    {
      "cell_type": "code",
      "source": [
        "# Test\n",
        "df = pd.read_csv(\"./chem_datasets/clintox_cleaned.csv\")\n",
        "df.head()"
      ],
      "metadata": {
        "colab": {
          "base_uri": "https://localhost:8080/",
          "height": 206
        },
        "id": "8D5DVYb0wJNB",
        "outputId": "62d51eec-7664-4656-8378-5344cac89872"
      },
      "execution_count": 19,
      "outputs": [
        {
          "output_type": "execute_result",
          "data": {
            "text/plain": [
              "   Unnamed: 0                                                ids  CT_TOX\n",
              "0           0  c1nc(nc(=O)n1[C@H]2[C@@H]([C@@H]([C@H](O2)CO)O...     0.0\n",
              "1           1  C[C@@H]1C[C@H]2[C@@H]3C[C@@H](C4=CC(=O)C=C[C@@...     0.0\n",
              "2           2                 C[NH+](C)CCC(c1ccc(cc1)Br)c2ccccn2     0.0\n",
              "3           3                                             CC(C)O     0.0\n",
              "4           4          CN1C(=C(c2ccccc2S1(=O)=O)O)C(=O)Nc3ccccn3     0.0"
            ],
            "text/html": [
              "<div>\n",
              "<style scoped>\n",
              "    .dataframe tbody tr th:only-of-type {\n",
              "        vertical-align: middle;\n",
              "    }\n",
              "\n",
              "    .dataframe tbody tr th {\n",
              "        vertical-align: top;\n",
              "    }\n",
              "\n",
              "    .dataframe thead th {\n",
              "        text-align: right;\n",
              "    }\n",
              "</style>\n",
              "<table border=\"1\" class=\"dataframe\">\n",
              "  <thead>\n",
              "    <tr style=\"text-align: right;\">\n",
              "      <th></th>\n",
              "      <th>Unnamed: 0</th>\n",
              "      <th>ids</th>\n",
              "      <th>CT_TOX</th>\n",
              "    </tr>\n",
              "  </thead>\n",
              "  <tbody>\n",
              "    <tr>\n",
              "      <th>0</th>\n",
              "      <td>0</td>\n",
              "      <td>c1nc(nc(=O)n1[C@H]2[C@@H]([C@@H]([C@H](O2)CO)O...</td>\n",
              "      <td>0.0</td>\n",
              "    </tr>\n",
              "    <tr>\n",
              "      <th>1</th>\n",
              "      <td>1</td>\n",
              "      <td>C[C@@H]1C[C@H]2[C@@H]3C[C@@H](C4=CC(=O)C=C[C@@...</td>\n",
              "      <td>0.0</td>\n",
              "    </tr>\n",
              "    <tr>\n",
              "      <th>2</th>\n",
              "      <td>2</td>\n",
              "      <td>C[NH+](C)CCC(c1ccc(cc1)Br)c2ccccn2</td>\n",
              "      <td>0.0</td>\n",
              "    </tr>\n",
              "    <tr>\n",
              "      <th>3</th>\n",
              "      <td>3</td>\n",
              "      <td>CC(C)O</td>\n",
              "      <td>0.0</td>\n",
              "    </tr>\n",
              "    <tr>\n",
              "      <th>4</th>\n",
              "      <td>4</td>\n",
              "      <td>CN1C(=C(c2ccccc2S1(=O)=O)O)C(=O)Nc3ccccn3</td>\n",
              "      <td>0.0</td>\n",
              "    </tr>\n",
              "  </tbody>\n",
              "</table>\n",
              "</div>"
            ]
          },
          "metadata": {},
          "execution_count": 19
        }
      ]
    },
    {
      "cell_type": "code",
      "source": [
        "# Get Batch size\n",
        "\n",
        "bs = 4\n",
        "device = torch.device('cpu')\n",
        "\n",
        "if torch.cuda.is_available():\n",
        "    bs = 32\n",
        "    device = torch.device('cuda')\n"
      ],
      "metadata": {
        "id": "GbEw9fJ_vzRp"
      },
      "execution_count": 16,
      "outputs": []
    },
    {
      "cell_type": "code",
      "source": [
        "clintox_loader = prepare_loader(fpath = \"./chem_datasets/clintox_cleaned.csv\",\n",
        "               dataset= 'clintox_experiment_1',\n",
        "               smiles_col = 'ids',\n",
        "               bs = bs)"
      ],
      "metadata": {
        "colab": {
          "base_uri": "https://localhost:8080/"
        },
        "id": "N6AOL8G-wf7x",
        "outputId": "69d1d404-6525-4e68-e21f-d6e83753f85b"
      },
      "execution_count": 31,
      "outputs": [
        {
          "output_type": "stream",
          "name": "stderr",
          "text": [
            "/home/ec2-user/virtenv/lib64/python3.7/site-packages/torch_geometric/deprecation.py:22: UserWarning: 'data.DataLoader' is deprecated, use 'loader.DataLoader' instead\n",
            "  warnings.warn(out)\n"
          ]
        }
      ]
    },
    {
      "cell_type": "code",
      "source": [
        "batch = next(iter(clintox_loader))"
      ],
      "metadata": {
        "id": "BJPvxllBw-X0"
      },
      "execution_count": 33,
      "outputs": []
    },
    {
      "cell_type": "code",
      "source": [
        "smiles = batch.smiles"
      ],
      "metadata": {
        "id": "3tRkTxuZEIVH"
      },
      "execution_count": 35,
      "outputs": []
    },
    {
      "cell_type": "code",
      "source": [
        "smiles"
      ],
      "metadata": {
        "colab": {
          "base_uri": "https://localhost:8080/"
        },
        "id": "2_-kI-YpEN1K",
        "outputId": "1a83123f-5f19-4d8b-a4eb-217bef37a7e1"
      },
      "execution_count": 41,
      "outputs": [
        {
          "output_type": "execute_result",
          "data": {
            "text/plain": [
              "['Nc1ncn([C@@H]2O[C@H](CO)[C@@H](O)[C@H]2O)c(=O)n1',\n",
              " 'C[C@@H]1C[C@H]2[C@@H]3C[C@H](F)C4=CC(=O)C=C[C@]4(C)[C@@]3(F)[C@@H](O)C[C@]2(C)[C@@]1(O)C(=O)COC(=O)C(C)(C)C',\n",
              " 'C[NH+](C)CCC(c1ccc(Br)cc1)c1ccccn1',\n",
              " 'CC(C)O',\n",
              " 'CN1C(C(=O)Nc2ccccn2)=C(O)c2ccccc2S1(=O)=O',\n",
              " 'CC(=O)Oc1ccccc1C(=O)Nc1ncc([N+](=O)[O-])s1',\n",
              " 'COCc1c(C(C)C)nc(C(C)C)c(/C=C/[C@@H](O)C[C@@H](O)CC(=O)[O-])c1-c1ccc(F)cc1',\n",
              " 'CC(CN1c2ccccc2Sc2ccccc21)C[NH+](C)C',\n",
              " 'CC(C)C(=O)Nc1ccc([N+](=O)[O-])c(C(F)(F)F)c1',\n",
              " 'CC(C)(C)[NH2+]CC(O)c1cc(O)cc(O)c1',\n",
              " 'NS(=O)(=O)c1cc2c(cc1Cl)NC(C1CC3C=CC1C3)NS2(=O)=O',\n",
              " 'CC(=O)N(CC(C)C(=O)[O-])c1c(I)cc(I)c(N)c1I',\n",
              " 'CC(C)NCC(O)COc1cccc2ccccc12',\n",
              " 'CO/N=C(\\\\C(=O)N[C@@H]1C(=O)N2C(C(=O)[O-])=C(C[N+]3(C)CCCC3)CS[C@H]12)c1csc(N)n1',\n",
              " 'CC(C)[NH+](CCC(C(N)=O)(c1ccccc1)c1ccccn1)C(C)C',\n",
              " 'CCCNC(=O)[N-]S(=O)(=O)c1ccc(Cl)cc1',\n",
              " 'C/C(=N\\\\O)[C@@H](C)[NH2+]CC(C)(C)C[NH2+][C@H](C)/C(C)=N/O',\n",
              " 'CC(=O)OC(C)C[N+](C)(C)C',\n",
              " 'Nc1ccn(C[C@@H](CO)OCP(=O)([O-])[O-])c(=O)n1',\n",
              " 'Cc1nnc(SCC2=C(C(=O)[O-])N3C(=O)[C@@H](NC(=O)Cn4cnnn4)[C@H]3SC2)s1',\n",
              " 'CN(CCCCCCCCCCN(C)C(=O)Oc1cccc([N+](C)(C)C)c1)C(=O)Oc1cccc([N+](C)(C)C)c1',\n",
              " 'Fc1ccc([C@@H]2CC[NH2+]C[C@H]2COc2ccc3c(c2)OCO3)cc1',\n",
              " 'CCC[C@@H]1C[C@@H](C(=O)N[C@@H]([C@H]2O[C@H](SC)[C@H](O)[C@@H](O)[C@H]2O)[C@@H](C)O)[NH+](C)C1',\n",
              " 'CCOC(=O)[C@H](CCc1ccccc1)[NH2+][C@@H](C)C(=O)N1[C@H](C(=O)[O-])C[C@H]2CCCC[C@@H]21',\n",
              " '[NH3+]CC1(CC(=O)[O-])CCCCC1',\n",
              " 'CCCCCCC[NH+](CC)CCCC(O)c1ccc(NS(C)(=O)=O)cc1',\n",
              " 'COc1ccnc(CS(=O)c2nc3ccc(OC(F)F)cc3[nH]2)c1OC',\n",
              " 'Nc1nc(Cl)nc2c1ncn2[C@@H]1O[C@H](CO)[C@@H](O)[C@@H]1F',\n",
              " 'CC(=O)O[C@H]1C[C@H](OC2[C@@H](O)C[C@H](O[C@H]3[C@@H](O)C[C@H](OC4CC[C@@]5(C)[C@H](CC[C@@H]6[C@@H]5CC[C@]5(C)[C@@H](C7=CC(=O)OC7)CC[C@]65O)C4)O[C@@H]3C)O[C@@H]2C)O[C@H](C)[C@H]1O',\n",
              " 'C[C@@H]1C[C@H]2[C@@H]3C[C@H](F)C4=CC(=O)C=C[C@]4(C)[C@@]3(Cl)[C@@H](O)C[C@]2(C)[C@H]1C(=O)COC(=O)C(C)(C)C',\n",
              " 'C[N+]12CCC(CC1)C(OC(=O)C(O)(c1ccccc1)c1ccccc1)C2',\n",
              " 'CC(C)CN(C[C@@H](O)[C@H](Cc1ccccc1)NC(=O)O[C@H]1CO[C@H]2OCC[C@H]21)S(=O)(=O)c1ccc(N)cc1']"
            ]
          },
          "metadata": {},
          "execution_count": 41
        }
      ]
    },
    {
      "cell_type": "code",
      "source": [
        "# Get a model\n",
        "test_model = build_model(num_outputs = 1)\n",
        "\n",
        "# Get it onto the device\n",
        "test_model = test_model.to(device)"
      ],
      "metadata": {
        "id": "mdXq7TCyxBGO"
      },
      "execution_count": 24,
      "outputs": []
    },
    {
      "cell_type": "code",
      "source": [
        "# Load the pretrained model\n",
        "test_model.load_model(load_path = \"./models/spr_hi_gnn_finetuned_complete_v1.pth\")"
      ],
      "metadata": {
        "id": "D9CC4YfSxOFE"
      },
      "execution_count": 25,
      "outputs": []
    },
    {
      "cell_type": "code",
      "source": [
        "# Get the predictions\n",
        "predictions = predict(test_model, clintox_loader, device = device)"
      ],
      "metadata": {
        "colab": {
          "base_uri": "https://localhost:8080/"
        },
        "id": "QJw5A85axZBF",
        "outputId": "a00e2748-a3e1-465c-bca7-966cd0d8bc13"
      },
      "execution_count": 28,
      "outputs": [
        {
          "output_type": "stream",
          "name": "stderr",
          "text": [
            "100%|██████████| 47/47 [00:00<00:00, 58.10it/s]\n"
          ]
        }
      ]
    },
    {
      "cell_type": "code",
      "source": [
        "list(predictions)"
      ],
      "metadata": {
        "colab": {
          "base_uri": "https://localhost:8080/"
        },
        "id": "DpcQchKCxxHU",
        "outputId": "b5e559ca-0f48-48aa-e202-d1c1e01d37ce"
      },
      "execution_count": 40,
      "outputs": [
        {
          "output_type": "execute_result",
          "data": {
            "text/plain": [
              "[0.15445851,\n",
              " 0.017813165,\n",
              " 0.16268986,\n",
              " 0.013013933,\n",
              " 0.21852762,\n",
              " 0.2426529,\n",
              " 0.110599205,\n",
              " 0.17818458,\n",
              " 0.15332972,\n",
              " 0.11543213,\n",
              " 0.19913237,\n",
              " 0.11057602,\n",
              " 0.13827683,\n",
              " 0.17350352,\n",
              " 0.16590823,\n",
              " 0.15800305,\n",
              " 0.061678093,\n",
              " 0.07911573,\n",
              " 0.12856063,\n",
              " 0.18931325,\n",
              " 0.19768417,\n",
              " 0.1950032,\n",
              " 0.00032541528,\n",
              " 0.13226676,\n",
              " 0.09922576,\n",
              " 0.12376462,\n",
              " 0.21844068,\n",
              " 0.17510603,\n",
              " -0.18439578,\n",
              " 0.05874883,\n",
              " 0.22261883,\n",
              " 0.1674865,\n",
              " 0.15828387,\n",
              " 0.24784584,\n",
              " 0.18353789,\n",
              " 0.1638126,\n",
              " 0.24389145,\n",
              " 0.08790596,\n",
              " 0.10132022,\n",
              " 0.07829523,\n",
              " 0.11513744,\n",
              " 0.23754257,\n",
              " 0.1442268,\n",
              " 0.19574784,\n",
              " 0.16129081,\n",
              " -0.0057227425,\n",
              " 0.10646446,\n",
              " 0.17353787,\n",
              " 0.17132607,\n",
              " 0.18174334,\n",
              " 0.18977654,\n",
              " 0.2522938,\n",
              " 0.15255082,\n",
              " -0.10322149,\n",
              " 0.15698127,\n",
              " 0.09675819,\n",
              " 0.19129561,\n",
              " 0.20760097,\n",
              " -0.25837126,\n",
              " 0.21894267,\n",
              " 0.13423608,\n",
              " 0.01927409,\n",
              " 0.14145432,\n",
              " 0.21893708,\n",
              " 0.1390802,\n",
              " 0.16067994,\n",
              " -0.50207275,\n",
              " 0.18349673,\n",
              " 0.2356656,\n",
              " 0.15235065,\n",
              " 0.14162335,\n",
              " 0.15510835,\n",
              " 0.22084762,\n",
              " 0.23261058,\n",
              " 0.10263787,\n",
              " 0.12493886,\n",
              " 0.14165153,\n",
              " -0.25744087,\n",
              " 0.098895386,\n",
              " 0.15972441,\n",
              " 0.11458893,\n",
              " 0.19421779,\n",
              " 0.16697094,\n",
              " 0.14379394,\n",
              " 0.25342736,\n",
              " -0.025389548,\n",
              " 0.30438823,\n",
              " 0.15614429,\n",
              " 0.19441585,\n",
              " 0.11603019,\n",
              " -0.39052248,\n",
              " 0.15960671,\n",
              " 0.07792008,\n",
              " 0.14058642,\n",
              " 0.35097882,\n",
              " 0.10082252,\n",
              " 0.108551055,\n",
              " 0.23089634,\n",
              " 0.03969958,\n",
              " 0.15238969,\n",
              " 0.1663812,\n",
              " 0.011650283,\n",
              " 0.15910119,\n",
              " 0.12059581,\n",
              " 0.21323888,\n",
              " 0.10565798,\n",
              " 0.23720932,\n",
              " -0.2808731,\n",
              " 0.1459843,\n",
              " 0.1578368,\n",
              " 0.20581602,\n",
              " 0.21030007,\n",
              " 0.07049124,\n",
              " 0.24101633,\n",
              " 0.118792474,\n",
              " 0.06323539,\n",
              " 0.29915264,\n",
              " 0.16979007,\n",
              " 0.15676348,\n",
              " 0.16480294,\n",
              " 0.29275647,\n",
              " 0.21388744,\n",
              " 0.20127966,\n",
              " 0.17117363,\n",
              " 0.10092029,\n",
              " -0.01981571,\n",
              " -0.3132253,\n",
              " 0.10174751,\n",
              " 0.08350968,\n",
              " 0.20936392,\n",
              " 0.049735513,\n",
              " 0.20998986,\n",
              " -0.044220116,\n",
              " 0.033161502,\n",
              " 0.16240062,\n",
              " 0.20351039,\n",
              " 0.09382105,\n",
              " 0.2033455,\n",
              " 0.13605233,\n",
              " 0.15703268,\n",
              " 0.15164837,\n",
              " 0.13513765,\n",
              " 0.30801132,\n",
              " 0.4019918,\n",
              " 0.18070611,\n",
              " 0.18923117,\n",
              " 0.18099414,\n",
              " 0.08546604,\n",
              " 0.11204849,\n",
              " 0.14416589,\n",
              " 0.13175215,\n",
              " 0.20841494,\n",
              " 0.112206385,\n",
              " 0.10977313,\n",
              " 0.020048518,\n",
              " -0.05561086,\n",
              " 0.13069794,\n",
              " 0.17412195,\n",
              " 0.22810802,\n",
              " 0.15640628,\n",
              " 0.20179828,\n",
              " 0.1969329,\n",
              " 0.17644362,\n",
              " 0.17594178,\n",
              " 0.07683429,\n",
              " 0.017665777,\n",
              " -0.001995746,\n",
              " 0.29881874,\n",
              " 0.22730985,\n",
              " 0.21648075,\n",
              " 0.12830019,\n",
              " -0.0657759,\n",
              " 0.23107451,\n",
              " 0.17923589,\n",
              " 0.13694642,\n",
              " 0.13445526,\n",
              " 0.114308015,\n",
              " 0.16325277,\n",
              " -0.007375229,\n",
              " 0.22844796,\n",
              " 0.11875273,\n",
              " 0.09461315,\n",
              " 0.06448054,\n",
              " 0.14338163,\n",
              " 0.10273205,\n",
              " 0.20927446,\n",
              " 0.2668638,\n",
              " 0.19665116,\n",
              " 0.14317867,\n",
              " 0.1478359,\n",
              " 0.21467112,\n",
              " 0.13537823,\n",
              " 0.07191342,\n",
              " 0.2231222,\n",
              " 0.10041393,\n",
              " 0.16695794,\n",
              " 0.10930483,\n",
              " 0.19416945,\n",
              " 0.15609328,\n",
              " -0.43988085,\n",
              " 0.006286029,\n",
              " 0.12685858,\n",
              " 0.19721772,\n",
              " 0.11986251,\n",
              " 0.008503806,\n",
              " 0.11244522,\n",
              " 0.18889405,\n",
              " 0.117128626,\n",
              " 0.18840614,\n",
              " 0.20111646,\n",
              " 0.08308722,\n",
              " 0.12128274,\n",
              " 0.5247284,\n",
              " 0.2612823,\n",
              " 0.22433643,\n",
              " 0.15594564,\n",
              " 0.09935866,\n",
              " 0.15350664,\n",
              " 0.1477317,\n",
              " 0.26132688,\n",
              " 0.10808794,\n",
              " 0.14818065,\n",
              " 0.05583917,\n",
              " 0.04442734,\n",
              " 0.14070432,\n",
              " 0.05114417,\n",
              " 0.1287879,\n",
              " 0.15537693,\n",
              " 0.085419804,\n",
              " 0.20624906,\n",
              " 0.11539525,\n",
              " 0.30199674,\n",
              " 0.04539435,\n",
              " 0.19497603,\n",
              " 0.15052296,\n",
              " 0.17890726,\n",
              " 0.12238346,\n",
              " 0.1540507,\n",
              " 0.24010257,\n",
              " 0.18672,\n",
              " 0.1677572,\n",
              " 0.07025845,\n",
              " 0.156752,\n",
              " 0.22600307,\n",
              " 0.162791,\n",
              " 0.13680741,\n",
              " 0.14105672,\n",
              " 0.08882876,\n",
              " 0.12584491,\n",
              " 0.21744382,\n",
              " 0.23210248,\n",
              " 0.24114478,\n",
              " 0.20313996,\n",
              " 0.14313132,\n",
              " 0.20517005,\n",
              " 0.108853936,\n",
              " 0.14810042,\n",
              " 0.20054986,\n",
              " 0.07179473,\n",
              " 0.11567235,\n",
              " 0.08303076,\n",
              " 0.13600783,\n",
              " 0.10962418,\n",
              " 0.19548394,\n",
              " 0.033510905,\n",
              " 0.1370054,\n",
              " 0.23437403,\n",
              " 0.16853602,\n",
              " 0.15874366,\n",
              " 0.12592296,\n",
              " 0.19104072,\n",
              " 0.22480097,\n",
              " 0.09401479,\n",
              " 0.23099223,\n",
              " 0.032298688,\n",
              " 0.19054832,\n",
              " 0.11740647,\n",
              " 0.15273926,\n",
              " 0.072471246,\n",
              " 0.120013684,\n",
              " 0.13655877,\n",
              " 0.11802459,\n",
              " 0.17469296,\n",
              " 0.19342871,\n",
              " 0.1612135,\n",
              " 0.15966842,\n",
              " 0.26619703,\n",
              " 0.15957452,\n",
              " 0.12357254,\n",
              " 0.1696427,\n",
              " 0.30587277,\n",
              " 0.13401487,\n",
              " 0.10818227,\n",
              " 0.23349686,\n",
              " 0.16253808,\n",
              " 0.13316867,\n",
              " 0.20652291,\n",
              " 0.21882004,\n",
              " 0.100478396,\n",
              " 0.08949247,\n",
              " 0.15747015,\n",
              " 0.1335446,\n",
              " 0.17081206,\n",
              " 0.13047922,\n",
              " -0.0020757578,\n",
              " 0.19561766,\n",
              " 0.08861789,\n",
              " 0.18910816,\n",
              " 0.08281319,\n",
              " 0.11983605,\n",
              " 0.113728866,\n",
              " 0.28975773,\n",
              " -0.0071949027,\n",
              " 0.104191884,\n",
              " 0.1840146,\n",
              " 0.20970744,\n",
              " 0.17250349,\n",
              " 0.15805307,\n",
              " 0.11118965,\n",
              " 0.07790828,\n",
              " 0.116328135,\n",
              " 0.20898859,\n",
              " 0.18981598,\n",
              " 0.05643292,\n",
              " 0.14620396,\n",
              " 0.17510606,\n",
              " -0.0043502413,\n",
              " 0.17976303,\n",
              " 0.19448982,\n",
              " 0.08958554,\n",
              " 0.15594862,\n",
              " 0.0804687,\n",
              " 0.15137513,\n",
              " 0.06534798,\n",
              " 0.19359837,\n",
              " 0.035145003,\n",
              " 0.2353973,\n",
              " 0.13369375,\n",
              " 0.15087174,\n",
              " 0.14658843,\n",
              " 0.24195684,\n",
              " 0.17934628,\n",
              " 0.033287417,\n",
              " 0.21189739,\n",
              " 0.27137554,\n",
              " 0.19001357,\n",
              " 0.18148457,\n",
              " 0.15321502,\n",
              " 0.121907696,\n",
              " 0.26710632,\n",
              " 0.10324292,\n",
              " 0.1371676,\n",
              " 0.094629765,\n",
              " 0.32403854,\n",
              " 0.21500129,\n",
              " 0.33015004,\n",
              " 0.31703475,\n",
              " 0.22748376,\n",
              " 0.17760053,\n",
              " 0.18908529,\n",
              " 0.029025454,\n",
              " 0.28858036,\n",
              " 0.21058656,\n",
              " 0.11038554,\n",
              " 0.18137199,\n",
              " 0.27653545,\n",
              " 0.3211238,\n",
              " 0.18735377,\n",
              " 0.1587274,\n",
              " 0.17639105,\n",
              " 0.43035012,\n",
              " 0.1400054,\n",
              " 0.2328042,\n",
              " 0.18936725,\n",
              " 0.15843402,\n",
              " 0.06427251,\n",
              " 0.17943685,\n",
              " 0.15529406,\n",
              " 0.23388304,\n",
              " 0.1780939,\n",
              " 0.40240648,\n",
              " 0.18854858,\n",
              " 0.18879308,\n",
              " -0.2995866,\n",
              " 0.15338239,\n",
              " 0.1355133,\n",
              " 0.11500347,\n",
              " -0.29653567,\n",
              " 0.10712309,\n",
              " 0.08063437,\n",
              " 0.16760793,\n",
              " 0.11908877,\n",
              " 0.12045281,\n",
              " 0.12201661,\n",
              " 0.10471232,\n",
              " 0.20786099,\n",
              " -0.0010637529,\n",
              " 0.16112135,\n",
              " 0.11108351,\n",
              " 0.18841402,\n",
              " 0.21337043,\n",
              " 0.16466923,\n",
              " 0.15320146,\n",
              " 0.17754732,\n",
              " 0.09845404,\n",
              " 0.21094932,\n",
              " 0.13086072,\n",
              " 0.1063066,\n",
              " 0.15304215,\n",
              " 0.072812214,\n",
              " 0.1573588,\n",
              " 0.10953279,\n",
              " 0.1455494,\n",
              " 0.1403641,\n",
              " 0.026123565,\n",
              " 0.57831556,\n",
              " 0.23084228,\n",
              " 0.21027954,\n",
              " 0.07394542,\n",
              " 0.08627002,\n",
              " 0.10001932,\n",
              " 0.24133615,\n",
              " 0.18061958,\n",
              " 0.16992763,\n",
              " 0.23601416,\n",
              " 0.1556357,\n",
              " 0.22856174,\n",
              " 0.15659843,\n",
              " 0.046436433,\n",
              " 0.24909298,\n",
              " 0.21158232,\n",
              " 0.15992735,\n",
              " 0.21031423,\n",
              " 0.20527816,\n",
              " 0.096784756,\n",
              " 0.010297287,\n",
              " 0.15493603,\n",
              " 0.12355387,\n",
              " 0.104727864,\n",
              " 0.091340825,\n",
              " 0.11993046,\n",
              " 0.13563013,\n",
              " 0.0837865,\n",
              " 0.17084794,\n",
              " 0.15310772,\n",
              " 0.21672145,\n",
              " 0.13309795,\n",
              " 0.17110457,\n",
              " 0.16330549,\n",
              " 0.1293808,\n",
              " 0.2841033,\n",
              " 0.15502052,\n",
              " 0.16069882,\n",
              " 0.12570322,\n",
              " 0.1392372,\n",
              " 0.16017283,\n",
              " 0.1509854,\n",
              " 0.15882695,\n",
              " 0.22867435,\n",
              " 0.18409355,\n",
              " 0.21299852,\n",
              " 0.14603963,\n",
              " 0.043398526,\n",
              " 0.10720964,\n",
              " 0.18177192,\n",
              " 0.17376049,\n",
              " 0.17866953,\n",
              " 0.27360815,\n",
              " 0.17501667,\n",
              " 0.14300153,\n",
              " 0.054734785,\n",
              " 0.23280431,\n",
              " 0.13927028,\n",
              " 0.019414384,\n",
              " 0.16181149,\n",
              " 0.15416251,\n",
              " 0.15403658,\n",
              " 0.19119065,\n",
              " 0.10936895,\n",
              " 0.1051206,\n",
              " 0.21897772,\n",
              " 0.2551226,\n",
              " 0.16375501,\n",
              " 0.09505126,\n",
              " 0.20630981,\n",
              " 0.19309448,\n",
              " 0.25135076,\n",
              " 0.03762007,\n",
              " 0.36639318,\n",
              " 0.15191554,\n",
              " 0.14399861,\n",
              " 0.16067673,\n",
              " 0.19832218,\n",
              " 0.059381012,\n",
              " 0.15049212,\n",
              " 0.22379214,\n",
              " 0.09632617,\n",
              " 0.22825953,\n",
              " 0.079728335,\n",
              " 0.08669528,\n",
              " 0.27481976,\n",
              " 0.19796501,\n",
              " 0.35019735,\n",
              " 0.121941134,\n",
              " 0.11836402,\n",
              " 0.2947494,\n",
              " -0.31171715,\n",
              " 0.1793314,\n",
              " 0.1898009,\n",
              " 0.45151648,\n",
              " 0.13263252,\n",
              " 0.22980635,\n",
              " 0.16850398,\n",
              " 0.21257488,\n",
              " 0.22695118,\n",
              " 0.08865619,\n",
              " 0.15523963,\n",
              " 0.20171352,\n",
              " 0.09344569,\n",
              " 0.12729347,\n",
              " -1.5119938,\n",
              " 0.22727145,\n",
              " 0.110899016,\n",
              " 0.27078393,\n",
              " 0.20438673,\n",
              " 0.22427095,\n",
              " 0.08747466,\n",
              " 0.22275008,\n",
              " 0.163702,\n",
              " 0.18792517,\n",
              " 0.25311103,\n",
              " 0.1885203,\n",
              " 0.2662804,\n",
              " 0.081777945,\n",
              " 0.1108228,\n",
              " 0.4038444,\n",
              " 0.14611025,\n",
              " 0.14575598,\n",
              " 0.16325502,\n",
              " 0.21211812,\n",
              " 0.2167707,\n",
              " 0.15345657,\n",
              " 0.14363626,\n",
              " 0.24196687,\n",
              " 0.20729478,\n",
              " 0.13082667,\n",
              " 0.085298836,\n",
              " 0.056141008,\n",
              " 0.0650927,\n",
              " 0.18886174,\n",
              " 0.16007014,\n",
              " 0.09741935,\n",
              " 0.15319264,\n",
              " 0.18881498,\n",
              " 0.148459,\n",
              " 0.16000547,\n",
              " 0.11360045,\n",
              " 0.35466066,\n",
              " 0.164006,\n",
              " 0.07702583,\n",
              " -0.23489921,\n",
              " 0.06757431,\n",
              " 0.23046137,\n",
              " 0.07893664,\n",
              " 0.2529518,\n",
              " 0.19109519,\n",
              " 0.30887398,\n",
              " 0.21664168,\n",
              " 0.15739362,\n",
              " 0.13979295,\n",
              " 0.081547275,\n",
              " 0.23211776,\n",
              " 0.09858847,\n",
              " -0.043779816,\n",
              " 0.13796227,\n",
              " 0.09512904,\n",
              " 0.119752616,\n",
              " 0.13098784,\n",
              " 0.20805329,\n",
              " 0.2242835,\n",
              " 0.11290079,\n",
              " 0.18117523,\n",
              " 0.106934145,\n",
              " 0.08696617,\n",
              " 0.13903295,\n",
              " 0.21207054,\n",
              " 0.13163902,\n",
              " 0.1444247,\n",
              " 0.21248494,\n",
              " 0.2321014,\n",
              " 0.20298107,\n",
              " 0.31318647,\n",
              " 0.28584564,\n",
              " 0.24037117,\n",
              " 0.15147534,\n",
              " 0.18676493,\n",
              " 0.09728651,\n",
              " 0.14082572,\n",
              " 0.16687052,\n",
              " 0.1372492,\n",
              " 0.18787608,\n",
              " 0.20010208,\n",
              " 0.14401348,\n",
              " 0.17896582,\n",
              " 0.14017116,\n",
              " 0.14556415,\n",
              " 0.011572596,\n",
              " 0.20662375,\n",
              " 0.31603342,\n",
              " 0.17206207,\n",
              " 0.18985118,\n",
              " 0.107244015,\n",
              " 0.20209888,\n",
              " 0.2248696,\n",
              " 0.23728092,\n",
              " 0.03200378,\n",
              " 0.1633129,\n",
              " 0.12318061,\n",
              " 0.20215906,\n",
              " 0.13858306,\n",
              " 0.14182507,\n",
              " 0.116791114,\n",
              " 0.24029516,\n",
              " 0.12096487,\n",
              " 0.2921053,\n",
              " 0.1549674,\n",
              " 0.17612982,\n",
              " 0.16291957,\n",
              " 0.17666076,\n",
              " 0.21574964,\n",
              " -0.0041975044,\n",
              " 0.2193719,\n",
              " 0.26378337,\n",
              " 0.1425012,\n",
              " 0.16300572,\n",
              " 0.100742385,\n",
              " 0.15706547,\n",
              " 0.19752334,\n",
              " 0.23527701,\n",
              " 0.5936175,\n",
              " 0.06732899,\n",
              " 0.05394166,\n",
              " 0.0880457,\n",
              " 0.19918787,\n",
              " 0.20510241,\n",
              " 0.16114086,\n",
              " 0.330847,\n",
              " 0.18814814,\n",
              " 0.15808913,\n",
              " 0.18840747,\n",
              " 0.24540327,\n",
              " 0.06444365,\n",
              " 0.0864844,\n",
              " 0.15762113,\n",
              " -0.17263351,\n",
              " 0.13457981,\n",
              " 0.11527936,\n",
              " 0.18483694,\n",
              " 0.11525802,\n",
              " 0.19764434,\n",
              " 0.049500402,\n",
              " 0.1197782,\n",
              " 0.15210067,\n",
              " 0.105501786,\n",
              " 0.10372156,\n",
              " 0.11776902,\n",
              " 0.1676862,\n",
              " 0.098452136,\n",
              " 0.22946404,\n",
              " 0.1470346,\n",
              " 0.19953838,\n",
              " 0.17384231,\n",
              " -0.09922604,\n",
              " 0.21743241,\n",
              " 0.2013355,\n",
              " 0.4073961,\n",
              " 0.22693585,\n",
              " 0.26044628,\n",
              " 0.15495653,\n",
              " 0.19011511,\n",
              " 0.13542534,\n",
              " 0.10765776,\n",
              " 0.256414,\n",
              " 0.11634627,\n",
              " 0.13844247,\n",
              " 0.25079694,\n",
              " 0.021740045,\n",
              " 0.073579386,\n",
              " 0.19807333,\n",
              " 0.15302144,\n",
              " 0.17596893,\n",
              " 0.21030012,\n",
              " 0.09714945,\n",
              " 0.2889744,\n",
              " 0.12103486,\n",
              " 0.09500456,\n",
              " 0.21813023,\n",
              " 0.0713851,\n",
              " 0.096119314,\n",
              " 0.14323111,\n",
              " 0.07970066,\n",
              " 0.17894681,\n",
              " 0.16672309,\n",
              " 0.08639835,\n",
              " 0.3096191,\n",
              " 0.049335692,\n",
              " 0.099218026,\n",
              " 0.15452136,\n",
              " 0.11069512,\n",
              " 0.14965962,\n",
              " 0.112483785,\n",
              " 0.17117524,\n",
              " 0.17285015,\n",
              " 0.13049911,\n",
              " 0.05969729,\n",
              " 0.12139644,\n",
              " 0.14977945,\n",
              " 0.14785427,\n",
              " 0.21395826,\n",
              " 0.15081331,\n",
              " 0.10669176,\n",
              " 0.30846187,\n",
              " 0.14574073,\n",
              " 0.106766224,\n",
              " 0.11636928,\n",
              " 0.14223471,\n",
              " 0.098059446,\n",
              " -0.03633335,\n",
              " 0.19891158,\n",
              " 0.16480792,\n",
              " 0.1742584,\n",
              " 0.24549899,\n",
              " 0.19184737,\n",
              " 0.15354666,\n",
              " 0.064943776,\n",
              " 0.20680279,\n",
              " 0.02895281,\n",
              " 0.09874396,\n",
              " 0.10023993,\n",
              " 0.17023629,\n",
              " 0.26628038,\n",
              " 0.07904598,\n",
              " 0.2636948,\n",
              " 0.21948524,\n",
              " 0.11066042,\n",
              " 0.11518249,\n",
              " 0.0769341,\n",
              " 0.10627809,\n",
              " 0.20207016,\n",
              " 0.15550104,\n",
              " 0.14565906,\n",
              " 0.2332728,\n",
              " 0.04653104,\n",
              " 0.16488054,\n",
              " 0.17018132,\n",
              " 0.15666623,\n",
              " 0.13521472,\n",
              " 0.11824775,\n",
              " 0.10128477,\n",
              " 0.119998276,\n",
              " 0.08538717,\n",
              " 0.21579973,\n",
              " 0.20717947,\n",
              " 0.21117671,\n",
              " 0.23530595,\n",
              " 0.15408936,\n",
              " 0.17887034,\n",
              " 0.23603414,\n",
              " 0.1841859,\n",
              " 0.15284765,\n",
              " 0.17932396,\n",
              " 0.17898512,\n",
              " 0.19696547,\n",
              " 0.17141445,\n",
              " 0.11256492,\n",
              " 0.1796568,\n",
              " 0.23279475,\n",
              " 0.22635737,\n",
              " 0.16023956,\n",
              " 0.106478184,\n",
              " 0.10540281,\n",
              " 0.19035527,\n",
              " 0.14332035,\n",
              " 0.09591089,\n",
              " 0.008577522,\n",
              " 0.084869996,\n",
              " 0.2161655,\n",
              " 0.15072612,\n",
              " 0.1538315,\n",
              " -0.28931725,\n",
              " 0.081757985,\n",
              " 0.17773221,\n",
              " 0.09619109,\n",
              " 0.14552274,\n",
              " 0.21690166,\n",
              " -0.0022101067,\n",
              " 0.27713788,\n",
              " 0.16047236,\n",
              " 0.19688259,\n",
              " 0.1019261,\n",
              " 0.182575,\n",
              " 0.3743002,\n",
              " 0.06907897,\n",
              " 0.145624,\n",
              " 0.24509232,\n",
              " 0.23046024,\n",
              " 0.12472099,\n",
              " 0.10806565,\n",
              " 0.21959284,\n",
              " 0.1507474,\n",
              " 0.23032361,\n",
              " 0.22915886,\n",
              " 0.20446847,\n",
              " 0.06635457,\n",
              " 0.2024682,\n",
              " 0.18893884,\n",
              " 0.3128853,\n",
              " 0.17522602,\n",
              " 0.14679335,\n",
              " 0.1946251,\n",
              " 0.23255672,\n",
              " 0.10415821,\n",
              " 0.19356985,\n",
              " 0.13561314,\n",
              " 0.078715876,\n",
              " 0.1406572,\n",
              " 0.28035787,\n",
              " 0.15479596,\n",
              " 0.16042368,\n",
              " 0.25556946,\n",
              " 0.2746549,\n",
              " 0.18917562,\n",
              " 0.09956826,\n",
              " 0.33086693,\n",
              " 0.17050053,\n",
              " 0.25240472,\n",
              " 0.13581312,\n",
              " 0.0985464,\n",
              " 0.15617153,\n",
              " 0.16397288,\n",
              " 0.19034551,\n",
              " 0.17039384,\n",
              " 0.21927238,\n",
              " 0.19566208,\n",
              " 0.18933521,\n",
              " 0.22803552,\n",
              " 0.049603853,\n",
              " 0.16469452,\n",
              " 0.074263066,\n",
              " 0.17071898,\n",
              " 0.10411619,\n",
              " 0.032798287,\n",
              " 0.08073494,\n",
              " -0.0055897795,\n",
              " 0.07797618,\n",
              " 0.1362208,\n",
              " 0.1709745,\n",
              " 0.10464746,\n",
              " 0.22659165,\n",
              " 0.19583215,\n",
              " 0.18838239,\n",
              " 0.16796611,\n",
              " 0.23773347,\n",
              " 0.15251616,\n",
              " 0.096127614,\n",
              " 0.27793473,\n",
              " 0.18813886,\n",
              " 0.21065135,\n",
              " 0.10685603,\n",
              " 0.2208472,\n",
              " 0.18231164,\n",
              " 0.16220279,\n",
              " 0.1161824,\n",
              " 0.27248767,\n",
              " 0.20871018,\n",
              " -0.12803341,\n",
              " 0.19556561,\n",
              " 0.21036588,\n",
              " 0.04792774,\n",
              " 0.29566804,\n",
              " -0.00832982,\n",
              " 0.1474464,\n",
              " 0.1921133,\n",
              " 0.049976695,\n",
              " 0.14552271,\n",
              " 0.116792396,\n",
              " 0.2148485,\n",
              " 0.17199971,\n",
              " 0.26119712,\n",
              " 0.16494359,\n",
              " 0.12693816,\n",
              " 0.20086776,\n",
              " 0.018675331,\n",
              " 0.13536151,\n",
              " 0.17730555,\n",
              " 0.1756219,\n",
              " 0.09549683,\n",
              " -0.0040450953,\n",
              " 0.11830315,\n",
              " 0.16897695,\n",
              " 0.12033181,\n",
              " 0.14763628,\n",
              " 0.14887555,\n",
              " 0.21350001,\n",
              " 0.12829144,\n",
              " 0.16995732,\n",
              " 0.19817775,\n",
              " 0.14605664,\n",
              " 0.24186172,\n",
              " 0.2051154,\n",
              " 0.19004957,\n",
              " 0.15006489,\n",
              " 0.175918,\n",
              " 0.13778791,\n",
              " 0.05693007,\n",
              " 0.11010179,\n",
              " 0.14252721,\n",
              " 0.03691222,\n",
              " 0.17314121,\n",
              " 0.18618731,\n",
              " 0.17873214,\n",
              " 0.06735872,\n",
              " 0.04332376,\n",
              " 0.2157953,\n",
              " 0.057255972,\n",
              " 0.1607915,\n",
              " 0.50585353,\n",
              " 0.09032127,\n",
              " 0.25563744,\n",
              " 0.16771634,\n",
              " 0.10242127,\n",
              " 0.26297355,\n",
              " -0.06167757,\n",
              " 0.17925306,\n",
              " 0.09652938,\n",
              " 0.15464856,\n",
              " 0.0947852,\n",
              " 0.16627511,\n",
              " 0.064277425,\n",
              " 0.043955144,\n",
              " 0.19138466,\n",
              " 0.15449469,\n",
              " 0.10022232,\n",
              " 0.23229283,\n",
              " 0.16909692,\n",
              " 0.100660875,\n",
              " 0.10201272,\n",
              " 0.28410324,\n",
              " 0.14093255,\n",
              " 0.108810216,\n",
              " 0.19665115,\n",
              " 0.14172477,\n",
              " 0.20168294,\n",
              " 0.17226945,\n",
              " 0.15639518,\n",
              " 0.1366094,\n",
              " 0.20085518,\n",
              " 0.50803566,\n",
              " 0.14024849,\n",
              " 0.17187555,\n",
              " 0.10836144,\n",
              " 0.087212086,\n",
              " 0.20936386,\n",
              " 0.20430852,\n",
              " 0.30560538,\n",
              " 0.17874405,\n",
              " 0.24139965,\n",
              " 0.13338928,\n",
              " 0.14338149,\n",
              " 0.15028304,\n",
              " 0.12461461,\n",
              " -0.04061697,\n",
              " 0.23201974,\n",
              " 0.007896829,\n",
              " 0.09684566,\n",
              " 0.17593774,\n",
              " 0.05076554,\n",
              " 0.16218439,\n",
              " 0.16265228,\n",
              " 0.18852904,\n",
              " 0.014717381,\n",
              " 0.096888095,\n",
              " 0.10051352,\n",
              " 0.143977,\n",
              " 0.15227546,\n",
              " 0.13402115,\n",
              " 0.15615265,\n",
              " 0.18614325,\n",
              " 0.11289759,\n",
              " 0.106113836,\n",
              " 0.02538002,\n",
              " 0.15317981,\n",
              " 0.13716605,\n",
              " 0.033242967,\n",
              " 0.18691531,\n",
              " 0.07683197,\n",
              " 0.07536097,\n",
              " 0.062101875,\n",
              " 0.23583035,\n",
              " 0.20054536,\n",
              " ...]"
            ]
          },
          "metadata": {},
          "execution_count": 40
        }
      ]
    }
  ]
}