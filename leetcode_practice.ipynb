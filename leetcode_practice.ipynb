{
  "nbformat": 4,
  "nbformat_minor": 0,
  "metadata": {
    "colab": {
      "provenance": [],
      "authorship_tag": "ABX9TyMEXwdjyMVVbI41C7trox/3",
      "include_colab_link": true
    },
    "kernelspec": {
      "name": "python3",
      "display_name": "Python 3"
    },
    "language_info": {
      "name": "python"
    }
  },
  "cells": [
    {
      "cell_type": "markdown",
      "metadata": {
        "id": "view-in-github",
        "colab_type": "text"
      },
      "source": [
        "<a href=\"https://colab.research.google.com/github/pranay8297/deep-learning-projects/blob/master/leetcode_practice.ipynb\" target=\"_parent\"><img src=\"https://colab.research.google.com/assets/colab-badge.svg\" alt=\"Open In Colab\"/></a>"
      ]
    },
    {
      "cell_type": "code",
      "execution_count": 29,
      "metadata": {
        "id": "ygEQJWEboM6q"
      },
      "outputs": [],
      "source": [
        "edges = [[3,0],[3,1],[3,2],[3,4],[5,4]]"
      ]
    },
    {
      "cell_type": "code",
      "source": [
        "all_nodes = set()\n",
        "for i in edges:\n",
        "  all_nodes.add(i[0])\n",
        "  all_nodes.add(i[1])\n",
        "all_nodes = tuple(all_nodes)"
      ],
      "metadata": {
        "id": "WRAYtpU-oaSl"
      },
      "execution_count": 8,
      "outputs": []
    },
    {
      "cell_type": "code",
      "source": [
        "\n",
        "all_nodes"
      ],
      "metadata": {
        "colab": {
          "base_uri": "https://localhost:8080/"
        },
        "id": "sLHby1e6ojRz",
        "outputId": "ac642d57-e602-439a-85df-236af2e54aba"
      },
      "execution_count": 11,
      "outputs": [
        {
          "output_type": "execute_result",
          "data": {
            "text/plain": [
              "(0, 1, 2, 3, 4, 5)"
            ]
          },
          "metadata": {},
          "execution_count": 11
        }
      ]
    },
    {
      "cell_type": "code",
      "source": [
        "root_node = all_nodes[0]\n",
        "tree = [(root_node)]\n",
        "child_nodes = []\n",
        "next_edges = []\n",
        "for edge in edges:\n",
        "  if edge[0] == root_node or edge[1] == root_node: # This is an edge from the node.\n",
        "    child_nodes.append(edge[0] if edge[0] != root_node else edge[1])\n",
        "  else:\n",
        "    next_edges.append(edge)"
      ],
      "metadata": {
        "id": "KBpQYQOHpThG"
      },
      "execution_count": 19,
      "outputs": []
    },
    {
      "cell_type": "code",
      "source": [
        "child_nodes"
      ],
      "metadata": {
        "colab": {
          "base_uri": "https://localhost:8080/"
        },
        "id": "Kv4ottLkqa2m",
        "outputId": "11f22162-f3fc-460f-e7db-c1368178aaad"
      },
      "execution_count": 20,
      "outputs": [
        {
          "output_type": "execute_result",
          "data": {
            "text/plain": [
              "[3]"
            ]
          },
          "metadata": {},
          "execution_count": 20
        }
      ]
    },
    {
      "cell_type": "code",
      "source": [
        "next_edges"
      ],
      "metadata": {
        "colab": {
          "base_uri": "https://localhost:8080/"
        },
        "id": "JI6Qv8uqqiC4",
        "outputId": "dd7a8c77-7020-445a-f25a-2b94d200baa1"
      },
      "execution_count": 21,
      "outputs": [
        {
          "output_type": "execute_result",
          "data": {
            "text/plain": [
              "[[3, 1], [3, 2], [3, 4], [5, 4]]"
            ]
          },
          "metadata": {},
          "execution_count": 21
        }
      ]
    },
    {
      "cell_type": "code",
      "source": [
        "def advance(this_node, edges):\n",
        "\n",
        "    if len(edges) == 0: return [], []\n",
        "\n",
        "    child_nodes = []\n",
        "    next_edges = []\n",
        "    for edge in edges:\n",
        "        if edge[0] == this_node or edge[1] == this_node: # This is an edge from the node.\n",
        "            child_nodes.append(edge[0] if edge[0] != this_node else edge[1])\n",
        "        else:\n",
        "            next_edges.append(edge)\n",
        "    return child_nodes, next_edges"
      ],
      "metadata": {
        "id": "A1FOxSqtq_Ky"
      },
      "execution_count": 22,
      "outputs": []
    },
    {
      "cell_type": "code",
      "source": [
        "child_nodes, next_edges =  advance(child_nodes[0], next_edges)"
      ],
      "metadata": {
        "id": "kZXHLgSGqnTY"
      },
      "execution_count": 23,
      "outputs": []
    },
    {
      "cell_type": "code",
      "source": [
        "child_nodes, next_edges"
      ],
      "metadata": {
        "colab": {
          "base_uri": "https://localhost:8080/"
        },
        "id": "zDmiiyoorarG",
        "outputId": "36e4c0ab-9abc-422e-9022-ad826db65a1d"
      },
      "execution_count": 24,
      "outputs": [
        {
          "output_type": "execute_result",
          "data": {
            "text/plain": [
              "([1, 2, 4], [[5, 4]])"
            ]
          },
          "metadata": {},
          "execution_count": 24
        }
      ]
    },
    {
      "cell_type": "code",
      "source": [
        "advance(child_nodes[2], next_edges)"
      ],
      "metadata": {
        "colab": {
          "base_uri": "https://localhost:8080/"
        },
        "id": "AncfrSd3rpFC",
        "outputId": "dd43de58-6b39-4a28-c27b-92b667dc8862"
      },
      "execution_count": 27,
      "outputs": [
        {
          "output_type": "execute_result",
          "data": {
            "text/plain": [
              "([5], [])"
            ]
          },
          "metadata": {},
          "execution_count": 27
        }
      ]
    },
    {
      "cell_type": "code",
      "source": [
        "def get_level(level, edges):\n",
        "    next_edges = [i for i in edges]\n",
        "    child_nodes = []\n",
        "    for node in level:\n",
        "        children, next_edges = advance(node, next_edges)\n",
        "        child_nodes += children\n",
        "    return child_nodes, next_edges"
      ],
      "metadata": {
        "id": "Fs9iT937sgtA"
      },
      "execution_count": 28,
      "outputs": []
    },
    {
      "cell_type": "code",
      "source": [
        "child_nodes, next_edges = get_level([0], edges)"
      ],
      "metadata": {
        "colab": {
          "base_uri": "https://localhost:8080/"
        },
        "id": "ZFUKrCCLtx2y",
        "outputId": "f41608b2-eb01-494d-924b-d8366c0d32e2"
      },
      "execution_count": 30,
      "outputs": [
        {
          "output_type": "execute_result",
          "data": {
            "text/plain": [
              "([3], [[3, 1], [3, 2], [3, 4], [5, 4]])"
            ]
          },
          "metadata": {},
          "execution_count": 30
        }
      ]
    },
    {
      "cell_type": "code",
      "source": [
        "child_nodes, next_edges = get_level(child_nodes, next_edges)"
      ],
      "metadata": {
        "id": "RcIg5Ln4t5HH"
      },
      "execution_count": 31,
      "outputs": []
    },
    {
      "cell_type": "code",
      "source": [
        "child_nodes, next_edges"
      ],
      "metadata": {
        "colab": {
          "base_uri": "https://localhost:8080/"
        },
        "id": "xzhdoGCDt5PB",
        "outputId": "df994b0f-eb87-4b0b-88be-dbec285a15ad"
      },
      "execution_count": 32,
      "outputs": [
        {
          "output_type": "execute_result",
          "data": {
            "text/plain": [
              "([5], [])"
            ]
          },
          "metadata": {},
          "execution_count": 32
        }
      ]
    },
    {
      "cell_type": "code",
      "source": [
        "from ipdb import set_trace as st"
      ],
      "metadata": {
        "id": "5w3Gm6HjuohY"
      },
      "execution_count": 42,
      "outputs": []
    },
    {
      "cell_type": "code",
      "source": [
        "def get_tree(root_node, all_nodes, edges):\n",
        "    tree = [(root_node,)]\n",
        "    child_nodes = tree[0]\n",
        "    next_edges = [i for i in edges]\n",
        "    while len(next_edges) > 0:\n",
        "        child_nodes, next_edges = get_level(child_nodes, next_edges)\n",
        "        tree.append(child_nodes)\n",
        "    return tree"
      ],
      "metadata": {
        "id": "kEUQKSMMrvHd"
      },
      "execution_count": 47,
      "outputs": []
    },
    {
      "cell_type": "code",
      "source": [
        "get_tree(4, all_nodes, [[3,0],[3,1],[3,2],[3,4],[5,4]])"
      ],
      "metadata": {
        "colab": {
          "base_uri": "https://localhost:8080/"
        },
        "id": "bw-ekDaYuVHj",
        "outputId": "204ce304-404e-4268-bf02-502a8bccf038"
      },
      "execution_count": 50,
      "outputs": [
        {
          "output_type": "execute_result",
          "data": {
            "text/plain": [
              "[(4,), [3, 5], [0, 1, 2]]"
            ]
          },
          "metadata": {},
          "execution_count": 50
        }
      ]
    },
    {
      "cell_type": "code",
      "source": [
        "def get_min_height_trees(all_nodes, edges):\n",
        "    all_nodes = set()\n",
        "    for i in edges:\n",
        "        all_nodes.add(i[0])\n",
        "        all_nodes.add(i[1])\n",
        "    all_nodes = tuple(all_nodes)\n",
        "\n",
        "    trees_len = {node: len(get_tree(node, all_nodes, edges)) for node in all_nodes}\n",
        "    min_tree_length = min(trees_len.values())\n",
        "    nodes = []\n",
        "    for k, v in trees_len.items():\n",
        "        if v == min_tree_length: nodes.append(k)\n",
        "    return nodes"
      ],
      "metadata": {
        "id": "QExVH7u-ublq"
      },
      "execution_count": 68,
      "outputs": []
    },
    {
      "cell_type": "code",
      "source": [
        "all_nodes = set()\n",
        "for i in edges:\n",
        "  all_nodes.add(i[0])\n",
        "  all_nodes.add(i[1])\n",
        "all_nodes = tuple(all_nodes)\n",
        "\n",
        "get_min_height_trees(all_nodes, edges)"
      ],
      "metadata": {
        "colab": {
          "base_uri": "https://localhost:8080/"
        },
        "id": "Mq6l2Sr4vyw9",
        "outputId": "ecca0286-656e-4772-e983-6f30dc7a0a9a"
      },
      "execution_count": 69,
      "outputs": [
        {
          "output_type": "execute_result",
          "data": {
            "text/plain": [
              "[3, 4]"
            ]
          },
          "metadata": {},
          "execution_count": 69
        }
      ]
    },
    {
      "cell_type": "code",
      "source": [
        "class Solution:\n",
        "    def findMinHeightTrees(self, n, edges):\n",
        "        def advance(this_node, edges):\n",
        "\n",
        "            if len(edges) == 0: return [], []\n",
        "\n",
        "            child_nodes = []\n",
        "            next_edges = []\n",
        "            for edge in edges:\n",
        "                if edge[0] == this_node or edge[1] == this_node: # This is an edge from the node.\n",
        "                    child_nodes.append(edge[0] if edge[0] != this_node else edge[1])\n",
        "                else:\n",
        "                    next_edges.append(edge)\n",
        "            return child_nodes, next_edges\n",
        "\n",
        "        def get_level(level, edges):\n",
        "            next_edges = [i for i in edges]\n",
        "            child_nodes = []\n",
        "            for node in level:\n",
        "                children, next_edges = advance(node, next_edges)\n",
        "                child_nodes += children\n",
        "            return child_nodes, next_edges\n",
        "\n",
        "        def get_tree(root_node, all_nodes, edges):\n",
        "            tree = [(root_node,)]\n",
        "            child_nodes = tree[0]\n",
        "            next_edges = [i for i in edges]\n",
        "            while len(next_edges) > 0:\n",
        "                child_nodes, next_edges = get_level(child_nodes, next_edges)\n",
        "                tree.append(child_nodes)\n",
        "            return tree\n",
        "\n",
        "        def get_min_height_trees(all_nodes, edges):\n",
        "            trees_len = {}\n",
        "            min_len = None\n",
        "            for node in all_nodes:\n",
        "              this_len = len(get_tree(node, all_nodes, edges))\n",
        "              trees_len = {node: len(get_tree(node, all_nodes, edges)) for node in all_nodes}\n",
        "            min_tree_length = min(trees_len.values())\n",
        "            nodes = []\n",
        "            for k, v in trees_len.items():\n",
        "                if v == min_tree_length: nodes.append(k)\n",
        "            return nodes\n",
        "\n",
        "        all_nodes = list(range(n))\n",
        "        if len(all_nodes) == 0: return []\n",
        "        return get_min_height_trees(all_nodes, edges)"
      ],
      "metadata": {
        "id": "9S2IL8pQv18l"
      },
      "execution_count": 73,
      "outputs": []
    },
    {
      "cell_type": "code",
      "source": [
        "Solution().findMinHeightTrees(505, [[0,1],[0,2],[2,3],[0,4],[1,5],[2,6],[4,7],[5,8],[5,9],[4,10],[5,11],[8,12],[6,13],[9,14],[1,15],[6,16],[14,17],[3,18],[4,19],[14,20],[9,21],[16,22],[6,23],[7,24],[9,25],[13,26],[1,27],[17,28],[25,29],[0,30],[29,31],[19,32],[5,33],[19,34],[16,35],[19,36],[10,37],[29,38],[9,39],[31,40],[1,41],[1,42],[20,43],[10,44],[20,45],[0,46],[26,47],[10,48],[32,49],[21,50],[5,51],[15,52],[17,53],[39,54],[17,55],[38,56],[38,57],[10,58],[2,59],[4,60],[43,61],[7,62],[15,63],[45,64],[30,65],[41,66],[26,67],[19,68],[2,69],[38,70],[58,71],[20,72],[13,73],[45,74],[55,75],[13,76],[35,77],[17,78],[65,79],[38,80],[15,81],[22,82],[66,83],[20,84],[41,85],[78,86],[82,87],[10,88],[53,89],[10,90],[68,91],[24,92],[65,93],[18,94],[4,95],[26,96],[63,97],[0,98],[70,99],[3,100],[48,101],[41,102],[99,103],[56,104],[10,105],[83,106],[96,107],[8,108],[86,109],[55,110],[72,111],[67,112],[42,113],[63,114],[65,115],[107,116],[29,117],[112,118],[36,119],[55,120],[48,121],[106,122],[31,123],[75,124],[95,125],[8,126],[1,127],[72,128],[70,129],[123,130],[109,131],[46,132],[99,133],[107,134],[48,135],[120,136],[61,137],[7,138],[127,139],[72,140],[132,141],[4,142],[81,143],[85,144],[91,145],[25,146],[88,147],[147,148],[97,149],[145,150],[140,151],[83,152],[71,153],[66,154],[86,155],[48,156],[29,157],[142,158],[13,159],[159,160],[31,161],[66,162],[140,163],[128,164],[129,165],[43,166],[103,167],[136,168],[39,169],[42,170],[154,171],[59,172],[86,173],[61,174],[51,175],[15,176],[139,177],[30,178],[130,179],[165,180],[47,181],[54,182],[68,183],[160,184],[71,185],[39,186],[30,187],[107,188],[43,189],[89,190],[85,191],[183,192],[26,193],[193,194],[172,195],[1,196],[43,197],[178,198],[128,199],[4,200],[150,201],[58,202],[93,203],[183,204],[15,205],[98,206],[131,207],[7,208],[138,209],[129,210],[186,211],[47,212],[66,213],[155,214],[123,215],[75,216],[161,217],[123,218],[190,219],[205,220],[166,221],[44,222],[64,223],[78,224],[125,225],[163,226],[28,227],[26,228],[25,229],[115,230],[68,231],[7,232],[140,233],[7,234],[111,235],[164,236],[43,237],[166,238],[227,239],[95,240],[79,241],[26,242],[196,243],[51,244],[17,245],[53,246],[122,247],[136,248],[170,249],[130,250],[99,251],[93,252],[41,253],[199,254],[66,255],[244,256],[187,257],[202,258],[219,259],[158,260],[112,261],[178,262],[191,263],[223,264],[5,265],[191,266],[78,267],[112,268],[179,269],[141,270],[26,271],[76,272],[106,273],[176,274],[137,275],[36,276],[80,277],[20,278],[57,279],[67,280],[116,281],[14,282],[82,283],[279,284],[7,285],[256,286],[204,287],[137,288],[183,289],[241,290],[67,291],[274,292],[213,293],[149,294],[69,295],[150,296],[156,297],[232,298],[239,299],[293,300],[89,301],[282,302],[88,303],[193,304],[21,305],[185,306],[17,307],[171,308],[261,309],[139,310],[233,311],[207,312],[140,313],[37,314],[241,315],[215,316],[94,317],[4,318],[274,319],[309,320],[105,321],[217,322],[13,323],[204,324],[259,325],[57,326],[95,327],[88,328],[140,329],[176,330],[211,331],[190,332],[142,333],[327,334],[268,335],[132,336],[63,337],[222,338],[272,339],[255,340],[194,341],[307,342],[247,343],[234,344],[38,345],[213,346],[196,347],[298,348],[343,349],[133,350],[100,351],[143,352],[46,353],[40,354],[177,355],[110,356],[331,357],[255,358],[222,359],[123,360],[164,361],[137,362],[27,363],[151,364],[363,365],[131,366],[273,367],[279,368],[101,369],[133,370],[284,371],[100,372],[216,373],[21,374],[51,375],[262,376],[26,377],[176,378],[217,379],[75,380],[332,381],[199,382],[230,383],[380,384],[301,385],[312,386],[385,387],[171,388],[26,389],[0,390],[228,391],[1,392],[164,393],[355,394],[200,395],[113,396],[265,397],[17,398],[184,399],[399,400],[38,401],[356,402],[129,403],[102,404],[326,405],[38,406],[326,407],[391,408],[181,409],[322,410],[366,411],[214,412],[244,413],[305,414],[140,415],[352,416],[314,417],[379,418],[81,419],[388,420],[334,421],[168,422],[69,423],[88,424],[327,425],[404,426],[372,427],[427,428],[397,429],[2,430],[322,431],[16,432],[351,433],[335,434],[291,435],[426,436],[429,437],[143,438],[19,439],[91,440],[206,441],[289,442],[237,443],[404,444],[405,445],[79,446],[85,447],[159,448],[130,449],[281,450],[104,451],[408,452],[405,453],[94,454],[317,455],[202,456],[297,457],[232,458],[341,459],[381,460],[21,461],[127,462],[173,463],[301,464],[300,465],[304,466],[73,467],[439,468],[427,469],[305,470],[153,471],[20,472],[210,473],[105,474],[77,475],[180,476],[233,477],[250,478],[38,479],[412,480],[431,481],[196,482],[344,483],[63,484],[308,485],[236,486],[56,487],[107,488],[114,489],[237,490],[476,491],[440,492],[462,493],[457,494],[204,495],[123,496],[119,497],[393,498],[237,499],[157,500],[265,501],[453,502],[32,503],[151,504]])"
      ],
      "metadata": {
        "colab": {
          "base_uri": "https://localhost:8080/"
        },
        "id": "KYbp7m16v2qv",
        "outputId": "f26ef723-db02-4dfd-8414-e838c593c8c5"
      },
      "execution_count": 76,
      "outputs": [
        {
          "output_type": "execute_result",
          "data": {
            "text/plain": [
              "[1, 5]"
            ]
          },
          "metadata": {},
          "execution_count": 76
        }
      ]
    },
    {
      "cell_type": "code",
      "source": [
        "deque"
      ],
      "metadata": {
        "colab": {
          "base_uri": "https://localhost:8080/",
          "height": 144
        },
        "id": "q58aTvx3wME5",
        "outputId": "b41ebb0e-e864-4243-e565-53a3c7ed9454"
      },
      "execution_count": 77,
      "outputs": [
        {
          "output_type": "error",
          "ename": "NameError",
          "evalue": "name 'deque' is not defined",
          "traceback": [
            "\u001b[0;31m---------------------------------------------------------------------------\u001b[0m",
            "\u001b[0;31mNameError\u001b[0m                                 Traceback (most recent call last)",
            "\u001b[0;32m<ipython-input-77-6498b57c5c28>\u001b[0m in \u001b[0;36m<cell line: 1>\u001b[0;34m()\u001b[0m\n\u001b[0;32m----> 1\u001b[0;31m \u001b[0mdeque\u001b[0m\u001b[0;34m\u001b[0m\u001b[0;34m\u001b[0m\u001b[0m\n\u001b[0m",
            "\u001b[0;31mNameError\u001b[0m: name 'deque' is not defined"
          ]
        }
      ]
    },
    {
      "cell_type": "code",
      "source": [
        "edges = [[3,0],[3,1],[3,2],[3,4],[5,4]]\n",
        "n = 6\n",
        "adj_list = {i: [] for i in range(n)}\n",
        "nodes = list(adj_list.keys())\n"
      ],
      "metadata": {
        "id": "W0x2SB9s1q7C"
      },
      "execution_count": 78,
      "outputs": []
    },
    {
      "cell_type": "code",
      "source": [
        "nodes"
      ],
      "metadata": {
        "colab": {
          "base_uri": "https://localhost:8080/"
        },
        "id": "ew3fjQpLqlnX",
        "outputId": "eb087777-8af6-4fc7-f63c-36864639c748"
      },
      "execution_count": 79,
      "outputs": [
        {
          "output_type": "execute_result",
          "data": {
            "text/plain": [
              "[0, 1, 2, 3, 4, 5]"
            ]
          },
          "metadata": {},
          "execution_count": 79
        }
      ]
    },
    {
      "cell_type": "code",
      "source": [
        "adj_list"
      ],
      "metadata": {
        "colab": {
          "base_uri": "https://localhost:8080/"
        },
        "id": "4Q0sxsimqmvn",
        "outputId": "c120f108-c4d6-48f7-e76c-58877be625d2"
      },
      "execution_count": 80,
      "outputs": [
        {
          "output_type": "execute_result",
          "data": {
            "text/plain": [
              "{0: [], 1: [], 2: [], 3: [], 4: [], 5: []}"
            ]
          },
          "metadata": {},
          "execution_count": 80
        }
      ]
    },
    {
      "cell_type": "code",
      "source": [
        "def add_edge(edge, adj_list):\n",
        "  adj_list[edge[0]].append(edge[1])\n",
        "  adj_list[edge[1]].append(edge[0])"
      ],
      "metadata": {
        "id": "djVz_kmgqniB"
      },
      "execution_count": 93,
      "outputs": []
    },
    {
      "cell_type": "code",
      "source": [
        "for i in edges: add_edge(i)"
      ],
      "metadata": {
        "id": "EL-u5fxeq2NP"
      },
      "execution_count": 83,
      "outputs": []
    },
    {
      "cell_type": "code",
      "source": [
        "adj_list"
      ],
      "metadata": {
        "colab": {
          "base_uri": "https://localhost:8080/"
        },
        "id": "L0PYk6CIq6_n",
        "outputId": "1a07be0b-84ae-4a01-d55e-06a197c17df9"
      },
      "execution_count": 84,
      "outputs": [
        {
          "output_type": "execute_result",
          "data": {
            "text/plain": [
              "{0: [3], 1: [3], 2: [3], 3: [0, 1, 2, 4], 4: [3, 5], 5: [4]}"
            ]
          },
          "metadata": {},
          "execution_count": 84
        }
      ]
    },
    {
      "cell_type": "code",
      "source": [
        "def prune_leaf_nodes_it(adj_list):\n",
        "  # A leaf node is a node that has only one other node that is connected\n",
        "  if len(adj_list) <= 2: return adj_list\n",
        "  nl = {}\n",
        "  for k, v in adj_list.items():\n",
        "    if len(v) > 1: nl[k] = v\n",
        "\n",
        "  return prune_leaf_nodes_it(nl)"
      ],
      "metadata": {
        "id": "y9SDySqtq8Fs"
      },
      "execution_count": 85,
      "outputs": []
    },
    {
      "cell_type": "code",
      "source": [
        "prune_leaf_nodes_it(adj_list)"
      ],
      "metadata": {
        "colab": {
          "base_uri": "https://localhost:8080/"
        },
        "id": "W-0cSIUUr0Yz",
        "outputId": "b4cd937c-3b22-4d4a-aba7-b6664d13696b"
      },
      "execution_count": 86,
      "outputs": [
        {
          "output_type": "execute_result",
          "data": {
            "text/plain": [
              "{3: [0, 1, 2, 4], 4: [3, 5]}"
            ]
          },
          "metadata": {},
          "execution_count": 86
        }
      ]
    },
    {
      "cell_type": "code",
      "source": [
        "class Solution:\n",
        "    def findMinHeightTrees(self, n, edges):\n",
        "\n",
        "        def add_edge(edge, adj_list):\n",
        "            if edge[0] not in adj_list: adj_list[edge[0]] = []\n",
        "            adj_list[edge[0]].append(edge[1])\n",
        "\n",
        "        def prune_leaf_nodes_it(adj_list):\n",
        "            # A leaf node is a node that has only one other node that is connected\n",
        "            if len(adj_list) <= 2: return adj_list\n",
        "            nl, dropped_nodes = {}, []\n",
        "\n",
        "            for k, v in adj_list.items():\n",
        "                if len(v) > 1: nl[k] = v\n",
        "                else: dropped_nodes.append(k)\n",
        "\n",
        "            for k, v in nl.items():\n",
        "                nl[k] = list(set(v) - set(dropped_nodes))\n",
        "\n",
        "            return prune_leaf_nodes_it(nl)\n",
        "\n",
        "        if n == 1: return [0]\n",
        "\n",
        "        adj_list = {}\n",
        "        for i in edges: add_edge(i, adj_list)\n",
        "\n",
        "        pruned_adj_list = prune_leaf_nodes_it(adj_list)\n",
        "        return list(pruned_adj_list.keys())\n",
        "\n"
      ],
      "metadata": {
        "id": "BIzS4Q0Nr22t"
      },
      "execution_count": 133,
      "outputs": []
    },
    {
      "cell_type": "code",
      "source": [
        "Solution().findMinHeightTrees(n, edges)"
      ],
      "metadata": {
        "colab": {
          "base_uri": "https://localhost:8080/"
        },
        "id": "Ui9LLpGpssG5",
        "outputId": "960db397-f249-489e-bb64-751da9634095"
      },
      "execution_count": 134,
      "outputs": [
        {
          "output_type": "execute_result",
          "data": {
            "text/plain": [
              "[]"
            ]
          },
          "metadata": {},
          "execution_count": 134
        }
      ]
    },
    {
      "cell_type": "code",
      "source": [
        "n, edges = 6, [[0,1],[0,2],[0,3],[3,4],[4,5]]"
      ],
      "metadata": {
        "id": "0tExLNRmsu6P"
      },
      "execution_count": 92,
      "outputs": []
    },
    {
      "cell_type": "code",
      "source": [
        "adj_list = {i: [] for i in range(n)}"
      ],
      "metadata": {
        "id": "BlAxJ8DitP-d"
      },
      "execution_count": 94,
      "outputs": []
    },
    {
      "cell_type": "code",
      "source": [
        "for i in edges: add_edge(i, adj_list)"
      ],
      "metadata": {
        "id": "qDrFiMeTtje1"
      },
      "execution_count": 95,
      "outputs": []
    },
    {
      "cell_type": "code",
      "source": [
        "adj_list"
      ],
      "metadata": {
        "colab": {
          "base_uri": "https://localhost:8080/"
        },
        "id": "6tdZWpE-tkr9",
        "outputId": "d1c34480-e2b1-41c2-f9e7-febb6a027aba"
      },
      "execution_count": 96,
      "outputs": [
        {
          "output_type": "execute_result",
          "data": {
            "text/plain": [
              "{0: [1, 2, 3], 1: [0], 2: [0], 3: [0, 4], 4: [3, 5], 5: [4]}"
            ]
          },
          "metadata": {},
          "execution_count": 96
        }
      ]
    },
    {
      "cell_type": "code",
      "source": [
        "def prune_leaf_nodes(adj_list):\n",
        "\n",
        "    if len(adj_list) <= 2: return adj_list\n",
        "\n",
        "    nl, dropped_nodes = {}, []\n",
        "\n",
        "    for k, v in adj_list.items():\n",
        "        if len(v) > 1:\n",
        "          nl[k] = v\n",
        "        else:\n",
        "          dropped_nodes.append(k)\n",
        "\n",
        "    for k, v in nl.items():\n",
        "      nl[k] = list(set(v) - set(dropped_nodes))\n",
        "\n",
        "    return prune_leaf_nodes(nl)"
      ],
      "metadata": {
        "id": "OxzLOvVit8kY"
      },
      "execution_count": 103,
      "outputs": []
    },
    {
      "cell_type": "code",
      "source": [
        "prune_leaf_nodes(adj_list)"
      ],
      "metadata": {
        "colab": {
          "base_uri": "https://localhost:8080/"
        },
        "id": "OVKVfH4NuCdy",
        "outputId": "c16c646a-278a-4ef9-c178-662420f2b445"
      },
      "execution_count": 104,
      "outputs": [
        {
          "output_type": "execute_result",
          "data": {
            "text/plain": [
              "{3: []}"
            ]
          },
          "metadata": {},
          "execution_count": 104
        }
      ]
    },
    {
      "cell_type": "code",
      "source": [
        "def add_edge(edge):\n",
        "\n",
        "    degree[edge[0]] += 1\n",
        "    degree[edge[1]] += 1\n",
        "\n",
        "    adj_list[edge[0]].append(edge[1])\n",
        "    adj_list[edge[1]].append(edge[0])\n",
        "\n",
        "def prune_leaf_nodes_it(adj_list):\n",
        "    # A leaf node is a node that has only one other node that is connected\n",
        "    if len(adj_list) <= 2: return adj_list\n",
        "\n",
        "    nl, dropped_nodes = {}, []\n",
        "\n",
        "    for k, v in adj_list.items():\n",
        "        if len(v) > 1: nl[k] = v\n",
        "        else: dropped_nodes.append(k)\n",
        "\n",
        "    for k, v in nl.items():\n",
        "         nl[k] = list(set(v) - set(dropped_nodes))\n",
        "\n",
        "    return prune_leaf_nodes_it(nl)"
      ],
      "metadata": {
        "id": "Nw7w1uTcuHK2"
      },
      "execution_count": 117,
      "outputs": []
    },
    {
      "cell_type": "code",
      "source": [
        "n, edges = 6, [[3,0],[3,1],[3,2],[3,4],[5,4]]"
      ],
      "metadata": {
        "id": "MfCO6Ztuyxxm"
      },
      "execution_count": 118,
      "outputs": []
    },
    {
      "cell_type": "code",
      "source": [
        "adj_list = {i: [] for i in range(n)}\n",
        "degree = {i: 0 for i in range(n)}\n",
        "for i in edges: add_edge(i)"
      ],
      "metadata": {
        "id": "1RArXakUy1aM"
      },
      "execution_count": 119,
      "outputs": []
    },
    {
      "cell_type": "code",
      "source": [
        "adj_list"
      ],
      "metadata": {
        "colab": {
          "base_uri": "https://localhost:8080/"
        },
        "id": "xu9sSuW1y5qj",
        "outputId": "98a31e16-8fdf-41ed-a44c-26605f558c24"
      },
      "execution_count": 120,
      "outputs": [
        {
          "output_type": "execute_result",
          "data": {
            "text/plain": [
              "{0: [3], 1: [3], 2: [3], 3: [0, 1, 2, 4], 4: [3, 5], 5: [4]}"
            ]
          },
          "metadata": {},
          "execution_count": 120
        }
      ]
    },
    {
      "cell_type": "code",
      "source": [
        "degree"
      ],
      "metadata": {
        "colab": {
          "base_uri": "https://localhost:8080/"
        },
        "id": "Js7sj_sozAbY",
        "outputId": "19a0c20d-8fbd-49b0-ed16-fec6dd929950"
      },
      "execution_count": 121,
      "outputs": [
        {
          "output_type": "execute_result",
          "data": {
            "text/plain": [
              "{0: 1, 1: 1, 2: 1, 3: 4, 4: 2, 5: 1}"
            ]
          },
          "metadata": {},
          "execution_count": 121
        }
      ]
    },
    {
      "cell_type": "code",
      "source": [
        "\n",
        "\n",
        "while n > 2:\n",
        "  drop_nodes = []\n",
        "  next_drop_nodes = []\n",
        "  for i in degree:\n",
        "    if degree[i] == 1: drop_nodes.append(i)\n",
        "\n",
        "  print(drop_nodes)\n",
        "\n",
        "  for d in drop_nodes:\n",
        "    for n in adj_list[d]: # all the nodes connected\n",
        "      degree[n] -= 1\n",
        "      if degree[n] == 1: next_drop_nodes.append(n)\n",
        "  print(next_drop_nodes)\n",
        "  n -= len(drop_nodes)\n",
        "  drop_nodes = next_drop_nodes"
      ],
      "metadata": {
        "colab": {
          "base_uri": "https://localhost:8080/"
        },
        "id": "R-VlUJnp2qs-",
        "outputId": "b50211da-27c4-4f0b-ee85-0b3a77b69916"
      },
      "execution_count": 122,
      "outputs": [
        {
          "output_type": "stream",
          "name": "stdout",
          "text": [
            "[0, 1, 2, 5]\n",
            "[3, 4]\n"
          ]
        }
      ]
    },
    {
      "cell_type": "code",
      "source": [
        "degree"
      ],
      "metadata": {
        "colab": {
          "base_uri": "https://localhost:8080/"
        },
        "id": "llChcrAc5hiU",
        "outputId": "5e382293-96b5-4d10-f474-a8fd90cc0819"
      },
      "execution_count": 123,
      "outputs": [
        {
          "output_type": "execute_result",
          "data": {
            "text/plain": [
              "{0: 1, 1: 1, 2: 1, 3: 1, 4: 1, 5: 1}"
            ]
          },
          "metadata": {},
          "execution_count": 123
        }
      ]
    },
    {
      "cell_type": "code",
      "source": [
        "a = [1, 2, 3, 4]\n",
        "a.index(5)"
      ],
      "metadata": {
        "colab": {
          "base_uri": "https://localhost:8080/",
          "height": 162
        },
        "id": "au-NYid4Ls3c",
        "outputId": "d16ef0a9-8083-453e-e1b1-17e2b71c6b3d"
      },
      "execution_count": 227,
      "outputs": [
        {
          "output_type": "error",
          "ename": "ValueError",
          "evalue": "5 is not in list",
          "traceback": [
            "\u001b[0;31m---------------------------------------------------------------------------\u001b[0m",
            "\u001b[0;31mValueError\u001b[0m                                Traceback (most recent call last)",
            "\u001b[0;32m<ipython-input-227-251f77c4b682>\u001b[0m in \u001b[0;36m<cell line: 2>\u001b[0;34m()\u001b[0m\n\u001b[1;32m      1\u001b[0m \u001b[0ma\u001b[0m \u001b[0;34m=\u001b[0m \u001b[0;34m[\u001b[0m\u001b[0;36m1\u001b[0m\u001b[0;34m,\u001b[0m \u001b[0;36m2\u001b[0m\u001b[0;34m,\u001b[0m \u001b[0;36m3\u001b[0m\u001b[0;34m,\u001b[0m \u001b[0;36m4\u001b[0m\u001b[0;34m]\u001b[0m\u001b[0;34m\u001b[0m\u001b[0;34m\u001b[0m\u001b[0m\n\u001b[0;32m----> 2\u001b[0;31m \u001b[0ma\u001b[0m\u001b[0;34m.\u001b[0m\u001b[0mindex\u001b[0m\u001b[0;34m(\u001b[0m\u001b[0;36m5\u001b[0m\u001b[0;34m)\u001b[0m\u001b[0;34m\u001b[0m\u001b[0;34m\u001b[0m\u001b[0m\n\u001b[0m",
            "\u001b[0;31mValueError\u001b[0m: 5 is not in list"
          ]
        }
      ]
    },
    {
      "cell_type": "code",
      "source": [
        "def mhts(n , edges):\n",
        "\n",
        "  def add_edge(edge):\n",
        "\n",
        "    degree[edge[0]] += 1\n",
        "    degree[edge[1]] += 1\n",
        "    adj_list[edge[0]].append(edge[1])\n",
        "    adj_list[edge[1]].append(edge[0])\n",
        "\n",
        "  adj_list = {i: [] for i in range(n)}\n",
        "  degree = {i: 0 for i in range(n)}\n",
        "  for i in edges: add_edge(i)\n",
        "\n",
        "  drop_nodes = []\n",
        "  for i in degree:\n",
        "      if degree[i] == 1: drop_nodes.append(i)\n",
        "  # st()\n",
        "  while n > 2:\n",
        "    next_drop_nodes = []\n",
        "\n",
        "    for d in drop_nodes:\n",
        "      for node in adj_list[d]: # all the nodes connected\n",
        "        degree[node] -= 1\n",
        "        if degree[node] == 1: next_drop_nodes.append(node)\n",
        "\n",
        "    n -= len(drop_nodes)\n",
        "    drop_nodes = next_drop_nodes\n",
        "\n",
        "  return drop_nodes"
      ],
      "metadata": {
        "id": "KjSwmoDR5iHM"
      },
      "execution_count": 222,
      "outputs": []
    },
    {
      "cell_type": "code",
      "source": [
        "mhts(6, [[3,0],[3,1],[3,2],[3,4],[5,4]])"
      ],
      "metadata": {
        "colab": {
          "base_uri": "https://localhost:8080/"
        },
        "id": "UHjIPIzz55Cq",
        "outputId": "96cf98eb-84ed-4061-e812-a82f88b1e6bc"
      },
      "execution_count": 223,
      "outputs": [
        {
          "output_type": "execute_result",
          "data": {
            "text/plain": [
              "[3, 4]"
            ]
          },
          "metadata": {},
          "execution_count": 223
        }
      ]
    },
    {
      "cell_type": "code",
      "source": [
        "mhts(n, edges)"
      ],
      "metadata": {
        "colab": {
          "base_uri": "https://localhost:8080/"
        },
        "id": "JzIIo6h16SKC",
        "outputId": "deb8a715-bc86-4c74-f8c8-755f2a045743"
      },
      "execution_count": 224,
      "outputs": [
        {
          "output_type": "execute_result",
          "data": {
            "text/plain": [
              "[9999, 10000]"
            ]
          },
          "metadata": {},
          "execution_count": 224
        }
      ]
    },
    {
      "cell_type": "code",
      "source": [
        "from collections import defaultdict, deque"
      ],
      "metadata": {
        "id": "oEaCZ59CDGb1"
      },
      "execution_count": 151,
      "outputs": []
    },
    {
      "cell_type": "code",
      "source": [
        "\n",
        "class Solution:\n",
        "    def findMinHeightTrees(self, n: int, edges):\n",
        "\n",
        "        def add_edge(edge):\n",
        "\n",
        "            degree[edge[0]] += 1\n",
        "            degree[edge[1]] += 1\n",
        "\n",
        "            adj_list[edge[0]].append(edge[1])\n",
        "            adj_list[edge[1]].append(edge[0])\n",
        "\n",
        "        if n == 1: return [0]\n",
        "\n",
        "        adj_list = defaultdict(list)\n",
        "        degree = [0]*n\n",
        "        for i in edges: add_edge(i)\n",
        "\n",
        "        drop_nodes = []\n",
        "        for i in range(n):\n",
        "            if degree[i] == 1: drop_nodes.append(i)\n",
        "        t2 = time.time()\n",
        "\n",
        "        drop_nodes = deque(drop_nodes)\n",
        "        # st()\n",
        "        while n > 2:\n",
        "            size = len(drop_nodes)\n",
        "            # print(size)\n",
        "            for _ in range(size):\n",
        "                d = drop_nodes.popleft()\n",
        "                for node in adj_list[d]: # all the nodes connected\n",
        "                    degree[node] -= 1\n",
        "                    if degree[node] == 1: drop_nodes.append(node)\n",
        "            if size == 0: st()\n",
        "            n -= size\n",
        "\n",
        "        t3 = time.time()\n",
        "\n",
        "        return drop_nodes"
      ],
      "metadata": {
        "id": "WNUEB8F67Dvm"
      },
      "execution_count": 204,
      "outputs": []
    },
    {
      "cell_type": "code",
      "source": [
        "Solution().findMinHeightTrees(n, edges)"
      ],
      "metadata": {
        "colab": {
          "base_uri": "https://localhost:8080/"
        },
        "id": "pmukgTk4HANi",
        "outputId": "c9be1c31-62aa-4458-b7d1-0d753dbad309"
      },
      "execution_count": 205,
      "outputs": [
        {
          "output_type": "execute_result",
          "data": {
            "text/plain": [
              "deque([9999, 10000])"
            ]
          },
          "metadata": {},
          "execution_count": 205
        }
      ]
    },
    {
      "cell_type": "code",
      "source": [
        "import time\n",
        "class Solution:\n",
        "    def findMinHeightTrees(self, n: int, edges):\n",
        "        t1 = time.time()\n",
        "        if n == 1:\n",
        "            return [0]  # Special case when there's only one node\n",
        "\n",
        "        adj_list = defaultdict(list)\n",
        "        degrees = [0] * n\n",
        "\n",
        "        for u, v in edges:\n",
        "            adj_list[u].append(v)\n",
        "            adj_list[v].append(u)\n",
        "            degrees[u] += 1\n",
        "            degrees[v] += 1\n",
        "\n",
        "        t2 = time.time()\n",
        "\n",
        "        print(t2 - t1)\n",
        "        leaves = deque([node for node in range(n) if degrees[node] == 1])\n",
        "\n",
        "        while n > 2:\n",
        "            num_leaves = len(leaves)\n",
        "            n -= num_leaves\n",
        "\n",
        "            for _ in range(num_leaves):\n",
        "                leaf = leaves.popleft()\n",
        "                for neighbor in adj_list[leaf]:\n",
        "                    degrees[neighbor] -= 1\n",
        "                    if degrees[neighbor] == 1:\n",
        "                        leaves.append(neighbor)\n",
        "\n",
        "        t3 = time.time()\n",
        "        print(t3 - t2)\n",
        "        return list(leaves)"
      ],
      "metadata": {
        "id": "aFSmtGlF6Yny"
      },
      "execution_count": 199,
      "outputs": []
    },
    {
      "cell_type": "code",
      "source": [
        "Solution().findMinHeightTrees(n, edges)"
      ],
      "metadata": {
        "colab": {
          "base_uri": "https://localhost:8080/"
        },
        "id": "i9cHvgkk9qEU",
        "outputId": "b60dbba3-1820-45ac-a91a-31fac4d66f9a"
      },
      "execution_count": 171,
      "outputs": [
        {
          "output_type": "stream",
          "name": "stdout",
          "text": [
            "0.02346181869506836\n",
            "0.026688098907470703\n"
          ]
        },
        {
          "output_type": "execute_result",
          "data": {
            "text/plain": [
              "[9999, 10000]"
            ]
          },
          "metadata": {},
          "execution_count": 171
        }
      ]
    },
    {
      "cell_type": "code",
      "source": [
        "class Solution:\n",
        "    def reverseWords(self, s: str) -> str:\n",
        "        s = s.strip()\n",
        "        words = s.split()\n",
        "        return ' '.join(reversed(words))\n"
      ],
      "metadata": {
        "id": "rs4ICnPcDyI8"
      },
      "execution_count": 230,
      "outputs": []
    },
    {
      "cell_type": "code",
      "source": [
        "Solution().reverseWords(' Hello  World')"
      ],
      "metadata": {
        "colab": {
          "base_uri": "https://localhost:8080/",
          "height": 35
        },
        "id": "9xb_iLuLNcUD",
        "outputId": "94a65476-a163-4522-e381-b2ae95862593"
      },
      "execution_count": 231,
      "outputs": [
        {
          "output_type": "execute_result",
          "data": {
            "text/plain": [
              "'World Hello'"
            ],
            "application/vnd.google.colaboratory.intrinsic+json": {
              "type": "string"
            }
          },
          "metadata": {},
          "execution_count": 231
        }
      ]
    },
    {
      "cell_type": "code",
      "source": [
        "class Solution:\n",
        "    def productExceptSelf(self, nums: List[int]) -> List[int]:\n",
        "        product = 1\n",
        "        for i in nums: product *= i\n",
        "        if product == 0: return [0]*len(nums)\n",
        "        return [int(product/(i if i!= 0 else 1)) for i in nums]\n",
        ""
      ],
      "metadata": {
        "id": "aSl_q6gxNgXj"
      },
      "execution_count": null,
      "outputs": []
    }
  ]
}