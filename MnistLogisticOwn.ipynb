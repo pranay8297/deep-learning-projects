{
  "nbformat": 4,
  "nbformat_minor": 0,
  "metadata": {
    "colab": {
      "name": "MnistLogisticOwn.ipynb",
      "provenance": [],
      "collapsed_sections": [],
      "machine_shape": "hm",
      "authorship_tag": "ABX9TyN/jQCqx7fN/CB3mcbZaGH4",
      "include_colab_link": true
    },
    "kernelspec": {
      "name": "python3",
      "display_name": "Python 3"
    },
    "accelerator": "GPU"
  },
  "cells": [
    {
      "cell_type": "markdown",
      "metadata": {
        "id": "view-in-github",
        "colab_type": "text"
      },
      "source": [
        "<a href=\"https://colab.research.google.com/github/pranay8297/deep-learning-projects/blob/master/MnistLogisticOwn.ipynb\" target=\"_parent\"><img src=\"https://colab.research.google.com/assets/colab-badge.svg\" alt=\"Open In Colab\"/></a>"
      ]
    },
    {
      "cell_type": "code",
      "metadata": {
        "id": "HAioXDeeU146"
      },
      "source": [
        "#pip install torch==1.4.0+cu100 torchvision==0.5.0+cu100 -f https://download.pytorch.org/whl/torch_stable.html"
      ],
      "execution_count": null,
      "outputs": []
    },
    {
      "cell_type": "code",
      "metadata": {
        "id": "lb8cVKO1OfEj"
      },
      "source": [
        "from fastai import *\n",
        "from fastai.vision import *"
      ],
      "execution_count": 1,
      "outputs": []
    },
    {
      "cell_type": "code",
      "metadata": {
        "id": "cSVp7xOBQsZW",
        "outputId": "148289bb-34ff-4e88-dca5-1a0dac2ba293",
        "colab": {
          "base_uri": "https://localhost:8080/",
          "height": 207
        }
      },
      "source": [
        "!wget http://deeplearning.net/data/mnist/mnist.pkl.gz"
      ],
      "execution_count": 2,
      "outputs": [
        {
          "output_type": "stream",
          "text": [
            "--2020-10-06 06:18:30--  http://deeplearning.net/data/mnist/mnist.pkl.gz\n",
            "Resolving deeplearning.net (deeplearning.net)... 132.204.26.28\n",
            "Connecting to deeplearning.net (deeplearning.net)|132.204.26.28|:80... connected.\n",
            "HTTP request sent, awaiting response... 200 OK\n",
            "Length: 16168813 (15M) [application/x-gzip]\n",
            "Saving to: ‘mnist.pkl.gz’\n",
            "\n",
            "mnist.pkl.gz        100%[===================>]  15.42M  6.32MB/s    in 2.4s    \n",
            "\n",
            "2020-10-06 06:18:33 (6.32 MB/s) - ‘mnist.pkl.gz’ saved [16168813/16168813]\n",
            "\n"
          ],
          "name": "stdout"
        }
      ]
    },
    {
      "cell_type": "code",
      "metadata": {
        "id": "llXWQrZrQ0x2",
        "outputId": "2f8e66cd-8860-4a2d-9fb1-aa1454f858d7",
        "colab": {
          "base_uri": "https://localhost:8080/",
          "height": 415
        }
      },
      "source": [
        "!ls\n",
        "!pip install ipdb\n",
        "\n",
        "from ipdb import set_trace as st"
      ],
      "execution_count": 3,
      "outputs": [
        {
          "output_type": "stream",
          "text": [
            "mnist.pkl.gz  sample_data\n",
            "Collecting ipdb\n",
            "  Downloading https://files.pythonhosted.org/packages/44/8c/76b33b115f4f2c090e2809a0247fe777eb3832f9d606479bf0139b29ca2c/ipdb-0.13.4.tar.gz\n",
            "Requirement already satisfied: setuptools in /usr/local/lib/python3.6/dist-packages (from ipdb) (50.3.0)\n",
            "Requirement already satisfied: ipython>=5.1.0 in /usr/local/lib/python3.6/dist-packages (from ipdb) (5.5.0)\n",
            "Requirement already satisfied: pygments in /usr/local/lib/python3.6/dist-packages (from ipython>=5.1.0->ipdb) (2.6.1)\n",
            "Requirement already satisfied: simplegeneric>0.8 in /usr/local/lib/python3.6/dist-packages (from ipython>=5.1.0->ipdb) (0.8.1)\n",
            "Requirement already satisfied: traitlets>=4.2 in /usr/local/lib/python3.6/dist-packages (from ipython>=5.1.0->ipdb) (4.3.3)\n",
            "Requirement already satisfied: pickleshare in /usr/local/lib/python3.6/dist-packages (from ipython>=5.1.0->ipdb) (0.7.5)\n",
            "Requirement already satisfied: prompt-toolkit<2.0.0,>=1.0.4 in /usr/local/lib/python3.6/dist-packages (from ipython>=5.1.0->ipdb) (1.0.18)\n",
            "Requirement already satisfied: decorator in /usr/local/lib/python3.6/dist-packages (from ipython>=5.1.0->ipdb) (4.4.2)\n",
            "Requirement already satisfied: pexpect; sys_platform != \"win32\" in /usr/local/lib/python3.6/dist-packages (from ipython>=5.1.0->ipdb) (4.8.0)\n",
            "Requirement already satisfied: six in /usr/local/lib/python3.6/dist-packages (from traitlets>=4.2->ipython>=5.1.0->ipdb) (1.15.0)\n",
            "Requirement already satisfied: ipython-genutils in /usr/local/lib/python3.6/dist-packages (from traitlets>=4.2->ipython>=5.1.0->ipdb) (0.2.0)\n",
            "Requirement already satisfied: wcwidth in /usr/local/lib/python3.6/dist-packages (from prompt-toolkit<2.0.0,>=1.0.4->ipython>=5.1.0->ipdb) (0.2.5)\n",
            "Requirement already satisfied: ptyprocess>=0.5 in /usr/local/lib/python3.6/dist-packages (from pexpect; sys_platform != \"win32\"->ipython>=5.1.0->ipdb) (0.6.0)\n",
            "Building wheels for collected packages: ipdb\n",
            "  Building wheel for ipdb (setup.py) ... \u001b[?25l\u001b[?25hdone\n",
            "  Created wheel for ipdb: filename=ipdb-0.13.4-cp36-none-any.whl size=10973 sha256=d2c21aa25ee840aab88c12b0aaa967966310ef6a355601a28d74f03396c3e0bf\n",
            "  Stored in directory: /root/.cache/pip/wheels/56/51/e4/c91c61e3481a1a967beb18c4ea7a2b138a63cce94170b2e206\n",
            "Successfully built ipdb\n",
            "Installing collected packages: ipdb\n",
            "Successfully installed ipdb-0.13.4\n"
          ],
          "name": "stdout"
        }
      ]
    },
    {
      "cell_type": "code",
      "metadata": {
        "id": "DcdG7GhYitEr"
      },
      "source": [
        "import os\n",
        "# os.environ['CUDA_LAUNCH_BLOCKING'] = '1'"
      ],
      "execution_count": 4,
      "outputs": []
    },
    {
      "cell_type": "code",
      "metadata": {
        "id": "1TbLLTjBRQdI"
      },
      "source": [
        "import gzip\n",
        "import pickle"
      ],
      "execution_count": 4,
      "outputs": []
    },
    {
      "cell_type": "code",
      "metadata": {
        "id": "sdYuKQvXRZZI",
        "outputId": "ef29b38d-805f-45c2-e302-bb01ae5204f0",
        "colab": {
          "base_uri": "https://localhost:8080/",
          "height": 35
        }
      },
      "source": [
        "with gzip.open('mnist.pkl.gz') as fam:\n",
        "  fam.seek(0)#if at all the index variable of the file is not set properly\n",
        "  data = pickle.load(fam, encoding = 'latin-1 ')\n",
        "  print('complete')"
      ],
      "execution_count": 4,
      "outputs": [
        {
          "output_type": "stream",
          "text": [
            "complete\n"
          ],
          "name": "stdout"
        }
      ]
    },
    {
      "cell_type": "code",
      "metadata": {
        "id": "EYimffIDTbhR",
        "outputId": "12b91599-ca41-45fd-cdaa-5feb95677950",
        "colab": {
          "base_uri": "https://localhost:8080/",
          "height": 35
        }
      },
      "source": [
        "!pwd\n",
        "path = Path('/content')"
      ],
      "execution_count": 55,
      "outputs": [
        {
          "output_type": "stream",
          "text": [
            "/content\n"
          ],
          "name": "stdout"
        }
      ]
    },
    {
      "cell_type": "code",
      "metadata": {
        "id": "-tTrpHMdqU1K",
        "outputId": "c4973bea-7ac9-4998-f5c8-17a21fc7a625",
        "colab": {
          "base_uri": "https://localhost:8080/",
          "height": 535
        }
      },
      "source": [
        "#test\n",
        "data"
      ],
      "execution_count": 8,
      "outputs": [
        {
          "output_type": "execute_result",
          "data": {
            "text/plain": [
              "((array([[0., 0., 0., 0., ..., 0., 0., 0., 0.],\n",
              "         [0., 0., 0., 0., ..., 0., 0., 0., 0.],\n",
              "         [0., 0., 0., 0., ..., 0., 0., 0., 0.],\n",
              "         [0., 0., 0., 0., ..., 0., 0., 0., 0.],\n",
              "         ...,\n",
              "         [0., 0., 0., 0., ..., 0., 0., 0., 0.],\n",
              "         [0., 0., 0., 0., ..., 0., 0., 0., 0.],\n",
              "         [0., 0., 0., 0., ..., 0., 0., 0., 0.],\n",
              "         [0., 0., 0., 0., ..., 0., 0., 0., 0.]], dtype=float32),\n",
              "  array([5, 0, 4, 1, ..., 0, 8, 4, 8])),\n",
              " (array([[0., 0., 0., 0., ..., 0., 0., 0., 0.],\n",
              "         [0., 0., 0., 0., ..., 0., 0., 0., 0.],\n",
              "         [0., 0., 0., 0., ..., 0., 0., 0., 0.],\n",
              "         [0., 0., 0., 0., ..., 0., 0., 0., 0.],\n",
              "         ...,\n",
              "         [0., 0., 0., 0., ..., 0., 0., 0., 0.],\n",
              "         [0., 0., 0., 0., ..., 0., 0., 0., 0.],\n",
              "         [0., 0., 0., 0., ..., 0., 0., 0., 0.],\n",
              "         [0., 0., 0., 0., ..., 0., 0., 0., 0.]], dtype=float32),\n",
              "  array([3, 8, 6, 9, ..., 3, 5, 6, 8])),\n",
              " (array([[0., 0., 0., 0., ..., 0., 0., 0., 0.],\n",
              "         [0., 0., 0., 0., ..., 0., 0., 0., 0.],\n",
              "         [0., 0., 0., 0., ..., 0., 0., 0., 0.],\n",
              "         [0., 0., 0., 0., ..., 0., 0., 0., 0.],\n",
              "         ...,\n",
              "         [0., 0., 0., 0., ..., 0., 0., 0., 0.],\n",
              "         [0., 0., 0., 0., ..., 0., 0., 0., 0.],\n",
              "         [0., 0., 0., 0., ..., 0., 0., 0., 0.],\n",
              "         [0., 0., 0., 0., ..., 0., 0., 0., 0.]], dtype=float32),\n",
              "  array([7, 2, 1, 0, ..., 3, 4, 5, 6])))"
            ]
          },
          "metadata": {
            "tags": []
          },
          "execution_count": 8
        }
      ]
    },
    {
      "cell_type": "code",
      "metadata": {
        "id": "aXBKCPZdT3i1"
      },
      "source": [
        "(x_train, y_train), (x_valid, y_valid), _ = data"
      ],
      "execution_count": 5,
      "outputs": []
    },
    {
      "cell_type": "code",
      "metadata": {
        "id": "uX0GANRgUHJy",
        "outputId": "eea466f6-973d-4864-d0bf-1c39a40c3398",
        "colab": {
          "base_uri": "https://localhost:8080/",
          "height": 282
        }
      },
      "source": [
        "plt.imshow(x_train[101].reshape(28, 28))"
      ],
      "execution_count": 7,
      "outputs": [
        {
          "output_type": "execute_result",
          "data": {
            "text/plain": [
              "<matplotlib.image.AxesImage at 0x7f3e651d19b0>"
            ]
          },
          "metadata": {
            "tags": []
          },
          "execution_count": 7
        },
        {
          "output_type": "display_data",
          "data": {
            "image/png": "[encoded data removed]",
            "text/plain": [
              "<Figure size 432x288 with 1 Axes>"
            ]
          },
          "metadata": {
            "tags": [],
            "needs_background": "light"
          }
        }
      ]
    },
    {
      "cell_type": "code",
      "metadata": {
        "id": "m5se1_9czt8L",
        "outputId": "46b6d8aa-51fb-48b1-9acc-fc9cef7ba7cd",
        "colab": {
          "base_uri": "https://localhost:8080/",
          "height": 35
        }
      },
      "source": [
        "#test.\n",
        "x_train.shape, y_train.shape"
      ],
      "execution_count": 8,
      "outputs": [
        {
          "output_type": "execute_result",
          "data": {
            "text/plain": [
              "((50000, 784), (50000,))"
            ]
          },
          "metadata": {
            "tags": []
          },
          "execution_count": 8
        }
      ]
    },
    {
      "cell_type": "code",
      "metadata": {
        "id": "OpCYBUgdUpoV",
        "outputId": "a70c812a-fbd2-49fc-ea91-9f9151acc32a",
        "colab": {
          "base_uri": "https://localhost:8080/",
          "height": 35
        }
      },
      "source": [
        "#test\n",
        "len(x_train[1])/16"
      ],
      "execution_count": 9,
      "outputs": [
        {
          "output_type": "execute_result",
          "data": {
            "text/plain": [
              "49.0"
            ]
          },
          "metadata": {
            "tags": []
          },
          "execution_count": 9
        }
      ]
    },
    {
      "cell_type": "code",
      "metadata": {
        "id": "jczzO7kM4DBM"
      },
      "source": [
        "x_train, y_train, x_valid, y_valid = map(torch.Tensor, (x_train, y_train, x_valid, y_valid))\n",
        "y_train, y_vald = y_train.long(), y_valid.long()\n",
        "n, c = x_train.shape "
      ],
      "execution_count": 6,
      "outputs": []
    },
    {
      "cell_type": "code",
      "metadata": {
        "id": "V8l1qxgLqBr3",
        "outputId": "c9273543-da60-4a42-a2d3-ba7cdaff90b3",
        "colab": {
          "base_uri": "https://localhost:8080/",
          "height": 138
        }
      },
      "source": [
        "#test\n",
        "x_valid"
      ],
      "execution_count": 66,
      "outputs": [
        {
          "output_type": "execute_result",
          "data": {
            "text/plain": [
              "tensor([[0., 0., 0.,  ..., 0., 0., 0.],\n",
              "        [0., 0., 0.,  ..., 0., 0., 0.],\n",
              "        [0., 0., 0.,  ..., 0., 0., 0.],\n",
              "        ...,\n",
              "        [0., 0., 0.,  ..., 0., 0., 0.],\n",
              "        [0., 0., 0.,  ..., 0., 0., 0.],\n",
              "        [0., 0., 0.,  ..., 0., 0., 0.]])"
            ]
          },
          "metadata": {
            "tags": []
          },
          "execution_count": 66
        }
      ]
    },
    {
      "cell_type": "code",
      "metadata": {
        "id": "NiUaLw6x11SG",
        "outputId": "1d110151-8029-483a-8b41-dede45cdb1a0",
        "colab": {
          "base_uri": "https://localhost:8080/",
          "height": 294
        }
      },
      "source": [
        "#test\n",
        "x_train.cuda(), y_train.cuda(), x_valid.cuda(), y_valid.cuda()\n"
      ],
      "execution_count": 14,
      "outputs": [
        {
          "output_type": "execute_result",
          "data": {
            "text/plain": [
              "(tensor([[0., 0., 0.,  ..., 0., 0., 0.],\n",
              "         [0., 0., 0.,  ..., 0., 0., 0.],\n",
              "         [0., 0., 0.,  ..., 0., 0., 0.],\n",
              "         ...,\n",
              "         [0., 0., 0.,  ..., 0., 0., 0.],\n",
              "         [0., 0., 0.,  ..., 0., 0., 0.],\n",
              "         [0., 0., 0.,  ..., 0., 0., 0.]], device='cuda:0'),\n",
              " tensor([5., 0., 4.,  ..., 8., 4., 8.], device='cuda:0'),\n",
              " tensor([[0., 0., 0.,  ..., 0., 0., 0.],\n",
              "         [0., 0., 0.,  ..., 0., 0., 0.],\n",
              "         [0., 0., 0.,  ..., 0., 0., 0.],\n",
              "         ...,\n",
              "         [0., 0., 0.,  ..., 0., 0., 0.],\n",
              "         [0., 0., 0.,  ..., 0., 0., 0.],\n",
              "         [0., 0., 0.,  ..., 0., 0., 0.]], device='cuda:0'),\n",
              " tensor([3., 8., 6.,  ..., 5., 6., 8.], device='cuda:0'))"
            ]
          },
          "metadata": {
            "tags": []
          },
          "execution_count": 14
        }
      ]
    },
    {
      "cell_type": "code",
      "metadata": {
        "id": "JgI8AHUjz1nx",
        "outputId": "2f4c8486-7f95-4303-87e8-896b593084fb",
        "colab": {
          "base_uri": "https://localhost:8080/",
          "height": 35
        }
      },
      "source": [
        "#test\n",
        "x_train.shape, x_train.device, type(x_train)"
      ],
      "execution_count": 15,
      "outputs": [
        {
          "output_type": "execute_result",
          "data": {
            "text/plain": [
              "(torch.Size([50000, 784]), device(type='cpu'), torch.Tensor)"
            ]
          },
          "metadata": {
            "tags": []
          },
          "execution_count": 15
        }
      ]
    },
    {
      "cell_type": "code",
      "metadata": {
        "id": "5IOqotAK5QAB",
        "outputId": "baba163c-bee1-46c3-9a57-235310507017",
        "colab": {
          "base_uri": "https://localhost:8080/",
          "height": 35
        }
      },
      "source": [
        "y_train.min(), y_train.max()"
      ],
      "execution_count": 59,
      "outputs": [
        {
          "output_type": "execute_result",
          "data": {
            "text/plain": [
              "(tensor(0.), tensor(9.))"
            ]
          },
          "metadata": {
            "tags": []
          },
          "execution_count": 59
        }
      ]
    },
    {
      "cell_type": "code",
      "metadata": {
        "id": "9D5Zb79A5Tqw"
      },
      "source": [
        "train_ds = TensorDataset(x_train, y_train)\n",
        "valid_ds = TensorDataset(x_valid, y_valid)"
      ],
      "execution_count": 7,
      "outputs": []
    },
    {
      "cell_type": "code",
      "metadata": {
        "id": "tmTG8Zyx5b7_",
        "outputId": "224fc280-03cf-47ad-ac17-90db4168fd64",
        "colab": {
          "base_uri": "https://localhost:8080/",
          "height": 155
        }
      },
      "source": [
        "#test\n",
        "train_ds.tensors"
      ],
      "execution_count": 61,
      "outputs": [
        {
          "output_type": "execute_result",
          "data": {
            "text/plain": [
              "(tensor([[0., 0., 0.,  ..., 0., 0., 0.],\n",
              "         [0., 0., 0.,  ..., 0., 0., 0.],\n",
              "         [0., 0., 0.,  ..., 0., 0., 0.],\n",
              "         ...,\n",
              "         [0., 0., 0.,  ..., 0., 0., 0.],\n",
              "         [0., 0., 0.,  ..., 0., 0., 0.],\n",
              "         [0., 0., 0.,  ..., 0., 0., 0.]]),\n",
              " tensor([5., 0., 4.,  ..., 8., 4., 8.]))"
            ]
          },
          "metadata": {
            "tags": []
          },
          "execution_count": 61
        }
      ]
    },
    {
      "cell_type": "code",
      "metadata": {
        "id": "thchtb7m5mhi"
      },
      "source": [
        "bs = 64\n",
        "data = DataBunch.create(train_ds, valid_ds, bs = bs, num_workers = 1)"
      ],
      "execution_count": 8,
      "outputs": []
    },
    {
      "cell_type": "code",
      "metadata": {
        "id": "0FgT0SBp4IXX",
        "outputId": "8a4701c6-499d-48cd-86de-99b812efbf7c",
        "colab": {
          "base_uri": "https://localhost:8080/",
          "height": 35
        }
      },
      "source": [
        "#test\n",
        "defaults.cpus\n",
        "# data.classes"
      ],
      "execution_count": 15,
      "outputs": [
        {
          "output_type": "execute_result",
          "data": {
            "text/plain": [
              "4"
            ]
          },
          "metadata": {
            "tags": []
          },
          "execution_count": 15
        }
      ]
    },
    {
      "cell_type": "code",
      "metadata": {
        "id": "dLYAz1br0UXa"
      },
      "source": [
        "for i, j in data.train_dl:\n",
        "  x_b, y_b = i, j\n",
        "  break"
      ],
      "execution_count": 9,
      "outputs": []
    },
    {
      "cell_type": "code",
      "metadata": {
        "id": "CzCgdJxy0ftv",
        "outputId": "52fc695d-0823-4f08-a52a-abcee65d63a9",
        "colab": {
          "base_uri": "https://localhost:8080/",
          "height": 155
        }
      },
      "source": [
        "x_b, x_b.shape"
      ],
      "execution_count": 16,
      "outputs": [
        {
          "output_type": "execute_result",
          "data": {
            "text/plain": [
              "(tensor([[0., 0., 0.,  ..., 0., 0., 0.],\n",
              "         [0., 0., 0.,  ..., 0., 0., 0.],\n",
              "         [0., 0., 0.,  ..., 0., 0., 0.],\n",
              "         ...,\n",
              "         [0., 0., 0.,  ..., 0., 0., 0.],\n",
              "         [0., 0., 0.,  ..., 0., 0., 0.],\n",
              "         [0., 0., 0.,  ..., 0., 0., 0.]], device='cuda:0'),\n",
              " torch.Size([64, 784]))"
            ]
          },
          "metadata": {
            "tags": []
          },
          "execution_count": 16
        }
      ]
    },
    {
      "cell_type": "code",
      "metadata": {
        "id": "cmIMEPzH_goN",
        "outputId": "ea9c54c7-ca45-4957-b445-504c7debb4f7",
        "colab": {
          "base_uri": "https://localhost:8080/",
          "height": 35
        }
      },
      "source": [
        "#test\n",
        "from fastai.torch_core import defaults\n",
        "defaults.device"
      ],
      "execution_count": 18,
      "outputs": [
        {
          "output_type": "execute_result",
          "data": {
            "text/plain": [
              "device(type='cuda', index=0)"
            ]
          },
          "metadata": {
            "tags": []
          },
          "execution_count": 18
        }
      ]
    },
    {
      "cell_type": "code",
      "metadata": {
        "id": "UEka8XD1AXKy",
        "outputId": "5abfeefc-f5b2-4dcc-90b5-d022eeb0fd3a",
        "colab": {
          "base_uri": "https://localhost:8080/",
          "height": 190
        }
      },
      "source": [
        "#test\n",
        "for a, b in data.train_dl:\n",
        "  print(a, b)\n",
        "  break"
      ],
      "execution_count": 20,
      "outputs": [
        {
          "output_type": "stream",
          "text": [
            "tensor([[0., 0., 0.,  ..., 0., 0., 0.],\n",
            "        [0., 0., 0.,  ..., 0., 0., 0.],\n",
            "        [0., 0., 0.,  ..., 0., 0., 0.],\n",
            "        ...,\n",
            "        [0., 0., 0.,  ..., 0., 0., 0.],\n",
            "        [0., 0., 0.,  ..., 0., 0., 0.],\n",
            "        [0., 0., 0.,  ..., 0., 0., 0.]], device='cuda:0') tensor([2., 9., 9., 9., 6., 0., 7., 1., 1., 6., 9., 6., 7., 4., 5., 4., 4., 8.,\n",
            "        6., 7., 0., 1., 2., 5., 1., 4., 4., 0., 0., 3., 0., 8., 5., 4., 3., 2.,\n",
            "        3., 1., 6., 2., 5., 5., 4., 5., 1., 5., 3., 5., 8., 8., 0., 5., 6., 7.,\n",
            "        1., 9., 9., 6., 4., 6., 0., 5., 4., 6.], device='cuda:0')\n"
          ],
          "name": "stdout"
        }
      ]
    },
    {
      "cell_type": "code",
      "metadata": {
        "id": "Xpp96bCQEqzA",
        "outputId": "2f3ddf88-2bf5-4075-ee85-77c74e8c1551",
        "colab": {
          "base_uri": "https://localhost:8080/",
          "height": 138
        }
      },
      "source": [
        "#test\n",
        "lin = nn.Linear(784, 10, bias=True)\n",
        "p = []\n",
        "for i in lin.parameters():\n",
        "  p.append(i)\n",
        "w, b = p\n",
        "w.shape, b.shape\n",
        "x_b"
      ],
      "execution_count": 10,
      "outputs": [
        {
          "output_type": "execute_result",
          "data": {
            "text/plain": [
              "tensor([[0., 0., 0.,  ..., 0., 0., 0.],\n",
              "        [0., 0., 0.,  ..., 0., 0., 0.],\n",
              "        [0., 0., 0.,  ..., 0., 0., 0.],\n",
              "        ...,\n",
              "        [0., 0., 0.,  ..., 0., 0., 0.],\n",
              "        [0., 0., 0.,  ..., 0., 0., 0.],\n",
              "        [0., 0., 0.,  ..., 0., 0., 0.]], device='cuda:0')"
            ]
          },
          "metadata": {
            "tags": []
          },
          "execution_count": 10
        }
      ]
    },
    {
      "cell_type": "code",
      "metadata": {
        "id": "zs3_YzF6ddYm",
        "outputId": "c80e515f-3626-4b66-aea7-0f67108cb02b",
        "colab": {
          "base_uri": "https://localhost:8080/",
          "height": 35
        }
      },
      "source": [
        "#test\n",
        "x_b.shape\n",
        "rand_wt = torch.rand((784, 10))\n",
        "result = x_b @ rand_wt\n",
        "# rand_wt.shape\n",
        "result.shape\n",
        "# result"
      ],
      "execution_count": null,
      "outputs": [
        {
          "output_type": "execute_result",
          "data": {
            "text/plain": [
              "torch.Size([64, 10])"
            ]
          },
          "metadata": {
            "tags": []
          },
          "execution_count": 21
        }
      ]
    },
    {
      "cell_type": "code",
      "metadata": {
        "id": "oEQlx9HZfOVG"
      },
      "source": [
        "#create a logistic regression model\n",
        "\n",
        "class MnistLogistic(nn.Module):\n",
        "  def __init__(self, in_features = 784, out_featuers = 10):\n",
        "    super().__init__()\n",
        "    self.lin = nn.Linear(in_features, out_featuers, bias = True)\n",
        "  \n",
        "  def forward(self, x_b):\n",
        "    return self.lin(x_b)\n",
        "  "
      ],
      "execution_count": 18,
      "outputs": []
    },
    {
      "cell_type": "code",
      "metadata": {
        "id": "kKMP7zKOzA_s",
        "outputId": "f4e7f301-6ee7-4b4b-ec79-b0aa0c1d038e",
        "colab": {
          "base_uri": "https://localhost:8080/",
          "height": 35
        }
      },
      "source": [
        "#test\n",
        "x_b.shape, y_b.shape"
      ],
      "execution_count": null,
      "outputs": [
        {
          "output_type": "execute_result",
          "data": {
            "text/plain": [
              "(torch.Size([64, 784]), torch.Size([64]))"
            ]
          },
          "metadata": {
            "tags": []
          },
          "execution_count": 32
        }
      ]
    },
    {
      "cell_type": "code",
      "metadata": {
        "id": "HUFNyGyGzPw-",
        "outputId": "b9ca4aac-b1a7-4c13-fc95-84962bfb42e6",
        "colab": {
          "base_uri": "https://localhost:8080/",
          "height": 35
        }
      },
      "source": [
        "#test\n",
        "# x, y = next(iter(data.train_dl))\n"
      ],
      "execution_count": null,
      "outputs": [
        {
          "output_type": "execute_result",
          "data": {
            "text/plain": [
              "device(type='cuda')"
            ]
          },
          "metadata": {
            "tags": []
          },
          "execution_count": 36
        }
      ]
    },
    {
      "cell_type": "code",
      "metadata": {
        "id": "XNIxKvjcfT-2",
        "outputId": "e20a2313-c3b5-481f-920e-b83da77e5a5d",
        "colab": {
          "base_uri": "https://localhost:8080/",
          "height": 69
        }
      },
      "source": [
        "logist = MnistLogistic().cuda()\n",
        "logist"
      ],
      "execution_count": 16,
      "outputs": [
        {
          "output_type": "execute_result",
          "data": {
            "text/plain": [
              "MnistLogistic(\n",
              "  (lin): Linear(in_features=784, out_features=10, bias=True)\n",
              ")"
            ]
          },
          "metadata": {
            "tags": []
          },
          "execution_count": 16
        }
      ]
    },
    {
      "cell_type": "code",
      "metadata": {
        "id": "rwSRAv1UUMbc",
        "outputId": "9cf41738-6617-48ed-87b5-161e6cef0476",
        "colab": {
          "base_uri": "https://localhost:8080/",
          "height": 35
        }
      },
      "source": [
        "#test\n",
        "y_pred = logist(x_b)\n",
        "y_pred.shape"
      ],
      "execution_count": 19,
      "outputs": [
        {
          "output_type": "execute_result",
          "data": {
            "text/plain": [
              "torch.Size([64, 10])"
            ]
          },
          "metadata": {
            "tags": []
          },
          "execution_count": 19
        }
      ]
    },
    {
      "cell_type": "code",
      "metadata": {
        "id": "RSa136jAIf7G",
        "outputId": "e3bdc893-56f1-4726-f13d-d7f224da1295",
        "colab": {
          "base_uri": "https://localhost:8080/",
          "height": 35
        }
      },
      "source": [
        "loss_func = nn.CrossEntropyLoss()\n",
        "y_b.shape "
      ],
      "execution_count": 17,
      "outputs": [
        {
          "output_type": "execute_result",
          "data": {
            "text/plain": [
              "torch.Size([64])"
            ]
          },
          "metadata": {
            "tags": []
          },
          "execution_count": 17
        }
      ]
    },
    {
      "cell_type": "code",
      "metadata": {
        "id": "D__nmdEQVc5L",
        "outputId": "57f40905-4a70-4284-e1ef-9f4d52d3df18",
        "colab": {
          "base_uri": "https://localhost:8080/",
          "height": 69
        }
      },
      "source": [
        "#test\n",
        "logist.lin\n",
        "y_b = y_b.long()\n",
        "y_b"
      ],
      "execution_count": 22,
      "outputs": [
        {
          "output_type": "execute_result",
          "data": {
            "text/plain": [
              "tensor([8, 0, 4, 5, 3, 2, 8, 6, 9, 8, 8, 6, 3, 7, 2, 6, 9, 7, 1, 4, 2, 9, 0, 2,\n",
              "        8, 8, 1, 4, 8, 4, 3, 1, 5, 2, 0, 8, 1, 1, 6, 1, 2, 2, 6, 6, 5, 1, 6, 4,\n",
              "        0, 9, 3, 2, 8, 4, 2, 9, 3, 9, 7, 7, 5, 0, 4, 5], device='cuda:0')"
            ]
          },
          "metadata": {
            "tags": []
          },
          "execution_count": 22
        }
      ]
    },
    {
      "cell_type": "code",
      "metadata": {
        "id": "dZSDx_XSUmRQ",
        "outputId": "d9b0ccaa-4e21-4cb6-9dc6-8a34c1224d8e",
        "colab": {
          "base_uri": "https://localhost:8080/",
          "height": 35
        }
      },
      "source": [
        "#test\n",
        "logist = MnistLogistic().cuda()\n",
        "y_pred = logist(x_b)\n",
        "loss = loss_func(y_pred, y_b.long())\n",
        "loss"
      ],
      "execution_count": 19,
      "outputs": [
        {
          "output_type": "execute_result",
          "data": {
            "text/plain": [
              "tensor(2.3251, device='cuda:0', grad_fn=<NllLossBackward>)"
            ]
          },
          "metadata": {
            "tags": []
          },
          "execution_count": 19
        }
      ]
    },
    {
      "cell_type": "code",
      "metadata": {
        "id": "MTdxrbxnIGGF"
      },
      "source": [
        "def update(x, y, lr):\n",
        "\n",
        "  y_pred = logist(x)\n",
        "  loss = loss_func(y_pred, y.long())\n",
        "  w_sum = 0.\n",
        "  for i in logist.parameters():\n",
        "    w_sum += (i**2).sum()\n",
        "  \n",
        "  loss += w_sum * wd\n",
        "\n",
        "  loss.backward()\n",
        "  with torch.no_grad():\n",
        "    for p in logist.parameters():\n",
        "      p.sub_(lr * p.grad)\n",
        "      p.grad.zero_()\n",
        "  return loss.item()"
      ],
      "execution_count": 20,
      "outputs": []
    },
    {
      "cell_type": "code",
      "metadata": {
        "id": "-ZfoO9kDKrh5",
        "outputId": "f90f80b8-361e-49b1-9446-bc844028f04d",
        "colab": {
          "base_uri": "https://localhost:8080/",
          "height": 35
        }
      },
      "source": [
        "#test\n",
        "# loss_func(y_pred.squeeze(1), y_b)\n",
        "# y_b, y_pred[0]  index\n",
        "#(t == 2)\n",
        "(y_pred[0] == max(y_pred[0])).nonzero().squeeze(1)\n",
        "def get_index(pred):\n",
        "  return "
      ],
      "execution_count": 45,
      "outputs": [
        {
          "output_type": "execute_result",
          "data": {
            "text/plain": [
              "tensor([7], device='cuda:0')"
            ]
          },
          "metadata": {
            "tags": []
          },
          "execution_count": 45
        }
      ]
    },
    {
      "cell_type": "code",
      "metadata": {
        "id": "UI9gnkCNeF5j"
      },
      "source": [
        "loss_wd_mapping = {}"
      ],
      "execution_count": 20,
      "outputs": []
    },
    {
      "cell_type": "code",
      "metadata": {
        "id": "EVH4KxMLJmAx",
        "outputId": "1dde9026-46aa-4f9d-a31e-8fc5e8a007a9",
        "colab": {
          "base_uri": "https://localhost:8080/",
          "height": 299
        }
      },
      "source": [
        "wd = 1e-04\n",
        "lr = 1e-01\n",
        "losses = []\n",
        "logist = MnistLogistic().cuda()\n",
        "for x, y in data.train_dl:\n",
        "  losses.append(update(x, y, lr))\n",
        "print(min(losses))\n",
        "loss_wd_mapping.update({wd: min(losses)})\n",
        "plt.plot(losses)"
      ],
      "execution_count": 21,
      "outputs": [
        {
          "output_type": "stream",
          "text": [
            "0.19574560225009918\n"
          ],
          "name": "stdout"
        },
        {
          "output_type": "execute_result",
          "data": {
            "text/plain": [
              "[<matplotlib.lines.Line2D at 0x7f5540341908>]"
            ]
          },
          "metadata": {
            "tags": []
          },
          "execution_count": 21
        },
        {
          "output_type": "display_data",
          "data": {
            "image/png": "[encoded data removed]",
            "text/plain": [
              "<Figure size 432x288 with 1 Axes>"
            ]
          },
          "metadata": {
            "tags": [],
            "needs_background": "light"
          }
        }
      ]
    },
    {
      "cell_type": "code",
      "metadata": {
        "id": "khDJESUgek4i",
        "outputId": "54bac9d5-ff62-41e7-8912-bdfcff8a192a",
        "colab": {
          "base_uri": "https://localhost:8080/",
          "height": 35
        }
      },
      "source": [
        "loss_wd_mapping"
      ],
      "execution_count": 30,
      "outputs": [
        {
          "output_type": "execute_result",
          "data": {
            "text/plain": [
              "{0.0001: 0.18917100131511688}"
            ]
          },
          "metadata": {
            "tags": []
          },
          "execution_count": 30
        }
      ]
    },
    {
      "cell_type": "code",
      "metadata": {
        "id": "VbS4scq0gkjN",
        "outputId": "d72df69c-071d-4987-ff42-a88c3c56dde2",
        "colab": {
          "base_uri": "https://localhost:8080/",
          "height": 121
        }
      },
      "source": [
        "#test\n",
        "t = nn.Parameter()\n",
        "# t\n",
        "for param in logist.parameters():\n",
        "  break\n",
        "# print(t)\n",
        "param.shape\n",
        "param[0][:30] , t"
      ],
      "execution_count": 45,
      "outputs": [
        {
          "output_type": "execute_result",
          "data": {
            "text/plain": [
              "(tensor([ 0.0069,  0.0168, -0.0040,  0.0101,  0.0203, -0.0098, -0.0290,  0.0308,\n",
              "         -0.0048,  0.0050,  0.0056, -0.0111, -0.0104,  0.0043, -0.0147, -0.0090,\n",
              "          0.0055, -0.0140,  0.0066, -0.0214, -0.0218, -0.0026, -0.0084, -0.0264,\n",
              "         -0.0187,  0.0102, -0.0096, -0.0150, -0.0153, -0.0065], device='cuda:0',\n",
              "        grad_fn=<SliceBackward>), tensor([[ 0.3456, -0.5075, -0.1957, -1.0611],\n",
              "         [ 0.7375, -0.0999, -0.6427, -1.7488]]))"
            ]
          },
          "metadata": {
            "tags": []
          },
          "execution_count": 45
        }
      ]
    },
    {
      "cell_type": "code",
      "metadata": {
        "id": "SfWYP3ZQfpzP"
      },
      "source": [
        "#test\n",
        "class MyLinear(nn.Module):\n",
        "  def __init__(self, in_features, out_features, bias = False):\n",
        "    #input shape = (64, 784) -- 64: batch size, 784 is the data which we are using. -- each row is one record of data.... but we want transpose.\n",
        "    self.weight = torch.randn((in_feature, out_features))"
      ],
      "execution_count": 24,
      "outputs": []
    },
    {
      "cell_type": "code",
      "metadata": {
        "id": "RLFuNXfKlp9p",
        "outputId": "34afdbd9-e2d9-4ee2-a2cd-28728b1f255c",
        "colab": {
          "base_uri": "https://localhost:8080/",
          "height": 121
        }
      },
      "source": [
        "#test\n",
        "from torch.nn import init\n",
        "import copy\n",
        "t_w = torch.randn((2, 5))\n",
        "tx = copy.deepcopy(t_w)\n",
        "# t_w;\n",
        "std = math.sqrt(2/5)\n",
        "init.kaiming_uniform(t_w, mode = 'fan_in')\n",
        "tx *= std\n",
        "tx == t_w\n",
        "tx, t_w"
      ],
      "execution_count": 40,
      "outputs": [
        {
          "output_type": "stream",
          "text": [
            "/usr/local/lib/python3.6/dist-packages/ipykernel_launcher.py:8: UserWarning: nn.init.kaiming_uniform is now deprecated in favor of nn.init.kaiming_uniform_.\n",
            "  \n"
          ],
          "name": "stderr"
        },
        {
          "output_type": "execute_result",
          "data": {
            "text/plain": [
              "(tensor([[-0.1320, -0.2234, -0.1299,  0.4927,  0.2341],\n",
              "         [ 0.0056,  0.4787,  0.4663,  0.0992, -0.1646]]),\n",
              " tensor([[ 0.0515, -0.2776, -0.5309, -0.7662, -1.0467],\n",
              "         [-0.7095,  0.5962, -0.2192, -0.6390,  0.2140]]))"
            ]
          },
          "metadata": {
            "tags": []
          },
          "execution_count": 40
        }
      ]
    },
    {
      "cell_type": "code",
      "metadata": {
        "id": "LiF_pdqESegK",
        "outputId": "a407a0ee-8ab5-41f6-b8d9-ede67e3962c9",
        "colab": {
          "base_uri": "https://localhost:8080/",
          "height": 35
        }
      },
      "source": [
        "#test\n",
        "lin = nn.Linear(784, 10).cuda()\n",
        "lin.weight.shape\n",
        "y_hat = lin(x_b)\n",
        "y_hat.shape"
      ],
      "execution_count": 27,
      "outputs": [
        {
          "output_type": "execute_result",
          "data": {
            "text/plain": [
              "torch.Size([64, 10])"
            ]
          },
          "metadata": {
            "tags": []
          },
          "execution_count": 27
        }
      ]
    },
    {
      "cell_type": "code",
      "metadata": {
        "id": "HkoykI1J_Ntp"
      },
      "source": [
        "class MyLin(nn.Module):\n",
        "  def __init__(self, n_in, n_out):\n",
        "    super().__init__()\n",
        "    self.weights = nn.Parameter(self.kaiming_uniform(torch.rand((n_in, n_out)), n_in))\n",
        "    self.bias = nn.Parameter(self.kaiming_uniform(torch.rand((n_out)), n_out))\n",
        "\n",
        "  def kaiming_uniform(self, weight, n_factor):\n",
        "    return weight*math.sqrt(2/n_factor)\n",
        "  \n",
        "  def forward(self, x_b):\n",
        "    y_hat = (x_b @ self.weights) + self.bias\n",
        "    return y_hat"
      ],
      "execution_count": 21,
      "outputs": []
    },
    {
      "cell_type": "code",
      "metadata": {
        "id": "5V96uBNhg6UK",
        "outputId": "cc64be03-3d33-4bcd-f9c5-84f4442a0e93",
        "colab": {
          "base_uri": "https://localhost:8080/",
          "height": 138
        }
      },
      "source": [
        "#test\n",
        "x_b"
      ],
      "execution_count": 33,
      "outputs": [
        {
          "output_type": "execute_result",
          "data": {
            "text/plain": [
              "tensor([[0., 0., 0.,  ..., 0., 0., 0.],\n",
              "        [0., 0., 0.,  ..., 0., 0., 0.],\n",
              "        [0., 0., 0.,  ..., 0., 0., 0.],\n",
              "        ...,\n",
              "        [0., 0., 0.,  ..., 0., 0., 0.],\n",
              "        [0., 0., 0.,  ..., 0., 0., 0.],\n",
              "        [0., 0., 0.,  ..., 0., 0., 0.]])"
            ]
          },
          "metadata": {
            "tags": []
          },
          "execution_count": 33
        }
      ]
    },
    {
      "cell_type": "code",
      "metadata": {
        "id": "BAd58zo8AQxW"
      },
      "source": [
        "#test\n",
        "lin = MyLin(784, 10).cuda()\n",
        "params = []\n",
        "for i in lin.parameters():\n",
        "  params.append(i)\n",
        "# params\n",
        "my_y = lin(x_b)\n",
        "my_y\n",
        "# loss = loss_func(my_y, y_b.long())\n",
        "# loss"
      ],
      "execution_count": null,
      "outputs": []
    },
    {
      "cell_type": "code",
      "metadata": {
        "id": "xuBIZ3qyBkIl"
      },
      "source": [
        "class MyLogistic(nn.Module):\n",
        "  def __init__(self, in_features = 784, out_features = 10):\n",
        "    super().__init__()\n",
        "    self.lin = MyLin(in_features, out_features)\n",
        "  \n",
        "  def forward(self, x_b):\n",
        "    return self.lin(x_b)"
      ],
      "execution_count": 22,
      "outputs": []
    },
    {
      "cell_type": "code",
      "metadata": {
        "id": "s3xVvXmJCObr"
      },
      "source": [
        "#test\n",
        "lo = MyLogistic(784, 10).cuda()\n",
        "F.relu(lo(x_b))"
      ],
      "execution_count": null,
      "outputs": []
    },
    {
      "cell_type": "code",
      "metadata": {
        "id": "jud5GlUDk2lb"
      },
      "source": [
        "loss_wd_mapping = {}"
      ],
      "execution_count": 17,
      "outputs": []
    },
    {
      "cell_type": "code",
      "metadata": {
        "id": "rPLhPDjNBn7C",
        "outputId": "c51793f0-205f-4727-f10c-cab83907ca63",
        "colab": {
          "base_uri": "https://localhost:8080/",
          "height": 299
        }
      },
      "source": [
        "wd = 1e-04\n",
        "lr = 1e-01\n",
        "losses = []\n",
        "logist = MyLogistic(784, 10).cuda()\n",
        "c = 0\n",
        "while c <= 1:\n",
        "  for x, y in data.train_dl:\n",
        "    losses.append(update(x, y, lr))\n",
        "  c += 1\n",
        "print(min(losses))\n",
        "loss_wd_mapping.update({wd: min(losses)})\n",
        "plt.plot(losses)"
      ],
      "execution_count": 18,
      "outputs": [
        {
          "output_type": "stream",
          "text": [
            "0.1183616891503334\n"
          ],
          "name": "stdout"
        },
        {
          "output_type": "execute_result",
          "data": {
            "text/plain": [
              "[<matplotlib.lines.Line2D at 0x7fc39c606c50>]"
            ]
          },
          "metadata": {
            "tags": []
          },
          "execution_count": 18
        },
        {
          "output_type": "display_data",
          "data": {
            "image/png": "[encoded data removed]",
            "text/plain": [
              "<Figure size 432x288 with 1 Axes>"
            ]
          },
          "metadata": {
            "tags": [],
            "needs_background": "light"
          }
        }
      ]
    },
    {
      "cell_type": "code",
      "metadata": {
        "id": "6QRebWEAsyyp",
        "outputId": "9fd3e574-7c62-4e1e-fb1c-c89c0c26a244",
        "colab": {
          "base_uri": "https://localhost:8080/",
          "height": 35
        }
      },
      "source": [
        "losses[200]"
      ],
      "execution_count": 19,
      "outputs": [
        {
          "output_type": "execute_result",
          "data": {
            "text/plain": [
              "0.4744659662246704"
            ]
          },
          "metadata": {
            "tags": []
          },
          "execution_count": 19
        }
      ]
    },
    {
      "cell_type": "code",
      "metadata": {
        "id": "8Jv35IG-GtZA"
      },
      "source": [
        "class MultiLogist(nn.Module):\n",
        "  def __init__(self, in_features, out_features):\n",
        "    super().__init__()\n",
        "    self.lin_1 = MyLin(in_features, 50)\n",
        "    # self.lin_2 = MyLin(200, 50)\n",
        "    self.lin_2 = MyLin(50, out_features)\n",
        "  \n",
        "  def forward(self, x_b):\n",
        "    return self.lin_2(F.relu(self.lin_1(x_b)))"
      ],
      "execution_count": 23,
      "outputs": []
    },
    {
      "cell_type": "code",
      "metadata": {
        "id": "Ejw0FNe9Hk0Y"
      },
      "source": [
        "#test\n",
        "multi = MultiLogist(784, 10).cuda()\n",
        "for i in multi.parameters():\n",
        "  print(i.shape)\n",
        "y_pred = multi(x_b)\n",
        "loss = loss_func(y_pred, y_b.long())\n",
        "loss"
      ],
      "execution_count": null,
      "outputs": []
    },
    {
      "cell_type": "code",
      "metadata": {
        "id": "AZpmFWXlHWrn"
      },
      "source": [
        "wd = 1e-04\n",
        "lr = 1e-01\n",
        "\n",
        "losses = []\n",
        "logist = MultiLogist(784, 10).cuda()\n",
        "c = 0\n",
        "while c <= 0:\n",
        "  for x, y in data.train_dl:\n",
        "    losses.append(update(x, y, lr))\n",
        "  c += 1\n",
        "print(min(losses), losses[-1])\n",
        "loss_wd_mapping.update({wd: min(losses)})\n",
        "plt.plot(losses)"
      ],
      "execution_count": null,
      "outputs": []
    },
    {
      "cell_type": "code",
      "metadata": {
        "id": "2sFR06zlk8z5",
        "outputId": "fb95e910-6f7e-4a8d-b30b-d41a927410c2",
        "colab": {
          "base_uri": "https://localhost:8080/",
          "height": 35
        }
      },
      "source": [
        "losses[200]"
      ],
      "execution_count": 22,
      "outputs": [
        {
          "output_type": "execute_result",
          "data": {
            "text/plain": [
              "0.4733506143093109"
            ]
          },
          "metadata": {
            "tags": []
          },
          "execution_count": 22
        }
      ]
    },
    {
      "cell_type": "code",
      "metadata": {
        "id": "__8Ll9BzMnJ8"
      },
      "source": [
        "\"\"\"\n",
        "def update(x, y, lr):\n",
        "\n",
        "  y_pred = logist(x)\n",
        "  loss = loss_func(y_pred, y.long())\n",
        "  w_sum = 0.\n",
        "  for i in logist.parameters():\n",
        "    w_sum += (i**2).sum()\n",
        "  \n",
        "  loss += w_sum * wd\n",
        "\n",
        "  loss.backward()\n",
        "  with torch.no_grad():\n",
        "    for p in logist.parameters():\n",
        "      p.sub_(lr * p.grad)\n",
        "      p.grad.zero_()\n",
        "  return loss.item()\n",
        "\"\"\"\n",
        "def update(x, y, lr):\n",
        "\n",
        "  opt = optim.SGD(logist.parameters(), lr = lr, weight_decay = wd)\n",
        "  y_pred = logist(x)\n",
        "  loss = loss_func(y_pred, y.long())\n",
        "  loss.backward()\n",
        "  opt.step()\n",
        "  opt.zero_grad()\n",
        "  return loss.item()"
      ],
      "execution_count": 24,
      "outputs": []
    },
    {
      "cell_type": "code",
      "metadata": {
        "id": "bitM38-nrOvN"
      },
      "source": [
        "loss_wd_mapping = {}"
      ],
      "execution_count": 26,
      "outputs": []
    },
    {
      "cell_type": "code",
      "metadata": {
        "id": "59yu-zUINkXO",
        "outputId": "e57d0133-5ca1-4894-be01-eb503b4c058a",
        "colab": {
          "base_uri": "https://localhost:8080/",
          "height": 299
        }
      },
      "source": [
        "wd = 1e-04\n",
        "lr = 1e-01\n",
        "\n",
        "losses = []\n",
        "logist = MultiLogist(784, 10).cuda()\n",
        "c = 0\n",
        "while c <= 0:\n",
        "  for x, y in data.train_dl:\n",
        "    losses.append(update(x, y, lr))\n",
        "  c += 1\n",
        "print(min(losses), losses[-1])\n",
        "loss_wd_mapping.update({wd: min(losses)})\n",
        "plt.plot(losses)"
      ],
      "execution_count": 27,
      "outputs": [
        {
          "output_type": "stream",
          "text": [
            "0.11076889932155609 0.3250245153903961\n"
          ],
          "name": "stdout"
        },
        {
          "output_type": "execute_result",
          "data": {
            "text/plain": [
              "[<matplotlib.lines.Line2D at 0x7efe7a6e97f0>]"
            ]
          },
          "metadata": {
            "tags": []
          },
          "execution_count": 27
        },
        {
          "output_type": "display_data",
          "data": {
            "image/png": "[encoded data removed]",
            "text/plain": [
              "<Figure size 432x288 with 1 Axes>"
            ]
          },
          "metadata": {
            "tags": [],
            "needs_background": "light"
          }
        }
      ]
    },
    {
      "cell_type": "code",
      "metadata": {
        "id": "1bgCXNtSsprO",
        "outputId": "486c3df3-6782-41a1-fe83-09c8ae2ff7a0",
        "colab": {
          "base_uri": "https://localhost:8080/",
          "height": 35
        }
      },
      "source": [
        "losses[200]"
      ],
      "execution_count": 28,
      "outputs": [
        {
          "output_type": "execute_result",
          "data": {
            "text/plain": [
              "0.7046434283256531"
            ]
          },
          "metadata": {
            "tags": []
          },
          "execution_count": 28
        }
      ]
    },
    {
      "cell_type": "code",
      "metadata": {
        "id": "wVdmio3rlQ0i"
      },
      "source": [
        "#test\n",
        "#with momentum\n",
        "# class MnistMoms(nn.Module):\n",
        "lin = MyLin(10, 5)\n",
        "params = []\n",
        "for i in lin.parameters():\n",
        "  params.append(i)\n"
      ],
      "execution_count": 27,
      "outputs": []
    },
    {
      "cell_type": "code",
      "metadata": {
        "id": "7_eSC8vWmCye",
        "outputId": "56068246-3d88-49f2-d4d8-03166ed9cda1",
        "colab": {
          "base_uri": "https://localhost:8080/",
          "height": 35
        }
      },
      "source": [
        "#test\n",
        "a = {params[0]: 'indai'}\n",
        "a.pop(params[0])\n"
      ],
      "execution_count": 42,
      "outputs": [
        {
          "output_type": "execute_result",
          "data": {
            "application/vnd.google.colaboratory.intrinsic+json": {
              "type": "string"
            },
            "text/plain": [
              "'indai'"
            ]
          },
          "metadata": {
            "tags": []
          },
          "execution_count": 42
        }
      ]
    },
    {
      "cell_type": "code",
      "metadata": {
        "id": "YdL4WDrSnsjU"
      },
      "source": [
        "from copy import deepcopy"
      ],
      "execution_count": 35,
      "outputs": []
    },
    {
      "cell_type": "code",
      "metadata": {
        "id": "OmR51Twvm-oN"
      },
      "source": [
        "\n",
        "def update_with_momentum(x, y, lr, moms = 0.9):\n",
        "\n",
        "  y_pred = logist(x)\n",
        "  loss = loss_func(y_pred, y.long())\n",
        "  w_sum = 0.\n",
        "  for i in logist.parameters():\n",
        "    w_sum += (i**2).sum()\n",
        "  \n",
        "  loss += w_sum * wd\n",
        "  loss.backward()\n",
        "\n",
        "  with torch.no_grad():\n",
        "    for p in logist.parameters():\n",
        "      if not p in prev_grads:\n",
        "        new_weighted_avg = p.grad\n",
        "        p.sub_(lr * new_weighted_avg)\n",
        "        \n",
        "      else:\n",
        "        weighted_grad = prev_grads.pop(p)\n",
        "        new_weighted_avg = (1.0 - moms) *p.grad + moms *weighted_grad\n",
        "        p.sub_(lr * new_weighted_avg)\n",
        "      prev_grads.update({p: deepcopy(new_weighted_avg)})\n",
        "      p.grad.zero_()\n",
        "\n",
        "  return loss.item()"
      ],
      "execution_count": 24,
      "outputs": []
    },
    {
      "cell_type": "code",
      "metadata": {
        "id": "h_nwBh03rnMe"
      },
      "source": [
        "momentum_mapping = {}"
      ],
      "execution_count": 30,
      "outputs": []
    },
    {
      "cell_type": "code",
      "metadata": {
        "id": "7FqUW0bIozDB",
        "outputId": "51bf7785-c14d-4b3e-b4f5-47828cd2a96e",
        "colab": {
          "base_uri": "https://localhost:8080/",
          "height": 299
        }
      },
      "source": [
        "wd = 1e-04\n",
        "lr = 1e-01\n",
        "moms = 0.9\n",
        "losses = []\n",
        "prev_grads = {}\n",
        "\n",
        "logist = MyLogistic(784, 10).cuda()\n",
        "c = 0\n",
        "while c <= 0:\n",
        "  for x, y in data.train_dl:\n",
        "    losses.append(update_with_momentum(x, y, lr, moms))\n",
        "  c += 1\n",
        "# print(min(losses))\n",
        "print(min(losses), losses[-1])\n",
        "momentum_mapping.update({moms: losses[-1]})\n",
        "plt.plot(losses)"
      ],
      "execution_count": 31,
      "outputs": [
        {
          "output_type": "stream",
          "text": [
            "0.16908591985702515 0.568855345249176\n"
          ],
          "name": "stdout"
        },
        {
          "output_type": "execute_result",
          "data": {
            "text/plain": [
              "[<matplotlib.lines.Line2D at 0x7efe7d452e10>]"
            ]
          },
          "metadata": {
            "tags": []
          },
          "execution_count": 31
        },
        {
          "output_type": "display_data",
          "data": {
            "image/png": "[encoded data removed]",
            "text/plain": [
              "<Figure size 432x288 with 1 Axes>"
            ]
          },
          "metadata": {
            "tags": [],
            "needs_background": "light"
          }
        }
      ]
    },
    {
      "cell_type": "code",
      "metadata": {
        "id": "Jt4cdc1zshkM",
        "outputId": "51ddfed6-2e3f-440b-bd79-118ca88e4d71",
        "colab": {
          "base_uri": "https://localhost:8080/",
          "height": 35
        }
      },
      "source": [
        "print(losses[200])"
      ],
      "execution_count": 32,
      "outputs": [
        {
          "output_type": "stream",
          "text": [
            "0.6055770516395569\n"
          ],
          "name": "stdout"
        }
      ]
    },
    {
      "cell_type": "code",
      "metadata": {
        "id": "ikRpW2N0Acjl"
      },
      "source": [
        "\"\"\"\n",
        "def update_with_momentum(x, y, lr, moms = 0.9):\n",
        "\n",
        "  y_pred = logist(x)\n",
        "  loss = loss_func(y_pred, y.long())\n",
        "  w_sum = 0.\n",
        "  for i in logist.parameters():\n",
        "    w_sum += (i**2).sum()\n",
        "  \n",
        "  loss += w_sum * wd\n",
        "  loss.backward()\n",
        "\n",
        "  with torch.no_grad():\n",
        "    for p in logist.parameters():\n",
        "      if not p in prev_grads:\n",
        "        new_weighted_avg = p.grad\n",
        "        p.sub_(lr * new_weighted_avg)\n",
        "        \n",
        "      else:\n",
        "        weighted_grad = prev_grads.pop(p)\n",
        "        new_weighted_avg = (1.0 - moms) *p.grad + moms *weighted_grad\n",
        "        p.sub_(lr * new_weighted_avg)\n",
        "      prev_grads.update({p: deepcopy(new_weighted_avg)})\n",
        "      p.grad.zero_()\n",
        "\n",
        "  return loss.item()\n",
        "\"\"\"\n",
        "\n",
        "def update_with_rmse_prop(x, y, lr):\n",
        "  # st()\n",
        "  rmse_alpha = 0.9\n",
        "  e = 1e-09\n",
        "  y_pred = logist(x)\n",
        "  loss = loss_func(y_pred, y.long())\n",
        "  w_sum = 0.\n",
        "  '''\n",
        "  for i in logist.parameters():\n",
        "    w_sum += (i**2).sum()\n",
        "  '''\n",
        "  loss += w_sum * wd\n",
        "  loss.backward()\n",
        "  \n",
        "  with torch.no_grad():\n",
        "    for param in logist.parameters():\n",
        "      '''\n",
        "      SGD: param.sub_(lr*param.grad)\n",
        "      RMSE PROP update = param.sub_(lr * param.grad/squared_average)\n",
        "      '''\n",
        "      #RMSE PROP requires squared weighted average of previous gradients of that respective parameter. to store that we use a dict called squared_moving_average\n",
        "      if param not in squared_moving_average:\n",
        "        new_squared_average = param.grad**2 + e\n",
        "        # param.sub_(lr*param.grad/new_squared_average)\n",
        "      else:\n",
        "        squared_average = squared_moving_average.pop(param)\n",
        "        squared_gradient = param.grad**2\n",
        "        new_squared_average = (1-rmse_alpha) * squared_gradient + rmse_alpha * squared_average\n",
        "      param.sub_(lr*param.grad/new_squared_average.sqrt())\n",
        "      squared_moving_average.update({param: deepcopy(new_squared_average)})\n",
        "      param.grad.zero_()\n",
        "  return loss.item()\n"
      ],
      "execution_count": 23,
      "outputs": []
    },
    {
      "cell_type": "code",
      "metadata": {
        "id": "DAALJWpwj6jx"
      },
      "source": [
        "#test\n",
        "logist = MyLogistic(784, 10).cuda()\n",
        "lr = 1e-02\n",
        "# update_with_rmse_prop(x_b, y_b, lr)"
      ],
      "execution_count": 34,
      "outputs": []
    },
    {
      "cell_type": "code",
      "metadata": {
        "id": "fzfkuqyyEbOz"
      },
      "source": [
        "momentum_mapping = {}"
      ],
      "execution_count": 24,
      "outputs": []
    },
    {
      "cell_type": "code",
      "metadata": {
        "id": "Chqv_xdTEJuO",
        "outputId": "acd14e17-7e64-44cf-ff77-d260313fb262",
        "colab": {
          "base_uri": "https://localhost:8080/",
          "height": 299
        }
      },
      "source": [
        "wd = 0.\n",
        "lr = 1e-02\n",
        "moms = 0.9\n",
        "losses = []\n",
        "squared_moving_average = {}\n",
        "\n",
        "logist = MyLogistic(784, 10).cuda()\n",
        "c = 0\n",
        "while c <= 0:\n",
        "  for x, y in data.train_dl:\n",
        "    losses.append(update_with_rmse_prop(x, y, lr))\n",
        "  c += 1\n",
        "# print(min(losses))\n",
        "print(min(losses), losses[-1])\n",
        "momentum_mapping.update({lr: losses[-1]})\n",
        "plt.plot(losses)"
      ],
      "execution_count": 25,
      "outputs": [
        {
          "output_type": "stream",
          "text": [
            "0.05221719667315483 0.15408819913864136\n"
          ],
          "name": "stdout"
        },
        {
          "output_type": "execute_result",
          "data": {
            "text/plain": [
              "[<matplotlib.lines.Line2D at 0x7f6f9a528668>]"
            ]
          },
          "metadata": {
            "tags": []
          },
          "execution_count": 25
        },
        {
          "output_type": "display_data",
          "data": {
            "image/png": "[encoded data removed]",
            "text/plain": [
              "<Figure size 432x288 with 1 Axes>"
            ]
          },
          "metadata": {
            "tags": [],
            "needs_background": "light"
          }
        }
      ]
    },
    {
      "cell_type": "code",
      "metadata": {
        "id": "L6ghMKqFyQuF",
        "outputId": "85df9a18-8acb-4ec6-9148-5f15e6fcbc01",
        "colab": {
          "base_uri": "https://localhost:8080/",
          "height": 35
        }
      },
      "source": [
        "losses[200]"
      ],
      "execution_count": 26,
      "outputs": [
        {
          "output_type": "execute_result",
          "data": {
            "text/plain": [
              "0.3986862897872925"
            ]
          },
          "metadata": {
            "tags": []
          },
          "execution_count": 26
        }
      ]
    },
    {
      "cell_type": "code",
      "metadata": {
        "id": "mK8SoDoUEu1q"
      },
      "source": [
        "#test\n",
        "logist = MyLogistic(784, 10).cuda()\n",
        "y_hat = logist(x_b)\n",
        "loss = loss_func(y_hat, y_b.long())\n",
        "loss.backward()"
      ],
      "execution_count": 62,
      "outputs": []
    },
    {
      "cell_type": "code",
      "metadata": {
        "id": "9WBT2wxTGTnw"
      },
      "source": [
        "#test\n",
        "weights = []\n",
        "for param in logist.parameters():\n",
        "  weights.append(param)\n",
        "  "
      ],
      "execution_count": 63,
      "outputs": []
    },
    {
      "cell_type": "code",
      "metadata": {
        "id": "6rY5gefPGgMK"
      },
      "source": [
        "#test\n",
        "weights[0], weights[0].grad, weights[1], weights[1].grad"
      ],
      "execution_count": null,
      "outputs": []
    },
    {
      "cell_type": "code",
      "metadata": {
        "id": "MYqhQsZ7pY4P"
      },
      "source": [
        "#test\n",
        "for a, b in data.train_dl:\n",
        "  # print(a, b)\n",
        "  pass  "
      ],
      "execution_count": 28,
      "outputs": []
    },
    {
      "cell_type": "code",
      "metadata": {
        "id": "weLqVSobHAjn"
      },
      "source": [
        "#test\n",
        "lin= MyLin(784, 10).cuda()\n",
        "lin.weights.shape, lin.bias.shape, x_b.shape, x_b\n"
      ],
      "execution_count": null,
      "outputs": []
    },
    {
      "cell_type": "code",
      "metadata": {
        "id": "T3SQrbAms5J7"
      },
      "source": [
        "#test\n",
        "x = torch.rand((3,3))\n",
        "x.round()\n",
        "np.unique(x.round().numpy())\n",
        "from copy import deepcopy"
      ],
      "execution_count": 53,
      "outputs": []
    },
    {
      "cell_type": "code",
      "metadata": {
        "id": "4Nmz3WyGjIDK"
      },
      "source": [
        "#test\n",
        "y_hat = x_b @ lin.weights\n",
        "# y_hat, y_hat.shape\n",
        "# y.long()\n",
        "loss = loss_func(y_hat, y.long())\n",
        "print(\"Loss is: \" + str(loss))\n",
        "loss.backward()\n",
        "# lin.weights.grad.shape\n",
        "grad = deepcopy(lin.weights.grad)\n",
        "np.unique(grad.cpu().numpy())"
      ],
      "execution_count": null,
      "outputs": []
    },
    {
      "cell_type": "code",
      "metadata": {
        "id": "9-SAEwZqH-nc"
      },
      "source": [
        "#test\n",
        "lin.weights, lin.weights.shape\n",
        "y_pred = x_b"
      ],
      "execution_count": null,
      "outputs": []
    },
    {
      "cell_type": "code",
      "metadata": {
        "id": "1ursQtp3FWPx"
      },
      "source": [
        "def adam_update(x, y, lr, moms):\n",
        "  rmse_alpha = 0.9\n",
        "  eps = 1e-09\n",
        "  y_hat = model(x)\n",
        "  loss = loss_func(y_hat, y.long())\n",
        "\n",
        "  w_sum = 0.\n",
        "  for param in model.parameters():\n",
        "    w_sum += param.sum()**2\n",
        "  loss += wd*w_sum\n",
        "\n",
        "  loss.backward()\n",
        "\n",
        "  with torch.no_grad():\n",
        "    for param in model.parameters():\n",
        "      \"\"\"\n",
        "      calculate the update first by using rmse prop\n",
        "      apply momentum on the update calculated\n",
        "      \"\"\"\n",
        "      #1. calculating update using rmse prop\n",
        "      if param not in squared_averages:\n",
        "        new_squared_avg = param.grad**2 + eps\n",
        "      else:\n",
        "        new_squared_avg = (1-rmse_alpha)*(param.grad**2) + rmse_alpha*squared_averages.pop(param)\n",
        "      \n",
        "      update = lr*(param.grad/new_squared_avg.sqrt())\n",
        "    \n",
        "      #2. Applying momentum to the update\n",
        "      if param not in prev_update:\n",
        "        update_with_momentum = update\n",
        "      else:\n",
        "        update_with_momentum = (1 - moms)*update + moms*prev_update.pop(param)\n",
        "      \n",
        "      param.sub_(update_with_momentum)\n",
        "      prev_update[param] = deepcopy(update_with_momentum)\n",
        "      squared_averages.update({param: deepcopy(new_squared_avg)})\n",
        "      param.grad.zero_()\n",
        "  return loss.item()\n"
      ],
      "execution_count": 25,
      "outputs": []
    },
    {
      "cell_type": "code",
      "metadata": {
        "id": "aXx7ADh0IST7",
        "outputId": "9fa57c41-ac23-43d9-c585-d9adef134783",
        "colab": {
          "base_uri": "https://localhost:8080/",
          "height": 299
        }
      },
      "source": [
        "wd = 0.\n",
        "lr = 1e-02\n",
        "moms = 0.9\n",
        "losses = []\n",
        "squared_averages = {}\n",
        "prev_update = {}\n",
        "\n",
        "model = MyLogistic(784, 10).cuda()\n",
        "c = 0\n",
        "while c <= 0:\n",
        "  for x, y in data.train_dl:\n",
        "    losses.append(adam_update(x, y, lr, moms))\n",
        "  c += 1\n",
        "# print(min(losses))\n",
        "print(min(losses), losses[-1])\n",
        "momentum_mapping.update({lr: losses[-1]})\n",
        "plt.plot(losses)"
      ],
      "execution_count": 46,
      "outputs": [
        {
          "output_type": "stream",
          "text": [
            "0.05346132814884186 0.09524013102054596\n"
          ],
          "name": "stdout"
        },
        {
          "output_type": "execute_result",
          "data": {
            "text/plain": [
              "[<matplotlib.lines.Line2D at 0x7f6f47a62780>]"
            ]
          },
          "metadata": {
            "tags": []
          },
          "execution_count": 46
        },
        {
          "output_type": "display_data",
          "data": {
            "image/png": "[encoded data removed]",
            "text/plain": [
              "<Figure size 432x288 with 1 Axes>"
            ]
          },
          "metadata": {
            "tags": [],
            "needs_background": "light"
          }
        }
      ]
    },
    {
      "cell_type": "code",
      "metadata": {
        "id": "Zn7scQARKOTQ"
      },
      "source": [
        "def update_using_optim(x, y, lr, moms):\n",
        "  optimizer = optim.SGD(model.parameters(), lr = lr, momentum=moms, weight_decay=1e-04)\n",
        "  y_hat = model(x)\n",
        "  loss = loss_func(y_hat, y.long())\n",
        "  loss.backward()\n",
        "  optimizer.step()\n",
        "  optimizer.zero_grad()\n",
        "  return loss.item()"
      ],
      "execution_count": 20,
      "outputs": []
    },
    {
      "cell_type": "code",
      "metadata": {
        "id": "zECTiTupLGKT",
        "outputId": "29a0639e-9e60-4779-f8eb-8ee583c4db45",
        "colab": {
          "base_uri": "https://localhost:8080/",
          "height": 282
        }
      },
      "source": [
        "lr = 1e-01\n",
        "moms = 0.9\n",
        "losses = []\n",
        "model = MyLogistic(784, 10).cuda()\n",
        "for x, y in data.train_dl:\n",
        "  losses.append(update_using_optim(x, y, lr, moms))\n",
        "plt.plot(losses)\n"
      ],
      "execution_count": 21,
      "outputs": [
        {
          "output_type": "execute_result",
          "data": {
            "text/plain": [
              "[<matplotlib.lines.Line2D at 0x7f3e60676470>]"
            ]
          },
          "metadata": {
            "tags": []
          },
          "execution_count": 21
        },
        {
          "output_type": "display_data",
          "data": {
            "image/png": "[encoded data removed]",
            "text/plain": [
              "<Figure size 432x288 with 1 Axes>"
            ]
          },
          "metadata": {
            "tags": [],
            "needs_background": "light"
          }
        }
      ]
    },
    {
      "cell_type": "code",
      "metadata": {
        "id": "bj6g2I5MM28h"
      },
      "source": [
        "def update_adam_optim(x, y, lr, moms):\n",
        "  optimizer = optim.Adam(model.parameters(), lr = lr, weight_decay = wd)\n",
        "  y_hat = model(x)\n",
        "  loss = loss_func(y_hat, y.long())\n",
        "  loss.backward()\n",
        "  optimizer.step()\n",
        "  optimizer.zero_grad()\n",
        "  return loss.item()"
      ],
      "execution_count": 22,
      "outputs": []
    },
    {
      "cell_type": "code",
      "metadata": {
        "id": "Seym0eTJNZwD",
        "outputId": "33352af0-6fc4-44ae-c537-1617efdb0d19",
        "colab": {
          "base_uri": "https://localhost:8080/",
          "height": 282
        }
      },
      "source": [
        "lr = 1e-03\n",
        "moms = 0.9\n",
        "losses = []\n",
        "wd = 0.0\n",
        "model = MyLogistic(784, 10).cuda()\n",
        "for x, y in data.train_dl:\n",
        "  losses.append(update_adam_optim(x, y, lr, moms))\n",
        "plt.plot(losses)"
      ],
      "execution_count": 28,
      "outputs": [
        {
          "output_type": "execute_result",
          "data": {
            "text/plain": [
              "[<matplotlib.lines.Line2D at 0x7f3e6028bac8>]"
            ]
          },
          "metadata": {
            "tags": []
          },
          "execution_count": 28
        },
        {
          "output_type": "display_data",
          "data": {
            "image/png": "[encoded data removed]",
            "text/plain": [
              "<Figure size 432x288 with 1 Axes>"
            ]
          },
          "metadata": {
            "tags": [],
            "needs_background": "light"
          }
        }
      ]
    },
    {
      "cell_type": "code",
      "metadata": {
        "id": "g0yVuL1wO-9f",
        "outputId": "5e61b860-9567-40ab-b661-070a0e7e9f99",
        "colab": {
          "base_uri": "https://localhost:8080/",
          "height": 190
        }
      },
      "source": [
        "x_b, y_b"
      ],
      "execution_count": 30,
      "outputs": [
        {
          "output_type": "execute_result",
          "data": {
            "text/plain": [
              "(tensor([[0., 0., 0.,  ..., 0., 0., 0.],\n",
              "         [0., 0., 0.,  ..., 0., 0., 0.],\n",
              "         [0., 0., 0.,  ..., 0., 0., 0.],\n",
              "         ...,\n",
              "         [0., 0., 0.,  ..., 0., 0., 0.],\n",
              "         [0., 0., 0.,  ..., 0., 0., 0.],\n",
              "         [0., 0., 0.,  ..., 0., 0., 0.]], device='cuda:0'),\n",
              " tensor([9, 1, 6, 6, 0, 5, 6, 3, 0, 4, 3, 5, 2, 5, 0, 0, 7, 0, 3, 9, 1, 0, 8, 3,\n",
              "         7, 3, 4, 3, 7, 5, 3, 8, 2, 5, 4, 9, 5, 6, 8, 5, 6, 1, 4, 0, 6, 2, 1, 5,\n",
              "         6, 9, 3, 6, 2, 2, 0, 9, 8, 0, 2, 4, 5, 2, 4, 4], device='cuda:0'))"
            ]
          },
          "metadata": {
            "tags": []
          },
          "execution_count": 30
        }
      ]
    },
    {
      "cell_type": "code",
      "metadata": {
        "id": "ReqOCOJrN-6Q"
      },
      "source": [
        "learn = Learner(data, MyLogistic(), loss_func=loss_func, metrics = accuracy)"
      ],
      "execution_count": 26,
      "outputs": []
    },
    {
      "cell_type": "code",
      "metadata": {
        "id": "o-nNXao_OsQR",
        "outputId": "fcec460f-692c-4977-eac4-74e8176dfd27",
        "colab": {
          "base_uri": "https://localhost:8080/",
          "height": 111
        }
      },
      "source": [
        "learn.lr_find()"
      ],
      "execution_count": 27,
      "outputs": [
        {
          "output_type": "display_data",
          "data": {
            "text/html": [
              "\n",
              "    <div>\n",
              "        <style>\n",
              "            /* Turns off some styling */\n",
              "            progress {\n",
              "                /* gets rid of default border in Firefox and Opera. */\n",
              "                border: none;\n",
              "                /* Needs to be in here for Safari polyfill so background images work as expected. */\n",
              "                background-size: auto;\n",
              "            }\n",
              "            .progress-bar-interrupted, .progress-bar-interrupted::-webkit-progress-bar {\n",
              "                background: #F44336;\n",
              "            }\n",
              "        </style>\n",
              "      <progress value='0' class='' max='1' style='width:300px; height:20px; vertical-align: middle;'></progress>\n",
              "      0.00% [0/1 00:00<00:00]\n",
              "    </div>\n",
              "    \n",
              "<table border=\"1\" class=\"dataframe\">\n",
              "  <thead>\n",
              "    <tr style=\"text-align: left;\">\n",
              "      <th>epoch</th>\n",
              "      <th>train_loss</th>\n",
              "      <th>valid_loss</th>\n",
              "      <th>accuracy</th>\n",
              "      <th>time</th>\n",
              "    </tr>\n",
              "  </thead>\n",
              "  <tbody>\n",
              "  </tbody>\n",
              "</table><p>\n",
              "\n",
              "    <div>\n",
              "        <style>\n",
              "            /* Turns off some styling */\n",
              "            progress {\n",
              "                /* gets rid of default border in Firefox and Opera. */\n",
              "                border: none;\n",
              "                /* Needs to be in here for Safari polyfill so background images work as expected. */\n",
              "                background-size: auto;\n",
              "            }\n",
              "            .progress-bar-interrupted, .progress-bar-interrupted::-webkit-progress-bar {\n",
              "                background: #F44336;\n",
              "            }\n",
              "        </style>\n",
              "      <progress value='69' class='' max='781' style='width:300px; height:20px; vertical-align: middle;'></progress>\n",
              "      8.83% [69/781 00:00<00:03 1.9397]\n",
              "    </div>\n",
              "    "
            ],
            "text/plain": [
              "<IPython.core.display.HTML object>"
            ]
          },
          "metadata": {
            "tags": []
          }
        },
        {
          "output_type": "stream",
          "text": [
            "LR Finder is complete, type {learner_name}.recorder.plot() to see the graph.\n"
          ],
          "name": "stdout"
        }
      ]
    },
    {
      "cell_type": "code",
      "metadata": {
        "id": "hfB1j_mDO1y8",
        "outputId": "9594cad7-41e5-4014-9865-8b98bc197a6a",
        "colab": {
          "base_uri": "https://localhost:8080/",
          "height": 279
        }
      },
      "source": [
        "learn.recorder.plot()"
      ],
      "execution_count": 28,
      "outputs": [
        {
          "output_type": "display_data",
          "data": {
            "image/png": "[encoded data removed]",
            "text/plain": [
              "<Figure size 432x288 with 1 Axes>"
            ]
          },
          "metadata": {
            "tags": [],
            "needs_background": "light"
          }
        }
      ]
    },
    {
      "cell_type": "code",
      "metadata": {
        "id": "uGZ8WC5vlo0r",
        "outputId": "a851a16f-00ba-4d0d-fe32-3a17b3c8f810",
        "colab": {
          "base_uri": "https://localhost:8080/",
          "height": 69
        }
      },
      "source": [
        "#test -- softmax\n",
        "lin = MyLin(784, 10).cuda()\n",
        "y_hat = lin(x_b)\n",
        "y_hat.shape, y_hat[0]"
      ],
      "execution_count": 33,
      "outputs": [
        {
          "output_type": "execute_result",
          "data": {
            "text/plain": [
              "(torch.Size([64, 10]),\n",
              " tensor([2.4385, 2.5124, 2.5791, 2.4310, 2.5957, 2.7360, 2.4508, 2.4075, 2.4747,\n",
              "         2.2481], device='cuda:0', grad_fn=<SelectBackward>))"
            ]
          },
          "metadata": {
            "tags": []
          },
          "execution_count": 33
        }
      ]
    },
    {
      "cell_type": "code",
      "metadata": {
        "id": "AQCLSd1DmUn4",
        "outputId": "d510309e-6bd8-4230-cda3-acfe17208b82",
        "colab": {
          "base_uri": "https://localhost:8080/",
          "height": 69
        }
      },
      "source": [
        "test = torch.exp(y_hat[0])/torch.exp(y_hat[0]).sum()\n",
        "test.sum(), test"
      ],
      "execution_count": 37,
      "outputs": [
        {
          "output_type": "execute_result",
          "data": {
            "text/plain": [
              "(tensor(1., device='cuda:0', grad_fn=<SumBackward0>),\n",
              " tensor([0.0945, 0.1017, 0.1088, 0.0938, 0.1106, 0.1272, 0.0957, 0.0916, 0.0980,\n",
              "         0.0781], device='cuda:0', grad_fn=<DivBackward0>))"
            ]
          },
          "metadata": {
            "tags": []
          },
          "execution_count": 37
        }
      ]
    },
    {
      "cell_type": "code",
      "metadata": {
        "id": "uRciDTRBpiux",
        "outputId": "bc8c3d14-2950-484f-b63d-ccba0b1276de",
        "colab": {
          "base_uri": "https://localhost:8080/",
          "height": 35
        }
      },
      "source": [
        "y_hat.shape[0]"
      ],
      "execution_count": 39,
      "outputs": [
        {
          "output_type": "execute_result",
          "data": {
            "text/plain": [
              "64"
            ]
          },
          "metadata": {
            "tags": []
          },
          "execution_count": 39
        }
      ]
    },
    {
      "cell_type": "code",
      "metadata": {
        "id": "ZRV6a0XDm8Fk"
      },
      "source": [
        "for i in range (y_hat.shape[0]):\n",
        "  y_hat[i] = torch.exp(y_hat[i])/torch.exp(y_hat[i]).sum()"
      ],
      "execution_count": 41,
      "outputs": []
    },
    {
      "cell_type": "code",
      "metadata": {
        "id": "NlBQ2iDApf0s",
        "outputId": "cbd2172f-37fb-4fca-d85c-c645d100eaa4",
        "colab": {
          "base_uri": "https://localhost:8080/",
          "height": 35
        }
      },
      "source": [
        ""
      ],
      "execution_count": 45,
      "outputs": [
        {
          "output_type": "execute_result",
          "data": {
            "text/plain": [
              "{0.9999998807907104, 0.9999999403953552, 1.0, 1.0000001192092896}"
            ]
          },
          "metadata": {
            "tags": []
          },
          "execution_count": 45
        }
      ]
    },
    {
      "cell_type": "code",
      "metadata": {
        "id": "1bTgAv1ypv26"
      },
      "source": [
        ""
      ],
      "execution_count": null,
      "outputs": []
    }
  ]
}