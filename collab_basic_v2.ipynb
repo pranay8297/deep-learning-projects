{
  "nbformat": 4,
  "nbformat_minor": 0,
  "metadata": {
    "colab": {
      "name": "collab_basic_v2.ipynb",
      "provenance": [],
      "collapsed_sections": [],
      "machine_shape": "hm",
      "authorship_tag": "ABX9TyOymP/5Em0gxfrsRW3Wm1sL",
      "include_colab_link": true
    },
    "kernelspec": {
      "name": "python3",
      "display_name": "Python 3"
    },
    "accelerator": "GPU"
  },
  "cells": [
    {
      "cell_type": "markdown",
      "metadata": {
        "id": "view-in-github",
        "colab_type": "text"
      },
      "source": [
        "<a href=\"https://colab.research.google.com/github/pranay8297/deep-learning-projects/blob/master/collab_basic_v2.ipynb\" target=\"_parent\"><img src=\"https://colab.research.google.com/assets/colab-badge.svg\" alt=\"Open In Colab\"/></a>"
      ]
    },
    {
      "cell_type": "code",
      "metadata": {
        "id": "_wBLmUztY57N",
        "colab_type": "code",
        "colab": {}
      },
      "source": [
        "from fastai import *\n",
        "from fastai.collab import *"
      ],
      "execution_count": 1,
      "outputs": []
    },
    {
      "cell_type": "code",
      "metadata": {
        "id": "2xrWh-bYetCn",
        "colab_type": "code",
        "colab": {
          "base_uri": "https://localhost:8080/",
          "height": 52
        },
        "outputId": "0f13c673-a2d6-4aca-9096-e470e72f6464"
      },
      "source": [
        "path = untar_data(URLs.ML_SAMPLE)\n",
        "path.ls()"
      ],
      "execution_count": 2,
      "outputs": [
        {
          "output_type": "stream",
          "text": [
            "Downloading http://files.fast.ai/data/examples/movie_lens_sample.tgz\n"
          ],
          "name": "stdout"
        },
        {
          "output_type": "display_data",
          "data": {
            "text/html": [
              ""
            ],
            "text/plain": [
              "<IPython.core.display.HTML object>"
            ]
          },
          "metadata": {
            "tags": []
          }
        },
        {
          "output_type": "execute_result",
          "data": {
            "text/plain": [
              "[PosixPath('/root/.fastai/data/movie_lens_sample/ratings.csv')]"
            ]
          },
          "metadata": {
            "tags": []
          },
          "execution_count": 2
        }
      ]
    },
    {
      "cell_type": "code",
      "metadata": {
        "id": "NWY8VnCee6w7",
        "colab_type": "code",
        "colab": {
          "base_uri": "https://localhost:8080/",
          "height": 198
        },
        "outputId": "a2e43d37-fa81-45f6-efc4-f84fc35d17a2"
      },
      "source": [
        "df = pd.read_csv(path/'ratings.csv')\n",
        "df.head()"
      ],
      "execution_count": 3,
      "outputs": [
        {
          "output_type": "execute_result",
          "data": {
            "text/html": [
              "<div>\n",
              "<style scoped>\n",
              "    .dataframe tbody tr th:only-of-type {\n",
              "        vertical-align: middle;\n",
              "    }\n",
              "\n",
              "    .dataframe tbody tr th {\n",
              "        vertical-align: top;\n",
              "    }\n",
              "\n",
              "    .dataframe thead th {\n",
              "        text-align: right;\n",
              "    }\n",
              "</style>\n",
              "<table border=\"1\" class=\"dataframe\">\n",
              "  <thead>\n",
              "    <tr style=\"text-align: right;\">\n",
              "      <th></th>\n",
              "      <th>userId</th>\n",
              "      <th>movieId</th>\n",
              "      <th>rating</th>\n",
              "      <th>timestamp</th>\n",
              "    </tr>\n",
              "  </thead>\n",
              "  <tbody>\n",
              "    <tr>\n",
              "      <th>0</th>\n",
              "      <td>73</td>\n",
              "      <td>1097</td>\n",
              "      <td>4.0</td>\n",
              "      <td>1255504951</td>\n",
              "    </tr>\n",
              "    <tr>\n",
              "      <th>1</th>\n",
              "      <td>561</td>\n",
              "      <td>924</td>\n",
              "      <td>3.5</td>\n",
              "      <td>1172695223</td>\n",
              "    </tr>\n",
              "    <tr>\n",
              "      <th>2</th>\n",
              "      <td>157</td>\n",
              "      <td>260</td>\n",
              "      <td>3.5</td>\n",
              "      <td>1291598691</td>\n",
              "    </tr>\n",
              "    <tr>\n",
              "      <th>3</th>\n",
              "      <td>358</td>\n",
              "      <td>1210</td>\n",
              "      <td>5.0</td>\n",
              "      <td>957481884</td>\n",
              "    </tr>\n",
              "    <tr>\n",
              "      <th>4</th>\n",
              "      <td>130</td>\n",
              "      <td>316</td>\n",
              "      <td>2.0</td>\n",
              "      <td>1138999234</td>\n",
              "    </tr>\n",
              "  </tbody>\n",
              "</table>\n",
              "</div>"
            ],
            "text/plain": [
              "   userId  movieId  rating   timestamp\n",
              "0      73     1097     4.0  1255504951\n",
              "1     561      924     3.5  1172695223\n",
              "2     157      260     3.5  1291598691\n",
              "3     358     1210     5.0   957481884\n",
              "4     130      316     2.0  1138999234"
            ]
          },
          "metadata": {
            "tags": []
          },
          "execution_count": 3
        }
      ]
    },
    {
      "cell_type": "code",
      "metadata": {
        "id": "YReI1r7BfOwZ",
        "colab_type": "code",
        "colab": {}
      },
      "source": [
        "from fastai.tabular import *"
      ],
      "execution_count": 4,
      "outputs": []
    },
    {
      "cell_type": "code",
      "metadata": {
        "id": "uaRNI1qzjif2",
        "colab_type": "code",
        "colab": {
          "base_uri": "https://localhost:8080/",
          "height": 198
        },
        "outputId": "0c2bf164-17c6-4b9f-e7c8-9ec63b04b2a6"
      },
      "source": [
        "data = CollabDataBunch.from_df(df)\n",
        "data.show_batch()"
      ],
      "execution_count": 5,
      "outputs": [
        {
          "output_type": "display_data",
          "data": {
            "text/html": [
              "<table border=\"1\" class=\"dataframe\">\n",
              "  <thead>\n",
              "    <tr style=\"text-align: right;\">\n",
              "      <th>userId</th>\n",
              "      <th>movieId</th>\n",
              "      <th>target</th>\n",
              "    </tr>\n",
              "  </thead>\n",
              "  <tbody>\n",
              "    <tr>\n",
              "      <td>105</td>\n",
              "      <td>2858</td>\n",
              "      <td>4.0</td>\n",
              "    </tr>\n",
              "    <tr>\n",
              "      <td>119</td>\n",
              "      <td>1</td>\n",
              "      <td>2.0</td>\n",
              "    </tr>\n",
              "    <tr>\n",
              "      <td>457</td>\n",
              "      <td>608</td>\n",
              "      <td>5.0</td>\n",
              "    </tr>\n",
              "    <tr>\n",
              "      <td>73</td>\n",
              "      <td>2959</td>\n",
              "      <td>5.0</td>\n",
              "    </tr>\n",
              "    <tr>\n",
              "      <td>648</td>\n",
              "      <td>780</td>\n",
              "      <td>2.0</td>\n",
              "    </tr>\n",
              "  </tbody>\n",
              "</table>"
            ],
            "text/plain": [
              "<IPython.core.display.HTML object>"
            ]
          },
          "metadata": {
            "tags": []
          }
        }
      ]
    },
    {
      "cell_type": "code",
      "metadata": {
        "id": "tUKlJnkQlGUe",
        "colab_type": "code",
        "colab": {
          "base_uri": "https://localhost:8080/",
          "height": 311
        },
        "outputId": "21c875a8-0a76-46b9-fb42-5e63b50348ff"
      },
      "source": [
        "data"
      ],
      "execution_count": 6,
      "outputs": [
        {
          "output_type": "execute_result",
          "data": {
            "text/plain": [
              "TabularDataBunch;\n",
              "\n",
              "Train: LabelList (4825 items)\n",
              "x: CollabList\n",
              "userId 73; movieId 1097; ,userId 157; movieId 260; ,userId 358; movieId 1210; ,userId 130; movieId 316; ,userId 213; movieId 1200; \n",
              "y: FloatList\n",
              "4.0,3.5,5.0,2.0,3.0\n",
              "Path: .;\n",
              "\n",
              "Valid: LabelList (1206 items)\n",
              "x: CollabList\n",
              "userId 407; movieId 3578; ,userId 529; movieId 1221; ,userId 407; movieId 1704; ,userId 505; movieId 2762; ,userId 463; movieId 318; \n",
              "y: FloatList\n",
              "3.0,2.0,5.0,3.0,5.0\n",
              "Path: .;\n",
              "\n",
              "Test: None"
            ]
          },
          "metadata": {
            "tags": []
          },
          "execution_count": 6
        }
      ]
    },
    {
      "cell_type": "code",
      "metadata": {
        "id": "oMNyCNDMkGcJ",
        "colab_type": "code",
        "colab": {
          "base_uri": "https://localhost:8080/",
          "height": 141
        },
        "outputId": "a5269c5b-e8fa-439f-f6b9-fd294f3a2f29"
      },
      "source": [
        "'''\n",
        "collab_learner(dls, n_factors=50, use_nn=False, emb_szs=None, layers=None, config=None, y_range=None, loss_func=None, opt_func=Adam, \n",
        "lr=0.001, splitter=trainable_params, cbs=None, metrics=None, path=None, model_dir='models', wd=None, wd_bn_bias=False, train_bn=True, moms=(0.95, 0.85, 0.95))\n",
        "'''\n",
        "learn = collab_learner(data, n_factors = 50, y_range=[0, 5.5])\n",
        "learn.lr_find()\n",
        "learn.save('initial')"
      ],
      "execution_count": 7,
      "outputs": [
        {
          "output_type": "display_data",
          "data": {
            "text/html": [
              "\n",
              "    <div>\n",
              "        <style>\n",
              "            /* Turns off some styling */\n",
              "            progress {\n",
              "                /* gets rid of default border in Firefox and Opera. */\n",
              "                border: none;\n",
              "                /* Needs to be in here for Safari polyfill so background images work as expected. */\n",
              "                background-size: auto;\n",
              "            }\n",
              "            .progress-bar-interrupted, .progress-bar-interrupted::-webkit-progress-bar {\n",
              "                background: #F44336;\n",
              "            }\n",
              "        </style>\n",
              "      <progress value='1' class='' max='2' style='width:300px; height:20px; vertical-align: middle;'></progress>\n",
              "      50.00% [1/2 00:00<00:00]\n",
              "    </div>\n",
              "    \n",
              "<table border=\"1\" class=\"dataframe\">\n",
              "  <thead>\n",
              "    <tr style=\"text-align: left;\">\n",
              "      <th>epoch</th>\n",
              "      <th>train_loss</th>\n",
              "      <th>valid_loss</th>\n",
              "      <th>time</th>\n",
              "    </tr>\n",
              "  </thead>\n",
              "  <tbody>\n",
              "    <tr>\n",
              "      <td>0</td>\n",
              "      <td>1.876035</td>\n",
              "      <td>#na#</td>\n",
              "      <td>00:00</td>\n",
              "    </tr>\n",
              "  </tbody>\n",
              "</table><p>\n",
              "\n",
              "    <div>\n",
              "        <style>\n",
              "            /* Turns off some styling */\n",
              "            progress {\n",
              "                /* gets rid of default border in Firefox and Opera. */\n",
              "                border: none;\n",
              "                /* Needs to be in here for Safari polyfill so background images work as expected. */\n",
              "                background-size: auto;\n",
              "            }\n",
              "            .progress-bar-interrupted, .progress-bar-interrupted::-webkit-progress-bar {\n",
              "                background: #F44336;\n",
              "            }\n",
              "        </style>\n",
              "      <progress value='23' class='' max='75' style='width:300px; height:20px; vertical-align: middle;'></progress>\n",
              "      30.67% [23/75 00:00<00:00 4.0402]\n",
              "    </div>\n",
              "    "
            ],
            "text/plain": [
              "<IPython.core.display.HTML object>"
            ]
          },
          "metadata": {
            "tags": []
          }
        },
        {
          "output_type": "stream",
          "text": [
            "LR Finder is complete, type {learner_name}.recorder.plot() to see the graph.\n"
          ],
          "name": "stdout"
        }
      ]
    },
    {
      "cell_type": "code",
      "metadata": {
        "id": "g-WKanrYk3bj",
        "colab_type": "code",
        "colab": {
          "base_uri": "https://localhost:8080/",
          "height": 279
        },
        "outputId": "65c4c02f-2727-4308-cab9-463b2452fdac"
      },
      "source": [
        "learn.recorder.plot()"
      ],
      "execution_count": 11,
      "outputs": [
        {
          "output_type": "display_data",
          "data": {
            "image/png": "[encoded data removed]",
            "text/plain": [
              "<Figure size 432x288 with 1 Axes>"
            ]
          },
          "metadata": {
            "tags": [],
            "needs_background": "light"
          }
        }
      ]
    },
    {
      "cell_type": "code",
      "metadata": {
        "id": "GcIn9fu8ly9O",
        "colab_type": "code",
        "colab": {
          "base_uri": "https://localhost:8080/",
          "height": 138
        },
        "outputId": "826e258e-44e1-438e-f17e-7631149d21e8"
      },
      "source": [
        "learn.load('initial')\n",
        "learn.fit_one_cycle(3, slice(1e-02))"
      ],
      "execution_count": 12,
      "outputs": [
        {
          "output_type": "display_data",
          "data": {
            "text/html": [
              "<table border=\"1\" class=\"dataframe\">\n",
              "  <thead>\n",
              "    <tr style=\"text-align: left;\">\n",
              "      <th>epoch</th>\n",
              "      <th>train_loss</th>\n",
              "      <th>valid_loss</th>\n",
              "      <th>time</th>\n",
              "    </tr>\n",
              "  </thead>\n",
              "  <tbody>\n",
              "    <tr>\n",
              "      <td>0</td>\n",
              "      <td>1.309412</td>\n",
              "      <td>0.729487</td>\n",
              "      <td>00:00</td>\n",
              "    </tr>\n",
              "    <tr>\n",
              "      <td>1</td>\n",
              "      <td>0.780707</td>\n",
              "      <td>0.640075</td>\n",
              "      <td>00:00</td>\n",
              "    </tr>\n",
              "    <tr>\n",
              "      <td>2</td>\n",
              "      <td>0.549941</td>\n",
              "      <td>0.631217</td>\n",
              "      <td>00:00</td>\n",
              "    </tr>\n",
              "  </tbody>\n",
              "</table>"
            ],
            "text/plain": [
              "<IPython.core.display.HTML object>"
            ]
          },
          "metadata": {
            "tags": []
          }
        }
      ]
    },
    {
      "cell_type": "code",
      "metadata": {
        "id": "5kG1QaGDmjz-",
        "colab_type": "code",
        "colab": {
          "base_uri": "https://localhost:8080/",
          "height": 138
        },
        "outputId": "2ac2f036-48f3-4646-87b8-407751e8cbcc"
      },
      "source": [
        "learn.load('initial')\n",
        "learn.fit_one_cycle(3, slice(1e-01))"
      ],
      "execution_count": 13,
      "outputs": [
        {
          "output_type": "display_data",
          "data": {
            "text/html": [
              "<table border=\"1\" class=\"dataframe\">\n",
              "  <thead>\n",
              "    <tr style=\"text-align: left;\">\n",
              "      <th>epoch</th>\n",
              "      <th>train_loss</th>\n",
              "      <th>valid_loss</th>\n",
              "      <th>time</th>\n",
              "    </tr>\n",
              "  </thead>\n",
              "  <tbody>\n",
              "    <tr>\n",
              "      <td>0</td>\n",
              "      <td>1.822801</td>\n",
              "      <td>3.502963</td>\n",
              "      <td>00:00</td>\n",
              "    </tr>\n",
              "    <tr>\n",
              "      <td>1</td>\n",
              "      <td>3.402571</td>\n",
              "      <td>3.528209</td>\n",
              "      <td>00:00</td>\n",
              "    </tr>\n",
              "    <tr>\n",
              "      <td>2</td>\n",
              "      <td>3.350099</td>\n",
              "      <td>3.437174</td>\n",
              "      <td>00:00</td>\n",
              "    </tr>\n",
              "  </tbody>\n",
              "</table>"
            ],
            "text/plain": [
              "<IPython.core.display.HTML object>"
            ]
          },
          "metadata": {
            "tags": []
          }
        }
      ]
    },
    {
      "cell_type": "code",
      "metadata": {
        "id": "U2jbQimYmubI",
        "colab_type": "code",
        "colab": {
          "base_uri": "https://localhost:8080/",
          "height": 138
        },
        "outputId": "283b05b5-2e26-4227-ee7c-0f947b4bfabb"
      },
      "source": [
        "learn.load('initial')\n",
        "learn.fit_one_cycle(3, slice(2e-02))"
      ],
      "execution_count": 14,
      "outputs": [
        {
          "output_type": "display_data",
          "data": {
            "text/html": [
              "<table border=\"1\" class=\"dataframe\">\n",
              "  <thead>\n",
              "    <tr style=\"text-align: left;\">\n",
              "      <th>epoch</th>\n",
              "      <th>train_loss</th>\n",
              "      <th>valid_loss</th>\n",
              "      <th>time</th>\n",
              "    </tr>\n",
              "  </thead>\n",
              "  <tbody>\n",
              "    <tr>\n",
              "      <td>0</td>\n",
              "      <td>1.152386</td>\n",
              "      <td>0.781743</td>\n",
              "      <td>00:00</td>\n",
              "    </tr>\n",
              "    <tr>\n",
              "      <td>1</td>\n",
              "      <td>0.722661</td>\n",
              "      <td>0.672072</td>\n",
              "      <td>00:00</td>\n",
              "    </tr>\n",
              "    <tr>\n",
              "      <td>2</td>\n",
              "      <td>0.403181</td>\n",
              "      <td>0.657804</td>\n",
              "      <td>00:00</td>\n",
              "    </tr>\n",
              "  </tbody>\n",
              "</table>"
            ],
            "text/plain": [
              "<IPython.core.display.HTML object>"
            ]
          },
          "metadata": {
            "tags": []
          }
        }
      ]
    },
    {
      "cell_type": "code",
      "metadata": {
        "id": "MRUZq297-gKX",
        "colab_type": "code",
        "colab": {
          "base_uri": "https://localhost:8080/",
          "height": 35
        },
        "outputId": "b503e1db-68d9-4bf7-ac16-97806a980d6a"
      },
      "source": [
        "data.get_emb_szs({})"
      ],
      "execution_count": 16,
      "outputs": [
        {
          "output_type": "execute_result",
          "data": {
            "text/plain": [
              "[(101, 21), (101, 21)]"
            ]
          },
          "metadata": {
            "tags": []
          },
          "execution_count": 16
        }
      ]
    },
    {
      "cell_type": "code",
      "metadata": {
        "id": "iqMg89UY0ZFG",
        "colab_type": "code",
        "colab": {}
      },
      "source": [
        "a = nn.Embedding(10, 20)"
      ],
      "execution_count": 17,
      "outputs": []
    },
    {
      "cell_type": "code",
      "metadata": {
        "id": "sHP9pFjd1BFo",
        "colab_type": "code",
        "colab": {
          "base_uri": "https://localhost:8080/",
          "height": 35
        },
        "outputId": "8c213ad8-df16-4d10-fe9e-9bccba48f5b8"
      },
      "source": [
        "a.parameters"
      ],
      "execution_count": 23,
      "outputs": [
        {
          "output_type": "execute_result",
          "data": {
            "text/plain": [
              "<bound method Module.parameters of Embedding(10, 20)>"
            ]
          },
          "metadata": {
            "tags": []
          },
          "execution_count": 23
        }
      ]
    },
    {
      "cell_type": "code",
      "metadata": {
        "id": "ZZNDGC6F2kVc",
        "colab_type": "code",
        "colab": {
          "base_uri": "https://localhost:8080/",
          "height": 397
        },
        "outputId": "043c3130-a6d2-4a32-cbb0-7891545b7f56"
      },
      "source": [
        "!pip install ipdb"
      ],
      "execution_count": 8,
      "outputs": [
        {
          "output_type": "stream",
          "text": [
            "Collecting ipdb\n",
            "  Downloading https://files.pythonhosted.org/packages/c1/4c/c2552dc5c2f3a4657ae84c1a91e3c7d4f2b7df88a38d6d282e48d050ad58/ipdb-0.13.3.tar.gz\n",
            "Requirement already satisfied: setuptools in /usr/local/lib/python3.6/dist-packages (from ipdb) (49.6.0)\n",
            "Requirement already satisfied: ipython>=5.1.0 in /usr/local/lib/python3.6/dist-packages (from ipdb) (5.5.0)\n",
            "Requirement already satisfied: pygments in /usr/local/lib/python3.6/dist-packages (from ipython>=5.1.0->ipdb) (2.1.3)\n",
            "Requirement already satisfied: pexpect; sys_platform != \"win32\" in /usr/local/lib/python3.6/dist-packages (from ipython>=5.1.0->ipdb) (4.8.0)\n",
            "Requirement already satisfied: prompt-toolkit<2.0.0,>=1.0.4 in /usr/local/lib/python3.6/dist-packages (from ipython>=5.1.0->ipdb) (1.0.18)\n",
            "Requirement already satisfied: decorator in /usr/local/lib/python3.6/dist-packages (from ipython>=5.1.0->ipdb) (4.4.2)\n",
            "Requirement already satisfied: traitlets>=4.2 in /usr/local/lib/python3.6/dist-packages (from ipython>=5.1.0->ipdb) (4.3.3)\n",
            "Requirement already satisfied: pickleshare in /usr/local/lib/python3.6/dist-packages (from ipython>=5.1.0->ipdb) (0.7.5)\n",
            "Requirement already satisfied: simplegeneric>0.8 in /usr/local/lib/python3.6/dist-packages (from ipython>=5.1.0->ipdb) (0.8.1)\n",
            "Requirement already satisfied: ptyprocess>=0.5 in /usr/local/lib/python3.6/dist-packages (from pexpect; sys_platform != \"win32\"->ipython>=5.1.0->ipdb) (0.6.0)\n",
            "Requirement already satisfied: six>=1.9.0 in /usr/local/lib/python3.6/dist-packages (from prompt-toolkit<2.0.0,>=1.0.4->ipython>=5.1.0->ipdb) (1.15.0)\n",
            "Requirement already satisfied: wcwidth in /usr/local/lib/python3.6/dist-packages (from prompt-toolkit<2.0.0,>=1.0.4->ipython>=5.1.0->ipdb) (0.2.5)\n",
            "Requirement already satisfied: ipython-genutils in /usr/local/lib/python3.6/dist-packages (from traitlets>=4.2->ipython>=5.1.0->ipdb) (0.2.0)\n",
            "Building wheels for collected packages: ipdb\n",
            "  Building wheel for ipdb (setup.py) ... \u001b[?25l\u001b[?25hdone\n",
            "  Created wheel for ipdb: filename=ipdb-0.13.3-cp36-none-any.whl size=10847 sha256=4cc5349ac60f3993330642241589a927656416346133702b82e59bfdc18d1b70\n",
            "  Stored in directory: /root/.cache/pip/wheels/75/00/30/4169bcc3643f0cf946dcf37af1b71364b390c4df91da02b03c\n",
            "Successfully built ipdb\n",
            "Installing collected packages: ipdb\n",
            "Successfully installed ipdb-0.13.3\n"
          ],
          "name": "stdout"
        }
      ]
    },
    {
      "cell_type": "code",
      "metadata": {
        "id": "Ts5WayTL1Y-y",
        "colab_type": "code",
        "colab": {}
      },
      "source": [
        "import copy\n",
        "from ipdb import set_trace as st\n",
        "from torch import fmod"
      ],
      "execution_count": 9,
      "outputs": []
    },
    {
      "cell_type": "code",
      "metadata": {
        "id": "NMIxROu_N5px",
        "colab_type": "code",
        "colab": {
          "base_uri": "https://localhost:8080/",
          "height": 311
        },
        "outputId": "12c40216-fcfd-4518-8b47-d66b99ccb4bc"
      },
      "source": [
        "data"
      ],
      "execution_count": 10,
      "outputs": [
        {
          "output_type": "execute_result",
          "data": {
            "text/plain": [
              "TabularDataBunch;\n",
              "\n",
              "Train: LabelList (4825 items)\n",
              "x: CollabList\n",
              "userId 73; movieId 1097; ,userId 157; movieId 260; ,userId 358; movieId 1210; ,userId 130; movieId 316; ,userId 213; movieId 1200; \n",
              "y: FloatList\n",
              "4.0,3.5,5.0,2.0,3.0\n",
              "Path: .;\n",
              "\n",
              "Valid: LabelList (1206 items)\n",
              "x: CollabList\n",
              "userId 407; movieId 3578; ,userId 529; movieId 1221; ,userId 407; movieId 1704; ,userId 505; movieId 2762; ,userId 463; movieId 318; \n",
              "y: FloatList\n",
              "3.0,2.0,5.0,3.0,5.0\n",
              "Path: .;\n",
              "\n",
              "Test: None"
            ]
          },
          "metadata": {
            "tags": []
          },
          "execution_count": 10
        }
      ]
    },
    {
      "cell_type": "code",
      "metadata": {
        "id": "HpZcADc8KS6H",
        "colab_type": "code",
        "colab": {
          "base_uri": "https://localhost:8080/",
          "height": 55
        },
        "outputId": "16943a52-1fd1-420c-8500-14f69e85f498"
      },
      "source": [
        "data.train_ds.x.classes.values()"
      ],
      "execution_count": 17,
      "outputs": [
        {
          "output_type": "execute_result",
          "data": {
            "text/plain": [
              "odict_values([array(['#na#', '15', '17', '19', ..., '652', '654', '664', '665'], dtype='<U21'), array(['#na#', '1', '10', '32', ..., '6539', '7153', '8961', '58559'], dtype='<U21')])"
            ]
          },
          "metadata": {
            "tags": []
          },
          "execution_count": 17
        }
      ]
    },
    {
      "cell_type": "code",
      "metadata": {
        "id": "SSi8oFi7DNBx",
        "colab_type": "code",
        "colab": {}
      },
      "source": [
        "u, i = data.train_ds.x.classes.values()"
      ],
      "execution_count": 41,
      "outputs": []
    },
    {
      "cell_type": "code",
      "metadata": {
        "id": "ULBsrL_l7s4k",
        "colab_type": "code",
        "colab": {}
      },
      "source": [
        "#get embeddings of size data and n_factors\n",
        "n_factors = 50\n",
        "u_weight = embedding(len(u), n_factors)\n",
        "u_bias = embedding(len(u), 1)\n",
        "i_weight = embedding(len(i), n_factors)\n",
        "i_bias = embedding(len(i), 1)"
      ],
      "execution_count": 42,
      "outputs": []
    },
    {
      "cell_type": "code",
      "metadata": {
        "id": "X0n_VqqfK7Qc",
        "colab_type": "code",
        "colab": {
          "base_uri": "https://localhost:8080/",
          "height": 35
        },
        "outputId": "fc00e9ae-dff5-4929-b00a-e9ad5e9fbef7"
      },
      "source": [
        "# there are 101 distinct users and 101 distinct movies in the dataset and 50 is the n_factors. \n",
        "# u_weight and i_weight contains the weights of each movie and user, and each weight is an array of length n_factors(50)\n",
        "u_weight, i_weight"
      ],
      "execution_count": 14,
      "outputs": [
        {
          "output_type": "execute_result",
          "data": {
            "text/plain": [
              "(Embedding(101, 50), Embedding(101, 50))"
            ]
          },
          "metadata": {
            "tags": []
          },
          "execution_count": 14
        }
      ]
    },
    {
      "cell_type": "code",
      "metadata": {
        "id": "CYcNDHMOLFHP",
        "colab_type": "code",
        "colab": {
          "base_uri": "https://localhost:8080/",
          "height": 328
        },
        "outputId": "ffc7a5ae-3626-4027-b376-d4d9c8b74a03"
      },
      "source": [
        "#looking at the data\n",
        "from ipdb import set_trace as st\n",
        "batch = data.one_batch()\n",
        "batch"
      ],
      "execution_count": 43,
      "outputs": [
        {
          "output_type": "execute_result",
          "data": {
            "text/plain": [
              "([tensor([ 76,  47,  88,  34,  65,  98,  73,  30,  28,  49,   1,   9,  17,  66,\n",
              "           36,  78,  99,  73,   8,  86,  76,  84,  83,   7,  21,   4,  58,  25,\n",
              "           14,   1,  62,  92,   5,  38, 100,  16,  75,  51,  80,  11,  31,  73,\n",
              "           67,  81,  39,  65,  14,  63,  41,  92,  41,  96,  48,  34,  16,  33,\n",
              "           22,  14,  53,  20,  69,  87,  85,  56]),\n",
              "  tensor([ 92,  85,  16,  49,  74,  28,  72,  71,  72,  27,  58,  80,  95,  91,\n",
              "           28,  14,  57,  40,  80,  13,  57,  34,  89,  31,  89,  98,  99,  58,\n",
              "            8,   2,  42,  50,   9,  26,  39,  50,  63,  89,  91,  84,  33,  48,\n",
              "           50,  75,  71,  51,  24,  79,  60,  56,  42,  32,   3,  38,  54,  89,\n",
              "           81,  51,  51,  32, 100,  60,  46,  80])],\n",
              " tensor([4.0000, 3.0000, 3.5000, 5.0000, 3.0000, 4.5000, 2.0000, 4.0000, 2.5000,\n",
              "         4.0000, 4.0000, 4.0000, 5.0000, 4.0000, 3.0000, 5.0000, 4.5000, 2.0000,\n",
              "         4.0000, 3.0000, 3.0000, 4.0000, 3.0000, 4.0000, 3.0000, 4.5000, 3.5000,\n",
              "         4.0000, 3.5000, 3.0000, 3.0000, 3.0000, 5.0000, 4.0000, 5.0000, 3.0000,\n",
              "         3.0000, 3.0000, 4.5000, 4.0000, 4.0000, 4.0000, 3.5000, 3.5000, 3.0000,\n",
              "         4.5000, 3.0000, 3.0000, 4.0000, 4.5000, 3.0000, 2.0000, 3.0000, 5.0000,\n",
              "         5.0000, 3.5000, 3.5000, 4.0000, 4.0000, 2.5000, 5.0000, 4.0000, 3.5000,\n",
              "         5.0000]))"
            ]
          },
          "metadata": {
            "tags": []
          },
          "execution_count": 43
        }
      ]
    },
    {
      "cell_type": "code",
      "metadata": {
        "id": "hFNmH0ALMOM_",
        "colab_type": "code",
        "colab": {
          "base_uri": "https://localhost:8080/",
          "height": 52
        },
        "outputId": "691c0b7d-340f-487b-c48f-242f6f4b8656"
      },
      "source": [
        "#test\n",
        "a = ['x', 'y']\n",
        "for i in enumerate(a):\n",
        "  print(i)"
      ],
      "execution_count": 16,
      "outputs": [
        {
          "output_type": "stream",
          "text": [
            "(0, 'x')\n",
            "(1, 'y')\n"
          ],
          "name": "stdout"
        }
      ]
    },
    {
      "cell_type": "code",
      "metadata": {
        "id": "sPXaSPbLPlcE",
        "colab_type": "code",
        "colab": {}
      },
      "source": [
        "#test\n",
        "x, y = data.train_ds.x.classes.values()\n",
        "get_index('12')"
      ],
      "execution_count": 74,
      "outputs": []
    },
    {
      "cell_type": "code",
      "metadata": {
        "id": "F8gEHfUeQNHq",
        "colab_type": "code",
        "colab": {
          "base_uri": "https://localhost:8080/",
          "height": 198
        },
        "outputId": "b7257a60-7863-437b-824c-17142a8f339d"
      },
      "source": [
        "#test\n",
        "'12' in u_index.keys()\n",
        "\n",
        "df.head()"
      ],
      "execution_count": 79,
      "outputs": [
        {
          "output_type": "execute_result",
          "data": {
            "text/html": [
              "<div>\n",
              "<style scoped>\n",
              "    .dataframe tbody tr th:only-of-type {\n",
              "        vertical-align: middle;\n",
              "    }\n",
              "\n",
              "    .dataframe tbody tr th {\n",
              "        vertical-align: top;\n",
              "    }\n",
              "\n",
              "    .dataframe thead th {\n",
              "        text-align: right;\n",
              "    }\n",
              "</style>\n",
              "<table border=\"1\" class=\"dataframe\">\n",
              "  <thead>\n",
              "    <tr style=\"text-align: right;\">\n",
              "      <th></th>\n",
              "      <th>userId</th>\n",
              "      <th>movieId</th>\n",
              "      <th>rating</th>\n",
              "      <th>timestamp</th>\n",
              "    </tr>\n",
              "  </thead>\n",
              "  <tbody>\n",
              "    <tr>\n",
              "      <th>0</th>\n",
              "      <td>73</td>\n",
              "      <td>1097</td>\n",
              "      <td>4.0</td>\n",
              "      <td>1255504951</td>\n",
              "    </tr>\n",
              "    <tr>\n",
              "      <th>1</th>\n",
              "      <td>561</td>\n",
              "      <td>924</td>\n",
              "      <td>3.5</td>\n",
              "      <td>1172695223</td>\n",
              "    </tr>\n",
              "    <tr>\n",
              "      <th>2</th>\n",
              "      <td>157</td>\n",
              "      <td>260</td>\n",
              "      <td>3.5</td>\n",
              "      <td>1291598691</td>\n",
              "    </tr>\n",
              "    <tr>\n",
              "      <th>3</th>\n",
              "      <td>358</td>\n",
              "      <td>1210</td>\n",
              "      <td>5.0</td>\n",
              "      <td>957481884</td>\n",
              "    </tr>\n",
              "    <tr>\n",
              "      <th>4</th>\n",
              "      <td>130</td>\n",
              "      <td>316</td>\n",
              "      <td>2.0</td>\n",
              "      <td>1138999234</td>\n",
              "    </tr>\n",
              "  </tbody>\n",
              "</table>\n",
              "</div>"
            ],
            "text/plain": [
              "   userId  movieId  rating   timestamp\n",
              "0      73     1097     4.0  1255504951\n",
              "1     561      924     3.5  1172695223\n",
              "2     157      260     3.5  1291598691\n",
              "3     358     1210     5.0   957481884\n",
              "4     130      316     2.0  1138999234"
            ]
          },
          "metadata": {
            "tags": []
          },
          "execution_count": 79
        }
      ]
    },
    {
      "cell_type": "code",
      "metadata": {
        "id": "7wYEU5ATSh6O",
        "colab_type": "code",
        "colab": {
          "base_uri": "https://localhost:8080/",
          "height": 35
        },
        "outputId": "09b1db62-aea3-4d2e-b25c-2b33d6888d07"
      },
      "source": [
        "#test\n",
        "all_user_ids = df['userId'].values\n",
        "type(all_user_ids)\n",
        " in all_user_ids"
      ],
      "execution_count": 85,
      "outputs": [
        {
          "output_type": "execute_result",
          "data": {
            "text/plain": [
              "False"
            ]
          },
          "metadata": {
            "tags": []
          },
          "execution_count": 85
        }
      ]
    },
    {
      "cell_type": "code",
      "metadata": {
        "id": "zA5ZSwiUMEUi",
        "colab_type": "code",
        "colab": {}
      },
      "source": [
        "#not required\n",
        "#test\n",
        "\n",
        "u_index = {}\n",
        "i_index = {}\n",
        "\n",
        "for index, elem in enumerate(u):\n",
        "  u_index[elem] = index\n",
        "\n",
        "for index, elem in enumerate(i):\n",
        "  i_index[elem] = index\n",
        "\n",
        "def get_index(elem, is_item = False):\n",
        "\n",
        "  obj = u_index\n",
        "  if is_item:\n",
        "    obj = i_index\n",
        "  if elem in obj:\n",
        "    return obj[elem]\n",
        "  return None"
      ],
      "execution_count": 73,
      "outputs": []
    },
    {
      "cell_type": "code",
      "metadata": {
        "id": "_AkFsfPjTE8t",
        "colab_type": "code",
        "colab": {}
      },
      "source": [
        "x, y = data.one_batch()\n",
        "u_b, i_b = x"
      ],
      "execution_count": 44,
      "outputs": []
    },
    {
      "cell_type": "code",
      "metadata": {
        "id": "LIwSteTjT_zr",
        "colab_type": "code",
        "colab": {
          "base_uri": "https://localhost:8080/",
          "height": 35
        },
        "outputId": "24a9b23c-491d-438c-8e34-602e1334e967"
      },
      "source": [
        "#test\n",
        "u_b, i_b\n",
        "d = u_weight(u_b[0]) * i_weight(i_b[0])\n",
        "result = d.sum() + u_bias(u_b[0]) + i_bias(i_b[0])\n",
        "sigmoid_range(result, 0, 5.5), y[0]"
      ],
      "execution_count": 17,
      "outputs": [
        {
          "output_type": "execute_result",
          "data": {
            "text/plain": [
              "(tensor([2.7485], grad_fn=<AddBackward0>), tensor(4.5000))"
            ]
          },
          "metadata": {
            "tags": []
          },
          "execution_count": 17
        }
      ]
    },
    {
      "cell_type": "code",
      "metadata": {
        "id": "F6zbUEZLTVw1",
        "colab_type": "code",
        "colab": {}
      },
      "source": [
        "results = []\n",
        "y_range = [0, 5.5]\n",
        "for i, j in zip(u_b, i_b):\n",
        "  dot = u_weight(i) * i_weight(j)\n",
        "  res = dot.sum() + u_bias(i) + i_bias(j)\n",
        "  results.append(sigmoid_range(res, *y_range))\n"
      ],
      "execution_count": 45,
      "outputs": []
    },
    {
      "cell_type": "code",
      "metadata": {
        "id": "uofmat-RdPnV",
        "colab_type": "code",
        "colab": {
          "base_uri": "https://localhost:8080/",
          "height": 1000
        },
        "outputId": "eb4bf7f2-3741-4767-f80d-646fe25c8ef2"
      },
      "source": [
        "#TEST\n",
        "results"
      ],
      "execution_count": 46,
      "outputs": [
        {
          "output_type": "execute_result",
          "data": {
            "text/plain": [
              "[tensor([2.7581], grad_fn=<AddBackward0>),\n",
              " tensor([2.7375], grad_fn=<AddBackward0>),\n",
              " tensor([2.7467], grad_fn=<AddBackward0>),\n",
              " tensor([2.7433], grad_fn=<AddBackward0>),\n",
              " tensor([2.7881], grad_fn=<AddBackward0>),\n",
              " tensor([2.7672], grad_fn=<AddBackward0>),\n",
              " tensor([2.7680], grad_fn=<AddBackward0>),\n",
              " tensor([2.7622], grad_fn=<AddBackward0>),\n",
              " tensor([2.7696], grad_fn=<AddBackward0>),\n",
              " tensor([2.7485], grad_fn=<AddBackward0>),\n",
              " tensor([2.7400], grad_fn=<AddBackward0>),\n",
              " tensor([2.7360], grad_fn=<AddBackward0>),\n",
              " tensor([2.7538], grad_fn=<AddBackward0>),\n",
              " tensor([2.7652], grad_fn=<AddBackward0>),\n",
              " tensor([2.7386], grad_fn=<AddBackward0>),\n",
              " tensor([2.7597], grad_fn=<AddBackward0>),\n",
              " tensor([2.7531], grad_fn=<AddBackward0>),\n",
              " tensor([2.7441], grad_fn=<AddBackward0>),\n",
              " tensor([2.7572], grad_fn=<AddBackward0>),\n",
              " tensor([2.7512], grad_fn=<AddBackward0>),\n",
              " tensor([2.7453], grad_fn=<AddBackward0>),\n",
              " tensor([2.7829], grad_fn=<AddBackward0>),\n",
              " tensor([2.7505], grad_fn=<AddBackward0>),\n",
              " tensor([2.7523], grad_fn=<AddBackward0>),\n",
              " tensor([2.7358], grad_fn=<AddBackward0>),\n",
              " tensor([2.7338], grad_fn=<AddBackward0>),\n",
              " tensor([2.7588], grad_fn=<AddBackward0>),\n",
              " tensor([2.7287], grad_fn=<AddBackward0>),\n",
              " tensor([2.7646], grad_fn=<AddBackward0>),\n",
              " tensor([2.7531], grad_fn=<AddBackward0>),\n",
              " tensor([2.7513], grad_fn=<AddBackward0>),\n",
              " tensor([2.7126], grad_fn=<AddBackward0>),\n",
              " tensor([2.7461], grad_fn=<AddBackward0>),\n",
              " tensor([2.7502], grad_fn=<AddBackward0>),\n",
              " tensor([2.7601], grad_fn=<AddBackward0>),\n",
              " tensor([2.7533], grad_fn=<AddBackward0>),\n",
              " tensor([2.7778], grad_fn=<AddBackward0>),\n",
              " tensor([2.7550], grad_fn=<AddBackward0>),\n",
              " tensor([2.7353], grad_fn=<AddBackward0>),\n",
              " tensor([2.7414], grad_fn=<AddBackward0>),\n",
              " tensor([2.7667], grad_fn=<AddBackward0>),\n",
              " tensor([2.7613], grad_fn=<AddBackward0>),\n",
              " tensor([2.7565], grad_fn=<AddBackward0>),\n",
              " tensor([2.7529], grad_fn=<AddBackward0>),\n",
              " tensor([2.7414], grad_fn=<AddBackward0>),\n",
              " tensor([2.7330], grad_fn=<AddBackward0>),\n",
              " tensor([2.7408], grad_fn=<AddBackward0>),\n",
              " tensor([2.7688], grad_fn=<AddBackward0>),\n",
              " tensor([2.7537], grad_fn=<AddBackward0>),\n",
              " tensor([2.7363], grad_fn=<AddBackward0>),\n",
              " tensor([2.7605], grad_fn=<AddBackward0>),\n",
              " tensor([2.7617], grad_fn=<AddBackward0>),\n",
              " tensor([2.7376], grad_fn=<AddBackward0>),\n",
              " tensor([2.7595], grad_fn=<AddBackward0>),\n",
              " tensor([2.7483], grad_fn=<AddBackward0>),\n",
              " tensor([2.7686], grad_fn=<AddBackward0>),\n",
              " tensor([2.7711], grad_fn=<AddBackward0>),\n",
              " tensor([2.7630], grad_fn=<AddBackward0>),\n",
              " tensor([2.7405], grad_fn=<AddBackward0>),\n",
              " tensor([2.7237], grad_fn=<AddBackward0>),\n",
              " tensor([2.7469], grad_fn=<AddBackward0>),\n",
              " tensor([2.7643], grad_fn=<AddBackward0>),\n",
              " tensor([2.7470], grad_fn=<AddBackward0>),\n",
              " tensor([2.7668], grad_fn=<AddBackward0>)]"
            ]
          },
          "metadata": {
            "tags": []
          },
          "execution_count": 46
        }
      ]
    },
    {
      "cell_type": "code",
      "metadata": {
        "id": "gxctD1mVdoVI",
        "colab_type": "code",
        "colab": {
          "base_uri": "https://localhost:8080/",
          "height": 35
        },
        "outputId": "5aab6ef2-c760-4f7d-9ae1-ef40d5c0f46e"
      },
      "source": [
        "#test\n",
        "# type(y), type(results)\n",
        "type(tensor(results))\n",
        "# loss = torch.sqrt(torch.mean((tensor(results) - y)**2))"
      ],
      "execution_count": 30,
      "outputs": [
        {
          "output_type": "execute_result",
          "data": {
            "text/plain": [
              "torch.Tensor"
            ]
          },
          "metadata": {
            "tags": []
          },
          "execution_count": 30
        }
      ]
    },
    {
      "cell_type": "code",
      "metadata": {
        "id": "ibmac843db_y",
        "colab_type": "code",
        "colab": {}
      },
      "source": [
        "#Compute RMSE Loss.\n",
        "def get_loss(y_hat, y):\n",
        "  if type(y_hat) != torch.Tensor:\n",
        "    y_hat = tensor(y_hat)\n",
        "  loss = torch.sqrt(torch.mean((tensor(y_hat) - y)**2))\n",
        "  loss.requires_grad = True\n",
        "  return loss\n",
        "loss = get_loss(results, y)"
      ],
      "execution_count": 47,
      "outputs": []
    },
    {
      "cell_type": "code",
      "metadata": {
        "id": "BYYasTc8fiAl",
        "colab_type": "code",
        "colab": {
          "base_uri": "https://localhost:8080/",
          "height": 35
        },
        "outputId": "c710bbd9-9566-4e75-e6cc-ba200eac17fc"
      },
      "source": [
        "#test\n",
        "# loss\n",
        "# print(u_weight(tensor(1)), i_weight(tensor(1)))\n",
        "loss\n",
        "# loss.requires_grad = True\n",
        "# loss.backward()\n",
        "# print('\\n')\n",
        "# print(u_weight(tensor(1)), i_weight(tensor(1)))"
      ],
      "execution_count": 48,
      "outputs": [
        {
          "output_type": "execute_result",
          "data": {
            "text/plain": [
              "tensor(1.3756, requires_grad=True)"
            ]
          },
          "metadata": {
            "tags": []
          },
          "execution_count": 48
        }
      ]
    },
    {
      "cell_type": "code",
      "metadata": {
        "id": "7wa3PxzDeOB2",
        "colab_type": "code",
        "colab": {}
      },
      "source": [
        "loss.requires_grad = True\n",
        "loss.backward()"
      ],
      "execution_count": 49,
      "outputs": []
    },
    {
      "cell_type": "code",
      "metadata": {
        "id": "1vTu9yBqeQQ4",
        "colab_type": "code",
        "colab": {}
      },
      "source": [
        "loss\n",
        "lr = 1e-02"
      ],
      "execution_count": 39,
      "outputs": []
    },
    {
      "cell_type": "code",
      "metadata": {
        "id": "-Cfjur12eR6J",
        "colab_type": "code",
        "colab": {}
      },
      "source": [
        "#test\n",
        "for i in u_weight.parameters():\n",
        "  st()"
      ],
      "execution_count": null,
      "outputs": []
    },
    {
      "cell_type": "code",
      "metadata": {
        "id": "7td7IzWPguPp",
        "colab_type": "code",
        "colab": {
          "base_uri": "https://localhost:8080/",
          "height": 138
        },
        "outputId": "2346399f-c49b-4501-ebe6-2a31efbb96ab"
      },
      "source": [
        "u_weight(tensor(0))"
      ],
      "execution_count": 45,
      "outputs": [
        {
          "output_type": "execute_result",
          "data": {
            "text/plain": [
              "tensor([-0.0150, -0.0028,  0.0035, -0.0127,  0.0035,  0.0021, -0.0059, -0.0191,\n",
              "         0.0043,  0.0074, -0.0052,  0.0026,  0.0097,  0.0064, -0.0076,  0.0030,\n",
              "         0.0010, -0.0016,  0.0088, -0.0096,  0.0086, -0.0009,  0.0038,  0.0126,\n",
              "         0.0096, -0.0117,  0.0028, -0.0005, -0.0188, -0.0092, -0.0102,  0.0078,\n",
              "         0.0034, -0.0033,  0.0151,  0.0032, -0.0025,  0.0005,  0.0179, -0.0050,\n",
              "        -0.0033, -0.0095, -0.0035, -0.0026,  0.0131, -0.0074,  0.0074, -0.0181,\n",
              "        -0.0130, -0.0094], grad_fn=<EmbeddingBackward>)"
            ]
          },
          "metadata": {
            "tags": []
          },
          "execution_count": 45
        }
      ]
    }
  ]
}