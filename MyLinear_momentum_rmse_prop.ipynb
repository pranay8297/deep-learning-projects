{
  "nbformat": 4,
  "nbformat_minor": 0,
  "metadata": {
    "colab": {
      "name": "MyLinear.ipynb",
      "provenance": [],
      "collapsed_sections": [],
      "authorship_tag": "ABX9TyOCSiTCUMUVjoanj63fiikg",
      "include_colab_link": true
    },
    "kernelspec": {
      "name": "python3",
      "display_name": "Python 3"
    },
    "accelerator": "GPU"
  },
  "cells": [
    {
      "cell_type": "markdown",
      "metadata": {
        "id": "view-in-github",
        "colab_type": "text"
      },
      "source": [
        "<a href=\"https://colab.research.google.com/github/pranay8297/deep-learning-projects/blob/master/MyLinear_momentum_rmse_prop.ipynb\" target=\"_parent\"><img src=\"https://colab.research.google.com/assets/colab-badge.svg\" alt=\"Open In Colab\"/></a>"
      ]
    },
    {
      "cell_type": "code",
      "metadata": {
        "id": "s4qHsogexMiu",
        "colab_type": "code",
        "colab": {}
      },
      "source": [
        "import torch\n",
        "import numpy as np"
      ],
      "execution_count": 0,
      "outputs": []
    },
    {
      "cell_type": "code",
      "metadata": {
        "id": "FNnmsUdIgi4k",
        "colab_type": "code",
        "colab": {}
      },
      "source": [
        "from torch.nn.parameter import Parameter"
      ],
      "execution_count": 0,
      "outputs": []
    },
    {
      "cell_type": "code",
      "metadata": {
        "id": "-a3MQEHLsbhP",
        "colab_type": "code",
        "colab": {}
      },
      "source": [
        "from fastai.basics import *"
      ],
      "execution_count": 0,
      "outputs": []
    },
    {
      "cell_type": "code",
      "metadata": {
        "id": "ZBoiJsLpbjLM",
        "colab_type": "code",
        "colab": {}
      },
      "source": [
        "cuda0 = torch.device('cuda:0')"
      ],
      "execution_count": 0,
      "outputs": []
    },
    {
      "cell_type": "code",
      "metadata": {
        "id": "Pys0Sq3Fbkdr",
        "colab_type": "code",
        "outputId": "cd9a0801-4fc7-452e-d8a5-5c19c08e4f4f",
        "colab": {
          "base_uri": "https://localhost:8080/",
          "height": 35
        }
      },
      "source": [
        "cuda0"
      ],
      "execution_count": 0,
      "outputs": [
        {
          "output_type": "execute_result",
          "data": {
            "text/plain": [
              "device(type='cuda', index=0)"
            ]
          },
          "metadata": {
            "tags": []
          },
          "execution_count": 5
        }
      ]
    },
    {
      "cell_type": "code",
      "metadata": {
        "id": "73SrXr5Obmp6",
        "colab_type": "code",
        "colab": {}
      },
      "source": [
        "lin = nn.Linear(100,10).cuda()"
      ],
      "execution_count": 0,
      "outputs": []
    },
    {
      "cell_type": "code",
      "metadata": {
        "id": "IE5kPyxibpq4",
        "colab_type": "code",
        "colab": {}
      },
      "source": [
        "params = [i for i in lin.parameters()]\n",
        "params"
      ],
      "execution_count": 0,
      "outputs": []
    },
    {
      "cell_type": "code",
      "metadata": {
        "id": "bDRGZinq7jT7",
        "colab_type": "code",
        "outputId": "24c2868c-a573-4efb-a06c-b3c9ce96b9ac",
        "colab": {
          "base_uri": "https://localhost:8080/",
          "height": 397
        }
      },
      "source": [
        "!pip install ipdb"
      ],
      "execution_count": 0,
      "outputs": [
        {
          "output_type": "stream",
          "text": [
            "Collecting ipdb\n",
            "  Downloading https://files.pythonhosted.org/packages/2c/bb/a3e1a441719ebd75c6dac8170d3ddba884b7ee8a5c0f9aefa7297386627a/ipdb-0.13.2.tar.gz\n",
            "Requirement already satisfied: setuptools in /usr/local/lib/python3.6/dist-packages (from ipdb) (46.1.3)\n",
            "Requirement already satisfied: ipython>=5.1.0 in /usr/local/lib/python3.6/dist-packages (from ipdb) (5.5.0)\n",
            "Requirement already satisfied: simplegeneric>0.8 in /usr/local/lib/python3.6/dist-packages (from ipython>=5.1.0->ipdb) (0.8.1)\n",
            "Requirement already satisfied: pexpect; sys_platform != \"win32\" in /usr/local/lib/python3.6/dist-packages (from ipython>=5.1.0->ipdb) (4.8.0)\n",
            "Requirement already satisfied: traitlets>=4.2 in /usr/local/lib/python3.6/dist-packages (from ipython>=5.1.0->ipdb) (4.3.3)\n",
            "Requirement already satisfied: pickleshare in /usr/local/lib/python3.6/dist-packages (from ipython>=5.1.0->ipdb) (0.7.5)\n",
            "Requirement already satisfied: decorator in /usr/local/lib/python3.6/dist-packages (from ipython>=5.1.0->ipdb) (4.4.2)\n",
            "Requirement already satisfied: pygments in /usr/local/lib/python3.6/dist-packages (from ipython>=5.1.0->ipdb) (2.1.3)\n",
            "Requirement already satisfied: prompt-toolkit<2.0.0,>=1.0.4 in /usr/local/lib/python3.6/dist-packages (from ipython>=5.1.0->ipdb) (1.0.18)\n",
            "Requirement already satisfied: ptyprocess>=0.5 in /usr/local/lib/python3.6/dist-packages (from pexpect; sys_platform != \"win32\"->ipython>=5.1.0->ipdb) (0.6.0)\n",
            "Requirement already satisfied: six in /usr/local/lib/python3.6/dist-packages (from traitlets>=4.2->ipython>=5.1.0->ipdb) (1.12.0)\n",
            "Requirement already satisfied: ipython-genutils in /usr/local/lib/python3.6/dist-packages (from traitlets>=4.2->ipython>=5.1.0->ipdb) (0.2.0)\n",
            "Requirement already satisfied: wcwidth in /usr/local/lib/python3.6/dist-packages (from prompt-toolkit<2.0.0,>=1.0.4->ipython>=5.1.0->ipdb) (0.1.9)\n",
            "Building wheels for collected packages: ipdb\n",
            "  Building wheel for ipdb (setup.py) ... \u001b[?25l\u001b[?25hdone\n",
            "  Created wheel for ipdb: filename=ipdb-0.13.2-cp36-none-any.whl size=10522 sha256=bdd4cb98571abcb795ab80048ff05086cffc2e3eae7090c2876290e37f5be37f\n",
            "  Stored in directory: /root/.cache/pip/wheels/60/c2/15/793365e3c9318c46ba914263740d90f1fe67f544b979141ce4\n",
            "Successfully built ipdb\n",
            "Installing collected packages: ipdb\n",
            "Successfully installed ipdb-0.13.2\n"
          ],
          "name": "stdout"
        }
      ]
    },
    {
      "cell_type": "code",
      "metadata": {
        "id": "1qfsoMue7mAz",
        "colab_type": "code",
        "colab": {}
      },
      "source": [
        "from ipdb import set_trace as st"
      ],
      "execution_count": 0,
      "outputs": []
    },
    {
      "cell_type": "code",
      "metadata": {
        "id": "QB8YGPMRI2K3",
        "colab_type": "code",
        "outputId": "1ae8e556-4180-43ea-9acd-88279637cfde",
        "colab": {
          "base_uri": "https://localhost:8080/",
          "height": 35
        }
      },
      "source": [
        "x = torch.randn(2, 2, requires_grad = True)\n",
        "\n",
        "# From numpy\n",
        "x = np.array([1., 2., 3.]) #Only Tensors of floating point dtype can require gradients\n",
        "x = torch.from_numpy(x)\n",
        "# Now enable gradient \n",
        "x.requires_grad_(True)\n",
        "# _ above makes the change in-place (its a common pytorch thing)"
      ],
      "execution_count": 0,
      "outputs": [
        {
          "output_type": "execute_result",
          "data": {
            "text/plain": [
              "tensor([1., 2., 3.], dtype=torch.float64, requires_grad=True)"
            ]
          },
          "metadata": {
            "tags": []
          },
          "execution_count": 9
        }
      ]
    },
    {
      "cell_type": "code",
      "metadata": {
        "id": "Ni1_nWKHZFG5",
        "colab_type": "code",
        "outputId": "d31285aa-97a6-47d7-bead-eb5dbc3faf64",
        "colab": {
          "base_uri": "https://localhost:8080/",
          "height": 35
        }
      },
      "source": [
        "x.data.zero_()"
      ],
      "execution_count": 0,
      "outputs": [
        {
          "output_type": "execute_result",
          "data": {
            "text/plain": [
              "tensor([0., 0., 0.], dtype=torch.float64)"
            ]
          },
          "metadata": {
            "tags": []
          },
          "execution_count": 22
        }
      ]
    },
    {
      "cell_type": "code",
      "metadata": {
        "id": "EqCbkcg3ZJjf",
        "colab_type": "code",
        "outputId": "55957896-87a4-4be4-dee0-a4715a06bbcf",
        "colab": {
          "base_uri": "https://localhost:8080/",
          "height": 35
        }
      },
      "source": [
        "x"
      ],
      "execution_count": 0,
      "outputs": [
        {
          "output_type": "execute_result",
          "data": {
            "text/plain": [
              "tensor([0., 0., 0.], dtype=torch.float64, requires_grad=True)"
            ]
          },
          "metadata": {
            "tags": []
          },
          "execution_count": 23
        }
      ]
    },
    {
      "cell_type": "code",
      "metadata": {
        "id": "_EEwVGZBxVB6",
        "colab_type": "code",
        "colab": {}
      },
      "source": [
        "x = torch.randn(2, 2, requires_grad= True)"
      ],
      "execution_count": 0,
      "outputs": []
    },
    {
      "cell_type": "code",
      "metadata": {
        "id": "ZYimtCCPxddY",
        "colab_type": "code",
        "colab": {}
      },
      "source": [
        "x = np.array([1., 2., 3.])"
      ],
      "execution_count": 0,
      "outputs": []
    },
    {
      "cell_type": "code",
      "metadata": {
        "id": "uHc2mISHI7sU",
        "colab_type": "code",
        "outputId": "9abcdbcf-c469-4862-9749-9e3c9bceaba8",
        "colab": {
          "base_uri": "https://localhost:8080/",
          "height": 35
        }
      },
      "source": [
        "x"
      ],
      "execution_count": 0,
      "outputs": [
        {
          "output_type": "execute_result",
          "data": {
            "text/plain": [
              "array([1., 2., 3.])"
            ]
          },
          "metadata": {
            "tags": []
          },
          "execution_count": 25
        }
      ]
    },
    {
      "cell_type": "code",
      "metadata": {
        "id": "lZo3kavAJIX6",
        "colab_type": "code",
        "colab": {}
      },
      "source": [
        "x_1 = map(torch.tensor, (x))"
      ],
      "execution_count": 0,
      "outputs": []
    },
    {
      "cell_type": "code",
      "metadata": {
        "id": "LmEYumTYI-sq",
        "colab_type": "code",
        "colab": {}
      },
      "source": [
        "x = torch.from_numpy(x)"
      ],
      "execution_count": 0,
      "outputs": []
    },
    {
      "cell_type": "code",
      "metadata": {
        "id": "O3OJac6pJGQG",
        "colab_type": "code",
        "outputId": "d29347a3-6dd8-4adb-daf4-48ae3823b68f",
        "colab": {
          "base_uri": "https://localhost:8080/",
          "height": 35
        }
      },
      "source": [
        "x"
      ],
      "execution_count": 0,
      "outputs": [
        {
          "output_type": "execute_result",
          "data": {
            "text/plain": [
              "tensor([1., 2., 3.], dtype=torch.float64)"
            ]
          },
          "metadata": {
            "tags": []
          },
          "execution_count": 28
        }
      ]
    },
    {
      "cell_type": "code",
      "metadata": {
        "id": "z2XgxDgwJUNf",
        "colab_type": "code",
        "outputId": "28934f17-53df-4b65-8818-2787c80b8b40",
        "colab": {
          "base_uri": "https://localhost:8080/",
          "height": 35
        }
      },
      "source": [
        "x.requires_grad = True\n",
        "x"
      ],
      "execution_count": 0,
      "outputs": [
        {
          "output_type": "execute_result",
          "data": {
            "text/plain": [
              "tensor([1., 2., 3.], dtype=torch.float64, requires_grad=True)"
            ]
          },
          "metadata": {
            "tags": []
          },
          "execution_count": 29
        }
      ]
    },
    {
      "cell_type": "code",
      "metadata": {
        "id": "U2_HyGR_Jt2S",
        "colab_type": "code",
        "outputId": "bd080c90-ec87-40f4-da59-70824cbca620",
        "colab": {
          "base_uri": "https://localhost:8080/",
          "height": 35
        }
      },
      "source": [
        "x.requires_grad_(True)\n",
        "x"
      ],
      "execution_count": 0,
      "outputs": [
        {
          "output_type": "execute_result",
          "data": {
            "text/plain": [
              "tensor([1., 2., 3.], dtype=torch.float64, requires_grad=True)"
            ]
          },
          "metadata": {
            "tags": []
          },
          "execution_count": 30
        }
      ]
    },
    {
      "cell_type": "code",
      "metadata": {
        "id": "rjMZU95UK4wa",
        "colab_type": "code",
        "outputId": "08d913ee-caf3-4563-b201-65a7fff16a06",
        "colab": {
          "base_uri": "https://localhost:8080/",
          "height": 380
        }
      },
      "source": [
        "import torch\n",
        "\n",
        "# Creating the graph\n",
        "x = torch.tensor(1.0, requires_grad = True)\n",
        "y = torch.tensor(2.0)\n",
        "z = x * y\n",
        "\n",
        "# Displaying\n",
        "for i, name in zip([x, y, z], \"xyz\"):\n",
        "    print(f\"{name}\\ndata: {i.data}\\nrequires_grad: {i.requires_grad}\\n\\grad: {i.grad}\\ngrad_fn: {i.grad_fn}\\nis_leaf: {i.is_leaf}\\n\")"
      ],
      "execution_count": 0,
      "outputs": [
        {
          "output_type": "stream",
          "text": [
            "x\n",
            "data: 1.0\n",
            "requires_grad: True\n",
            "\\grad: None\n",
            "grad_fn: None\n",
            "is_leaf: True\n",
            "\n",
            "y\n",
            "data: 2.0\n",
            "requires_grad: False\n",
            "\\grad: None\n",
            "grad_fn: None\n",
            "is_leaf: True\n",
            "\n",
            "z\n",
            "data: 2.0\n",
            "requires_grad: True\n",
            "\\grad: None\n",
            "grad_fn: <MulBackward0 object at 0x7feafd6de978>\n",
            "is_leaf: False\n",
            "\n"
          ],
          "name": "stdout"
        }
      ]
    },
    {
      "cell_type": "code",
      "metadata": {
        "id": "3P3Po5ELsLnw",
        "colab_type": "code",
        "outputId": "5e2c502d-b7b9-43f1-fc53-ef4d9a632db2",
        "colab": {
          "base_uri": "https://localhost:8080/",
          "height": 207
        }
      },
      "source": [
        "!wget http://deeplearning.net/data/mnist/mnist.pkl.gz"
      ],
      "execution_count": 0,
      "outputs": [
        {
          "output_type": "stream",
          "text": [
            "--2020-04-28 15:48:55--  http://deeplearning.net/data/mnist/mnist.pkl.gz\n",
            "Resolving deeplearning.net (deeplearning.net)... 132.204.26.28\n",
            "Connecting to deeplearning.net (deeplearning.net)|132.204.26.28|:80... connected.\n",
            "HTTP request sent, awaiting response... 200 OK\n",
            "Length: 16168813 (15M) [application/x-gzip]\n",
            "Saving to: ‘mnist.pkl.gz’\n",
            "\n",
            "mnist.pkl.gz        100%[===================>]  15.42M  4.10MB/s    in 4.1s    \n",
            "\n",
            "2020-04-28 15:49:00 (3.74 MB/s) - ‘mnist.pkl.gz’ saved [16168813/16168813]\n",
            "\n"
          ],
          "name": "stdout"
        }
      ]
    },
    {
      "cell_type": "code",
      "metadata": {
        "id": "P1-D5LuAsTjJ",
        "colab_type": "code",
        "outputId": "048899ba-255f-442c-f59d-d68da4ca66fb",
        "colab": {
          "base_uri": "https://localhost:8080/",
          "height": 35
        }
      },
      "source": [
        "!pwd"
      ],
      "execution_count": 0,
      "outputs": [
        {
          "output_type": "stream",
          "text": [
            "/content\n"
          ],
          "name": "stdout"
        }
      ]
    },
    {
      "cell_type": "code",
      "metadata": {
        "id": "T8NJYEVjsVgH",
        "colab_type": "code",
        "colab": {}
      },
      "source": [
        "path = Path('/content')"
      ],
      "execution_count": 0,
      "outputs": []
    },
    {
      "cell_type": "code",
      "metadata": {
        "id": "DfAMoQYXsYYN",
        "colab_type": "code",
        "outputId": "8e1ae9a6-710c-4b22-867d-8cb4fa422a1f",
        "colab": {
          "base_uri": "https://localhost:8080/",
          "height": 69
        }
      },
      "source": [
        "path.ls()"
      ],
      "execution_count": 0,
      "outputs": [
        {
          "output_type": "execute_result",
          "data": {
            "text/plain": [
              "[PosixPath('/content/.config'),\n",
              " PosixPath('/content/mnist.pkl.gz'),\n",
              " PosixPath('/content/sample_data')]"
            ]
          },
          "metadata": {
            "tags": []
          },
          "execution_count": 10
        }
      ]
    },
    {
      "cell_type": "code",
      "metadata": {
        "id": "wqQkEJXbsg0t",
        "colab_type": "code",
        "colab": {}
      },
      "source": [
        "with gzip.open(path/'mnist.pkl.gz', 'rb') as f:\n",
        "  (x_train, y_train), (x_valid, y_valid), _ = pickle.load(f, encoding = 'latin-1')"
      ],
      "execution_count": 0,
      "outputs": []
    },
    {
      "cell_type": "code",
      "metadata": {
        "id": "PUqjEgFAs3QY",
        "colab_type": "code",
        "outputId": "cec3642c-fbb2-417a-f856-1adde2981d6b",
        "colab": {
          "base_uri": "https://localhost:8080/",
          "height": 190
        }
      },
      "source": [
        "x_train, y_train"
      ],
      "execution_count": 0,
      "outputs": [
        {
          "output_type": "execute_result",
          "data": {
            "text/plain": [
              "(array([[0., 0., 0., 0., ..., 0., 0., 0., 0.],\n",
              "        [0., 0., 0., 0., ..., 0., 0., 0., 0.],\n",
              "        [0., 0., 0., 0., ..., 0., 0., 0., 0.],\n",
              "        [0., 0., 0., 0., ..., 0., 0., 0., 0.],\n",
              "        ...,\n",
              "        [0., 0., 0., 0., ..., 0., 0., 0., 0.],\n",
              "        [0., 0., 0., 0., ..., 0., 0., 0., 0.],\n",
              "        [0., 0., 0., 0., ..., 0., 0., 0., 0.],\n",
              "        [0., 0., 0., 0., ..., 0., 0., 0., 0.]], dtype=float32),\n",
              " array([5, 0, 4, 1, ..., 0, 8, 4, 8]))"
            ]
          },
          "metadata": {
            "tags": []
          },
          "execution_count": 11
        }
      ]
    },
    {
      "cell_type": "code",
      "metadata": {
        "id": "e_yThZRes5TS",
        "colab_type": "code",
        "outputId": "986c8e30-a859-41c4-ab9b-9fcd03c0b2fe",
        "colab": {
          "base_uri": "https://localhost:8080/",
          "height": 282
        }
      },
      "source": [
        "plt.imshow(x_train[3].reshape((28,28)))"
      ],
      "execution_count": 0,
      "outputs": [
        {
          "output_type": "execute_result",
          "data": {
            "text/plain": [
              "<matplotlib.image.AxesImage at 0x7f62fe682be0>"
            ]
          },
          "metadata": {
            "tags": []
          },
          "execution_count": 10
        },
        {
          "output_type": "display_data",
          "data": {
            "image/png": "[encoded data removed]",
            "text/plain": [
              "<Figure size 432x288 with 1 Axes>"
            ]
          },
          "metadata": {
            "tags": [],
            "needs_background": "light"
          }
        }
      ]
    },
    {
      "cell_type": "code",
      "metadata": {
        "id": "9L4XH_6RtCNB",
        "colab_type": "code",
        "colab": {}
      },
      "source": [
        "x_train, y_train, x_valid, y_valid = map(torch.tensor, (x_train, y_train, x_valid, y_valid))"
      ],
      "execution_count": 0,
      "outputs": []
    },
    {
      "cell_type": "code",
      "metadata": {
        "id": "OCqPmQidtXgG",
        "colab_type": "code",
        "outputId": "5c97d76c-aaff-4877-c086-899a37b8ab9f",
        "colab": {
          "base_uri": "https://localhost:8080/",
          "height": 35
        }
      },
      "source": [
        "x_train.shape"
      ],
      "execution_count": 0,
      "outputs": [
        {
          "output_type": "execute_result",
          "data": {
            "text/plain": [
              "torch.Size([50000, 784])"
            ]
          },
          "metadata": {
            "tags": []
          },
          "execution_count": 14
        }
      ]
    },
    {
      "cell_type": "code",
      "metadata": {
        "id": "ZB3bU555xnrh",
        "colab_type": "code",
        "colab": {}
      },
      "source": [
        "test = torch.rand(5, 5)\n",
        "test_2 = torch.rand(5, 5)"
      ],
      "execution_count": 0,
      "outputs": []
    },
    {
      "cell_type": "code",
      "metadata": {
        "id": "TgWPNXepxqIb",
        "colab_type": "code",
        "outputId": "9c10933a-1a6e-4bf0-b0e2-aa047b3915b3",
        "colab": {
          "base_uri": "https://localhost:8080/",
          "height": 104
        }
      },
      "source": [
        "test.cuda()"
      ],
      "execution_count": 0,
      "outputs": [
        {
          "output_type": "execute_result",
          "data": {
            "text/plain": [
              "tensor([[0.3013, 0.3417, 0.4416, 0.4393, 0.8587],\n",
              "        [0.4555, 0.4339, 0.4446, 0.3584, 0.0542],\n",
              "        [0.4183, 0.5120, 0.9956, 0.7079, 0.4810],\n",
              "        [0.1974, 0.9558, 0.7099, 0.8816, 0.8581],\n",
              "        [0.5408, 0.6494, 0.4579, 0.9321, 0.6539]], device='cuda:0')"
            ]
          },
          "metadata": {
            "tags": []
          },
          "execution_count": 133
        }
      ]
    },
    {
      "cell_type": "code",
      "metadata": {
        "id": "QZOOrMs9yosf",
        "colab_type": "code",
        "colab": {}
      },
      "source": [
        "train_ds = TensorDataset(x_train, y_train)\n",
        "valid_ds = TensorDataset(x_valid, y_valid)"
      ],
      "execution_count": 0,
      "outputs": []
    },
    {
      "cell_type": "code",
      "metadata": {
        "id": "f9_RQoOTyzfZ",
        "colab_type": "code",
        "colab": {}
      },
      "source": [
        "bs = 64\n",
        "data= DataBunch.create(train_ds, valid_ds, bs)"
      ],
      "execution_count": 0,
      "outputs": []
    },
    {
      "cell_type": "code",
      "metadata": {
        "id": "hrg9fv42y6K5",
        "colab_type": "code",
        "outputId": "63e810b4-2fe6-4efc-f2f6-aa995d76708d",
        "colab": {
          "base_uri": "https://localhost:8080/",
          "height": 138
        }
      },
      "source": [
        "data"
      ],
      "execution_count": 0,
      "outputs": [
        {
          "output_type": "execute_result",
          "data": {
            "text/plain": [
              "DataBunch;\n",
              "\n",
              "Train: <torch.utils.data.dataset.TensorDataset object at 0x7f62fe682f28>;\n",
              "\n",
              "Valid: <torch.utils.data.dataset.TensorDataset object at 0x7f62feac82e8>;\n",
              "\n",
              "Test: 64"
            ]
          },
          "metadata": {
            "tags": []
          },
          "execution_count": 15
        }
      ]
    },
    {
      "cell_type": "code",
      "metadata": {
        "id": "erVCCBAny83O",
        "colab_type": "code",
        "colab": {}
      },
      "source": [
        "x, y = next(iter(data.train_dl))"
      ],
      "execution_count": 0,
      "outputs": []
    },
    {
      "cell_type": "code",
      "metadata": {
        "id": "2lRwg7lMBmAm",
        "colab_type": "code",
        "colab": {}
      },
      "source": [
        "loss_function = nn.CrossEntropyLoss()"
      ],
      "execution_count": 0,
      "outputs": []
    },
    {
      "cell_type": "code",
      "metadata": {
        "id": "tJfMr5d9L9Vg",
        "colab_type": "code",
        "colab": {}
      },
      "source": [
        "a = torch.Tensor()"
      ],
      "execution_count": 0,
      "outputs": []
    },
    {
      "cell_type": "code",
      "metadata": {
        "id": "uUmPE093MEVU",
        "colab_type": "code",
        "outputId": "41c08ad0-2529-484e-8fc7-c0abafcc14de",
        "colab": {
          "base_uri": "https://localhost:8080/",
          "height": 35
        }
      },
      "source": [
        "a.add(torch.tensor(2))"
      ],
      "execution_count": 0,
      "outputs": [
        {
          "output_type": "execute_result",
          "data": {
            "text/plain": [
              "tensor([])"
            ]
          },
          "metadata": {
            "tags": []
          },
          "execution_count": 118
        }
      ]
    },
    {
      "cell_type": "code",
      "metadata": {
        "id": "_oN3V9PytZFQ",
        "colab_type": "code",
        "colab": {}
      },
      "source": [
        "class Linear(nn.Module):\n",
        "  def __init__(self, in_features, out_features, with_bias = False):\n",
        "    super().__init__()\n",
        "    self.with_bias = with_bias\n",
        "    self.in_features = in_features\n",
        "    self.out_features = out_features\n",
        "\n",
        "    # self.weights = Parameter(torch.rand(out_features, in_features, requires_grad= True))\n",
        "    # self.bias = Parameter(torch.rand(out_features, requires_grad= True))\n",
        "\n",
        "    self.weights = torch.rand(out_features, in_features, requires_grad= True, device=cuda0)\n",
        "    self.bias = torch.rand(out_features, requires_grad= True, device=cuda0)\n",
        "\n",
        "    self.weight_moms = torch.tensor(1.)\n",
        "    self.bias_moms = torch.tensor(1.)\n",
        "\n",
        "    self.weight_rms_prop = torch.tensor(1.)\n",
        "    self.bias_rms_prop = torch.tensor(1.)\n",
        "\n",
        "    self.parameter = []\n",
        "\n",
        "    self.bound_parameters()\n",
        "    self.register_parameters()\n",
        "\n",
        "  def forward(self, xb):\n",
        "    activation = xb @ torch.transpose(self.weights, 0, 1)\n",
        "    if self.with_bias:\n",
        "      for act in activation:\n",
        "        act.add_(self.bias)\n",
        "    return activation\n",
        "\n",
        "  def bound_parameters(self):\n",
        "    stdv = 1./math.sqrt(self.weights.shape[1])\n",
        "    self.weights.data.uniform_(-stdv, stdv)\n",
        "    if self.with_bias:\n",
        "      self.bias.data.uniform_(-stdv, stdv)\n",
        "  \n",
        "  def register_parameters(self):\n",
        "    self.parameter.append(self.weights)\n",
        "    if self.with_bias:\n",
        "      self.parameter.append(self.bias)\n",
        "  \n",
        "  def parameters(self):\n",
        "    for param in self.parameter:\n",
        "      yield param\n",
        "  \n",
        "  def reset_grads(self):\n",
        "    for param in self.parameters():\n",
        "      if max(param.grad) != 0.0:\n",
        "        param.grad.zero_()"
      ],
      "execution_count": 0,
      "outputs": []
    },
    {
      "cell_type": "code",
      "metadata": {
        "id": "QEOmbiFJJkN_",
        "colab_type": "code",
        "outputId": "54527261-71f4-4503-f9cc-67a88cd05a12",
        "colab": {
          "base_uri": "https://localhost:8080/",
          "height": 234
        }
      },
      "source": [
        "doc(Parameter)"
      ],
      "execution_count": 0,
      "outputs": [
        {
          "output_type": "display_data",
          "data": {
            "text/html": [
              "<h2 id=\"Parameter\" class=\"doc_header\"><code>class</code> <code>Parameter</code><a class=\"source_link\" data-toggle=\"collapse\" data-target=\"#Parameter-pytest\" style=\"float:right; padding-right:10px\">[test]</a></h2><blockquote><p><code>Parameter</code>(<strong><code>data</code></strong>=<strong><em><code>None</code></em></strong>, <strong><code>requires_grad</code></strong>=<strong><em><code>True</code></em></strong>) :: <code>Tensor</code></p>\n",
              "</blockquote>\n",
              "<div class=\"collapse\" id=\"Parameter-pytest\"><div class=\"card card-body pytest_card\"><a type=\"button\" data-toggle=\"collapse\" data-target=\"#Parameter-pytest\" class=\"close\" aria-label=\"Close\"><span aria-hidden=\"true\">&times;</span></a><p>No tests found for <code>Parameter</code>. To contribute a test please refer to <a href=\"/dev/test.html\">this guide</a> and <a href=\"https://forums.fast.ai/t/improving-expanding-functional-tests/32929\">this discussion</a>.</p></div></div><p>A kind of Tensor that is to be considered a module parameter. Parameters are :class:<code>~torch.Tensor</code> subclasses, that have a\n",
              "very special property when used with :class:<code>Module</code> s - when they're\n",
              "assigned as Module attributes they are automatically added to the list of\n",
              "its parameters, and will appear e.g. in :meth:<code>~Module.parameters</code> iterator.\n",
              "Assigning a Tensor doesn't have such effect. This is because one might\n",
              "want to cache some temporary state, like last hidden state of the RNN, in\n",
              "the model. If there was no such class as :class:<a href=\"https://pytorch.org/docs/stable/nn.html#torch.nn.Parameter\"><code>Parameter</code></a>, these\n",
              "temporaries would get registered too.</p>\n",
              "<p>Arguments:\n",
              "    data (Tensor): parameter tensor.\n",
              "    requires_grad (bool, optional): if the parameter requires gradient. See\n",
              "        :ref:<code>excluding-subgraphs</code> for more details. Default: <code>True</code></p>\n"
            ],
            "text/plain": [
              "<IPython.core.display.HTML object>"
            ]
          },
          "metadata": {
            "tags": []
          }
        }
      ]
    },
    {
      "cell_type": "code",
      "metadata": {
        "id": "uXcy8AdgzAHs",
        "colab_type": "code",
        "colab": {}
      },
      "source": [
        "lin = Linear(784, 10, True).cuda()"
      ],
      "execution_count": 0,
      "outputs": []
    },
    {
      "cell_type": "code",
      "metadata": {
        "id": "aGaKggJxGUTC",
        "colab_type": "code",
        "colab": {}
      },
      "source": [
        "M = torch.Tensor([[[1, 2, 3], [4, 5, 6]],[[10, 20, 30], [40, 50, 60]]])"
      ],
      "execution_count": 0,
      "outputs": []
    },
    {
      "cell_type": "code",
      "metadata": {
        "id": "Ti16HHCpFFMh",
        "colab_type": "code",
        "colab": {}
      },
      "source": [
        "pars = [i for i in lin.parameters()]"
      ],
      "execution_count": 0,
      "outputs": []
    },
    {
      "cell_type": "code",
      "metadata": {
        "id": "Gy0hkklBISxS",
        "colab_type": "code",
        "outputId": "c25af3cd-2e1b-43d7-9273-3a1b0939ba78",
        "colab": {
          "base_uri": "https://localhost:8080/",
          "height": 155
        }
      },
      "source": [
        "pars[0].data"
      ],
      "execution_count": 0,
      "outputs": [
        {
          "output_type": "execute_result",
          "data": {
            "text/plain": [
              "tensor([[ 0.0107,  0.0092,  0.0009,  ..., -0.0297, -0.0204, -0.0270],\n",
              "        [ 0.0064, -0.0050,  0.0088,  ..., -0.0305,  0.0215,  0.0156],\n",
              "        [ 0.0108, -0.0119,  0.0173,  ...,  0.0307, -0.0356,  0.0345],\n",
              "        ...,\n",
              "        [-0.0102,  0.0233,  0.0196,  ...,  0.0310, -0.0246, -0.0247],\n",
              "        [-0.0187, -0.0348,  0.0012,  ...,  0.0120,  0.0212, -0.0295],\n",
              "        [-0.0239,  0.0345, -0.0344,  ..., -0.0131, -0.0155,  0.0321]],\n",
              "       device='cuda:0')"
            ]
          },
          "metadata": {
            "tags": []
          },
          "execution_count": 54
        }
      ]
    },
    {
      "cell_type": "code",
      "metadata": {
        "id": "ovQ7NbhiPhHF",
        "colab_type": "code",
        "outputId": "f2e8cd4e-7934-44a9-f43e-31a3ed9f3a85",
        "colab": {
          "base_uri": "https://localhost:8080/",
          "height": 190
        }
      },
      "source": [
        "pars"
      ],
      "execution_count": 0,
      "outputs": [
        {
          "output_type": "execute_result",
          "data": {
            "text/plain": [
              "[tensor([[-0.0264,  0.0137, -0.0016,  ...,  0.0341, -0.0104,  0.0065],\n",
              "         [-0.0155,  0.0250, -0.0266,  ...,  0.0053, -0.0161,  0.0072],\n",
              "         [-0.0306,  0.0098,  0.0130,  ...,  0.0072,  0.0041,  0.0017],\n",
              "         ...,\n",
              "         [ 0.0041,  0.0171,  0.0141,  ..., -0.0057, -0.0094, -0.0209],\n",
              "         [ 0.0350,  0.0068,  0.0021,  ...,  0.0134,  0.0044,  0.0167],\n",
              "         [ 0.0179, -0.0310,  0.0184,  ...,  0.0088, -0.0262,  0.0065]],\n",
              "        device='cuda:0', requires_grad=True),\n",
              " tensor([-0.0122, -0.0335,  0.0259,  0.0139, -0.0238, -0.0329,  0.0074, -0.0190,\n",
              "         -0.0312,  0.0244], device='cuda:0', requires_grad=True)]"
            ]
          },
          "metadata": {
            "tags": []
          },
          "execution_count": 59
        }
      ]
    },
    {
      "cell_type": "code",
      "metadata": {
        "id": "Vr3S0bllQjNv",
        "colab_type": "code",
        "outputId": "b70a233b-24f5-4517-c6e3-0d80d3827b07",
        "colab": {
          "base_uri": "https://localhost:8080/",
          "height": 155
        }
      },
      "source": [
        "pars[0].data"
      ],
      "execution_count": 0,
      "outputs": [
        {
          "output_type": "execute_result",
          "data": {
            "text/plain": [
              "tensor([[ 0.0122,  0.0022,  0.0085,  ..., -0.0201,  0.0119, -0.0316],\n",
              "        [-0.0315, -0.0305,  0.0047,  ..., -0.0260, -0.0010, -0.0139],\n",
              "        [ 0.0327,  0.0236, -0.0287,  ..., -0.0084, -0.0013,  0.0273],\n",
              "        ...,\n",
              "        [-0.0323,  0.0232,  0.0221,  ..., -0.0007,  0.0196,  0.0195],\n",
              "        [-0.0149, -0.0237,  0.0199,  ...,  0.0210,  0.0025,  0.0182],\n",
              "        [ 0.0258,  0.0062, -0.0214,  ...,  0.0159,  0.0217,  0.0303]],\n",
              "       device='cuda:0')"
            ]
          },
          "metadata": {
            "tags": []
          },
          "execution_count": 96
        }
      ]
    },
    {
      "cell_type": "code",
      "metadata": {
        "id": "zPiX4HRp-hgQ",
        "colab_type": "code",
        "colab": {}
      },
      "source": [
        "new_lin = nn.Linear(784, 10, True).cuda()"
      ],
      "execution_count": 0,
      "outputs": []
    },
    {
      "cell_type": "code",
      "metadata": {
        "id": "L6GTNZRRBZgO",
        "colab_type": "code",
        "colab": {}
      },
      "source": [
        "# new_yhat = new_lin(x)\n",
        "y_hat = lin(x)"
      ],
      "execution_count": 0,
      "outputs": []
    },
    {
      "cell_type": "code",
      "metadata": {
        "id": "ikfrq9bZRzQ0",
        "colab_type": "code",
        "colab": {}
      },
      "source": [
        "y_hat"
      ],
      "execution_count": 0,
      "outputs": []
    },
    {
      "cell_type": "code",
      "metadata": {
        "id": "x8ee0lyPBdPp",
        "colab_type": "code",
        "colab": {}
      },
      "source": [
        "# n_loss = loss_function(new_yhat, y)\n",
        "loss = loss_function(y_hat, y)"
      ],
      "execution_count": 0,
      "outputs": []
    },
    {
      "cell_type": "code",
      "metadata": {
        "id": "tzFLr1UcDG4R",
        "colab_type": "code",
        "outputId": "301732e0-f1e2-451a-ee51-c166d130d8bb",
        "colab": {
          "base_uri": "https://localhost:8080/",
          "height": 35
        }
      },
      "source": [
        "loss"
      ],
      "execution_count": 0,
      "outputs": [
        {
          "output_type": "execute_result",
          "data": {
            "text/plain": [
              "tensor(2.3616, device='cuda:0', grad_fn=<NllLossBackward>)"
            ]
          },
          "metadata": {
            "tags": []
          },
          "execution_count": 64
        }
      ]
    },
    {
      "cell_type": "code",
      "metadata": {
        "id": "JswIHkHvB2Q-",
        "colab_type": "code",
        "colab": {}
      },
      "source": [
        "# n_loss.backward()\n",
        "loss.backward()"
      ],
      "execution_count": 0,
      "outputs": []
    },
    {
      "cell_type": "code",
      "metadata": {
        "id": "QfhvNsGv-rBx",
        "colab_type": "code",
        "colab": {}
      },
      "source": [
        "params = [i for i in lin.parameters()]"
      ],
      "execution_count": 0,
      "outputs": []
    },
    {
      "cell_type": "code",
      "metadata": {
        "id": "35MgncogDLtm",
        "colab_type": "code",
        "outputId": "8631a039-9775-4edf-d0c5-09da14ab0dc5",
        "colab": {
          "base_uri": "https://localhost:8080/",
          "height": 35
        }
      },
      "source": [
        "lin.weights.grad.shape, lin.weights.shape"
      ],
      "execution_count": 0,
      "outputs": [
        {
          "output_type": "execute_result",
          "data": {
            "text/plain": [
              "(torch.Size([10, 784]), torch.Size([10, 784]))"
            ]
          },
          "metadata": {
            "tags": []
          },
          "execution_count": 68
        }
      ]
    },
    {
      "cell_type": "code",
      "metadata": {
        "id": "ce0cBw5USBU_",
        "colab_type": "code",
        "outputId": "436fbc0a-c5e7-4da5-f3ce-35c9200ce933",
        "colab": {
          "base_uri": "https://localhost:8080/",
          "height": 35
        }
      },
      "source": [
        "lin.weights.grad.data.max(), lin.weights.grad.data.min()"
      ],
      "execution_count": 0,
      "outputs": [
        {
          "output_type": "execute_result",
          "data": {
            "text/plain": [
              "(tensor(0.0764, device='cuda:0'), tensor(-0.0938, device='cuda:0'))"
            ]
          },
          "metadata": {
            "tags": []
          },
          "execution_count": 69
        }
      ]
    },
    {
      "cell_type": "code",
      "metadata": {
        "id": "SQzDLm_WGijg",
        "colab_type": "code",
        "colab": {}
      },
      "source": [
        "wd = 1e-05\n",
        "w2 = "
      ],
      "execution_count": 0,
      "outputs": []
    },
    {
      "cell_type": "code",
      "metadata": {
        "id": "69BsnEvRKW2t",
        "colab_type": "code",
        "colab": {}
      },
      "source": [
        "lr = 1e-02\n",
        "with torch.no_grad():\n",
        "  lin.weights.sub_(lr*lin.weights.grad)\n",
        "  lin.bias.sub_(lr*lin.bias.grad)\n",
        "  lin.weights.grad.zero_()\n",
        "  lin.bias.grad.zero_()"
      ],
      "execution_count": 0,
      "outputs": []
    },
    {
      "cell_type": "code",
      "metadata": {
        "id": "SrXvRihlPyRj",
        "colab_type": "code",
        "colab": {}
      },
      "source": [
        "a = torch.tensor([2., 3.])"
      ],
      "execution_count": 0,
      "outputs": []
    },
    {
      "cell_type": "code",
      "metadata": {
        "id": "8lQXnfAKKSp5",
        "colab_type": "code",
        "outputId": "d527d953-f5a6-4447-c08b-24f47f86d28a",
        "colab": {
          "base_uri": "https://localhost:8080/",
          "height": 35
        }
      },
      "source": [
        "def test_a():\n",
        "  for i in a:\n",
        "    yield i\n",
        "\n",
        "test_a()"
      ],
      "execution_count": 0,
      "outputs": [
        {
          "output_type": "execute_result",
          "data": {
            "text/plain": [
              "<generator object test_a at 0x7f46ba667888>"
            ]
          },
          "metadata": {
            "tags": []
          },
          "execution_count": 47
        }
      ]
    },
    {
      "cell_type": "code",
      "metadata": {
        "id": "Ux6wZsD3KlQc",
        "colab_type": "code",
        "outputId": "b9b3d888-68a1-44de-bd93-de070493a0d8",
        "colab": {
          "base_uri": "https://localhost:8080/",
          "height": 52
        }
      },
      "source": [
        "for i in test_a():\n",
        "  print(i)"
      ],
      "execution_count": 0,
      "outputs": [
        {
          "output_type": "stream",
          "text": [
            "tensor(2.)\n",
            "tensor(3.)\n"
          ],
          "name": "stdout"
        }
      ]
    },
    {
      "cell_type": "code",
      "metadata": {
        "id": "-aEck5j7MuV9",
        "colab_type": "code",
        "colab": {}
      },
      "source": [
        "a = []\n",
        "for i in range(4):\n",
        "    a.append(torch.rand(1, 2))\n",
        "\n",
        "b = torch.Tensor(3, 4)\n",
        "c = torch.cat(a, out=b)"
      ],
      "execution_count": 0,
      "outputs": []
    },
    {
      "cell_type": "code",
      "metadata": {
        "id": "WQ9vPjpxM8mf",
        "colab_type": "code",
        "colab": {}
      },
      "source": [
        "a = torch.tensor([1., 2.])\n",
        "b = torch.tensor([3., 4., 5.])\n",
        "c = torch.cat(a, b))"
      ],
      "execution_count": 0,
      "outputs": []
    },
    {
      "cell_type": "code",
      "metadata": {
        "id": "XDfYGVjkNJDi",
        "colab_type": "code",
        "outputId": "85233ea5-7fbf-495c-b759-935cc45c1f48",
        "colab": {
          "base_uri": "https://localhost:8080/",
          "height": 35
        }
      },
      "source": [
        "c"
      ],
      "execution_count": 0,
      "outputs": [
        {
          "output_type": "execute_result",
          "data": {
            "text/plain": [
              "tensor([1., 2., 3., 4., 5.])"
            ]
          },
          "metadata": {
            "tags": []
          },
          "execution_count": 63
        }
      ]
    },
    {
      "cell_type": "code",
      "metadata": {
        "id": "zt-LL5Xtv6AO",
        "colab_type": "code",
        "outputId": "d005d54c-6550-4e72-da73-e4381b90fd58",
        "colab": {
          "base_uri": "https://localhost:8080/",
          "height": 52
        }
      },
      "source": [
        "a = torch.tensor([[8., 16.],[4., 2.]])\n",
        "torch.sqrt(a)\n",
        "a"
      ],
      "execution_count": 0,
      "outputs": [
        {
          "output_type": "execute_result",
          "data": {
            "text/plain": [
              "tensor([[2.8284, 4.0000],\n",
              "        [2.0000, 1.4142]])"
            ]
          },
          "metadata": {
            "tags": []
          },
          "execution_count": 37
        }
      ]
    },
    {
      "cell_type": "code",
      "metadata": {
        "id": "QSOBitUXwfpg",
        "colab_type": "code",
        "outputId": "60bb8d81-8dc0-4aa6-f41f-8d23f7d83670",
        "colab": {
          "base_uri": "https://localhost:8080/",
          "height": 35
        }
      },
      "source": [
        "a = torch.tensor([[8., 16.],[4., 2.]])\n",
        "b = torch.tensor([[2.,2.], [2., 2.]])\n",
        "a = a + 0.0001\n",
        "a[0][0] > 8"
      ],
      "execution_count": 0,
      "outputs": [
        {
          "output_type": "execute_result",
          "data": {
            "text/plain": [
              "tensor(True)"
            ]
          },
          "metadata": {
            "tags": []
          },
          "execution_count": 30
        }
      ]
    },
    {
      "cell_type": "code",
      "metadata": {
        "id": "pOqqfMRao7mo",
        "colab_type": "code",
        "colab": {}
      },
      "source": [
        "class MnistLinear(nn.Module):\n",
        "  def __init__(self, in_features, out_features, with_bias):\n",
        "    suoer().__init__()\n",
        "    self.lin = Linear(in_features, out_features, with_bias)\n",
        "  \n",
        "  def forward(self, xb):\n",
        "    return self.lin(xb)"
      ],
      "execution_count": 0,
      "outputs": []
    },
    {
      "cell_type": "code",
      "metadata": {
        "id": "9T4XwFtfg8oV",
        "colab_type": "code",
        "colab": {}
      },
      "source": [
        "nd = [i for i in model.parameters()]"
      ],
      "execution_count": 0,
      "outputs": []
    },
    {
      "cell_type": "code",
      "metadata": {
        "id": "mGBv2AD0hAyk",
        "colab_type": "code",
        "outputId": "c94e9075-bc4d-44da-f78f-b55c41f09139",
        "colab": {
          "base_uri": "https://localhost:8080/",
          "height": 35
        }
      },
      "source": [
        ""
      ],
      "execution_count": 0,
      "outputs": [
        {
          "output_type": "execute_result",
          "data": {
            "text/plain": [
              "[]"
            ]
          },
          "metadata": {
            "tags": []
          },
          "execution_count": 88
        }
      ]
    },
    {
      "cell_type": "code",
      "metadata": {
        "id": "tO_G6XeYdkcY",
        "colab_type": "code",
        "outputId": "5e8ac430-21bd-43b5-b2c9-8d8530b5f6bf",
        "colab": {
          "base_uri": "https://localhost:8080/",
          "height": 35
        }
      },
      "source": [
        "w2 = 0\n",
        "for i in model.lin.parameters():\n",
        "  w2 += i.sum()\n"
      ],
      "execution_count": 0,
      "outputs": [
        {
          "output_type": "execute_result",
          "data": {
            "text/plain": [
              "tensor(-0.3595, device='cuda:0', grad_fn=<AddBackward0>)"
            ]
          },
          "metadata": {
            "tags": []
          },
          "execution_count": 79
        }
      ]
    },
    {
      "cell_type": "code",
      "metadata": {
        "id": "aclD9K33UcB0",
        "colab_type": "code",
        "colab": {}
      },
      "source": [
        "lin_w, lin_b, lin_1_w, lin_1_b = -20, -20, -20, -20"
      ],
      "execution_count": 0,
      "outputs": []
    },
    {
      "cell_type": "code",
      "metadata": {
        "id": "HmI6mu1hUccp",
        "colab_type": "code",
        "outputId": "fcf5a713-b7dc-4a98-dbce-85cdf1627ec0",
        "colab": {
          "base_uri": "https://localhost:8080/",
          "height": 35
        }
      },
      "source": [
        "c == 0 and type(model.lin.weight_moms) != int"
      ],
      "execution_count": 0,
      "outputs": [
        {
          "output_type": "execute_result",
          "data": {
            "text/plain": [
              "True"
            ]
          },
          "metadata": {
            "tags": []
          },
          "execution_count": 74
        }
      ]
    },
    {
      "cell_type": "code",
      "metadata": {
        "id": "KTdqaD11dVI-",
        "colab_type": "code",
        "colab": {}
      },
      "source": [
        "wd = 0\n",
        "lr = 1e-02\n",
        "\n",
        "def update(x, y, lr):\n",
        "  # print('epoch')\n",
        "  \n",
        "  y_hat = model(x)\n",
        "  w2 = 0\n",
        "  for i in model.lin.parameters(): \n",
        "    w2 += i.sum()\n",
        "  loss = loss_function(y_hat, y) + (w2**2)*wd\n",
        "  loss.backward()\n",
        "  with torch.no_grad():\n",
        "    c = 0\n",
        "\n",
        "    for param in model.lin.parameters():\n",
        "      \n",
        "      if param.shape == model.lin.weight_moms.shape:\n",
        "        mom_grad = 0.1*param.grad\n",
        "        mom_grad.add_(0.9*model.lin.weight_moms)\n",
        "        param.sub_(7e-02*mom_grad)\n",
        "        model.lin.weight_moms = mom_grad\n",
        "      \n",
        "      elif param.shape == model.lin.bias_moms.shape:\n",
        "        mom_grad = 0.1*param.grad\n",
        "        mom_grad.add_(0.9*model.lin.bias_moms)\n",
        "        param.sub_(7e-02*mom_grad)\n",
        "        model.lin.bias_moms = mom_grad\n",
        "\n",
        "      else:\n",
        "        param.sub_(7e-02*param.grad)\n",
        "        if c == 0:\n",
        "          model.lin.weight_moms = 7e-02*param.grad\n",
        "        elif c == 1:\n",
        "          model.lin.bias_moms = 7e-02*param.grad\n",
        "      \n",
        "      c += 1\n",
        "      param.grad.zero_()\n",
        "\n",
        "    c = 0\n",
        "    for param_1 in model.lin_1.parameters():\n",
        "\n",
        "      if param_1.shape == model.lin_1.weight_moms.shape:\n",
        "        mom_grad = 0.1*param_1.grad\n",
        "        mom_grad.add_(0.9*model.lin_1.weight_moms)\n",
        "        param_1.sub_(7e-02*mom_grad)\n",
        "        model.lin_1.weight_moms = mom_grad\n",
        "      \n",
        "      elif param_1.shape == model.lin.bias_moms.shape:\n",
        "        mom_grad = 0.1*param_1.grad\n",
        "        mom_grad.add_(0.9*model.lin_1.bias_moms)\n",
        "        param_1.sub_(7e-02*mom_grad)\n",
        "        model.lin_1.bias_moms = mom_grad\n",
        "        \n",
        "      else:\n",
        "        param_1.sub_(7e-02*param_1.grad)\n",
        "        if c == 0:\n",
        "          model.lin_1.weight_moms = 7e-02*param.grad\n",
        "        elif c == 1:\n",
        "          model.lin_1.bias_moms = 7e-02*param.grad\n",
        "          moms_set_1 = True\n",
        "\n",
        "      param_1.grad.zero_()\n",
        "      c += 1\n",
        "  \n",
        "  return loss.item()"
      ],
      "execution_count": 0,
      "outputs": []
    },
    {
      "cell_type": "code",
      "metadata": {
        "id": "w-iN936NKXUw",
        "colab_type": "code",
        "colab": {}
      },
      "source": [
        "class MnistNN(nn.Module):\n",
        "  def __init__(self, in_features, out_features, with_bias):\n",
        "    super().__init__()\n",
        "    self.lin = Linear(in_features, 50, with_bias)\n",
        "    self.lin_1 = Linear(50, out_features, with_bias)\n",
        "  \n",
        "  def forward(self, xb):\n",
        "    act = F.relu(self.lin(xb))\n",
        "    return self.lin_1(act)\n",
        "  \n",
        "  def upgrade_moms(self, x, y, lr):\n",
        "\n",
        "    y_hat = self(x)\n",
        "    w2 = 0\n",
        "    for i in self.lin.parameters(): \n",
        "      w2 += i.sum()\n",
        "    loss = loss_function(y_hat, y) + (w2**2)*wd\n",
        "    loss.backward()\n",
        "    with torch.no_grad():\n",
        "      c = 0\n",
        "\n",
        "      for param in self.lin.parameters():\n",
        "        \n",
        "        if param.shape == self.lin.weight_moms.shape:\n",
        "          mom_grad = 0.1*param.grad\n",
        "          mom_grad.add_(0.9*self.lin.weight_moms)\n",
        "          param.sub_(7e-02*mom_grad)\n",
        "          self.lin.weight_moms = mom_grad\n",
        "        \n",
        "        elif param.shape == self.lin.bias_moms.shape:\n",
        "          mom_grad = 0.1*param.grad\n",
        "          mom_grad.add_(0.9*self.lin.bias_moms)\n",
        "          param.sub_(7e-02*mom_grad)\n",
        "          self.lin.bias_moms = mom_grad\n",
        "\n",
        "        else:\n",
        "          param.sub_(7e-02*param.grad)\n",
        "          if c == 0:\n",
        "            self.lin.weight_moms = 7e-02*param.grad\n",
        "          elif c == 1:\n",
        "            self.lin.bias_moms = 7e-02*param.grad\n",
        "        \n",
        "        c += 1\n",
        "        param.grad.zero_()\n",
        "\n",
        "      c = 0\n",
        "      for param_1 in self.lin_1.parameters():\n",
        "\n",
        "        if param_1.shape == self.lin_1.weight_moms.shape:\n",
        "          mom_grad = 0.1*param_1.grad\n",
        "          mom_grad.add_(0.9*self.lin_1.weight_moms)\n",
        "          param_1.sub_(7e-02*mom_grad)\n",
        "          self.lin_1.weight_moms = mom_grad\n",
        "        \n",
        "        elif param_1.shape == self.lin.bias_moms.shape:\n",
        "          mom_grad = 0.1*param_1.grad\n",
        "          mom_grad.add_(0.9*self.lin_1.bias_moms)\n",
        "          param_1.sub_(7e-02*mom_grad)\n",
        "          self.lin_1.bias_moms = mom_grad\n",
        "          \n",
        "        else:\n",
        "          param_1.sub_(7e-02*param_1.grad)\n",
        "          if c == 0:\n",
        "            self.lin_1.weight_moms = 7e-02*param.grad\n",
        "          elif c == 1:\n",
        "            self.lin_1.bias_moms = 7e-02*param.grad\n",
        "\n",
        "        param_1.grad.zero_()\n",
        "        c += 1\n",
        "    \n",
        "    return loss.item()\n",
        "  \n",
        "  def upgrade_rmse_prop(self, x, y, lr):\n",
        "\n",
        "    y_hat = self(x)\n",
        "\n",
        "    # w2 = 0\n",
        "    # for param in self.lin.parameters(): w2 += param.sum()\n",
        "\n",
        "    loss = loss_function(y_hat, y) #+ wd * (w2**2)\n",
        "    loss.backward()\n",
        "\n",
        "    with torch.no_grad():\n",
        "      c = 0\n",
        "      st()\n",
        "      for param in self.lin.parameters():\n",
        "        \n",
        "        if param.shape == self.lin.weight_rms_prop.shape:\n",
        "          rms_grad = 0.1*param.grad**2\n",
        "          rms_grad.add_(0.9*self.lin.weight_rms_prop)\n",
        "\n",
        "          update = lr * param.grad/((rms_grad) + 1e-10) ** 2\n",
        "\n",
        "          param.sub_(update)\n",
        "          self.lin.weight_rms_prop = rms_grad\n",
        "        \n",
        "        elif param.shape == self.lin.bias_rms_prop.shape:\n",
        "          rms_grad = 0.1*param.grad**2\n",
        "          rms_grad.add_(0.9*self.lin.bias_rms_prop)\n",
        "\n",
        "          update = lr * param.grad/((rms_grad) + 1e-10) ** 2\n",
        "\n",
        "          param.sub_(update)\n",
        "          self.lin.bias_rms_prop = rms_grad\n",
        "\n",
        "        else:\n",
        "          param.sub_(lr*param.grad)\n",
        "          if c == 0:\n",
        "            self.lin.weight_rms_prop = 0.1*param.grad **2\n",
        "          elif c == 1:\n",
        "            self.lin.bias_rms_prop = 0.1*param.grad ** 2\n",
        "        \n",
        "        c += 1\n",
        "        param.grad.zero_()\n",
        "\n",
        "      c = 0\n",
        "      for param_1 in self.lin_1.parameters():\n",
        "\n",
        "        if param_1.shape == self.lin_1.weight_rms_prop.shape:\n",
        "          rms_grad = 0.1*param_1.grad ** 2\n",
        "          rms_grad.add_(0.9*self.lin_1.weight_rms_prop)\n",
        "\n",
        "          update = lr * param_1.grad/((rms_grad) + 1e-10) **2\n",
        "\n",
        "          param_1.sub_(update)\n",
        "          self.lin_1.weight_rms_prop = rms_grad\n",
        "        \n",
        "        elif param_1.shape == self.lin.bias_moms.shape:\n",
        "          rms_grad = 0.1*param_1.grad ** 2\n",
        "          rms_grad.add_(0.9*self.lin_1.bias_rms_prop)\n",
        "\n",
        "          update = lr * param.grad/((rms_grad) + 1e-10) **2\n",
        "\n",
        "          param_1.sub_(update)\n",
        "          self.lin_1.bias_rms_prop = rms_grad\n",
        "          \n",
        "        else:\n",
        "          param_1.sub_(lr*param_1.grad)\n",
        "          if c == 0:\n",
        "            self.lin_1.weight_rms_prop = 0.1*param_1.grad **2\n",
        "          elif c == 1:\n",
        "            self.lin_1.bias_rms_prop = 0.1*param_1.grad **2\n",
        "\n",
        "        param_1.grad.zero_()\n",
        "        c += 1\n",
        "    \n",
        "    return loss.item()\n"
      ],
      "execution_count": 0,
      "outputs": []
    },
    {
      "cell_type": "code",
      "metadata": {
        "id": "secZi23uXuER",
        "colab_type": "code",
        "outputId": "2e856500-389e-43fd-ea8e-bc17fe639de0",
        "colab": {
          "base_uri": "https://localhost:8080/",
          "height": 35
        }
      },
      "source": [
        "model = MnistNN(784, 10, True).cuda()\n",
        "lr = 7e-02\n",
        "wd = 1e-05\n",
        "model.upgrade_rmse_prop(x, y, lr)\n",
        "# update(x, y, lr)"
      ],
      "execution_count": 0,
      "outputs": [
        {
          "output_type": "execute_result",
          "data": {
            "text/plain": [
              "2.2926740646362305"
            ]
          },
          "metadata": {
            "tags": []
          },
          "execution_count": 46
        }
      ]
    },
    {
      "cell_type": "code",
      "metadata": {
        "id": "TblrfpbjYlF-",
        "colab_type": "code",
        "outputId": "871df060-d9e9-4f1b-a90b-78bd1183512e",
        "colab": {
          "base_uri": "https://localhost:8080/",
          "height": 52
        }
      },
      "source": [
        "print(model.lin.weight_rms_prop.shape, model.lin.bias_rms_prop.shape, model.lin_1.weight_rms_prop.shape, model.lin_1.bias_rms_prop.shape)\n",
        "print(model.lin.weights.shape, model.lin.bias.shape, model.lin_1.weights.shape, model.lin_1.bias.shape)"
      ],
      "execution_count": 0,
      "outputs": [
        {
          "output_type": "stream",
          "text": [
            "torch.Size([50, 784]) torch.Size([50]) torch.Size([10, 50]) torch.Size([10])\n",
            "torch.Size([50, 784]) torch.Size([50]) torch.Size([10, 50]) torch.Size([10])\n"
          ],
          "name": "stdout"
        }
      ]
    },
    {
      "cell_type": "code",
      "metadata": {
        "id": "DID_yeVJY_2O",
        "colab_type": "code",
        "outputId": "206f95b1-2812-4c82-ce64-8cd2a9463401",
        "colab": {
          "base_uri": "https://localhost:8080/",
          "height": 35
        }
      },
      "source": [
        ""
      ],
      "execution_count": 0,
      "outputs": [
        {
          "output_type": "execute_result",
          "data": {
            "text/plain": [
              "True"
            ]
          },
          "metadata": {
            "tags": []
          },
          "execution_count": 66
        }
      ]
    },
    {
      "cell_type": "code",
      "metadata": {
        "id": "XxYKFze1Yasd",
        "colab_type": "code",
        "colab": {}
      },
      "source": [
        "update(x, y, lr)"
      ],
      "execution_count": 0,
      "outputs": []
    },
    {
      "cell_type": "code",
      "metadata": {
        "id": "vvqLzCq5Jz5l",
        "colab_type": "code",
        "outputId": "53ec7e1d-0680-4440-d583-31529622655b",
        "colab": {
          "base_uri": "https://localhost:8080/",
          "height": 35
        }
      },
      "source": [
        "data.train_ds.tensors[0].shape"
      ],
      "execution_count": 0,
      "outputs": [
        {
          "output_type": "execute_result",
          "data": {
            "text/plain": [
              "torch.Size([50000, 784])"
            ]
          },
          "metadata": {
            "tags": []
          },
          "execution_count": 68
        }
      ]
    },
    {
      "cell_type": "code",
      "metadata": {
        "id": "cNlC_PnRaNOG",
        "colab_type": "code",
        "outputId": "54eaae01-5c83-4e81-a944-fba9b80e026c",
        "colab": {
          "base_uri": "https://localhost:8080/",
          "height": 294
        }
      },
      "source": [
        "model = MnistNN(784, 10, True).cuda()\n",
        "lr = 1e-03\n",
        "wd = 1e-05\n",
        "losses = [model.upgrade_rmse_prop(x, y, lr) for x, y in data.train_dl]\n",
        "plt.plot(losses)"
      ],
      "execution_count": 0,
      "outputs": [
        {
          "output_type": "execute_result",
          "data": {
            "text/plain": [
              "[<matplotlib.lines.Line2D at 0x7f8470489f28>]"
            ]
          },
          "metadata": {
            "tags": []
          },
          "execution_count": 64
        },
        {
          "output_type": "display_data",
          "data": {
            "image/png": "[encoded data removed]",
            "text/plain": [
              "<Figure size 432x288 with 1 Axes>"
            ]
          },
          "metadata": {
            "tags": [],
            "needs_background": "light"
          }
        }
      ]
    },
    {
      "cell_type": "code",
      "metadata": {
        "id": "_nIDMmH9XhYn",
        "colab_type": "code",
        "outputId": "be59f4d4-ee36-47e7-cb9c-8e4009c2144a",
        "colab": {
          "base_uri": "https://localhost:8080/",
          "height": 35
        }
      },
      "source": [
        "model.lin.weight_moms"
      ],
      "execution_count": 0,
      "outputs": [
        {
          "output_type": "execute_result",
          "data": {
            "text/plain": [
              "-20"
            ]
          },
          "metadata": {
            "tags": []
          },
          "execution_count": 56
        }
      ]
    },
    {
      "cell_type": "code",
      "metadata": {
        "id": "uAKNoRdZfZPV",
        "colab_type": "code",
        "colab": {}
      },
      "source": [
        "acts = model(x)"
      ],
      "execution_count": 0,
      "outputs": []
    },
    {
      "cell_type": "code",
      "metadata": {
        "id": "rgzyBGwckKal",
        "colab_type": "code",
        "colab": {}
      },
      "source": [
        "preds = []\n",
        "for i in acts:\n",
        "  max_prob = i.max()\n",
        "  preds.append(list(i).index(max_prob))"
      ],
      "execution_count": 0,
      "outputs": []
    },
    {
      "cell_type": "code",
      "metadata": {
        "id": "E03BSYQtk56h",
        "colab_type": "code",
        "outputId": "6203729f-c486-4407-e0b2-185469255f56",
        "colab": {
          "base_uri": "https://localhost:8080/",
          "height": 35
        }
      },
      "source": [
        "len(preds)"
      ],
      "execution_count": 0,
      "outputs": [
        {
          "output_type": "execute_result",
          "data": {
            "text/plain": [
              "64"
            ]
          },
          "metadata": {
            "tags": []
          },
          "execution_count": 132
        }
      ]
    },
    {
      "cell_type": "code",
      "metadata": {
        "id": "mscFMnwukdjB",
        "colab_type": "code",
        "outputId": "4cea79a4-cddb-438d-c82e-acf1ae66627a",
        "colab": {
          "base_uri": "https://localhost:8080/",
          "height": 35
        }
      },
      "source": [
        "correct = 0\n",
        "for i in range (0, len(preds)):\n",
        "  if preds[i] == y[i]:\n",
        "    correct += 1\n",
        "acc = correct/len(preds)\n",
        "acc"
      ],
      "execution_count": 0,
      "outputs": [
        {
          "output_type": "execute_result",
          "data": {
            "text/plain": [
              "0.859375"
            ]
          },
          "metadata": {
            "tags": []
          },
          "execution_count": 136
        }
      ]
    },
    {
      "cell_type": "code",
      "metadata": {
        "id": "6F5MkynTkeNL",
        "colab_type": "code",
        "outputId": "acdc8d5c-788b-48df-9e58-2d150b47a93c",
        "colab": {
          "base_uri": "https://localhost:8080/",
          "height": 35
        }
      },
      "source": [
        "preds = []\n",
        "for i, k in data.valid_dl:\n",
        "  act = model(i)\n",
        "  for j in act:\n",
        "    max_prob = j.max()\n",
        "    preds.append(list(j).index(max_prob))\n",
        "\n",
        "correct_data = valid_ds.tensors[1]\n",
        "correct_preds = 0\n",
        "for i in range(len(preds)):\n",
        "  if preds[i] == correct_data[i]:\n",
        "    correct_preds +=1\n",
        "\n",
        "acc = correct_preds/len(preds)\n",
        "acc"
      ],
      "execution_count": 0,
      "outputs": [
        {
          "output_type": "execute_result",
          "data": {
            "text/plain": [
              "0.9125"
            ]
          },
          "metadata": {
            "tags": []
          },
          "execution_count": 33
        }
      ]
    },
    {
      "cell_type": "code",
      "metadata": {
        "id": "uOoq0BOTr6-J",
        "colab_type": "code",
        "colab": {}
      },
      "source": [
        ""
      ],
      "execution_count": 0,
      "outputs": []
    }
  ]
}