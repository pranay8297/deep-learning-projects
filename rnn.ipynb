{
  "nbformat": 4,
  "nbformat_minor": 0,
  "metadata": {
    "colab": {
      "name": "rnn.ipynb",
      "provenance": [],
      "collapsed_sections": [],
      "machine_shape": "hm",
      "authorship_tag": "ABX9TyN3pTmi9zSgTxQ1xtrUuwAh",
      "include_colab_link": true
    },
    "kernelspec": {
      "name": "python3",
      "display_name": "Python 3"
    },
    "accelerator": "GPU"
  },
  "cells": [
    {
      "cell_type": "markdown",
      "metadata": {
        "id": "view-in-github",
        "colab_type": "text"
      },
      "source": [
        "<a href=\"https://colab.research.google.com/github/pranay8297/deep-learning-projects/blob/master/rnn.ipynb\" target=\"_parent\"><img src=\"https://colab.research.google.com/assets/colab-badge.svg\" alt=\"Open In Colab\"/></a>"
      ]
    },
    {
      "cell_type": "code",
      "metadata": {
        "id": "li5z5zypTL40",
        "colab": {
          "base_uri": "https://localhost:8080/"
        },
        "outputId": "9e36f9ae-8218-4bd8-fca0-55a4a7a8b062"
      },
      "source": [
        "!pip install \"torch==1.4\" \"torchvision==0.5.0\" #use the old version"
      ],
      "execution_count": 2,
      "outputs": [
        {
          "output_type": "stream",
          "text": [
            "Requirement already satisfied: torch==1.4 in /usr/local/lib/python3.6/dist-packages (1.4.0)\n",
            "Requirement already satisfied: torchvision==0.5.0 in /usr/local/lib/python3.6/dist-packages (0.5.0)\n",
            "Requirement already satisfied: pillow>=4.1.1 in /usr/local/lib/python3.6/dist-packages (from torchvision==0.5.0) (7.0.0)\n",
            "Requirement already satisfied: numpy in /usr/local/lib/python3.6/dist-packages (from torchvision==0.5.0) (1.18.5)\n",
            "Requirement already satisfied: six in /usr/local/lib/python3.6/dist-packages (from torchvision==0.5.0) (1.15.0)\n"
          ],
          "name": "stdout"
        }
      ]
    },
    {
      "cell_type": "code",
      "metadata": {
        "id": "4fpuXpeYTMk4"
      },
      "source": [
        "from fastai import *\n",
        "from fastai.text import *"
      ],
      "execution_count": 3,
      "outputs": []
    },
    {
      "cell_type": "code",
      "metadata": {
        "id": "TFT77FhDUE_n",
        "colab": {
          "base_uri": "https://localhost:8080/"
        },
        "outputId": "be38eeca-ec3a-4226-bfeb-71f4c27692af"
      },
      "source": [
        "!pip install ipdb\n",
        "from ipdb import set_trace as st"
      ],
      "execution_count": 4,
      "outputs": [
        {
          "output_type": "stream",
          "text": [
            "Requirement already satisfied: ipdb in /usr/local/lib/python3.6/dist-packages (0.13.4)\n",
            "Requirement already satisfied: ipython>=5.1.0; python_version >= \"3.4\" in /usr/local/lib/python3.6/dist-packages (from ipdb) (5.5.0)\n",
            "Requirement already satisfied: setuptools in /usr/local/lib/python3.6/dist-packages (from ipdb) (50.3.2)\n",
            "Requirement already satisfied: prompt-toolkit<2.0.0,>=1.0.4 in /usr/local/lib/python3.6/dist-packages (from ipython>=5.1.0; python_version >= \"3.4\"->ipdb) (1.0.18)\n",
            "Requirement already satisfied: pickleshare in /usr/local/lib/python3.6/dist-packages (from ipython>=5.1.0; python_version >= \"3.4\"->ipdb) (0.7.5)\n",
            "Requirement already satisfied: pygments in /usr/local/lib/python3.6/dist-packages (from ipython>=5.1.0; python_version >= \"3.4\"->ipdb) (2.6.1)\n",
            "Requirement already satisfied: decorator in /usr/local/lib/python3.6/dist-packages (from ipython>=5.1.0; python_version >= \"3.4\"->ipdb) (4.4.2)\n",
            "Requirement already satisfied: simplegeneric>0.8 in /usr/local/lib/python3.6/dist-packages (from ipython>=5.1.0; python_version >= \"3.4\"->ipdb) (0.8.1)\n",
            "Requirement already satisfied: traitlets>=4.2 in /usr/local/lib/python3.6/dist-packages (from ipython>=5.1.0; python_version >= \"3.4\"->ipdb) (4.3.3)\n",
            "Requirement already satisfied: pexpect; sys_platform != \"win32\" in /usr/local/lib/python3.6/dist-packages (from ipython>=5.1.0; python_version >= \"3.4\"->ipdb) (4.8.0)\n",
            "Requirement already satisfied: wcwidth in /usr/local/lib/python3.6/dist-packages (from prompt-toolkit<2.0.0,>=1.0.4->ipython>=5.1.0; python_version >= \"3.4\"->ipdb) (0.2.5)\n",
            "Requirement already satisfied: six>=1.9.0 in /usr/local/lib/python3.6/dist-packages (from prompt-toolkit<2.0.0,>=1.0.4->ipython>=5.1.0; python_version >= \"3.4\"->ipdb) (1.15.0)\n",
            "Requirement already satisfied: ipython-genutils in /usr/local/lib/python3.6/dist-packages (from traitlets>=4.2->ipython>=5.1.0; python_version >= \"3.4\"->ipdb) (0.2.0)\n",
            "Requirement already satisfied: ptyprocess>=0.5 in /usr/local/lib/python3.6/dist-packages (from pexpect; sys_platform != \"win32\"->ipython>=5.1.0; python_version >= \"3.4\"->ipdb) (0.6.0)\n"
          ],
          "name": "stdout"
        }
      ]
    },
    {
      "cell_type": "code",
      "metadata": {
        "id": "uS4IyTNtTPxn"
      },
      "source": [
        "path = untar_data(URLs.HUMAN_NUMBERS)"
      ],
      "execution_count": 5,
      "outputs": []
    },
    {
      "cell_type": "code",
      "metadata": {
        "id": "1a9fjS13T4QT",
        "colab": {
          "base_uri": "https://localhost:8080/"
        },
        "outputId": "906f9a84-3639-4d62-c9b2-6b86b9ca0ca2"
      },
      "source": [
        "path.ls()"
      ],
      "execution_count": 6,
      "outputs": [
        {
          "output_type": "execute_result",
          "data": {
            "text/plain": [
              "[PosixPath('/root/.fastai/data/human_numbers/valid.txt'),\n",
              " PosixPath('/root/.fastai/data/human_numbers/train.txt')]"
            ]
          },
          "metadata": {
            "tags": []
          },
          "execution_count": 6
        }
      ]
    },
    {
      "cell_type": "code",
      "metadata": {
        "id": "qRfvnQmHT6vM"
      },
      "source": [
        "def get_list(fp):\n",
        "  x = ''\n",
        "  with open(fp, 'r') as f:\n",
        "    x = [', '.join(i.strip() for i in f.readlines())]\n",
        "  return x"
      ],
      "execution_count": 7,
      "outputs": []
    },
    {
      "cell_type": "code",
      "metadata": {
        "id": "NmI9mzSjVMo2",
        "colab": {
          "base_uri": "https://localhost:8080/",
          "height": 35
        },
        "outputId": "bf19f242-3d92-4a5a-bf99-10733a626fc9"
      },
      "source": [
        "train_txt, valid_txt = get_list(path/'train.txt'), get_list(path/'valid.txt')\n",
        "train_txt[0][:80]"
      ],
      "execution_count": 8,
      "outputs": [
        {
          "output_type": "execute_result",
          "data": {
            "application/vnd.google.colaboratory.intrinsic+json": {
              "type": "string"
            },
            "text/plain": [
              "'one, two, three, four, five, six, seven, eight, nine, ten, eleven, twelve, thirt'"
            ]
          },
          "metadata": {
            "tags": []
          },
          "execution_count": 8
        }
      ]
    },
    {
      "cell_type": "code",
      "metadata": {
        "id": "iLlzfNPpVanK",
        "colab": {
          "base_uri": "https://localhost:8080/",
          "height": 35
        },
        "outputId": "3efc76be-e614-4d6b-b71b-72014bceb9b4"
      },
      "source": [
        "valid_txt[0][:86]"
      ],
      "execution_count": 9,
      "outputs": [
        {
          "output_type": "execute_result",
          "data": {
            "application/vnd.google.colaboratory.intrinsic+json": {
              "type": "string"
            },
            "text/plain": [
              "'eight thousand one, eight thousand two, eight thousand three, eight thousand four, eig'"
            ]
          },
          "metadata": {
            "tags": []
          },
          "execution_count": 9
        }
      ]
    },
    {
      "cell_type": "code",
      "metadata": {
        "id": "jnVsmC3dVpSV"
      },
      "source": [
        "#data, split, label, transforms, databunch\n",
        "train_list = TextList(train_txt, path = path)\n",
        "valid_list = TextList(valid_txt, path = path)"
      ],
      "execution_count": 10,
      "outputs": []
    },
    {
      "cell_type": "code",
      "metadata": {
        "id": "5IiDXVceX4fb"
      },
      "source": [
        "bs = 32"
      ],
      "execution_count": 11,
      "outputs": []
    },
    {
      "cell_type": "code",
      "metadata": {
        "id": "3AXIDw9dXiFI",
        "colab": {
          "base_uri": "https://localhost:8080/",
          "height": 17
        },
        "outputId": "bdc7e90b-6cb9-4238-9d23-9ef6ce988ec4"
      },
      "source": [
        "\n",
        "src = ItemLists(path = path, train= train_list, valid = valid_list).label_for_lm()\n",
        "data = src.databunch(bs = bs) "
      ],
      "execution_count": 12,
      "outputs": [
        {
          "output_type": "display_data",
          "data": {
            "text/html": [
              ""
            ],
            "text/plain": [
              "<IPython.core.display.HTML object>"
            ]
          },
          "metadata": {
            "tags": []
          }
        },
        {
          "output_type": "display_data",
          "data": {
            "text/html": [
              ""
            ],
            "text/plain": [
              "<IPython.core.display.HTML object>"
            ]
          },
          "metadata": {
            "tags": []
          }
        }
      ]
    },
    {
      "cell_type": "code",
      "metadata": {
        "id": "PlBj5Vjk5WNk",
        "colab": {
          "base_uri": "https://localhost:8080/",
          "height": 289
        },
        "outputId": "03ebd802-7475-48ba-b8c3-013904efdb9b"
      },
      "source": [
        "data.show_batch()"
      ],
      "execution_count": 13,
      "outputs": [
        {
          "output_type": "display_data",
          "data": {
            "text/html": [
              "<table border=\"1\" class=\"dataframe\">\n",
              "  <thead>\n",
              "    <tr style=\"text-align: right;\">\n",
              "      <th>idx</th>\n",
              "      <th>text</th>\n",
              "    </tr>\n",
              "  </thead>\n",
              "  <tbody>\n",
              "    <tr>\n",
              "      <td>0</td>\n",
              "      <td>thirty one , thirty two , thirty three , thirty four , thirty five , thirty six , thirty seven , thirty eight , thirty nine , forty , forty one , forty two , forty three , forty four , forty five , forty six , forty seven , forty eight , forty nine , fifty , fifty one , fifty two , fifty three , fifty four ,</td>\n",
              "    </tr>\n",
              "    <tr>\n",
              "      <td>1</td>\n",
              "      <td>, three hundred ninety , three hundred ninety one , three hundred ninety two , three hundred ninety three , three hundred ninety four , three hundred ninety five , three hundred ninety six , three hundred ninety seven , three hundred ninety eight , three hundred ninety nine , four hundred , four hundred one , four hundred two , four hundred three , four hundred four , four</td>\n",
              "    </tr>\n",
              "    <tr>\n",
              "      <td>2</td>\n",
              "      <td>, seven hundred twenty five , seven hundred twenty six , seven hundred twenty seven , seven hundred twenty eight , seven hundred twenty nine , seven hundred thirty , seven hundred thirty one , seven hundred thirty two , seven hundred thirty three , seven hundred thirty four , seven hundred thirty five , seven hundred thirty six , seven hundred thirty seven , seven hundred thirty eight ,</td>\n",
              "    </tr>\n",
              "    <tr>\n",
              "      <td>3</td>\n",
              "      <td>, one thousand fifty six , one thousand fifty seven , one thousand fifty eight , one thousand fifty nine , one thousand sixty , one thousand sixty one , one thousand sixty two , one thousand sixty three , one thousand sixty four , one thousand sixty five , one thousand sixty six , one thousand sixty seven , one thousand sixty eight , one thousand sixty nine ,</td>\n",
              "    </tr>\n",
              "    <tr>\n",
              "      <td>4</td>\n",
              "      <td>thousand three hundred one , one thousand three hundred two , one thousand three hundred three , one thousand three hundred four , one thousand three hundred five , one thousand three hundred six , one thousand three hundred seven , one thousand three hundred eight , one thousand three hundred nine , one thousand three hundred ten , one thousand three hundred eleven , one thousand three hundred twelve</td>\n",
              "    </tr>\n",
              "  </tbody>\n",
              "</table>"
            ],
            "text/plain": [
              "<IPython.core.display.HTML object>"
            ]
          },
          "metadata": {
            "tags": []
          }
        }
      ]
    },
    {
      "cell_type": "code",
      "metadata": {
        "id": "S0BnRh4zYCAW",
        "colab": {
          "base_uri": "https://localhost:8080/"
        },
        "outputId": "a7aa6db5-2fdd-4275-8efb-144105198ff9"
      },
      "source": [
        "#test\n",
        "for i in data.train_dl:\n",
        "  x, y = i\n",
        "  break\n",
        "x, y"
      ],
      "execution_count": 14,
      "outputs": [
        {
          "output_type": "execute_result",
          "data": {
            "text/plain": [
              "(tensor([[24, 16,  9,  ..., 26, 19,  9],\n",
              "         [10, 16,  9,  ...,  9, 15, 10],\n",
              "         [18, 10, 22,  ...,  9, 18, 10],\n",
              "         ...,\n",
              "         [14, 10, 21,  ..., 18, 11, 14],\n",
              "         [24, 16,  9,  ..., 16, 10, 25],\n",
              "         [ 9, 18, 11,  ..., 28, 18,  9]], device='cuda:0'),\n",
              " tensor([[16,  9, 24,  ..., 19,  9, 26],\n",
              "         [16,  9, 15,  ..., 15, 10, 21],\n",
              "         [10, 22, 20,  ..., 18, 10, 24],\n",
              "         ...,\n",
              "         [10, 21, 14,  ..., 11, 14, 10],\n",
              "         [16,  9, 18,  ..., 10, 25, 16],\n",
              "         [18, 11, 18,  ..., 18,  9, 18]], device='cuda:0'))"
            ]
          },
          "metadata": {
            "tags": []
          },
          "execution_count": 14
        }
      ]
    },
    {
      "cell_type": "code",
      "metadata": {
        "id": "4YsYgvoL5mF-",
        "colab": {
          "base_uri": "https://localhost:8080/"
        },
        "outputId": "7317379d-0aaa-4089-f433-c0778785e062"
      },
      "source": [
        "#test\n",
        "x.shape, y.shape, data.batch_size, data.bptt\n",
        "# x[0, :], y[0, :], x[0, :].shape, x.shape"
      ],
      "execution_count": 15,
      "outputs": [
        {
          "output_type": "execute_result",
          "data": {
            "text/plain": [
              "(torch.Size([32, 70]), torch.Size([32, 70]), 32, 70)"
            ]
          },
          "metadata": {
            "tags": []
          },
          "execution_count": 15
        }
      ]
    },
    {
      "cell_type": "code",
      "metadata": {
        "id": "K96U7GX26ziL",
        "colab": {
          "base_uri": "https://localhost:8080/"
        },
        "outputId": "19e1a11b-348c-40a7-e54a-c31519634d9e"
      },
      "source": [
        "voc = data.valid_ds.vocab\n",
        "voc.textify(x[0]), voc.textify(x[1]), voc.textify(x[2])"
      ],
      "execution_count": 16,
      "outputs": [
        {
          "output_type": "execute_result",
          "data": {
            "text/plain": [
              "('fifty five , fifty six , fifty seven , fifty eight , fifty nine , sixty , sixty one , sixty two , sixty three , sixty four , sixty five , sixty six , sixty seven , sixty eight , sixty nine , seventy , seventy one , seventy two , seventy three , seventy four , seventy five , seventy six , seventy seven , seventy eight ,',\n",
              " 'hundred five , four hundred six , four hundred seven , four hundred eight , four hundred nine , four hundred ten , four hundred eleven , four hundred twelve , four hundred thirteen , four hundred fourteen , four hundred fifteen , four hundred sixteen , four hundred seventeen , four hundred eighteen , four hundred nineteen , four hundred twenty , four hundred twenty one , four hundred',\n",
              " 'seven hundred thirty nine , seven hundred forty , seven hundred forty one , seven hundred forty two , seven hundred forty three , seven hundred forty four , seven hundred forty five , seven hundred forty six , seven hundred forty seven , seven hundred forty eight , seven hundred forty nine , seven hundred fifty , seven hundred fifty one , seven hundred fifty two , seven hundred')"
            ]
          },
          "metadata": {
            "tags": []
          },
          "execution_count": 16
        }
      ]
    },
    {
      "cell_type": "code",
      "metadata": {
        "id": "Vv0-99CuEDeB",
        "colab": {
          "base_uri": "https://localhost:8080/"
        },
        "outputId": "25ecffe3-6799-4551-d470-0140667e1049"
      },
      "source": [
        "nv = len(voc.itos)\n",
        "np = 64\n",
        "nv, np"
      ],
      "execution_count": 17,
      "outputs": [
        {
          "output_type": "execute_result",
          "data": {
            "text/plain": [
              "(40, 64)"
            ]
          },
          "metadata": {
            "tags": []
          },
          "execution_count": 17
        }
      ]
    },
    {
      "cell_type": "code",
      "metadata": {
        "id": "s1wA7iBO76sz"
      },
      "source": [
        "class BasicRNN(nn.Module):\n",
        "\n",
        "  def __init__(self, nv = nv, np = np):\n",
        "    super().__init__()\n",
        "    #create three things\n",
        "    # 1 - embedding for all elements in the vocab\n",
        "    # 2 - a linear layer, for the elements\n",
        "    # 3 - final output layer\n",
        "    self.nv = nv\n",
        "    self.np = np\n",
        "    self.i_h = nn.Embedding(nv, np)\n",
        "    self.h_h = nn.Linear(np, np)\n",
        "    self.h_o = nn.Linear(np, nv)\n",
        "    # self.hbn = nn.BatchNorm1d(np)\n",
        "    self.bn = nn.BatchNorm1d(nv)\n",
        "  \n",
        "  def forward(self, x): \n",
        "    inter = torch.zeros(x.shape[0], self.np).cuda()\n",
        "    results = []\n",
        "    for i in range(x.shape[1]):\n",
        "      inter = inter + self.i_h(x[:, i])\n",
        "      inter = F.relu(self.h_h(inter))\n",
        "      results.append(F.relu(self.bn(self.h_o(inter))))\n",
        "    #results = [bs * nv] -- 70 * bs * nv -- bs * 70 * nv\n",
        "    return torch.stack(results, dim = 1)"
      ],
      "execution_count": 18,
      "outputs": []
    },
    {
      "cell_type": "code",
      "metadata": {
        "id": "NGD_4ht9Plp1",
        "colab": {
          "base_uri": "https://localhost:8080/",
          "height": 359
        },
        "outputId": "4395bdcc-3ac0-47ff-a58e-4b82f93d0e10"
      },
      "source": [
        "data = src.databunch(bs = bs) \n",
        "learn = Learner(data, BasicRNN(), metrics = accuracy)\n",
        "learn.fit(10, 2e-04)"
      ],
      "execution_count": 19,
      "outputs": [
        {
          "output_type": "display_data",
          "data": {
            "text/html": [
              "<table border=\"1\" class=\"dataframe\">\n",
              "  <thead>\n",
              "    <tr style=\"text-align: left;\">\n",
              "      <th>epoch</th>\n",
              "      <th>train_loss</th>\n",
              "      <th>valid_loss</th>\n",
              "      <th>accuracy</th>\n",
              "      <th>time</th>\n",
              "    </tr>\n",
              "  </thead>\n",
              "  <tbody>\n",
              "    <tr>\n",
              "      <td>0</td>\n",
              "      <td>3.817346</td>\n",
              "      <td>3.824679</td>\n",
              "      <td>0.044122</td>\n",
              "      <td>00:01</td>\n",
              "    </tr>\n",
              "    <tr>\n",
              "      <td>1</td>\n",
              "      <td>3.647908</td>\n",
              "      <td>3.620663</td>\n",
              "      <td>0.112426</td>\n",
              "      <td>00:01</td>\n",
              "    </tr>\n",
              "    <tr>\n",
              "      <td>2</td>\n",
              "      <td>3.488135</td>\n",
              "      <td>3.438249</td>\n",
              "      <td>0.196577</td>\n",
              "      <td>00:01</td>\n",
              "    </tr>\n",
              "    <tr>\n",
              "      <td>3</td>\n",
              "      <td>3.341751</td>\n",
              "      <td>3.306069</td>\n",
              "      <td>0.236830</td>\n",
              "      <td>00:01</td>\n",
              "    </tr>\n",
              "    <tr>\n",
              "      <td>4</td>\n",
              "      <td>3.198624</td>\n",
              "      <td>3.170939</td>\n",
              "      <td>0.281250</td>\n",
              "      <td>00:01</td>\n",
              "    </tr>\n",
              "    <tr>\n",
              "      <td>5</td>\n",
              "      <td>3.052634</td>\n",
              "      <td>3.079615</td>\n",
              "      <td>0.326860</td>\n",
              "      <td>00:01</td>\n",
              "    </tr>\n",
              "    <tr>\n",
              "      <td>6</td>\n",
              "      <td>2.936489</td>\n",
              "      <td>3.016442</td>\n",
              "      <td>0.439955</td>\n",
              "      <td>00:01</td>\n",
              "    </tr>\n",
              "    <tr>\n",
              "      <td>7</td>\n",
              "      <td>2.848446</td>\n",
              "      <td>2.962659</td>\n",
              "      <td>0.460863</td>\n",
              "      <td>00:01</td>\n",
              "    </tr>\n",
              "    <tr>\n",
              "      <td>8</td>\n",
              "      <td>2.781214</td>\n",
              "      <td>2.918238</td>\n",
              "      <td>0.463393</td>\n",
              "      <td>00:01</td>\n",
              "    </tr>\n",
              "    <tr>\n",
              "      <td>9</td>\n",
              "      <td>2.728839</td>\n",
              "      <td>2.884341</td>\n",
              "      <td>0.464062</td>\n",
              "      <td>00:01</td>\n",
              "    </tr>\n",
              "  </tbody>\n",
              "</table>"
            ],
            "text/plain": [
              "<IPython.core.display.HTML object>"
            ]
          },
          "metadata": {
            "tags": []
          }
        }
      ]
    },
    {
      "cell_type": "code",
      "metadata": {
        "id": "gy-y6doQLHjW"
      },
      "source": [
        "np, nv = 64, 40\n",
        "class RNN(nn.Module):\n",
        "\n",
        "  def __init__(self, nv = nv, np = np):\n",
        "    super().__init__()\n",
        "    #create three things\n",
        "    # 1 - embedding for all elements in the vocab\n",
        "    # 2 - a linear layer, for the elements\n",
        "    # 3 - final output layer\n",
        "    self.nv = nv\n",
        "    self.np = np\n",
        "    self.i_h = nn.Embedding(nv, np)\n",
        "    self.h_h = nn.Linear(np, np)\n",
        "    self.h_o = nn.Linear(np, nv) \n",
        "    # self.hbn = nn.BatchNorm1d(np)\n",
        "    self.bn = nn.BatchNorm1d(np)\n",
        "\n",
        "    self.h = torch.zeros(bs, np).cuda()\n",
        "  \n",
        "  def forward(self, x): \n",
        "    results = []\n",
        "    h = self.h\n",
        "\n",
        "    for i in range(x.shape[1]):\n",
        "      h = h + self.i_h(x[:, i])\n",
        "      h = F.relu(self.h_h(h))\n",
        "      results.append(self.bn(h))\n",
        "    self.h = h.detach()\n",
        "    hop = torch.stack(results, dim = 1)\n",
        "\n",
        "    return self.h_o(hop)"
      ],
      "execution_count": 20,
      "outputs": []
    },
    {
      "cell_type": "code",
      "metadata": {
        "id": "7ojDiwXZNivW"
      },
      "source": [
        "data = src.databunch(bs = bs) \n",
        "learn = Learner(data, RNN(), metrics = accuracy)\n",
        "# learn.lr_find()\n",
        "# learn.recorder.plot()"
      ],
      "execution_count": 21,
      "outputs": []
    },
    {
      "cell_type": "code",
      "metadata": {
        "id": "N1OHNIFgKIQo",
        "colab": {
          "base_uri": "https://localhost:8080/",
          "height": 669
        },
        "outputId": "83a5397e-fd3a-4f14-86e2-21ebea13ff64"
      },
      "source": [
        "learn.fit_one_cycle(20, 1e-02)"
      ],
      "execution_count": 22,
      "outputs": [
        {
          "output_type": "display_data",
          "data": {
            "text/html": [
              "<table border=\"1\" class=\"dataframe\">\n",
              "  <thead>\n",
              "    <tr style=\"text-align: left;\">\n",
              "      <th>epoch</th>\n",
              "      <th>train_loss</th>\n",
              "      <th>valid_loss</th>\n",
              "      <th>accuracy</th>\n",
              "      <th>time</th>\n",
              "    </tr>\n",
              "  </thead>\n",
              "  <tbody>\n",
              "    <tr>\n",
              "      <td>0</td>\n",
              "      <td>3.499468</td>\n",
              "      <td>3.364264</td>\n",
              "      <td>0.200446</td>\n",
              "      <td>00:00</td>\n",
              "    </tr>\n",
              "    <tr>\n",
              "      <td>1</td>\n",
              "      <td>2.854791</td>\n",
              "      <td>2.357405</td>\n",
              "      <td>0.460119</td>\n",
              "      <td>00:00</td>\n",
              "    </tr>\n",
              "    <tr>\n",
              "      <td>2</td>\n",
              "      <td>2.255984</td>\n",
              "      <td>2.194283</td>\n",
              "      <td>0.321875</td>\n",
              "      <td>00:00</td>\n",
              "    </tr>\n",
              "    <tr>\n",
              "      <td>3</td>\n",
              "      <td>1.912476</td>\n",
              "      <td>1.928476</td>\n",
              "      <td>0.406473</td>\n",
              "      <td>00:00</td>\n",
              "    </tr>\n",
              "    <tr>\n",
              "      <td>4</td>\n",
              "      <td>1.686827</td>\n",
              "      <td>1.901992</td>\n",
              "      <td>0.495685</td>\n",
              "      <td>00:00</td>\n",
              "    </tr>\n",
              "    <tr>\n",
              "      <td>5</td>\n",
              "      <td>1.504780</td>\n",
              "      <td>1.674297</td>\n",
              "      <td>0.544866</td>\n",
              "      <td>00:00</td>\n",
              "    </tr>\n",
              "    <tr>\n",
              "      <td>6</td>\n",
              "      <td>1.346680</td>\n",
              "      <td>1.809912</td>\n",
              "      <td>0.554316</td>\n",
              "      <td>00:00</td>\n",
              "    </tr>\n",
              "    <tr>\n",
              "      <td>7</td>\n",
              "      <td>1.192134</td>\n",
              "      <td>1.634190</td>\n",
              "      <td>0.570833</td>\n",
              "      <td>00:00</td>\n",
              "    </tr>\n",
              "    <tr>\n",
              "      <td>8</td>\n",
              "      <td>1.044613</td>\n",
              "      <td>1.763974</td>\n",
              "      <td>0.519568</td>\n",
              "      <td>00:00</td>\n",
              "    </tr>\n",
              "    <tr>\n",
              "      <td>9</td>\n",
              "      <td>0.918049</td>\n",
              "      <td>1.633131</td>\n",
              "      <td>0.574628</td>\n",
              "      <td>00:00</td>\n",
              "    </tr>\n",
              "    <tr>\n",
              "      <td>10</td>\n",
              "      <td>0.805927</td>\n",
              "      <td>1.508314</td>\n",
              "      <td>0.610491</td>\n",
              "      <td>00:00</td>\n",
              "    </tr>\n",
              "    <tr>\n",
              "      <td>11</td>\n",
              "      <td>0.707339</td>\n",
              "      <td>1.493798</td>\n",
              "      <td>0.588839</td>\n",
              "      <td>00:00</td>\n",
              "    </tr>\n",
              "    <tr>\n",
              "      <td>12</td>\n",
              "      <td>0.618605</td>\n",
              "      <td>1.392845</td>\n",
              "      <td>0.651637</td>\n",
              "      <td>00:00</td>\n",
              "    </tr>\n",
              "    <tr>\n",
              "      <td>13</td>\n",
              "      <td>0.540943</td>\n",
              "      <td>1.422676</td>\n",
              "      <td>0.647545</td>\n",
              "      <td>00:00</td>\n",
              "    </tr>\n",
              "    <tr>\n",
              "      <td>14</td>\n",
              "      <td>0.476027</td>\n",
              "      <td>1.429161</td>\n",
              "      <td>0.658036</td>\n",
              "      <td>00:00</td>\n",
              "    </tr>\n",
              "    <tr>\n",
              "      <td>15</td>\n",
              "      <td>0.426562</td>\n",
              "      <td>1.496397</td>\n",
              "      <td>0.643527</td>\n",
              "      <td>00:00</td>\n",
              "    </tr>\n",
              "    <tr>\n",
              "      <td>16</td>\n",
              "      <td>0.385808</td>\n",
              "      <td>1.585929</td>\n",
              "      <td>0.626860</td>\n",
              "      <td>00:00</td>\n",
              "    </tr>\n",
              "    <tr>\n",
              "      <td>17</td>\n",
              "      <td>0.353185</td>\n",
              "      <td>1.533374</td>\n",
              "      <td>0.637277</td>\n",
              "      <td>00:00</td>\n",
              "    </tr>\n",
              "    <tr>\n",
              "      <td>18</td>\n",
              "      <td>0.327476</td>\n",
              "      <td>1.547481</td>\n",
              "      <td>0.631324</td>\n",
              "      <td>00:00</td>\n",
              "    </tr>\n",
              "    <tr>\n",
              "      <td>19</td>\n",
              "      <td>0.309941</td>\n",
              "      <td>1.525858</td>\n",
              "      <td>0.644940</td>\n",
              "      <td>00:00</td>\n",
              "    </tr>\n",
              "  </tbody>\n",
              "</table>"
            ],
            "text/plain": [
              "<IPython.core.display.HTML object>"
            ]
          },
          "metadata": {
            "tags": []
          }
        }
      ]
    },
    {
      "cell_type": "code",
      "metadata": {
        "id": "6O8NouwXSK-F"
      },
      "source": [
        "nh = np\n",
        "class Model3(nn.Module):\n",
        "    def __init__(self):\n",
        "        super().__init__()\n",
        "        self.i_h = nn.Embedding(nv,nh)\n",
        "        self.h_h = nn.Linear(nh,nh)\n",
        "        self.h_o = nn.Linear(nh,nv)\n",
        "        self.bn = nn.BatchNorm1d(nh)\n",
        "        self.h = torch.zeros(bs, nh).cuda()\n",
        "        \n",
        "    def forward(self, x):\n",
        "        res = []\n",
        "        h = self.h\n",
        "        for i in range(x.shape[1]):\n",
        "            h = h + self.i_h(x[:,i])\n",
        "            h = F.relu(self.h_h(h))\n",
        "            res.append(self.bn(h))\n",
        "        self.h = h.detach()\n",
        "        res = torch.stack(res, dim=1)\n",
        "        res = self.h_o(res)\n",
        "        return res\n",
        "  \n",
        "learn = Learner(data, Model3(), metrics=accuracy)\n",
        "learn.fit_one_cycle(20, 3e-3)"
      ],
      "execution_count": null,
      "outputs": []
    },
    {
      "cell_type": "code",
      "metadata": {
        "colab": {
          "base_uri": "https://localhost:8080/"
        },
        "id": "LBNk-RIlQUpa",
        "outputId": "4b721e5e-aa48-4014-dee6-d5364ff03fb4"
      },
      "source": [
        "#test\n",
        "res = model.i_h(x)\n",
        "res.shape\n",
        "rnn = nn.RNN(64, 64, batch_first = True).cuda()\n",
        "y, h = rnn(res, torch.zeros(1, bs, np).cuda())\n",
        "y.shape, h.shape"
      ],
      "execution_count": 26,
      "outputs": [
        {
          "output_type": "execute_result",
          "data": {
            "text/plain": [
              "(torch.Size([32, 70, 64]), torch.Size([1, 32, 64]))"
            ]
          },
          "metadata": {
            "tags": []
          },
          "execution_count": 26
        }
      ]
    },
    {
      "cell_type": "code",
      "metadata": {
        "id": "-ORim4k1TTiB"
      },
      "source": [
        "class nnRNN(nn.Module):\n",
        "  def __init__(self, nv = nv, np = np):\n",
        "    super().__init__()\n",
        "    self.i_h = nn.Embedding(nv, np)\n",
        "    self.rnn = nn.RNN(np, np*2, batch_first = True)\n",
        "    self.h_o = nn.Linear(np*2, nv)\n",
        "    self.bn = BatchNorm1dFlat(np*2)\n",
        "    self.h = torch.zeros(1, bs, np*2).cuda()\n",
        "\n",
        "  def forward(self, x):\n",
        "\n",
        "    h = self.h\n",
        "    res, h = self.rnn(self.i_h(x), h)\n",
        "    self.h = h.detach()\n",
        "    return self.h_o(self.bn(res))"
      ],
      "execution_count": 43,
      "outputs": []
    },
    {
      "cell_type": "code",
      "metadata": {
        "colab": {
          "base_uri": "https://localhost:8080/"
        },
        "id": "FjwTO1ZUXBh5",
        "outputId": "66c9fd64-f1a5-4339-8ac6-80c662bb5c11"
      },
      "source": [
        "#test\n",
        "rnn = nnRNN().cuda()\n",
        "res = rnn(x)\n",
        "res.shape"
      ],
      "execution_count": 44,
      "outputs": [
        {
          "output_type": "execute_result",
          "data": {
            "text/plain": [
              "torch.Size([32, 70, 40])"
            ]
          },
          "metadata": {
            "tags": []
          },
          "execution_count": 44
        }
      ]
    },
    {
      "cell_type": "code",
      "metadata": {
        "id": "FB_AOrKhZPqX"
      },
      "source": [
        "data = src.databunch(bs = bs)\n",
        "learn = Learner(data, nnRNN(), metrics = accuracy)"
      ],
      "execution_count": 48,
      "outputs": []
    },
    {
      "cell_type": "code",
      "metadata": {
        "colab": {
          "base_uri": "https://localhost:8080/",
          "height": 498
        },
        "id": "ZCq8JpMIZdV-",
        "outputId": "7c1f7f2c-eb73-4518-ddcd-1fae015823c4"
      },
      "source": [
        "learn.lr_find()\n",
        "learn.recorder.plot()"
      ],
      "execution_count": 47,
      "outputs": [
        {
          "output_type": "display_data",
          "data": {
            "text/html": [
              "\n",
              "    <div>\n",
              "        <style>\n",
              "            /* Turns off some styling */\n",
              "            progress {\n",
              "                /* gets rid of default border in Firefox and Opera. */\n",
              "                border: none;\n",
              "                /* Needs to be in here for Safari polyfill so background images work as expected. */\n",
              "                background-size: auto;\n",
              "            }\n",
              "            .progress-bar-interrupted, .progress-bar-interrupted::-webkit-progress-bar {\n",
              "                background: #F44336;\n",
              "            }\n",
              "        </style>\n",
              "      <progress value='4' class='' max='5' style='width:300px; height:20px; vertical-align: middle;'></progress>\n",
              "      80.00% [4/5 00:00<00:00]\n",
              "    </div>\n",
              "    \n",
              "<table border=\"1\" class=\"dataframe\">\n",
              "  <thead>\n",
              "    <tr style=\"text-align: left;\">\n",
              "      <th>epoch</th>\n",
              "      <th>train_loss</th>\n",
              "      <th>valid_loss</th>\n",
              "      <th>accuracy</th>\n",
              "      <th>time</th>\n",
              "    </tr>\n",
              "  </thead>\n",
              "  <tbody>\n",
              "    <tr>\n",
              "      <td>0</td>\n",
              "      <td>3.901995</td>\n",
              "      <td>#na#</td>\n",
              "      <td>00:00</td>\n",
              "    </tr>\n",
              "    <tr>\n",
              "      <td>1</td>\n",
              "      <td>3.820704</td>\n",
              "      <td>#na#</td>\n",
              "      <td>00:00</td>\n",
              "    </tr>\n",
              "    <tr>\n",
              "      <td>2</td>\n",
              "      <td>2.967600</td>\n",
              "      <td>#na#</td>\n",
              "      <td>00:00</td>\n",
              "    </tr>\n",
              "    <tr>\n",
              "      <td>3</td>\n",
              "      <td>6.684242</td>\n",
              "      <td>#na#</td>\n",
              "      <td>00:00</td>\n",
              "    </tr>\n",
              "  </tbody>\n",
              "</table><p>\n",
              "\n",
              "    <div>\n",
              "        <style>\n",
              "            /* Turns off some styling */\n",
              "            progress {\n",
              "                /* gets rid of default border in Firefox and Opera. */\n",
              "                border: none;\n",
              "                /* Needs to be in here for Safari polyfill so background images work as expected. */\n",
              "                background-size: auto;\n",
              "            }\n",
              "            .progress-bar-interrupted, .progress-bar-interrupted::-webkit-progress-bar {\n",
              "                background: #F44336;\n",
              "            }\n",
              "        </style>\n",
              "      <progress value='0' class='' max='23' style='width:300px; height:20px; vertical-align: middle;'></progress>\n",
              "      0.00% [0/23 00:00<00:00]\n",
              "    </div>\n",
              "    "
            ],
            "text/plain": [
              "<IPython.core.display.HTML object>"
            ]
          },
          "metadata": {
            "tags": []
          }
        },
        {
          "output_type": "stream",
          "text": [
            "LR Finder is complete, type {learner_name}.recorder.plot() to see the graph.\n"
          ],
          "name": "stdout"
        },
        {
          "output_type": "display_data",
          "data": {
            "image/png": "[encoded data removed]",
            "text/plain": [
              "<Figure size 432x288 with 1 Axes>"
            ]
          },
          "metadata": {
            "tags": [],
            "needs_background": "light"
          }
        }
      ]
    },
    {
      "cell_type": "code",
      "metadata": {
        "colab": {
          "base_uri": "https://localhost:8080/",
          "height": 669
        },
        "id": "ZaOpv-gEZki9",
        "outputId": "6eea037c-3ec3-42ff-e827-bc6e3ff155c2"
      },
      "source": [
        "learn.fit_one_cycle(20, 3e-03)"
      ],
      "execution_count": 49,
      "outputs": [
        {
          "output_type": "display_data",
          "data": {
            "text/html": [
              "<table border=\"1\" class=\"dataframe\">\n",
              "  <thead>\n",
              "    <tr style=\"text-align: left;\">\n",
              "      <th>epoch</th>\n",
              "      <th>train_loss</th>\n",
              "      <th>valid_loss</th>\n",
              "      <th>accuracy</th>\n",
              "      <th>time</th>\n",
              "    </tr>\n",
              "  </thead>\n",
              "  <tbody>\n",
              "    <tr>\n",
              "      <td>0</td>\n",
              "      <td>3.534980</td>\n",
              "      <td>3.259452</td>\n",
              "      <td>0.277604</td>\n",
              "      <td>00:00</td>\n",
              "    </tr>\n",
              "    <tr>\n",
              "      <td>1</td>\n",
              "      <td>2.820182</td>\n",
              "      <td>2.142501</td>\n",
              "      <td>0.464881</td>\n",
              "      <td>00:00</td>\n",
              "    </tr>\n",
              "    <tr>\n",
              "      <td>2</td>\n",
              "      <td>2.268466</td>\n",
              "      <td>2.038642</td>\n",
              "      <td>0.398810</td>\n",
              "      <td>00:00</td>\n",
              "    </tr>\n",
              "    <tr>\n",
              "      <td>3</td>\n",
              "      <td>1.939981</td>\n",
              "      <td>1.928808</td>\n",
              "      <td>0.392039</td>\n",
              "      <td>00:00</td>\n",
              "    </tr>\n",
              "    <tr>\n",
              "      <td>4</td>\n",
              "      <td>1.719438</td>\n",
              "      <td>1.821913</td>\n",
              "      <td>0.445238</td>\n",
              "      <td>00:00</td>\n",
              "    </tr>\n",
              "    <tr>\n",
              "      <td>5</td>\n",
              "      <td>1.535639</td>\n",
              "      <td>1.722762</td>\n",
              "      <td>0.497842</td>\n",
              "      <td>00:00</td>\n",
              "    </tr>\n",
              "    <tr>\n",
              "      <td>6</td>\n",
              "      <td>1.349714</td>\n",
              "      <td>1.757980</td>\n",
              "      <td>0.491146</td>\n",
              "      <td>00:00</td>\n",
              "    </tr>\n",
              "    <tr>\n",
              "      <td>7</td>\n",
              "      <td>1.166018</td>\n",
              "      <td>1.338645</td>\n",
              "      <td>0.574479</td>\n",
              "      <td>00:00</td>\n",
              "    </tr>\n",
              "    <tr>\n",
              "      <td>8</td>\n",
              "      <td>1.001379</td>\n",
              "      <td>1.238427</td>\n",
              "      <td>0.613393</td>\n",
              "      <td>00:00</td>\n",
              "    </tr>\n",
              "    <tr>\n",
              "      <td>9</td>\n",
              "      <td>0.835347</td>\n",
              "      <td>1.191368</td>\n",
              "      <td>0.623437</td>\n",
              "      <td>00:00</td>\n",
              "    </tr>\n",
              "    <tr>\n",
              "      <td>10</td>\n",
              "      <td>0.690752</td>\n",
              "      <td>1.061225</td>\n",
              "      <td>0.651414</td>\n",
              "      <td>00:00</td>\n",
              "    </tr>\n",
              "    <tr>\n",
              "      <td>11</td>\n",
              "      <td>0.567681</td>\n",
              "      <td>1.124883</td>\n",
              "      <td>0.643750</td>\n",
              "      <td>00:00</td>\n",
              "    </tr>\n",
              "    <tr>\n",
              "      <td>12</td>\n",
              "      <td>0.467129</td>\n",
              "      <td>1.128039</td>\n",
              "      <td>0.648214</td>\n",
              "      <td>00:00</td>\n",
              "    </tr>\n",
              "    <tr>\n",
              "      <td>13</td>\n",
              "      <td>0.386426</td>\n",
              "      <td>1.116434</td>\n",
              "      <td>0.672247</td>\n",
              "      <td>00:00</td>\n",
              "    </tr>\n",
              "    <tr>\n",
              "      <td>14</td>\n",
              "      <td>0.322921</td>\n",
              "      <td>1.035568</td>\n",
              "      <td>0.682292</td>\n",
              "      <td>00:00</td>\n",
              "    </tr>\n",
              "    <tr>\n",
              "      <td>15</td>\n",
              "      <td>0.273545</td>\n",
              "      <td>1.078229</td>\n",
              "      <td>0.673289</td>\n",
              "      <td>00:00</td>\n",
              "    </tr>\n",
              "    <tr>\n",
              "      <td>16</td>\n",
              "      <td>0.235988</td>\n",
              "      <td>1.138119</td>\n",
              "      <td>0.674479</td>\n",
              "      <td>00:00</td>\n",
              "    </tr>\n",
              "    <tr>\n",
              "      <td>17</td>\n",
              "      <td>0.208710</td>\n",
              "      <td>1.159675</td>\n",
              "      <td>0.664211</td>\n",
              "      <td>00:00</td>\n",
              "    </tr>\n",
              "    <tr>\n",
              "      <td>18</td>\n",
              "      <td>0.189580</td>\n",
              "      <td>1.201823</td>\n",
              "      <td>0.660417</td>\n",
              "      <td>00:00</td>\n",
              "    </tr>\n",
              "    <tr>\n",
              "      <td>19</td>\n",
              "      <td>0.176582</td>\n",
              "      <td>1.164224</td>\n",
              "      <td>0.667560</td>\n",
              "      <td>00:00</td>\n",
              "    </tr>\n",
              "  </tbody>\n",
              "</table>"
            ],
            "text/plain": [
              "<IPython.core.display.HTML object>"
            ]
          },
          "metadata": {
            "tags": []
          }
        }
      ]
    },
    {
      "cell_type": "code",
      "metadata": {
        "id": "G94orsJvZtKT"
      },
      "source": [
        "class MultiRNN(nn.Module):\n",
        "  def __init__(self, nv = nv, np = np):\n",
        "    super().__init__()\n",
        "    self.i_h = nn.Embedding(nv, np)\n",
        "    self.rnn = nn.RNN(np, np*2, num_layers = 2, batch_first = True)\n",
        "    self.h_o = nn.Linear(np*2, nv)\n",
        "    self.bn = BatchNorm1dFlat(np*2)\n",
        "    self.h = torch.zeros(2, bs, np*2).cuda()\n",
        "\n",
        "  def forward(self, x):\n",
        "    h = self.h\n",
        "    res, h = self.rnn(self.i_h(x), h)\n",
        "    self.h = h.detach()\n",
        "    return self.h_o(self.bn(res))"
      ],
      "execution_count": 50,
      "outputs": []
    },
    {
      "cell_type": "code",
      "metadata": {
        "colab": {
          "base_uri": "https://localhost:8080/"
        },
        "id": "Dm2itD8cZ2nd",
        "outputId": "63214986-a457-42f9-fdcb-d486e9314574"
      },
      "source": [
        "#test\n",
        "rnn = MultiRNN().cuda()\n",
        "res = rnn(x)\n",
        "res.shape"
      ],
      "execution_count": 52,
      "outputs": [
        {
          "output_type": "execute_result",
          "data": {
            "text/plain": [
              "torch.Size([32, 70, 40])"
            ]
          },
          "metadata": {
            "tags": []
          },
          "execution_count": 52
        }
      ]
    },
    {
      "cell_type": "code",
      "metadata": {
        "id": "EiScrs4lZ_Yd"
      },
      "source": [
        "data = src.databunch(bs= bs)\n",
        "learn = Learner(data, rnn, metrics = accuracy)"
      ],
      "execution_count": 55,
      "outputs": []
    },
    {
      "cell_type": "code",
      "metadata": {
        "colab": {
          "base_uri": "https://localhost:8080/",
          "height": 498
        },
        "id": "zxdoFM3ba-Vl",
        "outputId": "d85ac24f-8dd0-421b-fc61-745eb5c4de62"
      },
      "source": [
        "learn.lr_find()\n",
        "learn.recorder.plot()"
      ],
      "execution_count": 54,
      "outputs": [
        {
          "output_type": "display_data",
          "data": {
            "text/html": [
              "\n",
              "    <div>\n",
              "        <style>\n",
              "            /* Turns off some styling */\n",
              "            progress {\n",
              "                /* gets rid of default border in Firefox and Opera. */\n",
              "                border: none;\n",
              "                /* Needs to be in here for Safari polyfill so background images work as expected. */\n",
              "                background-size: auto;\n",
              "            }\n",
              "            .progress-bar-interrupted, .progress-bar-interrupted::-webkit-progress-bar {\n",
              "                background: #F44336;\n",
              "            }\n",
              "        </style>\n",
              "      <progress value='4' class='' max='5' style='width:300px; height:20px; vertical-align: middle;'></progress>\n",
              "      80.00% [4/5 00:00<00:00]\n",
              "    </div>\n",
              "    \n",
              "<table border=\"1\" class=\"dataframe\">\n",
              "  <thead>\n",
              "    <tr style=\"text-align: left;\">\n",
              "      <th>epoch</th>\n",
              "      <th>train_loss</th>\n",
              "      <th>valid_loss</th>\n",
              "      <th>accuracy</th>\n",
              "      <th>time</th>\n",
              "    </tr>\n",
              "  </thead>\n",
              "  <tbody>\n",
              "    <tr>\n",
              "      <td>0</td>\n",
              "      <td>3.869021</td>\n",
              "      <td>#na#</td>\n",
              "      <td>00:00</td>\n",
              "    </tr>\n",
              "    <tr>\n",
              "      <td>1</td>\n",
              "      <td>3.719386</td>\n",
              "      <td>#na#</td>\n",
              "      <td>00:00</td>\n",
              "    </tr>\n",
              "    <tr>\n",
              "      <td>2</td>\n",
              "      <td>2.838030</td>\n",
              "      <td>#na#</td>\n",
              "      <td>00:00</td>\n",
              "    </tr>\n",
              "    <tr>\n",
              "      <td>3</td>\n",
              "      <td>7.428294</td>\n",
              "      <td>#na#</td>\n",
              "      <td>00:00</td>\n",
              "    </tr>\n",
              "  </tbody>\n",
              "</table><p>\n",
              "\n",
              "    <div>\n",
              "        <style>\n",
              "            /* Turns off some styling */\n",
              "            progress {\n",
              "                /* gets rid of default border in Firefox and Opera. */\n",
              "                border: none;\n",
              "                /* Needs to be in here for Safari polyfill so background images work as expected. */\n",
              "                background-size: auto;\n",
              "            }\n",
              "            .progress-bar-interrupted, .progress-bar-interrupted::-webkit-progress-bar {\n",
              "                background: #F44336;\n",
              "            }\n",
              "        </style>\n",
              "      <progress value='1' class='' max='23' style='width:300px; height:20px; vertical-align: middle;'></progress>\n",
              "      4.35% [1/23 00:00<00:00 9.9952]\n",
              "    </div>\n",
              "    "
            ],
            "text/plain": [
              "<IPython.core.display.HTML object>"
            ]
          },
          "metadata": {
            "tags": []
          }
        },
        {
          "output_type": "stream",
          "text": [
            "LR Finder is complete, type {learner_name}.recorder.plot() to see the graph.\n"
          ],
          "name": "stdout"
        },
        {
          "output_type": "display_data",
          "data": {
            "image/png": "[encoded data removed]",
            "text/plain": [
              "<Figure size 432x288 with 1 Axes>"
            ]
          },
          "metadata": {
            "tags": [],
            "needs_background": "light"
          }
        }
      ]
    },
    {
      "cell_type": "code",
      "metadata": {
        "colab": {
          "base_uri": "https://localhost:8080/",
          "height": 669
        },
        "id": "kiLpcPSrbDRA",
        "outputId": "1588220e-064d-4a0d-debc-274293186c91"
      },
      "source": [
        "learn.fit_one_cycle(20, 3e-03)"
      ],
      "execution_count": 56,
      "outputs": [
        {
          "output_type": "display_data",
          "data": {
            "text/html": [
              "<table border=\"1\" class=\"dataframe\">\n",
              "  <thead>\n",
              "    <tr style=\"text-align: left;\">\n",
              "      <th>epoch</th>\n",
              "      <th>train_loss</th>\n",
              "      <th>valid_loss</th>\n",
              "      <th>accuracy</th>\n",
              "      <th>time</th>\n",
              "    </tr>\n",
              "  </thead>\n",
              "  <tbody>\n",
              "    <tr>\n",
              "      <td>0</td>\n",
              "      <td>3.186336</td>\n",
              "      <td>2.769896</td>\n",
              "      <td>0.423363</td>\n",
              "      <td>00:00</td>\n",
              "    </tr>\n",
              "    <tr>\n",
              "      <td>1</td>\n",
              "      <td>2.528634</td>\n",
              "      <td>2.180074</td>\n",
              "      <td>0.468304</td>\n",
              "      <td>00:00</td>\n",
              "    </tr>\n",
              "    <tr>\n",
              "      <td>2</td>\n",
              "      <td>2.084182</td>\n",
              "      <td>1.975780</td>\n",
              "      <td>0.472768</td>\n",
              "      <td>00:00</td>\n",
              "    </tr>\n",
              "    <tr>\n",
              "      <td>3</td>\n",
              "      <td>1.781408</td>\n",
              "      <td>1.585398</td>\n",
              "      <td>0.528199</td>\n",
              "      <td>00:00</td>\n",
              "    </tr>\n",
              "    <tr>\n",
              "      <td>4</td>\n",
              "      <td>1.457933</td>\n",
              "      <td>1.361050</td>\n",
              "      <td>0.618378</td>\n",
              "      <td>00:00</td>\n",
              "    </tr>\n",
              "    <tr>\n",
              "      <td>5</td>\n",
              "      <td>1.105414</td>\n",
              "      <td>0.867623</td>\n",
              "      <td>0.725446</td>\n",
              "      <td>00:00</td>\n",
              "    </tr>\n",
              "    <tr>\n",
              "      <td>6</td>\n",
              "      <td>0.800234</td>\n",
              "      <td>0.625821</td>\n",
              "      <td>0.813616</td>\n",
              "      <td>00:00</td>\n",
              "    </tr>\n",
              "    <tr>\n",
              "      <td>7</td>\n",
              "      <td>0.564964</td>\n",
              "      <td>0.548071</td>\n",
              "      <td>0.845536</td>\n",
              "      <td>00:00</td>\n",
              "    </tr>\n",
              "    <tr>\n",
              "      <td>8</td>\n",
              "      <td>0.398250</td>\n",
              "      <td>0.496287</td>\n",
              "      <td>0.862723</td>\n",
              "      <td>00:00</td>\n",
              "    </tr>\n",
              "    <tr>\n",
              "      <td>9</td>\n",
              "      <td>0.281717</td>\n",
              "      <td>0.489124</td>\n",
              "      <td>0.868527</td>\n",
              "      <td>00:00</td>\n",
              "    </tr>\n",
              "    <tr>\n",
              "      <td>10</td>\n",
              "      <td>0.201923</td>\n",
              "      <td>0.471980</td>\n",
              "      <td>0.873661</td>\n",
              "      <td>00:00</td>\n",
              "    </tr>\n",
              "    <tr>\n",
              "      <td>11</td>\n",
              "      <td>0.147172</td>\n",
              "      <td>0.445009</td>\n",
              "      <td>0.882068</td>\n",
              "      <td>00:00</td>\n",
              "    </tr>\n",
              "    <tr>\n",
              "      <td>12</td>\n",
              "      <td>0.109947</td>\n",
              "      <td>0.451813</td>\n",
              "      <td>0.876190</td>\n",
              "      <td>00:00</td>\n",
              "    </tr>\n",
              "    <tr>\n",
              "      <td>13</td>\n",
              "      <td>0.083952</td>\n",
              "      <td>0.427873</td>\n",
              "      <td>0.885417</td>\n",
              "      <td>00:00</td>\n",
              "    </tr>\n",
              "    <tr>\n",
              "      <td>14</td>\n",
              "      <td>0.065840</td>\n",
              "      <td>0.457834</td>\n",
              "      <td>0.875595</td>\n",
              "      <td>00:00</td>\n",
              "    </tr>\n",
              "    <tr>\n",
              "      <td>15</td>\n",
              "      <td>0.053183</td>\n",
              "      <td>0.472776</td>\n",
              "      <td>0.871949</td>\n",
              "      <td>00:00</td>\n",
              "    </tr>\n",
              "    <tr>\n",
              "      <td>16</td>\n",
              "      <td>0.044154</td>\n",
              "      <td>0.445645</td>\n",
              "      <td>0.879390</td>\n",
              "      <td>00:00</td>\n",
              "    </tr>\n",
              "    <tr>\n",
              "      <td>17</td>\n",
              "      <td>0.037572</td>\n",
              "      <td>0.431411</td>\n",
              "      <td>0.883705</td>\n",
              "      <td>00:00</td>\n",
              "    </tr>\n",
              "    <tr>\n",
              "      <td>18</td>\n",
              "      <td>0.032928</td>\n",
              "      <td>0.428563</td>\n",
              "      <td>0.884077</td>\n",
              "      <td>00:00</td>\n",
              "    </tr>\n",
              "    <tr>\n",
              "      <td>19</td>\n",
              "      <td>0.029868</td>\n",
              "      <td>0.428141</td>\n",
              "      <td>0.883854</td>\n",
              "      <td>00:00</td>\n",
              "    </tr>\n",
              "  </tbody>\n",
              "</table>"
            ],
            "text/plain": [
              "<IPython.core.display.HTML object>"
            ]
          },
          "metadata": {
            "tags": []
          }
        }
      ]
    }
  ]
}