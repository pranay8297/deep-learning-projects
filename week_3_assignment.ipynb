{
  "nbformat": 4,
  "nbformat_minor": 0,
  "metadata": {
    "kernelspec": {
      "display_name": "Python 3",
      "language": "python",
      "name": "python3"
    },
    "language_info": {
      "codemirror_mode": {
        "name": "ipython",
        "version": 3
      },
      "file_extension": ".py",
      "mimetype": "text/x-python",
      "name": "python",
      "nbconvert_exporter": "python",
      "pygments_lexer": "ipython3",
      "version": "3.6.9"
    },
    "varInspector": {
      "cols": {
        "lenName": 16,
        "lenType": 16,
        "lenVar": 40
      },
      "kernels_config": {
        "python": {
          "delete_cmd_postfix": "",
          "delete_cmd_prefix": "del ",
          "library": "var_list.py",
          "varRefreshCmd": "print(var_dic_list())"
        },
        "r": {
          "delete_cmd_postfix": ") ",
          "delete_cmd_prefix": "rm(",
          "library": "var_list.r",
          "varRefreshCmd": "cat(var_dic_list()) "
        }
      },
      "types_to_exclude": [
        "module",
        "function",
        "builtin_function_or_method",
        "instance",
        "_Feature"
      ],
      "window_display": false
    },
    "colab": {
      "name": "week_3_assignment.ipynb",
      "provenance": [],
      "collapsed_sections": [],
      "include_colab_link": true
    }
  },
  "cells": [
    {
      "cell_type": "markdown",
      "metadata": {
        "id": "view-in-github",
        "colab_type": "text"
      },
      "source": [
        "<a href=\"https://colab.research.google.com/github/pranay8297/deep-learning-projects/blob/master/week_3_assignment.ipynb\" target=\"_parent\"><img src=\"https://colab.research.google.com/assets/colab-badge.svg\" alt=\"Open In Colab\"/></a>"
      ]
    },
    {
      "cell_type": "markdown",
      "metadata": {
        "id": "XuoYx1Ydk7Wt"
      },
      "source": [
        "\n",
        "\n",
        "# Bayes Rule and Bayes Classification\n",
        "\n",
        "This assignment is broken up into two main sections\n",
        "1. Naive Bayes Classification Walkthrough\n",
        "2. Exercises\n",
        "\n",
        "In the first section, please read through the text and run the code to follow through how we can use Python/Pandas to build Bayes models. In the second section, you are asked to complete two exercises using Bayes to build machine learning models.\n",
        "\n"
      ]
    },
    {
      "cell_type": "markdown",
      "metadata": {
        "id": "svP2XblUV_Lt"
      },
      "source": [
        "## Naive Bayes Classification Walkthrough"
      ]
    },
    {
      "cell_type": "markdown",
      "metadata": {
        "id": "A_QZlOFJV_Lt"
      },
      "source": [
        "*Classification* is one form of supervised learning. The aim is to annotate all data points with a label. Those points that have the same label belong to the same class. There can be two or more labels. For example, a lifeform can be classified (coarsely) with labels animal, plant, fungi, archaea, bacteria, protozoa, and chromista. The data points are observed to have certain features that can be used to predict their labels. For example, if it is has feathers, then it is most likely an animal.\n",
        "\n",
        "In supervised learning an algorithm is first given a training set of data points with their features and labels. Then the algorithm learns from these features and labels a (probabilistic) model, which can afterwards be used to predict the labels of previously unseen data.\n",
        "\n",
        "*Naive Bayes classification* is a fast and simple to understand classification method. Its speed is due to some simplifications we make about the underlying probability distributions, namely, the assumption about the independence of features. Yet, it can be quite powerful, especially when there are enough features in the data.\n",
        "\n",
        "Suppose we have for each label L a probability distribution. This distribution gives probability for each possible combination of features (a feature vector):\n",
        "\n",
        "$$P(features | L).$$\n",
        "\n",
        "The main idea in Bayesian classification is to reverse the direction of dependence: we want to predict the label based on the features:\n",
        "\n",
        "$$P(L | features)$$\n",
        "\n",
        "This is possible by [the Bayes theorem](https://en.wikipedia.org/wiki/Bayes%27_theorem):\n",
        "\n",
        "$$P(L | features) = \\frac{P(features | L)P(L)}{P(features)}.$$\n",
        "\n",
        "Let's assume we have to labels L1 and L2, and their associated distributions: $P(features | L1)$ and $P(features | L2)$. If we have a data point with \"features\", whose label we don't know, we can try to predict it using the ratio of posterior probabilities:\n",
        "\n",
        "$$\\frac{P(L1 | features)}{P(L2 | features)} = \\frac{P(features | L1)P(L1)}{P(features | L2)P(L2)}.$$\n",
        "\n",
        "If the ratio is greater than one, we label our data point with label L1, and if not, we give it label L2.\n",
        "The prior probabilities P(L1) and P(L2) of labels can be easily found out from the input data, as for each data point we also have its label. Same goes for the probabilities of features conditioned on the label."
      ]
    },
    {
      "cell_type": "markdown",
      "metadata": {
        "id": "diXaQ1SSV_Lu"
      },
      "source": [
        "We first demonstrate naive Bayes classification using Gaussian distributions."
      ]
    },
    {
      "cell_type": "code",
      "metadata": {
        "ExecuteTime": {
          "end_time": "2020-06-24T19:29:18.550760Z",
          "start_time": "2020-06-24T19:29:17.727236Z"
        },
        "id": "L9g-LLl2V_Lu"
      },
      "source": [
        "import numpy as np\n",
        "import seaborn as sns\n",
        "import matplotlib.pyplot as plt\n",
        "import pandas as pd"
      ],
      "execution_count": 1,
      "outputs": []
    },
    {
      "cell_type": "code",
      "source": [
        "#test\n",
        "test_x, test_y = make_blobs(100, 2, centers=4)\n",
        "colors=np.array([\"red\", \"blue\", 'green', 'yellow'])\n",
        "plt.scatter(test_x[:, 0], test_x[:, 1], c=colors[test_y], s=50)\n",
        "for label, c in enumerate(colors):\n",
        "    plt.scatter([], [], c=c, label=str(label))\n",
        "plt.legend();"
      ],
      "metadata": {
        "colab": {
          "base_uri": "https://localhost:8080/",
          "height": 265
        },
        "id": "FZcXcko5Z1iC",
        "outputId": "eab93624-457b-4c1a-b449-214c441a93b6"
      },
      "execution_count": 10,
      "outputs": [
        {
          "output_type": "display_data",
          "data": {
            "text/plain": [
              "<Figure size 432x288 with 1 Axes>"
            ],
            "image/png": "[encoded data removed]"
          },
          "metadata": {
            "needs_background": "light"
          }
        }
      ]
    },
    {
      "cell_type": "code",
      "metadata": {
        "ExecuteTime": {
          "end_time": "2020-06-24T19:29:18.721987Z",
          "start_time": "2020-06-24T19:29:18.551884Z"
        },
        "id": "zM__OyWeV_Lu",
        "colab": {
          "base_uri": "https://localhost:8080/",
          "height": 265
        },
        "outputId": "9c2989fd-dc02-4cf1-a381-c15b3a45f38a"
      },
      "source": [
        "from sklearn.datasets import make_blobs\n",
        "X,y = make_blobs(100, 2, centers=2, random_state=2, cluster_std=1.5)\n",
        "colors=np.array([\"red\", \"blue\"])\n",
        "plt.scatter(X[:, 0], X[:, 1], c=colors[y], s=50)\n",
        "for label, c in enumerate(colors):\n",
        "    plt.scatter([], [], c=c, label=str(label))\n",
        "plt.legend();\n",
        "#plt.colorbar();"
      ],
      "execution_count": 11,
      "outputs": [
        {
          "output_type": "display_data",
          "data": {
            "text/plain": [
              "<Figure size 432x288 with 1 Axes>"
            ],
            "image/png": "[encoded data removed]"
          },
          "metadata": {
            "needs_background": "light"
          }
        }
      ]
    },
    {
      "cell_type": "code",
      "metadata": {
        "ExecuteTime": {
          "end_time": "2020-06-24T19:29:18.728361Z",
          "start_time": "2020-06-24T19:29:18.723459Z"
        },
        "id": "CV57j7BnV_Lv"
      },
      "source": [
        "from sklearn.naive_bayes import GaussianNB\n",
        "from sklearn.naive_bayes import MultinomialNB\n",
        "model = GaussianNB()\n",
        "#model = MultinomialNB()\n",
        "model.fit(X, y);"
      ],
      "execution_count": 12,
      "outputs": []
    },
    {
      "cell_type": "markdown",
      "metadata": {
        "id": "35NjsrO7V_Lw"
      },
      "source": [
        "Naive Bayes algorithm fitted two 2-dimensional Gaussian distribution to the data. The means and the variances define these distributions completely."
      ]
    },
    {
      "cell_type": "code",
      "metadata": {
        "ExecuteTime": {
          "end_time": "2020-06-24T19:29:18.733086Z",
          "start_time": "2020-06-24T19:29:18.729646Z"
        },
        "id": "ocmL4UOOV_Lw",
        "colab": {
          "base_uri": "https://localhost:8080/"
        },
        "outputId": "12b11ddd-3632-4faa-f556-63621b9d0243"
      },
      "source": [
        "print(\"Means:\", model.theta_)\n",
        "print(\"Standard deviations:\", model.sigma_)"
      ],
      "execution_count": 13,
      "outputs": [
        {
          "output_type": "stream",
          "name": "stdout",
          "text": [
            "Means: [[-1.64939095 -9.36891451]\n",
            " [ 1.29327924 -1.24101221]]\n",
            "Standard deviations: [[2.06097005 2.47716872]\n",
            " [3.33164807 2.22401384]]\n"
          ]
        },
        {
          "output_type": "stream",
          "name": "stderr",
          "text": [
            "/usr/local/lib/python3.7/dist-packages/sklearn/utils/deprecation.py:103: FutureWarning: Attribute `sigma_` was deprecated in 1.0 and will be removed in1.2. Use `var_` instead.\n",
            "  warnings.warn(msg, category=FutureWarning)\n"
          ]
        }
      ]
    },
    {
      "cell_type": "markdown",
      "metadata": {
        "id": "sPm1wFquV_Lx"
      },
      "source": [
        "Let's plot these distributions. First we define a helper function to draw an ellipse that gives the standard deviation in each direction from the origo."
      ]
    },
    {
      "cell_type": "code",
      "source": [
        "?Ellipse"
      ],
      "metadata": {
        "colab": {
          "base_uri": "https://localhost:8080/"
        },
        "id": "7w7zGkY7gdu9",
        "outputId": "63f16e37-287b-4bee-b05c-f9fde98ddc09"
      },
      "execution_count": 33,
      "outputs": [
        {
          "output_type": "stream",
          "name": "stdout",
          "text": [
            "Object `Ellipse` not found.\n"
          ]
        }
      ]
    },
    {
      "cell_type": "code",
      "metadata": {
        "ExecuteTime": {
          "end_time": "2020-06-24T19:29:18.740310Z",
          "start_time": "2020-06-24T19:29:18.734352Z"
        },
        "id": "0tru8fsaV_Lx"
      },
      "source": [
        "def plot_ellipse(ax, mu, sigma, color=\"k\", label=None):\n",
        "    \"\"\"\n",
        "    Based on\n",
        "    http://stackoverflow.com/questions/17952171/not-sure-how-to-fit-data-with-a-gaussian-python.\n",
        "    \"\"\"\n",
        "    from matplotlib.patches import Ellipse\n",
        "    # Compute eigenvalues and associated eigenvectors\n",
        "    vals, vecs = np.linalg.eigh(sigma)\n",
        "\n",
        "    # Compute \"tilt\" of ellipse using first eigenvector\n",
        "    x, y = vecs[:, 0]\n",
        "    theta = np.degrees(np.arctan2(y, x))\n",
        "\n",
        "    # Eigenvalues give length of ellipse along each eigenvector\n",
        "    w, h = 2 * np.sqrt(vals)\n",
        "\n",
        "    ax.tick_params(axis='both', which='major', labelsize=20)\n",
        "    print(mu, w, h, theta)\n",
        "    ellipse = Ellipse(mu, w, h, theta, color=color, label=label)  # color=\"k\")\n",
        "    ellipse.set_clip_box(ax.bbox)\n",
        "    ellipse.set_alpha(0.2)\n",
        "    ax.add_artist(ellipse)\n",
        "    # return ellipse"
      ],
      "execution_count": 22,
      "outputs": []
    },
    {
      "cell_type": "markdown",
      "metadata": {
        "id": "PRbwYICpV_Lx"
      },
      "source": [
        "Then we do the actual plotting:"
      ]
    },
    {
      "cell_type": "code",
      "metadata": {
        "ExecuteTime": {
          "end_time": "2020-06-24T19:29:18.822876Z",
          "start_time": "2020-06-24T19:29:18.741616Z"
        },
        "id": "SakJS77lV_Lx",
        "colab": {
          "base_uri": "https://localhost:8080/",
          "height": 373
        },
        "outputId": "4ad996f3-fc6d-456c-b5f1-dc1e13fb596f"
      },
      "source": [
        "plt.figure()\n",
        "plt.xlim(-5, 5)\n",
        "plt.ylim(-15, 5)\n",
        "plot_ellipse(plt.gca(), model.theta_[0], np.identity(2)*model.sigma_[0], color=\"red\")\n",
        "plot_ellipse(plt.gca(), model.theta_[1], np.identity(2)*model.sigma_[1], color=\"blue\");"
      ],
      "execution_count": 23,
      "outputs": [
        {
          "output_type": "stream",
          "name": "stderr",
          "text": [
            "/usr/local/lib/python3.7/dist-packages/sklearn/utils/deprecation.py:103: FutureWarning: Attribute `sigma_` was deprecated in 1.0 and will be removed in1.2. Use `var_` instead.\n",
            "  warnings.warn(msg, category=FutureWarning)\n"
          ]
        },
        {
          "output_type": "stream",
          "name": "stdout",
          "text": [
            "[-1.64939095 -9.36891451] 2.8712158045353147 3.1478047690280917 0.0\n",
            "[ 1.29327924 -1.24101221] 2.9826255815838576 3.6505605415018745 90.0\n"
          ]
        },
        {
          "output_type": "display_data",
          "data": {
            "text/plain": [
              "<Figure size 432x288 with 1 Axes>"
            ],
            "image/png": "[encoded data removed]"
          },
          "metadata": {
            "needs_background": "light"
          }
        }
      ]
    },
    {
      "cell_type": "markdown",
      "metadata": {
        "id": "EAnlOtXyV_Ly"
      },
      "source": [
        "*Accuracy score* gives a measure about how well we managed to predict the labels. The maximum value is 1.0."
      ]
    },
    {
      "cell_type": "code",
      "metadata": {
        "ExecuteTime": {
          "end_time": "2020-06-24T19:29:18.837418Z",
          "start_time": "2020-06-24T19:29:18.823858Z"
        },
        "id": "GNSkcsmBV_Ly",
        "colab": {
          "base_uri": "https://localhost:8080/"
        },
        "outputId": "919ea399-9b10-45e5-fca0-aebc4d774a00"
      },
      "source": [
        "from sklearn.metrics import accuracy_score\n",
        "y_fitted = model.predict(X)\n",
        "acc=accuracy_score(y,y_fitted)\n",
        "print(\"Accuracy score is\", acc)"
      ],
      "execution_count": 34,
      "outputs": [
        {
          "output_type": "stream",
          "name": "stdout",
          "text": [
            "Accuracy score is 1.0\n"
          ]
        }
      ]
    },
    {
      "cell_type": "markdown",
      "metadata": {
        "id": "HB_BEl0fV_Ly"
      },
      "source": [
        "The score was the best possible, which is not a surprise, since we tried to predict the data we had already seen! Later we will split our data into two parts: one for learning the model and the other for testing its predictive skills."
      ]
    },
    {
      "cell_type": "markdown",
      "metadata": {
        "id": "pghbsbBjgnls"
      },
      "source": [
        "## [Question - Accuracy]\n",
        "What is a situation when the accuracy score is not a good representation of the quality of a classification?\n",
        "\n",
        "Accuracy is defined as total number of correctly predicted observations divided by total number of observations. This metric is not right measure in some cases. \n",
        "\n",
        "Primarily in case of imbalanced data, accuracy is not a good measure. As in case of imbalanced data, accuracy is totally tilted towrds the more frequent class. \n",
        "\n",
        "One example is, in case of medical diagnostics, where more than 95 percent of samples does not have cancer and only the rest gets diagnosied with cancer. In this case, out of 100 samples, if model classifies all 100 as non cancer samples. Here accuracy is 95% which sounds great, but actaul model is crap if it fails to classify not even one actual cancer sample. \n",
        "\n",
        "Accuracy is not a great measure even when data is balanced, but have so many classes and its a multinomial classification.\n",
        "\n",
        "References:\n",
        "\n",
        "[1] RAJ, K. (2020, July 27). ML Classification-Why accuracy is not a best measure for assessing?? Medium. https://medium.com/@KrishnaRaj_Parthasarathy/ml-classification-why-accuracy-is-not-a-best-measure-for-assessing-ceeb964ae47c#:~:text=Even%20when%20model%20fails%20to"
      ]
    },
    {
      "cell_type": "markdown",
      "metadata": {
        "id": "48lggrOOV_Ly"
      },
      "source": [
        "### Another example"
      ]
    },
    {
      "cell_type": "markdown",
      "metadata": {
        "id": "nzIXAXd6V_Ly"
      },
      "source": [
        "Let's generate some more data using multivariate normal distributions."
      ]
    },
    {
      "cell_type": "code",
      "source": [
        "? np.random.multivariate_normal"
      ],
      "metadata": {
        "id": "9Z5eMW7YjQk3"
      },
      "execution_count": 36,
      "outputs": []
    },
    {
      "cell_type": "code",
      "metadata": {
        "ExecuteTime": {
          "end_time": "2020-06-24T19:29:18.944447Z",
          "start_time": "2020-06-24T19:29:18.839523Z"
        },
        "id": "VIGCozbrV_Ly",
        "colab": {
          "base_uri": "https://localhost:8080/",
          "height": 265
        },
        "outputId": "6a78509c-323c-4f1c-e3d8-1844b3d70f1e"
      },
      "source": [
        "cov=np.array([[ 4.68, -4.32],\n",
        " [-4.32,  4.68]])\n",
        "mean1 = [0,0]\n",
        "mean2 = [0,4]\n",
        "n=500\n",
        "x1 = np.random.multivariate_normal(mean1, cov, n).T\n",
        "x2 = np.random.multivariate_normal(mean2, cov, n).T\n",
        "X=np.vstack([x1.T,x2.T])\n",
        "y=np.hstack([[0]*n, [1]*n]).T\n",
        "plt.scatter(X[:n,0], X[:n,1], color=\"red\", label=0)\n",
        "plt.scatter(X[n:,0], X[n:,1], color=\"blue\", label=1)\n",
        "plt.legend();"
      ],
      "execution_count": 37,
      "outputs": [
        {
          "output_type": "display_data",
          "data": {
            "text/plain": [
              "<Figure size 432x288 with 1 Axes>"
            ],
            "image/png": "[encoded data removed]"
          },
          "metadata": {
            "needs_background": "light"
          }
        }
      ]
    },
    {
      "cell_type": "markdown",
      "metadata": {
        "id": "-Rx6iMQ_V_Ly"
      },
      "source": [
        "The two clusters seem to be quite separate. Let's try naive Bayesian classification on this data."
      ]
    },
    {
      "cell_type": "code",
      "metadata": {
        "ExecuteTime": {
          "end_time": "2020-06-24T19:29:18.948424Z",
          "start_time": "2020-06-24T19:29:18.945733Z"
        },
        "id": "Rzg3Bi10V_Lz"
      },
      "source": [
        "model = GaussianNB()\n",
        "#model = MultinomialNB()\n",
        "model.fit(X, y);"
      ],
      "execution_count": 38,
      "outputs": []
    },
    {
      "cell_type": "code",
      "metadata": {
        "ExecuteTime": {
          "end_time": "2020-06-24T19:29:18.952919Z",
          "start_time": "2020-06-24T19:29:18.949630Z"
        },
        "id": "i-h_0ykmV_Lz",
        "colab": {
          "base_uri": "https://localhost:8080/"
        },
        "outputId": "3563ca7f-5dce-4796-963b-32ce9906eab5"
      },
      "source": [
        "print(\"Means:\", model.theta_)\n",
        "print(\"Standard deviations:\", model.sigma_)"
      ],
      "execution_count": 39,
      "outputs": [
        {
          "output_type": "stream",
          "name": "stdout",
          "text": [
            "Means: [[ 0.0233447  -0.02444821]\n",
            " [-0.20864549  4.20962829]]\n",
            "Standard deviations: [[5.3867489  5.25248891]\n",
            " [4.72492907 4.61597151]]\n"
          ]
        },
        {
          "output_type": "stream",
          "name": "stderr",
          "text": [
            "/usr/local/lib/python3.7/dist-packages/sklearn/utils/deprecation.py:103: FutureWarning: Attribute `sigma_` was deprecated in 1.0 and will be removed in1.2. Use `var_` instead.\n",
            "  warnings.warn(msg, category=FutureWarning)\n"
          ]
        }
      ]
    },
    {
      "cell_type": "code",
      "metadata": {
        "ExecuteTime": {
          "end_time": "2020-06-24T19:29:19.115073Z",
          "start_time": "2020-06-24T19:29:18.954208Z"
        },
        "id": "0_Uu77OlV_Lz",
        "colab": {
          "base_uri": "https://localhost:8080/",
          "height": 282
        },
        "outputId": "4b66530b-59fc-476d-f55e-7630f1b3f09f"
      },
      "source": [
        "y_fitted = model.predict(X)\n",
        "colors=np.array([\"red\", \"blue\"])\n",
        "plt.scatter(X[:,0], X[:,1], color=colors[y_fitted])\n",
        "plt.scatter([], [], color=\"red\", label=\"0\")\n",
        "plt.scatter([], [], color=\"blue\", label=\"1\")\n",
        "from sklearn.metrics import accuracy_score\n",
        "acc=accuracy_score(y,y_fitted)\n",
        "plt.legend()\n",
        "print(\"Accuracy score is\", acc)"
      ],
      "execution_count": 40,
      "outputs": [
        {
          "output_type": "stream",
          "name": "stdout",
          "text": [
            "Accuracy score is 0.826\n"
          ]
        },
        {
          "output_type": "display_data",
          "data": {
            "text/plain": [
              "<Figure size 432x288 with 1 Axes>"
            ],
            "image/png": "[encoded data removed]"
          },
          "metadata": {
            "needs_background": "light"
          }
        }
      ]
    },
    {
      "cell_type": "markdown",
      "metadata": {
        "id": "dSxaAWeLV_Lz"
      },
      "source": [
        "Even thought the score is quite good, we can see from the plot that the algorithm didn't have good models for the data. We can plot the models the algorithm used:"
      ]
    },
    {
      "cell_type": "code",
      "metadata": {
        "ExecuteTime": {
          "end_time": "2020-06-24T19:29:19.194395Z",
          "start_time": "2020-06-24T19:29:19.116088Z"
        },
        "id": "RLVsMQOeV_Lz",
        "colab": {
          "base_uri": "https://localhost:8080/",
          "height": 444
        },
        "outputId": "12c6e763-0f71-4267-c34d-e9e5d159332e"
      },
      "source": [
        "plt.figure()\n",
        "plt.xlim(-10, 10)\n",
        "plt.ylim(-15, 10)\n",
        "e1=plot_ellipse(plt.gca(), model.theta_[0], np.identity(2)*model.sigma_[0], color=\"red\", label=\"0\")\n",
        "e2=plot_ellipse(plt.gca(), model.theta_[1], np.identity(2)*model.sigma_[1], color=\"blue\", label=\"1\")\n",
        "plt.legend([e1, e2], [\"0\", \"1\"]);"
      ],
      "execution_count": 41,
      "outputs": [
        {
          "output_type": "stream",
          "name": "stdout",
          "text": [
            "[ 0.0233447  -0.02444821] 4.583661815676743 4.641874145687855 90.0\n",
            "[-0.20864549  4.20962829] 4.296962421131831 4.3473803926689145 90.0\n"
          ]
        },
        {
          "output_type": "stream",
          "name": "stderr",
          "text": [
            "/usr/local/lib/python3.7/dist-packages/sklearn/utils/deprecation.py:103: FutureWarning: Attribute `sigma_` was deprecated in 1.0 and will be removed in1.2. Use `var_` instead.\n",
            "  warnings.warn(msg, category=FutureWarning)\n",
            "/usr/local/lib/python3.7/dist-packages/ipykernel_launcher.py:6: UserWarning: Legend does not support None instances.\n",
            "A proxy artist may be used instead.\n",
            "See: http://matplotlib.org/users/legend_guide.html#creating-artists-specifically-for-adding-to-the-legend-aka-proxy-artists\n",
            "  \n"
          ]
        },
        {
          "output_type": "display_data",
          "data": {
            "text/plain": [
              "<Figure size 432x288 with 1 Axes>"
            ],
            "image/png": "[encoded data removed]"
          },
          "metadata": {
            "needs_background": "light"
          }
        }
      ]
    },
    {
      "cell_type": "markdown",
      "metadata": {
        "id": "NDwMuORWV_Lz"
      },
      "source": [
        "The problem with naive Bayesian classification is that it tries to model the data using Gaussian distributions, which are aligned along the x and y axes. With this example data we would have needed Gaussian distributions which are \"tilted\"."
      ]
    },
    {
      "cell_type": "markdown",
      "metadata": {
        "id": "C_Jbqj0JV_Lz"
      },
      "source": [
        "### Text classification"
      ]
    },
    {
      "cell_type": "markdown",
      "metadata": {
        "id": "dBqkYDYbV_Lz"
      },
      "source": [
        "We next try to classify a set of messages that were posted on a public forum. The messages were divided into groups by the topics. So, we have a data set ready for classification testing. Let's first load this data using scikit-learn and print the message categories."
      ]
    },
    {
      "cell_type": "code",
      "metadata": {
        "ExecuteTime": {
          "end_time": "2020-06-24T19:29:19.444349Z",
          "start_time": "2020-06-24T19:29:19.195328Z"
        },
        "id": "i7Dn0FPIV_Lz",
        "colab": {
          "base_uri": "https://localhost:8080/"
        },
        "outputId": "570cfe4f-d980-45d7-bc71-21ba9ef7b475"
      },
      "source": [
        "from sklearn.datasets import fetch_20newsgroups\n",
        "data = fetch_20newsgroups()\n",
        "data.target_names"
      ],
      "execution_count": 42,
      "outputs": [
        {
          "output_type": "execute_result",
          "data": {
            "text/plain": [
              "['alt.atheism',\n",
              " 'comp.graphics',\n",
              " 'comp.os.ms-windows.misc',\n",
              " 'comp.sys.ibm.pc.hardware',\n",
              " 'comp.sys.mac.hardware',\n",
              " 'comp.windows.x',\n",
              " 'misc.forsale',\n",
              " 'rec.autos',\n",
              " 'rec.motorcycles',\n",
              " 'rec.sport.baseball',\n",
              " 'rec.sport.hockey',\n",
              " 'sci.crypt',\n",
              " 'sci.electronics',\n",
              " 'sci.med',\n",
              " 'sci.space',\n",
              " 'soc.religion.christian',\n",
              " 'talk.politics.guns',\n",
              " 'talk.politics.mideast',\n",
              " 'talk.politics.misc',\n",
              " 'talk.religion.misc']"
            ]
          },
          "metadata": {},
          "execution_count": 42
        }
      ]
    },
    {
      "cell_type": "code",
      "source": [
        "data.target_names"
      ],
      "metadata": {
        "colab": {
          "base_uri": "https://localhost:8080/"
        },
        "id": "84ORS1W7kVP6",
        "outputId": "c0f7e280-fd4f-45b2-dc6f-7607f66a1b85"
      },
      "execution_count": 48,
      "outputs": [
        {
          "output_type": "execute_result",
          "data": {
            "text/plain": [
              "['alt.atheism',\n",
              " 'comp.graphics',\n",
              " 'comp.os.ms-windows.misc',\n",
              " 'comp.sys.ibm.pc.hardware',\n",
              " 'comp.sys.mac.hardware',\n",
              " 'comp.windows.x',\n",
              " 'misc.forsale',\n",
              " 'rec.autos',\n",
              " 'rec.motorcycles',\n",
              " 'rec.sport.baseball',\n",
              " 'rec.sport.hockey',\n",
              " 'sci.crypt',\n",
              " 'sci.electronics',\n",
              " 'sci.med',\n",
              " 'sci.space',\n",
              " 'soc.religion.christian',\n",
              " 'talk.politics.guns',\n",
              " 'talk.politics.mideast',\n",
              " 'talk.politics.misc',\n",
              " 'talk.religion.misc']"
            ]
          },
          "metadata": {},
          "execution_count": 48
        }
      ]
    },
    {
      "cell_type": "markdown",
      "metadata": {
        "id": "zDNcYZS2V_L0"
      },
      "source": [
        "We concentrate on four message categories only. The tool `fetch_20newsgroups` allows us to easily split the data into training and testing data."
      ]
    },
    {
      "cell_type": "code",
      "metadata": {
        "ExecuteTime": {
          "end_time": "2020-06-24T19:29:19.778817Z",
          "start_time": "2020-06-24T19:29:19.445242Z"
        },
        "id": "AlPnowMEV_L0"
      },
      "source": [
        "categories = ['comp.graphics', 'rec.autos', 'sci.electronics', 'sci.crypt']\n",
        "train = fetch_20newsgroups(subset='train', categories=categories)\n",
        "test = fetch_20newsgroups(subset='test', categories=categories)"
      ],
      "execution_count": 49,
      "outputs": []
    },
    {
      "cell_type": "markdown",
      "metadata": {
        "id": "pMtZukGBV_L0"
      },
      "source": [
        "Let's see what we got:"
      ]
    },
    {
      "cell_type": "code",
      "metadata": {
        "ExecuteTime": {
          "end_time": "2020-06-24T19:29:19.783690Z",
          "start_time": "2020-06-24T19:29:19.780035Z"
        },
        "id": "VGpG-ZPzV_L0",
        "colab": {
          "base_uri": "https://localhost:8080/"
        },
        "outputId": "62ac3025-6bc7-4dda-9eac-a7380b5c0c06"
      },
      "source": [
        "print(\"Training data:\", \"Data:\", str(type(train.data)), len(train.data), \"Target:\", str(type(train.target)), len(train.target))\n",
        "print(\"Test data:\", \"Data:\", str(type(test.data)), len(test.data), \"Target\", str(type(test.data)), len(test.target))"
      ],
      "execution_count": 50,
      "outputs": [
        {
          "output_type": "stream",
          "name": "stdout",
          "text": [
            "Training data: Data: <class 'list'> 2364 Target: <class 'numpy.ndarray'> 2364\n",
            "Test data: Data: <class 'list'> 1574 Target <class 'list'> 1574\n"
          ]
        }
      ]
    },
    {
      "cell_type": "markdown",
      "metadata": {
        "id": "bAVa6KCAV_L0"
      },
      "source": [
        "We use as features the frequencies of each word in the dataset. That is, there are as many features as there are distinct words in the dataset. We denote the number of features by $f$. As the features are now counts, it is sensible to use multinomial distribution instead of Gaussian. \n",
        "\n",
        "Let's try to model these messages using multinomial distributions. Each message category has its own distribution. A multinomial distribution has $f$ non-negative parameters $\\theta_1,\\ldots , \\theta_f$, which sum up to one. For example, the parameter $\\theta_3$ might tell the the probability of the word \"board\" appearing in a message of the category this distribution is describing.\n",
        "\n",
        "In scikit-learn there is a class `CountVectorizer` that converts messages in form of text strings to feature vectors. We can integrate this conversion with the model we are using (multinomial naive Bayes), so that the conversion happens automatically as part of the `fit` method. We achive this integration using the `make_pipeline` tool."
      ]
    },
    {
      "cell_type": "code",
      "source": [
        "train.data[:5], train.target[:5]"
      ],
      "metadata": {
        "colab": {
          "base_uri": "https://localhost:8080/"
        },
        "id": "BVxWN7g2lb4G",
        "outputId": "969805e7-59d4-4e6a-e25c-1544774d738e"
      },
      "execution_count": 53,
      "outputs": [
        {
          "output_type": "execute_result",
          "data": {
            "text/plain": [
              "(['From: jgfoot@minerva.cis.yale.edu (Josh A. Goldfoot)\\nSubject: Re: Organized Lobbying for Cryptography\\nOrganization: Yale University\\nLines: 21\\nDistribution: inet\\nReply-To: jgfoot@minerva.cis.yale.edu\\nNNTP-Posting-Host: minerva.cis.yale.edu\\nX-Newsreader: TIN [version 1.1 Minerva PL9]\\n\\nShaun P. Hughes (sphughes@sfsuvax1.sfsu.edu) wrote:\\n: In article <1r3jgbINN35i@eli.CS.YALE.EDU> jgfoot@minerva.cis.yale.edu writes:\\n[deletion]\\n: >Perhaps these encryption-only types would defend the digitized porn if it\\n: >was posted encrypted?\\n: >\\n: >These issues are not as seperable as you maintain.\\n: >\\n\\n: Now why would anyone \"post\" anything encrypted? Encryption is only of \\n: use between persons who know how to decrypt the data.\\n\\n: And why should I care what other people look at? \\n\\nI was responding to another person (Tarl Neustaedter) who held that the\\nEFF wasn\\'t the best organization to fight for crytography rights since the\\nEFF also supports the right to distribute pornography over the internet,\\nsomething some Crypto people might object to. In other words, he\\'s\\nimplying that there are people who will protect any speech, just  as long\\nas it is encrypted.\\n\\n',\n",
              "  \"From: andrey@cco.caltech.edu (Andre T. Yew)\\nSubject: Re: 16 million vs 65 thousand colors\\nOrganization: California Institute of Technology, Pasadena\\nLines: 28\\nNNTP-Posting-Host: punisher.caltech.edu\\n\\nd9hh@dtek.chalmers.se (Henrik Harmsen) writes:\\n\\n>1-4 bits per R/G/B gives horrible machbanding visible in almost any picture.\\n\\n>5 bits per R/G/B (32768, 65000 colors) gives visible machbanding\\n\\n>color-gradient picture has _almost_ no machbanding. This color-resolution is \\n\\n>see some small machbanding on the smooth color-gradient picture, but all in all,\\n>There _ARE_ situiations where you get visible mach-banding even in\\n>a 24 bit card. If\\n>you create a very smooth color gradient of dark-green-white-yellow\\n>or something and turn\\n>up the contrast on the monitor, you will probably see some mach-banding.\\n\\n    While I don't mean to damn Henrik's attempt to be helpful here,\\nhe's using a common misconception that should be corrected.\\n\\n    Mach banding will occur for any image.  It is not the color\\nquantization you see when you don't have enough bits.  It is the\\nhuman eye's response to transitions or edges between intensities.\\nThe result is that colors near the transistion look brighter on\\nthe brighter side and darker on the darker side.\\n\\n--Andre\\n\\n-- \\n             Andre Yew andrey@cco.caltech.edu (131.215.139.2)\\n\",\n",
              "  \"From: jdenune@pandora.sdsu.edu (John Denune)\\nSubject: Re: Sport Utility Vehical comparisons? Any Opinions?\\nOrganization: San Diego State University, College of Sciences\\nLines: 18\\nDistribution: world\\nNNTP-Posting-Host: pandora.sdsu.edu\\nX-Newsreader: TIN [version 1.1 PL9]\\n\\nKarl Elvis MacRae (kmac@cisco.com) wrote:\\n\\n: \\tI'm looking at the following three SUV's; anyone who's driven all\\n: \\tthree have any strong opinions?\\n:\\n: \\tFord Explorer\\n: \\tToyota 4Runner\\n: \\tNissan Pathfinder\\n\\nWell, I was just in your position and I drove all three and liked\\nall three.  It was a toss-up.  I marginally went with the Pathfinder\\nbased on reliability and looks.\\n\\nI don't think you can go wrong with any of them.\\n\\n---John\\njdenune@pandora.sdsu.edu\\n\\n\",\n",
              "  'From: ptorre@hardy.u.washington.edu (Phil Torre)\\nSubject: Circuit Cellar Ink address?\\nOrganization: University of Washington, Seattle\\nLines: 2\\nDistribution: na\\nNNTP-Posting-Host: hardy.u.washington.edu\\nSummary: Address or phone number for subscriptions?\\n\\nIs CCI still published?  If so, does anyone have their address?\\n\\n',\n",
              "  'From: linnig@m2000.dseg.ti.com (Mike Linnig)\\nSubject: Re: books/info on audio DSP ??\\nIn-Reply-To: scst83@csc.liv.ac.uk\\'s message of 6 Apr 93 13:36:13 GMT\\nNntp-Posting-Host: m2000.dseg.ti.com\\nOrganization: Texas Instruments, Defense, Systems and Electronics Group.\\n\\t<C52DsD.7pB@compsci.liverpool.ac.uk>\\nDistribution: rec,sci\\nLines: 25\\n\\nIn article <C52DsD.7pB@compsci.liverpool.ac.uk> scst83@csc.liv.ac.uk (Chris Smith) writes:\\n\\n> I\\'m looking to build a DSP for guitar processing. Hence lots of background\\n> information would be really useful !\\n> \\n> If anyone\\'s got any info, could they email.....\\n\\nWell, I\\'m not sure I\\'d use this to process a guitar but there was a audio\\nfilter DSP construction article in the Sept 92 issue of QST magazine (Ham Radio\\noriented).  The DSP is available in kit form for about $120.\\n\\nThis particular DSP filter was targetted toward processing audio to remove\\nnoise (static).  I built it and it really works well.  The source code is\\navailable too.  It makes a noisy audio signal much easier to hear.  Note that\\nthis is for communication applications and is not \"high fidelity\".\\n\\n\\n\\n--\\n- - - - - - - - - - - - - - - - - - + - - - - - - - - - - - - - - - - - +\\nMike Linnig, Texas Instruments Inc. | 97.43% of all statistics are made |\\nPhone: (214) 575-3597  CALL: N5QAW  | up; most of them (83.6 percent)   |\\nInternet: mike.linnig@dseg.ti.com   | are wrong.                        |\\n- - - - - - - - - - - - - - - - - - - - - - - - - - - - - - - - - - - - -\\n\\n'],\n",
              " array([2, 0, 1, 3, 3]))"
            ]
          },
          "metadata": {},
          "execution_count": 53
        }
      ]
    },
    {
      "cell_type": "code",
      "source": [
        "m = CountVectorizer()\n",
        "something = m.fit_transform(train.data[:3])\n",
        "\n",
        "print(something[0, :10])"
      ],
      "metadata": {
        "colab": {
          "base_uri": "https://localhost:8080/"
        },
        "id": "yHb_XfjzmNuy",
        "outputId": "7c81d0f5-bb97-46c3-d633-0beae1ba0e96"
      },
      "execution_count": 67,
      "outputs": [
        {
          "output_type": "stream",
          "name": "stdout",
          "text": [
            "  (0, 5)\t1\n",
            "  (0, 4)\t1\n"
          ]
        }
      ]
    },
    {
      "cell_type": "code",
      "metadata": {
        "ExecuteTime": {
          "end_time": "2020-06-24T19:29:20.367332Z",
          "start_time": "2020-06-24T19:29:19.784456Z"
        },
        "id": "g7qXXdi-V_L0",
        "colab": {
          "base_uri": "https://localhost:8080/"
        },
        "outputId": "ece06522-d9c3-48e9-d9aa-8e40101b1adb"
      },
      "source": [
        "#from sklearn.feature_extraction.text import TfidfVectorizer  # an alternative feature extractor\n",
        "from sklearn.feature_extraction.text import CountVectorizer\n",
        "from sklearn.naive_bayes import MultinomialNB\n",
        "from sklearn.pipeline import make_pipeline\n",
        "\n",
        "#model = make_pipeline(TfidfVectorizer(), MultinomialNB())\n",
        "model = make_pipeline(CountVectorizer(), MultinomialNB())\n",
        "model.fit(train.data, train.target)\n",
        "labels_fitted = model.predict(test.data)\n",
        "print(\"Accuracy score is\", accuracy_score(labels_fitted, test.target))"
      ],
      "execution_count": 60,
      "outputs": [
        {
          "output_type": "stream",
          "name": "stdout",
          "text": [
            "Accuracy score is 0.920584498094028\n"
          ]
        }
      ]
    },
    {
      "cell_type": "markdown",
      "metadata": {
        "id": "1-MqXu-1V_L0"
      },
      "source": [
        "The classifier seem to work quite well! Notice that now we used separate data for testing the model.\n",
        "\n",
        "Let's have a closer look at the resulting feature vectors."
      ]
    },
    {
      "cell_type": "code",
      "metadata": {
        "ExecuteTime": {
          "end_time": "2020-06-24T19:29:20.734692Z",
          "start_time": "2020-06-24T19:29:20.368401Z"
        },
        "id": "hn_jpqc_V_L0",
        "colab": {
          "base_uri": "https://localhost:8080/"
        },
        "outputId": "4a458e56-603e-48dd-be88-44cbc9d9cfed"
      },
      "source": [
        "vec=CountVectorizer()\n",
        "features=vec.fit_transform(train.data)\n",
        "print(\"Type of feature matrix:\", type(features))\n",
        "print(features[0,:])        # print the features of the first sample point"
      ],
      "execution_count": 68,
      "outputs": [
        {
          "output_type": "stream",
          "name": "stdout",
          "text": [
            "Type of feature matrix: <class 'scipy.sparse.csr.csr_matrix'>\n",
            "  (0, 15373)\t1\n",
            "  (0, 18962)\t3\n",
            "  (0, 21852)\t5\n",
            "  (0, 9553)\t4\n",
            "  (0, 34790)\t6\n",
            "  (0, 13317)\t6\n",
            "  (0, 19099)\t1\n",
            "  (0, 16034)\t1\n",
            "  (0, 30377)\t1\n",
            "  (0, 26624)\t1\n",
            "  (0, 23858)\t1\n",
            "  (0, 20509)\t1\n",
            "  (0, 15109)\t2\n",
            "  (0, 11079)\t1\n",
            "  (0, 23854)\t2\n",
            "  (0, 32729)\t1\n",
            "  (0, 20381)\t1\n",
            "  (0, 2100)\t1\n",
            "  (0, 12580)\t1\n",
            "  (0, 18085)\t1\n",
            "  (0, 27158)\t1\n",
            "  (0, 31686)\t6\n",
            "  (0, 23118)\t1\n",
            "  (0, 25400)\t1\n",
            "  (0, 17310)\t1\n",
            "  :\t:\n",
            "  (0, 11100)\t1\n",
            "  (0, 27521)\t1\n",
            "  (0, 29104)\t1\n",
            "  (0, 5980)\t1\n",
            "  (0, 30641)\t1\n",
            "  (0, 27517)\t1\n",
            "  (0, 12577)\t1\n",
            "  (0, 25336)\t1\n",
            "  (0, 24025)\t1\n",
            "  (0, 18436)\t1\n",
            "  (0, 29505)\t1\n",
            "  (0, 29494)\t1\n",
            "  (0, 11068)\t1\n",
            "  (0, 21787)\t1\n",
            "  (0, 23460)\t1\n",
            "  (0, 34425)\t1\n",
            "  (0, 16809)\t1\n",
            "  (0, 17883)\t1\n",
            "  (0, 31398)\t1\n",
            "  (0, 34222)\t1\n",
            "  (0, 25926)\t1\n",
            "  (0, 6320)\t1\n",
            "  (0, 29697)\t1\n",
            "  (0, 19220)\t1\n",
            "  (0, 20579)\t1\n"
          ]
        }
      ]
    },
    {
      "cell_type": "markdown",
      "metadata": {
        "id": "sx3ZhPHFV_L0"
      },
      "source": [
        "The feature matrix is stored in sparse format, that is, only the nonzero counts are stored. How many words were in the first message?"
      ]
    },
    {
      "cell_type": "code",
      "metadata": {
        "ExecuteTime": {
          "end_time": "2020-06-24T19:29:20.739668Z",
          "start_time": "2020-06-24T19:29:20.735790Z"
        },
        "id": "MNrLAJ0qV_L0",
        "colab": {
          "base_uri": "https://localhost:8080/"
        },
        "outputId": "0c785748-a6b0-4808-c34d-543273b7e4ff"
      },
      "source": [
        "print(\"Number of words:\", features[0,:].sum())\n",
        "col = vec.vocabulary_[\"it\"]   # Get the column of 'it' word in the feature matrix\n",
        "print(f\"Word 'it' appears in the first message {features[0, col]} times.\")\n",
        "print()\n",
        "print(train.data[0])   # Let's print the corresponding message as well\n",
        "#print(vec.get_feature_names())"
      ],
      "execution_count": 69,
      "outputs": [
        {
          "output_type": "stream",
          "name": "stdout",
          "text": [
            "Number of words: 177\n",
            "Word 'it' appears in the first message 2 times.\n",
            "\n",
            "From: jgfoot@minerva.cis.yale.edu (Josh A. Goldfoot)\n",
            "Subject: Re: Organized Lobbying for Cryptography\n",
            "Organization: Yale University\n",
            "Lines: 21\n",
            "Distribution: inet\n",
            "Reply-To: jgfoot@minerva.cis.yale.edu\n",
            "NNTP-Posting-Host: minerva.cis.yale.edu\n",
            "X-Newsreader: TIN [version 1.1 Minerva PL9]\n",
            "\n",
            "Shaun P. Hughes (sphughes@sfsuvax1.sfsu.edu) wrote:\n",
            ": In article <1r3jgbINN35i@eli.CS.YALE.EDU> jgfoot@minerva.cis.yale.edu writes:\n",
            "[deletion]\n",
            ": >Perhaps these encryption-only types would defend the digitized porn if it\n",
            ": >was posted encrypted?\n",
            ": >\n",
            ": >These issues are not as seperable as you maintain.\n",
            ": >\n",
            "\n",
            ": Now why would anyone \"post\" anything encrypted? Encryption is only of \n",
            ": use between persons who know how to decrypt the data.\n",
            "\n",
            ": And why should I care what other people look at? \n",
            "\n",
            "I was responding to another person (Tarl Neustaedter) who held that the\n",
            "EFF wasn't the best organization to fight for crytography rights since the\n",
            "EFF also supports the right to distribute pornography over the internet,\n",
            "something some Crypto people might object to. In other words, he's\n",
            "implying that there are people who will protect any speech, just  as long\n",
            "as it is encrypted.\n",
            "\n",
            "\n"
          ]
        }
      ]
    },
    {
      "cell_type": "markdown",
      "metadata": {
        "id": "X1mhUmUXlhzk"
      },
      "source": [
        "## Exercises"
      ]
    },
    {
      "cell_type": "code",
      "source": [
        "X, y = np.arange(8).reshape((4, 2)), range(4)\n",
        "\n",
        "x_train, x_test, y_train, y_test = train_test_split(X, y, train_size = 0.75, random_state = 0)"
      ],
      "metadata": {
        "id": "wKkYFz9tpVyI"
      },
      "execution_count": 71,
      "outputs": []
    },
    {
      "cell_type": "code",
      "source": [
        "x_train, x_test, y_train, y_test"
      ],
      "metadata": {
        "colab": {
          "base_uri": "https://localhost:8080/"
        },
        "id": "XfL30BNPpmc1",
        "outputId": "606777e0-c1fb-4364-9e9c-f3ce3dde9978"
      },
      "execution_count": 74,
      "outputs": [
        {
          "output_type": "execute_result",
          "data": {
            "text/plain": [
              "(array([[6, 7],\n",
              "        [2, 3],\n",
              "        [0, 1]]), array([[4, 5]]), [3, 1, 0], [2])"
            ]
          },
          "metadata": {},
          "execution_count": 74
        }
      ]
    },
    {
      "cell_type": "markdown",
      "metadata": {
        "id": "pVAgfVWOV_L0"
      },
      "source": [
        "#### <div class=\"alert alert-info\">Exercise 1 (blob classification)</div>\n",
        "\n",
        "Write function `blob_classification` that gets feature matrix X and label vector y as parameters. It should then return the accuracy score of the prediction. Do the prediction using `GaussianNB`, and use `train_test_split` function from `sklearn` to split the dataset in to two parts: one for training and one for testing. Give parameter `random_state=0` to the splitting function so that the result is deterministic. Use training set size of 75% of the whole data.\n",
        "<hr/>"
      ]
    },
    {
      "cell_type": "code",
      "source": [
        "# Exercise - 1\n",
        "from sklearn.model_selection import train_test_split\n",
        "\n",
        "def blob_classification(X, y):\n",
        "  x_train, x_test, y_train, y_test = train_test_split(X, y, train_size = 0.75, random_state = 0)\n",
        "  model = GaussianNB()\n",
        "  model.fit(x_train, y_train)\n",
        "  y_hat = model.predict(x_test)\n",
        "  return accuracy_score(y_hat, y_test)\n"
      ],
      "metadata": {
        "id": "QRKLLA7gnmks"
      },
      "execution_count": 75,
      "outputs": []
    },
    {
      "cell_type": "code",
      "source": [
        "blob_classification(*make_blobs(100, 2, centers=2, random_state=2, cluster_std=1.5))"
      ],
      "metadata": {
        "colab": {
          "base_uri": "https://localhost:8080/"
        },
        "id": "3_w5KcOUqKrr",
        "outputId": "7393f1da-7bb6-49b5-a55d-d80b661f6a19"
      },
      "execution_count": 77,
      "outputs": [
        {
          "output_type": "execute_result",
          "data": {
            "text/plain": [
              "1.0"
            ]
          },
          "metadata": {},
          "execution_count": 77
        }
      ]
    },
    {
      "cell_type": "code",
      "source": [
        "from sklearn.datasets import load_iris\n",
        "data = load_iris()"
      ],
      "metadata": {
        "id": "j171vmJxqqfB"
      },
      "execution_count": 80,
      "outputs": []
    },
    {
      "cell_type": "code",
      "source": [
        "data"
      ],
      "metadata": {
        "id": "j0SF6Bl8rW1W"
      },
      "execution_count": null,
      "outputs": []
    },
    {
      "cell_type": "markdown",
      "metadata": {
        "id": "z3r24NN6V_L0"
      },
      "source": [
        "#### <div class=\"alert alert-info\">Exercise 2 (plant classification)</div>\n",
        "\n",
        "Write function `plant_classification` that does the following:\n",
        "\n",
        "* loads the iris dataset using sklearn (`sklearn.datasets.load_iris`)\n",
        "* splits the data into training and testing part using the `train_test_split` function so that the training set size is 80% of the whole data (give the call also the `random_state=0` argument to make the result deterministic)\n",
        "* use Gaussian naive Bayes to fit the training data\n",
        "* predict labels of the test data\n",
        "* the function should return the accuracy score of the prediction performance (`sklearn.metrics.accuracy_score`)\n",
        "<hr/>"
      ]
    },
    {
      "cell_type": "code",
      "source": [
        "def plant_calssification():\n",
        "  iris = load_iris()\n",
        "  X, y = iris.data, iris.target\n",
        "  x_train, x_test, y_train, y_test = train_test_split(X, y, train_size = 0.8, random_state = 0)\n",
        "  model = GaussianNB()\n",
        "  model.fit(x_train, y_train)\n",
        "  y_hat = model.predict(x_test)\n",
        "  return accuracy_score(y_hat, y_test)"
      ],
      "metadata": {
        "id": "Nzl3dzMgqlCZ"
      },
      "execution_count": 83,
      "outputs": []
    },
    {
      "cell_type": "code",
      "source": [
        "plant_calssification()"
      ],
      "metadata": {
        "colab": {
          "base_uri": "https://localhost:8080/"
        },
        "id": "ziirMUaMr0gk",
        "outputId": "a2beb7cf-4904-482d-a0d3-e5676fdd0ebb"
      },
      "execution_count": 84,
      "outputs": [
        {
          "output_type": "execute_result",
          "data": {
            "text/plain": [
              "0.9666666666666667"
            ]
          },
          "metadata": {},
          "execution_count": 84
        }
      ]
    }
  ]
}