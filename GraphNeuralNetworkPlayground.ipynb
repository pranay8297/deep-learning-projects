{
  "nbformat": 4,
  "nbformat_minor": 0,
  "metadata": {
    "colab": {
      "provenance": [],
      "gpuType": "T4",
      "collapsed_sections": [
        "0-mPsRuDf-Ok",
        "yck1UjDYgBl3",
        "NN1jBdqUKKzf",
        "pxR-bGTxHRr-",
        "WXIJEmlgkOG8"
      ],
      "authorship_tag": "ABX9TyMEMXXT9SUIMrpLkMfA5b/e",
      "include_colab_link": true
    },
    "kernelspec": {
      "name": "python3",
      "display_name": "Python 3"
    },
    "language_info": {
      "name": "python"
    },
    "accelerator": "GPU",
    "gpuClass": "standard"
  },
  "cells": [
    {
      "cell_type": "markdown",
      "metadata": {
        "id": "view-in-github",
        "colab_type": "text"
      },
      "source": [
        "<a href=\"https://colab.research.google.com/github/pranay8297/deep-learning-projects/blob/master/GraphNeuralNetworkPlayground.ipynb\" target=\"_parent\"><img src=\"https://colab.research.google.com/assets/colab-badge.svg\" alt=\"Open In Colab\"/></a>"
      ]
    },
    {
      "cell_type": "code",
      "source": [
        "!pip install torch_geometric\n",
        "!pip install  networkx\n",
        "!pip install ipdb"
      ],
      "metadata": {
        "colab": {
          "base_uri": "https://localhost:8080/"
        },
        "id": "hHp-KzOgdZ-x",
        "outputId": "61870225-9f48-43a4-a487-bd7a77606deb"
      },
      "execution_count": 1,
      "outputs": [
        {
          "output_type": "stream",
          "name": "stdout",
          "text": [
            "Requirement already satisfied: torch_geometric in /home/ec2-user/virtenv/lib/python3.7/site-packages (2.3.0)\n",
            "Requirement already satisfied: psutil>=5.8.0 in /home/ec2-user/virtenv/lib/python3.7/site-packages (from torch_geometric) (5.9.4)\n",
            "Requirement already satisfied: numpy in /home/ec2-user/virtenv/lib/python3.7/site-packages (from torch_geometric) (1.21.6)\n",
            "Requirement already satisfied: tqdm in /home/ec2-user/virtenv/lib/python3.7/site-packages (from torch_geometric) (4.65.0)\n",
            "Requirement already satisfied: requests in /home/ec2-user/virtenv/lib/python3.7/site-packages (from torch_geometric) (2.28.2)\n",
            "Requirement already satisfied: pyparsing in /home/ec2-user/virtenv/lib/python3.7/site-packages (from torch_geometric) (3.0.9)\n",
            "Requirement already satisfied: jinja2 in /home/ec2-user/virtenv/lib/python3.7/site-packages (from torch_geometric) (3.1.2)\n",
            "Requirement already satisfied: scipy in /home/ec2-user/virtenv/lib/python3.7/site-packages (from torch_geometric) (1.7.3)\n",
            "Requirement already satisfied: scikit-learn in /home/ec2-user/virtenv/lib/python3.7/site-packages (from torch_geometric) (1.0.2)\n",
            "Requirement already satisfied: MarkupSafe>=2.0 in /home/ec2-user/virtenv/lib/python3.7/site-packages (from jinja2->torch_geometric) (2.1.2)\n",
            "Requirement already satisfied: idna<4,>=2.5 in /home/ec2-user/virtenv/lib/python3.7/site-packages (from requests->torch_geometric) (3.4)\n",
            "Requirement already satisfied: charset-normalizer<4,>=2 in /home/ec2-user/virtenv/lib/python3.7/site-packages (from requests->torch_geometric) (3.1.0)\n",
            "Requirement already satisfied: certifi>=2017.4.17 in /home/ec2-user/virtenv/lib/python3.7/site-packages (from requests->torch_geometric) (2022.12.7)\n",
            "Requirement already satisfied: urllib3<1.27,>=1.21.1 in /home/ec2-user/virtenv/lib/python3.7/site-packages (from requests->torch_geometric) (1.26.15)\n",
            "Requirement already satisfied: threadpoolctl>=2.0.0 in /home/ec2-user/virtenv/lib/python3.7/site-packages (from scikit-learn->torch_geometric) (3.1.0)\n",
            "Requirement already satisfied: joblib>=0.11 in /home/ec2-user/virtenv/lib/python3.7/site-packages (from scikit-learn->torch_geometric) (1.2.0)\n",
            "^C\n",
            "\u001b[31mERROR: Operation cancelled by user\u001b[0m\u001b[31m\n",
            "\u001b[0m\u001b[33mWARNING: You are using pip version 22.0.4; however, version 23.1.2 is available.\n",
            "You should consider upgrading via the '/home/ec2-user/virtenv/bin/python3 -m pip install --upgrade pip' command.\u001b[0m\u001b[33m\n",
            "\u001b[0mRequirement already satisfied: networkx in /home/ec2-user/virtenv/lib/python3.7/site-packages (2.6.3)\n",
            "^C\n",
            "\u001b[31mERROR: Operation cancelled by user\u001b[0m\u001b[31m\n",
            "\u001b[0m\u001b[33mWARNING: You are using pip version 22.0.4; however, version 23.1.2 is available.\n",
            "You should consider upgrading via the '/home/ec2-user/virtenv/bin/python3 -m pip install --upgrade pip' command.\u001b[0m\u001b[33m\n",
            "\u001b[0mRequirement already satisfied: ipdb in /home/ec2-user/virtenv/lib/python3.7/site-packages (0.13.13)\n",
            "Requirement already satisfied: tomli in /home/ec2-user/virtenv/lib/python3.7/site-packages (from ipdb) (2.0.1)\n",
            "Requirement already satisfied: ipython>=7.31.1 in /home/ec2-user/virtenv/lib/python3.7/site-packages (from ipdb) (7.34.0)\n",
            "Requirement already satisfied: decorator in /home/ec2-user/virtenv/lib/python3.7/site-packages (from ipdb) (5.1.1)\n",
            "Requirement already satisfied: pexpect>4.3 in /home/ec2-user/virtenv/lib/python3.7/site-packages (from ipython>=7.31.1->ipdb) (4.8.0)\n",
            "Requirement already satisfied: pygments in /home/ec2-user/virtenv/lib/python3.7/site-packages (from ipython>=7.31.1->ipdb) (2.14.0)\n",
            "Requirement already satisfied: matplotlib-inline in /home/ec2-user/virtenv/lib/python3.7/site-packages (from ipython>=7.31.1->ipdb) (0.1.6)\n",
            "Requirement already satisfied: setuptools>=18.5 in /home/ec2-user/virtenv/lib/python3.7/site-packages (from ipython>=7.31.1->ipdb) (47.1.0)\n",
            "Requirement already satisfied: jedi>=0.16 in /home/ec2-user/virtenv/lib/python3.7/site-packages (from ipython>=7.31.1->ipdb) (0.18.2)\n",
            "Requirement already satisfied: traitlets>=4.2 in /home/ec2-user/virtenv/lib/python3.7/site-packages (from ipython>=7.31.1->ipdb) (5.9.0)\n",
            "Requirement already satisfied: pickleshare in /home/ec2-user/virtenv/lib/python3.7/site-packages (from ipython>=7.31.1->ipdb) (0.7.5)\n",
            "Requirement already satisfied: backcall in /home/ec2-user/virtenv/lib/python3.7/site-packages (from ipython>=7.31.1->ipdb) (0.2.0)\n",
            "Requirement already satisfied: prompt-toolkit!=3.0.0,!=3.0.1,<3.1.0,>=2.0.0 in /home/ec2-user/virtenv/lib/python3.7/site-packages (from ipython>=7.31.1->ipdb) (3.0.38)\n",
            "Requirement already satisfied: parso<0.9.0,>=0.8.0 in /home/ec2-user/virtenv/lib/python3.7/site-packages (from jedi>=0.16->ipython>=7.31.1->ipdb) (0.8.3)\n",
            "Requirement already satisfied: ptyprocess>=0.5 in /home/ec2-user/virtenv/lib/python3.7/site-packages (from pexpect>4.3->ipython>=7.31.1->ipdb) (0.7.0)\n",
            "Requirement already satisfied: wcwidth in /home/ec2-user/virtenv/lib/python3.7/site-packages (from prompt-toolkit!=3.0.0,!=3.0.1,<3.1.0,>=2.0.0->ipython>=7.31.1->ipdb) (0.2.6)\n",
            "^C\n",
            "\u001b[31mERROR: Operation cancelled by user\u001b[0m\u001b[31m\n",
            "\u001b[0m\u001b[33mWARNING: You are using pip version 22.0.4; however, version 23.1.2 is available.\n",
            "You should consider upgrading via the '/home/ec2-user/virtenv/bin/python3 -m pip install --upgrade pip' command.\u001b[0m\u001b[33m\n",
            "\u001b[0m"
          ]
        }
      ]
    },
    {
      "cell_type": "code",
      "execution_count": 1,
      "metadata": {
        "id": "4aeTbTBjwbT7"
      },
      "outputs": [],
      "source": [
        "from torch_geometric.datasets import Planetoid\n",
        "import torch\n",
        "import torch.nn.functional as F\n",
        "from torch_geometric.nn import MessagePassing\n",
        "from torch_geometric.utils import add_self_loops, degree\n",
        "import networkx as nx\n",
        "import numpy as np\n",
        "import matplotlib.pyplot as plt\n",
        "from ipdb import set_trace as st\n",
        "from torch import nn"
      ]
    },
    {
      "cell_type": "markdown",
      "source": [
        "# ITER - 1"
      ],
      "metadata": {
        "id": "0-mPsRuDf-Ok"
      }
    },
    {
      "cell_type": "code",
      "source": [
        "dataset = Planetoid(root='/tmp/Cora', name='Cora')"
      ],
      "metadata": {
        "colab": {
          "base_uri": "https://localhost:8080/"
        },
        "id": "LQRgr7BtdsA_",
        "outputId": "d41f1fbd-1dc5-49c2-8fdf-18d7cff366aa"
      },
      "execution_count": null,
      "outputs": [
        {
          "output_type": "stream",
          "name": "stderr",
          "text": [
            "Downloading https://github.com/kimiyoung/planetoid/raw/master/data/ind.cora.x\n",
            "Downloading https://github.com/kimiyoung/planetoid/raw/master/data/ind.cora.tx\n",
            "Downloading https://github.com/kimiyoung/planetoid/raw/master/data/ind.cora.allx\n",
            "Downloading https://github.com/kimiyoung/planetoid/raw/master/data/ind.cora.y\n",
            "Downloading https://github.com/kimiyoung/planetoid/raw/master/data/ind.cora.ty\n",
            "Downloading https://github.com/kimiyoung/planetoid/raw/master/data/ind.cora.ally\n",
            "Downloading https://github.com/kimiyoung/planetoid/raw/master/data/ind.cora.graph\n",
            "Downloading https://github.com/kimiyoung/planetoid/raw/master/data/ind.cora.test.index\n",
            "Processing...\n",
            "Done!\n"
          ]
        }
      ]
    },
    {
      "cell_type": "code",
      "source": [
        "dataset.__dict__"
      ],
      "metadata": {
        "colab": {
          "base_uri": "https://localhost:8080/"
        },
        "id": "DaBe7ktxdtZk",
        "outputId": "71d39bc9-12a3-4986-a0dd-59e950582355"
      },
      "execution_count": null,
      "outputs": [
        {
          "output_type": "execute_result",
          "data": {
            "text/plain": [
              "{'name': 'Cora',\n",
              " 'split': 'public',\n",
              " 'root': '/tmp/Cora',\n",
              " 'transform': None,\n",
              " 'pre_transform': None,\n",
              " 'pre_filter': None,\n",
              " 'log': True,\n",
              " '_indices': None,\n",
              " '_data': Data(x=[2708, 1433], edge_index=[2, 10556], y=[2708], train_mask=[2708], val_mask=[2708], test_mask=[2708]),\n",
              " 'slices': None,\n",
              " '_data_list': None}"
            ]
          },
          "metadata": {},
          "execution_count": 5
        }
      ]
    },
    {
      "cell_type": "code",
      "source": [
        "dataset.num_node_features, dataset.num_edge_features"
      ],
      "metadata": {
        "colab": {
          "base_uri": "https://localhost:8080/"
        },
        "id": "tzoSXUA-d6mJ",
        "outputId": "0ed6ca8c-12fa-47da-dd1d-c3525b632267"
      },
      "execution_count": null,
      "outputs": [
        {
          "output_type": "execute_result",
          "data": {
            "text/plain": [
              "(1433, 0)"
            ]
          },
          "metadata": {},
          "execution_count": 6
        }
      ]
    },
    {
      "cell_type": "code",
      "source": [
        "dataset._data.x"
      ],
      "metadata": {
        "colab": {
          "base_uri": "https://localhost:8080/"
        },
        "id": "OhRjQaW8eETm",
        "outputId": "e4bcdd3a-fae4-4537-81d8-58d7e62d63cf"
      },
      "execution_count": null,
      "outputs": [
        {
          "output_type": "execute_result",
          "data": {
            "text/plain": [
              "tensor([[0., 0., 0.,  ..., 0., 0., 0.],\n",
              "        [0., 0., 0.,  ..., 0., 0., 0.],\n",
              "        [0., 0., 0.,  ..., 0., 0., 0.],\n",
              "        ...,\n",
              "        [0., 0., 0.,  ..., 0., 0., 0.],\n",
              "        [0., 0., 0.,  ..., 0., 0., 0.],\n",
              "        [0., 0., 0.,  ..., 0., 0., 0.]])"
            ]
          },
          "metadata": {},
          "execution_count": 7
        }
      ]
    },
    {
      "cell_type": "code",
      "source": [
        "edges = dataset.data.edge_index"
      ],
      "metadata": {
        "id": "yyZ6JsN24xdn"
      },
      "execution_count": null,
      "outputs": []
    },
    {
      "cell_type": "code",
      "source": [
        "edges.shape"
      ],
      "metadata": {
        "colab": {
          "base_uri": "https://localhost:8080/"
        },
        "id": "Lj_dGBYNVk4I",
        "outputId": "4e4f54aa-01e0-480d-dfa9-06ff6935245d"
      },
      "execution_count": null,
      "outputs": [
        {
          "output_type": "execute_result",
          "data": {
            "text/plain": [
              "torch.Size([2, 10556])"
            ]
          },
          "metadata": {},
          "execution_count": 10
        }
      ]
    },
    {
      "cell_type": "code",
      "source": [
        "edges = dataset.data.edge_index.numpy()"
      ],
      "metadata": {
        "id": "PnTFu2WsV5NK"
      },
      "execution_count": null,
      "outputs": []
    },
    {
      "cell_type": "code",
      "source": [
        "np.min(edges[0] == edges[0, :]), np.min(edges[1] == edges[1, :])"
      ],
      "metadata": {
        "colab": {
          "base_uri": "https://localhost:8080/"
        },
        "id": "Spot8iZgW2KF",
        "outputId": "f7630780-0b56-4bd9-bab0-875f52964cb2"
      },
      "execution_count": null,
      "outputs": [
        {
          "output_type": "execute_result",
          "data": {
            "text/plain": [
              "(True, True)"
            ]
          },
          "metadata": {},
          "execution_count": 21
        }
      ]
    },
    {
      "cell_type": "code",
      "source": [
        "edge_list = [(x, y) for x, y in zip(edges[0], edges[1])]"
      ],
      "metadata": {
        "id": "OYMGXjJYW2zf"
      },
      "execution_count": null,
      "outputs": []
    },
    {
      "cell_type": "code",
      "source": [
        "edge_list"
      ],
      "metadata": {
        "id": "xqaLfUYFXZJM"
      },
      "execution_count": null,
      "outputs": []
    },
    {
      "cell_type": "code",
      "source": [
        "nodes = [i for i in range(np.max(edge_list))]"
      ],
      "metadata": {
        "id": "Ljj-RSehXd7W"
      },
      "execution_count": null,
      "outputs": []
    },
    {
      "cell_type": "code",
      "source": [
        "graph = nx.Graph()"
      ],
      "metadata": {
        "id": "eMFRTk48XvLH"
      },
      "execution_count": null,
      "outputs": []
    },
    {
      "cell_type": "code",
      "source": [
        "graph.add_nodes_from(nodes)\n",
        "graph.add_edges_from(edge_list)\n"
      ],
      "metadata": {
        "id": "jz6vMzs4Xxx9"
      },
      "execution_count": null,
      "outputs": []
    },
    {
      "cell_type": "code",
      "source": [
        "labels = dataset.data.y"
      ],
      "metadata": {
        "id": "ecX7lK1SYBGP"
      },
      "execution_count": null,
      "outputs": []
    },
    {
      "cell_type": "code",
      "source": [
        "plt.subplot(111)\n",
        "options = {\n",
        "            'node_size': 30,\n",
        "            'width': 0.2,\n",
        "}\n",
        "nx.draw(graph, with_labels=False, node_color=labels.tolist(), cmap=plt.cm.tab10, font_weight='bold', **options)\n",
        "plt.show()\n"
      ],
      "metadata": {
        "colab": {
          "base_uri": "https://localhost:8080/",
          "height": 406
        },
        "id": "DzqbQPPkX5lD",
        "outputId": "f6256709-a57b-4f43-cf28-4f42e80b8be4"
      },
      "execution_count": null,
      "outputs": [
        {
          "output_type": "display_data",
          "data": {
            "text/plain": [
              "<Figure size 640x480 with 1 Axes>"
            ],
            "image/png": "[encoded data removed]"
          },
          "metadata": {}
        }
      ]
    },
    {
      "cell_type": "code",
      "source": [
        "def plot_dataset(dataset):\n",
        "    edges_raw = dataset.data.edge_index.numpy()\n",
        "    edges = [(x, y) for x, y in zip(edges_raw[0, :], edges_raw[1, :])]\n",
        "    labels = dataset.data.y.numpy()\n",
        "\n",
        "    G = nx.Graph()\n",
        "    G.add_nodes_from(list(range(np.max(edges_raw))))\n",
        "    G.add_edges_from(edges)\n",
        "    plt.subplot(111)\n",
        "    options = {\n",
        "                'node_size': 30,\n",
        "                'width': 0.2,\n",
        "    }\n",
        "    nx.draw(G, with_labels=False, node_color=labels.tolist(), cmap=plt.cm.tab10, font_weight='bold', **options)\n",
        "    plt.show()\n",
        "# plot_dataset(dataset)"
      ],
      "metadata": {
        "id": "qnBv__TCX9XV"
      },
      "execution_count": null,
      "outputs": []
    },
    {
      "cell_type": "code",
      "source": [
        "# 2 classes - Single Layer Class and a Neural Network class that has multiple layers\n",
        "class GCNConv(MessagePassing):\n",
        "    def __init__(self, in_channels, out_channels):\n",
        "        super(GCNConv, self).__init__(aggr='add')  # \"Add\" aggregation\n",
        "        self.lin = torch.nn.Linear(in_channels, out_channels)\n",
        "\n",
        "    def forward(self, x, edge_index):\n",
        "        # Step 1: Add self-loops\n",
        "\n",
        "        edge_index, _ = add_self_loops(edge_index, num_nodes=x.size(0))\n",
        "\n",
        "        # Step 2: Multiply with weights\n",
        "        x = self.lin(x)\n",
        "\n",
        "        # Step 3: Calculate the normalization\n",
        "        row, col = edge_index\n",
        "        deg = degree(row, x.size(0), dtype=x.dtype)\n",
        "        deg_inv_sqrt = deg.pow(-0.5)\n",
        "        norm = deg_inv_sqrt[row] * deg_inv_sqrt[col]\n",
        "\n",
        "        # Step 4: Propagate the embeddings to the next layer\n",
        "        return self.propagate(edge_index, size=(x.size(0), x.size(0)), x=x,\n",
        "                              norm=norm)\n",
        "\n",
        "    def message(self, x_j, norm):\n",
        "        # Normalize node features.\n",
        "\n",
        "        return x_j\n"
      ],
      "metadata": {
        "id": "kyqtPjGFY-nl"
      },
      "execution_count": null,
      "outputs": []
    },
    {
      "cell_type": "code",
      "source": [
        "class Net(nn.Module):\n",
        "  def __init__(self, dataset):\n",
        "    super(Net, self).__init__()\n",
        "    self.c1 = GCNConv(dataset.num_node_features, 24)\n",
        "    self.bn = nn.BatchNorm1d(24)\n",
        "    self.c2 = GCNConv(24, dataset.num_classes)\n",
        "    self.bn_2 = nn.BatchNorm1d(dataset.num_classes)\n",
        "  \n",
        "  def forward(self, dataset):\n",
        "    x, edge_index = dataset.data.x, dataset.data.edge_index\n",
        "\n",
        "    h1 = F.relu(self.bn(self.c1(x, edge_index)))\n",
        "    h1 = F.dropout(h1, p = 0.5, training = self.training)\n",
        "    h2 = F.dropout(self.bn_2(self.c2(h1, edge_index)), p = 0.5, training = self.training)\n",
        "    return F.log_softmax(h2, dim = 1)\n"
      ],
      "metadata": {
        "id": "Mfpbqtn5cTHN"
      },
      "execution_count": null,
      "outputs": []
    },
    {
      "cell_type": "code",
      "source": [
        "layer = GCNConv(dataset.num_node_features, 24)"
      ],
      "metadata": {
        "id": "mE-UNOJCakI7"
      },
      "execution_count": null,
      "outputs": []
    },
    {
      "cell_type": "code",
      "source": [
        "x, edge_index = dataset.x, dataset.edge_index"
      ],
      "metadata": {
        "id": "ECIQ3hP1aqa2"
      },
      "execution_count": null,
      "outputs": []
    },
    {
      "cell_type": "code",
      "source": [
        "yhat = layer(x, edge_index)"
      ],
      "metadata": {
        "id": "nuLzRAa-ayZw"
      },
      "execution_count": null,
      "outputs": []
    },
    {
      "cell_type": "code",
      "source": [
        "yhat.shape"
      ],
      "metadata": {
        "colab": {
          "base_uri": "https://localhost:8080/"
        },
        "id": "l42FJnXlcMX0",
        "outputId": "6509bc5d-6e44-4fe6-f26c-44d2a8ef4952"
      },
      "execution_count": null,
      "outputs": [
        {
          "output_type": "execute_result",
          "data": {
            "text/plain": [
              "torch.Size([2708, 100])"
            ]
          },
          "metadata": {},
          "execution_count": 44
        }
      ]
    },
    {
      "cell_type": "code",
      "source": [
        "model = Net(dataset)\n",
        "device = torch.device('cuda' if torch.cuda.is_available() else 'cpu')\n",
        "optimizer = torch.optim.Adam(model.parameters(), lr=0.01, weight_decay=1e-2)\n",
        "\n",
        "def test(data, train=True):\n",
        "    model.eval()\n",
        "\n",
        "    correct = 0\n",
        "    pred = model(data).max(dim=1)[1]\n",
        "\n",
        "    if train:\n",
        "        correct += pred[data.train_mask].eq(data.y[data.train_mask]).sum().item()\n",
        "        return correct / (len(data.y[data.train_mask]))\n",
        "    else:\n",
        "        correct += pred[data.test_mask].eq(data.y[data.test_mask]).sum().item()\n",
        "        return correct / (len(data.y[data.test_mask]))\n",
        "\n",
        "def train(data, plot=False):\n",
        "    train_accuracies, test_accuracies = list(), list()\n",
        "    for epoch in range(100):\n",
        "            model.train()\n",
        "            optimizer.zero_grad()\n",
        "            out = model(data)\n",
        "            loss = F.nll_loss(out[data.train_mask], data.y[data.train_mask])\n",
        "            loss.backward()\n",
        "            optimizer.step()\n",
        "\n",
        "            train_acc = test(data)\n",
        "            test_acc = test(data, train=False)\n",
        "\n",
        "            train_accuracies.append(train_acc)\n",
        "            test_accuracies.append(test_acc)\n",
        "            print('Epoch: {:03d}, Loss: {:.5f}, Train Acc: {:.5f}, Test Acc: {:.5f}'.\n",
        "                  format(epoch, loss, train_acc, test_acc))\n",
        "\n",
        "    if plot:\n",
        "        plt.plot(train_accuracies, label=\"Train accuracy\")\n",
        "        plt.plot(test_accuracies, label=\"Validation accuracy\")\n",
        "        plt.xlabel(\"# Epoch\")\n",
        "        plt.ylabel(\"Accuracy\")\n",
        "        plt.legend(loc='upper right')\n",
        "        plt.show()"
      ],
      "metadata": {
        "id": "K9SYK32dfGDA"
      },
      "execution_count": null,
      "outputs": []
    },
    {
      "cell_type": "code",
      "source": [
        "train(dataset, plot = True)"
      ],
      "metadata": {
        "id": "lxsu3Q1sfVQG"
      },
      "execution_count": null,
      "outputs": []
    },
    {
      "cell_type": "markdown",
      "source": [
        "# ITER - 2"
      ],
      "metadata": {
        "id": "yck1UjDYgBl3"
      }
    },
    {
      "cell_type": "code",
      "source": [
        "'''\n",
        "2 functions \n",
        "1. update function - gaama\n",
        "2. message function - fi\n",
        "\n",
        "Spec: \n",
        "What aggregation sceheme to use. weather its mean, add or max?\n",
        "Edge Conv: Xik = sum(mlp(XiK-1 , (XiK-1) - (XjK-1)))\n",
        "'''"
      ],
      "metadata": {
        "id": "pHzceqFsgIQI"
      },
      "execution_count": null,
      "outputs": []
    },
    {
      "cell_type": "code",
      "source": [
        "class EdgeConv(MessagePassing):\n",
        "  def __init__(self, in_channels, out_channels):\n",
        "    super(EdgeConv, self).__init__(aggr = 'add')\n",
        "    self.mlp = nn.Sequential(nn.Linear(in_channels*2, out_channels),\n",
        "                             nn.BatchNorm1d(out_channels),\n",
        "                             nn.ReLU(), \n",
        "                             nn.Linear(out_channels, out_channels),\n",
        "                             nn.BatchNorm1d(out_channels))\n",
        "    \n",
        "  def forward(self, x, edge_index):\n",
        "    return self.propagate(edge_index, x = x)\n",
        "  \n",
        "  def message(self, x_i, x_j):\n",
        "    inp = torch.cat([x_i, (x_j - x_i)], dim = 1)\n",
        "    return self.mlp(inp)"
      ],
      "metadata": {
        "id": "Scp7dOgLxX0F"
      },
      "execution_count": null,
      "outputs": []
    },
    {
      "cell_type": "code",
      "source": [
        "a = torch.randn(1, 10)\n",
        "b = torch.randn(1, 10)\n",
        "c = torch.cat([a, b], dim = 1)\n",
        "\n",
        "c.shape"
      ],
      "metadata": {
        "colab": {
          "base_uri": "https://localhost:8080/"
        },
        "id": "UbBKM3sC2Yvy",
        "outputId": "96b427d8-308a-4f98-d608-03140d2220c2"
      },
      "execution_count": null,
      "outputs": [
        {
          "output_type": "execute_result",
          "data": {
            "text/plain": [
              "torch.Size([1, 20])"
            ]
          },
          "metadata": {},
          "execution_count": 11
        }
      ]
    },
    {
      "cell_type": "code",
      "source": [
        "edge_conv = EdgeConv(dataset.num_node_features, 128)"
      ],
      "metadata": {
        "id": "W4UiSKtp4Vi4"
      },
      "execution_count": null,
      "outputs": []
    },
    {
      "cell_type": "code",
      "source": [
        "class EdgeNet(nn.Module):\n",
        "  def __init__(self, dataset):\n",
        "    super(EdgeNet, self).__init__()\n",
        "    self.c1 = EdgeConv(dataset.num_node_features, 128)\n",
        "    self.c2 = GCNConv(128, dataset.num_classes)\n",
        "  \n",
        "  def forward(self, dataset):\n",
        "    x, edge_index = dataset.data.x, dataset.data.edge_index\n",
        "\n",
        "    h1 = self.c1(x, edge_index)\n",
        "    h1 = F.dropout(h1, p = 0.5, training = self.training)\n",
        "    h2 = F.dropout(self.c2(h1, edge_index), p = 0.5, training = self.training)\n",
        "    return F.log_softmax(h2, dim = 1)"
      ],
      "metadata": {
        "id": "RzdjUGBj5qjV"
      },
      "execution_count": null,
      "outputs": []
    },
    {
      "cell_type": "code",
      "source": [
        "model = EdgeNet(dataset)\n",
        "device = torch.device('cuda' if torch.cuda.is_available() else 'cpu')\n",
        "optimizer = torch.optim.Adam(model.parameters(), lr=0.01, weight_decay=1e-2)"
      ],
      "metadata": {
        "id": "KEYfhKhh5Gds"
      },
      "execution_count": null,
      "outputs": []
    },
    {
      "cell_type": "code",
      "source": [
        "train(dataset, plot = True)"
      ],
      "metadata": {
        "colab": {
          "base_uri": "https://localhost:8080/",
          "height": 1000
        },
        "id": "DkOTHGDr5QCv",
        "outputId": "16de082a-675d-4a50-e9e0-f79a9020ac3d"
      },
      "execution_count": null,
      "outputs": [
        {
          "output_type": "stream",
          "name": "stderr",
          "text": [
            "/usr/local/lib/python3.10/dist-packages/torch_geometric/data/in_memory_dataset.py:157: UserWarning: It is not recommended to directly access the internal storage format `data` of an 'InMemoryDataset'. If you are absolutely certain what you are doing, access the internal storage via `InMemoryDataset._data` instead to suppress this warning. Alternatively, you can access stacked individual attributes of every graph via `dataset.{attr_name}`.\n",
            "  warnings.warn(msg)\n"
          ]
        },
        {
          "output_type": "stream",
          "name": "stdout",
          "text": [
            "Epoch: 000, Loss: 58.05602, Train Acc: 0.49286, Test Acc: 0.34900\n",
            "Epoch: 001, Loss: 43.36913, Train Acc: 0.52857, Test Acc: 0.31500\n",
            "Epoch: 002, Loss: 50.69139, Train Acc: 0.57143, Test Acc: 0.31200\n",
            "Epoch: 003, Loss: 41.02229, Train Acc: 0.61429, Test Acc: 0.36400\n",
            "Epoch: 004, Loss: 29.34721, Train Acc: 0.65000, Test Acc: 0.39400\n",
            "Epoch: 005, Loss: 20.61322, Train Acc: 0.63571, Test Acc: 0.40500\n",
            "Epoch: 006, Loss: 7.98051, Train Acc: 0.65714, Test Acc: 0.39000\n",
            "Epoch: 007, Loss: 17.08380, Train Acc: 0.64286, Test Acc: 0.41900\n",
            "Epoch: 008, Loss: 49.49514, Train Acc: 0.65714, Test Acc: 0.39700\n",
            "Epoch: 009, Loss: 26.77965, Train Acc: 0.68571, Test Acc: 0.38900\n",
            "Epoch: 010, Loss: 21.99355, Train Acc: 0.65000, Test Acc: 0.38700\n",
            "Epoch: 011, Loss: 21.39690, Train Acc: 0.58571, Test Acc: 0.38400\n",
            "Epoch: 012, Loss: 36.78561, Train Acc: 0.55714, Test Acc: 0.38500\n",
            "Epoch: 013, Loss: 70.36671, Train Acc: 0.58571, Test Acc: 0.39300\n",
            "Epoch: 014, Loss: 34.05000, Train Acc: 0.61429, Test Acc: 0.41400\n",
            "Epoch: 015, Loss: 2.43582, Train Acc: 0.62143, Test Acc: 0.44200\n",
            "Epoch: 016, Loss: 2.17929, Train Acc: 0.64286, Test Acc: 0.44900\n",
            "Epoch: 017, Loss: 17.87963, Train Acc: 0.66429, Test Acc: 0.46300\n",
            "Epoch: 018, Loss: 45.08458, Train Acc: 0.69286, Test Acc: 0.46600\n",
            "Epoch: 019, Loss: 9.27827, Train Acc: 0.75000, Test Acc: 0.47100\n",
            "Epoch: 020, Loss: 47.98757, Train Acc: 0.77143, Test Acc: 0.45500\n",
            "Epoch: 021, Loss: 3.63739, Train Acc: 0.80714, Test Acc: 0.45300\n",
            "Epoch: 022, Loss: 13.61820, Train Acc: 0.83571, Test Acc: 0.45900\n",
            "Epoch: 023, Loss: 27.14381, Train Acc: 0.85000, Test Acc: 0.45100\n",
            "Epoch: 024, Loss: 24.60699, Train Acc: 0.88571, Test Acc: 0.45500\n",
            "Epoch: 025, Loss: 22.16290, Train Acc: 0.88571, Test Acc: 0.46300\n",
            "Epoch: 026, Loss: 11.53677, Train Acc: 0.90714, Test Acc: 0.47300\n",
            "Epoch: 027, Loss: 23.12464, Train Acc: 0.87857, Test Acc: 0.47000\n",
            "Epoch: 028, Loss: 18.85653, Train Acc: 0.88571, Test Acc: 0.45700\n",
            "Epoch: 029, Loss: 9.68815, Train Acc: 0.88571, Test Acc: 0.45300\n",
            "Epoch: 030, Loss: 1.34047, Train Acc: 0.87143, Test Acc: 0.45800\n",
            "Epoch: 031, Loss: 20.06050, Train Acc: 0.87143, Test Acc: 0.45900\n",
            "Epoch: 032, Loss: 3.47910, Train Acc: 0.87857, Test Acc: 0.45700\n",
            "Epoch: 033, Loss: 22.55711, Train Acc: 0.89286, Test Acc: 0.46000\n",
            "Epoch: 034, Loss: 10.29799, Train Acc: 0.90000, Test Acc: 0.46800\n",
            "Epoch: 035, Loss: 3.46269, Train Acc: 0.91429, Test Acc: 0.47700\n",
            "Epoch: 036, Loss: 36.32815, Train Acc: 0.93571, Test Acc: 0.48300\n",
            "Epoch: 037, Loss: 2.14685, Train Acc: 0.95714, Test Acc: 0.48800\n",
            "Epoch: 038, Loss: 28.03862, Train Acc: 0.97143, Test Acc: 0.49600\n",
            "Epoch: 039, Loss: 23.17275, Train Acc: 0.97857, Test Acc: 0.49500\n",
            "Epoch: 040, Loss: 27.86034, Train Acc: 0.98571, Test Acc: 0.50600\n",
            "Epoch: 041, Loss: 14.91651, Train Acc: 0.98571, Test Acc: 0.51400\n",
            "Epoch: 042, Loss: 12.80873, Train Acc: 0.98571, Test Acc: 0.52800\n",
            "Epoch: 043, Loss: 55.90694, Train Acc: 0.98571, Test Acc: 0.52700\n",
            "Epoch: 044, Loss: 12.09605, Train Acc: 0.96429, Test Acc: 0.53600\n",
            "Epoch: 045, Loss: 61.58188, Train Acc: 0.96429, Test Acc: 0.52300\n",
            "Epoch: 046, Loss: 2.34401, Train Acc: 0.95000, Test Acc: 0.50600\n",
            "Epoch: 047, Loss: 15.48700, Train Acc: 0.95714, Test Acc: 0.50600\n",
            "Epoch: 048, Loss: 1.07558, Train Acc: 0.95000, Test Acc: 0.50200\n",
            "Epoch: 049, Loss: 40.32886, Train Acc: 0.95000, Test Acc: 0.50500\n",
            "Epoch: 050, Loss: 32.56684, Train Acc: 0.94286, Test Acc: 0.50400\n",
            "Epoch: 051, Loss: 14.99372, Train Acc: 0.93571, Test Acc: 0.50900\n",
            "Epoch: 052, Loss: 41.09079, Train Acc: 0.95000, Test Acc: 0.51400\n",
            "Epoch: 053, Loss: 28.34230, Train Acc: 0.95714, Test Acc: 0.51800\n",
            "Epoch: 054, Loss: 26.06663, Train Acc: 0.96429, Test Acc: 0.51400\n",
            "Epoch: 055, Loss: 17.05902, Train Acc: 0.98571, Test Acc: 0.51300\n",
            "Epoch: 056, Loss: 23.34657, Train Acc: 0.99286, Test Acc: 0.52100\n",
            "Epoch: 057, Loss: 2.10240, Train Acc: 0.99286, Test Acc: 0.52300\n",
            "Epoch: 058, Loss: 1.40384, Train Acc: 0.99286, Test Acc: 0.53100\n",
            "Epoch: 059, Loss: 13.03387, Train Acc: 0.99286, Test Acc: 0.53400\n",
            "Epoch: 060, Loss: 5.33912, Train Acc: 0.99286, Test Acc: 0.53200\n",
            "Epoch: 061, Loss: 11.34915, Train Acc: 0.99286, Test Acc: 0.53200\n",
            "Epoch: 062, Loss: 39.70705, Train Acc: 0.99286, Test Acc: 0.53100\n",
            "Epoch: 063, Loss: 15.78058, Train Acc: 0.99286, Test Acc: 0.53200\n",
            "Epoch: 064, Loss: 6.18677, Train Acc: 0.99286, Test Acc: 0.53100\n",
            "Epoch: 065, Loss: 2.34742, Train Acc: 0.99286, Test Acc: 0.53100\n",
            "Epoch: 066, Loss: 0.96283, Train Acc: 0.99286, Test Acc: 0.53200\n",
            "Epoch: 067, Loss: 1.77698, Train Acc: 0.99286, Test Acc: 0.52800\n",
            "Epoch: 068, Loss: 11.87816, Train Acc: 0.99286, Test Acc: 0.53500\n",
            "Epoch: 069, Loss: 4.45098, Train Acc: 0.99286, Test Acc: 0.54300\n",
            "Epoch: 070, Loss: 3.12439, Train Acc: 0.99286, Test Acc: 0.54900\n",
            "Epoch: 071, Loss: 5.24133, Train Acc: 0.99286, Test Acc: 0.54800\n",
            "Epoch: 072, Loss: 0.92401, Train Acc: 0.99286, Test Acc: 0.54500\n",
            "Epoch: 073, Loss: 3.98756, Train Acc: 0.99286, Test Acc: 0.54500\n",
            "Epoch: 074, Loss: 4.92922, Train Acc: 0.99286, Test Acc: 0.54700\n",
            "Epoch: 075, Loss: 1.09205, Train Acc: 0.99286, Test Acc: 0.54800\n",
            "Epoch: 076, Loss: 6.53340, Train Acc: 0.99286, Test Acc: 0.55200\n",
            "Epoch: 077, Loss: 1.06396, Train Acc: 0.99286, Test Acc: 0.55600\n",
            "Epoch: 078, Loss: 10.81557, Train Acc: 0.99286, Test Acc: 0.55800\n",
            "Epoch: 079, Loss: 0.78351, Train Acc: 0.99286, Test Acc: 0.56000\n",
            "Epoch: 080, Loss: 1.64528, Train Acc: 0.99286, Test Acc: 0.56200\n",
            "Epoch: 081, Loss: 16.11495, Train Acc: 1.00000, Test Acc: 0.57000\n",
            "Epoch: 082, Loss: 4.42878, Train Acc: 1.00000, Test Acc: 0.57700\n",
            "Epoch: 083, Loss: 0.77051, Train Acc: 1.00000, Test Acc: 0.57800\n",
            "Epoch: 084, Loss: 5.63202, Train Acc: 1.00000, Test Acc: 0.57700\n",
            "Epoch: 085, Loss: 0.80273, Train Acc: 1.00000, Test Acc: 0.57300\n",
            "Epoch: 086, Loss: 2.21246, Train Acc: 1.00000, Test Acc: 0.57300\n",
            "Epoch: 087, Loss: 1.39277, Train Acc: 0.99286, Test Acc: 0.57800\n",
            "Epoch: 088, Loss: 8.52985, Train Acc: 0.98571, Test Acc: 0.57900\n",
            "Epoch: 089, Loss: 0.71780, Train Acc: 0.98571, Test Acc: 0.57800\n",
            "Epoch: 090, Loss: 3.12834, Train Acc: 0.98571, Test Acc: 0.57800\n",
            "Epoch: 091, Loss: 4.50153, Train Acc: 0.98571, Test Acc: 0.57900\n",
            "Epoch: 092, Loss: 5.85033, Train Acc: 0.98571, Test Acc: 0.58300\n",
            "Epoch: 093, Loss: 2.76986, Train Acc: 0.98571, Test Acc: 0.57900\n",
            "Epoch: 094, Loss: 9.01079, Train Acc: 0.99286, Test Acc: 0.57600\n",
            "Epoch: 095, Loss: 8.86850, Train Acc: 0.99286, Test Acc: 0.57300\n",
            "Epoch: 096, Loss: 5.52491, Train Acc: 0.99286, Test Acc: 0.56400\n",
            "Epoch: 097, Loss: 1.79416, Train Acc: 0.99286, Test Acc: 0.55800\n",
            "Epoch: 098, Loss: 1.05792, Train Acc: 0.99286, Test Acc: 0.55300\n",
            "Epoch: 099, Loss: 1.59555, Train Acc: 1.00000, Test Acc: 0.54700\n"
          ]
        },
        {
          "output_type": "display_data",
          "data": {
            "text/plain": [
              "<Figure size 640x480 with 1 Axes>"
            ],
            "image/png": "[encoded data removed]"
          },
          "metadata": {}
        }
      ]
    },
    {
      "cell_type": "markdown",
      "source": [
        "# Graph Classification"
      ],
      "metadata": {
        "id": "NN1jBdqUKKzf"
      }
    },
    {
      "cell_type": "code",
      "source": [
        "import torch\n",
        "from torch_geometric.datasets import TUDataset\n",
        "dataset = TUDataset(root='data/TUDataset', name='MUTAG')\n",
        "\n",
        "torch.manual_seed(12345)\n",
        "dataset = dataset.shuffle()\n",
        "\n",
        "train_dataset = dataset[:150]\n",
        "test_dataset = dataset[150:]\n",
        "\n",
        "from torch_geometric.loader import DataLoader\n",
        "train_loader = DataLoader(train_dataset, batch_size = 16, shuffle = True)\n",
        "test_loader = DataLoader(test_dataset, batch_size = 16, shuffle = True)"
      ],
      "metadata": {
        "id": "UlI-tlAGA73d"
      },
      "execution_count": 64,
      "outputs": []
    },
    {
      "cell_type": "code",
      "source": [],
      "metadata": {
        "colab": {
          "base_uri": "https://localhost:8080/",
          "height": 169
        },
        "id": "tgBJ6ro7KIYw",
        "outputId": "2577553f-cc42-478d-bf49-34f85692cdf3"
      },
      "execution_count": null,
      "outputs": [
        {
          "output_type": "error",
          "ename": "NameError",
          "evalue": "ignored",
          "traceback": [
            "\u001b[0;31m---------------------------------------------------------------------------\u001b[0m",
            "\u001b[0;31mNameError\u001b[0m                                 Traceback (most recent call last)",
            "\u001b[0;32m<ipython-input-5-4559cc8fd2c4>\u001b[0m in \u001b[0;36m<cell line: 1>\u001b[0;34m()\u001b[0m\n\u001b[0;32m----> 1\u001b[0;31m \u001b[0mdataset\u001b[0m \u001b[0;34m=\u001b[0m \u001b[0mTUDataset\u001b[0m\u001b[0;34m(\u001b[0m\u001b[0mroot\u001b[0m\u001b[0;34m=\u001b[0m\u001b[0;34m'data/TUDataset'\u001b[0m\u001b[0;34m,\u001b[0m \u001b[0mname\u001b[0m\u001b[0;34m=\u001b[0m\u001b[0;34m'MUTAG'\u001b[0m\u001b[0;34m)\u001b[0m\u001b[0;34m\u001b[0m\u001b[0;34m\u001b[0m\u001b[0m\n\u001b[0m",
            "\u001b[0;31mNameError\u001b[0m: name 'TUDataset' is not defined"
          ]
        }
      ]
    },
    {
      "cell_type": "code",
      "source": [
        "dataset[0]"
      ],
      "metadata": {
        "colab": {
          "base_uri": "https://localhost:8080/"
        },
        "id": "sKNLg8JvKUmy",
        "outputId": "3c23b063-da5a-46b9-92ac-3262ac3418e6"
      },
      "execution_count": null,
      "outputs": [
        {
          "output_type": "execute_result",
          "data": {
            "text/plain": [
              "Data(edge_index=[2, 38], x=[17, 7], edge_attr=[38, 4], y=[1])"
            ]
          },
          "metadata": {},
          "execution_count": 7
        }
      ]
    },
    {
      "cell_type": "code",
      "source": [
        "data = dataset[0]"
      ],
      "metadata": {
        "id": "H9gTN2B6KWqq"
      },
      "execution_count": null,
      "outputs": []
    },
    {
      "cell_type": "code",
      "source": [
        "def plot_graph(data):\n",
        "    edges_raw = data.edge_index.numpy()\n",
        "    edges = [(x, y) for x, y in zip(edges_raw[0, :], edges_raw[1, :])]\n",
        "    labels = data.y.numpy()\n",
        "\n",
        "    G = nx.Graph()\n",
        "    G.add_nodes_from(list(range(np.max(edges_raw))))\n",
        "    G.add_edges_from(edges)\n",
        "    plt.subplot(111)\n",
        "    options = {\n",
        "                'node_size': 30,\n",
        "                'width': 0.2,\n",
        "    }\n",
        "    nx.draw(G, with_labels=False,  cmap=plt.cm.tab10, font_weight='bold', **options)\n",
        "    plt.show()\n",
        "# plot_dataset(dataset)"
      ],
      "metadata": {
        "id": "VXXi3GKnKX_U"
      },
      "execution_count": 30,
      "outputs": []
    },
    {
      "cell_type": "code",
      "source": [
        "plot_graph(data)"
      ],
      "metadata": {
        "colab": {
          "base_uri": "https://localhost:8080/",
          "height": 406
        },
        "id": "KOmStyBNK10r",
        "outputId": "19fa25fd-8852-4104-87c1-07424fad13e4"
      },
      "execution_count": null,
      "outputs": [
        {
          "output_type": "display_data",
          "data": {
            "text/plain": [
              "<Figure size 640x480 with 1 Axes>"
            ],
            "image/png": "[encoded data removed]"
          },
          "metadata": {}
        }
      ]
    },
    {
      "cell_type": "code",
      "source": [
        "data.edge_index"
      ],
      "metadata": {
        "colab": {
          "base_uri": "https://localhost:8080/"
        },
        "id": "RdQ-fzefbM5A",
        "outputId": "d13b98da-bcbf-4423-f4a3-f67926914c0c"
      },
      "execution_count": null,
      "outputs": [
        {
          "output_type": "execute_result",
          "data": {
            "text/plain": [
              "tensor([[ 0,  0,  1,  1,  2,  2,  3,  3,  3,  4,  4,  4,  5,  5,  6,  6,  7,  7,\n",
              "          8,  8,  8,  9,  9,  9, 10, 10, 11, 11, 12, 12, 12, 13, 13, 14, 14, 14,\n",
              "         15, 16],\n",
              "        [ 1,  5,  0,  2,  1,  3,  2,  4,  9,  3,  5,  6,  0,  4,  4,  7,  6,  8,\n",
              "          7,  9, 13,  3,  8, 10,  9, 11, 10, 12, 11, 13, 14,  8, 12, 12, 15, 16,\n",
              "         14, 14]])"
            ]
          },
          "metadata": {},
          "execution_count": 13
        }
      ]
    },
    {
      "cell_type": "code",
      "source": [],
      "metadata": {
        "id": "kRLfQS_kMHte"
      },
      "execution_count": null,
      "outputs": []
    },
    {
      "cell_type": "code",
      "source": [],
      "metadata": {
        "id": "xfS80c71M6u9"
      },
      "execution_count": null,
      "outputs": []
    },
    {
      "cell_type": "code",
      "source": [
        "batch = next(iter(train_loader))"
      ],
      "metadata": {
        "id": "OKxzjzuvNGAI"
      },
      "execution_count": null,
      "outputs": []
    },
    {
      "cell_type": "code",
      "source": [
        "batch"
      ],
      "metadata": {
        "colab": {
          "base_uri": "https://localhost:8080/"
        },
        "id": "JdJ3YeZlNJQy",
        "outputId": "30b91d58-f7b8-4ac7-aebe-90235f34a621"
      },
      "execution_count": null,
      "outputs": [
        {
          "output_type": "execute_result",
          "data": {
            "text/plain": [
              "DataBatch(edge_index=[2, 712], x=[321, 7], edge_attr=[712, 4], y=[16], batch=[321], ptr=[17])"
            ]
          },
          "metadata": {},
          "execution_count": 17
        }
      ]
    },
    {
      "cell_type": "code",
      "source": [
        "batch.batch"
      ],
      "metadata": {
        "colab": {
          "base_uri": "https://localhost:8080/"
        },
        "id": "9fYuirDvOFct",
        "outputId": "b841a075-fcb1-47ab-a6ed-344f8468c0b8"
      },
      "execution_count": null,
      "outputs": [
        {
          "output_type": "execute_result",
          "data": {
            "text/plain": [
              "tensor([ 0,  0,  0,  0,  0,  0,  0,  0,  0,  0,  0,  0,  0,  0,  0,  0,  0,  0,\n",
              "         1,  1,  1,  1,  1,  1,  1,  1,  1,  1,  1,  1,  1,  1,  1,  1,  1,  2,\n",
              "         2,  2,  2,  2,  2,  2,  2,  2,  2,  2,  2,  2,  2,  2,  3,  3,  3,  3,\n",
              "         3,  3,  3,  3,  3,  3,  3,  3,  3,  3,  3,  3,  3,  3,  3,  3,  3,  3,\n",
              "         4,  4,  4,  4,  4,  4,  4,  4,  4,  4,  4,  4,  4,  4,  4,  4,  4,  4,\n",
              "         4,  4,  4,  4,  5,  5,  5,  5,  5,  5,  5,  5,  5,  5,  5,  5,  5,  5,\n",
              "         5,  5,  5,  6,  6,  6,  6,  6,  6,  6,  6,  6,  6,  6,  6,  6,  6,  6,\n",
              "         6,  6,  6,  6,  6,  6,  6,  6,  6,  7,  7,  7,  7,  7,  7,  7,  7,  7,\n",
              "         7,  7,  7,  7,  7,  7,  8,  8,  8,  8,  8,  8,  8,  8,  8,  8,  8,  8,\n",
              "         8,  8,  8,  8,  8,  8,  8,  8,  8,  8,  8,  8,  8,  9,  9,  9,  9,  9,\n",
              "         9,  9,  9,  9,  9,  9,  9,  9,  9,  9,  9,  9, 10, 10, 10, 10, 10, 10,\n",
              "        10, 10, 10, 10, 10, 10, 10, 10, 10, 10, 10, 10, 10, 10, 10, 10, 10, 11,\n",
              "        11, 11, 11, 11, 11, 11, 11, 11, 11, 11, 11, 11, 11, 11, 11, 11, 11, 11,\n",
              "        11, 11, 11, 11, 12, 12, 12, 12, 12, 12, 12, 12, 12, 12, 12, 12, 12, 13,\n",
              "        13, 13, 13, 13, 13, 13, 13, 13, 13, 13, 14, 14, 14, 14, 14, 14, 14, 14,\n",
              "        14, 14, 14, 14, 14, 14, 14, 14, 14, 14, 14, 14, 14, 14, 15, 15, 15, 15,\n",
              "        15, 15, 15, 15, 15, 15, 15, 15, 15, 15, 15, 15, 15, 15, 15, 15, 15, 15])"
            ]
          },
          "metadata": {},
          "execution_count": 80
        }
      ]
    },
    {
      "cell_type": "code",
      "source": [
        "batch.edge_index"
      ],
      "metadata": {
        "colab": {
          "base_uri": "https://localhost:8080/"
        },
        "id": "Srul9FvlOKFu",
        "outputId": "db7effc1-0890-405d-d0a3-e37486923178"
      },
      "execution_count": null,
      "outputs": [
        {
          "output_type": "execute_result",
          "data": {
            "text/plain": [
              "tensor([[  0,   0,   1,  ..., 318, 319, 320],\n",
              "        [  1,   5,   0,  ..., 320, 318, 318]])"
            ]
          },
          "metadata": {},
          "execution_count": 19
        }
      ]
    },
    {
      "cell_type": "code",
      "source": [
        "from torch.nn import Linear\n",
        "import torch.nn.functional as F\n",
        "from torch_geometric.nn import GCNConv\n",
        "from torch_geometric.nn import global_mean_pool"
      ],
      "metadata": {
        "id": "G8ciQymccoCz"
      },
      "execution_count": 31,
      "outputs": []
    },
    {
      "cell_type": "code",
      "source": [
        "class GCN(torch.nn.Module):\n",
        "    def __init__(self, hidden_channels):\n",
        "        super(GCN, self).__init__()\n",
        "        torch.manual_seed(12345)\n",
        "        self.conv1 = GCNConv(dataset.num_node_features, hidden_channels)\n",
        "        self.conv2 = GCNConv(hidden_channels, hidden_channels)\n",
        "        self.conv3 = GCNConv(hidden_channels, hidden_channels)\n",
        "        self.lin = Linear(hidden_channels, dataset.num_classes)\n",
        "\n",
        "    def forward(self, x, edge_index, batch):\n",
        "        # 1. Obtain node embeddings \n",
        "        x = self.conv1(x, edge_index)\n",
        "        x = x.relu()\n",
        "        x = self.conv2(x, edge_index)\n",
        "        x = x.relu()\n",
        "        x = self.conv3(x, edge_index)\n",
        "\n",
        "        # 2. Readout layer\n",
        "        x = global_mean_pool(x, batch)  # [batch_size, hidden_channels]\n",
        "\n",
        "        # 3. Apply a final classifier\n",
        "        x = F.dropout(x, p=0.5, training=self.training)\n",
        "        x = F.sigmoid(self.lin(x))\n",
        "        \n",
        "        return x\n",
        "\n",
        "model = GCN(hidden_channels=64)\n",
        "print(model)"
      ],
      "metadata": {
        "colab": {
          "base_uri": "https://localhost:8080/"
        },
        "id": "oCiZ2M5kco5S",
        "outputId": "714d83e3-dcaf-47b1-ca5b-2c65c7603ea2"
      },
      "execution_count": 32,
      "outputs": [
        {
          "output_type": "stream",
          "name": "stdout",
          "text": [
            "GCN(\n",
            "  (conv1): GCNConv(7, 64)\n",
            "  (conv2): GCNConv(64, 64)\n",
            "  (conv3): GCNConv(64, 64)\n",
            "  (lin): Linear(in_features=64, out_features=2, bias=True)\n",
            ")\n"
          ]
        }
      ]
    },
    {
      "cell_type": "code",
      "source": [
        "device = torch.device('cuda' if torch.cuda.is_available() else 'cpu')"
      ],
      "metadata": {
        "id": "faP_MM_xdOpQ"
      },
      "execution_count": 34,
      "outputs": []
    },
    {
      "cell_type": "code",
      "source": [
        "model = GCN(hidden_channels=64)\n",
        "optimizer = torch.optim.Adam(model.parameters(), lr=0.01)\n",
        "criterion = torch.nn.CrossEntropyLoss()\n",
        "model.to(device)\n",
        "\n",
        "def train():\n",
        "    model.train()\n",
        "    for data in train_loader:  # Iterate in batches over the training dataset.\n",
        "        data.to(device)\n",
        "        out = model(data.x, data.edge_index, data.batch)  # Perform a single forward pass.\n",
        "        loss = criterion(out, data.y)  # Compute the loss.\n",
        "        loss.backward()  # Derive gradients.\n",
        "        optimizer.step()  # Update parameters based on gradients.\n",
        "        optimizer.zero_grad()  # Clear gradients.\n",
        "\n",
        "def test(loader):\n",
        "     model.eval()\n",
        "     correct = 0\n",
        "     for data in loader:  # Iterate in batches over the training/test dataset.\n",
        "        data.to(device)\n",
        "        out = model(data.x, data.edge_index, data.batch)  \n",
        "        pred = out.argmax(dim=1)  # Use the class with highest probability.\n",
        "        correct += int((pred == data.y).sum())  # Check against ground-truth labels.\n",
        "     return correct / len(loader.dataset)  # Derive ratio of correct predictions.\n",
        "\n",
        "\n",
        "for epoch in range(1, 171):\n",
        "    train()\n",
        "    train_acc = test(train_loader)\n",
        "    test_acc = test(test_loader)\n",
        "    print(f'Epoch: {epoch:03d}, Train Acc: {train_acc:.4f}, Test Acc: {test_acc:.4f}')"
      ],
      "metadata": {
        "id": "MIBrUzlsdDes",
        "colab": {
          "base_uri": "https://localhost:8080/"
        },
        "outputId": "4ed66083-e672-4cb9-c04d-cef4b9cc92f3"
      },
      "execution_count": 35,
      "outputs": [
        {
          "output_type": "stream",
          "name": "stdout",
          "text": [
            "Epoch: 001, Train Acc: 0.6467, Test Acc: 0.7368\n",
            "Epoch: 002, Train Acc: 0.6467, Test Acc: 0.7368\n",
            "Epoch: 003, Train Acc: 0.6467, Test Acc: 0.7368\n",
            "Epoch: 004, Train Acc: 0.6467, Test Acc: 0.7368\n",
            "Epoch: 005, Train Acc: 0.6667, Test Acc: 0.7368\n",
            "Epoch: 006, Train Acc: 0.7467, Test Acc: 0.7632\n",
            "Epoch: 007, Train Acc: 0.7333, Test Acc: 0.7632\n",
            "Epoch: 008, Train Acc: 0.7200, Test Acc: 0.7895\n",
            "Epoch: 009, Train Acc: 0.7267, Test Acc: 0.7632\n",
            "Epoch: 010, Train Acc: 0.7200, Test Acc: 0.8421\n",
            "Epoch: 011, Train Acc: 0.7000, Test Acc: 0.7895\n",
            "Epoch: 012, Train Acc: 0.7133, Test Acc: 0.7895\n",
            "Epoch: 013, Train Acc: 0.7533, Test Acc: 0.7632\n",
            "Epoch: 014, Train Acc: 0.7333, Test Acc: 0.7895\n",
            "Epoch: 015, Train Acc: 0.7600, Test Acc: 0.7368\n",
            "Epoch: 016, Train Acc: 0.7600, Test Acc: 0.7368\n",
            "Epoch: 017, Train Acc: 0.6733, Test Acc: 0.7368\n",
            "Epoch: 018, Train Acc: 0.7267, Test Acc: 0.7632\n",
            "Epoch: 019, Train Acc: 0.7600, Test Acc: 0.7368\n",
            "Epoch: 020, Train Acc: 0.7667, Test Acc: 0.7368\n",
            "Epoch: 021, Train Acc: 0.7533, Test Acc: 0.7632\n",
            "Epoch: 022, Train Acc: 0.7600, Test Acc: 0.7368\n",
            "Epoch: 023, Train Acc: 0.7533, Test Acc: 0.7368\n",
            "Epoch: 024, Train Acc: 0.7533, Test Acc: 0.7368\n",
            "Epoch: 025, Train Acc: 0.7467, Test Acc: 0.7368\n",
            "Epoch: 026, Train Acc: 0.7533, Test Acc: 0.7632\n",
            "Epoch: 027, Train Acc: 0.7533, Test Acc: 0.7368\n",
            "Epoch: 028, Train Acc: 0.7533, Test Acc: 0.7895\n",
            "Epoch: 029, Train Acc: 0.7533, Test Acc: 0.8421\n",
            "Epoch: 030, Train Acc: 0.7400, Test Acc: 0.7368\n",
            "Epoch: 031, Train Acc: 0.7600, Test Acc: 0.7368\n",
            "Epoch: 032, Train Acc: 0.7600, Test Acc: 0.7632\n",
            "Epoch: 033, Train Acc: 0.7600, Test Acc: 0.7632\n",
            "Epoch: 034, Train Acc: 0.7600, Test Acc: 0.7632\n",
            "Epoch: 035, Train Acc: 0.7533, Test Acc: 0.7368\n",
            "Epoch: 036, Train Acc: 0.7600, Test Acc: 0.7368\n",
            "Epoch: 037, Train Acc: 0.7600, Test Acc: 0.7368\n",
            "Epoch: 038, Train Acc: 0.7600, Test Acc: 0.7632\n",
            "Epoch: 039, Train Acc: 0.7533, Test Acc: 0.7368\n",
            "Epoch: 040, Train Acc: 0.7600, Test Acc: 0.7632\n",
            "Epoch: 041, Train Acc: 0.7600, Test Acc: 0.7368\n",
            "Epoch: 042, Train Acc: 0.7600, Test Acc: 0.7368\n",
            "Epoch: 043, Train Acc: 0.7533, Test Acc: 0.7368\n",
            "Epoch: 044, Train Acc: 0.7400, Test Acc: 0.7632\n",
            "Epoch: 045, Train Acc: 0.7600, Test Acc: 0.7632\n",
            "Epoch: 046, Train Acc: 0.7600, Test Acc: 0.7368\n",
            "Epoch: 047, Train Acc: 0.7600, Test Acc: 0.7368\n",
            "Epoch: 048, Train Acc: 0.7667, Test Acc: 0.7368\n",
            "Epoch: 049, Train Acc: 0.7400, Test Acc: 0.7632\n",
            "Epoch: 050, Train Acc: 0.7600, Test Acc: 0.7368\n",
            "Epoch: 051, Train Acc: 0.7533, Test Acc: 0.7368\n",
            "Epoch: 052, Train Acc: 0.7667, Test Acc: 0.7368\n",
            "Epoch: 053, Train Acc: 0.7600, Test Acc: 0.7368\n",
            "Epoch: 054, Train Acc: 0.7533, Test Acc: 0.7632\n",
            "Epoch: 055, Train Acc: 0.7600, Test Acc: 0.7632\n",
            "Epoch: 056, Train Acc: 0.7733, Test Acc: 0.7368\n",
            "Epoch: 057, Train Acc: 0.7733, Test Acc: 0.7368\n",
            "Epoch: 058, Train Acc: 0.7667, Test Acc: 0.7368\n",
            "Epoch: 059, Train Acc: 0.7667, Test Acc: 0.8684\n",
            "Epoch: 060, Train Acc: 0.7533, Test Acc: 0.7632\n",
            "Epoch: 061, Train Acc: 0.7667, Test Acc: 0.7368\n",
            "Epoch: 062, Train Acc: 0.7600, Test Acc: 0.7632\n",
            "Epoch: 063, Train Acc: 0.7733, Test Acc: 0.7368\n",
            "Epoch: 064, Train Acc: 0.7733, Test Acc: 0.7368\n",
            "Epoch: 065, Train Acc: 0.7533, Test Acc: 0.8684\n",
            "Epoch: 066, Train Acc: 0.7733, Test Acc: 0.7368\n",
            "Epoch: 067, Train Acc: 0.7600, Test Acc: 0.7632\n",
            "Epoch: 068, Train Acc: 0.7533, Test Acc: 0.7632\n",
            "Epoch: 069, Train Acc: 0.7600, Test Acc: 0.7368\n",
            "Epoch: 070, Train Acc: 0.7733, Test Acc: 0.7368\n",
            "Epoch: 071, Train Acc: 0.7600, Test Acc: 0.8158\n",
            "Epoch: 072, Train Acc: 0.7600, Test Acc: 0.7368\n",
            "Epoch: 073, Train Acc: 0.7733, Test Acc: 0.7368\n",
            "Epoch: 074, Train Acc: 0.7667, Test Acc: 0.7368\n",
            "Epoch: 075, Train Acc: 0.7733, Test Acc: 0.7368\n",
            "Epoch: 076, Train Acc: 0.7667, Test Acc: 0.7368\n",
            "Epoch: 077, Train Acc: 0.7600, Test Acc: 0.7895\n",
            "Epoch: 078, Train Acc: 0.7467, Test Acc: 0.7368\n",
            "Epoch: 079, Train Acc: 0.7800, Test Acc: 0.7368\n",
            "Epoch: 080, Train Acc: 0.7467, Test Acc: 0.7632\n",
            "Epoch: 081, Train Acc: 0.7800, Test Acc: 0.7368\n",
            "Epoch: 082, Train Acc: 0.7533, Test Acc: 0.7368\n",
            "Epoch: 083, Train Acc: 0.7800, Test Acc: 0.7368\n",
            "Epoch: 084, Train Acc: 0.7733, Test Acc: 0.7368\n",
            "Epoch: 085, Train Acc: 0.7533, Test Acc: 0.7632\n",
            "Epoch: 086, Train Acc: 0.7600, Test Acc: 0.7632\n",
            "Epoch: 087, Train Acc: 0.7533, Test Acc: 0.7632\n",
            "Epoch: 088, Train Acc: 0.7600, Test Acc: 0.7895\n",
            "Epoch: 089, Train Acc: 0.7600, Test Acc: 0.7632\n",
            "Epoch: 090, Train Acc: 0.7800, Test Acc: 0.7368\n",
            "Epoch: 091, Train Acc: 0.7800, Test Acc: 0.7368\n",
            "Epoch: 092, Train Acc: 0.7533, Test Acc: 0.7632\n",
            "Epoch: 093, Train Acc: 0.7667, Test Acc: 0.7368\n",
            "Epoch: 094, Train Acc: 0.7800, Test Acc: 0.7368\n",
            "Epoch: 095, Train Acc: 0.7600, Test Acc: 0.7895\n",
            "Epoch: 096, Train Acc: 0.7667, Test Acc: 0.7368\n",
            "Epoch: 097, Train Acc: 0.7467, Test Acc: 0.7895\n",
            "Epoch: 098, Train Acc: 0.7667, Test Acc: 0.7368\n",
            "Epoch: 099, Train Acc: 0.7667, Test Acc: 0.7368\n",
            "Epoch: 100, Train Acc: 0.7667, Test Acc: 0.8158\n",
            "Epoch: 101, Train Acc: 0.7733, Test Acc: 0.7368\n",
            "Epoch: 102, Train Acc: 0.7600, Test Acc: 0.7632\n",
            "Epoch: 103, Train Acc: 0.7867, Test Acc: 0.7895\n",
            "Epoch: 104, Train Acc: 0.7667, Test Acc: 0.7632\n",
            "Epoch: 105, Train Acc: 0.7733, Test Acc: 0.7368\n",
            "Epoch: 106, Train Acc: 0.7667, Test Acc: 0.8158\n",
            "Epoch: 107, Train Acc: 0.7533, Test Acc: 0.7632\n",
            "Epoch: 108, Train Acc: 0.7667, Test Acc: 0.7368\n",
            "Epoch: 109, Train Acc: 0.7733, Test Acc: 0.7368\n",
            "Epoch: 110, Train Acc: 0.7667, Test Acc: 0.8158\n",
            "Epoch: 111, Train Acc: 0.7867, Test Acc: 0.8158\n",
            "Epoch: 112, Train Acc: 0.7600, Test Acc: 0.7632\n",
            "Epoch: 113, Train Acc: 0.7667, Test Acc: 0.7632\n",
            "Epoch: 114, Train Acc: 0.7733, Test Acc: 0.7895\n",
            "Epoch: 115, Train Acc: 0.7533, Test Acc: 0.7895\n",
            "Epoch: 116, Train Acc: 0.7667, Test Acc: 0.7368\n",
            "Epoch: 117, Train Acc: 0.7800, Test Acc: 0.7368\n",
            "Epoch: 118, Train Acc: 0.7600, Test Acc: 0.7632\n",
            "Epoch: 119, Train Acc: 0.7867, Test Acc: 0.8158\n",
            "Epoch: 120, Train Acc: 0.7933, Test Acc: 0.7895\n",
            "Epoch: 121, Train Acc: 0.7933, Test Acc: 0.8421\n",
            "Epoch: 122, Train Acc: 0.7933, Test Acc: 0.8421\n",
            "Epoch: 123, Train Acc: 0.7800, Test Acc: 0.8421\n",
            "Epoch: 124, Train Acc: 0.8133, Test Acc: 0.7368\n",
            "Epoch: 125, Train Acc: 0.8133, Test Acc: 0.7368\n",
            "Epoch: 126, Train Acc: 0.8200, Test Acc: 0.8158\n",
            "Epoch: 127, Train Acc: 0.8000, Test Acc: 0.7368\n",
            "Epoch: 128, Train Acc: 0.8200, Test Acc: 0.8158\n",
            "Epoch: 129, Train Acc: 0.8067, Test Acc: 0.7368\n",
            "Epoch: 130, Train Acc: 0.8200, Test Acc: 0.7632\n",
            "Epoch: 131, Train Acc: 0.8133, Test Acc: 0.7368\n",
            "Epoch: 132, Train Acc: 0.7933, Test Acc: 0.8421\n",
            "Epoch: 133, Train Acc: 0.7867, Test Acc: 0.7105\n",
            "Epoch: 134, Train Acc: 0.7800, Test Acc: 0.7632\n",
            "Epoch: 135, Train Acc: 0.8000, Test Acc: 0.8158\n",
            "Epoch: 136, Train Acc: 0.7933, Test Acc: 0.7368\n",
            "Epoch: 137, Train Acc: 0.8067, Test Acc: 0.7368\n",
            "Epoch: 138, Train Acc: 0.8067, Test Acc: 0.7632\n",
            "Epoch: 139, Train Acc: 0.8000, Test Acc: 0.7368\n",
            "Epoch: 140, Train Acc: 0.8133, Test Acc: 0.7632\n",
            "Epoch: 141, Train Acc: 0.8067, Test Acc: 0.7368\n",
            "Epoch: 142, Train Acc: 0.8200, Test Acc: 0.7632\n",
            "Epoch: 143, Train Acc: 0.7933, Test Acc: 0.7895\n",
            "Epoch: 144, Train Acc: 0.8133, Test Acc: 0.7368\n",
            "Epoch: 145, Train Acc: 0.8200, Test Acc: 0.7368\n",
            "Epoch: 146, Train Acc: 0.8200, Test Acc: 0.7368\n",
            "Epoch: 147, Train Acc: 0.7933, Test Acc: 0.8158\n",
            "Epoch: 148, Train Acc: 0.7933, Test Acc: 0.8158\n",
            "Epoch: 149, Train Acc: 0.7933, Test Acc: 0.7105\n",
            "Epoch: 150, Train Acc: 0.8133, Test Acc: 0.7368\n",
            "Epoch: 151, Train Acc: 0.8133, Test Acc: 0.7368\n",
            "Epoch: 152, Train Acc: 0.8200, Test Acc: 0.7368\n",
            "Epoch: 153, Train Acc: 0.7800, Test Acc: 0.7895\n",
            "Epoch: 154, Train Acc: 0.8133, Test Acc: 0.7368\n",
            "Epoch: 155, Train Acc: 0.8133, Test Acc: 0.7368\n",
            "Epoch: 156, Train Acc: 0.8133, Test Acc: 0.7632\n",
            "Epoch: 157, Train Acc: 0.8200, Test Acc: 0.7368\n",
            "Epoch: 158, Train Acc: 0.8200, Test Acc: 0.7368\n",
            "Epoch: 159, Train Acc: 0.8133, Test Acc: 0.7632\n",
            "Epoch: 160, Train Acc: 0.8133, Test Acc: 0.7368\n",
            "Epoch: 161, Train Acc: 0.8133, Test Acc: 0.7368\n",
            "Epoch: 162, Train Acc: 0.8200, Test Acc: 0.7368\n",
            "Epoch: 163, Train Acc: 0.8133, Test Acc: 0.7368\n",
            "Epoch: 164, Train Acc: 0.8200, Test Acc: 0.7368\n",
            "Epoch: 165, Train Acc: 0.8200, Test Acc: 0.7368\n",
            "Epoch: 166, Train Acc: 0.8200, Test Acc: 0.7368\n",
            "Epoch: 167, Train Acc: 0.8200, Test Acc: 0.7368\n",
            "Epoch: 168, Train Acc: 0.8200, Test Acc: 0.7368\n",
            "Epoch: 169, Train Acc: 0.8133, Test Acc: 0.7105\n",
            "Epoch: 170, Train Acc: 0.8200, Test Acc: 0.7105\n"
          ]
        }
      ]
    },
    {
      "cell_type": "code",
      "source": [
        "from typing import Tuple, Union\n",
        "\n",
        "from torch import Tensor\n",
        "\n",
        "from torch_geometric.nn.conv import MessagePassing\n",
        "from torch_geometric.nn.dense.linear import Linear\n",
        "from torch_geometric.typing import (\n",
        "    Adj,\n",
        "    OptPairTensor,\n",
        "    OptTensor,\n",
        "    Size,\n",
        "    SparseTensor,\n",
        ")\n",
        "from torch_geometric.utils import spmm\n",
        "\n",
        "\n",
        "class GraphConv(MessagePassing):\n",
        "    \n",
        "    def __init__(\n",
        "        self,\n",
        "        in_channels: Union[int, Tuple[int, int]],\n",
        "        out_channels: int,\n",
        "        aggr: str = 'add',\n",
        "        bias: bool = True,\n",
        "        **kwargs,\n",
        "    ):\n",
        "        super().__init__(aggr=aggr, **kwargs)\n",
        "\n",
        "        self.in_channels = in_channels\n",
        "        self.out_channels = out_channels\n",
        "\n",
        "        if isinstance(in_channels, int):\n",
        "            in_channels = (in_channels, in_channels)\n",
        "\n",
        "        self.lin_rel = Linear(in_channels[0], out_channels, bias=bias)\n",
        "        self.lin_root = Linear(in_channels[1], out_channels, bias=False)\n",
        "\n",
        "        self.reset_parameters()\n",
        "\n",
        "    def reset_parameters(self):\n",
        "        super().reset_parameters()\n",
        "        self.lin_rel.reset_parameters()\n",
        "        self.lin_root.reset_parameters()\n",
        "\n",
        "    def forward(self, x: Union[Tensor, OptPairTensor], edge_index: Adj,\n",
        "                edge_weight: OptTensor = None, size: Size = None) -> Tensor:\n",
        "\n",
        "        if isinstance(x, Tensor):\n",
        "            x: OptPairTensor = (x, x)\n",
        "\n",
        "        # propagate_type: (x: OptPairTensor, edge_weight: OptTensor)\n",
        "        out = self.propagate(edge_index, x=x, edge_weight=edge_weight, size=size)\n",
        "        out = self.lin_rel(out)\n",
        "\n",
        "        x_r = x[1]\n",
        "        if x_r is not None:\n",
        "            out = out + self.lin_root(x_r)\n",
        "\n",
        "        return out\n",
        "\n",
        "    def message(self, x_j: Tensor, edge_weight: OptTensor) -> Tensor:\n",
        "        st()\n",
        "        return x_j if edge_weight is None else edge_weight.view(-1, 1) * x_j\n",
        "\n",
        "    def message_and_aggregate(self, adj_t: SparseTensor, x: OptPairTensor) -> Tensor:\n",
        "        return spmm(adj_t, x[0], reduce=self.aggr)"
      ],
      "metadata": {
        "id": "vGyp3YrNgRY7"
      },
      "execution_count": null,
      "outputs": []
    },
    {
      "cell_type": "code",
      "source": [
        "gc = GraphConv(dataset.num_node_features, 32)"
      ],
      "metadata": {
        "id": "dY2gYoqLjN_n"
      },
      "execution_count": null,
      "outputs": []
    },
    {
      "cell_type": "code",
      "source": [
        "batch"
      ],
      "metadata": {
        "colab": {
          "base_uri": "https://localhost:8080/"
        },
        "id": "Z3-ZbRrnjTcb",
        "outputId": "463403b6-d713-4ff3-9d7b-16fdbd3730b3"
      },
      "execution_count": null,
      "outputs": [
        {
          "output_type": "execute_result",
          "data": {
            "text/plain": [
              "DataBatch(edge_index=[2, 712], x=[321, 7], edge_attr=[712, 4], y=[16], batch=[321], ptr=[17])"
            ]
          },
          "metadata": {},
          "execution_count": 30
        }
      ]
    },
    {
      "cell_type": "code",
      "source": [
        "gc(batch.x, batch.edge_index)"
      ],
      "metadata": {
        "colab": {
          "base_uri": "https://localhost:8080/"
        },
        "id": "WkwvbyIwjYIK",
        "outputId": "57084ff7-ca60-4da8-a42d-9fb1ccacc58c"
      },
      "execution_count": null,
      "outputs": [
        {
          "name": "stdout",
          "output_type": "stream",
          "text": [
            "> \u001b[0;32m<ipython-input-35-64f3b2e98466>\u001b[0m(63)\u001b[0;36mmessage\u001b[0;34m()\u001b[0m\n",
            "\u001b[0;32m     62 \u001b[0;31m        \u001b[0mst\u001b[0m\u001b[0;34m(\u001b[0m\u001b[0;34m)\u001b[0m\u001b[0;34m\u001b[0m\u001b[0;34m\u001b[0m\u001b[0m\n",
            "\u001b[0m\u001b[0;32m---> 63 \u001b[0;31m        \u001b[0;32mreturn\u001b[0m \u001b[0mx_j\u001b[0m \u001b[0;32mif\u001b[0m \u001b[0medge_weight\u001b[0m \u001b[0;32mis\u001b[0m \u001b[0;32mNone\u001b[0m \u001b[0;32melse\u001b[0m \u001b[0medge_weight\u001b[0m\u001b[0;34m.\u001b[0m\u001b[0mview\u001b[0m\u001b[0;34m(\u001b[0m\u001b[0;34m-\u001b[0m\u001b[0;36m1\u001b[0m\u001b[0;34m,\u001b[0m \u001b[0;36m1\u001b[0m\u001b[0;34m)\u001b[0m \u001b[0;34m*\u001b[0m \u001b[0mx_j\u001b[0m\u001b[0;34m\u001b[0m\u001b[0;34m\u001b[0m\u001b[0m\n",
            "\u001b[0m\u001b[0;32m     64 \u001b[0;31m\u001b[0;34m\u001b[0m\u001b[0m\n",
            "\u001b[0m\n",
            "ipdb> ll\n",
            "\u001b[1;32m     61 \u001b[0m    \u001b[0;32mdef\u001b[0m \u001b[0mmessage\u001b[0m\u001b[0;34m(\u001b[0m\u001b[0mself\u001b[0m\u001b[0;34m,\u001b[0m \u001b[0mx_j\u001b[0m\u001b[0;34m:\u001b[0m \u001b[0mTensor\u001b[0m\u001b[0;34m,\u001b[0m \u001b[0medge_weight\u001b[0m\u001b[0;34m:\u001b[0m \u001b[0mOptTensor\u001b[0m\u001b[0;34m)\u001b[0m \u001b[0;34m->\u001b[0m \u001b[0mTensor\u001b[0m\u001b[0;34m:\u001b[0m\u001b[0;34m\u001b[0m\u001b[0;34m\u001b[0m\u001b[0m\n",
            "\u001b[1;32m     62 \u001b[0m        \u001b[0mst\u001b[0m\u001b[0;34m(\u001b[0m\u001b[0;34m)\u001b[0m\u001b[0;34m\u001b[0m\u001b[0;34m\u001b[0m\u001b[0m\n",
            "\u001b[0;32m---> 63 \u001b[0;31m        \u001b[0;32mreturn\u001b[0m \u001b[0mx_j\u001b[0m \u001b[0;32mif\u001b[0m \u001b[0medge_weight\u001b[0m \u001b[0;32mis\u001b[0m \u001b[0;32mNone\u001b[0m \u001b[0;32melse\u001b[0m \u001b[0medge_weight\u001b[0m\u001b[0;34m.\u001b[0m\u001b[0mview\u001b[0m\u001b[0;34m(\u001b[0m\u001b[0;34m-\u001b[0m\u001b[0;36m1\u001b[0m\u001b[0;34m,\u001b[0m \u001b[0;36m1\u001b[0m\u001b[0;34m)\u001b[0m \u001b[0;34m*\u001b[0m \u001b[0mx_j\u001b[0m\u001b[0;34m\u001b[0m\u001b[0;34m\u001b[0m\u001b[0m\n",
            "\u001b[0m\u001b[1;32m     64 \u001b[0m\u001b[0;34m\u001b[0m\u001b[0m\n",
            "\n",
            "ipdb> x_j\n",
            "tensor([[1., 0., 0.,  ..., 0., 0., 0.],\n",
            "        [1., 0., 0.,  ..., 0., 0., 0.],\n",
            "        [1., 0., 0.,  ..., 0., 0., 0.],\n",
            "        ...,\n",
            "        [0., 1., 0.,  ..., 0., 0., 0.],\n",
            "        [0., 0., 1.,  ..., 0., 0., 0.],\n",
            "        [0., 0., 1.,  ..., 0., 0., 0.]])\n",
            "ipdb> x_j.shape\n",
            "torch.Size([712, 7])\n",
            "ipdb> exit\n"
          ]
        }
      ]
    },
    {
      "cell_type": "markdown",
      "source": [
        "# Graph Attention"
      ],
      "metadata": {
        "id": "pxR-bGTxHRr-"
      }
    },
    {
      "cell_type": "code",
      "source": [
        "import torch.nn.init as init\n",
        "from torch_geometric.utils import softmax\n",
        "from torch_geometric.nn import global_mean_pool\n",
        "import torch\n",
        "from torch_geometric.datasets import TUDataset\n",
        "\n",
        "dataset = TUDataset(root='data/TUDataset', name='MUTAG')\n",
        "\n",
        "torch.manual_seed(12345)\n",
        "dataset = dataset.shuffle()\n",
        "\n",
        "train_dataset = dataset[:150]\n",
        "test_dataset = dataset[150:]\n",
        "\n",
        "from torch_geometric.loader import DataLoader\n",
        "train_loader = DataLoader(train_dataset, batch_size = 16, shuffle = True)\n",
        "test_loader = DataLoader(test_dataset, batch_size = 16, shuffle = True)"
      ],
      "metadata": {
        "colab": {
          "base_uri": "https://localhost:8080/"
        },
        "id": "epnJqF20XVQT",
        "outputId": "bda60260-086c-45b5-eb5f-0d9fb9594f5a"
      },
      "execution_count": 3,
      "outputs": [
        {
          "output_type": "stream",
          "name": "stderr",
          "text": [
            "Downloading https://www.chrsmrrs.com/graphkerneldatasets/MUTAG.zip\n",
            "Extracting data/TUDataset/MUTAG/MUTAG.zip\n",
            "Processing...\n",
            "Done!\n"
          ]
        }
      ]
    },
    {
      "cell_type": "code",
      "source": [],
      "metadata": {
        "colab": {
          "base_uri": "https://localhost:8080/"
        },
        "id": "mdgjtf-dHXPK",
        "outputId": "a73a73d7-331c-4cd7-cbe6-cb5a21231354"
      },
      "execution_count": null,
      "outputs": [
        {
          "output_type": "stream",
          "name": "stderr",
          "text": [
            "Downloading https://www.chrsmrrs.com/graphkerneldatasets/MUTAG.zip\n",
            "Extracting data/TUDataset/MUTAG/MUTAG.zip\n",
            "Processing...\n",
            "Done!\n"
          ]
        }
      ]
    },
    {
      "cell_type": "code",
      "source": [
        "batch = next(iter(train_loader))"
      ],
      "metadata": {
        "id": "JHi7KC4SSGb4"
      },
      "execution_count": 4,
      "outputs": []
    },
    {
      "cell_type": "code",
      "source": [
        "batch.x, batch.edge_index"
      ],
      "metadata": {
        "colab": {
          "base_uri": "https://localhost:8080/"
        },
        "id": "tURHeRp6SJ4D",
        "outputId": "b3683c21-2787-4417-9a09-b58f729ca1c7"
      },
      "execution_count": 5,
      "outputs": [
        {
          "output_type": "execute_result",
          "data": {
            "text/plain": [
              "(tensor([[1., 0., 0.,  ..., 0., 0., 0.],\n",
              "         [1., 0., 0.,  ..., 0., 0., 0.],\n",
              "         [1., 0., 0.,  ..., 0., 0., 0.],\n",
              "         ...,\n",
              "         [0., 1., 0.,  ..., 0., 0., 0.],\n",
              "         [0., 0., 1.,  ..., 0., 0., 0.],\n",
              "         [0., 0., 1.,  ..., 0., 0., 0.]]),\n",
              " tensor([[  0,   0,   1,  ..., 318, 319, 320],\n",
              "         [  1,   5,   0,  ..., 320, 318, 318]]))"
            ]
          },
          "metadata": {},
          "execution_count": 5
        }
      ]
    },
    {
      "cell_type": "code",
      "source": [
        "batch.x.shape"
      ],
      "metadata": {
        "colab": {
          "base_uri": "https://localhost:8080/"
        },
        "id": "Yhpd_k8lU-fx",
        "outputId": "1ccce180-ea99-4f08-d14d-2a56cf5a02d4"
      },
      "execution_count": null,
      "outputs": [
        {
          "output_type": "execute_result",
          "data": {
            "text/plain": [
              "torch.Size([321, 7])"
            ]
          },
          "metadata": {},
          "execution_count": 14
        }
      ]
    },
    {
      "cell_type": "code",
      "source": [
        "dataset.num_node_features"
      ],
      "metadata": {
        "colab": {
          "base_uri": "https://localhost:8080/"
        },
        "id": "F71oDgcgVCH2",
        "outputId": "2cdd9520-deef-4be5-a566-4ac781cef328"
      },
      "execution_count": null,
      "outputs": [
        {
          "output_type": "execute_result",
          "data": {
            "text/plain": [
              "7"
            ]
          },
          "metadata": {},
          "execution_count": 15
        }
      ]
    },
    {
      "cell_type": "code",
      "source": [
        "def linear_layer(in_channels, out_channels):\n",
        "  return nn.Sequential(nn.Linear(in_channels, out_channels), \n",
        "                      nn.LazyBatchNorm1d(out_channels),\n",
        "                      nn.ReLU())\n",
        "  \n",
        "class MyGatConv(MessagePassing):\n",
        "  def __init__(self, in_channels, out_channels):\n",
        "    super(MyGatConv, self).__init__(aggr = 'add')\n",
        "    self.w = linear_layer(in_channels, out_channels)\n",
        "    self.in_c = in_channels\n",
        "    self.out_c = out_channels\n",
        "    self.leaky_r = nn.LeakyReLU(negative_slope=0.2)\n",
        "    self.attn = nn.Parameter(torch.Tensor(out_channels*2, 1))\n",
        "    init.kaiming_normal_(self.w[0].weight, nonlinearity='relu')\n",
        "    init.kaiming_normal_(self.attn, nonlinearity='relu')\n",
        "    \n",
        "  def forward(self, x, edge_index):\n",
        "\n",
        "    z = self.w(x)\n",
        "    out = self.propagate(edge_index, x = z)\n",
        "    return F.relu(out)\n",
        "  \n",
        "  def message(self, x_i, x_j, edge_index_i):\n",
        "\n",
        "    # calculate LeakyReLu(a . (Zi || Zj))\n",
        "    combined_weights = torch.cat([x_i, x_j], dim = 1)\n",
        "    inter_attns = self.leaky_r(combined_weights@self.attn)\n",
        "    soft_max_coeffs = softmax(inter_attns, edge_index_i)\n",
        "    return soft_max_coeffs * x_j\n",
        "\n",
        "  "
      ],
      "metadata": {
        "id": "aY3FZCS1SOfz"
      },
      "execution_count": 6,
      "outputs": []
    },
    {
      "cell_type": "code",
      "source": [
        "test = MyGatConv(dataset.num_node_features, 16)"
      ],
      "metadata": {
        "id": "YZ-WqePIU7sS",
        "colab": {
          "base_uri": "https://localhost:8080/"
        },
        "outputId": "5db5bbe0-acef-42a4-d5de-fa352aa88ad9"
      },
      "execution_count": 7,
      "outputs": [
        {
          "output_type": "stream",
          "name": "stderr",
          "text": [
            "/usr/local/lib/python3.10/dist-packages/torch/nn/modules/lazy.py:180: UserWarning: Lazy modules are a new feature under heavy development so changes to the API or functionality can happen at any moment.\n",
            "  warnings.warn('Lazy modules are a new feature under heavy development '\n"
          ]
        }
      ]
    },
    {
      "cell_type": "code",
      "source": [
        "torch.save(test.state_dict(), './test.pth')"
      ],
      "metadata": {
        "id": "DhASWh8aW6Wy"
      },
      "execution_count": 11,
      "outputs": []
    },
    {
      "cell_type": "code",
      "source": [
        "test_1 = MyGatConv(dataset.num_node_features, 16)\n",
        "test_1.load_state_dict(torch.load('./test.pth'))"
      ],
      "metadata": {
        "colab": {
          "base_uri": "https://localhost:8080/"
        },
        "id": "-cemn9ua0Je5",
        "outputId": "4b482e25-3873-433f-809a-12c85ba1b920"
      },
      "execution_count": 12,
      "outputs": [
        {
          "output_type": "stream",
          "name": "stderr",
          "text": [
            "/usr/local/lib/python3.10/dist-packages/torch/nn/modules/lazy.py:180: UserWarning: Lazy modules are a new feature under heavy development so changes to the API or functionality can happen at any moment.\n",
            "  warnings.warn('Lazy modules are a new feature under heavy development '\n"
          ]
        },
        {
          "output_type": "execute_result",
          "data": {
            "text/plain": [
              "<All keys matched successfully>"
            ]
          },
          "metadata": {},
          "execution_count": 12
        }
      ]
    },
    {
      "cell_type": "code",
      "source": [
        "test(batch.x, batch.edge_index)"
      ],
      "metadata": {
        "id": "r-CuuzdPVKQY"
      },
      "execution_count": null,
      "outputs": []
    },
    {
      "cell_type": "code",
      "source": [
        "class GraphAttentionNetwork(nn.Module):\n",
        "  def __init__(self, dataset):\n",
        "    super(GraphAttentionNetwork, self).__init__()\n",
        "    self.c1 = MyGatConv(dataset.num_node_features, 128)\n",
        "    self.c2 = MyGatConv(128, 16)\n",
        "    self.final_layer = nn.Sequential(nn.Linear(16, dataset.num_classes), nn.BatchNorm1d(dataset.num_classes))\n",
        "  \n",
        "  def forward(self, data):\n",
        "    x, edge_index = data.x, data.edge_index\n",
        "\n",
        "    h1 = self.c1(x, edge_index)\n",
        "    h1 = F.dropout(h1, p = 0.5, training = self.training)\n",
        "    h2 = F.dropout(self.c2(h1, edge_index), p = 0.5, training = self.training)\n",
        "    h2 = global_mean_pool(h2, batch = data.batch)\n",
        "    return F.log_softmax(self.final_layer(h2), dim = 1)"
      ],
      "metadata": {
        "id": "ns8Cbc38bN4M"
      },
      "execution_count": null,
      "outputs": []
    },
    {
      "cell_type": "code",
      "source": [
        "model = GraphAttentionNetwork(dataset)\n",
        "yhat = model(batch)\n",
        "yhat.shape"
      ],
      "metadata": {
        "colab": {
          "base_uri": "https://localhost:8080/"
        },
        "id": "q3G644YocXxS",
        "outputId": "3543b868-f0f5-4e3c-f2de-9d13f6d179c0"
      },
      "execution_count": null,
      "outputs": [
        {
          "output_type": "stream",
          "name": "stderr",
          "text": [
            "/usr/local/lib/python3.10/dist-packages/torch/nn/modules/lazy.py:180: UserWarning: Lazy modules are a new feature under heavy development so changes to the API or functionality can happen at any moment.\n",
            "  warnings.warn('Lazy modules are a new feature under heavy development '\n"
          ]
        },
        {
          "output_type": "execute_result",
          "data": {
            "text/plain": [
              "torch.Size([16, 2])"
            ]
          },
          "metadata": {},
          "execution_count": 59
        }
      ]
    },
    {
      "cell_type": "code",
      "source": [
        "device"
      ],
      "metadata": {
        "colab": {
          "base_uri": "https://localhost:8080/"
        },
        "id": "qyyjpMiqdsHC",
        "outputId": "ec790bc0-baac-4357-abeb-f299ea7ce5c8"
      },
      "execution_count": null,
      "outputs": [
        {
          "output_type": "execute_result",
          "data": {
            "text/plain": [
              "device(type='cuda')"
            ]
          },
          "metadata": {},
          "execution_count": 60
        }
      ]
    },
    {
      "cell_type": "code",
      "source": [
        "model = GraphAttentionNetwork(dataset)\n",
        "optimizer = torch.optim.Adam(model.parameters(), lr=0.05)\n",
        "criterion = torch.nn.CrossEntropyLoss()\n",
        "model.to(device)\n",
        "\n",
        "def train(train_loader):\n",
        "    model.train()\n",
        "    for data in train_loader:  # Iterate in batches over the training dataset.\n",
        "        data.to(device)\n",
        "        out = model(data)  # Perform a single forward pass.\n",
        "        loss = criterion(out, data.y)  # Compute the loss.\n",
        "        loss.backward()  # Derive gradients.\n",
        "        optimizer.step()  # Update parameters based on gradients.\n",
        "        optimizer.zero_grad()  # Clear gradients.\n",
        "\n",
        "def test(loader):\n",
        "     model.eval()\n",
        "     correct = 0\n",
        "     for data in loader:  # Iterate in batches over the training/test dataset.\n",
        "        data.to(device)\n",
        "        out = model(data)  \n",
        "        pred = out.argmax(dim=1)  # Use the class with highest probability.\n",
        "        correct += int((pred == data.y).sum())  # Check against ground-truth labels.\n",
        "     return correct / len(loader.dataset)  # Derive ratio of correct predictions.\n",
        "\n",
        "\n",
        "for epoch in range(1, 171):\n",
        "    train(train_loader)\n",
        "    train_acc = test(train_loader)\n",
        "    test_acc = test(test_loader)\n",
        "    print(f'Epoch: {epoch:03d}, Train Acc: {train_acc:.4f}, Test Acc: {test_acc:.4f}')"
      ],
      "metadata": {
        "colab": {
          "base_uri": "https://localhost:8080/"
        },
        "id": "jDFtHb1mboo4",
        "outputId": "764ddcac-edf8-4878-d380-40c0a06b466f"
      },
      "execution_count": null,
      "outputs": [
        {
          "output_type": "stream",
          "name": "stderr",
          "text": [
            "/usr/local/lib/python3.10/dist-packages/torch/nn/modules/lazy.py:180: UserWarning: Lazy modules are a new feature under heavy development so changes to the API or functionality can happen at any moment.\n",
            "  warnings.warn('Lazy modules are a new feature under heavy development '\n"
          ]
        },
        {
          "output_type": "stream",
          "name": "stdout",
          "text": [
            "Epoch: 001, Train Acc: 0.6467, Test Acc: 0.7368\n",
            "Epoch: 002, Train Acc: 0.7000, Test Acc: 0.7368\n",
            "Epoch: 003, Train Acc: 0.7133, Test Acc: 0.8421\n",
            "Epoch: 004, Train Acc: 0.7067, Test Acc: 0.6579\n",
            "Epoch: 005, Train Acc: 0.6933, Test Acc: 0.7895\n",
            "Epoch: 006, Train Acc: 0.7067, Test Acc: 0.7895\n",
            "Epoch: 007, Train Acc: 0.7267, Test Acc: 0.7895\n",
            "Epoch: 008, Train Acc: 0.7267, Test Acc: 0.7895\n",
            "Epoch: 009, Train Acc: 0.7200, Test Acc: 0.7895\n",
            "Epoch: 010, Train Acc: 0.7267, Test Acc: 0.7895\n",
            "Epoch: 011, Train Acc: 0.7200, Test Acc: 0.7895\n",
            "Epoch: 012, Train Acc: 0.7067, Test Acc: 0.8158\n",
            "Epoch: 013, Train Acc: 0.7067, Test Acc: 0.8158\n",
            "Epoch: 014, Train Acc: 0.7133, Test Acc: 0.8158\n",
            "Epoch: 015, Train Acc: 0.7333, Test Acc: 0.7895\n",
            "Epoch: 016, Train Acc: 0.7200, Test Acc: 0.7895\n",
            "Epoch: 017, Train Acc: 0.7067, Test Acc: 0.8158\n",
            "Epoch: 018, Train Acc: 0.6800, Test Acc: 0.7895\n",
            "Epoch: 019, Train Acc: 0.6800, Test Acc: 0.7895\n",
            "Epoch: 020, Train Acc: 0.7200, Test Acc: 0.8421\n",
            "Epoch: 021, Train Acc: 0.7267, Test Acc: 0.8158\n",
            "Epoch: 022, Train Acc: 0.7333, Test Acc: 0.8158\n",
            "Epoch: 023, Train Acc: 0.6867, Test Acc: 0.7895\n",
            "Epoch: 024, Train Acc: 0.6800, Test Acc: 0.7632\n",
            "Epoch: 025, Train Acc: 0.7133, Test Acc: 0.8158\n",
            "Epoch: 026, Train Acc: 0.7267, Test Acc: 0.7895\n",
            "Epoch: 027, Train Acc: 0.7267, Test Acc: 0.7895\n",
            "Epoch: 028, Train Acc: 0.7267, Test Acc: 0.7895\n",
            "Epoch: 029, Train Acc: 0.7267, Test Acc: 0.7895\n",
            "Epoch: 030, Train Acc: 0.7400, Test Acc: 0.7895\n",
            "Epoch: 031, Train Acc: 0.7133, Test Acc: 0.7895\n",
            "Epoch: 032, Train Acc: 0.7333, Test Acc: 0.7632\n",
            "Epoch: 033, Train Acc: 0.7400, Test Acc: 0.7895\n",
            "Epoch: 034, Train Acc: 0.7267, Test Acc: 0.7895\n",
            "Epoch: 035, Train Acc: 0.7400, Test Acc: 0.8421\n",
            "Epoch: 036, Train Acc: 0.7333, Test Acc: 0.7368\n",
            "Epoch: 037, Train Acc: 0.7333, Test Acc: 0.7632\n",
            "Epoch: 038, Train Acc: 0.7333, Test Acc: 0.8158\n",
            "Epoch: 039, Train Acc: 0.7133, Test Acc: 0.8158\n",
            "Epoch: 040, Train Acc: 0.7200, Test Acc: 0.8158\n",
            "Epoch: 041, Train Acc: 0.7267, Test Acc: 0.8158\n",
            "Epoch: 042, Train Acc: 0.6933, Test Acc: 0.8158\n",
            "Epoch: 043, Train Acc: 0.7200, Test Acc: 0.7895\n",
            "Epoch: 044, Train Acc: 0.7267, Test Acc: 0.7895\n",
            "Epoch: 045, Train Acc: 0.7400, Test Acc: 0.7895\n",
            "Epoch: 046, Train Acc: 0.7133, Test Acc: 0.8158\n",
            "Epoch: 047, Train Acc: 0.7133, Test Acc: 0.8158\n",
            "Epoch: 048, Train Acc: 0.7267, Test Acc: 0.7895\n",
            "Epoch: 049, Train Acc: 0.7267, Test Acc: 0.7368\n",
            "Epoch: 050, Train Acc: 0.7200, Test Acc: 0.7368\n",
            "Epoch: 051, Train Acc: 0.7267, Test Acc: 0.8421\n",
            "Epoch: 052, Train Acc: 0.7267, Test Acc: 0.8158\n",
            "Epoch: 053, Train Acc: 0.7267, Test Acc: 0.8158\n",
            "Epoch: 054, Train Acc: 0.7200, Test Acc: 0.7895\n",
            "Epoch: 055, Train Acc: 0.7200, Test Acc: 0.7895\n",
            "Epoch: 056, Train Acc: 0.7267, Test Acc: 0.7895\n",
            "Epoch: 057, Train Acc: 0.7267, Test Acc: 0.7895\n",
            "Epoch: 058, Train Acc: 0.7333, Test Acc: 0.8158\n",
            "Epoch: 059, Train Acc: 0.7333, Test Acc: 0.7895\n",
            "Epoch: 060, Train Acc: 0.7133, Test Acc: 0.8158\n",
            "Epoch: 061, Train Acc: 0.7133, Test Acc: 0.8158\n",
            "Epoch: 062, Train Acc: 0.7267, Test Acc: 0.8158\n",
            "Epoch: 063, Train Acc: 0.7133, Test Acc: 0.8158\n",
            "Epoch: 064, Train Acc: 0.7200, Test Acc: 0.8158\n",
            "Epoch: 065, Train Acc: 0.7267, Test Acc: 0.8158\n",
            "Epoch: 066, Train Acc: 0.7267, Test Acc: 0.7895\n",
            "Epoch: 067, Train Acc: 0.7200, Test Acc: 0.7368\n",
            "Epoch: 068, Train Acc: 0.7200, Test Acc: 0.7368\n",
            "Epoch: 069, Train Acc: 0.7200, Test Acc: 0.8158\n",
            "Epoch: 070, Train Acc: 0.7200, Test Acc: 0.8158\n",
            "Epoch: 071, Train Acc: 0.7267, Test Acc: 0.7895\n",
            "Epoch: 072, Train Acc: 0.7267, Test Acc: 0.7895\n",
            "Epoch: 073, Train Acc: 0.7267, Test Acc: 0.7895\n",
            "Epoch: 074, Train Acc: 0.7200, Test Acc: 0.8158\n",
            "Epoch: 075, Train Acc: 0.7267, Test Acc: 0.8158\n",
            "Epoch: 076, Train Acc: 0.7267, Test Acc: 0.8158\n",
            "Epoch: 077, Train Acc: 0.7200, Test Acc: 0.8158\n",
            "Epoch: 078, Train Acc: 0.7267, Test Acc: 0.8421\n",
            "Epoch: 079, Train Acc: 0.7267, Test Acc: 0.8158\n",
            "Epoch: 080, Train Acc: 0.7133, Test Acc: 0.8158\n",
            "Epoch: 081, Train Acc: 0.7267, Test Acc: 0.7895\n",
            "Epoch: 082, Train Acc: 0.7133, Test Acc: 0.8158\n",
            "Epoch: 083, Train Acc: 0.7267, Test Acc: 0.8158\n",
            "Epoch: 084, Train Acc: 0.7267, Test Acc: 0.8158\n",
            "Epoch: 085, Train Acc: 0.7267, Test Acc: 0.8158\n",
            "Epoch: 086, Train Acc: 0.7267, Test Acc: 0.8158\n",
            "Epoch: 087, Train Acc: 0.7200, Test Acc: 0.8421\n",
            "Epoch: 088, Train Acc: 0.7200, Test Acc: 0.8421\n",
            "Epoch: 089, Train Acc: 0.7067, Test Acc: 0.7895\n",
            "Epoch: 090, Train Acc: 0.7000, Test Acc: 0.7632\n",
            "Epoch: 091, Train Acc: 0.7200, Test Acc: 0.7895\n",
            "Epoch: 092, Train Acc: 0.7267, Test Acc: 0.7632\n",
            "Epoch: 093, Train Acc: 0.7400, Test Acc: 0.7632\n",
            "Epoch: 094, Train Acc: 0.7333, Test Acc: 0.7895\n",
            "Epoch: 095, Train Acc: 0.7067, Test Acc: 0.7895\n",
            "Epoch: 096, Train Acc: 0.7400, Test Acc: 0.7632\n",
            "Epoch: 097, Train Acc: 0.7467, Test Acc: 0.7632\n",
            "Epoch: 098, Train Acc: 0.6867, Test Acc: 0.7895\n",
            "Epoch: 099, Train Acc: 0.6867, Test Acc: 0.7895\n",
            "Epoch: 100, Train Acc: 0.7267, Test Acc: 0.8421\n",
            "Epoch: 101, Train Acc: 0.7067, Test Acc: 0.8158\n",
            "Epoch: 102, Train Acc: 0.7333, Test Acc: 0.7895\n",
            "Epoch: 103, Train Acc: 0.7133, Test Acc: 0.8158\n",
            "Epoch: 104, Train Acc: 0.7267, Test Acc: 0.7895\n",
            "Epoch: 105, Train Acc: 0.7200, Test Acc: 0.7895\n",
            "Epoch: 106, Train Acc: 0.7267, Test Acc: 0.7895\n",
            "Epoch: 107, Train Acc: 0.7200, Test Acc: 0.8421\n",
            "Epoch: 108, Train Acc: 0.7133, Test Acc: 0.7895\n",
            "Epoch: 109, Train Acc: 0.7267, Test Acc: 0.7895\n",
            "Epoch: 110, Train Acc: 0.7267, Test Acc: 0.7895\n",
            "Epoch: 111, Train Acc: 0.7267, Test Acc: 0.7895\n",
            "Epoch: 112, Train Acc: 0.7333, Test Acc: 0.7368\n",
            "Epoch: 113, Train Acc: 0.7333, Test Acc: 0.7895\n",
            "Epoch: 114, Train Acc: 0.7067, Test Acc: 0.8158\n",
            "Epoch: 115, Train Acc: 0.7267, Test Acc: 0.7895\n",
            "Epoch: 116, Train Acc: 0.7067, Test Acc: 0.7895\n",
            "Epoch: 117, Train Acc: 0.7133, Test Acc: 0.8421\n",
            "Epoch: 118, Train Acc: 0.6933, Test Acc: 0.8158\n",
            "Epoch: 119, Train Acc: 0.7200, Test Acc: 0.8158\n",
            "Epoch: 120, Train Acc: 0.7067, Test Acc: 0.8158\n",
            "Epoch: 121, Train Acc: 0.7067, Test Acc: 0.8158\n",
            "Epoch: 122, Train Acc: 0.7067, Test Acc: 0.8421\n",
            "Epoch: 123, Train Acc: 0.7133, Test Acc: 0.8158\n",
            "Epoch: 124, Train Acc: 0.7267, Test Acc: 0.7895\n",
            "Epoch: 125, Train Acc: 0.7333, Test Acc: 0.7895\n",
            "Epoch: 126, Train Acc: 0.7267, Test Acc: 0.7895\n",
            "Epoch: 127, Train Acc: 0.7333, Test Acc: 0.7895\n",
            "Epoch: 128, Train Acc: 0.7200, Test Acc: 0.7895\n",
            "Epoch: 129, Train Acc: 0.7000, Test Acc: 0.8158\n",
            "Epoch: 130, Train Acc: 0.7267, Test Acc: 0.7895\n",
            "Epoch: 131, Train Acc: 0.7133, Test Acc: 0.8158\n",
            "Epoch: 132, Train Acc: 0.7133, Test Acc: 0.7895\n",
            "Epoch: 133, Train Acc: 0.7200, Test Acc: 0.8158\n",
            "Epoch: 134, Train Acc: 0.7267, Test Acc: 0.8421\n",
            "Epoch: 135, Train Acc: 0.7133, Test Acc: 0.8158\n",
            "Epoch: 136, Train Acc: 0.7333, Test Acc: 0.7895\n",
            "Epoch: 137, Train Acc: 0.7333, Test Acc: 0.7895\n",
            "Epoch: 138, Train Acc: 0.7067, Test Acc: 0.8158\n",
            "Epoch: 139, Train Acc: 0.7533, Test Acc: 0.7895\n",
            "Epoch: 140, Train Acc: 0.7133, Test Acc: 0.8158\n",
            "Epoch: 141, Train Acc: 0.7333, Test Acc: 0.7895\n",
            "Epoch: 142, Train Acc: 0.7200, Test Acc: 0.7895\n",
            "Epoch: 143, Train Acc: 0.7333, Test Acc: 0.7895\n",
            "Epoch: 144, Train Acc: 0.7267, Test Acc: 0.7895\n",
            "Epoch: 145, Train Acc: 0.7333, Test Acc: 0.7895\n",
            "Epoch: 146, Train Acc: 0.7267, Test Acc: 0.7895\n",
            "Epoch: 147, Train Acc: 0.7333, Test Acc: 0.7895\n",
            "Epoch: 148, Train Acc: 0.7267, Test Acc: 0.8158\n",
            "Epoch: 149, Train Acc: 0.7267, Test Acc: 0.8158\n",
            "Epoch: 150, Train Acc: 0.7133, Test Acc: 0.8158\n",
            "Epoch: 151, Train Acc: 0.7267, Test Acc: 0.8158\n",
            "Epoch: 152, Train Acc: 0.7333, Test Acc: 0.7895\n",
            "Epoch: 153, Train Acc: 0.7267, Test Acc: 0.7895\n",
            "Epoch: 154, Train Acc: 0.7333, Test Acc: 0.7895\n",
            "Epoch: 155, Train Acc: 0.7333, Test Acc: 0.7895\n",
            "Epoch: 156, Train Acc: 0.7200, Test Acc: 0.7895\n",
            "Epoch: 157, Train Acc: 0.7267, Test Acc: 0.7895\n",
            "Epoch: 158, Train Acc: 0.7333, Test Acc: 0.7895\n",
            "Epoch: 159, Train Acc: 0.7333, Test Acc: 0.7895\n",
            "Epoch: 160, Train Acc: 0.7200, Test Acc: 0.7368\n",
            "Epoch: 161, Train Acc: 0.7067, Test Acc: 0.8158\n",
            "Epoch: 162, Train Acc: 0.7133, Test Acc: 0.8158\n",
            "Epoch: 163, Train Acc: 0.7133, Test Acc: 0.7895\n",
            "Epoch: 164, Train Acc: 0.7000, Test Acc: 0.7895\n",
            "Epoch: 165, Train Acc: 0.7000, Test Acc: 0.8158\n",
            "Epoch: 166, Train Acc: 0.7133, Test Acc: 0.8158\n",
            "Epoch: 167, Train Acc: 0.7200, Test Acc: 0.7368\n",
            "Epoch: 168, Train Acc: 0.7200, Test Acc: 0.7895\n",
            "Epoch: 169, Train Acc: 0.7333, Test Acc: 0.7895\n",
            "Epoch: 170, Train Acc: 0.7200, Test Acc: 0.7895\n"
          ]
        }
      ]
    },
    {
      "cell_type": "code",
      "source": [
        "model.eval()"
      ],
      "metadata": {
        "colab": {
          "base_uri": "https://localhost:8080/"
        },
        "id": "VwccrOdXeU6u",
        "outputId": "15f9bcda-a513-4296-c7f9-f33324f5c94f"
      },
      "execution_count": null,
      "outputs": [
        {
          "output_type": "execute_result",
          "data": {
            "text/plain": [
              "GraphAttentionNetwork(\n",
              "  (c1): MyGatConv()\n",
              "  (c2): MyGatConv()\n",
              "  (final_layer): Sequential(\n",
              "    (0): Linear(in_features=16, out_features=2, bias=True)\n",
              "    (1): BatchNorm1d(2, eps=1e-05, momentum=0.1, affine=True, track_running_stats=True)\n",
              "  )\n",
              ")"
            ]
          },
          "metadata": {},
          "execution_count": 66
        }
      ]
    },
    {
      "cell_type": "code",
      "source": [
        "batch.to(device)"
      ],
      "metadata": {
        "colab": {
          "base_uri": "https://localhost:8080/"
        },
        "id": "X5V8s5lLeZdp",
        "outputId": "cb4f0b1f-c342-4937-9243-549c8185f5ae"
      },
      "execution_count": null,
      "outputs": [
        {
          "output_type": "execute_result",
          "data": {
            "text/plain": [
              "DataBatch(edge_index=[2, 712], x=[321, 7], edge_attr=[712, 4], y=[16], batch=[321], ptr=[17])"
            ]
          },
          "metadata": {},
          "execution_count": 68
        }
      ]
    },
    {
      "cell_type": "code",
      "source": [
        "yhat = model(batch)"
      ],
      "metadata": {
        "id": "uHwxem7deXEZ"
      },
      "execution_count": null,
      "outputs": []
    },
    {
      "cell_type": "code",
      "source": [
        "yhat.argmax(dim = 1)"
      ],
      "metadata": {
        "colab": {
          "base_uri": "https://localhost:8080/"
        },
        "id": "SjZfKU-oecX8",
        "outputId": "5fc9ae18-b3e9-447b-a140-28d262cd4efb"
      },
      "execution_count": null,
      "outputs": [
        {
          "output_type": "execute_result",
          "data": {
            "text/plain": [
              "tensor([1, 1, 1, 1, 1, 1, 1, 1, 1, 0, 1, 1, 0, 1, 1, 1], device='cuda:0')"
            ]
          },
          "metadata": {},
          "execution_count": 71
        }
      ]
    },
    {
      "cell_type": "code",
      "source": [
        "batch.y"
      ],
      "metadata": {
        "colab": {
          "base_uri": "https://localhost:8080/"
        },
        "id": "WMgy7iGzefaC",
        "outputId": "bb2e0666-f583-49d3-c440-3d8f16d0c66e"
      },
      "execution_count": null,
      "outputs": [
        {
          "output_type": "execute_result",
          "data": {
            "text/plain": [
              "tensor([1, 1, 1, 1, 0, 1, 1, 1, 1, 1, 1, 1, 0, 1, 0, 1], device='cuda:0')"
            ]
          },
          "metadata": {},
          "execution_count": 72
        }
      ]
    },
    {
      "cell_type": "markdown",
      "source": [
        "# Edge Update Attention"
      ],
      "metadata": {
        "id": "WXIJEmlgkOG8"
      }
    },
    {
      "cell_type": "code",
      "source": [
        "# GAT v2\n",
        "import torch.nn.init as init\n",
        "from torch_geometric.utils import softmax\n",
        "from torch_geometric.nn import global_mean_pool\n",
        "import torch\n",
        "from torch_geometric.datasets import TUDataset\n",
        "\n",
        "dataset = TUDataset(root='data/TUDataset', name='MUTAG')\n",
        "\n",
        "torch.manual_seed(12345)\n",
        "dataset = dataset.shuffle()\n",
        "\n",
        "train_dataset = dataset[:150]\n",
        "test_dataset = dataset[150:]\n",
        "\n",
        "from torch_geometric.loader import DataLoader\n",
        "train_loader = DataLoader(train_dataset, batch_size = 16, shuffle = True)\n",
        "test_loader = DataLoader(test_dataset, batch_size = 16, shuffle = True)"
      ],
      "metadata": {
        "id": "INqBGtXykNue"
      },
      "execution_count": 165,
      "outputs": []
    },
    {
      "cell_type": "code",
      "source": [],
      "metadata": {
        "id": "JpD2xFpV5J2w"
      },
      "execution_count": 280,
      "outputs": []
    },
    {
      "cell_type": "code",
      "source": [
        "# def linear_layer(in_channels, out_channels):\n",
        "#   return nn.Sequential(nn.Linear(in_channels, out_channels), \n",
        "#                       nn.LayerNorm(out_channels),\n",
        "#                       nn.ReLU())"
      ],
      "metadata": {
        "id": "LXughkKihD9E"
      },
      "execution_count": 243,
      "outputs": []
    },
    {
      "cell_type": "code",
      "source": [
        "def attn_heads(in_channels, out_channels):\n",
        "  return nn.Sequential(nn.Linear(in_channels, out_channels), \n",
        "                      nn.LayerNorm(out_channels), nn.Tanh())"
      ],
      "metadata": {
        "id": "ILLXUJaALsUP"
      },
      "execution_count": 294,
      "outputs": []
    },
    {
      "cell_type": "code",
      "source": [
        "def linear_layer(in_channels, out_channels):\n",
        "  return nn.Sequential(nn.Linear(in_channels, out_channels), \n",
        "                      nn.BatchNorm1d(out_channels),\n",
        "                      nn.LeakyReLU(1e-02))\n",
        "  \n",
        "def attn_heads(in_channels, out_channels):\n",
        "  return nn.Sequential(nn.Linear(in_channels, out_channels), \n",
        "                      nn.LayerNorm(out_channels), nn.Tanh())\n",
        "\n",
        "class ResLayer(nn.Module):\n",
        "  def __init__(self, in_c, out_c):\n",
        "    super().__init__()\n",
        "    self.l1 = linear_layer(in_c, out_c)\n",
        "    self.l2 = linear_layer(out_c, out_c)\n",
        "    self.l3 = linear_layer(out_c, out_c)\n",
        "  \n",
        "  def forward(self, x):\n",
        "    x = self.l1(x)\n",
        "    return self.l3(self.l2(x)) + x"
      ],
      "metadata": {
        "id": "mUL-XiLH8lW2"
      },
      "execution_count": 18,
      "outputs": []
    },
    {
      "cell_type": "code",
      "source": [
        "batch = next(iter(train_loader))"
      ],
      "metadata": {
        "id": "vTfh93dk_rMp"
      },
      "execution_count": 18,
      "outputs": []
    },
    {
      "cell_type": "code",
      "source": [
        "class GATv2Conv(MessagePassing):\n",
        "\n",
        "  def __init__(self, n_in, n_out):\n",
        "    super().__init__(aggr = 'add')\n",
        "    self.inital_transform = linear_layer(n_in, n_out)\n",
        "    self.attn_layer = linear_layer(2*n_out, 1)\n",
        "    self.n_in = n_in\n",
        "    self.n_out = n_out\n",
        "\n",
        "  def forward(self, x, edge_index):\n",
        "    z = self.inital_transform(x)\n",
        "    out = self.propagate(edge_index, x = z)\n",
        "    return F.relu(out)\n",
        "  \n",
        "  def message(self, x_i, x_j, edge_index_i):\n",
        "    attn_scores = self.attn_layer(torch.cat([x_i, x_j], dim = 1))\n",
        "\n",
        "    attn_scores_n = softmax(attn_scores, edge_index_i)\n",
        "\n",
        "    scaled_product = attn_scores_n * x_j\n",
        "\n",
        "    return scaled_product"
      ],
      "metadata": {
        "id": "t5XdTby5_uK9"
      },
      "execution_count": 158,
      "outputs": []
    },
    {
      "cell_type": "code",
      "source": [
        "test = GATv2Conv(dataset.num_node_features, 16)"
      ],
      "metadata": {
        "colab": {
          "base_uri": "https://localhost:8080/"
        },
        "id": "6kOE51WNC4xY",
        "outputId": "5924a0dc-0df6-4425-dda9-858d51981c07"
      },
      "execution_count": null,
      "outputs": [
        {
          "output_type": "stream",
          "name": "stderr",
          "text": [
            "/usr/local/lib/python3.10/dist-packages/torch/nn/modules/lazy.py:180: UserWarning: Lazy modules are a new feature under heavy development so changes to the API or functionality can happen at any moment.\n",
            "  warnings.warn('Lazy modules are a new feature under heavy development '\n"
          ]
        }
      ]
    },
    {
      "cell_type": "code",
      "source": [
        "y_out = test(batch.x, batch.edge_index)"
      ],
      "metadata": {
        "colab": {
          "base_uri": "https://localhost:8080/"
        },
        "id": "vHjQ762mDAoZ",
        "outputId": "e21938a3-5cb9-484e-cbe0-b1ce9eb64b6f"
      },
      "execution_count": null,
      "outputs": [
        {
          "output_type": "stream",
          "name": "stderr",
          "text": [
            "\n",
            "PYDEV DEBUGGER WARNING:\n",
            "sys.settrace() should not be used when the debugger is being used.\n",
            "This may cause the debugger to stop working correctly.\n",
            "If this is needed, please check: \n",
            "http://pydev.blogspot.com/2007/06/why-cant-pydev-debugger-work-with.html\n",
            "to see how to restore the debug tracing back correctly.\n",
            "Call Location:\n",
            "  File \"/usr/lib/python3.10/bdb.py\", line 336, in set_trace\n",
            "    sys.settrace(self.trace_dispatch)\n",
            "\n"
          ]
        },
        {
          "name": "stdout",
          "output_type": "stream",
          "text": [
            "> \u001b[0;32m<ipython-input-6-c897ed2fab69>\u001b[0m(18)\u001b[0;36mmessage\u001b[0;34m()\u001b[0m\n",
            "\u001b[0;32m     17 \u001b[0;31m    \u001b[0mst\u001b[0m\u001b[0;34m(\u001b[0m\u001b[0;34m)\u001b[0m\u001b[0;34m\u001b[0m\u001b[0;34m\u001b[0m\u001b[0m\n",
            "\u001b[0m\u001b[0;32m---> 18 \u001b[0;31m    \u001b[0mattn_scores_n\u001b[0m \u001b[0;34m=\u001b[0m \u001b[0msoftmax\u001b[0m\u001b[0;34m(\u001b[0m\u001b[0mattn_scores\u001b[0m\u001b[0;34m,\u001b[0m \u001b[0medge_index_i\u001b[0m\u001b[0;34m)\u001b[0m\u001b[0;34m\u001b[0m\u001b[0;34m\u001b[0m\u001b[0m\n",
            "\u001b[0m\u001b[0;32m     19 \u001b[0;31m\u001b[0;34m\u001b[0m\u001b[0m\n",
            "\u001b[0m\n",
            "ipdb> ll\n",
            "\u001b[1;32m     15 \u001b[0m  \u001b[0;32mdef\u001b[0m \u001b[0mmessage\u001b[0m\u001b[0;34m(\u001b[0m\u001b[0mself\u001b[0m\u001b[0;34m,\u001b[0m \u001b[0mx_i\u001b[0m\u001b[0;34m,\u001b[0m \u001b[0mx_j\u001b[0m\u001b[0;34m,\u001b[0m \u001b[0medge_index_i\u001b[0m\u001b[0;34m)\u001b[0m\u001b[0;34m:\u001b[0m\u001b[0;34m\u001b[0m\u001b[0;34m\u001b[0m\u001b[0m\n",
            "\u001b[1;32m     16 \u001b[0m    \u001b[0mattn_scores\u001b[0m \u001b[0;34m=\u001b[0m \u001b[0mself\u001b[0m\u001b[0;34m.\u001b[0m\u001b[0mattn_layer\u001b[0m\u001b[0;34m(\u001b[0m\u001b[0mtorch\u001b[0m\u001b[0;34m.\u001b[0m\u001b[0mcat\u001b[0m\u001b[0;34m(\u001b[0m\u001b[0;34m[\u001b[0m\u001b[0mx_i\u001b[0m\u001b[0;34m,\u001b[0m \u001b[0mx_j\u001b[0m\u001b[0;34m]\u001b[0m\u001b[0;34m,\u001b[0m \u001b[0mdim\u001b[0m \u001b[0;34m=\u001b[0m \u001b[0;36m1\u001b[0m\u001b[0;34m)\u001b[0m\u001b[0;34m)\u001b[0m\u001b[0;34m\u001b[0m\u001b[0;34m\u001b[0m\u001b[0m\n",
            "\u001b[1;32m     17 \u001b[0m    \u001b[0mst\u001b[0m\u001b[0;34m(\u001b[0m\u001b[0;34m)\u001b[0m\u001b[0;34m\u001b[0m\u001b[0;34m\u001b[0m\u001b[0m\n",
            "\u001b[0;32m---> 18 \u001b[0;31m    \u001b[0mattn_scores_n\u001b[0m \u001b[0;34m=\u001b[0m \u001b[0msoftmax\u001b[0m\u001b[0;34m(\u001b[0m\u001b[0mattn_scores\u001b[0m\u001b[0;34m,\u001b[0m \u001b[0medge_index_i\u001b[0m\u001b[0;34m)\u001b[0m\u001b[0;34m\u001b[0m\u001b[0;34m\u001b[0m\u001b[0m\n",
            "\u001b[0m\u001b[1;32m     19 \u001b[0m\u001b[0;34m\u001b[0m\u001b[0m\n",
            "\u001b[1;32m     20 \u001b[0m    \u001b[0mscaled_product\u001b[0m \u001b[0;34m=\u001b[0m \u001b[0mattn_scores_n\u001b[0m \u001b[0;34m*\u001b[0m \u001b[0mx_j\u001b[0m\u001b[0;34m\u001b[0m\u001b[0;34m\u001b[0m\u001b[0m\n",
            "\u001b[1;32m     21 \u001b[0m\u001b[0;34m\u001b[0m\u001b[0m\n",
            "\u001b[1;32m     22 \u001b[0m    \u001b[0;32mreturn\u001b[0m \u001b[0mscaled_product\u001b[0m\u001b[0;34m\u001b[0m\u001b[0;34m\u001b[0m\u001b[0m\n",
            "\n",
            "ipdb> torch.cat([x_i, x_j], dim = 1).shape\n",
            "torch.Size([712, 32])\n",
            "ipdb> exit\n"
          ]
        },
        {
          "output_type": "stream",
          "name": "stderr",
          "text": [
            "\n",
            "PYDEV DEBUGGER WARNING:\n",
            "sys.settrace() should not be used when the debugger is being used.\n",
            "This may cause the debugger to stop working correctly.\n",
            "If this is needed, please check: \n",
            "http://pydev.blogspot.com/2007/06/why-cant-pydev-debugger-work-with.html\n",
            "to see how to restore the debug tracing back correctly.\n",
            "Call Location:\n",
            "  File \"/usr/lib/python3.10/bdb.py\", line 361, in set_quit\n",
            "    sys.settrace(None)\n",
            "\n"
          ]
        }
      ]
    },
    {
      "cell_type": "code",
      "source": [
        "y_out.shape"
      ],
      "metadata": {
        "colab": {
          "base_uri": "https://localhost:8080/"
        },
        "id": "jmD-RDp6ElPq",
        "outputId": "ec3fb803-b3c4-43ce-9820-dd8dbd6229cd"
      },
      "execution_count": null,
      "outputs": [
        {
          "output_type": "execute_result",
          "data": {
            "text/plain": [
              "torch.Size([321, 16])"
            ]
          },
          "metadata": {},
          "execution_count": 38
        }
      ]
    },
    {
      "cell_type": "code",
      "source": [
        "class GATv2ConvE(MessagePassing):\n",
        "\n",
        "  def __init__(self, n_in, n_out, e_in, e_out):\n",
        "    super().__init__(aggr = 'add')\n",
        "    self.n_transform = ResLayer(n_in, n_out)\n",
        "    self.e_transform = ResLayer(e_in, e_out)\n",
        "\n",
        "    # Node\n",
        "    self.n_attn = ResLayer(2*n_out + e_out, 1)\n",
        "    self.e_attn = ResLayer(2*n_out + e_out, 1)\n",
        "\n",
        "    # For Edge\n",
        "    self.n1_attn = ResLayer(e_out + 2*n_out, 1)\n",
        "    self.n2_attn = ResLayer(e_out + 2*n_out, 1)\n",
        "\n",
        "    self.n_message = ResLayer(e_out + n_out , n_out)\n",
        "    self.e_update = ResLayer(e_out + 2*n_out, e_out)\n",
        "    self.n_update = ResLayer(e_out + n_out, n_out)\n",
        "    self.n_in = n_in\n",
        "    self.n_out = n_out\n",
        "    self.e_in = e_in\n",
        "    self.e_out = e_out\n",
        "\n",
        "  def forward(self, x, edge_index, edge_attr):\n",
        "    # st()\n",
        "    x = self.n_transform(x)\n",
        "    edge_attr = self.e_transform(edge_attr)\n",
        "\n",
        "    node_features = self.propagate(edge_index, x = x, edge_attr = edge_attr)\n",
        "    edge_features = self.edge_updater(edge_index, x = x, edge_attr = edge_attr)\n",
        "    # st()\n",
        "    return node_features, edge_features\n",
        "  \n",
        "  def edge_update(self, edge_index, x_i, x_j, edge_attr):\n",
        "    # 2. Edge Message Calculation\n",
        "    # st()\n",
        "    input = torch.cat([x_i, x_j, edge_attr], dim = 1)\n",
        "    n1_attn = self.n1_attn(input)\n",
        "    n2_attn = self.n2_attn(input)\n",
        "\n",
        "    edge_message = torch.cat([n1_attn*x_i, n2_attn*x_j, edge_attr], dim = 1)\n",
        "    return self.e_update(edge_message) + edge_attr\n",
        "  \n",
        "  def message(self, x_i, x_j, edge_index, edge_attr):\n",
        "\n",
        "    input = torch.cat([x_i, x_j, edge_attr], dim = 1)\n",
        "    # 1. Node Message Calculation\n",
        "    neighbour_attn = self.n_attn(input)\n",
        "    edge_attn = self.e_attn(input)\n",
        "    \n",
        "    # 1.1 Attention Softmax\n",
        "    neighbour_attn = softmax(neighbour_attn, edge_index[0])\n",
        "    edge_attn = softmax(edge_attn, edge_index[0])\n",
        "\n",
        "    # 1.2 Gather the message\n",
        "    node_message = torch.cat([neighbour_attn*x_j, edge_attn*edge_attr], dim = 1)\n",
        "\n",
        "    return node_message\n",
        "  \n",
        "  def update(self, aggregated_output):\n",
        "    return self.n_update(aggregated_output)"
      ],
      "metadata": {
        "id": "U8tfqYWbDEpb"
      },
      "execution_count": 245,
      "outputs": []
    },
    {
      "cell_type": "code",
      "source": [
        "class GATv2ConvE_1(MessagePassing):\n",
        "\n",
        "  def __init__(self, n_in, n_out, e_in, e_out):\n",
        "    super().__init__(aggr = 'add')\n",
        "    self.n_transform = ResLayer(n_in, n_out)\n",
        "    self.e_transform = ResLayer(e_in, e_out)\n",
        "\n",
        "    # Node\n",
        "    self.n_attn = ResLayer(2*n_out + e_out, 1)\n",
        "    self.e_attn = ResLayer(2*n_out + e_out, 1)\n",
        "\n",
        "    # For Edge\n",
        "    self.n1_attn = ResLayer(e_out + 2*n_out, 1)\n",
        "    self.n2_attn = ResLayer(e_out + 2*n_out, 1)\n",
        "\n",
        "    self.n_message = ResLayer(e_out + n_out , n_out)\n",
        "    self.e_update = ResLayer(e_out + 2*n_out, e_out)\n",
        "    self.n_update = ResLayer(n_out, n_out)\n",
        "    self.n_in = n_in\n",
        "    self.n_out = n_out\n",
        "    self.e_in = e_in\n",
        "    self.e_out = e_out\n",
        "\n",
        "  def forward(self, x, edge_index, edge_attr):\n",
        "    \n",
        "    # st()\n",
        "    x = self.n_transform(x)\n",
        "    edge_attr = self.e_transform(edge_attr)\n",
        "\n",
        "    node_features = self.propagate(edge_index, x = x, edge_attr = edge_attr)\n",
        "    edge_features = self.edge_updater(edge_index, x = x, edge_attr = edge_attr)\n",
        "\n",
        "    return node_features, edge_features\n",
        "  \n",
        "  def edge_update(self, edge_index, x_i, x_j, edge_attr):\n",
        "    \n",
        "    # 2. Edge Message Calculation\n",
        "    input = torch.cat([x_i, x_j, edge_attr], dim = 1)\n",
        "    n1_attn = self.n1_attn(input)\n",
        "    n2_attn = self.n2_attn(input)\n",
        "\n",
        "    edge_message = torch.cat([n1_attn*x_i, n2_attn*x_j, edge_attr], dim = 1)\n",
        "    return self.e_update(edge_message) + edge_attr\n",
        "  \n",
        "  def message(self, x_i, x_j, edge_index, edge_attr):\n",
        "\n",
        "    # 1. Node Message Calculation\n",
        "    input = torch.cat([x_i, x_j, edge_attr], dim = 1)\n",
        "    neighbour_attn = self.n_attn(input)\n",
        "    edge_attn = self.e_attn(input)\n",
        "    \n",
        "    # 1.1 Attention Softmax\n",
        "    neighbour_attn = softmax(neighbour_attn, edge_index[0])\n",
        "    edge_attn = softmax(edge_attn, edge_index[0])\n",
        "\n",
        "    # 1.2 Gather the message\n",
        "    node_message = torch.cat([neighbour_attn*x_j, edge_attn*edge_attr], dim = 1)\n",
        "    return self.n_message(node_message)\n",
        "  \n",
        "  def update(self, aggregated_output):\n",
        "    return self.n_update(aggregated_output)"
      ],
      "metadata": {
        "id": "V9r0istGfpJX"
      },
      "execution_count": 246,
      "outputs": []
    },
    {
      "cell_type": "code",
      "source": [
        "class GATv2ConvEV2(MessagePassing):\n",
        "\n",
        "  def __init__(self, n_in, n_out, e_in, e_out):\n",
        "    super().__init__(aggr = 'add')\n",
        "    self.n_transform = ResLayer(n_in, n_out)\n",
        "    self.e_transform = ResLayer(e_in, e_out)\n",
        "\n",
        "    # Node\n",
        "    self.n_attn = attn_heads(2*n_out + e_out, 1)\n",
        "    self.e_attn = attn_heads(2*n_out + e_out, 1)\n",
        "    self.s_attn = attn_heads(2*n_out + e_out, 1)\n",
        "    self.n_message = ResLayer(e_out + 2*n_out , n_out)\n",
        "\n",
        "    # For Edge\n",
        "    self.n1_attn = ResLayer(e_out + 2*n_out, 1)\n",
        "    self.n2_attn = ResLayer(e_out + 2*n_out, 1)\n",
        "    self.s_e_attn = ResLayer(e_out + 2*n_out, 1)\n",
        "\n",
        "    # For Node Update\n",
        "    self.u_m_attn = attn_heads(2*n_out, 1)\n",
        "    self.u_s_attn = attn_heads(2*n_out, 1)\n",
        "    self.n_update = ResLayer(2*n_out, n_out)\n",
        "\n",
        "    self.e_update = ResLayer(e_out + 2*n_out, e_out)\n",
        "\n",
        "    self.n_in = n_in\n",
        "    self.n_out = n_out\n",
        "    self.e_in = e_in\n",
        "    self.e_out = e_out\n",
        "\n",
        "  def forward(self, x, edge_index, edge_attr):\n",
        "    # st()\n",
        "    x = self.n_transform(x)\n",
        "    edge_attr = self.e_transform(edge_attr)\n",
        "\n",
        "    node_features = self.propagate(edge_index, x = x, edge_attr = edge_attr)\n",
        "    edge_features = self.edge_updater(edge_index, x = x, edge_attr = edge_attr)\n",
        "\n",
        "    return node_features, edge_features\n",
        "  \n",
        "  def edge_update(self, edge_index, x_i, x_j, edge_attr):\n",
        "    # 2. Edge Message Calculation\n",
        "\n",
        "    input = torch.cat([x_i, x_j, edge_attr], dim = 1)\n",
        "    n1_attn = self.n1_attn(input)\n",
        "    n2_attn = self.n2_attn(input)\n",
        "    self_attn = self.s_e_attn(input)\n",
        "\n",
        "    edge_message = torch.cat([n1_attn*x_i, n2_attn*x_j, self_attn*edge_attr], dim = 1)\n",
        "    return self.e_update(edge_message) + edge_attr\n",
        "  \n",
        "  def message(self, x_i, x_j, edge_index, edge_attr):\n",
        "\n",
        "    input = torch.cat([x_i, x_j, edge_attr], dim = 1)\n",
        "    # 1. Node Message Calculation\n",
        "    \n",
        "    neighbour_attn = self.n_attn(input)\n",
        "    edge_attn = self.e_attn(input)\n",
        "    self_attn = self.s_attn(input)\n",
        "    \n",
        "    # 1.1 Attention Softmax\n",
        "    neighbour_attn = softmax(neighbour_attn, edge_index[0])\n",
        "    edge_attn = softmax(edge_attn, edge_index[0])\n",
        "    self_attn = softmax(self_attn, edge_index[0])\n",
        "\n",
        "    # 1.2 Gather the message\n",
        "    node_message = torch.cat([self_attn*x_i, neighbour_attn*x_j, edge_attn*edge_attr], dim = 1)\n",
        "\n",
        "    op = self.n_message(node_message)\n",
        "    return op\n",
        "  \n",
        "  def update(self, aggregated_output, x):\n",
        "    '''\n",
        "    input = aggregated_output || x\n",
        "    message_attn = msg_attn(input)\n",
        "    self_attn = self_attn(input)\n",
        "\n",
        "    h` = update(message_attn*aggregated_output || self_attn*x)\n",
        "    return h`\n",
        "    '''\n",
        "\n",
        "    input = torch.cat([aggregated_output, x], dim = 1)\n",
        "    m_attn = self.u_m_attn(input)\n",
        "    s_attn = self.u_s_attn(input)\n",
        "\n",
        "    return self.n_update(torch.cat([m_attn*aggregated_output, s_attn*x], dim = 1))\n",
        "  "
      ],
      "metadata": {
        "id": "eluiw2bAgfjY"
      },
      "execution_count": 282,
      "outputs": []
    },
    {
      "cell_type": "code",
      "source": [
        "test = GATv2ConvEV2(dataset.num_node_features, 16, dataset.num_edge_features, 16)"
      ],
      "metadata": {
        "id": "UFHY-M8CWdDv"
      },
      "execution_count": 272,
      "outputs": []
    },
    {
      "cell_type": "code",
      "source": [
        "batch = next(iter(train_loader))\n",
        "batch"
      ],
      "metadata": {
        "colab": {
          "base_uri": "https://localhost:8080/"
        },
        "id": "zF4hlYexX6bs",
        "outputId": "86da7310-ab01-4249-9ce7-5a05302b48cf"
      },
      "execution_count": 191,
      "outputs": [
        {
          "output_type": "execute_result",
          "data": {
            "text/plain": [
              "DataBatch(edge_index=[2, 704], x=[319, 7], edge_attr=[704, 4], y=[16], batch=[319], ptr=[17])"
            ]
          },
          "metadata": {},
          "execution_count": 191
        }
      ]
    },
    {
      "cell_type": "code",
      "source": [
        "test(batch.x, batch.edge_index, batch.edge_attr)"
      ],
      "metadata": {
        "colab": {
          "base_uri": "https://localhost:8080/"
        },
        "id": "CG9ubI4VHDko",
        "outputId": "9d0bd04d-eeb7-4ae4-e16f-001ae4a20637"
      },
      "execution_count": 210,
      "outputs": [
        {
          "name": "stdout",
          "output_type": "stream",
          "text": [
            "> \u001b[0;32m/tmp/ipykernel_25465/2770043420.py\u001b[0m(82)\u001b[0;36mupdate\u001b[0;34m()\u001b[0m\n",
            "\u001b[0;32m     81 \u001b[0;31m    \u001b[0mst\u001b[0m\u001b[0;34m(\u001b[0m\u001b[0;34m)\u001b[0m\u001b[0;34m\u001b[0m\u001b[0;34m\u001b[0m\u001b[0m\n",
            "\u001b[0m\u001b[0;32m---> 82 \u001b[0;31m    \u001b[0minput\u001b[0m \u001b[0;34m=\u001b[0m \u001b[0mtorch\u001b[0m\u001b[0;34m.\u001b[0m\u001b[0mcat\u001b[0m\u001b[0;34m(\u001b[0m\u001b[0;34m[\u001b[0m\u001b[0maggregated_output\u001b[0m\u001b[0;34m,\u001b[0m \u001b[0mx\u001b[0m\u001b[0;34m]\u001b[0m\u001b[0;34m,\u001b[0m \u001b[0mdim\u001b[0m \u001b[0;34m=\u001b[0m \u001b[0;36m1\u001b[0m\u001b[0;34m)\u001b[0m\u001b[0;34m\u001b[0m\u001b[0;34m\u001b[0m\u001b[0m\n",
            "\u001b[0m\u001b[0;32m     83 \u001b[0;31m    \u001b[0mm_attn\u001b[0m \u001b[0;34m=\u001b[0m \u001b[0mself\u001b[0m\u001b[0;34m.\u001b[0m\u001b[0mu_m_attn\u001b[0m\u001b[0;34m(\u001b[0m\u001b[0minput\u001b[0m\u001b[0;34m)\u001b[0m\u001b[0;34m\u001b[0m\u001b[0;34m\u001b[0m\u001b[0m\n",
            "\u001b[0m\n",
            "ipdb> c\n"
          ]
        },
        {
          "output_type": "execute_result",
          "data": {
            "text/plain": [
              "(tensor([[1.2454, 2.2018, 1.7808,  ..., 0.0000, 0.8820, 1.2514],\n",
              "         [1.2454, 2.2018, 1.7808,  ..., 0.0000, 0.8820, 1.2514],\n",
              "         [1.2454, 2.2017, 1.7809,  ..., 0.0000, 0.8821, 1.2512],\n",
              "         ...,\n",
              "         [1.2455, 2.2017, 1.7809,  ..., 0.0000, 0.8819, 1.2513],\n",
              "         [1.2455, 2.2017, 1.7809,  ..., 0.0000, 0.8819, 1.2513],\n",
              "         [1.2456, 2.2018, 1.7808,  ..., 0.0000, 0.8818, 1.2514]],\n",
              "        grad_fn=<AddBackward0>),\n",
              " tensor([[1.6999, 0.5070, 1.2359,  ..., 1.6414, 0.7072, 3.8029],\n",
              "         [1.6999, 0.5070, 1.2359,  ..., 1.6414, 0.7072, 3.8029],\n",
              "         [1.6999, 0.5070, 1.2359,  ..., 1.6414, 0.7072, 3.8029],\n",
              "         ...,\n",
              "         [2.2075, 0.5070, 1.2711,  ..., 2.2489, 0.7730, 4.5514],\n",
              "         [1.6614, 0.5070, 1.2359,  ..., 2.0305, 0.7072, 4.5659],\n",
              "         [1.6614, 0.5070, 1.2359,  ..., 2.0305, 0.7072, 4.5659]],\n",
              "        grad_fn=<AddBackward0>))"
            ]
          },
          "metadata": {},
          "execution_count": 210
        }
      ]
    },
    {
      "cell_type": "code",
      "source": [
        "class MultiHeadGATv2ConvE(nn.Module):\n",
        "  def __init__(self, n_in, n_out, e_in, e_out, n_heads = 6):\n",
        "    super().__init__()\n",
        "    self.heads = nn.ModuleList([GATv2ConvE(n_in, n_out, e_in, e_out) for i in range(n_heads)])\n",
        "    self.node_layer = ResLayer(n_out*n_heads, n_out)\n",
        "    self.edge_layer = ResLayer(e_out*n_heads, e_out)\n",
        "  \n",
        "  def forward(self, x, edge_index, edge_attr):\n",
        "    yhat = [i(x, edge_index, edge_attr) for i in self.heads]\n",
        "    node_attrs, edge_attrs = [], []\n",
        "    for i in yhat:\n",
        "      node_attrs.append(i[0])\n",
        "      edge_attrs.append(i[1])\n",
        "    # st()\n",
        "    node_attrs = torch.cat(node_attrs, dim = 1)\n",
        "    edge_attrs = torch.cat(edge_attrs, dim = 1)\n",
        "\n",
        "    return self.node_layer(node_attrs), self.edge_layer(edge_attrs)"
      ],
      "metadata": {
        "id": "tJPlm7nQCgLl"
      },
      "execution_count": 284,
      "outputs": []
    },
    {
      "cell_type": "code",
      "source": [
        "class GATV2(torch.nn.Module):\n",
        "    def __init__(self, hidden_channels, dataset = dataset, regression = False):\n",
        "        super(GATV2, self).__init__()\n",
        "        torch.manual_seed(12345)\n",
        "        self.conv1 = GATv2ConvEV2(dataset.num_node_features, hidden_channels, dataset.num_edge_features, hidden_channels)\n",
        "        self.conv2 = GATv2ConvEV2(hidden_channels, hidden_channels, hidden_channels, hidden_channels)\n",
        "        self.conv3 = GATv2ConvEV2(hidden_channels, hidden_channels, hidden_channels, hidden_channels)\n",
        "        self.regression = regression\n",
        "        if regression:\n",
        "          self.lin = nn.Sequential(nn.Linear(hidden_channels, 1))\n",
        "        else:\n",
        "          self.lin = ResLayer(hidden_channels, dataset.num_classes)  \n",
        "\n",
        "    def forward(self, x, edge_index, edge_attr, batch):\n",
        "        # 1. Obtain node embeddings \n",
        "        x, edge_attr = self.conv1(x, edge_index, edge_attr = edge_attr)\n",
        "        x, edge_attr = F.dropout(x, p = 0.4), F.dropout(edge_attr, p = 0.4)\n",
        "        x, edge_attr = self.conv2(x, edge_index, edge_attr = edge_attr)\n",
        "        x, edge_attr = F.dropout(x, p = 0.4), F.dropout(edge_attr, p = 0.4)\n",
        "        x, edge_attr = self.conv3(x, edge_index, edge_attr = edge_attr)\n",
        "        x, edge_attr = F.dropout(x, p = 0.4), F.dropout(edge_attr, p = 0.2)\n",
        "       \n",
        "        # 2. Readout layer\n",
        "        x = global_mean_pool(x, batch)  # [batch_size, hidden_channels]\n",
        "\n",
        "        # 3. Apply a final classifier\n",
        "        x = F.dropout(x, p=0.4, training=self.training)\n",
        "        if self.regression:\n",
        "          x = self.lin(x)\n",
        "        else:\n",
        "          x = F.sigmoid(self.lin(x))\n",
        "\n",
        "        \n",
        "        return x\n",
        "\n",
        "\n",
        "# print(model)"
      ],
      "metadata": {
        "id": "QO01agTt4IOi"
      },
      "execution_count": 285,
      "outputs": []
    },
    {
      "cell_type": "code",
      "source": [
        "yhat.shape"
      ],
      "metadata": {
        "colab": {
          "base_uri": "https://localhost:8080/"
        },
        "id": "2-Z-0NFU5NzN",
        "outputId": "782151f6-5cf2-4d63-884c-d423db1b61e8"
      },
      "execution_count": 47,
      "outputs": [
        {
          "output_type": "execute_result",
          "data": {
            "text/plain": [
              "torch.Size([16, 2])"
            ]
          },
          "metadata": {},
          "execution_count": 47
        }
      ]
    },
    {
      "cell_type": "code",
      "source": [
        "yhat.argmax(dim = 1)"
      ],
      "metadata": {
        "colab": {
          "base_uri": "https://localhost:8080/"
        },
        "id": "btEn0Cjr8KQP",
        "outputId": "2ce4442e-f153-4d34-f1f7-4e845496598b"
      },
      "execution_count": 48,
      "outputs": [
        {
          "output_type": "execute_result",
          "data": {
            "text/plain": [
              "tensor([0, 0, 0, 0, 1, 1, 1, 0, 0, 0, 0, 0, 1, 1, 0, 0])"
            ]
          },
          "metadata": {},
          "execution_count": 48
        }
      ]
    },
    {
      "cell_type": "code",
      "source": [
        "batch"
      ],
      "metadata": {
        "colab": {
          "base_uri": "https://localhost:8080/"
        },
        "id": "OZTQbteh58kT",
        "outputId": "a8652db3-c0a1-4e84-93ac-fe0a8db905ba"
      },
      "execution_count": 26,
      "outputs": [
        {
          "output_type": "execute_result",
          "data": {
            "text/plain": [
              "DataBatch(edge_index=[2, 712], x=[321, 7], edge_attr=[712, 4], y=[16], batch=[321], ptr=[17])"
            ]
          },
          "metadata": {},
          "execution_count": 26
        }
      ]
    },
    {
      "cell_type": "code",
      "source": [
        "device = torch.device('cuda')"
      ],
      "metadata": {
        "id": "luHYJOLc5f1N"
      },
      "execution_count": 49,
      "outputs": []
    },
    {
      "cell_type": "code",
      "source": [
        "model = GATV2(hidden_channels=64)\n",
        "# model = GCN(hidden_channels=64)\n",
        "optimizer = torch.optim.Adam(model.parameters(), lr = 5e-03)\n",
        "criterion = torch.nn.CrossEntropyLoss()\n",
        "model.to(device)\n",
        "\n",
        "def train():\n",
        "    model.train()\n",
        "    for data in train_loader:  # Iterate in batches over the training dataset.\n",
        "        data.to(device)\n",
        "        out = model(data.x, data.edge_index, data.edge_attr, data.batch)\n",
        "        # out = model(data.x, data.edge_index, data.batch)\n",
        "        loss = criterion(out, data.y)  # Compute the loss.\n",
        "        loss.backward()  # Derive gradients.\n",
        "        optimizer.step()  # Update parameters based on gradients.\n",
        "        optimizer.zero_grad()  # Clear gradients.\n",
        "\n",
        "def test(loader):\n",
        "     model.eval()\n",
        "     correct = 0\n",
        "     for data in loader:  # Iterate in batches over the training/test dataset.\n",
        "        data.to(device)\n",
        "        out = model(data.x, data.edge_index, data.edge_attr, data.batch)\n",
        "        # out = model(data.x, data.edge_index, data.batch)\n",
        "        pred = out.argmax(dim=1)  # Use the class with highest probability.\n",
        "        correct += int((pred == data.y).sum())  # Check against ground-truth labels.\n",
        "     return correct / len(loader.dataset)  # Derive ratio of correct predictions.\n",
        "\n",
        "\n",
        "for epoch in range(1, 171):\n",
        "    train()\n",
        "    train_acc = test(train_loader)\n",
        "    test_acc = test(test_loader)\n",
        "    print(f'Epoch: {epoch:03d}, Train Acc: {train_acc:.4f}, Test Acc: {test_acc:.4f}')"
      ],
      "metadata": {
        "colab": {
          "base_uri": "https://localhost:8080/",
          "height": 389
        },
        "id": "M5-MZh_w5Tfk",
        "outputId": "2478a516-9a54-44d0-f348-da562337d44d"
      },
      "execution_count": 286,
      "outputs": [
        {
          "output_type": "error",
          "ename": "RuntimeError",
          "evalue": "ignored",
          "traceback": [
            "\u001b[0;31m---------------------------------------------------------------------------\u001b[0m",
            "\u001b[0;31mRuntimeError\u001b[0m                              Traceback (most recent call last)",
            "\u001b[0;32m/tmp/ipykernel_25465/3348266798.py\u001b[0m in \u001b[0;36m<module>\u001b[0;34m\u001b[0m\n\u001b[1;32m     29\u001b[0m \u001b[0;34m\u001b[0m\u001b[0m\n\u001b[1;32m     30\u001b[0m \u001b[0;32mfor\u001b[0m \u001b[0mepoch\u001b[0m \u001b[0;32min\u001b[0m \u001b[0mrange\u001b[0m\u001b[0;34m(\u001b[0m\u001b[0;36m1\u001b[0m\u001b[0;34m,\u001b[0m \u001b[0;36m171\u001b[0m\u001b[0;34m)\u001b[0m\u001b[0;34m:\u001b[0m\u001b[0;34m\u001b[0m\u001b[0;34m\u001b[0m\u001b[0m\n\u001b[0;32m---> 31\u001b[0;31m     \u001b[0mtrain\u001b[0m\u001b[0;34m(\u001b[0m\u001b[0;34m)\u001b[0m\u001b[0;34m\u001b[0m\u001b[0;34m\u001b[0m\u001b[0m\n\u001b[0m\u001b[1;32m     32\u001b[0m     \u001b[0mtrain_acc\u001b[0m \u001b[0;34m=\u001b[0m \u001b[0mtest\u001b[0m\u001b[0;34m(\u001b[0m\u001b[0mtrain_loader\u001b[0m\u001b[0;34m)\u001b[0m\u001b[0;34m\u001b[0m\u001b[0;34m\u001b[0m\u001b[0m\n\u001b[1;32m     33\u001b[0m     \u001b[0mtest_acc\u001b[0m \u001b[0;34m=\u001b[0m \u001b[0mtest\u001b[0m\u001b[0;34m(\u001b[0m\u001b[0mtest_loader\u001b[0m\u001b[0;34m)\u001b[0m\u001b[0;34m\u001b[0m\u001b[0;34m\u001b[0m\u001b[0m\n",
            "\u001b[0;32m/tmp/ipykernel_25465/3348266798.py\u001b[0m in \u001b[0;36mtrain\u001b[0;34m()\u001b[0m\n\u001b[1;32m      9\u001b[0m     \u001b[0;32mfor\u001b[0m \u001b[0mdata\u001b[0m \u001b[0;32min\u001b[0m \u001b[0mtrain_loader\u001b[0m\u001b[0;34m:\u001b[0m  \u001b[0;31m# Iterate in batches over the training dataset.\u001b[0m\u001b[0;34m\u001b[0m\u001b[0;34m\u001b[0m\u001b[0m\n\u001b[1;32m     10\u001b[0m         \u001b[0mdata\u001b[0m\u001b[0;34m.\u001b[0m\u001b[0mto\u001b[0m\u001b[0;34m(\u001b[0m\u001b[0mdevice\u001b[0m\u001b[0;34m)\u001b[0m\u001b[0;34m\u001b[0m\u001b[0;34m\u001b[0m\u001b[0m\n\u001b[0;32m---> 11\u001b[0;31m         \u001b[0mout\u001b[0m \u001b[0;34m=\u001b[0m \u001b[0mmodel\u001b[0m\u001b[0;34m(\u001b[0m\u001b[0mdata\u001b[0m\u001b[0;34m.\u001b[0m\u001b[0mx\u001b[0m\u001b[0;34m,\u001b[0m \u001b[0mdata\u001b[0m\u001b[0;34m.\u001b[0m\u001b[0medge_index\u001b[0m\u001b[0;34m,\u001b[0m \u001b[0mdata\u001b[0m\u001b[0;34m.\u001b[0m\u001b[0medge_attr\u001b[0m\u001b[0;34m,\u001b[0m \u001b[0mdata\u001b[0m\u001b[0;34m.\u001b[0m\u001b[0mbatch\u001b[0m\u001b[0;34m)\u001b[0m\u001b[0;34m\u001b[0m\u001b[0;34m\u001b[0m\u001b[0m\n\u001b[0m\u001b[1;32m     12\u001b[0m         \u001b[0;31m# out = model(data.x, data.edge_index, data.batch)\u001b[0m\u001b[0;34m\u001b[0m\u001b[0;34m\u001b[0m\u001b[0;34m\u001b[0m\u001b[0m\n\u001b[1;32m     13\u001b[0m         \u001b[0mloss\u001b[0m \u001b[0;34m=\u001b[0m \u001b[0mcriterion\u001b[0m\u001b[0;34m(\u001b[0m\u001b[0mout\u001b[0m\u001b[0;34m,\u001b[0m \u001b[0mdata\u001b[0m\u001b[0;34m.\u001b[0m\u001b[0my\u001b[0m\u001b[0;34m)\u001b[0m  \u001b[0;31m# Compute the loss.\u001b[0m\u001b[0;34m\u001b[0m\u001b[0;34m\u001b[0m\u001b[0m\n",
            "\u001b[0;32m~/virtenv/lib64/python3.7/site-packages/torch/nn/modules/module.py\u001b[0m in \u001b[0;36m_call_impl\u001b[0;34m(self, *input, **kwargs)\u001b[0m\n\u001b[1;32m   1192\u001b[0m         if not (self._backward_hooks or self._forward_hooks or self._forward_pre_hooks or _global_backward_hooks\n\u001b[1;32m   1193\u001b[0m                 or _global_forward_hooks or _global_forward_pre_hooks):\n\u001b[0;32m-> 1194\u001b[0;31m             \u001b[0;32mreturn\u001b[0m \u001b[0mforward_call\u001b[0m\u001b[0;34m(\u001b[0m\u001b[0;34m*\u001b[0m\u001b[0minput\u001b[0m\u001b[0;34m,\u001b[0m \u001b[0;34m**\u001b[0m\u001b[0mkwargs\u001b[0m\u001b[0;34m)\u001b[0m\u001b[0;34m\u001b[0m\u001b[0;34m\u001b[0m\u001b[0m\n\u001b[0m\u001b[1;32m   1195\u001b[0m         \u001b[0;31m# Do not call functions when jit is used\u001b[0m\u001b[0;34m\u001b[0m\u001b[0;34m\u001b[0m\u001b[0;34m\u001b[0m\u001b[0m\n\u001b[1;32m   1196\u001b[0m         \u001b[0mfull_backward_hooks\u001b[0m\u001b[0;34m,\u001b[0m \u001b[0mnon_full_backward_hooks\u001b[0m \u001b[0;34m=\u001b[0m \u001b[0;34m[\u001b[0m\u001b[0;34m]\u001b[0m\u001b[0;34m,\u001b[0m \u001b[0;34m[\u001b[0m\u001b[0;34m]\u001b[0m\u001b[0;34m\u001b[0m\u001b[0;34m\u001b[0m\u001b[0m\n",
            "\u001b[0;32m/tmp/ipykernel_25465/3437815918.py\u001b[0m in \u001b[0;36mforward\u001b[0;34m(self, x, edge_index, edge_attr, batch)\u001b[0m\n\u001b[1;32m     14\u001b[0m     \u001b[0;32mdef\u001b[0m \u001b[0mforward\u001b[0m\u001b[0;34m(\u001b[0m\u001b[0mself\u001b[0m\u001b[0;34m,\u001b[0m \u001b[0mx\u001b[0m\u001b[0;34m,\u001b[0m \u001b[0medge_index\u001b[0m\u001b[0;34m,\u001b[0m \u001b[0medge_attr\u001b[0m\u001b[0;34m,\u001b[0m \u001b[0mbatch\u001b[0m\u001b[0;34m)\u001b[0m\u001b[0;34m:\u001b[0m\u001b[0;34m\u001b[0m\u001b[0;34m\u001b[0m\u001b[0m\n\u001b[1;32m     15\u001b[0m         \u001b[0;31m# 1. Obtain node embeddings\u001b[0m\u001b[0;34m\u001b[0m\u001b[0;34m\u001b[0m\u001b[0;34m\u001b[0m\u001b[0m\n\u001b[0;32m---> 16\u001b[0;31m         \u001b[0mx\u001b[0m\u001b[0;34m,\u001b[0m \u001b[0medge_attr\u001b[0m \u001b[0;34m=\u001b[0m \u001b[0mself\u001b[0m\u001b[0;34m.\u001b[0m\u001b[0mconv1\u001b[0m\u001b[0;34m(\u001b[0m\u001b[0mx\u001b[0m\u001b[0;34m,\u001b[0m \u001b[0medge_index\u001b[0m\u001b[0;34m,\u001b[0m \u001b[0medge_attr\u001b[0m \u001b[0;34m=\u001b[0m \u001b[0medge_attr\u001b[0m\u001b[0;34m)\u001b[0m\u001b[0;34m\u001b[0m\u001b[0;34m\u001b[0m\u001b[0m\n\u001b[0m\u001b[1;32m     17\u001b[0m         \u001b[0mx\u001b[0m\u001b[0;34m,\u001b[0m \u001b[0medge_attr\u001b[0m \u001b[0;34m=\u001b[0m \u001b[0mF\u001b[0m\u001b[0;34m.\u001b[0m\u001b[0mdropout\u001b[0m\u001b[0;34m(\u001b[0m\u001b[0mx\u001b[0m\u001b[0;34m,\u001b[0m \u001b[0mp\u001b[0m \u001b[0;34m=\u001b[0m \u001b[0;36m0.4\u001b[0m\u001b[0;34m)\u001b[0m\u001b[0;34m,\u001b[0m \u001b[0mF\u001b[0m\u001b[0;34m.\u001b[0m\u001b[0mdropout\u001b[0m\u001b[0;34m(\u001b[0m\u001b[0medge_attr\u001b[0m\u001b[0;34m,\u001b[0m \u001b[0mp\u001b[0m \u001b[0;34m=\u001b[0m \u001b[0;36m0.4\u001b[0m\u001b[0;34m)\u001b[0m\u001b[0;34m\u001b[0m\u001b[0;34m\u001b[0m\u001b[0m\n\u001b[1;32m     18\u001b[0m         \u001b[0mx\u001b[0m\u001b[0;34m,\u001b[0m \u001b[0medge_attr\u001b[0m \u001b[0;34m=\u001b[0m \u001b[0mself\u001b[0m\u001b[0;34m.\u001b[0m\u001b[0mconv2\u001b[0m\u001b[0;34m(\u001b[0m\u001b[0mx\u001b[0m\u001b[0;34m,\u001b[0m \u001b[0medge_index\u001b[0m\u001b[0;34m,\u001b[0m \u001b[0medge_attr\u001b[0m \u001b[0;34m=\u001b[0m \u001b[0medge_attr\u001b[0m\u001b[0;34m)\u001b[0m\u001b[0;34m\u001b[0m\u001b[0;34m\u001b[0m\u001b[0m\n",
            "\u001b[0;32m~/virtenv/lib64/python3.7/site-packages/torch/nn/modules/module.py\u001b[0m in \u001b[0;36m_call_impl\u001b[0;34m(self, *input, **kwargs)\u001b[0m\n\u001b[1;32m   1192\u001b[0m         if not (self._backward_hooks or self._forward_hooks or self._forward_pre_hooks or _global_backward_hooks\n\u001b[1;32m   1193\u001b[0m                 or _global_forward_hooks or _global_forward_pre_hooks):\n\u001b[0;32m-> 1194\u001b[0;31m             \u001b[0;32mreturn\u001b[0m \u001b[0mforward_call\u001b[0m\u001b[0;34m(\u001b[0m\u001b[0;34m*\u001b[0m\u001b[0minput\u001b[0m\u001b[0;34m,\u001b[0m \u001b[0;34m**\u001b[0m\u001b[0mkwargs\u001b[0m\u001b[0;34m)\u001b[0m\u001b[0;34m\u001b[0m\u001b[0;34m\u001b[0m\u001b[0m\n\u001b[0m\u001b[1;32m   1195\u001b[0m         \u001b[0;31m# Do not call functions when jit is used\u001b[0m\u001b[0;34m\u001b[0m\u001b[0;34m\u001b[0m\u001b[0;34m\u001b[0m\u001b[0m\n\u001b[1;32m   1196\u001b[0m         \u001b[0mfull_backward_hooks\u001b[0m\u001b[0;34m,\u001b[0m \u001b[0mnon_full_backward_hooks\u001b[0m \u001b[0;34m=\u001b[0m \u001b[0;34m[\u001b[0m\u001b[0;34m]\u001b[0m\u001b[0;34m,\u001b[0m \u001b[0;34m[\u001b[0m\u001b[0;34m]\u001b[0m\u001b[0;34m\u001b[0m\u001b[0;34m\u001b[0m\u001b[0m\n",
            "\u001b[0;32m/tmp/ipykernel_25465/3952908844.py\u001b[0m in \u001b[0;36mforward\u001b[0;34m(self, x, edge_index, edge_attr)\u001b[0m\n\u001b[1;32m     31\u001b[0m   \u001b[0;32mdef\u001b[0m \u001b[0mforward\u001b[0m\u001b[0;34m(\u001b[0m\u001b[0mself\u001b[0m\u001b[0;34m,\u001b[0m \u001b[0mx\u001b[0m\u001b[0;34m,\u001b[0m \u001b[0medge_index\u001b[0m\u001b[0;34m,\u001b[0m \u001b[0medge_attr\u001b[0m\u001b[0;34m)\u001b[0m\u001b[0;34m:\u001b[0m\u001b[0;34m\u001b[0m\u001b[0;34m\u001b[0m\u001b[0m\n\u001b[1;32m     32\u001b[0m     \u001b[0;31m# st()\u001b[0m\u001b[0;34m\u001b[0m\u001b[0;34m\u001b[0m\u001b[0;34m\u001b[0m\u001b[0m\n\u001b[0;32m---> 33\u001b[0;31m     \u001b[0mx\u001b[0m \u001b[0;34m=\u001b[0m \u001b[0mself\u001b[0m\u001b[0;34m.\u001b[0m\u001b[0mn_transform\u001b[0m\u001b[0;34m(\u001b[0m\u001b[0mx\u001b[0m\u001b[0;34m)\u001b[0m\u001b[0;34m\u001b[0m\u001b[0;34m\u001b[0m\u001b[0m\n\u001b[0m\u001b[1;32m     34\u001b[0m     \u001b[0medge_attr\u001b[0m \u001b[0;34m=\u001b[0m \u001b[0mself\u001b[0m\u001b[0;34m.\u001b[0m\u001b[0me_transform\u001b[0m\u001b[0;34m(\u001b[0m\u001b[0medge_attr\u001b[0m\u001b[0;34m)\u001b[0m\u001b[0;34m\u001b[0m\u001b[0;34m\u001b[0m\u001b[0m\n\u001b[1;32m     35\u001b[0m \u001b[0;34m\u001b[0m\u001b[0m\n",
            "\u001b[0;32m~/virtenv/lib64/python3.7/site-packages/torch/nn/modules/module.py\u001b[0m in \u001b[0;36m_call_impl\u001b[0;34m(self, *input, **kwargs)\u001b[0m\n\u001b[1;32m   1192\u001b[0m         if not (self._backward_hooks or self._forward_hooks or self._forward_pre_hooks or _global_backward_hooks\n\u001b[1;32m   1193\u001b[0m                 or _global_forward_hooks or _global_forward_pre_hooks):\n\u001b[0;32m-> 1194\u001b[0;31m             \u001b[0;32mreturn\u001b[0m \u001b[0mforward_call\u001b[0m\u001b[0;34m(\u001b[0m\u001b[0;34m*\u001b[0m\u001b[0minput\u001b[0m\u001b[0;34m,\u001b[0m \u001b[0;34m**\u001b[0m\u001b[0mkwargs\u001b[0m\u001b[0;34m)\u001b[0m\u001b[0;34m\u001b[0m\u001b[0;34m\u001b[0m\u001b[0m\n\u001b[0m\u001b[1;32m   1195\u001b[0m         \u001b[0;31m# Do not call functions when jit is used\u001b[0m\u001b[0;34m\u001b[0m\u001b[0;34m\u001b[0m\u001b[0;34m\u001b[0m\u001b[0m\n\u001b[1;32m   1196\u001b[0m         \u001b[0mfull_backward_hooks\u001b[0m\u001b[0;34m,\u001b[0m \u001b[0mnon_full_backward_hooks\u001b[0m \u001b[0;34m=\u001b[0m \u001b[0;34m[\u001b[0m\u001b[0;34m]\u001b[0m\u001b[0;34m,\u001b[0m \u001b[0;34m[\u001b[0m\u001b[0;34m]\u001b[0m\u001b[0;34m\u001b[0m\u001b[0;34m\u001b[0m\u001b[0m\n",
            "\u001b[0;32m/tmp/ipykernel_25465/2351886127.py\u001b[0m in \u001b[0;36mforward\u001b[0;34m(self, x)\u001b[0m\n\u001b[1;32m      7\u001b[0m \u001b[0;34m\u001b[0m\u001b[0m\n\u001b[1;32m      8\u001b[0m   \u001b[0;32mdef\u001b[0m \u001b[0mforward\u001b[0m\u001b[0;34m(\u001b[0m\u001b[0mself\u001b[0m\u001b[0;34m,\u001b[0m \u001b[0mx\u001b[0m\u001b[0;34m)\u001b[0m\u001b[0;34m:\u001b[0m\u001b[0;34m\u001b[0m\u001b[0;34m\u001b[0m\u001b[0m\n\u001b[0;32m----> 9\u001b[0;31m     \u001b[0mx\u001b[0m \u001b[0;34m=\u001b[0m \u001b[0mself\u001b[0m\u001b[0;34m.\u001b[0m\u001b[0ml1\u001b[0m\u001b[0;34m(\u001b[0m\u001b[0mx\u001b[0m\u001b[0;34m)\u001b[0m\u001b[0;34m\u001b[0m\u001b[0;34m\u001b[0m\u001b[0m\n\u001b[0m\u001b[1;32m     10\u001b[0m     \u001b[0;32mreturn\u001b[0m \u001b[0mself\u001b[0m\u001b[0;34m.\u001b[0m\u001b[0ml3\u001b[0m\u001b[0;34m(\u001b[0m\u001b[0mself\u001b[0m\u001b[0;34m.\u001b[0m\u001b[0ml2\u001b[0m\u001b[0;34m(\u001b[0m\u001b[0mx\u001b[0m\u001b[0;34m)\u001b[0m\u001b[0;34m)\u001b[0m \u001b[0;34m+\u001b[0m \u001b[0mx\u001b[0m\u001b[0;34m\u001b[0m\u001b[0;34m\u001b[0m\u001b[0m\n",
            "\u001b[0;32m~/virtenv/lib64/python3.7/site-packages/torch/nn/modules/module.py\u001b[0m in \u001b[0;36m_call_impl\u001b[0;34m(self, *input, **kwargs)\u001b[0m\n\u001b[1;32m   1192\u001b[0m         if not (self._backward_hooks or self._forward_hooks or self._forward_pre_hooks or _global_backward_hooks\n\u001b[1;32m   1193\u001b[0m                 or _global_forward_hooks or _global_forward_pre_hooks):\n\u001b[0;32m-> 1194\u001b[0;31m             \u001b[0;32mreturn\u001b[0m \u001b[0mforward_call\u001b[0m\u001b[0;34m(\u001b[0m\u001b[0;34m*\u001b[0m\u001b[0minput\u001b[0m\u001b[0;34m,\u001b[0m \u001b[0;34m**\u001b[0m\u001b[0mkwargs\u001b[0m\u001b[0;34m)\u001b[0m\u001b[0;34m\u001b[0m\u001b[0;34m\u001b[0m\u001b[0m\n\u001b[0m\u001b[1;32m   1195\u001b[0m         \u001b[0;31m# Do not call functions when jit is used\u001b[0m\u001b[0;34m\u001b[0m\u001b[0;34m\u001b[0m\u001b[0;34m\u001b[0m\u001b[0m\n\u001b[1;32m   1196\u001b[0m         \u001b[0mfull_backward_hooks\u001b[0m\u001b[0;34m,\u001b[0m \u001b[0mnon_full_backward_hooks\u001b[0m \u001b[0;34m=\u001b[0m \u001b[0;34m[\u001b[0m\u001b[0;34m]\u001b[0m\u001b[0;34m,\u001b[0m \u001b[0;34m[\u001b[0m\u001b[0;34m]\u001b[0m\u001b[0;34m\u001b[0m\u001b[0;34m\u001b[0m\u001b[0m\n",
            "\u001b[0;32m~/virtenv/lib64/python3.7/site-packages/torch/nn/modules/container.py\u001b[0m in \u001b[0;36mforward\u001b[0;34m(self, input)\u001b[0m\n\u001b[1;32m    202\u001b[0m     \u001b[0;32mdef\u001b[0m \u001b[0mforward\u001b[0m\u001b[0;34m(\u001b[0m\u001b[0mself\u001b[0m\u001b[0;34m,\u001b[0m \u001b[0minput\u001b[0m\u001b[0;34m)\u001b[0m\u001b[0;34m:\u001b[0m\u001b[0;34m\u001b[0m\u001b[0;34m\u001b[0m\u001b[0m\n\u001b[1;32m    203\u001b[0m         \u001b[0;32mfor\u001b[0m \u001b[0mmodule\u001b[0m \u001b[0;32min\u001b[0m \u001b[0mself\u001b[0m\u001b[0;34m:\u001b[0m\u001b[0;34m\u001b[0m\u001b[0;34m\u001b[0m\u001b[0m\n\u001b[0;32m--> 204\u001b[0;31m             \u001b[0minput\u001b[0m \u001b[0;34m=\u001b[0m \u001b[0mmodule\u001b[0m\u001b[0;34m(\u001b[0m\u001b[0minput\u001b[0m\u001b[0;34m)\u001b[0m\u001b[0;34m\u001b[0m\u001b[0;34m\u001b[0m\u001b[0m\n\u001b[0m\u001b[1;32m    205\u001b[0m         \u001b[0;32mreturn\u001b[0m \u001b[0minput\u001b[0m\u001b[0;34m\u001b[0m\u001b[0;34m\u001b[0m\u001b[0m\n\u001b[1;32m    206\u001b[0m \u001b[0;34m\u001b[0m\u001b[0m\n",
            "\u001b[0;32m~/virtenv/lib64/python3.7/site-packages/torch/nn/modules/module.py\u001b[0m in \u001b[0;36m_call_impl\u001b[0;34m(self, *input, **kwargs)\u001b[0m\n\u001b[1;32m   1192\u001b[0m         if not (self._backward_hooks or self._forward_hooks or self._forward_pre_hooks or _global_backward_hooks\n\u001b[1;32m   1193\u001b[0m                 or _global_forward_hooks or _global_forward_pre_hooks):\n\u001b[0;32m-> 1194\u001b[0;31m             \u001b[0;32mreturn\u001b[0m \u001b[0mforward_call\u001b[0m\u001b[0;34m(\u001b[0m\u001b[0;34m*\u001b[0m\u001b[0minput\u001b[0m\u001b[0;34m,\u001b[0m \u001b[0;34m**\u001b[0m\u001b[0mkwargs\u001b[0m\u001b[0;34m)\u001b[0m\u001b[0;34m\u001b[0m\u001b[0;34m\u001b[0m\u001b[0m\n\u001b[0m\u001b[1;32m   1195\u001b[0m         \u001b[0;31m# Do not call functions when jit is used\u001b[0m\u001b[0;34m\u001b[0m\u001b[0;34m\u001b[0m\u001b[0;34m\u001b[0m\u001b[0m\n\u001b[1;32m   1196\u001b[0m         \u001b[0mfull_backward_hooks\u001b[0m\u001b[0;34m,\u001b[0m \u001b[0mnon_full_backward_hooks\u001b[0m \u001b[0;34m=\u001b[0m \u001b[0;34m[\u001b[0m\u001b[0;34m]\u001b[0m\u001b[0;34m,\u001b[0m \u001b[0;34m[\u001b[0m\u001b[0;34m]\u001b[0m\u001b[0;34m\u001b[0m\u001b[0;34m\u001b[0m\u001b[0m\n",
            "\u001b[0;32m~/virtenv/lib64/python3.7/site-packages/torch/nn/modules/linear.py\u001b[0m in \u001b[0;36mforward\u001b[0;34m(self, input)\u001b[0m\n\u001b[1;32m    112\u001b[0m \u001b[0;34m\u001b[0m\u001b[0m\n\u001b[1;32m    113\u001b[0m     \u001b[0;32mdef\u001b[0m \u001b[0mforward\u001b[0m\u001b[0;34m(\u001b[0m\u001b[0mself\u001b[0m\u001b[0;34m,\u001b[0m \u001b[0minput\u001b[0m\u001b[0;34m:\u001b[0m \u001b[0mTensor\u001b[0m\u001b[0;34m)\u001b[0m \u001b[0;34m->\u001b[0m \u001b[0mTensor\u001b[0m\u001b[0;34m:\u001b[0m\u001b[0;34m\u001b[0m\u001b[0;34m\u001b[0m\u001b[0m\n\u001b[0;32m--> 114\u001b[0;31m         \u001b[0;32mreturn\u001b[0m \u001b[0mF\u001b[0m\u001b[0;34m.\u001b[0m\u001b[0mlinear\u001b[0m\u001b[0;34m(\u001b[0m\u001b[0minput\u001b[0m\u001b[0;34m,\u001b[0m \u001b[0mself\u001b[0m\u001b[0;34m.\u001b[0m\u001b[0mweight\u001b[0m\u001b[0;34m,\u001b[0m \u001b[0mself\u001b[0m\u001b[0;34m.\u001b[0m\u001b[0mbias\u001b[0m\u001b[0;34m)\u001b[0m\u001b[0;34m\u001b[0m\u001b[0;34m\u001b[0m\u001b[0m\n\u001b[0m\u001b[1;32m    115\u001b[0m \u001b[0;34m\u001b[0m\u001b[0m\n\u001b[1;32m    116\u001b[0m     \u001b[0;32mdef\u001b[0m \u001b[0mextra_repr\u001b[0m\u001b[0;34m(\u001b[0m\u001b[0mself\u001b[0m\u001b[0;34m)\u001b[0m \u001b[0;34m->\u001b[0m \u001b[0mstr\u001b[0m\u001b[0;34m:\u001b[0m\u001b[0;34m\u001b[0m\u001b[0;34m\u001b[0m\u001b[0m\n",
            "\u001b[0;31mRuntimeError\u001b[0m: mat1 and mat2 shapes cannot be multiplied (416x46 and 7x64)"
          ]
        }
      ]
    },
    {
      "cell_type": "markdown",
      "source": [
        "**ESOL Dataset**"
      ],
      "metadata": {
        "id": "MMyq9dSyXPXa"
      }
    },
    {
      "cell_type": "code",
      "source": [
        "# BASIC - BEST - 0.73, AVG - 0.85 | \n",
        "# New Attns - Best - 0.73, AVG - 0.82"
      ],
      "metadata": {
        "id": "ag2VEKYQjKyM"
      },
      "execution_count": null,
      "outputs": []
    },
    {
      "cell_type": "code",
      "source": [
        "model = GATV2(hidden_channels=64, dataset= train_dataset, regression= True)"
      ],
      "metadata": {
        "id": "HxgJK2_AXPEq"
      },
      "execution_count": 287,
      "outputs": []
    },
    {
      "cell_type": "code",
      "source": [
        "model"
      ],
      "metadata": {
        "colab": {
          "base_uri": "https://localhost:8080/"
        },
        "id": "jS2f9cFcXpKk",
        "outputId": "ae85f348-9cd9-4dc2-943c-425a9a888158"
      },
      "execution_count": 288,
      "outputs": [
        {
          "output_type": "execute_result",
          "data": {
            "text/plain": [
              "GATV2(\n",
              "  (conv1): GATv2ConvEV2()\n",
              "  (conv2): GATv2ConvEV2()\n",
              "  (conv3): GATv2ConvEV2()\n",
              "  (lin): Sequential(\n",
              "    (0): Linear(in_features=64, out_features=1, bias=True)\n",
              "  )\n",
              ")"
            ]
          },
          "metadata": {},
          "execution_count": 288
        }
      ]
    },
    {
      "cell_type": "code",
      "source": [
        "model.conv1.n_transform"
      ],
      "metadata": {
        "colab": {
          "base_uri": "https://localhost:8080/"
        },
        "id": "-JmDtF1gjUuG",
        "outputId": "63b06942-73c5-4dd4-bcd2-b9e2aa57c42f"
      },
      "execution_count": 289,
      "outputs": [
        {
          "output_type": "execute_result",
          "data": {
            "text/plain": [
              "ResLayer(\n",
              "  (l1): Sequential(\n",
              "    (0): Linear(in_features=46, out_features=64, bias=True)\n",
              "    (1): BatchNorm1d(64, eps=1e-05, momentum=0.1, affine=True, track_running_stats=True)\n",
              "    (2): LeakyReLU(negative_slope=0.01)\n",
              "  )\n",
              "  (l2): Sequential(\n",
              "    (0): Linear(in_features=64, out_features=64, bias=True)\n",
              "    (1): BatchNorm1d(64, eps=1e-05, momentum=0.1, affine=True, track_running_stats=True)\n",
              "    (2): LeakyReLU(negative_slope=0.01)\n",
              "  )\n",
              "  (l3): Sequential(\n",
              "    (0): Linear(in_features=64, out_features=64, bias=True)\n",
              "    (1): BatchNorm1d(64, eps=1e-05, momentum=0.1, affine=True, track_running_stats=True)\n",
              "    (2): LeakyReLU(negative_slope=0.01)\n",
              "  )\n",
              ")"
            ]
          },
          "metadata": {},
          "execution_count": 289
        }
      ]
    },
    {
      "cell_type": "code",
      "source": [
        "batch = next(iter(train_loader))"
      ],
      "metadata": {
        "id": "6aj2ERvzXqE4"
      },
      "execution_count": 290,
      "outputs": []
    },
    {
      "cell_type": "code",
      "source": [
        "batch"
      ],
      "metadata": {
        "colab": {
          "base_uri": "https://localhost:8080/"
        },
        "id": "3-jiiCGUYQjM",
        "outputId": "ea327339-0d1b-4cff-caf7-a6472525c0cc"
      },
      "execution_count": 263,
      "outputs": [
        {
          "output_type": "execute_result",
          "data": {
            "text/plain": [
              "MolDataBatch(x=[472, 46], edge_index=[2, 958], edge_attr=[958, 10], cluster_index=[472], fra_edge_index=[2, 834], fra_edge_attr=[834, 10], y=[32, 1], batch=[472], ptr=[33])"
            ]
          },
          "metadata": {},
          "execution_count": 263
        }
      ]
    },
    {
      "cell_type": "code",
      "source": [
        "yhat = model(batch.x, batch.edge_index, batch.edge_attr, batch.batch)"
      ],
      "metadata": {
        "id": "MM1ae0l0YRM2"
      },
      "execution_count": 291,
      "outputs": []
    },
    {
      "cell_type": "code",
      "source": [
        "yhat.shape"
      ],
      "metadata": {
        "colab": {
          "base_uri": "https://localhost:8080/"
        },
        "id": "HBbRy3TsYazl",
        "outputId": "3c4d1ad1-ae5c-4024-c201-531df8e9b2b8"
      },
      "execution_count": 292,
      "outputs": [
        {
          "output_type": "execute_result",
          "data": {
            "text/plain": [
              "torch.Size([32, 1])"
            ]
          },
          "metadata": {},
          "execution_count": 292
        }
      ]
    },
    {
      "cell_type": "code",
      "source": [
        "device"
      ],
      "metadata": {
        "colab": {
          "base_uri": "https://localhost:8080/"
        },
        "id": "k6eoO-jIfwY3",
        "outputId": "1126f137-9462-4b18-ad8c-c06725ba81ef"
      },
      "execution_count": 231,
      "outputs": [
        {
          "output_type": "execute_result",
          "data": {
            "text/plain": [
              "device(type='cuda')"
            ]
          },
          "metadata": {},
          "execution_count": 231
        }
      ]
    },
    {
      "cell_type": "code",
      "source": [
        "# model = GATV2(hidden_channels=64)\n",
        "# model = GCN(hidden_channels=64)\n",
        "model = GATV2(hidden_channels=64, dataset= train_dataset, regression= True)\n",
        "optimizer = torch.optim.Adam(model.parameters(), lr = 6e-03, weight_decay=1e-02)\n",
        "criterion = torch.nn.MSELoss()\n",
        "model.to(device)\n",
        "\n",
        "def train():\n",
        "    model.train()\n",
        "    for data in train_loader:  # Iterate in batches over the training dataset.\n",
        "        data.to(device)\n",
        "        out = model(data.x, data.edge_index, data.edge_attr, data.batch)\n",
        "        # out = model(data.x, data.edge_index, data.batch)\n",
        "        loss = criterion(out, data.y)  # Compute the loss.\n",
        "        loss.backward()  # Derive gradients.\n",
        "        optimizer.step()  # Update parameters based on gradients.\n",
        "        optimizer.zero_grad()  # Clear gradients.\n",
        "\n",
        "def test(loader):\n",
        "    model.eval()\n",
        "    rmses = []\n",
        "    for data in loader:  # Iterate in batches over the training/test dataset.\n",
        "        data.to(device)\n",
        "        out = model(data.x, data.edge_index, data.edge_attr, data.batch)\n",
        "        out.squeeze()\n",
        "        rmse = torch.sqrt(torch.mean((out - data.y)**2))\n",
        "        rmses.append(rmse.item())\n",
        "    return np.mean(rmses)\n",
        "\n",
        "for epoch in range(1, 250):\n",
        "    train()\n",
        "    train_acc = test(train_loader)\n",
        "    test_acc = test(test_loader)\n",
        "    print(f'Epoch: {epoch:03d}, Train Acc: {train_acc:.4f}, Test Acc: {test_acc:.4f}')"
      ],
      "metadata": {
        "colab": {
          "base_uri": "https://localhost:8080/"
        },
        "id": "Qg9wX3Y_Zudz",
        "outputId": "f1600232-bd73-4cff-991c-2b26bf85c5c9"
      },
      "execution_count": 293,
      "outputs": [
        {
          "output_type": "stream",
          "name": "stdout",
          "text": [
            "Epoch: 001, Train Acc: 3.9756, Test Acc: 4.0009\n",
            "Epoch: 002, Train Acc: 1.6540, Test Acc: 1.8575\n",
            "Epoch: 003, Train Acc: 1.8926, Test Acc: 2.1119\n",
            "Epoch: 004, Train Acc: 1.2685, Test Acc: 1.2966\n",
            "Epoch: 005, Train Acc: 1.4428, Test Acc: 1.5574\n",
            "Epoch: 006, Train Acc: 1.4587, Test Acc: 1.6731\n",
            "Epoch: 007, Train Acc: 1.2469, Test Acc: 1.3278\n",
            "Epoch: 008, Train Acc: 1.1754, Test Acc: 1.2512\n",
            "Epoch: 009, Train Acc: 1.1130, Test Acc: 1.1842\n",
            "Epoch: 010, Train Acc: 1.2042, Test Acc: 1.1848\n",
            "Epoch: 011, Train Acc: 1.0840, Test Acc: 1.1135\n",
            "Epoch: 012, Train Acc: 1.3092, Test Acc: 1.4145\n",
            "Epoch: 013, Train Acc: 1.1065, Test Acc: 1.1230\n",
            "Epoch: 014, Train Acc: 1.3195, Test Acc: 1.4678\n",
            "Epoch: 015, Train Acc: 1.2035, Test Acc: 1.1821\n",
            "Epoch: 016, Train Acc: 1.1509, Test Acc: 1.2166\n",
            "Epoch: 017, Train Acc: 1.2317, Test Acc: 1.1780\n",
            "Epoch: 018, Train Acc: 1.1168, Test Acc: 1.0785\n",
            "Epoch: 019, Train Acc: 1.1224, Test Acc: 1.1490\n",
            "Epoch: 020, Train Acc: 1.1482, Test Acc: 1.2710\n",
            "Epoch: 021, Train Acc: 1.0292, Test Acc: 1.1096\n",
            "Epoch: 022, Train Acc: 1.0784, Test Acc: 1.0291\n",
            "Epoch: 023, Train Acc: 1.1037, Test Acc: 1.1091\n",
            "Epoch: 024, Train Acc: 1.6158, Test Acc: 1.5750\n",
            "Epoch: 025, Train Acc: 1.1724, Test Acc: 1.1950\n",
            "Epoch: 026, Train Acc: 1.1631, Test Acc: 1.2218\n",
            "Epoch: 027, Train Acc: 1.4190, Test Acc: 1.2970\n",
            "Epoch: 028, Train Acc: 1.1229, Test Acc: 1.2220\n",
            "Epoch: 029, Train Acc: 1.0275, Test Acc: 1.1904\n",
            "Epoch: 030, Train Acc: 1.0891, Test Acc: 1.1066\n",
            "Epoch: 031, Train Acc: 1.3367, Test Acc: 1.4980\n",
            "Epoch: 032, Train Acc: 0.9297, Test Acc: 0.9763\n",
            "Epoch: 033, Train Acc: 1.2252, Test Acc: 1.4283\n",
            "Epoch: 034, Train Acc: 1.1274, Test Acc: 1.1314\n",
            "Epoch: 035, Train Acc: 1.3621, Test Acc: 1.4241\n",
            "Epoch: 036, Train Acc: 1.1848, Test Acc: 1.2635\n",
            "Epoch: 037, Train Acc: 1.0754, Test Acc: 1.0903\n",
            "Epoch: 038, Train Acc: 1.1912, Test Acc: 1.1440\n",
            "Epoch: 039, Train Acc: 1.3740, Test Acc: 1.2481\n",
            "Epoch: 040, Train Acc: 0.9241, Test Acc: 0.9619\n",
            "Epoch: 041, Train Acc: 1.2042, Test Acc: 1.1900\n",
            "Epoch: 042, Train Acc: 1.0848, Test Acc: 1.0695\n",
            "Epoch: 043, Train Acc: 1.1487, Test Acc: 1.0735\n",
            "Epoch: 044, Train Acc: 1.1514, Test Acc: 1.1864\n",
            "Epoch: 045, Train Acc: 0.9851, Test Acc: 1.0568\n",
            "Epoch: 046, Train Acc: 0.9782, Test Acc: 1.1591\n",
            "Epoch: 047, Train Acc: 1.7254, Test Acc: 1.6454\n",
            "Epoch: 048, Train Acc: 1.1365, Test Acc: 1.4173\n",
            "Epoch: 049, Train Acc: 1.0939, Test Acc: 1.0636\n",
            "Epoch: 050, Train Acc: 1.2170, Test Acc: 1.1849\n",
            "Epoch: 051, Train Acc: 1.1358, Test Acc: 1.1082\n",
            "Epoch: 052, Train Acc: 0.9170, Test Acc: 0.9659\n",
            "Epoch: 053, Train Acc: 0.9056, Test Acc: 0.9406\n",
            "Epoch: 054, Train Acc: 1.0971, Test Acc: 1.0926\n",
            "Epoch: 055, Train Acc: 1.5482, Test Acc: 1.7367\n",
            "Epoch: 056, Train Acc: 0.9215, Test Acc: 1.0234\n",
            "Epoch: 057, Train Acc: 1.1599, Test Acc: 1.2931\n",
            "Epoch: 058, Train Acc: 0.9537, Test Acc: 1.0077\n",
            "Epoch: 059, Train Acc: 0.9278, Test Acc: 0.9816\n",
            "Epoch: 060, Train Acc: 0.9564, Test Acc: 0.9676\n",
            "Epoch: 061, Train Acc: 0.8894, Test Acc: 0.9640\n",
            "Epoch: 062, Train Acc: 1.0178, Test Acc: 1.0681\n",
            "Epoch: 063, Train Acc: 0.9242, Test Acc: 1.0119\n",
            "Epoch: 064, Train Acc: 0.8559, Test Acc: 0.9153\n",
            "Epoch: 065, Train Acc: 1.3416, Test Acc: 1.5004\n",
            "Epoch: 066, Train Acc: 0.8848, Test Acc: 1.0004\n",
            "Epoch: 067, Train Acc: 0.9062, Test Acc: 0.9340\n",
            "Epoch: 068, Train Acc: 1.2083, Test Acc: 1.2753\n",
            "Epoch: 069, Train Acc: 0.8833, Test Acc: 1.0038\n",
            "Epoch: 070, Train Acc: 0.8309, Test Acc: 0.9572\n",
            "Epoch: 071, Train Acc: 1.1446, Test Acc: 1.1359\n",
            "Epoch: 072, Train Acc: 0.8380, Test Acc: 0.9138\n",
            "Epoch: 073, Train Acc: 0.9075, Test Acc: 0.9394\n",
            "Epoch: 074, Train Acc: 1.1381, Test Acc: 1.0937\n",
            "Epoch: 075, Train Acc: 1.1807, Test Acc: 1.1629\n",
            "Epoch: 076, Train Acc: 0.9307, Test Acc: 0.9995\n",
            "Epoch: 077, Train Acc: 1.1554, Test Acc: 1.1673\n",
            "Epoch: 078, Train Acc: 1.3872, Test Acc: 1.5531\n",
            "Epoch: 079, Train Acc: 0.9246, Test Acc: 1.1223\n",
            "Epoch: 080, Train Acc: 0.7996, Test Acc: 0.9455\n",
            "Epoch: 081, Train Acc: 1.1864, Test Acc: 1.0966\n",
            "Epoch: 082, Train Acc: 1.1336, Test Acc: 1.1214\n",
            "Epoch: 083, Train Acc: 1.5779, Test Acc: 1.8647\n",
            "Epoch: 084, Train Acc: 1.0271, Test Acc: 1.1397\n",
            "Epoch: 085, Train Acc: 1.4972, Test Acc: 1.3711\n",
            "Epoch: 086, Train Acc: 1.0309, Test Acc: 1.1136\n",
            "Epoch: 087, Train Acc: 0.9344, Test Acc: 1.1567\n",
            "Epoch: 088, Train Acc: 0.8199, Test Acc: 0.9082\n",
            "Epoch: 089, Train Acc: 0.8569, Test Acc: 1.0041\n",
            "Epoch: 090, Train Acc: 1.0285, Test Acc: 0.9996\n",
            "Epoch: 091, Train Acc: 0.9483, Test Acc: 1.0557\n",
            "Epoch: 092, Train Acc: 1.0050, Test Acc: 1.0306\n",
            "Epoch: 093, Train Acc: 0.7955, Test Acc: 0.9799\n",
            "Epoch: 094, Train Acc: 0.8105, Test Acc: 0.9353\n",
            "Epoch: 095, Train Acc: 0.8470, Test Acc: 0.9921\n",
            "Epoch: 096, Train Acc: 0.8196, Test Acc: 0.9163\n",
            "Epoch: 097, Train Acc: 0.9434, Test Acc: 1.1368\n",
            "Epoch: 098, Train Acc: 1.4474, Test Acc: 1.7009\n",
            "Epoch: 099, Train Acc: 0.8648, Test Acc: 0.9090\n",
            "Epoch: 100, Train Acc: 0.9085, Test Acc: 0.9813\n",
            "Epoch: 101, Train Acc: 0.8124, Test Acc: 0.8669\n",
            "Epoch: 102, Train Acc: 0.8911, Test Acc: 1.0813\n",
            "Epoch: 103, Train Acc: 0.8656, Test Acc: 0.8980\n",
            "Epoch: 104, Train Acc: 1.2085, Test Acc: 1.1901\n",
            "Epoch: 105, Train Acc: 1.1265, Test Acc: 1.4174\n",
            "Epoch: 106, Train Acc: 0.8601, Test Acc: 0.9686\n",
            "Epoch: 107, Train Acc: 0.8098, Test Acc: 1.0314\n",
            "Epoch: 108, Train Acc: 1.0818, Test Acc: 1.0262\n",
            "Epoch: 109, Train Acc: 0.9924, Test Acc: 0.9530\n",
            "Epoch: 110, Train Acc: 1.9872, Test Acc: 2.2053\n",
            "Epoch: 111, Train Acc: 0.8042, Test Acc: 0.9412\n",
            "Epoch: 112, Train Acc: 0.8796, Test Acc: 0.9459\n",
            "Epoch: 113, Train Acc: 1.0255, Test Acc: 0.9841\n",
            "Epoch: 114, Train Acc: 1.5417, Test Acc: 1.8445\n",
            "Epoch: 115, Train Acc: 1.2009, Test Acc: 1.5576\n",
            "Epoch: 116, Train Acc: 1.3724, Test Acc: 1.3470\n",
            "Epoch: 117, Train Acc: 1.1949, Test Acc: 1.1921\n",
            "Epoch: 118, Train Acc: 0.7928, Test Acc: 0.9441\n",
            "Epoch: 119, Train Acc: 1.1043, Test Acc: 1.1312\n",
            "Epoch: 120, Train Acc: 1.5320, Test Acc: 1.4748\n",
            "Epoch: 121, Train Acc: 0.8890, Test Acc: 0.9081\n",
            "Epoch: 122, Train Acc: 0.8308, Test Acc: 0.9531\n",
            "Epoch: 123, Train Acc: 0.8624, Test Acc: 1.0888\n",
            "Epoch: 124, Train Acc: 0.9533, Test Acc: 1.2256\n",
            "Epoch: 125, Train Acc: 0.8989, Test Acc: 1.2299\n",
            "Epoch: 126, Train Acc: 0.8253, Test Acc: 0.9171\n",
            "Epoch: 127, Train Acc: 1.0062, Test Acc: 1.0271\n",
            "Epoch: 128, Train Acc: 0.9099, Test Acc: 1.1220\n",
            "Epoch: 129, Train Acc: 1.3727, Test Acc: 1.5940\n",
            "Epoch: 130, Train Acc: 0.8884, Test Acc: 1.0830\n",
            "Epoch: 131, Train Acc: 0.8579, Test Acc: 0.8890\n",
            "Epoch: 132, Train Acc: 1.4013, Test Acc: 1.5426\n",
            "Epoch: 133, Train Acc: 0.9301, Test Acc: 0.9589\n",
            "Epoch: 134, Train Acc: 0.8789, Test Acc: 1.0351\n",
            "Epoch: 135, Train Acc: 1.6851, Test Acc: 1.6109\n",
            "Epoch: 136, Train Acc: 1.6113, Test Acc: 1.9516\n",
            "Epoch: 137, Train Acc: 0.9501, Test Acc: 1.2220\n",
            "Epoch: 138, Train Acc: 0.8953, Test Acc: 1.0277\n",
            "Epoch: 139, Train Acc: 1.2066, Test Acc: 1.5293\n",
            "Epoch: 140, Train Acc: 0.8272, Test Acc: 1.0922\n",
            "Epoch: 141, Train Acc: 1.2672, Test Acc: 1.2887\n",
            "Epoch: 142, Train Acc: 0.8586, Test Acc: 0.9284\n",
            "Epoch: 143, Train Acc: 1.1806, Test Acc: 1.1797\n",
            "Epoch: 144, Train Acc: 0.8018, Test Acc: 0.9759\n",
            "Epoch: 145, Train Acc: 0.7935, Test Acc: 0.8649\n",
            "Epoch: 146, Train Acc: 1.0965, Test Acc: 1.1327\n",
            "Epoch: 147, Train Acc: 0.8525, Test Acc: 1.1030\n",
            "Epoch: 148, Train Acc: 0.9157, Test Acc: 0.9098\n",
            "Epoch: 149, Train Acc: 0.9144, Test Acc: 0.9468\n",
            "Epoch: 150, Train Acc: 0.8019, Test Acc: 0.9185\n",
            "Epoch: 151, Train Acc: 0.8536, Test Acc: 1.0538\n",
            "Epoch: 152, Train Acc: 1.0110, Test Acc: 1.0594\n",
            "Epoch: 153, Train Acc: 0.7927, Test Acc: 0.9777\n",
            "Epoch: 154, Train Acc: 0.8058, Test Acc: 0.8804\n",
            "Epoch: 155, Train Acc: 0.8701, Test Acc: 1.0356\n",
            "Epoch: 156, Train Acc: 0.9203, Test Acc: 1.1577\n",
            "Epoch: 157, Train Acc: 0.8125, Test Acc: 1.0138\n",
            "Epoch: 158, Train Acc: 0.7784, Test Acc: 0.8961\n",
            "Epoch: 159, Train Acc: 0.8395, Test Acc: 0.8967\n",
            "Epoch: 160, Train Acc: 1.4769, Test Acc: 1.7490\n",
            "Epoch: 161, Train Acc: 0.9346, Test Acc: 1.0956\n",
            "Epoch: 162, Train Acc: 1.2919, Test Acc: 1.2973\n",
            "Epoch: 163, Train Acc: 1.0187, Test Acc: 1.0944\n",
            "Epoch: 164, Train Acc: 0.8830, Test Acc: 0.8866\n",
            "Epoch: 165, Train Acc: 0.9676, Test Acc: 0.9779\n",
            "Epoch: 166, Train Acc: 0.9125, Test Acc: 1.1613\n",
            "Epoch: 167, Train Acc: 0.7704, Test Acc: 0.9141\n",
            "Epoch: 168, Train Acc: 0.9630, Test Acc: 0.9130\n",
            "Epoch: 169, Train Acc: 1.3625, Test Acc: 1.6154\n",
            "Epoch: 170, Train Acc: 1.1139, Test Acc: 1.1304\n",
            "Epoch: 171, Train Acc: 1.0140, Test Acc: 1.2578\n",
            "Epoch: 172, Train Acc: 0.7901, Test Acc: 0.9945\n",
            "Epoch: 173, Train Acc: 0.7987, Test Acc: 0.9563\n",
            "Epoch: 174, Train Acc: 0.7669, Test Acc: 0.9681\n",
            "Epoch: 175, Train Acc: 0.8454, Test Acc: 0.9342\n",
            "Epoch: 176, Train Acc: 0.8899, Test Acc: 0.9464\n",
            "Epoch: 177, Train Acc: 0.9108, Test Acc: 1.1626\n",
            "Epoch: 178, Train Acc: 0.8156, Test Acc: 0.9540\n",
            "Epoch: 179, Train Acc: 0.8901, Test Acc: 1.0866\n",
            "Epoch: 180, Train Acc: 0.9274, Test Acc: 0.9602\n",
            "Epoch: 181, Train Acc: 0.8734, Test Acc: 0.9781\n",
            "Epoch: 182, Train Acc: 1.0964, Test Acc: 1.0732\n",
            "Epoch: 183, Train Acc: 0.8271, Test Acc: 0.9890\n",
            "Epoch: 184, Train Acc: 0.7256, Test Acc: 0.9011\n",
            "Epoch: 185, Train Acc: 0.8270, Test Acc: 0.8888\n",
            "Epoch: 186, Train Acc: 0.8944, Test Acc: 1.1362\n",
            "Epoch: 187, Train Acc: 0.9744, Test Acc: 1.0330\n",
            "Epoch: 188, Train Acc: 1.0212, Test Acc: 1.2782\n",
            "Epoch: 189, Train Acc: 1.2625, Test Acc: 1.2785\n",
            "Epoch: 190, Train Acc: 0.7873, Test Acc: 0.8672\n",
            "Epoch: 191, Train Acc: 0.8919, Test Acc: 0.9533\n",
            "Epoch: 192, Train Acc: 0.9560, Test Acc: 0.9795\n",
            "Epoch: 193, Train Acc: 0.8545, Test Acc: 0.9667\n",
            "Epoch: 194, Train Acc: 0.8223, Test Acc: 0.9558\n",
            "Epoch: 195, Train Acc: 1.4410, Test Acc: 1.6956\n",
            "Epoch: 196, Train Acc: 0.8092, Test Acc: 0.9620\n",
            "Epoch: 197, Train Acc: 0.9240, Test Acc: 0.9461\n",
            "Epoch: 198, Train Acc: 0.7616, Test Acc: 0.9315\n",
            "Epoch: 199, Train Acc: 0.7953, Test Acc: 0.8714\n",
            "Epoch: 200, Train Acc: 1.5428, Test Acc: 1.7694\n",
            "Epoch: 201, Train Acc: 1.0008, Test Acc: 0.9752\n",
            "Epoch: 202, Train Acc: 0.9558, Test Acc: 0.9436\n",
            "Epoch: 203, Train Acc: 1.1248, Test Acc: 1.1994\n",
            "Epoch: 204, Train Acc: 1.4692, Test Acc: 1.7156\n",
            "Epoch: 205, Train Acc: 1.0060, Test Acc: 1.0029\n",
            "Epoch: 206, Train Acc: 0.9076, Test Acc: 0.9468\n",
            "Epoch: 207, Train Acc: 0.9521, Test Acc: 1.1464\n",
            "Epoch: 208, Train Acc: 0.8159, Test Acc: 0.9096\n",
            "Epoch: 209, Train Acc: 0.9162, Test Acc: 0.9852\n",
            "Epoch: 210, Train Acc: 0.7610, Test Acc: 0.8864\n",
            "Epoch: 211, Train Acc: 0.8683, Test Acc: 1.0135\n",
            "Epoch: 212, Train Acc: 0.8120, Test Acc: 0.9869\n",
            "Epoch: 213, Train Acc: 1.0111, Test Acc: 1.1619\n",
            "Epoch: 214, Train Acc: 1.0262, Test Acc: 1.2552\n",
            "Epoch: 215, Train Acc: 1.1139, Test Acc: 1.1098\n",
            "Epoch: 216, Train Acc: 1.3316, Test Acc: 1.5633\n",
            "Epoch: 217, Train Acc: 1.2093, Test Acc: 1.2415\n",
            "Epoch: 218, Train Acc: 1.1778, Test Acc: 1.4026\n",
            "Epoch: 219, Train Acc: 1.7367, Test Acc: 1.9919\n",
            "Epoch: 220, Train Acc: 0.8001, Test Acc: 0.9469\n",
            "Epoch: 221, Train Acc: 0.9091, Test Acc: 1.0744\n",
            "Epoch: 222, Train Acc: 1.5366, Test Acc: 1.4902\n",
            "Epoch: 223, Train Acc: 0.9787, Test Acc: 1.0650\n",
            "Epoch: 224, Train Acc: 0.7977, Test Acc: 0.9161\n",
            "Epoch: 225, Train Acc: 1.2679, Test Acc: 1.5338\n",
            "Epoch: 226, Train Acc: 1.0566, Test Acc: 1.3004\n",
            "Epoch: 227, Train Acc: 0.9664, Test Acc: 1.0186\n",
            "Epoch: 228, Train Acc: 0.9045, Test Acc: 0.9910\n",
            "Epoch: 229, Train Acc: 0.9492, Test Acc: 0.9754\n",
            "Epoch: 230, Train Acc: 1.0028, Test Acc: 1.0366\n",
            "Epoch: 231, Train Acc: 0.8100, Test Acc: 0.9442\n",
            "Epoch: 232, Train Acc: 1.0422, Test Acc: 1.1284\n",
            "Epoch: 233, Train Acc: 0.7999, Test Acc: 0.8909\n",
            "Epoch: 234, Train Acc: 0.8209, Test Acc: 0.9619\n",
            "Epoch: 235, Train Acc: 0.8389, Test Acc: 1.0213\n",
            "Epoch: 236, Train Acc: 1.8485, Test Acc: 1.6898\n",
            "Epoch: 237, Train Acc: 0.9856, Test Acc: 1.0899\n",
            "Epoch: 238, Train Acc: 1.5360, Test Acc: 1.7345\n",
            "Epoch: 239, Train Acc: 0.7929, Test Acc: 0.9919\n",
            "Epoch: 240, Train Acc: 1.3743, Test Acc: 1.3358\n",
            "Epoch: 241, Train Acc: 0.8646, Test Acc: 0.9997\n",
            "Epoch: 242, Train Acc: 1.6839, Test Acc: 1.6173\n",
            "Epoch: 243, Train Acc: 0.9491, Test Acc: 1.1092\n",
            "Epoch: 244, Train Acc: 0.8227, Test Acc: 0.9251\n",
            "Epoch: 245, Train Acc: 0.8339, Test Acc: 0.9663\n",
            "Epoch: 246, Train Acc: 0.9101, Test Acc: 0.9074\n",
            "Epoch: 247, Train Acc: 0.7775, Test Acc: 0.8897\n",
            "Epoch: 248, Train Acc: 0.9835, Test Acc: 1.1545\n",
            "Epoch: 249, Train Acc: 1.0185, Test Acc: 1.0452\n"
          ]
        }
      ]
    },
    {
      "cell_type": "markdown",
      "source": [],
      "metadata": {
        "id": "qriGNnp_TgqP"
      }
    },
    {
      "cell_type": "markdown",
      "source": [
        "# HiGNN Experimentation"
      ],
      "metadata": {
        "id": "kiOeJ7LevY6m"
      }
    },
    {
      "cell_type": "code",
      "source": [
        "import torch.nn.functional as F\n",
        "from torch.utils.tensorboard import SummaryWriter\n",
        "\n",
        "from config import get_config\n",
        "from utils import create_logger, seed_set\n",
        "from utils import NoamLR, build_scheduler, build_optimizer, get_metric_func\n",
        "from utils import load_checkpoint, save_best_checkpoint, load_best_result\n",
        "from dataset import build_loader\n",
        "from loss import bulid_loss\n",
        "from model import build_model\n",
        "from dataset import *"
      ],
      "metadata": {
        "id": "wjAWsz7d3Vr7"
      },
      "execution_count": 2,
      "outputs": []
    },
    {
      "cell_type": "code",
      "source": [
        "import pandas as pd"
      ],
      "metadata": {
        "id": "DeYeG7Ij6DO5"
      },
      "execution_count": 3,
      "outputs": []
    },
    {
      "cell_type": "code",
      "source": [
        "from dataset import load_dataset_random"
      ],
      "metadata": {
        "id": "APXNhWM15XDU"
      },
      "execution_count": 4,
      "outputs": []
    },
    {
      "cell_type": "code",
      "source": [
        "from torch_geometric.data import DataLoader\n",
        "import os\n",
        "import torch.nn.init as init\n",
        "from torch_geometric.utils import softmax\n",
        "from torch_geometric.nn import global_mean_pool\n",
        "import torch"
      ],
      "metadata": {
        "id": "tBIIcCmJPcBN"
      },
      "execution_count": 5,
      "outputs": []
    },
    {
      "cell_type": "code",
      "source": [
        "import torch\n",
        "from torch import nn\n",
        "import torch.nn.functional as F\n",
        "from torch.nn import Linear, Sequential, Parameter, Bilinear\n",
        "\n",
        "from torch_scatter import scatter\n",
        "from torch_geometric.nn import global_add_pool, GATConv\n",
        "from torch_geometric.nn.conv import MessagePassing\n",
        "from torch_geometric.nn.inits import glorot, reset\n",
        "from torch_geometric.nn.pool.pool import pool_batch\n",
        "from torch_geometric.nn.pool.consecutive import consecutive_cluster\n"
      ],
      "metadata": {
        "id": "b3gTvQJ2QKXN"
      },
      "execution_count": 6,
      "outputs": []
    },
    {
      "cell_type": "code",
      "source": [
        "!ls ../data/deleney"
      ],
      "metadata": {
        "colab": {
          "base_uri": "https://localhost:8080/"
        },
        "id": "VnVgeO1R5vCc",
        "outputId": "8346aa9c-d100-42d4-c48c-7f5178ae1e72"
      },
      "execution_count": 7,
      "outputs": [
        {
          "output_type": "stream",
          "name": "stdout",
          "text": [
            "delaney.csv  processed\traw\r\n"
          ]
        }
      ]
    },
    {
      "cell_type": "code",
      "source": [
        "pd.read_csv('../data/deleney/delaney.csv').head()"
      ],
      "metadata": {
        "colab": {
          "base_uri": "https://localhost:8080/",
          "height": 206
        },
        "id": "ujPHQMSy5908",
        "outputId": "0c9bc5b9-e036-4d97-9fb1-d66b73e8941d"
      },
      "execution_count": 8,
      "outputs": [
        {
          "output_type": "execute_result",
          "data": {
            "text/plain": [
              "                                              smiles  logSolubility\n",
              "0  OCC3OC(OCC2OC(OC(C#N)c1ccccc1)C(O)C(O)C2O)C(O)...          -0.77\n",
              "1                             Cc1occc1C(=O)Nc2ccccc2          -3.30\n",
              "2                               CC(C)=CCCC(C)=CC(=O)          -2.06\n",
              "3                 c1ccc2c(c1)ccc3c2ccc4c5ccccc5ccc43          -7.87\n",
              "4                                            c1ccsc1          -1.33"
            ],
            "text/html": [
              "<div>\n",
              "<style scoped>\n",
              "    .dataframe tbody tr th:only-of-type {\n",
              "        vertical-align: middle;\n",
              "    }\n",
              "\n",
              "    .dataframe tbody tr th {\n",
              "        vertical-align: top;\n",
              "    }\n",
              "\n",
              "    .dataframe thead th {\n",
              "        text-align: right;\n",
              "    }\n",
              "</style>\n",
              "<table border=\"1\" class=\"dataframe\">\n",
              "  <thead>\n",
              "    <tr style=\"text-align: right;\">\n",
              "      <th></th>\n",
              "      <th>smiles</th>\n",
              "      <th>logSolubility</th>\n",
              "    </tr>\n",
              "  </thead>\n",
              "  <tbody>\n",
              "    <tr>\n",
              "      <th>0</th>\n",
              "      <td>OCC3OC(OCC2OC(OC(C#N)c1ccccc1)C(O)C(O)C2O)C(O)...</td>\n",
              "      <td>-0.77</td>\n",
              "    </tr>\n",
              "    <tr>\n",
              "      <th>1</th>\n",
              "      <td>Cc1occc1C(=O)Nc2ccccc2</td>\n",
              "      <td>-3.30</td>\n",
              "    </tr>\n",
              "    <tr>\n",
              "      <th>2</th>\n",
              "      <td>CC(C)=CCCC(C)=CC(=O)</td>\n",
              "      <td>-2.06</td>\n",
              "    </tr>\n",
              "    <tr>\n",
              "      <th>3</th>\n",
              "      <td>c1ccc2c(c1)ccc3c2ccc4c5ccccc5ccc43</td>\n",
              "      <td>-7.87</td>\n",
              "    </tr>\n",
              "    <tr>\n",
              "      <th>4</th>\n",
              "      <td>c1ccsc1</td>\n",
              "      <td>-1.33</td>\n",
              "    </tr>\n",
              "  </tbody>\n",
              "</table>\n",
              "</div>"
            ]
          },
          "metadata": {},
          "execution_count": 8
        }
      ]
    },
    {
      "cell_type": "code",
      "source": [
        "!ls ../data/deleney/raw/"
      ],
      "metadata": {
        "colab": {
          "base_uri": "https://localhost:8080/"
        },
        "id": "tZS9hErt6i8X",
        "outputId": "8777e02f-cfd2-48c4-eb68-440b63426185"
      },
      "execution_count": 19,
      "outputs": [
        {
          "output_type": "stream",
          "name": "stdout",
          "text": [
            "deleney.csv\r\n"
          ]
        }
      ]
    },
    {
      "cell_type": "code",
      "source": [
        "import logging\n",
        "logger = logging.getLogger('random_logger')"
      ],
      "metadata": {
        "id": "GF4uy2gOON3z"
      },
      "execution_count": 7,
      "outputs": []
    },
    {
      "cell_type": "code",
      "source": [
        "logger.info('Indian')"
      ],
      "metadata": {
        "id": "iEB7fI_bOX1D"
      },
      "execution_count": 8,
      "outputs": []
    },
    {
      "cell_type": "code",
      "source": [],
      "metadata": {
        "id": "Xatw0DTbFGUV"
      },
      "execution_count": null,
      "outputs": []
    },
    {
      "cell_type": "code",
      "source": [
        "def load_dataset_random(path, dataset, seed, task_type, tasks=None, logger=None):\n",
        "    save_path = path + 'processed/train_valid_test_{}_seed_{}.ckpt'.format(dataset, seed)\n",
        "    if os.path.isfile(save_path):\n",
        "        trn, val, test = torch.load(save_path)\n",
        "        return trn, val, test\n",
        "    pyg_dataset = MolDataset(root=path, dataset=dataset, task_type=task_type, tasks=tasks, logger=logger)\n",
        "    del pyg_dataset.data.smiles\n",
        "\n",
        "    # Seed randomness\n",
        "    random = Random(seed)\n",
        "    indices = list(range(len(pyg_dataset)))\n",
        "    random.seed(seed)\n",
        "    random.shuffle(indices)\n",
        "\n",
        "    train_size = int(0.8 * len(pyg_dataset))\n",
        "    val_size = int(0.1 * len(pyg_dataset))\n",
        "    test_size = len(pyg_dataset) - train_size - val_size\n",
        "\n",
        "    trn_id, val_id, test_id = indices[:train_size], \\\n",
        "                              indices[train_size:(train_size + val_size)], \\\n",
        "                              indices[(train_size + val_size):]\n",
        "\n",
        "    trn, val, test = pyg_dataset[torch.LongTensor(trn_id)], \\\n",
        "                     pyg_dataset[torch.LongTensor(val_id)], \\\n",
        "                     pyg_dataset[torch.LongTensor(test_id)]\n",
        "\n",
        "    logger.info(f'Total smiles = {len(pyg_dataset):,} | '\n",
        "                f'train smiles = {train_size:,} | '\n",
        "                f'val smiles = {val_size:,} | '\n",
        "                f'test smiles = {test_size:,}')\n",
        "\n",
        "    assert task_type == 'classification' or 'regression'\n",
        "    if task_type == 'classification':\n",
        "        weights = []\n",
        "        for i in range(len(tasks)):\n",
        "            validId = np.where((pyg_dataset.data.y[:, i] == 0) | (pyg_dataset.data.y[:, i] == 1))[0]\n",
        "            pos_len = (pyg_dataset.data.y[:, i][validId].sum()).item()\n",
        "            neg_len = len(pyg_dataset.data.y[:, i][validId]) - pos_len\n",
        "            weights.append([(neg_len + pos_len) / neg_len, (neg_len + pos_len) / pos_len])\n",
        "        trn.weights = weights\n",
        "\n",
        "    else:\n",
        "        trn.weights = None\n",
        "\n",
        "    torch.save([trn, val, test], save_path)\n",
        "    return load_dataset_random(path, dataset, seed, task_type, tasks)\n",
        "\n",
        "train_dataset, valid_dataset, test_dataset = load_dataset_random('../data/deleney/',\n",
        "                                                                         \"deleney\",\n",
        "                                                                         2022,\n",
        "                                                                         'regression',\n",
        "                                                                         'logSolubility', \n",
        "                                                                          logger)\n",
        "train_loader = DataLoader(train_dataset, batch_size = 32, shuffle=True)\n",
        "valid_loader = DataLoader(valid_dataset, batch_size = 32)\n",
        "test_loader = DataLoader(test_dataset, batch_size = 32)"
      ],
      "metadata": {
        "colab": {
          "base_uri": "https://localhost:8080/"
        },
        "id": "i4n35e3-O_Ua",
        "outputId": "7d8b258a-0894-400f-d8e1-ce965ccf6411"
      },
      "execution_count": 9,
      "outputs": [
        {
          "output_type": "stream",
          "name": "stderr",
          "text": [
            "/home/ec2-user/virtenv/lib64/python3.7/site-packages/torch_geometric/deprecation.py:22: UserWarning: 'data.DataLoader' is deprecated, use 'loader.DataLoader' instead\n",
            "  warnings.warn(out)\n"
          ]
        }
      ]
    },
    {
      "cell_type": "markdown",
      "source": [
        "A quick Experiment"
      ],
      "metadata": {
        "id": "1VN_VNEw43yu"
      }
    },
    {
      "cell_type": "code",
      "source": [],
      "metadata": {
        "id": "RtjcLG9w46uD"
      },
      "execution_count": null,
      "outputs": []
    },
    {
      "cell_type": "code",
      "source": [
        "batch = next(iter(train_loader))"
      ],
      "metadata": {
        "id": "5VQJQm7uPdhN"
      },
      "execution_count": 14,
      "outputs": []
    },
    {
      "cell_type": "code",
      "source": [
        "batch"
      ],
      "metadata": {
        "colab": {
          "base_uri": "https://localhost:8080/"
        },
        "id": "5TIkRbZoPf4D",
        "outputId": "a9f79788-1dae-4c1c-f846-f77bde708117"
      },
      "execution_count": 15,
      "outputs": [
        {
          "output_type": "execute_result",
          "data": {
            "text/plain": [
              "MolDataBatch(x=[422, 45], edge_index=[2, 870], edge_attr=[870, 10], cluster_index=[422], fra_edge_index=[2, 780], fra_edge_attr=[780, 10], y=[32, 1], batch=[422], ptr=[33])"
            ]
          },
          "metadata": {},
          "execution_count": 15
        }
      ]
    },
    {
      "cell_type": "code",
      "source": [
        "batch.fra_edge_index"
      ],
      "metadata": {
        "colab": {
          "base_uri": "https://localhost:8080/"
        },
        "id": "tqAQoD3zXrfU",
        "outputId": "7e52882b-7e32-42fb-fdc3-68b5c3bbcbec"
      },
      "execution_count": 16,
      "outputs": [
        {
          "output_type": "execute_result",
          "data": {
            "text/plain": [
              "tensor([[  0,   1,   1,  ..., 419, 420, 421],\n",
              "        [  1,   0,   2,  ..., 421, 419, 419]])"
            ]
          },
          "metadata": {},
          "execution_count": 16
        }
      ]
    },
    {
      "cell_type": "code",
      "source": [
        "def linear_layer(n_in, n_out):\n",
        "    return nn.Sequential(nn.Linear(n_in, n_out), nn.LeakyReLU(p = 0.2), nn.LayerNorm(n_out))\n",
        "\n",
        "class ResLayer(nn.Module):\n",
        "    def __init__(self, n_in, n_out):\n",
        "\n",
        "        self.l1 = linear_layer(n_in, n_out)\n",
        "        self.l2 = linear_layer(n_out, n_out)\n",
        "        self.l3 = linear_layer(n_out, n_out)\n",
        "\n",
        "    def forward(self, x):\n",
        "        x = self.l1(x)\n",
        "        return self.l3(self.l2(x)) + x\n",
        "\n",
        "class FeatureAttention(nn.Module):\n",
        "    def __init__(self, channels, reduction):\n",
        "        super().__init__()\n",
        "        self.mlp = Sequential(\n",
        "            Linear(channels, channels // reduction),\n",
        "            nn.ReLU(inplace=True),\n",
        "            Linear(channels // reduction, channels, bias=False),\n",
        "        )\n",
        "\n",
        "        self.reset_parameters()\n",
        "\n",
        "    def reset_parameters(self):\n",
        "        reset(self.mlp)\n",
        "\n",
        "    def forward(self, x, batch, size=None):\n",
        "        max_result = scatter(x, batch, dim=0, dim_size=size, reduce='max')\n",
        "        sum_result = scatter(x, batch, dim=0, dim_size=size, reduce='sum')\n",
        "        max_out = self.mlp(max_result)\n",
        "        sum_out = self.mlp(sum_result)\n",
        "        y = torch.sigmoid(max_out + sum_out)\n",
        "        y = y[batch]\n",
        "        return x * y"
      ],
      "metadata": {
        "id": "oytbS6o1PixM"
      },
      "execution_count": 10,
      "outputs": []
    },
    {
      "cell_type": "code",
      "source": [
        "class NTNConv(MessagePassing):\n",
        "\n",
        "    def __init__(self, in_channels, out_channels, slices, dropout, edge_dim=None, **kwargs):\n",
        "        kwargs.setdefault('aggr', 'add')\n",
        "        super(NTNConv, self).__init__(node_dim=0, **kwargs)\n",
        "\n",
        "        self.in_channels = in_channels\n",
        "        self.out_channels = out_channels\n",
        "        self.slices = slices\n",
        "        self.dropout = dropout\n",
        "        self.edge_dim = edge_dim\n",
        "\n",
        "        self.weight_node = Parameter(torch.Tensor(in_channels,\n",
        "                                                  out_channels))\n",
        "        if edge_dim is not None:\n",
        "            self.weight_edge = Parameter(torch.Tensor(edge_dim,\n",
        "                                                      out_channels))\n",
        "        else:\n",
        "            self.weight_edge = self.register_parameter('weight_edge', None)\n",
        "\n",
        "        self.bilinear = Bilinear(out_channels, out_channels, slices, bias=False)\n",
        "\n",
        "        if self.edge_dim is not None:\n",
        "            self.linear = Linear(3 * out_channels, slices)\n",
        "        else:\n",
        "            self.linear = Linear(2 * out_channels, slices)\n",
        "\n",
        "        self._alpha = None\n",
        "\n",
        "        self.reset_parameters()\n",
        "\n",
        "    def reset_parameters(self):\n",
        "        glorot(self.weight_node)\n",
        "        glorot(self.weight_edge)\n",
        "        self.bilinear.reset_parameters()\n",
        "        self.linear.reset_parameters()\n",
        "\n",
        "    def forward(self, x, edge_index, edge_attr=None, return_attention_weights=None):\n",
        "\n",
        "        x = torch.matmul(x, self.weight_node)\n",
        "\n",
        "        if self.weight_edge is not None:\n",
        "            assert edge_attr is not None\n",
        "            edge_attr = torch.matmul(edge_attr, self.weight_edge)\n",
        "\n",
        "        out = self.propagate(edge_index, x=x, edge_attr=edge_attr)\n",
        "\n",
        "        alpha = self._alpha\n",
        "        self._alpha = None\n",
        "\n",
        "        if isinstance(return_attention_weights, bool):\n",
        "            assert alpha is not None\n",
        "            return out, (edge_index, alpha)\n",
        "        else:\n",
        "            return out\n",
        "\n",
        "    def message(self, x_i, x_j, edge_attr):\n",
        "        score = self.bilinear(x_i, x_j)\n",
        "        if edge_attr is not None:\n",
        "            vec = torch.cat((x_i, edge_attr, x_j), 1)\n",
        "            block_score = self.linear(vec)  # bias already included\n",
        "        else:\n",
        "            vec = torch.cat((x_i, x_j), 1)\n",
        "            block_score = self.linear(vec)\n",
        "        scores = score + block_score\n",
        "        alpha = torch.tanh(scores)\n",
        "        self._alpha = alpha\n",
        "        alpha = F.dropout(alpha, p=self.dropout, training=self.training)\n",
        "\n",
        "        dim_split = self.out_channels // self.slices\n",
        "        out = torch.max(x_j, edge_attr).view(-1, self.slices, dim_split)\n",
        "\n",
        "        out = out * alpha.view(-1, self.slices, 1)\n",
        "        out = out.view(-1, self.out_channels)\n",
        "        return out\n",
        "\n",
        "    def __repr__(self):\n",
        "        return '{}({}, {}, slices={})'.format(self.__class__.__name__,\n",
        "                                              self.in_channels,\n",
        "                                              self.out_channels, self.slices)"
      ],
      "metadata": {
        "id": "GbeTA0rqP5tW"
      },
      "execution_count": 11,
      "outputs": []
    },
    {
      "cell_type": "code",
      "source": [
        "class HiGNN(torch.nn.Module):\n",
        "    \"\"\"Hierarchical informative graph neural network for molecular representation.\n",
        "\n",
        "    \"\"\"\n",
        "\n",
        "    def __init__(self, in_channels, hidden_channels, out_channels, edge_dim, num_layers,\n",
        "                 slices, dropout, f_att=False, r=4, brics=True, cl=False, save_path = None, load_path = None):\n",
        "        super(HiGNN, self).__init__()\n",
        "\n",
        "        self.hidden_channels = hidden_channels\n",
        "        self.num_layers = num_layers\n",
        "        self.dropout = dropout\n",
        "\n",
        "        self.f_att = f_att\n",
        "        self.brics = brics\n",
        "        self.cl = cl\n",
        "\n",
        "        self.save_path = save_path\n",
        "        self.load_path = load_path\n",
        "\n",
        "        self.pre_trained = True if load_path else False\n",
        "\n",
        "        # atom feature transformation\n",
        "        self.lin_a = Linear(in_channels, hidden_channels)\n",
        "        self.lin_b = Linear(edge_dim, hidden_channels)\n",
        "\n",
        "        # convs block\n",
        "        self.atom_convs = torch.nn.ModuleList()\n",
        "        for _ in range(num_layers):\n",
        "            conv = NTNConv(hidden_channels, hidden_channels, slices=slices,\n",
        "                           dropout=dropout, edge_dim=hidden_channels)\n",
        "            self.atom_convs.append(conv)\n",
        "\n",
        "        self.lin_gate = Linear(3 * hidden_channels, hidden_channels)\n",
        "\n",
        "        if self.f_att:\n",
        "            self.feature_att = FeatureAttention(channels=hidden_channels, reduction=r)\n",
        "\n",
        "        if self.brics:\n",
        "            # mol-fra attention\n",
        "            self.cross_att = GATConv(hidden_channels, hidden_channels, heads=4,\n",
        "                                     dropout=dropout, add_self_loops=False,\n",
        "                                     negative_slope=0.01, concat=False)\n",
        "\n",
        "        if self.brics:\n",
        "            self.out = Linear(2 * hidden_channels, out_channels)\n",
        "        else:\n",
        "            self.out = Linear(hidden_channels, out_channels)\n",
        "\n",
        "        if self.cl:\n",
        "            self.lin_project = Linear(hidden_channels, int(hidden_channels/2))\n",
        "\n",
        "        if self.pre_trained:\n",
        "            self.load_model(load_model)\n",
        "\n",
        "        self.reset_parameters()\n",
        "\n",
        "    def save_model(self, save_path):\n",
        "\n",
        "        model_dict = {\n",
        "            'atom_convs': self.atom_convs.state_dict(),\n",
        "            'lin_gate': self.lin_gate.state_dict(),\n",
        "            'lin_a': self.lin_a.state_dict(),\n",
        "            'lin_b': self.lin_b.state_dict(),\n",
        "        }\n",
        "\n",
        "        if self.f_att:\n",
        "            model_dict['feature_att'] =  self.feature_att.state_dict()\n",
        "\n",
        "        if self.brics:\n",
        "            model_dict['cross_att'] = self.cross_att.state_dict()\n",
        "\n",
        "        torch.save(model_dict, save_path)\n",
        "\n",
        "    def load_model(self, load_path):\n",
        "\n",
        "        model_dict = torch.load(load_path)\n",
        "        self.atom_convs.load_state_dict(model_dict['atom_convs'])\n",
        "        self.lin_gate.load_state_dict(model_dict['lin_gate'])\n",
        "        self.lin_a.load_state_dict(model_dict['lin_a'])\n",
        "        self.lin_b.load_state_dict(model_dict['lin_b'])\n",
        "\n",
        "        if self.f_att:\n",
        "            self.feature_att.load_state_dict(model_dict['feature_att'])\n",
        "\n",
        "        if self.brics:\n",
        "            self.cross_att.load_state_dict(model_dict['cross_att'])\n",
        "\n",
        "\n",
        "    def reset_parameters(self):\n",
        "\n",
        "        self.lin_a.reset_parameters()\n",
        "        self.lin_b.reset_parameters()\n",
        "\n",
        "        for conv in self.atom_convs:\n",
        "            conv.reset_parameters()\n",
        "\n",
        "        self.lin_gate.reset_parameters()\n",
        "\n",
        "        if self.f_att:\n",
        "            self.feature_att.reset_parameters()\n",
        "\n",
        "        if self.brics:\n",
        "            self.cross_att.reset_parameters()\n",
        "\n",
        "        self.out.reset_parameters()\n",
        "\n",
        "        if self.cl:\n",
        "            self.lin_project.reset_parameters()\n",
        "\n",
        "    def forward(self, data):\n",
        "        # get mol input\n",
        "        x = data.x\n",
        "        edge_index = data.edge_index\n",
        "        edge_attr = data.edge_attr\n",
        "        batch = data.batch\n",
        "\n",
        "        x = F.relu(self.lin_a(x))  # (N, 46) -> (N, hidden_channels)\n",
        "        edge_attr = F.relu(self.lin_b(edge_attr))  # (N, 10) -> (N, hidden_channels)\n",
        "\n",
        "        # mol conv block\n",
        "        for i in range(0, self.num_layers):\n",
        "            h = F.relu(self.atom_convs[i](x, edge_index, edge_attr))\n",
        "            beta = self.lin_gate(torch.cat([x, h, x - h], 1)).sigmoid()\n",
        "            x = beta * x + (1 - beta) * h\n",
        "            if self.f_att:\n",
        "                x = self.feature_att(x, batch)\n",
        "\n",
        "        mol_vec = global_add_pool(x, batch).relu_()\n",
        "\n",
        "        if self.brics:\n",
        "            # get fragment input\n",
        "            fra_x = data.x\n",
        "            fra_edge_index = data.fra_edge_index\n",
        "            fra_edge_attr = data.fra_edge_attr\n",
        "            cluster = data.cluster_index\n",
        "\n",
        "            fra_x = F.relu(self.lin_a(fra_x))  # (N, 46) -> (N, hidden_channels)\n",
        "            fra_edge_attr = F.relu(self.lin_b(fra_edge_attr))  # (N, 10) -> (N, hidden_channels)\n",
        "\n",
        "            # fragment convs block\n",
        "            for i in range(0, self.num_layers):\n",
        "                fra_h = F.relu(self.atom_convs[i](fra_x, fra_edge_index, fra_edge_attr))\n",
        "                beta = self.lin_gate(torch.cat([fra_x, fra_h, fra_x - fra_h], 1)).sigmoid()\n",
        "                fra_x = beta * fra_x + (1 - beta) * fra_h\n",
        "                if self.f_att:\n",
        "                    fra_x = self.feature_att(fra_x, cluster)\n",
        "            st()\n",
        "            fra_x = global_add_pool(fra_x, cluster).relu_()\n",
        "\n",
        "            # get fragment batch\n",
        "            cluster, perm = consecutive_cluster(cluster)\n",
        "            fra_batch = pool_batch(perm, data.batch)\n",
        "\n",
        "            # molecule-fragment attention\n",
        "            row = torch.arange(fra_batch.size(0), device=batch.device)\n",
        "            mol_fra_index = torch.stack([row, fra_batch], dim=0)\n",
        "            fra_vec = self.cross_att((fra_x, mol_vec), mol_fra_index).relu_()\n",
        "\n",
        "            vectors_concat = list()\n",
        "            vectors_concat.append(mol_vec)\n",
        "            vectors_concat.append(fra_vec)\n",
        "\n",
        "            out = torch.cat(vectors_concat, 1)\n",
        "\n",
        "            # molecule-fragment contrastive\n",
        "            if self.cl:\n",
        "                out = F.dropout(out, p=self.dropout, training=self.training)\n",
        "                return self.out(out), self.lin_project(mol_vec).relu_(), self.lin_project(fra_vec).relu_()\n",
        "            else:\n",
        "                out = F.dropout(out, p=self.dropout, training=self.training)\n",
        "                return self.out(out)\n",
        "\n",
        "        else:\n",
        "            assert self.cl is False\n",
        "            out = F.dropout(mol_vec, p=self.dropout, training=self.training)\n",
        "            return self.out(out)\n"
      ],
      "metadata": {
        "id": "plyDNfrCP_rj"
      },
      "execution_count": 39,
      "outputs": []
    },
    {
      "cell_type": "code",
      "source": [
        "model = HiGNN(train_dataset.num_node_features, 64, 1, train_dataset.num_edge_features, 4,\n",
        "                 4, dropout = 0.3, f_att=True, r=4, brics=True, cl=False, save_path = None, load_path = None)"
      ],
      "metadata": {
        "id": "pF1-DrLlcosE"
      },
      "execution_count": 40,
      "outputs": []
    },
    {
      "cell_type": "code",
      "source": [
        "yhat = model(batch)"
      ],
      "metadata": {
        "colab": {
          "base_uri": "https://localhost:8080/"
        },
        "id": "X4DTrZxsc5lq",
        "outputId": "cfaf6bbc-111a-47b5-be6d-f005beda6fbd"
      },
      "execution_count": 41,
      "outputs": [
        {
          "name": "stdout",
          "output_type": "stream",
          "text": [
            "> \u001b[0;32m/tmp/ipykernel_17458/2043465054.py\u001b[0m(149)\u001b[0;36mforward\u001b[0;34m()\u001b[0m\n",
            "\u001b[0;32m    148 \u001b[0;31m            \u001b[0mst\u001b[0m\u001b[0;34m(\u001b[0m\u001b[0;34m)\u001b[0m\u001b[0;34m\u001b[0m\u001b[0;34m\u001b[0m\u001b[0m\n",
            "\u001b[0m\u001b[0;32m--> 149 \u001b[0;31m            \u001b[0mfra_x\u001b[0m \u001b[0;34m=\u001b[0m \u001b[0mglobal_add_pool\u001b[0m\u001b[0;34m(\u001b[0m\u001b[0mfra_x\u001b[0m\u001b[0;34m,\u001b[0m \u001b[0mcluster\u001b[0m\u001b[0;34m)\u001b[0m\u001b[0;34m.\u001b[0m\u001b[0mrelu_\u001b[0m\u001b[0;34m(\u001b[0m\u001b[0;34m)\u001b[0m\u001b[0;34m\u001b[0m\u001b[0;34m\u001b[0m\u001b[0m\n",
            "\u001b[0m\u001b[0;32m    150 \u001b[0;31m\u001b[0;34m\u001b[0m\u001b[0m\n",
            "\u001b[0m\n",
            "ipdb> n\n",
            "> \u001b[0;32m/tmp/ipykernel_17458/2043465054.py\u001b[0m(152)\u001b[0;36mforward\u001b[0;34m()\u001b[0m\n",
            "\u001b[0;32m    151 \u001b[0;31m            \u001b[0;31m# get fragment batch\u001b[0m\u001b[0;34m\u001b[0m\u001b[0;34m\u001b[0m\u001b[0;34m\u001b[0m\u001b[0m\n",
            "\u001b[0m\u001b[0;32m--> 152 \u001b[0;31m            \u001b[0mcluster\u001b[0m\u001b[0;34m,\u001b[0m \u001b[0mperm\u001b[0m \u001b[0;34m=\u001b[0m \u001b[0mconsecutive_cluster\u001b[0m\u001b[0;34m(\u001b[0m\u001b[0mcluster\u001b[0m\u001b[0;34m)\u001b[0m\u001b[0;34m\u001b[0m\u001b[0;34m\u001b[0m\u001b[0m\n",
            "\u001b[0m\u001b[0;32m    153 \u001b[0;31m            \u001b[0mfra_batch\u001b[0m \u001b[0;34m=\u001b[0m \u001b[0mpool_batch\u001b[0m\u001b[0;34m(\u001b[0m\u001b[0mperm\u001b[0m\u001b[0;34m,\u001b[0m \u001b[0mdata\u001b[0m\u001b[0;34m.\u001b[0m\u001b[0mbatch\u001b[0m\u001b[0;34m)\u001b[0m\u001b[0;34m\u001b[0m\u001b[0;34m\u001b[0m\u001b[0m\n",
            "\u001b[0m\n",
            "ipdb> n\n",
            "> \u001b[0;32m/tmp/ipykernel_17458/2043465054.py\u001b[0m(153)\u001b[0;36mforward\u001b[0;34m()\u001b[0m\n",
            "\u001b[0;32m    152 \u001b[0;31m            \u001b[0mcluster\u001b[0m\u001b[0;34m,\u001b[0m \u001b[0mperm\u001b[0m \u001b[0;34m=\u001b[0m \u001b[0mconsecutive_cluster\u001b[0m\u001b[0;34m(\u001b[0m\u001b[0mcluster\u001b[0m\u001b[0;34m)\u001b[0m\u001b[0;34m\u001b[0m\u001b[0;34m\u001b[0m\u001b[0m\n",
            "\u001b[0m\u001b[0;32m--> 153 \u001b[0;31m            \u001b[0mfra_batch\u001b[0m \u001b[0;34m=\u001b[0m \u001b[0mpool_batch\u001b[0m\u001b[0;34m(\u001b[0m\u001b[0mperm\u001b[0m\u001b[0;34m,\u001b[0m \u001b[0mdata\u001b[0m\u001b[0;34m.\u001b[0m\u001b[0mbatch\u001b[0m\u001b[0;34m)\u001b[0m\u001b[0;34m\u001b[0m\u001b[0;34m\u001b[0m\u001b[0m\n",
            "\u001b[0m\u001b[0;32m    154 \u001b[0;31m\u001b[0;34m\u001b[0m\u001b[0m\n",
            "\u001b[0m\n",
            "ipdb> n\n",
            "> \u001b[0;32m/tmp/ipykernel_17458/2043465054.py\u001b[0m(156)\u001b[0;36mforward\u001b[0;34m()\u001b[0m\n",
            "\u001b[0;32m    155 \u001b[0;31m            \u001b[0;31m# molecule-fragment attention\u001b[0m\u001b[0;34m\u001b[0m\u001b[0;34m\u001b[0m\u001b[0;34m\u001b[0m\u001b[0m\n",
            "\u001b[0m\u001b[0;32m--> 156 \u001b[0;31m            \u001b[0mrow\u001b[0m \u001b[0;34m=\u001b[0m \u001b[0mtorch\u001b[0m\u001b[0;34m.\u001b[0m\u001b[0marange\u001b[0m\u001b[0;34m(\u001b[0m\u001b[0mfra_batch\u001b[0m\u001b[0;34m.\u001b[0m\u001b[0msize\u001b[0m\u001b[0;34m(\u001b[0m\u001b[0;36m0\u001b[0m\u001b[0;34m)\u001b[0m\u001b[0;34m,\u001b[0m \u001b[0mdevice\u001b[0m\u001b[0;34m=\u001b[0m\u001b[0mbatch\u001b[0m\u001b[0;34m.\u001b[0m\u001b[0mdevice\u001b[0m\u001b[0;34m)\u001b[0m\u001b[0;34m\u001b[0m\u001b[0;34m\u001b[0m\u001b[0m\n",
            "\u001b[0m\u001b[0;32m    157 \u001b[0;31m            \u001b[0mmol_fra_index\u001b[0m \u001b[0;34m=\u001b[0m \u001b[0mtorch\u001b[0m\u001b[0;34m.\u001b[0m\u001b[0mstack\u001b[0m\u001b[0;34m(\u001b[0m\u001b[0;34m[\u001b[0m\u001b[0mrow\u001b[0m\u001b[0;34m,\u001b[0m \u001b[0mfra_batch\u001b[0m\u001b[0;34m]\u001b[0m\u001b[0;34m,\u001b[0m \u001b[0mdim\u001b[0m\u001b[0;34m=\u001b[0m\u001b[0;36m0\u001b[0m\u001b[0;34m)\u001b[0m\u001b[0;34m\u001b[0m\u001b[0;34m\u001b[0m\u001b[0m\n",
            "\u001b[0m\n",
            "ipdb> fra_batch\n",
            "tensor([ 0,  1,  1,  1,  2,  2,  2,  3,  4,  5,  6,  6,  6,  7,  7,  7,  8,  9,\n",
            "        10, 10, 11, 11, 11, 12, 13, 13, 13, 13, 13, 13, 13, 13, 14, 15, 15, 15,\n",
            "        16, 16, 16, 16, 17, 17, 18, 18, 19, 20, 20, 21, 22, 22, 22, 22, 22, 22,\n",
            "        23, 23, 24, 24, 24, 25, 25, 25, 25, 26, 26, 27, 28, 29, 30, 30, 30, 30,\n",
            "        30, 30, 31, 31, 31])\n",
            "ipdb> fra_batch.shape\n",
            "torch.Size([77])\n",
            "ipdb> \n",
            "torch.Size([77])\n",
            "ipdb> n\n",
            "> \u001b[0;32m/tmp/ipykernel_17458/2043465054.py\u001b[0m(157)\u001b[0;36mforward\u001b[0;34m()\u001b[0m\n",
            "\u001b[0;32m    156 \u001b[0;31m            \u001b[0mrow\u001b[0m \u001b[0;34m=\u001b[0m \u001b[0mtorch\u001b[0m\u001b[0;34m.\u001b[0m\u001b[0marange\u001b[0m\u001b[0;34m(\u001b[0m\u001b[0mfra_batch\u001b[0m\u001b[0;34m.\u001b[0m\u001b[0msize\u001b[0m\u001b[0;34m(\u001b[0m\u001b[0;36m0\u001b[0m\u001b[0;34m)\u001b[0m\u001b[0;34m,\u001b[0m \u001b[0mdevice\u001b[0m\u001b[0;34m=\u001b[0m\u001b[0mbatch\u001b[0m\u001b[0;34m.\u001b[0m\u001b[0mdevice\u001b[0m\u001b[0;34m)\u001b[0m\u001b[0;34m\u001b[0m\u001b[0;34m\u001b[0m\u001b[0m\n",
            "\u001b[0m\u001b[0;32m--> 157 \u001b[0;31m            \u001b[0mmol_fra_index\u001b[0m \u001b[0;34m=\u001b[0m \u001b[0mtorch\u001b[0m\u001b[0;34m.\u001b[0m\u001b[0mstack\u001b[0m\u001b[0;34m(\u001b[0m\u001b[0;34m[\u001b[0m\u001b[0mrow\u001b[0m\u001b[0;34m,\u001b[0m \u001b[0mfra_batch\u001b[0m\u001b[0;34m]\u001b[0m\u001b[0;34m,\u001b[0m \u001b[0mdim\u001b[0m\u001b[0;34m=\u001b[0m\u001b[0;36m0\u001b[0m\u001b[0;34m)\u001b[0m\u001b[0;34m\u001b[0m\u001b[0;34m\u001b[0m\u001b[0m\n",
            "\u001b[0m\u001b[0;32m    158 \u001b[0;31m            \u001b[0mfra_vec\u001b[0m \u001b[0;34m=\u001b[0m \u001b[0mself\u001b[0m\u001b[0;34m.\u001b[0m\u001b[0mcross_att\u001b[0m\u001b[0;34m(\u001b[0m\u001b[0;34m(\u001b[0m\u001b[0mfra_x\u001b[0m\u001b[0;34m,\u001b[0m \u001b[0mmol_vec\u001b[0m\u001b[0;34m)\u001b[0m\u001b[0;34m,\u001b[0m \u001b[0mmol_fra_index\u001b[0m\u001b[0;34m)\u001b[0m\u001b[0;34m.\u001b[0m\u001b[0mrelu_\u001b[0m\u001b[0;34m(\u001b[0m\u001b[0;34m)\u001b[0m\u001b[0;34m\u001b[0m\u001b[0;34m\u001b[0m\u001b[0m\n",
            "\u001b[0m\n",
            "ipdb> row\n",
            "tensor([ 0,  1,  2,  3,  4,  5,  6,  7,  8,  9, 10, 11, 12, 13, 14, 15, 16, 17,\n",
            "        18, 19, 20, 21, 22, 23, 24, 25, 26, 27, 28, 29, 30, 31, 32, 33, 34, 35,\n",
            "        36, 37, 38, 39, 40, 41, 42, 43, 44, 45, 46, 47, 48, 49, 50, 51, 52, 53,\n",
            "        54, 55, 56, 57, 58, 59, 60, 61, 62, 63, 64, 65, 66, 67, 68, 69, 70, 71,\n",
            "        72, 73, 74, 75, 76])\n",
            "ipdb> n\n",
            "> \u001b[0;32m/tmp/ipykernel_17458/2043465054.py\u001b[0m(158)\u001b[0;36mforward\u001b[0;34m()\u001b[0m\n",
            "\u001b[0;32m    157 \u001b[0;31m            \u001b[0mmol_fra_index\u001b[0m \u001b[0;34m=\u001b[0m \u001b[0mtorch\u001b[0m\u001b[0;34m.\u001b[0m\u001b[0mstack\u001b[0m\u001b[0;34m(\u001b[0m\u001b[0;34m[\u001b[0m\u001b[0mrow\u001b[0m\u001b[0;34m,\u001b[0m \u001b[0mfra_batch\u001b[0m\u001b[0;34m]\u001b[0m\u001b[0;34m,\u001b[0m \u001b[0mdim\u001b[0m\u001b[0;34m=\u001b[0m\u001b[0;36m0\u001b[0m\u001b[0;34m)\u001b[0m\u001b[0;34m\u001b[0m\u001b[0;34m\u001b[0m\u001b[0m\n",
            "\u001b[0m\u001b[0;32m--> 158 \u001b[0;31m            \u001b[0mfra_vec\u001b[0m \u001b[0;34m=\u001b[0m \u001b[0mself\u001b[0m\u001b[0;34m.\u001b[0m\u001b[0mcross_att\u001b[0m\u001b[0;34m(\u001b[0m\u001b[0;34m(\u001b[0m\u001b[0mfra_x\u001b[0m\u001b[0;34m,\u001b[0m \u001b[0mmol_vec\u001b[0m\u001b[0;34m)\u001b[0m\u001b[0;34m,\u001b[0m \u001b[0mmol_fra_index\u001b[0m\u001b[0;34m)\u001b[0m\u001b[0;34m.\u001b[0m\u001b[0mrelu_\u001b[0m\u001b[0;34m(\u001b[0m\u001b[0;34m)\u001b[0m\u001b[0;34m\u001b[0m\u001b[0;34m\u001b[0m\u001b[0m\n",
            "\u001b[0m\u001b[0;32m    159 \u001b[0;31m\u001b[0;34m\u001b[0m\u001b[0m\n",
            "\u001b[0m\n",
            "ipdb> mol_fra_index.shape\n",
            "torch.Size([2, 77])\n",
            "ipdb> mol_fra_index\n",
            "tensor([[ 0,  1,  2,  3,  4,  5,  6,  7,  8,  9, 10, 11, 12, 13, 14, 15, 16, 17,\n",
            "         18, 19, 20, 21, 22, 23, 24, 25, 26, 27, 28, 29, 30, 31, 32, 33, 34, 35,\n",
            "         36, 37, 38, 39, 40, 41, 42, 43, 44, 45, 46, 47, 48, 49, 50, 51, 52, 53,\n",
            "         54, 55, 56, 57, 58, 59, 60, 61, 62, 63, 64, 65, 66, 67, 68, 69, 70, 71,\n",
            "         72, 73, 74, 75, 76],\n",
            "        [ 0,  1,  1,  1,  2,  2,  2,  3,  4,  5,  6,  6,  6,  7,  7,  7,  8,  9,\n",
            "         10, 10, 11, 11, 11, 12, 13, 13, 13, 13, 13, 13, 13, 13, 14, 15, 15, 15,\n",
            "         16, 16, 16, 16, 17, 17, 18, 18, 19, 20, 20, 21, 22, 22, 22, 22, 22, 22,\n",
            "         23, 23, 24, 24, 24, 25, 25, 25, 25, 26, 26, 27, 28, 29, 30, 30, 30, 30,\n",
            "         30, 30, 31, 31, 31]])\n",
            "ipdb> fra_x.shape\n",
            "torch.Size([77, 64])\n",
            "ipdb> mol_vec.shape\n",
            "torch.Size([32, 64])\n",
            "ipdb> exit\n"
          ]
        }
      ]
    },
    {
      "cell_type": "code",
      "source": [
        "optimizer = torch.optim.Adam(model.parameters(), lr = 1e-02, weight_decay = 1e-02)\n",
        "criterion = torch.nn.MSELoss()\n",
        "model.to(device)\n",
        "\n",
        "def train():\n",
        "    model.train()\n",
        "    for data in train_loader:  # Iterate in batches over the training dataset.\n",
        "        data.to(device)\n",
        "        out = model(data)\n",
        "        # out = model(data.x, data.edge_index, data.batch)\n",
        "        loss = criterion(out, data.y)  # Compute the loss.\n",
        "        loss.backward()  # Derive gradients.\n",
        "        optimizer.step()  # Update parameters based on gradients.\n",
        "        optimizer.zero_grad()  # Clear gradients.\n",
        "\n",
        "def test(loader):\n",
        "    model.eval()\n",
        "    rmses = []\n",
        "    for data in loader:  # Iterate in batches over the training/test dataset.\n",
        "        data.to(device)\n",
        "        out = model(data)\n",
        "        out.squeeze()\n",
        "        rmse = torch.sqrt(torch.mean((out - data.y)**2))\n",
        "        rmses.append(rmse.item())\n",
        "    return np.mean(rmses)\n",
        "\n",
        "for epoch in range(1, 171):\n",
        "    train()\n",
        "    train_acc = test(train_loader)\n",
        "    test_acc = test(test_loader)\n",
        "    print(f'Epoch: {epoch:03d}, Train Acc: {train_acc:.4f}, Test Acc: {test_acc:.4f}')"
      ],
      "metadata": {
        "id": "f1njvzwoc-2q"
      },
      "execution_count": null,
      "outputs": []
    },
    {
      "cell_type": "markdown",
      "source": [
        "**OWN CODE EXPERIMENTS WITH ESOL DATASET**"
      ],
      "metadata": {
        "id": "FIxQsaMMHxwy"
      }
    },
    {
      "cell_type": "code",
      "source": [
        "device = torch.device('cuda' if torch.cuda.is_available() else 'cpu')"
      ],
      "metadata": {
        "id": "jNLl8fZCIVzC"
      },
      "execution_count": 48,
      "outputs": []
    },
    {
      "cell_type": "code",
      "source": [
        "def linear_layer(in_channels, out_channels):\n",
        "  return nn.Sequential(nn.Linear(in_channels, out_channels), \n",
        "                      nn.BatchNorm1d(out_channels),\n",
        "                      nn.LeakyReLU(1e-02))\n",
        "  \n",
        "def attn_heads(in_channels, out_channels):\n",
        "  return nn.Sequential(nn.Linear(in_channels, out_channels), nn.Tanh())\n",
        "\n",
        "class ResLayer(nn.Module):\n",
        "  def __init__(self, in_c, out_c):\n",
        "    super().__init__()\n",
        "    self.l1 = linear_layer(in_c, out_c)\n",
        "    self.l2 = linear_layer(out_c, out_c)\n",
        "    self.l3 = linear_layer(out_c, out_c)\n",
        "  \n",
        "  def forward(self, x):\n",
        "    x = self.l1(x)\n",
        "    return self.l3(self.l2(x)) + x"
      ],
      "metadata": {
        "id": "xrLdc8E6HDt6"
      },
      "execution_count": 49,
      "outputs": []
    },
    {
      "cell_type": "code",
      "source": [
        "class GATv2ConvEV2(MessagePassing):\n",
        "\n",
        "  def __init__(self, n_in, n_out, e_in, e_out):\n",
        "    super().__init__(aggr = 'add')\n",
        "    self.n_transform = ResLayer(n_in, n_out)\n",
        "    self.e_transform = ResLayer(e_in, e_out)\n",
        "\n",
        "    # Node\n",
        "    self.n_attn = attn_heads(2*n_out + e_out, 1)\n",
        "    self.e_attn = attn_heads(2*n_out + e_out, 1)\n",
        "    self.s_attn = attn_heads(2*n_out + e_out, 1)\n",
        "    self.n_message = ResLayer(e_out + 2*n_out , n_out)\n",
        "\n",
        "    # For Edge\n",
        "    self.n1_attn = ResLayer(e_out + 2*n_out, 1)\n",
        "    self.n2_attn = ResLayer(e_out + 2*n_out, 1)\n",
        "    self.s_e_attn = ResLayer(e_out + 2*n_out, 1)\n",
        "\n",
        "    # For Node Update\n",
        "    self.u_m_attn = attn_heads(2*n_out, 1)\n",
        "    self.u_s_attn = attn_heads(2*n_out, 1)\n",
        "    self.n_update = ResLayer(2*n_out, n_out)\n",
        "\n",
        "    self.e_update = ResLayer(e_out + 2*n_out, e_out)\n",
        "\n",
        "    self.n_in = n_in\n",
        "    self.n_out = n_out\n",
        "    self.e_in = e_in\n",
        "    self.e_out = e_out\n",
        "\n",
        "  def forward(self, x, edge_index, edge_attr):\n",
        "    # st()\n",
        "    x = self.n_transform(x)\n",
        "    edge_attr = self.e_transform(edge_attr)\n",
        "\n",
        "    node_features = self.propagate(edge_index, x = x, edge_attr = edge_attr)\n",
        "    edge_features = self.edge_updater(edge_index, x = x, edge_attr = edge_attr)\n",
        "\n",
        "    return node_features, edge_features\n",
        "  \n",
        "  def edge_update(self, edge_index, x_i, x_j, edge_attr):\n",
        "    # 2. Edge Message Calculation\n",
        "\n",
        "    input = torch.cat([x_i, x_j, edge_attr], dim = 1)\n",
        "    n1_attn = self.n1_attn(input)\n",
        "    n2_attn = self.n2_attn(input)\n",
        "    self_attn = self.s_e_attn(input)\n",
        "\n",
        "    edge_message = torch.cat([n1_attn*x_i, n2_attn*x_j, self_attn*edge_attr], dim = 1)\n",
        "    return self.e_update(edge_message) + edge_attr\n",
        "  \n",
        "  def message(self, x_i, x_j, edge_index, edge_attr):\n",
        "\n",
        "    input = torch.cat([x_i, x_j, edge_attr], dim = 1)\n",
        "    # 1. Node Message Calculation\n",
        "    \n",
        "    neighbour_attn = self.n_attn(input)\n",
        "    edge_attn = self.e_attn(input)\n",
        "    self_attn = self.s_attn(input)\n",
        "    \n",
        "    # 1.1 Attention Softmax\n",
        "    neighbour_attn = softmax(neighbour_attn, edge_index[0])\n",
        "    edge_attn = softmax(edge_attn, edge_index[0])\n",
        "    self_attn = softmax(self_attn, edge_index[0])\n",
        "\n",
        "    # 1.2 Gather the message\n",
        "    node_message = torch.cat([self_attn*x_i, neighbour_attn*x_j, edge_attn*edge_attr], dim = 1)\n",
        "\n",
        "    op = self.n_message(node_message)\n",
        "    return op\n",
        "  \n",
        "  def update(self, aggregated_output, x):\n",
        "    '''\n",
        "    input = aggregated_output || x\n",
        "    message_attn = msg_attn(input)\n",
        "    self_attn = self_attn(input)\n",
        "\n",
        "    h` = update(message_attn*aggregated_output || self_attn*x)\n",
        "    return h`\n",
        "    '''\n",
        "\n",
        "    input = torch.cat([aggregated_output, x], dim = 1)\n",
        "    m_attn = self.u_m_attn(input)\n",
        "    s_attn = self.u_s_attn(input)\n",
        "\n",
        "    return self.n_update(torch.cat([m_attn*aggregated_output, s_attn*x], dim = 1))\n",
        "  "
      ],
      "metadata": {
        "id": "3DrphAWmGyFi"
      },
      "execution_count": 79,
      "outputs": []
    },
    {
      "cell_type": "code",
      "source": [
        "class GATV2(torch.nn.Module):\n",
        "    def __init__(self, hidden_channels, dataset = train_dataset, regression = False):\n",
        "        super(GATV2, self).__init__()\n",
        "        torch.manual_seed(12345)\n",
        "        self.conv1 = GATv2ConvEV2(dataset.num_node_features, hidden_channels, dataset.num_edge_features, hidden_channels)\n",
        "        self.conv2 = GATv2ConvEV2(hidden_channels, hidden_channels, hidden_channels, hidden_channels)\n",
        "        self.conv3 = GATv2ConvEV2(hidden_channels, hidden_channels, hidden_channels, hidden_channels)\n",
        "        self.conv4 = GATv2ConvEV2(hidden_channels, hidden_channels, hidden_channels, hidden_channels)\n",
        "        self.regression = regression\n",
        "        if regression:\n",
        "          self.lin = nn.Sequential(nn.Linear(hidden_channels, 1))\n",
        "        else:\n",
        "          self.lin = ResLayer(hidden_channels, dataset.num_classes)  \n",
        "\n",
        "    def forward(self, x, edge_index, edge_attr, batch):\n",
        "        # 1. Obtain node embeddings \n",
        "        x, edge_attr = self.conv1(x, edge_index, edge_attr = edge_attr)\n",
        "        x, edge_attr = F.dropout(x, p = 0.4), F.dropout(edge_attr, p = 0.4)\n",
        "        x, edge_attr = self.conv2(x, edge_index, edge_attr = edge_attr)\n",
        "        x, edge_attr = F.dropout(x, p = 0.4), F.dropout(edge_attr, p = 0.4)\n",
        "        x, edge_attr = self.conv3(x, edge_index, edge_attr = edge_attr)\n",
        "        x, edge_attr = F.dropout(x, p = 0.4), F.dropout(edge_attr, p = 0.4)\n",
        "        x, edge_attr = self.conv4(x, edge_index, edge_attr = edge_attr)\n",
        "        x, edge_attr = F.dropout(x, p = 0.2), F.dropout(edge_attr, p = 0.2)\n",
        "       \n",
        "        # 2. Readout layer\n",
        "        x = global_mean_pool(x, batch)  # [batch_size, hidden_channels]\n",
        "\n",
        "        # 3. Apply a final classifier\n",
        "        x = F.dropout(x, p=0.2, training=self.training)\n",
        "        if self.regression:\n",
        "          x = self.lin(x)\n",
        "        else:\n",
        "          x = F.sigmoid(self.lin(x))\n",
        "\n",
        "        \n",
        "        return x\n",
        "\n",
        "\n",
        "# print(model)"
      ],
      "metadata": {
        "id": "7orw4kleHPvV"
      },
      "execution_count": 80,
      "outputs": []
    },
    {
      "cell_type": "code",
      "source": [
        "model = GATV2(hidden_channels=64, dataset= train_dataset, regression= True)\n",
        "optimizer = torch.optim.Adam(model.parameters(), lr = 1e-03, weight_decay = 1e-03)\n",
        "lr_scheduler = torch.optim.lr_scheduler.ReduceLROnPlateau(\n",
        "            optimizer,\n",
        "            mode = 'min',\n",
        "            factor = 0.7,\n",
        "            patience = 10,\n",
        "            min_lr = 1e-04\n",
        ")\n",
        "criterion = torch.nn.MSELoss()\n",
        "model.to(device)\n",
        "\n",
        "def train():\n",
        "    model.train()\n",
        "    train_losses = []\n",
        "    for data in train_loader:  # Iterate in batches over the training dataset.\n",
        "        data.to(device)\n",
        "        out = model(data.x, data.edge_index, data.edge_attr, data.batch)\n",
        "        # out = model(data.x, data.edge_index, data.batch)\n",
        "        loss = criterion(out, data.y)  # Compute the loss.\n",
        "        loss.backward()  # Derive gradients.\n",
        "        optimizer.step()  # Update parameters based on gradients.\n",
        "        optimizer.zero_grad()  # Clear gradients.\n",
        "        train_losses.append(loss.item())\n",
        "    \n",
        "    model.eval()\n",
        "    val_losses = []\n",
        "    with torch.no_grad():\n",
        "        for data in valid_loader:\n",
        "            data.to(device)\n",
        "            out = model(data.x, data.edge_index, data.edge_attr, data.batch)\n",
        "            loss = criterion(out, data.y)\n",
        "            val_losses.append(loss.item())\n",
        "        lr_scheduler.step(np.mean(val_losses))\n",
        "    \n",
        "    print(f'Train RMSE: {np.mean(np.sqrt(train_losses))}, Valid Losses: {np.mean(np.sqrt(val_losses))}')\n",
        "\n",
        "\n",
        "for epoch in range(1, 250):\n",
        "    train()"
      ],
      "metadata": {
        "colab": {
          "base_uri": "https://localhost:8080/"
        },
        "id": "jMhzCqeQHYpO",
        "outputId": "3031abf0-d975-40f3-d193-3dd4a9fe69dd"
      },
      "execution_count": 81,
      "outputs": [
        {
          "output_type": "stream",
          "name": "stdout",
          "text": [
            "Train RMSE: 2.993682006651612, Valid Losses: 2.4043797577130395\n",
            "Train RMSE: 1.9306624882965726, Valid Losses: 1.8005640091299697\n",
            "Train RMSE: 1.6296609466490886, Valid Losses: 1.560132269348957\n",
            "Train RMSE: 1.4475995749382655, Valid Losses: 1.3290248845744363\n",
            "Train RMSE: 1.3550906248505865, Valid Losses: 1.2019043465459558\n",
            "Train RMSE: 1.2838099278845816, Valid Losses: 1.178157868759243\n",
            "Train RMSE: 1.2672858836303853, Valid Losses: 1.1400192380227576\n",
            "Train RMSE: 1.2049269980777262, Valid Losses: 1.15298811139987\n",
            "Train RMSE: 1.1960482218903963, Valid Losses: 1.0377773682573859\n",
            "Train RMSE: 1.1744690118063388, Valid Losses: 0.9021600199427882\n",
            "Train RMSE: 1.1802060640661687, Valid Losses: 1.027458092201556\n",
            "Train RMSE: 1.158436339956698, Valid Losses: 1.0431835991560299\n",
            "Train RMSE: 1.0703587298060755, Valid Losses: 1.003836080413531\n",
            "Train RMSE: 1.0580781539759643, Valid Losses: 0.95708086569633\n",
            "Train RMSE: 1.0673692382232072, Valid Losses: 0.8761827983302257\n",
            "Train RMSE: 1.0324406109698159, Valid Losses: 0.9705622418295381\n",
            "Train RMSE: 1.124775745510115, Valid Losses: 0.902250062282819\n",
            "Train RMSE: 1.0239808406862942, Valid Losses: 0.8716060644102436\n",
            "Train RMSE: 1.0363173043068066, Valid Losses: 0.9096540789978493\n",
            "Train RMSE: 0.9945552710715463, Valid Losses: 0.9259326136570442\n",
            "Train RMSE: 0.9825309627024825, Valid Losses: 0.8854909067365271\n",
            "Train RMSE: 0.968580906491703, Valid Losses: 0.8960912824178121\n",
            "Train RMSE: 0.9518256509969375, Valid Losses: 1.0815178783328145\n",
            "Train RMSE: 1.0360680205908896, Valid Losses: 0.9514859339762439\n",
            "Train RMSE: 0.9941734767753958, Valid Losses: 0.8841799400824422\n",
            "Train RMSE: 0.9562710112749205, Valid Losses: 1.10168880420841\n",
            "Train RMSE: 0.9674720911565298, Valid Losses: 0.8851903329382849\n",
            "Train RMSE: 1.0302150478458971, Valid Losses: 0.9563880248638206\n",
            "Train RMSE: 1.0124710732006603, Valid Losses: 1.0377400899478184\n",
            "Train RMSE: 0.9639669109340648, Valid Losses: 0.9169109245560509\n",
            "Train RMSE: 0.958802132565806, Valid Losses: 0.8394890540464777\n",
            "Train RMSE: 0.9502977898789396, Valid Losses: 0.7998155965070666\n",
            "Train RMSE: 0.926745892525107, Valid Losses: 0.8153535571834882\n",
            "Train RMSE: 0.9578365848777949, Valid Losses: 0.8361047093040357\n",
            "Train RMSE: 0.9559282449585056, Valid Losses: 0.8684660153812069\n",
            "Train RMSE: 0.9825737149366734, Valid Losses: 0.8500575821377148\n",
            "Train RMSE: 0.937178494473826, Valid Losses: 1.0098305874999782\n",
            "Train RMSE: 0.9209083210570577, Valid Losses: 0.8249241966367677\n",
            "Train RMSE: 0.9814534744092546, Valid Losses: 0.8049277367007519\n",
            "Train RMSE: 0.8888841281443716, Valid Losses: 0.8315863651677721\n",
            "Train RMSE: 0.8815133425203163, Valid Losses: 0.8245144370157158\n",
            "Train RMSE: 0.9111581338022912, Valid Losses: 0.7378683201873009\n",
            "Train RMSE: 0.9384627698833209, Valid Losses: 0.7331313589727576\n",
            "Train RMSE: 0.9212886010158082, Valid Losses: 0.839862377349343\n",
            "Train RMSE: 0.957316435795594, Valid Losses: 0.8324335270844714\n",
            "Train RMSE: 0.899473772658087, Valid Losses: 0.7780809646262932\n",
            "Train RMSE: 0.9164819252638314, Valid Losses: 0.7975641573371332\n",
            "Train RMSE: 0.9900072529118079, Valid Losses: 0.836453295345315\n",
            "Train RMSE: 0.8987820221915958, Valid Losses: 0.8110998239610799\n",
            "Train RMSE: 0.861667916032611, Valid Losses: 0.7969361257141736\n",
            "Train RMSE: 0.8688030671347311, Valid Losses: 0.9059108664937756\n",
            "Train RMSE: 0.8587603780460888, Valid Losses: 0.8587218869075735\n",
            "Train RMSE: 0.8632301635573729, Valid Losses: 0.9489993368999398\n",
            "Train RMSE: 0.8859143603969127, Valid Losses: 0.7547522465951103\n",
            "Train RMSE: 0.8362331335592752, Valid Losses: 0.8436074339376899\n",
            "Train RMSE: 0.8364937359598804, Valid Losses: 0.6867511166717555\n",
            "Train RMSE: 0.8517298591413357, Valid Losses: 0.7558975924535768\n",
            "Train RMSE: 0.7900978684334388, Valid Losses: 0.6985138700776747\n",
            "Train RMSE: 0.8829872452898223, Valid Losses: 0.7654065248100108\n",
            "Train RMSE: 0.8586170648392601, Valid Losses: 0.7759708227337297\n",
            "Train RMSE: 0.8397400311074169, Valid Losses: 0.7664760307028855\n",
            "Train RMSE: 0.8233080718000556, Valid Losses: 0.7391804293708732\n",
            "Train RMSE: 0.8052483510924544, Valid Losses: 0.7046557957421814\n",
            "Train RMSE: 0.8436674113654082, Valid Losses: 0.712470403150294\n",
            "Train RMSE: 0.8367783013215278, Valid Losses: 0.7523720747593291\n",
            "Train RMSE: 0.7966119566945161, Valid Losses: 0.7234952651223241\n",
            "Train RMSE: 0.8216605718991327, Valid Losses: 0.7491488555212862\n",
            "Train RMSE: 0.8198445870078003, Valid Losses: 0.7415350944720333\n",
            "Train RMSE: 0.8001279012189452, Valid Losses: 0.7327550589591523\n",
            "Train RMSE: 0.762215831127921, Valid Losses: 0.7622376164452545\n",
            "Train RMSE: 0.8151099493363845, Valid Losses: 0.7048141038097241\n",
            "Train RMSE: 0.773250513080851, Valid Losses: 0.7265248531846547\n",
            "Train RMSE: 0.775475568441389, Valid Losses: 0.6837755333687786\n",
            "Train RMSE: 0.8268490003192062, Valid Losses: 0.7279411459612349\n",
            "Train RMSE: 0.7873425499700385, Valid Losses: 0.6988762244920037\n",
            "Train RMSE: 0.7898499483216808, Valid Losses: 0.6842957506834357\n",
            "Train RMSE: 0.7818122355752509, Valid Losses: 0.670018249269758\n",
            "Train RMSE: 0.7638357016098117, Valid Losses: 0.7013447340766241\n",
            "Train RMSE: 0.7664675825255012, Valid Losses: 0.7201081868209647\n",
            "Train RMSE: 0.7878982740248781, Valid Losses: 0.7183701052022471\n",
            "Train RMSE: 0.7535447435729431, Valid Losses: 0.6931512141396072\n",
            "Train RMSE: 0.7886710152259973, Valid Losses: 0.7068252075750839\n",
            "Train RMSE: 0.7953295220830937, Valid Losses: 0.7210882452277383\n",
            "Train RMSE: 0.7405312504275432, Valid Losses: 0.731710176091454\n",
            "Train RMSE: 0.7768804099877812, Valid Losses: 0.6873861862058803\n",
            "Train RMSE: 0.8270621281636181, Valid Losses: 0.7012891293078167\n",
            "Train RMSE: 0.7909244286684245, Valid Losses: 0.6724804294227997\n",
            "Train RMSE: 0.7918363111643656, Valid Losses: 0.7452939242461333\n",
            "Train RMSE: 0.7768504597877041, Valid Losses: 0.7028822521893192\n",
            "Train RMSE: 0.7859458268111539, Valid Losses: 0.7768549708100901\n",
            "Train RMSE: 0.7582234061197736, Valid Losses: 0.688530114962243\n",
            "Train RMSE: 0.7201653872201838, Valid Losses: 0.6183625313790718\n",
            "Train RMSE: 0.7183977379739852, Valid Losses: 0.6964637764622558\n",
            "Train RMSE: 0.7625413548203346, Valid Losses: 0.6580211083703824\n",
            "Train RMSE: 0.7993027465350413, Valid Losses: 0.6961530519301627\n",
            "Train RMSE: 0.7350227291612336, Valid Losses: 0.6509180257586613\n",
            "Train RMSE: 0.7564791837699375, Valid Losses: 0.6472910475753865\n",
            "Train RMSE: 0.7547892603195704, Valid Losses: 0.6820399823512526\n",
            "Train RMSE: 0.7265600013000575, Valid Losses: 0.7480355518410962\n",
            "Train RMSE: 0.7681973042551161, Valid Losses: 0.6820803506924329\n",
            "Train RMSE: 0.7343850097179041, Valid Losses: 0.7057563808042528\n",
            "Train RMSE: 0.7428292466556584, Valid Losses: 0.6871633673154359\n",
            "Train RMSE: 0.6922095215120417, Valid Losses: 0.6642546924289882\n",
            "Train RMSE: 0.7534837460928979, Valid Losses: 0.6651245682585537\n",
            "Train RMSE: 0.7274458867180608, Valid Losses: 0.6714241209236269\n",
            "Train RMSE: 0.694079263024035, Valid Losses: 0.7063563659153393\n",
            "Train RMSE: 0.7319043854079194, Valid Losses: 0.6746744034853963\n",
            "Train RMSE: 0.6916932804147756, Valid Losses: 0.6507032361376037\n",
            "Train RMSE: 0.7704087353439723, Valid Losses: 0.7237253490843681\n",
            "Train RMSE: 0.7430481950552277, Valid Losses: 0.6354079456698255\n",
            "Train RMSE: 0.7508778857493108, Valid Losses: 0.6555198819105824\n",
            "Train RMSE: 0.740056088035371, Valid Losses: 0.6415968739714676\n",
            "Train RMSE: 0.7370878533424242, Valid Losses: 0.6637585237452033\n",
            "Train RMSE: 0.7169736778789881, Valid Losses: 0.659899840662683\n",
            "Train RMSE: 0.7391429100452452, Valid Losses: 0.6349242611460774\n",
            "Train RMSE: 0.6840248893977765, Valid Losses: 0.6198660971427985\n",
            "Train RMSE: 0.7178275094553668, Valid Losses: 0.6413743297075485\n",
            "Train RMSE: 0.7134381528343086, Valid Losses: 0.6079378439224338\n",
            "Train RMSE: 0.7240359959451368, Valid Losses: 0.704282029477622\n",
            "Train RMSE: 0.72777589114441, Valid Losses: 0.659266764234138\n",
            "Train RMSE: 0.7053730829469503, Valid Losses: 0.6360289145268048\n",
            "Train RMSE: 0.7035165927784074, Valid Losses: 0.6620019685044698\n",
            "Train RMSE: 0.6598440801698892, Valid Losses: 0.650803073792256\n",
            "Train RMSE: 0.652121074195697, Valid Losses: 0.6782734032051017\n",
            "Train RMSE: 0.7040836345288678, Valid Losses: 0.6399571610515209\n",
            "Train RMSE: 0.7074623907233348, Valid Losses: 0.6421226606274117\n",
            "Train RMSE: 0.7032354468533468, Valid Losses: 0.6298543052180607\n",
            "Train RMSE: 0.6826516871215719, Valid Losses: 0.6420007277920143\n",
            "Train RMSE: 0.7058669340083991, Valid Losses: 0.6334391111884679\n",
            "Train RMSE: 0.6558047749774251, Valid Losses: 0.6199992908827051\n",
            "Train RMSE: 0.6767367713575966, Valid Losses: 0.6381539366099425\n",
            "Train RMSE: 0.7181421955871483, Valid Losses: 0.627119680292076\n",
            "Train RMSE: 0.7201756759365511, Valid Losses: 0.6719636347463254\n",
            "Train RMSE: 0.7346862036751104, Valid Losses: 0.7025285014770281\n",
            "Train RMSE: 0.7355392878799675, Valid Losses: 0.6108081029308126\n",
            "Train RMSE: 0.6692359259785202, Valid Losses: 0.6872171402725981\n",
            "Train RMSE: 0.6991508628814621, Valid Losses: 0.7001757514986109\n",
            "Train RMSE: 0.7616851700563456, Valid Losses: 0.6000945967907015\n",
            "Train RMSE: 0.7243600691576226, Valid Losses: 0.6701453807290347\n",
            "Train RMSE: 0.6726591108107833, Valid Losses: 0.6511768282020024\n",
            "Train RMSE: 0.6711342308452026, Valid Losses: 0.6310376204600645\n",
            "Train RMSE: 0.6847956933604059, Valid Losses: 0.7075279186623058\n",
            "Train RMSE: 0.6480822281136907, Valid Losses: 0.6463269159775495\n",
            "Train RMSE: 0.6988162313860896, Valid Losses: 0.6590337268246884\n",
            "Train RMSE: 0.6426164976615953, Valid Losses: 0.670695567671647\n",
            "Train RMSE: 0.6501254925663096, Valid Losses: 0.6858473806177141\n",
            "Train RMSE: 0.6887900872819036, Valid Losses: 0.7061071648353086\n",
            "Train RMSE: 0.7197870894738989, Valid Losses: 0.6206628082761866\n",
            "Train RMSE: 0.6878133148990446, Valid Losses: 0.6319833819115857\n",
            "Train RMSE: 0.654270649291185, Valid Losses: 0.6394669503968724\n",
            "Train RMSE: 0.7270741276376055, Valid Losses: 0.5880116808419706\n",
            "Train RMSE: 0.6864374581564793, Valid Losses: 0.6039924922319627\n",
            "Train RMSE: 0.6731802474979356, Valid Losses: 0.6006582873887844\n",
            "Train RMSE: 0.6573495381050998, Valid Losses: 0.6211306967235155\n",
            "Train RMSE: 0.681054155313159, Valid Losses: 0.6401376948714007\n",
            "Train RMSE: 0.7328862040682131, Valid Losses: 0.6158355641863325\n",
            "Train RMSE: 0.6699406568559347, Valid Losses: 0.6234483590108783\n",
            "Train RMSE: 0.6975215301580112, Valid Losses: 0.6243795064571518\n",
            "Train RMSE: 0.6437619283207909, Valid Losses: 0.6470052592994369\n",
            "Train RMSE: 0.6818579160844418, Valid Losses: 0.5657313987391586\n",
            "Train RMSE: 0.6682132463895724, Valid Losses: 0.6252843703741195\n",
            "Train RMSE: 0.6566518940084407, Valid Losses: 0.6586287160017926\n",
            "Train RMSE: 0.6613782366102989, Valid Losses: 0.6484077907567729\n",
            "Train RMSE: 0.6440774321467297, Valid Losses: 0.6279555745444203\n",
            "Train RMSE: 0.6665705185363101, Valid Losses: 0.6337425131551101\n",
            "Train RMSE: 0.6990289722724528, Valid Losses: 0.6302048436960965\n",
            "Train RMSE: 0.6554400061763614, Valid Losses: 0.6533517281567424\n",
            "Train RMSE: 0.7385900500513237, Valid Losses: 0.6181488035805484\n",
            "Train RMSE: 0.6842865005322329, Valid Losses: 0.6291254454238608\n",
            "Train RMSE: 0.6724126577214489, Valid Losses: 0.5767631129527033\n",
            "Train RMSE: 0.6533781258767936, Valid Losses: 0.6053194744698747\n",
            "Train RMSE: 0.7143740497312785, Valid Losses: 0.6392854831326968\n",
            "Train RMSE: 0.6276234800293918, Valid Losses: 0.5907335532670784\n",
            "Train RMSE: 0.622461879337006, Valid Losses: 0.5851229871268832\n",
            "Train RMSE: 0.6637814900502248, Valid Losses: 0.62487656736974\n",
            "Train RMSE: 0.6644765749177719, Valid Losses: 0.6200283420713572\n",
            "Train RMSE: 0.6272772189787775, Valid Losses: 0.6102784981417197\n",
            "Train RMSE: 0.6746637406267355, Valid Losses: 0.5875863647641927\n",
            "Train RMSE: 0.6766936489077124, Valid Losses: 0.6263304034115031\n",
            "Train RMSE: 0.6761392292252135, Valid Losses: 0.6427372975134109\n",
            "Train RMSE: 0.6370031931606034, Valid Losses: 0.6212900958445507\n",
            "Train RMSE: 0.670396294692812, Valid Losses: 0.5970679432395725\n",
            "Train RMSE: 0.6502535832184497, Valid Losses: 0.5979307181374076\n",
            "Train RMSE: 0.6951925522293771, Valid Losses: 0.6685201824075754\n",
            "Train RMSE: 0.6514457502663065, Valid Losses: 0.6369217767591635\n",
            "Train RMSE: 0.6520310408789145, Valid Losses: 0.619756956851845\n",
            "Train RMSE: 0.6571484416288123, Valid Losses: 0.6747194339379554\n",
            "Train RMSE: 0.6578076454668482, Valid Losses: 0.6169562110792121\n",
            "Train RMSE: 0.6845496021230871, Valid Losses: 0.6218557842527415\n",
            "Train RMSE: 0.6454297791566621, Valid Losses: 0.7465737743995433\n",
            "Train RMSE: 0.6407808660766251, Valid Losses: 0.668074639614568\n",
            "Train RMSE: 0.6392491397879803, Valid Losses: 0.6517873133470236\n",
            "Train RMSE: 0.6692955424124887, Valid Losses: 0.6578861858805617\n",
            "Train RMSE: 0.6728386409720227, Valid Losses: 0.6577604465163363\n",
            "Train RMSE: 0.7225724932034929, Valid Losses: 0.7073850832380428\n",
            "Train RMSE: 0.6609573258200931, Valid Losses: 0.7097697199974182\n",
            "Train RMSE: 0.6636338622910332, Valid Losses: 0.6315399874576417\n",
            "Train RMSE: 0.6270157427638783, Valid Losses: 0.685835058030334\n",
            "Train RMSE: 0.6824499859159417, Valid Losses: 0.6537620088116214\n",
            "Train RMSE: 0.6570470533647417, Valid Losses: 0.660164422218883\n",
            "Train RMSE: 0.6730225855319554, Valid Losses: 0.626085289448797\n",
            "Train RMSE: 0.6351277353764301, Valid Losses: 0.6663995747924499\n",
            "Train RMSE: 0.6417994033267848, Valid Losses: 0.6941356755477919\n",
            "Train RMSE: 0.667864902234359, Valid Losses: 0.6652915625169231\n",
            "Train RMSE: 0.63838095094128, Valid Losses: 0.6492286514133971\n",
            "Train RMSE: 0.6731565654236895, Valid Losses: 0.6349180223167304\n",
            "Train RMSE: 0.6191785951314203, Valid Losses: 0.6780234886275991\n",
            "Train RMSE: 0.6522734347862303, Valid Losses: 0.6931561851229603\n",
            "Train RMSE: 0.6608917618661748, Valid Losses: 0.6724565134075249\n",
            "Train RMSE: 0.6280681444855025, Valid Losses: 0.6153110263894326\n",
            "Train RMSE: 0.6266401436508161, Valid Losses: 0.6381192204441699\n",
            "Train RMSE: 0.6385245860642769, Valid Losses: 0.6724157293531232\n",
            "Train RMSE: 0.6741369730708359, Valid Losses: 0.6760056791151221\n",
            "Train RMSE: 0.6360009764013947, Valid Losses: 0.6426470034365197\n",
            "Train RMSE: 0.6687511426824525, Valid Losses: 0.6678209150294346\n",
            "Train RMSE: 0.6404402626693626, Valid Losses: 0.7282234572486301\n",
            "Train RMSE: 0.6601416050523178, Valid Losses: 0.6017170670971502\n",
            "Train RMSE: 0.6417871373884518, Valid Losses: 0.6750538412151795\n",
            "Train RMSE: 0.6265516832345737, Valid Losses: 0.5953325890084255\n",
            "Train RMSE: 0.6075931204779695, Valid Losses: 0.6183317646616745\n",
            "Train RMSE: 0.6198809208493699, Valid Losses: 0.6487050390031567\n",
            "Train RMSE: 0.6340671666036466, Valid Losses: 0.6291781976136605\n",
            "Train RMSE: 0.6559062447948376, Valid Losses: 0.6239440238343195\n",
            "Train RMSE: 0.6150755004408994, Valid Losses: 0.7433547483277283\n",
            "Train RMSE: 0.5848484943863093, Valid Losses: 0.6326084354701037\n",
            "Train RMSE: 0.6441460378826537, Valid Losses: 0.6165337554007273\n",
            "Train RMSE: 0.629243164465062, Valid Losses: 0.7329603394673715\n",
            "Train RMSE: 0.6901184887388917, Valid Losses: 0.6166724931346178\n",
            "Train RMSE: 0.618284568285811, Valid Losses: 0.658057700431016\n",
            "Train RMSE: 0.6268767207492992, Valid Losses: 0.6130881766563727\n",
            "Train RMSE: 0.683914221435974, Valid Losses: 0.6379445647050676\n",
            "Train RMSE: 0.6337814861275194, Valid Losses: 0.6251916866611925\n",
            "Train RMSE: 0.6333828784621977, Valid Losses: 0.6049020111763699\n",
            "Train RMSE: 0.649788010864762, Valid Losses: 0.6567402577314523\n",
            "Train RMSE: 0.645463676542634, Valid Losses: 0.6019086591239137\n",
            "Train RMSE: 0.6475069180943044, Valid Losses: 0.6188335992640777\n",
            "Train RMSE: 0.6344213811103274, Valid Losses: 0.6136396359066891\n",
            "Train RMSE: 0.6221028405390917, Valid Losses: 0.5967997761627679\n",
            "Train RMSE: 0.6829259075754934, Valid Losses: 0.6972260081194618\n",
            "Train RMSE: 0.6106023861796901, Valid Losses: 0.6048218840830979\n",
            "Train RMSE: 0.645206830523588, Valid Losses: 0.6252406539374202\n",
            "Train RMSE: 0.6039231244160842, Valid Losses: 0.6461972528171535\n",
            "Train RMSE: 0.6598423929931367, Valid Losses: 0.6222658535612158\n",
            "Train RMSE: 0.6586023193429189, Valid Losses: 0.6473482659173955\n",
            "Train RMSE: 0.6200932852898715, Valid Losses: 0.6198084779772668\n",
            "Train RMSE: 0.6522542299263105, Valid Losses: 0.672222915846159\n",
            "Train RMSE: 0.5922358702574408, Valid Losses: 0.6142719977065053\n",
            "Train RMSE: 0.6070932965968777, Valid Losses: 0.657206133986238\n",
            "Train RMSE: 0.6171047022056914, Valid Losses: 0.6672649790622267\n"
          ]
        }
      ]
    },
    {
      "cell_type": "code",
      "source": [
        "len(train_loader)"
      ],
      "metadata": {
        "colab": {
          "base_uri": "https://localhost:8080/"
        },
        "id": "xZOgRUVjKTo8",
        "outputId": "0d3e0f04-d9a1-47bf-8bad-b218cca13f80"
      },
      "execution_count": 33,
      "outputs": [
        {
          "output_type": "execute_result",
          "data": {
            "text/plain": [
              "29"
            ]
          },
          "metadata": {},
          "execution_count": 33
        }
      ]
    },
    {
      "cell_type": "markdown",
      "source": [
        "**One CYCLE LR**"
      ],
      "metadata": {
        "id": "GYqnhBcjj28v"
      }
    },
    {
      "cell_type": "code",
      "source": [
        "model = GATV2(hidden_channels=64, dataset= train_dataset, regression= True)\n",
        "optimizer = torch.optim.Adam(model.parameters(), lr = 1e-03, weight_decay = 1e-03)\n",
        "lr_scheduler = torch.optim.lr_scheduler.OneCycleLR(optimizer,\n",
        "                                                   max_lr = 1e-03, \n",
        "                                                  epochs = 250, \n",
        "                                                  steps_per_epoch = 29)"
      ],
      "metadata": {
        "id": "KoT8EpKKj0Lz"
      },
      "execution_count": 37,
      "outputs": []
    },
    {
      "cell_type": "code",
      "source": [
        "model = GATV2(hidden_channels=64, dataset= train_dataset, regression= True)\n",
        "optimizer = torch.optim.Adam(model.parameters(), lr = 1e-03, weight_decay = 1e-03)\n",
        "lr_scheduler = torch.optim.lr_scheduler.OneCycleLR(optimizer,\n",
        "                                                   max_lr = 1e-03, \n",
        "                                                  epochs = 250, \n",
        "                                                  steps_per_epoch = 29)\n",
        "criterion = torch.nn.MSELoss()\n",
        "model.to(device)\n",
        "\n",
        "def train():\n",
        "    model.train()\n",
        "    train_losses = []\n",
        "    for data in train_loader:  # Iterate in batches over the training dataset.\n",
        "        data.to(device)\n",
        "        out = model(data.x, data.edge_index, data.edge_attr, data.batch)\n",
        "        # out = model(data.x, data.edge_index, data.batch)\n",
        "        loss = criterion(out, data.y)  # Compute the loss.\n",
        "        loss.backward()  # Derive gradients.\n",
        "        optimizer.step()  # Update parameters based on gradients.\n",
        "        optimizer.zero_grad()  # Clear gradients.\n",
        "        train_losses.append(loss.item())\n",
        "        lr_scheduler.step()\n",
        "    \n",
        "    model.eval()\n",
        "    val_losses = []\n",
        "    with torch.no_grad():\n",
        "        for data in valid_loader:\n",
        "            data.to(device)\n",
        "            out = model(data.x, data.edge_index, data.edge_attr, data.batch)\n",
        "            loss = criterion(out, data.y)\n",
        "            val_losses.append(loss.item())\n",
        "    \n",
        "    return np.mean(np.sqrt(train_losses)), np.mean(np.sqrt(val_losses))\n",
        "    \n",
        "\n",
        "\n",
        "for epoch in range(1, 250):\n",
        "    train_loss , valid_loss = train()\n",
        "    print(f'Epoch: {epoch} - Train RMSE: {train_loss:.3f}, Valid RMSE: {valid_loss:.3f}')"
      ],
      "metadata": {
        "colab": {
          "base_uri": "https://localhost:8080/"
        },
        "id": "w5xbTARbkbQH",
        "outputId": "33805507-1da7-45fd-eb40-40b46b27fb8f"
      },
      "execution_count": 39,
      "outputs": [
        {
          "output_type": "stream",
          "name": "stdout",
          "text": [
            "Epoch: 1 - Train RMSE: 3.537, Valid RMSE: 3.532\n",
            "Epoch: 2 - Train RMSE: 3.481, Valid RMSE: 3.412\n",
            "Epoch: 3 - Train RMSE: 3.369, Valid RMSE: 3.360\n",
            "Epoch: 4 - Train RMSE: 3.367, Valid RMSE: 3.348\n",
            "Epoch: 5 - Train RMSE: 3.295, Valid RMSE: 3.378\n",
            "Epoch: 6 - Train RMSE: 3.199, Valid RMSE: 3.334\n",
            "Epoch: 7 - Train RMSE: 3.117, Valid RMSE: 3.426\n",
            "Epoch: 8 - Train RMSE: 3.043, Valid RMSE: 3.460\n",
            "Epoch: 9 - Train RMSE: 2.960, Valid RMSE: 3.281\n",
            "Epoch: 10 - Train RMSE: 2.872, Valid RMSE: 3.311\n",
            "Epoch: 11 - Train RMSE: 2.757, Valid RMSE: 3.195\n",
            "Epoch: 12 - Train RMSE: 2.645, Valid RMSE: 3.146\n",
            "Epoch: 13 - Train RMSE: 2.538, Valid RMSE: 3.111\n",
            "Epoch: 14 - Train RMSE: 2.486, Valid RMSE: 3.036\n",
            "Epoch: 15 - Train RMSE: 2.336, Valid RMSE: 2.927\n",
            "Epoch: 16 - Train RMSE: 2.175, Valid RMSE: 2.811\n",
            "Epoch: 17 - Train RMSE: 2.119, Valid RMSE: 2.728\n",
            "Epoch: 18 - Train RMSE: 2.005, Valid RMSE: 2.525\n",
            "Epoch: 19 - Train RMSE: 1.870, Valid RMSE: 2.451\n",
            "Epoch: 20 - Train RMSE: 1.775, Valid RMSE: 2.377\n",
            "Epoch: 21 - Train RMSE: 1.671, Valid RMSE: 2.433\n",
            "Epoch: 22 - Train RMSE: 1.542, Valid RMSE: 2.188\n",
            "Epoch: 23 - Train RMSE: 1.507, Valid RMSE: 2.018\n",
            "Epoch: 24 - Train RMSE: 1.401, Valid RMSE: 1.763\n",
            "Epoch: 25 - Train RMSE: 1.333, Valid RMSE: 1.702\n",
            "Epoch: 26 - Train RMSE: 1.296, Valid RMSE: 1.426\n",
            "Epoch: 27 - Train RMSE: 1.377, Valid RMSE: 1.447\n",
            "Epoch: 28 - Train RMSE: 1.281, Valid RMSE: 1.809\n",
            "Epoch: 29 - Train RMSE: 1.246, Valid RMSE: 1.239\n",
            "Epoch: 30 - Train RMSE: 1.248, Valid RMSE: 1.229\n",
            "Epoch: 31 - Train RMSE: 1.253, Valid RMSE: 1.377\n",
            "Epoch: 32 - Train RMSE: 1.179, Valid RMSE: 1.287\n",
            "Epoch: 33 - Train RMSE: 1.159, Valid RMSE: 1.192\n",
            "Epoch: 34 - Train RMSE: 1.140, Valid RMSE: 1.143\n",
            "Epoch: 35 - Train RMSE: 1.173, Valid RMSE: 1.201\n",
            "Epoch: 36 - Train RMSE: 1.134, Valid RMSE: 1.154\n",
            "Epoch: 37 - Train RMSE: 1.086, Valid RMSE: 1.251\n",
            "Epoch: 38 - Train RMSE: 1.132, Valid RMSE: 1.283\n",
            "Epoch: 39 - Train RMSE: 1.067, Valid RMSE: 0.896\n",
            "Epoch: 40 - Train RMSE: 1.037, Valid RMSE: 1.402\n",
            "Epoch: 41 - Train RMSE: 1.061, Valid RMSE: 1.427\n",
            "Epoch: 42 - Train RMSE: 1.125, Valid RMSE: 1.077\n",
            "Epoch: 43 - Train RMSE: 1.094, Valid RMSE: 1.139\n",
            "Epoch: 44 - Train RMSE: 1.104, Valid RMSE: 0.993\n",
            "Epoch: 45 - Train RMSE: 1.010, Valid RMSE: 1.032\n",
            "Epoch: 46 - Train RMSE: 1.090, Valid RMSE: 1.236\n",
            "Epoch: 47 - Train RMSE: 1.108, Valid RMSE: 1.429\n",
            "Epoch: 48 - Train RMSE: 1.058, Valid RMSE: 1.862\n",
            "Epoch: 49 - Train RMSE: 1.028, Valid RMSE: 0.988\n",
            "Epoch: 50 - Train RMSE: 0.993, Valid RMSE: 1.313\n",
            "Epoch: 51 - Train RMSE: 0.962, Valid RMSE: 0.984\n",
            "Epoch: 52 - Train RMSE: 0.994, Valid RMSE: 0.930\n",
            "Epoch: 53 - Train RMSE: 0.957, Valid RMSE: 1.107\n",
            "Epoch: 54 - Train RMSE: 0.988, Valid RMSE: 1.021\n",
            "Epoch: 55 - Train RMSE: 0.984, Valid RMSE: 1.688\n",
            "Epoch: 56 - Train RMSE: 1.004, Valid RMSE: 0.974\n",
            "Epoch: 57 - Train RMSE: 0.917, Valid RMSE: 0.983\n",
            "Epoch: 58 - Train RMSE: 0.995, Valid RMSE: 1.086\n",
            "Epoch: 59 - Train RMSE: 0.944, Valid RMSE: 0.977\n",
            "Epoch: 60 - Train RMSE: 0.939, Valid RMSE: 1.216\n",
            "Epoch: 61 - Train RMSE: 0.940, Valid RMSE: 1.405\n",
            "Epoch: 62 - Train RMSE: 0.959, Valid RMSE: 1.007\n",
            "Epoch: 63 - Train RMSE: 0.969, Valid RMSE: 0.823\n",
            "Epoch: 64 - Train RMSE: 0.896, Valid RMSE: 0.877\n",
            "Epoch: 65 - Train RMSE: 0.917, Valid RMSE: 1.168\n",
            "Epoch: 66 - Train RMSE: 0.940, Valid RMSE: 0.906\n",
            "Epoch: 67 - Train RMSE: 0.927, Valid RMSE: 1.784\n",
            "Epoch: 68 - Train RMSE: 0.935, Valid RMSE: 0.876\n",
            "Epoch: 69 - Train RMSE: 0.853, Valid RMSE: 0.878\n",
            "Epoch: 70 - Train RMSE: 0.903, Valid RMSE: 1.858\n",
            "Epoch: 71 - Train RMSE: 0.904, Valid RMSE: 1.150\n",
            "Epoch: 72 - Train RMSE: 0.919, Valid RMSE: 0.905\n",
            "Epoch: 73 - Train RMSE: 0.941, Valid RMSE: 0.948\n",
            "Epoch: 74 - Train RMSE: 0.915, Valid RMSE: 0.815\n",
            "Epoch: 75 - Train RMSE: 0.879, Valid RMSE: 0.903\n",
            "Epoch: 76 - Train RMSE: 0.908, Valid RMSE: 0.957\n",
            "Epoch: 77 - Train RMSE: 0.862, Valid RMSE: 1.057\n",
            "Epoch: 78 - Train RMSE: 0.848, Valid RMSE: 0.898\n",
            "Epoch: 79 - Train RMSE: 0.878, Valid RMSE: 0.852\n",
            "Epoch: 80 - Train RMSE: 0.874, Valid RMSE: 1.088\n",
            "Epoch: 81 - Train RMSE: 0.874, Valid RMSE: 0.925\n",
            "Epoch: 82 - Train RMSE: 0.881, Valid RMSE: 0.909\n",
            "Epoch: 83 - Train RMSE: 0.859, Valid RMSE: 1.821\n",
            "Epoch: 84 - Train RMSE: 0.874, Valid RMSE: 0.869\n",
            "Epoch: 85 - Train RMSE: 0.903, Valid RMSE: 1.190\n",
            "Epoch: 86 - Train RMSE: 0.889, Valid RMSE: 1.136\n",
            "Epoch: 87 - Train RMSE: 0.886, Valid RMSE: 2.183\n",
            "Epoch: 88 - Train RMSE: 0.852, Valid RMSE: 0.879\n",
            "Epoch: 89 - Train RMSE: 0.894, Valid RMSE: 1.168\n",
            "Epoch: 90 - Train RMSE: 0.857, Valid RMSE: 0.812\n",
            "Epoch: 91 - Train RMSE: 0.782, Valid RMSE: 0.969\n",
            "Epoch: 92 - Train RMSE: 0.795, Valid RMSE: 1.080\n",
            "Epoch: 93 - Train RMSE: 0.859, Valid RMSE: 0.849\n",
            "Epoch: 94 - Train RMSE: 0.871, Valid RMSE: 1.165\n",
            "Epoch: 95 - Train RMSE: 0.840, Valid RMSE: 1.143\n",
            "Epoch: 96 - Train RMSE: 0.831, Valid RMSE: 0.803\n",
            "Epoch: 97 - Train RMSE: 0.817, Valid RMSE: 0.866\n",
            "Epoch: 98 - Train RMSE: 0.819, Valid RMSE: 0.863\n",
            "Epoch: 99 - Train RMSE: 0.862, Valid RMSE: 0.935\n",
            "Epoch: 100 - Train RMSE: 0.819, Valid RMSE: 2.123\n",
            "Epoch: 101 - Train RMSE: 0.795, Valid RMSE: 0.772\n",
            "Epoch: 102 - Train RMSE: 0.771, Valid RMSE: 2.564\n",
            "Epoch: 103 - Train RMSE: 0.837, Valid RMSE: 0.933\n",
            "Epoch: 104 - Train RMSE: 0.849, Valid RMSE: 0.830\n",
            "Epoch: 105 - Train RMSE: 0.768, Valid RMSE: 0.738\n",
            "Epoch: 106 - Train RMSE: 0.802, Valid RMSE: 1.050\n",
            "Epoch: 107 - Train RMSE: 0.861, Valid RMSE: 0.809\n",
            "Epoch: 108 - Train RMSE: 0.888, Valid RMSE: 1.133\n",
            "Epoch: 109 - Train RMSE: 0.833, Valid RMSE: 0.809\n",
            "Epoch: 110 - Train RMSE: 0.848, Valid RMSE: 0.862\n",
            "Epoch: 111 - Train RMSE: 0.843, Valid RMSE: 0.962\n",
            "Epoch: 112 - Train RMSE: 0.832, Valid RMSE: 1.004\n",
            "Epoch: 113 - Train RMSE: 0.779, Valid RMSE: 0.881\n",
            "Epoch: 114 - Train RMSE: 0.790, Valid RMSE: 0.956\n",
            "Epoch: 115 - Train RMSE: 0.755, Valid RMSE: 0.761\n",
            "Epoch: 116 - Train RMSE: 0.771, Valid RMSE: 0.860\n",
            "Epoch: 117 - Train RMSE: 0.796, Valid RMSE: 0.812\n",
            "Epoch: 118 - Train RMSE: 0.813, Valid RMSE: 1.169\n",
            "Epoch: 119 - Train RMSE: 0.827, Valid RMSE: 0.749\n",
            "Epoch: 120 - Train RMSE: 0.785, Valid RMSE: 1.436\n",
            "Epoch: 121 - Train RMSE: 0.785, Valid RMSE: 0.774\n",
            "Epoch: 122 - Train RMSE: 0.745, Valid RMSE: 0.952\n",
            "Epoch: 123 - Train RMSE: 0.721, Valid RMSE: 0.825\n",
            "Epoch: 124 - Train RMSE: 0.736, Valid RMSE: 0.760\n",
            "Epoch: 125 - Train RMSE: 0.758, Valid RMSE: 1.325\n",
            "Epoch: 126 - Train RMSE: 0.775, Valid RMSE: 1.552\n",
            "Epoch: 127 - Train RMSE: 0.719, Valid RMSE: 1.051\n",
            "Epoch: 128 - Train RMSE: 0.743, Valid RMSE: 0.796\n",
            "Epoch: 129 - Train RMSE: 0.723, Valid RMSE: 2.252\n",
            "Epoch: 130 - Train RMSE: 0.793, Valid RMSE: 0.737\n",
            "Epoch: 131 - Train RMSE: 0.772, Valid RMSE: 0.996\n",
            "Epoch: 132 - Train RMSE: 0.828, Valid RMSE: 1.092\n",
            "Epoch: 133 - Train RMSE: 0.844, Valid RMSE: 1.781\n",
            "Epoch: 134 - Train RMSE: 0.873, Valid RMSE: 0.905\n",
            "Epoch: 135 - Train RMSE: 0.920, Valid RMSE: 1.203\n",
            "Epoch: 136 - Train RMSE: 0.848, Valid RMSE: 0.968\n",
            "Epoch: 137 - Train RMSE: 0.858, Valid RMSE: 0.745\n",
            "Epoch: 138 - Train RMSE: 0.829, Valid RMSE: 0.970\n",
            "Epoch: 139 - Train RMSE: 0.752, Valid RMSE: 0.984\n",
            "Epoch: 140 - Train RMSE: 0.742, Valid RMSE: 0.734\n",
            "Epoch: 141 - Train RMSE: 0.767, Valid RMSE: 0.861\n",
            "Epoch: 142 - Train RMSE: 0.726, Valid RMSE: 1.265\n",
            "Epoch: 143 - Train RMSE: 0.768, Valid RMSE: 0.789\n",
            "Epoch: 144 - Train RMSE: 0.719, Valid RMSE: 0.707\n",
            "Epoch: 145 - Train RMSE: 0.705, Valid RMSE: 0.769\n",
            "Epoch: 146 - Train RMSE: 0.753, Valid RMSE: 1.373\n",
            "Epoch: 147 - Train RMSE: 0.827, Valid RMSE: 0.868\n",
            "Epoch: 148 - Train RMSE: 0.749, Valid RMSE: 0.916\n",
            "Epoch: 149 - Train RMSE: 0.718, Valid RMSE: 1.164\n",
            "Epoch: 150 - Train RMSE: 0.771, Valid RMSE: 0.725\n",
            "Epoch: 151 - Train RMSE: 0.731, Valid RMSE: 1.823\n",
            "Epoch: 152 - Train RMSE: 0.719, Valid RMSE: 0.693\n",
            "Epoch: 153 - Train RMSE: 0.710, Valid RMSE: 0.765\n",
            "Epoch: 154 - Train RMSE: 0.710, Valid RMSE: 0.817\n",
            "Epoch: 155 - Train RMSE: 0.747, Valid RMSE: 0.778\n",
            "Epoch: 156 - Train RMSE: 0.689, Valid RMSE: 0.784\n",
            "Epoch: 157 - Train RMSE: 0.712, Valid RMSE: 1.167\n",
            "Epoch: 158 - Train RMSE: 0.701, Valid RMSE: 0.686\n",
            "Epoch: 159 - Train RMSE: 0.705, Valid RMSE: 0.737\n",
            "Epoch: 160 - Train RMSE: 0.681, Valid RMSE: 0.756\n",
            "Epoch: 161 - Train RMSE: 0.690, Valid RMSE: 0.769\n",
            "Epoch: 162 - Train RMSE: 0.668, Valid RMSE: 0.633\n",
            "Epoch: 163 - Train RMSE: 0.681, Valid RMSE: 0.804\n",
            "Epoch: 164 - Train RMSE: 0.711, Valid RMSE: 0.724\n",
            "Epoch: 165 - Train RMSE: 0.724, Valid RMSE: 0.812\n",
            "Epoch: 166 - Train RMSE: 0.710, Valid RMSE: 0.731\n",
            "Epoch: 167 - Train RMSE: 0.769, Valid RMSE: 0.961\n",
            "Epoch: 168 - Train RMSE: 0.722, Valid RMSE: 0.837\n",
            "Epoch: 169 - Train RMSE: 0.703, Valid RMSE: 0.661\n",
            "Epoch: 170 - Train RMSE: 0.677, Valid RMSE: 0.787\n",
            "Epoch: 171 - Train RMSE: 0.722, Valid RMSE: 0.691\n",
            "Epoch: 172 - Train RMSE: 0.675, Valid RMSE: 0.684\n",
            "Epoch: 173 - Train RMSE: 0.629, Valid RMSE: 0.729\n",
            "Epoch: 174 - Train RMSE: 0.670, Valid RMSE: 0.701\n",
            "Epoch: 175 - Train RMSE: 0.680, Valid RMSE: 0.748\n",
            "Epoch: 176 - Train RMSE: 0.659, Valid RMSE: 0.855\n",
            "Epoch: 177 - Train RMSE: 0.681, Valid RMSE: 0.882\n",
            "Epoch: 178 - Train RMSE: 0.656, Valid RMSE: 0.803\n",
            "Epoch: 179 - Train RMSE: 0.673, Valid RMSE: 0.692\n",
            "Epoch: 180 - Train RMSE: 0.634, Valid RMSE: 0.715\n",
            "Epoch: 181 - Train RMSE: 0.695, Valid RMSE: 0.754\n",
            "Epoch: 182 - Train RMSE: 0.668, Valid RMSE: 0.731\n",
            "Epoch: 183 - Train RMSE: 0.695, Valid RMSE: 0.875\n",
            "Epoch: 184 - Train RMSE: 0.668, Valid RMSE: 0.714\n",
            "Epoch: 185 - Train RMSE: 0.677, Valid RMSE: 0.760\n",
            "Epoch: 186 - Train RMSE: 0.678, Valid RMSE: 0.697\n",
            "Epoch: 187 - Train RMSE: 0.642, Valid RMSE: 0.816\n",
            "Epoch: 188 - Train RMSE: 0.652, Valid RMSE: 0.695\n",
            "Epoch: 189 - Train RMSE: 0.652, Valid RMSE: 0.751\n",
            "Epoch: 190 - Train RMSE: 0.655, Valid RMSE: 0.800\n",
            "Epoch: 191 - Train RMSE: 0.639, Valid RMSE: 0.745\n",
            "Epoch: 192 - Train RMSE: 0.670, Valid RMSE: 0.720\n",
            "Epoch: 193 - Train RMSE: 0.651, Valid RMSE: 0.786\n",
            "Epoch: 194 - Train RMSE: 0.695, Valid RMSE: 0.696\n",
            "Epoch: 195 - Train RMSE: 0.653, Valid RMSE: 0.900\n",
            "Epoch: 196 - Train RMSE: 0.642, Valid RMSE: 0.735\n",
            "Epoch: 197 - Train RMSE: 0.627, Valid RMSE: 0.679\n",
            "Epoch: 198 - Train RMSE: 0.674, Valid RMSE: 0.770\n",
            "Epoch: 199 - Train RMSE: 0.648, Valid RMSE: 0.705\n",
            "Epoch: 200 - Train RMSE: 0.664, Valid RMSE: 0.703\n",
            "Epoch: 201 - Train RMSE: 0.621, Valid RMSE: 0.738\n",
            "Epoch: 202 - Train RMSE: 0.648, Valid RMSE: 0.727\n",
            "Epoch: 203 - Train RMSE: 0.641, Valid RMSE: 0.724\n",
            "Epoch: 204 - Train RMSE: 0.604, Valid RMSE: 0.701\n",
            "Epoch: 205 - Train RMSE: 0.638, Valid RMSE: 0.644\n",
            "Epoch: 206 - Train RMSE: 0.606, Valid RMSE: 0.646\n",
            "Epoch: 207 - Train RMSE: 0.617, Valid RMSE: 0.675\n",
            "Epoch: 208 - Train RMSE: 0.638, Valid RMSE: 0.688\n",
            "Epoch: 209 - Train RMSE: 0.615, Valid RMSE: 0.748\n",
            "Epoch: 210 - Train RMSE: 0.630, Valid RMSE: 0.708\n",
            "Epoch: 211 - Train RMSE: 0.619, Valid RMSE: 0.718\n",
            "Epoch: 212 - Train RMSE: 0.659, Valid RMSE: 0.745\n",
            "Epoch: 213 - Train RMSE: 0.625, Valid RMSE: 0.652\n",
            "Epoch: 214 - Train RMSE: 0.641, Valid RMSE: 0.729\n",
            "Epoch: 215 - Train RMSE: 0.603, Valid RMSE: 0.766\n",
            "Epoch: 216 - Train RMSE: 0.633, Valid RMSE: 0.733\n",
            "Epoch: 217 - Train RMSE: 0.618, Valid RMSE: 0.736\n",
            "Epoch: 218 - Train RMSE: 0.598, Valid RMSE: 0.651\n",
            "Epoch: 219 - Train RMSE: 0.589, Valid RMSE: 0.685\n",
            "Epoch: 220 - Train RMSE: 0.590, Valid RMSE: 0.695\n",
            "Epoch: 221 - Train RMSE: 0.593, Valid RMSE: 0.700\n",
            "Epoch: 222 - Train RMSE: 0.620, Valid RMSE: 0.681\n",
            "Epoch: 223 - Train RMSE: 0.588, Valid RMSE: 0.690\n",
            "Epoch: 224 - Train RMSE: 0.550, Valid RMSE: 0.684\n",
            "Epoch: 225 - Train RMSE: 0.597, Valid RMSE: 0.687\n",
            "Epoch: 226 - Train RMSE: 0.575, Valid RMSE: 0.719\n",
            "Epoch: 227 - Train RMSE: 0.619, Valid RMSE: 0.666\n",
            "Epoch: 228 - Train RMSE: 0.580, Valid RMSE: 0.654\n",
            "Epoch: 229 - Train RMSE: 0.594, Valid RMSE: 0.693\n",
            "Epoch: 230 - Train RMSE: 0.622, Valid RMSE: 0.671\n",
            "Epoch: 231 - Train RMSE: 0.586, Valid RMSE: 0.723\n",
            "Epoch: 232 - Train RMSE: 0.572, Valid RMSE: 0.683\n",
            "Epoch: 233 - Train RMSE: 0.577, Valid RMSE: 0.680\n",
            "Epoch: 234 - Train RMSE: 0.596, Valid RMSE: 0.738\n",
            "Epoch: 235 - Train RMSE: 0.628, Valid RMSE: 0.662\n",
            "Epoch: 236 - Train RMSE: 0.595, Valid RMSE: 0.701\n",
            "Epoch: 237 - Train RMSE: 0.583, Valid RMSE: 0.636\n",
            "Epoch: 238 - Train RMSE: 0.644, Valid RMSE: 0.658\n",
            "Epoch: 239 - Train RMSE: 0.575, Valid RMSE: 0.701\n",
            "Epoch: 240 - Train RMSE: 0.601, Valid RMSE: 0.709\n",
            "Epoch: 241 - Train RMSE: 0.569, Valid RMSE: 0.666\n",
            "Epoch: 242 - Train RMSE: 0.609, Valid RMSE: 0.650\n",
            "Epoch: 243 - Train RMSE: 0.607, Valid RMSE: 0.754\n",
            "Epoch: 244 - Train RMSE: 0.584, Valid RMSE: 0.692\n",
            "Epoch: 245 - Train RMSE: 0.616, Valid RMSE: 0.728\n",
            "Epoch: 246 - Train RMSE: 0.559, Valid RMSE: 0.668\n",
            "Epoch: 247 - Train RMSE: 0.568, Valid RMSE: 0.736\n",
            "Epoch: 248 - Train RMSE: 0.572, Valid RMSE: 0.719\n",
            "Epoch: 249 - Train RMSE: 0.594, Valid RMSE: 0.671\n"
          ]
        }
      ]
    },
    {
      "cell_type": "markdown",
      "source": [
        "**New Version of Network**"
      ],
      "metadata": {
        "id": "q28_5Q8nsJWV"
      }
    },
    {
      "cell_type": "code",
      "source": [
        "class GATv2ConvEV3(MessagePassing):\n",
        "\n",
        "  def __init__(self, n_in, n_out, e_in, e_out):\n",
        "    super().__init__(aggr = 'add')\n",
        "    self.n_transform = ResLayer(n_in, n_out)\n",
        "    self.e_transform = ResLayer(e_in, e_out)\n",
        "\n",
        "    # Node\n",
        "    self.msg = ResLayer(n_out*2 + e_out, n_out)\n",
        "    self.n_attn = attn_heads(n_out*2 + e_out, 1)\n",
        "\n",
        "    self.self_attn = attn_heads(n_out*2, 1)\n",
        "    self.msg_attn = attn_heads(n_out*2, 1)\n",
        "    self.msg_norm = nn.BatchNorm1d(n_out)\n",
        "    self.n_update = attn_heads(2*n_out, n_out)\n",
        "\n",
        "    # Edge\n",
        "    self.e_msg = ResLayer(n_out*2 + e_out, e_out)\n",
        "    self.e_msg_attn = attn_heads(2*e_out, 1)\n",
        "    self.e_self_attn = attn_heads(2*e_out, 1)\n",
        "\n",
        "    self.e_update = ResLayer(2*e_out, e_out)\n",
        " \n",
        "  def forward(self, x, edge_index, edge_attr):\n",
        "\n",
        "    x = self.n_transform(x)\n",
        "    edge_attr = self.e_transform(edge_attr)\n",
        "\n",
        "    node_features = self.propagate(edge_index, x = x, edge_attr = edge_attr)\n",
        "    edge_features = self.edge_updater(edge_index, x = x, edge_attr = edge_attr)\n",
        "\n",
        "    return node_features, edge_features\n",
        "  \n",
        "  def edge_update(self, edge_index, x_i, x_j, edge_attr):\n",
        "    # 2. Edge Message Calculation\n",
        "\n",
        "    input = torch.cat([x_i, x_j, edge_attr], dim = 1)\n",
        "    edge_message = self.e_msg(input)\n",
        "\n",
        "    input = torch.cat([edge_attr, edge_message], dim = 1)\n",
        "    e_attn = self.e_msg_attn(input)\n",
        "    s_attn = self.e_self_attn(input)\n",
        "\n",
        "    return self.e_update(torch.cat([e_attn*edge_message, s_attn*edge_attr], dim = 1)) + edge_attr\n",
        "  \n",
        "  def message(self, x_i, x_j, edge_index, edge_attr):\n",
        "\n",
        "    input = torch.cat([x_i, x_j, edge_attr], dim = 1)\n",
        "    # 1. Node Message Calculation\n",
        "    msg = self.msg(input)\n",
        "    n_attn = self.n_attn(input)\n",
        "\n",
        "    n_attn = softmax(n_attn, edge_index[0])\n",
        "    return n_attn * msg\n",
        "    \n",
        "   \n",
        "  def update(self, aggregated_output, x):\n",
        "\n",
        "    aggregated_output = self.msg_norm(aggregated_output)\n",
        "    \n",
        "    input = torch.cat([aggregated_output, x], dim = 1)\n",
        "    m_attn = self.msg_attn(input)\n",
        "    s_attn = self.self_attn(input)\n",
        "\n",
        "    return self.n_update(torch.cat([m_attn*aggregated_output, s_attn*x], dim = 1)) + x"
      ],
      "metadata": {
        "id": "0pWpblTHsIgc"
      },
      "execution_count": 20,
      "outputs": []
    },
    {
      "cell_type": "code",
      "source": [
        "train_dataset.num_node_features, train_dataset.num_edge_features"
      ],
      "metadata": {
        "colab": {
          "base_uri": "https://localhost:8080/"
        },
        "id": "OcEuERdoCaT8",
        "outputId": "b8d7bbb8-3787-4910-d81b-e540fec5e86b"
      },
      "execution_count": 21,
      "outputs": [
        {
          "output_type": "execute_result",
          "data": {
            "text/plain": [
              "(45, 10)"
            ]
          },
          "metadata": {},
          "execution_count": 21
        }
      ]
    },
    {
      "cell_type": "code",
      "source": [
        "test_layer = GATv2ConvEV2(train_dataset.num_node_features, 64, train_dataset.num_edge_features, 32)"
      ],
      "metadata": {
        "id": "QM16gCFmCetq"
      },
      "execution_count": 22,
      "outputs": []
    },
    {
      "cell_type": "code",
      "source": [
        "test_layer(batch.x, batch.edge_index, batch.edge_attr)"
      ],
      "metadata": {
        "colab": {
          "base_uri": "https://localhost:8080/"
        },
        "id": "tzsydbr5C6b5",
        "outputId": "0a7ca3b6-def2-45a0-feac-da368f873284"
      },
      "execution_count": 23,
      "outputs": [
        {
          "output_type": "execute_result",
          "data": {
            "text/plain": [
              "(tensor([[-3.7840e-04, -3.2419e-03, -2.3486e-03,  ...,  1.8757e-01,\n",
              "          -2.6538e-03, -1.0874e-04],\n",
              "         [ 1.3851e+00, -4.6392e-03,  1.6738e+00,  ..., -3.0314e-03,\n",
              "          -3.4369e-03,  4.6408e-01],\n",
              "         [-3.7840e-04, -3.2419e-03, -2.3486e-03,  ...,  1.8757e-01,\n",
              "          -2.6538e-03, -1.0874e-04],\n",
              "         ...,\n",
              "         [-2.5238e-03, -1.6228e-03, -3.1280e-03,  ..., -2.5991e-04,\n",
              "          -3.1683e-03,  2.0472e-03],\n",
              "         [-2.3685e-03, -2.5353e-03, -2.4958e-03,  ..., -2.1541e-04,\n",
              "          -2.6862e-03, -3.2880e-04],\n",
              "         [ 6.0563e-04, -3.1276e-03,  3.2228e-01,  ..., -1.5571e-04,\n",
              "           4.3979e-01,  3.1364e-01]], grad_fn=<AddBackward0>),\n",
              " tensor([[ 1.1414,  0.6479,  1.1044,  ...,  1.5050,  1.4114,  1.2883],\n",
              "         [ 0.0942,  0.6519,  0.2624,  ...,  1.0635,  2.0526,  1.2396],\n",
              "         [ 0.0942,  0.6519,  0.2624,  ...,  1.0635,  2.0526,  1.2396],\n",
              "         ...,\n",
              "         [-0.0118,  0.9659,  0.8857,  ...,  2.3765,  2.2921,  0.6812],\n",
              "         [ 0.8222,  1.3104,  1.0727,  ...,  1.7262,  1.6948,  0.1363],\n",
              "         [ 0.1820,  1.7875,  1.0824,  ...,  1.0870,  1.6713,  1.1541]],\n",
              "        grad_fn=<AddBackward0>))"
            ]
          },
          "metadata": {},
          "execution_count": 23
        }
      ]
    },
    {
      "cell_type": "code",
      "source": [
        "class GATV2_2(torch.nn.Module):\n",
        "    def __init__(self, hidden_channels, dataset = train_dataset, regression = False):\n",
        "        super(GATV2_2, self).__init__()\n",
        "        torch.manual_seed(12345)\n",
        "        self.conv1 = GATv2ConvEV3(dataset.num_node_features, hidden_channels, dataset.num_edge_features, hidden_channels)\n",
        "        self.conv2 = GATv2ConvEV3(hidden_channels, hidden_channels, hidden_channels, hidden_channels)\n",
        "        self.conv3 = GATv2ConvEV3(hidden_channels, hidden_channels, hidden_channels, hidden_channels)\n",
        "        self.conv4 = GATv2ConvEV3(hidden_channels, hidden_channels, hidden_channels, hidden_channels)\n",
        "        self.regression = regression\n",
        "        if regression:\n",
        "          self.lin = nn.Sequential(nn.Linear(hidden_channels, 1))\n",
        "        else:\n",
        "          self.lin = ResLayer(hidden_channels, dataset.num_classes)  \n",
        "\n",
        "    def forward(self, x, edge_index, edge_attr, batch):\n",
        "        # 1. Obtain node embeddings \n",
        "        x, edge_attr = self.conv1(x, edge_index, edge_attr = edge_attr)\n",
        "        x, edge_attr = F.dropout(x, p = 0.4), F.dropout(edge_attr, p = 0.4)\n",
        "        x, edge_attr = self.conv2(x, edge_index, edge_attr = edge_attr)\n",
        "        x, edge_attr = F.dropout(x, p = 0.4), F.dropout(edge_attr, p = 0.4)\n",
        "        x, edge_attr = self.conv3(x, edge_index, edge_attr = edge_attr)\n",
        "        x, edge_attr = F.dropout(x, p = 0.4), F.dropout(edge_attr, p = 0.4)\n",
        "        x, edge_attr = self.conv4(x, edge_index, edge_attr = edge_attr)\n",
        "        x, edge_attr = F.dropout(x, p = 0.2), F.dropout(edge_attr, p = 0.2)\n",
        "       \n",
        "        # 2. Readout layer\n",
        "        x = global_mean_pool(x, batch)  # [batch_size, hidden_channels]\n",
        "\n",
        "        # 3. Apply a final classifier\n",
        "        x = F.dropout(x, p=0.2, training=self.training)\n",
        "        if self.regression:\n",
        "          x = self.lin(x)\n",
        "        else:\n",
        "          x = F.sigmoid(self.lin(x))\n",
        "\n",
        "        \n",
        "        return x\n",
        "\n",
        "\n",
        "# print(model)"
      ],
      "metadata": {
        "id": "cDDbybyzGy_E"
      },
      "execution_count": 24,
      "outputs": []
    },
    {
      "cell_type": "code",
      "source": [
        "\n"
      ],
      "metadata": {
        "id": "KSfogxeVH1fw"
      },
      "execution_count": 25,
      "outputs": []
    },
    {
      "cell_type": "code",
      "source": [
        "model = GATV2_2(hidden_channels=64, dataset= train_dataset, regression= True)\n",
        "optimizer = torch.optim.Adam(model.parameters(), lr = 1e-03, weight_decay = 1e-03)\n",
        "lr_scheduler = torch.optim.lr_scheduler.OneCycleLR(optimizer,\n",
        "                                                   max_lr = 1e-03, \n",
        "                                                  epochs = 250, \n",
        "                                                  steps_per_epoch = 29)\n",
        "criterion = torch.nn.MSELoss()\n",
        "model.to(device)\n",
        "\n",
        "def train():\n",
        "    model.train()\n",
        "    train_losses = []\n",
        "    for data in train_loader:  # Iterate in batches over the training dataset.\n",
        "        data.to(device)\n",
        "        out = model(data.x, data.edge_index, data.edge_attr, data.batch)\n",
        "        # out = model(data.x, data.edge_index, data.batch)\n",
        "        loss = criterion(out, data.y)  # Compute the loss.\n",
        "        loss.backward()  # Derive gradients.\n",
        "        optimizer.step()  # Update parameters based on gradients.\n",
        "        optimizer.zero_grad()  # Clear gradients.\n",
        "        train_losses.append(loss.item())\n",
        "        lr_scheduler.step()\n",
        "    \n",
        "    model.eval()\n",
        "    val_losses = []\n",
        "    with torch.no_grad():\n",
        "        for data in valid_loader:\n",
        "            data.to(device)\n",
        "            out = model(data.x, data.edge_index, data.edge_attr, data.batch)\n",
        "            loss = criterion(out, data.y)\n",
        "            val_losses.append(loss.item())\n",
        "    \n",
        "    return np.mean(np.sqrt(train_losses)), np.mean(np.sqrt(val_losses))\n",
        "    \n",
        "\n",
        "\n",
        "for epoch in range(1, 250):\n",
        "    train_loss , valid_loss = train()\n",
        "    print(f'Epoch: {epoch} - Train RMSE: {train_loss:.3f}, Valid RMSE: {valid_loss:.3f}')"
      ],
      "metadata": {
        "colab": {
          "base_uri": "https://localhost:8080/"
        },
        "id": "GSRdPu1hIyNu",
        "outputId": "6c702054-6c20-48a4-a1a6-d90153c7d956"
      },
      "execution_count": 26,
      "outputs": [
        {
          "output_type": "stream",
          "name": "stdout",
          "text": [
            "Epoch: 1 - Train RMSE: 2.868, Valid RMSE: 2.888\n",
            "Epoch: 2 - Train RMSE: 2.826, Valid RMSE: 2.810\n",
            "Epoch: 3 - Train RMSE: 2.748, Valid RMSE: 2.729\n",
            "Epoch: 4 - Train RMSE: 2.653, Valid RMSE: 2.604\n",
            "Epoch: 5 - Train RMSE: 2.504, Valid RMSE: 2.552\n",
            "Epoch: 6 - Train RMSE: 2.398, Valid RMSE: 2.500\n",
            "Epoch: 7 - Train RMSE: 2.351, Valid RMSE: 2.446\n",
            "Epoch: 8 - Train RMSE: 2.209, Valid RMSE: 2.400\n",
            "Epoch: 9 - Train RMSE: 2.128, Valid RMSE: 2.304\n",
            "Epoch: 10 - Train RMSE: 2.048, Valid RMSE: 2.285\n",
            "Epoch: 11 - Train RMSE: 1.861, Valid RMSE: 2.151\n",
            "Epoch: 12 - Train RMSE: 1.839, Valid RMSE: 2.234\n",
            "Epoch: 13 - Train RMSE: 1.668, Valid RMSE: 1.802\n",
            "Epoch: 14 - Train RMSE: 1.657, Valid RMSE: 1.587\n",
            "Epoch: 15 - Train RMSE: 1.584, Valid RMSE: 1.657\n",
            "Epoch: 16 - Train RMSE: 1.547, Valid RMSE: 1.708\n",
            "Epoch: 17 - Train RMSE: 1.443, Valid RMSE: 1.434\n",
            "Epoch: 18 - Train RMSE: 1.373, Valid RMSE: 1.242\n",
            "Epoch: 19 - Train RMSE: 1.419, Valid RMSE: 1.445\n",
            "Epoch: 20 - Train RMSE: 1.325, Valid RMSE: 1.111\n",
            "Epoch: 21 - Train RMSE: 1.308, Valid RMSE: 1.123\n",
            "Epoch: 22 - Train RMSE: 1.223, Valid RMSE: 1.058\n",
            "Epoch: 23 - Train RMSE: 1.251, Valid RMSE: 1.148\n",
            "Epoch: 24 - Train RMSE: 1.256, Valid RMSE: 1.107\n",
            "Epoch: 25 - Train RMSE: 1.154, Valid RMSE: 1.151\n",
            "Epoch: 26 - Train RMSE: 1.212, Valid RMSE: 1.066\n",
            "Epoch: 27 - Train RMSE: 1.138, Valid RMSE: 1.089\n",
            "Epoch: 28 - Train RMSE: 1.103, Valid RMSE: 1.118\n",
            "Epoch: 29 - Train RMSE: 1.140, Valid RMSE: 1.235\n",
            "Epoch: 30 - Train RMSE: 1.116, Valid RMSE: 1.016\n",
            "Epoch: 31 - Train RMSE: 1.047, Valid RMSE: 1.124\n",
            "Epoch: 32 - Train RMSE: 1.070, Valid RMSE: 0.958\n",
            "Epoch: 33 - Train RMSE: 1.049, Valid RMSE: 1.048\n",
            "Epoch: 34 - Train RMSE: 1.106, Valid RMSE: 1.036\n",
            "Epoch: 35 - Train RMSE: 1.057, Valid RMSE: 0.945\n",
            "Epoch: 36 - Train RMSE: 1.083, Valid RMSE: 0.876\n",
            "Epoch: 37 - Train RMSE: 1.039, Valid RMSE: 0.873\n",
            "Epoch: 38 - Train RMSE: 1.079, Valid RMSE: 0.878\n",
            "Epoch: 39 - Train RMSE: 1.033, Valid RMSE: 0.968\n",
            "Epoch: 40 - Train RMSE: 1.036, Valid RMSE: 0.963\n",
            "Epoch: 41 - Train RMSE: 0.988, Valid RMSE: 1.067\n",
            "Epoch: 42 - Train RMSE: 1.118, Valid RMSE: 1.043\n",
            "Epoch: 43 - Train RMSE: 1.102, Valid RMSE: 1.030\n",
            "Epoch: 44 - Train RMSE: 1.063, Valid RMSE: 1.006\n",
            "Epoch: 45 - Train RMSE: 1.058, Valid RMSE: 1.067\n",
            "Epoch: 46 - Train RMSE: 1.032, Valid RMSE: 1.064\n",
            "Epoch: 47 - Train RMSE: 1.003, Valid RMSE: 0.965\n",
            "Epoch: 48 - Train RMSE: 0.989, Valid RMSE: 0.896\n",
            "Epoch: 49 - Train RMSE: 1.010, Valid RMSE: 0.857\n",
            "Epoch: 50 - Train RMSE: 0.968, Valid RMSE: 0.875\n",
            "Epoch: 51 - Train RMSE: 0.983, Valid RMSE: 0.953\n",
            "Epoch: 52 - Train RMSE: 0.964, Valid RMSE: 0.883\n",
            "Epoch: 53 - Train RMSE: 0.949, Valid RMSE: 0.975\n",
            "Epoch: 54 - Train RMSE: 0.954, Valid RMSE: 0.909\n",
            "Epoch: 55 - Train RMSE: 0.902, Valid RMSE: 0.838\n",
            "Epoch: 56 - Train RMSE: 0.939, Valid RMSE: 0.968\n",
            "Epoch: 57 - Train RMSE: 0.919, Valid RMSE: 0.875\n",
            "Epoch: 58 - Train RMSE: 0.924, Valid RMSE: 0.997\n",
            "Epoch: 59 - Train RMSE: 0.981, Valid RMSE: 0.929\n",
            "Epoch: 60 - Train RMSE: 0.999, Valid RMSE: 0.898\n",
            "Epoch: 61 - Train RMSE: 0.884, Valid RMSE: 0.848\n",
            "Epoch: 62 - Train RMSE: 0.900, Valid RMSE: 0.819\n",
            "Epoch: 63 - Train RMSE: 0.949, Valid RMSE: 0.868\n",
            "Epoch: 64 - Train RMSE: 0.926, Valid RMSE: 0.896\n",
            "Epoch: 65 - Train RMSE: 0.916, Valid RMSE: 0.932\n",
            "Epoch: 66 - Train RMSE: 0.918, Valid RMSE: 0.962\n",
            "Epoch: 67 - Train RMSE: 0.900, Valid RMSE: 0.918\n",
            "Epoch: 68 - Train RMSE: 0.931, Valid RMSE: 0.863\n",
            "Epoch: 69 - Train RMSE: 0.924, Valid RMSE: 0.848\n",
            "Epoch: 70 - Train RMSE: 0.938, Valid RMSE: 0.886\n",
            "Epoch: 71 - Train RMSE: 0.867, Valid RMSE: 0.773\n",
            "Epoch: 72 - Train RMSE: 0.898, Valid RMSE: 0.967\n",
            "Epoch: 73 - Train RMSE: 0.862, Valid RMSE: 0.857\n",
            "Epoch: 74 - Train RMSE: 0.858, Valid RMSE: 0.873\n",
            "Epoch: 75 - Train RMSE: 0.896, Valid RMSE: 0.807\n",
            "Epoch: 76 - Train RMSE: 0.917, Valid RMSE: 0.825\n",
            "Epoch: 77 - Train RMSE: 0.940, Valid RMSE: 0.848\n",
            "Epoch: 78 - Train RMSE: 0.921, Valid RMSE: 0.793\n",
            "Epoch: 79 - Train RMSE: 0.840, Valid RMSE: 0.815\n",
            "Epoch: 80 - Train RMSE: 0.815, Valid RMSE: 0.811\n",
            "Epoch: 81 - Train RMSE: 0.852, Valid RMSE: 0.854\n",
            "Epoch: 82 - Train RMSE: 0.840, Valid RMSE: 0.880\n",
            "Epoch: 83 - Train RMSE: 0.861, Valid RMSE: 0.825\n",
            "Epoch: 84 - Train RMSE: 0.834, Valid RMSE: 0.897\n",
            "Epoch: 85 - Train RMSE: 0.827, Valid RMSE: 0.804\n",
            "Epoch: 86 - Train RMSE: 0.818, Valid RMSE: 0.809\n",
            "Epoch: 87 - Train RMSE: 0.823, Valid RMSE: 0.811\n",
            "Epoch: 88 - Train RMSE: 0.808, Valid RMSE: 0.833\n",
            "Epoch: 89 - Train RMSE: 0.823, Valid RMSE: 0.838\n",
            "Epoch: 90 - Train RMSE: 0.838, Valid RMSE: 0.767\n",
            "Epoch: 91 - Train RMSE: 0.810, Valid RMSE: 0.845\n",
            "Epoch: 92 - Train RMSE: 0.795, Valid RMSE: 0.835\n",
            "Epoch: 93 - Train RMSE: 0.859, Valid RMSE: 0.789\n",
            "Epoch: 94 - Train RMSE: 0.818, Valid RMSE: 0.855\n",
            "Epoch: 95 - Train RMSE: 0.781, Valid RMSE: 0.905\n",
            "Epoch: 96 - Train RMSE: 0.833, Valid RMSE: 0.771\n",
            "Epoch: 97 - Train RMSE: 0.781, Valid RMSE: 0.738\n",
            "Epoch: 98 - Train RMSE: 0.809, Valid RMSE: 0.796\n",
            "Epoch: 99 - Train RMSE: 0.803, Valid RMSE: 0.749\n",
            "Epoch: 100 - Train RMSE: 0.792, Valid RMSE: 0.755\n",
            "Epoch: 101 - Train RMSE: 0.806, Valid RMSE: 0.811\n",
            "Epoch: 102 - Train RMSE: 0.784, Valid RMSE: 0.743\n",
            "Epoch: 103 - Train RMSE: 0.797, Valid RMSE: 0.806\n",
            "Epoch: 104 - Train RMSE: 0.771, Valid RMSE: 0.792\n",
            "Epoch: 105 - Train RMSE: 0.828, Valid RMSE: 0.798\n",
            "Epoch: 106 - Train RMSE: 0.820, Valid RMSE: 0.826\n",
            "Epoch: 107 - Train RMSE: 0.811, Valid RMSE: 0.860\n",
            "Epoch: 108 - Train RMSE: 0.783, Valid RMSE: 0.807\n",
            "Epoch: 109 - Train RMSE: 0.752, Valid RMSE: 0.796\n",
            "Epoch: 110 - Train RMSE: 0.781, Valid RMSE: 0.755\n",
            "Epoch: 111 - Train RMSE: 0.822, Valid RMSE: 0.726\n",
            "Epoch: 112 - Train RMSE: 0.748, Valid RMSE: 0.718\n",
            "Epoch: 113 - Train RMSE: 0.810, Valid RMSE: 0.838\n",
            "Epoch: 114 - Train RMSE: 0.779, Valid RMSE: 0.802\n",
            "Epoch: 115 - Train RMSE: 0.782, Valid RMSE: 0.771\n",
            "Epoch: 116 - Train RMSE: 0.792, Valid RMSE: 0.818\n",
            "Epoch: 117 - Train RMSE: 0.784, Valid RMSE: 0.765\n",
            "Epoch: 118 - Train RMSE: 0.734, Valid RMSE: 0.743\n",
            "Epoch: 119 - Train RMSE: 0.694, Valid RMSE: 0.738\n",
            "Epoch: 120 - Train RMSE: 0.764, Valid RMSE: 0.822\n",
            "Epoch: 121 - Train RMSE: 0.765, Valid RMSE: 0.808\n",
            "Epoch: 122 - Train RMSE: 0.752, Valid RMSE: 0.857\n",
            "Epoch: 123 - Train RMSE: 0.768, Valid RMSE: 0.813\n",
            "Epoch: 124 - Train RMSE: 0.780, Valid RMSE: 0.748\n",
            "Epoch: 125 - Train RMSE: 0.759, Valid RMSE: 0.752\n",
            "Epoch: 126 - Train RMSE: 0.743, Valid RMSE: 0.780\n",
            "Epoch: 127 - Train RMSE: 0.779, Valid RMSE: 0.810\n",
            "Epoch: 128 - Train RMSE: 0.739, Valid RMSE: 0.705\n",
            "Epoch: 129 - Train RMSE: 0.727, Valid RMSE: 0.745\n",
            "Epoch: 130 - Train RMSE: 0.716, Valid RMSE: 0.771\n",
            "Epoch: 131 - Train RMSE: 0.719, Valid RMSE: 0.799\n",
            "Epoch: 132 - Train RMSE: 0.742, Valid RMSE: 0.800\n",
            "Epoch: 133 - Train RMSE: 0.740, Valid RMSE: 0.866\n",
            "Epoch: 134 - Train RMSE: 0.730, Valid RMSE: 0.815\n",
            "Epoch: 135 - Train RMSE: 0.728, Valid RMSE: 0.794\n",
            "Epoch: 136 - Train RMSE: 0.735, Valid RMSE: 0.795\n",
            "Epoch: 137 - Train RMSE: 0.719, Valid RMSE: 0.756\n",
            "Epoch: 138 - Train RMSE: 0.687, Valid RMSE: 0.763\n",
            "Epoch: 139 - Train RMSE: 0.702, Valid RMSE: 0.749\n",
            "Epoch: 140 - Train RMSE: 0.708, Valid RMSE: 0.731\n",
            "Epoch: 141 - Train RMSE: 0.690, Valid RMSE: 0.761\n",
            "Epoch: 142 - Train RMSE: 0.812, Valid RMSE: 0.811\n",
            "Epoch: 143 - Train RMSE: 0.736, Valid RMSE: 0.744\n",
            "Epoch: 144 - Train RMSE: 0.730, Valid RMSE: 0.793\n",
            "Epoch: 145 - Train RMSE: 0.747, Valid RMSE: 0.744\n",
            "Epoch: 146 - Train RMSE: 0.738, Valid RMSE: 0.813\n",
            "Epoch: 147 - Train RMSE: 0.770, Valid RMSE: 0.759\n",
            "Epoch: 148 - Train RMSE: 0.753, Valid RMSE: 0.742\n",
            "Epoch: 149 - Train RMSE: 0.693, Valid RMSE: 0.772\n",
            "Epoch: 150 - Train RMSE: 0.714, Valid RMSE: 0.845\n",
            "Epoch: 151 - Train RMSE: 0.723, Valid RMSE: 0.777\n",
            "Epoch: 152 - Train RMSE: 0.703, Valid RMSE: 0.845\n",
            "Epoch: 153 - Train RMSE: 0.704, Valid RMSE: 0.769\n",
            "Epoch: 154 - Train RMSE: 0.713, Valid RMSE: 0.742\n",
            "Epoch: 155 - Train RMSE: 0.735, Valid RMSE: 0.728\n",
            "Epoch: 156 - Train RMSE: 0.680, Valid RMSE: 0.774\n",
            "Epoch: 157 - Train RMSE: 0.697, Valid RMSE: 0.753\n",
            "Epoch: 158 - Train RMSE: 0.677, Valid RMSE: 0.759\n",
            "Epoch: 159 - Train RMSE: 0.682, Valid RMSE: 0.772\n",
            "Epoch: 160 - Train RMSE: 0.715, Valid RMSE: 0.739\n",
            "Epoch: 161 - Train RMSE: 0.684, Valid RMSE: 0.763\n",
            "Epoch: 162 - Train RMSE: 0.679, Valid RMSE: 0.784\n",
            "Epoch: 163 - Train RMSE: 0.711, Valid RMSE: 0.777\n",
            "Epoch: 164 - Train RMSE: 0.714, Valid RMSE: 0.796\n",
            "Epoch: 165 - Train RMSE: 0.760, Valid RMSE: 0.754\n",
            "Epoch: 166 - Train RMSE: 0.733, Valid RMSE: 0.797\n",
            "Epoch: 167 - Train RMSE: 0.726, Valid RMSE: 0.755\n",
            "Epoch: 168 - Train RMSE: 0.692, Valid RMSE: 0.739\n",
            "Epoch: 169 - Train RMSE: 0.717, Valid RMSE: 0.826\n",
            "Epoch: 170 - Train RMSE: 0.661, Valid RMSE: 0.754\n",
            "Epoch: 171 - Train RMSE: 0.674, Valid RMSE: 0.729\n",
            "Epoch: 172 - Train RMSE: 0.700, Valid RMSE: 0.812\n",
            "Epoch: 173 - Train RMSE: 0.665, Valid RMSE: 0.776\n",
            "Epoch: 174 - Train RMSE: 0.704, Valid RMSE: 0.837\n",
            "Epoch: 175 - Train RMSE: 0.697, Valid RMSE: 0.821\n",
            "Epoch: 176 - Train RMSE: 0.682, Valid RMSE: 0.749\n",
            "Epoch: 177 - Train RMSE: 0.670, Valid RMSE: 0.710\n",
            "Epoch: 178 - Train RMSE: 0.673, Valid RMSE: 0.735\n",
            "Epoch: 179 - Train RMSE: 0.639, Valid RMSE: 0.805\n",
            "Epoch: 180 - Train RMSE: 0.680, Valid RMSE: 0.735\n",
            "Epoch: 181 - Train RMSE: 0.638, Valid RMSE: 0.689\n",
            "Epoch: 182 - Train RMSE: 0.650, Valid RMSE: 0.738\n",
            "Epoch: 183 - Train RMSE: 0.677, Valid RMSE: 0.758\n",
            "Epoch: 184 - Train RMSE: 0.642, Valid RMSE: 0.724\n",
            "Epoch: 185 - Train RMSE: 0.654, Valid RMSE: 0.800\n",
            "Epoch: 186 - Train RMSE: 0.660, Valid RMSE: 0.728\n",
            "Epoch: 187 - Train RMSE: 0.638, Valid RMSE: 0.746\n",
            "Epoch: 188 - Train RMSE: 0.630, Valid RMSE: 0.706\n",
            "Epoch: 189 - Train RMSE: 0.702, Valid RMSE: 0.769\n",
            "Epoch: 190 - Train RMSE: 0.636, Valid RMSE: 0.712\n",
            "Epoch: 191 - Train RMSE: 0.674, Valid RMSE: 0.740\n",
            "Epoch: 192 - Train RMSE: 0.689, Valid RMSE: 0.734\n",
            "Epoch: 193 - Train RMSE: 0.649, Valid RMSE: 0.773\n",
            "Epoch: 194 - Train RMSE: 0.673, Valid RMSE: 0.699\n",
            "Epoch: 195 - Train RMSE: 0.639, Valid RMSE: 0.711\n",
            "Epoch: 196 - Train RMSE: 0.637, Valid RMSE: 0.767\n",
            "Epoch: 197 - Train RMSE: 0.617, Valid RMSE: 0.722\n",
            "Epoch: 198 - Train RMSE: 0.605, Valid RMSE: 0.665\n",
            "Epoch: 199 - Train RMSE: 0.623, Valid RMSE: 0.700\n",
            "Epoch: 200 - Train RMSE: 0.614, Valid RMSE: 0.733\n",
            "Epoch: 201 - Train RMSE: 0.602, Valid RMSE: 0.718\n",
            "Epoch: 202 - Train RMSE: 0.640, Valid RMSE: 0.717\n",
            "Epoch: 203 - Train RMSE: 0.619, Valid RMSE: 0.690\n",
            "Epoch: 204 - Train RMSE: 0.606, Valid RMSE: 0.745\n",
            "Epoch: 205 - Train RMSE: 0.634, Valid RMSE: 0.749\n",
            "Epoch: 206 - Train RMSE: 0.606, Valid RMSE: 0.745\n",
            "Epoch: 207 - Train RMSE: 0.593, Valid RMSE: 0.699\n",
            "Epoch: 208 - Train RMSE: 0.624, Valid RMSE: 0.689\n",
            "Epoch: 209 - Train RMSE: 0.634, Valid RMSE: 0.719\n",
            "Epoch: 210 - Train RMSE: 0.618, Valid RMSE: 0.722\n",
            "Epoch: 211 - Train RMSE: 0.618, Valid RMSE: 0.736\n",
            "Epoch: 212 - Train RMSE: 0.599, Valid RMSE: 0.754\n",
            "Epoch: 213 - Train RMSE: 0.667, Valid RMSE: 0.731\n",
            "Epoch: 214 - Train RMSE: 0.613, Valid RMSE: 0.700\n",
            "Epoch: 215 - Train RMSE: 0.591, Valid RMSE: 0.731\n",
            "Epoch: 216 - Train RMSE: 0.625, Valid RMSE: 0.741\n",
            "Epoch: 217 - Train RMSE: 0.596, Valid RMSE: 0.754\n",
            "Epoch: 218 - Train RMSE: 0.579, Valid RMSE: 0.750\n",
            "Epoch: 219 - Train RMSE: 0.621, Valid RMSE: 0.731\n",
            "Epoch: 220 - Train RMSE: 0.586, Valid RMSE: 0.732\n",
            "Epoch: 221 - Train RMSE: 0.614, Valid RMSE: 0.804\n",
            "Epoch: 222 - Train RMSE: 0.600, Valid RMSE: 0.714\n",
            "Epoch: 223 - Train RMSE: 0.615, Valid RMSE: 0.800\n",
            "Epoch: 224 - Train RMSE: 0.625, Valid RMSE: 0.800\n",
            "Epoch: 225 - Train RMSE: 0.592, Valid RMSE: 0.729\n",
            "Epoch: 226 - Train RMSE: 0.642, Valid RMSE: 0.732\n",
            "Epoch: 227 - Train RMSE: 0.595, Valid RMSE: 0.701\n",
            "Epoch: 228 - Train RMSE: 0.630, Valid RMSE: 0.776\n",
            "Epoch: 229 - Train RMSE: 0.650, Valid RMSE: 0.735\n",
            "Epoch: 230 - Train RMSE: 0.602, Valid RMSE: 0.715\n",
            "Epoch: 231 - Train RMSE: 0.579, Valid RMSE: 0.712\n",
            "Epoch: 232 - Train RMSE: 0.589, Valid RMSE: 0.763\n",
            "Epoch: 233 - Train RMSE: 0.570, Valid RMSE: 0.756\n",
            "Epoch: 234 - Train RMSE: 0.553, Valid RMSE: 0.729\n",
            "Epoch: 235 - Train RMSE: 0.629, Valid RMSE: 0.749\n",
            "Epoch: 236 - Train RMSE: 0.595, Valid RMSE: 0.775\n",
            "Epoch: 237 - Train RMSE: 0.580, Valid RMSE: 0.731\n",
            "Epoch: 238 - Train RMSE: 0.578, Valid RMSE: 0.740\n",
            "Epoch: 239 - Train RMSE: 0.629, Valid RMSE: 0.761\n",
            "Epoch: 240 - Train RMSE: 0.614, Valid RMSE: 0.790\n",
            "Epoch: 241 - Train RMSE: 0.617, Valid RMSE: 0.786\n",
            "Epoch: 242 - Train RMSE: 0.566, Valid RMSE: 0.741\n",
            "Epoch: 243 - Train RMSE: 0.635, Valid RMSE: 0.703\n",
            "Epoch: 244 - Train RMSE: 0.592, Valid RMSE: 0.752\n",
            "Epoch: 245 - Train RMSE: 0.576, Valid RMSE: 0.712\n",
            "Epoch: 246 - Train RMSE: 0.632, Valid RMSE: 0.697\n",
            "Epoch: 247 - Train RMSE: 0.632, Valid RMSE: 0.755\n",
            "Epoch: 248 - Train RMSE: 0.577, Valid RMSE: 0.731\n",
            "Epoch: 249 - Train RMSE: 0.632, Valid RMSE: 0.854\n"
          ]
        }
      ]
    },
    {
      "cell_type": "markdown",
      "source": [
        "**Next Attempt**"
      ],
      "metadata": {
        "id": "5oPgyQw4Qbnb"
      }
    },
    {
      "cell_type": "code",
      "source": [
        "class GATv2ConvEV4(MessagePassing):\n",
        "\n",
        "  def __init__(self, n_in, n_out, e_in, e_out):\n",
        "    super().__init__(aggr = 'add')\n",
        "    self.n_transform = ResLayer(n_in, n_out)\n",
        "    self.e_transform = ResLayer(e_in, e_out)\n",
        "\n",
        "    # Node\n",
        "    self.n_attn = attn_heads(2*n_out + e_out, 1)\n",
        "    self.e_attn = attn_heads(2*n_out + e_out, 1)\n",
        "    self.s_attn = attn_heads(2*n_out + e_out, 1)\n",
        "    self.n_message = ResLayer(e_out + 2*n_out , n_out)\n",
        "\n",
        "    # For Edge\n",
        "    self.n1_attn = attn_heads(e_out + 2*n_out, 1)\n",
        "    self.n2_attn = attn_heads(e_out + 2*n_out, 1)\n",
        "    self.s_e_attn = attn_heads(e_out + 2*n_out, 1)\n",
        "    self.e_update = ResLayer(e_out + 2*n_out, e_out)\n",
        "\n",
        "    # For Node Update\n",
        "    self.u_m_attn = attn_heads(2*n_out, 1)\n",
        "    self.u_s_attn = attn_heads(2*n_out, 1)\n",
        "    self.n_update = ResLayer(2*n_out, n_out)\n",
        "\n",
        "    self.n_in = n_in\n",
        "    self.n_out = n_out\n",
        "    self.e_in = e_in\n",
        "    self.e_out = e_out\n",
        "\n",
        "  def forward(self, x, edge_index, edge_attr):\n",
        "    # st()\n",
        "    x = self.n_transform(x)\n",
        "    edge_attr = self.e_transform(edge_attr)\n",
        "\n",
        "    node_features = self.propagate(edge_index, x = x, edge_attr = edge_attr)\n",
        "    edge_features = self.edge_updater(edge_index, x = x, edge_attr = edge_attr)\n",
        "\n",
        "    return node_features, edge_features\n",
        "  \n",
        "  def edge_update(self, edge_index, x_i, x_j, edge_attr):\n",
        "    # 2. Edge Message Calculation\n",
        "\n",
        "    input = torch.cat([x_i, x_j, edge_attr], dim = 1)\n",
        "    n1_attn = self.n1_attn(input)\n",
        "    n2_attn = self.n2_attn(input)\n",
        "    self_attn = self.s_e_attn(input)\n",
        "\n",
        "    edge_message = torch.cat([n1_attn*x_i, n2_attn*x_j, self_attn*edge_attr], dim = 1)\n",
        "    return self.e_update(edge_message)\n",
        "  \n",
        "  def message(self, x_i, x_j, edge_index, edge_attr):\n",
        "\n",
        "    input = torch.cat([x_i, x_j, edge_attr], dim = 1)\n",
        "    # 1. Node Message Calculation\n",
        "    \n",
        "    neighbour_attn = self.n_attn(input)\n",
        "    edge_attn = self.e_attn(input)\n",
        "    self_attn = self.s_attn(input)\n",
        "    \n",
        "    # 1.1 Attention Softmax\n",
        "    neighbour_attn = softmax(neighbour_attn, edge_index[0])\n",
        "    edge_attn = softmax(edge_attn, edge_index[0])\n",
        "    self_attn = softmax(self_attn, edge_index[0])\n",
        "\n",
        "    # 1.2 Gather the message\n",
        "    node_message = torch.cat([self_attn*x_i, neighbour_attn*x_j, edge_attn*edge_attr], dim = 1)\n",
        "\n",
        "    op = self.n_message(node_message)\n",
        "    return op\n",
        "  \n",
        "  def update(self, aggregated_output, x):\n",
        "    '''\n",
        "    input = aggregated_output || x\n",
        "    message_attn = msg_attn(input)\n",
        "    self_attn = self_attn(input)\n",
        "\n",
        "    h` = update(message_attn*aggregated_output || self_attn*x)\n",
        "    return h`\n",
        "    '''\n",
        "\n",
        "    input = torch.cat([aggregated_output, x], dim = 1)\n",
        "    m_attn = self.u_m_attn(input)\n",
        "    s_attn = self.u_s_attn(input)\n",
        "\n",
        "    return self.n_update(torch.cat([m_attn*aggregated_output, s_attn*x], dim = 1))\n",
        "  "
      ],
      "metadata": {
        "id": "eqWaoWfxQbG4"
      },
      "execution_count": 76,
      "outputs": []
    },
    {
      "cell_type": "code",
      "source": [
        "class GATV4(torch.nn.Module):\n",
        "    def __init__(self, hidden_channels, dataset = train_dataset, regression = False):\n",
        "        super().__init__()\n",
        "        torch.manual_seed(12345)\n",
        "        self.conv1 = GATv2ConvEV4(dataset.num_node_features, hidden_channels, dataset.num_edge_features, hidden_channels)\n",
        "        self.conv2 = GATv2ConvEV4(hidden_channels, hidden_channels, hidden_channels, hidden_channels)\n",
        "        self.conv3 = GATv2ConvEV4(hidden_channels, hidden_channels, hidden_channels, hidden_channels)\n",
        "        self.conv4 = GATv2ConvEV4(hidden_channels, hidden_channels, hidden_channels, hidden_channels)\n",
        "        self.regression = regression\n",
        "        if regression:\n",
        "          self.lin = nn.Sequential(nn.Linear(hidden_channels, 1))\n",
        "        else:\n",
        "          self.lin = ResLayer(hidden_channels, dataset.num_classes)  \n",
        "\n",
        "    def forward(self, x, edge_index, edge_attr, batch):\n",
        "        # 1. Obtain node embeddings \n",
        "        x, edge_attr = self.conv1(x, edge_index, edge_attr = edge_attr)\n",
        "        x, edge_attr = F.dropout(x, p = 0.4), F.dropout(edge_attr, p = 0.4)\n",
        "        x, edge_attr = self.conv2(x, edge_index, edge_attr = edge_attr)\n",
        "        x, edge_attr = F.dropout(x, p = 0.4), F.dropout(edge_attr, p = 0.4)\n",
        "        x, edge_attr = self.conv3(x, edge_index, edge_attr = edge_attr)\n",
        "        x, edge_attr = F.dropout(x, p = 0.4), F.dropout(edge_attr, p = 0.4)\n",
        "        x, edge_attr = self.conv4(x, edge_index, edge_attr = edge_attr)\n",
        "        x, edge_attr = F.dropout(x, p = 0.2), F.dropout(edge_attr, p = 0.2)\n",
        "       \n",
        "        # 2. Readout layer\n",
        "        x = global_mean_pool(x, batch)  # [batch_size, hidden_channels]\n",
        "\n",
        "        # 3. Apply a final classifier\n",
        "        x = F.dropout(x, p=0.2, training=self.training)\n",
        "        if self.regression:\n",
        "          x = self.lin(x)\n",
        "        else:\n",
        "          x = F.sigmoid(self.lin(x))\n",
        "        \n",
        "        return x"
      ],
      "metadata": {
        "id": "a03jwtoCQxj_"
      },
      "execution_count": 77,
      "outputs": []
    },
    {
      "cell_type": "code",
      "source": [
        "# model = GATV4(hidden_channels=64, dataset= train_dataset, regression= True)"
      ],
      "metadata": {
        "id": "SBrvpxvXYrE9"
      },
      "execution_count": null,
      "outputs": []
    },
    {
      "cell_type": "code",
      "source": [
        "model = GATV4(hidden_channels=64, dataset= train_dataset, regression= True)\n",
        "optimizer = torch.optim.Adam(model.parameters(), lr = 1e-03, weight_decay = 5e-03)\n",
        "lr_scheduler = torch.optim.lr_scheduler.OneCycleLR(optimizer,\n",
        "                                                  max_lr = 1e-03, \n",
        "                                                  epochs = 250, \n",
        "                                                  steps_per_epoch = 29)\n",
        "criterion = torch.nn.MSELoss()\n",
        "model.to(device)\n",
        "\n",
        "def train():\n",
        "    model.train()\n",
        "    train_losses = []\n",
        "    for data in train_loader:  # Iterate in batches over the training dataset.\n",
        "        data.to(device)\n",
        "        out = model(data.x, data.edge_index, data.edge_attr, data.batch)\n",
        "        # out = model(data.x, data.edge_index, data.batch)\n",
        "        loss = criterion(out, data.y)  # Compute the loss.\n",
        "        loss.backward()  # Derive gradients.\n",
        "        optimizer.step()  # Update parameters based on gradients.\n",
        "        optimizer.zero_grad()  # Clear gradients.\n",
        "        train_losses.append(loss.item())\n",
        "        lr_scheduler.step()\n",
        "    \n",
        "    model.eval()\n",
        "    val_losses = []\n",
        "    with torch.no_grad():\n",
        "        for data in valid_loader:\n",
        "            data.to(device)\n",
        "            out = model(data.x, data.edge_index, data.edge_attr, data.batch)\n",
        "            loss = criterion(out, data.y)\n",
        "            val_losses.append(loss.item())\n",
        "    \n",
        "    return np.mean(np.sqrt(train_losses)), np.mean(np.sqrt(val_losses))\n",
        "    \n",
        "\n",
        "\n",
        "for epoch in range(1, 250):\n",
        "    train_loss , valid_loss = train()\n",
        "    print(f'Epoch: {epoch} - Train RMSE: {train_loss:.3f}, Valid RMSE: {valid_loss:.3f}')"
      ],
      "metadata": {
        "colab": {
          "base_uri": "https://localhost:8080/"
        },
        "id": "_N1JsGYBQ9st",
        "outputId": "22420dbe-ffb0-42ab-df9a-2aab72c9c39e"
      },
      "execution_count": 78,
      "outputs": [
        {
          "output_type": "stream",
          "name": "stdout",
          "text": [
            "Epoch: 1 - Train RMSE: 3.570, Valid RMSE: 3.625\n",
            "Epoch: 2 - Train RMSE: 3.518, Valid RMSE: 3.524\n",
            "Epoch: 3 - Train RMSE: 3.527, Valid RMSE: 3.461\n",
            "Epoch: 4 - Train RMSE: 3.432, Valid RMSE: 3.430\n",
            "Epoch: 5 - Train RMSE: 3.370, Valid RMSE: 3.321\n",
            "Epoch: 6 - Train RMSE: 3.330, Valid RMSE: 3.257\n",
            "Epoch: 7 - Train RMSE: 3.179, Valid RMSE: 3.189\n",
            "Epoch: 8 - Train RMSE: 3.165, Valid RMSE: 3.075\n",
            "Epoch: 9 - Train RMSE: 3.089, Valid RMSE: 3.005\n",
            "Epoch: 10 - Train RMSE: 2.922, Valid RMSE: 2.873\n",
            "Epoch: 11 - Train RMSE: 2.790, Valid RMSE: 2.806\n",
            "Epoch: 12 - Train RMSE: 2.586, Valid RMSE: 2.556\n",
            "Epoch: 13 - Train RMSE: 2.505, Valid RMSE: 2.419\n",
            "Epoch: 14 - Train RMSE: 2.354, Valid RMSE: 2.217\n",
            "Epoch: 15 - Train RMSE: 2.163, Valid RMSE: 2.150\n",
            "Epoch: 16 - Train RMSE: 2.087, Valid RMSE: 2.017\n",
            "Epoch: 17 - Train RMSE: 1.995, Valid RMSE: 2.071\n",
            "Epoch: 18 - Train RMSE: 1.940, Valid RMSE: 1.894\n",
            "Epoch: 19 - Train RMSE: 1.925, Valid RMSE: 1.928\n",
            "Epoch: 20 - Train RMSE: 1.866, Valid RMSE: 1.839\n",
            "Epoch: 21 - Train RMSE: 1.800, Valid RMSE: 1.766\n",
            "Epoch: 22 - Train RMSE: 1.726, Valid RMSE: 1.764\n",
            "Epoch: 23 - Train RMSE: 1.750, Valid RMSE: 2.094\n",
            "Epoch: 24 - Train RMSE: 1.670, Valid RMSE: 2.064\n",
            "Epoch: 25 - Train RMSE: 1.625, Valid RMSE: 1.534\n",
            "Epoch: 26 - Train RMSE: 1.594, Valid RMSE: 1.705\n",
            "Epoch: 27 - Train RMSE: 1.566, Valid RMSE: 1.496\n",
            "Epoch: 28 - Train RMSE: 1.478, Valid RMSE: 1.287\n",
            "Epoch: 29 - Train RMSE: 1.445, Valid RMSE: 1.315\n",
            "Epoch: 30 - Train RMSE: 1.477, Valid RMSE: 1.433\n",
            "Epoch: 31 - Train RMSE: 1.455, Valid RMSE: 1.384\n",
            "Epoch: 32 - Train RMSE: 1.476, Valid RMSE: 1.458\n",
            "Epoch: 33 - Train RMSE: 1.372, Valid RMSE: 1.255\n",
            "Epoch: 34 - Train RMSE: 1.374, Valid RMSE: 1.275\n",
            "Epoch: 35 - Train RMSE: 1.356, Valid RMSE: 1.235\n",
            "Epoch: 36 - Train RMSE: 1.375, Valid RMSE: 1.193\n",
            "Epoch: 37 - Train RMSE: 1.319, Valid RMSE: 1.144\n",
            "Epoch: 38 - Train RMSE: 1.327, Valid RMSE: 1.220\n",
            "Epoch: 39 - Train RMSE: 1.286, Valid RMSE: 1.079\n",
            "Epoch: 40 - Train RMSE: 1.292, Valid RMSE: 1.090\n",
            "Epoch: 41 - Train RMSE: 1.246, Valid RMSE: 1.024\n",
            "Epoch: 42 - Train RMSE: 1.240, Valid RMSE: 1.087\n",
            "Epoch: 43 - Train RMSE: 1.195, Valid RMSE: 1.131\n",
            "Epoch: 44 - Train RMSE: 1.230, Valid RMSE: 1.098\n",
            "Epoch: 45 - Train RMSE: 1.243, Valid RMSE: 1.161\n",
            "Epoch: 46 - Train RMSE: 1.176, Valid RMSE: 1.084\n",
            "Epoch: 47 - Train RMSE: 1.183, Valid RMSE: 1.009\n",
            "Epoch: 48 - Train RMSE: 1.150, Valid RMSE: 1.080\n",
            "Epoch: 49 - Train RMSE: 1.210, Valid RMSE: 1.109\n",
            "Epoch: 50 - Train RMSE: 1.166, Valid RMSE: 1.040\n",
            "Epoch: 51 - Train RMSE: 1.153, Valid RMSE: 0.905\n",
            "Epoch: 52 - Train RMSE: 1.210, Valid RMSE: 1.118\n",
            "Epoch: 53 - Train RMSE: 1.178, Valid RMSE: 1.325\n",
            "Epoch: 54 - Train RMSE: 1.154, Valid RMSE: 1.016\n",
            "Epoch: 55 - Train RMSE: 1.197, Valid RMSE: 1.063\n",
            "Epoch: 56 - Train RMSE: 1.185, Valid RMSE: 1.093\n",
            "Epoch: 57 - Train RMSE: 1.115, Valid RMSE: 1.090\n",
            "Epoch: 58 - Train RMSE: 1.152, Valid RMSE: 1.028\n",
            "Epoch: 59 - Train RMSE: 1.045, Valid RMSE: 0.899\n",
            "Epoch: 60 - Train RMSE: 1.065, Valid RMSE: 0.965\n",
            "Epoch: 61 - Train RMSE: 1.047, Valid RMSE: 0.990\n",
            "Epoch: 62 - Train RMSE: 1.105, Valid RMSE: 1.116\n",
            "Epoch: 63 - Train RMSE: 1.039, Valid RMSE: 0.955\n",
            "Epoch: 64 - Train RMSE: 0.991, Valid RMSE: 1.001\n",
            "Epoch: 65 - Train RMSE: 1.076, Valid RMSE: 1.155\n",
            "Epoch: 66 - Train RMSE: 1.039, Valid RMSE: 0.873\n",
            "Epoch: 67 - Train RMSE: 1.076, Valid RMSE: 0.915\n",
            "Epoch: 68 - Train RMSE: 1.000, Valid RMSE: 0.900\n",
            "Epoch: 69 - Train RMSE: 0.969, Valid RMSE: 0.947\n",
            "Epoch: 70 - Train RMSE: 1.000, Valid RMSE: 0.898\n",
            "Epoch: 71 - Train RMSE: 0.986, Valid RMSE: 1.041\n",
            "Epoch: 72 - Train RMSE: 0.986, Valid RMSE: 0.944\n",
            "Epoch: 73 - Train RMSE: 1.053, Valid RMSE: 1.017\n",
            "Epoch: 74 - Train RMSE: 1.005, Valid RMSE: 1.034\n",
            "Epoch: 75 - Train RMSE: 0.967, Valid RMSE: 0.822\n",
            "Epoch: 76 - Train RMSE: 0.973, Valid RMSE: 0.904\n",
            "Epoch: 77 - Train RMSE: 0.979, Valid RMSE: 0.873\n",
            "Epoch: 78 - Train RMSE: 0.910, Valid RMSE: 0.989\n",
            "Epoch: 79 - Train RMSE: 0.966, Valid RMSE: 0.911\n",
            "Epoch: 80 - Train RMSE: 0.957, Valid RMSE: 0.878\n",
            "Epoch: 81 - Train RMSE: 0.934, Valid RMSE: 0.961\n",
            "Epoch: 82 - Train RMSE: 0.919, Valid RMSE: 0.860\n",
            "Epoch: 83 - Train RMSE: 0.956, Valid RMSE: 0.867\n",
            "Epoch: 84 - Train RMSE: 0.945, Valid RMSE: 0.823\n",
            "Epoch: 85 - Train RMSE: 0.904, Valid RMSE: 0.828\n",
            "Epoch: 86 - Train RMSE: 0.895, Valid RMSE: 0.807\n",
            "Epoch: 87 - Train RMSE: 0.943, Valid RMSE: 0.842\n",
            "Epoch: 88 - Train RMSE: 0.981, Valid RMSE: 0.839\n",
            "Epoch: 89 - Train RMSE: 0.920, Valid RMSE: 0.796\n",
            "Epoch: 90 - Train RMSE: 0.953, Valid RMSE: 0.842\n",
            "Epoch: 91 - Train RMSE: 0.915, Valid RMSE: 1.053\n",
            "Epoch: 92 - Train RMSE: 0.858, Valid RMSE: 0.886\n",
            "Epoch: 93 - Train RMSE: 0.945, Valid RMSE: 0.909\n",
            "Epoch: 94 - Train RMSE: 0.918, Valid RMSE: 0.815\n",
            "Epoch: 95 - Train RMSE: 0.936, Valid RMSE: 0.810\n",
            "Epoch: 96 - Train RMSE: 0.914, Valid RMSE: 0.859\n",
            "Epoch: 97 - Train RMSE: 0.915, Valid RMSE: 0.902\n",
            "Epoch: 98 - Train RMSE: 0.896, Valid RMSE: 0.833\n",
            "Epoch: 99 - Train RMSE: 0.874, Valid RMSE: 0.779\n",
            "Epoch: 100 - Train RMSE: 0.853, Valid RMSE: 0.828\n",
            "Epoch: 101 - Train RMSE: 0.840, Valid RMSE: 0.820\n",
            "Epoch: 102 - Train RMSE: 0.870, Valid RMSE: 0.840\n",
            "Epoch: 103 - Train RMSE: 0.892, Valid RMSE: 0.818\n",
            "Epoch: 104 - Train RMSE: 0.910, Valid RMSE: 0.796\n",
            "Epoch: 105 - Train RMSE: 0.884, Valid RMSE: 0.795\n",
            "Epoch: 106 - Train RMSE: 0.859, Valid RMSE: 0.817\n",
            "Epoch: 107 - Train RMSE: 0.832, Valid RMSE: 0.885\n",
            "Epoch: 108 - Train RMSE: 0.958, Valid RMSE: 0.779\n",
            "Epoch: 109 - Train RMSE: 0.872, Valid RMSE: 0.870\n",
            "Epoch: 110 - Train RMSE: 0.822, Valid RMSE: 0.784\n",
            "Epoch: 111 - Train RMSE: 0.773, Valid RMSE: 0.908\n",
            "Epoch: 112 - Train RMSE: 0.854, Valid RMSE: 0.868\n",
            "Epoch: 113 - Train RMSE: 0.833, Valid RMSE: 0.871\n",
            "Epoch: 114 - Train RMSE: 0.790, Valid RMSE: 0.827\n",
            "Epoch: 115 - Train RMSE: 0.804, Valid RMSE: 0.813\n",
            "Epoch: 116 - Train RMSE: 0.791, Valid RMSE: 0.831\n",
            "Epoch: 117 - Train RMSE: 0.857, Valid RMSE: 0.738\n",
            "Epoch: 118 - Train RMSE: 0.856, Valid RMSE: 0.850\n",
            "Epoch: 119 - Train RMSE: 0.847, Valid RMSE: 0.779\n",
            "Epoch: 120 - Train RMSE: 0.839, Valid RMSE: 0.914\n",
            "Epoch: 121 - Train RMSE: 0.870, Valid RMSE: 0.800\n",
            "Epoch: 122 - Train RMSE: 0.765, Valid RMSE: 0.717\n",
            "Epoch: 123 - Train RMSE: 0.819, Valid RMSE: 0.761\n",
            "Epoch: 124 - Train RMSE: 0.793, Valid RMSE: 0.814\n",
            "Epoch: 125 - Train RMSE: 0.812, Valid RMSE: 0.759\n",
            "Epoch: 126 - Train RMSE: 0.801, Valid RMSE: 0.752\n",
            "Epoch: 127 - Train RMSE: 0.819, Valid RMSE: 0.825\n",
            "Epoch: 128 - Train RMSE: 0.848, Valid RMSE: 0.806\n",
            "Epoch: 129 - Train RMSE: 0.808, Valid RMSE: 0.771\n",
            "Epoch: 130 - Train RMSE: 0.792, Valid RMSE: 0.788\n",
            "Epoch: 131 - Train RMSE: 0.722, Valid RMSE: 0.814\n",
            "Epoch: 132 - Train RMSE: 0.778, Valid RMSE: 0.821\n",
            "Epoch: 133 - Train RMSE: 0.777, Valid RMSE: 0.858\n",
            "Epoch: 134 - Train RMSE: 0.773, Valid RMSE: 0.801\n",
            "Epoch: 135 - Train RMSE: 0.766, Valid RMSE: 0.752\n",
            "Epoch: 136 - Train RMSE: 0.733, Valid RMSE: 0.737\n",
            "Epoch: 137 - Train RMSE: 0.766, Valid RMSE: 0.714\n",
            "Epoch: 138 - Train RMSE: 0.773, Valid RMSE: 0.754\n",
            "Epoch: 139 - Train RMSE: 0.811, Valid RMSE: 0.781\n",
            "Epoch: 140 - Train RMSE: 0.787, Valid RMSE: 0.791\n",
            "Epoch: 141 - Train RMSE: 0.791, Valid RMSE: 0.686\n",
            "Epoch: 142 - Train RMSE: 0.848, Valid RMSE: 0.864\n",
            "Epoch: 143 - Train RMSE: 0.949, Valid RMSE: 0.798\n",
            "Epoch: 144 - Train RMSE: 0.846, Valid RMSE: 0.782\n",
            "Epoch: 145 - Train RMSE: 0.838, Valid RMSE: 0.788\n",
            "Epoch: 146 - Train RMSE: 0.880, Valid RMSE: 0.817\n",
            "Epoch: 147 - Train RMSE: 0.851, Valid RMSE: 0.755\n",
            "Epoch: 148 - Train RMSE: 0.753, Valid RMSE: 0.788\n",
            "Epoch: 149 - Train RMSE: 0.790, Valid RMSE: 0.817\n",
            "Epoch: 150 - Train RMSE: 0.854, Valid RMSE: 0.833\n",
            "Epoch: 151 - Train RMSE: 0.823, Valid RMSE: 0.825\n",
            "Epoch: 152 - Train RMSE: 0.813, Valid RMSE: 0.749\n",
            "Epoch: 153 - Train RMSE: 0.778, Valid RMSE: 0.857\n",
            "Epoch: 154 - Train RMSE: 0.760, Valid RMSE: 0.828\n",
            "Epoch: 155 - Train RMSE: 0.808, Valid RMSE: 0.820\n",
            "Epoch: 156 - Train RMSE: 0.810, Valid RMSE: 0.817\n",
            "Epoch: 157 - Train RMSE: 0.808, Valid RMSE: 0.832\n",
            "Epoch: 158 - Train RMSE: 0.811, Valid RMSE: 0.815\n",
            "Epoch: 159 - Train RMSE: 0.783, Valid RMSE: 0.767\n",
            "Epoch: 160 - Train RMSE: 0.769, Valid RMSE: 0.744\n",
            "Epoch: 161 - Train RMSE: 0.730, Valid RMSE: 0.688\n",
            "Epoch: 162 - Train RMSE: 0.705, Valid RMSE: 0.736\n",
            "Epoch: 163 - Train RMSE: 0.711, Valid RMSE: 0.747\n",
            "Epoch: 164 - Train RMSE: 0.785, Valid RMSE: 0.731\n",
            "Epoch: 165 - Train RMSE: 0.727, Valid RMSE: 0.724\n",
            "Epoch: 166 - Train RMSE: 0.702, Valid RMSE: 0.738\n",
            "Epoch: 167 - Train RMSE: 0.720, Valid RMSE: 0.715\n",
            "Epoch: 168 - Train RMSE: 0.711, Valid RMSE: 0.774\n",
            "Epoch: 169 - Train RMSE: 0.703, Valid RMSE: 0.705\n",
            "Epoch: 170 - Train RMSE: 0.702, Valid RMSE: 0.830\n",
            "Epoch: 171 - Train RMSE: 0.747, Valid RMSE: 0.718\n",
            "Epoch: 172 - Train RMSE: 0.743, Valid RMSE: 0.741\n",
            "Epoch: 173 - Train RMSE: 0.702, Valid RMSE: 0.755\n",
            "Epoch: 174 - Train RMSE: 0.745, Valid RMSE: 0.720\n",
            "Epoch: 175 - Train RMSE: 0.691, Valid RMSE: 0.688\n",
            "Epoch: 176 - Train RMSE: 0.765, Valid RMSE: 0.849\n",
            "Epoch: 177 - Train RMSE: 0.754, Valid RMSE: 0.753\n",
            "Epoch: 178 - Train RMSE: 0.765, Valid RMSE: 0.748\n",
            "Epoch: 179 - Train RMSE: 0.777, Valid RMSE: 0.750\n",
            "Epoch: 180 - Train RMSE: 0.739, Valid RMSE: 0.755\n",
            "Epoch: 181 - Train RMSE: 0.723, Valid RMSE: 0.663\n",
            "Epoch: 182 - Train RMSE: 0.694, Valid RMSE: 0.815\n",
            "Epoch: 183 - Train RMSE: 0.717, Valid RMSE: 0.748\n",
            "Epoch: 184 - Train RMSE: 0.726, Valid RMSE: 0.708\n",
            "Epoch: 185 - Train RMSE: 0.706, Valid RMSE: 0.726\n",
            "Epoch: 186 - Train RMSE: 0.738, Valid RMSE: 0.756\n",
            "Epoch: 187 - Train RMSE: 0.703, Valid RMSE: 0.769\n",
            "Epoch: 188 - Train RMSE: 0.709, Valid RMSE: 0.740\n",
            "Epoch: 189 - Train RMSE: 0.679, Valid RMSE: 0.795\n",
            "Epoch: 190 - Train RMSE: 0.730, Valid RMSE: 0.647\n",
            "Epoch: 191 - Train RMSE: 0.696, Valid RMSE: 0.730\n",
            "Epoch: 192 - Train RMSE: 0.702, Valid RMSE: 0.699\n",
            "Epoch: 193 - Train RMSE: 0.685, Valid RMSE: 0.703\n",
            "Epoch: 194 - Train RMSE: 0.702, Valid RMSE: 0.725\n",
            "Epoch: 195 - Train RMSE: 0.672, Valid RMSE: 0.785\n",
            "Epoch: 196 - Train RMSE: 0.699, Valid RMSE: 0.724\n",
            "Epoch: 197 - Train RMSE: 0.639, Valid RMSE: 0.696\n",
            "Epoch: 198 - Train RMSE: 0.666, Valid RMSE: 0.836\n",
            "Epoch: 199 - Train RMSE: 0.671, Valid RMSE: 0.705\n",
            "Epoch: 200 - Train RMSE: 0.658, Valid RMSE: 0.798\n",
            "Epoch: 201 - Train RMSE: 0.691, Valid RMSE: 0.823\n",
            "Epoch: 202 - Train RMSE: 0.693, Valid RMSE: 0.764\n",
            "Epoch: 203 - Train RMSE: 0.714, Valid RMSE: 0.910\n",
            "Epoch: 204 - Train RMSE: 0.667, Valid RMSE: 0.761\n",
            "Epoch: 205 - Train RMSE: 0.671, Valid RMSE: 0.761\n",
            "Epoch: 206 - Train RMSE: 0.650, Valid RMSE: 0.796\n",
            "Epoch: 207 - Train RMSE: 0.671, Valid RMSE: 0.736\n",
            "Epoch: 208 - Train RMSE: 0.675, Valid RMSE: 0.742\n",
            "Epoch: 209 - Train RMSE: 0.672, Valid RMSE: 0.738\n",
            "Epoch: 210 - Train RMSE: 0.649, Valid RMSE: 0.759\n",
            "Epoch: 211 - Train RMSE: 0.639, Valid RMSE: 0.676\n",
            "Epoch: 212 - Train RMSE: 0.668, Valid RMSE: 0.778\n",
            "Epoch: 213 - Train RMSE: 0.617, Valid RMSE: 0.778\n",
            "Epoch: 214 - Train RMSE: 0.643, Valid RMSE: 0.742\n",
            "Epoch: 215 - Train RMSE: 0.645, Valid RMSE: 0.753\n",
            "Epoch: 216 - Train RMSE: 0.652, Valid RMSE: 0.750\n",
            "Epoch: 217 - Train RMSE: 0.670, Valid RMSE: 0.679\n",
            "Epoch: 218 - Train RMSE: 0.615, Valid RMSE: 0.703\n",
            "Epoch: 219 - Train RMSE: 0.638, Valid RMSE: 0.718\n",
            "Epoch: 220 - Train RMSE: 0.641, Valid RMSE: 0.719\n",
            "Epoch: 221 - Train RMSE: 0.634, Valid RMSE: 0.700\n",
            "Epoch: 222 - Train RMSE: 0.643, Valid RMSE: 0.678\n",
            "Epoch: 223 - Train RMSE: 0.646, Valid RMSE: 0.787\n",
            "Epoch: 224 - Train RMSE: 0.644, Valid RMSE: 0.790\n",
            "Epoch: 225 - Train RMSE: 0.631, Valid RMSE: 0.728\n",
            "Epoch: 226 - Train RMSE: 0.669, Valid RMSE: 0.714\n",
            "Epoch: 227 - Train RMSE: 0.610, Valid RMSE: 0.659\n",
            "Epoch: 228 - Train RMSE: 0.624, Valid RMSE: 0.821\n",
            "Epoch: 229 - Train RMSE: 0.618, Valid RMSE: 0.686\n",
            "Epoch: 230 - Train RMSE: 0.623, Valid RMSE: 0.738\n",
            "Epoch: 231 - Train RMSE: 0.665, Valid RMSE: 0.731\n",
            "Epoch: 232 - Train RMSE: 0.604, Valid RMSE: 0.710\n",
            "Epoch: 233 - Train RMSE: 0.622, Valid RMSE: 0.753\n",
            "Epoch: 234 - Train RMSE: 0.647, Valid RMSE: 0.741\n",
            "Epoch: 235 - Train RMSE: 0.627, Valid RMSE: 0.782\n",
            "Epoch: 236 - Train RMSE: 0.661, Valid RMSE: 0.692\n",
            "Epoch: 237 - Train RMSE: 0.624, Valid RMSE: 0.732\n",
            "Epoch: 238 - Train RMSE: 0.629, Valid RMSE: 0.669\n",
            "Epoch: 239 - Train RMSE: 0.665, Valid RMSE: 0.668\n",
            "Epoch: 240 - Train RMSE: 0.620, Valid RMSE: 0.755\n",
            "Epoch: 241 - Train RMSE: 0.645, Valid RMSE: 0.700\n",
            "Epoch: 242 - Train RMSE: 0.626, Valid RMSE: 0.678\n",
            "Epoch: 243 - Train RMSE: 0.635, Valid RMSE: 0.690\n",
            "Epoch: 244 - Train RMSE: 0.614, Valid RMSE: 0.733\n",
            "Epoch: 245 - Train RMSE: 0.660, Valid RMSE: 0.644\n",
            "Epoch: 246 - Train RMSE: 0.607, Valid RMSE: 0.731\n",
            "Epoch: 247 - Train RMSE: 0.674, Valid RMSE: 0.651\n",
            "Epoch: 248 - Train RMSE: 0.582, Valid RMSE: 0.689\n",
            "Epoch: 249 - Train RMSE: 0.654, Valid RMSE: 0.779\n"
          ]
        }
      ]
    },
    {
      "cell_type": "markdown",
      "source": [
        "### 1. Update Attention Mechanism - Use new activation functions, try leaky relu and other things.\n",
        "\n",
        "### 2. Try MutliHeadAttention. "
      ],
      "metadata": {
        "id": "-coMryO-kLaK"
      }
    },
    {
      "cell_type": "code",
      "source": [
        "def linear_layer(in_channels, out_channels):\n",
        "  return nn.Sequential(nn.Linear(in_channels, out_channels), \n",
        "                      nn.BatchNorm1d(out_channels),\n",
        "                      nn.ReLU())\n",
        "  \n",
        "def attn_heads(in_channels, out_channels):\n",
        "  return nn.Sequential(nn.Linear(in_channels, out_channels), \n",
        "                      # nn.BatchNorm1d(out_channels),\n",
        "                      nn.Tanh())\n",
        "\n",
        "class ResLayer(nn.Module):\n",
        "  def __init__(self, in_c, out_c):\n",
        "    super().__init__()\n",
        "    self.l1 = linear_layer(in_c, out_c)\n",
        "    self.l2 = linear_layer(out_c, out_c)\n",
        "    self.l3 = linear_layer(out_c, out_c)\n",
        "  \n",
        "  def forward(self, x):\n",
        "    x = self.l1(x)\n",
        "    return self.l3(self.l2(x)) + x"
      ],
      "metadata": {
        "id": "ul1vYBgpktGK"
      },
      "execution_count": 32,
      "outputs": []
    },
    {
      "cell_type": "code",
      "source": [
        "class GATv2ConvEV4(MessagePassing):\n",
        "\n",
        "  def __init__(self, n_in, n_out, e_in, e_out):\n",
        "    super().__init__(aggr = 'add')\n",
        "    self.n_transform = ResLayer(n_in, n_out)\n",
        "    self.e_transform = ResLayer(e_in, e_out)\n",
        "\n",
        "    # Node\n",
        "    self.n_attn = attn_heads(2*n_out + e_out, 1)\n",
        "    self.e_attn = attn_heads(2*n_out + e_out, 1)\n",
        "    self.s_attn = attn_heads(2*n_out + e_out, 1)\n",
        "    self.n_message = ResLayer(e_out + 2*n_out , n_out)\n",
        "\n",
        "    # For Edge\n",
        "    self.n1_attn = attn_heads(e_out + 2*n_out, 1)\n",
        "    self.n2_attn = attn_heads(e_out + 2*n_out, 1)\n",
        "    self.s_e_attn = attn_heads(e_out + 2*n_out, 1)\n",
        "    self.e_update = ResLayer(e_out + 2*n_out, e_out)\n",
        "\n",
        "    # For Node Update\n",
        "    self.u_m_attn = attn_heads(2*n_out, 1)\n",
        "    self.u_s_attn = attn_heads(2*n_out, 1)\n",
        "    self.n_update = ResLayer(2*n_out, n_out)\n",
        "\n",
        "    self.n_in = n_in\n",
        "    self.n_out = n_out\n",
        "    self.e_in = e_in\n",
        "    self.e_out = e_out\n",
        "\n",
        "  def forward(self, x, edge_index, edge_attr):\n",
        "    # st()\n",
        "    x = self.n_transform(x)\n",
        "    edge_attr = self.e_transform(edge_attr)\n",
        "\n",
        "    node_features = self.propagate(edge_index, x = x, edge_attr = edge_attr)\n",
        "    edge_features = self.edge_updater(edge_index, x = x, edge_attr = edge_attr)\n",
        "\n",
        "    return node_features, edge_features\n",
        "  \n",
        "  def edge_update(self, edge_index, x_i, x_j, edge_attr):\n",
        "    # 2. Edge Message Calculation\n",
        "\n",
        "    input = torch.cat([x_i, x_j, edge_attr], dim = 1)\n",
        "    n1_attn = self.n1_attn(input)\n",
        "    n2_attn = self.n2_attn(input)\n",
        "    self_attn = self.s_e_attn(input)\n",
        "\n",
        "    edge_message = torch.cat([n1_attn*x_i, n2_attn*x_j, self_attn*edge_attr], dim = 1)\n",
        "    return self.e_update(edge_message)\n",
        "  \n",
        "  def message(self, x_i, x_j, edge_index, edge_attr):\n",
        "\n",
        "    input = torch.cat([x_i, x_j, edge_attr], dim = 1)\n",
        "    # 1. Node Message Calculation\n",
        "    \n",
        "    neighbour_attn = self.n_attn(input)\n",
        "    edge_attn = self.e_attn(input)\n",
        "    self_attn = self.s_attn(input)\n",
        "    \n",
        "    # 1.1 Attention Softmax\n",
        "    neighbour_attn = softmax(neighbour_attn, edge_index[0])\n",
        "    edge_attn = softmax(edge_attn, edge_index[0])\n",
        "    self_attn = softmax(self_attn, edge_index[0])\n",
        "\n",
        "    # 1.2 Gather the message\n",
        "    node_message = torch.cat([self_attn*x_i, neighbour_attn*x_j, edge_attn*edge_attr], dim = 1)\n",
        "\n",
        "    op = self.n_message(node_message)\n",
        "    return op\n",
        "  \n",
        "  def update(self, aggregated_output, x):\n",
        "    '''\n",
        "    input = aggregated_output || x\n",
        "    message_attn = msg_attn(input)\n",
        "    self_attn = self_attn(input)\n",
        "\n",
        "    h` = update(message_attn*aggregated_output || self_attn*x)\n",
        "    return h`\n",
        "    '''\n",
        "\n",
        "    input = torch.cat([aggregated_output, x], dim = 1)\n",
        "    m_attn = self.u_m_attn(input)\n",
        "    s_attn = self.u_s_attn(input)\n",
        "\n",
        "    return self.n_update(torch.cat([m_attn*aggregated_output, s_attn*x], dim = 1))\n",
        "  "
      ],
      "metadata": {
        "id": "tmvu880Vk5Sz"
      },
      "execution_count": 50,
      "outputs": []
    },
    {
      "cell_type": "code",
      "source": [
        "class GATV4(torch.nn.Module):\n",
        "    def __init__(self, hidden_channels, dataset = train_dataset, regression = False):\n",
        "        super().__init__()\n",
        "        torch.manual_seed(12345)\n",
        "        self.conv1 = GATv2ConvEV4(dataset.num_node_features, hidden_channels, dataset.num_edge_features, hidden_channels)\n",
        "        self.conv2 = GATv2ConvEV4(hidden_channels, hidden_channels, hidden_channels, hidden_channels)\n",
        "        self.conv3 = GATv2ConvEV4(hidden_channels, hidden_channels, hidden_channels, hidden_channels)\n",
        "        self.conv4 = GATv2ConvEV4(hidden_channels, hidden_channels, hidden_channels, hidden_channels)\n",
        "        self.regression = regression\n",
        "        if regression:\n",
        "          self.lin = nn.Sequential(nn.Linear(hidden_channels, 1))\n",
        "        else:\n",
        "          self.lin = ResLayer(hidden_channels, dataset.num_classes)  \n",
        "\n",
        "    def forward(self, x, edge_index, edge_attr, batch):\n",
        "        # 1. Obtain node embeddings \n",
        "        x, edge_attr = self.conv1(x, edge_index, edge_attr = edge_attr)\n",
        "        x, edge_attr = F.dropout(x, p = 0.4), F.dropout(edge_attr, p = 0.4)\n",
        "        x, edge_attr = self.conv2(x, edge_index, edge_attr = edge_attr)\n",
        "        x, edge_attr = F.dropout(x, p = 0.4), F.dropout(edge_attr, p = 0.4)\n",
        "        x, edge_attr = self.conv3(x, edge_index, edge_attr = edge_attr)\n",
        "        x, edge_attr = F.dropout(x, p = 0.4), F.dropout(edge_attr, p = 0.4)\n",
        "        x, edge_attr = self.conv4(x, edge_index, edge_attr = edge_attr)\n",
        "        x, edge_attr = F.dropout(x, p = 0.2), F.dropout(edge_attr, p = 0.2)\n",
        "       \n",
        "        # 2. Readout layer\n",
        "        x = global_mean_pool(x, batch)  # [batch_size, hidden_channels]\n",
        "\n",
        "        # 3. Apply a final classifier\n",
        "        x = F.dropout(x, p=0.2, training=self.training)\n",
        "        if self.regression:\n",
        "          x = self.lin(x)\n",
        "        else:\n",
        "          x = F.sigmoid(self.lin(x))\n",
        "        \n",
        "        return x"
      ],
      "metadata": {
        "id": "2SEOog3Np1cW"
      },
      "execution_count": 29,
      "outputs": []
    },
    {
      "cell_type": "code",
      "source": [
        "model = GATV4(hidden_channels=64, dataset= train_dataset, regression= True)\n",
        "optimizer = torch.optim.Adam(model.parameters(), lr = 1e-03, weight_decay = 5e-03)\n",
        "lr_scheduler = torch.optim.lr_scheduler.OneCycleLR(optimizer,\n",
        "                                                  max_lr = 1e-03, \n",
        "                                                  epochs = 250, \n",
        "                                                  steps_per_epoch = 29)\n",
        "criterion = torch.nn.MSELoss()\n",
        "model.to(device)\n",
        "\n",
        "def train():\n",
        "    model.train()\n",
        "    train_losses = []\n",
        "    for data in train_loader:  # Iterate in batches over the training dataset.\n",
        "        data.to(device)\n",
        "        out = model(data.x, data.edge_index, data.edge_attr, data.batch)\n",
        "        # out = model(data.x, data.edge_index, data.batch)\n",
        "        loss = criterion(out, data.y)  # Compute the loss.\n",
        "        loss.backward()  # Derive gradients.\n",
        "        optimizer.step()  # Update parameters based on gradients.\n",
        "        optimizer.zero_grad()  # Clear gradients.\n",
        "        train_losses.append(loss.item())\n",
        "        lr_scheduler.step()\n",
        "    \n",
        "    model.eval()\n",
        "    val_losses = []\n",
        "    with torch.no_grad():\n",
        "        for data in valid_loader:\n",
        "            data.to(device)\n",
        "            out = model(data.x, data.edge_index, data.edge_attr, data.batch)\n",
        "            loss = criterion(out, data.y)\n",
        "            val_losses.append(loss.item())\n",
        "    \n",
        "    return np.mean(np.sqrt(train_losses)), np.mean(np.sqrt(val_losses))\n",
        "    \n",
        "\n",
        "\n",
        "for epoch in range(1, 250):\n",
        "    train_loss , valid_loss = train()\n",
        "    print(f'Epoch: {epoch} - Train RMSE: {train_loss:.3f}, Valid RMSE: {valid_loss:.3f}')"
      ],
      "metadata": {
        "colab": {
          "base_uri": "https://localhost:8080/"
        },
        "id": "MDQAceIdk7zU",
        "outputId": "661ba763-e704-43fe-b174-06c70abf9707"
      },
      "execution_count": 30,
      "outputs": [
        {
          "output_type": "stream",
          "name": "stdout",
          "text": [
            "Epoch: 1 - Train RMSE: 3.569, Valid RMSE: 3.624\n",
            "Epoch: 2 - Train RMSE: 3.512, Valid RMSE: 3.479\n",
            "Epoch: 3 - Train RMSE: 3.522, Valid RMSE: 3.459\n",
            "Epoch: 4 - Train RMSE: 3.410, Valid RMSE: 3.418\n",
            "Epoch: 5 - Train RMSE: 3.345, Valid RMSE: 3.301\n",
            "Epoch: 6 - Train RMSE: 3.319, Valid RMSE: 3.193\n",
            "Epoch: 7 - Train RMSE: 3.164, Valid RMSE: 3.187\n",
            "Epoch: 8 - Train RMSE: 3.135, Valid RMSE: 3.041\n",
            "Epoch: 9 - Train RMSE: 3.060, Valid RMSE: 2.946\n",
            "Epoch: 10 - Train RMSE: 2.895, Valid RMSE: 2.828\n",
            "Epoch: 11 - Train RMSE: 2.735, Valid RMSE: 2.780\n",
            "Epoch: 12 - Train RMSE: 2.512, Valid RMSE: 2.477\n",
            "Epoch: 13 - Train RMSE: 2.405, Valid RMSE: 2.398\n",
            "Epoch: 14 - Train RMSE: 2.239, Valid RMSE: 2.144\n",
            "Epoch: 15 - Train RMSE: 2.074, Valid RMSE: 2.031\n",
            "Epoch: 16 - Train RMSE: 2.039, Valid RMSE: 1.964\n",
            "Epoch: 17 - Train RMSE: 1.928, Valid RMSE: 1.932\n",
            "Epoch: 18 - Train RMSE: 1.875, Valid RMSE: 1.831\n",
            "Epoch: 19 - Train RMSE: 1.854, Valid RMSE: 1.864\n",
            "Epoch: 20 - Train RMSE: 1.788, Valid RMSE: 1.903\n",
            "Epoch: 21 - Train RMSE: 1.722, Valid RMSE: 1.722\n",
            "Epoch: 22 - Train RMSE: 1.693, Valid RMSE: 1.697\n",
            "Epoch: 23 - Train RMSE: 1.748, Valid RMSE: 1.587\n",
            "Epoch: 24 - Train RMSE: 1.644, Valid RMSE: 1.595\n",
            "Epoch: 25 - Train RMSE: 1.586, Valid RMSE: 1.467\n",
            "Epoch: 26 - Train RMSE: 1.569, Valid RMSE: 1.500\n",
            "Epoch: 27 - Train RMSE: 1.520, Valid RMSE: 1.299\n",
            "Epoch: 28 - Train RMSE: 1.491, Valid RMSE: 1.397\n",
            "Epoch: 29 - Train RMSE: 1.449, Valid RMSE: 1.339\n",
            "Epoch: 30 - Train RMSE: 1.466, Valid RMSE: 1.365\n",
            "Epoch: 31 - Train RMSE: 1.476, Valid RMSE: 1.253\n",
            "Epoch: 32 - Train RMSE: 1.458, Valid RMSE: 1.252\n",
            "Epoch: 33 - Train RMSE: 1.379, Valid RMSE: 1.343\n",
            "Epoch: 34 - Train RMSE: 1.336, Valid RMSE: 1.217\n",
            "Epoch: 35 - Train RMSE: 1.334, Valid RMSE: 1.267\n",
            "Epoch: 36 - Train RMSE: 1.403, Valid RMSE: 1.235\n",
            "Epoch: 37 - Train RMSE: 1.279, Valid RMSE: 1.159\n",
            "Epoch: 38 - Train RMSE: 1.357, Valid RMSE: 1.228\n",
            "Epoch: 39 - Train RMSE: 1.308, Valid RMSE: 1.273\n",
            "Epoch: 40 - Train RMSE: 1.269, Valid RMSE: 1.219\n",
            "Epoch: 41 - Train RMSE: 1.298, Valid RMSE: 1.204\n",
            "Epoch: 42 - Train RMSE: 1.324, Valid RMSE: 1.168\n",
            "Epoch: 43 - Train RMSE: 1.305, Valid RMSE: 1.161\n",
            "Epoch: 44 - Train RMSE: 1.300, Valid RMSE: 1.294\n",
            "Epoch: 45 - Train RMSE: 1.311, Valid RMSE: 1.242\n",
            "Epoch: 46 - Train RMSE: 1.319, Valid RMSE: 1.073\n",
            "Epoch: 47 - Train RMSE: 1.288, Valid RMSE: 1.144\n",
            "Epoch: 48 - Train RMSE: 1.246, Valid RMSE: 1.066\n",
            "Epoch: 49 - Train RMSE: 1.261, Valid RMSE: 1.053\n",
            "Epoch: 50 - Train RMSE: 1.278, Valid RMSE: 1.142\n",
            "Epoch: 51 - Train RMSE: 1.296, Valid RMSE: 1.110\n",
            "Epoch: 52 - Train RMSE: 1.280, Valid RMSE: 1.038\n",
            "Epoch: 53 - Train RMSE: 1.213, Valid RMSE: 1.188\n",
            "Epoch: 54 - Train RMSE: 1.183, Valid RMSE: 1.057\n",
            "Epoch: 55 - Train RMSE: 1.215, Valid RMSE: 1.175\n",
            "Epoch: 56 - Train RMSE: 1.266, Valid RMSE: 1.091\n",
            "Epoch: 57 - Train RMSE: 1.229, Valid RMSE: 1.158\n",
            "Epoch: 58 - Train RMSE: 1.162, Valid RMSE: 1.005\n",
            "Epoch: 59 - Train RMSE: 1.148, Valid RMSE: 0.989\n",
            "Epoch: 60 - Train RMSE: 1.149, Valid RMSE: 0.984\n",
            "Epoch: 61 - Train RMSE: 1.108, Valid RMSE: 1.105\n",
            "Epoch: 62 - Train RMSE: 1.166, Valid RMSE: 1.250\n",
            "Epoch: 63 - Train RMSE: 1.106, Valid RMSE: 1.045\n",
            "Epoch: 64 - Train RMSE: 1.054, Valid RMSE: 0.989\n",
            "Epoch: 65 - Train RMSE: 1.086, Valid RMSE: 0.946\n",
            "Epoch: 66 - Train RMSE: 1.075, Valid RMSE: 1.107\n",
            "Epoch: 67 - Train RMSE: 1.116, Valid RMSE: 1.012\n",
            "Epoch: 68 - Train RMSE: 1.045, Valid RMSE: 0.993\n",
            "Epoch: 69 - Train RMSE: 1.042, Valid RMSE: 0.935\n",
            "Epoch: 70 - Train RMSE: 1.040, Valid RMSE: 1.007\n",
            "Epoch: 71 - Train RMSE: 1.068, Valid RMSE: 0.956\n",
            "Epoch: 72 - Train RMSE: 1.021, Valid RMSE: 1.008\n",
            "Epoch: 73 - Train RMSE: 1.054, Valid RMSE: 1.060\n",
            "Epoch: 74 - Train RMSE: 0.995, Valid RMSE: 1.064\n",
            "Epoch: 75 - Train RMSE: 0.983, Valid RMSE: 0.907\n",
            "Epoch: 76 - Train RMSE: 0.986, Valid RMSE: 0.880\n",
            "Epoch: 77 - Train RMSE: 1.060, Valid RMSE: 0.908\n",
            "Epoch: 78 - Train RMSE: 0.944, Valid RMSE: 1.006\n",
            "Epoch: 79 - Train RMSE: 1.006, Valid RMSE: 0.987\n",
            "Epoch: 80 - Train RMSE: 0.982, Valid RMSE: 0.995\n",
            "Epoch: 81 - Train RMSE: 0.997, Valid RMSE: 1.032\n",
            "Epoch: 82 - Train RMSE: 0.973, Valid RMSE: 1.014\n",
            "Epoch: 83 - Train RMSE: 0.968, Valid RMSE: 1.000\n",
            "Epoch: 84 - Train RMSE: 1.000, Valid RMSE: 0.982\n",
            "Epoch: 85 - Train RMSE: 0.979, Valid RMSE: 0.901\n",
            "Epoch: 86 - Train RMSE: 0.944, Valid RMSE: 0.892\n",
            "Epoch: 87 - Train RMSE: 0.955, Valid RMSE: 0.833\n",
            "Epoch: 88 - Train RMSE: 0.955, Valid RMSE: 0.783\n",
            "Epoch: 89 - Train RMSE: 0.924, Valid RMSE: 0.785\n",
            "Epoch: 90 - Train RMSE: 0.968, Valid RMSE: 0.939\n",
            "Epoch: 91 - Train RMSE: 0.959, Valid RMSE: 0.904\n",
            "Epoch: 92 - Train RMSE: 0.922, Valid RMSE: 0.858\n",
            "Epoch: 93 - Train RMSE: 0.975, Valid RMSE: 0.972\n",
            "Epoch: 94 - Train RMSE: 0.970, Valid RMSE: 0.848\n",
            "Epoch: 95 - Train RMSE: 0.983, Valid RMSE: 0.839\n",
            "Epoch: 96 - Train RMSE: 0.998, Valid RMSE: 1.013\n",
            "Epoch: 97 - Train RMSE: 0.942, Valid RMSE: 0.824\n",
            "Epoch: 98 - Train RMSE: 0.928, Valid RMSE: 0.874\n",
            "Epoch: 99 - Train RMSE: 0.891, Valid RMSE: 0.807\n",
            "Epoch: 100 - Train RMSE: 0.937, Valid RMSE: 0.944\n",
            "Epoch: 101 - Train RMSE: 0.894, Valid RMSE: 0.833\n",
            "Epoch: 102 - Train RMSE: 0.905, Valid RMSE: 0.909\n",
            "Epoch: 103 - Train RMSE: 0.900, Valid RMSE: 0.864\n",
            "Epoch: 104 - Train RMSE: 0.928, Valid RMSE: 0.892\n",
            "Epoch: 105 - Train RMSE: 0.946, Valid RMSE: 0.781\n",
            "Epoch: 106 - Train RMSE: 0.892, Valid RMSE: 0.813\n",
            "Epoch: 107 - Train RMSE: 0.856, Valid RMSE: 0.779\n",
            "Epoch: 108 - Train RMSE: 0.973, Valid RMSE: 0.850\n",
            "Epoch: 109 - Train RMSE: 0.900, Valid RMSE: 0.809\n",
            "Epoch: 110 - Train RMSE: 0.854, Valid RMSE: 0.778\n",
            "Epoch: 111 - Train RMSE: 0.831, Valid RMSE: 0.923\n",
            "Epoch: 112 - Train RMSE: 0.917, Valid RMSE: 0.828\n",
            "Epoch: 113 - Train RMSE: 0.856, Valid RMSE: 0.863\n",
            "Epoch: 114 - Train RMSE: 0.805, Valid RMSE: 0.809\n",
            "Epoch: 115 - Train RMSE: 0.864, Valid RMSE: 0.790\n",
            "Epoch: 116 - Train RMSE: 0.811, Valid RMSE: 0.802\n",
            "Epoch: 117 - Train RMSE: 0.877, Valid RMSE: 0.815\n",
            "Epoch: 118 - Train RMSE: 0.873, Valid RMSE: 0.718\n",
            "Epoch: 119 - Train RMSE: 0.919, Valid RMSE: 0.797\n",
            "Epoch: 120 - Train RMSE: 0.856, Valid RMSE: 0.942\n",
            "Epoch: 121 - Train RMSE: 0.911, Valid RMSE: 0.842\n",
            "Epoch: 122 - Train RMSE: 0.818, Valid RMSE: 0.742\n",
            "Epoch: 123 - Train RMSE: 0.817, Valid RMSE: 0.742\n",
            "Epoch: 124 - Train RMSE: 0.786, Valid RMSE: 0.726\n",
            "Epoch: 125 - Train RMSE: 0.803, Valid RMSE: 0.770\n",
            "Epoch: 126 - Train RMSE: 0.845, Valid RMSE: 0.915\n",
            "Epoch: 127 - Train RMSE: 0.887, Valid RMSE: 0.822\n",
            "Epoch: 128 - Train RMSE: 0.902, Valid RMSE: 0.814\n",
            "Epoch: 129 - Train RMSE: 0.838, Valid RMSE: 0.793\n",
            "Epoch: 130 - Train RMSE: 0.832, Valid RMSE: 0.804\n",
            "Epoch: 131 - Train RMSE: 0.770, Valid RMSE: 0.806\n",
            "Epoch: 132 - Train RMSE: 0.782, Valid RMSE: 0.828\n",
            "Epoch: 133 - Train RMSE: 0.789, Valid RMSE: 0.878\n",
            "Epoch: 134 - Train RMSE: 0.822, Valid RMSE: 0.791\n",
            "Epoch: 135 - Train RMSE: 0.838, Valid RMSE: 0.786\n",
            "Epoch: 136 - Train RMSE: 0.770, Valid RMSE: 0.781\n",
            "Epoch: 137 - Train RMSE: 0.796, Valid RMSE: 0.750\n",
            "Epoch: 138 - Train RMSE: 0.767, Valid RMSE: 0.811\n",
            "Epoch: 139 - Train RMSE: 0.806, Valid RMSE: 0.845\n",
            "Epoch: 140 - Train RMSE: 0.796, Valid RMSE: 0.731\n",
            "Epoch: 141 - Train RMSE: 0.806, Valid RMSE: 0.704\n",
            "Epoch: 142 - Train RMSE: 0.942, Valid RMSE: 0.790\n",
            "Epoch: 143 - Train RMSE: 0.899, Valid RMSE: 0.829\n",
            "Epoch: 144 - Train RMSE: 0.854, Valid RMSE: 0.805\n",
            "Epoch: 145 - Train RMSE: 0.825, Valid RMSE: 0.701\n",
            "Epoch: 146 - Train RMSE: 0.900, Valid RMSE: 0.730\n",
            "Epoch: 147 - Train RMSE: 0.830, Valid RMSE: 0.741\n",
            "Epoch: 148 - Train RMSE: 0.775, Valid RMSE: 0.698\n",
            "Epoch: 149 - Train RMSE: 0.783, Valid RMSE: 0.781\n",
            "Epoch: 150 - Train RMSE: 0.802, Valid RMSE: 0.770\n",
            "Epoch: 151 - Train RMSE: 0.766, Valid RMSE: 0.743\n",
            "Epoch: 152 - Train RMSE: 0.782, Valid RMSE: 0.751\n",
            "Epoch: 153 - Train RMSE: 0.785, Valid RMSE: 0.754\n",
            "Epoch: 154 - Train RMSE: 0.712, Valid RMSE: 0.765\n",
            "Epoch: 155 - Train RMSE: 0.797, Valid RMSE: 0.771\n",
            "Epoch: 156 - Train RMSE: 0.871, Valid RMSE: 0.810\n",
            "Epoch: 157 - Train RMSE: 1.002, Valid RMSE: 0.838\n",
            "Epoch: 158 - Train RMSE: 0.865, Valid RMSE: 0.791\n",
            "Epoch: 159 - Train RMSE: 0.809, Valid RMSE: 0.761\n",
            "Epoch: 160 - Train RMSE: 0.790, Valid RMSE: 0.673\n",
            "Epoch: 161 - Train RMSE: 0.757, Valid RMSE: 0.675\n",
            "Epoch: 162 - Train RMSE: 0.753, Valid RMSE: 0.658\n",
            "Epoch: 163 - Train RMSE: 0.715, Valid RMSE: 0.785\n",
            "Epoch: 164 - Train RMSE: 0.791, Valid RMSE: 0.753\n",
            "Epoch: 165 - Train RMSE: 0.758, Valid RMSE: 0.759\n",
            "Epoch: 166 - Train RMSE: 0.734, Valid RMSE: 0.714\n",
            "Epoch: 167 - Train RMSE: 0.731, Valid RMSE: 0.739\n",
            "Epoch: 168 - Train RMSE: 0.693, Valid RMSE: 0.744\n",
            "Epoch: 169 - Train RMSE: 0.717, Valid RMSE: 0.712\n",
            "Epoch: 170 - Train RMSE: 0.700, Valid RMSE: 0.824\n",
            "Epoch: 171 - Train RMSE: 0.758, Valid RMSE: 0.731\n",
            "Epoch: 172 - Train RMSE: 0.749, Valid RMSE: 0.821\n",
            "Epoch: 173 - Train RMSE: 0.748, Valid RMSE: 0.773\n",
            "Epoch: 174 - Train RMSE: 0.751, Valid RMSE: 0.678\n",
            "Epoch: 175 - Train RMSE: 0.714, Valid RMSE: 0.682\n",
            "Epoch: 176 - Train RMSE: 0.762, Valid RMSE: 0.795\n",
            "Epoch: 177 - Train RMSE: 0.720, Valid RMSE: 0.676\n",
            "Epoch: 178 - Train RMSE: 0.720, Valid RMSE: 0.723\n",
            "Epoch: 179 - Train RMSE: 0.782, Valid RMSE: 0.679\n",
            "Epoch: 180 - Train RMSE: 0.762, Valid RMSE: 0.735\n",
            "Epoch: 181 - Train RMSE: 0.734, Valid RMSE: 0.673\n",
            "Epoch: 182 - Train RMSE: 0.682, Valid RMSE: 0.694\n",
            "Epoch: 183 - Train RMSE: 0.727, Valid RMSE: 0.620\n",
            "Epoch: 184 - Train RMSE: 0.713, Valid RMSE: 0.656\n",
            "Epoch: 185 - Train RMSE: 0.705, Valid RMSE: 0.669\n",
            "Epoch: 186 - Train RMSE: 0.728, Valid RMSE: 0.698\n",
            "Epoch: 187 - Train RMSE: 0.716, Valid RMSE: 0.682\n",
            "Epoch: 188 - Train RMSE: 0.707, Valid RMSE: 0.659\n",
            "Epoch: 189 - Train RMSE: 0.690, Valid RMSE: 0.709\n",
            "Epoch: 190 - Train RMSE: 0.755, Valid RMSE: 0.697\n",
            "Epoch: 191 - Train RMSE: 0.697, Valid RMSE: 0.693\n",
            "Epoch: 192 - Train RMSE: 0.690, Valid RMSE: 0.667\n",
            "Epoch: 193 - Train RMSE: 0.696, Valid RMSE: 0.729\n",
            "Epoch: 194 - Train RMSE: 0.706, Valid RMSE: 0.713\n",
            "Epoch: 195 - Train RMSE: 0.694, Valid RMSE: 0.715\n",
            "Epoch: 196 - Train RMSE: 0.693, Valid RMSE: 0.660\n",
            "Epoch: 197 - Train RMSE: 0.666, Valid RMSE: 0.665\n",
            "Epoch: 198 - Train RMSE: 0.684, Valid RMSE: 0.813\n",
            "Epoch: 199 - Train RMSE: 0.697, Valid RMSE: 0.705\n",
            "Epoch: 200 - Train RMSE: 0.679, Valid RMSE: 0.667\n",
            "Epoch: 201 - Train RMSE: 0.718, Valid RMSE: 0.632\n",
            "Epoch: 202 - Train RMSE: 0.689, Valid RMSE: 0.635\n",
            "Epoch: 203 - Train RMSE: 0.739, Valid RMSE: 0.727\n",
            "Epoch: 204 - Train RMSE: 0.686, Valid RMSE: 0.666\n",
            "Epoch: 205 - Train RMSE: 0.659, Valid RMSE: 0.655\n",
            "Epoch: 206 - Train RMSE: 0.646, Valid RMSE: 0.692\n",
            "Epoch: 207 - Train RMSE: 0.673, Valid RMSE: 0.630\n",
            "Epoch: 208 - Train RMSE: 0.707, Valid RMSE: 0.626\n",
            "Epoch: 209 - Train RMSE: 0.688, Valid RMSE: 0.647\n",
            "Epoch: 210 - Train RMSE: 0.653, Valid RMSE: 0.668\n",
            "Epoch: 211 - Train RMSE: 0.647, Valid RMSE: 0.664\n",
            "Epoch: 212 - Train RMSE: 0.696, Valid RMSE: 0.722\n",
            "Epoch: 213 - Train RMSE: 0.632, Valid RMSE: 0.712\n",
            "Epoch: 214 - Train RMSE: 0.672, Valid RMSE: 0.723\n",
            "Epoch: 215 - Train RMSE: 0.638, Valid RMSE: 0.747\n",
            "Epoch: 216 - Train RMSE: 0.654, Valid RMSE: 0.682\n",
            "Epoch: 217 - Train RMSE: 0.675, Valid RMSE: 0.647\n",
            "Epoch: 218 - Train RMSE: 0.627, Valid RMSE: 0.691\n",
            "Epoch: 219 - Train RMSE: 0.649, Valid RMSE: 0.631\n",
            "Epoch: 220 - Train RMSE: 0.656, Valid RMSE: 0.685\n",
            "Epoch: 221 - Train RMSE: 0.638, Valid RMSE: 0.664\n",
            "Epoch: 222 - Train RMSE: 0.653, Valid RMSE: 0.688\n",
            "Epoch: 223 - Train RMSE: 0.651, Valid RMSE: 0.679\n",
            "Epoch: 224 - Train RMSE: 0.641, Valid RMSE: 0.672\n",
            "Epoch: 225 - Train RMSE: 0.626, Valid RMSE: 0.687\n",
            "Epoch: 226 - Train RMSE: 0.672, Valid RMSE: 0.633\n",
            "Epoch: 227 - Train RMSE: 0.591, Valid RMSE: 0.642\n",
            "Epoch: 228 - Train RMSE: 0.634, Valid RMSE: 0.704\n",
            "Epoch: 229 - Train RMSE: 0.621, Valid RMSE: 0.751\n",
            "Epoch: 230 - Train RMSE: 0.640, Valid RMSE: 0.666\n",
            "Epoch: 231 - Train RMSE: 0.659, Valid RMSE: 0.711\n",
            "Epoch: 232 - Train RMSE: 0.607, Valid RMSE: 0.666\n",
            "Epoch: 233 - Train RMSE: 0.603, Valid RMSE: 0.653\n",
            "Epoch: 234 - Train RMSE: 0.646, Valid RMSE: 0.709\n",
            "Epoch: 235 - Train RMSE: 0.638, Valid RMSE: 0.640\n",
            "Epoch: 236 - Train RMSE: 0.650, Valid RMSE: 0.655\n",
            "Epoch: 237 - Train RMSE: 0.627, Valid RMSE: 0.643\n",
            "Epoch: 238 - Train RMSE: 0.628, Valid RMSE: 0.644\n",
            "Epoch: 239 - Train RMSE: 0.685, Valid RMSE: 0.681\n",
            "Epoch: 240 - Train RMSE: 0.623, Valid RMSE: 0.682\n",
            "Epoch: 241 - Train RMSE: 0.632, Valid RMSE: 0.708\n",
            "Epoch: 242 - Train RMSE: 0.626, Valid RMSE: 0.672\n",
            "Epoch: 243 - Train RMSE: 0.646, Valid RMSE: 0.692\n",
            "Epoch: 244 - Train RMSE: 0.614, Valid RMSE: 0.688\n",
            "Epoch: 245 - Train RMSE: 0.658, Valid RMSE: 0.686\n",
            "Epoch: 246 - Train RMSE: 0.592, Valid RMSE: 0.655\n",
            "Epoch: 247 - Train RMSE: 0.678, Valid RMSE: 0.700\n",
            "Epoch: 248 - Train RMSE: 0.592, Valid RMSE: 0.719\n",
            "Epoch: 249 - Train RMSE: 0.664, Valid RMSE: 0.732\n"
          ]
        }
      ]
    },
    {
      "cell_type": "code",
      "source": [
        "from torch_scatter import scatter_sum\n",
        "class GATV5(torch.nn.Module):\n",
        "    def __init__(self, hidden_channels, dataset = train_dataset, regression = False):\n",
        "        super().__init__()\n",
        "        torch.manual_seed(12345)\n",
        "        self.conv1 = GATv2ConvEV4(dataset.num_node_features, hidden_channels, dataset.num_edge_features, hidden_channels)\n",
        "        self.conv2 = GATv2ConvEV4(hidden_channels, hidden_channels, hidden_channels, hidden_channels)\n",
        "        self.conv3 = GATv2ConvEV4(hidden_channels, hidden_channels, hidden_channels, hidden_channels)\n",
        "        self.conv4 = GATv2ConvEV4(hidden_channels, hidden_channels, hidden_channels, hidden_channels)\n",
        "\n",
        "        self.feature_bn = nn.BatchNorm1d(hidden_channels)\n",
        "\n",
        "        self.regression = regression\n",
        "        if regression:\n",
        "          self.lin = nn.Sequential(nn.Linear(hidden_channels, 1))\n",
        "        else:\n",
        "          self.lin = ResLayer(hidden_channels, dataset.num_classes)  \n",
        "\n",
        "    def forward(self, x, edge_index, edge_attr, batch):\n",
        "        # 1. Obtain node embeddings \n",
        "        x, edge_attr = self.conv1(x, edge_index, edge_attr = edge_attr)\n",
        "        x, edge_attr = F.dropout(x, p = 0.4), F.dropout(edge_attr, p = 0.4)\n",
        "        x, edge_attr = self.conv2(x, edge_index, edge_attr = edge_attr)\n",
        "        x, edge_attr = F.dropout(x, p = 0.4), F.dropout(edge_attr, p = 0.4)\n",
        "        x, edge_attr = self.conv3(x, edge_index, edge_attr = edge_attr)\n",
        "        x, edge_attr = F.dropout(x, p = 0.4), F.dropout(edge_attr, p = 0.4)\n",
        "        x, edge_attr = self.conv4(x, edge_index, edge_attr = edge_attr)\n",
        "        x, edge_attr = F.dropout(x, p = 0.2), F.dropout(edge_attr, p = 0.2)\n",
        "       \n",
        "        # 2. Readout layer\n",
        "\n",
        "        x = global_add_pool(x, batch)  # [batch_size, hidden_channels]\n",
        "        edge = global_add_pool(edge_attr, batch[edge_index[0]])\n",
        "        try:\n",
        "          assert x.shape == edge.shape\n",
        "        except:\n",
        "\n",
        "          x = x[:edge.shape[0], :]\n",
        "        features = self.feature_bn(x + edge)\n",
        "\n",
        "        # 3. Apply a final classifier\n",
        "        features = F.dropout(features, p=0.2, training=self.training)\n",
        "        if self.regression:\n",
        "          features = self.lin(features)\n",
        "        else:\n",
        "          features = F.sigmoid(self.lin(features))\n",
        "        \n",
        "        return features"
      ],
      "metadata": {
        "id": "PeqXqSXAaQik"
      },
      "execution_count": 72,
      "outputs": []
    },
    {
      "cell_type": "code",
      "source": [
        "batch"
      ],
      "metadata": {
        "colab": {
          "base_uri": "https://localhost:8080/"
        },
        "id": "tAH6-zu0bAlN",
        "outputId": "bc082973-d813-4734-a18b-f3f8c1d87914"
      },
      "execution_count": 48,
      "outputs": [
        {
          "output_type": "execute_result",
          "data": {
            "text/plain": [
              "MolDataBatch(x=[397, 45], edge_index=[2, 810], edge_attr=[810, 10], cluster_index=[397], fra_edge_index=[2, 736], fra_edge_attr=[736, 10], y=[32, 1], batch=[397], ptr=[33])"
            ]
          },
          "metadata": {},
          "execution_count": 48
        }
      ]
    },
    {
      "cell_type": "code",
      "source": [
        "model = None"
      ],
      "metadata": {
        "id": "gil3vX-6bBOj"
      },
      "execution_count": 73,
      "outputs": []
    },
    {
      "cell_type": "code",
      "source": [
        "model = GATV5(hidden_channels=64, dataset= train_dataset, regression= True)\n",
        "optimizer = torch.optim.Adam(model.parameters(), lr = 1e-03, weight_decay = 5e-03)\n",
        "lr_scheduler = torch.optim.lr_scheduler.OneCycleLR(optimizer,\n",
        "                                                  max_lr = 1e-03, \n",
        "                                                  epochs = 250, \n",
        "                                                  steps_per_epoch = 29)\n",
        "criterion = torch.nn.MSELoss()\n",
        "model.to(device)\n",
        "\n",
        "def train():\n",
        "    model.train()\n",
        "    train_losses = []\n",
        "    for data in train_loader:  # Iterate in batches over the training dataset.\n",
        "        data.to(device)\n",
        "        out = model(data.x, data.edge_index, data.edge_attr, data.batch)\n",
        "        # out = model(data.x, data.edge_index, data.batch)\n",
        "        out = out.squeeze()\n",
        "        if out.shape[0] != data.y.shape[0]:\n",
        "            out = out[:data.y.shape[0]]\n",
        "\n",
        "        loss = criterion(out, data.y)  # Compute the loss.\n",
        "        loss.backward()  # Derive gradients.\n",
        "        optimizer.step()  # Update parameters based on gradients.\n",
        "        optimizer.zero_grad()  # Clear gradients.\n",
        "        train_losses.append(loss.item())\n",
        "        lr_scheduler.step()\n",
        "    \n",
        "    model.eval()\n",
        "    val_losses = []\n",
        "    with torch.no_grad():\n",
        "        for data in valid_loader:\n",
        "            data.to(device)\n",
        "            out = model(data.x, data.edge_index, data.edge_attr, data.batch)\n",
        "            out = out.squeeze()\n",
        "            if out.shape[0] != data.y.shape[0]:\n",
        "                out = out[:data.y.shape[0]]\n",
        "\n",
        "            loss = criterion(out, data.y)\n",
        "            val_losses.append(loss.item())\n",
        "    \n",
        "    return np.mean(np.sqrt(train_losses)), np.mean(np.sqrt(val_losses))\n",
        "    \n",
        "\n",
        "\n",
        "for epoch in range(1, 250):\n",
        "    train_loss , valid_loss = train()\n",
        "    print(f'Epoch: {epoch} - Train RMSE: {train_loss:.3f}, Valid RMSE: {valid_loss:.3f}')"
      ],
      "metadata": {
        "id": "tXW9TP79bCjh"
      },
      "execution_count": null,
      "outputs": []
    },
    {
      "cell_type": "code",
      "source": [
        "from torch_scatter import scatter_sum\n",
        "class GATV6(torch.nn.Module):\n",
        "    def __init__(self, hidden_channels, dataset = train_dataset, regression = False, num_layer = 5):\n",
        "        super().__init__()\n",
        "        torch.manual_seed(12345)\n",
        "        self.conv1 = GATv2ConvEV4(dataset.num_node_features, hidden_channels, dataset.num_edge_features, hidden_channels)\n",
        "        # self.conv2 = GATv2ConvEV4(hidden_channels, hidden_channels, hidden_channels, hidden_channels)\n",
        "        # self.conv3 = GATv2ConvEV4(hidden_channels, hidden_channels, hidden_channels, hidden_channels)\n",
        "        # self.conv4 = GATv2ConvEV4(hidden_channels, hidden_channels, hidden_channels, hidden_channels)\n",
        "\n",
        "        self.layers = nn.ModuleList([GATv2ConvEV4(hidden_channels, hidden_channels, hidden_channels, hidden_channels) for i in range(num_layer - 1)])\n",
        "\n",
        "\n",
        "        self.cross_att = GATConv(hidden_channels, hidden_channels, heads=4,\n",
        "                                     dropout = 0.3, add_self_loops=False,\n",
        "                                     negative_slope=0.01, concat=False)\n",
        "\n",
        "        self.mol_bn = nn.BatchNorm1d(hidden_channels)\n",
        "        self.fra_bn = nn.BatchNorm1d(hidden_channels)\n",
        "\n",
        "        self.regression = regression\n",
        "        if regression:\n",
        "          self.lin = nn.Sequential(nn.Linear(hidden_channels, 1))\n",
        "        else:\n",
        "          self.lin = ResLayer(2*hidden_channels, dataset.num_classes)  \n",
        "    \n",
        "    def layer_f(self, x, edge_index, edge_attr, p = 0.4):\n",
        "        x, edge_attr = self.conv1(x, edge_index, edge_attr = edge_attr)\n",
        "        x, edge_attr = F.dropout(x, p = p), F.dropout(edge_attr, p = p)\n",
        "\n",
        "        for layer in self.layers:\n",
        "            x, edge_attr = layer(x, edge_index, edge_attr = edge_attr)\n",
        "            x, edge_attr = F.dropout(x, p = p), F.dropout(edge_attr, p = p)\n",
        "          \n",
        "        return x, edge_attr\n",
        "\n",
        "    def forward(self, data):\n",
        "        # 1. Obtain node embeddings \n",
        "        # x, edge_attr = self.conv1(x, edge_index, edge_attr = edge_attr)\n",
        "        # x, edge_attr = F.dropout(x, p = 0.4), F.dropout(edge_attr, p = 0.4)\n",
        "        # x, edge_attr = self.conv2(x, edge_index, edge_attr = edge_attr)\n",
        "        # x, edge_attr = F.dropout(x, p = 0.4), F.dropout(edge_attr, p = 0.4)\n",
        "        # x, edge_attr = self.conv3(x, edge_index, edge_attr = edge_attr)\n",
        "        # x, edge_attr = F.dropout(x, p = 0.4), F.dropout(edge_attr, p = 0.4)\n",
        "        # x, edge_attr = self.conv4(x, edge_index, edge_attr = edge_attr)\n",
        "        # x, edge_attr = F.dropout(x, p = 0.2), F.dropout(edge_attr, p = 0.2)\n",
        "\n",
        "        x, edge_index, edge_attr, batch = data.x, data.edge_index, data.edge_attr, data.batch\n",
        "\n",
        "        x, edge_attr = self.layer_f(x, edge_index, edge_attr = edge_attr, p= 0.3)\n",
        "\n",
        "        mol_vec = global_add_pool(x, batch)\n",
        "\n",
        "        # fra_x = data.x\n",
        "        # fra_edge_index = data.fra_edge_index\n",
        "        # fra_edge_attr = data.fra_edge_attr\n",
        "        # cluster = data.cluster_index\n",
        "\n",
        "        # fra_x, fra_edge_attr = self.layer_f(fra_x, fra_edge_index, fra_edge_attr, p = 0.3)\n",
        "        # fra_x = global_add_pool(fra_x, cluster)\n",
        "        \n",
        "        # # get fragment batch\n",
        "        # cluster, perm = consecutive_cluster(cluster)\n",
        "        # fra_batch = pool_batch(perm, data.batch)\n",
        "\n",
        "        # fra_x = self.fra_bn(global_add_pool(fra_x, fra_batch))\n",
        "        # features = torch.cat([mol_vec, fra_x], 1)\n",
        "        # features = F.dropout(features, p=0.3, training=self.training)\n",
        "        if self.regression:\n",
        "          features = self.lin(mol_vec)\n",
        "        else:\n",
        "          features = F.sigmoid(self.lin(mol_vec))\n",
        "        \n",
        "        return features"
      ],
      "metadata": {
        "id": "jitL6c-ugwnV"
      },
      "execution_count": 74,
      "outputs": []
    },
    {
      "cell_type": "code",
      "source": [
        "model = GATV6(hidden_channels=64, dataset= train_dataset, regression= True)\n",
        "model = None"
      ],
      "metadata": {
        "id": "ylQmzKntkB0D"
      },
      "execution_count": 68,
      "outputs": []
    },
    {
      "cell_type": "code",
      "source": [
        "model = GATV6(hidden_channels=64, dataset= train_dataset, regression= True)\n",
        "optimizer = torch.optim.Adam(model.parameters(), lr = 1e-03, weight_decay = 5e-03)\n",
        "lr_scheduler = torch.optim.lr_scheduler.OneCycleLR(optimizer,\n",
        "                                                  max_lr = 1e-03, \n",
        "                                                  epochs = 250, \n",
        "                                                  steps_per_epoch = 29)\n",
        "criterion = torch.nn.MSELoss()\n",
        "model.to(device)\n",
        "\n",
        "def train():\n",
        "    model.train()\n",
        "    train_losses = []\n",
        "    for data in train_loader:  # Iterate in batches over the training dataset.\n",
        "        data.to(device)\n",
        "        out = model(data)\n",
        "        # out = model(data.x, data.edge_index, data.batch)\n",
        "        out = out.squeeze()\n",
        "\n",
        "        loss = criterion(out, data.y)  # Compute the loss.\n",
        "        loss.backward()  # Derive gradients.\n",
        "        optimizer.step()  # Update parameters based on gradients.\n",
        "        optimizer.zero_grad()  # Clear gradients.\n",
        "        train_losses.append(loss.item())\n",
        "        lr_scheduler.step()\n",
        "    \n",
        "    model.eval()\n",
        "    val_losses = []\n",
        "    with torch.no_grad():\n",
        "        for data in valid_loader:\n",
        "            data.to(device)\n",
        "            out = model(data)\n",
        "            out = out.squeeze()\n",
        "            if out.shape[0] != data.y.shape[0]:\n",
        "                out = out[:data.y.shape[0]]\n",
        "\n",
        "            loss = criterion(out, data.y)\n",
        "            val_losses.append(loss.item())\n",
        "    \n",
        "    return np.mean(np.sqrt(train_losses)), np.mean(np.sqrt(val_losses))\n",
        "    \n",
        "\n",
        "\n",
        "for epoch in range(1, 250):\n",
        "    train_loss , valid_loss = train()\n",
        "    print(f'Epoch: {epoch} - Train RMSE: {train_loss:.3f}, Valid RMSE: {valid_loss:.3f}')"
      ],
      "metadata": {
        "colab": {
          "base_uri": "https://localhost:8080/",
          "height": 1000
        },
        "id": "cmbRsi6ekoUS",
        "outputId": "2b80ea13-a634-414e-c98a-604d473a119f"
      },
      "execution_count": 75,
      "outputs": [
        {
          "output_type": "stream",
          "name": "stdout",
          "text": [
            "Epoch: 1 - Train RMSE: 4.759, Valid RMSE: 3.538\n",
            "Epoch: 2 - Train RMSE: 4.198, Valid RMSE: 5.442\n",
            "Epoch: 3 - Train RMSE: 3.694, Valid RMSE: 6.503\n",
            "Epoch: 4 - Train RMSE: 3.394, Valid RMSE: 3.812\n",
            "Epoch: 5 - Train RMSE: 3.331, Valid RMSE: 3.766\n",
            "Epoch: 6 - Train RMSE: 3.012, Valid RMSE: 4.255\n",
            "Epoch: 7 - Train RMSE: 2.956, Valid RMSE: 5.538\n",
            "Epoch: 8 - Train RMSE: 2.930, Valid RMSE: 3.965\n",
            "Epoch: 9 - Train RMSE: 2.910, Valid RMSE: 4.105\n",
            "Epoch: 10 - Train RMSE: 2.977, Valid RMSE: 4.961\n",
            "Epoch: 11 - Train RMSE: 2.948, Valid RMSE: 3.003\n",
            "Epoch: 12 - Train RMSE: 2.898, Valid RMSE: 3.430\n",
            "Epoch: 13 - Train RMSE: 2.850, Valid RMSE: 5.759\n",
            "Epoch: 14 - Train RMSE: 2.780, Valid RMSE: 5.222\n",
            "Epoch: 15 - Train RMSE: 2.897, Valid RMSE: 3.442\n",
            "Epoch: 16 - Train RMSE: 2.733, Valid RMSE: 4.650\n",
            "Epoch: 17 - Train RMSE: 2.749, Valid RMSE: 3.209\n",
            "Epoch: 18 - Train RMSE: 2.740, Valid RMSE: 3.720\n",
            "Epoch: 19 - Train RMSE: 2.729, Valid RMSE: 3.061\n",
            "Epoch: 20 - Train RMSE: 2.704, Valid RMSE: 3.328\n",
            "Epoch: 21 - Train RMSE: 2.639, Valid RMSE: 3.698\n",
            "Epoch: 22 - Train RMSE: 2.622, Valid RMSE: 4.066\n",
            "Epoch: 23 - Train RMSE: 2.662, Valid RMSE: 2.866\n",
            "Epoch: 24 - Train RMSE: 2.596, Valid RMSE: 3.770\n",
            "Epoch: 25 - Train RMSE: 2.529, Valid RMSE: 3.491\n",
            "Epoch: 26 - Train RMSE: 2.574, Valid RMSE: 3.820\n",
            "Epoch: 27 - Train RMSE: 2.558, Valid RMSE: 4.436\n",
            "Epoch: 28 - Train RMSE: 2.548, Valid RMSE: 3.259\n",
            "Epoch: 29 - Train RMSE: 2.501, Valid RMSE: 3.296\n",
            "Epoch: 30 - Train RMSE: 2.493, Valid RMSE: 2.992\n",
            "Epoch: 31 - Train RMSE: 2.469, Valid RMSE: 3.856\n",
            "Epoch: 32 - Train RMSE: 2.458, Valid RMSE: 3.295\n",
            "Epoch: 33 - Train RMSE: 2.450, Valid RMSE: 3.310\n",
            "Epoch: 34 - Train RMSE: 2.487, Valid RMSE: 2.910\n",
            "Epoch: 35 - Train RMSE: 2.461, Valid RMSE: 2.915\n",
            "Epoch: 36 - Train RMSE: 2.448, Valid RMSE: 2.729\n",
            "Epoch: 37 - Train RMSE: 2.490, Valid RMSE: 2.569\n",
            "Epoch: 38 - Train RMSE: 2.504, Valid RMSE: 2.749\n",
            "Epoch: 39 - Train RMSE: 2.427, Valid RMSE: 2.693\n",
            "Epoch: 40 - Train RMSE: 2.403, Valid RMSE: 2.838\n",
            "Epoch: 41 - Train RMSE: 2.384, Valid RMSE: 2.783\n",
            "Epoch: 42 - Train RMSE: 2.397, Valid RMSE: 3.322\n",
            "Epoch: 43 - Train RMSE: 2.377, Valid RMSE: 2.809\n",
            "Epoch: 44 - Train RMSE: 2.392, Valid RMSE: 2.707\n",
            "Epoch: 45 - Train RMSE: 2.402, Valid RMSE: 2.672\n",
            "Epoch: 46 - Train RMSE: 2.352, Valid RMSE: 2.571\n",
            "Epoch: 47 - Train RMSE: 2.414, Valid RMSE: 2.534\n",
            "Epoch: 48 - Train RMSE: 2.386, Valid RMSE: 2.539\n",
            "Epoch: 49 - Train RMSE: 2.364, Valid RMSE: 2.552\n",
            "Epoch: 50 - Train RMSE: 2.346, Valid RMSE: 2.682\n",
            "Epoch: 51 - Train RMSE: 2.366, Valid RMSE: 2.431\n",
            "Epoch: 52 - Train RMSE: 2.370, Valid RMSE: 2.885\n",
            "Epoch: 53 - Train RMSE: 2.326, Valid RMSE: 2.906\n",
            "Epoch: 54 - Train RMSE: 2.387, Valid RMSE: 2.795\n",
            "Epoch: 55 - Train RMSE: 2.323, Valid RMSE: 2.677\n",
            "Epoch: 56 - Train RMSE: 2.303, Valid RMSE: 2.514\n",
            "Epoch: 57 - Train RMSE: 2.310, Valid RMSE: 2.617\n",
            "Epoch: 58 - Train RMSE: 2.333, Valid RMSE: 2.486\n",
            "Epoch: 59 - Train RMSE: 2.349, Valid RMSE: 2.516\n",
            "Epoch: 60 - Train RMSE: 2.359, Valid RMSE: 2.814\n",
            "Epoch: 61 - Train RMSE: 2.379, Valid RMSE: 2.428\n"
          ]
        },
        {
          "output_type": "error",
          "ename": "KeyboardInterrupt",
          "evalue": "ignored",
          "traceback": [
            "\u001b[0;31m---------------------------------------------------------------------------\u001b[0m",
            "\u001b[0;31mKeyboardInterrupt\u001b[0m                         Traceback (most recent call last)",
            "\u001b[0;32m/tmp/ipykernel_17458/3153235180.py\u001b[0m in \u001b[0;36m<module>\u001b[0;34m\u001b[0m\n\u001b[1;32m     42\u001b[0m \u001b[0;34m\u001b[0m\u001b[0m\n\u001b[1;32m     43\u001b[0m \u001b[0;32mfor\u001b[0m \u001b[0mepoch\u001b[0m \u001b[0;32min\u001b[0m \u001b[0mrange\u001b[0m\u001b[0;34m(\u001b[0m\u001b[0;36m1\u001b[0m\u001b[0;34m,\u001b[0m \u001b[0;36m250\u001b[0m\u001b[0;34m)\u001b[0m\u001b[0;34m:\u001b[0m\u001b[0;34m\u001b[0m\u001b[0;34m\u001b[0m\u001b[0m\n\u001b[0;32m---> 44\u001b[0;31m     \u001b[0mtrain_loss\u001b[0m \u001b[0;34m,\u001b[0m \u001b[0mvalid_loss\u001b[0m \u001b[0;34m=\u001b[0m \u001b[0mtrain\u001b[0m\u001b[0;34m(\u001b[0m\u001b[0;34m)\u001b[0m\u001b[0;34m\u001b[0m\u001b[0;34m\u001b[0m\u001b[0m\n\u001b[0m\u001b[1;32m     45\u001b[0m     \u001b[0mprint\u001b[0m\u001b[0;34m(\u001b[0m\u001b[0;34mf'Epoch: {epoch} - Train RMSE: {train_loss:.3f}, Valid RMSE: {valid_loss:.3f}'\u001b[0m\u001b[0;34m)\u001b[0m\u001b[0;34m\u001b[0m\u001b[0;34m\u001b[0m\u001b[0m\n",
            "\u001b[0;32m/tmp/ipykernel_17458/3153235180.py\u001b[0m in \u001b[0;36mtrain\u001b[0;34m()\u001b[0m\n\u001b[1;32m     19\u001b[0m         \u001b[0mloss\u001b[0m \u001b[0;34m=\u001b[0m \u001b[0mcriterion\u001b[0m\u001b[0;34m(\u001b[0m\u001b[0mout\u001b[0m\u001b[0;34m,\u001b[0m \u001b[0mdata\u001b[0m\u001b[0;34m.\u001b[0m\u001b[0my\u001b[0m\u001b[0;34m)\u001b[0m  \u001b[0;31m# Compute the loss.\u001b[0m\u001b[0;34m\u001b[0m\u001b[0;34m\u001b[0m\u001b[0m\n\u001b[1;32m     20\u001b[0m         \u001b[0mloss\u001b[0m\u001b[0;34m.\u001b[0m\u001b[0mbackward\u001b[0m\u001b[0;34m(\u001b[0m\u001b[0;34m)\u001b[0m  \u001b[0;31m# Derive gradients.\u001b[0m\u001b[0;34m\u001b[0m\u001b[0;34m\u001b[0m\u001b[0m\n\u001b[0;32m---> 21\u001b[0;31m         \u001b[0moptimizer\u001b[0m\u001b[0;34m.\u001b[0m\u001b[0mstep\u001b[0m\u001b[0;34m(\u001b[0m\u001b[0;34m)\u001b[0m  \u001b[0;31m# Update parameters based on gradients.\u001b[0m\u001b[0;34m\u001b[0m\u001b[0;34m\u001b[0m\u001b[0m\n\u001b[0m\u001b[1;32m     22\u001b[0m         \u001b[0moptimizer\u001b[0m\u001b[0;34m.\u001b[0m\u001b[0mzero_grad\u001b[0m\u001b[0;34m(\u001b[0m\u001b[0;34m)\u001b[0m  \u001b[0;31m# Clear gradients.\u001b[0m\u001b[0;34m\u001b[0m\u001b[0;34m\u001b[0m\u001b[0m\n\u001b[1;32m     23\u001b[0m         \u001b[0mtrain_losses\u001b[0m\u001b[0;34m.\u001b[0m\u001b[0mappend\u001b[0m\u001b[0;34m(\u001b[0m\u001b[0mloss\u001b[0m\u001b[0;34m.\u001b[0m\u001b[0mitem\u001b[0m\u001b[0;34m(\u001b[0m\u001b[0;34m)\u001b[0m\u001b[0;34m)\u001b[0m\u001b[0;34m\u001b[0m\u001b[0;34m\u001b[0m\u001b[0m\n",
            "\u001b[0;32m~/virtenv/lib64/python3.7/site-packages/torch/optim/lr_scheduler.py\u001b[0m in \u001b[0;36mwrapper\u001b[0;34m(*args, **kwargs)\u001b[0m\n\u001b[1;32m     66\u001b[0m                 \u001b[0minstance\u001b[0m\u001b[0;34m.\u001b[0m\u001b[0m_step_count\u001b[0m \u001b[0;34m+=\u001b[0m \u001b[0;36m1\u001b[0m\u001b[0;34m\u001b[0m\u001b[0;34m\u001b[0m\u001b[0m\n\u001b[1;32m     67\u001b[0m                 \u001b[0mwrapped\u001b[0m \u001b[0;34m=\u001b[0m \u001b[0mfunc\u001b[0m\u001b[0;34m.\u001b[0m\u001b[0m__get__\u001b[0m\u001b[0;34m(\u001b[0m\u001b[0minstance\u001b[0m\u001b[0;34m,\u001b[0m \u001b[0mcls\u001b[0m\u001b[0;34m)\u001b[0m\u001b[0;34m\u001b[0m\u001b[0;34m\u001b[0m\u001b[0m\n\u001b[0;32m---> 68\u001b[0;31m                 \u001b[0;32mreturn\u001b[0m \u001b[0mwrapped\u001b[0m\u001b[0;34m(\u001b[0m\u001b[0;34m*\u001b[0m\u001b[0margs\u001b[0m\u001b[0;34m,\u001b[0m \u001b[0;34m**\u001b[0m\u001b[0mkwargs\u001b[0m\u001b[0;34m)\u001b[0m\u001b[0;34m\u001b[0m\u001b[0;34m\u001b[0m\u001b[0m\n\u001b[0m\u001b[1;32m     69\u001b[0m \u001b[0;34m\u001b[0m\u001b[0m\n\u001b[1;32m     70\u001b[0m             \u001b[0;31m# Note that the returned function here is no longer a bound method,\u001b[0m\u001b[0;34m\u001b[0m\u001b[0;34m\u001b[0m\u001b[0;34m\u001b[0m\u001b[0m\n",
            "\u001b[0;32m~/virtenv/lib64/python3.7/site-packages/torch/optim/optimizer.py\u001b[0m in \u001b[0;36mwrapper\u001b[0;34m(*args, **kwargs)\u001b[0m\n\u001b[1;32m    138\u001b[0m                 \u001b[0mprofile_name\u001b[0m \u001b[0;34m=\u001b[0m \u001b[0;34m\"Optimizer.step#{}.step\"\u001b[0m\u001b[0;34m.\u001b[0m\u001b[0mformat\u001b[0m\u001b[0;34m(\u001b[0m\u001b[0mobj\u001b[0m\u001b[0;34m.\u001b[0m\u001b[0m__class__\u001b[0m\u001b[0;34m.\u001b[0m\u001b[0m__name__\u001b[0m\u001b[0;34m)\u001b[0m\u001b[0;34m\u001b[0m\u001b[0;34m\u001b[0m\u001b[0m\n\u001b[1;32m    139\u001b[0m                 \u001b[0;32mwith\u001b[0m \u001b[0mtorch\u001b[0m\u001b[0;34m.\u001b[0m\u001b[0mautograd\u001b[0m\u001b[0;34m.\u001b[0m\u001b[0mprofiler\u001b[0m\u001b[0;34m.\u001b[0m\u001b[0mrecord_function\u001b[0m\u001b[0;34m(\u001b[0m\u001b[0mprofile_name\u001b[0m\u001b[0;34m)\u001b[0m\u001b[0;34m:\u001b[0m\u001b[0;34m\u001b[0m\u001b[0;34m\u001b[0m\u001b[0m\n\u001b[0;32m--> 140\u001b[0;31m                     \u001b[0mout\u001b[0m \u001b[0;34m=\u001b[0m \u001b[0mfunc\u001b[0m\u001b[0;34m(\u001b[0m\u001b[0;34m*\u001b[0m\u001b[0margs\u001b[0m\u001b[0;34m,\u001b[0m \u001b[0;34m**\u001b[0m\u001b[0mkwargs\u001b[0m\u001b[0;34m)\u001b[0m\u001b[0;34m\u001b[0m\u001b[0;34m\u001b[0m\u001b[0m\n\u001b[0m\u001b[1;32m    141\u001b[0m                     \u001b[0mobj\u001b[0m\u001b[0;34m.\u001b[0m\u001b[0m_optimizer_step_code\u001b[0m\u001b[0;34m(\u001b[0m\u001b[0;34m)\u001b[0m\u001b[0;34m\u001b[0m\u001b[0;34m\u001b[0m\u001b[0m\n\u001b[1;32m    142\u001b[0m                     \u001b[0;32mreturn\u001b[0m \u001b[0mout\u001b[0m\u001b[0;34m\u001b[0m\u001b[0;34m\u001b[0m\u001b[0m\n",
            "\u001b[0;32m~/virtenv/lib64/python3.7/site-packages/torch/optim/optimizer.py\u001b[0m in \u001b[0;36m_use_grad\u001b[0;34m(self, *args, **kwargs)\u001b[0m\n\u001b[1;32m     21\u001b[0m         \u001b[0;32mtry\u001b[0m\u001b[0;34m:\u001b[0m\u001b[0;34m\u001b[0m\u001b[0;34m\u001b[0m\u001b[0m\n\u001b[1;32m     22\u001b[0m             \u001b[0mtorch\u001b[0m\u001b[0;34m.\u001b[0m\u001b[0mset_grad_enabled\u001b[0m\u001b[0;34m(\u001b[0m\u001b[0mself\u001b[0m\u001b[0;34m.\u001b[0m\u001b[0mdefaults\u001b[0m\u001b[0;34m[\u001b[0m\u001b[0;34m'differentiable'\u001b[0m\u001b[0;34m]\u001b[0m\u001b[0;34m)\u001b[0m\u001b[0;34m\u001b[0m\u001b[0;34m\u001b[0m\u001b[0m\n\u001b[0;32m---> 23\u001b[0;31m             \u001b[0mret\u001b[0m \u001b[0;34m=\u001b[0m \u001b[0mfunc\u001b[0m\u001b[0;34m(\u001b[0m\u001b[0mself\u001b[0m\u001b[0;34m,\u001b[0m \u001b[0;34m*\u001b[0m\u001b[0margs\u001b[0m\u001b[0;34m,\u001b[0m \u001b[0;34m**\u001b[0m\u001b[0mkwargs\u001b[0m\u001b[0;34m)\u001b[0m\u001b[0;34m\u001b[0m\u001b[0;34m\u001b[0m\u001b[0m\n\u001b[0m\u001b[1;32m     24\u001b[0m         \u001b[0;32mfinally\u001b[0m\u001b[0;34m:\u001b[0m\u001b[0;34m\u001b[0m\u001b[0;34m\u001b[0m\u001b[0m\n\u001b[1;32m     25\u001b[0m             \u001b[0mtorch\u001b[0m\u001b[0;34m.\u001b[0m\u001b[0mset_grad_enabled\u001b[0m\u001b[0;34m(\u001b[0m\u001b[0mprev_grad\u001b[0m\u001b[0;34m)\u001b[0m\u001b[0;34m\u001b[0m\u001b[0;34m\u001b[0m\u001b[0m\n",
            "\u001b[0;32m~/virtenv/lib64/python3.7/site-packages/torch/optim/adam.py\u001b[0m in \u001b[0;36mstep\u001b[0;34m(self, closure, grad_scaler)\u001b[0m\n\u001b[1;32m    250\u001b[0m                  \u001b[0mfused\u001b[0m\u001b[0;34m=\u001b[0m\u001b[0mgroup\u001b[0m\u001b[0;34m[\u001b[0m\u001b[0;34m'fused'\u001b[0m\u001b[0;34m]\u001b[0m\u001b[0;34m,\u001b[0m\u001b[0;34m\u001b[0m\u001b[0;34m\u001b[0m\u001b[0m\n\u001b[1;32m    251\u001b[0m                  \u001b[0mgrad_scale\u001b[0m\u001b[0;34m=\u001b[0m\u001b[0mgrad_scale\u001b[0m\u001b[0;34m,\u001b[0m\u001b[0;34m\u001b[0m\u001b[0;34m\u001b[0m\u001b[0m\n\u001b[0;32m--> 252\u001b[0;31m                  found_inf=found_inf)\n\u001b[0m\u001b[1;32m    253\u001b[0m \u001b[0;34m\u001b[0m\u001b[0m\n\u001b[1;32m    254\u001b[0m         \u001b[0;32mreturn\u001b[0m \u001b[0mloss\u001b[0m\u001b[0;34m\u001b[0m\u001b[0;34m\u001b[0m\u001b[0m\n",
            "\u001b[0;32m~/virtenv/lib64/python3.7/site-packages/torch/optim/adam.py\u001b[0m in \u001b[0;36madam\u001b[0;34m(params, grads, exp_avgs, exp_avg_sqs, max_exp_avg_sqs, state_steps, foreach, capturable, differentiable, fused, grad_scale, found_inf, amsgrad, beta1, beta2, lr, weight_decay, eps, maximize)\u001b[0m\n\u001b[1;32m    314\u001b[0m          \u001b[0mdifferentiable\u001b[0m\u001b[0;34m=\u001b[0m\u001b[0mdifferentiable\u001b[0m\u001b[0;34m,\u001b[0m\u001b[0;34m\u001b[0m\u001b[0;34m\u001b[0m\u001b[0m\n\u001b[1;32m    315\u001b[0m          \u001b[0mgrad_scale\u001b[0m\u001b[0;34m=\u001b[0m\u001b[0mgrad_scale\u001b[0m\u001b[0;34m,\u001b[0m\u001b[0;34m\u001b[0m\u001b[0;34m\u001b[0m\u001b[0m\n\u001b[0;32m--> 316\u001b[0;31m          found_inf=found_inf)\n\u001b[0m\u001b[1;32m    317\u001b[0m \u001b[0;34m\u001b[0m\u001b[0m\n\u001b[1;32m    318\u001b[0m \u001b[0;34m\u001b[0m\u001b[0m\n",
            "\u001b[0;32m~/virtenv/lib64/python3.7/site-packages/torch/optim/adam.py\u001b[0m in \u001b[0;36m_single_tensor_adam\u001b[0;34m(params, grads, exp_avgs, exp_avg_sqs, max_exp_avg_sqs, state_steps, grad_scale, found_inf, amsgrad, beta1, beta2, lr, weight_decay, eps, maximize, capturable, differentiable)\u001b[0m\n\u001b[1;32m    361\u001b[0m \u001b[0;34m\u001b[0m\u001b[0m\n\u001b[1;32m    362\u001b[0m         \u001b[0;31m# Decay the first and second moment running average coefficient\u001b[0m\u001b[0;34m\u001b[0m\u001b[0;34m\u001b[0m\u001b[0;34m\u001b[0m\u001b[0m\n\u001b[0;32m--> 363\u001b[0;31m         \u001b[0mexp_avg\u001b[0m\u001b[0;34m.\u001b[0m\u001b[0mmul_\u001b[0m\u001b[0;34m(\u001b[0m\u001b[0mbeta1\u001b[0m\u001b[0;34m)\u001b[0m\u001b[0;34m.\u001b[0m\u001b[0madd_\u001b[0m\u001b[0;34m(\u001b[0m\u001b[0mgrad\u001b[0m\u001b[0;34m,\u001b[0m \u001b[0malpha\u001b[0m\u001b[0;34m=\u001b[0m\u001b[0;36m1\u001b[0m \u001b[0;34m-\u001b[0m \u001b[0mbeta1\u001b[0m\u001b[0;34m)\u001b[0m\u001b[0;34m\u001b[0m\u001b[0;34m\u001b[0m\u001b[0m\n\u001b[0m\u001b[1;32m    364\u001b[0m         \u001b[0mexp_avg_sq\u001b[0m\u001b[0;34m.\u001b[0m\u001b[0mmul_\u001b[0m\u001b[0;34m(\u001b[0m\u001b[0mbeta2\u001b[0m\u001b[0;34m)\u001b[0m\u001b[0;34m.\u001b[0m\u001b[0maddcmul_\u001b[0m\u001b[0;34m(\u001b[0m\u001b[0mgrad\u001b[0m\u001b[0;34m,\u001b[0m \u001b[0mgrad\u001b[0m\u001b[0;34m.\u001b[0m\u001b[0mconj\u001b[0m\u001b[0;34m(\u001b[0m\u001b[0;34m)\u001b[0m\u001b[0;34m,\u001b[0m \u001b[0mvalue\u001b[0m\u001b[0;34m=\u001b[0m\u001b[0;36m1\u001b[0m \u001b[0;34m-\u001b[0m \u001b[0mbeta2\u001b[0m\u001b[0;34m)\u001b[0m\u001b[0;34m\u001b[0m\u001b[0;34m\u001b[0m\u001b[0m\n\u001b[1;32m    365\u001b[0m \u001b[0;34m\u001b[0m\u001b[0m\n",
            "\u001b[0;31mKeyboardInterrupt\u001b[0m: "
          ]
        }
      ]
    }
  ]
}