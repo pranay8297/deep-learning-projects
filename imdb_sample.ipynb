{
  "nbformat": 4,
  "nbformat_minor": 0,
  "metadata": {
    "colab": {
      "name": "Untitled",
      "provenance": [],
      "collapsed_sections": [],
      "authorship_tag": "ABX9TyMIVVyu7AaTmrJpzI++auxp",
      "include_colab_link": true
    },
    "kernelspec": {
      "name": "python3",
      "display_name": "Python 3"
    },
    "accelerator": "GPU"
  },
  "cells": [
    {
      "cell_type": "markdown",
      "metadata": {
        "id": "view-in-github",
        "colab_type": "text"
      },
      "source": [
        "<a href=\"https://colab.research.google.com/github/pranay8297/deep-learning-projects/blob/master/imdb_sample.ipynb\" target=\"_parent\"><img src=\"https://colab.research.google.com/assets/colab-badge.svg\" alt=\"Open In Colab\"/></a>"
      ]
    },
    {
      "cell_type": "code",
      "metadata": {
        "id": "-RrffqgCOjxP",
        "colab_type": "code",
        "colab": {}
      },
      "source": [
        "from fastai import *\n",
        "from fastai.text import *"
      ],
      "execution_count": 0,
      "outputs": []
    },
    {
      "cell_type": "code",
      "metadata": {
        "id": "8iiHuqZuO5di",
        "colab_type": "code",
        "colab": {
          "base_uri": "https://localhost:8080/",
          "height": 69
        },
        "outputId": "03e32066-108c-4aae-95ce-c691af78ebef"
      },
      "source": [
        "path = untar_data(URLs.IMDB_SAMPLE)\n",
        "path.ls()"
      ],
      "execution_count": 2,
      "outputs": [
        {
          "output_type": "execute_result",
          "data": {
            "text/plain": [
              "[PosixPath('/root/.fastai/data/imdb_sample/models'),\n",
              " PosixPath('/root/.fastai/data/imdb_sample/tmp_lm.pkl'),\n",
              " PosixPath('/root/.fastai/data/imdb_sample/texts.csv')]"
            ]
          },
          "metadata": {
            "tags": []
          },
          "execution_count": 2
        }
      ]
    },
    {
      "cell_type": "code",
      "metadata": {
        "id": "drzvzBexPWf4",
        "colab_type": "code",
        "colab": {}
      },
      "source": [
        "df = pd.read_csv(path/'texts.csv')"
      ],
      "execution_count": 0,
      "outputs": []
    },
    {
      "cell_type": "code",
      "metadata": {
        "id": "T7VyxPgXPsph",
        "colab_type": "code",
        "colab": {
          "base_uri": "https://localhost:8080/",
          "height": 198
        },
        "outputId": "bf0571b2-ae4d-4654-fe80-1d289ee9a63a"
      },
      "source": [
        "df.head()"
      ],
      "execution_count": 4,
      "outputs": [
        {
          "output_type": "execute_result",
          "data": {
            "text/html": [
              "<div>\n",
              "<style scoped>\n",
              "    .dataframe tbody tr th:only-of-type {\n",
              "        vertical-align: middle;\n",
              "    }\n",
              "\n",
              "    .dataframe tbody tr th {\n",
              "        vertical-align: top;\n",
              "    }\n",
              "\n",
              "    .dataframe thead th {\n",
              "        text-align: right;\n",
              "    }\n",
              "</style>\n",
              "<table border=\"1\" class=\"dataframe\">\n",
              "  <thead>\n",
              "    <tr style=\"text-align: right;\">\n",
              "      <th></th>\n",
              "      <th>label</th>\n",
              "      <th>text</th>\n",
              "      <th>is_valid</th>\n",
              "    </tr>\n",
              "  </thead>\n",
              "  <tbody>\n",
              "    <tr>\n",
              "      <th>0</th>\n",
              "      <td>negative</td>\n",
              "      <td>Un-bleeping-believable! Meg Ryan doesn't even ...</td>\n",
              "      <td>False</td>\n",
              "    </tr>\n",
              "    <tr>\n",
              "      <th>1</th>\n",
              "      <td>positive</td>\n",
              "      <td>This is a extremely well-made film. The acting...</td>\n",
              "      <td>False</td>\n",
              "    </tr>\n",
              "    <tr>\n",
              "      <th>2</th>\n",
              "      <td>negative</td>\n",
              "      <td>Every once in a long while a movie will come a...</td>\n",
              "      <td>False</td>\n",
              "    </tr>\n",
              "    <tr>\n",
              "      <th>3</th>\n",
              "      <td>positive</td>\n",
              "      <td>Name just says it all. I watched this movie wi...</td>\n",
              "      <td>False</td>\n",
              "    </tr>\n",
              "    <tr>\n",
              "      <th>4</th>\n",
              "      <td>negative</td>\n",
              "      <td>This movie succeeds at being one of the most u...</td>\n",
              "      <td>False</td>\n",
              "    </tr>\n",
              "  </tbody>\n",
              "</table>\n",
              "</div>"
            ],
            "text/plain": [
              "      label                                               text  is_valid\n",
              "0  negative  Un-bleeping-believable! Meg Ryan doesn't even ...     False\n",
              "1  positive  This is a extremely well-made film. The acting...     False\n",
              "2  negative  Every once in a long while a movie will come a...     False\n",
              "3  positive  Name just says it all. I watched this movie wi...     False\n",
              "4  negative  This movie succeeds at being one of the most u...     False"
            ]
          },
          "metadata": {
            "tags": []
          },
          "execution_count": 4
        }
      ]
    },
    {
      "cell_type": "code",
      "metadata": {
        "id": "a7014ZqnP3OJ",
        "colab_type": "code",
        "colab": {
          "base_uri": "https://localhost:8080/",
          "height": 17
        },
        "outputId": "cd5ec377-4f91-4d38-8406-53eea159b9a5"
      },
      "source": [
        "data_c = TextList.from_csv(path, 'texts.csv', cols = 1).split_from_df(col = 2).label_from_df(cols = 0).databunch()"
      ],
      "execution_count": 5,
      "outputs": [
        {
          "output_type": "display_data",
          "data": {
            "text/html": [
              ""
            ],
            "text/plain": [
              "<IPython.core.display.HTML object>"
            ]
          },
          "metadata": {
            "tags": []
          }
        },
        {
          "output_type": "display_data",
          "data": {
            "text/html": [
              ""
            ],
            "text/plain": [
              "<IPython.core.display.HTML object>"
            ]
          },
          "metadata": {
            "tags": []
          }
        }
      ]
    },
    {
      "cell_type": "code",
      "metadata": {
        "id": "uHMlQJ5zQeWf",
        "colab_type": "code",
        "colab": {
          "base_uri": "https://localhost:8080/",
          "height": 285
        },
        "outputId": "573b0add-d76c-48bc-9e12-3852af6a8c24"
      },
      "source": [
        "data_c.show_batch()"
      ],
      "execution_count": 6,
      "outputs": [
        {
          "output_type": "display_data",
          "data": {
            "text/html": [
              "<table border=\"1\" class=\"dataframe\">\n",
              "  <thead>\n",
              "    <tr style=\"text-align: right;\">\n",
              "      <th>text</th>\n",
              "      <th>target</th>\n",
              "    </tr>\n",
              "  </thead>\n",
              "  <tbody>\n",
              "    <tr>\n",
              "      <td>xxbos xxmaj raising xxmaj victor xxmaj vargas : a xxmaj review \\n \\n  xxmaj you know , xxmaj raising xxmaj victor xxmaj vargas is like sticking your hands into a big , xxunk bowl of xxunk . xxmaj it 's warm and gooey , but you 're not sure if it feels right . xxmaj try as i might , no matter how warm and gooey xxmaj raising xxmaj</td>\n",
              "      <td>negative</td>\n",
              "    </tr>\n",
              "    <tr>\n",
              "      <td>xxbos xxup the xxup shop xxup around xxup the xxup corner is one of the xxunk and most feel - good romantic comedies ever made . xxmaj there 's just no getting around that , and it 's hard to actually put one 's feeling for this film into words . xxmaj it 's not one of those films that tries too hard , nor does it come up with</td>\n",
              "      <td>positive</td>\n",
              "    </tr>\n",
              "    <tr>\n",
              "      <td>xxbos xxmaj now that xxmaj che(2008 ) has finished its relatively short xxmaj australian cinema run ( extremely limited xxunk screen in xxmaj xxunk , after xxunk ) , i can xxunk join both xxunk of \" xxmaj at xxmaj the xxmaj movies \" in taking xxmaj steven xxmaj soderbergh to task . \\n \\n  xxmaj it 's usually satisfying to watch a film director change his style /</td>\n",
              "      <td>negative</td>\n",
              "    </tr>\n",
              "    <tr>\n",
              "      <td>xxbos xxmaj this film sat on my xxmaj xxunk for weeks before i watched it . i xxunk a self - indulgent xxunk flick about relationships gone bad . i was wrong ; this was an xxunk xxunk into the screwed - up xxunk of xxmaj new xxmaj xxunk . \\n \\n  xxmaj the format is the same as xxmaj max xxmaj xxunk ' \" xxmaj la xxmaj xxunk</td>\n",
              "      <td>positive</td>\n",
              "    </tr>\n",
              "    <tr>\n",
              "      <td>xxbos xxmaj many neglect that this is n't just a classic due to the fact that it 's the first xxup 3d game , or even the first xxunk - up . xxmaj it 's also one of the first xxunk games , one of the xxunk definitely the first ) truly claustrophobic games , and just a pretty well - xxunk gaming experience in general . xxmaj with graphics</td>\n",
              "      <td>positive</td>\n",
              "    </tr>\n",
              "  </tbody>\n",
              "</table>"
            ],
            "text/plain": [
              "<IPython.core.display.HTML object>"
            ]
          },
          "metadata": {
            "tags": []
          }
        }
      ]
    },
    {
      "cell_type": "code",
      "metadata": {
        "id": "fMWZvSkoQoNI",
        "colab_type": "code",
        "colab": {
          "base_uri": "https://localhost:8080/",
          "height": 17
        },
        "outputId": "470bcf5d-790d-456e-b0b1-0fe79e90dbfe"
      },
      "source": [
        "data_lm=TextList.from_csv(path, 'texts.csv', cols = 1).split_by_rand_pct(0.1).label_for_lm().databunch(bs = 16)"
      ],
      "execution_count": 7,
      "outputs": [
        {
          "output_type": "display_data",
          "data": {
            "text/html": [
              ""
            ],
            "text/plain": [
              "<IPython.core.display.HTML object>"
            ]
          },
          "metadata": {
            "tags": []
          }
        },
        {
          "output_type": "display_data",
          "data": {
            "text/html": [
              ""
            ],
            "text/plain": [
              "<IPython.core.display.HTML object>"
            ]
          },
          "metadata": {
            "tags": []
          }
        }
      ]
    },
    {
      "cell_type": "code",
      "metadata": {
        "id": "0vd8JMe0Ucsf",
        "colab_type": "code",
        "colab": {
          "base_uri": "https://localhost:8080/",
          "height": 143
        },
        "outputId": "d5a73f7f-9383-44c4-83b2-64273b0d1dd4"
      },
      "source": [
        "data_lm.show_batch(2)"
      ],
      "execution_count": 8,
      "outputs": [
        {
          "output_type": "display_data",
          "data": {
            "text/html": [
              "<table border=\"1\" class=\"dataframe\">\n",
              "  <thead>\n",
              "    <tr style=\"text-align: right;\">\n",
              "      <th>idx</th>\n",
              "      <th>text</th>\n",
              "    </tr>\n",
              "  </thead>\n",
              "  <tbody>\n",
              "    <tr>\n",
              "      <td>0</td>\n",
              "      <td>! ! ! xxmaj finally this was directed by the guy who did xxmaj big xxmaj xxunk ? xxmaj must be a replay of xxmaj jonestown - hollywood style . xxmaj xxunk ! xxbos xxmaj this is a extremely well - made film . xxmaj the acting , script and camera - work are all first - rate . xxmaj the music is good , too , though it is</td>\n",
              "    </tr>\n",
              "    <tr>\n",
              "      <td>1</td>\n",
              "      <td>am currently hunting for a copy to purchase . xxmaj bakshi 's work is quite true to the original work . xxmaj the visuals are xxunk and sometimes haunting . \\n \\n  xxmaj drawbacks ? xxmaj occasionally , the movie is confusing or muddled . xxmaj there are one or two times where the storyline slows to a crawl . xxmaj but , overall -- buy this movie .</td>\n",
              "    </tr>\n",
              "  </tbody>\n",
              "</table>"
            ],
            "text/plain": [
              "<IPython.core.display.HTML object>"
            ]
          },
          "metadata": {
            "tags": []
          }
        }
      ]
    },
    {
      "cell_type": "code",
      "metadata": {
        "id": "wDB1wkc6U6Cr",
        "colab_type": "code",
        "colab": {}
      },
      "source": [
        "data_lm.save('tmp_lm.pkl') "
      ],
      "execution_count": 0,
      "outputs": []
    },
    {
      "cell_type": "code",
      "metadata": {
        "id": "zDem4lFwVn1T",
        "colab_type": "code",
        "colab": {
          "base_uri": "https://localhost:8080/",
          "height": 884
        },
        "outputId": "3bb8ab7c-f1fd-46f9-da7b-2a142bb06823"
      },
      "source": [
        "data_lm"
      ],
      "execution_count": 10,
      "outputs": [
        {
          "output_type": "execute_result",
          "data": {
            "text/plain": [
              "TextLMDataBunch;\n",
              "\n",
              "Train: LabelList (900 items)\n",
              "x: LMTextList\n",
              "xxbos xxmaj un - xxunk - believable ! xxmaj meg xxmaj ryan does n't even look her usual xxunk lovable self in this , which normally makes me forgive her shallow xxunk acting xxunk . xxmaj hard to believe she was the producer on this dog . xxmaj plus xxmaj kevin xxmaj kline : what kind of suicide trip has his career been on ? xxmaj xxunk ... xxmaj xxunk ! ! ! xxmaj finally this was directed by the guy who did xxmaj big xxmaj xxunk ? xxmaj must be a replay of xxmaj jonestown - hollywood style . xxmaj xxunk !,xxbos xxmaj this is a extremely well - made film . xxmaj the acting , script and camera - work are all first - rate . xxmaj the music is good , too , though it is mostly early in the film , when things are still relatively xxunk . xxmaj there are no really xxunk in the cast , though several faces will be familiar . xxmaj the entire cast does an excellent job with the script . \n",
              " \n",
              "  xxmaj but it is hard to watch , because there is no good end to a situation like the one presented . xxmaj it is now xxunk to blame the xxmaj british for setting xxmaj hindus and xxmaj muslims against each other , and then xxunk xxunk them into two countries . xxmaj there is some merit in this view , but it 's also true that no one forced xxmaj hindus and xxmaj muslims in the xxunk to xxunk each other as they did around the time of partition . xxmaj it seems more likely that the xxmaj british simply saw the xxunk between the xxunk and were clever enough to exploit them to their own ends . \n",
              " \n",
              "  xxmaj the result is that there is much cruelty and xxunk in the situation and this is very unpleasant to remember and to see on the screen . xxmaj but it is never painted as a black - and - white case . xxmaj there is xxunk and xxunk on both sides , and also the hope for change in the younger generation . \n",
              " \n",
              "  xxmaj there is redemption of a sort , in the end , when xxmaj xxunk has to make a hard choice between a man who has ruined her life , but also truly loved her , and her family which has xxunk her , then later come looking for her . xxmaj but by that point , she has no xxunk that is without great pain for her . \n",
              " \n",
              "  xxmaj this film carries the message that both xxmaj muslims and xxmaj hindus have their grave xxunk , and also that both can be xxunk and caring people . xxmaj the reality of partition makes that xxunk all the more wrenching , since there can never be real xxunk across the xxmaj india / xxmaj xxunk border . xxmaj in that sense , it is similar to \" xxmaj mr & xxmaj xxunk xxmaj xxunk \" . \n",
              " \n",
              "  xxmaj in the end , we were glad to have seen the film , even though the resolution was heartbreaking . xxmaj if the xxup uk and xxup us could deal with their own xxunk of racism with this kind of xxunk , they would certainly be better off .,xxbos xxmaj every once in a long while a movie will come along that will be so awful that i feel compelled to warn people . xxmaj if i labor all my days and i can save but one soul from watching this movie , how great will be my joy . \n",
              " \n",
              "  xxmaj where to begin my discussion of pain . xxmaj for xxunk , there was a musical montage every five minutes . xxmaj there was no character development . xxmaj every character was a stereotype . xxmaj we had xxunk guy , fat guy who eats donuts , goofy foreign guy , etc . xxmaj the script felt as if it were being written as the movie was being shot . xxmaj the production value was so incredibly low that it felt like i was watching a junior high video presentation . xxmaj have the directors , producers , etc . ever even seen a movie before ? xxmaj xxunk is getting worse and worse with every new entry . xxmaj the concept for this movie sounded so funny . xxmaj how could you go wrong with xxmaj gary xxmaj coleman and a handful of somewhat legitimate actors . xxmaj but trust me when i say this , things went wrong , xxup very xxup wrong .,xxbos xxmaj this movie succeeds at being one of the most unique movies you 've seen . xxmaj however this comes from the fact that you ca n't make heads or xxunk of this mess . xxmaj it almost seems as a series of challenges set up to determine whether or not you are willing to walk out of the movie and give up the money you just paid . xxmaj if you do n't want to feel xxunk you 'll sit through this horrible film and develop a real sense of pity for the actors involved , they 've all seen better days , but then you realize they actually got paid quite a bit of money to do this and you 'll lose pity for them just like you 've already done for the film . i ca n't go on enough about this horrible movie , its almost something that xxmaj ed xxmaj wood would have made and in that case it surely would have been his masterpiece . \n",
              " \n",
              "  xxmaj to start you are forced to sit through an opening dialogue the likes of which you 've never seen / heard , this thing has got to be five minutes long . xxmaj on top of that it is narrated , as to suggest that you the viewer can not read . xxmaj then we meet xxmaj mr. xxmaj xxunk and the xxunk of terrible lines gets xxunk , it is as if he is xxunk solely to get lines on to the movie poster tag line . xxmaj soon we meet xxmaj stephen xxmaj xxunk , who i typically enjoy ) and he does his best not to drown in this but ultimately he does . xxmaj then comes the ultimate insult , xxmaj tara xxmaj reid playing an intelligent role , oh help us ! xxmaj tara xxmaj reid is not a very talented actress and somehow she xxunk gets roles in movies , in my opinion though she should stick to movies of the xxmaj american pie type . \n",
              " \n",
              "  xxmaj all in all you just may want to see this for yourself when it comes out on video , i know that i got a kick out of it , i mean lets all be honest here , sometimes its comforting to xxunk in the shortcomings of others .,xxbos xxmaj from the start , you know how this movie will end . xxmaj it 's so full of clichés your typical xxup xxunk member will not even like this movie . i give it 2 out of 10 , only because of the acting of xxmaj william xxmaj xxunk . i ca n't believe people voted 6 + for this movie . xxmaj it 's so biased towards a ' certain point of view ' ( once a thief ... ) . xxmaj people are n't born bad . xxmaj neither are they born good . xxmaj they are born with a clean xxunk . xxmaj it 's society , parents and education what makes them who they are . xxmaj and if they take the wrong turn , somewhere down the line , it certainly is n't going to be the xxmaj american xxunk system that gets them back on track ! xxmaj anyway , avoid this movie like the plague . i bet you have better things to do with your time than waste it on this piece of crap . \n",
              " \n",
              " \n",
              "y: LMLabelList\n",
              ",,,,\n",
              "Path: /root/.fastai/data/imdb_sample;\n",
              "\n",
              "Valid: LabelList (100 items)\n",
              "x: LMTextList\n",
              "xxbos xxmaj sure , it 's a 50 's drive - in special , but do n't let that fool you . xxmaj in my little book , there are a number of intelligent touches with unexpected xxunk of humor . xxmaj catch the xxunk xxmaj mrs. xxmaj porter who 's supposed to keep an eye on the doc 's place . xxmaj she not only steals the scene , but darn near the whole movie . xxmaj and where did those indie producers come up with the bucks to film in color , a wise decision , since the blob would not show up well in xxunk . xxmaj yes , the result is xxunk around the edges as the number of xxunk illustrate . xxmaj but except for several of the teens , the non - xxmaj hollywood cast performs well . xxmaj then too , the xxunk among hot - xxunk and cops comes across as lively and entertaining . xxmaj pretty darn good for a couple of directors more at home in a xxunk than on a sound stage . xxmaj apparently , they wanted to portray teens in a positive light at a time when the screen was filled with \" juvenile xxunk \" . xxmaj then again , the xxunk old mcqueen hardly qualifies in the age department , but manages the hot - xxunk attitude anyway . xxmaj the movie was a hit at the time , helped along , no doubt , by the catchy title tune that got a lot of radio play . xxmaj and except for the unfortunate final effects , the movie is still a lot of fun , drive - in or no drive - in . xxmaj meanwhile , i 'm xxunk the blob 's return now that the xxunk xxunk is turning into , shall we say , refrigerator water .,xxbos xxmaj in the process of trying to xxunk the audiences ' xxunk with xxmaj xxunk xxmaj xxunk ( xxmaj xxunk xxmaj xxunk ) the filmmakers xxunk the xxmaj north and the xxmaj xxunk . xxmaj xxunk never xxunk from the xxmaj union and the xxmaj union xxmaj army was not an xxunk force . xxmaj the xxmaj xxunk fought for xxmaj state 's xxmaj rights : the right to own slaves , xxunk xxunk xxunk and xxunk , and xxunk a political xxunk system . xxmaj there 's nothing noble in that . xxmaj the xxmaj xxunk could have easily xxunk east and joined the xxmaj xxunk xxmaj army . \n",
              " \n",
              "  xxmaj it seems to me that the story has nothing to do with xxunk . xxmaj when xxmaj xxunk leaves the xxmaj xxunk , it 's not because he saw xxunk in his way , he certainly does n't give himself over to the xxunk of the cause of xxunk .,xxbos i and a friend rented this movie . xxmaj we both found the movie soundtrack and production techniques to be xxunk . xxmaj the movie 's plot appeared to drag on throughout with little surprise in the ending . xxmaj we both xxunk that the movie could have been xxunk into xxunk an hour giving it more suspense and moving plot .,xxbos xxmaj do n't bother . a little xxunk could go a long way , but all we get is pure ham , particularly from xxmaj xxunk . xxmaj the plot is one of those xxunk car episodes ... the vehicle xxunk into another and everything changes direction again , until we are merely xxunk our heads wondering if there were ever a plot . xxmaj gina xxmaj phillips is actually good , but it 's hard playing across from a xxunk xxmaj xxunk playing xxmaj lady xxmaj xxunk lost in the xxmaj xxunk 's xxmaj brother 's xxmaj xxunk xxmaj xxunk . xxmaj ah , the xxmaj raven ... now there 's an actor . xxmaj and there is the xxunk who just lies and bed and looks xxunk . xxmaj or xxmaj dr. xxmaj xxunk who 's filled with lots of xxunk and no working xxunk . i 'm one of those xxunk who just has to see a movie to the end . xxmaj xxunk the xxmaj raven , \" xxmaj xxunk . \",xxbos xxmaj halfway through xxmaj xxunk xxmaj xxunk 's \" xxmaj evening , \" a woman on her deathbed asks a figure appearing in her xxunk : \" xxmaj can you tell me where my life went ? \" xxmaj the line could be embarrassingly theatrical , but the woman speaking it is xxmaj vanessa xxmaj redgrave , xxunk it with utter simplicity , and the question tears your heart out . \n",
              " \n",
              "  xxmaj time and again , the film based on xxmaj susan xxmaj xxunk 's novel skirts xxunk and xxunk , it holds attention , offers xxunk performances , and xxunk emotional involvement as few recent movies have . xxmaj with only six months of the year gone , there are now two memorable , meaningful , worthwhile films in xxunk , the other , of course , being xxmaj xxunk xxmaj xxunk 's \" xxmaj away from xxmaj her . \" xxmaj hollywood might have turned \" xxmaj evening \" into a xxunk celebrity vehicle with its two xxunk of real - life xxunk and daughters - xxmaj vanessa xxmaj redgrave and xxmaj natasha xxmaj xxunk , and xxmaj meryl xxmaj streep and xxmaj xxunk xxmaj xxunk . xxmaj xxunk is xxmaj redgrave 's daughter in the film ( with a sister played by xxmaj tony xxmaj xxunk ) , and xxmaj xxunk plays xxmaj streep 's younger self , while xxmaj redgrave 's youthful incarnation is xxmaj claire xxmaj danes . \n",
              " \n",
              "  xxmaj add xxmaj glenn xxmaj close , xxmaj xxunk xxmaj xxunk , xxmaj hugh xxmaj dancy , xxmaj patrick xxmaj wilson , and a large cast - yes , it could have turned into a multiple star xxunk . xxmaj instead , xxmaj xxunk - the brilliant xxmaj hungarian xxunk of \" xxmaj xxunk , \" and director of \" xxmaj xxunk \" - created a subtle ensemble work with a \" xxmaj xxunk feel , \" the story taking place in a high - society xxmaj xxunk environment , in the days leading up to a wedding that is xxunk with trouble . \n",
              " \n",
              "  xxmaj missed connections , wrong choices , and xxunk xxunk with social and family xxunk present quite a soap opera , but the quality of the writing , xxmaj xxunk 's direction , and xxunk acting raise \" xxmaj evening \" way above that level , into the the xxunk air of xxmaj english , xxmaj french ( and a few xxmaj american ) family xxunk from a century before its contemporary setting . \n",
              " \n",
              "  xxmaj complex relationships between xxunk and daughters , between friends and lovers , with the addition of a difficult xxunk all come across clearly , xxunk , xxunk . xxmaj individual tunes are woven into a xxunk . \n",
              " \n",
              "  xxmaj and yet , with the all the xxunk emphasis on ensemble and xxunk performances , the stars of \" xxmaj evening \" still shine through , xxmaj redgrave , xxmaj xxunk , xxmaj xxunk ( an exciting new discovery , looking xxunk like her mother , but a very different actress ) , xxmaj danes carrying most of the xxunk - until xxmaj streep shows up in the final moments and , of course , steals the show . xxmaj dancy and xxmaj wilson are well worth the price of xxunk too . \n",
              " \n",
              "  xxmaj as with \" xxmaj away from xxmaj her , \" \" xxmaj evening \" stays with you at length , xxunk a re - thinking its story and characters , and re - experiencing the emotions it xxunk . xxmaj at two hours , the film runs a bit long , but the way it stays with you xxunk is welcome among the many movies that go cold long before your popcorn .\n",
              "y: LMLabelList\n",
              ",,,,\n",
              "Path: /root/.fastai/data/imdb_sample;\n",
              "\n",
              "Test: None"
            ]
          },
          "metadata": {
            "tags": []
          },
          "execution_count": 10
        }
      ]
    },
    {
      "cell_type": "code",
      "metadata": {
        "id": "_-e-INflnJUm",
        "colab_type": "code",
        "colab": {
          "base_uri": "https://localhost:8080/",
          "height": 273
        },
        "outputId": "f11b45a3-7e07-4578-ca52-4423fad83686"
      },
      "source": [
        "doc(language_model_learner)"
      ],
      "execution_count": 11,
      "outputs": [
        {
          "output_type": "display_data",
          "data": {
            "text/html": [
              "<h4 id=\"language_model_learner\" class=\"doc_header\"><code>language_model_learner</code><a href=\"https://github.com/fastai/fastai/blob/master/fastai/text/learner.py#L203\" class=\"source_link\" style=\"float:right\">[source]</a><a class=\"source_link\" data-toggle=\"collapse\" data-target=\"#language_model_learner-pytest\" style=\"float:right; padding-right:10px\">[test]</a></h4><blockquote><p><code>language_model_learner</code>(<strong><code>data</code></strong>:<a href=\"https://docs.fast.ai/basic_data.html#DataBunch\"><code>DataBunch</code></a>, <strong><code>arch</code></strong>, <strong><code>config</code></strong>:<code>dict</code>=<strong><em><code>None</code></em></strong>, <strong><code>drop_mult</code></strong>:<code>float</code>=<strong><em><code>1.0</code></em></strong>, <strong><code>pretrained</code></strong>:<code>bool</code>=<strong><em><code>True</code></em></strong>, <strong><code>pretrained_fnames</code></strong>:<code>OptStrTuple</code>=<strong><em><code>None</code></em></strong>, <strong>**<code>learn_kwargs</code></strong>) → <code>LanguageLearner</code></p>\n",
              "</blockquote>\n",
              "<div class=\"collapse\" id=\"language_model_learner-pytest\"><div class=\"card card-body pytest_card\"><a type=\"button\" data-toggle=\"collapse\" data-target=\"#language_model_learner-pytest\" class=\"close\" aria-label=\"Close\"><span aria-hidden=\"true\">&times;</span></a><p>Tests found for <code>language_model_learner</code>:</p><ul><li><code>pytest -sv tests/test_text_train.py::test_qrnn_works_if_split_fn_provided</code> <a href=\"https://github.com/fastai/fastai/blob/master/tests/test_text_train.py#L73\" class=\"source_link\" style=\"float:right\">[source]</a></li><li><code>pytest -sv tests/test_text_train.py::test_qrnn_works_with_no_split</code> <a href=\"https://github.com/fastai/fastai/blob/master/tests/test_text_train.py#L61\" class=\"source_link\" style=\"float:right\">[source]</a></li></ul><p>To run tests please refer to this <a href=\"/dev/test.html#quick-guide\">guide</a>.</p></div></div><p>Create a <a href=\"https://docs.fast.ai/basic_train.html#Learner\"><code>Learner</code></a> with a language model from <code>data</code> and <code>arch</code>.</p>\n",
              "<p><a href=\"https://docs.fast.ai/text.learner.html#language_model_learner\" target=\"_blank\" rel=\"noreferrer noopener\">Show in docs</a></p>\n"
            ],
            "text/plain": [
              "<IPython.core.display.HTML object>"
            ]
          },
          "metadata": {
            "tags": []
          }
        }
      ]
    },
    {
      "cell_type": "code",
      "metadata": {
        "id": "OeYs_-Z2VWhZ",
        "colab_type": "code",
        "colab": {}
      },
      "source": [
        "learn = language_model_learner(data_lm, arch=AWD_LSTM, drop_mult=0.3)"
      ],
      "execution_count": 0,
      "outputs": []
    },
    {
      "cell_type": "code",
      "metadata": {
        "id": "93zdH1M4m-0r",
        "colab_type": "code",
        "colab": {
          "base_uri": "https://localhost:8080/",
          "height": 111
        },
        "outputId": "596fd896-b203-4f81-92d5-e87f75cbcd6a"
      },
      "source": [
        "learn.lr_find()"
      ],
      "execution_count": 13,
      "outputs": [
        {
          "output_type": "display_data",
          "data": {
            "text/html": [
              "\n",
              "    <div>\n",
              "        <style>\n",
              "            /* Turns off some styling */\n",
              "            progress {\n",
              "                /* gets rid of default border in Firefox and Opera. */\n",
              "                border: none;\n",
              "                /* Needs to be in here for Safari polyfill so background images work as expected. */\n",
              "                background-size: auto;\n",
              "            }\n",
              "            .progress-bar-interrupted, .progress-bar-interrupted::-webkit-progress-bar {\n",
              "                background: #F44336;\n",
              "            }\n",
              "        </style>\n",
              "      <progress value='0' class='' max='1' style='width:300px; height:20px; vertical-align: middle;'></progress>\n",
              "      0.00% [0/1 00:00<00:00]\n",
              "    </div>\n",
              "    \n",
              "<table border=\"1\" class=\"dataframe\">\n",
              "  <thead>\n",
              "    <tr style=\"text-align: left;\">\n",
              "      <th>epoch</th>\n",
              "      <th>train_loss</th>\n",
              "      <th>valid_loss</th>\n",
              "      <th>accuracy</th>\n",
              "      <th>time</th>\n",
              "    </tr>\n",
              "  </thead>\n",
              "  <tbody>\n",
              "  </tbody>\n",
              "</table><p>\n",
              "\n",
              "    <div>\n",
              "        <style>\n",
              "            /* Turns off some styling */\n",
              "            progress {\n",
              "                /* gets rid of default border in Firefox and Opera. */\n",
              "                border: none;\n",
              "                /* Needs to be in here for Safari polyfill so background images work as expected. */\n",
              "                background-size: auto;\n",
              "            }\n",
              "            .progress-bar-interrupted, .progress-bar-interrupted::-webkit-progress-bar {\n",
              "                background: #F44336;\n",
              "            }\n",
              "        </style>\n",
              "      <progress value='99' class='' max='259' style='width:300px; height:20px; vertical-align: middle;'></progress>\n",
              "      38.22% [99/259 00:06<00:10 11.7115]\n",
              "    </div>\n",
              "    "
            ],
            "text/plain": [
              "<IPython.core.display.HTML object>"
            ]
          },
          "metadata": {
            "tags": []
          }
        },
        {
          "output_type": "stream",
          "text": [
            "LR Finder is complete, type {learner_name}.recorder.plot() to see the graph.\n"
          ],
          "name": "stdout"
        }
      ]
    },
    {
      "cell_type": "code",
      "metadata": {
        "id": "30i9wRDcroTg",
        "colab_type": "code",
        "colab": {
          "base_uri": "https://localhost:8080/",
          "height": 279
        },
        "outputId": "294b7465-2763-44ca-e132-c8cdd1892839"
      },
      "source": [
        "learn.recorder.plot()"
      ],
      "execution_count": 14,
      "outputs": [
        {
          "output_type": "display_data",
          "data": {
            "image/png": "[encoded data removed]",
            "text/plain": [
              "<Figure size 432x288 with 1 Axes>"
            ]
          },
          "metadata": {
            "tags": [],
            "needs_background": "light"
          }
        }
      ]
    },
    {
      "cell_type": "code",
      "metadata": {
        "id": "DeXjyFvAlyNx",
        "colab_type": "code",
        "colab": {
          "base_uri": "https://localhost:8080/",
          "height": 281
        },
        "outputId": "b7ae3d46-8caf-4df2-e322-fecf4edb49c7"
      },
      "source": [
        "learn.recorder.plot(skip_end=15)"
      ],
      "execution_count": 15,
      "outputs": [
        {
          "output_type": "display_data",
          "data": {
            "image/png": "[encoded data removed]",
            "text/plain": [
              "<Figure size 432x288 with 1 Axes>"
            ]
          },
          "metadata": {
            "tags": [],
            "needs_background": "light"
          }
        }
      ]
    },
    {
      "cell_type": "code",
      "metadata": {
        "id": "FoEYL1Pgrlje",
        "colab_type": "code",
        "colab": {
          "base_uri": "https://localhost:8080/",
          "height": 191
        },
        "outputId": "94bf0582-1f92-4856-acf3-f8ab9b00c014"
      },
      "source": [
        "doc(learn.recorder.plot)"
      ],
      "execution_count": 16,
      "outputs": [
        {
          "output_type": "display_data",
          "data": {
            "text/html": [
              "<h4 id=\"Recorder.plot\" class=\"doc_header\"><code>plot</code><a href=\"https://github.com/fastai/fastai/blob/master/fastai/basic_train.py#L540\" class=\"source_link\" style=\"float:right\">[source]</a><a class=\"source_link\" data-toggle=\"collapse\" data-target=\"#Recorder-plot-pytest\" style=\"float:right; padding-right:10px\">[test]</a></h4><blockquote><p><code>plot</code>(<strong><code>skip_start</code></strong>:<code>int</code>=<strong><em><code>10</code></em></strong>, <strong><code>skip_end</code></strong>:<code>int</code>=<strong><em><code>5</code></em></strong>, <strong><code>suggestion</code></strong>:<code>bool</code>=<strong><em><code>False</code></em></strong>, <strong><code>return_fig</code></strong>:<code>bool</code>=<strong><em><code>None</code></em></strong>, <strong>**<code>kwargs</code></strong>) → <code>Optional</code>[<code>Figure</code>]</p>\n",
              "</blockquote>\n",
              "<div class=\"collapse\" id=\"Recorder-plot-pytest\"><div class=\"card card-body pytest_card\"><a type=\"button\" data-toggle=\"collapse\" data-target=\"#Recorder-plot-pytest\" class=\"close\" aria-label=\"Close\"><span aria-hidden=\"true\">&times;</span></a><p>No tests found for <code>plot</code>. To contribute a test please refer to <a href=\"/dev/test.html\">this guide</a> and <a href=\"https://forums.fast.ai/t/improving-expanding-functional-tests/32929\">this discussion</a>.</p></div></div><p>Plot learning rate and losses, trimmed between <code>skip_start</code> and <code>skip_end</code>. Optionally plot and return min gradient</p>\n",
              "<p><a href=\"https://docs.fast.ai/basic_train.html#Recorder.plot\" target=\"_blank\" rel=\"noreferrer noopener\">Show in docs</a></p>\n"
            ],
            "text/plain": [
              "<IPython.core.display.HTML object>"
            ]
          },
          "metadata": {
            "tags": []
          }
        }
      ]
    },
    {
      "cell_type": "code",
      "metadata": {
        "id": "7n73-n-RsB93",
        "colab_type": "code",
        "colab": {
          "base_uri": "https://localhost:8080/",
          "height": 255
        },
        "outputId": "d21ef2b8-e79a-481f-a588-52cbb77414d1"
      },
      "source": [
        "doc(learn.fit_one_cycle)"
      ],
      "execution_count": 17,
      "outputs": [
        {
          "output_type": "display_data",
          "data": {
            "text/html": [
              "<h4 id=\"fit_one_cycle\" class=\"doc_header\"><code>fit_one_cycle</code><a href=\"https://github.com/fastai/fastai/blob/master/fastai/train.py#L15\" class=\"source_link\" style=\"float:right\">[source]</a><a class=\"source_link\" data-toggle=\"collapse\" data-target=\"#fit_one_cycle-pytest\" style=\"float:right; padding-right:10px\">[test]</a></h4><blockquote><p><code>fit_one_cycle</code>(<strong><code>learn</code></strong>:<a href=\"https://docs.fast.ai/basic_train.html#Learner\"><code>Learner</code></a>, <strong><code>cyc_len</code></strong>:<code>int</code>, <strong><code>max_lr</code></strong>:<code>Union</code>[<code>float</code>, <code>Collection</code>[<code>float</code>], <code>slice</code>]=<strong><em><code>slice(None, 0.003, None)</code></em></strong>, <strong><code>moms</code></strong>:<code>Point</code>=<strong><em><code>(0.95, 0.85)</code></em></strong>, <strong><code>div_factor</code></strong>:<code>float</code>=<strong><em><code>25.0</code></em></strong>, <strong><code>pct_start</code></strong>:<code>float</code>=<strong><em><code>0.3</code></em></strong>, <strong><code>final_div</code></strong>:<code>float</code>=<strong><em><code>None</code></em></strong>, <strong><code>wd</code></strong>:<code>float</code>=<strong><em><code>None</code></em></strong>, <strong><code>callbacks</code></strong>:<code>Optional</code>[<code>Collection</code>[<a href=\"https://docs.fast.ai/callback.html#Callback\"><code>Callback</code></a>]]=<strong><em><code>None</code></em></strong>, <strong><code>tot_epochs</code></strong>:<code>int</code>=<strong><em><code>None</code></em></strong>, <strong><code>start_epoch</code></strong>:<code>int</code>=<strong><em><code>None</code></em></strong>)</p>\n",
              "</blockquote>\n",
              "<div class=\"collapse\" id=\"fit_one_cycle-pytest\"><div class=\"card card-body pytest_card\"><a type=\"button\" data-toggle=\"collapse\" data-target=\"#fit_one_cycle-pytest\" class=\"close\" aria-label=\"Close\"><span aria-hidden=\"true\">&times;</span></a><p>Tests found for <code>fit_one_cycle</code>:</p><ul><li><code>pytest -sv tests/test_train.py::test_fit_one_cycle</code> <a href=\"https://github.com/fastai/fastai/blob/master/tests/test_train.py#L36\" class=\"source_link\" style=\"float:right\">[source]</a></li></ul><p>To run tests please refer to this <a href=\"/dev/test.html#quick-guide\">guide</a>.</p></div></div><p>Fit a model following the 1cycle policy.</p>\n",
              "<p><a href=\"https://docs.fast.ai/train.html#fit_one_cycle\" target=\"_blank\" rel=\"noreferrer noopener\">Show in docs</a></p>\n"
            ],
            "text/plain": [
              "<IPython.core.display.HTML object>"
            ]
          },
          "metadata": {
            "tags": []
          }
        }
      ]
    },
    {
      "cell_type": "code",
      "metadata": {
        "id": "SjfCmkTEtdN9",
        "colab_type": "code",
        "colab": {}
      },
      "source": [
        "learn.save('stage-0')"
      ],
      "execution_count": 0,
      "outputs": []
    },
    {
      "cell_type": "code",
      "metadata": {
        "id": "dwq-pzyItgez",
        "colab_type": "code",
        "colab": {
          "base_uri": "https://localhost:8080/",
          "height": 108
        },
        "outputId": "55d3c53b-c601-48fe-d70a-5520edb5830f"
      },
      "source": [
        "learn.load('stage-0')\n",
        "learn.fit_one_cycle(2, slice(1e-02))"
      ],
      "execution_count": 19,
      "outputs": [
        {
          "output_type": "display_data",
          "data": {
            "text/html": [
              "<table border=\"1\" class=\"dataframe\">\n",
              "  <thead>\n",
              "    <tr style=\"text-align: left;\">\n",
              "      <th>epoch</th>\n",
              "      <th>train_loss</th>\n",
              "      <th>valid_loss</th>\n",
              "      <th>accuracy</th>\n",
              "      <th>time</th>\n",
              "    </tr>\n",
              "  </thead>\n",
              "  <tbody>\n",
              "    <tr>\n",
              "      <td>0</td>\n",
              "      <td>4.090985</td>\n",
              "      <td>3.789286</td>\n",
              "      <td>0.292060</td>\n",
              "      <td>00:17</td>\n",
              "    </tr>\n",
              "    <tr>\n",
              "      <td>1</td>\n",
              "      <td>3.587893</td>\n",
              "      <td>3.740980</td>\n",
              "      <td>0.297098</td>\n",
              "      <td>00:17</td>\n",
              "    </tr>\n",
              "  </tbody>\n",
              "</table>"
            ],
            "text/plain": [
              "<IPython.core.display.HTML object>"
            ]
          },
          "metadata": {
            "tags": []
          }
        }
      ]
    },
    {
      "cell_type": "code",
      "metadata": {
        "id": "2n9FLMEOt0j4",
        "colab_type": "code",
        "colab": {
          "base_uri": "https://localhost:8080/",
          "height": 108
        },
        "outputId": "fe828b01-89cb-493a-fcea-5e8d3d9c1ca9"
      },
      "source": [
        "learn.load('stage-0')\n",
        "learn.fit_one_cycle(2, slice(1e-02), moms=(0.8,0.7))\n",
        "learn.save('stage-1')"
      ],
      "execution_count": 20,
      "outputs": [
        {
          "output_type": "display_data",
          "data": {
            "text/html": [
              "<table border=\"1\" class=\"dataframe\">\n",
              "  <thead>\n",
              "    <tr style=\"text-align: left;\">\n",
              "      <th>epoch</th>\n",
              "      <th>train_loss</th>\n",
              "      <th>valid_loss</th>\n",
              "      <th>accuracy</th>\n",
              "      <th>time</th>\n",
              "    </tr>\n",
              "  </thead>\n",
              "  <tbody>\n",
              "    <tr>\n",
              "      <td>0</td>\n",
              "      <td>4.049895</td>\n",
              "      <td>3.787727</td>\n",
              "      <td>0.293463</td>\n",
              "      <td>00:17</td>\n",
              "    </tr>\n",
              "    <tr>\n",
              "      <td>1</td>\n",
              "      <td>3.579509</td>\n",
              "      <td>3.736652</td>\n",
              "      <td>0.297449</td>\n",
              "      <td>00:17</td>\n",
              "    </tr>\n",
              "  </tbody>\n",
              "</table>"
            ],
            "text/plain": [
              "<IPython.core.display.HTML object>"
            ]
          },
          "metadata": {
            "tags": []
          }
        }
      ]
    },
    {
      "cell_type": "code",
      "metadata": {
        "id": "RCJN1R3kt7-P",
        "colab_type": "code",
        "colab": {
          "base_uri": "https://localhost:8080/",
          "height": 108
        },
        "outputId": "14fa9e87-8fcc-477e-97b9-167556a36b6a"
      },
      "source": [
        "learn.load('stage-0')\n",
        "learn.fit_one_cycle(2, slice(1e-02), moms=(0.1,0.2))"
      ],
      "execution_count": 21,
      "outputs": [
        {
          "output_type": "display_data",
          "data": {
            "text/html": [
              "<table border=\"1\" class=\"dataframe\">\n",
              "  <thead>\n",
              "    <tr style=\"text-align: left;\">\n",
              "      <th>epoch</th>\n",
              "      <th>train_loss</th>\n",
              "      <th>valid_loss</th>\n",
              "      <th>accuracy</th>\n",
              "      <th>time</th>\n",
              "    </tr>\n",
              "  </thead>\n",
              "  <tbody>\n",
              "    <tr>\n",
              "      <td>0</td>\n",
              "      <td>4.052111</td>\n",
              "      <td>3.782497</td>\n",
              "      <td>0.290306</td>\n",
              "      <td>00:17</td>\n",
              "    </tr>\n",
              "    <tr>\n",
              "      <td>1</td>\n",
              "      <td>3.585891</td>\n",
              "      <td>3.728428</td>\n",
              "      <td>0.299968</td>\n",
              "      <td>00:17</td>\n",
              "    </tr>\n",
              "  </tbody>\n",
              "</table>"
            ],
            "text/plain": [
              "<IPython.core.display.HTML object>"
            ]
          },
          "metadata": {
            "tags": []
          }
        }
      ]
    },
    {
      "cell_type": "code",
      "metadata": {
        "id": "4MFMxX_fu9su",
        "colab_type": "code",
        "colab": {
          "base_uri": "https://localhost:8080/",
          "height": 108
        },
        "outputId": "e1f0a7b6-aea1-47ac-eb08-2784bf3030f2"
      },
      "source": [
        "learn.load('stage-0')\n",
        "learn.fit_one_cycle(2, slice(1e-02), moms = (0.7, 0.8))"
      ],
      "execution_count": 22,
      "outputs": [
        {
          "output_type": "display_data",
          "data": {
            "text/html": [
              "<table border=\"1\" class=\"dataframe\">\n",
              "  <thead>\n",
              "    <tr style=\"text-align: left;\">\n",
              "      <th>epoch</th>\n",
              "      <th>train_loss</th>\n",
              "      <th>valid_loss</th>\n",
              "      <th>accuracy</th>\n",
              "      <th>time</th>\n",
              "    </tr>\n",
              "  </thead>\n",
              "  <tbody>\n",
              "    <tr>\n",
              "      <td>0</td>\n",
              "      <td>4.066238</td>\n",
              "      <td>3.789407</td>\n",
              "      <td>0.291199</td>\n",
              "      <td>00:17</td>\n",
              "    </tr>\n",
              "    <tr>\n",
              "      <td>1</td>\n",
              "      <td>3.615763</td>\n",
              "      <td>3.732267</td>\n",
              "      <td>0.297449</td>\n",
              "      <td>00:17</td>\n",
              "    </tr>\n",
              "  </tbody>\n",
              "</table>"
            ],
            "text/plain": [
              "<IPython.core.display.HTML object>"
            ]
          },
          "metadata": {
            "tags": []
          }
        }
      ]
    },
    {
      "cell_type": "code",
      "metadata": {
        "id": "LpgKTaBnwfas",
        "colab_type": "code",
        "colab": {}
      },
      "source": [
        "learn.save('stage-1')"
      ],
      "execution_count": 0,
      "outputs": []
    },
    {
      "cell_type": "code",
      "metadata": {
        "id": "1rG6d6Xvwhem",
        "colab_type": "code",
        "colab": {
          "base_uri": "https://localhost:8080/",
          "height": 111
        },
        "outputId": "472f680d-9b8a-4429-d5bb-1eeb74adf83d"
      },
      "source": [
        "learn.lr_find()"
      ],
      "execution_count": 25,
      "outputs": [
        {
          "output_type": "display_data",
          "data": {
            "text/html": [
              "\n",
              "    <div>\n",
              "        <style>\n",
              "            /* Turns off some styling */\n",
              "            progress {\n",
              "                /* gets rid of default border in Firefox and Opera. */\n",
              "                border: none;\n",
              "                /* Needs to be in here for Safari polyfill so background images work as expected. */\n",
              "                background-size: auto;\n",
              "            }\n",
              "            .progress-bar-interrupted, .progress-bar-interrupted::-webkit-progress-bar {\n",
              "                background: #F44336;\n",
              "            }\n",
              "        </style>\n",
              "      <progress value='0' class='' max='1' style='width:300px; height:20px; vertical-align: middle;'></progress>\n",
              "      0.00% [0/1 00:00<00:00]\n",
              "    </div>\n",
              "    \n",
              "<table border=\"1\" class=\"dataframe\">\n",
              "  <thead>\n",
              "    <tr style=\"text-align: left;\">\n",
              "      <th>epoch</th>\n",
              "      <th>train_loss</th>\n",
              "      <th>valid_loss</th>\n",
              "      <th>accuracy</th>\n",
              "      <th>time</th>\n",
              "    </tr>\n",
              "  </thead>\n",
              "  <tbody>\n",
              "  </tbody>\n",
              "</table><p>\n",
              "\n",
              "    <div>\n",
              "        <style>\n",
              "            /* Turns off some styling */\n",
              "            progress {\n",
              "                /* gets rid of default border in Firefox and Opera. */\n",
              "                border: none;\n",
              "                /* Needs to be in here for Safari polyfill so background images work as expected. */\n",
              "                background-size: auto;\n",
              "            }\n",
              "            .progress-bar-interrupted, .progress-bar-interrupted::-webkit-progress-bar {\n",
              "                background: #F44336;\n",
              "            }\n",
              "        </style>\n",
              "      <progress value='93' class='' max='259' style='width:300px; height:20px; vertical-align: middle;'></progress>\n",
              "      35.91% [93/259 00:06<00:10 9.2873]\n",
              "    </div>\n",
              "    "
            ],
            "text/plain": [
              "<IPython.core.display.HTML object>"
            ]
          },
          "metadata": {
            "tags": []
          }
        },
        {
          "output_type": "stream",
          "text": [
            "LR Finder is complete, type {learner_name}.recorder.plot() to see the graph.\n"
          ],
          "name": "stdout"
        }
      ]
    },
    {
      "cell_type": "code",
      "metadata": {
        "id": "6QuAN5ZDwji3",
        "colab_type": "code",
        "colab": {
          "base_uri": "https://localhost:8080/",
          "height": 279
        },
        "outputId": "4c9e11aa-016c-4f9a-9db8-1c846baca5c6"
      },
      "source": [
        "learn.recorder.plot(skip_end = 15)"
      ],
      "execution_count": 27,
      "outputs": [
        {
          "output_type": "display_data",
          "data": {
            "image/png": "[encoded data removed]",
            "text/plain": [
              "<Figure size 432x288 with 1 Axes>"
            ]
          },
          "metadata": {
            "tags": [],
            "needs_background": "light"
          }
        }
      ]
    },
    {
      "cell_type": "code",
      "metadata": {
        "id": "ahACDzdsw889",
        "colab_type": "code",
        "colab": {
          "base_uri": "https://localhost:8080/",
          "height": 348
        },
        "outputId": "88f2936e-712d-4f62-8b12-76be561cee47"
      },
      "source": [
        "learn.load('stage-1')\n",
        "learn.fit_one_cycle(10, slice(1e-03), moms=(0.8,0.7))"
      ],
      "execution_count": 29,
      "outputs": [
        {
          "output_type": "display_data",
          "data": {
            "text/html": [
              "<table border=\"1\" class=\"dataframe\">\n",
              "  <thead>\n",
              "    <tr style=\"text-align: left;\">\n",
              "      <th>epoch</th>\n",
              "      <th>train_loss</th>\n",
              "      <th>valid_loss</th>\n",
              "      <th>accuracy</th>\n",
              "      <th>time</th>\n",
              "    </tr>\n",
              "  </thead>\n",
              "  <tbody>\n",
              "    <tr>\n",
              "      <td>0</td>\n",
              "      <td>3.357207</td>\n",
              "      <td>3.728862</td>\n",
              "      <td>0.297290</td>\n",
              "      <td>00:17</td>\n",
              "    </tr>\n",
              "    <tr>\n",
              "      <td>1</td>\n",
              "      <td>3.325411</td>\n",
              "      <td>3.725676</td>\n",
              "      <td>0.297991</td>\n",
              "      <td>00:17</td>\n",
              "    </tr>\n",
              "    <tr>\n",
              "      <td>2</td>\n",
              "      <td>3.330648</td>\n",
              "      <td>3.726327</td>\n",
              "      <td>0.298182</td>\n",
              "      <td>00:17</td>\n",
              "    </tr>\n",
              "    <tr>\n",
              "      <td>3</td>\n",
              "      <td>3.264096</td>\n",
              "      <td>3.730497</td>\n",
              "      <td>0.298980</td>\n",
              "      <td>00:17</td>\n",
              "    </tr>\n",
              "    <tr>\n",
              "      <td>4</td>\n",
              "      <td>3.211292</td>\n",
              "      <td>3.730748</td>\n",
              "      <td>0.298438</td>\n",
              "      <td>00:17</td>\n",
              "    </tr>\n",
              "    <tr>\n",
              "      <td>5</td>\n",
              "      <td>3.182972</td>\n",
              "      <td>3.738902</td>\n",
              "      <td>0.297991</td>\n",
              "      <td>00:17</td>\n",
              "    </tr>\n",
              "    <tr>\n",
              "      <td>6</td>\n",
              "      <td>3.122790</td>\n",
              "      <td>3.740220</td>\n",
              "      <td>0.298980</td>\n",
              "      <td>00:17</td>\n",
              "    </tr>\n",
              "    <tr>\n",
              "      <td>7</td>\n",
              "      <td>3.075662</td>\n",
              "      <td>3.744266</td>\n",
              "      <td>0.297959</td>\n",
              "      <td>00:17</td>\n",
              "    </tr>\n",
              "    <tr>\n",
              "      <td>8</td>\n",
              "      <td>3.105233</td>\n",
              "      <td>3.744572</td>\n",
              "      <td>0.298214</td>\n",
              "      <td>00:17</td>\n",
              "    </tr>\n",
              "    <tr>\n",
              "      <td>9</td>\n",
              "      <td>3.072424</td>\n",
              "      <td>3.743373</td>\n",
              "      <td>0.298980</td>\n",
              "      <td>00:17</td>\n",
              "    </tr>\n",
              "  </tbody>\n",
              "</table>"
            ],
            "text/plain": [
              "<IPython.core.display.HTML object>"
            ]
          },
          "metadata": {
            "tags": []
          }
        }
      ]
    },
    {
      "cell_type": "code",
      "metadata": {
        "id": "v7of-tV9xlrU",
        "colab_type": "code",
        "colab": {}
      },
      "source": [
        "learn.save('stage-2')"
      ],
      "execution_count": 0,
      "outputs": []
    },
    {
      "cell_type": "code",
      "metadata": {
        "id": "gaICaO0oyxIX",
        "colab_type": "code",
        "colab": {
          "base_uri": "https://localhost:8080/",
          "height": 191
        },
        "outputId": "fdd88af7-d487-4563-a8c3-e0e54cf9bf9e"
      },
      "source": [
        "doc(learn.predict)"
      ],
      "execution_count": 31,
      "outputs": [
        {
          "output_type": "display_data",
          "data": {
            "text/html": [
              "<h4 id=\"LanguageLearner.predict\" class=\"doc_header\"><code>predict</code><a href=\"https://github.com/fastai/fastai/blob/master/fastai/text/learner.py#L120\" class=\"source_link\" style=\"float:right\">[source]</a><a class=\"source_link\" data-toggle=\"collapse\" data-target=\"#LanguageLearner-predict-pytest\" style=\"float:right; padding-right:10px\">[test]</a></h4><blockquote><p><code>predict</code>(<strong><code>text</code></strong>:<code>str</code>, <strong><code>n_words</code></strong>:<code>int</code>=<strong><em><code>1</code></em></strong>, <strong><code>no_unk</code></strong>:<code>bool</code>=<strong><em><code>True</code></em></strong>, <strong><code>temperature</code></strong>:<code>float</code>=<strong><em><code>1.0</code></em></strong>, <strong><code>min_p</code></strong>:<code>float</code>=<strong><em><code>None</code></em></strong>, <strong><code>sep</code></strong>:<code>str</code>=<strong><em><code>' '</code></em></strong>, <strong><code>decoder</code></strong>=<strong><em><code>'decode_spec_tokens'</code></em></strong>)</p>\n",
              "</blockquote>\n",
              "<div class=\"collapse\" id=\"LanguageLearner-predict-pytest\"><div class=\"card card-body pytest_card\"><a type=\"button\" data-toggle=\"collapse\" data-target=\"#LanguageLearner-predict-pytest\" class=\"close\" aria-label=\"Close\"><span aria-hidden=\"true\">&times;</span></a><p>No tests found for <code>predict</code>. To contribute a test please refer to <a href=\"/dev/test.html\">this guide</a> and <a href=\"https://forums.fast.ai/t/improving-expanding-functional-tests/32929\">this discussion</a>.</p></div></div><p>Return <code>text</code> and the <code>n_words</code> that come after</p>\n",
              "<p><a href=\"https://docs.fast.ai/text.learner.html#LanguageLearner.predict\" target=\"_blank\" rel=\"noreferrer noopener\">Show in docs</a></p>\n"
            ],
            "text/plain": [
              "<IPython.core.display.HTML object>"
            ]
          },
          "metadata": {
            "tags": []
          }
        }
      ]
    },
    {
      "cell_type": "code",
      "metadata": {
        "id": "d2ZrmNQxzIGe",
        "colab_type": "code",
        "colab": {
          "base_uri": "https://localhost:8080/",
          "height": 35
        },
        "outputId": "d59c07c7-0c67-4376-fff8-320fba44043a"
      },
      "source": [
        "learn.predict('I hated the movie, its ', 20, temperature=1.0)"
      ],
      "execution_count": 35,
      "outputs": [
        {
          "output_type": "execute_result",
          "data": {
            "text/plain": [
              "'I hated the movie, its  little background , almost everything except it . The first movie by Bug this combination is about the'"
            ]
          },
          "metadata": {
            "tags": []
          },
          "execution_count": 35
        }
      ]
    },
    {
      "cell_type": "code",
      "metadata": {
        "id": "goMOrvsUz9hW",
        "colab_type": "code",
        "colab": {}
      },
      "source": [
        "learn.save_encoder('lm_fine_tuned')"
      ],
      "execution_count": 0,
      "outputs": []
    },
    {
      "cell_type": "code",
      "metadata": {
        "id": "alDJt-BV1sB3",
        "colab_type": "code",
        "colab": {
          "base_uri": "https://localhost:8080/",
          "height": 17
        },
        "outputId": "a0a0bdc9-9935-44d1-f8cd-7d9fa00326cb"
      },
      "source": [
        "data_c = TextList.from_csv(path, 'texts.csv', cols = 1, vocab = data_lm.vocab).split_from_df(col = 2).label_from_df(cols = 0).databunch(bs = 32)"
      ],
      "execution_count": 37,
      "outputs": [
        {
          "output_type": "display_data",
          "data": {
            "text/html": [
              ""
            ],
            "text/plain": [
              "<IPython.core.display.HTML object>"
            ]
          },
          "metadata": {
            "tags": []
          }
        },
        {
          "output_type": "display_data",
          "data": {
            "text/html": [
              ""
            ],
            "text/plain": [
              "<IPython.core.display.HTML object>"
            ]
          },
          "metadata": {
            "tags": []
          }
        }
      ]
    },
    {
      "cell_type": "code",
      "metadata": {
        "id": "r_cVG8WJ3NLk",
        "colab_type": "code",
        "colab": {
          "base_uri": "https://localhost:8080/",
          "height": 285
        },
        "outputId": "0996b457-a0ff-4aef-dbf0-6a10f81e843c"
      },
      "source": [
        "data_c.show_batch()"
      ],
      "execution_count": 38,
      "outputs": [
        {
          "output_type": "display_data",
          "data": {
            "text/html": [
              "<table border=\"1\" class=\"dataframe\">\n",
              "  <thead>\n",
              "    <tr style=\"text-align: right;\">\n",
              "      <th>text</th>\n",
              "      <th>target</th>\n",
              "    </tr>\n",
              "  </thead>\n",
              "  <tbody>\n",
              "    <tr>\n",
              "      <td>xxbos xxmaj raising xxmaj victor xxmaj vargas : a xxmaj review \\n \\n  xxmaj you know , xxmaj raising xxmaj victor xxmaj vargas is like sticking your hands into a big , xxunk bowl of xxunk . xxmaj it 's warm and gooey , but you 're not sure if it feels right . xxmaj try as i might , no matter how warm and gooey xxmaj raising xxmaj</td>\n",
              "      <td>negative</td>\n",
              "    </tr>\n",
              "    <tr>\n",
              "      <td>xxbos xxup the xxup shop xxup around xxup the xxup corner is one of the xxunk and most feel - good romantic comedies ever made . xxmaj there 's just no getting around that , and it 's hard to actually put one 's feeling for this film into words . xxmaj it 's not one of those films that tries too hard , nor does it come up with</td>\n",
              "      <td>positive</td>\n",
              "    </tr>\n",
              "    <tr>\n",
              "      <td>xxbos xxmaj now that xxmaj che(2008 ) has finished its relatively short xxmaj australian cinema run ( extremely limited xxunk screen in xxmaj xxunk , after xxunk ) , i can xxunk join both xxunk of \" xxmaj at xxmaj the xxmaj movies \" in taking xxmaj steven xxmaj soderbergh to task . \\n \\n  xxmaj it 's usually satisfying to watch a film director change his style /</td>\n",
              "      <td>negative</td>\n",
              "    </tr>\n",
              "    <tr>\n",
              "      <td>xxbos xxmaj this film sat on my xxmaj xxunk for weeks before i watched it . i xxunk a self - indulgent xxunk flick about relationships gone bad . i was wrong ; this was an xxunk xxunk into the xxunk - up xxunk of xxmaj new xxmaj xxunk . \\n \\n  xxmaj the format is the same as xxmaj max xxmaj xxunk ' \" xxmaj la xxmaj xxunk</td>\n",
              "      <td>positive</td>\n",
              "    </tr>\n",
              "    <tr>\n",
              "      <td>xxbos xxmaj many neglect that this is n't just a classic due to the fact that it 's the first xxup 3d game , or even the first xxunk - up . xxmaj it 's also one of the first xxunk games , one of the xxunk definitely the first ) truly claustrophobic games , and just a pretty well - xxunk xxunk experience in general . xxmaj with graphics</td>\n",
              "      <td>positive</td>\n",
              "    </tr>\n",
              "  </tbody>\n",
              "</table>"
            ],
            "text/plain": [
              "<IPython.core.display.HTML object>"
            ]
          },
          "metadata": {
            "tags": []
          }
        }
      ]
    },
    {
      "cell_type": "code",
      "metadata": {
        "id": "jetj_aM93TWF",
        "colab_type": "code",
        "colab": {}
      },
      "source": [
        "learn = text_classifier_learner(data_c, AWD_LSTM,  drop_mult=0.5)"
      ],
      "execution_count": 0,
      "outputs": []
    },
    {
      "cell_type": "code",
      "metadata": {
        "id": "NJDzFacd3kbK",
        "colab_type": "code",
        "colab": {
          "base_uri": "https://localhost:8080/",
          "height": 1000
        },
        "outputId": "ab66fe1b-60fb-4714-bae4-748b2c4244c8"
      },
      "source": [
        "learn.load_encoder('lm_fine_tuned')"
      ],
      "execution_count": 44,
      "outputs": [
        {
          "output_type": "execute_result",
          "data": {
            "text/plain": [
              "RNNLearner(data=TextClasDataBunch;\n",
              "\n",
              "Train: LabelList (800 items)\n",
              "x: TextList\n",
              "xxbos xxmaj un - xxunk - believable ! xxmaj meg xxmaj ryan does n't even look her usual xxunk lovable self in this , which normally makes me forgive her shallow xxunk acting xxunk . xxmaj hard to believe she was the producer on this dog . xxmaj plus xxmaj kevin xxmaj kline : what kind of suicide trip has his career been on ? xxmaj xxunk ... xxmaj xxunk ! ! ! xxmaj finally this was directed by the guy who did xxmaj big xxmaj xxunk ? xxmaj must be a replay of xxmaj jonestown - hollywood style . xxmaj xxunk !,xxbos xxmaj this is a extremely well - made film . xxmaj the acting , script and camera - work are all first - rate . xxmaj the music is good , too , though it is mostly early in the film , when things are still relatively xxunk . xxmaj there are no really xxunk in the cast , though several faces will be familiar . xxmaj the entire cast does an excellent job with the script . \n",
              " \n",
              "  xxmaj but it is hard to watch , because there is no good end to a situation like the one presented . xxmaj it is now xxunk to blame the xxmaj british for setting xxmaj hindus and xxmaj muslims against each other , and then xxunk xxunk them into two countries . xxmaj there is some merit in this view , but it 's also true that no one forced xxmaj hindus and xxmaj muslims in the xxunk to xxunk each other as they did around the time of partition . xxmaj it seems more likely that the xxmaj british simply saw the xxunk between the xxunk and were clever enough to exploit them to their own ends . \n",
              " \n",
              "  xxmaj the result is that there is much cruelty and xxunk in the situation and this is very unpleasant to remember and to see on the screen . xxmaj but it is never painted as a black - and - white case . xxmaj there is xxunk and xxunk on both sides , and also the hope for change in the younger generation . \n",
              " \n",
              "  xxmaj there is redemption of a sort , in the end , when xxmaj xxunk has to make a hard choice between a man who has ruined her life , but also truly loved her , and her family which has xxunk her , then later come looking for her . xxmaj but by that point , she has no xxunk that is without great pain for her . \n",
              " \n",
              "  xxmaj this film carries the message that both xxmaj muslims and xxmaj hindus have their grave xxunk , and also that both can be xxunk and caring people . xxmaj the reality of partition makes that xxunk all the more wrenching , since there can never be real xxunk across the xxmaj india / xxmaj xxunk border . xxmaj in that sense , it is similar to \" xxmaj mr & xxmaj xxunk xxmaj xxunk \" . \n",
              " \n",
              "  xxmaj in the end , we were glad to have seen the film , even though the resolution was heartbreaking . xxmaj if the xxup uk and xxup us could deal with their own xxunk of racism with this kind of xxunk , they would certainly be better off .,xxbos xxmaj every once in a long while a movie will come along that will be so awful that i feel compelled to warn people . xxmaj if i labor all my days and i can save but one soul from watching this movie , how great will be my joy . \n",
              " \n",
              "  xxmaj where to begin my discussion of pain . xxmaj for xxunk , there was a musical montage every five minutes . xxmaj there was no character development . xxmaj every character was a stereotype . xxmaj we had xxunk guy , fat guy who eats donuts , goofy foreign guy , etc . xxmaj the script felt as if it were being written as the movie was being shot . xxmaj the production value was so incredibly low that it felt like i was watching a junior high video presentation . xxmaj have the directors , producers , etc . ever even seen a movie before ? xxmaj xxunk is getting worse and worse with every new entry . xxmaj the concept for this movie sounded so funny . xxmaj how could you go wrong with xxmaj gary xxmaj coleman and a handful of somewhat legitimate actors . xxmaj but trust me when i say this , things went wrong , xxup very xxup wrong .,xxbos xxmaj name just says it all . i watched this movie with my dad when it came out and having served in xxmaj xxunk he had great xxunk for the man . xxmaj the disappointing thing about this film is that it only xxunk on a short period of the man 's life - interestingly enough the man 's entire life would have made such an epic bio - xxunk that it is xxunk to imagine the cost for production . \n",
              " \n",
              "  xxmaj some posters xxunk to the flawed xxunk about the man , which are cheap shots . xxmaj the theme of the movie \" xxmaj duty , xxmaj honor , xxmaj country \" are not just mere words xxunk from the lips of a high - xxunk officer - it is the deep xxunk of one man 's total xxunk to his country . \n",
              " \n",
              "  xxmaj ironically xxmaj xxunk being the liberal that he was xxunk a better understanding of the man . xxmaj he does a great job showing the xxunk general xxunk with the xxunk side of the man .,xxbos xxmaj this movie succeeds at being one of the most unique movies you 've seen . xxmaj however this comes from the fact that you ca n't make heads or xxunk of this mess . xxmaj it almost seems as a series of challenges set up to determine whether or not you are willing to walk out of the movie and give up the money you just paid . xxmaj if you do n't want to feel xxunk you 'll sit through this horrible film and develop a real sense of pity for the actors involved , they 've all seen better days , but then you realize they actually got paid quite a bit of money to do this and you 'll lose pity for them just like you 've already done for the film . i ca n't go on enough about this horrible movie , its almost something that xxmaj ed xxmaj wood would have made and in that case it surely would have been his masterpiece . \n",
              " \n",
              "  xxmaj to start you are forced to sit through an opening dialogue the likes of which you 've never seen / heard , this thing has got to be five minutes long . xxmaj on top of that it is narrated , as to suggest that you the viewer can not read . xxmaj then we meet xxmaj mr. xxmaj xxunk and the xxunk of terrible lines gets xxunk , it is as if he is xxunk solely to get lines on to the movie poster tag line . xxmaj soon we meet xxmaj stephen xxmaj xxunk , who i typically enjoy ) and he does his best not to drown in this but ultimately he does . xxmaj then comes the ultimate insult , xxmaj tara xxmaj reid playing an intelligent role , oh help us ! xxmaj tara xxmaj reid is not a very talented actress and somehow she xxunk gets roles in movies , in my opinion though she should stick to movies of the xxmaj american pie type . \n",
              " \n",
              "  xxmaj all in all you just may want to see this for yourself when it comes out on video , i know that i got a kick out of it , i mean lets all be honest here , sometimes its comforting to xxunk in the shortcomings of others .\n",
              "y: CategoryList\n",
              "negative,positive,negative,positive,negative\n",
              "Path: /root/.fastai/data/imdb_sample;\n",
              "\n",
              "Valid: LabelList (200 items)\n",
              "x: TextList\n",
              "xxbos xxmaj this very funny xxmaj british comedy shows what might happen if a section of xxmaj london , in this case xxmaj pimlico , were to declare itself independent from the rest of the xxup uk and its laws , xxunk & post - war xxunk . xxmaj merry mayhem is what would happen . \n",
              " \n",
              "  xxmaj the explosion of a wartime bomb leads to the discovery of ancient documents which show that xxmaj pimlico was xxunk to the xxmaj xxunk of xxmaj xxunk centuries ago , a small historical xxunk long since forgotten . xxmaj to the new xxmaj xxunk , however , this is an unexpected opportunity to live as they please , free from any xxunk from xxmaj xxunk . \n",
              " \n",
              "  xxmaj stanley xxmaj xxunk is excellent as the minor city politician who suddenly finds himself leading one of the world 's xxunk nations . xxmaj dame xxmaj margaret xxmaj xxunk is a delight as the history professor who sides with xxmaj pimlico . xxmaj others in the stand - out cast include xxmaj xxunk xxmaj xxunk , xxmaj paul xxmaj xxunk , xxmaj xxunk xxmaj wayne , xxmaj xxunk xxmaj xxunk & xxmaj sir xxmaj michael xxmaj xxunk . \n",
              " \n",
              "  xxmaj welcome to xxmaj xxunk !,xxbos i saw this movie once as a kid on the late - late show and fell in love with it . \n",
              " \n",
              "  xxmaj it took 30 + years , but i recently did find it on xxup dvd - it was n't cheap , either - in a catalog that xxunk in war movies . xxmaj we watched it last night for the first time . xxmaj the audio was good , however it was grainy and had the trailers between xxunk . xxmaj even so , it was better than i remembered it . i was also impressed at how true it was to the play . \n",
              " \n",
              "  xxmaj the catalog is around here xxunk . xxmaj if you 're sincere in finding it , fire me a xxunk and i 'll see if i can get you the xxunk . xxunk,xxbos xxmaj this is , in my opinion , a very good film , especially for xxmaj michael xxmaj jackson lovers . xxmaj it contains a message on drugs , stunning special effects , and an awesome music video . \n",
              " \n",
              "  xxmaj the main film is centered around the song and music video ' xxmaj smooth xxmaj criminal . ' xxmaj unlike the four - minute music video , it is normal speed and , in my opinion , much easier to watch . \n",
              " \n",
              "  xxmaj the plot is rather weird , however . xxmaj michael xxmaj jackson plays a magical ' gangster ' that , when he sees a shooting star , he transforms into a piece of xxunk . xxmaj throughout the film , he transforms into a race car , a giant robot , and a space ship . \n",
              " \n",
              "  xxmaj the robot scene in particular is a bit drawn out and strange . i found it a little out - of - whack compared to the rest of the film . \n",
              " \n",
              "  a child is kidnapped , xxmaj michael tries to save her , is tortured and beaten , and suddenly turns into a giant robot that blows up all the bad guys . a little weird ? xxmaj yeah . \n",
              " \n",
              "  xxmaj but besides the bizarre robot scene , it 's a very good movie , and any xxmaj michael xxmaj jackson fan will enjoy both the xxmaj smooth xxmaj criminal music video and the movie .,xxbos xxmaj in xxmaj iran , women are not xxunk to attend men 's sporting events , apparently to \" xxunk \" them from all the xxunk and foul language they might hear xxunk from the male fans ( so since men ca n't xxunk or behave themselves , women are forced to suffer . xxmaj go figure . ) . \" xxmaj offside \" tells the tale of a half dozen or so young women who , dressed like men , attempt to sneak into the high - xxunk match between xxmaj iran and xxmaj xxunk that , in 2005 , qualified xxmaj iran to go to the xxmaj world xxmaj cup ( the movie was actually filmed in large part during that game ) . \n",
              " \n",
              "  \" xxmaj offside \" is a slice - of - life comedy that will remind you of all those great xxunk films ( \" xxmaj the xxmaj shop on xxmaj main xxmaj street , \" \" xxmaj loves of a xxmaj blonde , \" \" xxmaj closely xxmaj watched xxmaj trains \" etc . ) that xxunk out of xxmaj communist xxmaj xxunk as part of the \" xxmaj xxunk xxmaj miracle \" in the mid 1960 's . xxmaj as with many of those works , \" xxmaj offside \" is more concerned with xxunk life than with xxunk any kind of xxunk contrived fictional narrative . xxmaj indeed , it is the simplicity of the setup and the xxunk of the style that make the movie so effective . \n",
              " \n",
              "  xxmaj once their xxunk is discovered , the girls are xxunk into a small pen right outside the stadium where they can hear the xxunk cheering xxunk from the game inside . xxmaj stuck where they are , all they can do is xxunk with the security guards to let them go in , guards who are basically bumbling , good - natured xxunk who are compelled to do their duty as a part of their xxunk military service . xxmaj even most of the men going into the stadium do n't seem particularly xxunk at the thought of these women being allowed in . xxmaj still the prohibition xxunk . xxmaj yet , how can one not be impressed by the very real courage and xxunk displayed by these women as they go up against a system that continues to xxunk such a ridiculously xxunk and archaic xxunk ? xxmaj and , yet , the purpose of these women is not to xxunk behind a cause or to make a \" point . \" xxmaj they are simply obsessed fans with a burning desire to watch a soccer game and , like all the men in the country , xxunk on their team . \n",
              " \n",
              "  xxmaj it 's hard to tell just how much of the dialogue is scripted and how much of it is xxunk , but , in either case , the actors , with their xxunk xxunk faces , do a magnificent job making each moment seem utterly real and convincing . xxmaj xxunk xxmaj xxunk - xxunk and xxmaj xxunk xxmaj xxunk are notable xxunk in a xxunk excellent cast . xxmaj the structure of the film is also very loose and xxunk , as writer / director xxmaj xxunk xxmaj xxunk and co - writer xxmaj xxunk xxmaj xxunk focus for a few brief moments on one or two of the characters , then move xxunk and xxunk onto others . xxmaj with this documentary - type approach , we come to feel as if we are xxunk an actual event xxunk in \" real time . \" xxmaj very often , it 's quite easy for us to forget we 're actually watching a movie . \n",
              " \n",
              "  xxmaj it was a very smart move on the part of the filmmakers to include so much good - natured humor in the film ( it 's what the xxmaj xxunk filmmakers did as well ) , the better to point up the utter absurdity of the situation and xxunk the appeal of the film for audiences both domestic and foreign . \" xxmaj offside \" is obviously a cry for justice , but it is one that is made all the more effective by its xxunk to make of its story a heavy - breathing tragedy . xxmaj instead , it realizes that nothing breaks down social xxunk quite as xxunk as humor and an appeal to the audience 's common humanity . xxmaj and is n't that what true art is supposed to be all about ? xxmaj in its own quiet , xxunk way , \" xxmaj offside \" is one of the great , under - appreciated gems of 2007 .,xxbos \" xxmaj in xxmaj april xxunk , the xxmaj university of xxmaj chicago xxunk to xxunk xxmaj argonne xxmaj national xxmaj laboratory , with an association of xxmaj xxunk xxunk offering to xxunk the research . xxmaj argonne xxunk became the first \" national \" laboratory . xxmaj it did not , however , remain at its original location in the xxmaj argonne forest . xxmaj in xxunk , it moved farther west from the \" xxmaj xxunk xxmaj city \" to a new site on xxmaj illinois xxunk . xxmaj when xxmaj xxunk xxmaj xxunk visited xxmaj argonne 's director , xxmaj walter xxmaj zinn , in xxunk , he asked him what kind of reactor was to be built at the new site . xxmaj when xxmaj zinn described a heavy - water reactor xxunk at one - xxunk the power of the xxmaj materials xxmaj testing xxmaj reactor under design at xxmaj oak xxmaj ridge , xxmaj xxunk xxunk it would be xxunk if xxmaj zinn took the xxmaj oak xxmaj ridge design and xxunk the xxmaj materials xxmaj testing xxmaj reactor at one - xxunk capacity . xxmaj the joke proved unintentionally xxunk . \" \n",
              " \n",
              "  xxmaj the xxup xxunk plant used xxunk to separate the xxunk in thousands of tall columns . xxmaj it was built next to the xxup xxunk power plant , which provided the necessary steam . xxmaj much less xxunk than xxup xxunk , the xxup xxunk plant was torn down after the war . \n",
              " \n",
              "  xxmaj concerned that the xxmaj xxunk xxmaj energy xxmaj commission research program might become too xxunk , xxmaj xxunk xxunk a xxunk of industrial xxunk , and during a xxmaj xxunk visit to xxmaj oak xxmaj ridge , he xxunk with xxmaj clark xxmaj center , manager of xxmaj xxunk & xxmaj carbon , a xxunk of xxmaj union xxmaj xxunk xxmaj corporation at xxmaj oak xxmaj ridge , the possibility of the company assuming management of the xxmaj laboratory . \n",
              " \n",
              "  xxmaj prince xxmaj henry ( of xxmaj xxunk ) xxmaj xxunk in xxmaj washington and xxmaj visiting the xxmaj german xxmaj xxunk ( xxunk ) . xxmaj evidently , with xxmaj prince xxmaj henry of xxmaj xxunk according to the xxunk of science and its xxunk their were already concerns with the xxunk of new science with military xxunk . xxmaj the xxmaj xxunk ( xxunk / xxup ii ) , \" xxmaj xxunk xxmaj xxunk 's splendid xxunk at the xxunk xxmaj st. xxmaj xxunk , xxmaj new xxmaj york . xxmaj taken at the exact moment of xxmaj prince xxmaj henry 's arrival , and the raising of the royal standard . \" xxmaj if xxmaj xxunk knew of these necessary xxunk to xxunk xxunk then what was the xxunk of the xxunk xxup wwi and xxup wwii . xxmaj the quality of management control i presume ? \n",
              " \n",
              "  xxmaj thus , did the xxunk of xxmaj operation xxmaj xxunk xxunk for a military mission , or a business plan , based on the security xxunk of xxmaj laboratory management ? xxmaj because supposedly their were no survivors , and the ones who were caught in xxmaj europe ordered to be executed . xxmaj of the 400 man commando team the survivors who were captured were executed under orders of the xxmaj german xxmaj army against xxunk , and espionage acts of the xxmaj state of xxmaj germany . \n",
              " \n",
              "  xxmaj the xxmaj xxunk xxmaj no . xxunk / xxunk g. xxmaj xxunk . xxup xxunk / xxunk , xxmaj xxunk xxup xxunk , 18 xxmaj xxunk xxunk , ( signed ) xxmaj xxunk xxmaj hitler ; xxmaj translation of xxmaj document no . xxup xxunk , xxmaj office of xxup u.s. xxmaj chief of xxmaj xxunk , xxunk true copy xxmaj xxunk xxmaj major , xxunk xxup xxunk xxunk xxmaj march xxunk , xxunk , xxunk at the xxup u.s. xxmaj national xxmaj archives . \n",
              " \n",
              "  xxmaj the xxup xxunk xxmaj society xxunk xxunk xxmaj xxunk xxmaj xxunk . , 200 xxunk , xxup xxunk xxunk\n",
              "y: CategoryList\n",
              "positive,positive,positive,positive,positive\n",
              "Path: /root/.fastai/data/imdb_sample;\n",
              "\n",
              "Test: None, model=SequentialRNN(\n",
              "  (0): MultiBatchEncoder(\n",
              "    (module): AWD_LSTM(\n",
              "      (encoder): Embedding(6632, 400, padding_idx=1)\n",
              "      (encoder_dp): EmbeddingDropout(\n",
              "        (emb): Embedding(6632, 400, padding_idx=1)\n",
              "      )\n",
              "      (rnns): ModuleList(\n",
              "        (0): WeightDropout(\n",
              "          (module): LSTM(400, 1152, batch_first=True)\n",
              "        )\n",
              "        (1): WeightDropout(\n",
              "          (module): LSTM(1152, 1152, batch_first=True)\n",
              "        )\n",
              "        (2): WeightDropout(\n",
              "          (module): LSTM(1152, 400, batch_first=True)\n",
              "        )\n",
              "      )\n",
              "      (input_dp): RNNDropout()\n",
              "      (hidden_dps): ModuleList(\n",
              "        (0): RNNDropout()\n",
              "        (1): RNNDropout()\n",
              "        (2): RNNDropout()\n",
              "      )\n",
              "    )\n",
              "  )\n",
              "  (1): PoolingLinearClassifier(\n",
              "    (layers): Sequential(\n",
              "      (0): BatchNorm1d(1200, eps=1e-05, momentum=0.1, affine=True, track_running_stats=True)\n",
              "      (1): Dropout(p=0.2, inplace=False)\n",
              "      (2): Linear(in_features=1200, out_features=50, bias=True)\n",
              "      (3): ReLU(inplace=True)\n",
              "      (4): BatchNorm1d(50, eps=1e-05, momentum=0.1, affine=True, track_running_stats=True)\n",
              "      (5): Dropout(p=0.1, inplace=False)\n",
              "      (6): Linear(in_features=50, out_features=2, bias=True)\n",
              "    )\n",
              "  )\n",
              "), opt_func=functools.partial(<class 'torch.optim.adam.Adam'>, betas=(0.9, 0.99)), loss_func=FlattenedLoss of CrossEntropyLoss(), metrics=[<function accuracy at 0x7f5cd06cb598>], true_wd=True, bn_wd=True, wd=0.01, train_bn=True, path=PosixPath('/root/.fastai/data/imdb_sample'), model_dir='models', callback_fns=[functools.partial(<class 'fastai.basic_train.Recorder'>, add_time=True, silent=False)], callbacks=[RNNTrainer\n",
              "learn: RNNLearner(data=TextClasDataBunch;\n",
              "\n",
              "Train: LabelList (800 items)\n",
              "x: TextList\n",
              "xxbos xxmaj un - xxunk - believable ! xxmaj meg xxmaj ryan does n't even look her usual xxunk lovable self in this , which normally makes me forgive her shallow xxunk acting xxunk . xxmaj hard to believe she was the producer on this dog . xxmaj plus xxmaj kevin xxmaj kline : what kind of suicide trip has his career been on ? xxmaj xxunk ... xxmaj xxunk ! ! ! xxmaj finally this was directed by the guy who did xxmaj big xxmaj xxunk ? xxmaj must be a replay of xxmaj jonestown - hollywood style . xxmaj xxunk !,xxbos xxmaj this is a extremely well - made film . xxmaj the acting , script and camera - work are all first - rate . xxmaj the music is good , too , though it is mostly early in the film , when things are still relatively xxunk . xxmaj there are no really xxunk in the cast , though several faces will be familiar . xxmaj the entire cast does an excellent job with the script . \n",
              " \n",
              "  xxmaj but it is hard to watch , because there is no good end to a situation like the one presented . xxmaj it is now xxunk to blame the xxmaj british for setting xxmaj hindus and xxmaj muslims against each other , and then xxunk xxunk them into two countries . xxmaj there is some merit in this view , but it 's also true that no one forced xxmaj hindus and xxmaj muslims in the xxunk to xxunk each other as they did around the time of partition . xxmaj it seems more likely that the xxmaj british simply saw the xxunk between the xxunk and were clever enough to exploit them to their own ends . \n",
              " \n",
              "  xxmaj the result is that there is much cruelty and xxunk in the situation and this is very unpleasant to remember and to see on the screen . xxmaj but it is never painted as a black - and - white case . xxmaj there is xxunk and xxunk on both sides , and also the hope for change in the younger generation . \n",
              " \n",
              "  xxmaj there is redemption of a sort , in the end , when xxmaj xxunk has to make a hard choice between a man who has ruined her life , but also truly loved her , and her family which has xxunk her , then later come looking for her . xxmaj but by that point , she has no xxunk that is without great pain for her . \n",
              " \n",
              "  xxmaj this film carries the message that both xxmaj muslims and xxmaj hindus have their grave xxunk , and also that both can be xxunk and caring people . xxmaj the reality of partition makes that xxunk all the more wrenching , since there can never be real xxunk across the xxmaj india / xxmaj xxunk border . xxmaj in that sense , it is similar to \" xxmaj mr & xxmaj xxunk xxmaj xxunk \" . \n",
              " \n",
              "  xxmaj in the end , we were glad to have seen the film , even though the resolution was heartbreaking . xxmaj if the xxup uk and xxup us could deal with their own xxunk of racism with this kind of xxunk , they would certainly be better off .,xxbos xxmaj every once in a long while a movie will come along that will be so awful that i feel compelled to warn people . xxmaj if i labor all my days and i can save but one soul from watching this movie , how great will be my joy . \n",
              " \n",
              "  xxmaj where to begin my discussion of pain . xxmaj for xxunk , there was a musical montage every five minutes . xxmaj there was no character development . xxmaj every character was a stereotype . xxmaj we had xxunk guy , fat guy who eats donuts , goofy foreign guy , etc . xxmaj the script felt as if it were being written as the movie was being shot . xxmaj the production value was so incredibly low that it felt like i was watching a junior high video presentation . xxmaj have the directors , producers , etc . ever even seen a movie before ? xxmaj xxunk is getting worse and worse with every new entry . xxmaj the concept for this movie sounded so funny . xxmaj how could you go wrong with xxmaj gary xxmaj coleman and a handful of somewhat legitimate actors . xxmaj but trust me when i say this , things went wrong , xxup very xxup wrong .,xxbos xxmaj name just says it all . i watched this movie with my dad when it came out and having served in xxmaj xxunk he had great xxunk for the man . xxmaj the disappointing thing about this film is that it only xxunk on a short period of the man 's life - interestingly enough the man 's entire life would have made such an epic bio - xxunk that it is xxunk to imagine the cost for production . \n",
              " \n",
              "  xxmaj some posters xxunk to the flawed xxunk about the man , which are cheap shots . xxmaj the theme of the movie \" xxmaj duty , xxmaj honor , xxmaj country \" are not just mere words xxunk from the lips of a high - xxunk officer - it is the deep xxunk of one man 's total xxunk to his country . \n",
              " \n",
              "  xxmaj ironically xxmaj xxunk being the liberal that he was xxunk a better understanding of the man . xxmaj he does a great job showing the xxunk general xxunk with the xxunk side of the man .,xxbos xxmaj this movie succeeds at being one of the most unique movies you 've seen . xxmaj however this comes from the fact that you ca n't make heads or xxunk of this mess . xxmaj it almost seems as a series of challenges set up to determine whether or not you are willing to walk out of the movie and give up the money you just paid . xxmaj if you do n't want to feel xxunk you 'll sit through this horrible film and develop a real sense of pity for the actors involved , they 've all seen better days , but then you realize they actually got paid quite a bit of money to do this and you 'll lose pity for them just like you 've already done for the film . i ca n't go on enough about this horrible movie , its almost something that xxmaj ed xxmaj wood would have made and in that case it surely would have been his masterpiece . \n",
              " \n",
              "  xxmaj to start you are forced to sit through an opening dialogue the likes of which you 've never seen / heard , this thing has got to be five minutes long . xxmaj on top of that it is narrated , as to suggest that you the viewer can not read . xxmaj then we meet xxmaj mr. xxmaj xxunk and the xxunk of terrible lines gets xxunk , it is as if he is xxunk solely to get lines on to the movie poster tag line . xxmaj soon we meet xxmaj stephen xxmaj xxunk , who i typically enjoy ) and he does his best not to drown in this but ultimately he does . xxmaj then comes the ultimate insult , xxmaj tara xxmaj reid playing an intelligent role , oh help us ! xxmaj tara xxmaj reid is not a very talented actress and somehow she xxunk gets roles in movies , in my opinion though she should stick to movies of the xxmaj american pie type . \n",
              " \n",
              "  xxmaj all in all you just may want to see this for yourself when it comes out on video , i know that i got a kick out of it , i mean lets all be honest here , sometimes its comforting to xxunk in the shortcomings of others .\n",
              "y: CategoryList\n",
              "negative,positive,negative,positive,negative\n",
              "Path: /root/.fastai/data/imdb_sample;\n",
              "\n",
              "Valid: LabelList (200 items)\n",
              "x: TextList\n",
              "xxbos xxmaj this very funny xxmaj british comedy shows what might happen if a section of xxmaj london , in this case xxmaj pimlico , were to declare itself independent from the rest of the xxup uk and its laws , xxunk & post - war xxunk . xxmaj merry mayhem is what would happen . \n",
              " \n",
              "  xxmaj the explosion of a wartime bomb leads to the discovery of ancient documents which show that xxmaj pimlico was xxunk to the xxmaj xxunk of xxmaj xxunk centuries ago , a small historical xxunk long since forgotten . xxmaj to the new xxmaj xxunk , however , this is an unexpected opportunity to live as they please , free from any xxunk from xxmaj xxunk . \n",
              " \n",
              "  xxmaj stanley xxmaj xxunk is excellent as the minor city politician who suddenly finds himself leading one of the world 's xxunk nations . xxmaj dame xxmaj margaret xxmaj xxunk is a delight as the history professor who sides with xxmaj pimlico . xxmaj others in the stand - out cast include xxmaj xxunk xxmaj xxunk , xxmaj paul xxmaj xxunk , xxmaj xxunk xxmaj wayne , xxmaj xxunk xxmaj xxunk & xxmaj sir xxmaj michael xxmaj xxunk . \n",
              " \n",
              "  xxmaj welcome to xxmaj xxunk !,xxbos i saw this movie once as a kid on the late - late show and fell in love with it . \n",
              " \n",
              "  xxmaj it took 30 + years , but i recently did find it on xxup dvd - it was n't cheap , either - in a catalog that xxunk in war movies . xxmaj we watched it last night for the first time . xxmaj the audio was good , however it was grainy and had the trailers between xxunk . xxmaj even so , it was better than i remembered it . i was also impressed at how true it was to the play . \n",
              " \n",
              "  xxmaj the catalog is around here xxunk . xxmaj if you 're sincere in finding it , fire me a xxunk and i 'll see if i can get you the xxunk . xxunk,xxbos xxmaj this is , in my opinion , a very good film , especially for xxmaj michael xxmaj jackson lovers . xxmaj it contains a message on drugs , stunning special effects , and an awesome music video . \n",
              " \n",
              "  xxmaj the main film is centered around the song and music video ' xxmaj smooth xxmaj criminal . ' xxmaj unlike the four - minute music video , it is normal speed and , in my opinion , much easier to watch . \n",
              " \n",
              "  xxmaj the plot is rather weird , however . xxmaj michael xxmaj jackson plays a magical ' gangster ' that , when he sees a shooting star , he transforms into a piece of xxunk . xxmaj throughout the film , he transforms into a race car , a giant robot , and a space ship . \n",
              " \n",
              "  xxmaj the robot scene in particular is a bit drawn out and strange . i found it a little out - of - whack compared to the rest of the film . \n",
              " \n",
              "  a child is kidnapped , xxmaj michael tries to save her , is tortured and beaten , and suddenly turns into a giant robot that blows up all the bad guys . a little weird ? xxmaj yeah . \n",
              " \n",
              "  xxmaj but besides the bizarre robot scene , it 's a very good movie , and any xxmaj michael xxmaj jackson fan will enjoy both the xxmaj smooth xxmaj criminal music video and the movie .,xxbos xxmaj in xxmaj iran , women are not xxunk to attend men 's sporting events , apparently to \" xxunk \" them from all the xxunk and foul language they might hear xxunk from the male fans ( so since men ca n't xxunk or behave themselves , women are forced to suffer . xxmaj go figure . ) . \" xxmaj offside \" tells the tale of a half dozen or so young women who , dressed like men , attempt to sneak into the high - xxunk match between xxmaj iran and xxmaj xxunk that , in 2005 , qualified xxmaj iran to go to the xxmaj world xxmaj cup ( the movie was actually filmed in large part during that game ) . \n",
              " \n",
              "  \" xxmaj offside \" is a slice - of - life comedy that will remind you of all those great xxunk films ( \" xxmaj the xxmaj shop on xxmaj main xxmaj street , \" \" xxmaj loves of a xxmaj blonde , \" \" xxmaj closely xxmaj watched xxmaj trains \" etc . ) that xxunk out of xxmaj communist xxmaj xxunk as part of the \" xxmaj xxunk xxmaj miracle \" in the mid 1960 's . xxmaj as with many of those works , \" xxmaj offside \" is more concerned with xxunk life than with xxunk any kind of xxunk contrived fictional narrative . xxmaj indeed , it is the simplicity of the setup and the xxunk of the style that make the movie so effective . \n",
              " \n",
              "  xxmaj once their xxunk is discovered , the girls are xxunk into a small pen right outside the stadium where they can hear the xxunk cheering xxunk from the game inside . xxmaj stuck where they are , all they can do is xxunk with the security guards to let them go in , guards who are basically bumbling , good - natured xxunk who are compelled to do their duty as a part of their xxunk military service . xxmaj even most of the men going into the stadium do n't seem particularly xxunk at the thought of these women being allowed in . xxmaj still the prohibition xxunk . xxmaj yet , how can one not be impressed by the very real courage and xxunk displayed by these women as they go up against a system that continues to xxunk such a ridiculously xxunk and archaic xxunk ? xxmaj and , yet , the purpose of these women is not to xxunk behind a cause or to make a \" point . \" xxmaj they are simply obsessed fans with a burning desire to watch a soccer game and , like all the men in the country , xxunk on their team . \n",
              " \n",
              "  xxmaj it 's hard to tell just how much of the dialogue is scripted and how much of it is xxunk , but , in either case , the actors , with their xxunk xxunk faces , do a magnificent job making each moment seem utterly real and convincing . xxmaj xxunk xxmaj xxunk - xxunk and xxmaj xxunk xxmaj xxunk are notable xxunk in a xxunk excellent cast . xxmaj the structure of the film is also very loose and xxunk , as writer / director xxmaj xxunk xxmaj xxunk and co - writer xxmaj xxunk xxmaj xxunk focus for a few brief moments on one or two of the characters , then move xxunk and xxunk onto others . xxmaj with this documentary - type approach , we come to feel as if we are xxunk an actual event xxunk in \" real time . \" xxmaj very often , it 's quite easy for us to forget we 're actually watching a movie . \n",
              " \n",
              "  xxmaj it was a very smart move on the part of the filmmakers to include so much good - natured humor in the film ( it 's what the xxmaj xxunk filmmakers did as well ) , the better to point up the utter absurdity of the situation and xxunk the appeal of the film for audiences both domestic and foreign . \" xxmaj offside \" is obviously a cry for justice , but it is one that is made all the more effective by its xxunk to make of its story a heavy - breathing tragedy . xxmaj instead , it realizes that nothing breaks down social xxunk quite as xxunk as humor and an appeal to the audience 's common humanity . xxmaj and is n't that what true art is supposed to be all about ? xxmaj in its own quiet , xxunk way , \" xxmaj offside \" is one of the great , under - appreciated gems of 2007 .,xxbos \" xxmaj in xxmaj april xxunk , the xxmaj university of xxmaj chicago xxunk to xxunk xxmaj argonne xxmaj national xxmaj laboratory , with an association of xxmaj xxunk xxunk offering to xxunk the research . xxmaj argonne xxunk became the first \" national \" laboratory . xxmaj it did not , however , remain at its original location in the xxmaj argonne forest . xxmaj in xxunk , it moved farther west from the \" xxmaj xxunk xxmaj city \" to a new site on xxmaj illinois xxunk . xxmaj when xxmaj xxunk xxmaj xxunk visited xxmaj argonne 's director , xxmaj walter xxmaj zinn , in xxunk , he asked him what kind of reactor was to be built at the new site . xxmaj when xxmaj zinn described a heavy - water reactor xxunk at one - xxunk the power of the xxmaj materials xxmaj testing xxmaj reactor under design at xxmaj oak xxmaj ridge , xxmaj xxunk xxunk it would be xxunk if xxmaj zinn took the xxmaj oak xxmaj ridge design and xxunk the xxmaj materials xxmaj testing xxmaj reactor at one - xxunk capacity . xxmaj the joke proved unintentionally xxunk . \" \n",
              " \n",
              "  xxmaj the xxup xxunk plant used xxunk to separate the xxunk in thousands of tall columns . xxmaj it was built next to the xxup xxunk power plant , which provided the necessary steam . xxmaj much less xxunk than xxup xxunk , the xxup xxunk plant was torn down after the war . \n",
              " \n",
              "  xxmaj concerned that the xxmaj xxunk xxmaj energy xxmaj commission research program might become too xxunk , xxmaj xxunk xxunk a xxunk of industrial xxunk , and during a xxmaj xxunk visit to xxmaj oak xxmaj ridge , he xxunk with xxmaj clark xxmaj center , manager of xxmaj xxunk & xxmaj carbon , a xxunk of xxmaj union xxmaj xxunk xxmaj corporation at xxmaj oak xxmaj ridge , the possibility of the company assuming management of the xxmaj laboratory . \n",
              " \n",
              "  xxmaj prince xxmaj henry ( of xxmaj xxunk ) xxmaj xxunk in xxmaj washington and xxmaj visiting the xxmaj german xxmaj xxunk ( xxunk ) . xxmaj evidently , with xxmaj prince xxmaj henry of xxmaj xxunk according to the xxunk of science and its xxunk their were already concerns with the xxunk of new science with military xxunk . xxmaj the xxmaj xxunk ( xxunk / xxup ii ) , \" xxmaj xxunk xxmaj xxunk 's splendid xxunk at the xxunk xxmaj st. xxmaj xxunk , xxmaj new xxmaj york . xxmaj taken at the exact moment of xxmaj prince xxmaj henry 's arrival , and the raising of the royal standard . \" xxmaj if xxmaj xxunk knew of these necessary xxunk to xxunk xxunk then what was the xxunk of the xxunk xxup wwi and xxup wwii . xxmaj the quality of management control i presume ? \n",
              " \n",
              "  xxmaj thus , did the xxunk of xxmaj operation xxmaj xxunk xxunk for a military mission , or a business plan , based on the security xxunk of xxmaj laboratory management ? xxmaj because supposedly their were no survivors , and the ones who were caught in xxmaj europe ordered to be executed . xxmaj of the 400 man commando team the survivors who were captured were executed under orders of the xxmaj german xxmaj army against xxunk , and espionage acts of the xxmaj state of xxmaj germany . \n",
              " \n",
              "  xxmaj the xxmaj xxunk xxmaj no . xxunk / xxunk g. xxmaj xxunk . xxup xxunk / xxunk , xxmaj xxunk xxup xxunk , 18 xxmaj xxunk xxunk , ( signed ) xxmaj xxunk xxmaj hitler ; xxmaj translation of xxmaj document no . xxup xxunk , xxmaj office of xxup u.s. xxmaj chief of xxmaj xxunk , xxunk true copy xxmaj xxunk xxmaj major , xxunk xxup xxunk xxunk xxmaj march xxunk , xxunk , xxunk at the xxup u.s. xxmaj national xxmaj archives . \n",
              " \n",
              "  xxmaj the xxup xxunk xxmaj society xxunk xxunk xxmaj xxunk xxmaj xxunk . , 200 xxunk , xxup xxunk xxunk\n",
              "y: CategoryList\n",
              "positive,positive,positive,positive,positive\n",
              "Path: /root/.fastai/data/imdb_sample;\n",
              "\n",
              "Test: None, model=SequentialRNN(\n",
              "  (0): MultiBatchEncoder(\n",
              "    (module): AWD_LSTM(\n",
              "      (encoder): Embedding(6632, 400, padding_idx=1)\n",
              "      (encoder_dp): EmbeddingDropout(\n",
              "        (emb): Embedding(6632, 400, padding_idx=1)\n",
              "      )\n",
              "      (rnns): ModuleList(\n",
              "        (0): WeightDropout(\n",
              "          (module): LSTM(400, 1152, batch_first=True)\n",
              "        )\n",
              "        (1): WeightDropout(\n",
              "          (module): LSTM(1152, 1152, batch_first=True)\n",
              "        )\n",
              "        (2): WeightDropout(\n",
              "          (module): LSTM(1152, 400, batch_first=True)\n",
              "        )\n",
              "      )\n",
              "      (input_dp): RNNDropout()\n",
              "      (hidden_dps): ModuleList(\n",
              "        (0): RNNDropout()\n",
              "        (1): RNNDropout()\n",
              "        (2): RNNDropout()\n",
              "      )\n",
              "    )\n",
              "  )\n",
              "  (1): PoolingLinearClassifier(\n",
              "    (layers): Sequential(\n",
              "      (0): BatchNorm1d(1200, eps=1e-05, momentum=0.1, affine=True, track_running_stats=True)\n",
              "      (1): Dropout(p=0.2, inplace=False)\n",
              "      (2): Linear(in_features=1200, out_features=50, bias=True)\n",
              "      (3): ReLU(inplace=True)\n",
              "      (4): BatchNorm1d(50, eps=1e-05, momentum=0.1, affine=True, track_running_stats=True)\n",
              "      (5): Dropout(p=0.1, inplace=False)\n",
              "      (6): Linear(in_features=50, out_features=2, bias=True)\n",
              "    )\n",
              "  )\n",
              "), opt_func=functools.partial(<class 'torch.optim.adam.Adam'>, betas=(0.9, 0.99)), loss_func=FlattenedLoss of CrossEntropyLoss(), metrics=[<function accuracy at 0x7f5cd06cb598>], true_wd=True, bn_wd=True, wd=0.01, train_bn=True, path=PosixPath('/root/.fastai/data/imdb_sample'), model_dir='models', callback_fns=[functools.partial(<class 'fastai.basic_train.Recorder'>, add_time=True, silent=False)], callbacks=[...], layer_groups=[Sequential(\n",
              "  (0): Embedding(6632, 400, padding_idx=1)\n",
              "  (1): EmbeddingDropout(\n",
              "    (emb): Embedding(6632, 400, padding_idx=1)\n",
              "  )\n",
              "), Sequential(\n",
              "  (0): WeightDropout(\n",
              "    (module): LSTM(400, 1152, batch_first=True)\n",
              "  )\n",
              "  (1): RNNDropout()\n",
              "), Sequential(\n",
              "  (0): WeightDropout(\n",
              "    (module): LSTM(1152, 1152, batch_first=True)\n",
              "  )\n",
              "  (1): RNNDropout()\n",
              "), Sequential(\n",
              "  (0): WeightDropout(\n",
              "    (module): LSTM(1152, 400, batch_first=True)\n",
              "  )\n",
              "  (1): RNNDropout()\n",
              "), Sequential(\n",
              "  (0): PoolingLinearClassifier(\n",
              "    (layers): Sequential(\n",
              "      (0): BatchNorm1d(1200, eps=1e-05, momentum=0.1, affine=True, track_running_stats=True)\n",
              "      (1): Dropout(p=0.2, inplace=False)\n",
              "      (2): Linear(in_features=1200, out_features=50, bias=True)\n",
              "      (3): ReLU(inplace=True)\n",
              "      (4): BatchNorm1d(50, eps=1e-05, momentum=0.1, affine=True, track_running_stats=True)\n",
              "      (5): Dropout(p=0.1, inplace=False)\n",
              "      (6): Linear(in_features=50, out_features=2, bias=True)\n",
              "    )\n",
              "  )\n",
              ")], add_time=True, silent=False)\n",
              "alpha: 2.0\n",
              "beta: 1.0], layer_groups=[Sequential(\n",
              "  (0): Embedding(6632, 400, padding_idx=1)\n",
              "  (1): EmbeddingDropout(\n",
              "    (emb): Embedding(6632, 400, padding_idx=1)\n",
              "  )\n",
              "), Sequential(\n",
              "  (0): WeightDropout(\n",
              "    (module): LSTM(400, 1152, batch_first=True)\n",
              "  )\n",
              "  (1): RNNDropout()\n",
              "), Sequential(\n",
              "  (0): WeightDropout(\n",
              "    (module): LSTM(1152, 1152, batch_first=True)\n",
              "  )\n",
              "  (1): RNNDropout()\n",
              "), Sequential(\n",
              "  (0): WeightDropout(\n",
              "    (module): LSTM(1152, 400, batch_first=True)\n",
              "  )\n",
              "  (1): RNNDropout()\n",
              "), Sequential(\n",
              "  (0): PoolingLinearClassifier(\n",
              "    (layers): Sequential(\n",
              "      (0): BatchNorm1d(1200, eps=1e-05, momentum=0.1, affine=True, track_running_stats=True)\n",
              "      (1): Dropout(p=0.2, inplace=False)\n",
              "      (2): Linear(in_features=1200, out_features=50, bias=True)\n",
              "      (3): ReLU(inplace=True)\n",
              "      (4): BatchNorm1d(50, eps=1e-05, momentum=0.1, affine=True, track_running_stats=True)\n",
              "      (5): Dropout(p=0.1, inplace=False)\n",
              "      (6): Linear(in_features=50, out_features=2, bias=True)\n",
              "    )\n",
              "  )\n",
              ")], add_time=True, silent=False)"
            ]
          },
          "metadata": {
            "tags": []
          },
          "execution_count": 44
        }
      ]
    },
    {
      "cell_type": "code",
      "metadata": {
        "id": "Bw1x91f_5nT_",
        "colab_type": "code",
        "colab": {}
      },
      "source": [
        "learn.freeze()"
      ],
      "execution_count": 0,
      "outputs": []
    },
    {
      "cell_type": "code",
      "metadata": {
        "id": "SAm9Zd8A5owu",
        "colab_type": "code",
        "colab": {}
      },
      "source": [
        "learn.save('stage-3')"
      ],
      "execution_count": 0,
      "outputs": []
    },
    {
      "cell_type": "code",
      "metadata": {
        "id": "riB4JAfX5uHZ",
        "colab_type": "code",
        "colab": {
          "base_uri": "https://localhost:8080/",
          "height": 201
        },
        "outputId": "5bca73f3-a7d4-41d5-fb6c-41c0fcf487ef"
      },
      "source": [
        "learn.lr_find()"
      ],
      "execution_count": 47,
      "outputs": [
        {
          "output_type": "display_data",
          "data": {
            "text/html": [
              "\n",
              "    <div>\n",
              "        <style>\n",
              "            /* Turns off some styling */\n",
              "            progress {\n",
              "                /* gets rid of default border in Firefox and Opera. */\n",
              "                border: none;\n",
              "                /* Needs to be in here for Safari polyfill so background images work as expected. */\n",
              "                background-size: auto;\n",
              "            }\n",
              "            .progress-bar-interrupted, .progress-bar-interrupted::-webkit-progress-bar {\n",
              "                background: #F44336;\n",
              "            }\n",
              "        </style>\n",
              "      <progress value='3' class='' max='4' style='width:300px; height:20px; vertical-align: middle;'></progress>\n",
              "      75.00% [3/4 00:27<00:09]\n",
              "    </div>\n",
              "    \n",
              "<table border=\"1\" class=\"dataframe\">\n",
              "  <thead>\n",
              "    <tr style=\"text-align: left;\">\n",
              "      <th>epoch</th>\n",
              "      <th>train_loss</th>\n",
              "      <th>valid_loss</th>\n",
              "      <th>accuracy</th>\n",
              "      <th>time</th>\n",
              "    </tr>\n",
              "  </thead>\n",
              "  <tbody>\n",
              "    <tr>\n",
              "      <td>0</td>\n",
              "      <td>0.783620</td>\n",
              "      <td>#na#</td>\n",
              "      <td>00:09</td>\n",
              "    </tr>\n",
              "    <tr>\n",
              "      <td>1</td>\n",
              "      <td>0.750761</td>\n",
              "      <td>#na#</td>\n",
              "      <td>00:09</td>\n",
              "    </tr>\n",
              "    <tr>\n",
              "      <td>2</td>\n",
              "      <td>0.631699</td>\n",
              "      <td>#na#</td>\n",
              "      <td>00:09</td>\n",
              "    </tr>\n",
              "  </tbody>\n",
              "</table><p>\n",
              "\n",
              "    <div>\n",
              "        <style>\n",
              "            /* Turns off some styling */\n",
              "            progress {\n",
              "                /* gets rid of default border in Firefox and Opera. */\n",
              "                border: none;\n",
              "                /* Needs to be in here for Safari polyfill so background images work as expected. */\n",
              "                background-size: auto;\n",
              "            }\n",
              "            .progress-bar-interrupted, .progress-bar-interrupted::-webkit-progress-bar {\n",
              "                background: #F44336;\n",
              "            }\n",
              "        </style>\n",
              "      <progress value='19' class='' max='25' style='width:300px; height:20px; vertical-align: middle;'></progress>\n",
              "      76.00% [19/25 00:07<00:02 1.7443]\n",
              "    </div>\n",
              "    "
            ],
            "text/plain": [
              "<IPython.core.display.HTML object>"
            ]
          },
          "metadata": {
            "tags": []
          }
        },
        {
          "output_type": "stream",
          "text": [
            "LR Finder is complete, type {learner_name}.recorder.plot() to see the graph.\n"
          ],
          "name": "stdout"
        }
      ]
    },
    {
      "cell_type": "code",
      "metadata": {
        "id": "2BObhgjK5ws9",
        "colab_type": "code",
        "colab": {
          "base_uri": "https://localhost:8080/",
          "height": 279
        },
        "outputId": "d763ec77-1390-4864-a45f-712f64d67501"
      },
      "source": [
        "learn.recorder.plot()"
      ],
      "execution_count": 48,
      "outputs": [
        {
          "output_type": "display_data",
          "data": {
            "image/png": "[encoded data removed]",
            "text/plain": [
              "<Figure size 432x288 with 1 Axes>"
            ]
          },
          "metadata": {
            "tags": [],
            "needs_background": "light"
          }
        }
      ]
    },
    {
      "cell_type": "code",
      "metadata": {
        "id": "hoW_Sqmb58GY",
        "colab_type": "code",
        "colab": {
          "base_uri": "https://localhost:8080/",
          "height": 108
        },
        "outputId": "d8fd8519-9aba-4023-b389-7e30194ef1fb"
      },
      "source": [
        "learn.load('stage-3')\n",
        "lrs = slice(1e-03, 1e-02)\n",
        "learn.fit_one_cycle(2, slice(2e-02), moms=(0.7, 0.8))"
      ],
      "execution_count": 50,
      "outputs": [
        {
          "output_type": "display_data",
          "data": {
            "text/html": [
              "<table border=\"1\" class=\"dataframe\">\n",
              "  <thead>\n",
              "    <tr style=\"text-align: left;\">\n",
              "      <th>epoch</th>\n",
              "      <th>train_loss</th>\n",
              "      <th>valid_loss</th>\n",
              "      <th>accuracy</th>\n",
              "      <th>time</th>\n",
              "    </tr>\n",
              "  </thead>\n",
              "  <tbody>\n",
              "    <tr>\n",
              "      <td>0</td>\n",
              "      <td>0.577704</td>\n",
              "      <td>0.580686</td>\n",
              "      <td>0.675000</td>\n",
              "      <td>00:10</td>\n",
              "    </tr>\n",
              "    <tr>\n",
              "      <td>1</td>\n",
              "      <td>0.461895</td>\n",
              "      <td>0.538294</td>\n",
              "      <td>0.745000</td>\n",
              "      <td>00:10</td>\n",
              "    </tr>\n",
              "  </tbody>\n",
              "</table>"
            ],
            "text/plain": [
              "<IPython.core.display.HTML object>"
            ]
          },
          "metadata": {
            "tags": []
          }
        }
      ]
    },
    {
      "cell_type": "code",
      "metadata": {
        "id": "PgzUsJH78HcD",
        "colab_type": "code",
        "colab": {}
      },
      "source": [
        "learn.save('stage-4')"
      ],
      "execution_count": 0,
      "outputs": []
    },
    {
      "cell_type": "code",
      "metadata": {
        "id": "6Q_5vtxW8K9z",
        "colab_type": "code",
        "colab": {}
      },
      "source": [
        "learn.load('stage-4')\n",
        "learn.freeze_to(-2)\n",
        "learn.save('stage-4-1')"
      ],
      "execution_count": 0,
      "outputs": []
    },
    {
      "cell_type": "code",
      "metadata": {
        "id": "Y3Uo-xac882K",
        "colab_type": "code",
        "colab": {
          "base_uri": "https://localhost:8080/",
          "height": 201
        },
        "outputId": "f3154681-a5c3-41b8-bcbb-35f2f1611d30"
      },
      "source": [
        "learn.lr_find()"
      ],
      "execution_count": 54,
      "outputs": [
        {
          "output_type": "display_data",
          "data": {
            "text/html": [
              "\n",
              "    <div>\n",
              "        <style>\n",
              "            /* Turns off some styling */\n",
              "            progress {\n",
              "                /* gets rid of default border in Firefox and Opera. */\n",
              "                border: none;\n",
              "                /* Needs to be in here for Safari polyfill so background images work as expected. */\n",
              "                background-size: auto;\n",
              "            }\n",
              "            .progress-bar-interrupted, .progress-bar-interrupted::-webkit-progress-bar {\n",
              "                background: #F44336;\n",
              "            }\n",
              "        </style>\n",
              "      <progress value='3' class='' max='4' style='width:300px; height:20px; vertical-align: middle;'></progress>\n",
              "      75.00% [3/4 00:27<00:09]\n",
              "    </div>\n",
              "    \n",
              "<table border=\"1\" class=\"dataframe\">\n",
              "  <thead>\n",
              "    <tr style=\"text-align: left;\">\n",
              "      <th>epoch</th>\n",
              "      <th>train_loss</th>\n",
              "      <th>valid_loss</th>\n",
              "      <th>accuracy</th>\n",
              "      <th>time</th>\n",
              "    </tr>\n",
              "  </thead>\n",
              "  <tbody>\n",
              "    <tr>\n",
              "      <td>0</td>\n",
              "      <td>0.358819</td>\n",
              "      <td>#na#</td>\n",
              "      <td>00:09</td>\n",
              "    </tr>\n",
              "    <tr>\n",
              "      <td>1</td>\n",
              "      <td>0.353240</td>\n",
              "      <td>#na#</td>\n",
              "      <td>00:09</td>\n",
              "    </tr>\n",
              "    <tr>\n",
              "      <td>2</td>\n",
              "      <td>0.380196</td>\n",
              "      <td>#na#</td>\n",
              "      <td>00:09</td>\n",
              "    </tr>\n",
              "  </tbody>\n",
              "</table><p>\n",
              "\n",
              "    <div>\n",
              "        <style>\n",
              "            /* Turns off some styling */\n",
              "            progress {\n",
              "                /* gets rid of default border in Firefox and Opera. */\n",
              "                border: none;\n",
              "                /* Needs to be in here for Safari polyfill so background images work as expected. */\n",
              "                background-size: auto;\n",
              "            }\n",
              "            .progress-bar-interrupted, .progress-bar-interrupted::-webkit-progress-bar {\n",
              "                background: #F44336;\n",
              "            }\n",
              "        </style>\n",
              "      <progress value='17' class='' max='25' style='width:300px; height:20px; vertical-align: middle;'></progress>\n",
              "      68.00% [17/25 00:06<00:03 0.8712]\n",
              "    </div>\n",
              "    "
            ],
            "text/plain": [
              "<IPython.core.display.HTML object>"
            ]
          },
          "metadata": {
            "tags": []
          }
        },
        {
          "output_type": "stream",
          "text": [
            "LR Finder is complete, type {learner_name}.recorder.plot() to see the graph.\n"
          ],
          "name": "stdout"
        }
      ]
    },
    {
      "cell_type": "code",
      "metadata": {
        "id": "PiMxK8YI9AAF",
        "colab_type": "code",
        "colab": {
          "base_uri": "https://localhost:8080/",
          "height": 279
        },
        "outputId": "baec7890-d236-4c0f-f5fa-b9dea84cbd09"
      },
      "source": [
        "learn.recorder.plot()"
      ],
      "execution_count": 55,
      "outputs": [
        {
          "output_type": "display_data",
          "data": {
            "image/png": "[encoded data removed]",
            "text/plain": [
              "<Figure size 432x288 with 1 Axes>"
            ]
          },
          "metadata": {
            "tags": [],
            "needs_background": "light"
          }
        }
      ]
    },
    {
      "cell_type": "code",
      "metadata": {
        "id": "0HyK8Qgn9NId",
        "colab_type": "code",
        "colab": {
          "base_uri": "https://localhost:8080/",
          "height": 108
        },
        "outputId": "35838c18-cb81-4e53-d100-25d80c589b93"
      },
      "source": [
        "learn.load('stage-4')\n",
        "learn.fit_one_cycle(2, slice(2e-05, 2e-03))"
      ],
      "execution_count": 57,
      "outputs": [
        {
          "output_type": "display_data",
          "data": {
            "text/html": [
              "<table border=\"1\" class=\"dataframe\">\n",
              "  <thead>\n",
              "    <tr style=\"text-align: left;\">\n",
              "      <th>epoch</th>\n",
              "      <th>train_loss</th>\n",
              "      <th>valid_loss</th>\n",
              "      <th>accuracy</th>\n",
              "      <th>time</th>\n",
              "    </tr>\n",
              "  </thead>\n",
              "  <tbody>\n",
              "    <tr>\n",
              "      <td>0</td>\n",
              "      <td>0.360926</td>\n",
              "      <td>0.570504</td>\n",
              "      <td>0.755000</td>\n",
              "      <td>00:10</td>\n",
              "    </tr>\n",
              "    <tr>\n",
              "      <td>1</td>\n",
              "      <td>0.328451</td>\n",
              "      <td>0.545192</td>\n",
              "      <td>0.770000</td>\n",
              "      <td>00:10</td>\n",
              "    </tr>\n",
              "  </tbody>\n",
              "</table>"
            ],
            "text/plain": [
              "<IPython.core.display.HTML object>"
            ]
          },
          "metadata": {
            "tags": []
          }
        }
      ]
    },
    {
      "cell_type": "code",
      "metadata": {
        "id": "c1flejh8_xF6",
        "colab_type": "code",
        "colab": {
          "base_uri": "https://localhost:8080/",
          "height": 108
        },
        "outputId": "1d9f9c39-1cba-434e-a1e5-178f5dcece3d"
      },
      "source": [
        "learn.load('stage-4-1')\n",
        "learn.fit_one_cycle(2, slice(2e-05, 2e-03))"
      ],
      "execution_count": 61,
      "outputs": [
        {
          "output_type": "display_data",
          "data": {
            "text/html": [
              "<table border=\"1\" class=\"dataframe\">\n",
              "  <thead>\n",
              "    <tr style=\"text-align: left;\">\n",
              "      <th>epoch</th>\n",
              "      <th>train_loss</th>\n",
              "      <th>valid_loss</th>\n",
              "      <th>accuracy</th>\n",
              "      <th>time</th>\n",
              "    </tr>\n",
              "  </thead>\n",
              "  <tbody>\n",
              "    <tr>\n",
              "      <td>0</td>\n",
              "      <td>0.376514</td>\n",
              "      <td>0.523268</td>\n",
              "      <td>0.755000</td>\n",
              "      <td>00:10</td>\n",
              "    </tr>\n",
              "    <tr>\n",
              "      <td>1</td>\n",
              "      <td>0.340796</td>\n",
              "      <td>0.516436</td>\n",
              "      <td>0.755000</td>\n",
              "      <td>00:10</td>\n",
              "    </tr>\n",
              "  </tbody>\n",
              "</table>"
            ],
            "text/plain": [
              "<IPython.core.display.HTML object>"
            ]
          },
          "metadata": {
            "tags": []
          }
        }
      ]
    },
    {
      "cell_type": "code",
      "metadata": {
        "id": "IJ-SdFmd_PW0",
        "colab_type": "code",
        "colab": {}
      },
      "source": [
        "learn.save('stage-5')"
      ],
      "execution_count": 0,
      "outputs": []
    },
    {
      "cell_type": "code",
      "metadata": {
        "id": "SpFkwwkf_SDY",
        "colab_type": "code",
        "colab": {}
      },
      "source": [
        "learn.freeze_to(-3)\n",
        "learn.save('stage-5-1')"
      ],
      "execution_count": 0,
      "outputs": []
    },
    {
      "cell_type": "code",
      "metadata": {
        "id": "03pIK-63_UUE",
        "colab_type": "code",
        "colab": {
          "base_uri": "https://localhost:8080/",
          "height": 201
        },
        "outputId": "30b4bfca-07d2-4bb1-ab82-eab8707b8db2"
      },
      "source": [
        "learn.lr_find()"
      ],
      "execution_count": 63,
      "outputs": [
        {
          "output_type": "display_data",
          "data": {
            "text/html": [
              "\n",
              "    <div>\n",
              "        <style>\n",
              "            /* Turns off some styling */\n",
              "            progress {\n",
              "                /* gets rid of default border in Firefox and Opera. */\n",
              "                border: none;\n",
              "                /* Needs to be in here for Safari polyfill so background images work as expected. */\n",
              "                background-size: auto;\n",
              "            }\n",
              "            .progress-bar-interrupted, .progress-bar-interrupted::-webkit-progress-bar {\n",
              "                background: #F44336;\n",
              "            }\n",
              "        </style>\n",
              "      <progress value='3' class='' max='4' style='width:300px; height:20px; vertical-align: middle;'></progress>\n",
              "      75.00% [3/4 00:28<00:09]\n",
              "    </div>\n",
              "    \n",
              "<table border=\"1\" class=\"dataframe\">\n",
              "  <thead>\n",
              "    <tr style=\"text-align: left;\">\n",
              "      <th>epoch</th>\n",
              "      <th>train_loss</th>\n",
              "      <th>valid_loss</th>\n",
              "      <th>accuracy</th>\n",
              "      <th>time</th>\n",
              "    </tr>\n",
              "  </thead>\n",
              "  <tbody>\n",
              "    <tr>\n",
              "      <td>0</td>\n",
              "      <td>0.323189</td>\n",
              "      <td>#na#</td>\n",
              "      <td>00:09</td>\n",
              "    </tr>\n",
              "    <tr>\n",
              "      <td>1</td>\n",
              "      <td>0.301537</td>\n",
              "      <td>#na#</td>\n",
              "      <td>00:09</td>\n",
              "    </tr>\n",
              "    <tr>\n",
              "      <td>2</td>\n",
              "      <td>0.365351</td>\n",
              "      <td>#na#</td>\n",
              "      <td>00:09</td>\n",
              "    </tr>\n",
              "  </tbody>\n",
              "</table><p>\n",
              "\n",
              "    <div>\n",
              "        <style>\n",
              "            /* Turns off some styling */\n",
              "            progress {\n",
              "                /* gets rid of default border in Firefox and Opera. */\n",
              "                border: none;\n",
              "                /* Needs to be in here for Safari polyfill so background images work as expected. */\n",
              "                background-size: auto;\n",
              "            }\n",
              "            .progress-bar-interrupted, .progress-bar-interrupted::-webkit-progress-bar {\n",
              "                background: #F44336;\n",
              "            }\n",
              "        </style>\n",
              "      <progress value='19' class='' max='25' style='width:300px; height:20px; vertical-align: middle;'></progress>\n",
              "      76.00% [19/25 00:07<00:02 0.9939]\n",
              "    </div>\n",
              "    "
            ],
            "text/plain": [
              "<IPython.core.display.HTML object>"
            ]
          },
          "metadata": {
            "tags": []
          }
        },
        {
          "output_type": "stream",
          "text": [
            "LR Finder is complete, type {learner_name}.recorder.plot() to see the graph.\n"
          ],
          "name": "stdout"
        }
      ]
    },
    {
      "cell_type": "code",
      "metadata": {
        "id": "71cpbuL5__wa",
        "colab_type": "code",
        "colab": {
          "base_uri": "https://localhost:8080/",
          "height": 279
        },
        "outputId": "49e9cef6-d612-4eab-a96e-d114f74ad90f"
      },
      "source": [
        "learn.recorder.plot()"
      ],
      "execution_count": 64,
      "outputs": [
        {
          "output_type": "display_data",
          "data": {
            "image/png": "[encoded data removed]",
            "text/plain": [
              "<Figure size 432x288 with 1 Axes>"
            ]
          },
          "metadata": {
            "tags": [],
            "needs_background": "light"
          }
        }
      ]
    },
    {
      "cell_type": "code",
      "metadata": {
        "id": "tycO6lWsACCe",
        "colab_type": "code",
        "colab": {
          "base_uri": "https://localhost:8080/",
          "height": 108
        },
        "outputId": "dbcd5803-1abf-459c-cb56-bcdd9fd322c8"
      },
      "source": [
        "learn.load('stage-5-1')\n",
        "learn.fit_one_cycle(2, slice(1e-05, 2e-3), moms = (0.8, 0.7))"
      ],
      "execution_count": 73,
      "outputs": [
        {
          "output_type": "display_data",
          "data": {
            "text/html": [
              "<table border=\"1\" class=\"dataframe\">\n",
              "  <thead>\n",
              "    <tr style=\"text-align: left;\">\n",
              "      <th>epoch</th>\n",
              "      <th>train_loss</th>\n",
              "      <th>valid_loss</th>\n",
              "      <th>accuracy</th>\n",
              "      <th>time</th>\n",
              "    </tr>\n",
              "  </thead>\n",
              "  <tbody>\n",
              "    <tr>\n",
              "      <td>0</td>\n",
              "      <td>0.313976</td>\n",
              "      <td>0.525842</td>\n",
              "      <td>0.770000</td>\n",
              "      <td>00:10</td>\n",
              "    </tr>\n",
              "    <tr>\n",
              "      <td>1</td>\n",
              "      <td>0.276798</td>\n",
              "      <td>0.527465</td>\n",
              "      <td>0.775000</td>\n",
              "      <td>00:10</td>\n",
              "    </tr>\n",
              "  </tbody>\n",
              "</table>"
            ],
            "text/plain": [
              "<IPython.core.display.HTML object>"
            ]
          },
          "metadata": {
            "tags": []
          }
        }
      ]
    },
    {
      "cell_type": "code",
      "metadata": {
        "id": "8Ax-Vni1BpqY",
        "colab_type": "code",
        "colab": {}
      },
      "source": [
        "learn.save('stage-6')"
      ],
      "execution_count": 0,
      "outputs": []
    },
    {
      "cell_type": "code",
      "metadata": {
        "id": "d93CLSchB5cP",
        "colab_type": "code",
        "colab": {
          "base_uri": "https://localhost:8080/",
          "height": 201
        },
        "outputId": "2531aeca-4e94-4014-e8c4-b9dab00a080a"
      },
      "source": [
        "learn.unfreeze()\n",
        "learn.lr_find()"
      ],
      "execution_count": 75,
      "outputs": [
        {
          "output_type": "display_data",
          "data": {
            "text/html": [
              "\n",
              "    <div>\n",
              "        <style>\n",
              "            /* Turns off some styling */\n",
              "            progress {\n",
              "                /* gets rid of default border in Firefox and Opera. */\n",
              "                border: none;\n",
              "                /* Needs to be in here for Safari polyfill so background images work as expected. */\n",
              "                background-size: auto;\n",
              "            }\n",
              "            .progress-bar-interrupted, .progress-bar-interrupted::-webkit-progress-bar {\n",
              "                background: #F44336;\n",
              "            }\n",
              "        </style>\n",
              "      <progress value='3' class='' max='4' style='width:300px; height:20px; vertical-align: middle;'></progress>\n",
              "      75.00% [3/4 00:27<00:09]\n",
              "    </div>\n",
              "    \n",
              "<table border=\"1\" class=\"dataframe\">\n",
              "  <thead>\n",
              "    <tr style=\"text-align: left;\">\n",
              "      <th>epoch</th>\n",
              "      <th>train_loss</th>\n",
              "      <th>valid_loss</th>\n",
              "      <th>accuracy</th>\n",
              "      <th>time</th>\n",
              "    </tr>\n",
              "  </thead>\n",
              "  <tbody>\n",
              "    <tr>\n",
              "      <td>0</td>\n",
              "      <td>0.251812</td>\n",
              "      <td>#na#</td>\n",
              "      <td>00:09</td>\n",
              "    </tr>\n",
              "    <tr>\n",
              "      <td>1</td>\n",
              "      <td>0.256131</td>\n",
              "      <td>#na#</td>\n",
              "      <td>00:09</td>\n",
              "    </tr>\n",
              "    <tr>\n",
              "      <td>2</td>\n",
              "      <td>0.319496</td>\n",
              "      <td>#na#</td>\n",
              "      <td>00:09</td>\n",
              "    </tr>\n",
              "  </tbody>\n",
              "</table><p>\n",
              "\n",
              "    <div>\n",
              "        <style>\n",
              "            /* Turns off some styling */\n",
              "            progress {\n",
              "                /* gets rid of default border in Firefox and Opera. */\n",
              "                border: none;\n",
              "                /* Needs to be in here for Safari polyfill so background images work as expected. */\n",
              "                background-size: auto;\n",
              "            }\n",
              "            .progress-bar-interrupted, .progress-bar-interrupted::-webkit-progress-bar {\n",
              "                background: #F44336;\n",
              "            }\n",
              "        </style>\n",
              "      <progress value='17' class='' max='25' style='width:300px; height:20px; vertical-align: middle;'></progress>\n",
              "      68.00% [17/25 00:06<00:03 0.6502]\n",
              "    </div>\n",
              "    "
            ],
            "text/plain": [
              "<IPython.core.display.HTML object>"
            ]
          },
          "metadata": {
            "tags": []
          }
        },
        {
          "output_type": "stream",
          "text": [
            "LR Finder is complete, type {learner_name}.recorder.plot() to see the graph.\n"
          ],
          "name": "stdout"
        }
      ]
    },
    {
      "cell_type": "code",
      "metadata": {
        "id": "ekNZJJe4B-bo",
        "colab_type": "code",
        "colab": {
          "base_uri": "https://localhost:8080/",
          "height": 279
        },
        "outputId": "cb9c9a75-55d3-420d-f71f-58815c291130"
      },
      "source": [
        "learn.recorder.plot()"
      ],
      "execution_count": 76,
      "outputs": [
        {
          "output_type": "display_data",
          "data": {
            "image/png": "[encoded data removed]",
            "text/plain": [
              "<Figure size 432x288 with 1 Axes>"
            ]
          },
          "metadata": {
            "tags": [],
            "needs_background": "light"
          }
        }
      ]
    },
    {
      "cell_type": "code",
      "metadata": {
        "id": "WuyXoIVKCBhN",
        "colab_type": "code",
        "colab": {}
      },
      "source": [
        "learn.save('stage-6-1')"
      ],
      "execution_count": 0,
      "outputs": []
    },
    {
      "cell_type": "code",
      "metadata": {
        "id": "ktmvXmrCCF0u",
        "colab_type": "code",
        "colab": {
          "base_uri": "https://localhost:8080/",
          "height": 108
        },
        "outputId": "d1a0fafb-94b6-4c35-822e-a2fe87f2cd25"
      },
      "source": [
        "learn.load('stage-6-1')\n",
        "learn.fit_one_cycle(2, slice(1e-03/(2.6**4), 1e-03))"
      ],
      "execution_count": 81,
      "outputs": [
        {
          "output_type": "display_data",
          "data": {
            "text/html": [
              "<table border=\"1\" class=\"dataframe\">\n",
              "  <thead>\n",
              "    <tr style=\"text-align: left;\">\n",
              "      <th>epoch</th>\n",
              "      <th>train_loss</th>\n",
              "      <th>valid_loss</th>\n",
              "      <th>accuracy</th>\n",
              "      <th>time</th>\n",
              "    </tr>\n",
              "  </thead>\n",
              "  <tbody>\n",
              "    <tr>\n",
              "      <td>0</td>\n",
              "      <td>0.252462</td>\n",
              "      <td>0.500800</td>\n",
              "      <td>0.770000</td>\n",
              "      <td>00:10</td>\n",
              "    </tr>\n",
              "    <tr>\n",
              "      <td>1</td>\n",
              "      <td>0.228481</td>\n",
              "      <td>0.520017</td>\n",
              "      <td>0.765000</td>\n",
              "      <td>00:10</td>\n",
              "    </tr>\n",
              "  </tbody>\n",
              "</table>"
            ],
            "text/plain": [
              "<IPython.core.display.HTML object>"
            ]
          },
          "metadata": {
            "tags": []
          }
        }
      ]
    },
    {
      "cell_type": "code",
      "metadata": {
        "id": "Sz2fDHsICVUT",
        "colab_type": "code",
        "colab": {
          "base_uri": "https://localhost:8080/",
          "height": 279
        },
        "outputId": "19ecfb94-5fc4-4ce3-f81d-eb95fd3c98e7"
      },
      "source": [
        "learn.recorder.plot_losses()"
      ],
      "execution_count": 82,
      "outputs": [
        {
          "output_type": "display_data",
          "data": {
            "image/png": "[encoded data removed]",
            "text/plain": [
              "<Figure size 432x288 with 1 Axes>"
            ]
          },
          "metadata": {
            "tags": [],
            "needs_background": "light"
          }
        }
      ]
    }
  ]
}