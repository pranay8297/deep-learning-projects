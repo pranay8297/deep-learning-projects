{
  "metadata": {
    "language_info": {
      "codemirror_mode": {
        "name": "ipython",
        "version": 3
      },
      "file_extension": ".py",
      "mimetype": "text/x-python",
      "name": "python",
      "nbconvert_exporter": "python",
      "pygments_lexer": "ipython3",
      "version": "3.8.5-final"
    },
    "orig_nbformat": 2,
    "kernelspec": {
      "name": "python3",
      "display_name": "Python 3.8.5 64-bit ('py38': conda)",
      "metadata": {
        "interpreter": {
          "hash": "3042f92ef5445b0e22f5d74c8881026962c9129ffe7ee8f0814177584106ba2b"
        }
      }
    },
    "colab": {
      "name": "EAI6010_PranayBindela_Colab_Week1_2_2022.ipynb",
      "provenance": [],
      "collapsed_sections": [],
      "include_colab_link": true
    }
  },
  "nbformat": 4,
  "nbformat_minor": 0,
  "cells": [
    {
      "cell_type": "markdown",
      "metadata": {
        "id": "view-in-github",
        "colab_type": "text"
      },
      "source": [
        "<a href=\"https://colab.research.google.com/github/pranay8297/deep-learning-projects/blob/master/EAI6010_PranayBindela_Colab_Week1_2_2022.ipynb\" target=\"_parent\"><img src=\"https://colab.research.google.com/assets/colab-badge.svg\" alt=\"Open In Colab\"/></a>"
      ]
    },
    {
      "source": [
        "**Bitcoin Price History**\n",
        "\n",
        "This tutorial, inspired by https://notebooks.ai/notebooks-ai/sample-project-tutorial-742bde1f,  we're going to pull LiteCoin cryptocurrency prices from a public API and download them as Excel files. I need to import two libraries first: *requests*  (to pull data from the web) and *pandas* to process it. May require `pip install requests`"
      ],
      "cell_type": "markdown",
      "metadata": {
        "id": "msHSgo3Ib5Dr"
      }
    },
    {
      "cell_type": "code",
      "execution_count": 1,
      "metadata": {
        "id": "2FcudErab5Ds"
      },
      "outputs": [],
      "source": [
        "import requests\n",
        "import pandas as pd"
      ]
    },
    {
      "source": [
        "I have a predefined function that simplifies the process of importing data from Cryptowatch (for reference, check their docs)."
      ],
      "cell_type": "markdown",
      "metadata": {
        "id": "o1C9w4NLb5Dt"
      }
    },
    {
      "cell_type": "code",
      "execution_count": 10,
      "metadata": {
        "id": "0GNF6z5tb5Du"
      },
      "outputs": [],
      "source": [
        "def get_historic_price(symbol, exchange='bitfinex', after='2018-09-01'):\n",
        "    url = 'https://api.cryptowat.ch/markets/{exchange}/{symbol}usd/ohlc'.format(\n",
        "        symbol=symbol, exchange=exchange)\n",
        "    resp = requests.get(url, params={\n",
        "        'periods': '3600',\n",
        "        'after': str(int(pd.Timestamp(after).timestamp()))\n",
        "    })\n",
        "\n",
        "    resp.raise_for_status()\n",
        "    data = resp.json()\n",
        "\n",
        "    df = pd.DataFrame(data['result']['3600'], columns=[\n",
        "        'CloseTime', 'OpenPrice', 'HighPrice', 'LowPrice', 'ClosePrice', 'Volume', 'NA'\n",
        "    ])\n",
        "    \n",
        "    df['CloseTime'] = pd.to_datetime(df['CloseTime'], unit='s')\n",
        "    df.set_index('CloseTime', inplace=True)\n",
        "    return df"
      ]
    },
    {
      "source": [
        "I will now pull data from LiteCoin, the most popular cryptocurrencies, for the last 100 days:"
      ],
      "cell_type": "markdown",
      "metadata": {
        "id": "FJmw3oj7b5Du"
      }
    },
    {
      "cell_type": "code",
      "execution_count": 11,
      "metadata": {
        "colab": {
          "base_uri": "https://localhost:8080/"
        },
        "id": "J0Gclivrb5Du",
        "outputId": "1c9de8b4-684a-44b9-9570-4cdda551e5eb"
      },
      "outputs": [
        {
          "output_type": "execute_result",
          "data": {
            "text/plain": [
              "Timestamp('2022-01-06 08:19:31.328053')"
            ]
          },
          "metadata": {},
          "execution_count": 11
        }
      ],
      "source": [
        "last_100days = (pd.Timestamp.now() - pd.offsets.Day(100))\n",
        "last_100days"
      ]
    },
    {
      "cell_type": "code",
      "execution_count": 12,
      "metadata": {
        "colab": {
          "base_uri": "https://localhost:8080/",
          "height": 237
        },
        "id": "oGfa3zN2b5Dv",
        "outputId": "a750ee11-b48f-4afd-82e1-a9e228de815a"
      },
      "outputs": [
        {
          "output_type": "execute_result",
          "data": {
            "text/plain": [
              "                     OpenPrice  HighPrice  LowPrice  ClosePrice      Volume  \\\n",
              "CloseTime                                                                     \n",
              "2022-04-16 05:00:00     111.93     112.04    111.85      111.85  337.584451   \n",
              "2022-04-16 06:00:00     111.76     111.90    111.56      111.90  415.750273   \n",
              "2022-04-16 07:00:00     111.82     111.82    111.57      111.71  399.897380   \n",
              "2022-04-16 08:00:00     111.76     111.77    111.59      111.72   58.072236   \n",
              "2022-04-16 09:00:00     111.49     111.72    111.30      111.72  139.556844   \n",
              "\n",
              "                               NA  \n",
              "CloseTime                          \n",
              "2022-04-16 05:00:00  37806.801206  \n",
              "2022-04-16 06:00:00  46483.647022  \n",
              "2022-04-16 07:00:00  44674.920697  \n",
              "2022-04-16 08:00:00   6486.681316  \n",
              "2022-04-16 09:00:00  15570.075748  "
            ],
            "text/html": [
              "\n",
              "  <div id=\"df-1a4fbd9f-452f-4c4e-a2da-09034e5ba6b9\">\n",
              "    <div class=\"colab-df-container\">\n",
              "      <div>\n",
              "<style scoped>\n",
              "    .dataframe tbody tr th:only-of-type {\n",
              "        vertical-align: middle;\n",
              "    }\n",
              "\n",
              "    .dataframe tbody tr th {\n",
              "        vertical-align: top;\n",
              "    }\n",
              "\n",
              "    .dataframe thead th {\n",
              "        text-align: right;\n",
              "    }\n",
              "</style>\n",
              "<table border=\"1\" class=\"dataframe\">\n",
              "  <thead>\n",
              "    <tr style=\"text-align: right;\">\n",
              "      <th></th>\n",
              "      <th>OpenPrice</th>\n",
              "      <th>HighPrice</th>\n",
              "      <th>LowPrice</th>\n",
              "      <th>ClosePrice</th>\n",
              "      <th>Volume</th>\n",
              "      <th>NA</th>\n",
              "    </tr>\n",
              "    <tr>\n",
              "      <th>CloseTime</th>\n",
              "      <th></th>\n",
              "      <th></th>\n",
              "      <th></th>\n",
              "      <th></th>\n",
              "      <th></th>\n",
              "      <th></th>\n",
              "    </tr>\n",
              "  </thead>\n",
              "  <tbody>\n",
              "    <tr>\n",
              "      <th>2022-04-16 05:00:00</th>\n",
              "      <td>111.93</td>\n",
              "      <td>112.04</td>\n",
              "      <td>111.85</td>\n",
              "      <td>111.85</td>\n",
              "      <td>337.584451</td>\n",
              "      <td>37806.801206</td>\n",
              "    </tr>\n",
              "    <tr>\n",
              "      <th>2022-04-16 06:00:00</th>\n",
              "      <td>111.76</td>\n",
              "      <td>111.90</td>\n",
              "      <td>111.56</td>\n",
              "      <td>111.90</td>\n",
              "      <td>415.750273</td>\n",
              "      <td>46483.647022</td>\n",
              "    </tr>\n",
              "    <tr>\n",
              "      <th>2022-04-16 07:00:00</th>\n",
              "      <td>111.82</td>\n",
              "      <td>111.82</td>\n",
              "      <td>111.57</td>\n",
              "      <td>111.71</td>\n",
              "      <td>399.897380</td>\n",
              "      <td>44674.920697</td>\n",
              "    </tr>\n",
              "    <tr>\n",
              "      <th>2022-04-16 08:00:00</th>\n",
              "      <td>111.76</td>\n",
              "      <td>111.77</td>\n",
              "      <td>111.59</td>\n",
              "      <td>111.72</td>\n",
              "      <td>58.072236</td>\n",
              "      <td>6486.681316</td>\n",
              "    </tr>\n",
              "    <tr>\n",
              "      <th>2022-04-16 09:00:00</th>\n",
              "      <td>111.49</td>\n",
              "      <td>111.72</td>\n",
              "      <td>111.30</td>\n",
              "      <td>111.72</td>\n",
              "      <td>139.556844</td>\n",
              "      <td>15570.075748</td>\n",
              "    </tr>\n",
              "  </tbody>\n",
              "</table>\n",
              "</div>\n",
              "      <button class=\"colab-df-convert\" onclick=\"convertToInteractive('df-1a4fbd9f-452f-4c4e-a2da-09034e5ba6b9')\"\n",
              "              title=\"Convert this dataframe to an interactive table.\"\n",
              "              style=\"display:none;\">\n",
              "        \n",
              "  <svg xmlns=\"http://www.w3.org/2000/svg\" height=\"24px\"viewBox=\"0 0 24 24\"\n",
              "       width=\"24px\">\n",
              "    <path d=\"M0 0h24v24H0V0z\" fill=\"none\"/>\n",
              "    <path d=\"M18.56 5.44l.94 2.06.94-2.06 2.06-.94-2.06-.94-.94-2.06-.94 2.06-2.06.94zm-11 1L8.5 8.5l.94-2.06 2.06-.94-2.06-.94L8.5 2.5l-.94 2.06-2.06.94zm10 10l.94 2.06.94-2.06 2.06-.94-2.06-.94-.94-2.06-.94 2.06-2.06.94z\"/><path d=\"M17.41 7.96l-1.37-1.37c-.4-.4-.92-.59-1.43-.59-.52 0-1.04.2-1.43.59L10.3 9.45l-7.72 7.72c-.78.78-.78 2.05 0 2.83L4 21.41c.39.39.9.59 1.41.59.51 0 1.02-.2 1.41-.59l7.78-7.78 2.81-2.81c.8-.78.8-2.07 0-2.86zM5.41 20L4 18.59l7.72-7.72 1.47 1.35L5.41 20z\"/>\n",
              "  </svg>\n",
              "      </button>\n",
              "      \n",
              "  <style>\n",
              "    .colab-df-container {\n",
              "      display:flex;\n",
              "      flex-wrap:wrap;\n",
              "      gap: 12px;\n",
              "    }\n",
              "\n",
              "    .colab-df-convert {\n",
              "      background-color: #E8F0FE;\n",
              "      border: none;\n",
              "      border-radius: 50%;\n",
              "      cursor: pointer;\n",
              "      display: none;\n",
              "      fill: #1967D2;\n",
              "      height: 32px;\n",
              "      padding: 0 0 0 0;\n",
              "      width: 32px;\n",
              "    }\n",
              "\n",
              "    .colab-df-convert:hover {\n",
              "      background-color: #E2EBFA;\n",
              "      box-shadow: 0px 1px 2px rgba(60, 64, 67, 0.3), 0px 1px 3px 1px rgba(60, 64, 67, 0.15);\n",
              "      fill: #174EA6;\n",
              "    }\n",
              "\n",
              "    [theme=dark] .colab-df-convert {\n",
              "      background-color: #3B4455;\n",
              "      fill: #D2E3FC;\n",
              "    }\n",
              "\n",
              "    [theme=dark] .colab-df-convert:hover {\n",
              "      background-color: #434B5C;\n",
              "      box-shadow: 0px 1px 3px 1px rgba(0, 0, 0, 0.15);\n",
              "      filter: drop-shadow(0px 1px 2px rgba(0, 0, 0, 0.3));\n",
              "      fill: #FFFFFF;\n",
              "    }\n",
              "  </style>\n",
              "\n",
              "      <script>\n",
              "        const buttonEl =\n",
              "          document.querySelector('#df-1a4fbd9f-452f-4c4e-a2da-09034e5ba6b9 button.colab-df-convert');\n",
              "        buttonEl.style.display =\n",
              "          google.colab.kernel.accessAllowed ? 'block' : 'none';\n",
              "\n",
              "        async function convertToInteractive(key) {\n",
              "          const element = document.querySelector('#df-1a4fbd9f-452f-4c4e-a2da-09034e5ba6b9');\n",
              "          const dataTable =\n",
              "            await google.colab.kernel.invokeFunction('convertToInteractive',\n",
              "                                                     [key], {});\n",
              "          if (!dataTable) return;\n",
              "\n",
              "          const docLinkHtml = 'Like what you see? Visit the ' +\n",
              "            '<a target=\"_blank\" href=https://colab.research.google.com/notebooks/data_table.ipynb>data table notebook</a>'\n",
              "            + ' to learn more about interactive tables.';\n",
              "          element.innerHTML = '';\n",
              "          dataTable['output_type'] = 'display_data';\n",
              "          await google.colab.output.renderOutput(dataTable, element);\n",
              "          const docLink = document.createElement('div');\n",
              "          docLink.innerHTML = docLinkHtml;\n",
              "          element.appendChild(docLink);\n",
              "        }\n",
              "      </script>\n",
              "    </div>\n",
              "  </div>\n",
              "  "
            ]
          },
          "metadata": {},
          "execution_count": 12
        }
      ],
      "source": [
        "ltc = get_historic_price('ltc', 'bitstamp', after=last_100days)\n",
        "ltc.tail()"
      ]
    },
    {
      "source": [
        "Let's plot it:"
      ],
      "cell_type": "markdown",
      "metadata": {
        "id": "JVNFebMIb5Dv"
      }
    },
    {
      "cell_type": "code",
      "execution_count": 13,
      "metadata": {
        "colab": {
          "base_uri": "https://localhost:8080/",
          "height": 472
        },
        "id": "nwpueMPUb5Dw",
        "outputId": "3d6186f3-caba-458e-d673-6ad8b8ffa9f9"
      },
      "outputs": [
        {
          "output_type": "execute_result",
          "data": {
            "text/plain": [
              "<matplotlib.axes._subplots.AxesSubplot at 0x7f8088926790>"
            ]
          },
          "metadata": {},
          "execution_count": 13
        },
        {
          "output_type": "display_data",
          "data": {
            "text/plain": [
              "<Figure size 1080x504 with 1 Axes>"
            ],
            "image/png": "[encoded data removed]"
          },
          "metadata": {
            "needs_background": "light"
          }
        }
      ],
      "source": [
        "ltc['ClosePrice'].plot(figsize=(15, 7))"
      ]
    },
    {
      "source": [
        "**Dynamic plots with Bokeh**"
      ],
      "cell_type": "markdown",
      "metadata": {
        "id": "NYGhQOW8b5Dw"
      }
    },
    {
      "source": [
        "May need to `pip install bokeh`"
      ],
      "cell_type": "markdown",
      "metadata": {
        "id": "OfRwhLyzb5Dx"
      }
    },
    {
      "cell_type": "code",
      "execution_count": 14,
      "metadata": {
        "colab": {
          "base_uri": "https://localhost:8080/",
          "height": 617
        },
        "id": "WQDXY7atb5Dx",
        "outputId": "6d332796-c5f4-4d4c-f7f0-ab1c4bb1d6ec"
      },
      "outputs": [
        {
          "output_type": "display_data",
          "data": {
            "application/javascript": [
              "\n",
              "(function(root) {\n",
              "  function now() {\n",
              "    return new Date();\n",
              "  }\n",
              "\n",
              "  var force = true;\n",
              "\n",
              "  if (typeof root._bokeh_onload_callbacks === \"undefined\" || force === true) {\n",
              "    root._bokeh_onload_callbacks = [];\n",
              "    root._bokeh_is_loading = undefined;\n",
              "  }\n",
              "\n",
              "  var JS_MIME_TYPE = 'application/javascript';\n",
              "  var HTML_MIME_TYPE = 'text/html';\n",
              "  var EXEC_MIME_TYPE = 'application/vnd.bokehjs_exec.v0+json';\n",
              "  var CLASS_NAME = 'output_bokeh rendered_html';\n",
              "\n",
              "  /**\n",
              "   * Render data to the DOM node\n",
              "   */\n",
              "  function render(props, node) {\n",
              "    var script = document.createElement(\"script\");\n",
              "    node.appendChild(script);\n",
              "  }\n",
              "\n",
              "  /**\n",
              "   * Handle when an output is cleared or removed\n",
              "   */\n",
              "  function handleClearOutput(event, handle) {\n",
              "    var cell = handle.cell;\n",
              "\n",
              "    var id = cell.output_area._bokeh_element_id;\n",
              "    var server_id = cell.output_area._bokeh_server_id;\n",
              "    // Clean up Bokeh references\n",
              "    if (id != null && id in Bokeh.index) {\n",
              "      Bokeh.index[id].model.document.clear();\n",
              "      delete Bokeh.index[id];\n",
              "    }\n",
              "\n",
              "    if (server_id !== undefined) {\n",
              "      // Clean up Bokeh references\n",
              "      var cmd = \"from bokeh.io.state import curstate; print(curstate().uuid_to_server['\" + server_id + \"'].get_sessions()[0].document.roots[0]._id)\";\n",
              "      cell.notebook.kernel.execute(cmd, {\n",
              "        iopub: {\n",
              "          output: function(msg) {\n",
              "            var id = msg.content.text.trim();\n",
              "            if (id in Bokeh.index) {\n",
              "              Bokeh.index[id].model.document.clear();\n",
              "              delete Bokeh.index[id];\n",
              "            }\n",
              "          }\n",
              "        }\n",
              "      });\n",
              "      // Destroy server and session\n",
              "      var cmd = \"import bokeh.io.notebook as ion; ion.destroy_server('\" + server_id + \"')\";\n",
              "      cell.notebook.kernel.execute(cmd);\n",
              "    }\n",
              "  }\n",
              "\n",
              "  /**\n",
              "   * Handle when a new output is added\n",
              "   */\n",
              "  function handleAddOutput(event, handle) {\n",
              "    var output_area = handle.output_area;\n",
              "    var output = handle.output;\n",
              "\n",
              "    // limit handleAddOutput to display_data with EXEC_MIME_TYPE content only\n",
              "    if ((output.output_type != \"display_data\") || (!Object.prototype.hasOwnProperty.call(output.data, EXEC_MIME_TYPE))) {\n",
              "      return\n",
              "    }\n",
              "\n",
              "    var toinsert = output_area.element.find(\".\" + CLASS_NAME.split(' ')[0]);\n",
              "\n",
              "    if (output.metadata[EXEC_MIME_TYPE][\"id\"] !== undefined) {\n",
              "      toinsert[toinsert.length - 1].firstChild.textContent = output.data[JS_MIME_TYPE];\n",
              "      // store reference to embed id on output_area\n",
              "      output_area._bokeh_element_id = output.metadata[EXEC_MIME_TYPE][\"id\"];\n",
              "    }\n",
              "    if (output.metadata[EXEC_MIME_TYPE][\"server_id\"] !== undefined) {\n",
              "      var bk_div = document.createElement(\"div\");\n",
              "      bk_div.innerHTML = output.data[HTML_MIME_TYPE];\n",
              "      var script_attrs = bk_div.children[0].attributes;\n",
              "      for (var i = 0; i < script_attrs.length; i++) {\n",
              "        toinsert[toinsert.length - 1].firstChild.setAttribute(script_attrs[i].name, script_attrs[i].value);\n",
              "        toinsert[toinsert.length - 1].firstChild.textContent = bk_div.children[0].textContent\n",
              "      }\n",
              "      // store reference to server id on output_area\n",
              "      output_area._bokeh_server_id = output.metadata[EXEC_MIME_TYPE][\"server_id\"];\n",
              "    }\n",
              "  }\n",
              "\n",
              "  function register_renderer(events, OutputArea) {\n",
              "\n",
              "    function append_mime(data, metadata, element) {\n",
              "      // create a DOM node to render to\n",
              "      var toinsert = this.create_output_subarea(\n",
              "        metadata,\n",
              "        CLASS_NAME,\n",
              "        EXEC_MIME_TYPE\n",
              "      );\n",
              "      this.keyboard_manager.register_events(toinsert);\n",
              "      // Render to node\n",
              "      var props = {data: data, metadata: metadata[EXEC_MIME_TYPE]};\n",
              "      render(props, toinsert[toinsert.length - 1]);\n",
              "      element.append(toinsert);\n",
              "      return toinsert\n",
              "    }\n",
              "\n",
              "    /* Handle when an output is cleared or removed */\n",
              "    events.on('clear_output.CodeCell', handleClearOutput);\n",
              "    events.on('delete.Cell', handleClearOutput);\n",
              "\n",
              "    /* Handle when a new output is added */\n",
              "    events.on('output_added.OutputArea', handleAddOutput);\n",
              "\n",
              "    /**\n",
              "     * Register the mime type and append_mime function with output_area\n",
              "     */\n",
              "    OutputArea.prototype.register_mime_type(EXEC_MIME_TYPE, append_mime, {\n",
              "      /* Is output safe? */\n",
              "      safe: true,\n",
              "      /* Index of renderer in `output_area.display_order` */\n",
              "      index: 0\n",
              "    });\n",
              "  }\n",
              "\n",
              "  // register the mime type if in Jupyter Notebook environment and previously unregistered\n",
              "  if (root.Jupyter !== undefined) {\n",
              "    var events = require('base/js/events');\n",
              "    var OutputArea = require('notebook/js/outputarea').OutputArea;\n",
              "\n",
              "    if (OutputArea.prototype.mime_types().indexOf(EXEC_MIME_TYPE) == -1) {\n",
              "      register_renderer(events, OutputArea);\n",
              "    }\n",
              "  }\n",
              "\n",
              "  \n",
              "  if (typeof (root._bokeh_timeout) === \"undefined\" || force === true) {\n",
              "    root._bokeh_timeout = Date.now() + 5000;\n",
              "    root._bokeh_failed_load = false;\n",
              "  }\n",
              "\n",
              "  var NB_LOAD_WARNING = {'data': {'text/html':\n",
              "     \"<div style='background-color: #fdd'>\\n\"+\n",
              "     \"<p>\\n\"+\n",
              "     \"BokehJS does not appear to have successfully loaded. If loading BokehJS from CDN, this \\n\"+\n",
              "     \"may be due to a slow or bad network connection. Possible fixes:\\n\"+\n",
              "     \"</p>\\n\"+\n",
              "     \"<ul>\\n\"+\n",
              "     \"<li>re-rerun `output_notebook()` to attempt to load from CDN again, or</li>\\n\"+\n",
              "     \"<li>use INLINE resources instead, as so:</li>\\n\"+\n",
              "     \"</ul>\\n\"+\n",
              "     \"<code>\\n\"+\n",
              "     \"from bokeh.resources import INLINE\\n\"+\n",
              "     \"output_notebook(resources=INLINE)\\n\"+\n",
              "     \"</code>\\n\"+\n",
              "     \"</div>\"}};\n",
              "\n",
              "  function display_loaded() {\n",
              "    var el = document.getElementById(null);\n",
              "    if (el != null) {\n",
              "      el.textContent = \"BokehJS is loading...\";\n",
              "    }\n",
              "    if (root.Bokeh !== undefined) {\n",
              "      if (el != null) {\n",
              "        el.textContent = \"BokehJS \" + root.Bokeh.version + \" successfully loaded.\";\n",
              "      }\n",
              "    } else if (Date.now() < root._bokeh_timeout) {\n",
              "      setTimeout(display_loaded, 100)\n",
              "    }\n",
              "  }\n",
              "\n",
              "\n",
              "  function run_callbacks() {\n",
              "    try {\n",
              "      root._bokeh_onload_callbacks.forEach(function(callback) {\n",
              "        if (callback != null)\n",
              "          callback();\n",
              "      });\n",
              "    } finally {\n",
              "      delete root._bokeh_onload_callbacks\n",
              "    }\n",
              "    console.debug(\"Bokeh: all callbacks have finished\");\n",
              "  }\n",
              "\n",
              "  function load_libs(css_urls, js_urls, callback) {\n",
              "    if (css_urls == null) css_urls = [];\n",
              "    if (js_urls == null) js_urls = [];\n",
              "\n",
              "    root._bokeh_onload_callbacks.push(callback);\n",
              "    if (root._bokeh_is_loading > 0) {\n",
              "      console.debug(\"Bokeh: BokehJS is being loaded, scheduling callback at\", now());\n",
              "      return null;\n",
              "    }\n",
              "    if (js_urls == null || js_urls.length === 0) {\n",
              "      run_callbacks();\n",
              "      return null;\n",
              "    }\n",
              "    console.debug(\"Bokeh: BokehJS not loaded, scheduling load and callback at\", now());\n",
              "    root._bokeh_is_loading = css_urls.length + js_urls.length;\n",
              "\n",
              "    function on_load() {\n",
              "      root._bokeh_is_loading--;\n",
              "      if (root._bokeh_is_loading === 0) {\n",
              "        console.debug(\"Bokeh: all BokehJS libraries/stylesheets loaded\");\n",
              "        run_callbacks()\n",
              "      }\n",
              "    }\n",
              "\n",
              "    function on_error(url) {\n",
              "      console.error(\"failed to load \" + url);\n",
              "    }\n",
              "\n",
              "    for (let i = 0; i < css_urls.length; i++) {\n",
              "      const url = css_urls[i];\n",
              "      const element = document.createElement(\"link\");\n",
              "      element.onload = on_load;\n",
              "      element.onerror = on_error.bind(null, url);\n",
              "      element.rel = \"stylesheet\";\n",
              "      element.type = \"text/css\";\n",
              "      element.href = url;\n",
              "      console.debug(\"Bokeh: injecting link tag for BokehJS stylesheet: \", url);\n",
              "      document.body.appendChild(element);\n",
              "    }\n",
              "\n",
              "    const hashes = {\"https://cdn.bokeh.org/bokeh/release/bokeh-2.3.3.min.js\": \"dM3QQsP+wXdHg42wTqW85BjZQdLNNIXqlPw/BgKoExPmTG7ZLML4EGqLMfqHT6ON\", \"https://cdn.bokeh.org/bokeh/release/bokeh-tables-2.3.3.min.js\": \"8x57I4YuIfu8XyZfFo0XVr2WAT8EK4rh/uDe3wF7YuW2FNUSNEpJbsPaB1nJ2fz2\", \"https://cdn.bokeh.org/bokeh/release/bokeh-widgets-2.3.3.min.js\": \"3QTqdz9LyAm2i0sG5XTePsHec3UHWwVsrOL68SYRoAXsafvfAyqtQ+h440+qIBhS\"};\n",
              "\n",
              "    for (let i = 0; i < js_urls.length; i++) {\n",
              "      const url = js_urls[i];\n",
              "      const element = document.createElement('script');\n",
              "      element.onload = on_load;\n",
              "      element.onerror = on_error.bind(null, url);\n",
              "      element.async = false;\n",
              "      element.src = url;\n",
              "      if (url in hashes) {\n",
              "        element.crossOrigin = \"anonymous\";\n",
              "        element.integrity = \"sha384-\" + hashes[url];\n",
              "      }\n",
              "      console.debug(\"Bokeh: injecting script tag for BokehJS library: \", url);\n",
              "      document.head.appendChild(element);\n",
              "    }\n",
              "  };\n",
              "\n",
              "  function inject_raw_css(css) {\n",
              "    const element = document.createElement(\"style\");\n",
              "    element.appendChild(document.createTextNode(css));\n",
              "    document.body.appendChild(element);\n",
              "  }\n",
              "\n",
              "  \n",
              "  var js_urls = [\"https://cdn.bokeh.org/bokeh/release/bokeh-2.3.3.min.js\", \"https://cdn.bokeh.org/bokeh/release/bokeh-widgets-2.3.3.min.js\", \"https://cdn.bokeh.org/bokeh/release/bokeh-tables-2.3.3.min.js\"];\n",
              "  var css_urls = [];\n",
              "  \n",
              "\n",
              "  var inline_js = [\n",
              "    function(Bokeh) {\n",
              "      Bokeh.set_log_level(\"info\");\n",
              "    },\n",
              "    function(Bokeh) {\n",
              "    \n",
              "    \n",
              "    }\n",
              "  ];\n",
              "\n",
              "  function run_inline_js() {\n",
              "    \n",
              "    if (root.Bokeh !== undefined || force === true) {\n",
              "      \n",
              "    for (var i = 0; i < inline_js.length; i++) {\n",
              "      inline_js[i].call(root, root.Bokeh);\n",
              "    }\n",
              "    } else if (Date.now() < root._bokeh_timeout) {\n",
              "      setTimeout(run_inline_js, 100);\n",
              "    } else if (!root._bokeh_failed_load) {\n",
              "      console.log(\"Bokeh: BokehJS failed to load within specified timeout.\");\n",
              "      root._bokeh_failed_load = true;\n",
              "    } else if (force !== true) {\n",
              "      var cell = $(document.getElementById(null)).parents('.cell').data().cell;\n",
              "      cell.output_area.append_execute_result(NB_LOAD_WARNING)\n",
              "    }\n",
              "\n",
              "  }\n",
              "\n",
              "  if (root._bokeh_is_loading === 0) {\n",
              "    console.debug(\"Bokeh: BokehJS loaded, going straight to plotting\");\n",
              "    run_inline_js();\n",
              "  } else {\n",
              "    load_libs(css_urls, js_urls, function() {\n",
              "      console.debug(\"Bokeh: BokehJS plotting callback run at\", now());\n",
              "      run_inline_js();\n",
              "    });\n",
              "  }\n",
              "}(window));"
            ],
            "application/vnd.bokehjs_load.v0+json": "\n(function(root) {\n  function now() {\n    return new Date();\n  }\n\n  var force = true;\n\n  if (typeof root._bokeh_onload_callbacks === \"undefined\" || force === true) {\n    root._bokeh_onload_callbacks = [];\n    root._bokeh_is_loading = undefined;\n  }\n\n  \n\n  \n  if (typeof (root._bokeh_timeout) === \"undefined\" || force === true) {\n    root._bokeh_timeout = Date.now() + 5000;\n    root._bokeh_failed_load = false;\n  }\n\n  var NB_LOAD_WARNING = {'data': {'text/html':\n     \"<div style='background-color: #fdd'>\\n\"+\n     \"<p>\\n\"+\n     \"BokehJS does not appear to have successfully loaded. If loading BokehJS from CDN, this \\n\"+\n     \"may be due to a slow or bad network connection. Possible fixes:\\n\"+\n     \"</p>\\n\"+\n     \"<ul>\\n\"+\n     \"<li>re-rerun `output_notebook()` to attempt to load from CDN again, or</li>\\n\"+\n     \"<li>use INLINE resources instead, as so:</li>\\n\"+\n     \"</ul>\\n\"+\n     \"<code>\\n\"+\n     \"from bokeh.resources import INLINE\\n\"+\n     \"output_notebook(resources=INLINE)\\n\"+\n     \"</code>\\n\"+\n     \"</div>\"}};\n\n  function display_loaded() {\n    var el = document.getElementById(null);\n    if (el != null) {\n      el.textContent = \"BokehJS is loading...\";\n    }\n    if (root.Bokeh !== undefined) {\n      if (el != null) {\n        el.textContent = \"BokehJS \" + root.Bokeh.version + \" successfully loaded.\";\n      }\n    } else if (Date.now() < root._bokeh_timeout) {\n      setTimeout(display_loaded, 100)\n    }\n  }\n\n\n  function run_callbacks() {\n    try {\n      root._bokeh_onload_callbacks.forEach(function(callback) {\n        if (callback != null)\n          callback();\n      });\n    } finally {\n      delete root._bokeh_onload_callbacks\n    }\n    console.debug(\"Bokeh: all callbacks have finished\");\n  }\n\n  function load_libs(css_urls, js_urls, callback) {\n    if (css_urls == null) css_urls = [];\n    if (js_urls == null) js_urls = [];\n\n    root._bokeh_onload_callbacks.push(callback);\n    if (root._bokeh_is_loading > 0) {\n      console.debug(\"Bokeh: BokehJS is being loaded, scheduling callback at\", now());\n      return null;\n    }\n    if (js_urls == null || js_urls.length === 0) {\n      run_callbacks();\n      return null;\n    }\n    console.debug(\"Bokeh: BokehJS not loaded, scheduling load and callback at\", now());\n    root._bokeh_is_loading = css_urls.length + js_urls.length;\n\n    function on_load() {\n      root._bokeh_is_loading--;\n      if (root._bokeh_is_loading === 0) {\n        console.debug(\"Bokeh: all BokehJS libraries/stylesheets loaded\");\n        run_callbacks()\n      }\n    }\n\n    function on_error(url) {\n      console.error(\"failed to load \" + url);\n    }\n\n    for (let i = 0; i < css_urls.length; i++) {\n      const url = css_urls[i];\n      const element = document.createElement(\"link\");\n      element.onload = on_load;\n      element.onerror = on_error.bind(null, url);\n      element.rel = \"stylesheet\";\n      element.type = \"text/css\";\n      element.href = url;\n      console.debug(\"Bokeh: injecting link tag for BokehJS stylesheet: \", url);\n      document.body.appendChild(element);\n    }\n\n    const hashes = {\"https://cdn.bokeh.org/bokeh/release/bokeh-2.3.3.min.js\": \"dM3QQsP+wXdHg42wTqW85BjZQdLNNIXqlPw/BgKoExPmTG7ZLML4EGqLMfqHT6ON\", \"https://cdn.bokeh.org/bokeh/release/bokeh-tables-2.3.3.min.js\": \"8x57I4YuIfu8XyZfFo0XVr2WAT8EK4rh/uDe3wF7YuW2FNUSNEpJbsPaB1nJ2fz2\", \"https://cdn.bokeh.org/bokeh/release/bokeh-widgets-2.3.3.min.js\": \"3QTqdz9LyAm2i0sG5XTePsHec3UHWwVsrOL68SYRoAXsafvfAyqtQ+h440+qIBhS\"};\n\n    for (let i = 0; i < js_urls.length; i++) {\n      const url = js_urls[i];\n      const element = document.createElement('script');\n      element.onload = on_load;\n      element.onerror = on_error.bind(null, url);\n      element.async = false;\n      element.src = url;\n      if (url in hashes) {\n        element.crossOrigin = \"anonymous\";\n        element.integrity = \"sha384-\" + hashes[url];\n      }\n      console.debug(\"Bokeh: injecting script tag for BokehJS library: \", url);\n      document.head.appendChild(element);\n    }\n  };\n\n  function inject_raw_css(css) {\n    const element = document.createElement(\"style\");\n    element.appendChild(document.createTextNode(css));\n    document.body.appendChild(element);\n  }\n\n  \n  var js_urls = [\"https://cdn.bokeh.org/bokeh/release/bokeh-2.3.3.min.js\", \"https://cdn.bokeh.org/bokeh/release/bokeh-widgets-2.3.3.min.js\", \"https://cdn.bokeh.org/bokeh/release/bokeh-tables-2.3.3.min.js\"];\n  var css_urls = [];\n  \n\n  var inline_js = [\n    function(Bokeh) {\n      Bokeh.set_log_level(\"info\");\n    },\n    function(Bokeh) {\n    \n    \n    }\n  ];\n\n  function run_inline_js() {\n    \n    if (root.Bokeh !== undefined || force === true) {\n      \n    for (var i = 0; i < inline_js.length; i++) {\n      inline_js[i].call(root, root.Bokeh);\n    }\n    } else if (Date.now() < root._bokeh_timeout) {\n      setTimeout(run_inline_js, 100);\n    } else if (!root._bokeh_failed_load) {\n      console.log(\"Bokeh: BokehJS failed to load within specified timeout.\");\n      root._bokeh_failed_load = true;\n    } else if (force !== true) {\n      var cell = $(document.getElementById(null)).parents('.cell').data().cell;\n      cell.output_area.append_execute_result(NB_LOAD_WARNING)\n    }\n\n  }\n\n  if (root._bokeh_is_loading === 0) {\n    console.debug(\"Bokeh: BokehJS loaded, going straight to plotting\");\n    run_inline_js();\n  } else {\n    load_libs(css_urls, js_urls, function() {\n      console.debug(\"Bokeh: BokehJS plotting callback run at\", now());\n      run_inline_js();\n    });\n  }\n}(window));"
          },
          "metadata": {}
        },
        {
          "output_type": "display_data",
          "data": {
            "text/html": [
              "\n",
              "\n",
              "\n",
              "\n",
              "\n",
              "\n",
              "  <div class=\"bk-root\" id=\"fc2a5d91-988c-4492-a183-fd82bdb0fe9e\" data-root-id=\"1196\"></div>\n"
            ]
          },
          "metadata": {}
        },
        {
          "output_type": "display_data",
          "data": {
            "application/javascript": [
              "(function(root) {\n",
              "  function embed_document(root) {\n",
              "    \n",
              "  var docs_json = {\"4ace5bf2-deb0-4bd5-a5b7-244a098a01c5\":{\"defs\":[],\"roots\":{\"references\":[{\"attributes\":{\"below\":[{\"id\":\"1207\"}],\"center\":[{\"id\":\"1210\"},{\"id\":\"1214\"},{\"id\":\"1256\"}],\"left\":[{\"id\":\"1211\"}],\"renderers\":[{\"id\":\"1232\"}],\"title\":{\"id\":\"1197\"},\"toolbar\":{\"id\":\"1222\"},\"x_range\":{\"id\":\"1199\"},\"x_scale\":{\"id\":\"1203\"},\"y_range\":{\"id\":\"1201\"},\"y_scale\":{\"id\":\"1205\"}},\"id\":\"1196\",\"subtype\":\"Figure\",\"type\":\"Plot\"},{\"attributes\":{},\"id\":\"1236\",\"type\":\"DatetimeTickFormatter\"},{\"attributes\":{\"label\":{\"value\":\"Bitcoin\"},\"renderers\":[{\"id\":\"1232\"}]},\"id\":\"1257\",\"type\":\"LegendItem\"},{\"attributes\":{},\"id\":\"1215\",\"type\":\"PanTool\"},{\"attributes\":{\"axis_label\":\"Price $\",\"formatter\":{\"id\":\"1239\"},\"major_label_policy\":{\"id\":\"1240\"},\"ticker\":{\"id\":\"1212\"}},\"id\":\"1211\",\"type\":\"LinearAxis\"},{\"attributes\":{\"axis\":{\"id\":\"1207\"},\"grid_line_alpha\":0.3,\"ticker\":null},\"id\":\"1210\",\"type\":\"Grid\"},{\"attributes\":{\"months\":[0,1,2,3,4,5,6,7,8,9,10,11]},\"id\":\"1248\",\"type\":\"MonthsTicker\"},{\"attributes\":{},\"id\":\"1237\",\"type\":\"AllLabels\"},{\"attributes\":{\"items\":[{\"id\":\"1257\"}],\"location\":\"top_left\"},\"id\":\"1256\",\"type\":\"Legend\"},{\"attributes\":{\"text\":\"Crypto Prices\"},\"id\":\"1197\",\"type\":\"Title\"},{\"attributes\":{},\"id\":\"1203\",\"type\":\"LinearScale\"},{\"attributes\":{\"line_color\":\"#f2a900\",\"x\":{\"field\":\"x\"},\"y\":{\"field\":\"y\"}},\"id\":\"1230\",\"type\":\"Line\"},{\"attributes\":{\"axis\":{\"id\":\"1211\"},\"dimension\":1,\"grid_line_alpha\":0.3,\"ticker\":null},\"id\":\"1214\",\"type\":\"Grid\"},{\"attributes\":{},\"id\":\"1216\",\"type\":\"WheelZoomTool\"},{\"attributes\":{\"source\":{\"id\":\"1229\"}},\"id\":\"1233\",\"type\":\"CDSView\"},{\"attributes\":{},\"id\":\"1239\",\"type\":\"BasicTickFormatter\"},{\"attributes\":{},\"id\":\"1218\",\"type\":\"SaveTool\"},{\"attributes\":{\"bottom_units\":\"screen\",\"fill_alpha\":0.5,\"fill_color\":\"lightgrey\",\"left_units\":\"screen\",\"level\":\"overlay\",\"line_alpha\":1.0,\"line_color\":\"black\",\"line_dash\":[4,4],\"line_width\":2,\"right_units\":\"screen\",\"syncable\":false,\"top_units\":\"screen\"},\"id\":\"1221\",\"type\":\"BoxAnnotation\"},{\"attributes\":{\"overlay\":{\"id\":\"1221\"}},\"id\":\"1217\",\"type\":\"BoxZoomTool\"},{\"attributes\":{\"days\":[1,8,15,22]},\"id\":\"1246\",\"type\":\"DaysTicker\"},{\"attributes\":{\"days\":[1,15]},\"id\":\"1247\",\"type\":\"DaysTicker\"},{\"attributes\":{},\"id\":\"1212\",\"type\":\"BasicTicker\"},{\"attributes\":{\"data_source\":{\"id\":\"1229\"},\"glyph\":{\"id\":\"1230\"},\"hover_glyph\":null,\"muted_glyph\":null,\"nonselection_glyph\":{\"id\":\"1231\"},\"view\":{\"id\":\"1233\"}},\"id\":\"1232\",\"type\":\"GlyphRenderer\"},{\"attributes\":{},\"id\":\"1253\",\"type\":\"UnionRenderers\"},{\"attributes\":{\"axis_label\":\"Date\",\"formatter\":{\"id\":\"1236\"},\"major_label_policy\":{\"id\":\"1237\"},\"ticker\":{\"id\":\"1208\"}},\"id\":\"1207\",\"type\":\"DatetimeAxis\"},{\"attributes\":{\"base\":24,\"mantissas\":[1,2,4,6,8,12],\"max_interval\":43200000.0,\"min_interval\":3600000.0,\"num_minor_ticks\":0},\"id\":\"1243\",\"type\":\"AdaptiveTicker\"},{\"attributes\":{},\"id\":\"1240\",\"type\":\"AllLabels\"},{\"attributes\":{\"months\":[0,2,4,6,8,10]},\"id\":\"1249\",\"type\":\"MonthsTicker\"},{\"attributes\":{\"num_minor_ticks\":5,\"tickers\":[{\"id\":\"1241\"},{\"id\":\"1242\"},{\"id\":\"1243\"},{\"id\":\"1244\"},{\"id\":\"1245\"},{\"id\":\"1246\"},{\"id\":\"1247\"},{\"id\":\"1248\"},{\"id\":\"1249\"},{\"id\":\"1250\"},{\"id\":\"1251\"},{\"id\":\"1252\"}]},\"id\":\"1208\",\"type\":\"DatetimeTicker\"},{\"attributes\":{\"base\":60,\"mantissas\":[1,2,5,10,15,20,30],\"max_interval\":1800000.0,\"min_interval\":1000.0,\"num_minor_ticks\":0},\"id\":\"1242\",\"type\":\"AdaptiveTicker\"},{\"attributes\":{\"months\":[0,6]},\"id\":\"1251\",\"type\":\"MonthsTicker\"},{\"attributes\":{\"days\":[1,2,3,4,5,6,7,8,9,10,11,12,13,14,15,16,17,18,19,20,21,22,23,24,25,26,27,28,29,30,31]},\"id\":\"1244\",\"type\":\"DaysTicker\"},{\"attributes\":{\"months\":[0,4,8]},\"id\":\"1250\",\"type\":\"MonthsTicker\"},{\"attributes\":{},\"id\":\"1201\",\"type\":\"DataRange1d\"},{\"attributes\":{},\"id\":\"1254\",\"type\":\"Selection\"},{\"attributes\":{},\"id\":\"1205\",\"type\":\"LinearScale\"},{\"attributes\":{},\"id\":\"1220\",\"type\":\"HelpTool\"},{\"attributes\":{\"active_multi\":null,\"tools\":[{\"id\":\"1215\"},{\"id\":\"1216\"},{\"id\":\"1217\"},{\"id\":\"1218\"},{\"id\":\"1219\"},{\"id\":\"1220\"}]},\"id\":\"1222\",\"type\":\"Toolbar\"},{\"attributes\":{},\"id\":\"1252\",\"type\":\"YearsTicker\"},{\"attributes\":{\"data\":{\"x\":{\"__ndarray__\":\"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\",\"dtype\":\"float64\",\"order\":\"little\",\"shape\":[2401]},\"y\":{\"__ndarray__\":\"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\",\"dtype\":\"float64\",\"order\":\"little\",\"shape\":[2401]}},\"selected\":{\"id\":\"1254\"},\"selection_policy\":{\"id\":\"1253\"}},\"id\":\"1229\",\"type\":\"ColumnDataSource\"},{\"attributes\":{\"days\":[1,4,7,10,13,16,19,22,25,28]},\"id\":\"1245\",\"type\":\"DaysTicker\"},{\"attributes\":{\"mantissas\":[1,2,5],\"max_interval\":500.0,\"num_minor_ticks\":0},\"id\":\"1241\",\"type\":\"AdaptiveTicker\"},{\"attributes\":{},\"id\":\"1219\",\"type\":\"ResetTool\"},{\"attributes\":{\"line_alpha\":0.1,\"line_color\":\"#f2a900\",\"x\":{\"field\":\"x\"},\"y\":{\"field\":\"y\"}},\"id\":\"1231\",\"type\":\"Line\"},{\"attributes\":{},\"id\":\"1199\",\"type\":\"DataRange1d\"}],\"root_ids\":[\"1196\"]},\"title\":\"Bokeh Application\",\"version\":\"2.3.3\"}};\n",
              "  var render_items = [{\"docid\":\"4ace5bf2-deb0-4bd5-a5b7-244a098a01c5\",\"root_ids\":[\"1196\"],\"roots\":{\"1196\":\"fc2a5d91-988c-4492-a183-fd82bdb0fe9e\"}}];\n",
              "  root.Bokeh.embed.embed_items_notebook(docs_json, render_items);\n",
              "\n",
              "  }\n",
              "  if (root.Bokeh !== undefined) {\n",
              "    embed_document(root);\n",
              "  } else {\n",
              "    var attempts = 0;\n",
              "    var timer = setInterval(function(root) {\n",
              "      if (root.Bokeh !== undefined) {\n",
              "        clearInterval(timer);\n",
              "        embed_document(root);\n",
              "      } else {\n",
              "        attempts++;\n",
              "        if (attempts > 100) {\n",
              "          clearInterval(timer);\n",
              "          console.log(\"Bokeh: ERROR: Unable to run BokehJS code because BokehJS library is missing\");\n",
              "        }\n",
              "      }\n",
              "    }, 10, root)\n",
              "  }\n",
              "})(window);"
            ],
            "application/vnd.bokehjs_exec.v0+json": ""
          },
          "metadata": {
            "application/vnd.bokehjs_exec.v0+json": {
              "id": "1196"
            }
          }
        }
      ],
      "source": [
        "from bokeh.plotting import figure, output_file, show\n",
        "from bokeh.io import output_notebook\n",
        "output_notebook()\n",
        "\n",
        "p1 = figure(x_axis_type=\"datetime\", title=\"Crypto Prices\")\n",
        "p1.grid.grid_line_alpha=0.3\n",
        "p1.xaxis.axis_label = 'Date'\n",
        "p1.yaxis.axis_label = 'Price $'\n",
        "p1.line(ltc.index, ltc['ClosePrice'], color='#f2a900', legend_label='Bitcoin')\n",
        "p1.legend.location = \"top_left\"\n",
        "\n",
        "show(p1)"
      ]
    },
    {
      "source": [
        "**Exporting to Excel**"
      ],
      "cell_type": "markdown",
      "metadata": {
        "id": "qhY9dOQ7b5Dy"
      }
    },
    {
      "cell_type": "code",
      "execution_count": 7,
      "metadata": {
        "id": "g1cghEFJb5Dy"
      },
      "outputs": [],
      "source": [
        "writer = pd.ExcelWriter('Bitcoin_history.xlsx')\n",
        "ltc.to_excel(writer, sheet_name='Bitcoin')\n",
        "writer.save()"
      ]
    }
  ]
}