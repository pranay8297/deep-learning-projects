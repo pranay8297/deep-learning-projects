{
  "nbformat": 4,
  "nbformat_minor": 0,
  "metadata": {
    "colab": {
      "name": "EAI6010_PranayBindela_Week5_SpringTerm_2022.ipynb",
      "provenance": [],
      "collapsed_sections": [],
      "authorship_tag": "ABX9TyP0LQn2TK7u8xUZa/H/xEp7",
      "include_colab_link": true
    },
    "kernelspec": {
      "name": "python3",
      "display_name": "Python 3"
    },
    "language_info": {
      "name": "python"
    }
  },
  "cells": [
    {
      "cell_type": "markdown",
      "metadata": {
        "id": "view-in-github",
        "colab_type": "text"
      },
      "source": [
        "<a href=\"https://colab.research.google.com/github/pranay8297/deep-learning-projects/blob/master/EAI6010_PranayBindela_Week5_SpringTerm_2022.ipynb\" target=\"_parent\"><img src=\"https://colab.research.google.com/assets/colab-badge.svg\" alt=\"Open In Colab\"/></a>"
      ]
    },
    {
      "cell_type": "markdown",
      "source": [
        "# **EAI6010_PranayBindela_Week5_SpringTerm_2022**\n",
        "##Course: EAI6010 - Applications Of Artifcial Int\n",
        "##Professor: Vladimir Shapiro Date: May 12, 2022"
      ],
      "metadata": {
        "id": "cyHxZqYlYH4w"
      }
    },
    {
      "cell_type": "markdown",
      "source": [
        "# Introduction\n",
        "\n",
        "1 - search algos\n",
        "\n",
        "### Search Algorithms\n",
        "There are 2 types of search algorithms, informed and un informed search algorithms. The primary difference between both of them is informed search algorithms have entire map in hand, where as uninformed does not. There are different types of search alogrithms, for this assignment, I chose to implement A-Start informed search algorithm \n",
        "\n",
        "### What is A-Star search algorithm\n",
        "A-Star search algorithm is one of the informed search algorithms, where it uses 2 metrics named **h** and **g**. Here **h** denotes the distance covered till now to traverse from starting point to any node and **g** metric is a hurestic function which is generally euclidean distance from current node to the destination node. In each step, we chose to traverse to the node which has least **f (h + g)** value [1]\n",
        "\n",
        "### Why A-Star\n",
        "A-Star search algorithm always gaurentees the shortest path if path exists."
      ],
      "metadata": {
        "id": "cFv0fk5uYb6Y"
      }
    },
    {
      "cell_type": "markdown",
      "source": [
        "# Analysis Section"
      ],
      "metadata": {
        "id": "WTAGcakIgtD4"
      }
    },
    {
      "cell_type": "code",
      "source": [
        "# from ipdb import set_trace as st\n",
        "from copy import deepcopy\n",
        "import math\n",
        "from matplotlib import pyplot\n",
        "import matplotlib.patches as mpatches\n",
        "import numpy as np\n",
        "import random"
      ],
      "metadata": {
        "id": "D0uuTemBLR8O"
      },
      "execution_count": 153,
      "outputs": []
    },
    {
      "cell_type": "markdown",
      "source": [
        "###1. Implementation of A-Star search algorithm\n",
        "\n",
        "**Node**: This is a class which stores coordinates and metrics of each position in the grid"
      ],
      "metadata": {
        "id": "wjzegW_iPUSE"
      }
    },
    {
      "cell_type": "code",
      "source": [
        "class Node:\n",
        "\n",
        "  def __init__(self, x, y, c8 = False):\n",
        "    self.x = x \n",
        "    self.y = y\n",
        "    self.f = 0\n",
        "    self.g = 0\n",
        "    self.h = 0\n",
        "    self.neighbors = []\n",
        "    self.previous = None\n",
        "    self.obstacle = False\n",
        "    self.eight_connectivity = True if c8 else False\n",
        "\n",
        "  def add_neighbors(self,grid, columns, rows):\n",
        "\n",
        "    neighbor_x = self.x\n",
        "    neighbor_y = self.y\n",
        "\n",
        "    if neighbor_x < columns - 1:\n",
        "        self.neighbors.append(grid[neighbor_x+1][neighbor_y])\n",
        "    if neighbor_x > 0:\n",
        "        self.neighbors.append(grid[neighbor_x-1][neighbor_y])\n",
        "    if neighbor_y < rows -1:\n",
        "        self.neighbors.append(grid[neighbor_x][neighbor_y +1])\n",
        "    if neighbor_y > 0: \n",
        "        self.neighbors.append(grid[neighbor_x][neighbor_y-1])\n",
        "    if self.eight_connectivity:\n",
        "      if neighbor_x > 0 and neighbor_y > 0:\n",
        "          self.neighbors.append(grid[neighbor_x-1][neighbor_y-1])\n",
        "      if neighbor_x < columns -1 and neighbor_y > 0:\n",
        "          self.neighbors.append(grid[neighbor_x+1][neighbor_y-1])\n",
        "      if neighbor_x > 0 and neighbor_y <rows -1:\n",
        "          self.neighbors.append(grid[neighbor_x-1][neighbor_y+1])\n",
        "      if neighbor_x < columns -1 and neighbor_y < rows -1:\n",
        "          self.neighbors.append(grid[neighbor_x+1][neighbor_y+1])"
      ],
      "metadata": {
        "id": "ri5QnurC7HUt"
      },
      "execution_count": 154,
      "outputs": []
    },
    {
      "cell_type": "markdown",
      "source": [
        "**AStar**: This class has all the mothods to create either 8 connectivity or 4 connectivity grids, and find the shortest path between start and end points implementing A-Star search algorithm [1]\n",
        "\n",
        "**find_path**: This function intantiate AStar object and calls main function to find shortest path"
      ],
      "metadata": {
        "id": "Y3OtnrqocPFP"
      }
    },
    {
      "cell_type": "code",
      "source": [
        "class AStar:\n",
        "\n",
        "    def __init__(self, grid, start, end, c8 = False):\n",
        "        \n",
        "        self.mgrid = grid\n",
        "        self.cols = len(grid)\n",
        "        self.rows = len(grid[0])\n",
        "        self.start = start\n",
        "        self.end = end\n",
        "        self.c8 = c8\n",
        "\n",
        "    def clean_open_set(self, open_set, current_node):\n",
        "\n",
        "        for i in range(len(open_set)):\n",
        "            if open_set[i] == current_node:\n",
        "                open_set.pop(i)\n",
        "                break\n",
        "\n",
        "        return open_set\n",
        "\n",
        "    def h_score(self, current_node, end):\n",
        "        # euclidean distane as hurestic function\n",
        "        distance = math.sqrt((current_node.x - end.x)**2 + (current_node.y - end.y)**2)\n",
        "        return distance\n",
        "\n",
        "    def fill_grids(self, grid, cols, rows):\n",
        "\n",
        "        for i in range(cols):\n",
        "            for j in range(rows):\n",
        "                \n",
        "                present_val = grid[i][j]\n",
        "                grid[i][j] = Node(i, j, self.c8)\n",
        "\n",
        "                if present_val != 0:\n",
        "                    grid[i][j].obstacle = True\n",
        "\n",
        "        return grid\n",
        "\n",
        "    def get_neighbors(self, grid, cols, rows):\n",
        "        for i in range(cols):\n",
        "            for j in range(rows):\n",
        "                grid[i][j].add_neighbors(grid, cols, rows)\n",
        "        return grid\n",
        "    \n",
        "    def start_path(self, open_set, closed_set, current_node, end):\n",
        "\n",
        "        best_way = 0\n",
        "        for i in range(len(open_set)):\n",
        "            if open_set[i].f < open_set[best_way].f:\n",
        "                best_way = i\n",
        "\n",
        "        current_node = open_set.pop(best_way)\n",
        "        final_path = []\n",
        "        if current_node == end:\n",
        "            temp = current_node\n",
        "            final_path = [current_node]\n",
        "            while temp.previous:\n",
        "                final_path.append(temp.previous)\n",
        "                temp = temp.previous\n",
        "\n",
        "        open_set = self.clean_open_set(open_set, current_node)\n",
        "        closed_set.append(current_node)\n",
        "        neighbors = current_node.neighbors\n",
        "        for neighbor in neighbors:\n",
        "            if (neighbor in closed_set) or (neighbor.obstacle == True):\n",
        "                continue\n",
        "            else:\n",
        "                temp_g = current_node.g + 1\n",
        "                skip_flag = False\n",
        "                for k in range(len(open_set)):\n",
        "                    if neighbor.x == open_set[k].x and neighbor.y == open_set[k].y:\n",
        "                        if temp_g < open_set[k].g:\n",
        "                            open_set[k].g = temp_g\n",
        "                            open_set[k].h= self.h_score(open_set[k], end)\n",
        "                            open_set[k].f = open_set[k].g + open_set[k].h\n",
        "                            open_set[k].previous = current_node\n",
        "                        else:\n",
        "                            pass\n",
        "                        skip_flag = True\n",
        "  \n",
        "                if skip_flag:\n",
        "                    pass\n",
        "                else:\n",
        "                    neighbor.g = temp_g\n",
        "                    neighbor.h = self.h_score(neighbor, end)\n",
        "                    neighbor.f = neighbor.g + neighbor.h\n",
        "                    neighbor.previous = current_node\n",
        "                    open_set.append(neighbor)\n",
        "\n",
        "\n",
        "        return open_set, closed_set, current_node, final_path\n",
        "\n",
        "    def main(self):\n",
        "        grid = self.mgrid\n",
        "        grid = self.fill_grids(grid, self.cols, self.rows)\n",
        "        grid = self.get_neighbors(grid, self.cols, self.rows)\n",
        "        open_set  = []\n",
        "        closed_set  = []\n",
        "        current_node = None\n",
        "        final_path  = []\n",
        "        open_set.append(grid[self.start[0]][self.start[1]])\n",
        "        self.end = grid[self.end[0]][self.end[1]]\n",
        "        while len(open_set) > 0:\n",
        "            open_set, closed_set, current_node, final_path = self.start_path(open_set, closed_set, current_node, self.end)\n",
        "            if len(final_path) > 0:\n",
        "                break\n",
        "\n",
        "        return final_path\n",
        " \n",
        "def find_path(grid, start, end, c8 = False):\n",
        "\n",
        "  a_star = AStar(grid, start, end, c8)\n",
        "  final_path = a_star.main()\n",
        "  if len(final_path) > 0:\n",
        "      return 1, final_path\n",
        "  return -1, []"
      ],
      "metadata": {
        "id": "0gX-C7D9JmK6"
      },
      "execution_count": 155,
      "outputs": []
    },
    {
      "cell_type": "markdown",
      "source": [
        "###2. Visualizing the map with path\n",
        "\n",
        "Here in this notebook, I used *matplotlib.pyplot* to show the grid and path"
      ],
      "metadata": {
        "id": "iCYF6q-3PdSX"
      }
    },
    {
      "cell_type": "code",
      "source": [
        "def show_map(grid, values = {0: 'open', 1: 'closed', 2: 'path'}):\n",
        "  pyplot.figure(figsize=(5,5))\n",
        "  im = pyplot.imshow(grid)\n",
        "  colors = {value: im.cmap(im.norm(value)) for value in values}\n",
        "  patches = [ mpatches.Patch(color = colors[i], label = str(values[i])) for i in values]\n",
        "\n",
        "  pyplot.legend(handles=patches, bbox_to_anchor=(1.05, 1), loc=2, borderaxespad=0. )\n",
        "  pyplot.show()\n",
        "\n",
        "def show_path(grid, path, values = {0: 'open', 1: 'closed', 2: 'path', 3: 'start-end'}):\n",
        "  print('Path Found')\n",
        "  for node in path:\n",
        "    grid[node.x][node.y] = 2\n",
        "\n",
        "  grid[path[-1].x][path[-1].y] = 3\n",
        "  grid[path[0].x][path[0].y] = 3\n",
        "  show_map(grid, values)\n",
        "  print(f\"fig - path from {(path[-1].x, path[-1].y)} and {(path[0].x, path[0].y)}\")\n",
        "  print(f'Length of path is : {len(path)}')"
      ],
      "metadata": {
        "id": "xN0Ilqk1Jw11"
      },
      "execution_count": 156,
      "outputs": []
    },
    {
      "cell_type": "code",
      "source": [
        "def find_path_and_show_map(grid, start, end, c8 = False):\n",
        "  status, path = find_path(deepcopy(grid), start, end, c8 = c8)\n",
        "\n",
        "  if c8:\n",
        "    print('8 connectivity grid')\n",
        "  else:\n",
        "    print('4 connectivity grid')\n",
        "\n",
        "\n",
        "  if (status == 1):\n",
        "    show_path(grid, path)\n",
        "  else:\n",
        "    print(f'No path found between {start} and {end}')\n",
        "\n",
        "    grid[start[0]][start[1]] = 3\n",
        "    grid[end[0]][end[1]] = 3\n",
        "    show_map(grid, {0: 'open', 1: 'closed', 3: 'start-end'})\n",
        "    "
      ],
      "metadata": {
        "id": "jrQvXeEyPg69"
      },
      "execution_count": 157,
      "outputs": []
    },
    {
      "cell_type": "markdown",
      "source": [
        "An example 4 connectivity grid"
      ],
      "metadata": {
        "id": "Bnsp6qOJdAPo"
      }
    },
    {
      "cell_type": "code",
      "source": [
        "main_grid = [\n",
        "        [0,0,0,0,0,0,0,0,0,0,0,0],\n",
        "        [0,0,0,0,0,0,0,0,0,0,0,0],\n",
        "        [0,0,0,1,1,1,1,1,1,0,0,0],\n",
        "        [0,0,0,1,1,1,1,1,1,0,0,0],\n",
        "        [0,0,0,0,0,0,0,0,0,0,0,0],\n",
        "        [0,0,0,0,0,0,0,0,0,0,0,0],\n",
        "]\n",
        "start = [0, 0]\n",
        "end = [4,6]\n",
        "\n",
        "find_path_and_show_map(deepcopy(main_grid), start, end, c8 = False)"
      ],
      "metadata": {
        "colab": {
          "base_uri": "https://localhost:8080/",
          "height": 258
        },
        "id": "fycb5dGnJz-P",
        "outputId": "29013871-0d3b-4164-9cd5-bc808658aafe"
      },
      "execution_count": 158,
      "outputs": [
        {
          "output_type": "stream",
          "name": "stdout",
          "text": [
            "4 connectivity grid\n",
            "Path Found\n"
          ]
        },
        {
          "output_type": "display_data",
          "data": {
            "text/plain": [
              "<Figure size 360x360 with 1 Axes>"
            ],
            "image/png": "[encoded data removed]"
          },
          "metadata": {
            "needs_background": "light"
          }
        },
        {
          "output_type": "stream",
          "name": "stdout",
          "text": [
            "fig - path from (0, 0) and (4, 6)\n",
            "Length of path is : 11\n"
          ]
        }
      ]
    },
    {
      "cell_type": "markdown",
      "source": [
        "###3. Implementation of same above grid with same start and end points with 8 connectivity"
      ],
      "metadata": {
        "id": "UHdqNBguQHFH"
      }
    },
    {
      "cell_type": "code",
      "source": [
        "find_path_and_show_map(deepcopy(main_grid), start, end, c8 = True)"
      ],
      "metadata": {
        "colab": {
          "base_uri": "https://localhost:8080/",
          "height": 258
        },
        "id": "_l2dxpmoP6XV",
        "outputId": "427a75f7-ca85-43ed-8501-0b8823145ecc"
      },
      "execution_count": 159,
      "outputs": [
        {
          "output_type": "stream",
          "name": "stdout",
          "text": [
            "8 connectivity grid\n",
            "Path Found\n"
          ]
        },
        {
          "output_type": "display_data",
          "data": {
            "text/plain": [
              "<Figure size 360x360 with 1 Axes>"
            ],
            "image/png": "[encoded data removed]"
          },
          "metadata": {
            "needs_background": "light"
          }
        },
        {
          "output_type": "stream",
          "name": "stdout",
          "text": [
            "fig - path from (0, 0) and (4, 6)\n",
            "Length of path is : 8\n"
          ]
        }
      ]
    },
    {
      "cell_type": "markdown",
      "source": [
        "If we observe the results, the length reduced from 11 to 8 when we changed the grid from 4 connectivity to 8 connectivity"
      ],
      "metadata": {
        "id": "XwQGHx5OdSrE"
      }
    },
    {
      "cell_type": "markdown",
      "source": [
        "###4. Implementation of search algorithm with random grids, start and end points"
      ],
      "metadata": {
        "id": "4kpg4GtKQUIi"
      }
    },
    {
      "cell_type": "markdown",
      "source": [
        "A function to generate a random grids"
      ],
      "metadata": {
        "id": "ahlkeKS6dnSF"
      }
    },
    {
      "cell_type": "code",
      "source": [
        "# Randomized generation of grid\n",
        "def get_random_grid(rows = 6, cols = 12):\n",
        "  return np.random.choice([0, 1], size=(6,12), p=[2/3, 1/3]).tolist()"
      ],
      "metadata": {
        "id": "YgvBRtFDQKzp"
      },
      "execution_count": 160,
      "outputs": []
    },
    {
      "cell_type": "markdown",
      "source": [
        "Required helper functions to generate random open start and end points"
      ],
      "metadata": {
        "id": "FPuXJpmvdqAF"
      }
    },
    {
      "cell_type": "code",
      "source": [
        "# Get random start and end points\n",
        "def get_random_open_point_from_grid(grid):\n",
        "  nrows = len(grid)\n",
        "  ncol = len(grid[0])\n",
        "\n",
        "  while True:\n",
        "    r,c = random.randint(0, nrows - 1), random.randint(0, ncol - 1)\n",
        "    if (grid[r][c]) == 0:\n",
        "      return (r, c)\n",
        "\n",
        "def get_random_start_and_end_point(grid):\n",
        "  start = get_random_open_point_from_grid(grid)\n",
        "\n",
        "  while True:\n",
        "    end = get_random_open_point_from_grid(grid)\n",
        "    if (end != start):\n",
        "      return start, end"
      ],
      "metadata": {
        "id": "O76ecNJJSaiZ"
      },
      "execution_count": 161,
      "outputs": []
    },
    {
      "cell_type": "markdown",
      "source": [
        "A function which generates random grid, start and end points with randomized connectivity, finds path and display the grid"
      ],
      "metadata": {
        "id": "0hx3kGImdv0K"
      }
    },
    {
      "cell_type": "code",
      "source": [
        "# automated process of getting a grid, start, end and finding path\n",
        "def get_grid_find_path():\n",
        "  grid = get_random_grid()\n",
        "  start, end = get_random_start_and_end_point(grid)\n",
        "\n",
        "  # get random c8\n",
        "  x = random.randint(0, 1000)\n",
        "  c8 = True if (x%2 == 0) else False\n",
        "  \n",
        "  find_path_and_show_map(deepcopy(grid), start, end, c8 = c8)"
      ],
      "metadata": {
        "id": "zf5g2xH7TafS"
      },
      "execution_count": 162,
      "outputs": []
    },
    {
      "cell_type": "markdown",
      "source": [
        "3 attempts "
      ],
      "metadata": {
        "id": "mItCKmevd8cg"
      }
    },
    {
      "cell_type": "code",
      "source": [
        "for i in range(3):\n",
        "  print(f'iter - {i+1}')\n",
        "  get_grid_find_path()\n",
        "  print('\\n')"
      ],
      "metadata": {
        "colab": {
          "base_uri": "https://localhost:8080/",
          "height": 902
        },
        "id": "bvocq5bhWPmB",
        "outputId": "10fd9635-344e-4627-b61b-e5b974706188"
      },
      "execution_count": 163,
      "outputs": [
        {
          "output_type": "stream",
          "name": "stdout",
          "text": [
            "iter - 1\n",
            "8 connectivity grid\n",
            "Path Found\n"
          ]
        },
        {
          "output_type": "display_data",
          "data": {
            "text/plain": [
              "<Figure size 360x360 with 1 Axes>"
            ],
            "image/png": "[encoded data removed]"
          },
          "metadata": {
            "needs_background": "light"
          }
        },
        {
          "output_type": "stream",
          "name": "stdout",
          "text": [
            "fig - path from (2, 8) and (1, 5)\n",
            "Length of path is : 4\n",
            "\n",
            "\n",
            "iter - 2\n",
            "8 connectivity grid\n",
            "Path Found\n"
          ]
        },
        {
          "output_type": "display_data",
          "data": {
            "text/plain": [
              "<Figure size 360x360 with 1 Axes>"
            ],
            "image/png": "[encoded data removed]"
          },
          "metadata": {
            "needs_background": "light"
          }
        },
        {
          "output_type": "stream",
          "name": "stdout",
          "text": [
            "fig - path from (1, 2) and (5, 0)\n",
            "Length of path is : 5\n",
            "\n",
            "\n",
            "iter - 3\n",
            "8 connectivity grid\n",
            "Path Found\n"
          ]
        },
        {
          "output_type": "display_data",
          "data": {
            "text/plain": [
              "<Figure size 360x360 with 1 Axes>"
            ],
            "image/png": "[encoded data removed]"
          },
          "metadata": {
            "needs_background": "light"
          }
        },
        {
          "output_type": "stream",
          "name": "stdout",
          "text": [
            "fig - path from (4, 0) and (4, 10)\n",
            "Length of path is : 11\n",
            "\n",
            "\n"
          ]
        }
      ]
    },
    {
      "cell_type": "markdown",
      "source": [
        "### 5. Reflect on results\n",
        "\n",
        "From the above exercise, there are few takeaways. Primarily, the length of path in 8 connectivity grid is significantly small when compared to 4 connectivity one. \n",
        "\n",
        "The statement of \"A-Star search algorithm always finds the shortest route if a route exist\" is validated \n"
      ],
      "metadata": {
        "id": "XPtNPwtVe-DZ"
      }
    },
    {
      "cell_type": "markdown",
      "source": [
        "# Conclusion\n",
        "\n",
        "In the above notebook, we have succesfully implemented A-Star search algorithm with euclidean distance as Hurestic function. We also found the difference between informed search and uninformed search algorithms"
      ],
      "metadata": {
        "id": "de66W5A0gqeQ"
      }
    },
    {
      "cell_type": "markdown",
      "source": [
        "# References\n",
        "\n",
        "1. Akdogan, A. (2021, July 16). Understanding A* Path Algorithms and Implementation with Python. Medium. https://towardsdatascience.com/understanding-a-path-algorithms-and-implementation-with-python-4d8458d6ccc7\n",
        "\n"
      ],
      "metadata": {
        "id": "K_0tQzmUhDua"
      }
    }
  ]
}