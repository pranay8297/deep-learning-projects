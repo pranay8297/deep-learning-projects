{
  "nbformat": 4,
  "nbformat_minor": 0,
  "metadata": {
    "colab": {
      "name": "Untitled24.ipynb",
      "provenance": [],
      "collapsed_sections": [],
      "machine_shape": "hm",
      "background_execution": "on",
      "authorship_tag": "ABX9TyMV1hmj2+6H7AJZA72TO6Zp",
      "include_colab_link": true
    },
    "kernelspec": {
      "name": "python3",
      "display_name": "Python 3"
    },
    "language_info": {
      "name": "python"
    },
    "accelerator": "GPU",
    "gpuClass": "standard"
  },
  "cells": [
    {
      "cell_type": "markdown",
      "metadata": {
        "id": "view-in-github",
        "colab_type": "text"
      },
      "source": [
        "<a href=\"https://colab.research.google.com/github/pranay8297/deep-learning-projects/blob/master/w5_draft.ipynb\" target=\"_parent\"><img src=\"https://colab.research.google.com/assets/colab-badge.svg\" alt=\"Open In Colab\"/></a>"
      ]
    },
    {
      "cell_type": "code",
      "source": [
        "!pip install fastai==2.5.3"
      ],
      "metadata": {
        "id": "LaKlP3-pStYR"
      },
      "execution_count": null,
      "outputs": []
    },
    {
      "cell_type": "code",
      "source": [
        "from google.colab import files "
      ],
      "metadata": {
        "id": "Dkb1Ty5CObnw"
      },
      "execution_count": 3,
      "outputs": []
    },
    {
      "cell_type": "code",
      "source": [
        "files.upload()"
      ],
      "metadata": {
        "id": "HIhDjRXHOrC0"
      },
      "execution_count": null,
      "outputs": []
    },
    {
      "cell_type": "code",
      "source": [
        "!ls"
      ],
      "metadata": {
        "colab": {
          "base_uri": "https://localhost:8080/"
        },
        "id": "YQ7y-BKlPBxk",
        "outputId": "a7e8dab6-bec2-413a-b0dc-74ca7a6149a9"
      },
      "execution_count": 4,
      "outputs": [
        {
          "output_type": "stream",
          "name": "stdout",
          "text": [
            "Auto_fraud_detection_dataset.zip  sample_data\n"
          ]
        }
      ]
    },
    {
      "cell_type": "code",
      "source": [
        "!unzip Auto_fraud_detection_dataset.zip"
      ],
      "metadata": {
        "colab": {
          "base_uri": "https://localhost:8080/"
        },
        "id": "CAxKRH9MPDBb",
        "outputId": "9ed6bc89-642c-4501-83f7-856deeefa371"
      },
      "execution_count": 5,
      "outputs": [
        {
          "output_type": "stream",
          "name": "stdout",
          "text": [
            "Archive:  Auto_fraud_detection_dataset.zip\n",
            "  inflating: claims_customer.csv     \n",
            "  inflating: __MACOSX/._claims_customer.csv  \n",
            "  inflating: claims_preprocessed.csv  \n",
            "  inflating: __MACOSX/._claims_preprocessed.csv  \n",
            "  inflating: claims.csv              \n",
            "  inflating: __MACOSX/._claims.csv   \n",
            "  inflating: customers_preprocessed.csv  \n",
            "  inflating: __MACOSX/._customers_preprocessed.csv  \n",
            "  inflating: customers.csv           \n",
            "  inflating: __MACOSX/._customers.csv  \n",
            "  inflating: dataset.csv             \n",
            "  inflating: __MACOSX/._dataset.csv  \n",
            "  inflating: test.csv                \n",
            "  inflating: __MACOSX/._test.csv     \n",
            "  inflating: train.csv               \n",
            "  inflating: __MACOSX/._train.csv    \n",
            "  inflating: upsampled_train.csv     \n",
            "  inflating: __MACOSX/._upsampled_train.csv  \n"
          ]
        }
      ]
    },
    {
      "cell_type": "code",
      "source": [
        "from fastai.tabular.all import *"
      ],
      "metadata": {
        "id": "LwV6X1T_PVPf"
      },
      "execution_count": 27,
      "outputs": []
    },
    {
      "cell_type": "code",
      "source": [
        "import pandas as pd\n",
        "from pathlib import Path"
      ],
      "metadata": {
        "id": "cOF29wm7PXkD"
      },
      "execution_count": 5,
      "outputs": []
    },
    {
      "cell_type": "code",
      "source": [
        "train = pd.read_csv('./train.csv')\n",
        "valid = pd.read_csv('./test.csv')"
      ],
      "metadata": {
        "id": "H9HNffzPPKip"
      },
      "execution_count": 6,
      "outputs": []
    },
    {
      "cell_type": "code",
      "source": [
        "df = pd.concat([train, valid])"
      ],
      "metadata": {
        "id": "SBOsVHqAPcsz"
      },
      "execution_count": 7,
      "outputs": []
    },
    {
      "cell_type": "code",
      "source": [
        "df.describe()"
      ],
      "metadata": {
        "colab": {
          "base_uri": "https://localhost:8080/",
          "height": 394
        },
        "id": "NrCwJqtpPfl8",
        "outputId": "fb4b2173-01ce-4155-d52d-d33d7f890b12"
      },
      "execution_count": 8,
      "outputs": [
        {
          "output_type": "execute_result",
          "data": {
            "text/plain": [
              "              fraud  incident_type_theft  policy_state_ca  policy_deductable  \\\n",
              "count  20000.000000         20000.000000       20000.0000        20000.00000   \n",
              "mean       0.030000             0.048200           0.6204          751.13000   \n",
              "std        0.170591             0.214194           0.4853           13.57322   \n",
              "min        0.000000             0.000000           0.0000          750.00000   \n",
              "25%        0.000000             0.000000           0.0000          750.00000   \n",
              "50%        0.000000             0.000000           1.0000          750.00000   \n",
              "75%        0.000000             0.000000           1.0000          750.00000   \n",
              "max        1.000000             1.000000           1.0000         1100.00000   \n",
              "\n",
              "       num_witnesses  policy_state_or  incident_month  customer_gender_female  \\\n",
              "count   20000.000000     20000.000000    20000.000000            20000.000000   \n",
              "mean        0.866100         0.070000        6.713200                0.372400   \n",
              "std         1.097921         0.255153        3.654396                0.483456   \n",
              "min         0.000000         0.000000        1.000000                0.000000   \n",
              "25%         0.000000         0.000000        3.000000                0.000000   \n",
              "50%         0.000000         0.000000        7.000000                0.000000   \n",
              "75%         2.000000         0.000000       10.000000                1.000000   \n",
              "max         5.000000         1.000000       12.000000                1.000000   \n",
              "\n",
              "       num_insurers_past_5_years  customer_gender_male  ...  \\\n",
              "count               20000.000000          20000.000000  ...   \n",
              "mean                    1.412200              0.576500  ...   \n",
              "std                     0.897291              0.494125  ...   \n",
              "min                     1.000000              0.000000  ...   \n",
              "25%                     1.000000              0.000000  ...   \n",
              "50%                     1.000000              1.000000  ...   \n",
              "75%                     1.000000              1.000000  ...   \n",
              "max                     5.000000              1.000000  ...   \n",
              "\n",
              "       driver_relationship_other  policy_state_id  incident_hour  \\\n",
              "count                20000.00000      20000.00000   20000.000000   \n",
              "mean                     0.03940          0.02730      11.786800   \n",
              "std                      0.19455          0.16296       5.337918   \n",
              "min                      0.00000          0.00000       0.000000   \n",
              "25%                      0.00000          0.00000       8.000000   \n",
              "50%                      0.00000          0.00000      12.000000   \n",
              "75%                      0.00000          0.00000      16.000000   \n",
              "max                      1.00000          1.00000      23.000000   \n",
              "\n",
              "       vehicle_claim  incident_type_collision  policy_annual_premium  \\\n",
              "count   20000.000000             20000.000000           20000.000000   \n",
              "mean    17426.083700                 0.857200            2925.400000   \n",
              "std     10043.773599                 0.349878             143.516096   \n",
              "min      1000.000000                 0.000000            2150.000000   \n",
              "25%     10474.250000                 1.000000            2900.000000   \n",
              "50%     15000.000000                 1.000000            3000.000000   \n",
              "75%     22005.500000                 1.000000            3000.000000   \n",
              "max     51051.000000                 1.000000            3000.000000   \n",
              "\n",
              "       policy_state_az  policy_state_wa  collision_type_rear  \\\n",
              "count     20000.000000     20000.000000         20000.000000   \n",
              "mean          0.113600         0.121000             0.220900   \n",
              "std           0.317333         0.326135             0.414864   \n",
              "min           0.000000         0.000000             0.000000   \n",
              "25%           0.000000         0.000000             0.000000   \n",
              "50%           0.000000         0.000000             0.000000   \n",
              "75%           0.000000         0.000000             0.000000   \n",
              "max           1.000000         1.000000             1.000000   \n",
              "\n",
              "       collision_type_front  \n",
              "count          20000.000000  \n",
              "mean               0.425400  \n",
              "std                0.494416  \n",
              "min                0.000000  \n",
              "25%                0.000000  \n",
              "50%                0.000000  \n",
              "75%                1.000000  \n",
              "max                1.000000  \n",
              "\n",
              "[8 rows x 46 columns]"
            ],
            "text/html": [
              "\n",
              "  <div id=\"df-703f3cef-f3c6-4a89-87f8-c576905c676f\">\n",
              "    <div class=\"colab-df-container\">\n",
              "      <div>\n",
              "<style scoped>\n",
              "    .dataframe tbody tr th:only-of-type {\n",
              "        vertical-align: middle;\n",
              "    }\n",
              "\n",
              "    .dataframe tbody tr th {\n",
              "        vertical-align: top;\n",
              "    }\n",
              "\n",
              "    .dataframe thead th {\n",
              "        text-align: right;\n",
              "    }\n",
              "</style>\n",
              "<table border=\"1\" class=\"dataframe\">\n",
              "  <thead>\n",
              "    <tr style=\"text-align: right;\">\n",
              "      <th></th>\n",
              "      <th>fraud</th>\n",
              "      <th>incident_type_theft</th>\n",
              "      <th>policy_state_ca</th>\n",
              "      <th>policy_deductable</th>\n",
              "      <th>num_witnesses</th>\n",
              "      <th>policy_state_or</th>\n",
              "      <th>incident_month</th>\n",
              "      <th>customer_gender_female</th>\n",
              "      <th>num_insurers_past_5_years</th>\n",
              "      <th>customer_gender_male</th>\n",
              "      <th>...</th>\n",
              "      <th>driver_relationship_other</th>\n",
              "      <th>policy_state_id</th>\n",
              "      <th>incident_hour</th>\n",
              "      <th>vehicle_claim</th>\n",
              "      <th>incident_type_collision</th>\n",
              "      <th>policy_annual_premium</th>\n",
              "      <th>policy_state_az</th>\n",
              "      <th>policy_state_wa</th>\n",
              "      <th>collision_type_rear</th>\n",
              "      <th>collision_type_front</th>\n",
              "    </tr>\n",
              "  </thead>\n",
              "  <tbody>\n",
              "    <tr>\n",
              "      <th>count</th>\n",
              "      <td>20000.000000</td>\n",
              "      <td>20000.000000</td>\n",
              "      <td>20000.0000</td>\n",
              "      <td>20000.00000</td>\n",
              "      <td>20000.000000</td>\n",
              "      <td>20000.000000</td>\n",
              "      <td>20000.000000</td>\n",
              "      <td>20000.000000</td>\n",
              "      <td>20000.000000</td>\n",
              "      <td>20000.000000</td>\n",
              "      <td>...</td>\n",
              "      <td>20000.00000</td>\n",
              "      <td>20000.00000</td>\n",
              "      <td>20000.000000</td>\n",
              "      <td>20000.000000</td>\n",
              "      <td>20000.000000</td>\n",
              "      <td>20000.000000</td>\n",
              "      <td>20000.000000</td>\n",
              "      <td>20000.000000</td>\n",
              "      <td>20000.000000</td>\n",
              "      <td>20000.000000</td>\n",
              "    </tr>\n",
              "    <tr>\n",
              "      <th>mean</th>\n",
              "      <td>0.030000</td>\n",
              "      <td>0.048200</td>\n",
              "      <td>0.6204</td>\n",
              "      <td>751.13000</td>\n",
              "      <td>0.866100</td>\n",
              "      <td>0.070000</td>\n",
              "      <td>6.713200</td>\n",
              "      <td>0.372400</td>\n",
              "      <td>1.412200</td>\n",
              "      <td>0.576500</td>\n",
              "      <td>...</td>\n",
              "      <td>0.03940</td>\n",
              "      <td>0.02730</td>\n",
              "      <td>11.786800</td>\n",
              "      <td>17426.083700</td>\n",
              "      <td>0.857200</td>\n",
              "      <td>2925.400000</td>\n",
              "      <td>0.113600</td>\n",
              "      <td>0.121000</td>\n",
              "      <td>0.220900</td>\n",
              "      <td>0.425400</td>\n",
              "    </tr>\n",
              "    <tr>\n",
              "      <th>std</th>\n",
              "      <td>0.170591</td>\n",
              "      <td>0.214194</td>\n",
              "      <td>0.4853</td>\n",
              "      <td>13.57322</td>\n",
              "      <td>1.097921</td>\n",
              "      <td>0.255153</td>\n",
              "      <td>3.654396</td>\n",
              "      <td>0.483456</td>\n",
              "      <td>0.897291</td>\n",
              "      <td>0.494125</td>\n",
              "      <td>...</td>\n",
              "      <td>0.19455</td>\n",
              "      <td>0.16296</td>\n",
              "      <td>5.337918</td>\n",
              "      <td>10043.773599</td>\n",
              "      <td>0.349878</td>\n",
              "      <td>143.516096</td>\n",
              "      <td>0.317333</td>\n",
              "      <td>0.326135</td>\n",
              "      <td>0.414864</td>\n",
              "      <td>0.494416</td>\n",
              "    </tr>\n",
              "    <tr>\n",
              "      <th>min</th>\n",
              "      <td>0.000000</td>\n",
              "      <td>0.000000</td>\n",
              "      <td>0.0000</td>\n",
              "      <td>750.00000</td>\n",
              "      <td>0.000000</td>\n",
              "      <td>0.000000</td>\n",
              "      <td>1.000000</td>\n",
              "      <td>0.000000</td>\n",
              "      <td>1.000000</td>\n",
              "      <td>0.000000</td>\n",
              "      <td>...</td>\n",
              "      <td>0.00000</td>\n",
              "      <td>0.00000</td>\n",
              "      <td>0.000000</td>\n",
              "      <td>1000.000000</td>\n",
              "      <td>0.000000</td>\n",
              "      <td>2150.000000</td>\n",
              "      <td>0.000000</td>\n",
              "      <td>0.000000</td>\n",
              "      <td>0.000000</td>\n",
              "      <td>0.000000</td>\n",
              "    </tr>\n",
              "    <tr>\n",
              "      <th>25%</th>\n",
              "      <td>0.000000</td>\n",
              "      <td>0.000000</td>\n",
              "      <td>0.0000</td>\n",
              "      <td>750.00000</td>\n",
              "      <td>0.000000</td>\n",
              "      <td>0.000000</td>\n",
              "      <td>3.000000</td>\n",
              "      <td>0.000000</td>\n",
              "      <td>1.000000</td>\n",
              "      <td>0.000000</td>\n",
              "      <td>...</td>\n",
              "      <td>0.00000</td>\n",
              "      <td>0.00000</td>\n",
              "      <td>8.000000</td>\n",
              "      <td>10474.250000</td>\n",
              "      <td>1.000000</td>\n",
              "      <td>2900.000000</td>\n",
              "      <td>0.000000</td>\n",
              "      <td>0.000000</td>\n",
              "      <td>0.000000</td>\n",
              "      <td>0.000000</td>\n",
              "    </tr>\n",
              "    <tr>\n",
              "      <th>50%</th>\n",
              "      <td>0.000000</td>\n",
              "      <td>0.000000</td>\n",
              "      <td>1.0000</td>\n",
              "      <td>750.00000</td>\n",
              "      <td>0.000000</td>\n",
              "      <td>0.000000</td>\n",
              "      <td>7.000000</td>\n",
              "      <td>0.000000</td>\n",
              "      <td>1.000000</td>\n",
              "      <td>1.000000</td>\n",
              "      <td>...</td>\n",
              "      <td>0.00000</td>\n",
              "      <td>0.00000</td>\n",
              "      <td>12.000000</td>\n",
              "      <td>15000.000000</td>\n",
              "      <td>1.000000</td>\n",
              "      <td>3000.000000</td>\n",
              "      <td>0.000000</td>\n",
              "      <td>0.000000</td>\n",
              "      <td>0.000000</td>\n",
              "      <td>0.000000</td>\n",
              "    </tr>\n",
              "    <tr>\n",
              "      <th>75%</th>\n",
              "      <td>0.000000</td>\n",
              "      <td>0.000000</td>\n",
              "      <td>1.0000</td>\n",
              "      <td>750.00000</td>\n",
              "      <td>2.000000</td>\n",
              "      <td>0.000000</td>\n",
              "      <td>10.000000</td>\n",
              "      <td>1.000000</td>\n",
              "      <td>1.000000</td>\n",
              "      <td>1.000000</td>\n",
              "      <td>...</td>\n",
              "      <td>0.00000</td>\n",
              "      <td>0.00000</td>\n",
              "      <td>16.000000</td>\n",
              "      <td>22005.500000</td>\n",
              "      <td>1.000000</td>\n",
              "      <td>3000.000000</td>\n",
              "      <td>0.000000</td>\n",
              "      <td>0.000000</td>\n",
              "      <td>0.000000</td>\n",
              "      <td>1.000000</td>\n",
              "    </tr>\n",
              "    <tr>\n",
              "      <th>max</th>\n",
              "      <td>1.000000</td>\n",
              "      <td>1.000000</td>\n",
              "      <td>1.0000</td>\n",
              "      <td>1100.00000</td>\n",
              "      <td>5.000000</td>\n",
              "      <td>1.000000</td>\n",
              "      <td>12.000000</td>\n",
              "      <td>1.000000</td>\n",
              "      <td>5.000000</td>\n",
              "      <td>1.000000</td>\n",
              "      <td>...</td>\n",
              "      <td>1.00000</td>\n",
              "      <td>1.00000</td>\n",
              "      <td>23.000000</td>\n",
              "      <td>51051.000000</td>\n",
              "      <td>1.000000</td>\n",
              "      <td>3000.000000</td>\n",
              "      <td>1.000000</td>\n",
              "      <td>1.000000</td>\n",
              "      <td>1.000000</td>\n",
              "      <td>1.000000</td>\n",
              "    </tr>\n",
              "  </tbody>\n",
              "</table>\n",
              "<p>8 rows × 46 columns</p>\n",
              "</div>\n",
              "      <button class=\"colab-df-convert\" onclick=\"convertToInteractive('df-703f3cef-f3c6-4a89-87f8-c576905c676f')\"\n",
              "              title=\"Convert this dataframe to an interactive table.\"\n",
              "              style=\"display:none;\">\n",
              "        \n",
              "  <svg xmlns=\"http://www.w3.org/2000/svg\" height=\"24px\"viewBox=\"0 0 24 24\"\n",
              "       width=\"24px\">\n",
              "    <path d=\"M0 0h24v24H0V0z\" fill=\"none\"/>\n",
              "    <path d=\"M18.56 5.44l.94 2.06.94-2.06 2.06-.94-2.06-.94-.94-2.06-.94 2.06-2.06.94zm-11 1L8.5 8.5l.94-2.06 2.06-.94-2.06-.94L8.5 2.5l-.94 2.06-2.06.94zm10 10l.94 2.06.94-2.06 2.06-.94-2.06-.94-.94-2.06-.94 2.06-2.06.94z\"/><path d=\"M17.41 7.96l-1.37-1.37c-.4-.4-.92-.59-1.43-.59-.52 0-1.04.2-1.43.59L10.3 9.45l-7.72 7.72c-.78.78-.78 2.05 0 2.83L4 21.41c.39.39.9.59 1.41.59.51 0 1.02-.2 1.41-.59l7.78-7.78 2.81-2.81c.8-.78.8-2.07 0-2.86zM5.41 20L4 18.59l7.72-7.72 1.47 1.35L5.41 20z\"/>\n",
              "  </svg>\n",
              "      </button>\n",
              "      \n",
              "  <style>\n",
              "    .colab-df-container {\n",
              "      display:flex;\n",
              "      flex-wrap:wrap;\n",
              "      gap: 12px;\n",
              "    }\n",
              "\n",
              "    .colab-df-convert {\n",
              "      background-color: #E8F0FE;\n",
              "      border: none;\n",
              "      border-radius: 50%;\n",
              "      cursor: pointer;\n",
              "      display: none;\n",
              "      fill: #1967D2;\n",
              "      height: 32px;\n",
              "      padding: 0 0 0 0;\n",
              "      width: 32px;\n",
              "    }\n",
              "\n",
              "    .colab-df-convert:hover {\n",
              "      background-color: #E2EBFA;\n",
              "      box-shadow: 0px 1px 2px rgba(60, 64, 67, 0.3), 0px 1px 3px 1px rgba(60, 64, 67, 0.15);\n",
              "      fill: #174EA6;\n",
              "    }\n",
              "\n",
              "    [theme=dark] .colab-df-convert {\n",
              "      background-color: #3B4455;\n",
              "      fill: #D2E3FC;\n",
              "    }\n",
              "\n",
              "    [theme=dark] .colab-df-convert:hover {\n",
              "      background-color: #434B5C;\n",
              "      box-shadow: 0px 1px 3px 1px rgba(0, 0, 0, 0.15);\n",
              "      filter: drop-shadow(0px 1px 2px rgba(0, 0, 0, 0.3));\n",
              "      fill: #FFFFFF;\n",
              "    }\n",
              "  </style>\n",
              "\n",
              "      <script>\n",
              "        const buttonEl =\n",
              "          document.querySelector('#df-703f3cef-f3c6-4a89-87f8-c576905c676f button.colab-df-convert');\n",
              "        buttonEl.style.display =\n",
              "          google.colab.kernel.accessAllowed ? 'block' : 'none';\n",
              "\n",
              "        async function convertToInteractive(key) {\n",
              "          const element = document.querySelector('#df-703f3cef-f3c6-4a89-87f8-c576905c676f');\n",
              "          const dataTable =\n",
              "            await google.colab.kernel.invokeFunction('convertToInteractive',\n",
              "                                                     [key], {});\n",
              "          if (!dataTable) return;\n",
              "\n",
              "          const docLinkHtml = 'Like what you see? Visit the ' +\n",
              "            '<a target=\"_blank\" href=https://colab.research.google.com/notebooks/data_table.ipynb>data table notebook</a>'\n",
              "            + ' to learn more about interactive tables.';\n",
              "          element.innerHTML = '';\n",
              "          dataTable['output_type'] = 'display_data';\n",
              "          await google.colab.output.renderOutput(dataTable, element);\n",
              "          const docLink = document.createElement('div');\n",
              "          docLink.innerHTML = docLinkHtml;\n",
              "          element.appendChild(docLink);\n",
              "        }\n",
              "      </script>\n",
              "    </div>\n",
              "  </div>\n",
              "  "
            ]
          },
          "metadata": {},
          "execution_count": 8
        }
      ]
    },
    {
      "cell_type": "code",
      "source": [
        "df.columns"
      ],
      "metadata": {
        "colab": {
          "base_uri": "https://localhost:8080/"
        },
        "id": "SX8Ch5l_Pr94",
        "outputId": "8eeea986-23f8-46d7-e7b5-8f8eaac4923c"
      },
      "execution_count": 9,
      "outputs": [
        {
          "output_type": "execute_result",
          "data": {
            "text/plain": [
              "Index(['fraud', 'incident_type_theft', 'policy_state_ca', 'policy_deductable',\n",
              "       'num_witnesses', 'policy_state_or', 'incident_month',\n",
              "       'customer_gender_female', 'num_insurers_past_5_years',\n",
              "       'customer_gender_male', 'total_claim_amount',\n",
              "       'authorities_contacted_police', 'incident_day', 'collision_type_side',\n",
              "       'customer_age', 'customer_education', 'driver_relationship_child',\n",
              "       'driver_relationship_spouse', 'injury_claim', 'incident_dow',\n",
              "       'collision_type_na', 'incident_severity', 'driver_relationship_self',\n",
              "       'num_claims_past_year', 'months_as_customer', 'auto_year',\n",
              "       'num_vehicles_involved', 'policy_state_nv',\n",
              "       'authorities_contacted_ambulance', 'num_injuries', 'policy_liability',\n",
              "       'police_report_available', 'driver_relationship_na',\n",
              "       'incident_type_breakin', 'authorities_contacted_none',\n",
              "       'authorities_contacted_fire', 'driver_relationship_other',\n",
              "       'policy_state_id', 'incident_hour', 'vehicle_claim',\n",
              "       'incident_type_collision', 'policy_annual_premium', 'policy_state_az',\n",
              "       'policy_state_wa', 'collision_type_rear', 'collision_type_front'],\n",
              "      dtype='object')"
            ]
          },
          "metadata": {},
          "execution_count": 9
        }
      ]
    },
    {
      "cell_type": "code",
      "source": [
        "dep_var = ['fraud']\n",
        "cat_vars = ['incident_type_theft', 'policy_state_ca', 'policy_deductable',\n",
        "       'num_witnesses', 'policy_state_or', 'incident_month',\n",
        "       'customer_gender_female', \n",
        "       'customer_gender_male',\n",
        "       'authorities_contacted_police', 'incident_day', 'collision_type_side',\n",
        "       'customer_age', 'customer_education', 'driver_relationship_child',\n",
        "       'driver_relationship_spouse', 'injury_claim', 'incident_dow',\n",
        "       'collision_type_na', 'incident_severity', 'driver_relationship_self',\n",
        "       'num_claims_past_year', 'months_as_customer', 'auto_year',\n",
        "       'num_vehicles_involved', 'policy_state_nv',\n",
        "       'authorities_contacted_ambulance', 'num_injuries', 'policy_liability',\n",
        "       'police_report_available', 'driver_relationship_na',\n",
        "       'incident_type_breakin', 'authorities_contacted_none',\n",
        "       'authorities_contacted_fire', 'driver_relationship_other',\n",
        "       'policy_state_id', 'incident_hour', 'vehicle_claim',\n",
        "       'incident_type_collision', 'policy_state_az',\n",
        "       'policy_state_wa', 'collision_type_rear', 'collision_type_front']\n",
        "cont_vars = ['total_claim_amount', 'num_insurers_past_5_years','policy_annual_premium', ]"
      ],
      "metadata": {
        "id": "1bV328AaPle0"
      },
      "execution_count": 10,
      "outputs": []
    },
    {
      "cell_type": "code",
      "source": [
        "path = Path('/content')"
      ],
      "metadata": {
        "id": "rdB49kNZQPBN"
      },
      "execution_count": 11,
      "outputs": []
    },
    {
      "cell_type": "code",
      "source": [
        "len(train), len(df)"
      ],
      "metadata": {
        "colab": {
          "base_uri": "https://localhost:8080/"
        },
        "id": "uurjOACNROnM",
        "outputId": "608eaa0c-712f-4711-f9ab-22462c977308"
      },
      "execution_count": 24,
      "outputs": [
        {
          "output_type": "execute_result",
          "data": {
            "text/plain": [
              "(16000, 20000)"
            ]
          },
          "metadata": {},
          "execution_count": 24
        }
      ]
    },
    {
      "cell_type": "code",
      "source": [
        "emb_szs = [10]*len(cat_vars)"
      ],
      "metadata": {
        "id": "1_PPtj90V1sR"
      },
      "execution_count": 23,
      "outputs": []
    },
    {
      "cell_type": "code",
      "source": [
        "dls = TabularDataLoaders.from_df(df, path, cat_names = cat_vars, cont_names = cont_vars, y_names = dep_var, valid_idx=range(16000, 20000), procs = [Categorify, FillMissing, Normalize], y_block = CategoryBlock())"
      ],
      "metadata": {
        "id": "FzC8kbcZQuFB"
      },
      "execution_count": 75,
      "outputs": []
    },
    {
      "cell_type": "code",
      "source": [
        "learn = tabular_learner(dls, layers = [200, 100], metrics = accuracy)"
      ],
      "metadata": {
        "id": "magXezG-RWcI"
      },
      "execution_count": 76,
      "outputs": []
    },
    {
      "cell_type": "code",
      "source": [
        "learn.lr_find()"
      ],
      "metadata": {
        "colab": {
          "base_uri": "https://localhost:8080/",
          "height": 301
        },
        "id": "By6qVXnJYb73",
        "outputId": "294cdf21-4abd-4cac-8e02-cc1043ec6e4a"
      },
      "execution_count": 77,
      "outputs": [
        {
          "output_type": "display_data",
          "data": {
            "text/plain": [
              "<IPython.core.display.HTML object>"
            ],
            "text/html": [
              "\n",
              "<style>\n",
              "    /* Turns off some styling */\n",
              "    progress {\n",
              "        /* gets rid of default border in Firefox and Opera. */\n",
              "        border: none;\n",
              "        /* Needs to be in here for Safari polyfill so background images work as expected. */\n",
              "        background-size: auto;\n",
              "    }\n",
              "    .progress-bar-interrupted, .progress-bar-interrupted::-webkit-progress-bar {\n",
              "        background: #F44336;\n",
              "    }\n",
              "</style>\n"
            ]
          },
          "metadata": {}
        },
        {
          "output_type": "display_data",
          "data": {
            "text/plain": [
              "<IPython.core.display.HTML object>"
            ],
            "text/html": [
              ""
            ]
          },
          "metadata": {}
        },
        {
          "output_type": "execute_result",
          "data": {
            "text/plain": [
              "SuggestedLRs(valley=0.001737800776027143)"
            ]
          },
          "metadata": {},
          "execution_count": 77
        },
        {
          "output_type": "display_data",
          "data": {
            "text/plain": [
              "<Figure size 432x288 with 1 Axes>"
            ],
            "image/png": "[encoded data removed]"
          },
          "metadata": {
            "needs_background": "light"
          }
        }
      ]
    },
    {
      "cell_type": "code",
      "source": [
        "learn.fit_one_cycle(5, lr_max = 0.001737800776027143)"
      ],
      "metadata": {
        "colab": {
          "base_uri": "https://localhost:8080/",
          "height": 206
        },
        "id": "7b_1K5SQYe6p",
        "outputId": "190e31d2-69df-468c-bc7c-94c8441bfdbe"
      },
      "execution_count": 78,
      "outputs": [
        {
          "output_type": "display_data",
          "data": {
            "text/plain": [
              "<IPython.core.display.HTML object>"
            ],
            "text/html": [
              "\n",
              "<style>\n",
              "    /* Turns off some styling */\n",
              "    progress {\n",
              "        /* gets rid of default border in Firefox and Opera. */\n",
              "        border: none;\n",
              "        /* Needs to be in here for Safari polyfill so background images work as expected. */\n",
              "        background-size: auto;\n",
              "    }\n",
              "    .progress-bar-interrupted, .progress-bar-interrupted::-webkit-progress-bar {\n",
              "        background: #F44336;\n",
              "    }\n",
              "</style>\n"
            ]
          },
          "metadata": {}
        },
        {
          "output_type": "display_data",
          "data": {
            "text/plain": [
              "<IPython.core.display.HTML object>"
            ],
            "text/html": [
              "<table border=\"1\" class=\"dataframe\">\n",
              "  <thead>\n",
              "    <tr style=\"text-align: left;\">\n",
              "      <th>epoch</th>\n",
              "      <th>train_loss</th>\n",
              "      <th>valid_loss</th>\n",
              "      <th>accuracy</th>\n",
              "      <th>time</th>\n",
              "    </tr>\n",
              "  </thead>\n",
              "  <tbody>\n",
              "    <tr>\n",
              "      <td>0</td>\n",
              "      <td>0.244121</td>\n",
              "      <td>0.136506</td>\n",
              "      <td>0.966750</td>\n",
              "      <td>00:04</td>\n",
              "    </tr>\n",
              "    <tr>\n",
              "      <td>1</td>\n",
              "      <td>0.094208</td>\n",
              "      <td>0.112697</td>\n",
              "      <td>0.972500</td>\n",
              "      <td>00:04</td>\n",
              "    </tr>\n",
              "    <tr>\n",
              "      <td>2</td>\n",
              "      <td>0.066066</td>\n",
              "      <td>0.096133</td>\n",
              "      <td>0.979000</td>\n",
              "      <td>00:04</td>\n",
              "    </tr>\n",
              "    <tr>\n",
              "      <td>3</td>\n",
              "      <td>0.046263</td>\n",
              "      <td>0.098678</td>\n",
              "      <td>0.978500</td>\n",
              "      <td>00:04</td>\n",
              "    </tr>\n",
              "    <tr>\n",
              "      <td>4</td>\n",
              "      <td>0.025848</td>\n",
              "      <td>0.102512</td>\n",
              "      <td>0.978750</td>\n",
              "      <td>00:04</td>\n",
              "    </tr>\n",
              "  </tbody>\n",
              "</table>"
            ]
          },
          "metadata": {}
        }
      ]
    },
    {
      "cell_type": "code",
      "source": [
        "learn.lr_find()"
      ],
      "metadata": {
        "colab": {
          "base_uri": "https://localhost:8080/",
          "height": 301
        },
        "id": "p57wa2h7da86",
        "outputId": "a0baad0c-0129-4d12-afeb-25a7b75037dd"
      },
      "execution_count": 79,
      "outputs": [
        {
          "output_type": "display_data",
          "data": {
            "text/plain": [
              "<IPython.core.display.HTML object>"
            ],
            "text/html": [
              "\n",
              "<style>\n",
              "    /* Turns off some styling */\n",
              "    progress {\n",
              "        /* gets rid of default border in Firefox and Opera. */\n",
              "        border: none;\n",
              "        /* Needs to be in here for Safari polyfill so background images work as expected. */\n",
              "        background-size: auto;\n",
              "    }\n",
              "    .progress-bar-interrupted, .progress-bar-interrupted::-webkit-progress-bar {\n",
              "        background: #F44336;\n",
              "    }\n",
              "</style>\n"
            ]
          },
          "metadata": {}
        },
        {
          "output_type": "display_data",
          "data": {
            "text/plain": [
              "<IPython.core.display.HTML object>"
            ],
            "text/html": [
              ""
            ]
          },
          "metadata": {}
        },
        {
          "output_type": "execute_result",
          "data": {
            "text/plain": [
              "SuggestedLRs(valley=4.365158383734524e-05)"
            ]
          },
          "metadata": {},
          "execution_count": 79
        },
        {
          "output_type": "display_data",
          "data": {
            "text/plain": [
              "<Figure size 432x288 with 1 Axes>"
            ],
            "image/png": "[encoded data removed]"
          },
          "metadata": {
            "needs_background": "light"
          }
        }
      ]
    },
    {
      "cell_type": "code",
      "source": [
        "test_df = valid.copy()\n",
        "test_df.drop(['fraud'], axis=1, inplace=True)\n",
        "dl = learn.dls.test_dl(test_df)"
      ],
      "metadata": {
        "id": "_47TtDO1ZnRt"
      },
      "execution_count": 81,
      "outputs": []
    },
    {
      "cell_type": "code",
      "source": [
        "yhat= learn.get_preds(dl=dl)"
      ],
      "metadata": {
        "colab": {
          "base_uri": "https://localhost:8080/",
          "height": 17
        },
        "id": "haRZ_6A6ax6B",
        "outputId": "22638544-a9b4-4751-8827-fe2ee5518a48"
      },
      "execution_count": 85,
      "outputs": [
        {
          "output_type": "display_data",
          "data": {
            "text/plain": [
              "<IPython.core.display.HTML object>"
            ],
            "text/html": [
              "\n",
              "<style>\n",
              "    /* Turns off some styling */\n",
              "    progress {\n",
              "        /* gets rid of default border in Firefox and Opera. */\n",
              "        border: none;\n",
              "        /* Needs to be in here for Safari polyfill so background images work as expected. */\n",
              "        background-size: auto;\n",
              "    }\n",
              "    .progress-bar-interrupted, .progress-bar-interrupted::-webkit-progress-bar {\n",
              "        background: #F44336;\n",
              "    }\n",
              "</style>\n"
            ]
          },
          "metadata": {}
        },
        {
          "output_type": "display_data",
          "data": {
            "text/plain": [
              "<IPython.core.display.HTML object>"
            ],
            "text/html": [
              ""
            ]
          },
          "metadata": {}
        }
      ]
    },
    {
      "cell_type": "code",
      "source": [
        "y = valid['fraud']"
      ],
      "metadata": {
        "id": "ogLSQBIBd4Yk"
      },
      "execution_count": 99,
      "outputs": []
    },
    {
      "cell_type": "code",
      "source": [
        "yhat = np.array(yhat[0].argmax(1))"
      ],
      "metadata": {
        "id": "oX1nqMsvd_le"
      },
      "execution_count": 97,
      "outputs": []
    },
    {
      "cell_type": "code",
      "source": [
        "y = y.to_numpy()"
      ],
      "metadata": {
        "id": "ZNVZ_aqueNt-"
      },
      "execution_count": 100,
      "outputs": []
    },
    {
      "cell_type": "code",
      "source": [
        "yhat, y"
      ],
      "metadata": {
        "colab": {
          "base_uri": "https://localhost:8080/"
        },
        "id": "s6K3dXfreUlN",
        "outputId": "7914f848-bff9-495d-92ed-85078ea55057"
      },
      "execution_count": 101,
      "outputs": [
        {
          "output_type": "execute_result",
          "data": {
            "text/plain": [
              "(array([0, 0, 0, ..., 0, 0, 0]), array([0, 0, 0, ..., 0, 0, 0]))"
            ]
          },
          "metadata": {},
          "execution_count": 101
        }
      ]
    },
    {
      "cell_type": "code",
      "source": [
        "from sklearn.metrics import accuracy_score"
      ],
      "metadata": {
        "id": "tpD7B1RlefKQ"
      },
      "execution_count": 102,
      "outputs": []
    },
    {
      "cell_type": "code",
      "source": [
        "print(\"Accuracy is : \", accuracy_score(y,yhat)*100)"
      ],
      "metadata": {
        "colab": {
          "base_uri": "https://localhost:8080/"
        },
        "id": "F7honGPvefit",
        "outputId": "95a4bb3d-7a58-4e57-8143-bb3480d47b53"
      },
      "execution_count": 106,
      "outputs": [
        {
          "output_type": "stream",
          "name": "stdout",
          "text": [
            "Accuracy is :  97.75\n"
          ]
        }
      ]
    },
    {
      "cell_type": "code",
      "source": [
        "#Confusion Matrix\n",
        "\n",
        "from sklearn.metrics import classification_report, confusion_matrix\n",
        "print(confusion_matrix(y, yhat))\n",
        "print(classification_report(y, yhat))"
      ],
      "metadata": {
        "colab": {
          "base_uri": "https://localhost:8080/"
        },
        "id": "-pnYTCFievTs",
        "outputId": "31f1f06e-0c79-4308-8bbc-4ff126d30248"
      },
      "execution_count": 107,
      "outputs": [
        {
          "output_type": "stream",
          "name": "stdout",
          "text": [
            "[[3861   15]\n",
            " [  75   49]]\n",
            "              precision    recall  f1-score   support\n",
            "\n",
            "           0       0.98      1.00      0.99      3876\n",
            "           1       0.77      0.40      0.52       124\n",
            "\n",
            "    accuracy                           0.98      4000\n",
            "   macro avg       0.87      0.70      0.75      4000\n",
            "weighted avg       0.97      0.98      0.97      4000\n",
            "\n"
          ]
        }
      ]
    },
    {
      "cell_type": "code",
      "source": [
        "from sklearn.metrics import precision_recall_curve\n",
        "\n",
        "y_score = np.array(learn.get_preds(dl=dl)[0])[:, 1]\n",
        "#calculate precision and recall\n",
        "precision, recall, thresholds = precision_recall_curve(y, y_score)\n",
        "\n"
      ],
      "metadata": {
        "colab": {
          "base_uri": "https://localhost:8080/",
          "height": 17
        },
        "id": "clhonynwgeCD",
        "outputId": "7cb11f6a-31f9-44d7-980d-fb500771c21e"
      },
      "execution_count": 108,
      "outputs": [
        {
          "output_type": "display_data",
          "data": {
            "text/plain": [
              "<IPython.core.display.HTML object>"
            ],
            "text/html": [
              "\n",
              "<style>\n",
              "    /* Turns off some styling */\n",
              "    progress {\n",
              "        /* gets rid of default border in Firefox and Opera. */\n",
              "        border: none;\n",
              "        /* Needs to be in here for Safari polyfill so background images work as expected. */\n",
              "        background-size: auto;\n",
              "    }\n",
              "    .progress-bar-interrupted, .progress-bar-interrupted::-webkit-progress-bar {\n",
              "        background: #F44336;\n",
              "    }\n",
              "</style>\n"
            ]
          },
          "metadata": {}
        },
        {
          "output_type": "display_data",
          "data": {
            "text/plain": [
              "<IPython.core.display.HTML object>"
            ],
            "text/html": [
              ""
            ]
          },
          "metadata": {}
        }
      ]
    },
    {
      "cell_type": "code",
      "source": [
        "#create precision recall curve\n",
        "fig, ax = plt.subplots()\n",
        "ax.plot(recall, precision, color='purple')\n",
        "\n",
        "#add axis labels to plot\n",
        "ax.set_title('Precision-Recall Curve')\n",
        "ax.set_ylabel('Precision')\n",
        "ax.set_xlabel('Recall')\n",
        "\n",
        "#display plot\n",
        "plt.show()"
      ],
      "metadata": {
        "colab": {
          "base_uri": "https://localhost:8080/",
          "height": 295
        },
        "id": "QYpWpX6Zgq6x",
        "outputId": "bb7f0aab-cecb-463c-8497-36986f1e7a62"
      },
      "execution_count": 110,
      "outputs": [
        {
          "output_type": "display_data",
          "data": {
            "text/plain": [
              "<Figure size 432x288 with 1 Axes>"
            ],
            "image/png": "[encoded data removed]"
          },
          "metadata": {
            "needs_background": "light"
          }
        }
      ]
    }
  ]
}