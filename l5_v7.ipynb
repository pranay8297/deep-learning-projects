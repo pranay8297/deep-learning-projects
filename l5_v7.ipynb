{
  "nbformat": 4,
  "nbformat_minor": 0,
  "metadata": {
    "colab": {
      "name": "l5_v7.ipynb",
      "provenance": [],
      "collapsed_sections": [],
      "machine_shape": "hm",
      "authorship_tag": "ABX9TyPlsEXm3LJTCwclizFmPvuR",
      "include_colab_link": true
    },
    "kernelspec": {
      "name": "python3",
      "display_name": "Python 3"
    },
    "language_info": {
      "name": "python"
    },
    "accelerator": "GPU"
  },
  "cells": [
    {
      "cell_type": "markdown",
      "metadata": {
        "id": "view-in-github",
        "colab_type": "text"
      },
      "source": [
        "<a href=\"https://colab.research.google.com/github/pranay8297/deep-learning-projects/blob/master/l5_v7.ipynb\" target=\"_parent\"><img src=\"https://colab.research.google.com/assets/colab-badge.svg\" alt=\"Open In Colab\"/></a>"
      ]
    },
    {
      "cell_type": "code",
      "source": [
        "!pip install ipdb"
      ],
      "metadata": {
        "colab": {
          "base_uri": "https://localhost:8080/",
          "height": 906
        },
        "id": "XrU4rzUZRiyo",
        "outputId": "f19f8acc-071d-49b5-d92c-27ac01274a22"
      },
      "execution_count": 1,
      "outputs": [
        {
          "output_type": "stream",
          "name": "stdout",
          "text": [
            "Collecting ipdb\n",
            "  Downloading ipdb-0.13.9.tar.gz (16 kB)\n",
            "Requirement already satisfied: setuptools in /usr/local/lib/python3.7/dist-packages (from ipdb) (57.4.0)\n",
            "Collecting ipython>=7.17.0\n",
            "  Downloading ipython-7.32.0-py3-none-any.whl (793 kB)\n",
            "\u001b[K     |████████████████████████████████| 793 kB 13.9 MB/s \n",
            "\u001b[?25hCollecting toml>=0.10.2\n",
            "  Downloading toml-0.10.2-py2.py3-none-any.whl (16 kB)\n",
            "Requirement already satisfied: decorator in /usr/local/lib/python3.7/dist-packages (from ipdb) (4.4.2)\n",
            "Requirement already satisfied: pexpect>4.3 in /usr/local/lib/python3.7/dist-packages (from ipython>=7.17.0->ipdb) (4.8.0)\n",
            "Requirement already satisfied: backcall in /usr/local/lib/python3.7/dist-packages (from ipython>=7.17.0->ipdb) (0.2.0)\n",
            "Requirement already satisfied: pygments in /usr/local/lib/python3.7/dist-packages (from ipython>=7.17.0->ipdb) (2.6.1)\n",
            "Requirement already satisfied: matplotlib-inline in /usr/local/lib/python3.7/dist-packages (from ipython>=7.17.0->ipdb) (0.1.3)\n",
            "Requirement already satisfied: jedi>=0.16 in /usr/local/lib/python3.7/dist-packages (from ipython>=7.17.0->ipdb) (0.18.1)\n",
            "Requirement already satisfied: pickleshare in /usr/local/lib/python3.7/dist-packages (from ipython>=7.17.0->ipdb) (0.7.5)\n",
            "Collecting prompt-toolkit!=3.0.0,!=3.0.1,<3.1.0,>=2.0.0\n",
            "  Downloading prompt_toolkit-3.0.28-py3-none-any.whl (380 kB)\n",
            "\u001b[K     |████████████████████████████████| 380 kB 70.8 MB/s \n",
            "\u001b[?25hRequirement already satisfied: traitlets>=4.2 in /usr/local/lib/python3.7/dist-packages (from ipython>=7.17.0->ipdb) (5.1.1)\n",
            "Requirement already satisfied: parso<0.9.0,>=0.8.0 in /usr/local/lib/python3.7/dist-packages (from jedi>=0.16->ipython>=7.17.0->ipdb) (0.8.3)\n",
            "Requirement already satisfied: ptyprocess>=0.5 in /usr/local/lib/python3.7/dist-packages (from pexpect>4.3->ipython>=7.17.0->ipdb) (0.7.0)\n",
            "Requirement already satisfied: wcwidth in /usr/local/lib/python3.7/dist-packages (from prompt-toolkit!=3.0.0,!=3.0.1,<3.1.0,>=2.0.0->ipython>=7.17.0->ipdb) (0.2.5)\n",
            "Building wheels for collected packages: ipdb\n",
            "  Building wheel for ipdb (setup.py) ... \u001b[?25l\u001b[?25hdone\n",
            "  Created wheel for ipdb: filename=ipdb-0.13.9-py3-none-any.whl size=11648 sha256=fd9ea4977bb6268944b4964a30ade4a857a3c3e743c601eb58acec0c9fa69641\n",
            "  Stored in directory: /root/.cache/pip/wheels/65/cd/cc/aaf92acae337a28fdd2aa4d632196a59745c8c39f76eaeed01\n",
            "Successfully built ipdb\n",
            "Installing collected packages: prompt-toolkit, toml, ipython, ipdb\n",
            "  Attempting uninstall: prompt-toolkit\n",
            "    Found existing installation: prompt-toolkit 1.0.18\n",
            "    Uninstalling prompt-toolkit-1.0.18:\n",
            "      Successfully uninstalled prompt-toolkit-1.0.18\n",
            "  Attempting uninstall: ipython\n",
            "    Found existing installation: ipython 5.5.0\n",
            "    Uninstalling ipython-5.5.0:\n",
            "      Successfully uninstalled ipython-5.5.0\n",
            "\u001b[31mERROR: pip's dependency resolver does not currently take into account all the packages that are installed. This behaviour is the source of the following dependency conflicts.\n",
            "jupyter-console 5.2.0 requires prompt-toolkit<2.0.0,>=1.0.0, but you have prompt-toolkit 3.0.28 which is incompatible.\n",
            "google-colab 1.0.0 requires ipython~=5.5.0, but you have ipython 7.32.0 which is incompatible.\u001b[0m\n",
            "Successfully installed ipdb-0.13.9 ipython-7.32.0 prompt-toolkit-3.0.28 toml-0.10.2\n"
          ]
        },
        {
          "output_type": "display_data",
          "data": {
            "application/vnd.colab-display-data+json": {
              "pip_warning": {
                "packages": [
                  "IPython",
                  "prompt_toolkit"
                ]
              }
            }
          },
          "metadata": {}
        }
      ]
    },
    {
      "cell_type": "code",
      "source": [
        "!wget https://files.grouplens.org/datasets/movielens/ml-100k.zip"
      ],
      "metadata": {
        "colab": {
          "base_uri": "https://localhost:8080/"
        },
        "id": "dUeRuGPSsBjp",
        "outputId": "f826f36e-de8e-4515-e445-454d3398e756"
      },
      "execution_count": null,
      "outputs": [
        {
          "output_type": "stream",
          "name": "stdout",
          "text": [
            "--2022-03-04 00:41:11--  https://files.grouplens.org/datasets/movielens/ml-100k.zip\n",
            "Resolving files.grouplens.org (files.grouplens.org)... 128.101.65.152\n",
            "Connecting to files.grouplens.org (files.grouplens.org)|128.101.65.152|:443... connected.\n",
            "HTTP request sent, awaiting response... 200 OK\n",
            "Length: 4924029 (4.7M) [application/zip]\n",
            "Saving to: ‘ml-100k.zip.1’\n",
            "\n",
            "ml-100k.zip.1       100%[===================>]   4.70M  17.4MB/s    in 0.3s    \n",
            "\n",
            "2022-03-04 00:41:12 (17.4 MB/s) - ‘ml-100k.zip.1’ saved [4924029/4924029]\n",
            "\n"
          ]
        }
      ]
    },
    {
      "cell_type": "code",
      "source": [
        "!ls"
      ],
      "metadata": {
        "colab": {
          "base_uri": "https://localhost:8080/"
        },
        "id": "vFhuyG-eJmiA",
        "outputId": "72db45bc-11a4-4969-c217-f65872009920"
      },
      "execution_count": null,
      "outputs": [
        {
          "output_type": "stream",
          "name": "stdout",
          "text": [
            "ml-100k.zip  ml-100k.zip.1  sample_data\n"
          ]
        }
      ]
    },
    {
      "cell_type": "code",
      "source": [
        "!unzip ml-100k.zip"
      ],
      "metadata": {
        "colab": {
          "base_uri": "https://localhost:8080/"
        },
        "id": "t_5E9sCORzvC",
        "outputId": "b6993460-3fdd-4c40-b58f-20d2a2d28979"
      },
      "execution_count": null,
      "outputs": [
        {
          "output_type": "stream",
          "name": "stdout",
          "text": [
            "Archive:  ml-100k.zip\n",
            "   creating: ml-100k/\n",
            "  inflating: ml-100k/allbut.pl       \n",
            "  inflating: ml-100k/mku.sh          \n",
            "  inflating: ml-100k/README          \n",
            "  inflating: ml-100k/u.data          \n",
            "  inflating: ml-100k/u.genre         \n",
            "  inflating: ml-100k/u.info          \n",
            "  inflating: ml-100k/u.item          \n",
            "  inflating: ml-100k/u.occupation    \n",
            "  inflating: ml-100k/u.user          \n",
            "  inflating: ml-100k/u1.base         \n",
            "  inflating: ml-100k/u1.test         \n",
            "  inflating: ml-100k/u2.base         \n",
            "  inflating: ml-100k/u2.test         \n",
            "  inflating: ml-100k/u3.base         \n",
            "  inflating: ml-100k/u3.test         \n",
            "  inflating: ml-100k/u4.base         \n",
            "  inflating: ml-100k/u4.test         \n",
            "  inflating: ml-100k/u5.base         \n",
            "  inflating: ml-100k/u5.test         \n",
            "  inflating: ml-100k/ua.base         \n",
            "  inflating: ml-100k/ua.test         \n",
            "  inflating: ml-100k/ub.base         \n",
            "  inflating: ml-100k/ub.test         \n"
          ]
        }
      ]
    },
    {
      "cell_type": "code",
      "source": [
        "from fastai import *\n",
        "from fastai.vision import *\n",
        "from fastai.collab import *\n",
        "from ipdb import set_trace as st"
      ],
      "metadata": {
        "id": "__X9AHZVAJ65"
      },
      "execution_count": 2,
      "outputs": []
    },
    {
      "cell_type": "code",
      "execution_count": null,
      "metadata": {
        "colab": {
          "base_uri": "https://localhost:8080/",
          "height": 206
        },
        "id": "GgCeqEcYoTB1",
        "outputId": "af6492b3-de7f-45c6-bb73-c3047bb80ba6"
      },
      "outputs": [
        {
          "output_type": "display_data",
          "data": {
            "text/html": [
              "<table border=\"1\" class=\"dataframe\">\n",
              "  <thead>\n",
              "    <tr style=\"text-align: right;\">\n",
              "      <th>u_id</th>\n",
              "      <th>m_id</th>\n",
              "      <th>target</th>\n",
              "    </tr>\n",
              "  </thead>\n",
              "  <tbody>\n",
              "    <tr>\n",
              "      <td>753</td>\n",
              "      <td>182</td>\n",
              "      <td>3.0</td>\n",
              "    </tr>\n",
              "    <tr>\n",
              "      <td>663</td>\n",
              "      <td>710</td>\n",
              "      <td>3.0</td>\n",
              "    </tr>\n",
              "    <tr>\n",
              "      <td>291</td>\n",
              "      <td>223</td>\n",
              "      <td>5.0</td>\n",
              "    </tr>\n",
              "    <tr>\n",
              "      <td>758</td>\n",
              "      <td>234</td>\n",
              "      <td>4.0</td>\n",
              "    </tr>\n",
              "    <tr>\n",
              "      <td>196</td>\n",
              "      <td>269</td>\n",
              "      <td>3.0</td>\n",
              "    </tr>\n",
              "  </tbody>\n",
              "</table>"
            ],
            "text/plain": [
              "<IPython.core.display.HTML object>"
            ]
          },
          "metadata": {}
        }
      ],
      "source": [
        "import pandas as pd\n",
        "path = Path('/content/ml-100k')\n",
        "df = pd.read_csv(path/'u.data', header = None, delimiter = '\\t', names = ['u_id', 'm_id', 'rating', 'ts'])\n",
        "data = CollabDataBunch.from_df(df, user_name = 'u_id', item_name = 'm_id', rating_name = 'rating')\n",
        "data.show_batch()"
      ]
    },
    {
      "cell_type": "code",
      "source": [
        "learn = collab_learner(data, n_factors = 40, y_range = [0, 5.5], bn_final = True, wd = 1e-02, metrics = abs_error)\n",
        "learn.lr_find()\n",
        "learn.recorder.plot()"
      ],
      "metadata": {
        "colab": {
          "base_uri": "https://localhost:8080/",
          "height": 375
        },
        "id": "1vGmtBa7MExP",
        "outputId": "a5c1ddc6-97a8-4809-f7ff-df2f28f28305"
      },
      "execution_count": null,
      "outputs": [
        {
          "output_type": "display_data",
          "data": {
            "text/html": [
              "\n",
              "<style>\n",
              "    /* Turns off some styling */\n",
              "    progress {\n",
              "        /* gets rid of default border in Firefox and Opera. */\n",
              "        border: none;\n",
              "        /* Needs to be in here for Safari polyfill so background images work as expected. */\n",
              "        background-size: auto;\n",
              "    }\n",
              "    .progress-bar-interrupted, .progress-bar-interrupted::-webkit-progress-bar {\n",
              "        background: #F44336;\n",
              "    }\n",
              "</style>\n"
            ],
            "text/plain": [
              "<IPython.core.display.HTML object>"
            ]
          },
          "metadata": {}
        },
        {
          "output_type": "display_data",
          "data": {
            "text/html": [
              "\n",
              "    <div>\n",
              "      <progress value='0' class='' max='1' style='width:300px; height:20px; vertical-align: middle;'></progress>\n",
              "      0.00% [0/1 00:00<00:00]\n",
              "    </div>\n",
              "    \n",
              "<table border=\"1\" class=\"dataframe\">\n",
              "  <thead>\n",
              "    <tr style=\"text-align: left;\">\n",
              "      <th>epoch</th>\n",
              "      <th>train_loss</th>\n",
              "      <th>valid_loss</th>\n",
              "      <th>abs_error</th>\n",
              "      <th>time</th>\n",
              "    </tr>\n",
              "  </thead>\n",
              "  <tbody>\n",
              "  </tbody>\n",
              "</table><p>\n",
              "\n",
              "    <div>\n",
              "      <progress value='92' class='' max='1250' style='width:300px; height:20px; vertical-align: middle;'></progress>\n",
              "      7.36% [92/1250 00:00<00:10 2.6150]\n",
              "    </div>\n",
              "    "
            ],
            "text/plain": [
              "<IPython.core.display.HTML object>"
            ]
          },
          "metadata": {}
        },
        {
          "output_type": "stream",
          "name": "stdout",
          "text": [
            "LR Finder is complete, type {learner_name}.recorder.plot() to see the graph.\n"
          ]
        },
        {
          "output_type": "display_data",
          "data": {
            "image/png": "[encoded data removed]",
            "text/plain": [
              "<Figure size 432x288 with 1 Axes>"
            ]
          },
          "metadata": {
            "needs_background": "light"
          }
        }
      ]
    },
    {
      "cell_type": "code",
      "source": [
        "learn.fit_one_cycle(1, 1e-03)"
      ],
      "metadata": {
        "colab": {
          "base_uri": "https://localhost:8080/",
          "height": 81
        },
        "id": "ks3ynKteSefo",
        "outputId": "26d05dae-6f8d-4e1b-9c51-62b11414d897"
      },
      "execution_count": null,
      "outputs": [
        {
          "output_type": "display_data",
          "data": {
            "text/html": [
              "\n",
              "<style>\n",
              "    /* Turns off some styling */\n",
              "    progress {\n",
              "        /* gets rid of default border in Firefox and Opera. */\n",
              "        border: none;\n",
              "        /* Needs to be in here for Safari polyfill so background images work as expected. */\n",
              "        background-size: auto;\n",
              "    }\n",
              "    .progress-bar-interrupted, .progress-bar-interrupted::-webkit-progress-bar {\n",
              "        background: #F44336;\n",
              "    }\n",
              "</style>\n"
            ],
            "text/plain": [
              "<IPython.core.display.HTML object>"
            ]
          },
          "metadata": {}
        },
        {
          "output_type": "display_data",
          "data": {
            "text/html": [
              "<table border=\"1\" class=\"dataframe\">\n",
              "  <thead>\n",
              "    <tr style=\"text-align: left;\">\n",
              "      <th>epoch</th>\n",
              "      <th>train_loss</th>\n",
              "      <th>valid_loss</th>\n",
              "      <th>abs_error</th>\n",
              "      <th>time</th>\n",
              "    </tr>\n",
              "  </thead>\n",
              "  <tbody>\n",
              "    <tr>\n",
              "      <td>0</td>\n",
              "      <td>1.159697</td>\n",
              "      <td>1.148571</td>\n",
              "      <td>0.883734</td>\n",
              "      <td>00:10</td>\n",
              "    </tr>\n",
              "  </tbody>\n",
              "</table>"
            ],
            "text/plain": [
              "<IPython.core.display.HTML object>"
            ]
          },
          "metadata": {}
        }
      ]
    },
    {
      "cell_type": "code",
      "source": [
        "# u, m = max(set(df[\"u_id\"])), max(set(df['m_id']))\n",
        "\n",
        "def abs_error(yhat, y):\n",
        "  yhat, y = yhat.squeeze(), y.squeeze()\n",
        "  return torch.mean(torch.abs(yhat - y))\n",
        "\n",
        "class MyCollab(nn.Module):\n",
        "  def __init__(self, n_factors, y_range):\n",
        "    super().__init__()\n",
        "    nu, ni = u + 1, m + 1\n",
        "    self.u, self.u_b, self.i, self.i_b = [nn.Embedding(i, j) for i, j in [(nu, n_factors), (nu, 1), (ni, n_factors), (ni, 1)]]\n",
        "    self.y_range = y_range\n",
        "\n",
        "  def rangify(self, yhat):\n",
        "    yhat = torch.sigmoid(yhat)\n",
        "    # print('d, ', yhat.shape)\n",
        "    res = (yhat * (self.y_range[1] - self.y_range[0])) + self.y_range[0]\n",
        "    # print('e, ', res.shape)\n",
        "    return res\n",
        "\n",
        "  def forward(self, ud, id):\n",
        "    # print('a, ', ud.shape, id.shape, max(ud), max(id))\n",
        "    yhat = torch.sum(self.u(ud) * self.i(id), 1)\n",
        "    # print('b, ', yhat.shape)\n",
        "    yhat += self.u_b(ud).squeeze(1) + self.i_b(id).squeeze(1)\n",
        "    # print('c, ' , yhat.shape)\n",
        "    return self.rangify(yhat)\n"
      ],
      "metadata": {
        "id": "bRgX6DEmVo6W"
      },
      "execution_count": 3,
      "outputs": []
    },
    {
      "cell_type": "code",
      "source": [
        "x, y = next(iter(data.valid_dl))"
      ],
      "metadata": {
        "id": "LeMM9jwfdvIC"
      },
      "execution_count": null,
      "outputs": []
    },
    {
      "cell_type": "code",
      "source": [
        "collab = MyCollab(40, [0, 5.5]).cuda()\n",
        "my_learner = CollabLearner(data, collab, metrics = abs_error, wd = 1e-01)"
      ],
      "metadata": {
        "id": "kRAi7feyk8dZ"
      },
      "execution_count": null,
      "outputs": []
    },
    {
      "cell_type": "code",
      "source": [
        "my_learner.lr_find()\n",
        "my_learner.recorder.plot()"
      ],
      "metadata": {
        "colab": {
          "base_uri": "https://localhost:8080/",
          "height": 375
        },
        "id": "-CwQeyAtliMS",
        "outputId": "78994d7f-1dcf-4c0b-ab34-b39de85a12be"
      },
      "execution_count": null,
      "outputs": [
        {
          "output_type": "display_data",
          "data": {
            "text/html": [
              "\n",
              "<style>\n",
              "    /* Turns off some styling */\n",
              "    progress {\n",
              "        /* gets rid of default border in Firefox and Opera. */\n",
              "        border: none;\n",
              "        /* Needs to be in here for Safari polyfill so background images work as expected. */\n",
              "        background-size: auto;\n",
              "    }\n",
              "    .progress-bar-interrupted, .progress-bar-interrupted::-webkit-progress-bar {\n",
              "        background: #F44336;\n",
              "    }\n",
              "</style>\n"
            ],
            "text/plain": [
              "<IPython.core.display.HTML object>"
            ]
          },
          "metadata": {}
        },
        {
          "output_type": "display_data",
          "data": {
            "text/html": [
              "\n",
              "    <div>\n",
              "      <progress value='0' class='' max='1' style='width:300px; height:20px; vertical-align: middle;'></progress>\n",
              "      0.00% [0/1 00:00<00:00]\n",
              "    </div>\n",
              "    \n",
              "<table border=\"1\" class=\"dataframe\">\n",
              "  <thead>\n",
              "    <tr style=\"text-align: left;\">\n",
              "      <th>epoch</th>\n",
              "      <th>train_loss</th>\n",
              "      <th>valid_loss</th>\n",
              "      <th>abs_error</th>\n",
              "      <th>time</th>\n",
              "    </tr>\n",
              "  </thead>\n",
              "  <tbody>\n",
              "  </tbody>\n",
              "</table><p>\n",
              "\n",
              "    <div>\n",
              "      <progress value='79' class='' max='1250' style='width:300px; height:20px; vertical-align: middle;'></progress>\n",
              "      6.32% [79/1250 00:00<00:09 7.7404]\n",
              "    </div>\n",
              "    "
            ],
            "text/plain": [
              "<IPython.core.display.HTML object>"
            ]
          },
          "metadata": {}
        },
        {
          "output_type": "stream",
          "name": "stdout",
          "text": [
            "LR Finder is complete, type {learner_name}.recorder.plot() to see the graph.\n"
          ]
        },
        {
          "output_type": "display_data",
          "data": {
            "image/png": "[encoded data removed]",
            "text/plain": [
              "<Figure size 432x288 with 1 Axes>"
            ]
          },
          "metadata": {
            "needs_background": "light"
          }
        }
      ]
    },
    {
      "cell_type": "code",
      "source": [
        "my_learner.save('st_1')"
      ],
      "metadata": {
        "id": "e2RaK4vElkBs"
      },
      "execution_count": null,
      "outputs": []
    },
    {
      "cell_type": "code",
      "source": [
        "my_learner.load('st_1')\n",
        "my_learner.fit(3, lr = 1e-02)"
      ],
      "metadata": {
        "colab": {
          "base_uri": "https://localhost:8080/",
          "height": 143
        },
        "id": "n2MrHg3WrA2q",
        "outputId": "4a7b664e-08e5-4e78-841f-87c6f8e1549d"
      },
      "execution_count": null,
      "outputs": [
        {
          "output_type": "display_data",
          "data": {
            "text/html": [
              "\n",
              "<style>\n",
              "    /* Turns off some styling */\n",
              "    progress {\n",
              "        /* gets rid of default border in Firefox and Opera. */\n",
              "        border: none;\n",
              "        /* Needs to be in here for Safari polyfill so background images work as expected. */\n",
              "        background-size: auto;\n",
              "    }\n",
              "    .progress-bar-interrupted, .progress-bar-interrupted::-webkit-progress-bar {\n",
              "        background: #F44336;\n",
              "    }\n",
              "</style>\n"
            ],
            "text/plain": [
              "<IPython.core.display.HTML object>"
            ]
          },
          "metadata": {}
        },
        {
          "output_type": "display_data",
          "data": {
            "text/html": [
              "<table border=\"1\" class=\"dataframe\">\n",
              "  <thead>\n",
              "    <tr style=\"text-align: left;\">\n",
              "      <th>epoch</th>\n",
              "      <th>train_loss</th>\n",
              "      <th>valid_loss</th>\n",
              "      <th>abs_error</th>\n",
              "      <th>time</th>\n",
              "    </tr>\n",
              "  </thead>\n",
              "  <tbody>\n",
              "    <tr>\n",
              "      <td>0</td>\n",
              "      <td>1.109462</td>\n",
              "      <td>1.110967</td>\n",
              "      <td>0.838212</td>\n",
              "      <td>00:08</td>\n",
              "    </tr>\n",
              "    <tr>\n",
              "      <td>1</td>\n",
              "      <td>0.881006</td>\n",
              "      <td>0.917615</td>\n",
              "      <td>0.764070</td>\n",
              "      <td>00:08</td>\n",
              "    </tr>\n",
              "    <tr>\n",
              "      <td>2</td>\n",
              "      <td>0.821404</td>\n",
              "      <td>0.915065</td>\n",
              "      <td>0.762085</td>\n",
              "      <td>00:08</td>\n",
              "    </tr>\n",
              "  </tbody>\n",
              "</table>"
            ],
            "text/plain": [
              "<IPython.core.display.HTML object>"
            ]
          },
          "metadata": {}
        }
      ]
    },
    {
      "cell_type": "code",
      "source": [
        "my_learner.recorder.plot_losses()"
      ],
      "metadata": {
        "colab": {
          "base_uri": "https://localhost:8080/",
          "height": 279
        },
        "id": "5QdJnPkCtYq8",
        "outputId": "0208a799-533c-40fd-f02b-473dfea8dd9d"
      },
      "execution_count": null,
      "outputs": [
        {
          "output_type": "display_data",
          "data": {
            "image/png": "[encoded data removed]",
            "text/plain": [
              "<Figure size 432x288 with 1 Axes>"
            ]
          },
          "metadata": {
            "needs_background": "light"
          }
        }
      ]
    },
    {
      "cell_type": "code",
      "source": [
        "my_learner.lr_find()\n",
        "my_learner.recorder.plot()"
      ],
      "metadata": {
        "colab": {
          "base_uri": "https://localhost:8080/",
          "height": 375
        },
        "id": "74ut6kdxte_h",
        "outputId": "5349ea3c-d9b5-48f5-ca6b-32682ca9f61e"
      },
      "execution_count": null,
      "outputs": [
        {
          "output_type": "display_data",
          "data": {
            "text/html": [
              "\n",
              "<style>\n",
              "    /* Turns off some styling */\n",
              "    progress {\n",
              "        /* gets rid of default border in Firefox and Opera. */\n",
              "        border: none;\n",
              "        /* Needs to be in here for Safari polyfill so background images work as expected. */\n",
              "        background-size: auto;\n",
              "    }\n",
              "    .progress-bar-interrupted, .progress-bar-interrupted::-webkit-progress-bar {\n",
              "        background: #F44336;\n",
              "    }\n",
              "</style>\n"
            ],
            "text/plain": [
              "<IPython.core.display.HTML object>"
            ]
          },
          "metadata": {}
        },
        {
          "output_type": "display_data",
          "data": {
            "text/html": [
              "\n",
              "    <div>\n",
              "      <progress value='0' class='' max='1' style='width:300px; height:20px; vertical-align: middle;'></progress>\n",
              "      0.00% [0/1 00:00<00:00]\n",
              "    </div>\n",
              "    \n",
              "<table border=\"1\" class=\"dataframe\">\n",
              "  <thead>\n",
              "    <tr style=\"text-align: left;\">\n",
              "      <th>epoch</th>\n",
              "      <th>train_loss</th>\n",
              "      <th>valid_loss</th>\n",
              "      <th>abs_error</th>\n",
              "      <th>time</th>\n",
              "    </tr>\n",
              "  </thead>\n",
              "  <tbody>\n",
              "  </tbody>\n",
              "</table><p>\n",
              "\n",
              "    <div>\n",
              "      <progress value='79' class='' max='1250' style='width:300px; height:20px; vertical-align: middle;'></progress>\n",
              "      6.32% [79/1250 00:00<00:10 0.6082]\n",
              "    </div>\n",
              "    "
            ],
            "text/plain": [
              "<IPython.core.display.HTML object>"
            ]
          },
          "metadata": {}
        },
        {
          "output_type": "stream",
          "name": "stdout",
          "text": [
            "LR Finder is complete, type {learner_name}.recorder.plot() to see the graph.\n"
          ]
        },
        {
          "output_type": "display_data",
          "data": {
            "image/png": "[encoded data removed]",
            "text/plain": [
              "<Figure size 432x288 with 1 Axes>"
            ]
          },
          "metadata": {
            "needs_background": "light"
          }
        }
      ]
    },
    {
      "cell_type": "code",
      "source": [
        "my_learner.save('st_2')"
      ],
      "metadata": {
        "id": "IDc5UYJXtaaE"
      },
      "execution_count": null,
      "outputs": []
    },
    {
      "cell_type": "code",
      "source": [
        "my_learner.load('st_2')\n",
        "my_learner.fit(3, lr = 1e-03  )"
      ],
      "metadata": {
        "colab": {
          "base_uri": "https://localhost:8080/",
          "height": 143
        },
        "id": "hNtt5Z3FtpD9",
        "outputId": "5518e81e-c58a-4a55-f914-1ead001a3496"
      },
      "execution_count": null,
      "outputs": [
        {
          "output_type": "display_data",
          "data": {
            "text/html": [
              "\n",
              "<style>\n",
              "    /* Turns off some styling */\n",
              "    progress {\n",
              "        /* gets rid of default border in Firefox and Opera. */\n",
              "        border: none;\n",
              "        /* Needs to be in here for Safari polyfill so background images work as expected. */\n",
              "        background-size: auto;\n",
              "    }\n",
              "    .progress-bar-interrupted, .progress-bar-interrupted::-webkit-progress-bar {\n",
              "        background: #F44336;\n",
              "    }\n",
              "</style>\n"
            ],
            "text/plain": [
              "<IPython.core.display.HTML object>"
            ]
          },
          "metadata": {}
        },
        {
          "output_type": "display_data",
          "data": {
            "text/html": [
              "<table border=\"1\" class=\"dataframe\">\n",
              "  <thead>\n",
              "    <tr style=\"text-align: left;\">\n",
              "      <th>epoch</th>\n",
              "      <th>train_loss</th>\n",
              "      <th>valid_loss</th>\n",
              "      <th>abs_error</th>\n",
              "      <th>time</th>\n",
              "    </tr>\n",
              "  </thead>\n",
              "  <tbody>\n",
              "    <tr>\n",
              "      <td>0</td>\n",
              "      <td>0.550358</td>\n",
              "      <td>0.872527</td>\n",
              "      <td>0.744443</td>\n",
              "      <td>00:08</td>\n",
              "    </tr>\n",
              "    <tr>\n",
              "      <td>1</td>\n",
              "      <td>0.515207</td>\n",
              "      <td>0.863807</td>\n",
              "      <td>0.740663</td>\n",
              "      <td>00:09</td>\n",
              "    </tr>\n",
              "    <tr>\n",
              "      <td>2</td>\n",
              "      <td>0.475786</td>\n",
              "      <td>0.863827</td>\n",
              "      <td>0.740246</td>\n",
              "      <td>00:08</td>\n",
              "    </tr>\n",
              "  </tbody>\n",
              "</table>"
            ],
            "text/plain": [
              "<IPython.core.display.HTML object>"
            ]
          },
          "metadata": {}
        }
      ]
    },
    {
      "cell_type": "code",
      "source": [
        "my_learner.recorder.plot_losses()"
      ],
      "metadata": {
        "colab": {
          "base_uri": "https://localhost:8080/",
          "height": 279
        },
        "id": "I221od4jtujE",
        "outputId": "e1a8446d-3a85-48e4-f9d8-7daf10bd4ab7"
      },
      "execution_count": null,
      "outputs": [
        {
          "output_type": "display_data",
          "data": {
            "image/png": "[encoded data removed]",
            "text/plain": [
              "<Figure size 432x288 with 1 Axes>"
            ]
          },
          "metadata": {
            "needs_background": "light"
          }
        }
      ]
    },
    {
      "cell_type": "code",
      "source": [
        "emb = nn.Embedding(20, 10)"
      ],
      "metadata": {
        "id": "oAbrQJhnv69K"
      },
      "execution_count": null,
      "outputs": []
    },
    {
      "cell_type": "code",
      "source": [
        "for i in emb.parameters():\n",
        "  w = i\n",
        "w.shape"
      ],
      "metadata": {
        "colab": {
          "base_uri": "https://localhost:8080/"
        },
        "id": "6lcakN7Q4TKK",
        "outputId": "2969471a-8395-4469-f6dd-0dd5af67ed41"
      },
      "execution_count": null,
      "outputs": [
        {
          "output_type": "execute_result",
          "data": {
            "text/plain": [
              "torch.Size([20, 10])"
            ]
          },
          "metadata": {},
          "execution_count": 70
        }
      ]
    },
    {
      "cell_type": "code",
      "source": [
        "torch.mean(w[0]), torch.mean(w), torch.std(w[0]), torch.std(w)"
      ],
      "metadata": {
        "colab": {
          "base_uri": "https://localhost:8080/"
        },
        "id": "n_OYf7lV4WER",
        "outputId": "a4065948-26bc-4ceb-fd52-b033b43f2f26"
      },
      "execution_count": null,
      "outputs": [
        {
          "output_type": "execute_result",
          "data": {
            "text/plain": [
              "(tensor(-0.4227, grad_fn=<MeanBackward0>),\n",
              " tensor(-0.0238, grad_fn=<MeanBackward0>),\n",
              " tensor(0.3475, grad_fn=<StdBackward0>),\n",
              " tensor(0.8944, grad_fn=<StdBackward0>))"
            ]
          },
          "metadata": {},
          "execution_count": 72
        }
      ]
    },
    {
      "cell_type": "code",
      "source": [
        "torch.max(w), torch.min(w)"
      ],
      "metadata": {
        "colab": {
          "base_uri": "https://localhost:8080/"
        },
        "id": "_ISZjOIF4uJv",
        "outputId": "83030a7e-4a37-4dd6-ed5a-4dcb9ce42d28"
      },
      "execution_count": null,
      "outputs": [
        {
          "output_type": "execute_result",
          "data": {
            "text/plain": [
              "(tensor(2.4258, grad_fn=<MaxBackward1>),\n",
              " tensor(-2.8512, grad_fn=<MinBackward1>))"
            ]
          },
          "metadata": {},
          "execution_count": 76
        }
      ]
    },
    {
      "cell_type": "code",
      "source": [
        "with torch.no_grad():\n",
        "  st()\n",
        "  emb.weight.normal_()"
      ],
      "metadata": {
        "id": "g-O4bo2645Yh"
      },
      "execution_count": null,
      "outputs": []
    },
    {
      "cell_type": "code",
      "source": [
        "from fastai.datasets import untar_data\n",
        "path = untar_data(URLs.MNIST)\n",
        "path.ls()"
      ],
      "metadata": {
        "id": "y3CngddK85A9",
        "colab": {
          "base_uri": "https://localhost:8080/",
          "height": 70
        },
        "outputId": "30011931-51f7-4129-884d-d4db06a880f5"
      },
      "execution_count": 3,
      "outputs": [
        {
          "output_type": "stream",
          "name": "stdout",
          "text": [
            "Downloading https://s3.amazonaws.com/fast-ai-imageclas/mnist_png.tgz\n"
          ]
        },
        {
          "output_type": "display_data",
          "data": {
            "text/html": [
              "\n",
              "<style>\n",
              "    /* Turns off some styling */\n",
              "    progress {\n",
              "        /* gets rid of default border in Firefox and Opera. */\n",
              "        border: none;\n",
              "        /* Needs to be in here for Safari polyfill so background images work as expected. */\n",
              "        background-size: auto;\n",
              "    }\n",
              "    .progress-bar-interrupted, .progress-bar-interrupted::-webkit-progress-bar {\n",
              "        background: #F44336;\n",
              "    }\n",
              "</style>\n"
            ],
            "text/plain": [
              "<IPython.core.display.HTML object>"
            ]
          },
          "metadata": {}
        },
        {
          "output_type": "display_data",
          "data": {
            "text/html": [
              ""
            ],
            "text/plain": [
              "<IPython.core.display.HTML object>"
            ]
          },
          "metadata": {}
        },
        {
          "output_type": "execute_result",
          "data": {
            "text/plain": [
              "[PosixPath('/root/.fastai/data/mnist_png/training'),\n",
              " PosixPath('/root/.fastai/data/mnist_png/testing')]"
            ]
          },
          "metadata": {},
          "execution_count": 3
        }
      ]
    },
    {
      "cell_type": "code",
      "source": [
        "(path/'training').ls()"
      ],
      "metadata": {
        "colab": {
          "base_uri": "https://localhost:8080/"
        },
        "id": "9LKwHDnUcQyN",
        "outputId": "c6c3e7ce-c244-42f1-a70c-a2fc2c678c69"
      },
      "execution_count": 4,
      "outputs": [
        {
          "output_type": "execute_result",
          "data": {
            "text/plain": [
              "[PosixPath('/root/.fastai/data/mnist_png/training/2'),\n",
              " PosixPath('/root/.fastai/data/mnist_png/training/4'),\n",
              " PosixPath('/root/.fastai/data/mnist_png/training/6'),\n",
              " PosixPath('/root/.fastai/data/mnist_png/training/3'),\n",
              " PosixPath('/root/.fastai/data/mnist_png/training/1'),\n",
              " PosixPath('/root/.fastai/data/mnist_png/training/0'),\n",
              " PosixPath('/root/.fastai/data/mnist_png/training/8'),\n",
              " PosixPath('/root/.fastai/data/mnist_png/training/9'),\n",
              " PosixPath('/root/.fastai/data/mnist_png/training/5'),\n",
              " PosixPath('/root/.fastai/data/mnist_png/training/7')]"
            ]
          },
          "metadata": {},
          "execution_count": 4
        }
      ]
    },
    {
      "cell_type": "code",
      "source": [
        "#test\n",
        "from fastai.vision.image import open_image\n",
        "img = open_image((path/'training'/'1').ls()[10])\n",
        "img.data.reshape(2352).shape"
      ],
      "metadata": {
        "colab": {
          "base_uri": "https://localhost:8080/"
        },
        "id": "g23ES9XAdTF4",
        "outputId": "d8fafbaa-c297-4fa0-c085-615cbe3b1135"
      },
      "execution_count": 6,
      "outputs": [
        {
          "output_type": "execute_result",
          "data": {
            "text/plain": [
              "torch.Size([2352])"
            ]
          },
          "metadata": {},
          "execution_count": 6
        }
      ]
    },
    {
      "cell_type": "code",
      "source": [
        "import random\n",
        "valid_index = random.sample(range(60000), 12000)\n",
        "\n",
        "x, y = [], []\n",
        "\n",
        "for i in (path/'training').ls():\n",
        "  for j in (path/'training'/i).ls():\n",
        "    x.append(open_image((path/'training'/i/j)).data.reshape(2352))\n",
        "    y.append(torch.tensor(int(i.name)))\n",
        "\n",
        "x_train, y_train, x_valid, y_valid = [], [], [], []\n",
        "\n",
        "for i in range(60000):  \n",
        "  if (i in valid_index):\n",
        "    x_valid.append(x[i])\n",
        "    y_valid.append(y[i])\n",
        "  else:\n",
        "    x_train.append(x[i])\n",
        "    y_train.append(y[i])\n",
        "\n",
        "x_train = torch.stack(x_train)\n",
        "x_valid = torch.stack(x_valid)\n",
        "y_train = torch.stack(y_train)\n",
        "y_valid = torch.stack(y_valid)"
      ],
      "metadata": {
        "id": "arJib28ndnqo"
      },
      "execution_count": 5,
      "outputs": []
    },
    {
      "cell_type": "code",
      "source": [
        "y_train.shape"
      ],
      "metadata": {
        "colab": {
          "base_uri": "https://localhost:8080/"
        },
        "id": "OUqlxXTchz4a",
        "outputId": "3d83861f-7afd-4b8e-9dec-1f8e66837a4d"
      },
      "execution_count": 8,
      "outputs": [
        {
          "output_type": "execute_result",
          "data": {
            "text/plain": [
              "torch.Size([48000])"
            ]
          },
          "metadata": {},
          "execution_count": 8
        }
      ]
    },
    {
      "cell_type": "code",
      "source": [
        "train_ds = TensorDataset(x_train, y_train)\n",
        "valid_ds = TensorDataset(x_valid, y_valid)"
      ],
      "metadata": {
        "id": "OD98LEQWAm5g"
      },
      "execution_count": 6,
      "outputs": []
    },
    {
      "cell_type": "code",
      "source": [
        "from fastai.basic_data import DataBunch\n",
        "data = DataBunch.create(train_ds = train_ds, valid_ds = valid_ds)"
      ],
      "metadata": {
        "id": "Q_5xvN2yA4Cd"
      },
      "execution_count": 7,
      "outputs": []
    },
    {
      "cell_type": "code",
      "source": [
        "x, y = next(iter(data.train_dl))"
      ],
      "metadata": {
        "id": "UR4kobyuBCkT"
      },
      "execution_count": 24,
      "outputs": []
    },
    {
      "cell_type": "code",
      "source": [
        "x.shape, y.shape"
      ],
      "metadata": {
        "colab": {
          "base_uri": "https://localhost:8080/"
        },
        "id": "trWXdtzyBOCw",
        "outputId": "90b642b9-6953-468c-ce2c-5ece95a8c6bc"
      },
      "execution_count": 11,
      "outputs": [
        {
          "output_type": "execute_result",
          "data": {
            "text/plain": [
              "(torch.Size([64, 2352]), torch.Size([64]))"
            ]
          },
          "metadata": {},
          "execution_count": 11
        }
      ]
    },
    {
      "cell_type": "code",
      "source": [
        "lin = nn.Linear(in_features = 2352, out_features = 10).cuda()"
      ],
      "metadata": {
        "id": "Hj88ivJVBc8N"
      },
      "execution_count": 12,
      "outputs": []
    },
    {
      "cell_type": "code",
      "source": [
        "yhat = lin(x)"
      ],
      "metadata": {
        "id": "0TPMUUoHBrcG"
      },
      "execution_count": 26,
      "outputs": []
    },
    {
      "cell_type": "code",
      "source": [
        "for i in lin.parameters():\n",
        "  print(i.dtype)"
      ],
      "metadata": {
        "colab": {
          "base_uri": "https://localhost:8080/"
        },
        "id": "X-xML0pDCEyk",
        "outputId": "b151e510-fa62-45f8-b508-0b9b9324e865"
      },
      "execution_count": 14,
      "outputs": [
        {
          "output_type": "stream",
          "name": "stdout",
          "text": [
            "torch.float32\n",
            "torch.float32\n"
          ]
        }
      ]
    },
    {
      "cell_type": "code",
      "source": [
        "loss_func = nn.CrossEntropyLoss()\n",
        "loss_func(yhat, y)"
      ],
      "metadata": {
        "colab": {
          "base_uri": "https://localhost:8080/"
        },
        "id": "3raaKd5JBtKv",
        "outputId": "61a05f56-35e0-4e7e-a1a7-856469dd23a3"
      },
      "execution_count": 27,
      "outputs": [
        {
          "output_type": "execute_result",
          "data": {
            "text/plain": [
              "tensor(0.2523, device='cuda:0', grad_fn=<NllLossBackward0>)"
            ]
          },
          "metadata": {},
          "execution_count": 27
        }
      ]
    },
    {
      "cell_type": "code",
      "source": [
        "from torch.nn.parameter import Parameter\n",
        "class Linear(nn.Module):\n",
        "  def __init__(self, n_in, n_out):\n",
        "    super().__init__()\n",
        "    self.w = Parameter(torch.rand(n_in, n_out, dtype = torch.float32, device = 'cuda').uniform_(-torch.sqrt(torch.tensor(1/n_in)), torch.sqrt(torch.tensor(1/n_in))))\n",
        "    # self.bias = Parameter(torch.rand(n_out, 1, dtype = torch.float32, device = 'cuda').squeeze().uniform_(torch.tensor(1/n_in), torch.tensor(1/n_in)))\n",
        "    self.bias = Parameter(torch.zeros(n_out))\n",
        "    self.relu = nn.ReLU()\n",
        "  \n",
        "  def forward(self, x):\n",
        "    return self.relu(torch.matmul(x, self.w) + self.bias)"
      ],
      "metadata": {
        "id": "OtdpLvyrCWva"
      },
      "execution_count": 8,
      "outputs": []
    },
    {
      "cell_type": "code",
      "source": [
        "yhat = lin(x)"
      ],
      "metadata": {
        "id": "6hXsx5H8GU39"
      },
      "execution_count": 18,
      "outputs": []
    },
    {
      "cell_type": "code",
      "source": [
        "lin = Linear(2352, 10).cuda()\n",
        "\n",
        "def update(lr = 1e-01, model = lin):\n",
        "  c = 0\n",
        "  for x, y in iter(data.train_dl):\n",
        "    # st()\n",
        "    yhat = model(x)\n",
        "    loss = loss_func(yhat, y)\n",
        "    if (c % 50 == 0):\n",
        "      print(loss.item())\n",
        "    loss.backward()\n",
        "    c += 1\n",
        "    with torch.no_grad():\n",
        "      for param in model.parameters():\n",
        "        param.sub_(lr*param.grad)\n",
        "        param.grad.zero_()"
      ],
      "metadata": {
        "id": "xo0vL4WzI5C9"
      },
      "execution_count": 14,
      "outputs": []
    },
    {
      "cell_type": "code",
      "source": [
        "update()"
      ],
      "metadata": {
        "colab": {
          "base_uri": "https://localhost:8080/"
        },
        "id": "mYMqc08UJcvL",
        "outputId": "8203d7a6-27db-4268-b39b-8541c1ed2805"
      },
      "execution_count": 15,
      "outputs": [
        {
          "output_type": "stream",
          "name": "stdout",
          "text": [
            "2.2999324798583984\n",
            "0.4516780376434326\n",
            "0.3547632694244385\n",
            "0.37521976232528687\n",
            "0.473797470331192\n",
            "0.2618030309677124\n",
            "0.3647060990333557\n",
            "0.2833253741264343\n",
            "0.4686231017112732\n",
            "0.35707104206085205\n",
            "0.36474764347076416\n",
            "0.47151869535446167\n",
            "0.25000759959220886\n",
            "0.21950891613960266\n",
            "0.5717940926551819\n"
          ]
        }
      ]
    },
    {
      "cell_type": "code",
      "source": [
        "vx, vy = next(iter(data.valid_dl))\n",
        "vyhat = lin(vx)"
      ],
      "metadata": {
        "id": "4xqCCrqbKi-_"
      },
      "execution_count": 16,
      "outputs": []
    },
    {
      "cell_type": "code",
      "source": [
        "loss_func(vyhat, vy)"
      ],
      "metadata": {
        "colab": {
          "base_uri": "https://localhost:8080/"
        },
        "id": "Ly1KIAdnKtCW",
        "outputId": "0765d618-4d03-49f5-de04-9eee38b07f3e"
      },
      "execution_count": 17,
      "outputs": [
        {
          "output_type": "execute_result",
          "data": {
            "text/plain": [
              "tensor(0.4210, device='cuda:0', grad_fn=<NllLossBackward0>)"
            ]
          },
          "metadata": {},
          "execution_count": 17
        }
      ]
    },
    {
      "cell_type": "code",
      "source": [
        "temp = vyhat.argmax(1)\n",
        "temp, vy"
      ],
      "metadata": {
        "colab": {
          "base_uri": "https://localhost:8080/"
        },
        "id": "Vv8dHqbMKzlv",
        "outputId": "a68f6d51-b09f-46ea-9321-2dd9d28d726e"
      },
      "execution_count": 18,
      "outputs": [
        {
          "output_type": "execute_result",
          "data": {
            "text/plain": [
              "(tensor([2, 2, 2, 2, 2, 2, 2, 2, 2, 2, 2, 2, 2, 2, 2, 8, 2, 2, 2, 2, 2, 2, 2, 2,\n",
              "         2, 2, 8, 2, 5, 2, 2, 2, 2, 2, 3, 2, 2, 2, 8, 2, 2, 2, 2, 2, 2, 2, 2, 2,\n",
              "         2, 2, 2, 2, 2, 2, 2, 2, 2, 2, 2, 2, 3, 2, 2, 2], device='cuda:0'),\n",
              " tensor([2, 2, 2, 2, 2, 2, 2, 2, 2, 2, 2, 2, 2, 2, 2, 2, 2, 2, 2, 2, 2, 2, 2, 2,\n",
              "         2, 2, 2, 2, 2, 2, 2, 2, 2, 2, 2, 2, 2, 2, 2, 2, 2, 2, 2, 2, 2, 2, 2, 2,\n",
              "         2, 2, 2, 2, 2, 2, 2, 2, 2, 2, 2, 2, 2, 2, 2, 2], device='cuda:0'))"
            ]
          },
          "metadata": {},
          "execution_count": 18
        }
      ]
    },
    {
      "cell_type": "code",
      "source": [
        "def accuracy(yhat, y):\n",
        "  return 100 * torch.sum(yhat.argmax(1) == y)/len(y)"
      ],
      "metadata": {
        "id": "ZtXtnM3zLE3T"
      },
      "execution_count": 19,
      "outputs": []
    },
    {
      "cell_type": "code",
      "source": [
        "losses = []\n",
        "accs = []\n",
        "for vx, vy in iter(data.valid_dl):\n",
        "  vyhat = lin(vx)\n",
        "  losses.append(loss_func(vyhat, vy))\n",
        "  accs.append(accuracy(vyhat, vy))\n",
        "\n",
        "torch.mean(torch.stack(losses)), torch.mean(torch.stack(accs))"
      ],
      "metadata": {
        "colab": {
          "base_uri": "https://localhost:8080/"
        },
        "id": "Wup1915CNE59",
        "outputId": "ca4bd729-8b7e-4590-ada9-ca05eb702058"
      },
      "execution_count": 20,
      "outputs": [
        {
          "output_type": "execute_result",
          "data": {
            "text/plain": [
              "(tensor(0.3303, device='cuda:0', grad_fn=<MeanBackward0>),\n",
              " tensor(90.6250, device='cuda:0'))"
            ]
          },
          "metadata": {},
          "execution_count": 20
        }
      ]
    },
    {
      "cell_type": "code",
      "source": [
        "class NormalLinear(nn.Module):\n",
        "  def __init__(self, n_in, n_out):\n",
        "    super().__init__()\n",
        "    self.w = Parameter(torch.rand(n_in, n_out, dtype = torch.float32, device = 'cuda').normal_(0, torch.sqrt(torch.tensor(1/n_in))))\n",
        "    # self.bias = Parameter(torch.rand(n_out, 1, dtype = torch.float32, device = 'cuda').squeeze().uniform_(torch.tensor(1/n_in), torch.tensor(1/n_in)))\n",
        "    self.bias = Parameter(torch.zeros(n_out))\n",
        "    self.relu = nn.ReLU()\n",
        "  \n",
        "  def forward(self, x):\n",
        "    return self.relu(torch.matmul(x, self.w) + self.bias)"
      ],
      "metadata": {
        "id": "RyJVTkh-7Kf4"
      },
      "execution_count": 22,
      "outputs": []
    },
    {
      "cell_type": "code",
      "source": [
        "class NewLearner(nn.Module):\n",
        "  def __init__(self, layers = []):\n",
        "    super().__init__()\n",
        "    self.layers = layers\n",
        "    ws = [nn.Linear(layers[i], layers[i+1]) for i in range(len(layers) - 1)]\n",
        "    self.ws = nn.Sequential(*ws)\n",
        "  \n",
        "  def forward(self, x):\n",
        "    return self.ws(x)\n",
        "\n",
        "my_model = MyLearner(layers = [2352, 100, 10]).cuda()\n",
        "yhat = my_model(x)\n",
        "loss_func(yhat, y)"
      ],
      "metadata": {
        "colab": {
          "base_uri": "https://localhost:8080/"
        },
        "id": "TgVggWt8NHhB",
        "outputId": "5477f358-0200-4271-d961-53358a905ac0"
      },
      "execution_count": 30,
      "outputs": [
        {
          "output_type": "execute_result",
          "data": {
            "text/plain": [
              "tensor(2.3254, device='cuda:0', grad_fn=<NllLossBackward0>)"
            ]
          },
          "metadata": {},
          "execution_count": 30
        }
      ]
    },
    {
      "cell_type": "code",
      "source": [
        "class MyLearner(nn.Module):\n",
        "  def __init__(self, layers = []):\n",
        "    super().__init__()\n",
        "    self.layers = layers\n",
        "    ws = [Linear(layers[i], layers[i+1]) for i in range(len(layers) - 1)]\n",
        "    self.ws = nn.Sequential(*ws)\n",
        "  \n",
        "  def forward(self, x):\n",
        "    return self.ws(x)\n",
        "  \n",
        "new_learner = NewLearner(layers = [2352, 100, 10]).cuda()\n",
        "yhat = new_learner(x)\n",
        "loss_func(yhat, y)"
      ],
      "metadata": {
        "colab": {
          "base_uri": "https://localhost:8080/"
        },
        "id": "1fe675qnp7B9",
        "outputId": "9f646452-1f37-4b44-badf-92b6a3f26468"
      },
      "execution_count": 31,
      "outputs": [
        {
          "output_type": "execute_result",
          "data": {
            "text/plain": [
              "tensor(2.3015, device='cuda:0', grad_fn=<NllLossBackward0>)"
            ]
          },
          "metadata": {},
          "execution_count": 31
        }
      ]
    },
    {
      "cell_type": "code",
      "source": [
        "class NormalLearner(nn.Module):\n",
        "  def __init__(self, layers = []):\n",
        "    super().__init__()\n",
        "    self.layers = layers\n",
        "    ws = [NormalLinear(layers[i], layers[i+1]) for i in range(len(layers) - 1)]\n",
        "    self.ws = nn.Sequential(*ws)\n",
        "  \n",
        "  def forward(self, x):\n",
        "    return self.ws(x)\n",
        "  \n",
        "new_learner = NewLearner(layers = [2352, 100, 10]).cuda()\n",
        "yhat = new_learner(x)\n",
        "loss_func(yhat, y)"
      ],
      "metadata": {
        "colab": {
          "base_uri": "https://localhost:8080/"
        },
        "id": "5B2nIeL-7Yuy",
        "outputId": "32db2351-ffde-482b-ad5a-ca1d77853526"
      },
      "execution_count": 32,
      "outputs": [
        {
          "output_type": "execute_result",
          "data": {
            "text/plain": [
              "tensor(2.2893, device='cuda:0', grad_fn=<NllLossBackward0>)"
            ]
          },
          "metadata": {},
          "execution_count": 32
        }
      ]
    },
    {
      "cell_type": "code",
      "source": [
        "model = MyLearner(layers = [2352, 100, 10]).cuda()\n",
        "update(lr = 1e-01, model = model)"
      ],
      "metadata": {
        "colab": {
          "base_uri": "https://localhost:8080/"
        },
        "id": "I1iWyKIxlmyZ",
        "outputId": "64fbe1be-242c-416e-c958-11cea0a3e39b"
      },
      "execution_count": 33,
      "outputs": [
        {
          "output_type": "stream",
          "name": "stdout",
          "text": [
            "2.2999422550201416\n",
            "0.8273811340332031\n",
            "0.7245279550552368\n",
            "0.596630334854126\n",
            "0.7133972644805908\n",
            "0.4946950376033783\n",
            "0.5374793410301208\n",
            "0.5980111360549927\n",
            "0.7081258296966553\n",
            "0.3204316794872284\n",
            "0.7164708375930786\n",
            "0.5420923233032227\n",
            "0.5954591035842896\n",
            "0.3052597641944885\n",
            "0.7167553901672363\n"
          ]
        }
      ]
    },
    {
      "cell_type": "code",
      "source": [
        "my_model = NewLearner(layers = [2352, 100, 10]).cuda()\n",
        "update(lr = 2e-01, model = my_model)"
      ],
      "metadata": {
        "colab": {
          "base_uri": "https://localhost:8080/"
        },
        "id": "5bFGy0Is5-ao",
        "outputId": "f094ed42-b857-49b5-f778-81279480b46b"
      },
      "execution_count": 34,
      "outputs": [
        {
          "output_type": "stream",
          "name": "stdout",
          "text": [
            "2.3210363388061523\n",
            "0.43578478693962097\n",
            "0.3945179283618927\n",
            "0.5340788960456848\n",
            "0.5162561535835266\n",
            "0.29197630286216736\n",
            "0.4172360301017761\n",
            "0.4501933157444\n",
            "0.4201132655143738\n",
            "0.23267492651939392\n",
            "0.3623475730419159\n",
            "0.4717099070549011\n",
            "0.23108690977096558\n",
            "0.3204061686992645\n",
            "0.4303533434867859\n"
          ]
        }
      ]
    },
    {
      "cell_type": "code",
      "source": [
        "normal_model = NormalLearner(layers = [2352, 100, 10]).cuda()\n",
        "update(lr = 1e-01, model = normal_model)"
      ],
      "metadata": {
        "colab": {
          "base_uri": "https://localhost:8080/"
        },
        "id": "qcsN0Un57hCX",
        "outputId": "d2b568db-f553-459f-e914-304e5a135f5a"
      },
      "execution_count": 35,
      "outputs": [
        {
          "output_type": "stream",
          "name": "stdout",
          "text": [
            "2.326955556869507\n",
            "0.5538337826728821\n",
            "0.27853912115097046\n",
            "0.2826082408428192\n",
            "0.3548614978790283\n",
            "0.1729215681552887\n",
            "0.34639444947242737\n",
            "0.4057809114456177\n",
            "0.3088633716106415\n",
            "0.1862310916185379\n",
            "0.3903025984764099\n",
            "0.25157010555267334\n",
            "0.3164891302585602\n",
            "0.22575680911540985\n",
            "0.15238410234451294\n"
          ]
        }
      ]
    },
    {
      "cell_type": "code",
      "source": [
        "losses = []\n",
        "accs = []\n",
        "for vx, vy in iter(data.valid_dl):\n",
        "  vyhat = model(vx)\n",
        "  losses.append(loss_func(vyhat, vy))\n",
        "  accs.append(accuracy(vyhat, vy))\n",
        "\n",
        "torch.mean(torch.stack(losses)), torch.mean(torch.stack(accs))"
      ],
      "metadata": {
        "colab": {
          "base_uri": "https://localhost:8080/"
        },
        "id": "LSsowGdP6RIf",
        "outputId": "1c55f2b0-f0c9-443f-d517-9843cf0d67a7"
      },
      "execution_count": 36,
      "outputs": [
        {
          "output_type": "execute_result",
          "data": {
            "text/plain": [
              "(tensor(0.4509, device='cuda:0', grad_fn=<MeanBackward0>),\n",
              " tensor(84.3584, device='cuda:0'))"
            ]
          },
          "metadata": {},
          "execution_count": 36
        }
      ]
    },
    {
      "cell_type": "code",
      "source": [
        "losses = []\n",
        "accs = []\n",
        "for vx, vy in iter(data.valid_dl):\n",
        "  vyhat = my_model(vx)\n",
        "  losses.append(loss_func(vyhat, vy))\n",
        "  accs.append(accuracy(vyhat, vy))\n",
        "\n",
        "torch.mean(torch.stack(losses)), torch.mean(torch.stack(accs))"
      ],
      "metadata": {
        "colab": {
          "base_uri": "https://localhost:8080/"
        },
        "id": "nptjRYCL6Rhe",
        "outputId": "7d0a041a-e7dc-40f3-b24e-75589c2e620f"
      },
      "execution_count": 38,
      "outputs": [
        {
          "output_type": "execute_result",
          "data": {
            "text/plain": [
              "(tensor(0.3266, device='cuda:0', grad_fn=<MeanBackward0>),\n",
              " tensor(90.6416, device='cuda:0'))"
            ]
          },
          "metadata": {},
          "execution_count": 38
        }
      ]
    },
    {
      "cell_type": "code",
      "source": [
        "losses = []\n",
        "accs = []\n",
        "for vx, vy in iter(data.valid_dl):\n",
        "  vyhat = normal_model(vx)\n",
        "  losses.append(loss_func(vyhat, vy))\n",
        "  accs.append(accuracy(vyhat, vy))\n",
        "\n",
        "torch.mean(torch.stack(losses)), torch.mean(torch.stack(accs))"
      ],
      "metadata": {
        "colab": {
          "base_uri": "https://localhost:8080/"
        },
        "id": "1r0YL1m67nKL",
        "outputId": "d114e5a2-f64b-4c37-9051-a28bf49a2229"
      },
      "execution_count": 39,
      "outputs": [
        {
          "output_type": "execute_result",
          "data": {
            "text/plain": [
              "(tensor(0.2100, device='cuda:0', grad_fn=<MeanBackward0>),\n",
              " tensor(93.7915, device='cuda:0'))"
            ]
          },
          "metadata": {},
          "execution_count": 39
        }
      ]
    },
    {
      "cell_type": "code",
      "source": [
        "def update_wd(lr = 1e-01, model = lin, wd = 1e-02):\n",
        "  c = 0\n",
        "  losses = []\n",
        "  for x, y in iter(data.train_dl):\n",
        "    # st()\n",
        "    yhat = model(x)\n",
        "    \n",
        "    wsum = 0\n",
        "    for i in model.parameters():\n",
        "      wsum += (i**2).sum()\n",
        "\n",
        "    loss = loss_func(yhat, y) + wd*wsum\n",
        "\n",
        "    if (c % 50 == 0):\n",
        "      print(loss.item())\n",
        "    losses.append(loss.item())\n",
        "    loss.backward()\n",
        "    c += 1\n",
        "    with torch.no_grad():\n",
        "      for param in model.parameters():\n",
        "        param.sub_(lr*param.grad)\n",
        "        param.grad.zero_()\n",
        "  return losses"
      ],
      "metadata": {
        "id": "sob66eEk8HIG"
      },
      "execution_count": 42,
      "outputs": []
    },
    {
      "cell_type": "code",
      "source": [
        "normal_model = NormalLearner(layers = [2352, 200, 50, 10]).cuda()\n",
        "t_losses = update_wd(lr = 1e-01, model = normal_model, wd = 1e-04)"
      ],
      "metadata": {
        "colab": {
          "base_uri": "https://localhost:8080/"
        },
        "id": "ilOrcquS8rTt",
        "outputId": "7bba171e-b735-41d5-a040-8bc7c6462d39"
      },
      "execution_count": 43,
      "outputs": [
        {
          "output_type": "stream",
          "name": "stdout",
          "text": [
            "2.33591365814209\n",
            "0.8251221179962158\n",
            "0.4590650200843811\n",
            "0.2780056893825531\n",
            "0.37270936369895935\n",
            "0.405471533536911\n",
            "0.4734379053115845\n",
            "0.35572221875190735\n",
            "0.09140753746032715\n",
            "0.2469153106212616\n",
            "0.3334296643733978\n",
            "0.22343896329402924\n",
            "0.18826887011528015\n",
            "0.2249823361635208\n",
            "0.21207939088344574\n"
          ]
        }
      ]
    },
    {
      "cell_type": "code",
      "source": [
        "losses = []\n",
        "accs = []\n",
        "for vx, vy in iter(data.valid_dl):\n",
        "  vyhat = normal_model(vx)\n",
        "  losses.append(loss_func(vyhat, vy))\n",
        "  \n",
        "  accs.append(accuracy(vyhat, vy))\n",
        "\n",
        "torch.mean(torch.stack(losses)), torch.mean(torch.stack(accs))"
      ],
      "metadata": {
        "colab": {
          "base_uri": "https://localhost:8080/"
        },
        "id": "RTcGDIBJ9kpu",
        "outputId": "72975364-7ede-432b-9fc2-7126e6d2a3a6"
      },
      "execution_count": 44,
      "outputs": [
        {
          "output_type": "execute_result",
          "data": {
            "text/plain": [
              "(tensor(0.1756, device='cuda:0', grad_fn=<MeanBackward0>),\n",
              " tensor(94.7556, device='cuda:0'))"
            ]
          },
          "metadata": {},
          "execution_count": 44
        }
      ]
    },
    {
      "cell_type": "code",
      "source": [
        "plt.plot(t_losses)"
      ],
      "metadata": {
        "colab": {
          "base_uri": "https://localhost:8080/",
          "height": 283
        },
        "id": "jWoe4QGv9ssI",
        "outputId": "ba67445c-8f5e-4114-dfe6-26e59e58fdc6"
      },
      "execution_count": 45,
      "outputs": [
        {
          "output_type": "execute_result",
          "data": {
            "text/plain": [
              "[<matplotlib.lines.Line2D at 0x7f079f57e550>]"
            ]
          },
          "metadata": {},
          "execution_count": 45
        },
        {
          "output_type": "display_data",
          "data": {
            "image/png": "[encoded data removed]",
            "text/plain": [
              "<Figure size 432x288 with 1 Axes>"
            ]
          },
          "metadata": {
            "needs_background": "light"
          }
        }
      ]
    },
    {
      "cell_type": "code",
      "source": [
        "def update_wd_momentum(lr = 1e-01, model = lin, wd = 1e-02, alpha = 0.9):\n",
        "  c = 0\n",
        "  losses = []\n",
        "  prev_updates = {}\n",
        "  for x, y in iter(data.train_dl):\n",
        "    # st()\n",
        "    yhat = model(x)\n",
        "    \n",
        "    wsum = 0\n",
        "    for i in model.parameters():\n",
        "      wsum += (i**2).sum()\n",
        "\n",
        "    loss = loss_func(yhat, y) + wd*wsum\n",
        "\n",
        "    if (c % 50 == 0):\n",
        "      print(loss.item())\n",
        "    losses.append(loss.item())\n",
        "    loss.backward()\n",
        "    c += 1\n",
        "\n",
        "    with torch.no_grad():\n",
        "      for param in model.parameters():\n",
        "        update = param.grad\n",
        "        # momentum part\n",
        "        if (update.shape in prev_updates):\n",
        "          update = (1 - alpha)*update + alpha*prev_updates[update.shape]\n",
        "\n",
        "        param.sub_(lr*update)\n",
        "        prev_updates[update.shape] = update\n",
        "        param.grad.zero_()\n",
        "\n",
        "  return losses"
      ],
      "metadata": {
        "id": "ylh4US1gqEl4"
      },
      "execution_count": 71,
      "outputs": []
    },
    {
      "cell_type": "code",
      "source": [
        "model = NewLearner(layers = [2352, 200, 50, 10]).cuda()\n",
        "t_losses = update_wd_momentum(lr = 1e-01, model = model, wd = 1e-04, alpha = 0.9)\n",
        "plt.plot(t_losses)"
      ],
      "metadata": {
        "colab": {
          "base_uri": "https://localhost:8080/",
          "height": 549
        },
        "id": "sCBhD4morCV4",
        "outputId": "1834e7c8-e456-42af-ba42-14a4bb4e6eb2"
      },
      "execution_count": 81,
      "outputs": [
        {
          "output_type": "stream",
          "name": "stdout",
          "text": [
            "2.3039896488189697\n",
            "0.6474356055259705\n",
            "0.31230926513671875\n",
            "0.45937851071357727\n",
            "0.30645206570625305\n",
            "0.39116889238357544\n",
            "0.46920138597488403\n",
            "0.4104722738265991\n",
            "0.4498608708381653\n",
            "0.45732471346855164\n",
            "0.2542753517627716\n",
            "0.32638999819755554\n",
            "0.2647510766983032\n",
            "0.26414328813552856\n",
            "0.19943103194236755\n"
          ]
        },
        {
          "output_type": "execute_result",
          "data": {
            "text/plain": [
              "[<matplotlib.lines.Line2D at 0x7f079f526210>]"
            ]
          },
          "metadata": {},
          "execution_count": 81
        },
        {
          "output_type": "display_data",
          "data": {
            "image/png": "[encoded data removed]",
            "text/plain": [
              "<Figure size 432x288 with 1 Axes>"
            ]
          },
          "metadata": {
            "needs_background": "light"
          }
        }
      ]
    },
    {
      "cell_type": "code",
      "source": [
        "losses = []\n",
        "accs = []\n",
        "for vx, vy in iter(data.valid_dl):\n",
        "  vyhat = normal_model(vx)\n",
        "  losses.append(loss_func(vyhat, vy))\n",
        "  accs.append(accuracy(vyhat, vy))\n",
        "\n",
        "torch.mean(torch.stack(losses)), torch.mean(torch.stack(accs))"
      ],
      "metadata": {
        "colab": {
          "base_uri": "https://localhost:8080/"
        },
        "id": "XEaylEcErdsE",
        "outputId": "b2e6223a-b3fa-4d4d-c2d9-67d4d3c85648"
      },
      "execution_count": 82,
      "outputs": [
        {
          "output_type": "execute_result",
          "data": {
            "text/plain": [
              "(tensor(0.1856, device='cuda:0', grad_fn=<MeanBackward0>),\n",
              " tensor(94.4149, device='cuda:0'))"
            ]
          },
          "metadata": {},
          "execution_count": 82
        }
      ]
    },
    {
      "cell_type": "code",
      "source": [
        "a = torch.randn(2, 2)\n",
        "a**2, a"
      ],
      "metadata": {
        "colab": {
          "base_uri": "https://localhost:8080/"
        },
        "id": "VXlQn1bquaWP",
        "outputId": "262ce7ee-c275-481f-9179-dcbcb409e099"
      },
      "execution_count": 56,
      "outputs": [
        {
          "output_type": "execute_result",
          "data": {
            "text/plain": [
              "(tensor([[0.6562, 0.0092],\n",
              "         [0.2316, 0.4458]]), tensor([[-0.8101,  0.0959],\n",
              "         [-0.4812, -0.6677]]))"
            ]
          },
          "metadata": {},
          "execution_count": 56
        }
      ]
    },
    {
      "cell_type": "code",
      "source": [
        "data"
      ],
      "metadata": {
        "colab": {
          "base_uri": "https://localhost:8080/"
        },
        "id": "KtXnZqVE2aUx",
        "outputId": "4ffde766-e5f9-4601-d3d0-1eda45753fcc"
      },
      "execution_count": 103,
      "outputs": [
        {
          "output_type": "execute_result",
          "data": {
            "text/plain": [
              "DataBunch;\n",
              "\n",
              "Train: <torch.utils.data.dataset.TensorDataset object at 0x7f8f3695c850>;\n",
              "\n",
              "Valid: <torch.utils.data.dataset.TensorDataset object at 0x7f8f3695c7d0>;\n",
              "\n",
              "Test: None"
            ]
          },
          "metadata": {},
          "execution_count": 103
        }
      ]
    },
    {
      "cell_type": "code",
      "source": [
        "def update_wd_rms_prop(lr = 1e-01, model = lin, wd = 1e-02, rms_coeff = 0.9):\n",
        "\n",
        "  c = 0\n",
        "  losses = []\n",
        "  gradiant_squared_moving_avg = {}\n",
        "  for x, y in iter(data.train_dl):\n",
        "\n",
        "    yhat = model(x)\n",
        "    \n",
        "    wsum = 0\n",
        "    for i in model.parameters():\n",
        "      wsum += (i**2).sum()\n",
        "\n",
        "    loss = loss_func(yhat, y) + wd*wsum\n",
        "\n",
        "    if (c % 50 == 0):\n",
        "      print(loss.item())\n",
        "    losses.append(loss.item())\n",
        "    loss.backward()\n",
        "    c += 1\n",
        "    \n",
        "    alpha = (1 - rms_coeff)\n",
        "\n",
        "    with torch.no_grad():\n",
        "      for param in model.parameters():\n",
        "        \n",
        "        # RMS PRO\n",
        "        if (param.shape in gradiant_squared_moving_avg):\n",
        "          # st()\n",
        "          gradiant_squared_moving_avg[param.shape] = alpha*param.grad**2 + (1 - alpha)*gradiant_squared_moving_avg[param.shape] \n",
        "          update = (lr/torch.sqrt(gradiant_squared_moving_avg[param.shape])) * param.grad\n",
        "          param.sub_(update)\n",
        "\n",
        "        else:\n",
        "          \n",
        "          param.sub_(lr*param.grad)\n",
        "          gradiant_squared_moving_avg[param.shape] = param.grad**2\n",
        "\n",
        "        param.grad.zero_()\n",
        "\n",
        "  return losses"
      ],
      "metadata": {
        "id": "pzGtv3m_t_Ti"
      },
      "execution_count": 100,
      "outputs": []
    },
    {
      "cell_type": "code",
      "source": [
        "model = NewLearner(layers = [2352, 200, 50, 10]).cuda()\n",
        "t_losses = update_wd_rms_prop(lr = 1e-03, model = model, wd = 1e-04, rms_coeff = 0.9)\n",
        "plt.plot(t_losses)"
      ],
      "metadata": {
        "colab": {
          "base_uri": "https://localhost:8080/",
          "height": 549
        },
        "id": "-jDFzGn8v9Ji",
        "outputId": "3d5e5a44-073b-480a-9f31-c92dc831ced0"
      },
      "execution_count": 101,
      "outputs": [
        {
          "output_type": "stream",
          "name": "stdout",
          "text": [
            "2.3428866863250732\n",
            "0.596040666103363\n",
            "0.39781761169433594\n",
            "0.5655489563941956\n",
            "0.58827143907547\n",
            "0.22071540355682373\n",
            "0.38126108050346375\n",
            "0.44841110706329346\n",
            "0.3816024363040924\n",
            "0.4873497784137726\n",
            "0.23696789145469666\n",
            "0.2704204022884369\n",
            "0.46289342641830444\n",
            "0.37953829765319824\n",
            "0.4349241554737091\n"
          ]
        },
        {
          "output_type": "execute_result",
          "data": {
            "text/plain": [
              "[<matplotlib.lines.Line2D at 0x7f08ca004c10>]"
            ]
          },
          "metadata": {},
          "execution_count": 101
        },
        {
          "output_type": "display_data",
          "data": {
            "image/png": "[encoded data removed]",
            "text/plain": [
              "<Figure size 432x288 with 1 Axes>"
            ]
          },
          "metadata": {
            "needs_background": "light"
          }
        }
      ]
    },
    {
      "cell_type": "code",
      "source": [
        "def update_adam(lr = 1e-01, model = lin, wd = 1e-03, momentum = 0.9, rms_coeff = 0.99):\n",
        "\n",
        "  c = 0\n",
        "  losses = []\n",
        "  gradiant_squared_moving_avg = {}\n",
        "  update_moving_avg = {}\n",
        "  for x, y in iter(data.train_dl):\n",
        "\n",
        "    yhat = model(x)\n",
        "    \n",
        "    wsum = 0\n",
        "    for i in model.parameters():\n",
        "      wsum += (i**2).sum()\n",
        "\n",
        "    loss = loss_func(yhat, y) + wd*wsum\n",
        "\n",
        "    if (c % 50 == 0):\n",
        "      print(loss.item())\n",
        "    losses.append(loss.item())\n",
        "    loss.backward()\n",
        "    c += 1\n",
        "\n",
        "    with torch.no_grad():\n",
        "      for param in model.parameters():\n",
        "        \n",
        "        # RMS PRO\n",
        "        if (param.shape in gradiant_squared_moving_avg):\n",
        "          # st()            \n",
        "          gradiant_squared_moving_avg[param.shape] = (1 - rms_coeff)*param.grad**2 + rms_coeff*gradiant_squared_moving_avg[param.shape] \n",
        "\n",
        "          update = ((lr/c)*param.grad/torch.sqrt(gradiant_squared_moving_avg[param.shape]))\n",
        "          update = (1-momentum) * update + momentum * update_moving_avg[param.shape]\n",
        "          param.sub_(update)\n",
        "\n",
        "          update_moving_avg[param.shape] = update\n",
        "\n",
        "        else:\n",
        "          \n",
        "          param.sub_(lr*param.grad)\n",
        "          gradiant_squared_moving_avg[param.shape] = param.grad**2\n",
        "          update_moving_avg[param.shape] = lr*param.grad\n",
        "\n",
        "        param.grad.zero_()\n",
        "  print(c)\n",
        "  return losses"
      ],
      "metadata": {
        "id": "771j7uf32NKx"
      },
      "execution_count": 152,
      "outputs": []
    },
    {
      "cell_type": "code",
      "source": [
        "model = NewLearner(layers = [2352, 200, 50, 10]).cuda()\n",
        "t_losses = update_adam(lr = 1e-2, model = model, wd = 5e-04)\n",
        "plt.plot(t_losses)"
      ],
      "metadata": {
        "colab": {
          "base_uri": "https://localhost:8080/",
          "height": 567
        },
        "id": "JGn64kpE0G5j",
        "outputId": "b1479d2e-07b0-4b30-faae-27fcec705b17"
      },
      "execution_count": 154,
      "outputs": [
        {
          "output_type": "stream",
          "name": "stdout",
          "text": [
            "2.3280608654022217\n",
            "0.5697374939918518\n",
            "0.26244470477104187\n",
            "0.5660898089408875\n",
            "0.36554139852523804\n",
            "0.44352462887763977\n",
            "0.5649351477622986\n",
            "0.4884936213493347\n",
            "0.46179670095443726\n",
            "0.45336025953292847\n",
            "0.4423021376132965\n",
            "0.41110655665397644\n",
            "0.3300139009952545\n",
            "0.5370196104049683\n",
            "0.49679458141326904\n",
            "750\n"
          ]
        },
        {
          "output_type": "execute_result",
          "data": {
            "text/plain": [
              "[<matplotlib.lines.Line2D at 0x7f079fc07710>]"
            ]
          },
          "metadata": {},
          "execution_count": 154
        },
        {
          "output_type": "display_data",
          "data": {
            "image/png": "[encoded data removed]",
            "text/plain": [
              "<Figure size 432x288 with 1 Axes>"
            ]
          },
          "metadata": {
            "needs_background": "light"
          }
        }
      ]
    },
    {
      "cell_type": "code",
      "source": [
        "losses = []\n",
        "accs = []\n",
        "for vx, vy in iter(data.valid_dl):\n",
        "  vyhat = model(vx)\n",
        "  losses.append(loss_func(vyhat, vy))\n",
        "  accs.append(accuracy(vyhat, vy))\n",
        "\n",
        "torch.mean(torch.stack(losses)), torch.mean(torch.stack(accs))"
      ],
      "metadata": {
        "colab": {
          "base_uri": "https://localhost:8080/"
        },
        "id": "5hpS1jxI7kqd",
        "outputId": "cfce4ca5-3c73-4a2d-86d5-e08fe92f9b0a"
      },
      "execution_count": 155,
      "outputs": [
        {
          "output_type": "execute_result",
          "data": {
            "text/plain": [
              "(tensor(0.3810, device='cuda:0', grad_fn=<MeanBackward0>),\n",
              " tensor(89.2952, device='cuda:0'))"
            ]
          },
          "metadata": {},
          "execution_count": 155
        }
      ]
    }
  ]
}