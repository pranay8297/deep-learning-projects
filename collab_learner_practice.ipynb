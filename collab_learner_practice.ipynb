{
  "nbformat": 4,
  "nbformat_minor": 0,
  "metadata": {
    "colab": {
      "name": "collab_learner_practice.ipynb",
      "provenance": [],
      "machine_shape": "hm",
      "authorship_tag": "ABX9TyMpomkUphWLZR6hPB+6JgN+",
      "include_colab_link": true
    },
    "kernelspec": {
      "name": "python3",
      "display_name": "Python 3"
    },
    "accelerator": "GPU"
  },
  "cells": [
    {
      "cell_type": "markdown",
      "metadata": {
        "id": "view-in-github",
        "colab_type": "text"
      },
      "source": [
        "<a href=\"https://colab.research.google.com/github/pranay8297/deep-learning-projects/blob/master/collab_learner_practice.ipynb\" target=\"_parent\"><img src=\"https://colab.research.google.com/assets/colab-badge.svg\" alt=\"Open In Colab\"/></a>"
      ]
    },
    {
      "cell_type": "code",
      "metadata": {
        "id": "6f4o1zAKDgov",
        "colab_type": "code",
        "colab": {}
      },
      "source": [
        "from fastai import *\n",
        "from fastai.collab import *"
      ],
      "execution_count": 1,
      "outputs": []
    },
    {
      "cell_type": "code",
      "metadata": {
        "id": "8yBj7TtLdZqA",
        "colab_type": "code",
        "colab": {
          "base_uri": "https://localhost:8080/",
          "height": 207
        },
        "outputId": "a242562f-74e9-4477-c677-969e21c46d6a"
      },
      "source": [
        "!wget http://files.grouplens.org/datasets/movielens/ml-100k.zip"
      ],
      "execution_count": 2,
      "outputs": [
        {
          "output_type": "stream",
          "text": [
            "--2020-09-28 10:02:30--  http://files.grouplens.org/datasets/movielens/ml-100k.zip\n",
            "Resolving files.grouplens.org (files.grouplens.org)... 128.101.65.152\n",
            "Connecting to files.grouplens.org (files.grouplens.org)|128.101.65.152|:80... connected.\n",
            "HTTP request sent, awaiting response... 200 OK\n",
            "Length: 4924029 (4.7M) [application/zip]\n",
            "Saving to: ‘ml-100k.zip’\n",
            "\n",
            "ml-100k.zip         100%[===================>]   4.70M  5.64MB/s    in 0.8s    \n",
            "\n",
            "2020-09-28 10:02:31 (5.64 MB/s) - ‘ml-100k.zip’ saved [4924029/4924029]\n",
            "\n"
          ],
          "name": "stdout"
        }
      ]
    },
    {
      "cell_type": "code",
      "metadata": {
        "id": "1z11WFUYeDuM",
        "colab_type": "code",
        "colab": {
          "base_uri": "https://localhost:8080/",
          "height": 35
        },
        "outputId": "f3c96ca0-3beb-4a71-ab90-dbc5a2ee886c"
      },
      "source": [
        "!ls"
      ],
      "execution_count": 3,
      "outputs": [
        {
          "output_type": "stream",
          "text": [
            "ml-100k.zip  sample_data\n"
          ],
          "name": "stdout"
        }
      ]
    },
    {
      "cell_type": "code",
      "metadata": {
        "id": "VP1Eq8d-eGs2",
        "colab_type": "code",
        "colab": {}
      },
      "source": [
        "# unzip 'ml-100k.zip'\n",
        "!mkdir data"
      ],
      "execution_count": 4,
      "outputs": []
    },
    {
      "cell_type": "code",
      "metadata": {
        "id": "LWYXgq9leqQz",
        "colab_type": "code",
        "colab": {
          "base_uri": "https://localhost:8080/",
          "height": 449
        },
        "outputId": "7108dbed-b898-4471-cb79-897fa839448a"
      },
      "source": [
        "!unzip ml-100k.zip -d data"
      ],
      "execution_count": 5,
      "outputs": [
        {
          "output_type": "stream",
          "text": [
            "Archive:  ml-100k.zip\n",
            "   creating: data/ml-100k/\n",
            "  inflating: data/ml-100k/allbut.pl  \n",
            "  inflating: data/ml-100k/mku.sh     \n",
            "  inflating: data/ml-100k/README     \n",
            "  inflating: data/ml-100k/u.data     \n",
            "  inflating: data/ml-100k/u.genre    \n",
            "  inflating: data/ml-100k/u.info     \n",
            "  inflating: data/ml-100k/u.item     \n",
            "  inflating: data/ml-100k/u.occupation  \n",
            "  inflating: data/ml-100k/u.user     \n",
            "  inflating: data/ml-100k/u1.base    \n",
            "  inflating: data/ml-100k/u1.test    \n",
            "  inflating: data/ml-100k/u2.base    \n",
            "  inflating: data/ml-100k/u2.test    \n",
            "  inflating: data/ml-100k/u3.base    \n",
            "  inflating: data/ml-100k/u3.test    \n",
            "  inflating: data/ml-100k/u4.base    \n",
            "  inflating: data/ml-100k/u4.test    \n",
            "  inflating: data/ml-100k/u5.base    \n",
            "  inflating: data/ml-100k/u5.test    \n",
            "  inflating: data/ml-100k/ua.base    \n",
            "  inflating: data/ml-100k/ua.test    \n",
            "  inflating: data/ml-100k/ub.base    \n",
            "  inflating: data/ml-100k/ub.test    \n"
          ],
          "name": "stdout"
        }
      ]
    },
    {
      "cell_type": "code",
      "metadata": {
        "id": "YICjR0eiexPD",
        "colab_type": "code",
        "colab": {
          "base_uri": "https://localhost:8080/",
          "height": 35
        },
        "outputId": "1cd2085a-5a74-4696-c8a5-7fd8595d62e3"
      },
      "source": [
        "!pwd"
      ],
      "execution_count": 6,
      "outputs": [
        {
          "output_type": "stream",
          "text": [
            "/content\n"
          ],
          "name": "stdout"
        }
      ]
    },
    {
      "cell_type": "code",
      "metadata": {
        "id": "ezfEOWple2SL",
        "colab_type": "code",
        "colab": {}
      },
      "source": [
        "!cd data"
      ],
      "execution_count": 7,
      "outputs": []
    },
    {
      "cell_type": "code",
      "metadata": {
        "id": "I8XjKS55e9IE",
        "colab_type": "code",
        "colab": {
          "base_uri": "https://localhost:8080/",
          "height": 86
        },
        "outputId": "cbefcf4e-1de2-4bcf-85ce-fd3a1148dc59"
      },
      "source": [
        "path = Path('/content')\n",
        "path.ls()"
      ],
      "execution_count": 8,
      "outputs": [
        {
          "output_type": "execute_result",
          "data": {
            "text/plain": [
              "[PosixPath('/content/.config'),\n",
              " PosixPath('/content/data'),\n",
              " PosixPath('/content/ml-100k.zip'),\n",
              " PosixPath('/content/sample_data')]"
            ]
          },
          "metadata": {
            "tags": []
          },
          "execution_count": 8
        }
      ]
    },
    {
      "cell_type": "code",
      "metadata": {
        "id": "d3G9bScbfV6E",
        "colab_type": "code",
        "colab": {
          "base_uri": "https://localhost:8080/",
          "height": 35
        },
        "outputId": "5629afa6-11bb-42f9-b3ee-eacb62b0d2fb"
      },
      "source": [
        "path = path/'data'\n",
        "path.ls()"
      ],
      "execution_count": 9,
      "outputs": [
        {
          "output_type": "execute_result",
          "data": {
            "text/plain": [
              "[PosixPath('/content/data/ml-100k')]"
            ]
          },
          "metadata": {
            "tags": []
          },
          "execution_count": 9
        }
      ]
    },
    {
      "cell_type": "code",
      "metadata": {
        "id": "jV-R61dcflQO",
        "colab_type": "code",
        "colab": {
          "base_uri": "https://localhost:8080/",
          "height": 415
        },
        "outputId": "3efde1e0-7e6f-41e5-8879-583d202f4d1a"
      },
      "source": [
        "path = path/'ml-100k'\n",
        "path.ls()"
      ],
      "execution_count": 10,
      "outputs": [
        {
          "output_type": "execute_result",
          "data": {
            "text/plain": [
              "[PosixPath('/content/data/ml-100k/allbut.pl'),\n",
              " PosixPath('/content/data/ml-100k/u2.test'),\n",
              " PosixPath('/content/data/ml-100k/u2.base'),\n",
              " PosixPath('/content/data/ml-100k/u.info'),\n",
              " PosixPath('/content/data/ml-100k/u1.test'),\n",
              " PosixPath('/content/data/ml-100k/README'),\n",
              " PosixPath('/content/data/ml-100k/ua.test'),\n",
              " PosixPath('/content/data/ml-100k/u.data'),\n",
              " PosixPath('/content/data/ml-100k/u4.base'),\n",
              " PosixPath('/content/data/ml-100k/u5.base'),\n",
              " PosixPath('/content/data/ml-100k/u5.test'),\n",
              " PosixPath('/content/data/ml-100k/u.user'),\n",
              " PosixPath('/content/data/ml-100k/u1.base'),\n",
              " PosixPath('/content/data/ml-100k/u.genre'),\n",
              " PosixPath('/content/data/ml-100k/u.item'),\n",
              " PosixPath('/content/data/ml-100k/ub.base'),\n",
              " PosixPath('/content/data/ml-100k/u4.test'),\n",
              " PosixPath('/content/data/ml-100k/u3.base'),\n",
              " PosixPath('/content/data/ml-100k/ub.test'),\n",
              " PosixPath('/content/data/ml-100k/u.occupation'),\n",
              " PosixPath('/content/data/ml-100k/ua.base'),\n",
              " PosixPath('/content/data/ml-100k/mku.sh'),\n",
              " PosixPath('/content/data/ml-100k/u3.test')]"
            ]
          },
          "metadata": {
            "tags": []
          },
          "execution_count": 10
        }
      ]
    },
    {
      "cell_type": "code",
      "metadata": {
        "id": "mJK04OPwfxMC",
        "colab_type": "code",
        "colab": {
          "base_uri": "https://localhost:8080/",
          "height": 1000
        },
        "outputId": "701215da-c7c7-4f67-d97a-77ee374f46a8"
      },
      "source": [
        "cat /content/data/ml-100k/README"
      ],
      "execution_count": 11,
      "outputs": [
        {
          "output_type": "stream",
          "text": [
            "SUMMARY & USAGE LICENSE\n",
            "=============================================\n",
            "\n",
            "MovieLens data sets were collected by the GroupLens Research Project\n",
            "at the University of Minnesota.\n",
            " \n",
            "This data set consists of:\n",
            "\t* 100,000 ratings (1-5) from 943 users on 1682 movies. \n",
            "\t* Each user has rated at least 20 movies. \n",
            "        * Simple demographic info for the users (age, gender, occupation, zip)\n",
            "\n",
            "The data was collected through the MovieLens web site\n",
            "(movielens.umn.edu) during the seven-month period from September 19th, \n",
            "1997 through April 22nd, 1998. This data has been cleaned up - users\n",
            "who had less than 20 ratings or did not have complete demographic\n",
            "information were removed from this data set. Detailed descriptions of\n",
            "the data file can be found at the end of this file.\n",
            "\n",
            "Neither the University of Minnesota nor any of the researchers\n",
            "involved can guarantee the correctness of the data, its suitability\n",
            "for any particular purpose, or the validity of results based on the\n",
            "use of the data set.  The data set may be used for any research\n",
            "purposes under the following conditions:\n",
            "\n",
            "     * The user may not state or imply any endorsement from the\n",
            "       University of Minnesota or the GroupLens Research Group.\n",
            "\n",
            "     * The user must acknowledge the use of the data set in\n",
            "       publications resulting from the use of the data set\n",
            "       (see below for citation information).\n",
            "\n",
            "     * The user may not redistribute the data without separate\n",
            "       permission.\n",
            "\n",
            "     * The user may not use this information for any commercial or\n",
            "       revenue-bearing purposes without first obtaining permission\n",
            "       from a faculty member of the GroupLens Research Project at the\n",
            "       University of Minnesota.\n",
            "\n",
            "If you have any further questions or comments, please contact GroupLens\n",
            "<grouplens-info@cs.umn.edu>. \n",
            "\n",
            "CITATION\n",
            "==============================================\n",
            "\n",
            "To acknowledge use of the dataset in publications, please cite the \n",
            "following paper:\n",
            "\n",
            "F. Maxwell Harper and Joseph A. Konstan. 2015. The MovieLens Datasets:\n",
            "History and Context. ACM Transactions on Interactive Intelligent\n",
            "Systems (TiiS) 5, 4, Article 19 (December 2015), 19 pages.\n",
            "DOI=http://dx.doi.org/10.1145/2827872\n",
            "\n",
            "\n",
            "ACKNOWLEDGEMENTS\n",
            "==============================================\n",
            "\n",
            "Thanks to Al Borchers for cleaning up this data and writing the\n",
            "accompanying scripts.\n",
            "\n",
            "PUBLISHED WORK THAT HAS USED THIS DATASET\n",
            "==============================================\n",
            "\n",
            "Herlocker, J., Konstan, J., Borchers, A., Riedl, J.. An Algorithmic\n",
            "Framework for Performing Collaborative Filtering. Proceedings of the\n",
            "1999 Conference on Research and Development in Information\n",
            "Retrieval. Aug. 1999.\n",
            "\n",
            "FURTHER INFORMATION ABOUT THE GROUPLENS RESEARCH PROJECT\n",
            "==============================================\n",
            "\n",
            "The GroupLens Research Project is a research group in the Department\n",
            "of Computer Science and Engineering at the University of Minnesota.\n",
            "Members of the GroupLens Research Project are involved in many\n",
            "research projects related to the fields of information filtering,\n",
            "collaborative filtering, and recommender systems. The project is lead\n",
            "by professors John Riedl and Joseph Konstan. The project began to\n",
            "explore automated collaborative filtering in 1992, but is most well\n",
            "known for its world wide trial of an automated collaborative filtering\n",
            "system for Usenet news in 1996.  The technology developed in the\n",
            "Usenet trial formed the base for the formation of Net Perceptions,\n",
            "Inc., which was founded by members of GroupLens Research. Since then\n",
            "the project has expanded its scope to research overall information\n",
            "filtering solutions, integrating in content-based methods as well as\n",
            "improving current collaborative filtering technology.\n",
            "\n",
            "Further information on the GroupLens Research project, including\n",
            "research publications, can be found at the following web site:\n",
            "        \n",
            "        http://www.grouplens.org/\n",
            "\n",
            "GroupLens Research currently operates a movie recommender based on\n",
            "collaborative filtering:\n",
            "\n",
            "        http://www.movielens.org/\n",
            "\n",
            "DETAILED DESCRIPTIONS OF DATA FILES\n",
            "==============================================\n",
            "\n",
            "Here are brief descriptions of the data.\n",
            "\n",
            "ml-data.tar.gz   -- Compressed tar file.  To rebuild the u data files do this:\n",
            "                gunzip ml-data.tar.gz\n",
            "                tar xvf ml-data.tar\n",
            "                mku.sh\n",
            "\n",
            "u.data     -- The full u data set, 100000 ratings by 943 users on 1682 items.\n",
            "              Each user has rated at least 20 movies.  Users and items are\n",
            "              numbered consecutively from 1.  The data is randomly\n",
            "              ordered. This is a tab separated list of \n",
            "\t         user id | item id | rating | timestamp. \n",
            "              The time stamps are unix seconds since 1/1/1970 UTC   \n",
            "\n",
            "u.info     -- The number of users, items, and ratings in the u data set.\n",
            "\n",
            "u.item     -- Information about the items (movies); this is a tab separated\n",
            "              list of\n",
            "              movie id | movie title | release date | video release date |\n",
            "              IMDb URL | unknown | Action | Adventure | Animation |\n",
            "              Children's | Comedy | Crime | Documentary | Drama | Fantasy |\n",
            "              Film-Noir | Horror | Musical | Mystery | Romance | Sci-Fi |\n",
            "              Thriller | War | Western |\n",
            "              The last 19 fields are the genres, a 1 indicates the movie\n",
            "              is of that genre, a 0 indicates it is not; movies can be in\n",
            "              several genres at once.\n",
            "              The movie ids are the ones used in the u.data data set.\n",
            "\n",
            "u.genre    -- A list of the genres.\n",
            "\n",
            "u.user     -- Demographic information about the users; this is a tab\n",
            "              separated list of\n",
            "              user id | age | gender | occupation | zip code\n",
            "              The user ids are the ones used in the u.data data set.\n",
            "\n",
            "u.occupation -- A list of the occupations.\n",
            "\n",
            "u1.base    -- The data sets u1.base and u1.test through u5.base and u5.test\n",
            "u1.test       are 80%/20% splits of the u data into training and test data.\n",
            "u2.base       Each of u1, ..., u5 have disjoint test sets; this if for\n",
            "u2.test       5 fold cross validation (where you repeat your experiment\n",
            "u3.base       with each training and test set and average the results).\n",
            "u3.test       These data sets can be generated from u.data by mku.sh.\n",
            "u4.base\n",
            "u4.test\n",
            "u5.base\n",
            "u5.test\n",
            "\n",
            "ua.base    -- The data sets ua.base, ua.test, ub.base, and ub.test\n",
            "ua.test       split the u data into a training set and a test set with\n",
            "ub.base       exactly 10 ratings per user in the test set.  The sets\n",
            "ub.test       ua.test and ub.test are disjoint.  These data sets can\n",
            "              be generated from u.data by mku.sh.\n",
            "\n",
            "allbut.pl  -- The script that generates training and test sets where\n",
            "              all but n of a users ratings are in the training data.\n",
            "\n",
            "mku.sh     -- A shell script to generate all the u data sets from u.data.\n"
          ],
          "name": "stdout"
        }
      ]
    },
    {
      "cell_type": "code",
      "metadata": {
        "id": "gf6unM0siQ7N",
        "colab_type": "code",
        "colab": {
          "base_uri": "https://localhost:8080/",
          "height": 374
        },
        "outputId": "223ef2d8-081e-4a5d-f6a3-82db874cd629"
      },
      "source": [
        "movies = pd.read_csv(path/'u.item', encoding='latin-1', delimiter='|', header = None, names = [\"movie_id\", \"movie_title\", \"release date\", \"video release date\", \"IMDb URL\", \"unknown\", \"Action\", \"Adventure\", \"Animation\", \"Children's\", \"Comedy\", \"Crime\", \"Documentary\", \"Drama\", \"Fantasy\", \"Film-Noir\", \"Horror\", \"Musical\", \"Mystery\", \"Romance\", \"Sci-Fi\", \"Thriller\", \"War\", \"Western\"])\n",
        "movies.head()"
      ],
      "execution_count": 12,
      "outputs": [
        {
          "output_type": "execute_result",
          "data": {
            "text/html": [
              "<div>\n",
              "<style scoped>\n",
              "    .dataframe tbody tr th:only-of-type {\n",
              "        vertical-align: middle;\n",
              "    }\n",
              "\n",
              "    .dataframe tbody tr th {\n",
              "        vertical-align: top;\n",
              "    }\n",
              "\n",
              "    .dataframe thead th {\n",
              "        text-align: right;\n",
              "    }\n",
              "</style>\n",
              "<table border=\"1\" class=\"dataframe\">\n",
              "  <thead>\n",
              "    <tr style=\"text-align: right;\">\n",
              "      <th></th>\n",
              "      <th>movie_id</th>\n",
              "      <th>movie_title</th>\n",
              "      <th>release date</th>\n",
              "      <th>video release date</th>\n",
              "      <th>IMDb URL</th>\n",
              "      <th>unknown</th>\n",
              "      <th>Action</th>\n",
              "      <th>Adventure</th>\n",
              "      <th>Animation</th>\n",
              "      <th>Children's</th>\n",
              "      <th>Comedy</th>\n",
              "      <th>Crime</th>\n",
              "      <th>Documentary</th>\n",
              "      <th>Drama</th>\n",
              "      <th>Fantasy</th>\n",
              "      <th>Film-Noir</th>\n",
              "      <th>Horror</th>\n",
              "      <th>Musical</th>\n",
              "      <th>Mystery</th>\n",
              "      <th>Romance</th>\n",
              "      <th>Sci-Fi</th>\n",
              "      <th>Thriller</th>\n",
              "      <th>War</th>\n",
              "      <th>Western</th>\n",
              "    </tr>\n",
              "  </thead>\n",
              "  <tbody>\n",
              "    <tr>\n",
              "      <th>0</th>\n",
              "      <td>1</td>\n",
              "      <td>Toy Story (1995)</td>\n",
              "      <td>01-Jan-1995</td>\n",
              "      <td>NaN</td>\n",
              "      <td>http://us.imdb.com/M/title-exact?Toy%20Story%2...</td>\n",
              "      <td>0</td>\n",
              "      <td>0</td>\n",
              "      <td>0</td>\n",
              "      <td>1</td>\n",
              "      <td>1</td>\n",
              "      <td>1</td>\n",
              "      <td>0</td>\n",
              "      <td>0</td>\n",
              "      <td>0</td>\n",
              "      <td>0</td>\n",
              "      <td>0</td>\n",
              "      <td>0</td>\n",
              "      <td>0</td>\n",
              "      <td>0</td>\n",
              "      <td>0</td>\n",
              "      <td>0</td>\n",
              "      <td>0</td>\n",
              "      <td>0</td>\n",
              "      <td>0</td>\n",
              "    </tr>\n",
              "    <tr>\n",
              "      <th>1</th>\n",
              "      <td>2</td>\n",
              "      <td>GoldenEye (1995)</td>\n",
              "      <td>01-Jan-1995</td>\n",
              "      <td>NaN</td>\n",
              "      <td>http://us.imdb.com/M/title-exact?GoldenEye%20(...</td>\n",
              "      <td>0</td>\n",
              "      <td>1</td>\n",
              "      <td>1</td>\n",
              "      <td>0</td>\n",
              "      <td>0</td>\n",
              "      <td>0</td>\n",
              "      <td>0</td>\n",
              "      <td>0</td>\n",
              "      <td>0</td>\n",
              "      <td>0</td>\n",
              "      <td>0</td>\n",
              "      <td>0</td>\n",
              "      <td>0</td>\n",
              "      <td>0</td>\n",
              "      <td>0</td>\n",
              "      <td>0</td>\n",
              "      <td>1</td>\n",
              "      <td>0</td>\n",
              "      <td>0</td>\n",
              "    </tr>\n",
              "    <tr>\n",
              "      <th>2</th>\n",
              "      <td>3</td>\n",
              "      <td>Four Rooms (1995)</td>\n",
              "      <td>01-Jan-1995</td>\n",
              "      <td>NaN</td>\n",
              "      <td>http://us.imdb.com/M/title-exact?Four%20Rooms%...</td>\n",
              "      <td>0</td>\n",
              "      <td>0</td>\n",
              "      <td>0</td>\n",
              "      <td>0</td>\n",
              "      <td>0</td>\n",
              "      <td>0</td>\n",
              "      <td>0</td>\n",
              "      <td>0</td>\n",
              "      <td>0</td>\n",
              "      <td>0</td>\n",
              "      <td>0</td>\n",
              "      <td>0</td>\n",
              "      <td>0</td>\n",
              "      <td>0</td>\n",
              "      <td>0</td>\n",
              "      <td>0</td>\n",
              "      <td>1</td>\n",
              "      <td>0</td>\n",
              "      <td>0</td>\n",
              "    </tr>\n",
              "    <tr>\n",
              "      <th>3</th>\n",
              "      <td>4</td>\n",
              "      <td>Get Shorty (1995)</td>\n",
              "      <td>01-Jan-1995</td>\n",
              "      <td>NaN</td>\n",
              "      <td>http://us.imdb.com/M/title-exact?Get%20Shorty%...</td>\n",
              "      <td>0</td>\n",
              "      <td>1</td>\n",
              "      <td>0</td>\n",
              "      <td>0</td>\n",
              "      <td>0</td>\n",
              "      <td>1</td>\n",
              "      <td>0</td>\n",
              "      <td>0</td>\n",
              "      <td>1</td>\n",
              "      <td>0</td>\n",
              "      <td>0</td>\n",
              "      <td>0</td>\n",
              "      <td>0</td>\n",
              "      <td>0</td>\n",
              "      <td>0</td>\n",
              "      <td>0</td>\n",
              "      <td>0</td>\n",
              "      <td>0</td>\n",
              "      <td>0</td>\n",
              "    </tr>\n",
              "    <tr>\n",
              "      <th>4</th>\n",
              "      <td>5</td>\n",
              "      <td>Copycat (1995)</td>\n",
              "      <td>01-Jan-1995</td>\n",
              "      <td>NaN</td>\n",
              "      <td>http://us.imdb.com/M/title-exact?Copycat%20(1995)</td>\n",
              "      <td>0</td>\n",
              "      <td>0</td>\n",
              "      <td>0</td>\n",
              "      <td>0</td>\n",
              "      <td>0</td>\n",
              "      <td>0</td>\n",
              "      <td>1</td>\n",
              "      <td>0</td>\n",
              "      <td>1</td>\n",
              "      <td>0</td>\n",
              "      <td>0</td>\n",
              "      <td>0</td>\n",
              "      <td>0</td>\n",
              "      <td>0</td>\n",
              "      <td>0</td>\n",
              "      <td>0</td>\n",
              "      <td>1</td>\n",
              "      <td>0</td>\n",
              "      <td>0</td>\n",
              "    </tr>\n",
              "  </tbody>\n",
              "</table>\n",
              "</div>"
            ],
            "text/plain": [
              "   movie_id        movie_title release date  ...  Thriller War  Western\n",
              "0         1   Toy Story (1995)  01-Jan-1995  ...         0   0        0\n",
              "1         2   GoldenEye (1995)  01-Jan-1995  ...         1   0        0\n",
              "2         3  Four Rooms (1995)  01-Jan-1995  ...         1   0        0\n",
              "3         4  Get Shorty (1995)  01-Jan-1995  ...         0   0        0\n",
              "4         5     Copycat (1995)  01-Jan-1995  ...         1   0        0\n",
              "\n",
              "[5 rows x 24 columns]"
            ]
          },
          "metadata": {
            "tags": []
          },
          "execution_count": 12
        }
      ]
    },
    {
      "cell_type": "code",
      "metadata": {
        "id": "wX2ame7DgD7h",
        "colab_type": "code",
        "colab": {
          "base_uri": "https://localhost:8080/",
          "height": 198
        },
        "outputId": "6586202a-83e0-4174-be63-733717178bd5"
      },
      "source": [
        "ratings = pd.read_csv(path/'u.data', delimiter='\\t', header= None, names=['user_id', 'movie_id', 'rating', 'timestamp'])\n",
        "ratings.head()"
      ],
      "execution_count": 13,
      "outputs": [
        {
          "output_type": "execute_result",
          "data": {
            "text/html": [
              "<div>\n",
              "<style scoped>\n",
              "    .dataframe tbody tr th:only-of-type {\n",
              "        vertical-align: middle;\n",
              "    }\n",
              "\n",
              "    .dataframe tbody tr th {\n",
              "        vertical-align: top;\n",
              "    }\n",
              "\n",
              "    .dataframe thead th {\n",
              "        text-align: right;\n",
              "    }\n",
              "</style>\n",
              "<table border=\"1\" class=\"dataframe\">\n",
              "  <thead>\n",
              "    <tr style=\"text-align: right;\">\n",
              "      <th></th>\n",
              "      <th>user_id</th>\n",
              "      <th>movie_id</th>\n",
              "      <th>rating</th>\n",
              "      <th>timestamp</th>\n",
              "    </tr>\n",
              "  </thead>\n",
              "  <tbody>\n",
              "    <tr>\n",
              "      <th>0</th>\n",
              "      <td>196</td>\n",
              "      <td>242</td>\n",
              "      <td>3</td>\n",
              "      <td>881250949</td>\n",
              "    </tr>\n",
              "    <tr>\n",
              "      <th>1</th>\n",
              "      <td>186</td>\n",
              "      <td>302</td>\n",
              "      <td>3</td>\n",
              "      <td>891717742</td>\n",
              "    </tr>\n",
              "    <tr>\n",
              "      <th>2</th>\n",
              "      <td>22</td>\n",
              "      <td>377</td>\n",
              "      <td>1</td>\n",
              "      <td>878887116</td>\n",
              "    </tr>\n",
              "    <tr>\n",
              "      <th>3</th>\n",
              "      <td>244</td>\n",
              "      <td>51</td>\n",
              "      <td>2</td>\n",
              "      <td>880606923</td>\n",
              "    </tr>\n",
              "    <tr>\n",
              "      <th>4</th>\n",
              "      <td>166</td>\n",
              "      <td>346</td>\n",
              "      <td>1</td>\n",
              "      <td>886397596</td>\n",
              "    </tr>\n",
              "  </tbody>\n",
              "</table>\n",
              "</div>"
            ],
            "text/plain": [
              "   user_id  movie_id  rating  timestamp\n",
              "0      196       242       3  881250949\n",
              "1      186       302       3  891717742\n",
              "2       22       377       1  878887116\n",
              "3      244        51       2  880606923\n",
              "4      166       346       1  886397596"
            ]
          },
          "metadata": {
            "tags": []
          },
          "execution_count": 13
        }
      ]
    },
    {
      "cell_type": "code",
      "metadata": {
        "id": "EfEWV5KHld9o",
        "colab_type": "code",
        "colab": {
          "base_uri": "https://localhost:8080/",
          "height": 198
        },
        "outputId": "ec395180-1a6b-44bb-86ba-284723552436"
      },
      "source": [
        "movies[['movie_id', 'movie_title']].head()"
      ],
      "execution_count": 15,
      "outputs": [
        {
          "output_type": "execute_result",
          "data": {
            "text/html": [
              "<div>\n",
              "<style scoped>\n",
              "    .dataframe tbody tr th:only-of-type {\n",
              "        vertical-align: middle;\n",
              "    }\n",
              "\n",
              "    .dataframe tbody tr th {\n",
              "        vertical-align: top;\n",
              "    }\n",
              "\n",
              "    .dataframe thead th {\n",
              "        text-align: right;\n",
              "    }\n",
              "</style>\n",
              "<table border=\"1\" class=\"dataframe\">\n",
              "  <thead>\n",
              "    <tr style=\"text-align: right;\">\n",
              "      <th></th>\n",
              "      <th>movie_id</th>\n",
              "      <th>movie_title</th>\n",
              "    </tr>\n",
              "  </thead>\n",
              "  <tbody>\n",
              "    <tr>\n",
              "      <th>0</th>\n",
              "      <td>1</td>\n",
              "      <td>Toy Story (1995)</td>\n",
              "    </tr>\n",
              "    <tr>\n",
              "      <th>1</th>\n",
              "      <td>2</td>\n",
              "      <td>GoldenEye (1995)</td>\n",
              "    </tr>\n",
              "    <tr>\n",
              "      <th>2</th>\n",
              "      <td>3</td>\n",
              "      <td>Four Rooms (1995)</td>\n",
              "    </tr>\n",
              "    <tr>\n",
              "      <th>3</th>\n",
              "      <td>4</td>\n",
              "      <td>Get Shorty (1995)</td>\n",
              "    </tr>\n",
              "    <tr>\n",
              "      <th>4</th>\n",
              "      <td>5</td>\n",
              "      <td>Copycat (1995)</td>\n",
              "    </tr>\n",
              "  </tbody>\n",
              "</table>\n",
              "</div>"
            ],
            "text/plain": [
              "   movie_id        movie_title\n",
              "0         1   Toy Story (1995)\n",
              "1         2   GoldenEye (1995)\n",
              "2         3  Four Rooms (1995)\n",
              "3         4  Get Shorty (1995)\n",
              "4         5     Copycat (1995)"
            ]
          },
          "metadata": {
            "tags": []
          },
          "execution_count": 15
        }
      ]
    },
    {
      "cell_type": "code",
      "metadata": {
        "id": "3Y6Jjzy6gLbW",
        "colab_type": "code",
        "colab": {
          "base_uri": "https://localhost:8080/",
          "height": 198
        },
        "outputId": "b64690c0-d25c-46af-a3f1-77aef0e4e82d"
      },
      "source": [
        "data_df = ratings.merge(movies[['movie_id', 'movie_title']], how = 'inner', on = 'movie_id')\n",
        "data_df.head()"
      ],
      "execution_count": 16,
      "outputs": [
        {
          "output_type": "execute_result",
          "data": {
            "text/html": [
              "<div>\n",
              "<style scoped>\n",
              "    .dataframe tbody tr th:only-of-type {\n",
              "        vertical-align: middle;\n",
              "    }\n",
              "\n",
              "    .dataframe tbody tr th {\n",
              "        vertical-align: top;\n",
              "    }\n",
              "\n",
              "    .dataframe thead th {\n",
              "        text-align: right;\n",
              "    }\n",
              "</style>\n",
              "<table border=\"1\" class=\"dataframe\">\n",
              "  <thead>\n",
              "    <tr style=\"text-align: right;\">\n",
              "      <th></th>\n",
              "      <th>user_id</th>\n",
              "      <th>movie_id</th>\n",
              "      <th>rating</th>\n",
              "      <th>timestamp</th>\n",
              "      <th>movie_title</th>\n",
              "    </tr>\n",
              "  </thead>\n",
              "  <tbody>\n",
              "    <tr>\n",
              "      <th>0</th>\n",
              "      <td>196</td>\n",
              "      <td>242</td>\n",
              "      <td>3</td>\n",
              "      <td>881250949</td>\n",
              "      <td>Kolya (1996)</td>\n",
              "    </tr>\n",
              "    <tr>\n",
              "      <th>1</th>\n",
              "      <td>63</td>\n",
              "      <td>242</td>\n",
              "      <td>3</td>\n",
              "      <td>875747190</td>\n",
              "      <td>Kolya (1996)</td>\n",
              "    </tr>\n",
              "    <tr>\n",
              "      <th>2</th>\n",
              "      <td>226</td>\n",
              "      <td>242</td>\n",
              "      <td>5</td>\n",
              "      <td>883888671</td>\n",
              "      <td>Kolya (1996)</td>\n",
              "    </tr>\n",
              "    <tr>\n",
              "      <th>3</th>\n",
              "      <td>154</td>\n",
              "      <td>242</td>\n",
              "      <td>3</td>\n",
              "      <td>879138235</td>\n",
              "      <td>Kolya (1996)</td>\n",
              "    </tr>\n",
              "    <tr>\n",
              "      <th>4</th>\n",
              "      <td>306</td>\n",
              "      <td>242</td>\n",
              "      <td>5</td>\n",
              "      <td>876503793</td>\n",
              "      <td>Kolya (1996)</td>\n",
              "    </tr>\n",
              "  </tbody>\n",
              "</table>\n",
              "</div>"
            ],
            "text/plain": [
              "   user_id  movie_id  rating  timestamp   movie_title\n",
              "0      196       242       3  881250949  Kolya (1996)\n",
              "1       63       242       3  875747190  Kolya (1996)\n",
              "2      226       242       5  883888671  Kolya (1996)\n",
              "3      154       242       3  879138235  Kolya (1996)\n",
              "4      306       242       5  876503793  Kolya (1996)"
            ]
          },
          "metadata": {
            "tags": []
          },
          "execution_count": 16
        }
      ]
    },
    {
      "cell_type": "code",
      "metadata": {
        "id": "MVuIRTBDlv7J",
        "colab_type": "code",
        "colab": {
          "base_uri": "https://localhost:8080/",
          "height": 198
        },
        "outputId": "1a0f24e3-2845-4d52-8065-edca1fc89554"
      },
      "source": [
        "data = CollabDataBunch.from_df(data_df, item_name = 'movie_title')\n",
        "data.show_batch()"
      ],
      "execution_count": 17,
      "outputs": [
        {
          "output_type": "display_data",
          "data": {
            "text/html": [
              "<table border=\"1\" class=\"dataframe\">\n",
              "  <thead>\n",
              "    <tr style=\"text-align: right;\">\n",
              "      <th>user_id</th>\n",
              "      <th>movie_title</th>\n",
              "      <th>target</th>\n",
              "    </tr>\n",
              "  </thead>\n",
              "  <tbody>\n",
              "    <tr>\n",
              "      <td>506</td>\n",
              "      <td>Ransom (1996)</td>\n",
              "      <td>5.0</td>\n",
              "    </tr>\n",
              "    <tr>\n",
              "      <td>536</td>\n",
              "      <td>Jaws (1975)</td>\n",
              "      <td>4.0</td>\n",
              "    </tr>\n",
              "    <tr>\n",
              "      <td>871</td>\n",
              "      <td>Vermin (1998)</td>\n",
              "      <td>3.0</td>\n",
              "    </tr>\n",
              "    <tr>\n",
              "      <td>94</td>\n",
              "      <td>Rising Sun (1993)</td>\n",
              "      <td>2.0</td>\n",
              "    </tr>\n",
              "    <tr>\n",
              "      <td>788</td>\n",
              "      <td>Some Like It Hot (1959)</td>\n",
              "      <td>4.0</td>\n",
              "    </tr>\n",
              "  </tbody>\n",
              "</table>"
            ],
            "text/plain": [
              "<IPython.core.display.HTML object>"
            ]
          },
          "metadata": {
            "tags": []
          }
        }
      ]
    },
    {
      "cell_type": "code",
      "metadata": {
        "id": "dkiJ6U_nmmgL",
        "colab_type": "code",
        "colab": {
          "base_uri": "https://localhost:8080/",
          "height": 255
        },
        "outputId": "30529040-4e3d-4ec1-c03d-4ea5bec02cb7"
      },
      "source": [
        "doc(collab_learner)"
      ],
      "execution_count": 18,
      "outputs": [
        {
          "output_type": "display_data",
          "data": {
            "text/html": [
              "<h4 id=\"collab_learner\" class=\"doc_header\"><code>collab_learner</code><a href=\"https://github.com/fastai/fastai/blob/master/fastai/collab.py#L96\" class=\"source_link\" style=\"float:right\">[source]</a><a class=\"source_link\" data-toggle=\"collapse\" data-target=\"#collab_learner-pytest\" style=\"float:right; padding-right:10px\">[test]</a></h4><blockquote><p><code>collab_learner</code>(<strong><code>data</code></strong>, <strong><code>n_factors</code></strong>:<code>int</code>=<strong><em><code>None</code></em></strong>, <strong><code>use_nn</code></strong>:<code>bool</code>=<strong><em><code>False</code></em></strong>, <strong><code>emb_szs</code></strong>:<code>Dict</code>[<code>str</code>, <code>int</code>]=<strong><em><code>None</code></em></strong>, <strong><code>layers</code></strong>:<code>Collection</code>[<code>int</code>]=<strong><em><code>None</code></em></strong>, <strong><code>ps</code></strong>:<code>Collection</code>[<code>float</code>]=<strong><em><code>None</code></em></strong>, <strong><code>emb_drop</code></strong>:<code>float</code>=<strong><em><code>0.0</code></em></strong>, <strong><code>y_range</code></strong>:<code>OptRange</code>=<strong><em><code>None</code></em></strong>, <strong><code>use_bn</code></strong>:<code>bool</code>=<strong><em><code>True</code></em></strong>, <strong><code>bn_final</code></strong>:<code>bool</code>=<strong><em><code>False</code></em></strong>, <strong>**<code>learn_kwargs</code></strong>) → <a href=\"https://docs.fast.ai/basic_train.html#Learner\"><code>Learner</code></a></p>\n",
              "</blockquote>\n",
              "<div class=\"collapse\" id=\"collab_learner-pytest\"><div class=\"card card-body pytest_card\"><a type=\"button\" data-toggle=\"collapse\" data-target=\"#collab_learner-pytest\" class=\"close\" aria-label=\"Close\"><span aria-hidden=\"true\">&times;</span></a><p>Tests found for <code>collab_learner</code>:</p><ul><li><code>pytest -sv tests/test_collab_train.py::test_val_loss</code> <a href=\"https://github.com/fastai/fastai/blob/master/tests/test_collab_train.py#L16\" class=\"source_link\" style=\"float:right\">[source]</a></li></ul><p>To run tests please refer to this <a href=\"/dev/test.html#quick-guide\">guide</a>.</p></div></div><p>Create a Learner for collaborative filtering on <code>data</code>.</p>\n",
              "<p><a href=\"https://docs.fast.ai/collab.html#collab_learner\" target=\"_blank\" rel=\"noreferrer noopener\">Show in docs</a></p>\n"
            ],
            "text/plain": [
              "<IPython.core.display.HTML object>"
            ]
          },
          "metadata": {
            "tags": []
          }
        }
      ]
    },
    {
      "cell_type": "code",
      "metadata": {
        "id": "3098r2AVm25p",
        "colab_type": "code",
        "colab": {
          "base_uri": "https://localhost:8080/",
          "height": 380
        },
        "outputId": "b50a19b5-a2a5-4a01-a186-e2151007be26"
      },
      "source": [
        "learn = collab_learner(data, n_factors=50, y_range = [0, 5.5])\n",
        "learn.summary()"
      ],
      "execution_count": 19,
      "outputs": [
        {
          "output_type": "execute_result",
          "data": {
            "application/vnd.google.colaboratory.intrinsic+json": {
              "type": "string"
            },
            "text/plain": [
              "EmbeddingDotBias\n",
              "======================================================================\n",
              "Layer (type)         Output Shape         Param #    Trainable \n",
              "======================================================================\n",
              "Embedding            [50]                 47,200     True      \n",
              "______________________________________________________________________\n",
              "Embedding            [50]                 81,900     True      \n",
              "______________________________________________________________________\n",
              "Embedding            [1]                  944        True      \n",
              "______________________________________________________________________\n",
              "Embedding            [1]                  1,638      True      \n",
              "______________________________________________________________________\n",
              "\n",
              "Total params: 131,682\n",
              "Total trainable params: 131,682\n",
              "Total non-trainable params: 0\n",
              "Optimized with 'torch.optim.adam.Adam', betas=(0.9, 0.99)\n",
              "Using true weight decay as discussed in https://www.fast.ai/2018/07/02/adam-weight-decay/ \n",
              "Loss function : FlattenedLoss\n",
              "======================================================================\n",
              "Callbacks functions applied "
            ]
          },
          "metadata": {
            "tags": []
          },
          "execution_count": 19
        }
      ]
    },
    {
      "cell_type": "code",
      "metadata": {
        "id": "WuD5_FuanJVK",
        "colab_type": "code",
        "colab": {
          "base_uri": "https://localhost:8080/",
          "height": 373
        },
        "outputId": "df1e3da9-a82a-42d4-8da4-4232d90fc107"
      },
      "source": [
        "learn.lr_find()\n",
        "learn.recorder.plot()"
      ],
      "execution_count": 20,
      "outputs": [
        {
          "output_type": "display_data",
          "data": {
            "text/html": [
              "\n",
              "    <div>\n",
              "        <style>\n",
              "            /* Turns off some styling */\n",
              "            progress {\n",
              "                /* gets rid of default border in Firefox and Opera. */\n",
              "                border: none;\n",
              "                /* Needs to be in here for Safari polyfill so background images work as expected. */\n",
              "                background-size: auto;\n",
              "            }\n",
              "            .progress-bar-interrupted, .progress-bar-interrupted::-webkit-progress-bar {\n",
              "                background: #F44336;\n",
              "            }\n",
              "        </style>\n",
              "      <progress value='0' class='' max='1' style='width:300px; height:20px; vertical-align: middle;'></progress>\n",
              "      0.00% [0/1 00:00<00:00]\n",
              "    </div>\n",
              "    \n",
              "<table border=\"1\" class=\"dataframe\">\n",
              "  <thead>\n",
              "    <tr style=\"text-align: left;\">\n",
              "      <th>epoch</th>\n",
              "      <th>train_loss</th>\n",
              "      <th>valid_loss</th>\n",
              "      <th>time</th>\n",
              "    </tr>\n",
              "  </thead>\n",
              "  <tbody>\n",
              "  </tbody>\n",
              "</table><p>\n",
              "\n",
              "    <div>\n",
              "        <style>\n",
              "            /* Turns off some styling */\n",
              "            progress {\n",
              "                /* gets rid of default border in Firefox and Opera. */\n",
              "                border: none;\n",
              "                /* Needs to be in here for Safari polyfill so background images work as expected. */\n",
              "                background-size: auto;\n",
              "            }\n",
              "            .progress-bar-interrupted, .progress-bar-interrupted::-webkit-progress-bar {\n",
              "                background: #F44336;\n",
              "            }\n",
              "        </style>\n",
              "      <progress value='90' class='' max='1250' style='width:300px; height:20px; vertical-align: middle;'></progress>\n",
              "      7.20% [90/1250 00:00<00:07 2.2513]\n",
              "    </div>\n",
              "    "
            ],
            "text/plain": [
              "<IPython.core.display.HTML object>"
            ]
          },
          "metadata": {
            "tags": []
          }
        },
        {
          "output_type": "stream",
          "text": [
            "LR Finder is complete, type {learner_name}.recorder.plot() to see the graph.\n"
          ],
          "name": "stdout"
        },
        {
          "output_type": "display_data",
          "data": {
            "image/png": "[encoded data removed]",
            "text/plain": [
              "<Figure size 432x288 with 1 Axes>"
            ]
          },
          "metadata": {
            "tags": [],
            "needs_background": "light"
          }
        }
      ]
    },
    {
      "cell_type": "code",
      "metadata": {
        "id": "geNRqLv5nPMs",
        "colab_type": "code",
        "colab": {
          "base_uri": "https://localhost:8080/",
          "height": 168
        },
        "outputId": "b3d3c0ae-9f7e-48a0-daa1-a8a6f470b757"
      },
      "source": [
        "learn = collab_learner(data, n_factors=50, y_range = [0, 5.5], wd = 1e-01)\n",
        "learn.fit(4, lr = slice(5e-03))"
      ],
      "execution_count": 21,
      "outputs": [
        {
          "output_type": "display_data",
          "data": {
            "text/html": [
              "<table border=\"1\" class=\"dataframe\">\n",
              "  <thead>\n",
              "    <tr style=\"text-align: left;\">\n",
              "      <th>epoch</th>\n",
              "      <th>train_loss</th>\n",
              "      <th>valid_loss</th>\n",
              "      <th>time</th>\n",
              "    </tr>\n",
              "  </thead>\n",
              "  <tbody>\n",
              "    <tr>\n",
              "      <td>0</td>\n",
              "      <td>0.861131</td>\n",
              "      <td>0.881301</td>\n",
              "      <td>00:06</td>\n",
              "    </tr>\n",
              "    <tr>\n",
              "      <td>1</td>\n",
              "      <td>0.758432</td>\n",
              "      <td>0.867211</td>\n",
              "      <td>00:06</td>\n",
              "    </tr>\n",
              "    <tr>\n",
              "      <td>2</td>\n",
              "      <td>0.634145</td>\n",
              "      <td>0.863794</td>\n",
              "      <td>00:06</td>\n",
              "    </tr>\n",
              "    <tr>\n",
              "      <td>3</td>\n",
              "      <td>0.583325</td>\n",
              "      <td>0.877207</td>\n",
              "      <td>00:06</td>\n",
              "    </tr>\n",
              "  </tbody>\n",
              "</table>"
            ],
            "text/plain": [
              "<IPython.core.display.HTML object>"
            ]
          },
          "metadata": {
            "tags": []
          }
        }
      ]
    },
    {
      "cell_type": "code",
      "metadata": {
        "id": "8cTILrqjnYAY",
        "colab_type": "code",
        "colab": {
          "base_uri": "https://localhost:8080/",
          "height": 198
        },
        "outputId": "f4825562-9562-460a-e612-af23e31b8dd3"
      },
      "source": [
        "#test\n",
        "data_df.head()"
      ],
      "execution_count": 22,
      "outputs": [
        {
          "output_type": "execute_result",
          "data": {
            "text/html": [
              "<div>\n",
              "<style scoped>\n",
              "    .dataframe tbody tr th:only-of-type {\n",
              "        vertical-align: middle;\n",
              "    }\n",
              "\n",
              "    .dataframe tbody tr th {\n",
              "        vertical-align: top;\n",
              "    }\n",
              "\n",
              "    .dataframe thead th {\n",
              "        text-align: right;\n",
              "    }\n",
              "</style>\n",
              "<table border=\"1\" class=\"dataframe\">\n",
              "  <thead>\n",
              "    <tr style=\"text-align: right;\">\n",
              "      <th></th>\n",
              "      <th>user_id</th>\n",
              "      <th>movie_id</th>\n",
              "      <th>rating</th>\n",
              "      <th>timestamp</th>\n",
              "      <th>movie_title</th>\n",
              "    </tr>\n",
              "  </thead>\n",
              "  <tbody>\n",
              "    <tr>\n",
              "      <th>0</th>\n",
              "      <td>196</td>\n",
              "      <td>242</td>\n",
              "      <td>3</td>\n",
              "      <td>881250949</td>\n",
              "      <td>Kolya (1996)</td>\n",
              "    </tr>\n",
              "    <tr>\n",
              "      <th>1</th>\n",
              "      <td>63</td>\n",
              "      <td>242</td>\n",
              "      <td>3</td>\n",
              "      <td>875747190</td>\n",
              "      <td>Kolya (1996)</td>\n",
              "    </tr>\n",
              "    <tr>\n",
              "      <th>2</th>\n",
              "      <td>226</td>\n",
              "      <td>242</td>\n",
              "      <td>5</td>\n",
              "      <td>883888671</td>\n",
              "      <td>Kolya (1996)</td>\n",
              "    </tr>\n",
              "    <tr>\n",
              "      <th>3</th>\n",
              "      <td>154</td>\n",
              "      <td>242</td>\n",
              "      <td>3</td>\n",
              "      <td>879138235</td>\n",
              "      <td>Kolya (1996)</td>\n",
              "    </tr>\n",
              "    <tr>\n",
              "      <th>4</th>\n",
              "      <td>306</td>\n",
              "      <td>242</td>\n",
              "      <td>5</td>\n",
              "      <td>876503793</td>\n",
              "      <td>Kolya (1996)</td>\n",
              "    </tr>\n",
              "  </tbody>\n",
              "</table>\n",
              "</div>"
            ],
            "text/plain": [
              "   user_id  movie_id  rating  timestamp   movie_title\n",
              "0      196       242       3  881250949  Kolya (1996)\n",
              "1       63       242       3  875747190  Kolya (1996)\n",
              "2      226       242       5  883888671  Kolya (1996)\n",
              "3      154       242       3  879138235  Kolya (1996)\n",
              "4      306       242       5  876503793  Kolya (1996)"
            ]
          },
          "metadata": {
            "tags": []
          },
          "execution_count": 22
        }
      ]
    },
    {
      "cell_type": "code",
      "metadata": {
        "id": "KMJIa4y6sL9X",
        "colab_type": "code",
        "colab": {}
      },
      "source": [
        "top_movies = data_df.groupby('movie_title')['rating'].sum().sort_values(ascending = False).index.values[:1000]"
      ],
      "execution_count": 23,
      "outputs": []
    },
    {
      "cell_type": "code",
      "metadata": {
        "id": "PS19z46ns8-3",
        "colab_type": "code",
        "colab": {
          "base_uri": "https://localhost:8080/",
          "height": 69
        },
        "outputId": "50ac5640-1418-4b8f-c5d3-096df712f1e4"
      },
      "source": [
        "top_movies"
      ],
      "execution_count": 24,
      "outputs": [
        {
          "output_type": "execute_result",
          "data": {
            "text/plain": [
              "array(['Star Wars (1977)', 'Fargo (1996)', 'Return of the Jedi (1983)', 'Contact (1997)', ...,\n",
              "       'Specialist, The (1994)', 'Air Up There, The (1994)', 'Beverly Hillbillies, The (1993)',\n",
              "       'Red Firecracker, Green Firecracker (1994)'], dtype=object)"
            ]
          },
          "metadata": {
            "tags": []
          },
          "execution_count": 24
        }
      ]
    },
    {
      "cell_type": "code",
      "metadata": {
        "id": "a1-2fBf2tSiP",
        "colab_type": "code",
        "colab": {}
      },
      "source": [
        "top_bias = learn.bias(top_movies, is_item = True)"
      ],
      "execution_count": 25,
      "outputs": []
    },
    {
      "cell_type": "code",
      "metadata": {
        "id": "_ZMLAqxxtYVV",
        "colab_type": "code",
        "colab": {
          "base_uri": "https://localhost:8080/",
          "height": 35
        },
        "outputId": "19356b90-1a1d-4edd-80a9-97b027cb22d6"
      },
      "source": [
        "mean_ratings = data_df.groupby('movie_title')['rating'].mean()\n",
        "mean_ratings.loc['101 Dalmatians (1996)']"
      ],
      "execution_count": 26,
      "outputs": [
        {
          "output_type": "execute_result",
          "data": {
            "text/plain": [
              "2.908256880733945"
            ]
          },
          "metadata": {
            "tags": []
          },
          "execution_count": 26
        }
      ]
    },
    {
      "cell_type": "code",
      "metadata": {
        "id": "oRwTw9x6uHSH",
        "colab_type": "code",
        "colab": {
          "base_uri": "https://localhost:8080/",
          "height": 190
        },
        "outputId": "a61a6fbf-1f74-49bf-fca4-9db0e36e270b"
      },
      "source": [
        "movie_mean_ratings = [(i, b, mean_ratings.loc[i]) for i, b in zip(top_movies, top_bias)]\n",
        "movie_mean_ratings[:10]"
      ],
      "execution_count": 27,
      "outputs": [
        {
          "output_type": "execute_result",
          "data": {
            "text/plain": [
              "[('Star Wars (1977)', tensor(0.6287), 4.3584905660377355),\n",
              " ('Fargo (1996)', tensor(0.4106), 4.155511811023622),\n",
              " ('Return of the Jedi (1983)', tensor(0.5458), 4.007889546351085),\n",
              " ('Contact (1997)', tensor(0.3450), 3.8035363457760316),\n",
              " ('Raiders of the Lost Ark (1981)', tensor(0.4921), 4.252380952380952),\n",
              " ('Godfather, The (1972)', tensor(0.5365), 4.283292978208232),\n",
              " ('English Patient, The (1996)', tensor(0.1571), 3.656964656964657),\n",
              " ('Toy Story (1995)', tensor(0.3658), 3.8783185840707963),\n",
              " ('Silence of the Lambs, The (1991)', tensor(0.6293), 4.28974358974359),\n",
              " ('Scream (1996)', tensor(0.2115), 3.4414225941422596)]"
            ]
          },
          "metadata": {
            "tags": []
          },
          "execution_count": 27
        }
      ]
    },
    {
      "cell_type": "code",
      "metadata": {
        "id": "JkHc6LvBvH2j",
        "colab_type": "code",
        "colab": {
          "base_uri": "https://localhost:8080/",
          "height": 225
        },
        "outputId": "fae3e69d-3c12-45d3-b5ad-1b3712e7d0b2"
      },
      "source": [
        "movie_mean_ratings[-10:]"
      ],
      "execution_count": 28,
      "outputs": [
        {
          "output_type": "execute_result",
          "data": {
            "text/plain": [
              "[('Mark of Zorro, The (1940)', tensor(0.2344), 3.6153846153846154),\n",
              " ('Party Girl (1995)', tensor(0.0370), 2.875),\n",
              " ('Farewell to Arms, A (1932)', tensor(0.1569), 3.8333333333333335),\n",
              " ('Bastard Out of Carolina (1996)', tensor(0.0430), 2.875),\n",
              " ('Little Big League (1994)', tensor(-0.0478), 2.875),\n",
              " ('Four Days in September (1997)', tensor(0.2092), 3.75),\n",
              " ('Specialist, The (1994)', tensor(-0.0325), 2.25),\n",
              " ('Air Up There, The (1994)', tensor(-0.0589), 2.8125),\n",
              " ('Beverly Hillbillies, The (1993)', tensor(-0.2220), 2.25),\n",
              " ('Red Firecracker, Green Firecracker (1994)',\n",
              "  tensor(0.0922),\n",
              "  3.4615384615384617)]"
            ]
          },
          "metadata": {
            "tags": []
          },
          "execution_count": 28
        }
      ]
    },
    {
      "cell_type": "code",
      "metadata": {
        "id": "pxEhwVtPvimA",
        "colab_type": "code",
        "colab": {
          "base_uri": "https://localhost:8080/",
          "height": 190
        },
        "outputId": "94aba063-5119-4df0-8ed5-ed25a23610de"
      },
      "source": [
        "sorted(movie_mean_ratings, key = lambda x: x[1], reverse = False)[:10]"
      ],
      "execution_count": 29,
      "outputs": [
        {
          "output_type": "execute_result",
          "data": {
            "text/plain": [
              "[(\"McHale's Navy (1997)\", tensor(-0.3673), 2.1884057971014492),\n",
              " ('Speed 2: Cruise Control (1997)', tensor(-0.3644), 2.1315789473684212),\n",
              " ('Island of Dr. Moreau, The (1996)', tensor(-0.3462), 2.1578947368421053),\n",
              " ('Crow: City of Angels, The (1996)', tensor(-0.3368), 1.9487179487179487),\n",
              " ('Mortal Kombat: Annihilation (1997)', tensor(-0.3339), 1.9534883720930232),\n",
              " ('Flintstones, The (1994)', tensor(-0.3248), 2.064516129032258),\n",
              " ('Booty Call (1997)', tensor(-0.2977), 2.1666666666666665),\n",
              " ('Tales from the Hood (1995)', tensor(-0.2872), 2.037037037037037),\n",
              " ('Leave It to Beaver (1997)', tensor(-0.2834), 1.8409090909090908),\n",
              " ('Cable Guy, The (1996)', tensor(-0.2780), 2.339622641509434)]"
            ]
          },
          "metadata": {
            "tags": []
          },
          "execution_count": 29
        }
      ]
    },
    {
      "cell_type": "code",
      "metadata": {
        "id": "0mWGOWzZv6Dd",
        "colab_type": "code",
        "colab": {
          "base_uri": "https://localhost:8080/",
          "height": 190
        },
        "outputId": "8be787e6-1097-41e6-b115-c07dd4e56d38"
      },
      "source": [
        "sorted(movie_mean_ratings, key = lambda x: x[1], reverse = True)[:10]"
      ],
      "execution_count": 30,
      "outputs": [
        {
          "output_type": "execute_result",
          "data": {
            "text/plain": [
              "[('Shawshank Redemption, The (1994)', tensor(0.7150), 4.445229681978798),\n",
              " (\"Schindler's List (1993)\", tensor(0.6910), 4.466442953020135),\n",
              " ('Usual Suspects, The (1995)', tensor(0.6783), 4.385767790262173),\n",
              " ('L.A. Confidential (1997)', tensor(0.6703), 4.161616161616162),\n",
              " ('Silence of the Lambs, The (1991)', tensor(0.6293), 4.28974358974359),\n",
              " ('Star Wars (1977)', tensor(0.6287), 4.3584905660377355),\n",
              " ('Good Will Hunting (1997)', tensor(0.6260), 4.262626262626263),\n",
              " ('North by Northwest (1959)', tensor(0.6065), 4.284916201117318),\n",
              " ('Titanic (1997)', tensor(0.6029), 4.2457142857142856),\n",
              " ('As Good As It Gets (1997)', tensor(0.5902), 4.196428571428571)]"
            ]
          },
          "metadata": {
            "tags": []
          },
          "execution_count": 30
        }
      ]
    },
    {
      "cell_type": "code",
      "metadata": {
        "id": "2CeUpjzxKuEP",
        "colab_type": "code",
        "colab": {
          "base_uri": "https://localhost:8080/",
          "height": 35
        },
        "outputId": "a981bdc3-efd8-44b4-e036-1436b322a469"
      },
      "source": [
        "top_weights = learn.weight(top_movies, is_item = True)\n",
        "top_weights.shape"
      ],
      "execution_count": 31,
      "outputs": [
        {
          "output_type": "execute_result",
          "data": {
            "text/plain": [
              "torch.Size([1000, 50])"
            ]
          },
          "metadata": {
            "tags": []
          },
          "execution_count": 31
        }
      ]
    },
    {
      "cell_type": "code",
      "metadata": {
        "id": "kgoOom43K6TQ",
        "colab_type": "code",
        "colab": {
          "base_uri": "https://localhost:8080/",
          "height": 138
        },
        "outputId": "3da22582-8697-46dc-d5f1-0b2b4c48cbe4"
      },
      "source": [
        "#test\n",
        "top_weights[0]"
      ],
      "execution_count": 33,
      "outputs": [
        {
          "output_type": "execute_result",
          "data": {
            "text/plain": [
              "tensor([ 0.1314, -0.1135, -0.0831, -0.1472, -0.5753, -0.0256,  0.0961,  0.3925,\n",
              "         0.4453,  0.2447, -0.1449, -0.3880,  0.3135, -0.0703, -0.0486, -0.2407,\n",
              "        -0.0233, -0.0667,  0.3660,  0.1783,  0.4417,  0.3979, -0.1405,  0.2695,\n",
              "         0.3092,  0.2954, -0.5112, -0.2343,  0.0987,  0.1712,  0.2809, -0.0510,\n",
              "         0.5407, -0.2343,  0.1491, -0.3556, -0.2109, -0.3748, -0.1008, -0.1031,\n",
              "        -0.1017,  0.3970, -0.1683, -0.4055, -0.0582, -0.4115, -0.0118,  0.5473,\n",
              "        -0.2255,  0.1652])"
            ]
          },
          "metadata": {
            "tags": []
          },
          "execution_count": 33
        }
      ]
    },
    {
      "cell_type": "code",
      "metadata": {
        "id": "GkJWO3PeK-pf",
        "colab_type": "code",
        "colab": {
          "base_uri": "https://localhost:8080/",
          "height": 35
        },
        "outputId": "d9541dfe-74f3-48ed-db2c-a29c84316e72"
      },
      "source": [
        "movie_wpca = top_weights.pca(3)\n",
        "movie_wpca.shape, movie_wpca[0]"
      ],
      "execution_count": 35,
      "outputs": [
        {
          "output_type": "execute_result",
          "data": {
            "text/plain": [
              "(torch.Size([1000, 3]), tensor([-0.6439, -0.7972,  0.4499]))"
            ]
          },
          "metadata": {
            "tags": []
          },
          "execution_count": 35
        }
      ]
    },
    {
      "cell_type": "code",
      "metadata": {
        "id": "pA7YdaY3LOFl",
        "colab_type": "code",
        "colab": {}
      },
      "source": [
        "w1, w2, w3 = movie_wpca.t()\n",
        "# w1, w2, w3 = [[w[0], i for w, i in zip(wpca, top_movies)], [w[1], i for w, i in zip(wpca, top_movies)], [w[2], i for w, i in zip(wpca, top_movies)]]\n",
        "w1_ana = [(w, i) for w, i in zip(w1, top_movies)]\n",
        "w2_ana = [(w, i) for w, i in zip(w2, top_movies)]\n",
        "w3_ana = [(w, i) for w, i in zip(w3, top_movies)]"
      ],
      "execution_count": 58,
      "outputs": []
    },
    {
      "cell_type": "code",
      "metadata": {
        "id": "2D5BvMp7Ne2C",
        "colab_type": "code",
        "colab": {
          "base_uri": "https://localhost:8080/",
          "height": 363
        },
        "outputId": "7cc3732a-8a1e-4a25-b517-2c338186b9aa"
      },
      "source": [
        "\n",
        "sorted(w1_ana, key = lambda x: x[0])[:10], sorted(w1_ana, key = lambda x: x[0], reverse = True)[:10]"
      ],
      "execution_count": 61,
      "outputs": [
        {
          "output_type": "execute_result",
          "data": {
            "text/plain": [
              "([(tensor(-1.1158), 'Chinatown (1974)'),\n",
              "  (tensor(-1.0986), 'Ran (1985)'),\n",
              "  (tensor(-1.0383), 'Lawrence of Arabia (1962)'),\n",
              "  (tensor(-1.0284), 'Secrets & Lies (1996)'),\n",
              "  (tensor(-0.9987), 'Fargo (1996)'),\n",
              "  (tensor(-0.9877), 'Big Night (1996)'),\n",
              "  (tensor(-0.9780), 'Shall We Dance? (1996)'),\n",
              "  (tensor(-0.9710), 'Taxi Driver (1976)'),\n",
              "  (tensor(-0.9411), 'Casablanca (1942)'),\n",
              "  (tensor(-0.9191), 'Thin Man, The (1934)')],\n",
              " [(tensor(1.2285), 'Jungle2Jungle (1997)'),\n",
              "  (tensor(1.0794), 'Leave It to Beaver (1997)'),\n",
              "  (tensor(1.0562), \"McHale's Navy (1997)\"),\n",
              "  (tensor(1.0340), 'D3: The Mighty Ducks (1996)'),\n",
              "  (tensor(1.0155), 'Batman & Robin (1997)'),\n",
              "  (tensor(1.0142), 'Sliver (1993)'),\n",
              "  (tensor(0.9507), 'Booty Call (1997)'),\n",
              "  (tensor(0.9322), 'Congo (1995)'),\n",
              "  (tensor(0.9295), 'Batman Forever (1995)'),\n",
              "  (tensor(0.9287), 'Flintstones, The (1994)')])"
            ]
          },
          "metadata": {
            "tags": []
          },
          "execution_count": 61
        }
      ]
    },
    {
      "cell_type": "code",
      "metadata": {
        "id": "HnIZXG_KM7F6",
        "colab_type": "code",
        "colab": {
          "base_uri": "https://localhost:8080/",
          "height": 363
        },
        "outputId": "3cec8701-4d5b-456e-8bc8-5f2c3d98e273"
      },
      "source": [
        "sorted(w2_ana, key = lambda x: x[0])[:10], sorted(w2_ana, key = lambda x: x[0], reverse = True)[:10]"
      ],
      "execution_count": 62,
      "outputs": [
        {
          "output_type": "execute_result",
          "data": {
            "text/plain": [
              "([(tensor(-1.1762), 'Braveheart (1995)'),\n",
              "  (tensor(-1.1072), 'Raiders of the Lost Ark (1981)'),\n",
              "  (tensor(-0.9893), 'Forrest Gump (1994)'),\n",
              "  (tensor(-0.9342), 'Back to the Future (1985)'),\n",
              "  (tensor(-0.8859), 'Fugitive, The (1993)'),\n",
              "  (tensor(-0.8719), 'Independence Day (ID4) (1996)'),\n",
              "  (tensor(-0.8692), \"It's a Wonderful Life (1946)\"),\n",
              "  (tensor(-0.8674), 'Indiana Jones and the Last Crusade (1989)'),\n",
              "  (tensor(-0.8646), \"Mr. Holland's Opus (1995)\"),\n",
              "  (tensor(-0.8259), 'Hunt for Red October, The (1990)')],\n",
              " [(tensor(0.8273), 'Crow: City of Angels, The (1996)'),\n",
              "  (tensor(0.8079), 'Booty Call (1997)'),\n",
              "  (tensor(0.7811), 'To Die For (1995)'),\n",
              "  (tensor(0.7680), 'Very Brady Sequel, A (1996)'),\n",
              "  (tensor(0.7418), 'Exotica (1994)'),\n",
              "  (tensor(0.7308), 'Angels and Insects (1995)'),\n",
              "  (tensor(0.7177), 'Excess Baggage (1997)'),\n",
              "  (tensor(0.7177), 'Serial Mom (1994)'),\n",
              "  (tensor(0.7045), 'Keys to Tulsa (1997)'),\n",
              "  (tensor(0.6922), 'Heavenly Creatures (1994)')])"
            ]
          },
          "metadata": {
            "tags": []
          },
          "execution_count": 62
        }
      ]
    },
    {
      "cell_type": "code",
      "metadata": {
        "id": "lr1rXhIiO63z",
        "colab_type": "code",
        "colab": {
          "base_uri": "https://localhost:8080/",
          "height": 363
        },
        "outputId": "46af0c60-2d96-4233-ca57-9578d138723f"
      },
      "source": [
        "sorted(w3_ana, key = lambda x: x[0])[:10], sorted(w3_ana, key = lambda x: x[0], reverse = True)[:10]"
      ],
      "execution_count": 63,
      "outputs": [
        {
          "output_type": "execute_result",
          "data": {
            "text/plain": [
              "([(tensor(-0.6961), 'Gone with the Wind (1939)'),\n",
              "  (tensor(-0.6870), 'Cinema Paradiso (1988)'),\n",
              "  (tensor(-0.6540), 'Bridges of Madison County, The (1995)'),\n",
              "  (tensor(-0.6401), 'English Patient, The (1996)'),\n",
              "  (tensor(-0.6145), 'Priest (1994)'),\n",
              "  (tensor(-0.5855), 'Everyone Says I Love You (1996)'),\n",
              "  (tensor(-0.5821), 'FairyTale: A True Story (1997)'),\n",
              "  (tensor(-0.5618), 'Postino, Il (1994)'),\n",
              "  (tensor(-0.5507), 'Kolya (1996)'),\n",
              "  (tensor(-0.5449), 'Evita (1996)')],\n",
              " [(tensor(0.9918), 'Beavis and Butt-head Do America (1996)'),\n",
              "  (tensor(0.9161), 'Reservoir Dogs (1992)'),\n",
              "  (tensor(0.8615), 'Terminator, The (1984)'),\n",
              "  (tensor(0.8605), 'Pulp Fiction (1994)'),\n",
              "  (tensor(0.8579), 'Die Hard (1988)'),\n",
              "  (tensor(0.8143), 'Alien (1979)'),\n",
              "  (tensor(0.8024), 'Alien: Resurrection (1997)'),\n",
              "  (tensor(0.7989), 'Nightmare on Elm Street, A (1984)'),\n",
              "  (tensor(0.7574), 'Event Horizon (1997)'),\n",
              "  (tensor(0.7366), 'Seven (Se7en) (1995)')])"
            ]
          },
          "metadata": {
            "tags": []
          },
          "execution_count": 63
        }
      ]
    }
  ]
}