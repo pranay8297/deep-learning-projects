{
  "nbformat": 4,
  "nbformat_minor": 0,
  "metadata": {
    "colab": {
      "name": "heatmap_own.ipynb",
      "provenance": [],
      "authorship_tag": "ABX9TyOB3vFdNY9/VY2cuBqsUrvI",
      "include_colab_link": true
    },
    "kernelspec": {
      "name": "python3",
      "display_name": "Python 3"
    },
    "accelerator": "GPU"
  },
  "cells": [
    {
      "cell_type": "markdown",
      "metadata": {
        "id": "view-in-github",
        "colab_type": "text"
      },
      "source": [
        "<a href=\"https://colab.research.google.com/github/pranay8297/deep-learning-projects/blob/master/heatmap_own.ipynb\" target=\"_parent\"><img src=\"https://colab.research.google.com/assets/colab-badge.svg\" alt=\"Open In Colab\"/></a>"
      ]
    },
    {
      "cell_type": "code",
      "metadata": {
        "id": "T2FqnZhjsQcF",
        "colab_type": "code",
        "colab": {}
      },
      "source": [
        "%reload_ext autoreload\n",
        "%autoreload 2\n",
        "%matplotlib inline"
      ],
      "execution_count": null,
      "outputs": []
    },
    {
      "cell_type": "code",
      "metadata": {
        "id": "eZ8tWqaa-Uim",
        "colab_type": "code",
        "colab": {
          "base_uri": "https://localhost:8080/",
          "height": 417
        },
        "outputId": "b6fd05d5-8ca6-4a8a-eb74-982c8dffd030"
      },
      "source": [
        "!pip install \"torch==1.4\" \"torchvision==0.5.0\""
      ],
      "execution_count": 17,
      "outputs": [
        {
          "output_type": "stream",
          "text": [
            "Collecting torch==1.4\n",
            "\u001b[?25l  Downloading https://files.pythonhosted.org/packages/24/19/4804aea17cd136f1705a5e98a00618cb8f6ccc375ad8bfa437408e09d058/torch-1.4.0-cp36-cp36m-manylinux1_x86_64.whl (753.4MB)\n",
            "\u001b[K     |████████████████████████████████| 753.4MB 15kB/s \n",
            "\u001b[?25hCollecting torchvision==0.5.0\n",
            "\u001b[?25l  Downloading https://files.pythonhosted.org/packages/7e/90/6141bf41f5655c78e24f40f710fdd4f8a8aff6c8b7c6f0328240f649bdbe/torchvision-0.5.0-cp36-cp36m-manylinux1_x86_64.whl (4.0MB)\n",
            "\u001b[K     |████████████████████████████████| 4.0MB 31.5MB/s \n",
            "\u001b[?25hRequirement already satisfied: six in /usr/local/lib/python3.6/dist-packages (from torchvision==0.5.0) (1.12.0)\n",
            "Requirement already satisfied: numpy in /usr/local/lib/python3.6/dist-packages (from torchvision==0.5.0) (1.18.5)\n",
            "Requirement already satisfied: pillow>=4.1.1 in /usr/local/lib/python3.6/dist-packages (from torchvision==0.5.0) (7.0.0)\n",
            "Installing collected packages: torch, torchvision\n",
            "  Found existing installation: torch 1.5.1+cu101\n",
            "    Uninstalling torch-1.5.1+cu101:\n",
            "      Successfully uninstalled torch-1.5.1+cu101\n",
            "  Found existing installation: torchvision 0.6.1+cu101\n",
            "    Uninstalling torchvision-0.6.1+cu101:\n",
            "      Successfully uninstalled torchvision-0.6.1+cu101\n",
            "Successfully installed torch-1.4.0 torchvision-0.5.0\n"
          ],
          "name": "stdout"
        },
        {
          "output_type": "display_data",
          "data": {
            "application/vnd.colab-display-data+json": {
              "pip_warning": {
                "packages": [
                  "torch",
                  "torchvision"
                ]
              }
            }
          },
          "metadata": {
            "tags": []
          }
        }
      ]
    },
    {
      "cell_type": "code",
      "metadata": {
        "id": "1zf3Ppezh62i",
        "colab_type": "code",
        "colab": {}
      },
      "source": [
        "from fastai import *\n",
        "from fastai.vision import *"
      ],
      "execution_count": 1,
      "outputs": []
    },
    {
      "cell_type": "code",
      "metadata": {
        "id": "27_TkzXbiGV3",
        "colab_type": "code",
        "colab": {}
      },
      "source": [
        "path = untar_data(URLs.PETS)"
      ],
      "execution_count": 2,
      "outputs": []
    },
    {
      "cell_type": "code",
      "metadata": {
        "id": "smJlPcK2iSUj",
        "colab_type": "code",
        "colab": {
          "base_uri": "https://localhost:8080/",
          "height": 52
        },
        "outputId": "cbd111d8-f262-43ae-802b-bfb784d20b3a"
      },
      "source": [
        "path.ls()"
      ],
      "execution_count": 3,
      "outputs": [
        {
          "output_type": "execute_result",
          "data": {
            "text/plain": [
              "[PosixPath('/root/.fastai/data/oxford-iiit-pet/annotations'),\n",
              " PosixPath('/root/.fastai/data/oxford-iiit-pet/images')]"
            ]
          },
          "metadata": {
            "tags": []
          },
          "execution_count": 3
        }
      ]
    },
    {
      "cell_type": "code",
      "metadata": {
        "id": "KVC2AQkhikm4",
        "colab_type": "code",
        "colab": {
          "base_uri": "https://localhost:8080/",
          "height": 104
        },
        "outputId": "38a2338e-0870-4944-d1ad-369cf9b8b4f4"
      },
      "source": [
        "path_img = path/'images'\n",
        "path_img.ls()[:5]"
      ],
      "execution_count": 4,
      "outputs": [
        {
          "output_type": "execute_result",
          "data": {
            "text/plain": [
              "[PosixPath('/root/.fastai/data/oxford-iiit-pet/images/Siamese_39.jpg'),\n",
              " PosixPath('/root/.fastai/data/oxford-iiit-pet/images/Siamese_257.jpg'),\n",
              " PosixPath('/root/.fastai/data/oxford-iiit-pet/images/pomeranian_112.jpg'),\n",
              " PosixPath('/root/.fastai/data/oxford-iiit-pet/images/leonberger_49.jpg'),\n",
              " PosixPath('/root/.fastai/data/oxford-iiit-pet/images/staffordshire_bull_terrier_52.jpg')]"
            ]
          },
          "metadata": {
            "tags": []
          },
          "execution_count": 4
        }
      ]
    },
    {
      "cell_type": "code",
      "metadata": {
        "id": "E8-Q1ap9i_EN",
        "colab_type": "code",
        "colab": {}
      },
      "source": [
        "src = ImageList.from_folder(path_img).split_by_rand_pct(0.2)"
      ],
      "execution_count": 5,
      "outputs": []
    },
    {
      "cell_type": "code",
      "metadata": {
        "id": "WPcaKn_skEYd",
        "colab_type": "code",
        "colab": {
          "base_uri": "https://localhost:8080/",
          "height": 35
        },
        "outputId": "022d5e35-2c17-4419-a498-c7f59fea7ff5"
      },
      "source": [
        "test = path_img.ls()[0]\n",
        "test.stem.rsplit('_', 1)[0]"
      ],
      "execution_count": 6,
      "outputs": [
        {
          "output_type": "execute_result",
          "data": {
            "application/vnd.google.colaboratory.intrinsic": {
              "type": "string"
            },
            "text/plain": [
              "'Siamese'"
            ]
          },
          "metadata": {
            "tags": []
          },
          "execution_count": 6
        }
      ]
    },
    {
      "cell_type": "code",
      "metadata": {
        "id": "6yW_pCXdjyg3",
        "colab_type": "code",
        "colab": {}
      },
      "source": [
        "def get_name(new_path): return new_path.stem.rsplit('_', 1)[0]"
      ],
      "execution_count": 7,
      "outputs": []
    },
    {
      "cell_type": "code",
      "metadata": {
        "id": "-uljJM0_k58x",
        "colab_type": "code",
        "colab": {
          "base_uri": "https://localhost:8080/",
          "height": 311
        },
        "outputId": "411bed5a-b012-4912-f180-ab9a73601373"
      },
      "source": [
        "src = src.label_from_func(get_name); src"
      ],
      "execution_count": 8,
      "outputs": [
        {
          "output_type": "execute_result",
          "data": {
            "text/plain": [
              "LabelLists;\n",
              "\n",
              "Train: LabelList (5912 items)\n",
              "x: ImageList\n",
              "Image (3, 333, 500),Image (3, 289, 300),Image (3, 199, 300),Image (3, 375, 500),Image (3, 333, 500)\n",
              "y: CategoryList\n",
              "Siamese,Siamese,pomeranian,leonberger,great_pyrenees\n",
              "Path: /root/.fastai/data/oxford-iiit-pet/images;\n",
              "\n",
              "Valid: LabelList (1478 items)\n",
              "x: ImageList\n",
              "Image (3, 500, 490),Image (3, 500, 335),Image (3, 300, 400),Image (3, 218, 300),Image (3, 375, 500)\n",
              "y: CategoryList\n",
              "Abyssinian,american_pit_bull_terrier,Abyssinian,Maine_Coon,Persian\n",
              "Path: /root/.fastai/data/oxford-iiit-pet/images;\n",
              "\n",
              "Test: None"
            ]
          },
          "metadata": {
            "tags": []
          },
          "execution_count": 8
        }
      ]
    },
    {
      "cell_type": "code",
      "metadata": {
        "id": "i9Dcz8dVll1K",
        "colab_type": "code",
        "colab": {
          "base_uri": "https://localhost:8080/",
          "height": 273
        },
        "outputId": "d00cfd9b-a27c-4b01-b511-19c5e9bf6a95"
      },
      "source": [
        "doc(get_transforms)"
      ],
      "execution_count": 9,
      "outputs": [
        {
          "output_type": "display_data",
          "data": {
            "text/html": [
              "<h4 id=\"get_transforms\" class=\"doc_header\"><code>get_transforms</code><a href=\"https://github.com/fastai/fastai/blob/master/fastai/vision/transform.py#L308\" class=\"source_link\" style=\"float:right\">[source]</a><a class=\"source_link\" data-toggle=\"collapse\" data-target=\"#get_transforms-pytest\" style=\"float:right; padding-right:10px\">[test]</a></h4><blockquote><p><code>get_transforms</code>(<strong><code>do_flip</code></strong>:<code>bool</code>=<strong><em><code>True</code></em></strong>, <strong><code>flip_vert</code></strong>:<code>bool</code>=<strong><em><code>False</code></em></strong>, <strong><code>max_rotate</code></strong>:<code>float</code>=<strong><em><code>10.0</code></em></strong>, <strong><code>max_zoom</code></strong>:<code>float</code>=<strong><em><code>1.1</code></em></strong>, <strong><code>max_lighting</code></strong>:<code>float</code>=<strong><em><code>0.2</code></em></strong>, <strong><code>max_warp</code></strong>:<code>float</code>=<strong><em><code>0.2</code></em></strong>, <strong><code>p_affine</code></strong>:<code>float</code>=<strong><em><code>0.75</code></em></strong>, <strong><code>p_lighting</code></strong>:<code>float</code>=<strong><em><code>0.75</code></em></strong>, <strong><code>xtra_tfms</code></strong>:<code>Optional</code>[<code>Collection</code>[<a href=\"https://docs.fast.ai/vision.image.html#Transform\"><code>Transform</code></a>]]=<strong><em><code>None</code></em></strong>) → <code>Collection</code>[<a href=\"https://docs.fast.ai/vision.image.html#Transform\"><code>Transform</code></a>]</p>\n",
              "</blockquote>\n",
              "<div class=\"collapse\" id=\"get_transforms-pytest\"><div class=\"card card-body pytest_card\"><a type=\"button\" data-toggle=\"collapse\" data-target=\"#get_transforms-pytest\" class=\"close\" aria-label=\"Close\"><span aria-hidden=\"true\">&times;</span></a><p>Tests found for <code>get_transforms</code>:</p><ul><li><code>pytest -sv tests/test_vision_data.py::test_image_to_image_different_tfms</code> <a href=\"https://github.com/fastai/fastai/blob/master/tests/test_vision_data.py#L333\" class=\"source_link\" style=\"float:right\">[source]</a></li><li><code>pytest -sv tests/test_vision_data.py::test_image_to_image_different_y_size</code> <a href=\"https://github.com/fastai/fastai/blob/master/tests/test_vision_data.py#L318\" class=\"source_link\" style=\"float:right\">[source]</a></li></ul><p>To run tests please refer to this <a href=\"/dev/test.html#quick-guide\">guide</a>.</p></div></div><p>Utility func to easily create a list of flip, rotate, <a href=\"https://docs.fast.ai/vision.transform.html#_zoom\"><code>zoom</code></a>, warp, lighting transforms.</p>\n",
              "<p><a href=\"https://docs.fast.ai/vision.transform.html#get_transforms\" target=\"_blank\" rel=\"noreferrer noopener\">Show in docs</a></p>\n"
            ],
            "text/plain": [
              "<IPython.core.display.HTML object>"
            ]
          },
          "metadata": {
            "tags": []
          }
        }
      ]
    },
    {
      "cell_type": "code",
      "metadata": {
        "id": "AqHr-bDzlXiR",
        "colab_type": "code",
        "colab": {}
      },
      "source": [
        "tfms = get_transforms(do_flip=True, flip_vert= False, max_rotate = 10.0, max_zoom= 1.2, max_lighting= .2, max_warp= 0.2, p_affine = 1., p_lighting= 1.)"
      ],
      "execution_count": 10,
      "outputs": []
    },
    {
      "cell_type": "code",
      "metadata": {
        "id": "xSYyq6i6k91c",
        "colab_type": "code",
        "colab": {}
      },
      "source": [
        "bs = 64\n",
        "data = src.transform(tfms, size = 224, padding_mode = 'reflection').databunch(bs = bs, no_check=True).normalize(imagenet_stats)"
      ],
      "execution_count": 11,
      "outputs": []
    },
    {
      "cell_type": "code",
      "metadata": {
        "id": "kGisR2f_nNOE",
        "colab_type": "code",
        "colab": {}
      },
      "source": [
        "learn = cnn_learner(data, models.resnet34, metrics = (error_rate))"
      ],
      "execution_count": 12,
      "outputs": []
    },
    {
      "cell_type": "code",
      "metadata": {
        "id": "tSVEzHnancLD",
        "colab_type": "code",
        "colab": {
          "base_uri": "https://localhost:8080/",
          "height": 111
        },
        "outputId": "a17b9d29-2a04-40e2-a9be-de34f8724b45"
      },
      "source": [
        "learn.lr_find()"
      ],
      "execution_count": 13,
      "outputs": [
        {
          "output_type": "display_data",
          "data": {
            "text/html": [
              "\n",
              "    <div>\n",
              "        <style>\n",
              "            /* Turns off some styling */\n",
              "            progress {\n",
              "                /* gets rid of default border in Firefox and Opera. */\n",
              "                border: none;\n",
              "                /* Needs to be in here for Safari polyfill so background images work as expected. */\n",
              "                background-size: auto;\n",
              "            }\n",
              "            .progress-bar-interrupted, .progress-bar-interrupted::-webkit-progress-bar {\n",
              "                background: #F44336;\n",
              "            }\n",
              "        </style>\n",
              "      <progress value='0' class='' max='2' style='width:300px; height:20px; vertical-align: middle;'></progress>\n",
              "      0.00% [0/2 00:00<00:00]\n",
              "    </div>\n",
              "    \n",
              "<table border=\"1\" class=\"dataframe\">\n",
              "  <thead>\n",
              "    <tr style=\"text-align: left;\">\n",
              "      <th>epoch</th>\n",
              "      <th>train_loss</th>\n",
              "      <th>valid_loss</th>\n",
              "      <th>error_rate</th>\n",
              "      <th>time</th>\n",
              "    </tr>\n",
              "  </thead>\n",
              "  <tbody>\n",
              "  </tbody>\n",
              "</table><p>\n",
              "\n",
              "    <div>\n",
              "        <style>\n",
              "            /* Turns off some styling */\n",
              "            progress {\n",
              "                /* gets rid of default border in Firefox and Opera. */\n",
              "                border: none;\n",
              "                /* Needs to be in here for Safari polyfill so background images work as expected. */\n",
              "                background-size: auto;\n",
              "            }\n",
              "            .progress-bar-interrupted, .progress-bar-interrupted::-webkit-progress-bar {\n",
              "                background: #F44336;\n",
              "            }\n",
              "        </style>\n",
              "      <progress value='89' class='' max='92' style='width:300px; height:20px; vertical-align: middle;'></progress>\n",
              "      96.74% [89/92 01:37<00:03 11.8322]\n",
              "    </div>\n",
              "    "
            ],
            "text/plain": [
              "<IPython.core.display.HTML object>"
            ]
          },
          "metadata": {
            "tags": []
          }
        },
        {
          "output_type": "stream",
          "text": [
            "LR Finder is complete, type {learner_name}.recorder.plot() to see the graph.\n"
          ],
          "name": "stdout"
        }
      ]
    },
    {
      "cell_type": "code",
      "metadata": {
        "id": "XI272yD5ohJI",
        "colab_type": "code",
        "colab": {
          "base_uri": "https://localhost:8080/",
          "height": 279
        },
        "outputId": "71f1c86f-4921-44a8-90c3-36f8aa763ecd"
      },
      "source": [
        "learn.recorder.plot()"
      ],
      "execution_count": 14,
      "outputs": [
        {
          "output_type": "display_data",
          "data": {
            "image/png": "[encoded data removed]",
            "text/plain": [
              "<Figure size 432x288 with 1 Axes>"
            ]
          },
          "metadata": {
            "tags": [],
            "needs_background": "light"
          }
        }
      ]
    },
    {
      "cell_type": "code",
      "metadata": {
        "id": "sj9JfvFyorrw",
        "colab_type": "code",
        "colab": {}
      },
      "source": [
        "test_img = open_image(path_img.ls()[0])"
      ],
      "execution_count": 15,
      "outputs": []
    },
    {
      "cell_type": "code",
      "metadata": {
        "id": "vdvIKa72oz2h",
        "colab_type": "code",
        "colab": {
          "base_uri": "https://localhost:8080/",
          "height": 35
        },
        "outputId": "3c38e06e-de53-4522-f3e4-16a0e8f8ad98"
      },
      "source": [
        "test_img.size"
      ],
      "execution_count": 16,
      "outputs": [
        {
          "output_type": "execute_result",
          "data": {
            "text/plain": [
              "torch.Size([333, 500])"
            ]
          },
          "metadata": {
            "tags": []
          },
          "execution_count": 16
        }
      ]
    },
    {
      "cell_type": "code",
      "metadata": {
        "id": "MurqpUT5tt_8",
        "colab_type": "code",
        "colab": {}
      },
      "source": [
        "learn.summary()"
      ],
      "execution_count": null,
      "outputs": []
    },
    {
      "cell_type": "code",
      "metadata": {
        "id": "A95iOnRZtwxp",
        "colab_type": "code",
        "colab": {
          "base_uri": "https://localhost:8080/",
          "height": 108
        },
        "outputId": "b391cd42-965c-4c63-91ab-fe08e0bd9a4a"
      },
      "source": [
        "learn.fit_one_cycle(2, slice(4e-03))"
      ],
      "execution_count": 17,
      "outputs": [
        {
          "output_type": "display_data",
          "data": {
            "text/html": [
              "<table border=\"1\" class=\"dataframe\">\n",
              "  <thead>\n",
              "    <tr style=\"text-align: left;\">\n",
              "      <th>epoch</th>\n",
              "      <th>train_loss</th>\n",
              "      <th>valid_loss</th>\n",
              "      <th>error_rate</th>\n",
              "      <th>time</th>\n",
              "    </tr>\n",
              "  </thead>\n",
              "  <tbody>\n",
              "    <tr>\n",
              "      <td>0</td>\n",
              "      <td>1.038430</td>\n",
              "      <td>0.292215</td>\n",
              "      <td>0.098106</td>\n",
              "      <td>01:52</td>\n",
              "    </tr>\n",
              "    <tr>\n",
              "      <td>1</td>\n",
              "      <td>0.502659</td>\n",
              "      <td>0.249923</td>\n",
              "      <td>0.073748</td>\n",
              "      <td>01:51</td>\n",
              "    </tr>\n",
              "  </tbody>\n",
              "</table>"
            ],
            "text/plain": [
              "<IPython.core.display.HTML object>"
            ]
          },
          "metadata": {
            "tags": []
          }
        }
      ]
    },
    {
      "cell_type": "code",
      "metadata": {
        "id": "UdPgMgtGSP3O",
        "colab_type": "code",
        "colab": {
          "base_uri": "https://localhost:8080/",
          "height": 373
        },
        "outputId": "4401d0b4-175a-4bba-e0a5-148605e33a26"
      },
      "source": [
        "learn.save('stage-1')\n",
        "learn.unfreeze()\n",
        "learn.lr_find()\n",
        "learn.recorder.plot()"
      ],
      "execution_count": 18,
      "outputs": [
        {
          "output_type": "display_data",
          "data": {
            "text/html": [
              "\n",
              "    <div>\n",
              "        <style>\n",
              "            /* Turns off some styling */\n",
              "            progress {\n",
              "                /* gets rid of default border in Firefox and Opera. */\n",
              "                border: none;\n",
              "                /* Needs to be in here for Safari polyfill so background images work as expected. */\n",
              "                background-size: auto;\n",
              "            }\n",
              "            .progress-bar-interrupted, .progress-bar-interrupted::-webkit-progress-bar {\n",
              "                background: #F44336;\n",
              "            }\n",
              "        </style>\n",
              "      <progress value='0' class='' max='2' style='width:300px; height:20px; vertical-align: middle;'></progress>\n",
              "      0.00% [0/2 00:00<00:00]\n",
              "    </div>\n",
              "    \n",
              "<table border=\"1\" class=\"dataframe\">\n",
              "  <thead>\n",
              "    <tr style=\"text-align: left;\">\n",
              "      <th>epoch</th>\n",
              "      <th>train_loss</th>\n",
              "      <th>valid_loss</th>\n",
              "      <th>error_rate</th>\n",
              "      <th>time</th>\n",
              "    </tr>\n",
              "  </thead>\n",
              "  <tbody>\n",
              "  </tbody>\n",
              "</table><p>\n",
              "\n",
              "    <div>\n",
              "        <style>\n",
              "            /* Turns off some styling */\n",
              "            progress {\n",
              "                /* gets rid of default border in Firefox and Opera. */\n",
              "                border: none;\n",
              "                /* Needs to be in here for Safari polyfill so background images work as expected. */\n",
              "                background-size: auto;\n",
              "            }\n",
              "            .progress-bar-interrupted, .progress-bar-interrupted::-webkit-progress-bar {\n",
              "                background: #F44336;\n",
              "            }\n",
              "        </style>\n",
              "      <progress value='60' class='' max='92' style='width:300px; height:20px; vertical-align: middle;'></progress>\n",
              "      65.22% [60/92 01:07<00:35 0.9750]\n",
              "    </div>\n",
              "    "
            ],
            "text/plain": [
              "<IPython.core.display.HTML object>"
            ]
          },
          "metadata": {
            "tags": []
          }
        },
        {
          "output_type": "stream",
          "text": [
            "LR Finder is complete, type {learner_name}.recorder.plot() to see the graph.\n"
          ],
          "name": "stdout"
        },
        {
          "output_type": "display_data",
          "data": {
            "image/png": "[encoded data removed]",
            "text/plain": [
              "<Figure size 432x288 with 1 Axes>"
            ]
          },
          "metadata": {
            "tags": [],
            "needs_background": "light"
          }
        }
      ]
    },
    {
      "cell_type": "code",
      "metadata": {
        "id": "pjUUG01KS-mn",
        "colab_type": "code",
        "colab": {
          "base_uri": "https://localhost:8080/",
          "height": 138
        },
        "outputId": "a1c104d5-83b8-4ac9-d36e-27905a776086"
      },
      "source": [
        "learn.fit_one_cycle(3, max_lr= slice(1e-05, 7e-04))"
      ],
      "execution_count": 19,
      "outputs": [
        {
          "output_type": "display_data",
          "data": {
            "text/html": [
              "<table border=\"1\" class=\"dataframe\">\n",
              "  <thead>\n",
              "    <tr style=\"text-align: left;\">\n",
              "      <th>epoch</th>\n",
              "      <th>train_loss</th>\n",
              "      <th>valid_loss</th>\n",
              "      <th>error_rate</th>\n",
              "      <th>time</th>\n",
              "    </tr>\n",
              "  </thead>\n",
              "  <tbody>\n",
              "    <tr>\n",
              "      <td>0</td>\n",
              "      <td>0.386981</td>\n",
              "      <td>0.340519</td>\n",
              "      <td>0.104871</td>\n",
              "      <td>01:56</td>\n",
              "    </tr>\n",
              "    <tr>\n",
              "      <td>1</td>\n",
              "      <td>0.288562</td>\n",
              "      <td>0.237999</td>\n",
              "      <td>0.067659</td>\n",
              "      <td>01:57</td>\n",
              "    </tr>\n",
              "    <tr>\n",
              "      <td>2</td>\n",
              "      <td>0.174544</td>\n",
              "      <td>0.220981</td>\n",
              "      <td>0.064276</td>\n",
              "      <td>01:58</td>\n",
              "    </tr>\n",
              "  </tbody>\n",
              "</table>"
            ],
            "text/plain": [
              "<IPython.core.display.HTML object>"
            ]
          },
          "metadata": {
            "tags": []
          }
        }
      ]
    },
    {
      "cell_type": "code",
      "metadata": {
        "id": "iCt5i1JUUFDD",
        "colab_type": "code",
        "colab": {}
      },
      "source": [
        "learn.save('stage-2')"
      ],
      "execution_count": 20,
      "outputs": []
    },
    {
      "cell_type": "code",
      "metadata": {
        "id": "XqwuFshrW1aH",
        "colab_type": "code",
        "colab": {}
      },
      "source": [
        "new_data = src.transform(tfms, size = 356, padding_mode = 'reflection').databunch(bs = bs, no_check=True).normalize(imagenet_stats)"
      ],
      "execution_count": 21,
      "outputs": []
    },
    {
      "cell_type": "code",
      "metadata": {
        "id": "o5VbsXRPXg3t",
        "colab_type": "code",
        "colab": {
          "base_uri": "https://localhost:8080/",
          "height": 1000
        },
        "outputId": "de41f8ad-8db5-484d-feda-3ebe6c03cfd1"
      },
      "source": [
        "learn = cnn_learner(new_data, models.resnet34, metrics = error_rate)\n",
        "learn.load('stage-2')"
      ],
      "execution_count": 22,
      "outputs": [
        {
          "output_type": "execute_result",
          "data": {
            "text/plain": [
              "Learner(data=ImageDataBunch;\n",
              "\n",
              "Train: LabelList (5912 items)\n",
              "x: ImageList\n",
              "Image (3, 356, 356),Image (3, 356, 356),Image (3, 356, 356),Image (3, 356, 356),Image (3, 356, 356)\n",
              "y: CategoryList\n",
              "Siamese,Siamese,pomeranian,leonberger,great_pyrenees\n",
              "Path: /root/.fastai/data/oxford-iiit-pet/images;\n",
              "\n",
              "Valid: LabelList (1478 items)\n",
              "x: ImageList\n",
              "Image (3, 356, 356),Image (3, 356, 356),Image (3, 356, 356),Image (3, 356, 356),Image (3, 356, 356)\n",
              "y: CategoryList\n",
              "Abyssinian,american_pit_bull_terrier,Abyssinian,Maine_Coon,Persian\n",
              "Path: /root/.fastai/data/oxford-iiit-pet/images;\n",
              "\n",
              "Test: None, model=Sequential(\n",
              "  (0): Sequential(\n",
              "    (0): Conv2d(3, 64, kernel_size=(7, 7), stride=(2, 2), padding=(3, 3), bias=False)\n",
              "    (1): BatchNorm2d(64, eps=1e-05, momentum=0.1, affine=True, track_running_stats=True)\n",
              "    (2): ReLU(inplace=True)\n",
              "    (3): MaxPool2d(kernel_size=3, stride=2, padding=1, dilation=1, ceil_mode=False)\n",
              "    (4): Sequential(\n",
              "      (0): BasicBlock(\n",
              "        (conv1): Conv2d(64, 64, kernel_size=(3, 3), stride=(1, 1), padding=(1, 1), bias=False)\n",
              "        (bn1): BatchNorm2d(64, eps=1e-05, momentum=0.1, affine=True, track_running_stats=True)\n",
              "        (relu): ReLU(inplace=True)\n",
              "        (conv2): Conv2d(64, 64, kernel_size=(3, 3), stride=(1, 1), padding=(1, 1), bias=False)\n",
              "        (bn2): BatchNorm2d(64, eps=1e-05, momentum=0.1, affine=True, track_running_stats=True)\n",
              "      )\n",
              "      (1): BasicBlock(\n",
              "        (conv1): Conv2d(64, 64, kernel_size=(3, 3), stride=(1, 1), padding=(1, 1), bias=False)\n",
              "        (bn1): BatchNorm2d(64, eps=1e-05, momentum=0.1, affine=True, track_running_stats=True)\n",
              "        (relu): ReLU(inplace=True)\n",
              "        (conv2): Conv2d(64, 64, kernel_size=(3, 3), stride=(1, 1), padding=(1, 1), bias=False)\n",
              "        (bn2): BatchNorm2d(64, eps=1e-05, momentum=0.1, affine=True, track_running_stats=True)\n",
              "      )\n",
              "      (2): BasicBlock(\n",
              "        (conv1): Conv2d(64, 64, kernel_size=(3, 3), stride=(1, 1), padding=(1, 1), bias=False)\n",
              "        (bn1): BatchNorm2d(64, eps=1e-05, momentum=0.1, affine=True, track_running_stats=True)\n",
              "        (relu): ReLU(inplace=True)\n",
              "        (conv2): Conv2d(64, 64, kernel_size=(3, 3), stride=(1, 1), padding=(1, 1), bias=False)\n",
              "        (bn2): BatchNorm2d(64, eps=1e-05, momentum=0.1, affine=True, track_running_stats=True)\n",
              "      )\n",
              "    )\n",
              "    (5): Sequential(\n",
              "      (0): BasicBlock(\n",
              "        (conv1): Conv2d(64, 128, kernel_size=(3, 3), stride=(2, 2), padding=(1, 1), bias=False)\n",
              "        (bn1): BatchNorm2d(128, eps=1e-05, momentum=0.1, affine=True, track_running_stats=True)\n",
              "        (relu): ReLU(inplace=True)\n",
              "        (conv2): Conv2d(128, 128, kernel_size=(3, 3), stride=(1, 1), padding=(1, 1), bias=False)\n",
              "        (bn2): BatchNorm2d(128, eps=1e-05, momentum=0.1, affine=True, track_running_stats=True)\n",
              "        (downsample): Sequential(\n",
              "          (0): Conv2d(64, 128, kernel_size=(1, 1), stride=(2, 2), bias=False)\n",
              "          (1): BatchNorm2d(128, eps=1e-05, momentum=0.1, affine=True, track_running_stats=True)\n",
              "        )\n",
              "      )\n",
              "      (1): BasicBlock(\n",
              "        (conv1): Conv2d(128, 128, kernel_size=(3, 3), stride=(1, 1), padding=(1, 1), bias=False)\n",
              "        (bn1): BatchNorm2d(128, eps=1e-05, momentum=0.1, affine=True, track_running_stats=True)\n",
              "        (relu): ReLU(inplace=True)\n",
              "        (conv2): Conv2d(128, 128, kernel_size=(3, 3), stride=(1, 1), padding=(1, 1), bias=False)\n",
              "        (bn2): BatchNorm2d(128, eps=1e-05, momentum=0.1, affine=True, track_running_stats=True)\n",
              "      )\n",
              "      (2): BasicBlock(\n",
              "        (conv1): Conv2d(128, 128, kernel_size=(3, 3), stride=(1, 1), padding=(1, 1), bias=False)\n",
              "        (bn1): BatchNorm2d(128, eps=1e-05, momentum=0.1, affine=True, track_running_stats=True)\n",
              "        (relu): ReLU(inplace=True)\n",
              "        (conv2): Conv2d(128, 128, kernel_size=(3, 3), stride=(1, 1), padding=(1, 1), bias=False)\n",
              "        (bn2): BatchNorm2d(128, eps=1e-05, momentum=0.1, affine=True, track_running_stats=True)\n",
              "      )\n",
              "      (3): BasicBlock(\n",
              "        (conv1): Conv2d(128, 128, kernel_size=(3, 3), stride=(1, 1), padding=(1, 1), bias=False)\n",
              "        (bn1): BatchNorm2d(128, eps=1e-05, momentum=0.1, affine=True, track_running_stats=True)\n",
              "        (relu): ReLU(inplace=True)\n",
              "        (conv2): Conv2d(128, 128, kernel_size=(3, 3), stride=(1, 1), padding=(1, 1), bias=False)\n",
              "        (bn2): BatchNorm2d(128, eps=1e-05, momentum=0.1, affine=True, track_running_stats=True)\n",
              "      )\n",
              "    )\n",
              "    (6): Sequential(\n",
              "      (0): BasicBlock(\n",
              "        (conv1): Conv2d(128, 256, kernel_size=(3, 3), stride=(2, 2), padding=(1, 1), bias=False)\n",
              "        (bn1): BatchNorm2d(256, eps=1e-05, momentum=0.1, affine=True, track_running_stats=True)\n",
              "        (relu): ReLU(inplace=True)\n",
              "        (conv2): Conv2d(256, 256, kernel_size=(3, 3), stride=(1, 1), padding=(1, 1), bias=False)\n",
              "        (bn2): BatchNorm2d(256, eps=1e-05, momentum=0.1, affine=True, track_running_stats=True)\n",
              "        (downsample): Sequential(\n",
              "          (0): Conv2d(128, 256, kernel_size=(1, 1), stride=(2, 2), bias=False)\n",
              "          (1): BatchNorm2d(256, eps=1e-05, momentum=0.1, affine=True, track_running_stats=True)\n",
              "        )\n",
              "      )\n",
              "      (1): BasicBlock(\n",
              "        (conv1): Conv2d(256, 256, kernel_size=(3, 3), stride=(1, 1), padding=(1, 1), bias=False)\n",
              "        (bn1): BatchNorm2d(256, eps=1e-05, momentum=0.1, affine=True, track_running_stats=True)\n",
              "        (relu): ReLU(inplace=True)\n",
              "        (conv2): Conv2d(256, 256, kernel_size=(3, 3), stride=(1, 1), padding=(1, 1), bias=False)\n",
              "        (bn2): BatchNorm2d(256, eps=1e-05, momentum=0.1, affine=True, track_running_stats=True)\n",
              "      )\n",
              "      (2): BasicBlock(\n",
              "        (conv1): Conv2d(256, 256, kernel_size=(3, 3), stride=(1, 1), padding=(1, 1), bias=False)\n",
              "        (bn1): BatchNorm2d(256, eps=1e-05, momentum=0.1, affine=True, track_running_stats=True)\n",
              "        (relu): ReLU(inplace=True)\n",
              "        (conv2): Conv2d(256, 256, kernel_size=(3, 3), stride=(1, 1), padding=(1, 1), bias=False)\n",
              "        (bn2): BatchNorm2d(256, eps=1e-05, momentum=0.1, affine=True, track_running_stats=True)\n",
              "      )\n",
              "      (3): BasicBlock(\n",
              "        (conv1): Conv2d(256, 256, kernel_size=(3, 3), stride=(1, 1), padding=(1, 1), bias=False)\n",
              "        (bn1): BatchNorm2d(256, eps=1e-05, momentum=0.1, affine=True, track_running_stats=True)\n",
              "        (relu): ReLU(inplace=True)\n",
              "        (conv2): Conv2d(256, 256, kernel_size=(3, 3), stride=(1, 1), padding=(1, 1), bias=False)\n",
              "        (bn2): BatchNorm2d(256, eps=1e-05, momentum=0.1, affine=True, track_running_stats=True)\n",
              "      )\n",
              "      (4): BasicBlock(\n",
              "        (conv1): Conv2d(256, 256, kernel_size=(3, 3), stride=(1, 1), padding=(1, 1), bias=False)\n",
              "        (bn1): BatchNorm2d(256, eps=1e-05, momentum=0.1, affine=True, track_running_stats=True)\n",
              "        (relu): ReLU(inplace=True)\n",
              "        (conv2): Conv2d(256, 256, kernel_size=(3, 3), stride=(1, 1), padding=(1, 1), bias=False)\n",
              "        (bn2): BatchNorm2d(256, eps=1e-05, momentum=0.1, affine=True, track_running_stats=True)\n",
              "      )\n",
              "      (5): BasicBlock(\n",
              "        (conv1): Conv2d(256, 256, kernel_size=(3, 3), stride=(1, 1), padding=(1, 1), bias=False)\n",
              "        (bn1): BatchNorm2d(256, eps=1e-05, momentum=0.1, affine=True, track_running_stats=True)\n",
              "        (relu): ReLU(inplace=True)\n",
              "        (conv2): Conv2d(256, 256, kernel_size=(3, 3), stride=(1, 1), padding=(1, 1), bias=False)\n",
              "        (bn2): BatchNorm2d(256, eps=1e-05, momentum=0.1, affine=True, track_running_stats=True)\n",
              "      )\n",
              "    )\n",
              "    (7): Sequential(\n",
              "      (0): BasicBlock(\n",
              "        (conv1): Conv2d(256, 512, kernel_size=(3, 3), stride=(2, 2), padding=(1, 1), bias=False)\n",
              "        (bn1): BatchNorm2d(512, eps=1e-05, momentum=0.1, affine=True, track_running_stats=True)\n",
              "        (relu): ReLU(inplace=True)\n",
              "        (conv2): Conv2d(512, 512, kernel_size=(3, 3), stride=(1, 1), padding=(1, 1), bias=False)\n",
              "        (bn2): BatchNorm2d(512, eps=1e-05, momentum=0.1, affine=True, track_running_stats=True)\n",
              "        (downsample): Sequential(\n",
              "          (0): Conv2d(256, 512, kernel_size=(1, 1), stride=(2, 2), bias=False)\n",
              "          (1): BatchNorm2d(512, eps=1e-05, momentum=0.1, affine=True, track_running_stats=True)\n",
              "        )\n",
              "      )\n",
              "      (1): BasicBlock(\n",
              "        (conv1): Conv2d(512, 512, kernel_size=(3, 3), stride=(1, 1), padding=(1, 1), bias=False)\n",
              "        (bn1): BatchNorm2d(512, eps=1e-05, momentum=0.1, affine=True, track_running_stats=True)\n",
              "        (relu): ReLU(inplace=True)\n",
              "        (conv2): Conv2d(512, 512, kernel_size=(3, 3), stride=(1, 1), padding=(1, 1), bias=False)\n",
              "        (bn2): BatchNorm2d(512, eps=1e-05, momentum=0.1, affine=True, track_running_stats=True)\n",
              "      )\n",
              "      (2): BasicBlock(\n",
              "        (conv1): Conv2d(512, 512, kernel_size=(3, 3), stride=(1, 1), padding=(1, 1), bias=False)\n",
              "        (bn1): BatchNorm2d(512, eps=1e-05, momentum=0.1, affine=True, track_running_stats=True)\n",
              "        (relu): ReLU(inplace=True)\n",
              "        (conv2): Conv2d(512, 512, kernel_size=(3, 3), stride=(1, 1), padding=(1, 1), bias=False)\n",
              "        (bn2): BatchNorm2d(512, eps=1e-05, momentum=0.1, affine=True, track_running_stats=True)\n",
              "      )\n",
              "    )\n",
              "  )\n",
              "  (1): Sequential(\n",
              "    (0): AdaptiveConcatPool2d(\n",
              "      (ap): AdaptiveAvgPool2d(output_size=1)\n",
              "      (mp): AdaptiveMaxPool2d(output_size=1)\n",
              "    )\n",
              "    (1): Flatten()\n",
              "    (2): BatchNorm1d(1024, eps=1e-05, momentum=0.1, affine=True, track_running_stats=True)\n",
              "    (3): Dropout(p=0.25, inplace=False)\n",
              "    (4): Linear(in_features=1024, out_features=512, bias=True)\n",
              "    (5): ReLU(inplace=True)\n",
              "    (6): BatchNorm1d(512, eps=1e-05, momentum=0.1, affine=True, track_running_stats=True)\n",
              "    (7): Dropout(p=0.5, inplace=False)\n",
              "    (8): Linear(in_features=512, out_features=37, bias=True)\n",
              "  )\n",
              "), opt_func=functools.partial(<class 'torch.optim.adam.Adam'>, betas=(0.9, 0.99)), loss_func=FlattenedLoss of CrossEntropyLoss(), metrics=[<function error_rate at 0x7f23f28cf488>], true_wd=True, bn_wd=True, wd=0.01, train_bn=True, path=PosixPath('/root/.fastai/data/oxford-iiit-pet/images'), model_dir='models', callback_fns=[functools.partial(<class 'fastai.basic_train.Recorder'>, add_time=True, silent=False)], callbacks=[], layer_groups=[Sequential(\n",
              "  (0): Conv2d(3, 64, kernel_size=(7, 7), stride=(2, 2), padding=(3, 3), bias=False)\n",
              "  (1): BatchNorm2d(64, eps=1e-05, momentum=0.1, affine=True, track_running_stats=True)\n",
              "  (2): ReLU(inplace=True)\n",
              "  (3): MaxPool2d(kernel_size=3, stride=2, padding=1, dilation=1, ceil_mode=False)\n",
              "  (4): Conv2d(64, 64, kernel_size=(3, 3), stride=(1, 1), padding=(1, 1), bias=False)\n",
              "  (5): BatchNorm2d(64, eps=1e-05, momentum=0.1, affine=True, track_running_stats=True)\n",
              "  (6): ReLU(inplace=True)\n",
              "  (7): Conv2d(64, 64, kernel_size=(3, 3), stride=(1, 1), padding=(1, 1), bias=False)\n",
              "  (8): BatchNorm2d(64, eps=1e-05, momentum=0.1, affine=True, track_running_stats=True)\n",
              "  (9): Conv2d(64, 64, kernel_size=(3, 3), stride=(1, 1), padding=(1, 1), bias=False)\n",
              "  (10): BatchNorm2d(64, eps=1e-05, momentum=0.1, affine=True, track_running_stats=True)\n",
              "  (11): ReLU(inplace=True)\n",
              "  (12): Conv2d(64, 64, kernel_size=(3, 3), stride=(1, 1), padding=(1, 1), bias=False)\n",
              "  (13): BatchNorm2d(64, eps=1e-05, momentum=0.1, affine=True, track_running_stats=True)\n",
              "  (14): Conv2d(64, 64, kernel_size=(3, 3), stride=(1, 1), padding=(1, 1), bias=False)\n",
              "  (15): BatchNorm2d(64, eps=1e-05, momentum=0.1, affine=True, track_running_stats=True)\n",
              "  (16): ReLU(inplace=True)\n",
              "  (17): Conv2d(64, 64, kernel_size=(3, 3), stride=(1, 1), padding=(1, 1), bias=False)\n",
              "  (18): BatchNorm2d(64, eps=1e-05, momentum=0.1, affine=True, track_running_stats=True)\n",
              "  (19): Conv2d(64, 128, kernel_size=(3, 3), stride=(2, 2), padding=(1, 1), bias=False)\n",
              "  (20): BatchNorm2d(128, eps=1e-05, momentum=0.1, affine=True, track_running_stats=True)\n",
              "  (21): ReLU(inplace=True)\n",
              "  (22): Conv2d(128, 128, kernel_size=(3, 3), stride=(1, 1), padding=(1, 1), bias=False)\n",
              "  (23): BatchNorm2d(128, eps=1e-05, momentum=0.1, affine=True, track_running_stats=True)\n",
              "  (24): Conv2d(64, 128, kernel_size=(1, 1), stride=(2, 2), bias=False)\n",
              "  (25): BatchNorm2d(128, eps=1e-05, momentum=0.1, affine=True, track_running_stats=True)\n",
              "  (26): Conv2d(128, 128, kernel_size=(3, 3), stride=(1, 1), padding=(1, 1), bias=False)\n",
              "  (27): BatchNorm2d(128, eps=1e-05, momentum=0.1, affine=True, track_running_stats=True)\n",
              "  (28): ReLU(inplace=True)\n",
              "  (29): Conv2d(128, 128, kernel_size=(3, 3), stride=(1, 1), padding=(1, 1), bias=False)\n",
              "  (30): BatchNorm2d(128, eps=1e-05, momentum=0.1, affine=True, track_running_stats=True)\n",
              "  (31): Conv2d(128, 128, kernel_size=(3, 3), stride=(1, 1), padding=(1, 1), bias=False)\n",
              "  (32): BatchNorm2d(128, eps=1e-05, momentum=0.1, affine=True, track_running_stats=True)\n",
              "  (33): ReLU(inplace=True)\n",
              "  (34): Conv2d(128, 128, kernel_size=(3, 3), stride=(1, 1), padding=(1, 1), bias=False)\n",
              "  (35): BatchNorm2d(128, eps=1e-05, momentum=0.1, affine=True, track_running_stats=True)\n",
              "  (36): Conv2d(128, 128, kernel_size=(3, 3), stride=(1, 1), padding=(1, 1), bias=False)\n",
              "  (37): BatchNorm2d(128, eps=1e-05, momentum=0.1, affine=True, track_running_stats=True)\n",
              "  (38): ReLU(inplace=True)\n",
              "  (39): Conv2d(128, 128, kernel_size=(3, 3), stride=(1, 1), padding=(1, 1), bias=False)\n",
              "  (40): BatchNorm2d(128, eps=1e-05, momentum=0.1, affine=True, track_running_stats=True)\n",
              "), Sequential(\n",
              "  (0): Conv2d(128, 256, kernel_size=(3, 3), stride=(2, 2), padding=(1, 1), bias=False)\n",
              "  (1): BatchNorm2d(256, eps=1e-05, momentum=0.1, affine=True, track_running_stats=True)\n",
              "  (2): ReLU(inplace=True)\n",
              "  (3): Conv2d(256, 256, kernel_size=(3, 3), stride=(1, 1), padding=(1, 1), bias=False)\n",
              "  (4): BatchNorm2d(256, eps=1e-05, momentum=0.1, affine=True, track_running_stats=True)\n",
              "  (5): Conv2d(128, 256, kernel_size=(1, 1), stride=(2, 2), bias=False)\n",
              "  (6): BatchNorm2d(256, eps=1e-05, momentum=0.1, affine=True, track_running_stats=True)\n",
              "  (7): Conv2d(256, 256, kernel_size=(3, 3), stride=(1, 1), padding=(1, 1), bias=False)\n",
              "  (8): BatchNorm2d(256, eps=1e-05, momentum=0.1, affine=True, track_running_stats=True)\n",
              "  (9): ReLU(inplace=True)\n",
              "  (10): Conv2d(256, 256, kernel_size=(3, 3), stride=(1, 1), padding=(1, 1), bias=False)\n",
              "  (11): BatchNorm2d(256, eps=1e-05, momentum=0.1, affine=True, track_running_stats=True)\n",
              "  (12): Conv2d(256, 256, kernel_size=(3, 3), stride=(1, 1), padding=(1, 1), bias=False)\n",
              "  (13): BatchNorm2d(256, eps=1e-05, momentum=0.1, affine=True, track_running_stats=True)\n",
              "  (14): ReLU(inplace=True)\n",
              "  (15): Conv2d(256, 256, kernel_size=(3, 3), stride=(1, 1), padding=(1, 1), bias=False)\n",
              "  (16): BatchNorm2d(256, eps=1e-05, momentum=0.1, affine=True, track_running_stats=True)\n",
              "  (17): Conv2d(256, 256, kernel_size=(3, 3), stride=(1, 1), padding=(1, 1), bias=False)\n",
              "  (18): BatchNorm2d(256, eps=1e-05, momentum=0.1, affine=True, track_running_stats=True)\n",
              "  (19): ReLU(inplace=True)\n",
              "  (20): Conv2d(256, 256, kernel_size=(3, 3), stride=(1, 1), padding=(1, 1), bias=False)\n",
              "  (21): BatchNorm2d(256, eps=1e-05, momentum=0.1, affine=True, track_running_stats=True)\n",
              "  (22): Conv2d(256, 256, kernel_size=(3, 3), stride=(1, 1), padding=(1, 1), bias=False)\n",
              "  (23): BatchNorm2d(256, eps=1e-05, momentum=0.1, affine=True, track_running_stats=True)\n",
              "  (24): ReLU(inplace=True)\n",
              "  (25): Conv2d(256, 256, kernel_size=(3, 3), stride=(1, 1), padding=(1, 1), bias=False)\n",
              "  (26): BatchNorm2d(256, eps=1e-05, momentum=0.1, affine=True, track_running_stats=True)\n",
              "  (27): Conv2d(256, 256, kernel_size=(3, 3), stride=(1, 1), padding=(1, 1), bias=False)\n",
              "  (28): BatchNorm2d(256, eps=1e-05, momentum=0.1, affine=True, track_running_stats=True)\n",
              "  (29): ReLU(inplace=True)\n",
              "  (30): Conv2d(256, 256, kernel_size=(3, 3), stride=(1, 1), padding=(1, 1), bias=False)\n",
              "  (31): BatchNorm2d(256, eps=1e-05, momentum=0.1, affine=True, track_running_stats=True)\n",
              "  (32): Conv2d(256, 512, kernel_size=(3, 3), stride=(2, 2), padding=(1, 1), bias=False)\n",
              "  (33): BatchNorm2d(512, eps=1e-05, momentum=0.1, affine=True, track_running_stats=True)\n",
              "  (34): ReLU(inplace=True)\n",
              "  (35): Conv2d(512, 512, kernel_size=(3, 3), stride=(1, 1), padding=(1, 1), bias=False)\n",
              "  (36): BatchNorm2d(512, eps=1e-05, momentum=0.1, affine=True, track_running_stats=True)\n",
              "  (37): Conv2d(256, 512, kernel_size=(1, 1), stride=(2, 2), bias=False)\n",
              "  (38): BatchNorm2d(512, eps=1e-05, momentum=0.1, affine=True, track_running_stats=True)\n",
              "  (39): Conv2d(512, 512, kernel_size=(3, 3), stride=(1, 1), padding=(1, 1), bias=False)\n",
              "  (40): BatchNorm2d(512, eps=1e-05, momentum=0.1, affine=True, track_running_stats=True)\n",
              "  (41): ReLU(inplace=True)\n",
              "  (42): Conv2d(512, 512, kernel_size=(3, 3), stride=(1, 1), padding=(1, 1), bias=False)\n",
              "  (43): BatchNorm2d(512, eps=1e-05, momentum=0.1, affine=True, track_running_stats=True)\n",
              "  (44): Conv2d(512, 512, kernel_size=(3, 3), stride=(1, 1), padding=(1, 1), bias=False)\n",
              "  (45): BatchNorm2d(512, eps=1e-05, momentum=0.1, affine=True, track_running_stats=True)\n",
              "  (46): ReLU(inplace=True)\n",
              "  (47): Conv2d(512, 512, kernel_size=(3, 3), stride=(1, 1), padding=(1, 1), bias=False)\n",
              "  (48): BatchNorm2d(512, eps=1e-05, momentum=0.1, affine=True, track_running_stats=True)\n",
              "), Sequential(\n",
              "  (0): AdaptiveAvgPool2d(output_size=1)\n",
              "  (1): AdaptiveMaxPool2d(output_size=1)\n",
              "  (2): Flatten()\n",
              "  (3): BatchNorm1d(1024, eps=1e-05, momentum=0.1, affine=True, track_running_stats=True)\n",
              "  (4): Dropout(p=0.25, inplace=False)\n",
              "  (5): Linear(in_features=1024, out_features=512, bias=True)\n",
              "  (6): ReLU(inplace=True)\n",
              "  (7): BatchNorm1d(512, eps=1e-05, momentum=0.1, affine=True, track_running_stats=True)\n",
              "  (8): Dropout(p=0.5, inplace=False)\n",
              "  (9): Linear(in_features=512, out_features=37, bias=True)\n",
              ")], add_time=True, silent=False)"
            ]
          },
          "metadata": {
            "tags": []
          },
          "execution_count": 22
        }
      ]
    },
    {
      "cell_type": "code",
      "metadata": {
        "id": "QOJtYHHxYry6",
        "colab_type": "code",
        "colab": {
          "base_uri": "https://localhost:8080/",
          "height": 1000
        },
        "outputId": "60e17bf5-c0b6-4730-8389-1c93a984b6de"
      },
      "source": [
        "learn.summary()"
      ],
      "execution_count": 23,
      "outputs": [
        {
          "output_type": "execute_result",
          "data": {
            "application/vnd.google.colaboratory.intrinsic": {
              "type": "string"
            },
            "text/plain": [
              "Sequential\n",
              "======================================================================\n",
              "Layer (type)         Output Shape         Param #    Trainable \n",
              "======================================================================\n",
              "Conv2d               [64, 178, 178]       9,408      False     \n",
              "______________________________________________________________________\n",
              "BatchNorm2d          [64, 178, 178]       128        True      \n",
              "______________________________________________________________________\n",
              "ReLU                 [64, 178, 178]       0          False     \n",
              "______________________________________________________________________\n",
              "MaxPool2d            [64, 89, 89]         0          False     \n",
              "______________________________________________________________________\n",
              "Conv2d               [64, 89, 89]         36,864     False     \n",
              "______________________________________________________________________\n",
              "BatchNorm2d          [64, 89, 89]         128        True      \n",
              "______________________________________________________________________\n",
              "ReLU                 [64, 89, 89]         0          False     \n",
              "______________________________________________________________________\n",
              "Conv2d               [64, 89, 89]         36,864     False     \n",
              "______________________________________________________________________\n",
              "BatchNorm2d          [64, 89, 89]         128        True      \n",
              "______________________________________________________________________\n",
              "Conv2d               [64, 89, 89]         36,864     False     \n",
              "______________________________________________________________________\n",
              "BatchNorm2d          [64, 89, 89]         128        True      \n",
              "______________________________________________________________________\n",
              "ReLU                 [64, 89, 89]         0          False     \n",
              "______________________________________________________________________\n",
              "Conv2d               [64, 89, 89]         36,864     False     \n",
              "______________________________________________________________________\n",
              "BatchNorm2d          [64, 89, 89]         128        True      \n",
              "______________________________________________________________________\n",
              "Conv2d               [64, 89, 89]         36,864     False     \n",
              "______________________________________________________________________\n",
              "BatchNorm2d          [64, 89, 89]         128        True      \n",
              "______________________________________________________________________\n",
              "ReLU                 [64, 89, 89]         0          False     \n",
              "______________________________________________________________________\n",
              "Conv2d               [64, 89, 89]         36,864     False     \n",
              "______________________________________________________________________\n",
              "BatchNorm2d          [64, 89, 89]         128        True      \n",
              "______________________________________________________________________\n",
              "Conv2d               [128, 45, 45]        73,728     False     \n",
              "______________________________________________________________________\n",
              "BatchNorm2d          [128, 45, 45]        256        True      \n",
              "______________________________________________________________________\n",
              "ReLU                 [128, 45, 45]        0          False     \n",
              "______________________________________________________________________\n",
              "Conv2d               [128, 45, 45]        147,456    False     \n",
              "______________________________________________________________________\n",
              "BatchNorm2d          [128, 45, 45]        256        True      \n",
              "______________________________________________________________________\n",
              "Conv2d               [128, 45, 45]        8,192      False     \n",
              "______________________________________________________________________\n",
              "BatchNorm2d          [128, 45, 45]        256        True      \n",
              "______________________________________________________________________\n",
              "Conv2d               [128, 45, 45]        147,456    False     \n",
              "______________________________________________________________________\n",
              "BatchNorm2d          [128, 45, 45]        256        True      \n",
              "______________________________________________________________________\n",
              "ReLU                 [128, 45, 45]        0          False     \n",
              "______________________________________________________________________\n",
              "Conv2d               [128, 45, 45]        147,456    False     \n",
              "______________________________________________________________________\n",
              "BatchNorm2d          [128, 45, 45]        256        True      \n",
              "______________________________________________________________________\n",
              "Conv2d               [128, 45, 45]        147,456    False     \n",
              "______________________________________________________________________\n",
              "BatchNorm2d          [128, 45, 45]        256        True      \n",
              "______________________________________________________________________\n",
              "ReLU                 [128, 45, 45]        0          False     \n",
              "______________________________________________________________________\n",
              "Conv2d               [128, 45, 45]        147,456    False     \n",
              "______________________________________________________________________\n",
              "BatchNorm2d          [128, 45, 45]        256        True      \n",
              "______________________________________________________________________\n",
              "Conv2d               [128, 45, 45]        147,456    False     \n",
              "______________________________________________________________________\n",
              "BatchNorm2d          [128, 45, 45]        256        True      \n",
              "______________________________________________________________________\n",
              "ReLU                 [128, 45, 45]        0          False     \n",
              "______________________________________________________________________\n",
              "Conv2d               [128, 45, 45]        147,456    False     \n",
              "______________________________________________________________________\n",
              "BatchNorm2d          [128, 45, 45]        256        True      \n",
              "______________________________________________________________________\n",
              "Conv2d               [256, 23, 23]        294,912    False     \n",
              "______________________________________________________________________\n",
              "BatchNorm2d          [256, 23, 23]        512        True      \n",
              "______________________________________________________________________\n",
              "ReLU                 [256, 23, 23]        0          False     \n",
              "______________________________________________________________________\n",
              "Conv2d               [256, 23, 23]        589,824    False     \n",
              "______________________________________________________________________\n",
              "BatchNorm2d          [256, 23, 23]        512        True      \n",
              "______________________________________________________________________\n",
              "Conv2d               [256, 23, 23]        32,768     False     \n",
              "______________________________________________________________________\n",
              "BatchNorm2d          [256, 23, 23]        512        True      \n",
              "______________________________________________________________________\n",
              "Conv2d               [256, 23, 23]        589,824    False     \n",
              "______________________________________________________________________\n",
              "BatchNorm2d          [256, 23, 23]        512        True      \n",
              "______________________________________________________________________\n",
              "ReLU                 [256, 23, 23]        0          False     \n",
              "______________________________________________________________________\n",
              "Conv2d               [256, 23, 23]        589,824    False     \n",
              "______________________________________________________________________\n",
              "BatchNorm2d          [256, 23, 23]        512        True      \n",
              "______________________________________________________________________\n",
              "Conv2d               [256, 23, 23]        589,824    False     \n",
              "______________________________________________________________________\n",
              "BatchNorm2d          [256, 23, 23]        512        True      \n",
              "______________________________________________________________________\n",
              "ReLU                 [256, 23, 23]        0          False     \n",
              "______________________________________________________________________\n",
              "Conv2d               [256, 23, 23]        589,824    False     \n",
              "______________________________________________________________________\n",
              "BatchNorm2d          [256, 23, 23]        512        True      \n",
              "______________________________________________________________________\n",
              "Conv2d               [256, 23, 23]        589,824    False     \n",
              "______________________________________________________________________\n",
              "BatchNorm2d          [256, 23, 23]        512        True      \n",
              "______________________________________________________________________\n",
              "ReLU                 [256, 23, 23]        0          False     \n",
              "______________________________________________________________________\n",
              "Conv2d               [256, 23, 23]        589,824    False     \n",
              "______________________________________________________________________\n",
              "BatchNorm2d          [256, 23, 23]        512        True      \n",
              "______________________________________________________________________\n",
              "Conv2d               [256, 23, 23]        589,824    False     \n",
              "______________________________________________________________________\n",
              "BatchNorm2d          [256, 23, 23]        512        True      \n",
              "______________________________________________________________________\n",
              "ReLU                 [256, 23, 23]        0          False     \n",
              "______________________________________________________________________\n",
              "Conv2d               [256, 23, 23]        589,824    False     \n",
              "______________________________________________________________________\n",
              "BatchNorm2d          [256, 23, 23]        512        True      \n",
              "______________________________________________________________________\n",
              "Conv2d               [256, 23, 23]        589,824    False     \n",
              "______________________________________________________________________\n",
              "BatchNorm2d          [256, 23, 23]        512        True      \n",
              "______________________________________________________________________\n",
              "ReLU                 [256, 23, 23]        0          False     \n",
              "______________________________________________________________________\n",
              "Conv2d               [256, 23, 23]        589,824    False     \n",
              "______________________________________________________________________\n",
              "BatchNorm2d          [256, 23, 23]        512        True      \n",
              "______________________________________________________________________\n",
              "Conv2d               [512, 12, 12]        1,179,648  False     \n",
              "______________________________________________________________________\n",
              "BatchNorm2d          [512, 12, 12]        1,024      True      \n",
              "______________________________________________________________________\n",
              "ReLU                 [512, 12, 12]        0          False     \n",
              "______________________________________________________________________\n",
              "Conv2d               [512, 12, 12]        2,359,296  False     \n",
              "______________________________________________________________________\n",
              "BatchNorm2d          [512, 12, 12]        1,024      True      \n",
              "______________________________________________________________________\n",
              "Conv2d               [512, 12, 12]        131,072    False     \n",
              "______________________________________________________________________\n",
              "BatchNorm2d          [512, 12, 12]        1,024      True      \n",
              "______________________________________________________________________\n",
              "Conv2d               [512, 12, 12]        2,359,296  False     \n",
              "______________________________________________________________________\n",
              "BatchNorm2d          [512, 12, 12]        1,024      True      \n",
              "______________________________________________________________________\n",
              "ReLU                 [512, 12, 12]        0          False     \n",
              "______________________________________________________________________\n",
              "Conv2d               [512, 12, 12]        2,359,296  False     \n",
              "______________________________________________________________________\n",
              "BatchNorm2d          [512, 12, 12]        1,024      True      \n",
              "______________________________________________________________________\n",
              "Conv2d               [512, 12, 12]        2,359,296  False     \n",
              "______________________________________________________________________\n",
              "BatchNorm2d          [512, 12, 12]        1,024      True      \n",
              "______________________________________________________________________\n",
              "ReLU                 [512, 12, 12]        0          False     \n",
              "______________________________________________________________________\n",
              "Conv2d               [512, 12, 12]        2,359,296  False     \n",
              "______________________________________________________________________\n",
              "BatchNorm2d          [512, 12, 12]        1,024      True      \n",
              "______________________________________________________________________\n",
              "AdaptiveAvgPool2d    [512, 1, 1]          0          False     \n",
              "______________________________________________________________________\n",
              "AdaptiveMaxPool2d    [512, 1, 1]          0          False     \n",
              "______________________________________________________________________\n",
              "Flatten              [1024]               0          False     \n",
              "______________________________________________________________________\n",
              "BatchNorm1d          [1024]               2,048      True      \n",
              "______________________________________________________________________\n",
              "Dropout              [1024]               0          False     \n",
              "______________________________________________________________________\n",
              "Linear               [512]                524,800    True      \n",
              "______________________________________________________________________\n",
              "ReLU                 [512]                0          False     \n",
              "______________________________________________________________________\n",
              "BatchNorm1d          [512]                1,024      True      \n",
              "______________________________________________________________________\n",
              "Dropout              [512]                0          False     \n",
              "______________________________________________________________________\n",
              "Linear               [37]                 18,981     True      \n",
              "______________________________________________________________________\n",
              "\n",
              "Total params: 21,831,525\n",
              "Total trainable params: 563,877\n",
              "Total non-trainable params: 21,267,648\n",
              "Optimized with 'torch.optim.adam.Adam', betas=(0.9, 0.99)\n",
              "Using true weight decay as discussed in https://www.fast.ai/2018/07/02/adam-weight-decay/ \n",
              "Loss function : FlattenedLoss\n",
              "======================================================================\n",
              "Callbacks functions applied "
            ]
          },
          "metadata": {
            "tags": []
          },
          "execution_count": 23
        }
      ]
    },
    {
      "cell_type": "code",
      "metadata": {
        "id": "mC5Mn3UGaJBk",
        "colab_type": "code",
        "colab": {
          "base_uri": "https://localhost:8080/",
          "height": 373
        },
        "outputId": "74c6efa2-2f93-4b40-8d06-e2f6f89ece19"
      },
      "source": [
        "learn.lr_find()\n",
        "learn.recorder.plot()"
      ],
      "execution_count": 24,
      "outputs": [
        {
          "output_type": "display_data",
          "data": {
            "text/html": [
              "\n",
              "    <div>\n",
              "        <style>\n",
              "            /* Turns off some styling */\n",
              "            progress {\n",
              "                /* gets rid of default border in Firefox and Opera. */\n",
              "                border: none;\n",
              "                /* Needs to be in here for Safari polyfill so background images work as expected. */\n",
              "                background-size: auto;\n",
              "            }\n",
              "            .progress-bar-interrupted, .progress-bar-interrupted::-webkit-progress-bar {\n",
              "                background: #F44336;\n",
              "            }\n",
              "        </style>\n",
              "      <progress value='0' class='' max='2' style='width:300px; height:20px; vertical-align: middle;'></progress>\n",
              "      0.00% [0/2 00:00<00:00]\n",
              "    </div>\n",
              "    \n",
              "<table border=\"1\" class=\"dataframe\">\n",
              "  <thead>\n",
              "    <tr style=\"text-align: left;\">\n",
              "      <th>epoch</th>\n",
              "      <th>train_loss</th>\n",
              "      <th>valid_loss</th>\n",
              "      <th>error_rate</th>\n",
              "      <th>time</th>\n",
              "    </tr>\n",
              "  </thead>\n",
              "  <tbody>\n",
              "  </tbody>\n",
              "</table><p>\n",
              "\n",
              "    <div>\n",
              "        <style>\n",
              "            /* Turns off some styling */\n",
              "            progress {\n",
              "                /* gets rid of default border in Firefox and Opera. */\n",
              "                border: none;\n",
              "                /* Needs to be in here for Safari polyfill so background images work as expected. */\n",
              "                background-size: auto;\n",
              "            }\n",
              "            .progress-bar-interrupted, .progress-bar-interrupted::-webkit-progress-bar {\n",
              "                background: #F44336;\n",
              "            }\n",
              "        </style>\n",
              "      <progress value='73' class='' max='92' style='width:300px; height:20px; vertical-align: middle;'></progress>\n",
              "      79.35% [73/92 02:25<00:37 0.5301]\n",
              "    </div>\n",
              "    "
            ],
            "text/plain": [
              "<IPython.core.display.HTML object>"
            ]
          },
          "metadata": {
            "tags": []
          }
        },
        {
          "output_type": "stream",
          "text": [
            "LR Finder is complete, type {learner_name}.recorder.plot() to see the graph.\n"
          ],
          "name": "stdout"
        },
        {
          "output_type": "display_data",
          "data": {
            "image/png": "[encoded data removed]",
            "text/plain": [
              "<Figure size 432x288 with 1 Axes>"
            ]
          },
          "metadata": {
            "tags": [],
            "needs_background": "light"
          }
        }
      ]
    },
    {
      "cell_type": "code",
      "metadata": {
        "id": "JcJe0d81bKYY",
        "colab_type": "code",
        "colab": {
          "base_uri": "https://localhost:8080/",
          "height": 138
        },
        "outputId": "b56e7473-bfe8-4d75-c5b4-400b1dcc2a8e"
      },
      "source": [
        "learn.fit_one_cycle(3, max_lr = slice(1e-05, 4e-03))"
      ],
      "execution_count": 25,
      "outputs": [
        {
          "output_type": "display_data",
          "data": {
            "text/html": [
              "<table border=\"1\" class=\"dataframe\">\n",
              "  <thead>\n",
              "    <tr style=\"text-align: left;\">\n",
              "      <th>epoch</th>\n",
              "      <th>train_loss</th>\n",
              "      <th>valid_loss</th>\n",
              "      <th>error_rate</th>\n",
              "      <th>time</th>\n",
              "    </tr>\n",
              "  </thead>\n",
              "  <tbody>\n",
              "    <tr>\n",
              "      <td>0</td>\n",
              "      <td>0.296837</td>\n",
              "      <td>0.272756</td>\n",
              "      <td>0.077808</td>\n",
              "      <td>03:25</td>\n",
              "    </tr>\n",
              "    <tr>\n",
              "      <td>1</td>\n",
              "      <td>0.264501</td>\n",
              "      <td>0.217357</td>\n",
              "      <td>0.062923</td>\n",
              "      <td>03:23</td>\n",
              "    </tr>\n",
              "    <tr>\n",
              "      <td>2</td>\n",
              "      <td>0.176689</td>\n",
              "      <td>0.202249</td>\n",
              "      <td>0.058863</td>\n",
              "      <td>03:20</td>\n",
              "    </tr>\n",
              "  </tbody>\n",
              "</table>"
            ],
            "text/plain": [
              "<IPython.core.display.HTML object>"
            ]
          },
          "metadata": {
            "tags": []
          }
        }
      ]
    },
    {
      "cell_type": "code",
      "metadata": {
        "id": "wvN-lCmsyVbR",
        "colab_type": "code",
        "colab": {
          "base_uri": "https://localhost:8080/",
          "height": 373
        },
        "outputId": "669c8cef-6d4b-4809-a81f-cac52ba38fa4"
      },
      "source": [
        "learn.save('stage-4')\n",
        "learn.unfreeze()\n",
        "learn.lr_find()\n",
        "learn.recorder.plot()"
      ],
      "execution_count": 26,
      "outputs": [
        {
          "output_type": "display_data",
          "data": {
            "text/html": [
              "\n",
              "    <div>\n",
              "        <style>\n",
              "            /* Turns off some styling */\n",
              "            progress {\n",
              "                /* gets rid of default border in Firefox and Opera. */\n",
              "                border: none;\n",
              "                /* Needs to be in here for Safari polyfill so background images work as expected. */\n",
              "                background-size: auto;\n",
              "            }\n",
              "            .progress-bar-interrupted, .progress-bar-interrupted::-webkit-progress-bar {\n",
              "                background: #F44336;\n",
              "            }\n",
              "        </style>\n",
              "      <progress value='0' class='' max='2' style='width:300px; height:20px; vertical-align: middle;'></progress>\n",
              "      0.00% [0/2 00:00<00:00]\n",
              "    </div>\n",
              "    \n",
              "<table border=\"1\" class=\"dataframe\">\n",
              "  <thead>\n",
              "    <tr style=\"text-align: left;\">\n",
              "      <th>epoch</th>\n",
              "      <th>train_loss</th>\n",
              "      <th>valid_loss</th>\n",
              "      <th>error_rate</th>\n",
              "      <th>time</th>\n",
              "    </tr>\n",
              "  </thead>\n",
              "  <tbody>\n",
              "  </tbody>\n",
              "</table><p>\n",
              "\n",
              "    <div>\n",
              "        <style>\n",
              "            /* Turns off some styling */\n",
              "            progress {\n",
              "                /* gets rid of default border in Firefox and Opera. */\n",
              "                border: none;\n",
              "                /* Needs to be in here for Safari polyfill so background images work as expected. */\n",
              "                background-size: auto;\n",
              "            }\n",
              "            .progress-bar-interrupted, .progress-bar-interrupted::-webkit-progress-bar {\n",
              "                background: #F44336;\n",
              "            }\n",
              "        </style>\n",
              "      <progress value='56' class='' max='92' style='width:300px; height:20px; vertical-align: middle;'></progress>\n",
              "      60.87% [56/92 01:59<01:16 0.5173]\n",
              "    </div>\n",
              "    "
            ],
            "text/plain": [
              "<IPython.core.display.HTML object>"
            ]
          },
          "metadata": {
            "tags": []
          }
        },
        {
          "output_type": "stream",
          "text": [
            "LR Finder is complete, type {learner_name}.recorder.plot() to see the graph.\n"
          ],
          "name": "stdout"
        },
        {
          "output_type": "display_data",
          "data": {
            "image/png": "[encoded data removed]",
            "text/plain": [
              "<Figure size 432x288 with 1 Axes>"
            ]
          },
          "metadata": {
            "tags": [],
            "needs_background": "light"
          }
        }
      ]
    },
    {
      "cell_type": "code",
      "metadata": {
        "id": "rLMD2ytI1bIi",
        "colab_type": "code",
        "colab": {
          "base_uri": "https://localhost:8080/",
          "height": 108
        },
        "outputId": "bf65a82a-dba8-47b4-ab61-8c9420348830"
      },
      "source": [
        "learn.fit_one_cycle(2, max_lr = slice(1e-06, 2e-04))"
      ],
      "execution_count": 27,
      "outputs": [
        {
          "output_type": "display_data",
          "data": {
            "text/html": [
              "<table border=\"1\" class=\"dataframe\">\n",
              "  <thead>\n",
              "    <tr style=\"text-align: left;\">\n",
              "      <th>epoch</th>\n",
              "      <th>train_loss</th>\n",
              "      <th>valid_loss</th>\n",
              "      <th>error_rate</th>\n",
              "      <th>time</th>\n",
              "    </tr>\n",
              "  </thead>\n",
              "  <tbody>\n",
              "    <tr>\n",
              "      <td>0</td>\n",
              "      <td>0.158703</td>\n",
              "      <td>0.188804</td>\n",
              "      <td>0.052774</td>\n",
              "      <td>03:36</td>\n",
              "    </tr>\n",
              "    <tr>\n",
              "      <td>1</td>\n",
              "      <td>0.125122</td>\n",
              "      <td>0.184042</td>\n",
              "      <td>0.048714</td>\n",
              "      <td>03:33</td>\n",
              "    </tr>\n",
              "  </tbody>\n",
              "</table>"
            ],
            "text/plain": [
              "<IPython.core.display.HTML object>"
            ]
          },
          "metadata": {
            "tags": []
          }
        }
      ]
    },
    {
      "cell_type": "code",
      "metadata": {
        "id": "fFnZ3yyF3E2M",
        "colab_type": "code",
        "colab": {}
      },
      "source": [
        "learn.save('stage-5')"
      ],
      "execution_count": 28,
      "outputs": []
    },
    {
      "cell_type": "code",
      "metadata": {
        "id": "ndSjBhQ53TcU",
        "colab_type": "code",
        "colab": {
          "base_uri": "https://localhost:8080/",
          "height": 35
        },
        "outputId": "13f5f3aa-8c64-4f0d-f212-c8a222b71f61"
      },
      "source": [
        "t = test_img.data; t.shape"
      ],
      "execution_count": 33,
      "outputs": [
        {
          "output_type": "execute_result",
          "data": {
            "text/plain": [
              "torch.Size([3, 333, 500])"
            ]
          },
          "metadata": {
            "tags": []
          },
          "execution_count": 33
        }
      ]
    },
    {
      "cell_type": "code",
      "metadata": {
        "id": "q1_eNNEz3liL",
        "colab_type": "code",
        "colab": {}
      },
      "source": [
        "k = tensor([[0, -5/3, 1.], [-5/3, -5/3, 1.], [1., 1., 1.]])\n",
        "k = k.expand(1, 3, 3, 3)/6."
      ],
      "execution_count": 34,
      "outputs": []
    },
    {
      "cell_type": "code",
      "metadata": {
        "id": "e8JSi55I4Cc8",
        "colab_type": "code",
        "colab": {
          "base_uri": "https://localhost:8080/",
          "height": 35
        },
        "outputId": "213fc149-a9f1-4f07-8c4d-11fa3ec58da5"
      },
      "source": [
        "k.shape"
      ],
      "execution_count": 43,
      "outputs": [
        {
          "output_type": "execute_result",
          "data": {
            "text/plain": [
              "torch.Size([1, 3, 3, 3])"
            ]
          },
          "metadata": {
            "tags": []
          },
          "execution_count": 43
        }
      ]
    },
    {
      "cell_type": "code",
      "metadata": {
        "id": "ftq6WrB_4aFt",
        "colab_type": "code",
        "colab": {
          "base_uri": "https://localhost:8080/",
          "height": 35
        },
        "outputId": "6c9a8b77-31dd-415c-dfa3-1ea9bab1e07a"
      },
      "source": [
        "t.shape\n",
        "t[None].shape"
      ],
      "execution_count": 46,
      "outputs": [
        {
          "output_type": "execute_result",
          "data": {
            "text/plain": [
              "torch.Size([1, 3, 333, 500])"
            ]
          },
          "metadata": {
            "tags": []
          },
          "execution_count": 46
        }
      ]
    },
    {
      "cell_type": "code",
      "metadata": {
        "id": "O6HNgTpa4qGl",
        "colab_type": "code",
        "colab": {
          "base_uri": "https://localhost:8080/",
          "height": 35
        },
        "outputId": "f8e9a611-1b8a-4919-c3c0-d6f52dea05de"
      },
      "source": [
        "br = F.conv2d(t[None], k)\n",
        "br.shape"
      ],
      "execution_count": 52,
      "outputs": [
        {
          "output_type": "execute_result",
          "data": {
            "text/plain": [
              "torch.Size([1, 1, 331, 498])"
            ]
          },
          "metadata": {
            "tags": []
          },
          "execution_count": 52
        }
      ]
    },
    {
      "cell_type": "code",
      "metadata": {
        "id": "C8g4zOqE407h",
        "colab_type": "code",
        "colab": {
          "base_uri": "https://localhost:8080/",
          "height": 234
        },
        "outputId": "fd4b0f0c-7c49-48f6-c0e9-f728fcd27436"
      },
      "source": [
        "show_image(br[0], figsize = (5, 5))"
      ],
      "execution_count": 54,
      "outputs": [
        {
          "output_type": "execute_result",
          "data": {
            "text/plain": [
              "<matplotlib.axes._subplots.AxesSubplot at 0x7f23dc738f28>"
            ]
          },
          "metadata": {
            "tags": []
          },
          "execution_count": 54
        },
        {
          "output_type": "display_data",
          "data": {
            "image/png": "[encoded data removed]",
            "text/plain": [
              "<Figure size 360x360 with 1 Axes>"
            ]
          },
          "metadata": {
            "tags": [],
            "needs_background": "light"
          }
        }
      ]
    },
    {
      "cell_type": "code",
      "metadata": {
        "id": "xFOk5ylf5C2i",
        "colab_type": "code",
        "colab": {}
      },
      "source": [
        "m = learn.model.eval()"
      ],
      "execution_count": 55,
      "outputs": []
    },
    {
      "cell_type": "code",
      "metadata": {
        "id": "UiyJQ41d7w7J",
        "colab_type": "code",
        "colab": {}
      },
      "source": [
        "idx = 0\n",
        "x, y = data.valid_ds[idx]"
      ],
      "execution_count": 57,
      "outputs": []
    },
    {
      "cell_type": "code",
      "metadata": {
        "id": "3FN6oh9b7-DW",
        "colab_type": "code",
        "colab": {
          "base_uri": "https://localhost:8080/",
          "height": 194
        },
        "outputId": "d4fd3885-4b84-47f4-8e71-8e51904a8f20"
      },
      "source": [
        "x.show()"
      ],
      "execution_count": 60,
      "outputs": [
        {
          "output_type": "display_data",
          "data": {
            "image/png": "[encoded data removed]",
            "text/plain": [
              "<Figure size 216x216 with 1 Axes>"
            ]
          },
          "metadata": {
            "tags": [],
            "needs_background": "light"
          }
        }
      ]
    },
    {
      "cell_type": "code",
      "metadata": {
        "id": "rypVFb_Z8Eiv",
        "colab_type": "code",
        "colab": {
          "base_uri": "https://localhost:8080/",
          "height": 1000
        },
        "outputId": "a8c51fbc-7630-43d6-a529-a4189aa9c34d"
      },
      "source": [
        "xb = data.one_item(x); xb[0].shape, x.shape, xb[0], x.data"
      ],
      "execution_count": 71,
      "outputs": [
        {
          "output_type": "execute_result",
          "data": {
            "text/plain": [
              "(torch.Size([1, 3, 356, 356]),\n",
              " torch.Size([3, 356, 356]),\n",
              " tensor([[[[-2.0665, -2.0772, -2.0536,  ...,  1.7150,  1.5519,  1.6329],\n",
              "           [-2.0818, -2.0925, -2.0689,  ...,  1.6891,  1.5806,  1.6343],\n",
              "           [-2.0540, -2.0652, -2.0896,  ...,  1.6826,  1.6207,  1.7287],\n",
              "           ...,\n",
              "           [-1.9606, -1.8990, -1.7854,  ..., -0.6354, -0.6714, -0.5198],\n",
              "           [-1.8591, -1.8331, -1.7136,  ..., -0.6052, -0.6542, -0.5072],\n",
              "           [-1.8259, -1.7745, -1.6417,  ..., -0.6038, -0.6681, -0.5276]],\n",
              " \n",
              "          [[-1.9832, -1.9941, -1.9700,  ...,  0.8141,  0.6850,  0.8184],\n",
              "           [-1.9988, -2.0097, -1.9856,  ...,  0.7777,  0.7235,  0.8511],\n",
              "           [-1.9704, -1.9819, -2.0068,  ...,  0.7899,  0.8060,  0.9514],\n",
              "           ...,\n",
              "           [-1.9832, -1.9983, -1.8809,  ..., -0.7515, -0.7872, -0.6314],\n",
              "           [-1.9406, -1.9712, -1.9013,  ..., -0.7709, -0.8007, -0.6342],\n",
              "           [-1.9108, -1.9502, -1.9001,  ..., -0.8278, -0.8308, -0.6550]],\n",
              " \n",
              "          [[-1.7701, -1.7742, -1.7390,  ...,  0.4683,  0.3288,  0.4100],\n",
              "           [-1.8026, -1.7906, -1.7546,  ...,  0.4388,  0.4029,  0.4750],\n",
              "           [-1.7046, -1.7291, -1.7756,  ...,  0.3365,  0.4110,  0.5514],\n",
              "           ...,\n",
              "           [-1.7988, -1.7912, -1.6748,  ..., -1.2665, -1.3010, -1.1328],\n",
              "           [-1.7522, -1.7695, -1.7250,  ..., -1.2800, -1.2582, -1.0889],\n",
              "           [-1.7220, -1.7448, -1.7192,  ..., -1.2691, -1.2894, -1.1096]]]],\n",
              "        device='cuda:0'),\n",
              " tensor([[[1.1765e-02, 9.3234e-03, 1.4725e-02,  ..., 8.7774e-01,\n",
              "           8.4038e-01, 8.5893e-01],\n",
              "          [8.2656e-03, 5.8243e-03, 1.1226e-02,  ..., 8.7180e-01,\n",
              "           8.4696e-01, 8.5925e-01],\n",
              "          [1.4625e-02, 1.2065e-02, 6.4856e-03,  ..., 8.7030e-01,\n",
              "           8.5614e-01, 8.8088e-01],\n",
              "          ...,\n",
              "          [3.6021e-02, 5.0126e-02, 7.6139e-02,  ..., 3.3950e-01,\n",
              "           3.3124e-01, 3.6597e-01],\n",
              "          [5.9256e-02, 6.5209e-02, 9.2594e-02,  ..., 3.4642e-01,\n",
              "           3.3519e-01, 3.6884e-01],\n",
              "          [6.6873e-02, 7.8649e-02, 1.0905e-01,  ..., 3.4672e-01,\n",
              "           3.3200e-01, 3.6417e-01]],\n",
              " \n",
              "         [[1.1765e-02, 9.3234e-03, 1.4725e-02,  ..., 6.3835e-01,\n",
              "           6.0943e-01, 6.3932e-01],\n",
              "          [8.2656e-03, 5.8243e-03, 1.1226e-02,  ..., 6.3020e-01,\n",
              "           6.1806e-01, 6.4664e-01],\n",
              "          [1.4625e-02, 1.2065e-02, 6.4856e-03,  ..., 6.3293e-01,\n",
              "           6.3654e-01, 6.6911e-01],\n",
              "          ...,\n",
              "          [1.1765e-02, 8.3776e-03, 3.4686e-02,  ..., 2.8767e-01,\n",
              "           2.7968e-01, 3.1457e-01],\n",
              "          [2.1298e-02, 1.4457e-02, 3.0108e-02,  ..., 2.8331e-01,\n",
              "           2.7664e-01, 3.1394e-01],\n",
              "          [2.7982e-02, 1.9147e-02, 3.0378e-02,  ..., 2.7058e-01,\n",
              "           2.6990e-01, 3.0927e-01]],\n",
              " \n",
              "         [[7.7348e-03, 6.8147e-03, 1.4725e-02,  ..., 5.1137e-01,\n",
              "           4.7998e-01, 4.9825e-01],\n",
              "          [4.2249e-04, 3.1200e-03, 1.1226e-02,  ..., 5.0474e-01,\n",
              "           4.9665e-01, 5.1288e-01],\n",
              "          [2.2468e-02, 1.6947e-02, 6.4856e-03,  ..., 4.8171e-01,\n",
              "           4.9848e-01, 5.3006e-01],\n",
              "          ...,\n",
              "          [1.2677e-03, 2.9758e-03, 2.9166e-02,  ..., 1.2103e-01,\n",
              "           1.1328e-01, 1.5113e-01],\n",
              "          [1.1765e-02, 7.8687e-03, 1.7865e-02,  ..., 1.1801e-01,\n",
              "           1.2290e-01, 1.6100e-01],\n",
              "          [1.8546e-02, 1.3415e-02, 1.9174e-02,  ..., 1.2046e-01,\n",
              "           1.1588e-01, 1.5633e-01]]]))"
            ]
          },
          "metadata": {
            "tags": []
          },
          "execution_count": 71
        }
      ]
    },
    {
      "cell_type": "code",
      "metadata": {
        "id": "avBpJoMP8k7k",
        "colab_type": "code",
        "colab": {
          "base_uri": "https://localhost:8080/",
          "height": 432
        },
        "outputId": "89d4deb6-8ab4-4f99-b107-6cafe5944df1"
      },
      "source": [
        "xb, _ = data.one_item(x)\n",
        "xb, _"
      ],
      "execution_count": 75,
      "outputs": [
        {
          "output_type": "execute_result",
          "data": {
            "text/plain": [
              "(tensor([[[[-2.0665, -2.0772, -2.0536,  ...,  1.7150,  1.5519,  1.6329],\n",
              "           [-2.0818, -2.0925, -2.0689,  ...,  1.6891,  1.5806,  1.6343],\n",
              "           [-2.0540, -2.0652, -2.0896,  ...,  1.6826,  1.6207,  1.7287],\n",
              "           ...,\n",
              "           [-1.9606, -1.8990, -1.7854,  ..., -0.6354, -0.6714, -0.5198],\n",
              "           [-1.8591, -1.8331, -1.7136,  ..., -0.6052, -0.6542, -0.5072],\n",
              "           [-1.8259, -1.7745, -1.6417,  ..., -0.6038, -0.6681, -0.5276]],\n",
              " \n",
              "          [[-1.9832, -1.9941, -1.9700,  ...,  0.8141,  0.6850,  0.8184],\n",
              "           [-1.9988, -2.0097, -1.9856,  ...,  0.7777,  0.7235,  0.8511],\n",
              "           [-1.9704, -1.9819, -2.0068,  ...,  0.7899,  0.8060,  0.9514],\n",
              "           ...,\n",
              "           [-1.9832, -1.9983, -1.8809,  ..., -0.7515, -0.7872, -0.6314],\n",
              "           [-1.9406, -1.9712, -1.9013,  ..., -0.7709, -0.8007, -0.6342],\n",
              "           [-1.9108, -1.9502, -1.9001,  ..., -0.8278, -0.8308, -0.6550]],\n",
              " \n",
              "          [[-1.7701, -1.7742, -1.7390,  ...,  0.4683,  0.3288,  0.4100],\n",
              "           [-1.8026, -1.7906, -1.7546,  ...,  0.4388,  0.4029,  0.4750],\n",
              "           [-1.7046, -1.7291, -1.7756,  ...,  0.3365,  0.4110,  0.5514],\n",
              "           ...,\n",
              "           [-1.7988, -1.7912, -1.6748,  ..., -1.2665, -1.3010, -1.1328],\n",
              "           [-1.7522, -1.7695, -1.7250,  ..., -1.2800, -1.2582, -1.0889],\n",
              "           [-1.7220, -1.7448, -1.7192,  ..., -1.2691, -1.2894, -1.1096]]]],\n",
              "        device='cuda:0'), tensor([0], device='cuda:0'))"
            ]
          },
          "metadata": {
            "tags": []
          },
          "execution_count": 75
        }
      ]
    },
    {
      "cell_type": "code",
      "metadata": {
        "id": "FzQT8_C_9Rsy",
        "colab_type": "code",
        "colab": {
          "base_uri": "https://localhost:8080/",
          "height": 725
        },
        "outputId": "3f004c4c-27e5-4d84-cfe1-27126e826cf0"
      },
      "source": [
        "data.denorm(xb)[0]"
      ],
      "execution_count": 78,
      "outputs": [
        {
          "output_type": "execute_result",
          "data": {
            "text/plain": [
              "tensor([[[1.1765e-02, 9.3234e-03, 1.4725e-02,  ..., 8.7774e-01,\n",
              "          8.4038e-01, 8.5893e-01],\n",
              "         [8.2656e-03, 5.8243e-03, 1.1226e-02,  ..., 8.7180e-01,\n",
              "          8.4696e-01, 8.5925e-01],\n",
              "         [1.4625e-02, 1.2065e-02, 6.4856e-03,  ..., 8.7030e-01,\n",
              "          8.5614e-01, 8.8088e-01],\n",
              "         ...,\n",
              "         [3.6021e-02, 5.0126e-02, 7.6139e-02,  ..., 3.3950e-01,\n",
              "          3.3124e-01, 3.6597e-01],\n",
              "         [5.9256e-02, 6.5209e-02, 9.2594e-02,  ..., 3.4642e-01,\n",
              "          3.3519e-01, 3.6884e-01],\n",
              "         [6.6873e-02, 7.8649e-02, 1.0905e-01,  ..., 3.4672e-01,\n",
              "          3.3200e-01, 3.6417e-01]],\n",
              "\n",
              "        [[1.1765e-02, 9.3234e-03, 1.4725e-02,  ..., 6.3835e-01,\n",
              "          6.0943e-01, 6.3932e-01],\n",
              "         [8.2656e-03, 5.8244e-03, 1.1226e-02,  ..., 6.3020e-01,\n",
              "          6.1806e-01, 6.4664e-01],\n",
              "         [1.4625e-02, 1.2065e-02, 6.4856e-03,  ..., 6.3293e-01,\n",
              "          6.3654e-01, 6.6911e-01],\n",
              "         ...,\n",
              "         [1.1765e-02, 8.3776e-03, 3.4686e-02,  ..., 2.8767e-01,\n",
              "          2.7968e-01, 3.1457e-01],\n",
              "         [2.1298e-02, 1.4457e-02, 3.0108e-02,  ..., 2.8331e-01,\n",
              "          2.7664e-01, 3.1394e-01],\n",
              "         [2.7982e-02, 1.9147e-02, 3.0378e-02,  ..., 2.7058e-01,\n",
              "          2.6990e-01, 3.0927e-01]],\n",
              "\n",
              "        [[7.7348e-03, 6.8147e-03, 1.4725e-02,  ..., 5.1137e-01,\n",
              "          4.7998e-01, 4.9825e-01],\n",
              "         [4.2248e-04, 3.1200e-03, 1.1226e-02,  ..., 5.0474e-01,\n",
              "          4.9665e-01, 5.1288e-01],\n",
              "         [2.2468e-02, 1.6947e-02, 6.4856e-03,  ..., 4.8171e-01,\n",
              "          4.9848e-01, 5.3006e-01],\n",
              "         ...,\n",
              "         [1.2677e-03, 2.9758e-03, 2.9166e-02,  ..., 1.2103e-01,\n",
              "          1.1328e-01, 1.5113e-01],\n",
              "         [1.1765e-02, 7.8686e-03, 1.7864e-02,  ..., 1.1801e-01,\n",
              "          1.2290e-01, 1.6100e-01],\n",
              "         [1.8546e-02, 1.3415e-02, 1.9174e-02,  ..., 1.2046e-01,\n",
              "          1.1588e-01, 1.5633e-01]]])"
            ]
          },
          "metadata": {
            "tags": []
          },
          "execution_count": 78
        }
      ]
    },
    {
      "cell_type": "code",
      "metadata": {
        "id": "lpnAIREr9IJn",
        "colab_type": "code",
        "colab": {}
      },
      "source": [
        "xb_im = Image(data.denorm(xb)[0])"
      ],
      "execution_count": 76,
      "outputs": []
    },
    {
      "cell_type": "code",
      "metadata": {
        "id": "kSVsrVal9WcR",
        "colab_type": "code",
        "colab": {}
      },
      "source": [
        "xb = xb.cuda()"
      ],
      "execution_count": 79,
      "outputs": []
    },
    {
      "cell_type": "code",
      "metadata": {
        "id": "M1lZoVet9seB",
        "colab_type": "code",
        "colab": {}
      },
      "source": [
        "from fastai.callbacks.hooks import *"
      ],
      "execution_count": 81,
      "outputs": []
    },
    {
      "cell_type": "code",
      "metadata": {
        "id": "v-eETXLm9ygM",
        "colab_type": "code",
        "colab": {}
      },
      "source": [
        "def hook_backward(cat = y):\n",
        "  with hook_output(m[0]) as hook_a:\n",
        "    with hook_output(m[0], grad= True) as hook_g:\n",
        "      preds = m(xb)\n",
        "      preds[idx, int(cat)].backward()\n",
        "  return hook_a, hook_g"
      ],
      "execution_count": 83,
      "outputs": []
    },
    {
      "cell_type": "code",
      "metadata": {
        "id": "-vEeNctr-hT2",
        "colab_type": "code",
        "colab": {}
      },
      "source": [
        "hook_a, hook_g = hook_backward()"
      ],
      "execution_count": 84,
      "outputs": []
    },
    {
      "cell_type": "code",
      "metadata": {
        "id": "8zH0U084-Z1x",
        "colab_type": "code",
        "colab": {}
      },
      "source": [
        "acts = hook_a.stored[0].cpu()"
      ],
      "execution_count": 90,
      "outputs": []
    },
    {
      "cell_type": "code",
      "metadata": {
        "id": "8DQrwqUF-IIR",
        "colab_type": "code",
        "colab": {
          "base_uri": "https://localhost:8080/",
          "height": 864
        },
        "outputId": "7917cae2-1188-4fd3-b503-50d8fa116673"
      },
      "source": [
        "acts.shape; acts"
      ],
      "execution_count": 92,
      "outputs": [
        {
          "output_type": "execute_result",
          "data": {
            "text/plain": [
              "tensor([[[2.1446, 1.3594, 1.4313,  ..., 1.0263, 0.1390, 0.2616],\n",
              "         [0.7254, 0.5638, 1.8643,  ..., 3.1270, 0.8884, 0.8529],\n",
              "         [1.4363, 1.4965, 1.6251,  ..., 2.5916, 0.9548, 0.6527],\n",
              "         ...,\n",
              "         [0.1490, 0.0000, 0.0000,  ..., 0.0000, 0.0000, 0.0000],\n",
              "         [0.4623, 0.0000, 0.2235,  ..., 0.0000, 0.0000, 0.2921],\n",
              "         [1.5033, 0.6853, 0.0000,  ..., 1.1968, 0.0000, 0.4471]],\n",
              "\n",
              "        [[0.0000, 0.0000, 0.0000,  ..., 0.0000, 0.0000, 0.0000],\n",
              "         [0.0000, 0.0000, 1.5985,  ..., 0.0000, 0.0000, 0.0000],\n",
              "         [0.0000, 0.5473, 2.5657,  ..., 0.0909, 0.0000, 0.0000],\n",
              "         ...,\n",
              "         [0.3031, 0.6028, 0.1897,  ..., 0.0000, 0.0000, 0.0000],\n",
              "         [0.5729, 0.5503, 0.0000,  ..., 0.0000, 0.0000, 0.0000],\n",
              "         [0.4433, 0.0000, 0.0000,  ..., 0.6200, 0.0000, 0.0000]],\n",
              "\n",
              "        [[0.0000, 0.0000, 0.0000,  ..., 0.4288, 0.3060, 0.0000],\n",
              "         [0.0000, 0.0000, 1.2960,  ..., 3.2993, 2.2895, 0.0907],\n",
              "         [0.0360, 1.0327, 5.3042,  ..., 3.9560, 2.4736, 0.4075],\n",
              "         ...,\n",
              "         [0.0000, 0.0000, 0.0000,  ..., 1.2609, 0.6696, 0.0000],\n",
              "         [0.0000, 0.0000, 0.0000,  ..., 1.2533, 0.7534, 0.5030],\n",
              "         [0.0000, 0.0000, 0.0000,  ..., 0.3146, 0.3863, 0.3351]],\n",
              "\n",
              "        ...,\n",
              "\n",
              "        [[0.0000, 0.0000, 0.5392,  ..., 0.0000, 0.0000, 0.0000],\n",
              "         [0.1231, 2.7866, 2.9143,  ..., 2.5142, 0.0000, 0.0000],\n",
              "         [0.0000, 0.1964, 0.9647,  ..., 1.4399, 0.3804, 0.1041],\n",
              "         ...,\n",
              "         [0.0000, 0.0000, 0.0000,  ..., 0.0000, 0.0000, 0.0000],\n",
              "         [0.0000, 0.0000, 0.0000,  ..., 0.0000, 0.0000, 0.0000],\n",
              "         [0.0000, 0.0000, 0.0000,  ..., 0.0467, 0.0000, 0.1069]],\n",
              "\n",
              "        [[0.0000, 0.0000, 0.2218,  ..., 0.0000, 0.0000, 0.0000],\n",
              "         [0.0000, 0.0000, 0.8409,  ..., 1.3171, 0.1314, 0.0000],\n",
              "         [1.1881, 1.2795, 1.4039,  ..., 3.3067, 1.2231, 0.0000],\n",
              "         ...,\n",
              "         [0.0000, 1.0688, 1.5866,  ..., 0.0000, 0.0000, 0.0000],\n",
              "         [0.0000, 0.0000, 0.4274,  ..., 0.0000, 0.0535, 0.0000],\n",
              "         [0.0000, 0.0000, 0.0000,  ..., 0.0000, 0.0000, 0.0000]],\n",
              "\n",
              "        [[0.0420, 0.4980, 0.6410,  ..., 0.2084, 0.6623, 1.2457],\n",
              "         [2.7598, 0.8357, 0.0576,  ..., 0.0000, 0.0252, 0.7215],\n",
              "         [1.4067, 0.5297, 1.1204,  ..., 0.0000, 0.0000, 0.2464],\n",
              "         ...,\n",
              "         [0.3792, 0.2005, 0.0000,  ..., 0.0000, 0.0531, 0.3009],\n",
              "         [0.3192, 0.3792, 0.0000,  ..., 0.0000, 0.0000, 0.5350],\n",
              "         [0.4675, 0.0000, 0.0000,  ..., 0.0000, 0.0000, 0.1217]]])"
            ]
          },
          "metadata": {
            "tags": []
          },
          "execution_count": 92
        }
      ]
    },
    {
      "cell_type": "code",
      "metadata": {
        "id": "lKtaWNjM_AhB",
        "colab_type": "code",
        "colab": {
          "base_uri": "https://localhost:8080/",
          "height": 432
        },
        "outputId": "f6abe83b-e23b-46c8-dde2-0f164c2475a9"
      },
      "source": [
        "avg_acts = acts.mean(0)\n",
        "avg_acts, avg_acts.shape"
      ],
      "execution_count": 94,
      "outputs": [
        {
          "output_type": "execute_result",
          "data": {
            "text/plain": [
              "(tensor([[1.0893, 0.7182, 0.6485, 0.7766, 0.7590, 0.6288, 0.4501, 0.4745, 0.4957,\n",
              "          0.4462, 0.4413, 0.3746],\n",
              "         [0.5802, 0.6534, 0.9730, 1.4312, 1.3008, 0.9793, 0.8941, 0.9504, 1.0750,\n",
              "          0.9296, 0.5499, 0.3270],\n",
              "         [0.3435, 0.5440, 1.1677, 1.7167, 1.6481, 1.3447, 1.3019, 1.4750, 1.5923,\n",
              "          1.2406, 0.6770, 0.3321],\n",
              "         [0.4009, 0.7171, 1.3240, 1.7657, 1.6970, 1.4828, 1.4859, 1.6123, 1.7360,\n",
              "          1.3161, 0.7991, 0.3974],\n",
              "         [0.5555, 0.8963, 1.3086, 1.6112, 1.5274, 1.4637, 1.4748, 1.5317, 1.5718,\n",
              "          1.2076, 0.7642, 0.3862],\n",
              "         [0.7218, 1.0917, 1.3427, 1.5112, 1.4523, 1.3984, 1.3605, 1.4048, 1.4449,\n",
              "          1.0971, 0.6466, 0.3142],\n",
              "         [0.8449, 1.2085, 1.4269, 1.5635, 1.6005, 1.6035, 1.5519, 1.5720, 1.5236,\n",
              "          1.1923, 0.6094, 0.2674],\n",
              "         [0.7790, 1.1634, 1.3479, 1.5202, 1.5309, 1.5858, 1.5714, 1.5924, 1.6185,\n",
              "          1.3318, 0.7054, 0.2731],\n",
              "         [0.6320, 0.9206, 1.1654, 1.3506, 1.4271, 1.4144, 1.3855, 1.4273, 1.4659,\n",
              "          1.1440, 0.6940, 0.2621],\n",
              "         [0.4991, 0.7467, 0.9198, 1.1312, 1.2605, 1.2521, 1.1988, 1.1923, 1.1532,\n",
              "          0.8948, 0.5700, 0.2715],\n",
              "         [0.4121, 0.5424, 0.6589, 0.8817, 1.0407, 1.0085, 0.9502, 0.9664, 0.9039,\n",
              "          0.7452, 0.5500, 0.3353],\n",
              "         [0.3292, 0.3705, 0.3526, 0.5057, 0.6151, 0.6580, 0.6656, 0.7043, 0.6632,\n",
              "          0.5582, 0.3860, 0.2980]]), torch.Size([12, 12]))"
            ]
          },
          "metadata": {
            "tags": []
          },
          "execution_count": 94
        }
      ]
    },
    {
      "cell_type": "code",
      "metadata": {
        "id": "HoUEC7Qg_OCu",
        "colab_type": "code",
        "colab": {}
      },
      "source": [
        "def show_heatmap(hm):\n",
        "    _,ax = plt.subplots()\n",
        "    xb_im.show(ax)\n",
        "    ax.imshow(hm, alpha=0.6, extent=(0,352,352,0),\n",
        "              interpolation='bilinear', cmap='magma');"
      ],
      "execution_count": 96,
      "outputs": []
    },
    {
      "cell_type": "code",
      "metadata": {
        "id": "QSMq9I73_VCn",
        "colab_type": "code",
        "colab": {
          "base_uri": "https://localhost:8080/",
          "height": 248
        },
        "outputId": "2ca3e4a9-1416-4c4f-960e-7fdc9a200e79"
      },
      "source": [
        "show_heatmap(avg_acts)"
      ],
      "execution_count": 97,
      "outputs": [
        {
          "output_type": "display_data",
          "data": {
            "image/png": "[encoded data removed]",
            "text/plain": [
              "<Figure size 432x288 with 1 Axes>"
            ]
          },
          "metadata": {
            "tags": [],
            "needs_background": "light"
          }
        }
      ]
    },
    {
      "cell_type": "code",
      "metadata": {
        "id": "b1mQvwF7_RQU",
        "colab_type": "code",
        "colab": {}
      },
      "source": [
        ""
      ],
      "execution_count": null,
      "outputs": []
    }
  ]
}