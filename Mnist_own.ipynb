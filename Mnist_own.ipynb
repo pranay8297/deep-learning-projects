{
  "nbformat": 4,
  "nbformat_minor": 0,
  "metadata": {
    "colab": {
      "name": "Mnist_own.ipynb",
      "provenance": [],
      "collapsed_sections": [],
      "authorship_tag": "ABX9TyPPg3V92E42VseTLEB0mRoa",
      "include_colab_link": true
    },
    "kernelspec": {
      "name": "python3",
      "display_name": "Python 3"
    },
    "accelerator": "GPU"
  },
  "cells": [
    {
      "cell_type": "markdown",
      "metadata": {
        "id": "view-in-github",
        "colab_type": "text"
      },
      "source": [
        "<a href=\"https://colab.research.google.com/github/pranay8297/deep-learning-projects/blob/master/Mnist_own.ipynb\" target=\"_parent\"><img src=\"https://colab.research.google.com/assets/colab-badge.svg\" alt=\"Open In Colab\"/></a>"
      ]
    },
    {
      "cell_type": "code",
      "metadata": {
        "id": "Ww2tGKg_JSaN",
        "colab_type": "code",
        "colab": {}
      },
      "source": [
        "from fastai.basics import *"
      ],
      "execution_count": 0,
      "outputs": []
    },
    {
      "cell_type": "code",
      "metadata": {
        "id": "9eaeFbq1JrQv",
        "colab_type": "code",
        "outputId": "bf34a3e9-cb77-4e9c-ef07-6010fb1b2959",
        "colab": {
          "base_uri": "https://localhost:8080/",
          "height": 207
        }
      },
      "source": [
        "!wget http://deeplearning.net/data/mnist/mnist.pkl.gz"
      ],
      "execution_count": 2,
      "outputs": [
        {
          "output_type": "stream",
          "text": [
            "--2020-04-22 03:44:42--  http://deeplearning.net/data/mnist/mnist.pkl.gz\n",
            "Resolving deeplearning.net (deeplearning.net)... 132.204.26.28\n",
            "Connecting to deeplearning.net (deeplearning.net)|132.204.26.28|:80... connected.\n",
            "HTTP request sent, awaiting response... 200 OK\n",
            "Length: 16168813 (15M) [application/x-gzip]\n",
            "Saving to: ‘mnist.pkl.gz’\n",
            "\n",
            "mnist.pkl.gz        100%[===================>]  15.42M  9.35MB/s    in 1.6s    \n",
            "\n",
            "2020-04-22 03:44:44 (9.35 MB/s) - ‘mnist.pkl.gz’ saved [16168813/16168813]\n",
            "\n"
          ],
          "name": "stdout"
        }
      ]
    },
    {
      "cell_type": "code",
      "metadata": {
        "id": "aYAI5x7uJr2p",
        "colab_type": "code",
        "outputId": "b65d9805-5fb4-42dd-e9f4-5ad37204211e",
        "colab": {
          "base_uri": "https://localhost:8080/",
          "height": 35
        }
      },
      "source": [
        "!ls"
      ],
      "execution_count": 3,
      "outputs": [
        {
          "output_type": "stream",
          "text": [
            "mnist.pkl.gz  sample_data\n"
          ],
          "name": "stdout"
        }
      ]
    },
    {
      "cell_type": "code",
      "metadata": {
        "id": "ZrxBZhMHKf35",
        "colab_type": "code",
        "outputId": "dd9e6755-4f86-48d9-e40c-59bb5d445e73",
        "colab": {
          "base_uri": "https://localhost:8080/",
          "height": 35
        }
      },
      "source": [
        "!pwd"
      ],
      "execution_count": 4,
      "outputs": [
        {
          "output_type": "stream",
          "text": [
            "/content\n"
          ],
          "name": "stdout"
        }
      ]
    },
    {
      "cell_type": "code",
      "metadata": {
        "id": "ylJVO1dFKht8",
        "colab_type": "code",
        "colab": {}
      },
      "source": [
        "path = Path('/content')"
      ],
      "execution_count": 0,
      "outputs": []
    },
    {
      "cell_type": "code",
      "metadata": {
        "id": "qqpVgiEiKK3s",
        "colab_type": "code",
        "colab": {}
      },
      "source": [
        "with gzip.open(path/'mnist.pkl.gz', 'rb') as f:\n",
        "  ((x_train, y_train), (x_valid, y_valid), _) = pickle.load(f, encoding='latin_1')"
      ],
      "execution_count": 0,
      "outputs": []
    },
    {
      "cell_type": "code",
      "metadata": {
        "id": "OahgYdZwLsUu",
        "colab_type": "code",
        "outputId": "d47609fc-a9d4-4da8-c61f-aa6f6e4b11c2",
        "colab": {
          "base_uri": "https://localhost:8080/",
          "height": 190
        }
      },
      "source": [
        "x_train, y_train"
      ],
      "execution_count": 7,
      "outputs": [
        {
          "output_type": "execute_result",
          "data": {
            "text/plain": [
              "(array([[0., 0., 0., 0., ..., 0., 0., 0., 0.],\n",
              "        [0., 0., 0., 0., ..., 0., 0., 0., 0.],\n",
              "        [0., 0., 0., 0., ..., 0., 0., 0., 0.],\n",
              "        [0., 0., 0., 0., ..., 0., 0., 0., 0.],\n",
              "        ...,\n",
              "        [0., 0., 0., 0., ..., 0., 0., 0., 0.],\n",
              "        [0., 0., 0., 0., ..., 0., 0., 0., 0.],\n",
              "        [0., 0., 0., 0., ..., 0., 0., 0., 0.],\n",
              "        [0., 0., 0., 0., ..., 0., 0., 0., 0.]], dtype=float32),\n",
              " array([5, 0, 4, 1, ..., 0, 8, 4, 8]))"
            ]
          },
          "metadata": {
            "tags": []
          },
          "execution_count": 7
        }
      ]
    },
    {
      "cell_type": "code",
      "metadata": {
        "id": "FLEMqR0zK49p",
        "colab_type": "code",
        "outputId": "8fc783e5-611b-4bb1-973d-7fd8b5df30a1",
        "colab": {
          "base_uri": "https://localhost:8080/",
          "height": 35
        }
      },
      "source": [
        "x_train.shape, y_train.shape"
      ],
      "execution_count": 8,
      "outputs": [
        {
          "output_type": "execute_result",
          "data": {
            "text/plain": [
              "((50000, 784), (50000,))"
            ]
          },
          "metadata": {
            "tags": []
          },
          "execution_count": 8
        }
      ]
    },
    {
      "cell_type": "code",
      "metadata": {
        "id": "Cc_8wYFQMBZo",
        "colab_type": "code",
        "colab": {}
      },
      "source": [
        "x_train, y_train, x_valid, y_valid = map(torch.tensor, (x_train, y_train, x_valid, y_valid))"
      ],
      "execution_count": 0,
      "outputs": []
    },
    {
      "cell_type": "code",
      "metadata": {
        "id": "JsYpwhb_MOes",
        "colab_type": "code",
        "outputId": "371b53ec-6a73-496b-ab57-9b23c7670fd1",
        "colab": {
          "base_uri": "https://localhost:8080/",
          "height": 35
        }
      },
      "source": [
        "x_train.shape"
      ],
      "execution_count": 10,
      "outputs": [
        {
          "output_type": "execute_result",
          "data": {
            "text/plain": [
              "torch.Size([50000, 784])"
            ]
          },
          "metadata": {
            "tags": []
          },
          "execution_count": 10
        }
      ]
    },
    {
      "cell_type": "code",
      "metadata": {
        "id": "WI7KqbDlMleg",
        "colab_type": "code",
        "colab": {}
      },
      "source": [
        "train_ds = TensorDataset(x_train, y_train)"
      ],
      "execution_count": 0,
      "outputs": []
    },
    {
      "cell_type": "code",
      "metadata": {
        "id": "Bkx3qSxWNBND",
        "colab_type": "code",
        "colab": {}
      },
      "source": [
        "valid_ds = TensorDataset(x_valid, y_valid)"
      ],
      "execution_count": 0,
      "outputs": []
    },
    {
      "cell_type": "code",
      "metadata": {
        "id": "HM7ByNeANEvz",
        "colab_type": "code",
        "colab": {}
      },
      "source": [
        "bs = 64"
      ],
      "execution_count": 0,
      "outputs": []
    },
    {
      "cell_type": "code",
      "metadata": {
        "id": "6534qzg4NOpa",
        "colab_type": "code",
        "outputId": "07a0c660-b4bb-41af-8744-a5a301f3b335",
        "colab": {
          "base_uri": "https://localhost:8080/",
          "height": 282
        }
      },
      "source": [
        "plt.imshow(x_train[0].reshape((28, 28)), cmap = 'gray')"
      ],
      "execution_count": 14,
      "outputs": [
        {
          "output_type": "execute_result",
          "data": {
            "text/plain": [
              "<matplotlib.image.AxesImage at 0x7f1fc6c2aac8>"
            ]
          },
          "metadata": {
            "tags": []
          },
          "execution_count": 14
        },
        {
          "output_type": "display_data",
          "data": {
            "image/png": "[encoded data removed]",
            "text/plain": [
              "<Figure size 432x288 with 1 Axes>"
            ]
          },
          "metadata": {
            "tags": [],
            "needs_background": "light"
          }
        }
      ]
    },
    {
      "cell_type": "code",
      "metadata": {
        "id": "mN2AVnhqNFxN",
        "colab_type": "code",
        "colab": {}
      },
      "source": [
        "data = DataBunch.create(train_ds, valid_ds, bs = bs)"
      ],
      "execution_count": 0,
      "outputs": []
    },
    {
      "cell_type": "code",
      "metadata": {
        "id": "DqUiUhicN8kD",
        "colab_type": "code",
        "outputId": "3ece258e-dbf9-49e3-e8fe-2a78f9b4d6c9",
        "colab": {
          "base_uri": "https://localhost:8080/",
          "height": 35
        }
      },
      "source": [
        "y_train.max(), y_train.min()"
      ],
      "execution_count": 16,
      "outputs": [
        {
          "output_type": "execute_result",
          "data": {
            "text/plain": [
              "(tensor(9), tensor(0))"
            ]
          },
          "metadata": {
            "tags": []
          },
          "execution_count": 16
        }
      ]
    },
    {
      "cell_type": "code",
      "metadata": {
        "id": "CV8mbsgxPJWj",
        "colab_type": "code",
        "colab": {}
      },
      "source": [
        "class MnistLogistic(nn.Module):\n",
        "  def __init__(self):\n",
        "    super().__init__()\n",
        "    self.lin = nn.Linear(784, 10, bias = True)\n",
        "  \n",
        "  def forward(self, xb):\n",
        "    return self.lin(xb)"
      ],
      "execution_count": 0,
      "outputs": []
    },
    {
      "cell_type": "code",
      "metadata": {
        "id": "-e7SuHJYQZsZ",
        "colab_type": "code",
        "colab": {}
      },
      "source": [
        "loss_function = nn.CrossEntropyLoss()"
      ],
      "execution_count": 0,
      "outputs": []
    },
    {
      "cell_type": "code",
      "metadata": {
        "id": "LwLzFd6GP-mF",
        "colab_type": "code",
        "colab": {}
      },
      "source": [
        "def update(x, y, lr):\n",
        "  wd = 1e-05\n",
        "  y_hat = model(x)\n",
        "  w2 = 0\n",
        "  \n",
        "  for params in model.parameters(): w2 += (params**2).sum()\n",
        "  loss = loss_function(y_hat, y) + w2*wd\n",
        "  loss.backward()\n",
        "  with torch.no_grad():\n",
        "    for param in model.parameters():\n",
        "      param.sub_(lr * param.grad)\n",
        "      param.grad.zero_()\n",
        "  return loss.item()"
      ],
      "execution_count": 0,
      "outputs": []
    },
    {
      "cell_type": "code",
      "metadata": {
        "id": "AatDHmYvWEWg",
        "colab_type": "code",
        "colab": {}
      },
      "source": [
        "# def update(x,y,lr):\n",
        "#     wd = 1e-5\n",
        "#     y_hat = model(x)\n",
        "#     # weight decay\n",
        "#     w2 = 0.\n",
        "#     for p in model.parameters(): w2 += (p**2).sum()\n",
        "#     # add to regular loss\n",
        "#     loss = loss_func(y_hat, y) + w2*wd\n",
        "#     loss.backward()\n",
        "#     with torch.no_grad():\n",
        "#         for p in model.parameters():\n",
        "#             p.sub_(lr * p.grad)\n",
        "#             p.grad.zero_()\n",
        "#     return loss.item()"
      ],
      "execution_count": 0,
      "outputs": []
    },
    {
      "cell_type": "code",
      "metadata": {
        "id": "OIQZZfeCTW1F",
        "colab_type": "code",
        "colab": {}
      },
      "source": [
        "model = MnistLogistic().cuda()"
      ],
      "execution_count": 0,
      "outputs": []
    },
    {
      "cell_type": "code",
      "metadata": {
        "id": "EkdJvkRBTZ-B",
        "colab_type": "code",
        "outputId": "8eb03137-a274-4436-c5f3-ea811e432969",
        "colab": {
          "base_uri": "https://localhost:8080/",
          "height": 69
        }
      },
      "source": [
        "model"
      ],
      "execution_count": 22,
      "outputs": [
        {
          "output_type": "execute_result",
          "data": {
            "text/plain": [
              "MnistLogistic(\n",
              "  (lin): Linear(in_features=784, out_features=10, bias=True)\n",
              ")"
            ]
          },
          "metadata": {
            "tags": []
          },
          "execution_count": 22
        }
      ]
    },
    {
      "cell_type": "code",
      "metadata": {
        "id": "xA_VCVUhTcjS",
        "colab_type": "code",
        "outputId": "e3999d00-6b52-4be5-b607-b37aa192c33c",
        "colab": {
          "base_uri": "https://localhost:8080/",
          "height": 35
        }
      },
      "source": [
        "model.lin"
      ],
      "execution_count": 23,
      "outputs": [
        {
          "output_type": "execute_result",
          "data": {
            "text/plain": [
              "Linear(in_features=784, out_features=10, bias=True)"
            ]
          },
          "metadata": {
            "tags": []
          },
          "execution_count": 23
        }
      ]
    },
    {
      "cell_type": "code",
      "metadata": {
        "id": "mk0x0blaTsYN",
        "colab_type": "code",
        "outputId": "a1bf0510-9cf1-4fc5-c13a-9e565e797b68",
        "colab": {
          "base_uri": "https://localhost:8080/",
          "height": 138
        }
      },
      "source": [
        "data"
      ],
      "execution_count": 24,
      "outputs": [
        {
          "output_type": "execute_result",
          "data": {
            "text/plain": [
              "DataBunch;\n",
              "\n",
              "Train: <torch.utils.data.dataset.TensorDataset object at 0x7f2026006630>;\n",
              "\n",
              "Valid: <torch.utils.data.dataset.TensorDataset object at 0x7f20260062b0>;\n",
              "\n",
              "Test: None"
            ]
          },
          "metadata": {
            "tags": []
          },
          "execution_count": 24
        }
      ]
    },
    {
      "cell_type": "code",
      "metadata": {
        "id": "bmpgS9yeT32T",
        "colab_type": "code",
        "colab": {}
      },
      "source": [
        "xb, yb = next(iter(data.train_dl))"
      ],
      "execution_count": 0,
      "outputs": []
    },
    {
      "cell_type": "code",
      "metadata": {
        "id": "078SMnzbUFjY",
        "colab_type": "code",
        "colab": {}
      },
      "source": [
        "initial_preds = model.forward(xb)"
      ],
      "execution_count": 0,
      "outputs": []
    },
    {
      "cell_type": "code",
      "metadata": {
        "id": "XS2QuVx2US4b",
        "colab_type": "code",
        "outputId": "5bb99600-f548-47df-ae86-a73ae7996c33",
        "colab": {
          "base_uri": "https://localhost:8080/",
          "height": 1000
        }
      },
      "source": [
        "initial_preds"
      ],
      "execution_count": 27,
      "outputs": [
        {
          "output_type": "execute_result",
          "data": {
            "text/plain": [
              "tensor([[ 1.2248e-01,  6.2782e-02, -1.6277e-01,  9.2429e-02, -8.9448e-02,\n",
              "         -1.2600e-01,  7.6857e-02,  6.1686e-02,  2.3784e-01, -3.4739e-01],\n",
              "        [-1.1575e-02, -5.1242e-02,  2.9816e-01,  1.2307e-01, -1.2054e-01,\n",
              "         -7.8406e-02,  6.0318e-02,  4.7470e-03,  9.9425e-02, -2.1584e-01],\n",
              "        [-2.3575e-01,  3.4645e-02,  1.8121e-01,  1.2139e-01,  5.3587e-02,\n",
              "          4.4489e-02,  1.4047e-01,  1.5377e-02, -3.3456e-02,  5.2850e-03],\n",
              "        [-1.7809e-03,  2.9951e-01,  4.7364e-02,  7.9996e-02, -1.3956e-01,\n",
              "         -3.2620e-01, -1.8438e-01,  1.1088e-01,  1.4437e-01, -1.7523e-01],\n",
              "        [ 3.2689e-02,  9.8006e-02,  6.4209e-02,  2.2234e-01, -4.7188e-02,\n",
              "         -2.5045e-01,  1.9758e-01, -2.1287e-01,  4.8723e-02,  2.8053e-02],\n",
              "        [ 9.7091e-02, -7.2277e-02,  1.3993e-02, -8.5343e-02,  1.9931e-01,\n",
              "         -7.5746e-02,  1.0479e-01, -1.0140e-01, -1.5133e-01, -8.2879e-02],\n",
              "        [ 5.9879e-02, -2.0291e-01,  2.0769e-01,  1.3894e-01, -2.0713e-01,\n",
              "          4.1740e-02,  3.4991e-02, -4.9430e-03, -1.1623e-01,  4.5494e-02],\n",
              "        [-9.0897e-02, -2.0330e-01, -1.1469e-01,  3.2612e-01,  2.2745e-01,\n",
              "          5.1952e-02,  1.4001e-01, -9.0596e-02, -1.3389e-01, -1.4287e-01],\n",
              "        [ 1.6610e-01,  1.9138e-01,  4.9695e-02,  2.0058e-01, -1.8617e-01,\n",
              "         -3.3486e-01, -1.9591e-01,  9.0019e-02,  1.9904e-02, -2.2328e-01],\n",
              "        [-1.7266e-01,  1.5825e-02,  2.0096e-01,  2.6883e-01, -1.8618e-02,\n",
              "         -2.3638e-02,  4.6028e-03,  8.2916e-04, -2.2433e-01,  1.1124e-01],\n",
              "        [ 6.5572e-02, -1.0179e-01,  1.8241e-01,  5.1175e-02, -2.0308e-01,\n",
              "         -1.9440e-01,  1.2141e-01, -1.8899e-01, -7.7174e-03, -1.9727e-01],\n",
              "        [-3.6930e-03, -1.2160e-01,  1.6723e-01,  2.6684e-01,  4.7968e-02,\n",
              "          1.6192e-02,  1.8116e-01, -6.6827e-02, -9.7990e-02,  8.6223e-02],\n",
              "        [-6.3276e-02, -9.6561e-03,  3.8719e-02, -1.1932e-01, -1.1048e-01,\n",
              "         -3.9812e-02,  9.5432e-03, -9.6454e-02, -6.5644e-02,  9.0923e-03],\n",
              "        [-8.3998e-02, -1.3265e-01, -4.8791e-02,  1.2848e-01, -3.8510e-02,\n",
              "          4.4224e-02,  7.5235e-02, -1.6086e-01, -9.5439e-02,  1.9314e-01],\n",
              "        [-4.9076e-02,  9.1728e-02,  3.7508e-02,  1.0204e-01,  8.8966e-02,\n",
              "         -3.1320e-01,  5.6658e-02,  2.3202e-01,  1.3456e-01, -1.2244e-01],\n",
              "        [ 1.3921e-01, -1.7426e-01,  1.1131e-01,  1.2292e-01,  1.2016e-01,\n",
              "         -3.5064e-01,  1.0134e-01, -3.1405e-02, -1.2642e-01, -3.0670e-01],\n",
              "        [ 3.7321e-02,  3.5868e-03,  1.5937e-02,  1.5580e-01,  8.1083e-02,\n",
              "         -2.5473e-01,  2.7945e-01,  1.1771e-01,  6.7627e-03, -8.6133e-02],\n",
              "        [-1.0113e-01,  3.1315e-02,  1.7224e-01,  3.4539e-02,  5.9855e-02,\n",
              "         -2.1725e-01,  2.4205e-01, -1.0259e-01,  8.6011e-02, -2.1882e-01],\n",
              "        [-1.1833e-01, -6.5084e-02,  1.4870e-01,  1.5361e-01,  3.6045e-02,\n",
              "         -1.6459e-01,  2.3016e-01,  1.4075e-01, -1.1556e-01,  1.2111e-02],\n",
              "        [ 8.5016e-02, -9.3293e-02, -3.6607e-02, -6.4188e-02,  3.5438e-02,\n",
              "         -6.2205e-02,  2.3216e-01, -2.4149e-01, -1.0251e-01,  9.9864e-02],\n",
              "        [ 1.0233e-01,  1.8086e-01,  1.8660e-01, -2.2672e-01, -1.2354e-01,\n",
              "         -1.4565e-01,  7.6071e-02, -1.1782e-01, -4.3169e-03, -2.1135e-01],\n",
              "        [-5.5903e-02,  9.4841e-02,  1.7287e-01,  2.5160e-01, -9.4331e-02,\n",
              "         -4.7878e-02,  1.6020e-01,  1.4002e-01,  8.3177e-02,  3.7330e-02],\n",
              "        [-1.2782e-01,  5.3582e-02,  1.1430e-01,  1.0171e-01, -6.1320e-02,\n",
              "         -1.5914e-01, -5.4671e-02,  9.4884e-03,  4.0585e-02, -1.9153e-01],\n",
              "        [-1.5384e-01, -4.1080e-02,  2.2215e-01,  2.9534e-02, -1.0742e-01,\n",
              "         -2.8394e-01,  1.8856e-01, -1.9978e-01, -2.8011e-02,  5.1648e-02],\n",
              "        [-3.0889e-01,  1.1752e-01,  1.5594e-01,  3.1697e-01, -2.2453e-01,\n",
              "         -1.3607e-01,  3.9786e-01, -1.4095e-01, -5.0047e-02,  3.9991e-03],\n",
              "        [ 1.1606e-01, -1.0247e-01,  1.0922e-01, -1.6176e-01,  7.6645e-02,\n",
              "         -1.4916e-01,  1.1987e-01,  8.7565e-03,  4.0971e-04, -3.4594e-01],\n",
              "        [ 8.1785e-02,  1.6593e-01,  1.7234e-01,  1.3262e-01, -5.2014e-02,\n",
              "         -1.0856e-01,  2.2906e-01, -3.2680e-02, -3.3265e-02, -1.2490e-01],\n",
              "        [-1.8588e-01, -7.9423e-02,  3.3723e-02,  2.1566e-01,  3.7303e-02,\n",
              "          2.3261e-02,  1.8913e-01, -1.3397e-02, -2.2233e-02,  2.1236e-01],\n",
              "        [-3.5130e-01,  2.1209e-02, -4.6060e-02,  2.5441e-01,  1.3848e-03,\n",
              "         -9.6446e-02,  4.6404e-01, -2.5819e-03,  3.9612e-02,  3.1055e-01],\n",
              "        [-1.8382e-01,  1.4714e-01,  4.4097e-01,  3.5975e-01, -2.9849e-02,\n",
              "         -1.8781e-02,  3.5491e-01, -8.8483e-02, -3.4059e-02,  9.1529e-02],\n",
              "        [ 1.7453e-01, -1.4454e-01,  4.7155e-02, -1.2742e-01,  1.5905e-01,\n",
              "         -5.3783e-01,  3.3323e-02, -1.8160e-01,  1.2635e-01, -4.3145e-01],\n",
              "        [ 4.1073e-02, -3.6020e-02, -3.0293e-02,  2.2030e-02,  1.5250e-01,\n",
              "         -1.7730e-01,  6.8119e-02,  4.2328e-02, -2.7891e-01, -9.4116e-02],\n",
              "        [ 2.2271e-01, -1.6345e-01,  4.1951e-02,  2.8187e-02, -4.6881e-02,\n",
              "          1.7019e-01,  2.6780e-01,  2.8348e-02, -1.4309e-01, -1.6001e-01],\n",
              "        [-1.1138e-01,  7.4645e-02, -6.2659e-02,  1.0513e-01, -2.5034e-01,\n",
              "         -3.0418e-01, -3.2852e-02, -1.9161e-01, -1.7548e-01, -2.0547e-01],\n",
              "        [ 9.9991e-02, -1.8114e-01, -9.3764e-02,  2.0858e-01, -2.2354e-02,\n",
              "          6.2201e-03,  9.0694e-02, -1.3285e-01, -7.2087e-02, -8.5007e-02],\n",
              "        [ 8.4710e-02, -1.0813e-01,  1.6918e-02,  3.7800e-01,  1.1544e-02,\n",
              "         -1.5714e-01,  6.2916e-02, -1.9506e-01,  3.3119e-02, -2.5297e-01],\n",
              "        [ 9.0743e-02, -1.9067e-01,  5.0124e-02, -7.6151e-03, -4.1590e-02,\n",
              "          3.7422e-02,  8.9197e-02, -2.3942e-01, -2.2214e-01,  2.7146e-01],\n",
              "        [-2.1884e-02,  1.1277e-01,  9.1390e-02,  1.2758e-01, -6.0668e-02,\n",
              "         -1.8550e-01,  2.5847e-01, -5.0181e-02,  4.0753e-02, -5.1895e-02],\n",
              "        [ 3.3695e-01, -1.0451e-01,  8.9370e-02,  1.4156e-01,  1.4363e-01,\n",
              "          1.0252e-01,  3.3365e-01,  7.5959e-02, -7.0907e-03,  6.8175e-02],\n",
              "        [-7.3378e-02, -1.1179e-01,  7.6482e-02,  4.5084e-02, -7.7969e-02,\n",
              "         -5.4626e-02,  1.5538e-01, -2.2943e-01, -2.0262e-02,  1.6370e-01],\n",
              "        [-1.4600e-02, -1.0476e-01,  1.1717e-01,  2.1117e-01,  3.7013e-02,\n",
              "         -3.7412e-01,  1.7596e-01,  2.8313e-02, -4.2561e-02,  3.0112e-02],\n",
              "        [ 5.3976e-02,  1.2158e-01, -1.2261e-01, -6.2245e-02, -4.7459e-02,\n",
              "         -2.2301e-01,  1.8478e-01,  3.1382e-02,  1.7971e-02, -1.2065e-01],\n",
              "        [ 7.5572e-02, -1.8407e-01,  2.9533e-02, -2.0228e-02, -1.4713e-01,\n",
              "          7.2849e-02, -1.2334e-02, -2.1199e-01, -3.5441e-01,  2.0264e-01],\n",
              "        [ 2.0078e-01, -9.6986e-02,  1.1105e-01, -1.2723e-01, -1.7050e-02,\n",
              "         -1.9293e-01,  1.4330e-01, -1.0046e-02, -5.9838e-02, -1.9992e-01],\n",
              "        [ 1.7396e-01, -2.2657e-01, -4.4785e-02,  2.7974e-02, -9.2449e-02,\n",
              "         -4.4429e-01, -1.7101e-01, -2.1143e-02, -6.8364e-02,  3.5042e-03],\n",
              "        [-1.0117e-01, -8.3367e-02, -5.4126e-04, -1.3333e-01, -2.8170e-01,\n",
              "          4.2727e-02,  1.1436e-01, -3.3793e-02, -1.4417e-01, -9.6243e-02],\n",
              "        [ 2.6968e-01, -1.2503e-01, -4.6200e-02,  1.4926e-01, -3.7776e-02,\n",
              "         -1.1755e-01, -2.0764e-02, -2.1409e-02, -1.4140e-02, -2.0890e-01],\n",
              "        [ 2.0901e-02, -1.7719e-01,  1.2448e-02,  1.9985e-02, -3.7867e-02,\n",
              "          7.1357e-02,  1.3778e-01, -2.3795e-01, -1.3949e-01,  2.6827e-01],\n",
              "        [ 6.2891e-02,  2.5798e-01,  7.1326e-02,  1.5367e-01, -6.9441e-02,\n",
              "          2.7639e-01,  3.2646e-02,  5.0424e-02, -2.9403e-03,  2.4967e-02],\n",
              "        [-9.7241e-02,  2.6516e-01,  8.7294e-02,  1.8313e-01, -8.0000e-02,\n",
              "         -1.9175e-01,  3.4843e-02,  3.5837e-03,  4.8478e-02, -2.5077e-01],\n",
              "        [-1.2885e-01,  2.4570e-02,  7.3749e-02,  8.8885e-02, -1.3501e-01,\n",
              "         -2.0637e-02, -1.1440e-01,  1.9321e-02,  1.3414e-01, -1.4696e-01],\n",
              "        [-1.1606e-01, -7.1860e-02, -4.5646e-02,  1.9623e-01, -1.4026e-01,\n",
              "         -1.1649e-01,  5.2636e-02,  3.0029e-02, -4.9682e-02, -2.3894e-01],\n",
              "        [ 1.5585e-01,  2.6721e-03,  1.2864e-01,  1.2675e-01, -1.0905e-01,\n",
              "          4.9518e-02,  5.1322e-02, -1.3441e-01, -1.1781e-01, -7.8941e-03],\n",
              "        [-1.4440e-01,  1.0530e-01,  1.5031e-01,  2.8262e-01, -9.1591e-02,\n",
              "         -2.6831e-01, -2.9165e-02, -1.6365e-02,  1.2805e-04, -1.4928e-01],\n",
              "        [ 7.3533e-02, -2.5901e-02, -7.5719e-02,  2.6367e-01, -3.0901e-02,\n",
              "         -8.4321e-02, -1.6301e-01, -2.2939e-01, -1.2340e-01,  1.5928e-02],\n",
              "        [-7.8995e-03,  5.5940e-02,  3.5241e-01,  2.1295e-01, -2.2973e-01,\n",
              "          1.7302e-01,  2.7373e-01, -1.1361e-01, -1.5234e-01, -8.6874e-02],\n",
              "        [ 3.4958e-01,  7.1090e-02,  1.3999e-01,  1.9620e-01, -1.9610e-02,\n",
              "         -6.0270e-02,  9.1358e-02,  2.0047e-02, -3.1189e-02, -4.2439e-01],\n",
              "        [ 1.6487e-01, -8.8856e-02,  1.6093e-01,  4.1669e-01,  2.0316e-02,\n",
              "         -1.8392e-01,  1.8427e-01, -1.6388e-01,  1.4503e-01, -3.2065e-01],\n",
              "        [ 1.6692e-01,  2.4835e-02,  1.1928e-01,  1.1074e-01, -1.5907e-01,\n",
              "         -1.1548e-01, -5.4790e-02,  8.6190e-02, -1.5205e-01, -7.5398e-02],\n",
              "        [-1.3979e-01, -1.0825e-01,  6.2426e-02,  1.3776e-01, -5.3955e-03,\n",
              "          1.8638e-02,  4.8220e-03, -2.0549e-01, -1.9824e-01, -1.2090e-02],\n",
              "        [ 9.9688e-02,  7.3274e-02,  1.5784e-01, -1.4584e-01, -1.5694e-03,\n",
              "         -6.4261e-02,  4.1610e-01,  4.8007e-02, -4.3293e-02,  1.5942e-01],\n",
              "        [ 1.0448e-01, -9.3744e-02, -2.3582e-02,  6.3539e-02, -1.2071e-01,\n",
              "          1.2795e-01, -8.8826e-02, -1.5765e-01, -2.3622e-01, -8.0770e-02],\n",
              "        [-1.1342e-01, -3.6772e-02,  1.5674e-02, -1.1239e-02, -1.3854e-01,\n",
              "         -3.9469e-01, -1.5947e-03, -4.9643e-02,  1.5545e-01, -2.2402e-01],\n",
              "        [ 1.6400e-01,  2.8730e-01,  1.1110e-01,  1.9314e-02, -1.7613e-01,\n",
              "         -1.6790e-01, -1.7909e-01,  1.0113e-01,  2.0345e-02, -1.9460e-01]],\n",
              "       device='cuda:0', grad_fn=<AddmmBackward>)"
            ]
          },
          "metadata": {
            "tags": []
          },
          "execution_count": 27
        }
      ]
    },
    {
      "cell_type": "code",
      "metadata": {
        "id": "pVoQbh-sU1bt",
        "colab_type": "code",
        "colab": {}
      },
      "source": [
        "lr = 1e-02\n",
        "losses = [update(x, y, lr) for x, y in data.train_dl]"
      ],
      "execution_count": 0,
      "outputs": []
    },
    {
      "cell_type": "code",
      "metadata": {
        "id": "XryOxsnYVBnS",
        "colab_type": "code",
        "outputId": "e830d22f-a501-40b5-9d6d-622ad0f8f27d",
        "colab": {
          "base_uri": "https://localhost:8080/",
          "height": 282
        }
      },
      "source": [
        "plt.plot(losses)"
      ],
      "execution_count": 29,
      "outputs": [
        {
          "output_type": "execute_result",
          "data": {
            "text/plain": [
              "[<matplotlib.lines.Line2D at 0x7f1fc53d57f0>]"
            ]
          },
          "metadata": {
            "tags": []
          },
          "execution_count": 29
        },
        {
          "output_type": "display_data",
          "data": {
            "image/png": "[encoded data removed]",
            "text/plain": [
              "<Figure size 432x288 with 1 Axes>"
            ]
          },
          "metadata": {
            "tags": [],
            "needs_background": "light"
          }
        }
      ]
    },
    {
      "cell_type": "code",
      "metadata": {
        "id": "kDHuVA0MW0Jj",
        "colab_type": "code",
        "colab": {}
      },
      "source": [
        "class MnistNN(nn.Module):\n",
        "  def __init__(self):\n",
        "    super().__init__()\n",
        "    self.lin_1 = nn.Linear(784, 50, bias = True)\n",
        "    self.lin_2 = nn.Linear(50, 10, bias = True)\n",
        "  \n",
        "  def forward(self, xb):\n",
        "    x = F.relu(self.lin_1(xb))\n",
        "    return self.lin_2(x)"
      ],
      "execution_count": 0,
      "outputs": []
    },
    {
      "cell_type": "code",
      "metadata": {
        "id": "D6DgQpXhYzH5",
        "colab_type": "code",
        "colab": {}
      },
      "source": [
        "def update(x, y, lr, model, lrs, backward = True):\n",
        "  wd = 0\n",
        "  y_hat = model(x)\n",
        "  w2 = 0\n",
        "  for params in model.parameters(): w2 += (params**2).sum()\n",
        "  loss = loss_function(y_hat, y) + w2*wd\n",
        "  loss.backward()\n",
        "  if backward:\n",
        "    with torch.no_grad():\n",
        "      lr = lrs[0]\n",
        "      layer = 0\n",
        "      for param in model.parameters():\n",
        "        if layer > 1:\n",
        "          lr = lrs[1]\n",
        "        param.sub_(lr * param.grad)\n",
        "        param.grad.zero_()\n",
        "        layer += 1\n",
        "  return loss.item()"
      ],
      "execution_count": 0,
      "outputs": []
    },
    {
      "cell_type": "code",
      "metadata": {
        "id": "oajQwIxHYR25",
        "colab_type": "code",
        "colab": {}
      },
      "source": [
        "model = MnistNN().cuda()"
      ],
      "execution_count": 0,
      "outputs": []
    },
    {
      "cell_type": "code",
      "metadata": {
        "id": "iq7wrY2yYdOS",
        "colab_type": "code",
        "outputId": "58640fdd-fd5e-408b-a67a-70b6ade4431a",
        "colab": {
          "base_uri": "https://localhost:8080/",
          "height": 86
        }
      },
      "source": [
        "model"
      ],
      "execution_count": 33,
      "outputs": [
        {
          "output_type": "execute_result",
          "data": {
            "text/plain": [
              "MnistNN(\n",
              "  (lin_1): Linear(in_features=784, out_features=50, bias=True)\n",
              "  (lin_2): Linear(in_features=50, out_features=10, bias=True)\n",
              ")"
            ]
          },
          "metadata": {
            "tags": []
          },
          "execution_count": 33
        }
      ]
    },
    {
      "cell_type": "markdown",
      "metadata": {
        "id": "zhM5Xcbd8FvY",
        "colab_type": "text"
      },
      "source": [
        "\n",
        "---\n",
        "\n"
      ]
    },
    {
      "cell_type": "code",
      "metadata": {
        "id": "ln45IPGl8K4i",
        "colab_type": "code",
        "colab": {}
      },
      "source": [
        "model_1 = MnistNN().cuda()"
      ],
      "execution_count": 0,
      "outputs": []
    },
    {
      "cell_type": "code",
      "metadata": {
        "id": "UlFwgggg8Og_",
        "colab_type": "code",
        "outputId": "d8964cbc-9807-48f5-e402-7bcab94766a9",
        "colab": {
          "base_uri": "https://localhost:8080/",
          "height": 282
        }
      },
      "source": [
        "model_1 = MnistNN().cuda()\n",
        "nn_losses = [update(x, y, lr, model_1, [5e-01, 1e-02]) for x, y in data.train_dl]\n",
        "plt.plot(nn_losses)\n",
        "valid_losses = [update(x, y, lr, model_1, [5e-02, 1e-02], False) for x, y in data.valid_dl]\n",
        "plt.plot(valid_losses)"
      ],
      "execution_count": 35,
      "outputs": [
        {
          "output_type": "execute_result",
          "data": {
            "text/plain": [
              "[<matplotlib.lines.Line2D at 0x7f1fc41b6940>]"
            ]
          },
          "metadata": {
            "tags": []
          },
          "execution_count": 35
        },
        {
          "output_type": "display_data",
          "data": {
            "image/png": "[encoded data removed]",
            "text/plain": [
              "<Figure size 432x288 with 1 Axes>"
            ]
          },
          "metadata": {
            "tags": [],
            "needs_background": "light"
          }
        }
      ]
    },
    {
      "cell_type": "code",
      "metadata": {
        "id": "TnGEg2c1bY5D",
        "colab_type": "code",
        "colab": {}
      },
      "source": [
        "all_preds = []\n",
        "all_results = []\n",
        "for x, y in data.valid_dl:\n",
        "  all_preds += model_1(x)\n",
        "  all_results += list(y)"
      ],
      "execution_count": 0,
      "outputs": []
    },
    {
      "cell_type": "code",
      "metadata": {
        "id": "O9y-9shsb4Ax",
        "colab_type": "code",
        "colab": {
          "base_uri": "https://localhost:8080/",
          "height": 35
        },
        "outputId": "5e422a17-00ab-4636-e839-a3f3e6c9a61f"
      },
      "source": [
        "len(all_preds)"
      ],
      "execution_count": 37,
      "outputs": [
        {
          "output_type": "execute_result",
          "data": {
            "text/plain": [
              "10000"
            ]
          },
          "metadata": {
            "tags": []
          },
          "execution_count": 37
        }
      ]
    },
    {
      "cell_type": "code",
      "metadata": {
        "id": "O8iwUR2ddAf5",
        "colab_type": "code",
        "colab": {
          "base_uri": "https://localhost:8080/",
          "height": 35
        },
        "outputId": "5ce68d38-1b71-4e14-a350-0d0a574f7938"
      },
      "source": [
        "len(all_results)"
      ],
      "execution_count": 38,
      "outputs": [
        {
          "output_type": "execute_result",
          "data": {
            "text/plain": [
              "10000"
            ]
          },
          "metadata": {
            "tags": []
          },
          "execution_count": 38
        }
      ]
    },
    {
      "cell_type": "code",
      "metadata": {
        "id": "CJedxurAcQVC",
        "colab_type": "code",
        "colab": {}
      },
      "source": [
        "actual_preds = [list(r).index(max(r)) for r in all_preds]"
      ],
      "execution_count": 0,
      "outputs": []
    },
    {
      "cell_type": "code",
      "metadata": {
        "id": "3VpT5ZXQckn-",
        "colab_type": "code",
        "colab": {}
      },
      "source": [
        "total_correct = 0\n",
        "for j in range(len(actual_preds)):\n",
        "  if actual_preds[j] == all_results[j]:\n",
        "    total_correct += 1\n",
        "acc = total_correct/len(actual_preds)"
      ],
      "execution_count": 0,
      "outputs": []
    },
    {
      "cell_type": "code",
      "metadata": {
        "id": "3LSWhbLqc4Sp",
        "colab_type": "code",
        "colab": {
          "base_uri": "https://localhost:8080/",
          "height": 35
        },
        "outputId": "822d8543-70f8-4981-cb70-5024d840fac8"
      },
      "source": [
        "acc"
      ],
      "execution_count": 41,
      "outputs": [
        {
          "output_type": "execute_result",
          "data": {
            "text/plain": [
              "0.9228"
            ]
          },
          "metadata": {
            "tags": []
          },
          "execution_count": 41
        }
      ]
    },
    {
      "cell_type": "code",
      "metadata": {
        "id": "KD8gnn22_7GP",
        "colab_type": "code",
        "colab": {}
      },
      "source": [
        "#implemented increasing gradient to early layers, turned out to work pretty well, without changing the loss function. I feel as the neural network is not a pretrained,\n",
        "#one, and all the weights are initialized randomly, so the loss is important to earlier layers as it is to the last ones, but due to distributed gradient, The loss was \n",
        "#not getting propagated accordingly, so due to rise in learning rate, has helped to distribute the gradient to the earlier layers."
      ],
      "execution_count": 0,
      "outputs": []
    },
    {
      "cell_type": "code",
      "metadata": {
        "id": "bDiEbS5lDyW8",
        "colab_type": "code",
        "colab": {}
      },
      "source": [
        "def update_optim(x, y, lr):\n",
        "  opt = optim.SGD(model.parameters(), lr)\n",
        "  y_hat = model(x)\n",
        "  loss = loss_function(y_hat, y)\n",
        "  loss.backward()\n",
        "  opt.step()\n",
        "  opt.zero_grad()\n",
        "  return loss.item()"
      ],
      "execution_count": 0,
      "outputs": []
    },
    {
      "cell_type": "code",
      "metadata": {
        "id": "IEy5rzkYNXlH",
        "colab_type": "code",
        "colab": {}
      },
      "source": [
        "model_opt = MnistNN().cuda()"
      ],
      "execution_count": 0,
      "outputs": []
    },
    {
      "cell_type": "code",
      "metadata": {
        "id": "qM7x6EyZNa_4",
        "colab_type": "code",
        "colab": {}
      },
      "source": [
        "lr = 1e-02\n",
        "opt_losses = [update_optim(x, y, lr) for x, y in data.train_dl]"
      ],
      "execution_count": 0,
      "outputs": []
    },
    {
      "cell_type": "code",
      "metadata": {
        "id": "ezcFbEosNnHk",
        "colab_type": "code",
        "colab": {
          "base_uri": "https://localhost:8080/",
          "height": 282
        },
        "outputId": "25aaed66-e998-4c35-a6b9-5a25a4b6d926"
      },
      "source": [
        "plt.plot(opt_losses)"
      ],
      "execution_count": 46,
      "outputs": [
        {
          "output_type": "execute_result",
          "data": {
            "text/plain": [
              "[<matplotlib.lines.Line2D at 0x7f1f9afc7710>]"
            ]
          },
          "metadata": {
            "tags": []
          },
          "execution_count": 46
        },
        {
          "output_type": "display_data",
          "data": {
            "image/png": "[encoded data removed]",
            "text/plain": [
              "<Figure size 432x288 with 1 Axes>"
            ]
          },
          "metadata": {
            "tags": [],
            "needs_background": "light"
          }
        }
      ]
    },
    {
      "cell_type": "code",
      "metadata": {
        "id": "j924QkIaOOXo",
        "colab_type": "code",
        "colab": {}
      },
      "source": [
        "def new_update_optim(x, y, lr):\n",
        "  opt = optim.Adam(model_opt.parameters(), lr)\n",
        "  y_hat = model_opt(x)\n",
        "  loss = loss_function(y_hat, y)\n",
        "  loss.backward()\n",
        "  opt.step()\n",
        "  opt.zero_grad()\n",
        "  return loss.item()"
      ],
      "execution_count": 0,
      "outputs": []
    },
    {
      "cell_type": "code",
      "metadata": {
        "id": "XqTBFoEjOUoM",
        "colab_type": "code",
        "colab": {
          "base_uri": "https://localhost:8080/",
          "height": 282
        },
        "outputId": "d50ad300-02de-4776-8321-3cd08feef526"
      },
      "source": [
        "model_opt = MnistNN().cuda()\n",
        "lr = 1e-03\n",
        "opt_losses = [new_update_optim(x, y, 1e-03) for x, y in data.train_dl]\n",
        "plt.plot(opt_losses)"
      ],
      "execution_count": 48,
      "outputs": [
        {
          "output_type": "execute_result",
          "data": {
            "text/plain": [
              "[<matplotlib.lines.Line2D at 0x7f1fc411ac88>]"
            ]
          },
          "metadata": {
            "tags": []
          },
          "execution_count": 48
        },
        {
          "output_type": "display_data",
          "data": {
            "image/png": "[encoded data removed]",
            "text/plain": [
              "<Figure size 432x288 with 1 Axes>"
            ]
          },
          "metadata": {
            "tags": [],
            "needs_background": "light"
          }
        }
      ]
    }
  ]
}