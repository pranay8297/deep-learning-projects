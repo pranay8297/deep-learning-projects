{
  "nbformat": 4,
  "nbformat_minor": 0,
  "metadata": {
    "colab": {
      "name": "Untitled4.ipynb",
      "provenance": [],
      "collapsed_sections": [],
      "machine_shape": "hm",
      "authorship_tag": "ABX9TyMic4ghrMEuRZ7bpNN0rf9N",
      "include_colab_link": true
    },
    "kernelspec": {
      "name": "python3",
      "display_name": "Python 3"
    },
    "accelerator": "GPU"
  },
  "cells": [
    {
      "cell_type": "markdown",
      "metadata": {
        "id": "view-in-github",
        "colab_type": "text"
      },
      "source": [
        "<a href=\"https://colab.research.google.com/github/pranay8297/deep-learning-projects/blob/master/imdb_transfer_v2.ipynb\" target=\"_parent\"><img src=\"https://colab.research.google.com/assets/colab-badge.svg\" alt=\"Open In Colab\"/></a>"
      ]
    },
    {
      "cell_type": "code",
      "metadata": {
        "id": "ZB6oKVhv9ypn",
        "colab_type": "code",
        "colab": {}
      },
      "source": [
        "from fastai import *\n",
        "from fastai.text import *"
      ],
      "execution_count": 1,
      "outputs": []
    },
    {
      "cell_type": "code",
      "metadata": {
        "id": "dYj-rSOR9_wd",
        "colab_type": "code",
        "colab": {}
      },
      "source": [
        "path = untar_data(URLs.IMDB)"
      ],
      "execution_count": 2,
      "outputs": []
    },
    {
      "cell_type": "code",
      "metadata": {
        "id": "vFVYjiFq-FkE",
        "colab_type": "code",
        "colab": {
          "base_uri": "https://localhost:8080/",
          "height": 155
        },
        "outputId": "0fd49f3a-efaa-4441-a767-fca2ff4ba3f8"
      },
      "source": [
        "path.ls()"
      ],
      "execution_count": 3,
      "outputs": [
        {
          "output_type": "execute_result",
          "data": {
            "text/plain": [
              "[PosixPath('/root/.fastai/data/imdb/README'),\n",
              " PosixPath('/root/.fastai/data/imdb/models'),\n",
              " PosixPath('/root/.fastai/data/imdb/train'),\n",
              " PosixPath('/root/.fastai/data/imdb/tmp_clas'),\n",
              " PosixPath('/root/.fastai/data/imdb/tmp_lm'),\n",
              " PosixPath('/root/.fastai/data/imdb/imdb.vocab'),\n",
              " PosixPath('/root/.fastai/data/imdb/unsup'),\n",
              " PosixPath('/root/.fastai/data/imdb/test')]"
            ]
          },
          "metadata": {
            "tags": []
          },
          "execution_count": 3
        }
      ]
    },
    {
      "cell_type": "code",
      "metadata": {
        "id": "75K_6GB3-GgN",
        "colab_type": "code",
        "colab": {
          "base_uri": "https://localhost:8080/",
          "height": 17
        },
        "outputId": "b3463392-41d1-4dd0-b002-35429ae7df30"
      },
      "source": [
        "bs = 64\n",
        "data = TextList.from_folder(path).filter_by_folder(['train', 'test']).split_by_rand_pct(0.1).label_for_lm().databunch(bs = bs)"
      ],
      "execution_count": 4,
      "outputs": [
        {
          "output_type": "display_data",
          "data": {
            "text/html": [
              ""
            ],
            "text/plain": [
              "<IPython.core.display.HTML object>"
            ]
          },
          "metadata": {
            "tags": []
          }
        },
        {
          "output_type": "display_data",
          "data": {
            "text/html": [
              ""
            ],
            "text/plain": [
              "<IPython.core.display.HTML object>"
            ]
          },
          "metadata": {
            "tags": []
          }
        }
      ]
    },
    {
      "cell_type": "code",
      "metadata": {
        "id": "Mi2AMPmO_PQ4",
        "colab_type": "code",
        "colab": {
          "base_uri": "https://localhost:8080/",
          "height": 371
        },
        "outputId": "48508ef9-856b-4dd3-9bf7-d49eaf80cf27"
      },
      "source": [
        "data.show_batch()"
      ],
      "execution_count": 5,
      "outputs": [
        {
          "output_type": "stream",
          "text": [
            "/usr/local/lib/python3.6/dist-packages/fastai/text/data.py:339: UserWarning: This overload of nonzero is deprecated:\n",
            "\tnonzero()\n",
            "Consider using one of the following signatures instead:\n",
            "\tnonzero(*, bool as_tuple) (Triggered internally at  /pytorch/torch/csrc/utils/python_arg_parser.cpp:766.)\n",
            "  idx_min = (t != self.pad_idx).nonzero().min()\n"
          ],
          "name": "stderr"
        },
        {
          "output_type": "display_data",
          "data": {
            "text/html": [
              "<table border=\"1\" class=\"dataframe\">\n",
              "  <thead>\n",
              "    <tr style=\"text-align: right;\">\n",
              "      <th>idx</th>\n",
              "      <th>text</th>\n",
              "    </tr>\n",
              "  </thead>\n",
              "  <tbody>\n",
              "    <tr>\n",
              "      <td>0</td>\n",
              "      <td>it , you 'll be , in the very least , surprised . \\n \\n  xxmaj all the main players are very good . xxmaj bill xxmaj paxton did a great job directing those kids , and his acting is awesome . mcconaughey 's acting is solid throughout and fits the bill perfectly . \\n \\n  xxmaj this movie challenges you to think . xxmaj is xxmaj dad</td>\n",
              "    </tr>\n",
              "    <tr>\n",
              "      <td>1</td>\n",
              "      <td>good father figure as he . i had three small children , no education , no financial support . i took it very , very hard . \\n \\n  xxmaj within two years my in - laws attacked me verbally , physically , emotionally and spiritually demanding i grieve not in front of the children , and put on masks and showed people what they wanted to see ,</td>\n",
              "    </tr>\n",
              "    <tr>\n",
              "      <td>2</td>\n",
              "      <td>feature . xxmaj the difference between xxmaj charlie and xxmaj carface is that xxmaj charlie can learn and is willing to listen to others ; xxmaj anne xxmaj marie and his sidekick , xxmaj itchy . xxmaj carface will not even listen to the fat , ugly dog with the big glasses who happens to be closest to him . \\n \\n  xxmaj carface attempts to murder the hero</td>\n",
              "    </tr>\n",
              "    <tr>\n",
              "      <td>3</td>\n",
              "      <td>development and xxmaj extras off the air this is officially the funniest thing on television right now . xxbos xxmaj you probably all already know this by now , but 5 additional episodes never aired can be viewed on xxunk i 've watched a lot of television over the years and this is possibly my favorite show , ever . xxmaj it 's a crime that this beautifully written and</td>\n",
              "    </tr>\n",
              "    <tr>\n",
              "      <td>4</td>\n",
              "      <td>) a xxup town xxup like xxup alice ( 1956 ) his most noteworthy achievements  but he certainly milked every gripping situation in this case ( even if , reportedly , delays in filming saw xxmaj lee quitting his post prematurely  leaving producer xxmaj ian xxmaj xxunk with the task of tying up loose ends ! ) . xxmaj anyway , worth special mention is the exquisite lighting</td>\n",
              "    </tr>\n",
              "  </tbody>\n",
              "</table>"
            ],
            "text/plain": [
              "<IPython.core.display.HTML object>"
            ]
          },
          "metadata": {
            "tags": []
          }
        }
      ]
    },
    {
      "cell_type": "code",
      "metadata": {
        "id": "UrFnVCqV_9yh",
        "colab_type": "code",
        "colab": {}
      },
      "source": [
        "learn = language_model_learner(data, arch = AWD_LSTM, drop_mult = 0.3)"
      ],
      "execution_count": 6,
      "outputs": []
    },
    {
      "cell_type": "code",
      "metadata": {
        "id": "p4bU3k-TAcHq",
        "colab_type": "code",
        "colab": {
          "base_uri": "https://localhost:8080/",
          "height": 432
        },
        "outputId": "63ac5471-38bd-4635-b58b-a276eceb33c7"
      },
      "source": [
        "learn.summary()"
      ],
      "execution_count": 8,
      "outputs": [
        {
          "output_type": "execute_result",
          "data": {
            "application/vnd.google.colaboratory.intrinsic+json": {
              "type": "string"
            },
            "text/plain": [
              "SequentialRNN\n",
              "======================================================================\n",
              "Layer (type)         Output Shape         Param #    Trainable \n",
              "======================================================================\n",
              "RNNDropout           [70, 400]            0          False     \n",
              "______________________________________________________________________\n",
              "RNNDropout           [70, 1152]           0          False     \n",
              "______________________________________________________________________\n",
              "RNNDropout           [70, 1152]           0          False     \n",
              "______________________________________________________________________\n",
              "Linear               [70, 49888]          20,005,088 True      \n",
              "______________________________________________________________________\n",
              "RNNDropout           [70, 400]            0          False     \n",
              "______________________________________________________________________\n",
              "\n",
              "Total params: 20,005,088\n",
              "Total trainable params: 20,005,088\n",
              "Total non-trainable params: 0\n",
              "Optimized with 'torch.optim.adam.Adam', betas=(0.9, 0.99)\n",
              "Using true weight decay as discussed in https://www.fast.ai/2018/07/02/adam-weight-decay/ \n",
              "Loss function : FlattenedLoss\n",
              "======================================================================\n",
              "Callbacks functions applied \n",
              "    RNNTrainer"
            ]
          },
          "metadata": {
            "tags": []
          },
          "execution_count": 8
        }
      ]
    },
    {
      "cell_type": "code",
      "metadata": {
        "id": "6EXDTPZTAdzd",
        "colab_type": "code",
        "colab": {
          "base_uri": "https://localhost:8080/",
          "height": 373
        },
        "outputId": "e6304d84-12cb-4474-8d7a-31f7291d2b63"
      },
      "source": [
        "learn.lr_find()\n",
        "learn.recorder.plot(skip_end=20)"
      ],
      "execution_count": 7,
      "outputs": [
        {
          "output_type": "display_data",
          "data": {
            "text/html": [
              "\n",
              "    <div>\n",
              "        <style>\n",
              "            /* Turns off some styling */\n",
              "            progress {\n",
              "                /* gets rid of default border in Firefox and Opera. */\n",
              "                border: none;\n",
              "                /* Needs to be in here for Safari polyfill so background images work as expected. */\n",
              "                background-size: auto;\n",
              "            }\n",
              "            .progress-bar-interrupted, .progress-bar-interrupted::-webkit-progress-bar {\n",
              "                background: #F44336;\n",
              "            }\n",
              "        </style>\n",
              "      <progress value='0' class='' max='1' style='width:300px; height:20px; vertical-align: middle;'></progress>\n",
              "      0.00% [0/1 00:00<00:00]\n",
              "    </div>\n",
              "    \n",
              "<table border=\"1\" class=\"dataframe\">\n",
              "  <thead>\n",
              "    <tr style=\"text-align: left;\">\n",
              "      <th>epoch</th>\n",
              "      <th>train_loss</th>\n",
              "      <th>valid_loss</th>\n",
              "      <th>accuracy</th>\n",
              "      <th>time</th>\n",
              "    </tr>\n",
              "  </thead>\n",
              "  <tbody>\n",
              "  </tbody>\n",
              "</table><p>\n",
              "\n",
              "    <div>\n",
              "        <style>\n",
              "            /* Turns off some styling */\n",
              "            progress {\n",
              "                /* gets rid of default border in Firefox and Opera. */\n",
              "                border: none;\n",
              "                /* Needs to be in here for Safari polyfill so background images work as expected. */\n",
              "                background-size: auto;\n",
              "            }\n",
              "            .progress-bar-interrupted, .progress-bar-interrupted::-webkit-progress-bar {\n",
              "                background: #F44336;\n",
              "            }\n",
              "        </style>\n",
              "      <progress value='99' class='' max='3002' style='width:300px; height:20px; vertical-align: middle;'></progress>\n",
              "      3.30% [99/3002 00:18<09:11 11.6589]\n",
              "    </div>\n",
              "    "
            ],
            "text/plain": [
              "<IPython.core.display.HTML object>"
            ]
          },
          "metadata": {
            "tags": []
          }
        },
        {
          "output_type": "stream",
          "text": [
            "LR Finder is complete, type {learner_name}.recorder.plot() to see the graph.\n"
          ],
          "name": "stdout"
        },
        {
          "output_type": "display_data",
          "data": {
            "image/png": "[encoded data removed]",
            "text/plain": [
              "<Figure size 432x288 with 1 Axes>"
            ]
          },
          "metadata": {
            "tags": [],
            "needs_background": "light"
          }
        }
      ]
    },
    {
      "cell_type": "code",
      "metadata": {
        "id": "dv1R-kHVAhNG",
        "colab_type": "code",
        "colab": {
          "base_uri": "https://localhost:8080/",
          "height": 78
        },
        "outputId": "5dc93ddc-be71-4a4f-863c-2090f545ace5"
      },
      "source": [
        "learn.fit_one_cycle(1, slice(4e-02))"
      ],
      "execution_count": 8,
      "outputs": [
        {
          "output_type": "display_data",
          "data": {
            "text/html": [
              "<table border=\"1\" class=\"dataframe\">\n",
              "  <thead>\n",
              "    <tr style=\"text-align: left;\">\n",
              "      <th>epoch</th>\n",
              "      <th>train_loss</th>\n",
              "      <th>valid_loss</th>\n",
              "      <th>accuracy</th>\n",
              "      <th>time</th>\n",
              "    </tr>\n",
              "  </thead>\n",
              "  <tbody>\n",
              "    <tr>\n",
              "      <td>0</td>\n",
              "      <td>4.326374</td>\n",
              "      <td>4.164789</td>\n",
              "      <td>0.280990</td>\n",
              "      <td>09:53</td>\n",
              "    </tr>\n",
              "  </tbody>\n",
              "</table>"
            ],
            "text/plain": [
              "<IPython.core.display.HTML object>"
            ]
          },
          "metadata": {
            "tags": []
          }
        }
      ]
    },
    {
      "cell_type": "code",
      "metadata": {
        "id": "JI74dOM8A7Nv",
        "colab_type": "code",
        "colab": {
          "base_uri": "https://localhost:8080/",
          "height": 285
        },
        "outputId": "ad78b76b-280c-451c-f832-9941b2cc2216"
      },
      "source": [
        "learn.show_results()"
      ],
      "execution_count": 14,
      "outputs": [
        {
          "output_type": "display_data",
          "data": {
            "text/html": [
              "<table border=\"1\" class=\"dataframe\">\n",
              "  <thead>\n",
              "    <tr style=\"text-align: right;\">\n",
              "      <th>text</th>\n",
              "      <th>target</th>\n",
              "      <th>pred</th>\n",
              "    </tr>\n",
              "  </thead>\n",
              "  <tbody>\n",
              "    <tr>\n",
              "      <td>xxbos xxmaj jim xxmaj henson always seemed to put out wonderful television shows . xxmaj this was sadly one of</td>\n",
              "      <td>the shortest lived . xxmaj it was endearing to hear each tale with their delightful morals . xxmaj each episode</td>\n",
              "      <td>the most of television xxmaj the was a , see the of of a own moments . xxmaj the of</td>\n",
              "    </tr>\n",
              "    <tr>\n",
              "      <td>after watching this movie i can assure you that nothing but frustration and disappointment await you should you choose to</td>\n",
              "      <td>go see this . xxmaj hey , xxmaj tim xxmaj burton , i used to be a big fan of</td>\n",
              "      <td>see to the movie xxmaj the , it custer xxmaj burton 's xxmaj 'm to be a little fan of</td>\n",
              "    </tr>\n",
              "    <tr>\n",
              "      <td>a great actioner with xxmaj flynn as dashing as ever , dehavilland as beguiling as ever , the young xxmaj</td>\n",
              "      <td>anthony xxmaj quinn getting a start as xxmaj crazy xxmaj horse and director xxmaj walsh as xxunk as ever in</td>\n",
              "      <td>hitler xxmaj quinn 's married chance to a hitler , red , xxmaj xxmaj frank . xxmaj , xxmaj .</td>\n",
              "    </tr>\n",
              "    <tr>\n",
              "      <td>, xxmaj lena and xxmaj mateo fall in love . xxmaj and , in xxmaj almodovar 's world it really</td>\n",
              "      <td>is that simple . xxmaj mateo , in the opening scene , has sex with a sexy young woman ,</td>\n",
              "      <td>is a the and xxmaj the xxmaj xxmaj particular end credits , is a with xxmaj woman girl girl who</td>\n",
              "    </tr>\n",
              "    <tr>\n",
              "      <td>xxmaj brewery . xxmaj they get a chance to harass the red team , with two feminists and two fun</td>\n",
              "      <td>- loving twins . xxmaj the white team of nerds are lead by xxmaj eddie xxmaj deezen , who was</td>\n",
              "      <td>) loving men ) xxmaj the xxmaj guy is xxmaj , a by the xxunk xxmaj murphy , who is</td>\n",
              "    </tr>\n",
              "  </tbody>\n",
              "</table>"
            ],
            "text/plain": [
              "<IPython.core.display.HTML object>"
            ]
          },
          "metadata": {
            "tags": []
          }
        }
      ]
    },
    {
      "cell_type": "code",
      "metadata": {
        "id": "J1Hd_c9GAz_1",
        "colab_type": "code",
        "colab": {
          "base_uri": "https://localhost:8080/",
          "height": 111
        },
        "outputId": "88765615-30e5-4d7f-990c-2e35c9510704"
      },
      "source": [
        "learn.save('lm_stage_1')\n",
        "learn.unfreeze()\n",
        "learn.lr_find()"
      ],
      "execution_count": 9,
      "outputs": [
        {
          "output_type": "display_data",
          "data": {
            "text/html": [
              "\n",
              "    <div>\n",
              "        <style>\n",
              "            /* Turns off some styling */\n",
              "            progress {\n",
              "                /* gets rid of default border in Firefox and Opera. */\n",
              "                border: none;\n",
              "                /* Needs to be in here for Safari polyfill so background images work as expected. */\n",
              "                background-size: auto;\n",
              "            }\n",
              "            .progress-bar-interrupted, .progress-bar-interrupted::-webkit-progress-bar {\n",
              "                background: #F44336;\n",
              "            }\n",
              "        </style>\n",
              "      <progress value='0' class='' max='1' style='width:300px; height:20px; vertical-align: middle;'></progress>\n",
              "      0.00% [0/1 00:00<00:00]\n",
              "    </div>\n",
              "    \n",
              "<table border=\"1\" class=\"dataframe\">\n",
              "  <thead>\n",
              "    <tr style=\"text-align: left;\">\n",
              "      <th>epoch</th>\n",
              "      <th>train_loss</th>\n",
              "      <th>valid_loss</th>\n",
              "      <th>accuracy</th>\n",
              "      <th>time</th>\n",
              "    </tr>\n",
              "  </thead>\n",
              "  <tbody>\n",
              "  </tbody>\n",
              "</table><p>\n",
              "\n",
              "    <div>\n",
              "        <style>\n",
              "            /* Turns off some styling */\n",
              "            progress {\n",
              "                /* gets rid of default border in Firefox and Opera. */\n",
              "                border: none;\n",
              "                /* Needs to be in here for Safari polyfill so background images work as expected. */\n",
              "                background-size: auto;\n",
              "            }\n",
              "            .progress-bar-interrupted, .progress-bar-interrupted::-webkit-progress-bar {\n",
              "                background: #F44336;\n",
              "            }\n",
              "        </style>\n",
              "      <progress value='93' class='' max='3002' style='width:300px; height:20px; vertical-align: middle;'></progress>\n",
              "      3.10% [93/3002 00:20<10:35 15.0473]\n",
              "    </div>\n",
              "    "
            ],
            "text/plain": [
              "<IPython.core.display.HTML object>"
            ]
          },
          "metadata": {
            "tags": []
          }
        },
        {
          "output_type": "stream",
          "text": [
            "LR Finder is complete, type {learner_name}.recorder.plot() to see the graph.\n"
          ],
          "name": "stdout"
        }
      ]
    },
    {
      "cell_type": "code",
      "metadata": {
        "id": "7jRvKH99DVCt",
        "colab_type": "code",
        "colab": {
          "base_uri": "https://localhost:8080/",
          "height": 279
        },
        "outputId": "251fc5f2-3a9c-430c-e67a-8c9c8c74591f"
      },
      "source": [
        "learn.recorder.plot(skip_end=20)"
      ],
      "execution_count": 10,
      "outputs": [
        {
          "output_type": "display_data",
          "data": {
            "image/png": "[encoded data removed]",
            "text/plain": [
              "<Figure size 432x288 with 1 Axes>"
            ]
          },
          "metadata": {
            "tags": [],
            "needs_background": "light"
          }
        }
      ]
    },
    {
      "cell_type": "code",
      "metadata": {
        "id": "r2u1WzUQf6iz",
        "colab_type": "code",
        "colab": {
          "base_uri": "https://localhost:8080/",
          "height": 108
        },
        "outputId": "745715a4-8321-450f-d65f-4989490abfb7"
      },
      "source": [
        "learn.fit_one_cycle(2, slice(1e-05, 4e-03), moms = (0.9, 0.8))"
      ],
      "execution_count": 11,
      "outputs": [
        {
          "output_type": "display_data",
          "data": {
            "text/html": [
              "<table border=\"1\" class=\"dataframe\">\n",
              "  <thead>\n",
              "    <tr style=\"text-align: left;\">\n",
              "      <th>epoch</th>\n",
              "      <th>train_loss</th>\n",
              "      <th>valid_loss</th>\n",
              "      <th>accuracy</th>\n",
              "      <th>time</th>\n",
              "    </tr>\n",
              "  </thead>\n",
              "  <tbody>\n",
              "    <tr>\n",
              "      <td>0</td>\n",
              "      <td>3.965282</td>\n",
              "      <td>3.923970</td>\n",
              "      <td>0.302383</td>\n",
              "      <td>11:20</td>\n",
              "    </tr>\n",
              "    <tr>\n",
              "      <td>1</td>\n",
              "      <td>3.863857</td>\n",
              "      <td>3.861275</td>\n",
              "      <td>0.308988</td>\n",
              "      <td>11:21</td>\n",
              "    </tr>\n",
              "  </tbody>\n",
              "</table>"
            ],
            "text/plain": [
              "<IPython.core.display.HTML object>"
            ]
          },
          "metadata": {
            "tags": []
          }
        }
      ]
    },
    {
      "cell_type": "code",
      "metadata": {
        "id": "iwnU17gKD76J",
        "colab_type": "code",
        "colab": {
          "base_uri": "https://localhost:8080/",
          "height": 285
        },
        "outputId": "66fb61a1-0fac-494b-eb42-d984ab5ff28e"
      },
      "source": [
        "learn.show_results()"
      ],
      "execution_count": 19,
      "outputs": [
        {
          "output_type": "display_data",
          "data": {
            "text/html": [
              "<table border=\"1\" class=\"dataframe\">\n",
              "  <thead>\n",
              "    <tr style=\"text-align: right;\">\n",
              "      <th>text</th>\n",
              "      <th>target</th>\n",
              "      <th>pred</th>\n",
              "    </tr>\n",
              "  </thead>\n",
              "  <tbody>\n",
              "    <tr>\n",
              "      <td>xxbos xxmaj jim xxmaj henson always seemed to put out wonderful television shows . xxmaj this was sadly one of</td>\n",
              "      <td>the shortest lived . xxmaj it was endearing to hear each tale with their delightful morals . xxmaj each episode</td>\n",
              "      <td>the best shows television xxmaj the was a , watch the of of a own voices . xxmaj the episode</td>\n",
              "    </tr>\n",
              "    <tr>\n",
              "      <td>after watching this movie i can assure you that nothing but frustration and disappointment await you should you choose to</td>\n",
              "      <td>go see this . xxmaj hey , xxmaj tim xxmaj burton , i used to be a big fan of</td>\n",
              "      <td>watch to this movie xxbos it , i custer xxmaj blake 's who 'm to be a xxmaj fan of</td>\n",
              "    </tr>\n",
              "    <tr>\n",
              "      <td>a great actioner with xxmaj flynn as dashing as ever , dehavilland as beguiling as ever , the young xxmaj</td>\n",
              "      <td>anthony xxmaj quinn getting a start as xxmaj crazy xxmaj horse and director xxmaj walsh as xxunk as ever in</td>\n",
              "      <td>mr. xxmaj quinn as a job , a xxunk , jack , xxmaj xxmaj xxunk . xxmaj . xxmaj .</td>\n",
              "    </tr>\n",
              "    <tr>\n",
              "      <td>, xxmaj lena and xxmaj mateo fall in love . xxmaj and , in xxmaj almodovar 's world it really</td>\n",
              "      <td>is that simple . xxmaj mateo , in the opening scene , has sex with a sexy young woman ,</td>\n",
              "      <td>is n't they , xxmaj the xxmaj who the end credits , is a with a woman xxmaj girl ,</td>\n",
              "    </tr>\n",
              "    <tr>\n",
              "      <td>xxmaj brewery . xxmaj they get a chance to harass the red team , with two feminists and two fun</td>\n",
              "      <td>- loving twins . xxmaj the white team of nerds are lead by xxmaj eddie xxmaj deezen , who was</td>\n",
              "      <td>- loving xxmaj ) xxmaj the characters guy is xxmaj , a by a xxunk xxmaj xxunk , a is</td>\n",
              "    </tr>\n",
              "  </tbody>\n",
              "</table>"
            ],
            "text/plain": [
              "<IPython.core.display.HTML object>"
            ]
          },
          "metadata": {
            "tags": []
          }
        }
      ]
    },
    {
      "cell_type": "code",
      "metadata": {
        "id": "mhWtYSQVdtsW",
        "colab_type": "code",
        "colab": {}
      },
      "source": [
        ""
      ],
      "execution_count": null,
      "outputs": []
    },
    {
      "cell_type": "code",
      "metadata": {
        "id": "iSJZfoxcMsmH",
        "colab_type": "code",
        "colab": {
          "base_uri": "https://localhost:8080/",
          "height": 35
        },
        "outputId": "cc788f79-732a-4f2b-aedb-3a0189fa4232"
      },
      "source": [
        "learn.predict(\"I loved Cris Nolan's style of\", 30, temperature=1., min_p = 0.001)"
      ],
      "execution_count": 31,
      "outputs": [
        {
          "output_type": "execute_result",
          "data": {
            "application/vnd.google.colaboratory.intrinsic+json": {
              "type": "string"
            },
            "text/plain": [
              "\"I loved Cris Nolan's style of directing and was inspired to create a horror show . When John Derek gave up his Nolan - style , the real idea of having made\""
            ]
          },
          "metadata": {
            "tags": []
          },
          "execution_count": 31
        }
      ]
    },
    {
      "cell_type": "code",
      "metadata": {
        "id": "5T8eic-3P9al",
        "colab_type": "code",
        "colab": {}
      },
      "source": [
        "learn.save_encoder('fine_tuned_enc')"
      ],
      "execution_count": 12,
      "outputs": []
    },
    {
      "cell_type": "code",
      "metadata": {
        "id": "ULL2aBrSQL3R",
        "colab_type": "code",
        "colab": {
          "base_uri": "https://localhost:8080/",
          "height": 17
        },
        "outputId": "1ac7bb5a-93e6-401f-ec2e-927bb4867455"
      },
      "source": [
        "temp_cls = TextList.from_folder(path, vocab= data.vocab)#.filter_by_folder(['train', 'test']).split_by_rand_pct(0.2).label_from_folder(classes = ['neg', 'pos']).filter_missing_y().databunch(bs = bs)\n",
        "x = temp_cls.filter_by_folder(['train', 'test']).split_by_rand_pct(0.2).label_from_folder(classes = ['neg', 'pos'])"
      ],
      "execution_count": 15,
      "outputs": [
        {
          "output_type": "display_data",
          "data": {
            "text/html": [
              ""
            ],
            "text/plain": [
              "<IPython.core.display.HTML object>"
            ]
          },
          "metadata": {
            "tags": []
          }
        },
        {
          "output_type": "display_data",
          "data": {
            "text/html": [
              ""
            ],
            "text/plain": [
              "<IPython.core.display.HTML object>"
            ]
          },
          "metadata": {
            "tags": []
          }
        }
      ]
    },
    {
      "cell_type": "code",
      "metadata": {
        "id": "5_OEyVyRq4CE",
        "colab_type": "code",
        "colab": {}
      },
      "source": [
        "data_cls = x.databunch(bs = bs)"
      ],
      "execution_count": 19,
      "outputs": []
    },
    {
      "cell_type": "code",
      "metadata": {
        "id": "wr3T1K69p7wB",
        "colab_type": "code",
        "colab": {
          "base_uri": "https://localhost:8080/",
          "height": 285
        },
        "outputId": "8729f945-8b2e-4af6-ac1a-a766a6dd5d9d"
      },
      "source": [
        "data_cls.show_batch()"
      ],
      "execution_count": 20,
      "outputs": [
        {
          "output_type": "display_data",
          "data": {
            "text/html": [
              "<table border=\"1\" class=\"dataframe\">\n",
              "  <thead>\n",
              "    <tr style=\"text-align: right;\">\n",
              "      <th>text</th>\n",
              "      <th>target</th>\n",
              "    </tr>\n",
              "  </thead>\n",
              "  <tbody>\n",
              "    <tr>\n",
              "      <td>xxbos xxmaj match 1 : xxmaj tag xxmaj team xxmaj table xxmaj match xxmaj bubba xxmaj ray and xxmaj spike xxmaj dudley vs xxmaj eddie xxmaj guerrero and xxmaj chris xxmaj benoit xxmaj bubba xxmaj ray and xxmaj spike xxmaj dudley started things off with a xxmaj tag xxmaj team xxmaj table xxmaj match against xxmaj eddie xxmaj guerrero and xxmaj chris xxmaj benoit . xxmaj according to the rules</td>\n",
              "      <td>pos</td>\n",
              "    </tr>\n",
              "    <tr>\n",
              "      <td>xxbos \" xxmaj buffalo xxmaj bill , xxmaj hero of the xxmaj far xxmaj west \" director xxmaj mario xxmaj costa 's unsavory xxmaj spaghetti western \" xxmaj the xxmaj beast \" with xxmaj klaus xxmaj kinski could only have been produced in xxmaj europe . xxmaj hollywood would never dared to have made a western about a sexual predator on the prowl as the protagonist of a movie .</td>\n",
              "      <td>pos</td>\n",
              "    </tr>\n",
              "    <tr>\n",
              "      <td>xxbos xxmaj to be a xxmaj buster xxmaj keaton fan is to have your heart broken on a regular basis . xxmaj most of us first encounter xxmaj keaton in one of the brilliant feature films from his great period of independent production : ' xxmaj the xxmaj general ' , ' xxmaj the xxmaj navigator ' , ' xxmaj sherlock xxmaj jnr ' . xxmaj we recognise him as</td>\n",
              "      <td>neg</td>\n",
              "    </tr>\n",
              "    <tr>\n",
              "      <td>xxbos xxmaj pier xxmaj paolo xxmaj pasolini , or xxmaj pee - pee - pee as i prefer to call him ( due to his love of showing male genitals ) , is perhaps xxup the most overrated xxmaj european xxmaj marxist director - and they are thick on the ground . xxmaj how anyone can see \" art \" in this messy , cheap sex - romp concoction is</td>\n",
              "      <td>neg</td>\n",
              "    </tr>\n",
              "    <tr>\n",
              "      <td>xxbos i was recently given this film on xxup dvd as a gift , and was unsure at first if it would appeal ( although one of my favourite actors has a leading role ) . xxmaj in fact , it 's on its way to becoming a favourite . \\n \\n  xxmaj first of all : thankfully , it 's * not * the same as the book</td>\n",
              "      <td>pos</td>\n",
              "    </tr>\n",
              "  </tbody>\n",
              "</table>"
            ],
            "text/plain": [
              "<IPython.core.display.HTML object>"
            ]
          },
          "metadata": {
            "tags": []
          }
        }
      ]
    },
    {
      "cell_type": "code",
      "metadata": {
        "id": "N8pFNvxfp9OD",
        "colab_type": "code",
        "colab": {
          "base_uri": "https://localhost:8080/",
          "height": 1000
        },
        "outputId": "9997d55e-08f4-4f9c-aaa2-e88060016337"
      },
      "source": [
        "classifier = text_classifier_learner(data_cls, AWD_LSTM)\n",
        "classifier.load_encoder('fine_tuned_enc')"
      ],
      "execution_count": 22,
      "outputs": [
        {
          "output_type": "execute_result",
          "data": {
            "text/plain": [
              "RNNLearner(data=TextClasDataBunch;\n",
              "\n",
              "Train: LabelList (40000 items)\n",
              "x: TextList\n",
              "xxbos mcconaughey in a horror / thriller ? i had to see this . i was pleasantly surprised . \n",
              " \n",
              "  xxmaj the plot is told in flashback mode , and it concerns an otherwise normal and happy family of three going through a very bizarre predicament . i ca n't say much more without spoiling the whole movie , sorry . xxmaj just know that if you decide to watch it , you 'll be , in the very least , surprised . \n",
              " \n",
              "  xxmaj all the main players are very good . xxmaj bill xxmaj paxton did a great job directing those kids , and his acting is awesome . mcconaughey 's acting is solid throughout and fits the bill perfectly . \n",
              " \n",
              "  xxmaj this movie challenges you to think . xxmaj is xxmaj dad crazy ? xxmaj is there a xxmaj god ? xxmaj do xxmaj demons exist ? xxmaj how far would you go to right a wrong . xxmaj and what is \" right \" anyway ? i 'm still thinking . \n",
              " \n",
              "  xxmaj and thus i recommend \" xxmaj frailty \" . 7 / 10 and this is one of those movies that deserves and rewards a second , or even third viewing .,xxbos xxmaj john xxmaj carpenter 's xxmaj halloween \n",
              " \n",
              "  xxmaj is it the greatest horror film of all time ? no .. maybe not to everyone , but to me it is and always will be . xxmaj the film is sheer genius and will always hold a very special place in my heart . \n",
              " \n",
              "  xxmaj it 's unfortunate i did n't get to see this film until twenty years after it 's release , but even twenty years later after so many slasher copy cats had come and gone the film still gave the same impact as it must have done then . xxmaj my father suggested before i go see xxmaj halloween xxup h20 that i whip out and rent xxmaj halloween 's 1 and 2 to get the full story , and after watching xxmaj halloween it was quite clear that it defined and set the xxmaj slasher xxmaj genre . \n",
              " \n",
              "  xxmaj the film 's plot is simple , xxmaj in 1963 xxmaj michael xxmaj audrey xxmaj myers killed his sister xxmaj judith in cold blood with a large butcher knife . xxmaj incarcerated for fifteen years where he was treated by xxmaj dr. xxmaj sam xxmaj loomis , he escapes and returns to his hometown of xxmaj haddonfield where he begins stalking three young girls : xxmaj laurie xxmaj strode an innocent bookworm , xxmaj annie xxmaj brackett a tough talking sarcastic and xxmaj lynda xxmaj van xxmaj der xxmaj xxunk a beautiful and sexually vigorous young girl . xxmaj dr. xxmaj loomis tracks xxmaj michael here where he enlists the help of the town xxmaj sheriff xxmaj leigh xxmaj brackett whom remains skeptical of his story about the psychotic killer . xxmaj michael watches the girls mercilessly and begins killing them off one by one , until only sweet innocent xxmaj laurie is left who is the prime target on xxmaj michael 's list . \n",
              " \n",
              "  xxmaj the casting of this film was brilliant and all the actors and actresses gave top notch performances , xxmaj jamie xxmaj lee xxmaj curtis was stunning in her first film role as xxmaj laurie xxmaj strode and xxmaj donald xxmaj pleasance gave a thrilling performance with his small role as xxmaj loomis . xxmaj nick xxmaj castle who portrays xxmaj michael did an outstanding job as the soulless and evil killer , and his walk and body movements were perfect . \n",
              " \n",
              "  xxmaj one of the great highlights of this film is it 's chilling score done by xxmaj john xxmaj carpenter himself who created one of the most recognizable horror themes known today . xxmaj the xxmaj blue xxmaj lighting was creepy and effective and one of the great moments in this film is when young xxmaj laurie is cowering against a wall after seeing her dead friends , and in the shadows behind her xxmaj michael 's face materializes before he strikes . xxmaj michael 's mask was one of the thing 's that sent chills down my spine the most , the white emotionless face worked perfectly . \n",
              " \n",
              "  xxmaj what makes this film so great is that it is not a gory film unlike the cheesy xxmaj friday xxmaj the 13th films , in fact there is little blood in this film at all and works instead on suspense and tension . \n",
              " \n",
              "  xxmaj it became so clear that xxmaj halloween spawned movies like xxmaj friday xxmaj the 13th and characters like xxmaj jason xxmaj voorhees , whom he is a mere rip off of xxmaj michael xxmaj myers . \n",
              " \n",
              "  xxmaj to sum it up , i suggest you see this film at least once in your life as it is a landmark in film making and is without a doubt if not the greatest then one of the greatest horror films of all time .,xxbos xxmaj plot is never the strong point of a xxmaj fred xxmaj astaire and xxmaj ginger xxmaj rogers movie , but \" xxmaj follow the xxmaj fleet \" 's screenplay is exceptionally mediocre . xxmaj fred and xxmaj ginger still come off all right -- they play \" xxmaj bake \" xxmaj baker and xxmaj sherry xxmaj martin , dancers whose personal and professional partnership ended when xxmaj bake joined the xxmaj navy . xxmaj when they meet again , their love - hate relationship generates some entertaining comic moments . xxmaj but for much of the movie , they take a backseat to a tedious subplot about xxmaj sherry 's sister xxmaj connie ( xxmaj harriet xxmaj hilliard ) , her love for sailor xxmaj bilge xxmaj smith ( xxmaj randolph xxmaj scott ) , xxmaj bilge 's dalliance with another woman , and an old xxunk that xxmaj connie inherited from her father . xxmaj though xxmaj hilliard is rather charming , this plot is uninteresting . \n",
              " \n",
              "  xxmaj but at the same time , \" xxmaj follow the xxmaj fleet \" is blessed with an exceptional xxmaj irving xxmaj berlin score that gives the stars plenty of chances to show off their talents . xxmaj astaire gets two good solos with \" xxmaj we xxmaj saw the xxmaj sea \" and \" i 'd xxmaj rather xxmaj lead a xxmaj band . \" xxmaj he sings expressively and , of course , dances xxunk -- and the sailor suit makes him look a little more boyish and athletic than usual . xxmaj rogers sings the catchy \" xxmaj let xxmaj yourself xxmaj go \" and later does a solo tap - dance to the same tune . \n",
              " \n",
              "  xxmaj the three duets really save the film , even though they 're all shoehorned into the plot with silly excuses . xxmaj fred and xxmaj ginger win a dance contest by doing an energetic routine to another reprise of \" xxmaj let xxmaj yourself xxmaj go \" . xxmaj later , they sing and dance \" i 'm xxmaj putting xxmaj all xxmaj my xxmaj eggs in xxmaj one xxmaj basket \" as if it were an early rehearsal of the number , flubbing the choreography to comic effect . xxmaj at the end , the movie finally figures out how to get xxmaj fred and xxmaj ginger in evening clothes for a romantic duet -- it makes it part of a show - within - the - show . xxmaj the situation is contrived , but the song , \" xxmaj let 's xxmaj face the xxmaj music and xxmaj dance \" , is one of the most xxunk beautiful things xxmaj berlin ever wrote ( it 's reminiscent of xxmaj cole xxmaj porter ) , and the dancing matches it in elegance . xxmaj quintessential xxmaj astaire and xxmaj rogers . \n",
              " \n",
              "  xxmaj it would be a chore to sit through most of the dialogue sections of \" xxmaj follow the xxmaj fleet \" again , and , in fact , it 's not necessary , because the plot rarely propels the musical numbers . xxmaj but i could watch the songs over and over .,xxbos i loved this movie . xxmaj it is a definite inspirational movie . xxmaj it fills you with pride . xxmaj this movie is worth the rental or worth buying . xxmaj it should be in everyones home . xxmaj best movie i have seen in a long time . xxmaj it will make you mad because everyone is so mean to xxmaj carl xxmaj brashear , but in the end it gets better . xxmaj it is a story of romance , drama , action , and plenty of funny lines to keep you tuned in . i love a lot of the quotes . i use them all the time . xxmaj they help keep me on task of what i want to do . xxmaj it shows that anyone can achieve their dreams , all they have to do is work for it . xxmaj it is a long movie , but every time i watch it , i never notice that it is as long as it is . i get so engrossed in it , that it goes so quick . i love this movie . i watch it whenever i can .,xxbos xxmaj parsifal ( 1982 ) xxmaj starring xxmaj michael xxmaj kutter , xxmaj armin xxmaj jordan , xxmaj robert xxmaj lloyd , xxmaj martin xxmaj xxunk , xxmaj edith xxmaj clever , xxmaj aage xxmaj xxunk and the voices of xxmaj reiner xxmaj goldberg , xxmaj yvonne xxmaj minton , xxmaj wolfgang xxmaj xxunk , xxmaj director xxmaj hans - xxmaj jurgen xxmaj syberberg . \n",
              " \n",
              "  xxmaj straight out of the xxmaj german school of film , the kind that favored tons of symbolism and xxmaj ingmar xxmaj xxunk surrealism , came this 1982 film of xxmaj wagner 's final masterpiece- xxmaj parsifal , written to correspond with xxmaj good xxmaj friday / xxmaj easter and the xxunk of the xxmaj bayreuth xxmaj opera xxmaj house . xxmaj this film follows the musical score and plot accurately but the manner in which it was filmed and performed is bold and avant - garde and no other xxmaj parsifal takes the crown in its bizarre cinematography . xxmaj syberberg is known for controversial films . xxmaj prior to this film he had released films about xxmaj hitler and xxmaj nazism , xxmaj richard xxmaj wagner and his personal xxmaj anti - xxmaj semitism and a documentary about xxmaj xxunk xxmaj wagner , one of his grand - daughters . xxmaj this film is possibly disturbing in many aspects . xxmaj parsifal ( sung by xxmaj reiner xxmaj goldberg but acted by xxmaj michael xxmaj kutter ) is a male throughout the first part of the film and then , after the enchantment of xxmaj kundry 's kiss , is transformed into a female . xxmaj this gender - bending element displays the feminine / masculine / ying - yang nature of the quest for the xxmaj holy xxmaj grail , which serves all mankind and redeems it through xxmaj christ 's blood . xxmaj in the pagan sorcerer xxmaj klingsor 's fortress , there are photographs of such notoriously sinister figures as xxmaj hitler , xxmaj nietzche , xxmaj xxunk xxmaj wagner and xxmaj wagner 's mistress xxmaj xxunk xxmaj xxunk . xxmaj the xxmaj xxunk flag hangs outside the fortress . xxmaj parsifal journeys into the 19th and 20th century throughout the film . xxmaj the tempting xxmaj flower xxmaj maidens are in the nude . xxmaj kundry is portrayed as a sort of beautiful but corrupt xxmaj mary xxmaj magdalene or xxmaj eve from xxmaj genesis ( played by xxmaj edith xxmaj clever but beautifully sung by mezzo - soprano xxmaj yvonne xxmaj minton ) . xxmaj ultimately , this film is for fans of this type of bizarre xxmaj germanic / xxmaj european symbolic xxunk and for intellectuals who appreciate the symbolism , the history and lovers of xxmaj wagner opera . xxmaj indeed , the singing is grand and compelling . xxmaj reiner xxmaj goldberg 's xxmaj parsifal is a focused and intense voice but it lacks the depth and overall greatness of the greater xxmaj parsifals of the stage - xxmaj james xxmaj king , xxmaj wolfgang xxmaj xxunk , xxmaj rene xxmaj xxunk and today 's own xxmaj placido xxmaj domingo . xxmaj xxunk xxmaj minton is a sensual - voiced , dramatic and exciting xxmaj kundry , delving into her tormented state perfectly . xxmaj while the production is certainly unorthodox and as un - xxmaj wagnerian as it can possibly get ( xxmaj wagner 's concept was xxmaj christian ceremonial pomp with xxmaj xxunk , spears , castles , xxmaj knights and wounded kings , a dark sorcerer , darkness turning into light , etc typical xxmaj wagnerian xxunk .. it is still an enjoyable , art - house film .\n",
              "y: CategoryList\n",
              "pos,pos,pos,pos,pos\n",
              "Path: /root/.fastai/data/imdb;\n",
              "\n",
              "Valid: LabelList (10000 items)\n",
              "x: TextList\n",
              "xxbos xxmaj this is one of the few movies released about a \" what if \" type of situation that made me think . xxmaj it was amazing to hear them speak to each other , and reminisce about all the wonderful ( and not so wonderful ) things that happened between them . i actually think that there is a very good possibility this occurred like the movie implies , and they actually made peace with each other . xxmaj those are good memories for every fan to hang onto , and to ask what actually happened between them would be selfish . xxmaj what an xxup amazing movie this was . xxmaj the comedic aspects of the movie were wonderful . xxmaj to think that they were together to patch things up between them in such a way is a comforting thought to people who wish they had a chance to clear the air with someone they did n't get to . xxmaj to see xxmaj john as such a caring , laid back character was refreshing from hearing all of the trash that was spoken about him ...,xxbos xxmaj for all viewers out there who have slammed xxmaj john xxmaj waters for creating a film like xxmaj pink xxmaj flamingos , just stop . xxmaj it 's getting you nowhere . xxmaj has anyone ever cared to stop and think about the ambition and dedication xxmaj mr . xxmaj waters possesses . xxmaj to gather your best friends up and to create a movie just to gross out thousands of viewers all over shows this man has a great deal of ambition inside himself . xxmaj just read his biography xxmaj shock xxmaj value . xxmaj it discusses the lengths he went through to get this film finished . xxmaj maybe it was n't just the fact that xxmaj john made this film to gross people out , it was to prove that there can be something such as good bad taste >,xxbos xxmaj the xxmaj melancholy of xxmaj haruhi xxmaj suzumiya is an anime that left quite the impression on me . xxmaj partially for the characters , many of whom fall into anime fantasy / sci - fi stereotypes , but placing these stereotypes in the rather mundane setting of high school is a twist that i appreciated . xxmaj then there 's the somewhat insane titular character who is something else : a headstrong , almost amoral , girl with ridiculous amounts of talent and a secret that she 's not aware of . \n",
              " \n",
              "  xxmaj the set - up for the series is a bit of a mind - trip . xxmaj essentially xxmaj suzumiya , unbeknown to herself , is a sort of super - powerful being , capable of god - like feats of creation and destruction , as she can destroy and rebuild reality to her whim . xxmaj our narrator and primary character is xxmaj kyon , a high schooler whose sympathy / curiosity for xxmaj haruhi appears to cause her to drag him , against his will , into a club she 's starting to spice up her life , because she 's bored with the normal life . xxmaj searching for adventure , she claims three more unusual members , each with secrets and they all end up being dragged into her crazy schemes . \n",
              " \n",
              "  xxmaj there is a bit of crazy , but enjoyable , philosophic consideration early on as we debate whether the world is merely xxmaj haruhi 's creation as she gets bored of the old one and whether our characters exist to serve her or serve her to continue to exist or whether they could exist without her . xxmaj it 's a bit of a conundrum , but an enjoyable one all the same . xxmaj while sci - fi / fantasy scenarios do occasionally occur in the series , i think the joy of the series lies in how normal things are , while there remains this tension in knowing that if things are too boring , xxmaj haruhi might destroy the world in hopes of making it more interesting . \n",
              " \n",
              "  xxmaj the art is clean and in line with what i 've come to expect from the anime that typically gets imported to the xxup us ; i like the character designs and while there is n't a whole lot of action in the series , i think it sits better that way . xxmaj the series is narrated from the mind of xxmaj kyon and he does n't play an omniscient narrator but only comments on what he knows and what he feels . xxmaj he 's has a lot going on in his head , but he does n't actually speak a whole lot so it 's good that we get to hear it . \n",
              " \n",
              "  xxmaj the voice acting in the xxmaj english dub is acceptable enough , but i prefer the xxmaj japanese acting over it . xxmaj there are some stranger aspects to the series , some of which both parodies and traffics in fanboy - ism , which i found amusing . xxmaj for the first season , i have to admit that there 's a lack of closure , as the series does n't really have an larger story arc , but seems to take things one at a time , so it 's an easy series to pick up and put down , although i think that because of its rather entertaining qualities , it 's still quite hard to put down . xxmaj it 's also based on a series of light novels and the author was directly involved in the writing of the series . \n",
              " \n",
              "  xxmaj even though it 's based on the novels , i still wish that the over series had stronger story arcs , but i love how naturally we get to watch these characters develop and how well the series can play out the quiet moments as well as the crazier ones . xxmaj seeing xxmaj haruhi grow herself was quite a treat as well as watching the relationships develop between the xxup sos xxmaj brigade ( xxmaj haruhi 's club ) . \n",
              " \n",
              "  xxmaj it 's not for everyone , due to its mind - twisting premise and \" extra - ordinary beings in a mundane world \" setting . xxmaj it probably wo n't sate fanboys who are into action / sci - fi / fantasy and might be a little too off - kilter for the more relationship - oriented drama lovers , but for those willing to try out something a little different , or that like strangely quirky series like this , i think xxmaj the xxmaj melancholy of xxmaj haruhi xxmaj suzumiya is a rather refreshingly unique and enjoyable series . xxmaj more please . 9 / 10 .,xxbos i remember watching this film in 1981 , when i was 7 . xxmaj it was absolutely brilliant ! i found the xxup dvd just a couple of months ago . i was nearly jumping up and down with glee ! ! i bought it and showed it to my kids . xxmaj they loved it too . xxmaj they asked what words the seahorse was singing ( i did n't tell them , though , because i do n't think telling the words ' gay ' and ' ecstasy ' to 6 year old kids is very good parenting ) . xxmaj the songs are brilliant . i still remember them all . i 'll still remember them when i 'm 60 ! xxmaj there , or near xxunk . xxmaj tommy xxmaj pender is ( was ) such a brilliant actor . xxmaj it 's a pity he gave it up . \n",
              " \n",
              "  xxmaj if you find the film , xxup buy xxup it ! xxmaj you 'll love it !,xxbos i 'm no horror movie buff , but my wife 's nieces and nephews are . xxmaj so , i saw the first movie . xxmaj it was gruesome , and tense , but not my taste . xxmaj still good though . xxmaj for similar reasons , at this very moment , i am being exposed to a sequel . \n",
              " \n",
              "  xxmaj the premise itself is beyond absurd . i can buy that disasters occur in the desert . i can buy that mutants exists . i can even buy that the events might be so weird and strange that the military may decide to get involved . xxmaj it is unlikely , yes , but i 'm willing to suspend my belief . \n",
              " \n",
              "  xxup however , under no circumstances am i willing to believe that the military squad assigned to recon such an area would be unable to fend off the mutants . xxmaj being a member of the xxmaj united xxmaj states xxmaj army , i can assure that while fresh recruits may lack the seasoned eyes and experience of combat soldiers , any such recruits would be integrated into a capable squad . \n",
              " \n",
              "  a squad of armed soldiers is not about to be taken out by a few mutants with knives . xxmaj that 's just the way it works . xxmaj squad movements , vastly superior firepower , and of course , radio support , would ensure nothing less than total victory . i 'm not saying you would n't have casualties , but as soon as the area was verified as hostile , military training would take precedence , no - one would go off on their own even to use the bathroom . \n",
              " \n",
              "  xxmaj and if it were discovered that the area was so infested with hostiles that the squad was unable to handle the danger , they would radio in for backup . xxmaj and believe me , their radios would not be jammed , if there was a chance that normal radios would not do , the squad would have a military issue satellite phone . xxmaj chances are , if they were unable to check in every hour , a search would be called . \n",
              " \n",
              "  xxmaj in order to accept this movie , you must accept that our soldiers are incompetent fools , with incompetent leaders , and an incompetent chain of command . xxmaj while it may still be true that the most dangerous thing in the world is a lieutenant with a map and compass , our military forces are filled with intelligent , well - trained , competent soldiers . xxmaj mutants with knives are far below our ability to deal with . \n",
              " \n",
              "  xxmaj with the whole execution of the movie depending solidly on the impossible to imagine , the film fails to deliver . xxmaj instead , we are expected to believe that our soldiers , sailors , and airmen are incapable of dealing with even the most mediocre threats . \n",
              " \n",
              "  xxmaj as a combat veteran , i find the movie insulting .\n",
              "y: CategoryList\n",
              "pos,pos,pos,pos,neg\n",
              "Path: /root/.fastai/data/imdb;\n",
              "\n",
              "Test: None, model=SequentialRNN(\n",
              "  (0): MultiBatchEncoder(\n",
              "    (module): AWD_LSTM(\n",
              "      (encoder): Embedding(49848, 400, padding_idx=1)\n",
              "      (encoder_dp): EmbeddingDropout(\n",
              "        (emb): Embedding(49848, 400, padding_idx=1)\n",
              "      )\n",
              "      (rnns): ModuleList(\n",
              "        (0): WeightDropout(\n",
              "          (module): LSTM(400, 1152, batch_first=True)\n",
              "        )\n",
              "        (1): WeightDropout(\n",
              "          (module): LSTM(1152, 1152, batch_first=True)\n",
              "        )\n",
              "        (2): WeightDropout(\n",
              "          (module): LSTM(1152, 400, batch_first=True)\n",
              "        )\n",
              "      )\n",
              "      (input_dp): RNNDropout()\n",
              "      (hidden_dps): ModuleList(\n",
              "        (0): RNNDropout()\n",
              "        (1): RNNDropout()\n",
              "        (2): RNNDropout()\n",
              "      )\n",
              "    )\n",
              "  )\n",
              "  (1): PoolingLinearClassifier(\n",
              "    (layers): Sequential(\n",
              "      (0): BatchNorm1d(1200, eps=1e-05, momentum=0.1, affine=True, track_running_stats=True)\n",
              "      (1): Dropout(p=0.4, inplace=False)\n",
              "      (2): Linear(in_features=1200, out_features=50, bias=True)\n",
              "      (3): ReLU(inplace=True)\n",
              "      (4): BatchNorm1d(50, eps=1e-05, momentum=0.1, affine=True, track_running_stats=True)\n",
              "      (5): Dropout(p=0.1, inplace=False)\n",
              "      (6): Linear(in_features=50, out_features=2, bias=True)\n",
              "    )\n",
              "  )\n",
              "), opt_func=functools.partial(<class 'torch.optim.adam.Adam'>, betas=(0.9, 0.99)), loss_func=FlattenedLoss of CrossEntropyLoss(), metrics=[<function accuracy at 0x7fe0d00a19d8>], true_wd=True, bn_wd=True, wd=0.01, train_bn=True, path=PosixPath('/root/.fastai/data/imdb'), model_dir='models', callback_fns=[functools.partial(<class 'fastai.basic_train.Recorder'>, add_time=True, silent=False)], callbacks=[RNNTrainer\n",
              "learn: RNNLearner(data=TextClasDataBunch;\n",
              "\n",
              "Train: LabelList (40000 items)\n",
              "x: TextList\n",
              "xxbos mcconaughey in a horror / thriller ? i had to see this . i was pleasantly surprised . \n",
              " \n",
              "  xxmaj the plot is told in flashback mode , and it concerns an otherwise normal and happy family of three going through a very bizarre predicament . i ca n't say much more without spoiling the whole movie , sorry . xxmaj just know that if you decide to watch it , you 'll be , in the very least , surprised . \n",
              " \n",
              "  xxmaj all the main players are very good . xxmaj bill xxmaj paxton did a great job directing those kids , and his acting is awesome . mcconaughey 's acting is solid throughout and fits the bill perfectly . \n",
              " \n",
              "  xxmaj this movie challenges you to think . xxmaj is xxmaj dad crazy ? xxmaj is there a xxmaj god ? xxmaj do xxmaj demons exist ? xxmaj how far would you go to right a wrong . xxmaj and what is \" right \" anyway ? i 'm still thinking . \n",
              " \n",
              "  xxmaj and thus i recommend \" xxmaj frailty \" . 7 / 10 and this is one of those movies that deserves and rewards a second , or even third viewing .,xxbos xxmaj john xxmaj carpenter 's xxmaj halloween \n",
              " \n",
              "  xxmaj is it the greatest horror film of all time ? no .. maybe not to everyone , but to me it is and always will be . xxmaj the film is sheer genius and will always hold a very special place in my heart . \n",
              " \n",
              "  xxmaj it 's unfortunate i did n't get to see this film until twenty years after it 's release , but even twenty years later after so many slasher copy cats had come and gone the film still gave the same impact as it must have done then . xxmaj my father suggested before i go see xxmaj halloween xxup h20 that i whip out and rent xxmaj halloween 's 1 and 2 to get the full story , and after watching xxmaj halloween it was quite clear that it defined and set the xxmaj slasher xxmaj genre . \n",
              " \n",
              "  xxmaj the film 's plot is simple , xxmaj in 1963 xxmaj michael xxmaj audrey xxmaj myers killed his sister xxmaj judith in cold blood with a large butcher knife . xxmaj incarcerated for fifteen years where he was treated by xxmaj dr. xxmaj sam xxmaj loomis , he escapes and returns to his hometown of xxmaj haddonfield where he begins stalking three young girls : xxmaj laurie xxmaj strode an innocent bookworm , xxmaj annie xxmaj brackett a tough talking sarcastic and xxmaj lynda xxmaj van xxmaj der xxmaj xxunk a beautiful and sexually vigorous young girl . xxmaj dr. xxmaj loomis tracks xxmaj michael here where he enlists the help of the town xxmaj sheriff xxmaj leigh xxmaj brackett whom remains skeptical of his story about the psychotic killer . xxmaj michael watches the girls mercilessly and begins killing them off one by one , until only sweet innocent xxmaj laurie is left who is the prime target on xxmaj michael 's list . \n",
              " \n",
              "  xxmaj the casting of this film was brilliant and all the actors and actresses gave top notch performances , xxmaj jamie xxmaj lee xxmaj curtis was stunning in her first film role as xxmaj laurie xxmaj strode and xxmaj donald xxmaj pleasance gave a thrilling performance with his small role as xxmaj loomis . xxmaj nick xxmaj castle who portrays xxmaj michael did an outstanding job as the soulless and evil killer , and his walk and body movements were perfect . \n",
              " \n",
              "  xxmaj one of the great highlights of this film is it 's chilling score done by xxmaj john xxmaj carpenter himself who created one of the most recognizable horror themes known today . xxmaj the xxmaj blue xxmaj lighting was creepy and effective and one of the great moments in this film is when young xxmaj laurie is cowering against a wall after seeing her dead friends , and in the shadows behind her xxmaj michael 's face materializes before he strikes . xxmaj michael 's mask was one of the thing 's that sent chills down my spine the most , the white emotionless face worked perfectly . \n",
              " \n",
              "  xxmaj what makes this film so great is that it is not a gory film unlike the cheesy xxmaj friday xxmaj the 13th films , in fact there is little blood in this film at all and works instead on suspense and tension . \n",
              " \n",
              "  xxmaj it became so clear that xxmaj halloween spawned movies like xxmaj friday xxmaj the 13th and characters like xxmaj jason xxmaj voorhees , whom he is a mere rip off of xxmaj michael xxmaj myers . \n",
              " \n",
              "  xxmaj to sum it up , i suggest you see this film at least once in your life as it is a landmark in film making and is without a doubt if not the greatest then one of the greatest horror films of all time .,xxbos xxmaj plot is never the strong point of a xxmaj fred xxmaj astaire and xxmaj ginger xxmaj rogers movie , but \" xxmaj follow the xxmaj fleet \" 's screenplay is exceptionally mediocre . xxmaj fred and xxmaj ginger still come off all right -- they play \" xxmaj bake \" xxmaj baker and xxmaj sherry xxmaj martin , dancers whose personal and professional partnership ended when xxmaj bake joined the xxmaj navy . xxmaj when they meet again , their love - hate relationship generates some entertaining comic moments . xxmaj but for much of the movie , they take a backseat to a tedious subplot about xxmaj sherry 's sister xxmaj connie ( xxmaj harriet xxmaj hilliard ) , her love for sailor xxmaj bilge xxmaj smith ( xxmaj randolph xxmaj scott ) , xxmaj bilge 's dalliance with another woman , and an old xxunk that xxmaj connie inherited from her father . xxmaj though xxmaj hilliard is rather charming , this plot is uninteresting . \n",
              " \n",
              "  xxmaj but at the same time , \" xxmaj follow the xxmaj fleet \" is blessed with an exceptional xxmaj irving xxmaj berlin score that gives the stars plenty of chances to show off their talents . xxmaj astaire gets two good solos with \" xxmaj we xxmaj saw the xxmaj sea \" and \" i 'd xxmaj rather xxmaj lead a xxmaj band . \" xxmaj he sings expressively and , of course , dances xxunk -- and the sailor suit makes him look a little more boyish and athletic than usual . xxmaj rogers sings the catchy \" xxmaj let xxmaj yourself xxmaj go \" and later does a solo tap - dance to the same tune . \n",
              " \n",
              "  xxmaj the three duets really save the film , even though they 're all shoehorned into the plot with silly excuses . xxmaj fred and xxmaj ginger win a dance contest by doing an energetic routine to another reprise of \" xxmaj let xxmaj yourself xxmaj go \" . xxmaj later , they sing and dance \" i 'm xxmaj putting xxmaj all xxmaj my xxmaj eggs in xxmaj one xxmaj basket \" as if it were an early rehearsal of the number , flubbing the choreography to comic effect . xxmaj at the end , the movie finally figures out how to get xxmaj fred and xxmaj ginger in evening clothes for a romantic duet -- it makes it part of a show - within - the - show . xxmaj the situation is contrived , but the song , \" xxmaj let 's xxmaj face the xxmaj music and xxmaj dance \" , is one of the most xxunk beautiful things xxmaj berlin ever wrote ( it 's reminiscent of xxmaj cole xxmaj porter ) , and the dancing matches it in elegance . xxmaj quintessential xxmaj astaire and xxmaj rogers . \n",
              " \n",
              "  xxmaj it would be a chore to sit through most of the dialogue sections of \" xxmaj follow the xxmaj fleet \" again , and , in fact , it 's not necessary , because the plot rarely propels the musical numbers . xxmaj but i could watch the songs over and over .,xxbos i loved this movie . xxmaj it is a definite inspirational movie . xxmaj it fills you with pride . xxmaj this movie is worth the rental or worth buying . xxmaj it should be in everyones home . xxmaj best movie i have seen in a long time . xxmaj it will make you mad because everyone is so mean to xxmaj carl xxmaj brashear , but in the end it gets better . xxmaj it is a story of romance , drama , action , and plenty of funny lines to keep you tuned in . i love a lot of the quotes . i use them all the time . xxmaj they help keep me on task of what i want to do . xxmaj it shows that anyone can achieve their dreams , all they have to do is work for it . xxmaj it is a long movie , but every time i watch it , i never notice that it is as long as it is . i get so engrossed in it , that it goes so quick . i love this movie . i watch it whenever i can .,xxbos xxmaj parsifal ( 1982 ) xxmaj starring xxmaj michael xxmaj kutter , xxmaj armin xxmaj jordan , xxmaj robert xxmaj lloyd , xxmaj martin xxmaj xxunk , xxmaj edith xxmaj clever , xxmaj aage xxmaj xxunk and the voices of xxmaj reiner xxmaj goldberg , xxmaj yvonne xxmaj minton , xxmaj wolfgang xxmaj xxunk , xxmaj director xxmaj hans - xxmaj jurgen xxmaj syberberg . \n",
              " \n",
              "  xxmaj straight out of the xxmaj german school of film , the kind that favored tons of symbolism and xxmaj ingmar xxmaj xxunk surrealism , came this 1982 film of xxmaj wagner 's final masterpiece- xxmaj parsifal , written to correspond with xxmaj good xxmaj friday / xxmaj easter and the xxunk of the xxmaj bayreuth xxmaj opera xxmaj house . xxmaj this film follows the musical score and plot accurately but the manner in which it was filmed and performed is bold and avant - garde and no other xxmaj parsifal takes the crown in its bizarre cinematography . xxmaj syberberg is known for controversial films . xxmaj prior to this film he had released films about xxmaj hitler and xxmaj nazism , xxmaj richard xxmaj wagner and his personal xxmaj anti - xxmaj semitism and a documentary about xxmaj xxunk xxmaj wagner , one of his grand - daughters . xxmaj this film is possibly disturbing in many aspects . xxmaj parsifal ( sung by xxmaj reiner xxmaj goldberg but acted by xxmaj michael xxmaj kutter ) is a male throughout the first part of the film and then , after the enchantment of xxmaj kundry 's kiss , is transformed into a female . xxmaj this gender - bending element displays the feminine / masculine / ying - yang nature of the quest for the xxmaj holy xxmaj grail , which serves all mankind and redeems it through xxmaj christ 's blood . xxmaj in the pagan sorcerer xxmaj klingsor 's fortress , there are photographs of such notoriously sinister figures as xxmaj hitler , xxmaj nietzche , xxmaj xxunk xxmaj wagner and xxmaj wagner 's mistress xxmaj xxunk xxmaj xxunk . xxmaj the xxmaj xxunk flag hangs outside the fortress . xxmaj parsifal journeys into the 19th and 20th century throughout the film . xxmaj the tempting xxmaj flower xxmaj maidens are in the nude . xxmaj kundry is portrayed as a sort of beautiful but corrupt xxmaj mary xxmaj magdalene or xxmaj eve from xxmaj genesis ( played by xxmaj edith xxmaj clever but beautifully sung by mezzo - soprano xxmaj yvonne xxmaj minton ) . xxmaj ultimately , this film is for fans of this type of bizarre xxmaj germanic / xxmaj european symbolic xxunk and for intellectuals who appreciate the symbolism , the history and lovers of xxmaj wagner opera . xxmaj indeed , the singing is grand and compelling . xxmaj reiner xxmaj goldberg 's xxmaj parsifal is a focused and intense voice but it lacks the depth and overall greatness of the greater xxmaj parsifals of the stage - xxmaj james xxmaj king , xxmaj wolfgang xxmaj xxunk , xxmaj rene xxmaj xxunk and today 's own xxmaj placido xxmaj domingo . xxmaj xxunk xxmaj minton is a sensual - voiced , dramatic and exciting xxmaj kundry , delving into her tormented state perfectly . xxmaj while the production is certainly unorthodox and as un - xxmaj wagnerian as it can possibly get ( xxmaj wagner 's concept was xxmaj christian ceremonial pomp with xxmaj xxunk , spears , castles , xxmaj knights and wounded kings , a dark sorcerer , darkness turning into light , etc typical xxmaj wagnerian xxunk .. it is still an enjoyable , art - house film .\n",
              "y: CategoryList\n",
              "pos,pos,pos,pos,pos\n",
              "Path: /root/.fastai/data/imdb;\n",
              "\n",
              "Valid: LabelList (10000 items)\n",
              "x: TextList\n",
              "xxbos xxmaj this is one of the few movies released about a \" what if \" type of situation that made me think . xxmaj it was amazing to hear them speak to each other , and reminisce about all the wonderful ( and not so wonderful ) things that happened between them . i actually think that there is a very good possibility this occurred like the movie implies , and they actually made peace with each other . xxmaj those are good memories for every fan to hang onto , and to ask what actually happened between them would be selfish . xxmaj what an xxup amazing movie this was . xxmaj the comedic aspects of the movie were wonderful . xxmaj to think that they were together to patch things up between them in such a way is a comforting thought to people who wish they had a chance to clear the air with someone they did n't get to . xxmaj to see xxmaj john as such a caring , laid back character was refreshing from hearing all of the trash that was spoken about him ...,xxbos xxmaj for all viewers out there who have slammed xxmaj john xxmaj waters for creating a film like xxmaj pink xxmaj flamingos , just stop . xxmaj it 's getting you nowhere . xxmaj has anyone ever cared to stop and think about the ambition and dedication xxmaj mr . xxmaj waters possesses . xxmaj to gather your best friends up and to create a movie just to gross out thousands of viewers all over shows this man has a great deal of ambition inside himself . xxmaj just read his biography xxmaj shock xxmaj value . xxmaj it discusses the lengths he went through to get this film finished . xxmaj maybe it was n't just the fact that xxmaj john made this film to gross people out , it was to prove that there can be something such as good bad taste >,xxbos xxmaj the xxmaj melancholy of xxmaj haruhi xxmaj suzumiya is an anime that left quite the impression on me . xxmaj partially for the characters , many of whom fall into anime fantasy / sci - fi stereotypes , but placing these stereotypes in the rather mundane setting of high school is a twist that i appreciated . xxmaj then there 's the somewhat insane titular character who is something else : a headstrong , almost amoral , girl with ridiculous amounts of talent and a secret that she 's not aware of . \n",
              " \n",
              "  xxmaj the set - up for the series is a bit of a mind - trip . xxmaj essentially xxmaj suzumiya , unbeknown to herself , is a sort of super - powerful being , capable of god - like feats of creation and destruction , as she can destroy and rebuild reality to her whim . xxmaj our narrator and primary character is xxmaj kyon , a high schooler whose sympathy / curiosity for xxmaj haruhi appears to cause her to drag him , against his will , into a club she 's starting to spice up her life , because she 's bored with the normal life . xxmaj searching for adventure , she claims three more unusual members , each with secrets and they all end up being dragged into her crazy schemes . \n",
              " \n",
              "  xxmaj there is a bit of crazy , but enjoyable , philosophic consideration early on as we debate whether the world is merely xxmaj haruhi 's creation as she gets bored of the old one and whether our characters exist to serve her or serve her to continue to exist or whether they could exist without her . xxmaj it 's a bit of a conundrum , but an enjoyable one all the same . xxmaj while sci - fi / fantasy scenarios do occasionally occur in the series , i think the joy of the series lies in how normal things are , while there remains this tension in knowing that if things are too boring , xxmaj haruhi might destroy the world in hopes of making it more interesting . \n",
              " \n",
              "  xxmaj the art is clean and in line with what i 've come to expect from the anime that typically gets imported to the xxup us ; i like the character designs and while there is n't a whole lot of action in the series , i think it sits better that way . xxmaj the series is narrated from the mind of xxmaj kyon and he does n't play an omniscient narrator but only comments on what he knows and what he feels . xxmaj he 's has a lot going on in his head , but he does n't actually speak a whole lot so it 's good that we get to hear it . \n",
              " \n",
              "  xxmaj the voice acting in the xxmaj english dub is acceptable enough , but i prefer the xxmaj japanese acting over it . xxmaj there are some stranger aspects to the series , some of which both parodies and traffics in fanboy - ism , which i found amusing . xxmaj for the first season , i have to admit that there 's a lack of closure , as the series does n't really have an larger story arc , but seems to take things one at a time , so it 's an easy series to pick up and put down , although i think that because of its rather entertaining qualities , it 's still quite hard to put down . xxmaj it 's also based on a series of light novels and the author was directly involved in the writing of the series . \n",
              " \n",
              "  xxmaj even though it 's based on the novels , i still wish that the over series had stronger story arcs , but i love how naturally we get to watch these characters develop and how well the series can play out the quiet moments as well as the crazier ones . xxmaj seeing xxmaj haruhi grow herself was quite a treat as well as watching the relationships develop between the xxup sos xxmaj brigade ( xxmaj haruhi 's club ) . \n",
              " \n",
              "  xxmaj it 's not for everyone , due to its mind - twisting premise and \" extra - ordinary beings in a mundane world \" setting . xxmaj it probably wo n't sate fanboys who are into action / sci - fi / fantasy and might be a little too off - kilter for the more relationship - oriented drama lovers , but for those willing to try out something a little different , or that like strangely quirky series like this , i think xxmaj the xxmaj melancholy of xxmaj haruhi xxmaj suzumiya is a rather refreshingly unique and enjoyable series . xxmaj more please . 9 / 10 .,xxbos i remember watching this film in 1981 , when i was 7 . xxmaj it was absolutely brilliant ! i found the xxup dvd just a couple of months ago . i was nearly jumping up and down with glee ! ! i bought it and showed it to my kids . xxmaj they loved it too . xxmaj they asked what words the seahorse was singing ( i did n't tell them , though , because i do n't think telling the words ' gay ' and ' ecstasy ' to 6 year old kids is very good parenting ) . xxmaj the songs are brilliant . i still remember them all . i 'll still remember them when i 'm 60 ! xxmaj there , or near xxunk . xxmaj tommy xxmaj pender is ( was ) such a brilliant actor . xxmaj it 's a pity he gave it up . \n",
              " \n",
              "  xxmaj if you find the film , xxup buy xxup it ! xxmaj you 'll love it !,xxbos i 'm no horror movie buff , but my wife 's nieces and nephews are . xxmaj so , i saw the first movie . xxmaj it was gruesome , and tense , but not my taste . xxmaj still good though . xxmaj for similar reasons , at this very moment , i am being exposed to a sequel . \n",
              " \n",
              "  xxmaj the premise itself is beyond absurd . i can buy that disasters occur in the desert . i can buy that mutants exists . i can even buy that the events might be so weird and strange that the military may decide to get involved . xxmaj it is unlikely , yes , but i 'm willing to suspend my belief . \n",
              " \n",
              "  xxup however , under no circumstances am i willing to believe that the military squad assigned to recon such an area would be unable to fend off the mutants . xxmaj being a member of the xxmaj united xxmaj states xxmaj army , i can assure that while fresh recruits may lack the seasoned eyes and experience of combat soldiers , any such recruits would be integrated into a capable squad . \n",
              " \n",
              "  a squad of armed soldiers is not about to be taken out by a few mutants with knives . xxmaj that 's just the way it works . xxmaj squad movements , vastly superior firepower , and of course , radio support , would ensure nothing less than total victory . i 'm not saying you would n't have casualties , but as soon as the area was verified as hostile , military training would take precedence , no - one would go off on their own even to use the bathroom . \n",
              " \n",
              "  xxmaj and if it were discovered that the area was so infested with hostiles that the squad was unable to handle the danger , they would radio in for backup . xxmaj and believe me , their radios would not be jammed , if there was a chance that normal radios would not do , the squad would have a military issue satellite phone . xxmaj chances are , if they were unable to check in every hour , a search would be called . \n",
              " \n",
              "  xxmaj in order to accept this movie , you must accept that our soldiers are incompetent fools , with incompetent leaders , and an incompetent chain of command . xxmaj while it may still be true that the most dangerous thing in the world is a lieutenant with a map and compass , our military forces are filled with intelligent , well - trained , competent soldiers . xxmaj mutants with knives are far below our ability to deal with . \n",
              " \n",
              "  xxmaj with the whole execution of the movie depending solidly on the impossible to imagine , the film fails to deliver . xxmaj instead , we are expected to believe that our soldiers , sailors , and airmen are incapable of dealing with even the most mediocre threats . \n",
              " \n",
              "  xxmaj as a combat veteran , i find the movie insulting .\n",
              "y: CategoryList\n",
              "pos,pos,pos,pos,neg\n",
              "Path: /root/.fastai/data/imdb;\n",
              "\n",
              "Test: None, model=SequentialRNN(\n",
              "  (0): MultiBatchEncoder(\n",
              "    (module): AWD_LSTM(\n",
              "      (encoder): Embedding(49848, 400, padding_idx=1)\n",
              "      (encoder_dp): EmbeddingDropout(\n",
              "        (emb): Embedding(49848, 400, padding_idx=1)\n",
              "      )\n",
              "      (rnns): ModuleList(\n",
              "        (0): WeightDropout(\n",
              "          (module): LSTM(400, 1152, batch_first=True)\n",
              "        )\n",
              "        (1): WeightDropout(\n",
              "          (module): LSTM(1152, 1152, batch_first=True)\n",
              "        )\n",
              "        (2): WeightDropout(\n",
              "          (module): LSTM(1152, 400, batch_first=True)\n",
              "        )\n",
              "      )\n",
              "      (input_dp): RNNDropout()\n",
              "      (hidden_dps): ModuleList(\n",
              "        (0): RNNDropout()\n",
              "        (1): RNNDropout()\n",
              "        (2): RNNDropout()\n",
              "      )\n",
              "    )\n",
              "  )\n",
              "  (1): PoolingLinearClassifier(\n",
              "    (layers): Sequential(\n",
              "      (0): BatchNorm1d(1200, eps=1e-05, momentum=0.1, affine=True, track_running_stats=True)\n",
              "      (1): Dropout(p=0.4, inplace=False)\n",
              "      (2): Linear(in_features=1200, out_features=50, bias=True)\n",
              "      (3): ReLU(inplace=True)\n",
              "      (4): BatchNorm1d(50, eps=1e-05, momentum=0.1, affine=True, track_running_stats=True)\n",
              "      (5): Dropout(p=0.1, inplace=False)\n",
              "      (6): Linear(in_features=50, out_features=2, bias=True)\n",
              "    )\n",
              "  )\n",
              "), opt_func=functools.partial(<class 'torch.optim.adam.Adam'>, betas=(0.9, 0.99)), loss_func=FlattenedLoss of CrossEntropyLoss(), metrics=[<function accuracy at 0x7fe0d00a19d8>], true_wd=True, bn_wd=True, wd=0.01, train_bn=True, path=PosixPath('/root/.fastai/data/imdb'), model_dir='models', callback_fns=[functools.partial(<class 'fastai.basic_train.Recorder'>, add_time=True, silent=False)], callbacks=[...], layer_groups=[Sequential(\n",
              "  (0): Embedding(49848, 400, padding_idx=1)\n",
              "  (1): EmbeddingDropout(\n",
              "    (emb): Embedding(49848, 400, padding_idx=1)\n",
              "  )\n",
              "), Sequential(\n",
              "  (0): WeightDropout(\n",
              "    (module): LSTM(400, 1152, batch_first=True)\n",
              "  )\n",
              "  (1): RNNDropout()\n",
              "), Sequential(\n",
              "  (0): WeightDropout(\n",
              "    (module): LSTM(1152, 1152, batch_first=True)\n",
              "  )\n",
              "  (1): RNNDropout()\n",
              "), Sequential(\n",
              "  (0): WeightDropout(\n",
              "    (module): LSTM(1152, 400, batch_first=True)\n",
              "  )\n",
              "  (1): RNNDropout()\n",
              "), Sequential(\n",
              "  (0): PoolingLinearClassifier(\n",
              "    (layers): Sequential(\n",
              "      (0): BatchNorm1d(1200, eps=1e-05, momentum=0.1, affine=True, track_running_stats=True)\n",
              "      (1): Dropout(p=0.4, inplace=False)\n",
              "      (2): Linear(in_features=1200, out_features=50, bias=True)\n",
              "      (3): ReLU(inplace=True)\n",
              "      (4): BatchNorm1d(50, eps=1e-05, momentum=0.1, affine=True, track_running_stats=True)\n",
              "      (5): Dropout(p=0.1, inplace=False)\n",
              "      (6): Linear(in_features=50, out_features=2, bias=True)\n",
              "    )\n",
              "  )\n",
              ")], add_time=True, silent=False)\n",
              "alpha: 2.0\n",
              "beta: 1.0], layer_groups=[Sequential(\n",
              "  (0): Embedding(49848, 400, padding_idx=1)\n",
              "  (1): EmbeddingDropout(\n",
              "    (emb): Embedding(49848, 400, padding_idx=1)\n",
              "  )\n",
              "), Sequential(\n",
              "  (0): WeightDropout(\n",
              "    (module): LSTM(400, 1152, batch_first=True)\n",
              "  )\n",
              "  (1): RNNDropout()\n",
              "), Sequential(\n",
              "  (0): WeightDropout(\n",
              "    (module): LSTM(1152, 1152, batch_first=True)\n",
              "  )\n",
              "  (1): RNNDropout()\n",
              "), Sequential(\n",
              "  (0): WeightDropout(\n",
              "    (module): LSTM(1152, 400, batch_first=True)\n",
              "  )\n",
              "  (1): RNNDropout()\n",
              "), Sequential(\n",
              "  (0): PoolingLinearClassifier(\n",
              "    (layers): Sequential(\n",
              "      (0): BatchNorm1d(1200, eps=1e-05, momentum=0.1, affine=True, track_running_stats=True)\n",
              "      (1): Dropout(p=0.4, inplace=False)\n",
              "      (2): Linear(in_features=1200, out_features=50, bias=True)\n",
              "      (3): ReLU(inplace=True)\n",
              "      (4): BatchNorm1d(50, eps=1e-05, momentum=0.1, affine=True, track_running_stats=True)\n",
              "      (5): Dropout(p=0.1, inplace=False)\n",
              "      (6): Linear(in_features=50, out_features=2, bias=True)\n",
              "    )\n",
              "  )\n",
              ")], add_time=True, silent=False)"
            ]
          },
          "metadata": {
            "tags": []
          },
          "execution_count": 22
        }
      ]
    },
    {
      "cell_type": "code",
      "metadata": {
        "id": "Srt2HW5NrU4o",
        "colab_type": "code",
        "colab": {
          "base_uri": "https://localhost:8080/",
          "height": 111
        },
        "outputId": "9931af5c-5387-4f59-8526-1f3d60902441"
      },
      "source": [
        "classifier.freeze()\n",
        "classifier.lr_find()"
      ],
      "execution_count": 23,
      "outputs": [
        {
          "output_type": "display_data",
          "data": {
            "text/html": [
              "\n",
              "    <div>\n",
              "        <style>\n",
              "            /* Turns off some styling */\n",
              "            progress {\n",
              "                /* gets rid of default border in Firefox and Opera. */\n",
              "                border: none;\n",
              "                /* Needs to be in here for Safari polyfill so background images work as expected. */\n",
              "                background-size: auto;\n",
              "            }\n",
              "            .progress-bar-interrupted, .progress-bar-interrupted::-webkit-progress-bar {\n",
              "                background: #F44336;\n",
              "            }\n",
              "        </style>\n",
              "      <progress value='0' class='' max='1' style='width:300px; height:20px; vertical-align: middle;'></progress>\n",
              "      0.00% [0/1 00:00<00:00]\n",
              "    </div>\n",
              "    \n",
              "<table border=\"1\" class=\"dataframe\">\n",
              "  <thead>\n",
              "    <tr style=\"text-align: left;\">\n",
              "      <th>epoch</th>\n",
              "      <th>train_loss</th>\n",
              "      <th>valid_loss</th>\n",
              "      <th>accuracy</th>\n",
              "      <th>time</th>\n",
              "    </tr>\n",
              "  </thead>\n",
              "  <tbody>\n",
              "  </tbody>\n",
              "</table><p>\n",
              "\n",
              "    <div>\n",
              "        <style>\n",
              "            /* Turns off some styling */\n",
              "            progress {\n",
              "                /* gets rid of default border in Firefox and Opera. */\n",
              "                border: none;\n",
              "                /* Needs to be in here for Safari polyfill so background images work as expected. */\n",
              "                background-size: auto;\n",
              "            }\n",
              "            .progress-bar-interrupted, .progress-bar-interrupted::-webkit-progress-bar {\n",
              "                background: #F44336;\n",
              "            }\n",
              "        </style>\n",
              "      <progress value='94' class='' max='625' style='width:300px; height:20px; vertical-align: middle;'></progress>\n",
              "      15.04% [94/625 00:20<01:58 1.8484]\n",
              "    </div>\n",
              "    "
            ],
            "text/plain": [
              "<IPython.core.display.HTML object>"
            ]
          },
          "metadata": {
            "tags": []
          }
        },
        {
          "output_type": "stream",
          "text": [
            "LR Finder is complete, type {learner_name}.recorder.plot() to see the graph.\n"
          ],
          "name": "stdout"
        }
      ]
    },
    {
      "cell_type": "code",
      "metadata": {
        "id": "ZD0zQNAKrO0F",
        "colab_type": "code",
        "colab": {
          "base_uri": "https://localhost:8080/",
          "height": 281
        },
        "outputId": "9ae35d29-b2e9-46a0-9420-8cc5121f1d08"
      },
      "source": [
        "classifier.recorder.plot()"
      ],
      "execution_count": 24,
      "outputs": [
        {
          "output_type": "display_data",
          "data": {
            "image/png": "[encoded data removed]",
            "text/plain": [
              "<Figure size 432x288 with 1 Axes>"
            ]
          },
          "metadata": {
            "tags": [],
            "needs_background": "light"
          }
        }
      ]
    },
    {
      "cell_type": "code",
      "metadata": {
        "id": "2enoG8Tmre9w",
        "colab_type": "code",
        "colab": {
          "base_uri": "https://localhost:8080/",
          "height": 138
        },
        "outputId": "3c1d7e81-4fcc-4944-cb27-3e83b4c2b00a"
      },
      "source": [
        "classifier.fit_one_cycle(3, slice(1e-1))"
      ],
      "execution_count": 25,
      "outputs": [
        {
          "output_type": "display_data",
          "data": {
            "text/html": [
              "<table border=\"1\" class=\"dataframe\">\n",
              "  <thead>\n",
              "    <tr style=\"text-align: left;\">\n",
              "      <th>epoch</th>\n",
              "      <th>train_loss</th>\n",
              "      <th>valid_loss</th>\n",
              "      <th>accuracy</th>\n",
              "      <th>time</th>\n",
              "    </tr>\n",
              "  </thead>\n",
              "  <tbody>\n",
              "    <tr>\n",
              "      <td>0</td>\n",
              "      <td>0.516311</td>\n",
              "      <td>0.357609</td>\n",
              "      <td>0.852800</td>\n",
              "      <td>02:27</td>\n",
              "    </tr>\n",
              "    <tr>\n",
              "      <td>1</td>\n",
              "      <td>0.479803</td>\n",
              "      <td>0.314498</td>\n",
              "      <td>0.867400</td>\n",
              "      <td>02:27</td>\n",
              "    </tr>\n",
              "    <tr>\n",
              "      <td>2</td>\n",
              "      <td>0.458985</td>\n",
              "      <td>0.310116</td>\n",
              "      <td>0.874600</td>\n",
              "      <td>02:26</td>\n",
              "    </tr>\n",
              "  </tbody>\n",
              "</table>"
            ],
            "text/plain": [
              "<IPython.core.display.HTML object>"
            ]
          },
          "metadata": {
            "tags": []
          }
        }
      ]
    },
    {
      "cell_type": "code",
      "metadata": {
        "id": "W-V3_5GttXaH",
        "colab_type": "code",
        "colab": {
          "base_uri": "https://localhost:8080/",
          "height": 111
        },
        "outputId": "07f0460b-cfbe-4c4b-dfc4-8f21380d152a"
      },
      "source": [
        "classifier.freeze_to(-2)\n",
        "classifier.lr_find()"
      ],
      "execution_count": 26,
      "outputs": [
        {
          "output_type": "display_data",
          "data": {
            "text/html": [
              "\n",
              "    <div>\n",
              "        <style>\n",
              "            /* Turns off some styling */\n",
              "            progress {\n",
              "                /* gets rid of default border in Firefox and Opera. */\n",
              "                border: none;\n",
              "                /* Needs to be in here for Safari polyfill so background images work as expected. */\n",
              "                background-size: auto;\n",
              "            }\n",
              "            .progress-bar-interrupted, .progress-bar-interrupted::-webkit-progress-bar {\n",
              "                background: #F44336;\n",
              "            }\n",
              "        </style>\n",
              "      <progress value='0' class='' max='1' style='width:300px; height:20px; vertical-align: middle;'></progress>\n",
              "      0.00% [0/1 00:00<00:00]\n",
              "    </div>\n",
              "    \n",
              "<table border=\"1\" class=\"dataframe\">\n",
              "  <thead>\n",
              "    <tr style=\"text-align: left;\">\n",
              "      <th>epoch</th>\n",
              "      <th>train_loss</th>\n",
              "      <th>valid_loss</th>\n",
              "      <th>accuracy</th>\n",
              "      <th>time</th>\n",
              "    </tr>\n",
              "  </thead>\n",
              "  <tbody>\n",
              "  </tbody>\n",
              "</table><p>\n",
              "\n",
              "    <div>\n",
              "        <style>\n",
              "            /* Turns off some styling */\n",
              "            progress {\n",
              "                /* gets rid of default border in Firefox and Opera. */\n",
              "                border: none;\n",
              "                /* Needs to be in here for Safari polyfill so background images work as expected. */\n",
              "                background-size: auto;\n",
              "            }\n",
              "            .progress-bar-interrupted, .progress-bar-interrupted::-webkit-progress-bar {\n",
              "                background: #F44336;\n",
              "            }\n",
              "        </style>\n",
              "      <progress value='93' class='' max='625' style='width:300px; height:20px; vertical-align: middle;'></progress>\n",
              "      14.88% [93/625 00:28<02:44 1.4273]\n",
              "    </div>\n",
              "    "
            ],
            "text/plain": [
              "<IPython.core.display.HTML object>"
            ]
          },
          "metadata": {
            "tags": []
          }
        },
        {
          "output_type": "stream",
          "text": [
            "LR Finder is complete, type {learner_name}.recorder.plot() to see the graph.\n"
          ],
          "name": "stdout"
        }
      ]
    },
    {
      "cell_type": "code",
      "metadata": {
        "id": "jnPbnih3uJA0",
        "colab_type": "code",
        "colab": {
          "base_uri": "https://localhost:8080/",
          "height": 279
        },
        "outputId": "8155ad23-dbf4-4e7e-c3a9-fa88be6d4a4d"
      },
      "source": [
        "classifier.recorder.plot()"
      ],
      "execution_count": 27,
      "outputs": [
        {
          "output_type": "display_data",
          "data": {
            "image/png": "[encoded data removed]",
            "text/plain": [
              "<Figure size 432x288 with 1 Axes>"
            ]
          },
          "metadata": {
            "tags": [],
            "needs_background": "light"
          }
        }
      ]
    },
    {
      "cell_type": "code",
      "metadata": {
        "id": "e9aYaJ_gusB3",
        "colab_type": "code",
        "colab": {
          "base_uri": "https://localhost:8080/",
          "height": 108
        },
        "outputId": "4175b2f6-c76d-40af-ee1c-fb280024da04"
      },
      "source": [
        "classifier.fit_one_cycle(2, slice(1e-02))"
      ],
      "execution_count": 29,
      "outputs": [
        {
          "output_type": "display_data",
          "data": {
            "text/html": [
              "<table border=\"1\" class=\"dataframe\">\n",
              "  <thead>\n",
              "    <tr style=\"text-align: left;\">\n",
              "      <th>epoch</th>\n",
              "      <th>train_loss</th>\n",
              "      <th>valid_loss</th>\n",
              "      <th>accuracy</th>\n",
              "      <th>time</th>\n",
              "    </tr>\n",
              "  </thead>\n",
              "  <tbody>\n",
              "    <tr>\n",
              "      <td>0</td>\n",
              "      <td>0.406740</td>\n",
              "      <td>0.366666</td>\n",
              "      <td>0.859600</td>\n",
              "      <td>02:57</td>\n",
              "    </tr>\n",
              "    <tr>\n",
              "      <td>1</td>\n",
              "      <td>0.371502</td>\n",
              "      <td>0.249121</td>\n",
              "      <td>0.901400</td>\n",
              "      <td>02:57</td>\n",
              "    </tr>\n",
              "  </tbody>\n",
              "</table>"
            ],
            "text/plain": [
              "<IPython.core.display.HTML object>"
            ]
          },
          "metadata": {
            "tags": []
          }
        }
      ]
    },
    {
      "cell_type": "code",
      "metadata": {
        "id": "CGy00Zn1wRxT",
        "colab_type": "code",
        "colab": {
          "base_uri": "https://localhost:8080/",
          "height": 111
        },
        "outputId": "77b9d10b-fb10-4b57-d16f-96d648cfc7fe"
      },
      "source": [
        "classifier.freeze_to(-4)\n",
        "classifier.lr_find()"
      ],
      "execution_count": 30,
      "outputs": [
        {
          "output_type": "display_data",
          "data": {
            "text/html": [
              "\n",
              "    <div>\n",
              "        <style>\n",
              "            /* Turns off some styling */\n",
              "            progress {\n",
              "                /* gets rid of default border in Firefox and Opera. */\n",
              "                border: none;\n",
              "                /* Needs to be in here for Safari polyfill so background images work as expected. */\n",
              "                background-size: auto;\n",
              "            }\n",
              "            .progress-bar-interrupted, .progress-bar-interrupted::-webkit-progress-bar {\n",
              "                background: #F44336;\n",
              "            }\n",
              "        </style>\n",
              "      <progress value='0' class='' max='1' style='width:300px; height:20px; vertical-align: middle;'></progress>\n",
              "      0.00% [0/1 00:00<00:00]\n",
              "    </div>\n",
              "    \n",
              "<table border=\"1\" class=\"dataframe\">\n",
              "  <thead>\n",
              "    <tr style=\"text-align: left;\">\n",
              "      <th>epoch</th>\n",
              "      <th>train_loss</th>\n",
              "      <th>valid_loss</th>\n",
              "      <th>accuracy</th>\n",
              "      <th>time</th>\n",
              "    </tr>\n",
              "  </thead>\n",
              "  <tbody>\n",
              "  </tbody>\n",
              "</table><p>\n",
              "\n",
              "    <div>\n",
              "        <style>\n",
              "            /* Turns off some styling */\n",
              "            progress {\n",
              "                /* gets rid of default border in Firefox and Opera. */\n",
              "                border: none;\n",
              "                /* Needs to be in here for Safari polyfill so background images work as expected. */\n",
              "                background-size: auto;\n",
              "            }\n",
              "            .progress-bar-interrupted, .progress-bar-interrupted::-webkit-progress-bar {\n",
              "                background: #F44336;\n",
              "            }\n",
              "        </style>\n",
              "      <progress value='91' class='' max='625' style='width:300px; height:20px; vertical-align: middle;'></progress>\n",
              "      14.56% [91/625 00:48<04:47 0.8886]\n",
              "    </div>\n",
              "    "
            ],
            "text/plain": [
              "<IPython.core.display.HTML object>"
            ]
          },
          "metadata": {
            "tags": []
          }
        },
        {
          "output_type": "stream",
          "text": [
            "LR Finder is complete, type {learner_name}.recorder.plot() to see the graph.\n"
          ],
          "name": "stdout"
        }
      ]
    },
    {
      "cell_type": "code",
      "metadata": {
        "id": "wcPrxM40wWd6",
        "colab_type": "code",
        "colab": {
          "base_uri": "https://localhost:8080/",
          "height": 281
        },
        "outputId": "10f10be5-562a-4d74-9215-bb3cfacfdafa"
      },
      "source": [
        "classifier.recorder.plot()"
      ],
      "execution_count": 31,
      "outputs": [
        {
          "output_type": "display_data",
          "data": {
            "image/png": "[encoded data removed]",
            "text/plain": [
              "<Figure size 432x288 with 1 Axes>"
            ]
          },
          "metadata": {
            "tags": [],
            "needs_background": "light"
          }
        }
      ]
    },
    {
      "cell_type": "code",
      "metadata": {
        "id": "JfinD-ejwtcM",
        "colab_type": "code",
        "colab": {
          "base_uri": "https://localhost:8080/",
          "height": 108
        },
        "outputId": "c14c86d7-64f2-411e-be5b-9b60190af4cd"
      },
      "source": [
        "classifier.fit_one_cycle(2, slice(4e-03))"
      ],
      "execution_count": 32,
      "outputs": [
        {
          "output_type": "display_data",
          "data": {
            "text/html": [
              "<table border=\"1\" class=\"dataframe\">\n",
              "  <thead>\n",
              "    <tr style=\"text-align: left;\">\n",
              "      <th>epoch</th>\n",
              "      <th>train_loss</th>\n",
              "      <th>valid_loss</th>\n",
              "      <th>accuracy</th>\n",
              "      <th>time</th>\n",
              "    </tr>\n",
              "  </thead>\n",
              "  <tbody>\n",
              "    <tr>\n",
              "      <td>0</td>\n",
              "      <td>0.305452</td>\n",
              "      <td>0.208141</td>\n",
              "      <td>0.920000</td>\n",
              "      <td>05:38</td>\n",
              "    </tr>\n",
              "    <tr>\n",
              "      <td>1</td>\n",
              "      <td>0.260063</td>\n",
              "      <td>0.195834</td>\n",
              "      <td>0.926600</td>\n",
              "      <td>05:38</td>\n",
              "    </tr>\n",
              "  </tbody>\n",
              "</table>"
            ],
            "text/plain": [
              "<IPython.core.display.HTML object>"
            ]
          },
          "metadata": {
            "tags": []
          }
        }
      ]
    },
    {
      "cell_type": "code",
      "metadata": {
        "id": "Gf9NoU4W2aVE",
        "colab_type": "code",
        "colab": {
          "base_uri": "https://localhost:8080/",
          "height": 111
        },
        "outputId": "21b5adcf-c5cf-45d8-e341-3c22618b2582"
      },
      "source": [
        "classifier.unfreeze()\n",
        "classifier.lr_find()"
      ],
      "execution_count": 33,
      "outputs": [
        {
          "output_type": "display_data",
          "data": {
            "text/html": [
              "\n",
              "    <div>\n",
              "        <style>\n",
              "            /* Turns off some styling */\n",
              "            progress {\n",
              "                /* gets rid of default border in Firefox and Opera. */\n",
              "                border: none;\n",
              "                /* Needs to be in here for Safari polyfill so background images work as expected. */\n",
              "                background-size: auto;\n",
              "            }\n",
              "            .progress-bar-interrupted, .progress-bar-interrupted::-webkit-progress-bar {\n",
              "                background: #F44336;\n",
              "            }\n",
              "        </style>\n",
              "      <progress value='0' class='' max='1' style='width:300px; height:20px; vertical-align: middle;'></progress>\n",
              "      0.00% [0/1 00:00<00:00]\n",
              "    </div>\n",
              "    \n",
              "<table border=\"1\" class=\"dataframe\">\n",
              "  <thead>\n",
              "    <tr style=\"text-align: left;\">\n",
              "      <th>epoch</th>\n",
              "      <th>train_loss</th>\n",
              "      <th>valid_loss</th>\n",
              "      <th>accuracy</th>\n",
              "      <th>time</th>\n",
              "    </tr>\n",
              "  </thead>\n",
              "  <tbody>\n",
              "  </tbody>\n",
              "</table><p>\n",
              "\n",
              "    <div>\n",
              "        <style>\n",
              "            /* Turns off some styling */\n",
              "            progress {\n",
              "                /* gets rid of default border in Firefox and Opera. */\n",
              "                border: none;\n",
              "                /* Needs to be in here for Safari polyfill so background images work as expected. */\n",
              "                background-size: auto;\n",
              "            }\n",
              "            .progress-bar-interrupted, .progress-bar-interrupted::-webkit-progress-bar {\n",
              "                background: #F44336;\n",
              "            }\n",
              "        </style>\n",
              "      <progress value='88' class='' max='625' style='width:300px; height:20px; vertical-align: middle;'></progress>\n",
              "      14.08% [88/625 00:43<04:24 0.6082]\n",
              "    </div>\n",
              "    "
            ],
            "text/plain": [
              "<IPython.core.display.HTML object>"
            ]
          },
          "metadata": {
            "tags": []
          }
        },
        {
          "output_type": "stream",
          "text": [
            "LR Finder is complete, type {learner_name}.recorder.plot() to see the graph.\n"
          ],
          "name": "stdout"
        }
      ]
    },
    {
      "cell_type": "code",
      "metadata": {
        "id": "IqEQZ-L32d3V",
        "colab_type": "code",
        "colab": {
          "base_uri": "https://localhost:8080/",
          "height": 283
        },
        "outputId": "ac98c2cb-23af-4ed9-b946-5c302197097f"
      },
      "source": [
        "classifier.recorder.plot()"
      ],
      "execution_count": 34,
      "outputs": [
        {
          "output_type": "display_data",
          "data": {
            "image/png": "[encoded data removed]",
            "text/plain": [
              "<Figure size 432x288 with 1 Axes>"
            ]
          },
          "metadata": {
            "tags": [],
            "needs_background": "light"
          }
        }
      ]
    },
    {
      "cell_type": "code",
      "metadata": {
        "id": "Cw0OFMZZ22FT",
        "colab_type": "code",
        "colab": {
          "base_uri": "https://localhost:8080/",
          "height": 154
        },
        "outputId": "6cfffd5c-3a7b-4af8-96bf-956ea820f1f0"
      },
      "source": [
        "classifier.fit_one_cycle(3, slice(1e-06, 1e-03))"
      ],
      "execution_count": null,
      "outputs": [
        {
          "output_type": "display_data",
          "data": {
            "text/html": [
              "\n",
              "    <div>\n",
              "        <style>\n",
              "            /* Turns off some styling */\n",
              "            progress {\n",
              "                /* gets rid of default border in Firefox and Opera. */\n",
              "                border: none;\n",
              "                /* Needs to be in here for Safari polyfill so background images work as expected. */\n",
              "                background-size: auto;\n",
              "            }\n",
              "            .progress-bar-interrupted, .progress-bar-interrupted::-webkit-progress-bar {\n",
              "                background: #F44336;\n",
              "            }\n",
              "        </style>\n",
              "      <progress value='2' class='' max='3' style='width:300px; height:20px; vertical-align: middle;'></progress>\n",
              "      66.67% [2/3 11:19<05:39]\n",
              "    </div>\n",
              "    \n",
              "<table border=\"1\" class=\"dataframe\">\n",
              "  <thead>\n",
              "    <tr style=\"text-align: left;\">\n",
              "      <th>epoch</th>\n",
              "      <th>train_loss</th>\n",
              "      <th>valid_loss</th>\n",
              "      <th>accuracy</th>\n",
              "      <th>time</th>\n",
              "    </tr>\n",
              "  </thead>\n",
              "  <tbody>\n",
              "    <tr>\n",
              "      <td>0</td>\n",
              "      <td>0.242902</td>\n",
              "      <td>0.194828</td>\n",
              "      <td>0.928500</td>\n",
              "      <td>05:40</td>\n",
              "    </tr>\n",
              "    <tr>\n",
              "      <td>1</td>\n",
              "      <td>0.252940</td>\n",
              "      <td>0.191382</td>\n",
              "      <td>0.927200</td>\n",
              "      <td>05:39</td>\n",
              "    </tr>\n",
              "  </tbody>\n",
              "</table><p>\n",
              "\n",
              "    <div>\n",
              "        <style>\n",
              "            /* Turns off some styling */\n",
              "            progress {\n",
              "                /* gets rid of default border in Firefox and Opera. */\n",
              "                border: none;\n",
              "                /* Needs to be in here for Safari polyfill so background images work as expected. */\n",
              "                background-size: auto;\n",
              "            }\n",
              "            .progress-bar-interrupted, .progress-bar-interrupted::-webkit-progress-bar {\n",
              "                background: #F44336;\n",
              "            }\n",
              "        </style>\n",
              "      <progress value='320' class='' max='625' style='width:300px; height:20px; vertical-align: middle;'></progress>\n",
              "      51.20% [320/625 02:50<02:42 0.2528]\n",
              "    </div>\n",
              "    "
            ],
            "text/plain": [
              "<IPython.core.display.HTML object>"
            ]
          },
          "metadata": {
            "tags": []
          }
        }
      ]
    }
  ]
}