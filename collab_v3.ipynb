{
  "nbformat": 4,
  "nbformat_minor": 0,
  "metadata": {
    "colab": {
      "name": "collab_v3.ipynb",
      "provenance": [],
      "collapsed_sections": [],
      "machine_shape": "hm",
      "authorship_tag": "ABX9TyPus5MqICVuthCfvP83onoQ",
      "include_colab_link": true
    },
    "kernelspec": {
      "name": "python3",
      "display_name": "Python 3"
    },
    "accelerator": "GPU"
  },
  "cells": [
    {
      "cell_type": "markdown",
      "metadata": {
        "id": "view-in-github",
        "colab_type": "text"
      },
      "source": [
        "<a href=\"https://colab.research.google.com/github/pranay8297/deep-learning-projects/blob/master/collab_v3.ipynb\" target=\"_parent\"><img src=\"https://colab.research.google.com/assets/colab-badge.svg\" alt=\"Open In Colab\"/></a>"
      ]
    },
    {
      "cell_type": "code",
      "metadata": {
        "colab": {
          "base_uri": "https://localhost:8080/"
        },
        "id": "wCcRN_TtNJZG",
        "outputId": "c4838780-64c0-4038-fda9-b03fcf2211d0"
      },
      "source": [
        "!pip install \"torch==1.4\" \"torchvision==0.5.0\" #use the old version"
      ],
      "execution_count": 1,
      "outputs": [
        {
          "output_type": "stream",
          "text": [
            "Collecting torch==1.4\n",
            "\u001b[?25l  Downloading https://files.pythonhosted.org/packages/24/19/4804aea17cd136f1705a5e98a00618cb8f6ccc375ad8bfa437408e09d058/torch-1.4.0-cp36-cp36m-manylinux1_x86_64.whl (753.4MB)\n",
            "\u001b[K     |████████████████████████████████| 753.4MB 21kB/s \n",
            "\u001b[?25hCollecting torchvision==0.5.0\n",
            "\u001b[?25l  Downloading https://files.pythonhosted.org/packages/7e/90/6141bf41f5655c78e24f40f710fdd4f8a8aff6c8b7c6f0328240f649bdbe/torchvision-0.5.0-cp36-cp36m-manylinux1_x86_64.whl (4.0MB)\n",
            "\u001b[K     |████████████████████████████████| 4.0MB 55.2MB/s \n",
            "\u001b[?25hRequirement already satisfied: numpy in /usr/local/lib/python3.6/dist-packages (from torchvision==0.5.0) (1.18.5)\n",
            "Requirement already satisfied: pillow>=4.1.1 in /usr/local/lib/python3.6/dist-packages (from torchvision==0.5.0) (7.0.0)\n",
            "Requirement already satisfied: six in /usr/local/lib/python3.6/dist-packages (from torchvision==0.5.0) (1.15.0)\n",
            "Installing collected packages: torch, torchvision\n",
            "  Found existing installation: torch 1.7.0+cu101\n",
            "    Uninstalling torch-1.7.0+cu101:\n",
            "      Successfully uninstalled torch-1.7.0+cu101\n",
            "  Found existing installation: torchvision 0.8.1+cu101\n",
            "    Uninstalling torchvision-0.8.1+cu101:\n",
            "      Successfully uninstalled torchvision-0.8.1+cu101\n",
            "Successfully installed torch-1.4.0 torchvision-0.5.0\n"
          ],
          "name": "stdout"
        }
      ]
    },
    {
      "cell_type": "code",
      "metadata": {
        "id": "9A-GmA-SNP88"
      },
      "source": [
        "from fastai import *\n",
        "from fastai.collab import *"
      ],
      "execution_count": 1,
      "outputs": []
    },
    {
      "cell_type": "code",
      "metadata": {
        "colab": {
          "base_uri": "https://localhost:8080/",
          "height": 52
        },
        "id": "exBYg2kZNWzQ",
        "outputId": "4a7b9f2a-4300-4189-df3d-ab011e36cc2f"
      },
      "source": [
        "path = untar_data(URLs.ML_SAMPLE)\n",
        "path.ls()"
      ],
      "execution_count": 4,
      "outputs": [
        {
          "output_type": "stream",
          "text": [
            "Downloading http://files.fast.ai/data/examples/movie_lens_sample.tgz\n"
          ],
          "name": "stdout"
        },
        {
          "output_type": "display_data",
          "data": {
            "text/html": [
              ""
            ],
            "text/plain": [
              "<IPython.core.display.HTML object>"
            ]
          },
          "metadata": {
            "tags": []
          }
        },
        {
          "output_type": "execute_result",
          "data": {
            "text/plain": [
              "[PosixPath('/root/.fastai/data/movie_lens_sample/ratings.csv')]"
            ]
          },
          "metadata": {
            "tags": []
          },
          "execution_count": 4
        }
      ]
    },
    {
      "cell_type": "code",
      "metadata": {
        "colab": {
          "base_uri": "https://localhost:8080/",
          "height": 198
        },
        "id": "GSqKI3GYNx4T",
        "outputId": "97cac009-9848-44c9-d0e6-c2cc59e73850"
      },
      "source": [
        "df = pd.read_csv(path/'ratings.csv')\n",
        "df.head()"
      ],
      "execution_count": 5,
      "outputs": [
        {
          "output_type": "execute_result",
          "data": {
            "text/html": [
              "<div>\n",
              "<style scoped>\n",
              "    .dataframe tbody tr th:only-of-type {\n",
              "        vertical-align: middle;\n",
              "    }\n",
              "\n",
              "    .dataframe tbody tr th {\n",
              "        vertical-align: top;\n",
              "    }\n",
              "\n",
              "    .dataframe thead th {\n",
              "        text-align: right;\n",
              "    }\n",
              "</style>\n",
              "<table border=\"1\" class=\"dataframe\">\n",
              "  <thead>\n",
              "    <tr style=\"text-align: right;\">\n",
              "      <th></th>\n",
              "      <th>userId</th>\n",
              "      <th>movieId</th>\n",
              "      <th>rating</th>\n",
              "      <th>timestamp</th>\n",
              "    </tr>\n",
              "  </thead>\n",
              "  <tbody>\n",
              "    <tr>\n",
              "      <th>0</th>\n",
              "      <td>73</td>\n",
              "      <td>1097</td>\n",
              "      <td>4.0</td>\n",
              "      <td>1255504951</td>\n",
              "    </tr>\n",
              "    <tr>\n",
              "      <th>1</th>\n",
              "      <td>561</td>\n",
              "      <td>924</td>\n",
              "      <td>3.5</td>\n",
              "      <td>1172695223</td>\n",
              "    </tr>\n",
              "    <tr>\n",
              "      <th>2</th>\n",
              "      <td>157</td>\n",
              "      <td>260</td>\n",
              "      <td>3.5</td>\n",
              "      <td>1291598691</td>\n",
              "    </tr>\n",
              "    <tr>\n",
              "      <th>3</th>\n",
              "      <td>358</td>\n",
              "      <td>1210</td>\n",
              "      <td>5.0</td>\n",
              "      <td>957481884</td>\n",
              "    </tr>\n",
              "    <tr>\n",
              "      <th>4</th>\n",
              "      <td>130</td>\n",
              "      <td>316</td>\n",
              "      <td>2.0</td>\n",
              "      <td>1138999234</td>\n",
              "    </tr>\n",
              "  </tbody>\n",
              "</table>\n",
              "</div>"
            ],
            "text/plain": [
              "   userId  movieId  rating   timestamp\n",
              "0      73     1097     4.0  1255504951\n",
              "1     561      924     3.5  1172695223\n",
              "2     157      260     3.5  1291598691\n",
              "3     358     1210     5.0   957481884\n",
              "4     130      316     2.0  1138999234"
            ]
          },
          "metadata": {
            "tags": []
          },
          "execution_count": 5
        }
      ]
    },
    {
      "cell_type": "code",
      "metadata": {
        "colab": {
          "base_uri": "https://localhost:8080/"
        },
        "id": "iI3B1wx2PZ85",
        "outputId": "f25a5b73-97e2-4d64-dd6b-f8ea1650be60"
      },
      "source": [
        "path.ls()"
      ],
      "execution_count": 6,
      "outputs": [
        {
          "output_type": "execute_result",
          "data": {
            "text/plain": [
              "[PosixPath('/root/.fastai/data/movie_lens_sample/ratings.csv')]"
            ]
          },
          "metadata": {
            "tags": []
          },
          "execution_count": 6
        }
      ]
    },
    {
      "cell_type": "code",
      "metadata": {
        "colab": {
          "base_uri": "https://localhost:8080/"
        },
        "id": "favhytI9OByB",
        "outputId": "35748a15-3314-47f8-89f8-0b1e5d38ec1c"
      },
      "source": [
        "!wget http://files.grouplens.org/datasets/movielens/ml-10m.zip\n",
        "# !tar zxvf /root/.fastai/data/movie_lens_sample.tgz "
      ],
      "execution_count": 2,
      "outputs": [
        {
          "output_type": "stream",
          "text": [
            "--2020-12-14 18:36:18--  http://files.grouplens.org/datasets/movielens/ml-10m.zip\n",
            "Resolving files.grouplens.org (files.grouplens.org)... 128.101.65.152\n",
            "Connecting to files.grouplens.org (files.grouplens.org)|128.101.65.152|:80... connected.\n",
            "HTTP request sent, awaiting response... 200 OK\n",
            "Length: 65566137 (63M) [application/zip]\n",
            "Saving to: ‘ml-10m.zip’\n",
            "\n",
            "ml-10m.zip          100%[===================>]  62.53M  20.7MB/s    in 3.0s    \n",
            "\n",
            "2020-12-14 18:36:22 (20.7 MB/s) - ‘ml-10m.zip’ saved [65566137/65566137]\n",
            "\n"
          ],
          "name": "stdout"
        }
      ]
    },
    {
      "cell_type": "code",
      "metadata": {
        "colab": {
          "base_uri": "https://localhost:8080/"
        },
        "id": "SyT2gq2bOJdy",
        "outputId": "de432550-b0bb-46ca-fd63-aa229aca1a05"
      },
      "source": [
        "path.ls()"
      ],
      "execution_count": 9,
      "outputs": [
        {
          "output_type": "execute_result",
          "data": {
            "text/plain": [
              "[PosixPath('/root/.fastai/data/movie_lens_sample/ratings.csv')]"
            ]
          },
          "metadata": {
            "tags": []
          },
          "execution_count": 9
        }
      ]
    },
    {
      "cell_type": "code",
      "metadata": {
        "colab": {
          "base_uri": "https://localhost:8080/",
          "height": 407
        },
        "id": "mVYUu3VLO35c",
        "outputId": "da4e2c96-0bb2-49a6-dbd2-8d70504f50ab"
      },
      "source": [
        "pd.read_csv(path/'ratings.csv')"
      ],
      "execution_count": 11,
      "outputs": [
        {
          "output_type": "execute_result",
          "data": {
            "text/html": [
              "<div>\n",
              "<style scoped>\n",
              "    .dataframe tbody tr th:only-of-type {\n",
              "        vertical-align: middle;\n",
              "    }\n",
              "\n",
              "    .dataframe tbody tr th {\n",
              "        vertical-align: top;\n",
              "    }\n",
              "\n",
              "    .dataframe thead th {\n",
              "        text-align: right;\n",
              "    }\n",
              "</style>\n",
              "<table border=\"1\" class=\"dataframe\">\n",
              "  <thead>\n",
              "    <tr style=\"text-align: right;\">\n",
              "      <th></th>\n",
              "      <th>userId</th>\n",
              "      <th>movieId</th>\n",
              "      <th>rating</th>\n",
              "      <th>timestamp</th>\n",
              "    </tr>\n",
              "  </thead>\n",
              "  <tbody>\n",
              "    <tr>\n",
              "      <th>0</th>\n",
              "      <td>73</td>\n",
              "      <td>1097</td>\n",
              "      <td>4.0</td>\n",
              "      <td>1255504951</td>\n",
              "    </tr>\n",
              "    <tr>\n",
              "      <th>1</th>\n",
              "      <td>561</td>\n",
              "      <td>924</td>\n",
              "      <td>3.5</td>\n",
              "      <td>1172695223</td>\n",
              "    </tr>\n",
              "    <tr>\n",
              "      <th>2</th>\n",
              "      <td>157</td>\n",
              "      <td>260</td>\n",
              "      <td>3.5</td>\n",
              "      <td>1291598691</td>\n",
              "    </tr>\n",
              "    <tr>\n",
              "      <th>3</th>\n",
              "      <td>358</td>\n",
              "      <td>1210</td>\n",
              "      <td>5.0</td>\n",
              "      <td>957481884</td>\n",
              "    </tr>\n",
              "    <tr>\n",
              "      <th>4</th>\n",
              "      <td>130</td>\n",
              "      <td>316</td>\n",
              "      <td>2.0</td>\n",
              "      <td>1138999234</td>\n",
              "    </tr>\n",
              "    <tr>\n",
              "      <th>...</th>\n",
              "      <td>...</td>\n",
              "      <td>...</td>\n",
              "      <td>...</td>\n",
              "      <td>...</td>\n",
              "    </tr>\n",
              "    <tr>\n",
              "      <th>6026</th>\n",
              "      <td>384</td>\n",
              "      <td>377</td>\n",
              "      <td>4.0</td>\n",
              "      <td>1153501701</td>\n",
              "    </tr>\n",
              "    <tr>\n",
              "      <th>6027</th>\n",
              "      <td>262</td>\n",
              "      <td>587</td>\n",
              "      <td>1.5</td>\n",
              "      <td>1434024940</td>\n",
              "    </tr>\n",
              "    <tr>\n",
              "      <th>6028</th>\n",
              "      <td>580</td>\n",
              "      <td>153</td>\n",
              "      <td>2.0</td>\n",
              "      <td>1165899265</td>\n",
              "    </tr>\n",
              "    <tr>\n",
              "      <th>6029</th>\n",
              "      <td>585</td>\n",
              "      <td>1</td>\n",
              "      <td>4.0</td>\n",
              "      <td>974607482</td>\n",
              "    </tr>\n",
              "    <tr>\n",
              "      <th>6030</th>\n",
              "      <td>388</td>\n",
              "      <td>527</td>\n",
              "      <td>5.0</td>\n",
              "      <td>946509889</td>\n",
              "    </tr>\n",
              "  </tbody>\n",
              "</table>\n",
              "<p>6031 rows × 4 columns</p>\n",
              "</div>"
            ],
            "text/plain": [
              "      userId  movieId  rating   timestamp\n",
              "0         73     1097     4.0  1255504951\n",
              "1        561      924     3.5  1172695223\n",
              "2        157      260     3.5  1291598691\n",
              "3        358     1210     5.0   957481884\n",
              "4        130      316     2.0  1138999234\n",
              "...      ...      ...     ...         ...\n",
              "6026     384      377     4.0  1153501701\n",
              "6027     262      587     1.5  1434024940\n",
              "6028     580      153     2.0  1165899265\n",
              "6029     585        1     4.0   974607482\n",
              "6030     388      527     5.0   946509889\n",
              "\n",
              "[6031 rows x 4 columns]"
            ]
          },
          "metadata": {
            "tags": []
          },
          "execution_count": 11
        }
      ]
    },
    {
      "cell_type": "code",
      "metadata": {
        "colab": {
          "base_uri": "https://localhost:8080/"
        },
        "id": "DvS5DOHZR7rl",
        "outputId": "1062a0b9-0051-465f-e0fd-b6190e9c7899"
      },
      "source": [
        "path = Path('/content/ml-10M100K')\n",
        "path.ls()"
      ],
      "execution_count": 4,
      "outputs": [
        {
          "output_type": "execute_result",
          "data": {
            "text/plain": [
              "[PosixPath('/content/ml-10M100K/allbut.pl'),\n",
              " PosixPath('/content/ml-10M100K/README.html'),\n",
              " PosixPath('/content/ml-10M100K/tags.dat'),\n",
              " PosixPath('/content/ml-10M100K/split_ratings.sh'),\n",
              " PosixPath('/content/ml-10M100K/movies.dat'),\n",
              " PosixPath('/content/ml-10M100K/ratings.dat')]"
            ]
          },
          "metadata": {
            "tags": []
          },
          "execution_count": 4
        }
      ]
    },
    {
      "cell_type": "code",
      "metadata": {
        "colab": {
          "base_uri": "https://localhost:8080/"
        },
        "id": "5X1ULf__TUJh",
        "outputId": "54e4e15a-91a0-4b14-e457-217fd28dc58d"
      },
      "source": [
        "path.ls()"
      ],
      "execution_count": 9,
      "outputs": [
        {
          "output_type": "execute_result",
          "data": {
            "text/plain": [
              "[PosixPath('/content/ml-10M100K/README.html'),\n",
              " PosixPath('/content/ml-10M100K/split_ratings.sh'),\n",
              " PosixPath('/content/ml-10M100K/ratings.dat'),\n",
              " PosixPath('/content/ml-10M100K/tags.dat'),\n",
              " PosixPath('/content/ml-10M100K/allbut.pl'),\n",
              " PosixPath('/content/ml-10M100K/movies.dat')]"
            ]
          },
          "metadata": {
            "tags": []
          },
          "execution_count": 9
        }
      ]
    },
    {
      "cell_type": "code",
      "metadata": {
        "colab": {
          "base_uri": "https://localhost:8080/",
          "height": 253
        },
        "id": "6jJJaWYGSiBA",
        "outputId": "bd4aee24-8764-4552-f141-872ede4db6c6"
      },
      "source": [
        "  movies = pd.read_csv(path/'movies.dat', delimiter='::', encoding='latin-1', header=None, names = ['mid', 'name', 'geners'])\n",
        "  movies.head()"
      ],
      "execution_count": 5,
      "outputs": [
        {
          "output_type": "stream",
          "text": [
            "/usr/local/lib/python3.6/dist-packages/ipykernel_launcher.py:1: ParserWarning: Falling back to the 'python' engine because the 'c' engine does not support regex separators (separators > 1 char and different from '\\s+' are interpreted as regex); you can avoid this warning by specifying engine='python'.\n",
            "  \"\"\"Entry point for launching an IPython kernel.\n"
          ],
          "name": "stderr"
        },
        {
          "output_type": "execute_result",
          "data": {
            "text/html": [
              "<div>\n",
              "<style scoped>\n",
              "    .dataframe tbody tr th:only-of-type {\n",
              "        vertical-align: middle;\n",
              "    }\n",
              "\n",
              "    .dataframe tbody tr th {\n",
              "        vertical-align: top;\n",
              "    }\n",
              "\n",
              "    .dataframe thead th {\n",
              "        text-align: right;\n",
              "    }\n",
              "</style>\n",
              "<table border=\"1\" class=\"dataframe\">\n",
              "  <thead>\n",
              "    <tr style=\"text-align: right;\">\n",
              "      <th></th>\n",
              "      <th>mid</th>\n",
              "      <th>name</th>\n",
              "      <th>geners</th>\n",
              "    </tr>\n",
              "  </thead>\n",
              "  <tbody>\n",
              "    <tr>\n",
              "      <th>0</th>\n",
              "      <td>1</td>\n",
              "      <td>Toy Story (1995)</td>\n",
              "      <td>Adventure|Animation|Children|Comedy|Fantasy</td>\n",
              "    </tr>\n",
              "    <tr>\n",
              "      <th>1</th>\n",
              "      <td>2</td>\n",
              "      <td>Jumanji (1995)</td>\n",
              "      <td>Adventure|Children|Fantasy</td>\n",
              "    </tr>\n",
              "    <tr>\n",
              "      <th>2</th>\n",
              "      <td>3</td>\n",
              "      <td>Grumpier Old Men (1995)</td>\n",
              "      <td>Comedy|Romance</td>\n",
              "    </tr>\n",
              "    <tr>\n",
              "      <th>3</th>\n",
              "      <td>4</td>\n",
              "      <td>Waiting to Exhale (1995)</td>\n",
              "      <td>Comedy|Drama|Romance</td>\n",
              "    </tr>\n",
              "    <tr>\n",
              "      <th>4</th>\n",
              "      <td>5</td>\n",
              "      <td>Father of the Bride Part II (1995)</td>\n",
              "      <td>Comedy</td>\n",
              "    </tr>\n",
              "  </tbody>\n",
              "</table>\n",
              "</div>"
            ],
            "text/plain": [
              "   mid  ...                                       geners\n",
              "0    1  ...  Adventure|Animation|Children|Comedy|Fantasy\n",
              "1    2  ...                   Adventure|Children|Fantasy\n",
              "2    3  ...                               Comedy|Romance\n",
              "3    4  ...                         Comedy|Drama|Romance\n",
              "4    5  ...                                       Comedy\n",
              "\n",
              "[5 rows x 3 columns]"
            ]
          },
          "metadata": {
            "tags": []
          },
          "execution_count": 5
        }
      ]
    },
    {
      "cell_type": "code",
      "metadata": {
        "colab": {
          "base_uri": "https://localhost:8080/",
          "height": 253
        },
        "id": "BgFc4c8RVI0T",
        "outputId": "0ef9c902-cc0f-41b4-cb36-98406ffed28a"
      },
      "source": [
        "ratings = pd.read_csv(path/'ratings.dat', delimiter= '::', encoding='latin-1', header = None, names = ['uid', 'mid', 'target', 'ts'])\n",
        "ratings.head()"
      ],
      "execution_count": 6,
      "outputs": [
        {
          "output_type": "stream",
          "text": [
            "/usr/local/lib/python3.6/dist-packages/ipykernel_launcher.py:1: ParserWarning: Falling back to the 'python' engine because the 'c' engine does not support regex separators (separators > 1 char and different from '\\s+' are interpreted as regex); you can avoid this warning by specifying engine='python'.\n",
            "  \"\"\"Entry point for launching an IPython kernel.\n"
          ],
          "name": "stderr"
        },
        {
          "output_type": "execute_result",
          "data": {
            "text/html": [
              "<div>\n",
              "<style scoped>\n",
              "    .dataframe tbody tr th:only-of-type {\n",
              "        vertical-align: middle;\n",
              "    }\n",
              "\n",
              "    .dataframe tbody tr th {\n",
              "        vertical-align: top;\n",
              "    }\n",
              "\n",
              "    .dataframe thead th {\n",
              "        text-align: right;\n",
              "    }\n",
              "</style>\n",
              "<table border=\"1\" class=\"dataframe\">\n",
              "  <thead>\n",
              "    <tr style=\"text-align: right;\">\n",
              "      <th></th>\n",
              "      <th>uid</th>\n",
              "      <th>mid</th>\n",
              "      <th>target</th>\n",
              "      <th>ts</th>\n",
              "    </tr>\n",
              "  </thead>\n",
              "  <tbody>\n",
              "    <tr>\n",
              "      <th>0</th>\n",
              "      <td>1</td>\n",
              "      <td>122</td>\n",
              "      <td>5.0</td>\n",
              "      <td>838985046</td>\n",
              "    </tr>\n",
              "    <tr>\n",
              "      <th>1</th>\n",
              "      <td>1</td>\n",
              "      <td>185</td>\n",
              "      <td>5.0</td>\n",
              "      <td>838983525</td>\n",
              "    </tr>\n",
              "    <tr>\n",
              "      <th>2</th>\n",
              "      <td>1</td>\n",
              "      <td>231</td>\n",
              "      <td>5.0</td>\n",
              "      <td>838983392</td>\n",
              "    </tr>\n",
              "    <tr>\n",
              "      <th>3</th>\n",
              "      <td>1</td>\n",
              "      <td>292</td>\n",
              "      <td>5.0</td>\n",
              "      <td>838983421</td>\n",
              "    </tr>\n",
              "    <tr>\n",
              "      <th>4</th>\n",
              "      <td>1</td>\n",
              "      <td>316</td>\n",
              "      <td>5.0</td>\n",
              "      <td>838983392</td>\n",
              "    </tr>\n",
              "  </tbody>\n",
              "</table>\n",
              "</div>"
            ],
            "text/plain": [
              "   uid  mid  target         ts\n",
              "0    1  122     5.0  838985046\n",
              "1    1  185     5.0  838983525\n",
              "2    1  231     5.0  838983392\n",
              "3    1  292     5.0  838983421\n",
              "4    1  316     5.0  838983392"
            ]
          },
          "metadata": {
            "tags": []
          },
          "execution_count": 6
        }
      ]
    },
    {
      "cell_type": "code",
      "metadata": {
        "id": "71QMsiDpVor3"
      },
      "source": [
        "nr = ratings.merge(movies , left_on = 'mid', right_on = 'mid')"
      ],
      "execution_count": 7,
      "outputs": []
    },
    {
      "cell_type": "code",
      "metadata": {
        "colab": {
          "base_uri": "https://localhost:8080/",
          "height": 198
        },
        "id": "gaBLvYPTV_T1",
        "outputId": "de8d478d-b7b1-4d3f-b562-118b8fa1baec"
      },
      "source": [
        "nr.head()"
      ],
      "execution_count": 13,
      "outputs": [
        {
          "output_type": "execute_result",
          "data": {
            "text/html": [
              "<div>\n",
              "<style scoped>\n",
              "    .dataframe tbody tr th:only-of-type {\n",
              "        vertical-align: middle;\n",
              "    }\n",
              "\n",
              "    .dataframe tbody tr th {\n",
              "        vertical-align: top;\n",
              "    }\n",
              "\n",
              "    .dataframe thead th {\n",
              "        text-align: right;\n",
              "    }\n",
              "</style>\n",
              "<table border=\"1\" class=\"dataframe\">\n",
              "  <thead>\n",
              "    <tr style=\"text-align: right;\">\n",
              "      <th></th>\n",
              "      <th>uid</th>\n",
              "      <th>mid</th>\n",
              "      <th>target</th>\n",
              "      <th>ts</th>\n",
              "      <th>name</th>\n",
              "      <th>geners</th>\n",
              "    </tr>\n",
              "  </thead>\n",
              "  <tbody>\n",
              "    <tr>\n",
              "      <th>0</th>\n",
              "      <td>1</td>\n",
              "      <td>122</td>\n",
              "      <td>5.0</td>\n",
              "      <td>838985046</td>\n",
              "      <td>Boomerang (1992)</td>\n",
              "      <td>Comedy|Romance</td>\n",
              "    </tr>\n",
              "    <tr>\n",
              "      <th>1</th>\n",
              "      <td>139</td>\n",
              "      <td>122</td>\n",
              "      <td>3.0</td>\n",
              "      <td>974302621</td>\n",
              "      <td>Boomerang (1992)</td>\n",
              "      <td>Comedy|Romance</td>\n",
              "    </tr>\n",
              "    <tr>\n",
              "      <th>2</th>\n",
              "      <td>149</td>\n",
              "      <td>122</td>\n",
              "      <td>2.5</td>\n",
              "      <td>1112342322</td>\n",
              "      <td>Boomerang (1992)</td>\n",
              "      <td>Comedy|Romance</td>\n",
              "    </tr>\n",
              "    <tr>\n",
              "      <th>3</th>\n",
              "      <td>182</td>\n",
              "      <td>122</td>\n",
              "      <td>3.0</td>\n",
              "      <td>943458784</td>\n",
              "      <td>Boomerang (1992)</td>\n",
              "      <td>Comedy|Romance</td>\n",
              "    </tr>\n",
              "    <tr>\n",
              "      <th>4</th>\n",
              "      <td>215</td>\n",
              "      <td>122</td>\n",
              "      <td>4.5</td>\n",
              "      <td>1102493547</td>\n",
              "      <td>Boomerang (1992)</td>\n",
              "      <td>Comedy|Romance</td>\n",
              "    </tr>\n",
              "  </tbody>\n",
              "</table>\n",
              "</div>"
            ],
            "text/plain": [
              "   uid  mid  target          ts              name          geners\n",
              "0    1  122     5.0   838985046  Boomerang (1992)  Comedy|Romance\n",
              "1  139  122     3.0   974302621  Boomerang (1992)  Comedy|Romance\n",
              "2  149  122     2.5  1112342322  Boomerang (1992)  Comedy|Romance\n",
              "3  182  122     3.0   943458784  Boomerang (1992)  Comedy|Romance\n",
              "4  215  122     4.5  1102493547  Boomerang (1992)  Comedy|Romance"
            ]
          },
          "metadata": {
            "tags": []
          },
          "execution_count": 13
        }
      ]
    },
    {
      "cell_type": "code",
      "metadata": {
        "id": "om25lWIPWHw6"
      },
      "source": [
        "movie_ratings = nr"
      ],
      "execution_count": 8,
      "outputs": []
    },
    {
      "cell_type": "code",
      "metadata": {
        "colab": {
          "base_uri": "https://localhost:8080/",
          "height": 198
        },
        "id": "LZ_zFNQCWglV",
        "outputId": "f7175b2d-17f3-4c41-a4c1-52b536539cad"
      },
      "source": [
        "data = CollabDataBunch.from_df(movie_ratings, user_name = 'uid', item_name = 'name', rating_name='target')\n",
        "data.show_batch()"
      ],
      "execution_count": 11,
      "outputs": [
        {
          "output_type": "display_data",
          "data": {
            "text/html": [
              "<table border=\"1\" class=\"dataframe\">\n",
              "  <thead>\n",
              "    <tr style=\"text-align: right;\">\n",
              "      <th>uid</th>\n",
              "      <th>name</th>\n",
              "      <th>target</th>\n",
              "    </tr>\n",
              "  </thead>\n",
              "  <tbody>\n",
              "    <tr>\n",
              "      <td>31433</td>\n",
              "      <td>Wanted (2008)</td>\n",
              "      <td>3.5</td>\n",
              "    </tr>\n",
              "    <tr>\n",
              "      <td>46147</td>\n",
              "      <td>Raiders of the Lost Ark (Indiana Jones and the Raiders of the Lost Ark) (1981)</td>\n",
              "      <td>4.0</td>\n",
              "    </tr>\n",
              "    <tr>\n",
              "      <td>450</td>\n",
              "      <td>Austin Powers in Goldmember (2002)</td>\n",
              "      <td>1.0</td>\n",
              "    </tr>\n",
              "    <tr>\n",
              "      <td>44474</td>\n",
              "      <td>Chicken Run (2000)</td>\n",
              "      <td>4.0</td>\n",
              "    </tr>\n",
              "    <tr>\n",
              "      <td>20019</td>\n",
              "      <td>Mystery Science Theater 3000: The Movie (1996)</td>\n",
              "      <td>5.0</td>\n",
              "    </tr>\n",
              "  </tbody>\n",
              "</table>"
            ],
            "text/plain": [
              "<IPython.core.display.HTML object>"
            ]
          },
          "metadata": {
            "tags": []
          }
        }
      ]
    },
    {
      "cell_type": "code",
      "metadata": {
        "colab": {
          "base_uri": "https://localhost:8080/"
        },
        "id": "ikVRYzoyW5Q8",
        "outputId": "cac13736-dc39-445c-973c-ddd9864074ba"
      },
      "source": [
        "data"
      ],
      "execution_count": 13,
      "outputs": [
        {
          "output_type": "execute_result",
          "data": {
            "text/plain": [
              "TabularDataBunch;\n",
              "\n",
              "Train: LabelList (8000044 items)\n",
              "x: CollabList\n",
              "uid 1; name Boomerang (1992); ,uid 139; name Boomerang (1992); ,uid 149; name Boomerang (1992); ,uid 215; name Boomerang (1992); ,uid 217; name Boomerang (1992); \n",
              "y: FloatList\n",
              "5.0,3.0,2.5,4.5,3.0\n",
              "Path: .;\n",
              "\n",
              "Valid: LabelList (2000010 items)\n",
              "x: CollabList\n",
              "uid 54702; name Peggy Sue Got Married (1986); ,uid 4217; name L.A. Confidential (1997); ,uid 68798; name Fantastic Voyage (1966); ,uid 28437; name Kate & Leopold (2001); ,uid 27022; name Harry Potter and the Sorcerer's Stone (a.k.a. Harry Potter and the Philosopher's Stone) (2001); \n",
              "y: FloatList\n",
              "2.0,5.0,4.0,2.5,3.0\n",
              "Path: .;\n",
              "\n",
              "Test: None"
            ]
          },
          "metadata": {
            "tags": []
          },
          "execution_count": 13
        }
      ]
    },
    {
      "cell_type": "code",
      "metadata": {
        "colab": {
          "base_uri": "https://localhost:8080/",
          "height": 273
        },
        "id": "deAXr-msMnkW",
        "outputId": "bd39c261-ebbb-40d1-b059-b5f62f410f34"
      },
      "source": [
        "doc(collab_learner)"
      ],
      "execution_count": 17,
      "outputs": [
        {
          "output_type": "display_data",
          "data": {
            "text/html": [
              "<h4 id=\"collab_learner\" class=\"doc_header\"><code>collab_learner</code><a href=\"https://github.com/fastai/fastai/blob/master/fastai/collab.py#L96\" class=\"source_link\" style=\"float:right\">[source]</a><a class=\"source_link\" data-toggle=\"collapse\" data-target=\"#collab_learner-pytest\" style=\"float:right; padding-right:10px\">[test]</a></h4><blockquote><p><code>collab_learner</code>(<strong><code>data</code></strong>, <strong><code>n_factors</code></strong>:<code>int</code>=<strong><em><code>None</code></em></strong>, <strong><code>use_nn</code></strong>:<code>bool</code>=<strong><em><code>False</code></em></strong>, <strong><code>emb_szs</code></strong>:<code>Dict</code>[<code>str</code>, <code>int</code>]=<strong><em><code>None</code></em></strong>, <strong><code>layers</code></strong>:<code>Collection</code>[<code>int</code>]=<strong><em><code>None</code></em></strong>, <strong><code>ps</code></strong>:<code>Collection</code>[<code>float</code>]=<strong><em><code>None</code></em></strong>, <strong><code>emb_drop</code></strong>:<code>float</code>=<strong><em><code>0.0</code></em></strong>, <strong><code>y_range</code></strong>:<code>OptRange</code>=<strong><em><code>None</code></em></strong>, <strong><code>use_bn</code></strong>:<code>bool</code>=<strong><em><code>True</code></em></strong>, <strong><code>bn_final</code></strong>:<code>bool</code>=<strong><em><code>False</code></em></strong>, <strong>**<code>learn_kwargs</code></strong>) → <a href=\"https://docs.fast.ai/basic_train.html#Learner\"><code>Learner</code></a></p>\n",
              "</blockquote>\n",
              "<div class=\"collapse\" id=\"collab_learner-pytest\"><div class=\"card card-body pytest_card\"><a type=\"button\" data-toggle=\"collapse\" data-target=\"#collab_learner-pytest\" class=\"close\" aria-label=\"Close\"><span aria-hidden=\"true\">&times;</span></a><p>Tests found for <code>collab_learner</code>:</p><ul><li><code>pytest -sv tests/test_collab_train.py::test_val_loss</code> <a href=\"https://github.com/fastai/fastai/blob/master/tests/test_collab_train.py#L16\" class=\"source_link\" style=\"float:right\">[source]</a></li></ul><p>To run tests please refer to this <a href=\"/dev/test.html#quick-guide\">guide</a>.</p></div></div><p>Create a Learner for collaborative filtering on <code>data</code>.</p>\n",
              "<p><a href=\"https://docs.fast.ai/collab.html#collab_learner\" target=\"_blank\" rel=\"noreferrer noopener\">Show in docs</a></p>\n"
            ],
            "text/plain": [
              "<IPython.core.display.HTML object>"
            ]
          },
          "metadata": {
            "tags": []
          }
        }
      ]
    },
    {
      "cell_type": "code",
      "metadata": {
        "colab": {
          "base_uri": "https://localhost:8080/"
        },
        "id": "VmgoO27cW7Du",
        "outputId": "739da719-57fb-43ab-f06b-cc78e1c0916a"
      },
      "source": [
        "learn = collab_learner(data, n_factors = 50, y_range = [0, 5.5], metrics = accuracy)\n",
        "learn"
      ],
      "execution_count": 20,
      "outputs": [
        {
          "output_type": "execute_result",
          "data": {
            "text/plain": [
              "CollabLearner(data=TabularDataBunch;\n",
              "\n",
              "Train: LabelList (8000044 items)\n",
              "x: CollabList\n",
              "uid 1; name Boomerang (1992); ,uid 139; name Boomerang (1992); ,uid 149; name Boomerang (1992); ,uid 182; name Boomerang (1992); ,uid 215; name Boomerang (1992); \n",
              "y: FloatList\n",
              "5.0,3.0,2.5,3.0,4.5\n",
              "Path: .;\n",
              "\n",
              "Valid: LabelList (2000010 items)\n",
              "x: CollabList\n",
              "uid 51011; name Chinatown (1974); ,uid 56560; name GoldenEye (1995); ,uid 14806; name Dr. Strangelove or: How I Learned to Stop Worrying and Love the Bomb (1964); ,uid 67872; name Breakfast Club, The (1985); ,uid 64969; name High Fidelity (2000); \n",
              "y: FloatList\n",
              "5.0,3.0,3.0,5.0,4.0\n",
              "Path: .;\n",
              "\n",
              "Test: None, model=EmbeddingDotBias(\n",
              "  (u_weight): Embedding(69879, 50)\n",
              "  (i_weight): Embedding(10656, 50)\n",
              "  (u_bias): Embedding(69879, 1)\n",
              "  (i_bias): Embedding(10656, 1)\n",
              "), opt_func=functools.partial(<class 'torch.optim.adam.Adam'>, betas=(0.9, 0.99)), loss_func=FlattenedLoss of MSELoss(), metrics=[<function accuracy at 0x7eff04f269d8>], true_wd=True, bn_wd=True, wd=0.01, train_bn=True, path=PosixPath('.'), model_dir='models', callback_fns=[functools.partial(<class 'fastai.basic_train.Recorder'>, add_time=True, silent=False)], callbacks=[], layer_groups=[Sequential(\n",
              "  (0): Embedding(69879, 50)\n",
              "  (1): Embedding(10656, 50)\n",
              "  (2): Embedding(69879, 1)\n",
              "  (3): Embedding(10656, 1)\n",
              ")], add_time=True, silent=False)"
            ]
          },
          "metadata": {
            "tags": []
          },
          "execution_count": 20
        }
      ]
    },
    {
      "cell_type": "code",
      "metadata": {
        "id": "e46ftl4wM3p0"
      },
      "source": [
        "learn.fit(2)"
      ],
      "execution_count": null,
      "outputs": []
    },
    {
      "cell_type": "code",
      "metadata": {
        "colab": {
          "base_uri": "https://localhost:8080/",
          "height": 198
        },
        "id": "v4v8jVUtQ5G0",
        "outputId": "29f726ac-25cd-4937-faa7-9e8d88deb3d5"
      },
      "source": [
        "movie_ratings.head()"
      ],
      "execution_count": 37,
      "outputs": [
        {
          "output_type": "execute_result",
          "data": {
            "text/html": [
              "<div>\n",
              "<style scoped>\n",
              "    .dataframe tbody tr th:only-of-type {\n",
              "        vertical-align: middle;\n",
              "    }\n",
              "\n",
              "    .dataframe tbody tr th {\n",
              "        vertical-align: top;\n",
              "    }\n",
              "\n",
              "    .dataframe thead th {\n",
              "        text-align: right;\n",
              "    }\n",
              "</style>\n",
              "<table border=\"1\" class=\"dataframe\">\n",
              "  <thead>\n",
              "    <tr style=\"text-align: right;\">\n",
              "      <th></th>\n",
              "      <th>uid</th>\n",
              "      <th>mid</th>\n",
              "      <th>target</th>\n",
              "      <th>ts</th>\n",
              "      <th>name</th>\n",
              "      <th>geners</th>\n",
              "    </tr>\n",
              "  </thead>\n",
              "  <tbody>\n",
              "    <tr>\n",
              "      <th>0</th>\n",
              "      <td>1</td>\n",
              "      <td>122</td>\n",
              "      <td>5.0</td>\n",
              "      <td>838985046</td>\n",
              "      <td>Boomerang (1992)</td>\n",
              "      <td>Comedy|Romance</td>\n",
              "    </tr>\n",
              "    <tr>\n",
              "      <th>1</th>\n",
              "      <td>139</td>\n",
              "      <td>122</td>\n",
              "      <td>3.0</td>\n",
              "      <td>974302621</td>\n",
              "      <td>Boomerang (1992)</td>\n",
              "      <td>Comedy|Romance</td>\n",
              "    </tr>\n",
              "    <tr>\n",
              "      <th>2</th>\n",
              "      <td>149</td>\n",
              "      <td>122</td>\n",
              "      <td>2.5</td>\n",
              "      <td>1112342322</td>\n",
              "      <td>Boomerang (1992)</td>\n",
              "      <td>Comedy|Romance</td>\n",
              "    </tr>\n",
              "    <tr>\n",
              "      <th>3</th>\n",
              "      <td>182</td>\n",
              "      <td>122</td>\n",
              "      <td>3.0</td>\n",
              "      <td>943458784</td>\n",
              "      <td>Boomerang (1992)</td>\n",
              "      <td>Comedy|Romance</td>\n",
              "    </tr>\n",
              "    <tr>\n",
              "      <th>4</th>\n",
              "      <td>215</td>\n",
              "      <td>122</td>\n",
              "      <td>4.5</td>\n",
              "      <td>1102493547</td>\n",
              "      <td>Boomerang (1992)</td>\n",
              "      <td>Comedy|Romance</td>\n",
              "    </tr>\n",
              "  </tbody>\n",
              "</table>\n",
              "</div>"
            ],
            "text/plain": [
              "   uid  mid  target          ts              name          geners\n",
              "0    1  122     5.0   838985046  Boomerang (1992)  Comedy|Romance\n",
              "1  139  122     3.0   974302621  Boomerang (1992)  Comedy|Romance\n",
              "2  149  122     2.5  1112342322  Boomerang (1992)  Comedy|Romance\n",
              "3  182  122     3.0   943458784  Boomerang (1992)  Comedy|Romance\n",
              "4  215  122     4.5  1102493547  Boomerang (1992)  Comedy|Romance"
            ]
          },
          "metadata": {
            "tags": []
          },
          "execution_count": 37
        }
      ]
    },
    {
      "cell_type": "code",
      "metadata": {
        "colab": {
          "base_uri": "https://localhost:8080/"
        },
        "id": "aUjGnotRPSrT",
        "outputId": "2cdab836-51d0-4b7c-a8e5-64111fcda79a"
      },
      "source": [
        "#test\n",
        "us, ms = set(), set()\n",
        "for u, i in zip(movie_ratings['uid'], movie_ratings['name']):\n",
        "  us.add(u)\n",
        "  ms.add(i)\n",
        "len(us), len(ms)"
      ],
      "execution_count": 9,
      "outputs": [
        {
          "output_type": "execute_result",
          "data": {
            "text/plain": [
              "(69878, 10676)"
            ]
          },
          "metadata": {
            "tags": []
          },
          "execution_count": 9
        }
      ]
    },
    {
      "cell_type": "code",
      "metadata": {
        "id": "WR1YH49bRIf1"
      },
      "source": [
        "nu, ni = 69878, 10676"
      ],
      "execution_count": 10,
      "outputs": []
    },
    {
      "cell_type": "code",
      "metadata": {
        "colab": {
          "base_uri": "https://localhost:8080/"
        },
        "id": "LPPrLue-RZPj",
        "outputId": "768a642c-a9a8-4d5d-e361-ce62b4cb5ca5"
      },
      "source": [
        "for batch in data.train_dl:\n",
        "  break\n",
        "batch"
      ],
      "execution_count": 42,
      "outputs": [
        {
          "output_type": "execute_result",
          "data": {
            "text/plain": [
              "[[tensor([31320,  5348,  8489, 39559, 53452, 15750, 51311, 53133, 47793,  1414,\n",
              "            679, 54491,  2249, 59086, 54811, 53449, 15925, 42915, 34821, 68676,\n",
              "          49082, 48540, 67359, 51781, 28838, 55884, 52121, 35575, 47883,  2465,\n",
              "          68419, 10501, 39418, 54901, 41533, 57458, 29850, 63720,  8976, 11219,\n",
              "          24645, 60032, 56205,  9658, 15134, 10153, 59944,  1234, 30699, 10376,\n",
              "          30248, 68618, 52967, 15620, 66447, 33580, 52490, 58044, 20533, 68030,\n",
              "          37276, 50322, 63016, 54244], device='cuda:0'),\n",
              "  tensor([ 2084,  8892,  1346,  9707,  4620,  7648,  2391,  6510,  9933, 10539,\n",
              "           2348,  6356,  9157,  3576,  1475,  9664,   386,  5328,  8307,   806,\n",
              "           3027,  1791,  1600,  9629,  6114,  7648,  6518,  5918,  3690,   167,\n",
              "           1008,    31,  2836,  7562, 10592,  7278, 10023,   960,  8963,  1633,\n",
              "           7377,  5761,  6271,  5368,  2093,  9445,  7444,  8723,  7675,  7366,\n",
              "           4443,  4823,  9784,  4981,  8640,  6806,  1705,  2142,  1543, 10476,\n",
              "            828,  3302,  3770,  3840], device='cuda:0')],\n",
              " tensor([5.0000, 4.0000, 4.5000, 5.0000, 5.0000, 5.0000, 3.0000, 4.0000, 3.0000,\n",
              "         3.0000, 5.0000, 4.5000, 3.0000, 4.0000, 3.0000, 3.0000, 4.0000, 5.0000,\n",
              "         4.0000, 5.0000, 3.5000, 4.0000, 4.0000, 1.0000, 4.0000, 4.0000, 3.0000,\n",
              "         4.0000, 1.0000, 5.0000, 3.0000, 4.0000, 3.0000, 1.0000, 4.0000, 5.0000,\n",
              "         3.5000, 3.0000, 5.0000, 3.0000, 3.5000, 2.0000, 4.0000, 2.0000, 3.0000,\n",
              "         4.0000, 2.0000, 5.0000, 4.0000, 3.0000, 4.0000, 4.0000, 2.0000, 0.5000,\n",
              "         5.0000, 3.0000, 2.0000, 3.0000, 2.0000, 4.5000, 3.0000, 5.0000, 3.0000,\n",
              "         4.0000], device='cuda:0')]"
            ]
          },
          "metadata": {
            "tags": []
          },
          "execution_count": 42
        }
      ]
    },
    {
      "cell_type": "code",
      "metadata": {
        "id": "tTQEMuohRsHj"
      },
      "source": [
        "batch[0][0] = batch[0][0].cpu()\n",
        "batch[0][1] = batch[0][1].cpu()\n",
        "batch[1][0] = batch[1][0].cpu()\n",
        "u, i  = batch[0]\n",
        "y = batch[1]"
      ],
      "execution_count": 46,
      "outputs": []
    },
    {
      "cell_type": "code",
      "metadata": {
        "id": "riTxG1YXRNRB"
      },
      "source": [
        "#test\n",
        "ue = nn.Embedding(nu, 40)\n",
        "ie = nn.Embedding(ni, 40)\n",
        "ub = nn.Embedding(nu, 1)\n",
        "ib = nn.Embedding(ni, 1)"
      ],
      "execution_count": 48,
      "outputs": []
    },
    {
      "cell_type": "code",
      "metadata": {
        "colab": {
          "base_uri": "https://localhost:8080/"
        },
        "id": "ANeuN-vDSuky",
        "outputId": "739fc716-61d6-4525-fdf7-dd027212081d"
      },
      "source": [
        "#test\n",
        "dot = ue(u) * ie(i)\n",
        "dot_sum = dot.sum(1) + ub(u).squeeze(1) + ib(i).squeeze(1)\n",
        "\n",
        "u.shape, i.shape, dot.shape, dot.sum(0).shape, dot.sum(1).shape, ub(u).squeeze(1).shape, ib(i).shape, dot_sum.shape"
      ],
      "execution_count": 56,
      "outputs": [
        {
          "output_type": "execute_result",
          "data": {
            "text/plain": [
              "(torch.Size([64]),\n",
              " torch.Size([64]),\n",
              " torch.Size([64, 40]),\n",
              " torch.Size([40]),\n",
              " torch.Size([64]),\n",
              " torch.Size([64]),\n",
              " torch.Size([64, 1]),\n",
              " torch.Size([64]))"
            ]
          },
          "metadata": {
            "tags": []
          },
          "execution_count": 56
        }
      ]
    },
    {
      "cell_type": "code",
      "metadata": {
        "id": "OlsgdE-TNS7r"
      },
      "source": [
        "y_range = [0., 5.5]\n",
        "class MyModel(nn.Module):\n",
        "\n",
        "  def __init__(self, n_factors = 50, nu = nu, ni = ni, y_range = y_range):\n",
        "    \n",
        "    super().__init__()\n",
        "\n",
        "    self.u_emb = nn.Embedding(nu, n_factors)\n",
        "    self.i_emb = nn.Embedding(ni, n_factors)\n",
        "    self.u_bias = nn.Embedding(nu, 1)\n",
        "    self.i_bias = nn.Embedding(ni, 1)\n",
        "    self.y_range = y_range\n",
        "\n",
        "  def range_sigmoid(self, values, range):\n",
        "    return (torch.sigmoid(values) * (range[1] - range[0])) + range[0]\n",
        "\n",
        "  def forward(self, u, i):\n",
        "    dot = self.u_emb(u) * self.i_emb(i)\n",
        "    res = dot.sum(1) + self.u_bias(u).squeeze(1) + self.i_bias(i).squeeze(1)\n",
        "    return self.range_sigmoid(res, self.y_range)"
      ],
      "execution_count": 23,
      "outputs": []
    },
    {
      "cell_type": "code",
      "metadata": {
        "id": "PsAjejmGjaVY"
      },
      "source": [
        "loss_func = MSELossFlat()"
      ],
      "execution_count": 20,
      "outputs": []
    },
    {
      "cell_type": "code",
      "metadata": {
        "colab": {
          "base_uri": "https://localhost:8080/"
        },
        "id": "_tvlj6rWZXTH",
        "outputId": "1831b511-9002-4ad4-ac45-509e4c840d9c"
      },
      "source": [
        "res = mod(u, i)\n",
        "res.shape, y.shape\n",
        "loss_func(res, y.cpu())"
      ],
      "execution_count": 77,
      "outputs": [
        {
          "output_type": "execute_result",
          "data": {
            "text/plain": [
              "tensor(7.5243, grad_fn=<MseLossBackward>)"
            ]
          },
          "metadata": {
            "tags": []
          },
          "execution_count": 77
        }
      ]
    },
    {
      "cell_type": "code",
      "metadata": {
        "colab": {
          "base_uri": "https://localhost:8080/"
        },
        "id": "RUvfaNO-bno5",
        "outputId": "d6169993-0bf6-43de-c8e2-c47ca02de86b"
      },
      "source": [
        "for i in mod.parameters():\n",
        "  print(i.shape)"
      ],
      "execution_count": 79,
      "outputs": [
        {
          "output_type": "stream",
          "text": [
            "torch.Size([69878, 50])\n",
            "torch.Size([10676, 50])\n",
            "torch.Size([69878, 1])\n",
            "torch.Size([10676, 1])\n"
          ],
          "name": "stdout"
        }
      ]
    },
    {
      "cell_type": "code",
      "metadata": {
        "id": "AOnz7LwIdgyC"
      },
      "source": [
        "import os\n",
        "os.environ['CUDA_LAUNCH_BLOCKING'] = \"1\""
      ],
      "execution_count": 90,
      "outputs": []
    },
    {
      "cell_type": "code",
      "metadata": {
        "colab": {
          "base_uri": "https://localhost:8080/"
        },
        "id": "nPs7kgwagKwW",
        "outputId": "580c717c-1ad4-4feb-e0ed-7604a7e6b0f0"
      },
      "source": [
        "nu, ni"
      ],
      "execution_count": 95,
      "outputs": [
        {
          "output_type": "execute_result",
          "data": {
            "text/plain": [
              "(69878, 10676)"
            ]
          },
          "metadata": {
            "tags": []
          },
          "execution_count": 95
        }
      ]
    },
    {
      "cell_type": "code",
      "metadata": {
        "id": "KxWXitp5ccro"
      },
      "source": [
        "model = MyModel(n_factors= 40, nu = nu, ni = ni, y_range = [0., 5.5])"
      ],
      "execution_count": 24,
      "outputs": []
    },
    {
      "cell_type": "code",
      "metadata": {
        "id": "vBLKUwuZgPq9"
      },
      "source": [
        "model = model.cuda()"
      ],
      "execution_count": 25,
      "outputs": []
    },
    {
      "cell_type": "code",
      "metadata": {
        "id": "B7CjOyRFZci-"
      },
      "source": [
        "def update(data = data, epocs = 1, loss_func = loss_func, lr = 1e-04):\n",
        "  losses = []\n",
        "  count = 0\n",
        "  for x, y in data.train_dl:\n",
        "    res = model(*x)\n",
        "    loss = loss_func(res, y)\n",
        "    loss.backward()\n",
        "    with torch.no_grad():\n",
        "      for param in model.parameters():\n",
        "        param.sub_(lr*param.grad)\n",
        "        param.grad.zero_()\n",
        "    # losses.append(loss.item())\n",
        "    count += 1\n",
        "    if count%10 == 0: print(loss.item())\n",
        "  return losses"
      ],
      "execution_count": 28,
      "outputs": []
    },
    {
      "cell_type": "code",
      "metadata": {
        "colab": {
          "base_uri": "https://localhost:8080/",
          "height": 949
        },
        "id": "lTOnzPxkcDzi",
        "outputId": "c929b4dc-2b42-4c07-9497-6bb9184b4931"
      },
      "source": [
        "update()"
      ],
      "execution_count": 29,
      "outputs": [
        {
          "output_type": "stream",
          "text": [
            "6.338931083679199\n",
            "6.946404457092285\n",
            "7.683653831481934\n",
            "7.5213470458984375\n",
            "6.128991603851318\n",
            "6.006279945373535\n",
            "6.327934741973877\n",
            "7.9012017250061035\n",
            "7.225693702697754\n",
            "6.87947940826416\n",
            "7.624650955200195\n",
            "7.841183662414551\n",
            "7.872495651245117\n",
            "7.086635589599609\n",
            "7.912225723266602\n",
            "7.267127990722656\n",
            "7.162967205047607\n",
            "7.234475612640381\n",
            "7.07453727722168\n",
            "8.272802352905273\n",
            "7.269065856933594\n",
            "6.943909168243408\n",
            "7.463301181793213\n",
            "8.199300765991211\n",
            "6.584710121154785\n",
            "6.694016456604004\n",
            "7.370622634887695\n",
            "6.5701494216918945\n",
            "7.135500907897949\n",
            "6.611797332763672\n",
            "6.545305252075195\n",
            "8.228529930114746\n",
            "8.116586685180664\n",
            "7.8083672523498535\n",
            "7.718442916870117\n",
            "7.608083248138428\n"
          ],
          "name": "stdout"
        },
        {
          "output_type": "error",
          "ename": "RuntimeError",
          "evalue": "ignored",
          "traceback": [
            "\u001b[0;31m---------------------------------------------------------------------------\u001b[0m",
            "\u001b[0;31mRuntimeError\u001b[0m                              Traceback (most recent call last)",
            "\u001b[0;32m<ipython-input-29-1b4527802232>\u001b[0m in \u001b[0;36m<module>\u001b[0;34m()\u001b[0m\n\u001b[0;32m----> 1\u001b[0;31m \u001b[0mupdate\u001b[0m\u001b[0;34m(\u001b[0m\u001b[0;34m)\u001b[0m\u001b[0;34m\u001b[0m\u001b[0;34m\u001b[0m\u001b[0m\n\u001b[0m",
            "\u001b[0;32m<ipython-input-28-12f35334363c>\u001b[0m in \u001b[0;36mupdate\u001b[0;34m(data, epocs, loss_func, lr)\u001b[0m\n\u001b[1;32m      5\u001b[0m     \u001b[0mres\u001b[0m \u001b[0;34m=\u001b[0m \u001b[0mmodel\u001b[0m\u001b[0;34m(\u001b[0m\u001b[0;34m*\u001b[0m\u001b[0mx\u001b[0m\u001b[0;34m)\u001b[0m\u001b[0;34m\u001b[0m\u001b[0;34m\u001b[0m\u001b[0m\n\u001b[1;32m      6\u001b[0m     \u001b[0mloss\u001b[0m \u001b[0;34m=\u001b[0m \u001b[0mloss_func\u001b[0m\u001b[0;34m(\u001b[0m\u001b[0mres\u001b[0m\u001b[0;34m,\u001b[0m \u001b[0my\u001b[0m\u001b[0;34m)\u001b[0m\u001b[0;34m\u001b[0m\u001b[0;34m\u001b[0m\u001b[0m\n\u001b[0;32m----> 7\u001b[0;31m     \u001b[0mloss\u001b[0m\u001b[0;34m.\u001b[0m\u001b[0mbackward\u001b[0m\u001b[0;34m(\u001b[0m\u001b[0;34m)\u001b[0m\u001b[0;34m\u001b[0m\u001b[0;34m\u001b[0m\u001b[0m\n\u001b[0m\u001b[1;32m      8\u001b[0m     \u001b[0;32mwith\u001b[0m \u001b[0mtorch\u001b[0m\u001b[0;34m.\u001b[0m\u001b[0mno_grad\u001b[0m\u001b[0;34m(\u001b[0m\u001b[0;34m)\u001b[0m\u001b[0;34m:\u001b[0m\u001b[0;34m\u001b[0m\u001b[0;34m\u001b[0m\u001b[0m\n\u001b[1;32m      9\u001b[0m       \u001b[0;32mfor\u001b[0m \u001b[0mparam\u001b[0m \u001b[0;32min\u001b[0m \u001b[0mmodel\u001b[0m\u001b[0;34m.\u001b[0m\u001b[0mparameters\u001b[0m\u001b[0;34m(\u001b[0m\u001b[0;34m)\u001b[0m\u001b[0;34m:\u001b[0m\u001b[0;34m\u001b[0m\u001b[0;34m\u001b[0m\u001b[0m\n",
            "\u001b[0;32m/usr/local/lib/python3.6/dist-packages/torch/tensor.py\u001b[0m in \u001b[0;36mbackward\u001b[0;34m(self, gradient, retain_graph, create_graph)\u001b[0m\n\u001b[1;32m    219\u001b[0m                 \u001b[0mretain_graph\u001b[0m\u001b[0;34m=\u001b[0m\u001b[0mretain_graph\u001b[0m\u001b[0;34m,\u001b[0m\u001b[0;34m\u001b[0m\u001b[0;34m\u001b[0m\u001b[0m\n\u001b[1;32m    220\u001b[0m                 create_graph=create_graph)\n\u001b[0;32m--> 221\u001b[0;31m         \u001b[0mtorch\u001b[0m\u001b[0;34m.\u001b[0m\u001b[0mautograd\u001b[0m\u001b[0;34m.\u001b[0m\u001b[0mbackward\u001b[0m\u001b[0;34m(\u001b[0m\u001b[0mself\u001b[0m\u001b[0;34m,\u001b[0m \u001b[0mgradient\u001b[0m\u001b[0;34m,\u001b[0m \u001b[0mretain_graph\u001b[0m\u001b[0;34m,\u001b[0m \u001b[0mcreate_graph\u001b[0m\u001b[0;34m)\u001b[0m\u001b[0;34m\u001b[0m\u001b[0;34m\u001b[0m\u001b[0m\n\u001b[0m\u001b[1;32m    222\u001b[0m \u001b[0;34m\u001b[0m\u001b[0m\n\u001b[1;32m    223\u001b[0m     \u001b[0;32mdef\u001b[0m \u001b[0mregister_hook\u001b[0m\u001b[0;34m(\u001b[0m\u001b[0mself\u001b[0m\u001b[0;34m,\u001b[0m \u001b[0mhook\u001b[0m\u001b[0;34m)\u001b[0m\u001b[0;34m:\u001b[0m\u001b[0;34m\u001b[0m\u001b[0;34m\u001b[0m\u001b[0m\n",
            "\u001b[0;32m/usr/local/lib/python3.6/dist-packages/torch/autograd/__init__.py\u001b[0m in \u001b[0;36mbackward\u001b[0;34m(tensors, grad_tensors, retain_graph, create_graph, grad_variables)\u001b[0m\n\u001b[1;32m    130\u001b[0m     Variable._execution_engine.run_backward(\n\u001b[1;32m    131\u001b[0m         \u001b[0mtensors\u001b[0m\u001b[0;34m,\u001b[0m \u001b[0mgrad_tensors_\u001b[0m\u001b[0;34m,\u001b[0m \u001b[0mretain_graph\u001b[0m\u001b[0;34m,\u001b[0m \u001b[0mcreate_graph\u001b[0m\u001b[0;34m,\u001b[0m\u001b[0;34m\u001b[0m\u001b[0;34m\u001b[0m\u001b[0m\n\u001b[0;32m--> 132\u001b[0;31m         allow_unreachable=True)  # allow_unreachable flag\n\u001b[0m\u001b[1;32m    133\u001b[0m \u001b[0;34m\u001b[0m\u001b[0m\n\u001b[1;32m    134\u001b[0m \u001b[0;34m\u001b[0m\u001b[0m\n",
            "\u001b[0;31mRuntimeError\u001b[0m: CUDA error: device-side assert triggered"
          ]
        }
      ]
    }
  ]
}