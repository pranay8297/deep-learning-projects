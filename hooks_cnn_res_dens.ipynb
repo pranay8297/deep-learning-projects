{
  "nbformat": 4,
  "nbformat_minor": 0,
  "metadata": {
    "colab": {
      "name": "hooks_cnn_res_dens.ipynb",
      "provenance": [],
      "collapsed_sections": [],
      "machine_shape": "hm",
      "authorship_tag": "ABX9TyOH241hmJrroVnRqrIexQAH",
      "include_colab_link": true
    },
    "kernelspec": {
      "name": "python3",
      "display_name": "Python 3"
    },
    "accelerator": "GPU"
  },
  "cells": [
    {
      "cell_type": "markdown",
      "metadata": {
        "id": "view-in-github",
        "colab_type": "text"
      },
      "source": [
        "<a href=\"https://colab.research.google.com/github/pranay8297/deep-learning-projects/blob/master/hooks_cnn_res_dens.ipynb\" target=\"_parent\"><img src=\"https://colab.research.google.com/assets/colab-badge.svg\" alt=\"Open In Colab\"/></a>"
      ]
    },
    {
      "cell_type": "code",
      "metadata": {
        "id": "HrM4K6PXK3aM",
        "outputId": "284799b0-8ca2-4b0b-ec04-1ac229b993a0",
        "colab": {
          "base_uri": "https://localhost:8080/",
          "height": 331
        }
      },
      "source": [
        "!pip install \"torch==1.4\" \"torchvision==0.5.0\" #use the old version"
      ],
      "execution_count": 1,
      "outputs": [
        {
          "output_type": "stream",
          "text": [
            "Collecting torch==1.4\n",
            "\u001b[?25l  Downloading https://files.pythonhosted.org/packages/24/19/4804aea17cd136f1705a5e98a00618cb8f6ccc375ad8bfa437408e09d058/torch-1.4.0-cp36-cp36m-manylinux1_x86_64.whl (753.4MB)\n",
            "\u001b[K     |████████████████████████████████| 753.4MB 20kB/s \n",
            "\u001b[?25hCollecting torchvision==0.5.0\n",
            "\u001b[?25l  Downloading https://files.pythonhosted.org/packages/7e/90/6141bf41f5655c78e24f40f710fdd4f8a8aff6c8b7c6f0328240f649bdbe/torchvision-0.5.0-cp36-cp36m-manylinux1_x86_64.whl (4.0MB)\n",
            "\u001b[K     |████████████████████████████████| 4.0MB 49.9MB/s \n",
            "\u001b[?25hRequirement already satisfied: six in /usr/local/lib/python3.6/dist-packages (from torchvision==0.5.0) (1.15.0)\n",
            "Requirement already satisfied: numpy in /usr/local/lib/python3.6/dist-packages (from torchvision==0.5.0) (1.18.5)\n",
            "Requirement already satisfied: pillow>=4.1.1 in /usr/local/lib/python3.6/dist-packages (from torchvision==0.5.0) (7.0.0)\n",
            "Installing collected packages: torch, torchvision\n",
            "  Found existing installation: torch 1.6.0+cu101\n",
            "    Uninstalling torch-1.6.0+cu101:\n",
            "      Successfully uninstalled torch-1.6.0+cu101\n",
            "  Found existing installation: torchvision 0.7.0+cu101\n",
            "    Uninstalling torchvision-0.7.0+cu101:\n",
            "      Successfully uninstalled torchvision-0.7.0+cu101\n",
            "Successfully installed torch-1.4.0 torchvision-0.5.0\n"
          ],
          "name": "stdout"
        }
      ]
    },
    {
      "cell_type": "code",
      "metadata": {
        "id": "X9motlCIrBei",
        "outputId": "0acc8125-7a8b-4a27-ebd8-040eb33ec435",
        "colab": {
          "base_uri": "https://localhost:8080/",
          "height": 397
        }
      },
      "source": [
        "!pip install ipdb\n",
        "from ipdb import set_trace as st"
      ],
      "execution_count": 2,
      "outputs": [
        {
          "output_type": "stream",
          "text": [
            "Collecting ipdb\n",
            "  Downloading https://files.pythonhosted.org/packages/44/8c/76b33b115f4f2c090e2809a0247fe777eb3832f9d606479bf0139b29ca2c/ipdb-0.13.4.tar.gz\n",
            "Requirement already satisfied: setuptools in /usr/local/lib/python3.6/dist-packages (from ipdb) (50.3.0)\n",
            "Requirement already satisfied: ipython>=5.1.0 in /usr/local/lib/python3.6/dist-packages (from ipdb) (5.5.0)\n",
            "Requirement already satisfied: decorator in /usr/local/lib/python3.6/dist-packages (from ipython>=5.1.0->ipdb) (4.4.2)\n",
            "Requirement already satisfied: pickleshare in /usr/local/lib/python3.6/dist-packages (from ipython>=5.1.0->ipdb) (0.7.5)\n",
            "Requirement already satisfied: pygments in /usr/local/lib/python3.6/dist-packages (from ipython>=5.1.0->ipdb) (2.6.1)\n",
            "Requirement already satisfied: prompt-toolkit<2.0.0,>=1.0.4 in /usr/local/lib/python3.6/dist-packages (from ipython>=5.1.0->ipdb) (1.0.18)\n",
            "Requirement already satisfied: simplegeneric>0.8 in /usr/local/lib/python3.6/dist-packages (from ipython>=5.1.0->ipdb) (0.8.1)\n",
            "Requirement already satisfied: traitlets>=4.2 in /usr/local/lib/python3.6/dist-packages (from ipython>=5.1.0->ipdb) (4.3.3)\n",
            "Requirement already satisfied: pexpect; sys_platform != \"win32\" in /usr/local/lib/python3.6/dist-packages (from ipython>=5.1.0->ipdb) (4.8.0)\n",
            "Requirement already satisfied: wcwidth in /usr/local/lib/python3.6/dist-packages (from prompt-toolkit<2.0.0,>=1.0.4->ipython>=5.1.0->ipdb) (0.2.5)\n",
            "Requirement already satisfied: six>=1.9.0 in /usr/local/lib/python3.6/dist-packages (from prompt-toolkit<2.0.0,>=1.0.4->ipython>=5.1.0->ipdb) (1.15.0)\n",
            "Requirement already satisfied: ipython-genutils in /usr/local/lib/python3.6/dist-packages (from traitlets>=4.2->ipython>=5.1.0->ipdb) (0.2.0)\n",
            "Requirement already satisfied: ptyprocess>=0.5 in /usr/local/lib/python3.6/dist-packages (from pexpect; sys_platform != \"win32\"->ipython>=5.1.0->ipdb) (0.6.0)\n",
            "Building wheels for collected packages: ipdb\n",
            "  Building wheel for ipdb (setup.py) ... \u001b[?25l\u001b[?25hdone\n",
            "  Created wheel for ipdb: filename=ipdb-0.13.4-cp36-none-any.whl size=10973 sha256=007223e0b7bf0676bd8c8d090fe4790e2616e564ca787e469119a647f063ba6e\n",
            "  Stored in directory: /root/.cache/pip/wheels/56/51/e4/c91c61e3481a1a967beb18c4ea7a2b138a63cce94170b2e206\n",
            "Successfully built ipdb\n",
            "Installing collected packages: ipdb\n",
            "Successfully installed ipdb-0.13.4\n"
          ],
          "name": "stdout"
        }
      ]
    },
    {
      "cell_type": "code",
      "metadata": {
        "id": "zDzrRFnLaDNa"
      },
      "source": [
        "from fastai import *\n",
        "from fastai.vision import *"
      ],
      "execution_count": 3,
      "outputs": []
    },
    {
      "cell_type": "code",
      "metadata": {
        "id": "FMek4DSQaI1t",
        "outputId": "077c78c1-4d68-4152-9047-76a155b644d5",
        "colab": {
          "base_uri": "https://localhost:8080/",
          "height": 69
        }
      },
      "source": [
        "path = untar_data(URLs.MNIST)\n",
        "path.ls()"
      ],
      "execution_count": 4,
      "outputs": [
        {
          "output_type": "stream",
          "text": [
            "Downloading https://s3.amazonaws.com/fast-ai-imageclas/mnist_png.tgz\n"
          ],
          "name": "stdout"
        },
        {
          "output_type": "display_data",
          "data": {
            "text/html": [
              ""
            ],
            "text/plain": [
              "<IPython.core.display.HTML object>"
            ]
          },
          "metadata": {
            "tags": []
          }
        },
        {
          "output_type": "execute_result",
          "data": {
            "text/plain": [
              "[PosixPath('/root/.fastai/data/mnist_png/training'),\n",
              " PosixPath('/root/.fastai/data/mnist_png/testing')]"
            ]
          },
          "metadata": {
            "tags": []
          },
          "execution_count": 4
        }
      ]
    },
    {
      "cell_type": "code",
      "metadata": {
        "id": "TvHv9VMgazpN",
        "outputId": "9bc5997a-14a5-4ac4-ec65-25739c45d9d4",
        "colab": {
          "base_uri": "https://localhost:8080/",
          "height": 52
        }
      },
      "source": [
        "(path/'..').ls()"
      ],
      "execution_count": 5,
      "outputs": [
        {
          "output_type": "execute_result",
          "data": {
            "text/plain": [
              "[PosixPath('/root/.fastai/data/mnist_png/../mnist_png.tgz'),\n",
              " PosixPath('/root/.fastai/data/mnist_png/../mnist_png')]"
            ]
          },
          "metadata": {
            "tags": []
          },
          "execution_count": 5
        }
      ]
    },
    {
      "cell_type": "code",
      "metadata": {
        "id": "d9YMzG3obSmp"
      },
      "source": [
        "get_label = lambda x: x.stem\n",
        "tfms = [[rand_pad(1, size = 1, mode = 'zeros')], []]"
      ],
      "execution_count": 6,
      "outputs": []
    },
    {
      "cell_type": "code",
      "metadata": {
        "id": "a_Xokiw7a4rx"
      },
      "source": [
        "src = ImageList.from_folder(path).split_by_folder(train = 'training', valid = 'testing').label_from_folder()"
      ],
      "execution_count": 7,
      "outputs": []
    },
    {
      "cell_type": "code",
      "metadata": {
        "id": "vcPsh4tcbg9T",
        "outputId": "dc449913-fefa-4414-acfa-a3e057fca11d",
        "colab": {
          "base_uri": "https://localhost:8080/",
          "height": 155
        }
      },
      "source": [
        "il = ImageList.from_folder(path)\n",
        "il.items"
      ],
      "execution_count": 8,
      "outputs": [
        {
          "output_type": "execute_result",
          "data": {
            "text/plain": [
              "array([PosixPath('/root/.fastai/data/mnist_png/training/9/49591.png'),\n",
              "       PosixPath('/root/.fastai/data/mnist_png/training/9/7335.png'),\n",
              "       PosixPath('/root/.fastai/data/mnist_png/training/9/52203.png'),\n",
              "       PosixPath('/root/.fastai/data/mnist_png/training/9/46148.png'), ...,\n",
              "       PosixPath('/root/.fastai/data/mnist_png/testing/1/4178.png'),\n",
              "       PosixPath('/root/.fastai/data/mnist_png/testing/1/7811.png'),\n",
              "       PosixPath('/root/.fastai/data/mnist_png/testing/1/5.png'),\n",
              "       PosixPath('/root/.fastai/data/mnist_png/testing/1/6044.png')], dtype=object)"
            ]
          },
          "metadata": {
            "tags": []
          },
          "execution_count": 8
        }
      ]
    },
    {
      "cell_type": "code",
      "metadata": {
        "id": "5PWtiaTfci2U",
        "outputId": "ceeb7cbe-43eb-446b-b9e4-80e39baf5de7",
        "colab": {
          "base_uri": "https://localhost:8080/",
          "height": 207
        }
      },
      "source": [
        "split = il.split_by_folder(train = 'training', valid = 'testing')\n",
        "split"
      ],
      "execution_count": 9,
      "outputs": [
        {
          "output_type": "execute_result",
          "data": {
            "text/plain": [
              "ItemLists;\n",
              "\n",
              "Train: ImageList (60000 items)\n",
              "Image (3, 28, 28),Image (3, 28, 28),Image (3, 28, 28),Image (3, 28, 28),Image (3, 28, 28)\n",
              "Path: /root/.fastai/data/mnist_png;\n",
              "\n",
              "Valid: ImageList (10000 items)\n",
              "Image (3, 28, 28),Image (3, 28, 28),Image (3, 28, 28),Image (3, 28, 28),Image (3, 28, 28)\n",
              "Path: /root/.fastai/data/mnist_png;\n",
              "\n",
              "Test: None"
            ]
          },
          "metadata": {
            "tags": []
          },
          "execution_count": 9
        }
      ]
    },
    {
      "cell_type": "code",
      "metadata": {
        "id": "sUeyZ-97dIN4",
        "outputId": "b47cde3f-ab6a-458b-fad3-7f4a9b956953",
        "colab": {
          "base_uri": "https://localhost:8080/",
          "height": 311
        }
      },
      "source": [
        "labeled = split.label_from_folder()\n",
        "labeled"
      ],
      "execution_count": 10,
      "outputs": [
        {
          "output_type": "execute_result",
          "data": {
            "text/plain": [
              "LabelLists;\n",
              "\n",
              "Train: LabelList (60000 items)\n",
              "x: ImageList\n",
              "Image (3, 28, 28),Image (3, 28, 28),Image (3, 28, 28),Image (3, 28, 28),Image (3, 28, 28)\n",
              "y: CategoryList\n",
              "9,9,9,9,9\n",
              "Path: /root/.fastai/data/mnist_png;\n",
              "\n",
              "Valid: LabelList (10000 items)\n",
              "x: ImageList\n",
              "Image (3, 28, 28),Image (3, 28, 28),Image (3, 28, 28),Image (3, 28, 28),Image (3, 28, 28)\n",
              "y: CategoryList\n",
              "9,9,9,9,9\n",
              "Path: /root/.fastai/data/mnist_png;\n",
              "\n",
              "Test: None"
            ]
          },
          "metadata": {
            "tags": []
          },
          "execution_count": 10
        }
      ]
    },
    {
      "cell_type": "code",
      "metadata": {
        "id": "EeCLvwxNdP5-",
        "outputId": "b2ef8cd2-c56e-4594-a5b0-26f121a91c12",
        "colab": {
          "base_uri": "https://localhost:8080/",
          "height": 411
        }
      },
      "source": [
        "#test\n",
        "x = rand_pad(1, 1, 'zeros')\n",
        "img = labeled.train.x[0]\n",
        "img.show(figsize = (7, 7))"
      ],
      "execution_count": 11,
      "outputs": [
        {
          "output_type": "display_data",
          "data": {
            "image/png": "[encoded data removed]",
            "text/plain": [
              "<Figure size 504x504 with 1 Axes>"
            ]
          },
          "metadata": {
            "tags": [],
            "needs_background": "light"
          }
        }
      ]
    },
    {
      "cell_type": "code",
      "metadata": {
        "id": "AuZ-tonEfnlg",
        "outputId": "24a97956-4a5e-461a-dc37-284fdfc2ebf0",
        "colab": {
          "base_uri": "https://localhost:8080/",
          "height": 191
        }
      },
      "source": [
        "doc(rand_pad)"
      ],
      "execution_count": 12,
      "outputs": [
        {
          "output_type": "display_data",
          "data": {
            "text/html": [
              "<h4 id=\"rand_pad\" class=\"doc_header\"><code>rand_pad</code><a href=\"https://github.com/fastai/fastai/blob/master/fastai/vision/transform.py#L213\" class=\"source_link\" style=\"float:right\">[source]</a><a class=\"source_link\" data-toggle=\"collapse\" data-target=\"#rand_pad-pytest\" style=\"float:right; padding-right:10px\">[test]</a></h4><blockquote><p><code>rand_pad</code>(<strong><code>padding</code></strong>:<code>int</code>, <strong><code>size</code></strong>:<code>int</code>, <strong><code>mode</code></strong>:<code>str</code>=<strong><em><code>'reflection'</code></em></strong>)</p>\n",
              "</blockquote>\n",
              "<div class=\"collapse\" id=\"rand_pad-pytest\"><div class=\"card card-body pytest_card\"><a type=\"button\" data-toggle=\"collapse\" data-target=\"#rand_pad-pytest\" class=\"close\" aria-label=\"Close\"><span aria-hidden=\"true\">&times;</span></a><p>No tests found for <code>rand_pad</code>. To contribute a test please refer to <a href=\"/dev/test.html\">this guide</a> and <a href=\"https://forums.fast.ai/t/improving-expanding-functional-tests/32929\">this discussion</a>.</p></div></div><p>Fixed <code>mode</code> <code>padding</code> and random crop of <code>size</code></p>\n",
              "<p><a href=\"https://docs.fast.ai/vision.transform.html#rand_pad\" target=\"_blank\" rel=\"noreferrer noopener\">Show in docs</a></p>\n"
            ],
            "text/plain": [
              "<IPython.core.display.HTML object>"
            ]
          },
          "metadata": {
            "tags": []
          }
        }
      ]
    },
    {
      "cell_type": "code",
      "metadata": {
        "id": "uEAJyvakemcX",
        "outputId": "d3d8bf26-9314-4f7b-a5f5-78e41c8275f5",
        "colab": {
          "base_uri": "https://localhost:8080/",
          "height": 69
        }
      },
      "source": [
        "tfms = [rand_pad(1, 28, 'zeros'), []]\n",
        "tfms"
      ],
      "execution_count": 11,
      "outputs": [
        {
          "output_type": "execute_result",
          "data": {
            "text/plain": [
              "[[RandTransform(tfm=TfmPixel (pad), kwargs={'padding': 1, 'mode': 'zeros'}, p=1.0, resolved={}, do_run=True, is_random=True, use_on_y=True),\n",
              "  RandTransform(tfm=TfmPixel (crop), kwargs={'size': 28, 'row_pct': (0, 1), 'col_pct': (0, 1)}, p=1.0, resolved={}, do_run=True, is_random=True, use_on_y=True)],\n",
              " []]"
            ]
          },
          "metadata": {
            "tags": []
          },
          "execution_count": 11
        }
      ]
    },
    {
      "cell_type": "code",
      "metadata": {
        "id": "e3hyzDfnf1WQ",
        "outputId": "2c0dafc9-391a-4fa0-b153-8500a5a8d517",
        "colab": {
          "base_uri": "https://localhost:8080/",
          "height": 311
        }
      },
      "source": [
        "transformed = labeled.transform(tfms)\n",
        "transformed"
      ],
      "execution_count": 12,
      "outputs": [
        {
          "output_type": "execute_result",
          "data": {
            "text/plain": [
              "LabelLists;\n",
              "\n",
              "Train: LabelList (60000 items)\n",
              "x: ImageList\n",
              "Image (3, 28, 28),Image (3, 28, 28),Image (3, 28, 28),Image (3, 28, 28),Image (3, 28, 28)\n",
              "y: CategoryList\n",
              "9,9,9,9,9\n",
              "Path: /root/.fastai/data/mnist_png;\n",
              "\n",
              "Valid: LabelList (10000 items)\n",
              "x: ImageList\n",
              "Image (3, 28, 28),Image (3, 28, 28),Image (3, 28, 28),Image (3, 28, 28),Image (3, 28, 28)\n",
              "y: CategoryList\n",
              "9,9,9,9,9\n",
              "Path: /root/.fastai/data/mnist_png;\n",
              "\n",
              "Test: None"
            ]
          },
          "metadata": {
            "tags": []
          },
          "execution_count": 12
        }
      ]
    },
    {
      "cell_type": "code",
      "metadata": {
        "id": "6gsjUMTEgDoh"
      },
      "source": [
        "data = transformed.databunch(bs = 64).normalize()"
      ],
      "execution_count": 13,
      "outputs": []
    },
    {
      "cell_type": "code",
      "metadata": {
        "id": "R2egEYNKgJ5L",
        "outputId": "6abdaab5-c16f-4442-be57-b3d0b21df40d",
        "colab": {
          "base_uri": "https://localhost:8080/",
          "height": 873
        }
      },
      "source": [
        "data.show_batch(rows = 3)"
      ],
      "execution_count": 14,
      "outputs": [
        {
          "output_type": "display_data",
          "data": {
            "image/png": "[encoded data removed]",
            "text/plain": [
              "<Figure size 864x864 with 9 Axes>"
            ]
          },
          "metadata": {
            "tags": [],
            "needs_background": "light"
          }
        }
      ]
    },
    {
      "cell_type": "code",
      "metadata": {
        "id": "-HZLXlJigPlB",
        "outputId": "41c0d5e3-0534-4455-9375-8e2e1a451703",
        "colab": {
          "base_uri": "https://localhost:8080/",
          "height": 415
        }
      },
      "source": [
        "#test\n",
        "img = data.train_ds.x[0]\n",
        "img.data, img.data.shape"
      ],
      "execution_count": 15,
      "outputs": [
        {
          "output_type": "execute_result",
          "data": {
            "text/plain": [
              "(tensor([[[0., 0., 0.,  ..., 0., 0., 0.],\n",
              "          [0., 0., 0.,  ..., 0., 0., 0.],\n",
              "          [0., 0., 0.,  ..., 0., 0., 0.],\n",
              "          ...,\n",
              "          [0., 0., 0.,  ..., 0., 0., 0.],\n",
              "          [0., 0., 0.,  ..., 0., 0., 0.],\n",
              "          [0., 0., 0.,  ..., 0., 0., 0.]],\n",
              " \n",
              "         [[0., 0., 0.,  ..., 0., 0., 0.],\n",
              "          [0., 0., 0.,  ..., 0., 0., 0.],\n",
              "          [0., 0., 0.,  ..., 0., 0., 0.],\n",
              "          ...,\n",
              "          [0., 0., 0.,  ..., 0., 0., 0.],\n",
              "          [0., 0., 0.,  ..., 0., 0., 0.],\n",
              "          [0., 0., 0.,  ..., 0., 0., 0.]],\n",
              " \n",
              "         [[0., 0., 0.,  ..., 0., 0., 0.],\n",
              "          [0., 0., 0.,  ..., 0., 0., 0.],\n",
              "          [0., 0., 0.,  ..., 0., 0., 0.],\n",
              "          ...,\n",
              "          [0., 0., 0.,  ..., 0., 0., 0.],\n",
              "          [0., 0., 0.,  ..., 0., 0., 0.],\n",
              "          [0., 0., 0.,  ..., 0., 0., 0.]]]), torch.Size([3, 28, 28]))"
            ]
          },
          "metadata": {
            "tags": []
          },
          "execution_count": 15
        }
      ]
    },
    {
      "cell_type": "code",
      "metadata": {
        "id": "Ob7rZzpRgrwg"
      },
      "source": [
        "#convolutional Part.... Excited again!!"
      ],
      "execution_count": 46,
      "outputs": []
    },
    {
      "cell_type": "code",
      "metadata": {
        "id": "WdkrvmANhGum",
        "outputId": "040bc80a-c601-492b-e3f7-87c4858bcef3",
        "colab": {
          "base_uri": "https://localhost:8080/",
          "height": 35
        }
      },
      "source": [
        "#test\n",
        "c = nn.Conv2d(3, 10, (3, 3))\n",
        "op = c(img.data[None])\n",
        "op.shape"
      ],
      "execution_count": 16,
      "outputs": [
        {
          "output_type": "execute_result",
          "data": {
            "text/plain": [
              "torch.Size([1, 10, 26, 26])"
            ]
          },
          "metadata": {
            "tags": []
          },
          "execution_count": 16
        }
      ]
    },
    {
      "cell_type": "code",
      "metadata": {
        "id": "a6m6QpUZieoL"
      },
      "source": [
        "def get_conv(ni, nf):\n",
        "  return nn.Conv2d(ni, nf, kernel_size=(3, 3), stride = 2, padding = 1)"
      ],
      "execution_count": 17,
      "outputs": []
    },
    {
      "cell_type": "code",
      "metadata": {
        "id": "S7K0RJ9Cir-9",
        "outputId": "497cb350-568f-4ae0-caa1-d0ec595b91d7",
        "colab": {
          "base_uri": "https://localhost:8080/",
          "height": 35
        }
      },
      "source": [
        "#test\n",
        "c = get_conv(3, 10)\n",
        "op = c(img.data[None])\n",
        "op.shape\n"
      ],
      "execution_count": 18,
      "outputs": [
        {
          "output_type": "execute_result",
          "data": {
            "text/plain": [
              "torch.Size([1, 10, 14, 14])"
            ]
          },
          "metadata": {
            "tags": []
          },
          "execution_count": 18
        }
      ]
    },
    {
      "cell_type": "code",
      "metadata": {
        "id": "GRX1HS7wjFap",
        "outputId": "478ea11d-d290-47c1-af42-f461cfb60224",
        "colab": {
          "base_uri": "https://localhost:8080/",
          "height": 35
        }
      },
      "source": [
        "#test\n",
        "c1 = get_conv(10, 20)\n",
        "op1 = c1(op)\n",
        "op1.shape"
      ],
      "execution_count": 19,
      "outputs": [
        {
          "output_type": "execute_result",
          "data": {
            "text/plain": [
              "torch.Size([1, 20, 7, 7])"
            ]
          },
          "metadata": {
            "tags": []
          },
          "execution_count": 19
        }
      ]
    },
    {
      "cell_type": "code",
      "metadata": {
        "id": "Axee56dujFyr"
      },
      "source": [
        "def get_model():\n",
        "  model = nn.Sequential(\n",
        "    get_conv(3, 10),  #14\n",
        "    nn.BatchNorm2d(10),\n",
        "    nn.ReLU(),\n",
        "    get_conv(10, 24), #7\n",
        "    nn.BatchNorm2d(24),\n",
        "    nn.ReLU(),\n",
        "    get_conv(24, 32), #4\n",
        "    nn.BatchNorm2d(32),\n",
        "    nn.ReLU(),\n",
        "    get_conv(32, 16), #2 - 16*2*2,\n",
        "    nn.BatchNorm2d(16),\n",
        "    nn.ReLU(),\n",
        "    get_conv(16, 10), #10*1*1,\n",
        "    nn.BatchNorm2d(10),\n",
        "    nn.ReLU(), #10*1*1\n",
        "    Flatten()\n",
        "  )\n",
        "  return model"
      ],
      "execution_count": 20,
      "outputs": []
    },
    {
      "cell_type": "code",
      "metadata": {
        "id": "zffcjuWemwDa",
        "outputId": "685f14f3-911f-4484-c908-ab3c9ef86c45",
        "colab": {
          "base_uri": "https://localhost:8080/",
          "height": 35
        }
      },
      "source": [
        "#test\n",
        "img.data[None].shape"
      ],
      "execution_count": 26,
      "outputs": [
        {
          "output_type": "execute_result",
          "data": {
            "text/plain": [
              "torch.Size([1, 3, 28, 28])"
            ]
          },
          "metadata": {
            "tags": []
          },
          "execution_count": 26
        }
      ]
    },
    {
      "cell_type": "code",
      "metadata": {
        "id": "lKEossHjm1xn",
        "outputId": "64a90403-0a14-4418-f01d-aa90b0c60e02",
        "colab": {
          "base_uri": "https://localhost:8080/",
          "height": 35
        }
      },
      "source": [
        "#test\n",
        "y = get_conv(3, 10)(img.data[None])\n",
        "y = nn.BatchNorm2d(10)(y)\n",
        "y = nn.ReLU()(y)\n",
        "y.shape"
      ],
      "execution_count": 27,
      "outputs": [
        {
          "output_type": "execute_result",
          "data": {
            "text/plain": [
              "torch.Size([1, 10, 14, 14])"
            ]
          },
          "metadata": {
            "tags": []
          },
          "execution_count": 27
        }
      ]
    },
    {
      "cell_type": "code",
      "metadata": {
        "id": "PIZx8ZSenIwT",
        "outputId": "a600ca27-29ed-4bbc-fa99-22bb6b77ef32",
        "colab": {
          "base_uri": "https://localhost:8080/",
          "height": 35
        }
      },
      "source": [
        "#test\n",
        "y = get_conv(10, 24)(y) #7\n",
        "y = nn.BatchNorm2d(24)(y)\n",
        "y = nn.ReLU()(y)\n",
        "y.shape"
      ],
      "execution_count": 95,
      "outputs": [
        {
          "output_type": "execute_result",
          "data": {
            "text/plain": [
              "torch.Size([1, 24, 7, 7])"
            ]
          },
          "metadata": {
            "tags": []
          },
          "execution_count": 95
        }
      ]
    },
    {
      "cell_type": "code",
      "metadata": {
        "id": "oj2OwnqenUoP",
        "outputId": "b80c251f-c6b4-413e-c76e-f9ee58aa03fd",
        "colab": {
          "base_uri": "https://localhost:8080/",
          "height": 35
        }
      },
      "source": [
        "#test\n",
        "y = get_conv(24, 32)(y) #4\n",
        "y = nn.BatchNorm2d(32)(y)\n",
        "y = nn.ReLU()(y)\n",
        "y.shape"
      ],
      "execution_count": 96,
      "outputs": [
        {
          "output_type": "execute_result",
          "data": {
            "text/plain": [
              "torch.Size([1, 32, 4, 4])"
            ]
          },
          "metadata": {
            "tags": []
          },
          "execution_count": 96
        }
      ]
    },
    {
      "cell_type": "code",
      "metadata": {
        "id": "B8qQSR_Znh_b",
        "outputId": "d1ad1f5e-44aa-4c67-915a-c02f9c470bf5",
        "colab": {
          "base_uri": "https://localhost:8080/",
          "height": 35
        }
      },
      "source": [
        "#test\n",
        "y = get_conv(32, 16)(y) #2\n",
        "y = nn.BatchNorm2d(16)(y)\n",
        "y = nn.ReLU()(y)\n",
        "y.shape"
      ],
      "execution_count": 97,
      "outputs": [
        {
          "output_type": "execute_result",
          "data": {
            "text/plain": [
              "torch.Size([1, 16, 2, 2])"
            ]
          },
          "metadata": {
            "tags": []
          },
          "execution_count": 97
        }
      ]
    },
    {
      "cell_type": "code",
      "metadata": {
        "id": "Wlu21SFNnx0a"
      },
      "source": [
        "#test\n",
        "y = get_conv(16, 10)(y) #2\n",
        "y = nn.BatchNorm2d(10)(y) #- use model.eval() -- gives error if the batch size is only one vector\n",
        "y = nn.ReLU()(y)\n",
        "y.shape"
      ],
      "execution_count": 98,
      "outputs": []
    },
    {
      "cell_type": "code",
      "metadata": {
        "id": "9z6f_4PcovpH",
        "outputId": "b4e9fd46-79e8-43e2-fa64-b7b9272d0500",
        "colab": {
          "base_uri": "https://localhost:8080/",
          "height": 35
        }
      },
      "source": [
        "#test\n",
        "res = model.eval()(img.data[None])\n",
        "res.shape"
      ],
      "execution_count": 111,
      "outputs": [
        {
          "output_type": "execute_result",
          "data": {
            "text/plain": [
              "torch.Size([1, 10])"
            ]
          },
          "metadata": {
            "tags": []
          },
          "execution_count": 111
        }
      ]
    },
    {
      "cell_type": "code",
      "metadata": {
        "id": "DZ5rMW58pvV7",
        "outputId": "e9e436bb-783a-45fc-f9c8-400b1a822e74",
        "colab": {
          "base_uri": "https://localhost:8080/",
          "height": 228
        }
      },
      "source": [
        "#test\n",
        "res, img.show()"
      ],
      "execution_count": 114,
      "outputs": [
        {
          "output_type": "execute_result",
          "data": {
            "text/plain": [
              "(tensor([[0.0316, 0.0819, 0.0000, 0.0000, 0.0000, 0.0110, 0.0156, 0.0301, 0.0094,\n",
              "          0.0000]], grad_fn=<ViewBackward>), None)"
            ]
          },
          "metadata": {
            "tags": []
          },
          "execution_count": 114
        },
        {
          "output_type": "display_data",
          "data": {
            "image/png": "[encoded data removed]",
            "text/plain": [
              "<Figure size 216x216 with 1 Axes>"
            ]
          },
          "metadata": {
            "tags": [],
            "needs_background": "light"
          }
        }
      ]
    },
    {
      "cell_type": "code",
      "metadata": {
        "id": "-MuwiqoJp-zp"
      },
      "source": [
        "loss_func = nn.CrossEntropyLoss()"
      ],
      "execution_count": 21,
      "outputs": []
    },
    {
      "cell_type": "code",
      "metadata": {
        "id": "eN5iuRECqI-L"
      },
      "source": [
        "def update(x, y, lr):\n",
        "\n",
        "  res = model(x)\n",
        "  loss = loss_func(res, y)\n",
        "  loss.backward()\n",
        "  with torch.no_grad():\n",
        "\n",
        "    for param in model.parameters():\n",
        "      param.sub_(lr*param.grad)\n",
        "      param.grad.zero_()\n",
        "  return loss.item()"
      ],
      "execution_count": 22,
      "outputs": []
    },
    {
      "cell_type": "code",
      "metadata": {
        "id": "e9H_TEg3q2_5"
      },
      "source": [
        "model = get_model().cuda()"
      ],
      "execution_count": 23,
      "outputs": []
    },
    {
      "cell_type": "code",
      "metadata": {
        "id": "_Ed5K2jUqmkw"
      },
      "source": [
        "losses = []\n",
        "wlosses = []\n",
        "lr = 1e-01\n",
        "prev_loss = 0\n",
        "model = get_model().cuda()\n",
        "for x, y in data.train_dl:\n",
        "  cl = update(x, y, lr)\n",
        "  if prev_loss == 0:\n",
        "    wloss = cl\n",
        "  else:\n",
        "    wloss = 0.1*cl + 0.9*prev_loss\n",
        "  prev_loss = wloss\n",
        "  wlosses.append(wloss)\n",
        "  losses.append(cl)"
      ],
      "execution_count": 24,
      "outputs": []
    },
    {
      "cell_type": "code",
      "metadata": {
        "id": "YMkrPFSQCsmc",
        "outputId": "94f7e45b-3f6d-49e2-a500-d4e789744136",
        "colab": {
          "base_uri": "https://localhost:8080/",
          "height": 282
        }
      },
      "source": [
        "plt.plot(losses)"
      ],
      "execution_count": 25,
      "outputs": [
        {
          "output_type": "execute_result",
          "data": {
            "text/plain": [
              "[<matplotlib.lines.Line2D at 0x7f40124527b8>]"
            ]
          },
          "metadata": {
            "tags": []
          },
          "execution_count": 25
        },
        {
          "output_type": "display_data",
          "data": {
            "image/png": "[encoded data removed]",
            "text/plain": [
              "<Figure size 432x288 with 1 Axes>"
            ]
          },
          "metadata": {
            "tags": [],
            "needs_background": "light"
          }
        }
      ]
    },
    {
      "cell_type": "code",
      "metadata": {
        "id": "V4_JDHrQEG-q",
        "outputId": "6381df91-cdcc-4845-e29f-5d0e718c0c1a",
        "colab": {
          "base_uri": "https://localhost:8080/",
          "height": 282
        }
      },
      "source": [
        "plt.plot(wlosses)"
      ],
      "execution_count": 26,
      "outputs": [
        {
          "output_type": "execute_result",
          "data": {
            "text/plain": [
              "[<matplotlib.lines.Line2D at 0x7f4012406860>]"
            ]
          },
          "metadata": {
            "tags": []
          },
          "execution_count": 26
        },
        {
          "output_type": "display_data",
          "data": {
            "image/png": "[encoded data removed]",
            "text/plain": [
              "<Figure size 432x288 with 1 Axes>"
            ]
          },
          "metadata": {
            "tags": [],
            "needs_background": "light"
          }
        }
      ]
    },
    {
      "cell_type": "code",
      "metadata": {
        "id": "UERY3mvisMMt",
        "outputId": "6f9924bc-c569-43bb-e566-92196a333ed1",
        "colab": {
          "base_uri": "https://localhost:8080/",
          "height": 373
        }
      },
      "source": [
        "learn = Learner(data, model, metrics=accuracy)\n",
        "learn.lr_find()\n",
        "learn.recorder.plot()"
      ],
      "execution_count": 27,
      "outputs": [
        {
          "output_type": "display_data",
          "data": {
            "text/html": [
              "\n",
              "    <div>\n",
              "        <style>\n",
              "            /* Turns off some styling */\n",
              "            progress {\n",
              "                /* gets rid of default border in Firefox and Opera. */\n",
              "                border: none;\n",
              "                /* Needs to be in here for Safari polyfill so background images work as expected. */\n",
              "                background-size: auto;\n",
              "            }\n",
              "            .progress-bar-interrupted, .progress-bar-interrupted::-webkit-progress-bar {\n",
              "                background: #F44336;\n",
              "            }\n",
              "        </style>\n",
              "      <progress value='0' class='' max='1' style='width:300px; height:20px; vertical-align: middle;'></progress>\n",
              "      0.00% [0/1 00:00<00:00]\n",
              "    </div>\n",
              "    \n",
              "<table border=\"1\" class=\"dataframe\">\n",
              "  <thead>\n",
              "    <tr style=\"text-align: left;\">\n",
              "      <th>epoch</th>\n",
              "      <th>train_loss</th>\n",
              "      <th>valid_loss</th>\n",
              "      <th>accuracy</th>\n",
              "      <th>time</th>\n",
              "    </tr>\n",
              "  </thead>\n",
              "  <tbody>\n",
              "  </tbody>\n",
              "</table><p>\n",
              "\n",
              "    <div>\n",
              "        <style>\n",
              "            /* Turns off some styling */\n",
              "            progress {\n",
              "                /* gets rid of default border in Firefox and Opera. */\n",
              "                border: none;\n",
              "                /* Needs to be in here for Safari polyfill so background images work as expected. */\n",
              "                background-size: auto;\n",
              "            }\n",
              "            .progress-bar-interrupted, .progress-bar-interrupted::-webkit-progress-bar {\n",
              "                background: #F44336;\n",
              "            }\n",
              "        </style>\n",
              "      <progress value='66' class='' max='937' style='width:300px; height:20px; vertical-align: middle;'></progress>\n",
              "      7.04% [66/937 00:01<00:16 0.1507]\n",
              "    </div>\n",
              "    "
            ],
            "text/plain": [
              "<IPython.core.display.HTML object>"
            ]
          },
          "metadata": {
            "tags": []
          }
        },
        {
          "output_type": "stream",
          "text": [
            "LR Finder is complete, type {learner_name}.recorder.plot() to see the graph.\n"
          ],
          "name": "stdout"
        },
        {
          "output_type": "display_data",
          "data": {
            "image/png": "[encoded data removed]",
            "text/plain": [
              "<Figure size 432x288 with 1 Axes>"
            ]
          },
          "metadata": {
            "tags": [],
            "needs_background": "light"
          }
        }
      ]
    },
    {
      "cell_type": "code",
      "metadata": {
        "id": "whiRV0KNswgI",
        "outputId": "aa935353-8580-41be-e1ca-4b2df1685f7b",
        "colab": {
          "base_uri": "https://localhost:8080/",
          "height": 138
        }
      },
      "source": [
        "learn.fit_one_cycle(3, max_lr = 1e-01)"
      ],
      "execution_count": 28,
      "outputs": [
        {
          "output_type": "display_data",
          "data": {
            "text/html": [
              "<table border=\"1\" class=\"dataframe\">\n",
              "  <thead>\n",
              "    <tr style=\"text-align: left;\">\n",
              "      <th>epoch</th>\n",
              "      <th>train_loss</th>\n",
              "      <th>valid_loss</th>\n",
              "      <th>accuracy</th>\n",
              "      <th>time</th>\n",
              "    </tr>\n",
              "  </thead>\n",
              "  <tbody>\n",
              "    <tr>\n",
              "      <td>0</td>\n",
              "      <td>0.188877</td>\n",
              "      <td>0.165986</td>\n",
              "      <td>0.943900</td>\n",
              "      <td>00:17</td>\n",
              "    </tr>\n",
              "    <tr>\n",
              "      <td>1</td>\n",
              "      <td>0.106505</td>\n",
              "      <td>0.056129</td>\n",
              "      <td>0.983900</td>\n",
              "      <td>00:16</td>\n",
              "    </tr>\n",
              "    <tr>\n",
              "      <td>2</td>\n",
              "      <td>0.052561</td>\n",
              "      <td>0.030796</td>\n",
              "      <td>0.990500</td>\n",
              "      <td>00:16</td>\n",
              "    </tr>\n",
              "  </tbody>\n",
              "</table>"
            ],
            "text/plain": [
              "<IPython.core.display.HTML object>"
            ]
          },
          "metadata": {
            "tags": []
          }
        }
      ]
    },
    {
      "cell_type": "code",
      "metadata": {
        "id": "gEOjsn57FQJ7"
      },
      "source": [
        "def get_model():\n",
        "  model = nn.Sequential(\n",
        "    get_conv_layer(3, 10),  #14\n",
        "    get_conv_layer(10, 24), #7\n",
        "    get_conv_layer(24, 32), #4\n",
        "    get_conv_layer(32, 16), #2 - 16*2*2,\n",
        "    get_conv_layer(16, 10), #10*1*1, #10*1*1\n",
        "    Flatten()\n",
        "  )\n",
        "  return model\n",
        "\n",
        "def get_conv_layer(ni, nf, stride = 2):\n",
        "  return nn.Sequential(nn.Conv2d(ni, nf, kernel_size=(3, 3), stride = stride, padding = 1), nn.BatchNorm2d(nf), nn.ReLU())\n"
      ],
      "execution_count": 29,
      "outputs": []
    },
    {
      "cell_type": "code",
      "metadata": {
        "id": "XH4FSkpIF4M0"
      },
      "source": [
        "losses = []\n",
        "wlosses = []\n",
        "lr = 1e-01\n",
        "prev_loss = 0 \n",
        "model = get_model().cuda()\n",
        "for x, y in data.train_dl:\n",
        "  cl = update(x, y, lr)\n",
        "  if prev_loss == 0:\n",
        "    wloss = cl\n",
        "  else:\n",
        "    wloss = 0.1*cl + 0.9*prev_loss\n",
        "  prev_loss = wloss\n",
        "  wlosses.append(wloss)\n",
        "  losses.append(cl)"
      ],
      "execution_count": 30,
      "outputs": []
    },
    {
      "cell_type": "code",
      "metadata": {
        "id": "qmHd41jAGp8D",
        "outputId": "e79603eb-36dd-4f3e-ff7c-b26520a64d67",
        "colab": {
          "base_uri": "https://localhost:8080/",
          "height": 282
        }
      },
      "source": [
        "plt.plot(wlosses)"
      ],
      "execution_count": 31,
      "outputs": [
        {
          "output_type": "execute_result",
          "data": {
            "text/plain": [
              "[<matplotlib.lines.Line2D at 0x7f3ffe45c668>]"
            ]
          },
          "metadata": {
            "tags": []
          },
          "execution_count": 31
        },
        {
          "output_type": "display_data",
          "data": {
            "image/png": "[encoded data removed]",
            "text/plain": [
              "<Figure size 432x288 with 1 Axes>"
            ]
          },
          "metadata": {
            "tags": [],
            "needs_background": "light"
          }
        }
      ]
    },
    {
      "cell_type": "code",
      "metadata": {
        "id": "v9dTn9XrGuEG",
        "outputId": "57815d3a-883d-4bd1-853c-f43ca8dcc78e",
        "colab": {
          "base_uri": "https://localhost:8080/",
          "height": 111
        }
      },
      "source": [
        "model = get_model().cuda()\n",
        "learn = Learner(data, model, metrics = accuracy)\n",
        "learn.lr_find()"
      ],
      "execution_count": 32,
      "outputs": [
        {
          "output_type": "display_data",
          "data": {
            "text/html": [
              "\n",
              "    <div>\n",
              "        <style>\n",
              "            /* Turns off some styling */\n",
              "            progress {\n",
              "                /* gets rid of default border in Firefox and Opera. */\n",
              "                border: none;\n",
              "                /* Needs to be in here for Safari polyfill so background images work as expected. */\n",
              "                background-size: auto;\n",
              "            }\n",
              "            .progress-bar-interrupted, .progress-bar-interrupted::-webkit-progress-bar {\n",
              "                background: #F44336;\n",
              "            }\n",
              "        </style>\n",
              "      <progress value='0' class='' max='1' style='width:300px; height:20px; vertical-align: middle;'></progress>\n",
              "      0.00% [0/1 00:00<00:00]\n",
              "    </div>\n",
              "    \n",
              "<table border=\"1\" class=\"dataframe\">\n",
              "  <thead>\n",
              "    <tr style=\"text-align: left;\">\n",
              "      <th>epoch</th>\n",
              "      <th>train_loss</th>\n",
              "      <th>valid_loss</th>\n",
              "      <th>accuracy</th>\n",
              "      <th>time</th>\n",
              "    </tr>\n",
              "  </thead>\n",
              "  <tbody>\n",
              "  </tbody>\n",
              "</table><p>\n",
              "\n",
              "    <div>\n",
              "        <style>\n",
              "            /* Turns off some styling */\n",
              "            progress {\n",
              "                /* gets rid of default border in Firefox and Opera. */\n",
              "                border: none;\n",
              "                /* Needs to be in here for Safari polyfill so background images work as expected. */\n",
              "                background-size: auto;\n",
              "            }\n",
              "            .progress-bar-interrupted, .progress-bar-interrupted::-webkit-progress-bar {\n",
              "                background: #F44336;\n",
              "            }\n",
              "        </style>\n",
              "      <progress value='94' class='' max='937' style='width:300px; height:20px; vertical-align: middle;'></progress>\n",
              "      10.03% [94/937 00:01<00:15 1.4816]\n",
              "    </div>\n",
              "    "
            ],
            "text/plain": [
              "<IPython.core.display.HTML object>"
            ]
          },
          "metadata": {
            "tags": []
          }
        },
        {
          "output_type": "stream",
          "text": [
            "LR Finder is complete, type {learner_name}.recorder.plot() to see the graph.\n"
          ],
          "name": "stdout"
        }
      ]
    },
    {
      "cell_type": "code",
      "metadata": {
        "id": "O_FNTJ4RHnxu",
        "outputId": "14b2648f-8e16-440d-b7e3-10a929feafeb",
        "colab": {
          "base_uri": "https://localhost:8080/",
          "height": 279
        }
      },
      "source": [
        "learn.recorder.plot()"
      ],
      "execution_count": 33,
      "outputs": [
        {
          "output_type": "display_data",
          "data": {
            "image/png": "[encoded data removed]",
            "text/plain": [
              "<Figure size 432x288 with 1 Axes>"
            ]
          },
          "metadata": {
            "tags": [],
            "needs_background": "light"
          }
        }
      ]
    },
    {
      "cell_type": "code",
      "metadata": {
        "id": "NlpqU81_HqTI",
        "outputId": "7187d04c-fc59-45ee-e40f-fbd98f003604",
        "colab": {
          "base_uri": "https://localhost:8080/",
          "height": 138
        }
      },
      "source": [
        "learn.fit_one_cycle(3, max_lr = slice(1e-02))"
      ],
      "execution_count": 34,
      "outputs": [
        {
          "output_type": "display_data",
          "data": {
            "text/html": [
              "<table border=\"1\" class=\"dataframe\">\n",
              "  <thead>\n",
              "    <tr style=\"text-align: left;\">\n",
              "      <th>epoch</th>\n",
              "      <th>train_loss</th>\n",
              "      <th>valid_loss</th>\n",
              "      <th>accuracy</th>\n",
              "      <th>time</th>\n",
              "    </tr>\n",
              "  </thead>\n",
              "  <tbody>\n",
              "    <tr>\n",
              "      <td>0</td>\n",
              "      <td>0.164119</td>\n",
              "      <td>0.094643</td>\n",
              "      <td>0.973700</td>\n",
              "      <td>00:16</td>\n",
              "    </tr>\n",
              "    <tr>\n",
              "      <td>1</td>\n",
              "      <td>0.076349</td>\n",
              "      <td>0.038733</td>\n",
              "      <td>0.988700</td>\n",
              "      <td>00:16</td>\n",
              "    </tr>\n",
              "    <tr>\n",
              "      <td>2</td>\n",
              "      <td>0.052710</td>\n",
              "      <td>0.026547</td>\n",
              "      <td>0.992000</td>\n",
              "      <td>00:16</td>\n",
              "    </tr>\n",
              "  </tbody>\n",
              "</table>"
            ],
            "text/plain": [
              "<IPython.core.display.HTML object>"
            ]
          },
          "metadata": {
            "tags": []
          }
        }
      ]
    },
    {
      "cell_type": "code",
      "metadata": {
        "id": "rfMzjEnlIQub"
      },
      "source": [
        "class ResBlock(nn.Module):\n",
        "  def __init__(self, nf):\n",
        "    super().__init__()\n",
        "    self.layer = get_conv_layer(nf, nf, stride = 1)\n",
        "  \n",
        "  def forward(self, x):\n",
        "    op = self.layer(x)\n",
        "    return op + x\n"
      ],
      "execution_count": 35,
      "outputs": []
    },
    {
      "cell_type": "code",
      "metadata": {
        "id": "IW2E0ct2KOUP"
      },
      "source": [
        "def get_res_layer(ni, nf):\n",
        "  return nn.Sequential(get_conv_layer(ni, nf), ResBlock(nf))"
      ],
      "execution_count": 36,
      "outputs": []
    },
    {
      "cell_type": "code",
      "metadata": {
        "id": "3GwpsmC1Jfk2"
      },
      "source": [
        "\n",
        "model = nn.Sequential(\n",
        "    get_res_layer(3, 10),  #14\n",
        "    get_res_layer(10, 24), #7\n",
        "    get_res_layer(24, 32), #4\n",
        "    get_res_layer(32, 16), #2 - 16*2*2,\n",
        "    get_res_layer(16, 10), #10*1*1, #10*1*1\n",
        "    Flatten()\n",
        ")"
      ],
      "execution_count": 37,
      "outputs": []
    },
    {
      "cell_type": "code",
      "metadata": {
        "id": "r1Lm2Q7tLWt4",
        "outputId": "4470d94f-945c-4b64-cec9-687fc1731277",
        "colab": {
          "base_uri": "https://localhost:8080/",
          "height": 111
        }
      },
      "source": [
        "learn = Learner(data, model, metrics = accuracy)\n",
        "learn.lr_find()"
      ],
      "execution_count": 38,
      "outputs": [
        {
          "output_type": "display_data",
          "data": {
            "text/html": [
              "\n",
              "    <div>\n",
              "        <style>\n",
              "            /* Turns off some styling */\n",
              "            progress {\n",
              "                /* gets rid of default border in Firefox and Opera. */\n",
              "                border: none;\n",
              "                /* Needs to be in here for Safari polyfill so background images work as expected. */\n",
              "                background-size: auto;\n",
              "            }\n",
              "            .progress-bar-interrupted, .progress-bar-interrupted::-webkit-progress-bar {\n",
              "                background: #F44336;\n",
              "            }\n",
              "        </style>\n",
              "      <progress value='0' class='' max='1' style='width:300px; height:20px; vertical-align: middle;'></progress>\n",
              "      0.00% [0/1 00:00<00:00]\n",
              "    </div>\n",
              "    \n",
              "<table border=\"1\" class=\"dataframe\">\n",
              "  <thead>\n",
              "    <tr style=\"text-align: left;\">\n",
              "      <th>epoch</th>\n",
              "      <th>train_loss</th>\n",
              "      <th>valid_loss</th>\n",
              "      <th>accuracy</th>\n",
              "      <th>time</th>\n",
              "    </tr>\n",
              "  </thead>\n",
              "  <tbody>\n",
              "  </tbody>\n",
              "</table><p>\n",
              "\n",
              "    <div>\n",
              "        <style>\n",
              "            /* Turns off some styling */\n",
              "            progress {\n",
              "                /* gets rid of default border in Firefox and Opera. */\n",
              "                border: none;\n",
              "                /* Needs to be in here for Safari polyfill so background images work as expected. */\n",
              "                background-size: auto;\n",
              "            }\n",
              "            .progress-bar-interrupted, .progress-bar-interrupted::-webkit-progress-bar {\n",
              "                background: #F44336;\n",
              "            }\n",
              "        </style>\n",
              "      <progress value='93' class='' max='937' style='width:300px; height:20px; vertical-align: middle;'></progress>\n",
              "      9.93% [93/937 00:02<00:18 1.5453]\n",
              "    </div>\n",
              "    "
            ],
            "text/plain": [
              "<IPython.core.display.HTML object>"
            ]
          },
          "metadata": {
            "tags": []
          }
        },
        {
          "output_type": "stream",
          "text": [
            "LR Finder is complete, type {learner_name}.recorder.plot() to see the graph.\n"
          ],
          "name": "stdout"
        }
      ]
    },
    {
      "cell_type": "code",
      "metadata": {
        "id": "Gu9SZdm3L_2e",
        "outputId": "3d4c1290-a13a-4af4-e7c4-dd1264211948",
        "colab": {
          "base_uri": "https://localhost:8080/",
          "height": 279
        }
      },
      "source": [
        "learn.recorder.plot()"
      ],
      "execution_count": 39,
      "outputs": [
        {
          "output_type": "display_data",
          "data": {
            "image/png": "[encoded data removed]",
            "text/plain": [
              "<Figure size 432x288 with 1 Axes>"
            ]
          },
          "metadata": {
            "tags": [],
            "needs_background": "light"
          }
        }
      ]
    },
    {
      "cell_type": "code",
      "metadata": {
        "id": "BXk35dxvK3JH",
        "outputId": "f6afcac4-5970-4a49-8041-f9bc6a94e901",
        "colab": {
          "base_uri": "https://localhost:8080/",
          "height": 282
        }
      },
      "source": [
        "losses = []\n",
        "wlosses = []\n",
        "lr = 1e-01\n",
        "prev_loss = 0 \n",
        "model = model.cuda()\n",
        "\n",
        "for x, y in data.train_dl:\n",
        "  cl = update(x, y, lr)\n",
        "  if prev_loss == 0:\n",
        "    wloss = cl\n",
        "  else:\n",
        "    wloss = 0.1*cl + 0.9*prev_loss\n",
        "  prev_loss = wloss\n",
        "  wlosses.append(wloss)\n",
        "  losses.append(cl)\n",
        "\n",
        "plt.plot(wlosses)"
      ],
      "execution_count": 40,
      "outputs": [
        {
          "output_type": "execute_result",
          "data": {
            "text/plain": [
              "[<matplotlib.lines.Line2D at 0x7f4013180d30>]"
            ]
          },
          "metadata": {
            "tags": []
          },
          "execution_count": 40
        },
        {
          "output_type": "display_data",
          "data": {
            "image/png": "[encoded data removed]",
            "text/plain": [
              "<Figure size 432x288 with 1 Axes>"
            ]
          },
          "metadata": {
            "tags": [],
            "needs_background": "light"
          }
        }
      ]
    },
    {
      "cell_type": "code",
      "metadata": {
        "id": "WTLEUGbhMG3W",
        "outputId": "99788ea4-4e3a-4281-c54b-711e306ad990",
        "colab": {
          "base_uri": "https://localhost:8080/",
          "height": 138
        }
      },
      "source": [
        "learn.fit_one_cycle(3, max_lr = slice(5e-02))"
      ],
      "execution_count": 41,
      "outputs": [
        {
          "output_type": "display_data",
          "data": {
            "text/html": [
              "<table border=\"1\" class=\"dataframe\">\n",
              "  <thead>\n",
              "    <tr style=\"text-align: left;\">\n",
              "      <th>epoch</th>\n",
              "      <th>train_loss</th>\n",
              "      <th>valid_loss</th>\n",
              "      <th>accuracy</th>\n",
              "      <th>time</th>\n",
              "    </tr>\n",
              "  </thead>\n",
              "  <tbody>\n",
              "    <tr>\n",
              "      <td>0</td>\n",
              "      <td>0.140963</td>\n",
              "      <td>0.143952</td>\n",
              "      <td>0.954800</td>\n",
              "      <td>00:20</td>\n",
              "    </tr>\n",
              "    <tr>\n",
              "      <td>1</td>\n",
              "      <td>0.078019</td>\n",
              "      <td>0.059070</td>\n",
              "      <td>0.982200</td>\n",
              "      <td>00:20</td>\n",
              "    </tr>\n",
              "    <tr>\n",
              "      <td>2</td>\n",
              "      <td>0.043930</td>\n",
              "      <td>0.019596</td>\n",
              "      <td>0.994100</td>\n",
              "      <td>00:20</td>\n",
              "    </tr>\n",
              "  </tbody>\n",
              "</table>"
            ],
            "text/plain": [
              "<IPython.core.display.HTML object>"
            ]
          },
          "metadata": {
            "tags": []
          }
        }
      ]
    },
    {
      "cell_type": "code",
      "metadata": {
        "id": "iCNCzh9Q3jw9",
        "outputId": "30e981e6-2092-476c-a34c-2835a81c93df",
        "colab": {
          "base_uri": "https://localhost:8080/",
          "height": 35
        }
      },
      "source": [
        "#test\n",
        "x = torch.randn((1, 4, 4, 4))\n",
        "y = torch.randn((1, 4, 4, 4))\n",
        "x.shape, y.shape\n",
        "torch.cat([x, y], 1).shape"
      ],
      "execution_count": 44,
      "outputs": [
        {
          "output_type": "execute_result",
          "data": {
            "text/plain": [
              "torch.Size([1, 8, 4, 4])"
            ]
          },
          "metadata": {
            "tags": []
          },
          "execution_count": 44
        }
      ]
    },
    {
      "cell_type": "code",
      "metadata": {
        "id": "UmlRP7LA4wB1"
      },
      "source": [
        "class DensBlock(nn.Module):\n",
        "  def __init__(self, nf):\n",
        "    super().__init__()\n",
        "    self.layer = get_conv_layer(nf, nf, stride = 1)\n",
        "  \n",
        "  def forward(self, x):\n",
        "    result = self.layer(x)\n",
        "    return torch.cat((result, x), dim = 1)"
      ],
      "execution_count": 42,
      "outputs": []
    },
    {
      "cell_type": "code",
      "metadata": {
        "id": "otxFRGAG7B1o"
      },
      "source": [
        "def get_dens_layer(ni, nf):\n",
        "  return nn.Sequential(get_conv_layer(ni, nf), DensBlock(nf))"
      ],
      "execution_count": 43,
      "outputs": []
    },
    {
      "cell_type": "code",
      "metadata": {
        "id": "K-eFbN3670S3"
      },
      "source": [
        "model = nn.Sequential(\n",
        "    get_dens_layer(3, 10), #14 * 20\n",
        "    get_dens_layer(20, 30), #7 * 60\n",
        "    get_dens_layer(60, 20), #4 *40\n",
        "    get_dens_layer(40, 10), #2 * 20\n",
        "    get_res_layer(20, 10), #1 * 10\n",
        "    Flatten()\n",
        ")"
      ],
      "execution_count": 44,
      "outputs": []
    },
    {
      "cell_type": "code",
      "metadata": {
        "id": "rVyeQIgT8znH"
      },
      "source": [
        "model.__dict__"
      ],
      "execution_count": null,
      "outputs": []
    },
    {
      "cell_type": "code",
      "metadata": {
        "id": "YBsxCYtD9Lta",
        "outputId": "0a32a81c-6152-4ae6-95ef-b615b7204c75",
        "colab": {
          "base_uri": "https://localhost:8080/",
          "height": 35
        }
      },
      "source": [
        "#test\n",
        "model = model.cuda()\n",
        "for i in data.train_dl:\n",
        "  x, y = i\n",
        "res = model(x)\n",
        "res.shape"
      ],
      "execution_count": 45,
      "outputs": [
        {
          "output_type": "execute_result",
          "data": {
            "text/plain": [
              "torch.Size([64, 10])"
            ]
          },
          "metadata": {
            "tags": []
          },
          "execution_count": 45
        }
      ]
    },
    {
      "cell_type": "code",
      "metadata": {
        "id": "eoGFAkHs9ba3",
        "outputId": "6c876134-d833-4bff-b8c6-d459c061d027",
        "colab": {
          "base_uri": "https://localhost:8080/",
          "height": 282
        }
      },
      "source": [
        "losses = []\n",
        "wlosses = []\n",
        "lr = 1e-01\n",
        "prev_loss = 0 \n",
        "model = model.cuda()\n",
        "\n",
        "for x, y in data.train_dl:\n",
        "  cl = update(x, y, lr)\n",
        "  if prev_loss == 0:\n",
        "    wloss = cl\n",
        "  else:\n",
        "    wloss = 0.1*cl + 0.9*prev_loss\n",
        "  prev_loss = wloss\n",
        "  wlosses.append(wloss)\n",
        "  losses.append(cl)\n",
        "\n",
        "plt.plot(wlosses)"
      ],
      "execution_count": 46,
      "outputs": [
        {
          "output_type": "execute_result",
          "data": {
            "text/plain": [
              "[<matplotlib.lines.Line2D at 0x7f40100ea588>]"
            ]
          },
          "metadata": {
            "tags": []
          },
          "execution_count": 46
        },
        {
          "output_type": "display_data",
          "data": {
            "image/png": "[encoded data removed]",
            "text/plain": [
              "<Figure size 432x288 with 1 Axes>"
            ]
          },
          "metadata": {
            "tags": [],
            "needs_background": "light"
          }
        }
      ]
    },
    {
      "cell_type": "code",
      "metadata": {
        "id": "XNWMpJ87-MG-",
        "outputId": "86e3d168-355d-4c27-b191-d4a760b9898c",
        "colab": {
          "base_uri": "https://localhost:8080/",
          "height": 111
        }
      },
      "source": [
        "learn = Learner(data, model, metrics = accuracy)\n",
        "learn.lr_find()"
      ],
      "execution_count": 47,
      "outputs": [
        {
          "output_type": "display_data",
          "data": {
            "text/html": [
              "\n",
              "    <div>\n",
              "        <style>\n",
              "            /* Turns off some styling */\n",
              "            progress {\n",
              "                /* gets rid of default border in Firefox and Opera. */\n",
              "                border: none;\n",
              "                /* Needs to be in here for Safari polyfill so background images work as expected. */\n",
              "                background-size: auto;\n",
              "            }\n",
              "            .progress-bar-interrupted, .progress-bar-interrupted::-webkit-progress-bar {\n",
              "                background: #F44336;\n",
              "            }\n",
              "        </style>\n",
              "      <progress value='0' class='' max='1' style='width:300px; height:20px; vertical-align: middle;'></progress>\n",
              "      0.00% [0/1 00:00<00:00]\n",
              "    </div>\n",
              "    \n",
              "<table border=\"1\" class=\"dataframe\">\n",
              "  <thead>\n",
              "    <tr style=\"text-align: left;\">\n",
              "      <th>epoch</th>\n",
              "      <th>train_loss</th>\n",
              "      <th>valid_loss</th>\n",
              "      <th>accuracy</th>\n",
              "      <th>time</th>\n",
              "    </tr>\n",
              "  </thead>\n",
              "  <tbody>\n",
              "  </tbody>\n",
              "</table><p>\n",
              "\n",
              "    <div>\n",
              "        <style>\n",
              "            /* Turns off some styling */\n",
              "            progress {\n",
              "                /* gets rid of default border in Firefox and Opera. */\n",
              "                border: none;\n",
              "                /* Needs to be in here for Safari polyfill so background images work as expected. */\n",
              "                background-size: auto;\n",
              "            }\n",
              "            .progress-bar-interrupted, .progress-bar-interrupted::-webkit-progress-bar {\n",
              "                background: #F44336;\n",
              "            }\n",
              "        </style>\n",
              "      <progress value='64' class='' max='937' style='width:300px; height:20px; vertical-align: middle;'></progress>\n",
              "      6.83% [64/937 00:01<00:21 0.1068]\n",
              "    </div>\n",
              "    "
            ],
            "text/plain": [
              "<IPython.core.display.HTML object>"
            ]
          },
          "metadata": {
            "tags": []
          }
        },
        {
          "output_type": "stream",
          "text": [
            "LR Finder is complete, type {learner_name}.recorder.plot() to see the graph.\n"
          ],
          "name": "stdout"
        }
      ]
    },
    {
      "cell_type": "code",
      "metadata": {
        "id": "ynfcaA6OGaFU",
        "outputId": "758c3aea-3e57-4de4-c9e9-bbd0fe624cb2",
        "colab": {
          "base_uri": "https://localhost:8080/",
          "height": 35
        }
      },
      "source": [
        "losses[-1]"
      ],
      "execution_count": 48,
      "outputs": [
        {
          "output_type": "execute_result",
          "data": {
            "text/plain": [
              "0.0760524719953537"
            ]
          },
          "metadata": {
            "tags": []
          },
          "execution_count": 48
        }
      ]
    },
    {
      "cell_type": "code",
      "metadata": {
        "id": "y46KOf5t-SXz",
        "outputId": "5642c2d2-7749-41ae-c414-bf280059acd6",
        "colab": {
          "base_uri": "https://localhost:8080/",
          "height": 279
        }
      },
      "source": [
        "learn.recorder.plot()"
      ],
      "execution_count": 49,
      "outputs": [
        {
          "output_type": "display_data",
          "data": {
            "image/png": "[encoded data removed]",
            "text/plain": [
              "<Figure size 432x288 with 1 Axes>"
            ]
          },
          "metadata": {
            "tags": [],
            "needs_background": "light"
          }
        }
      ]
    },
    {
      "cell_type": "code",
      "metadata": {
        "id": "J4hIY83qLVRu",
        "outputId": "6a486d84-e3ae-46ba-91fd-71de64a3570f",
        "colab": {
          "base_uri": "https://localhost:8080/",
          "height": 138
        }
      },
      "source": [
        "learn.fit_one_cycle(3, max_lr = 6e-03)"
      ],
      "execution_count": 50,
      "outputs": [
        {
          "output_type": "display_data",
          "data": {
            "text/html": [
              "<table border=\"1\" class=\"dataframe\">\n",
              "  <thead>\n",
              "    <tr style=\"text-align: left;\">\n",
              "      <th>epoch</th>\n",
              "      <th>train_loss</th>\n",
              "      <th>valid_loss</th>\n",
              "      <th>accuracy</th>\n",
              "      <th>time</th>\n",
              "    </tr>\n",
              "  </thead>\n",
              "  <tbody>\n",
              "    <tr>\n",
              "      <td>0</td>\n",
              "      <td>0.132215</td>\n",
              "      <td>0.092594</td>\n",
              "      <td>0.972300</td>\n",
              "      <td>00:21</td>\n",
              "    </tr>\n",
              "    <tr>\n",
              "      <td>1</td>\n",
              "      <td>0.061268</td>\n",
              "      <td>0.030127</td>\n",
              "      <td>0.990900</td>\n",
              "      <td>00:21</td>\n",
              "    </tr>\n",
              "    <tr>\n",
              "      <td>2</td>\n",
              "      <td>0.046731</td>\n",
              "      <td>0.021091</td>\n",
              "      <td>0.993100</td>\n",
              "      <td>00:20</td>\n",
              "    </tr>\n",
              "  </tbody>\n",
              "</table>"
            ],
            "text/plain": [
              "<IPython.core.display.HTML object>"
            ]
          },
          "metadata": {
            "tags": []
          }
        }
      ]
    },
    {
      "cell_type": "code",
      "metadata": {
        "id": "-xWpowsVKrRn"
      },
      "source": [
        "PixelShuffle_ICNR()"
      ],
      "execution_count": null,
      "outputs": []
    },
    {
      "cell_type": "code",
      "metadata": {
        "id": "Cn3uE7Rzfb-1"
      },
      "source": [
        "def visualize_hook(self, *args):\n",
        "  print(\"visualizing hooks\")\n",
        "  st()"
      ],
      "execution_count": 76,
      "outputs": []
    },
    {
      "cell_type": "code",
      "metadata": {
        "id": "V7Eq53_Tmp7d"
      },
      "source": [
        "def get_dens():\n",
        "  model = nn.Sequential(\n",
        "    get_dens_layer(3, 10), #14 * 20\n",
        "    get_dens_layer(20, 30), #7 * 60\n",
        "    get_dens_layer(60, 20), #4 *40\n",
        "    get_dens_layer(40, 10), #2 * 20\n",
        "    get_res_layer(20, 10), #1 * 10\n",
        "    Flatten()\n",
        "  )\n",
        "  return model.cuda()"
      ],
      "execution_count": 51,
      "outputs": []
    },
    {
      "cell_type": "code",
      "metadata": {
        "id": "KZY1fsfxeaUT"
      },
      "source": [
        "model = get_dens()\n",
        "# model.register_forward_hook(visualize_hook)"
      ],
      "execution_count": 57,
      "outputs": []
    },
    {
      "cell_type": "code",
      "metadata": {
        "id": "PwLrg94Ul7Fw"
      },
      "source": [
        "#test\n",
        "for i in model:\n",
        "  print(i)\n",
        "  print('\\n\\n')"
      ],
      "execution_count": null,
      "outputs": []
    },
    {
      "cell_type": "code",
      "metadata": {
        "id": "nDGzvLRkfsaJ",
        "outputId": "6b2b9290-421c-487e-c613-060ba131f72e",
        "colab": {
          "base_uri": "https://localhost:8080/",
          "height": 35
        }
      },
      "source": [
        "#test\n",
        "item = data.train_ds.x[0]\n",
        "item.shape, item.data\n",
        "xb = data.one_batch()[0].cuda()\n",
        "xb.shape, xb.device"
      ],
      "execution_count": 63,
      "outputs": [
        {
          "output_type": "execute_result",
          "data": {
            "text/plain": [
              "(torch.Size([64, 3, 28, 28]), device(type='cuda', index=0))"
            ]
          },
          "metadata": {
            "tags": []
          },
          "execution_count": 63
        }
      ]
    },
    {
      "cell_type": "code",
      "metadata": {
        "id": "ZPBASBXNTts6"
      },
      "source": [
        "class Hook():\n",
        "  def __init__(self, module):\n",
        "    self.module = module\n",
        "    self.stored = None\n",
        "    self.module.register_forward_hook(self.hook_function)\n",
        "\n",
        "  def hook_function(self, module, input, output):\n",
        "    self.stored = output"
      ],
      "execution_count": 58,
      "outputs": []
    },
    {
      "cell_type": "code",
      "metadata": {
        "id": "7WfvFNaUUdKF"
      },
      "source": [
        "#test\n",
        "hooks = [Hook(i) for i in model]\n",
        "hooks[0].stored\n",
        "res = model(xb)\n",
        "res.shape\n",
        "hooks[0].stored.shape"
      ],
      "execution_count": 65,
      "outputs": []
    },
    {
      "cell_type": "code",
      "metadata": {
        "id": "Lbdw1OYqUZpg",
        "outputId": "eca57a8e-bff9-4f10-9b01-5a542e38d207",
        "colab": {
          "base_uri": "https://localhost:8080/",
          "height": 121
        }
      },
      "source": [
        "#test\n",
        "for i in hooks:\n",
        "  print(i.stored.shape)"
      ],
      "execution_count": 69,
      "outputs": [
        {
          "output_type": "stream",
          "text": [
            "torch.Size([64, 20, 14, 14])\n",
            "torch.Size([64, 60, 7, 7])\n",
            "torch.Size([64, 40, 4, 4])\n",
            "torch.Size([64, 20, 2, 2])\n",
            "torch.Size([64, 10, 1, 1])\n",
            "torch.Size([64, 10])\n"
          ],
          "name": "stdout"
        }
      ]
    },
    {
      "cell_type": "code",
      "metadata": {
        "id": "HLv---4pUlu5"
      },
      "source": [
        "#unet\n",
        "\n",
        "#1. down sampling\n",
        "#2. increasing channels -- keeping the shape intact... stride 1 conv\n",
        "#3. up sampling part\n",
        "\n",
        "#1 . Down sampling:\n",
        "\n",
        "#     calculating the values and reducing sizes\n",
        "#     storing activations of each dens or res block in hooks\n",
        "\n",
        "#3.  Up Sampling:\n",
        "\n",
        "#     increase the shape of it to double and reduce the channels to half\n",
        "#     get the hooked activations from downsampling path and concatinate to the updated input\n",
        "#     forward the output"
      ],
      "execution_count": null,
      "outputs": []
    },
    {
      "cell_type": "code",
      "metadata": {
        "id": "BYoek9hHXs6k",
        "outputId": "8e0a8ee1-73b4-4e99-dd54-180f486fbc6e",
        "colab": {
          "base_uri": "https://localhost:8080/",
          "height": 121
        }
      },
      "source": [
        "#test\n",
        "a = torch.ones((2, 2))\n",
        "b = torch.ones((4, 4))\n",
        "print(a)\n",
        "print(b)"
      ],
      "execution_count": 71,
      "outputs": [
        {
          "output_type": "stream",
          "text": [
            "tensor([[1., 1.],\n",
            "        [1., 1.]])\n",
            "tensor([[1., 1., 1., 1.],\n",
            "        [1., 1., 1., 1.],\n",
            "        [1., 1., 1., 1.],\n",
            "        [1., 1., 1., 1.]])\n"
          ],
          "name": "stdout"
        }
      ]
    },
    {
      "cell_type": "code",
      "metadata": {
        "id": "WOkkzU8uYKgB",
        "outputId": "dfd50449-9f49-41aa-a62f-d68b53c62462",
        "colab": {
          "base_uri": "https://localhost:8080/",
          "height": 199
        }
      },
      "source": [
        "#test\n",
        "doc(PixelShuffle_ICNR)"
      ],
      "execution_count": 72,
      "outputs": [
        {
          "output_type": "display_data",
          "data": {
            "text/html": [
              "<h2 id=\"PixelShuffle_ICNR\" class=\"doc_header\"><code>class</code> <code>PixelShuffle_ICNR</code><a href=\"https://github.com/fastai/fastai/blob/master/fastai/layers.py#L202\" class=\"source_link\" style=\"float:right\">[source]</a><a class=\"source_link\" data-toggle=\"collapse\" data-target=\"#PixelShuffle_ICNR-pytest\" style=\"float:right; padding-right:10px\">[test]</a></h2><blockquote><p><code>PixelShuffle_ICNR</code>(<strong><code>ni</code></strong>:<code>int</code>, <strong><code>nf</code></strong>:<code>int</code>=<strong><em><code>None</code></em></strong>, <strong><code>scale</code></strong>:<code>int</code>=<strong><em><code>2</code></em></strong>, <strong><code>blur</code></strong>:<code>bool</code>=<strong><em><code>False</code></em></strong>, <strong><code>norm_type</code></strong>=<strong><em><code>&lt;NormType.Weight: 3&gt;</code></em></strong>, <strong><code>leaky</code></strong>:<code>float</code>=<strong><em><code>None</code></em></strong>) :: <a href=\"https://docs.fast.ai/core.html#PrePostInitMeta\"><code>PrePostInitMeta</code></a> :: <a href=\"https://docs.fast.ai/torch_core.html#Module\"><code>Module</code></a></p>\n",
              "</blockquote>\n",
              "<div class=\"collapse\" id=\"PixelShuffle_ICNR-pytest\"><div class=\"card card-body pytest_card\"><a type=\"button\" data-toggle=\"collapse\" data-target=\"#PixelShuffle_ICNR-pytest\" class=\"close\" aria-label=\"Close\"><span aria-hidden=\"true\">&times;</span></a><p>No tests found for <code>PixelShuffle_ICNR</code>. To contribute a test please refer to <a href=\"/dev/test.html\">this guide</a> and <a href=\"https://forums.fast.ai/t/improving-expanding-functional-tests/32929\">this discussion</a>.</p></div></div><p>Upsample by <code>scale</code> from <code>ni</code> filters to <code>nf</code> (default <code>ni</code>), using <a href=\"https://pytorch.org/docs/stable/nn.html#torch.nn.PixelShuffle\"><code>nn.PixelShuffle</code></a>, <a href=\"https://docs.fast.ai/layers.html#icnr\"><code>icnr</code></a> init, and <a href=\"https://pytorch.org/docs/stable/nn.html#torch.nn.weight_norm\"><code>weight_norm</code></a>.</p>\n",
              "<p><a href=\"https://docs.fast.ai/layers.html#PixelShuffle_ICNR\" target=\"_blank\" rel=\"noreferrer noopener\">Show in docs</a></p>\n"
            ],
            "text/plain": [
              "<IPython.core.display.HTML object>"
            ]
          },
          "metadata": {
            "tags": []
          }
        }
      ]
    },
    {
      "cell_type": "code",
      "metadata": {
        "id": "7y_eFAKXYzCI",
        "outputId": "43416a60-69b0-4413-88ed-74e3b4945bf0",
        "colab": {
          "base_uri": "https://localhost:8080/",
          "height": 104
        }
      },
      "source": [
        "#test\n",
        "a = torch.randn((2, 2))\n",
        "b = torch.randn((2, 2))\n",
        "print(a, b)\n",
        "# print(a*b)\n",
        "torch.cat((a, b), dim = 1)\n",
        "torch.cat((a, b), dim =1) "
      ],
      "execution_count": 78,
      "outputs": [
        {
          "output_type": "stream",
          "text": [
            "tensor([[1.2984, 0.7472],\n",
            "        [1.7210, 0.6032]]) tensor([[-0.5044,  0.3786],\n",
            "        [-0.1616, -0.3240]])\n"
          ],
          "name": "stdout"
        },
        {
          "output_type": "execute_result",
          "data": {
            "text/plain": [
              "tensor([[ 1.2984,  0.7472, -0.5044,  0.3786],\n",
              "        [ 1.7210,  0.6032, -0.1616, -0.3240]])"
            ]
          },
          "metadata": {
            "tags": []
          },
          "execution_count": 78
        }
      ]
    },
    {
      "cell_type": "code",
      "metadata": {
        "id": "W6q-4YRvbMnz"
      },
      "source": [
        "#test\n",
        "inp = torch.randn((2, 2))\n",
        "ws = [torch.randn(2, 2) for i in range(0, 4)]\n",
        "ops = [inp*i for i in ws]\n",
        "ops\n",
        "len(ops[0])"
      ],
      "execution_count": 76,
      "outputs": []
    },
    {
      "cell_type": "code",
      "metadata": {
        "id": "XrlOI1OFbm2E",
        "outputId": "5d024162-dc9a-4d23-c19d-02c9d70dbb6a",
        "colab": {
          "base_uri": "https://localhost:8080/",
          "height": 35
        }
      },
      "source": [
        "#test\n",
        "res = torch.Tensor()\n",
        "sample = ops[0]\n",
        "for i in range(len(sample)):\n",
        "  row_tens =torch.Tensor()\n",
        "  for j in range(len(sample[i])):\n",
        "    l1 = ops[0][i][j], ops[1][i][j]\n",
        "    l2 = ops[2][i][j], ops[3][i][j]\n",
        "    row_tens = torch.cat((row_tens, torch.Tensor([l1, l2])), 1)\n",
        "  res = torch.cat((res, row_tens), 0)\n",
        "res.shape"
      ],
      "execution_count": 96,
      "outputs": [
        {
          "output_type": "execute_result",
          "data": {
            "text/plain": [
              "torch.Size([4, 4])"
            ]
          },
          "metadata": {
            "tags": []
          },
          "execution_count": 96
        }
      ]
    },
    {
      "cell_type": "code",
      "metadata": {
        "id": "9Ecjz68XiJZL",
        "outputId": "6e96acf1-269f-48f6-f8fc-d5e31b885ed1",
        "colab": {
          "base_uri": "https://localhost:8080/",
          "height": 35
        }
      },
      "source": [
        "#test\n",
        "a, b = torch.randn((4, 2, 2)), torch.randn((4, 2, 2))\n",
        "a.shape, b.shape"
      ],
      "execution_count": 102,
      "outputs": [
        {
          "output_type": "execute_result",
          "data": {
            "text/plain": [
              "(torch.Size([4, 2, 2]), torch.Size([4, 2, 2]))"
            ]
          },
          "metadata": {
            "tags": []
          },
          "execution_count": 102
        }
      ]
    }
  ]
}