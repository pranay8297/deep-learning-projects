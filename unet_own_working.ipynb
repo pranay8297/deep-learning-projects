{
  "nbformat": 4,
  "nbformat_minor": 0,
  "metadata": {
    "colab": {
      "name": "unet_own_working.ipynb",
      "provenance": [],
      "collapsed_sections": [],
      "machine_shape": "hm",
      "authorship_tag": "ABX9TyO9X55Jwth7IpmOTnLFvROM",
      "include_colab_link": true
    },
    "kernelspec": {
      "name": "python3",
      "display_name": "Python 3"
    },
    "accelerator": "GPU",
    "widgets": {
      "application/vnd.jupyter.widget-state+json": {
        "9b5244b65f784314b2c357f248d9c910": {
          "model_module": "@jupyter-widgets/controls",
          "model_name": "HBoxModel",
          "state": {
            "_view_name": "HBoxView",
            "_dom_classes": [],
            "_model_name": "HBoxModel",
            "_view_module": "@jupyter-widgets/controls",
            "_model_module_version": "1.5.0",
            "_view_count": null,
            "_view_module_version": "1.5.0",
            "box_style": "",
            "layout": "IPY_MODEL_158578ea878b4ce9a0c0b39a7b65e6a0",
            "_model_module": "@jupyter-widgets/controls",
            "children": [
              "IPY_MODEL_d9f2b39ddc154a7d9d187b22204a8031",
              "IPY_MODEL_139781646cd540398f97694016cf2ff8"
            ]
          }
        },
        "158578ea878b4ce9a0c0b39a7b65e6a0": {
          "model_module": "@jupyter-widgets/base",
          "model_name": "LayoutModel",
          "state": {
            "_view_name": "LayoutView",
            "grid_template_rows": null,
            "right": null,
            "justify_content": null,
            "_view_module": "@jupyter-widgets/base",
            "overflow": null,
            "_model_module_version": "1.2.0",
            "_view_count": null,
            "flex_flow": null,
            "width": null,
            "min_width": null,
            "border": null,
            "align_items": null,
            "bottom": null,
            "_model_module": "@jupyter-widgets/base",
            "top": null,
            "grid_column": null,
            "overflow_y": null,
            "overflow_x": null,
            "grid_auto_flow": null,
            "grid_area": null,
            "grid_template_columns": null,
            "flex": null,
            "_model_name": "LayoutModel",
            "justify_items": null,
            "grid_row": null,
            "max_height": null,
            "align_content": null,
            "visibility": null,
            "align_self": null,
            "height": null,
            "min_height": null,
            "padding": null,
            "grid_auto_rows": null,
            "grid_gap": null,
            "max_width": null,
            "order": null,
            "_view_module_version": "1.2.0",
            "grid_template_areas": null,
            "object_position": null,
            "object_fit": null,
            "grid_auto_columns": null,
            "margin": null,
            "display": null,
            "left": null
          }
        },
        "d9f2b39ddc154a7d9d187b22204a8031": {
          "model_module": "@jupyter-widgets/controls",
          "model_name": "FloatProgressModel",
          "state": {
            "_view_name": "ProgressView",
            "style": "IPY_MODEL_d4a23e205e7b47bc83c95f8fd81c0e82",
            "_dom_classes": [],
            "description": "100%",
            "_model_name": "FloatProgressModel",
            "bar_style": "success",
            "max": 87306240,
            "_view_module": "@jupyter-widgets/controls",
            "_model_module_version": "1.5.0",
            "value": 87306240,
            "_view_count": null,
            "_view_module_version": "1.5.0",
            "orientation": "horizontal",
            "min": 0,
            "description_tooltip": null,
            "_model_module": "@jupyter-widgets/controls",
            "layout": "IPY_MODEL_1573350371d6418ebbd601e6db9b37bb"
          }
        },
        "139781646cd540398f97694016cf2ff8": {
          "model_module": "@jupyter-widgets/controls",
          "model_name": "HTMLModel",
          "state": {
            "_view_name": "HTMLView",
            "style": "IPY_MODEL_efa76015f92d4419b5ed86956dfa8d66",
            "_dom_classes": [],
            "description": "",
            "_model_name": "HTMLModel",
            "placeholder": "​",
            "_view_module": "@jupyter-widgets/controls",
            "_model_module_version": "1.5.0",
            "value": " 83.3M/83.3M [00:12&lt;00:00, 6.81MB/s]",
            "_view_count": null,
            "_view_module_version": "1.5.0",
            "description_tooltip": null,
            "_model_module": "@jupyter-widgets/controls",
            "layout": "IPY_MODEL_02df36d48503455c9dfd8242a97ee334"
          }
        },
        "d4a23e205e7b47bc83c95f8fd81c0e82": {
          "model_module": "@jupyter-widgets/controls",
          "model_name": "ProgressStyleModel",
          "state": {
            "_view_name": "StyleView",
            "_model_name": "ProgressStyleModel",
            "description_width": "initial",
            "_view_module": "@jupyter-widgets/base",
            "_model_module_version": "1.5.0",
            "_view_count": null,
            "_view_module_version": "1.2.0",
            "bar_color": null,
            "_model_module": "@jupyter-widgets/controls"
          }
        },
        "1573350371d6418ebbd601e6db9b37bb": {
          "model_module": "@jupyter-widgets/base",
          "model_name": "LayoutModel",
          "state": {
            "_view_name": "LayoutView",
            "grid_template_rows": null,
            "right": null,
            "justify_content": null,
            "_view_module": "@jupyter-widgets/base",
            "overflow": null,
            "_model_module_version": "1.2.0",
            "_view_count": null,
            "flex_flow": null,
            "width": null,
            "min_width": null,
            "border": null,
            "align_items": null,
            "bottom": null,
            "_model_module": "@jupyter-widgets/base",
            "top": null,
            "grid_column": null,
            "overflow_y": null,
            "overflow_x": null,
            "grid_auto_flow": null,
            "grid_area": null,
            "grid_template_columns": null,
            "flex": null,
            "_model_name": "LayoutModel",
            "justify_items": null,
            "grid_row": null,
            "max_height": null,
            "align_content": null,
            "visibility": null,
            "align_self": null,
            "height": null,
            "min_height": null,
            "padding": null,
            "grid_auto_rows": null,
            "grid_gap": null,
            "max_width": null,
            "order": null,
            "_view_module_version": "1.2.0",
            "grid_template_areas": null,
            "object_position": null,
            "object_fit": null,
            "grid_auto_columns": null,
            "margin": null,
            "display": null,
            "left": null
          }
        },
        "efa76015f92d4419b5ed86956dfa8d66": {
          "model_module": "@jupyter-widgets/controls",
          "model_name": "DescriptionStyleModel",
          "state": {
            "_view_name": "StyleView",
            "_model_name": "DescriptionStyleModel",
            "description_width": "",
            "_view_module": "@jupyter-widgets/base",
            "_model_module_version": "1.5.0",
            "_view_count": null,
            "_view_module_version": "1.2.0",
            "_model_module": "@jupyter-widgets/controls"
          }
        },
        "02df36d48503455c9dfd8242a97ee334": {
          "model_module": "@jupyter-widgets/base",
          "model_name": "LayoutModel",
          "state": {
            "_view_name": "LayoutView",
            "grid_template_rows": null,
            "right": null,
            "justify_content": null,
            "_view_module": "@jupyter-widgets/base",
            "overflow": null,
            "_model_module_version": "1.2.0",
            "_view_count": null,
            "flex_flow": null,
            "width": null,
            "min_width": null,
            "border": null,
            "align_items": null,
            "bottom": null,
            "_model_module": "@jupyter-widgets/base",
            "top": null,
            "grid_column": null,
            "overflow_y": null,
            "overflow_x": null,
            "grid_auto_flow": null,
            "grid_area": null,
            "grid_template_columns": null,
            "flex": null,
            "_model_name": "LayoutModel",
            "justify_items": null,
            "grid_row": null,
            "max_height": null,
            "align_content": null,
            "visibility": null,
            "align_self": null,
            "height": null,
            "min_height": null,
            "padding": null,
            "grid_auto_rows": null,
            "grid_gap": null,
            "max_width": null,
            "order": null,
            "_view_module_version": "1.2.0",
            "grid_template_areas": null,
            "object_position": null,
            "object_fit": null,
            "grid_auto_columns": null,
            "margin": null,
            "display": null,
            "left": null
          }
        }
      }
    }
  },
  "cells": [
    {
      "cell_type": "markdown",
      "metadata": {
        "id": "view-in-github",
        "colab_type": "text"
      },
      "source": [
        "<a href=\"https://colab.research.google.com/github/pranay8297/deep-learning-projects/blob/master/unet_own_working.ipynb\" target=\"_parent\"><img src=\"https://colab.research.google.com/assets/colab-badge.svg\" alt=\"Open In Colab\"/></a>"
      ]
    },
    {
      "cell_type": "code",
      "metadata": {
        "id": "k9czBY5mtlkl",
        "outputId": "166f4dd1-aa1e-40d9-d51b-189ec71f05a9",
        "colab": {
          "base_uri": "https://localhost:8080/",
          "height": 331
        }
      },
      "source": [
        "!pip install \"torch==1.4\" \"torchvision==0.5.0\" #use the old version"
      ],
      "execution_count": 1,
      "outputs": [
        {
          "output_type": "stream",
          "text": [
            "Collecting torch==1.4\n",
            "\u001b[?25l  Downloading https://files.pythonhosted.org/packages/24/19/4804aea17cd136f1705a5e98a00618cb8f6ccc375ad8bfa437408e09d058/torch-1.4.0-cp36-cp36m-manylinux1_x86_64.whl (753.4MB)\n",
            "\u001b[K     |████████████████████████████████| 753.4MB 20kB/s \n",
            "\u001b[?25hCollecting torchvision==0.5.0\n",
            "\u001b[?25l  Downloading https://files.pythonhosted.org/packages/7e/90/6141bf41f5655c78e24f40f710fdd4f8a8aff6c8b7c6f0328240f649bdbe/torchvision-0.5.0-cp36-cp36m-manylinux1_x86_64.whl (4.0MB)\n",
            "\u001b[K     |████████████████████████████████| 4.0MB 63.2MB/s \n",
            "\u001b[?25hRequirement already satisfied: six in /usr/local/lib/python3.6/dist-packages (from torchvision==0.5.0) (1.15.0)\n",
            "Requirement already satisfied: numpy in /usr/local/lib/python3.6/dist-packages (from torchvision==0.5.0) (1.18.5)\n",
            "Requirement already satisfied: pillow>=4.1.1 in /usr/local/lib/python3.6/dist-packages (from torchvision==0.5.0) (7.0.0)\n",
            "Installing collected packages: torch, torchvision\n",
            "  Found existing installation: torch 1.6.0+cu101\n",
            "    Uninstalling torch-1.6.0+cu101:\n",
            "      Successfully uninstalled torch-1.6.0+cu101\n",
            "  Found existing installation: torchvision 0.7.0+cu101\n",
            "    Uninstalling torchvision-0.7.0+cu101:\n",
            "      Successfully uninstalled torchvision-0.7.0+cu101\n",
            "Successfully installed torch-1.4.0 torchvision-0.5.0\n"
          ],
          "name": "stdout"
        }
      ]
    },
    {
      "cell_type": "code",
      "metadata": {
        "id": "C-w5xRGttsbe"
      },
      "source": [
        "from fastai import *\n",
        "from fastai.vision import *"
      ],
      "execution_count": 2,
      "outputs": []
    },
    {
      "cell_type": "code",
      "metadata": {
        "id": "rFX_I4eyulML"
      },
      "source": [
        "import json\n",
        "from copy import deepcopy"
      ],
      "execution_count": 3,
      "outputs": []
    },
    {
      "cell_type": "code",
      "metadata": {
        "id": "vQ0hKFfuuplA",
        "outputId": "76103edb-1f26-427f-eae8-06a76f0b6179",
        "colab": {
          "base_uri": "https://localhost:8080/",
          "height": 397
        }
      },
      "source": [
        "!pip install ipdb\n",
        "from ipdb import set_trace as st"
      ],
      "execution_count": 4,
      "outputs": [
        {
          "output_type": "stream",
          "text": [
            "Collecting ipdb\n",
            "  Downloading https://files.pythonhosted.org/packages/44/8c/76b33b115f4f2c090e2809a0247fe777eb3832f9d606479bf0139b29ca2c/ipdb-0.13.4.tar.gz\n",
            "Requirement already satisfied: setuptools in /usr/local/lib/python3.6/dist-packages (from ipdb) (50.3.0)\n",
            "Requirement already satisfied: ipython>=5.1.0 in /usr/local/lib/python3.6/dist-packages (from ipdb) (5.5.0)\n",
            "Requirement already satisfied: pygments in /usr/local/lib/python3.6/dist-packages (from ipython>=5.1.0->ipdb) (2.6.1)\n",
            "Requirement already satisfied: pexpect; sys_platform != \"win32\" in /usr/local/lib/python3.6/dist-packages (from ipython>=5.1.0->ipdb) (4.8.0)\n",
            "Requirement already satisfied: traitlets>=4.2 in /usr/local/lib/python3.6/dist-packages (from ipython>=5.1.0->ipdb) (4.3.3)\n",
            "Requirement already satisfied: decorator in /usr/local/lib/python3.6/dist-packages (from ipython>=5.1.0->ipdb) (4.4.2)\n",
            "Requirement already satisfied: pickleshare in /usr/local/lib/python3.6/dist-packages (from ipython>=5.1.0->ipdb) (0.7.5)\n",
            "Requirement already satisfied: simplegeneric>0.8 in /usr/local/lib/python3.6/dist-packages (from ipython>=5.1.0->ipdb) (0.8.1)\n",
            "Requirement already satisfied: prompt-toolkit<2.0.0,>=1.0.4 in /usr/local/lib/python3.6/dist-packages (from ipython>=5.1.0->ipdb) (1.0.18)\n",
            "Requirement already satisfied: ptyprocess>=0.5 in /usr/local/lib/python3.6/dist-packages (from pexpect; sys_platform != \"win32\"->ipython>=5.1.0->ipdb) (0.6.0)\n",
            "Requirement already satisfied: ipython-genutils in /usr/local/lib/python3.6/dist-packages (from traitlets>=4.2->ipython>=5.1.0->ipdb) (0.2.0)\n",
            "Requirement already satisfied: six in /usr/local/lib/python3.6/dist-packages (from traitlets>=4.2->ipython>=5.1.0->ipdb) (1.15.0)\n",
            "Requirement already satisfied: wcwidth in /usr/local/lib/python3.6/dist-packages (from prompt-toolkit<2.0.0,>=1.0.4->ipython>=5.1.0->ipdb) (0.2.5)\n",
            "Building wheels for collected packages: ipdb\n",
            "  Building wheel for ipdb (setup.py) ... \u001b[?25l\u001b[?25hdone\n",
            "  Created wheel for ipdb: filename=ipdb-0.13.4-cp36-none-any.whl size=10973 sha256=d5934c64de55e88be467e3daef9a1a299f82e05b035c658706cd466f4c2df021\n",
            "  Stored in directory: /root/.cache/pip/wheels/56/51/e4/c91c61e3481a1a967beb18c4ea7a2b138a63cce94170b2e206\n",
            "Successfully built ipdb\n",
            "Installing collected packages: ipdb\n",
            "Successfully installed ipdb-0.13.4\n"
          ],
          "name": "stdout"
        }
      ]
    },
    {
      "cell_type": "code",
      "metadata": {
        "id": "O0UelIMWuJsN",
        "outputId": "7f68f234-34da-4960-f886-59bd40087f48",
        "colab": {
          "base_uri": "https://localhost:8080/",
          "height": 86
        }
      },
      "source": [
        "path = untar_data(URLs.CAMVID_TINY)\n",
        "path.ls()"
      ],
      "execution_count": 5,
      "outputs": [
        {
          "output_type": "stream",
          "text": [
            "Downloading http://files.fast.ai/data/examples/camvid_tiny.tgz\n"
          ],
          "name": "stdout"
        },
        {
          "output_type": "display_data",
          "data": {
            "text/html": [
              ""
            ],
            "text/plain": [
              "<IPython.core.display.HTML object>"
            ]
          },
          "metadata": {
            "tags": []
          }
        },
        {
          "output_type": "execute_result",
          "data": {
            "text/plain": [
              "[PosixPath('/root/.fastai/data/camvid_tiny/labels'),\n",
              " PosixPath('/root/.fastai/data/camvid_tiny/codes.txt'),\n",
              " PosixPath('/root/.fastai/data/camvid_tiny/images')]"
            ]
          },
          "metadata": {
            "tags": []
          },
          "execution_count": 5
        }
      ]
    },
    {
      "cell_type": "code",
      "metadata": {
        "id": "rWgpdBmsuSay",
        "outputId": "8d888cf8-22d1-4aa9-911a-65f164142e71",
        "colab": {
          "base_uri": "https://localhost:8080/",
          "height": 570
        }
      },
      "source": [
        "!cat /root/.fastai/data/camvid_tiny/codes.txt"
      ],
      "execution_count": 6,
      "outputs": [
        {
          "output_type": "stream",
          "text": [
            "Animal\n",
            "Archway\n",
            "Bicyclist\n",
            "Bridge\n",
            "Building\n",
            "Car\n",
            "CartLuggagePram\n",
            "Child\n",
            "Column_Pole\n",
            "Fence\n",
            "LaneMkgsDriv\n",
            "LaneMkgsNonDriv\n",
            "Misc_Text\n",
            "MotorcycleScooter\n",
            "OtherMoving\n",
            "ParkingBlock\n",
            "Pedestrian\n",
            "Road\n",
            "RoadShoulder\n",
            "Sidewalk\n",
            "SignSymbol\n",
            "Sky\n",
            "SUVPickupTruck\n",
            "TrafficCone\n",
            "TrafficLight\n",
            "Train\n",
            "Tree\n",
            "Truck_Bus\n",
            "Tunnel\n",
            "VegetationMisc\n",
            "Void\n",
            "Wall\n"
          ],
          "name": "stdout"
        }
      ]
    },
    {
      "cell_type": "code",
      "metadata": {
        "id": "90u2tnV5uaWi"
      },
      "source": [
        "codes = []\n",
        "with open(path/'codes.txt', 'r') as f:\n",
        "  codes = f.read().split('\\n')\n",
        "codes = codes[:-1]"
      ],
      "execution_count": 7,
      "outputs": []
    },
    {
      "cell_type": "code",
      "metadata": {
        "id": "v2uZ6p0fuvj5",
        "outputId": "33898cfe-2fb7-4dd9-9020-d6c0e174f675",
        "colab": {
          "base_uri": "https://localhost:8080/",
          "height": 72
        }
      },
      "source": [
        "#test\n",
        "print(codes)\n",
        "len(codes)"
      ],
      "execution_count": 8,
      "outputs": [
        {
          "output_type": "stream",
          "text": [
            "['Animal', 'Archway', 'Bicyclist', 'Bridge', 'Building', 'Car', 'CartLuggagePram', 'Child', 'Column_Pole', 'Fence', 'LaneMkgsDriv', 'LaneMkgsNonDriv', 'Misc_Text', 'MotorcycleScooter', 'OtherMoving', 'ParkingBlock', 'Pedestrian', 'Road', 'RoadShoulder', 'Sidewalk', 'SignSymbol', 'Sky', 'SUVPickupTruck', 'TrafficCone', 'TrafficLight', 'Train', 'Tree', 'Truck_Bus', 'Tunnel', 'VegetationMisc', 'Void', 'Wall']\n"
          ],
          "name": "stdout"
        },
        {
          "output_type": "execute_result",
          "data": {
            "text/plain": [
              "32"
            ]
          },
          "metadata": {
            "tags": []
          },
          "execution_count": 8
        }
      ]
    },
    {
      "cell_type": "code",
      "metadata": {
        "id": "PlUEFmZOvQPF",
        "outputId": "f4e81a22-5723-4cc4-d447-e1b8824ca625",
        "colab": {
          "base_uri": "https://localhost:8080/",
          "height": 69
        }
      },
      "source": [
        "path.ls()"
      ],
      "execution_count": 9,
      "outputs": [
        {
          "output_type": "execute_result",
          "data": {
            "text/plain": [
              "[PosixPath('/root/.fastai/data/camvid_tiny/labels'),\n",
              " PosixPath('/root/.fastai/data/camvid_tiny/codes.txt'),\n",
              " PosixPath('/root/.fastai/data/camvid_tiny/images')]"
            ]
          },
          "metadata": {
            "tags": []
          },
          "execution_count": 9
        }
      ]
    },
    {
      "cell_type": "code",
      "metadata": {
        "id": "5RoP8-n4vS1s",
        "outputId": "65dda8d3-c508-4d79-e925-a5765a1ea3a4",
        "colab": {
          "base_uri": "https://localhost:8080/",
          "height": 104
        }
      },
      "source": [
        "(path/'images').ls()[:5]"
      ],
      "execution_count": 10,
      "outputs": [
        {
          "output_type": "execute_result",
          "data": {
            "text/plain": [
              "[PosixPath('/root/.fastai/data/camvid_tiny/images/Seq05VD_f01830.png'),\n",
              " PosixPath('/root/.fastai/data/camvid_tiny/images/Seq05VD_f00090.png'),\n",
              " PosixPath('/root/.fastai/data/camvid_tiny/images/0001TP_009150.png'),\n",
              " PosixPath('/root/.fastai/data/camvid_tiny/images/0016E5_07997.png'),\n",
              " PosixPath('/root/.fastai/data/camvid_tiny/images/0016E5_06810.png')]"
            ]
          },
          "metadata": {
            "tags": []
          },
          "execution_count": 10
        }
      ]
    },
    {
      "cell_type": "code",
      "metadata": {
        "id": "hRr0qAkWvZd6",
        "outputId": "40589955-5e2e-4974-b3f0-12bf799e3eff",
        "colab": {
          "base_uri": "https://localhost:8080/",
          "height": 104
        }
      },
      "source": [
        "(path/'labels').ls()[:5]"
      ],
      "execution_count": 11,
      "outputs": [
        {
          "output_type": "execute_result",
          "data": {
            "text/plain": [
              "[PosixPath('/root/.fastai/data/camvid_tiny/labels/Seq05VD_f03210_P.png'),\n",
              " PosixPath('/root/.fastai/data/camvid_tiny/labels/Seq05VD_f00000_P.png'),\n",
              " PosixPath('/root/.fastai/data/camvid_tiny/labels/0016E5_08057_P.png'),\n",
              " PosixPath('/root/.fastai/data/camvid_tiny/labels/0001TP_008940_P.png'),\n",
              " PosixPath('/root/.fastai/data/camvid_tiny/labels/0016E5_01500_P.png')]"
            ]
          },
          "metadata": {
            "tags": []
          },
          "execution_count": 11
        }
      ]
    },
    {
      "cell_type": "code",
      "metadata": {
        "id": "AONs18EuvvZP"
      },
      "source": [
        "get_mask = lambda x: path/'labels'/f\"{x.stem}_P{x.suffix}\""
      ],
      "execution_count": 12,
      "outputs": []
    },
    {
      "cell_type": "code",
      "metadata": {
        "id": "t7-RVa52vj0u",
        "outputId": "9ace269a-755e-41f8-e929-32c326e3e114",
        "colab": {
          "base_uri": "https://localhost:8080/",
          "height": 295
        }
      },
      "source": [
        "#test\n",
        "test = (path/'images').ls()[0]\n",
        "# test.stem, test.suffix\n",
        "img = open_image(test)\n",
        "mask = open_mask(get_mask(test))\n",
        "img.show()\n",
        "mask.show()"
      ],
      "execution_count": 13,
      "outputs": [
        {
          "output_type": "display_data",
          "data": {
            "image/png": "[encoded data removed]",
            "text/plain": [
              "<Figure size 216x216 with 1 Axes>"
            ]
          },
          "metadata": {
            "tags": [],
            "needs_background": "light"
          }
        },
        {
          "output_type": "display_data",
          "data": {
            "image/png": "[encoded data removed]",
            "text/plain": [
              "<Figure size 216x216 with 1 Axes>"
            ]
          },
          "metadata": {
            "tags": [],
            "needs_background": "light"
          }
        }
      ]
    },
    {
      "cell_type": "code",
      "metadata": {
        "id": "BF6bl7x-v5Xs"
      },
      "source": [
        "split = SegmentationItemList.from_folder(path/'images').split_by_rand_pct()"
      ],
      "execution_count": 14,
      "outputs": []
    },
    {
      "cell_type": "code",
      "metadata": {
        "id": "OH8IK8taw5TL",
        "outputId": "fe7faf2a-9523-49a6-c45e-a8e9ea01dd3c",
        "colab": {
          "base_uri": "https://localhost:8080/",
          "height": 311
        }
      },
      "source": [
        "src = split.label_from_func(get_mask, classes = codes)\n",
        "src"
      ],
      "execution_count": 15,
      "outputs": [
        {
          "output_type": "execute_result",
          "data": {
            "text/plain": [
              "LabelLists;\n",
              "\n",
              "Train: LabelList (80 items)\n",
              "x: SegmentationItemList\n",
              "Image (3, 96, 128),Image (3, 96, 128),Image (3, 96, 128),Image (3, 96, 128),Image (3, 96, 128)\n",
              "y: SegmentationLabelList\n",
              "ImageSegment (1, 96, 128),ImageSegment (1, 96, 128),ImageSegment (1, 96, 128),ImageSegment (1, 96, 128),ImageSegment (1, 96, 128)\n",
              "Path: /root/.fastai/data/camvid_tiny/images;\n",
              "\n",
              "Valid: LabelList (20 items)\n",
              "x: SegmentationItemList\n",
              "Image (3, 96, 128),Image (3, 96, 128),Image (3, 96, 128),Image (3, 96, 128),Image (3, 96, 128)\n",
              "y: SegmentationLabelList\n",
              "ImageSegment (1, 96, 128),ImageSegment (1, 96, 128),ImageSegment (1, 96, 128),ImageSegment (1, 96, 128),ImageSegment (1, 96, 128)\n",
              "Path: /root/.fastai/data/camvid_tiny/images;\n",
              "\n",
              "Test: None"
            ]
          },
          "metadata": {
            "tags": []
          },
          "execution_count": 15
        }
      ]
    },
    {
      "cell_type": "code",
      "metadata": {
        "id": "x-aHa9qTxO_-"
      },
      "source": [
        "data = src.transform(get_transforms(), tfm_y = True).databunch(bs = 8).normalize(imagenet_stats)"
      ],
      "execution_count": 16,
      "outputs": []
    },
    {
      "cell_type": "code",
      "metadata": {
        "id": "uS2kB2tRyywd",
        "outputId": "bac03546-17ea-49e9-cf78-565a14dfa79a",
        "colab": {
          "base_uri": "https://localhost:8080/",
          "height": 207
        }
      },
      "source": [
        "#test\n",
        "test = (path/'images').ls()[0]\n",
        "img = open_image(test)\n",
        "img.data, img.shape\n",
        "mask = open_mask(get_mask(test))\n",
        "mask.data, mask.shape, codes[4], codes[26], codes[17]"
      ],
      "execution_count": 17,
      "outputs": [
        {
          "output_type": "execute_result",
          "data": {
            "text/plain": [
              "(tensor([[[ 4,  4,  4,  ..., 21, 21, 21],\n",
              "          [ 4,  4,  4,  ..., 21, 21, 21],\n",
              "          [ 4,  4,  4,  ..., 21, 21, 21],\n",
              "          ...,\n",
              "          [19, 19, 19,  ..., 17, 17, 17],\n",
              "          [19, 19, 19,  ..., 17, 17, 17],\n",
              "          [19, 19, 19,  ..., 17, 17, 17]]]),\n",
              " torch.Size([1, 96, 128]),\n",
              " 'Building',\n",
              " 'Tree',\n",
              " 'Road')"
            ]
          },
          "metadata": {
            "tags": []
          },
          "execution_count": 17
        }
      ]
    },
    {
      "cell_type": "code",
      "metadata": {
        "id": "fg2wqitszky5"
      },
      "source": [
        "name2id = {v: k for k, v in enumerate(codes)}\n",
        "\n",
        "def acc_camvid(input, target):\n",
        "  target = target.squeeze(1) # 8*1*96*128 --> 8*96*128\n",
        "  mask = target != name2id['Void']\n",
        "  pred = input.argmax(1) # 8*32*96*128 --> 8*96*128\n",
        "  return (pred[mask] == target[mask]).float().mean()"
      ],
      "execution_count": 18,
      "outputs": []
    },
    {
      "cell_type": "code",
      "metadata": {
        "id": "Y4yiS3xh0Tg6",
        "outputId": "6cdd4c80-7ca6-4fe7-e342-b9396c0ebc02",
        "colab": {
          "base_uri": "https://localhost:8080/",
          "height": 84,
          "referenced_widgets": [
            "9b5244b65f784314b2c357f248d9c910",
            "158578ea878b4ce9a0c0b39a7b65e6a0",
            "d9f2b39ddc154a7d9d187b22204a8031",
            "139781646cd540398f97694016cf2ff8",
            "d4a23e205e7b47bc83c95f8fd81c0e82",
            "1573350371d6418ebbd601e6db9b37bb",
            "efa76015f92d4419b5ed86956dfa8d66",
            "02df36d48503455c9dfd8242a97ee334"
          ]
        }
      },
      "source": [
        "learn = unet_learner(data, models.resnet34, metrics = acc_camvid)"
      ],
      "execution_count": 19,
      "outputs": [
        {
          "output_type": "stream",
          "text": [
            "Downloading: \"https://download.pytorch.org/models/resnet34-333f7ec4.pth\" to /root/.cache/torch/checkpoints/resnet34-333f7ec4.pth\n"
          ],
          "name": "stderr"
        },
        {
          "output_type": "display_data",
          "data": {
            "application/vnd.jupyter.widget-view+json": {
              "model_id": "9b5244b65f784314b2c357f248d9c910",
              "version_minor": 0,
              "version_major": 2
            },
            "text/plain": [
              "HBox(children=(FloatProgress(value=0.0, max=87306240.0), HTML(value='')))"
            ]
          },
          "metadata": {
            "tags": []
          }
        },
        {
          "output_type": "stream",
          "text": [
            "\n"
          ],
          "name": "stdout"
        }
      ]
    },
    {
      "cell_type": "code",
      "metadata": {
        "id": "3-2ekUgz0e8h",
        "outputId": "185056c9-2632-486b-f750-c44a9e91366c",
        "colab": {
          "base_uri": "https://localhost:8080/",
          "height": 1000
        }
      },
      "source": [
        "learn.__dict__"
      ],
      "execution_count": 20,
      "outputs": [
        {
          "output_type": "execute_result",
          "data": {
            "text/plain": [
              "{'add_time': True,\n",
              " 'bn_wd': True,\n",
              " 'callback_fns': [functools.partial(<class 'fastai.basic_train.Recorder'>, add_time=True, silent=False)],\n",
              " 'callbacks': [],\n",
              " 'data': ImageDataBunch;\n",
              " \n",
              " Train: LabelList (80 items)\n",
              " x: SegmentationItemList\n",
              " Image (3, 96, 128),Image (3, 96, 128),Image (3, 96, 128),Image (3, 96, 128),Image (3, 96, 128)\n",
              " y: SegmentationLabelList\n",
              " ImageSegment (1, 96, 128),ImageSegment (1, 96, 128),ImageSegment (1, 96, 128),ImageSegment (1, 96, 128),ImageSegment (1, 96, 128)\n",
              " Path: /root/.fastai/data/camvid_tiny/images;\n",
              " \n",
              " Valid: LabelList (20 items)\n",
              " x: SegmentationItemList\n",
              " Image (3, 96, 128),Image (3, 96, 128),Image (3, 96, 128),Image (3, 96, 128),Image (3, 96, 128)\n",
              " y: SegmentationLabelList\n",
              " ImageSegment (1, 96, 128),ImageSegment (1, 96, 128),ImageSegment (1, 96, 128),ImageSegment (1, 96, 128),ImageSegment (1, 96, 128)\n",
              " Path: /root/.fastai/data/camvid_tiny/images;\n",
              " \n",
              " Test: None,\n",
              " 'layer_groups': [Sequential(\n",
              "    (0): Conv2d(3, 64, kernel_size=(7, 7), stride=(2, 2), padding=(3, 3), bias=False)\n",
              "    (1): BatchNorm2d(64, eps=1e-05, momentum=0.1, affine=True, track_running_stats=True)\n",
              "    (2): ReLU(inplace=True)\n",
              "    (3): MaxPool2d(kernel_size=3, stride=2, padding=1, dilation=1, ceil_mode=False)\n",
              "    (4): Conv2d(64, 64, kernel_size=(3, 3), stride=(1, 1), padding=(1, 1), bias=False)\n",
              "    (5): BatchNorm2d(64, eps=1e-05, momentum=0.1, affine=True, track_running_stats=True)\n",
              "    (6): ReLU(inplace=True)\n",
              "    (7): Conv2d(64, 64, kernel_size=(3, 3), stride=(1, 1), padding=(1, 1), bias=False)\n",
              "    (8): BatchNorm2d(64, eps=1e-05, momentum=0.1, affine=True, track_running_stats=True)\n",
              "    (9): Conv2d(64, 64, kernel_size=(3, 3), stride=(1, 1), padding=(1, 1), bias=False)\n",
              "    (10): BatchNorm2d(64, eps=1e-05, momentum=0.1, affine=True, track_running_stats=True)\n",
              "    (11): ReLU(inplace=True)\n",
              "    (12): Conv2d(64, 64, kernel_size=(3, 3), stride=(1, 1), padding=(1, 1), bias=False)\n",
              "    (13): BatchNorm2d(64, eps=1e-05, momentum=0.1, affine=True, track_running_stats=True)\n",
              "    (14): Conv2d(64, 64, kernel_size=(3, 3), stride=(1, 1), padding=(1, 1), bias=False)\n",
              "    (15): BatchNorm2d(64, eps=1e-05, momentum=0.1, affine=True, track_running_stats=True)\n",
              "    (16): ReLU(inplace=True)\n",
              "    (17): Conv2d(64, 64, kernel_size=(3, 3), stride=(1, 1), padding=(1, 1), bias=False)\n",
              "    (18): BatchNorm2d(64, eps=1e-05, momentum=0.1, affine=True, track_running_stats=True)\n",
              "    (19): Conv2d(64, 128, kernel_size=(3, 3), stride=(2, 2), padding=(1, 1), bias=False)\n",
              "    (20): BatchNorm2d(128, eps=1e-05, momentum=0.1, affine=True, track_running_stats=True)\n",
              "    (21): ReLU(inplace=True)\n",
              "    (22): Conv2d(128, 128, kernel_size=(3, 3), stride=(1, 1), padding=(1, 1), bias=False)\n",
              "    (23): BatchNorm2d(128, eps=1e-05, momentum=0.1, affine=True, track_running_stats=True)\n",
              "    (24): Conv2d(64, 128, kernel_size=(1, 1), stride=(2, 2), bias=False)\n",
              "    (25): BatchNorm2d(128, eps=1e-05, momentum=0.1, affine=True, track_running_stats=True)\n",
              "    (26): Conv2d(128, 128, kernel_size=(3, 3), stride=(1, 1), padding=(1, 1), bias=False)\n",
              "    (27): BatchNorm2d(128, eps=1e-05, momentum=0.1, affine=True, track_running_stats=True)\n",
              "    (28): ReLU(inplace=True)\n",
              "    (29): Conv2d(128, 128, kernel_size=(3, 3), stride=(1, 1), padding=(1, 1), bias=False)\n",
              "    (30): BatchNorm2d(128, eps=1e-05, momentum=0.1, affine=True, track_running_stats=True)\n",
              "    (31): Conv2d(128, 128, kernel_size=(3, 3), stride=(1, 1), padding=(1, 1), bias=False)\n",
              "    (32): BatchNorm2d(128, eps=1e-05, momentum=0.1, affine=True, track_running_stats=True)\n",
              "    (33): ReLU(inplace=True)\n",
              "    (34): Conv2d(128, 128, kernel_size=(3, 3), stride=(1, 1), padding=(1, 1), bias=False)\n",
              "    (35): BatchNorm2d(128, eps=1e-05, momentum=0.1, affine=True, track_running_stats=True)\n",
              "    (36): Conv2d(128, 128, kernel_size=(3, 3), stride=(1, 1), padding=(1, 1), bias=False)\n",
              "    (37): BatchNorm2d(128, eps=1e-05, momentum=0.1, affine=True, track_running_stats=True)\n",
              "    (38): ReLU(inplace=True)\n",
              "    (39): Conv2d(128, 128, kernel_size=(3, 3), stride=(1, 1), padding=(1, 1), bias=False)\n",
              "    (40): BatchNorm2d(128, eps=1e-05, momentum=0.1, affine=True, track_running_stats=True)\n",
              "  ), Sequential(\n",
              "    (0): Conv2d(128, 256, kernel_size=(3, 3), stride=(2, 2), padding=(1, 1), bias=False)\n",
              "    (1): BatchNorm2d(256, eps=1e-05, momentum=0.1, affine=True, track_running_stats=True)\n",
              "    (2): ReLU(inplace=True)\n",
              "    (3): Conv2d(256, 256, kernel_size=(3, 3), stride=(1, 1), padding=(1, 1), bias=False)\n",
              "    (4): BatchNorm2d(256, eps=1e-05, momentum=0.1, affine=True, track_running_stats=True)\n",
              "    (5): Conv2d(128, 256, kernel_size=(1, 1), stride=(2, 2), bias=False)\n",
              "    (6): BatchNorm2d(256, eps=1e-05, momentum=0.1, affine=True, track_running_stats=True)\n",
              "    (7): Conv2d(256, 256, kernel_size=(3, 3), stride=(1, 1), padding=(1, 1), bias=False)\n",
              "    (8): BatchNorm2d(256, eps=1e-05, momentum=0.1, affine=True, track_running_stats=True)\n",
              "    (9): ReLU(inplace=True)\n",
              "    (10): Conv2d(256, 256, kernel_size=(3, 3), stride=(1, 1), padding=(1, 1), bias=False)\n",
              "    (11): BatchNorm2d(256, eps=1e-05, momentum=0.1, affine=True, track_running_stats=True)\n",
              "    (12): Conv2d(256, 256, kernel_size=(3, 3), stride=(1, 1), padding=(1, 1), bias=False)\n",
              "    (13): BatchNorm2d(256, eps=1e-05, momentum=0.1, affine=True, track_running_stats=True)\n",
              "    (14): ReLU(inplace=True)\n",
              "    (15): Conv2d(256, 256, kernel_size=(3, 3), stride=(1, 1), padding=(1, 1), bias=False)\n",
              "    (16): BatchNorm2d(256, eps=1e-05, momentum=0.1, affine=True, track_running_stats=True)\n",
              "    (17): Conv2d(256, 256, kernel_size=(3, 3), stride=(1, 1), padding=(1, 1), bias=False)\n",
              "    (18): BatchNorm2d(256, eps=1e-05, momentum=0.1, affine=True, track_running_stats=True)\n",
              "    (19): ReLU(inplace=True)\n",
              "    (20): Conv2d(256, 256, kernel_size=(3, 3), stride=(1, 1), padding=(1, 1), bias=False)\n",
              "    (21): BatchNorm2d(256, eps=1e-05, momentum=0.1, affine=True, track_running_stats=True)\n",
              "    (22): Conv2d(256, 256, kernel_size=(3, 3), stride=(1, 1), padding=(1, 1), bias=False)\n",
              "    (23): BatchNorm2d(256, eps=1e-05, momentum=0.1, affine=True, track_running_stats=True)\n",
              "    (24): ReLU(inplace=True)\n",
              "    (25): Conv2d(256, 256, kernel_size=(3, 3), stride=(1, 1), padding=(1, 1), bias=False)\n",
              "    (26): BatchNorm2d(256, eps=1e-05, momentum=0.1, affine=True, track_running_stats=True)\n",
              "    (27): Conv2d(256, 256, kernel_size=(3, 3), stride=(1, 1), padding=(1, 1), bias=False)\n",
              "    (28): BatchNorm2d(256, eps=1e-05, momentum=0.1, affine=True, track_running_stats=True)\n",
              "    (29): ReLU(inplace=True)\n",
              "    (30): Conv2d(256, 256, kernel_size=(3, 3), stride=(1, 1), padding=(1, 1), bias=False)\n",
              "    (31): BatchNorm2d(256, eps=1e-05, momentum=0.1, affine=True, track_running_stats=True)\n",
              "    (32): Conv2d(256, 512, kernel_size=(3, 3), stride=(2, 2), padding=(1, 1), bias=False)\n",
              "    (33): BatchNorm2d(512, eps=1e-05, momentum=0.1, affine=True, track_running_stats=True)\n",
              "    (34): ReLU(inplace=True)\n",
              "    (35): Conv2d(512, 512, kernel_size=(3, 3), stride=(1, 1), padding=(1, 1), bias=False)\n",
              "    (36): BatchNorm2d(512, eps=1e-05, momentum=0.1, affine=True, track_running_stats=True)\n",
              "    (37): Conv2d(256, 512, kernel_size=(1, 1), stride=(2, 2), bias=False)\n",
              "    (38): BatchNorm2d(512, eps=1e-05, momentum=0.1, affine=True, track_running_stats=True)\n",
              "    (39): Conv2d(512, 512, kernel_size=(3, 3), stride=(1, 1), padding=(1, 1), bias=False)\n",
              "    (40): BatchNorm2d(512, eps=1e-05, momentum=0.1, affine=True, track_running_stats=True)\n",
              "    (41): ReLU(inplace=True)\n",
              "    (42): Conv2d(512, 512, kernel_size=(3, 3), stride=(1, 1), padding=(1, 1), bias=False)\n",
              "    (43): BatchNorm2d(512, eps=1e-05, momentum=0.1, affine=True, track_running_stats=True)\n",
              "    (44): Conv2d(512, 512, kernel_size=(3, 3), stride=(1, 1), padding=(1, 1), bias=False)\n",
              "    (45): BatchNorm2d(512, eps=1e-05, momentum=0.1, affine=True, track_running_stats=True)\n",
              "    (46): ReLU(inplace=True)\n",
              "    (47): Conv2d(512, 512, kernel_size=(3, 3), stride=(1, 1), padding=(1, 1), bias=False)\n",
              "    (48): BatchNorm2d(512, eps=1e-05, momentum=0.1, affine=True, track_running_stats=True)\n",
              "  ), Sequential(\n",
              "    (0): BatchNorm2d(512, eps=1e-05, momentum=0.1, affine=True, track_running_stats=True)\n",
              "    (1): ReLU()\n",
              "    (2): Conv2d(512, 1024, kernel_size=(3, 3), stride=(1, 1), padding=(1, 1))\n",
              "    (3): ReLU(inplace=True)\n",
              "    (4): Conv2d(1024, 512, kernel_size=(3, 3), stride=(1, 1), padding=(1, 1))\n",
              "    (5): ReLU(inplace=True)\n",
              "    (6): Conv2d(512, 1024, kernel_size=(1, 1), stride=(1, 1))\n",
              "    (7): PixelShuffle(upscale_factor=2)\n",
              "    (8): ReplicationPad2d((1, 0, 1, 0))\n",
              "    (9): AvgPool2d(kernel_size=2, stride=1, padding=0)\n",
              "    (10): ReLU(inplace=True)\n",
              "    (11): BatchNorm2d(256, eps=1e-05, momentum=0.1, affine=True, track_running_stats=True)\n",
              "    (12): Conv2d(512, 512, kernel_size=(3, 3), stride=(1, 1), padding=(1, 1))\n",
              "    (13): ReLU(inplace=True)\n",
              "    (14): Conv2d(512, 512, kernel_size=(3, 3), stride=(1, 1), padding=(1, 1))\n",
              "    (15): ReLU(inplace=True)\n",
              "    (16): ReLU()\n",
              "    (17): Conv2d(512, 1024, kernel_size=(1, 1), stride=(1, 1))\n",
              "    (18): PixelShuffle(upscale_factor=2)\n",
              "    (19): ReplicationPad2d((1, 0, 1, 0))\n",
              "    (20): AvgPool2d(kernel_size=2, stride=1, padding=0)\n",
              "    (21): ReLU(inplace=True)\n",
              "    (22): BatchNorm2d(128, eps=1e-05, momentum=0.1, affine=True, track_running_stats=True)\n",
              "    (23): Conv2d(384, 384, kernel_size=(3, 3), stride=(1, 1), padding=(1, 1))\n",
              "    (24): ReLU(inplace=True)\n",
              "    (25): Conv2d(384, 384, kernel_size=(3, 3), stride=(1, 1), padding=(1, 1))\n",
              "    (26): ReLU(inplace=True)\n",
              "    (27): ReLU()\n",
              "    (28): Conv2d(384, 768, kernel_size=(1, 1), stride=(1, 1))\n",
              "    (29): PixelShuffle(upscale_factor=2)\n",
              "    (30): ReplicationPad2d((1, 0, 1, 0))\n",
              "    (31): AvgPool2d(kernel_size=2, stride=1, padding=0)\n",
              "    (32): ReLU(inplace=True)\n",
              "    (33): BatchNorm2d(64, eps=1e-05, momentum=0.1, affine=True, track_running_stats=True)\n",
              "    (34): Conv2d(256, 256, kernel_size=(3, 3), stride=(1, 1), padding=(1, 1))\n",
              "    (35): ReLU(inplace=True)\n",
              "    (36): Conv2d(256, 256, kernel_size=(3, 3), stride=(1, 1), padding=(1, 1))\n",
              "    (37): ReLU(inplace=True)\n",
              "    (38): ReLU()\n",
              "    (39): Conv2d(256, 512, kernel_size=(1, 1), stride=(1, 1))\n",
              "    (40): PixelShuffle(upscale_factor=2)\n",
              "    (41): ReplicationPad2d((1, 0, 1, 0))\n",
              "    (42): AvgPool2d(kernel_size=2, stride=1, padding=0)\n",
              "    (43): ReLU(inplace=True)\n",
              "    (44): BatchNorm2d(64, eps=1e-05, momentum=0.1, affine=True, track_running_stats=True)\n",
              "    (45): Conv2d(192, 96, kernel_size=(3, 3), stride=(1, 1), padding=(1, 1))\n",
              "    (46): ReLU(inplace=True)\n",
              "    (47): Conv2d(96, 96, kernel_size=(3, 3), stride=(1, 1), padding=(1, 1))\n",
              "    (48): ReLU(inplace=True)\n",
              "    (49): ReLU()\n",
              "    (50): Conv2d(96, 384, kernel_size=(1, 1), stride=(1, 1))\n",
              "    (51): PixelShuffle(upscale_factor=2)\n",
              "    (52): ReplicationPad2d((1, 0, 1, 0))\n",
              "    (53): AvgPool2d(kernel_size=2, stride=1, padding=0)\n",
              "    (54): ReLU(inplace=True)\n",
              "    (55): MergeLayer()\n",
              "    (56): Conv2d(99, 99, kernel_size=(3, 3), stride=(1, 1), padding=(1, 1))\n",
              "    (57): ReLU(inplace=True)\n",
              "    (58): Conv2d(99, 99, kernel_size=(3, 3), stride=(1, 1), padding=(1, 1))\n",
              "    (59): ReLU(inplace=True)\n",
              "    (60): MergeLayer()\n",
              "    (61): Conv2d(99, 32, kernel_size=(1, 1), stride=(1, 1))\n",
              "  )],\n",
              " 'loss_func': FlattenedLoss of CrossEntropyLoss(),\n",
              " 'metrics': [<function __main__.acc_camvid>],\n",
              " 'model': DynamicUnet(\n",
              "   (layers): ModuleList(\n",
              "     (0): Sequential(\n",
              "       (0): Conv2d(3, 64, kernel_size=(7, 7), stride=(2, 2), padding=(3, 3), bias=False)\n",
              "       (1): BatchNorm2d(64, eps=1e-05, momentum=0.1, affine=True, track_running_stats=True)\n",
              "       (2): ReLU(inplace=True)\n",
              "       (3): MaxPool2d(kernel_size=3, stride=2, padding=1, dilation=1, ceil_mode=False)\n",
              "       (4): Sequential(\n",
              "         (0): BasicBlock(\n",
              "           (conv1): Conv2d(64, 64, kernel_size=(3, 3), stride=(1, 1), padding=(1, 1), bias=False)\n",
              "           (bn1): BatchNorm2d(64, eps=1e-05, momentum=0.1, affine=True, track_running_stats=True)\n",
              "           (relu): ReLU(inplace=True)\n",
              "           (conv2): Conv2d(64, 64, kernel_size=(3, 3), stride=(1, 1), padding=(1, 1), bias=False)\n",
              "           (bn2): BatchNorm2d(64, eps=1e-05, momentum=0.1, affine=True, track_running_stats=True)\n",
              "         )\n",
              "         (1): BasicBlock(\n",
              "           (conv1): Conv2d(64, 64, kernel_size=(3, 3), stride=(1, 1), padding=(1, 1), bias=False)\n",
              "           (bn1): BatchNorm2d(64, eps=1e-05, momentum=0.1, affine=True, track_running_stats=True)\n",
              "           (relu): ReLU(inplace=True)\n",
              "           (conv2): Conv2d(64, 64, kernel_size=(3, 3), stride=(1, 1), padding=(1, 1), bias=False)\n",
              "           (bn2): BatchNorm2d(64, eps=1e-05, momentum=0.1, affine=True, track_running_stats=True)\n",
              "         )\n",
              "         (2): BasicBlock(\n",
              "           (conv1): Conv2d(64, 64, kernel_size=(3, 3), stride=(1, 1), padding=(1, 1), bias=False)\n",
              "           (bn1): BatchNorm2d(64, eps=1e-05, momentum=0.1, affine=True, track_running_stats=True)\n",
              "           (relu): ReLU(inplace=True)\n",
              "           (conv2): Conv2d(64, 64, kernel_size=(3, 3), stride=(1, 1), padding=(1, 1), bias=False)\n",
              "           (bn2): BatchNorm2d(64, eps=1e-05, momentum=0.1, affine=True, track_running_stats=True)\n",
              "         )\n",
              "       )\n",
              "       (5): Sequential(\n",
              "         (0): BasicBlock(\n",
              "           (conv1): Conv2d(64, 128, kernel_size=(3, 3), stride=(2, 2), padding=(1, 1), bias=False)\n",
              "           (bn1): BatchNorm2d(128, eps=1e-05, momentum=0.1, affine=True, track_running_stats=True)\n",
              "           (relu): ReLU(inplace=True)\n",
              "           (conv2): Conv2d(128, 128, kernel_size=(3, 3), stride=(1, 1), padding=(1, 1), bias=False)\n",
              "           (bn2): BatchNorm2d(128, eps=1e-05, momentum=0.1, affine=True, track_running_stats=True)\n",
              "           (downsample): Sequential(\n",
              "             (0): Conv2d(64, 128, kernel_size=(1, 1), stride=(2, 2), bias=False)\n",
              "             (1): BatchNorm2d(128, eps=1e-05, momentum=0.1, affine=True, track_running_stats=True)\n",
              "           )\n",
              "         )\n",
              "         (1): BasicBlock(\n",
              "           (conv1): Conv2d(128, 128, kernel_size=(3, 3), stride=(1, 1), padding=(1, 1), bias=False)\n",
              "           (bn1): BatchNorm2d(128, eps=1e-05, momentum=0.1, affine=True, track_running_stats=True)\n",
              "           (relu): ReLU(inplace=True)\n",
              "           (conv2): Conv2d(128, 128, kernel_size=(3, 3), stride=(1, 1), padding=(1, 1), bias=False)\n",
              "           (bn2): BatchNorm2d(128, eps=1e-05, momentum=0.1, affine=True, track_running_stats=True)\n",
              "         )\n",
              "         (2): BasicBlock(\n",
              "           (conv1): Conv2d(128, 128, kernel_size=(3, 3), stride=(1, 1), padding=(1, 1), bias=False)\n",
              "           (bn1): BatchNorm2d(128, eps=1e-05, momentum=0.1, affine=True, track_running_stats=True)\n",
              "           (relu): ReLU(inplace=True)\n",
              "           (conv2): Conv2d(128, 128, kernel_size=(3, 3), stride=(1, 1), padding=(1, 1), bias=False)\n",
              "           (bn2): BatchNorm2d(128, eps=1e-05, momentum=0.1, affine=True, track_running_stats=True)\n",
              "         )\n",
              "         (3): BasicBlock(\n",
              "           (conv1): Conv2d(128, 128, kernel_size=(3, 3), stride=(1, 1), padding=(1, 1), bias=False)\n",
              "           (bn1): BatchNorm2d(128, eps=1e-05, momentum=0.1, affine=True, track_running_stats=True)\n",
              "           (relu): ReLU(inplace=True)\n",
              "           (conv2): Conv2d(128, 128, kernel_size=(3, 3), stride=(1, 1), padding=(1, 1), bias=False)\n",
              "           (bn2): BatchNorm2d(128, eps=1e-05, momentum=0.1, affine=True, track_running_stats=True)\n",
              "         )\n",
              "       )\n",
              "       (6): Sequential(\n",
              "         (0): BasicBlock(\n",
              "           (conv1): Conv2d(128, 256, kernel_size=(3, 3), stride=(2, 2), padding=(1, 1), bias=False)\n",
              "           (bn1): BatchNorm2d(256, eps=1e-05, momentum=0.1, affine=True, track_running_stats=True)\n",
              "           (relu): ReLU(inplace=True)\n",
              "           (conv2): Conv2d(256, 256, kernel_size=(3, 3), stride=(1, 1), padding=(1, 1), bias=False)\n",
              "           (bn2): BatchNorm2d(256, eps=1e-05, momentum=0.1, affine=True, track_running_stats=True)\n",
              "           (downsample): Sequential(\n",
              "             (0): Conv2d(128, 256, kernel_size=(1, 1), stride=(2, 2), bias=False)\n",
              "             (1): BatchNorm2d(256, eps=1e-05, momentum=0.1, affine=True, track_running_stats=True)\n",
              "           )\n",
              "         )\n",
              "         (1): BasicBlock(\n",
              "           (conv1): Conv2d(256, 256, kernel_size=(3, 3), stride=(1, 1), padding=(1, 1), bias=False)\n",
              "           (bn1): BatchNorm2d(256, eps=1e-05, momentum=0.1, affine=True, track_running_stats=True)\n",
              "           (relu): ReLU(inplace=True)\n",
              "           (conv2): Conv2d(256, 256, kernel_size=(3, 3), stride=(1, 1), padding=(1, 1), bias=False)\n",
              "           (bn2): BatchNorm2d(256, eps=1e-05, momentum=0.1, affine=True, track_running_stats=True)\n",
              "         )\n",
              "         (2): BasicBlock(\n",
              "           (conv1): Conv2d(256, 256, kernel_size=(3, 3), stride=(1, 1), padding=(1, 1), bias=False)\n",
              "           (bn1): BatchNorm2d(256, eps=1e-05, momentum=0.1, affine=True, track_running_stats=True)\n",
              "           (relu): ReLU(inplace=True)\n",
              "           (conv2): Conv2d(256, 256, kernel_size=(3, 3), stride=(1, 1), padding=(1, 1), bias=False)\n",
              "           (bn2): BatchNorm2d(256, eps=1e-05, momentum=0.1, affine=True, track_running_stats=True)\n",
              "         )\n",
              "         (3): BasicBlock(\n",
              "           (conv1): Conv2d(256, 256, kernel_size=(3, 3), stride=(1, 1), padding=(1, 1), bias=False)\n",
              "           (bn1): BatchNorm2d(256, eps=1e-05, momentum=0.1, affine=True, track_running_stats=True)\n",
              "           (relu): ReLU(inplace=True)\n",
              "           (conv2): Conv2d(256, 256, kernel_size=(3, 3), stride=(1, 1), padding=(1, 1), bias=False)\n",
              "           (bn2): BatchNorm2d(256, eps=1e-05, momentum=0.1, affine=True, track_running_stats=True)\n",
              "         )\n",
              "         (4): BasicBlock(\n",
              "           (conv1): Conv2d(256, 256, kernel_size=(3, 3), stride=(1, 1), padding=(1, 1), bias=False)\n",
              "           (bn1): BatchNorm2d(256, eps=1e-05, momentum=0.1, affine=True, track_running_stats=True)\n",
              "           (relu): ReLU(inplace=True)\n",
              "           (conv2): Conv2d(256, 256, kernel_size=(3, 3), stride=(1, 1), padding=(1, 1), bias=False)\n",
              "           (bn2): BatchNorm2d(256, eps=1e-05, momentum=0.1, affine=True, track_running_stats=True)\n",
              "         )\n",
              "         (5): BasicBlock(\n",
              "           (conv1): Conv2d(256, 256, kernel_size=(3, 3), stride=(1, 1), padding=(1, 1), bias=False)\n",
              "           (bn1): BatchNorm2d(256, eps=1e-05, momentum=0.1, affine=True, track_running_stats=True)\n",
              "           (relu): ReLU(inplace=True)\n",
              "           (conv2): Conv2d(256, 256, kernel_size=(3, 3), stride=(1, 1), padding=(1, 1), bias=False)\n",
              "           (bn2): BatchNorm2d(256, eps=1e-05, momentum=0.1, affine=True, track_running_stats=True)\n",
              "         )\n",
              "       )\n",
              "       (7): Sequential(\n",
              "         (0): BasicBlock(\n",
              "           (conv1): Conv2d(256, 512, kernel_size=(3, 3), stride=(2, 2), padding=(1, 1), bias=False)\n",
              "           (bn1): BatchNorm2d(512, eps=1e-05, momentum=0.1, affine=True, track_running_stats=True)\n",
              "           (relu): ReLU(inplace=True)\n",
              "           (conv2): Conv2d(512, 512, kernel_size=(3, 3), stride=(1, 1), padding=(1, 1), bias=False)\n",
              "           (bn2): BatchNorm2d(512, eps=1e-05, momentum=0.1, affine=True, track_running_stats=True)\n",
              "           (downsample): Sequential(\n",
              "             (0): Conv2d(256, 512, kernel_size=(1, 1), stride=(2, 2), bias=False)\n",
              "             (1): BatchNorm2d(512, eps=1e-05, momentum=0.1, affine=True, track_running_stats=True)\n",
              "           )\n",
              "         )\n",
              "         (1): BasicBlock(\n",
              "           (conv1): Conv2d(512, 512, kernel_size=(3, 3), stride=(1, 1), padding=(1, 1), bias=False)\n",
              "           (bn1): BatchNorm2d(512, eps=1e-05, momentum=0.1, affine=True, track_running_stats=True)\n",
              "           (relu): ReLU(inplace=True)\n",
              "           (conv2): Conv2d(512, 512, kernel_size=(3, 3), stride=(1, 1), padding=(1, 1), bias=False)\n",
              "           (bn2): BatchNorm2d(512, eps=1e-05, momentum=0.1, affine=True, track_running_stats=True)\n",
              "         )\n",
              "         (2): BasicBlock(\n",
              "           (conv1): Conv2d(512, 512, kernel_size=(3, 3), stride=(1, 1), padding=(1, 1), bias=False)\n",
              "           (bn1): BatchNorm2d(512, eps=1e-05, momentum=0.1, affine=True, track_running_stats=True)\n",
              "           (relu): ReLU(inplace=True)\n",
              "           (conv2): Conv2d(512, 512, kernel_size=(3, 3), stride=(1, 1), padding=(1, 1), bias=False)\n",
              "           (bn2): BatchNorm2d(512, eps=1e-05, momentum=0.1, affine=True, track_running_stats=True)\n",
              "         )\n",
              "       )\n",
              "     )\n",
              "     (1): BatchNorm2d(512, eps=1e-05, momentum=0.1, affine=True, track_running_stats=True)\n",
              "     (2): ReLU()\n",
              "     (3): Sequential(\n",
              "       (0): Sequential(\n",
              "         (0): Conv2d(512, 1024, kernel_size=(3, 3), stride=(1, 1), padding=(1, 1))\n",
              "         (1): ReLU(inplace=True)\n",
              "       )\n",
              "       (1): Sequential(\n",
              "         (0): Conv2d(1024, 512, kernel_size=(3, 3), stride=(1, 1), padding=(1, 1))\n",
              "         (1): ReLU(inplace=True)\n",
              "       )\n",
              "     )\n",
              "     (4): UnetBlock(\n",
              "       (shuf): PixelShuffle_ICNR(\n",
              "         (conv): Sequential(\n",
              "           (0): Conv2d(512, 1024, kernel_size=(1, 1), stride=(1, 1))\n",
              "         )\n",
              "         (shuf): PixelShuffle(upscale_factor=2)\n",
              "         (pad): ReplicationPad2d((1, 0, 1, 0))\n",
              "         (blur): AvgPool2d(kernel_size=2, stride=1, padding=0)\n",
              "         (relu): ReLU(inplace=True)\n",
              "       )\n",
              "       (bn): BatchNorm2d(256, eps=1e-05, momentum=0.1, affine=True, track_running_stats=True)\n",
              "       (conv1): Sequential(\n",
              "         (0): Conv2d(512, 512, kernel_size=(3, 3), stride=(1, 1), padding=(1, 1))\n",
              "         (1): ReLU(inplace=True)\n",
              "       )\n",
              "       (conv2): Sequential(\n",
              "         (0): Conv2d(512, 512, kernel_size=(3, 3), stride=(1, 1), padding=(1, 1))\n",
              "         (1): ReLU(inplace=True)\n",
              "       )\n",
              "       (relu): ReLU()\n",
              "     )\n",
              "     (5): UnetBlock(\n",
              "       (shuf): PixelShuffle_ICNR(\n",
              "         (conv): Sequential(\n",
              "           (0): Conv2d(512, 1024, kernel_size=(1, 1), stride=(1, 1))\n",
              "         )\n",
              "         (shuf): PixelShuffle(upscale_factor=2)\n",
              "         (pad): ReplicationPad2d((1, 0, 1, 0))\n",
              "         (blur): AvgPool2d(kernel_size=2, stride=1, padding=0)\n",
              "         (relu): ReLU(inplace=True)\n",
              "       )\n",
              "       (bn): BatchNorm2d(128, eps=1e-05, momentum=0.1, affine=True, track_running_stats=True)\n",
              "       (conv1): Sequential(\n",
              "         (0): Conv2d(384, 384, kernel_size=(3, 3), stride=(1, 1), padding=(1, 1))\n",
              "         (1): ReLU(inplace=True)\n",
              "       )\n",
              "       (conv2): Sequential(\n",
              "         (0): Conv2d(384, 384, kernel_size=(3, 3), stride=(1, 1), padding=(1, 1))\n",
              "         (1): ReLU(inplace=True)\n",
              "       )\n",
              "       (relu): ReLU()\n",
              "     )\n",
              "     (6): UnetBlock(\n",
              "       (shuf): PixelShuffle_ICNR(\n",
              "         (conv): Sequential(\n",
              "           (0): Conv2d(384, 768, kernel_size=(1, 1), stride=(1, 1))\n",
              "         )\n",
              "         (shuf): PixelShuffle(upscale_factor=2)\n",
              "         (pad): ReplicationPad2d((1, 0, 1, 0))\n",
              "         (blur): AvgPool2d(kernel_size=2, stride=1, padding=0)\n",
              "         (relu): ReLU(inplace=True)\n",
              "       )\n",
              "       (bn): BatchNorm2d(64, eps=1e-05, momentum=0.1, affine=True, track_running_stats=True)\n",
              "       (conv1): Sequential(\n",
              "         (0): Conv2d(256, 256, kernel_size=(3, 3), stride=(1, 1), padding=(1, 1))\n",
              "         (1): ReLU(inplace=True)\n",
              "       )\n",
              "       (conv2): Sequential(\n",
              "         (0): Conv2d(256, 256, kernel_size=(3, 3), stride=(1, 1), padding=(1, 1))\n",
              "         (1): ReLU(inplace=True)\n",
              "       )\n",
              "       (relu): ReLU()\n",
              "     )\n",
              "     (7): UnetBlock(\n",
              "       (shuf): PixelShuffle_ICNR(\n",
              "         (conv): Sequential(\n",
              "           (0): Conv2d(256, 512, kernel_size=(1, 1), stride=(1, 1))\n",
              "         )\n",
              "         (shuf): PixelShuffle(upscale_factor=2)\n",
              "         (pad): ReplicationPad2d((1, 0, 1, 0))\n",
              "         (blur): AvgPool2d(kernel_size=2, stride=1, padding=0)\n",
              "         (relu): ReLU(inplace=True)\n",
              "       )\n",
              "       (bn): BatchNorm2d(64, eps=1e-05, momentum=0.1, affine=True, track_running_stats=True)\n",
              "       (conv1): Sequential(\n",
              "         (0): Conv2d(192, 96, kernel_size=(3, 3), stride=(1, 1), padding=(1, 1))\n",
              "         (1): ReLU(inplace=True)\n",
              "       )\n",
              "       (conv2): Sequential(\n",
              "         (0): Conv2d(96, 96, kernel_size=(3, 3), stride=(1, 1), padding=(1, 1))\n",
              "         (1): ReLU(inplace=True)\n",
              "       )\n",
              "       (relu): ReLU()\n",
              "     )\n",
              "     (8): PixelShuffle_ICNR(\n",
              "       (conv): Sequential(\n",
              "         (0): Conv2d(96, 384, kernel_size=(1, 1), stride=(1, 1))\n",
              "       )\n",
              "       (shuf): PixelShuffle(upscale_factor=2)\n",
              "       (pad): ReplicationPad2d((1, 0, 1, 0))\n",
              "       (blur): AvgPool2d(kernel_size=2, stride=1, padding=0)\n",
              "       (relu): ReLU(inplace=True)\n",
              "     )\n",
              "     (9): MergeLayer()\n",
              "     (10): SequentialEx(\n",
              "       (layers): ModuleList(\n",
              "         (0): Sequential(\n",
              "           (0): Conv2d(99, 99, kernel_size=(3, 3), stride=(1, 1), padding=(1, 1))\n",
              "           (1): ReLU(inplace=True)\n",
              "         )\n",
              "         (1): Sequential(\n",
              "           (0): Conv2d(99, 99, kernel_size=(3, 3), stride=(1, 1), padding=(1, 1))\n",
              "           (1): ReLU(inplace=True)\n",
              "         )\n",
              "         (2): MergeLayer()\n",
              "       )\n",
              "     )\n",
              "     (11): Sequential(\n",
              "       (0): Conv2d(99, 32, kernel_size=(1, 1), stride=(1, 1))\n",
              "     )\n",
              "   )\n",
              " ),\n",
              " 'model_dir': 'models',\n",
              " 'opt': OptimWrapper over Adam (\n",
              " Parameter Group 0\n",
              "     amsgrad: False\n",
              "     betas: (0.9, 0.99)\n",
              "     eps: 1e-08\n",
              "     lr: slice(None, 0.003, None)\n",
              "     weight_decay: 0\n",
              " \n",
              " Parameter Group 1\n",
              "     amsgrad: False\n",
              "     betas: (0.9, 0.99)\n",
              "     eps: 1e-08\n",
              "     lr: slice(None, 0.003, None)\n",
              "     weight_decay: 0\n",
              " \n",
              " Parameter Group 2\n",
              "     amsgrad: False\n",
              "     betas: (0.9, 0.99)\n",
              "     eps: 1e-08\n",
              "     lr: slice(None, 0.003, None)\n",
              "     weight_decay: 0\n",
              " \n",
              " Parameter Group 3\n",
              "     amsgrad: False\n",
              "     betas: (0.9, 0.99)\n",
              "     eps: 1e-08\n",
              "     lr: slice(None, 0.003, None)\n",
              "     weight_decay: 0\n",
              " \n",
              " Parameter Group 4\n",
              "     amsgrad: False\n",
              "     betas: (0.9, 0.99)\n",
              "     eps: 1e-08\n",
              "     lr: slice(None, 0.003, None)\n",
              "     weight_decay: 0\n",
              " \n",
              " Parameter Group 5\n",
              "     amsgrad: False\n",
              "     betas: (0.9, 0.99)\n",
              "     eps: 1e-08\n",
              "     lr: slice(None, 0.003, None)\n",
              "     weight_decay: 0\n",
              " ).\n",
              " True weight decay: True,\n",
              " 'opt_func': functools.partial(<class 'torch.optim.adam.Adam'>, betas=(0.9, 0.99)),\n",
              " 'path': PosixPath('/root/.fastai/data/camvid_tiny/images'),\n",
              " 'silent': False,\n",
              " 'train_bn': True,\n",
              " 'true_wd': True,\n",
              " 'wd': 0.01}"
            ]
          },
          "metadata": {
            "tags": []
          },
          "execution_count": 20
        }
      ]
    },
    {
      "cell_type": "code",
      "metadata": {
        "id": "1KzU_Xaa2eMa",
        "outputId": "75e07693-4eaa-4bbc-8c15-9ea3cc20f079",
        "colab": {
          "base_uri": "https://localhost:8080/",
          "height": 35
        }
      },
      "source": [
        "#test\n",
        "xb, yb = data.one_batch()\n",
        "xb, yb = xb.cuda(), yb.cuda()\n",
        "xb.shape, yb.shape"
      ],
      "execution_count": 21,
      "outputs": [
        {
          "output_type": "execute_result",
          "data": {
            "text/plain": [
              "(torch.Size([8, 3, 96, 128]), torch.Size([8, 1, 96, 128]))"
            ]
          },
          "metadata": {
            "tags": []
          },
          "execution_count": 21
        }
      ]
    },
    {
      "cell_type": "code",
      "metadata": {
        "id": "uObUpy0_2nLI",
        "outputId": "89756bd3-dc8c-4ec5-db64-fdbfff660a17",
        "colab": {
          "base_uri": "https://localhost:8080/",
          "height": 35
        }
      },
      "source": [
        "#test\n",
        "ybhat = learn.model(xb)\n",
        "ybhat.shape"
      ],
      "execution_count": 22,
      "outputs": [
        {
          "output_type": "execute_result",
          "data": {
            "text/plain": [
              "torch.Size([8, 32, 96, 128])"
            ]
          },
          "metadata": {
            "tags": []
          },
          "execution_count": 22
        }
      ]
    },
    {
      "cell_type": "code",
      "metadata": {
        "id": "xdXVk1dL2_tq",
        "outputId": "51fddd64-a9ea-4807-9033-edb3bd5ca74d",
        "colab": {
          "base_uri": "https://localhost:8080/",
          "height": 35
        }
      },
      "source": [
        "#test\n",
        "ybhat.squeeze(1).shape, yb.squeeze(1).shape\n",
        "test = ybhat.argmax(1)\n",
        "test.shape"
      ],
      "execution_count": 23,
      "outputs": [
        {
          "output_type": "execute_result",
          "data": {
            "text/plain": [
              "torch.Size([8, 96, 128])"
            ]
          },
          "metadata": {
            "tags": []
          },
          "execution_count": 23
        }
      ]
    },
    {
      "cell_type": "code",
      "metadata": {
        "id": "9MYDFy-_Fv91",
        "outputId": "0bbeba53-3354-4cc8-cfb8-ec814ec3bbe6",
        "colab": {
          "base_uri": "https://localhost:8080/",
          "height": 35
        }
      },
      "source": [
        "#test\n",
        "x = ybhat.argmax(1)\n",
        "# x.shape, x\n",
        "mask = (yb != name2id['Void']).squeeze(1)\n",
        "target = yb.squeeze(1)\n",
        "# mask\n",
        "# x.shape, mask.shape, yb.shape\n",
        "nx = (x[mask] == target[mask])\n",
        "nx.float().mean()"
      ],
      "execution_count": 24,
      "outputs": [
        {
          "output_type": "execute_result",
          "data": {
            "text/plain": [
              "tensor(0.0159, device='cuda:0')"
            ]
          },
          "metadata": {
            "tags": []
          },
          "execution_count": 24
        }
      ]
    },
    {
      "cell_type": "code",
      "metadata": {
        "id": "kBWpAu6a4brb"
      },
      "source": [
        "#test\n",
        "# learn.loss_func\n",
        "# from fastai.layers import CrossEntropyFlat\n",
        "# loss_func = CrossEntropyFlat()\n",
        "ybhat.shape\n",
        "test = ybhat.transpose(1, -1).contiguous()\n"
      ],
      "execution_count": 25,
      "outputs": []
    },
    {
      "cell_type": "code",
      "metadata": {
        "id": "KeX0mwPj80fe",
        "outputId": "58b642a9-cbdf-4968-9ad4-dc00baca4f79",
        "colab": {
          "base_uri": "https://localhost:8080/",
          "height": 35
        }
      },
      "source": [
        "#test\n",
        "test.shape, test.view(-1, 32).shape"
      ],
      "execution_count": 26,
      "outputs": [
        {
          "output_type": "execute_result",
          "data": {
            "text/plain": [
              "(torch.Size([8, 128, 96, 32]), torch.Size([98304, 32]))"
            ]
          },
          "metadata": {
            "tags": []
          },
          "execution_count": 26
        }
      ]
    },
    {
      "cell_type": "code",
      "metadata": {
        "id": "Z4NdNS1kH29b",
        "outputId": "09bcc009-015c-44b1-bc51-3e4b47367eba",
        "colab": {
          "base_uri": "https://localhost:8080/",
          "height": 35
        }
      },
      "source": [
        "#test\n",
        "acc_camvid(ybhat, yb)"
      ],
      "execution_count": 27,
      "outputs": [
        {
          "output_type": "execute_result",
          "data": {
            "text/plain": [
              "tensor(0.0159, device='cuda:0')"
            ]
          },
          "metadata": {
            "tags": []
          },
          "execution_count": 27
        }
      ]
    },
    {
      "cell_type": "code",
      "metadata": {
        "id": "ZvSF7uQxH8gk",
        "outputId": "7da8fb93-f721-4df7-eac2-643134e19e68",
        "colab": {
          "base_uri": "https://localhost:8080/",
          "height": 553
        }
      },
      "source": [
        "learn.lr_find()\n",
        "learn.recorder.plot()"
      ],
      "execution_count": 28,
      "outputs": [
        {
          "output_type": "display_data",
          "data": {
            "text/html": [
              "\n",
              "    <div>\n",
              "        <style>\n",
              "            /* Turns off some styling */\n",
              "            progress {\n",
              "                /* gets rid of default border in Firefox and Opera. */\n",
              "                border: none;\n",
              "                /* Needs to be in here for Safari polyfill so background images work as expected. */\n",
              "                background-size: auto;\n",
              "            }\n",
              "            .progress-bar-interrupted, .progress-bar-interrupted::-webkit-progress-bar {\n",
              "                background: #F44336;\n",
              "            }\n",
              "        </style>\n",
              "      <progress value='6' class='' max='10' style='width:300px; height:20px; vertical-align: middle;'></progress>\n",
              "      60.00% [6/10 00:05<00:03]\n",
              "    </div>\n",
              "    \n",
              "<table border=\"1\" class=\"dataframe\">\n",
              "  <thead>\n",
              "    <tr style=\"text-align: left;\">\n",
              "      <th>epoch</th>\n",
              "      <th>train_loss</th>\n",
              "      <th>valid_loss</th>\n",
              "      <th>acc_camvid</th>\n",
              "      <th>time</th>\n",
              "    </tr>\n",
              "  </thead>\n",
              "  <tbody>\n",
              "    <tr>\n",
              "      <td>0</td>\n",
              "      <td>3.880749</td>\n",
              "      <td>#na#</td>\n",
              "      <td>00:01</td>\n",
              "    </tr>\n",
              "    <tr>\n",
              "      <td>1</td>\n",
              "      <td>3.833803</td>\n",
              "      <td>#na#</td>\n",
              "      <td>00:00</td>\n",
              "    </tr>\n",
              "    <tr>\n",
              "      <td>2</td>\n",
              "      <td>3.686448</td>\n",
              "      <td>#na#</td>\n",
              "      <td>00:00</td>\n",
              "    </tr>\n",
              "    <tr>\n",
              "      <td>3</td>\n",
              "      <td>3.313563</td>\n",
              "      <td>#na#</td>\n",
              "      <td>00:00</td>\n",
              "    </tr>\n",
              "    <tr>\n",
              "      <td>4</td>\n",
              "      <td>2.851403</td>\n",
              "      <td>#na#</td>\n",
              "      <td>00:00</td>\n",
              "    </tr>\n",
              "    <tr>\n",
              "      <td>5</td>\n",
              "      <td>2.561749</td>\n",
              "      <td>#na#</td>\n",
              "      <td>00:00</td>\n",
              "    </tr>\n",
              "  </tbody>\n",
              "</table><p>\n",
              "\n",
              "    <div>\n",
              "        <style>\n",
              "            /* Turns off some styling */\n",
              "            progress {\n",
              "                /* gets rid of default border in Firefox and Opera. */\n",
              "                border: none;\n",
              "                /* Needs to be in here for Safari polyfill so background images work as expected. */\n",
              "                background-size: auto;\n",
              "            }\n",
              "            .progress-bar-interrupted, .progress-bar-interrupted::-webkit-progress-bar {\n",
              "                background: #F44336;\n",
              "            }\n",
              "        </style>\n",
              "      <progress value='8' class='' max='10' style='width:300px; height:20px; vertical-align: middle;'></progress>\n",
              "      80.00% [8/10 00:00<00:00 9.3988]\n",
              "    </div>\n",
              "    "
            ],
            "text/plain": [
              "<IPython.core.display.HTML object>"
            ]
          },
          "metadata": {
            "tags": []
          }
        },
        {
          "output_type": "stream",
          "text": [
            "LR Finder is complete, type {learner_name}.recorder.plot() to see the graph.\n"
          ],
          "name": "stdout"
        },
        {
          "output_type": "display_data",
          "data": {
            "image/png": "[encoded data removed]",
            "text/plain": [
              "<Figure size 432x288 with 1 Axes>"
            ]
          },
          "metadata": {
            "tags": [],
            "needs_background": "light"
          }
        }
      ]
    },
    {
      "cell_type": "code",
      "metadata": {
        "id": "ksMyDxDgIDK9",
        "outputId": "48dd5abe-0f1f-41c8-8180-4d2885e3baac",
        "colab": {
          "base_uri": "https://localhost:8080/",
          "height": 138
        }
      },
      "source": [
        "learn.fit_one_cycle(3, max_lr = slice(1e-03), wd = 1e-04, moms = (0.9, 0.8))"
      ],
      "execution_count": 29,
      "outputs": [
        {
          "output_type": "display_data",
          "data": {
            "text/html": [
              "<table border=\"1\" class=\"dataframe\">\n",
              "  <thead>\n",
              "    <tr style=\"text-align: left;\">\n",
              "      <th>epoch</th>\n",
              "      <th>train_loss</th>\n",
              "      <th>valid_loss</th>\n",
              "      <th>acc_camvid</th>\n",
              "      <th>time</th>\n",
              "    </tr>\n",
              "  </thead>\n",
              "  <tbody>\n",
              "    <tr>\n",
              "      <td>0</td>\n",
              "      <td>2.883507</td>\n",
              "      <td>2.375251</td>\n",
              "      <td>0.345663</td>\n",
              "      <td>00:01</td>\n",
              "    </tr>\n",
              "    <tr>\n",
              "      <td>1</td>\n",
              "      <td>2.375725</td>\n",
              "      <td>1.797377</td>\n",
              "      <td>0.475885</td>\n",
              "      <td>00:01</td>\n",
              "    </tr>\n",
              "    <tr>\n",
              "      <td>2</td>\n",
              "      <td>2.021129</td>\n",
              "      <td>1.550750</td>\n",
              "      <td>0.609496</td>\n",
              "      <td>00:01</td>\n",
              "    </tr>\n",
              "  </tbody>\n",
              "</table>"
            ],
            "text/plain": [
              "<IPython.core.display.HTML object>"
            ]
          },
          "metadata": {
            "tags": []
          }
        }
      ]
    },
    {
      "cell_type": "code",
      "metadata": {
        "id": "RNKU3qLLT447"
      },
      "source": [
        "def conv(ni, nf, stride = 2, kernel_size = (3, 3)):\n",
        "  return nn.Conv2d(ni, nf, kernel_size=kernel_size, stride = stride, padding = 1)"
      ],
      "execution_count": 30,
      "outputs": []
    },
    {
      "cell_type": "code",
      "metadata": {
        "id": "8Sr5M9inTA1Z"
      },
      "source": [
        "def get_conv(ni, nf, stride = 2, kernel_size = (3, 3)):\n",
        "  return nn.Sequential(conv(ni, nf, stride, kernel_size), nn.ReLU(), nn.BatchNorm2d(nf))"
      ],
      "execution_count": 31,
      "outputs": []
    },
    {
      "cell_type": "code",
      "metadata": {
        "id": "FZVNO6oCScAZ"
      },
      "source": [
        "class ResBlock(nn.Module):\n",
        "  def __init__(self, nf):\n",
        "    super().__init__()\n",
        "    self.layer_1 = get_conv(nf, nf, stride = (1, 1))\n",
        "    self.layer_2 = get_conv(nf, nf, stride = (1, 1))\n",
        "  \n",
        "  def forward(self, x):\n",
        "    return x + self.layer_2(self.layer_1(x))"
      ],
      "execution_count": 32,
      "outputs": []
    },
    {
      "cell_type": "code",
      "metadata": {
        "id": "MmWcIOnZUepm"
      },
      "source": [
        "class Hook():\n",
        "  def __init__(self, layer):\n",
        "    self.layer = layer\n",
        "    self.stored = None\n",
        "    self.hook = self.layer.register_forward_hook(self.hook_fn)\n",
        "  \n",
        "  def hook_fn(self, module, inp, out):\n",
        "    self.stored = out"
      ],
      "execution_count": 33,
      "outputs": []
    },
    {
      "cell_type": "code",
      "metadata": {
        "id": "RgnH-m5mqQv5",
        "outputId": "f538f58e-7f94-4510-ef76-ef02d7bad091",
        "colab": {
          "base_uri": "https://localhost:8080/",
          "height": 35
        }
      },
      "source": [
        "#test\n",
        "xb.shape\n",
        "im_size = [96, 128]\n",
        "# im_size\n",
        "print(*im_size)"
      ],
      "execution_count": 34,
      "outputs": [
        {
          "output_type": "stream",
          "text": [
            "96 128\n"
          ],
          "name": "stdout"
        }
      ]
    },
    {
      "cell_type": "code",
      "metadata": {
        "id": "8o3Q3YnHwc9X"
      },
      "source": [
        "#test\n",
        "from fastai.vision.learner import cnn_config, has_pool_type, is_pool_type\n",
        "arch = models.resnet34\n",
        "model = models.resnet34(pretrained= True)\n",
        "# body = create_body(model, pretrained=True)\n",
        "# body\n",
        "# cnn_config(arch)['cut']\n",
        "cut = None\n",
        "ifnone(cut, cnn_config(arch)['cut'])\n",
        "# a = [1, 2, 3, 4, 5]\n",
        "# a[:-2]\n",
        "layers = list(model.children())\n",
        "ll = list(enumerate(model.children()))\n",
        "# next(i for i,o in reversed(ll) if has_pool_type(o))\n",
        "cut = None\n",
        "for i, o in reversed(ll):\n",
        "  if has_pool_type(o):\n",
        "    cut = i\n",
        "    break\n",
        "# cut\n",
        "model = nn.Sequential(*(list(models.resnet34(pretrained= True).children())[:8]))\n",
        "# model"
      ],
      "execution_count": 35,
      "outputs": []
    },
    {
      "cell_type": "code",
      "metadata": {
        "id": "rmN6hAdh4vD5",
        "outputId": "378637b3-afa9-4718-8825-f884ec75e845",
        "colab": {
          "base_uri": "https://localhost:8080/",
          "height": 35
        }
      },
      "source": [
        "#test\n",
        "hooks = [Hook(i) for i in model]\n",
        "print(len(hooks))"
      ],
      "execution_count": 36,
      "outputs": [
        {
          "output_type": "stream",
          "text": [
            "8\n"
          ],
          "name": "stdout"
        }
      ]
    },
    {
      "cell_type": "code",
      "metadata": {
        "id": "aes4lR2o9Jab",
        "outputId": "b872dd02-9a92-4b0d-d6f8-e9454424c59f",
        "colab": {
          "base_uri": "https://localhost:8080/",
          "height": 35
        }
      },
      "source": [
        "dbs = 4\n",
        "img_size = [96, 128]\n",
        "number_of_input_channels = None\n",
        "for i in model.parameters():\n",
        "  number_of_input_channels = i.shape[1]\n",
        "  break\n",
        "# number_of_input_channels\n",
        "dummy_batch = torch.randn((dbs, number_of_input_channels, *img_size))\n",
        "dummy_batch.shape"
      ],
      "execution_count": 37,
      "outputs": [
        {
          "output_type": "execute_result",
          "data": {
            "text/plain": [
              "torch.Size([4, 3, 96, 128])"
            ]
          },
          "metadata": {
            "tags": []
          },
          "execution_count": 37
        }
      ]
    },
    {
      "cell_type": "code",
      "metadata": {
        "id": "HcZsQ12F4-Pj",
        "outputId": "a1153950-fc9a-46b1-a2f1-cb22adeb2231",
        "colab": {
          "base_uri": "https://localhost:8080/",
          "height": 35
        }
      },
      "source": [
        "#test\n",
        "dummy_ops = model(dummy_batch)\n",
        "dummy_ops.shape"
      ],
      "execution_count": 38,
      "outputs": [
        {
          "output_type": "execute_result",
          "data": {
            "text/plain": [
              "torch.Size([4, 512, 3, 4])"
            ]
          },
          "metadata": {
            "tags": []
          },
          "execution_count": 38
        }
      ]
    },
    {
      "cell_type": "code",
      "metadata": {
        "id": "nngr2o4D5jSG",
        "outputId": "185007d4-e13d-4c81-b121-951249763472",
        "colab": {
          "base_uri": "https://localhost:8080/",
          "height": 155
        }
      },
      "source": [
        "#test\n",
        "sizes = []\n",
        "for i in hooks:\n",
        "  print(i.stored.shape)\n",
        "  sizes.append(i.stored.shape)"
      ],
      "execution_count": 39,
      "outputs": [
        {
          "output_type": "stream",
          "text": [
            "torch.Size([4, 64, 48, 64])\n",
            "torch.Size([4, 64, 48, 64])\n",
            "torch.Size([4, 64, 48, 64])\n",
            "torch.Size([4, 64, 24, 32])\n",
            "torch.Size([4, 64, 24, 32])\n",
            "torch.Size([4, 128, 12, 16])\n",
            "torch.Size([4, 256, 6, 8])\n",
            "torch.Size([4, 512, 3, 4])\n"
          ],
          "name": "stdout"
        }
      ]
    },
    {
      "cell_type": "code",
      "metadata": {
        "id": "Yl6s2VQy6zmX",
        "outputId": "e770759c-99e4-4510-ea8b-057198e15f12",
        "colab": {
          "base_uri": "https://localhost:8080/",
          "height": 35
        }
      },
      "source": [
        "#test\n",
        "down_idxs = []\n",
        "pre_shape = None\n",
        "for i, res in enumerate(hooks):\n",
        "  if pre_shape and pre_shape != res.stored.shape:\n",
        "    down_idxs.append(i - 1)\n",
        "  pre_shape = res.stored.shape\n",
        "down_idxs"
      ],
      "execution_count": 40,
      "outputs": [
        {
          "output_type": "execute_result",
          "data": {
            "text/plain": [
              "[2, 4, 5, 6]"
            ]
          },
          "metadata": {
            "tags": []
          },
          "execution_count": 40
        }
      ]
    },
    {
      "cell_type": "code",
      "metadata": {
        "id": "QtjvNKVV8ceN",
        "outputId": "5a04a664-9008-487c-9896-c790189c7307",
        "colab": {
          "base_uri": "https://localhost:8080/",
          "height": 35
        }
      },
      "source": [
        "#test\n",
        "from fastai.vision.models.unet import _get_sfs_idxs\n",
        "_get_sfs_idxs(sizes)"
      ],
      "execution_count": 41,
      "outputs": [
        {
          "output_type": "execute_result",
          "data": {
            "text/plain": [
              "[2, 4, 5, 6]"
            ]
          },
          "metadata": {
            "tags": []
          },
          "execution_count": 41
        }
      ]
    },
    {
      "cell_type": "code",
      "metadata": {
        "id": "cgdGmJr49jdk",
        "outputId": "cfdf477b-4a56-48c0-ccdd-131e833414f5",
        "colab": {
          "base_uri": "https://localhost:8080/",
          "height": 35
        }
      },
      "source": [
        "dummy_ops.shape"
      ],
      "execution_count": 42,
      "outputs": [
        {
          "output_type": "execute_result",
          "data": {
            "text/plain": [
              "torch.Size([4, 512, 3, 4])"
            ]
          },
          "metadata": {
            "tags": []
          },
          "execution_count": 42
        }
      ]
    },
    {
      "cell_type": "code",
      "metadata": {
        "id": "R8Tjwhhj8xPY"
      },
      "source": [
        "#test\n",
        "ni = sizes[-1][1]\n",
        "middle_conv = nn.Sequential(get_conv(ni, ni*2, stride = 1), get_conv(ni*2, ni, stride = 1))\n",
        "dummy_ops = middle_conv(dummy_ops)"
      ],
      "execution_count": 43,
      "outputs": []
    },
    {
      "cell_type": "code",
      "metadata": {
        "id": "lN6rM2UC9wuK",
        "outputId": "d727d2be-4281-42a1-b1e1-3c620deef980",
        "colab": {
          "base_uri": "https://localhost:8080/",
          "height": 35
        }
      },
      "source": [
        "#test\n",
        "dummy_ops.shape"
      ],
      "execution_count": 44,
      "outputs": [
        {
          "output_type": "execute_result",
          "data": {
            "text/plain": [
              "torch.Size([4, 512, 3, 4])"
            ]
          },
          "metadata": {
            "tags": []
          },
          "execution_count": 44
        }
      ]
    },
    {
      "cell_type": "code",
      "metadata": {
        "id": "ehRQuEhG-CI4",
        "outputId": "72b6ea38-0f42-4ce3-9334-4a633021cd5d",
        "colab": {
          "base_uri": "https://localhost:8080/",
          "height": 35
        }
      },
      "source": [
        "#test\n",
        "new_hooks = [Hook(model[i]) for i in down_idxs]\n",
        "len(new_hooks)"
      ],
      "execution_count": 45,
      "outputs": [
        {
          "output_type": "execute_result",
          "data": {
            "text/plain": [
              "4"
            ]
          },
          "metadata": {
            "tags": []
          },
          "execution_count": 45
        }
      ]
    },
    {
      "cell_type": "code",
      "metadata": {
        "id": "JKQCDUkf-YiF",
        "outputId": "27d00e2b-1a2c-4903-81e9-cdbe506206c5",
        "colab": {
          "base_uri": "https://localhost:8080/",
          "height": 173
        }
      },
      "source": [
        "#test\n",
        "sizes, down_idxs"
      ],
      "execution_count": 46,
      "outputs": [
        {
          "output_type": "execute_result",
          "data": {
            "text/plain": [
              "([torch.Size([4, 64, 48, 64]),\n",
              "  torch.Size([4, 64, 48, 64]),\n",
              "  torch.Size([4, 64, 48, 64]),\n",
              "  torch.Size([4, 64, 24, 32]),\n",
              "  torch.Size([4, 64, 24, 32]),\n",
              "  torch.Size([4, 128, 12, 16]),\n",
              "  torch.Size([4, 256, 6, 8]),\n",
              "  torch.Size([4, 512, 3, 4])],\n",
              " [2, 4, 5, 6])"
            ]
          },
          "metadata": {
            "tags": []
          },
          "execution_count": 46
        }
      ]
    },
    {
      "cell_type": "code",
      "metadata": {
        "id": "Dw0dwx9c_nOn",
        "outputId": "229b9bb0-6743-439c-bcde-cd22b054d2fb",
        "colab": {
          "base_uri": "https://localhost:8080/",
          "height": 35
        }
      },
      "source": [
        "#test\n",
        "x = dummy_ops\n",
        "x.shape\n",
        "x_in_c = x.shape[1]\n",
        "u_in_c = sizes[6][1]\n",
        "# x_in_c, u_in_c\n",
        "hop = hooks[6].stored\n",
        "hop.shape"
      ],
      "execution_count": 47,
      "outputs": [
        {
          "output_type": "execute_result",
          "data": {
            "text/plain": [
              "torch.Size([4, 256, 6, 8])"
            ]
          },
          "metadata": {
            "tags": []
          },
          "execution_count": 47
        }
      ]
    },
    {
      "cell_type": "code",
      "metadata": {
        "id": "liXF1YMtB0fv"
      },
      "source": [
        "u_in_c, x_in_c = x_in_c, u_in_c"
      ],
      "execution_count": 48,
      "outputs": []
    },
    {
      "cell_type": "code",
      "metadata": {
        "id": "Y4Cbz99sAtuq"
      },
      "source": [
        "#test\n",
        "shuff = PixelShuffle_ICNR(u_in_c, u_in_c//2, scale=2)\n",
        "test_op = shuff(dummy_ops)"
      ],
      "execution_count": 49,
      "outputs": []
    },
    {
      "cell_type": "code",
      "metadata": {
        "id": "40vQ_tCqB33p",
        "outputId": "ac34e0c9-49e1-4ed4-a229-00c4de7251ca",
        "colab": {
          "base_uri": "https://localhost:8080/",
          "height": 35
        }
      },
      "source": [
        "#test\n",
        "test_op.shape, hop.shape\n",
        "new_op = torch.cat((test_op, hop), dim = 1)\n",
        "new_op.shape"
      ],
      "execution_count": 50,
      "outputs": [
        {
          "output_type": "execute_result",
          "data": {
            "text/plain": [
              "torch.Size([4, 512, 6, 8])"
            ]
          },
          "metadata": {
            "tags": []
          },
          "execution_count": 50
        }
      ]
    },
    {
      "cell_type": "code",
      "metadata": {
        "id": "0w4vvthICSpv",
        "outputId": "22798151-0555-4e90-903c-d225bf52c01f",
        "colab": {
          "base_uri": "https://localhost:8080/",
          "height": 35
        }
      },
      "source": [
        "#test\n",
        "bn_hop = nn.BatchNorm2d(hop.shape[1])\n",
        "new_op = torch.cat((test_op, bn_hop(hop)), dim = 1)\n",
        "new_op.shape"
      ],
      "execution_count": 51,
      "outputs": [
        {
          "output_type": "execute_result",
          "data": {
            "text/plain": [
              "torch.Size([4, 512, 6, 8])"
            ]
          },
          "metadata": {
            "tags": []
          },
          "execution_count": 51
        }
      ]
    },
    {
      "cell_type": "code",
      "metadata": {
        "id": "sgl0G--JCgRn",
        "outputId": "1280b5da-4a68-4483-e86e-1322a0c6407a",
        "colab": {
          "base_uri": "https://localhost:8080/",
          "height": 35
        }
      },
      "source": [
        "#test\n",
        "c1, c2 = get_conv(new_op.shape[1], hop.shape[1], stride = 1), ResBlock(hop.shape[1])\n",
        "fop = c2(c1(new_op))\n",
        "fop.shape"
      ],
      "execution_count": 52,
      "outputs": [
        {
          "output_type": "execute_result",
          "data": {
            "text/plain": [
              "torch.Size([4, 256, 6, 8])"
            ]
          },
          "metadata": {
            "tags": []
          },
          "execution_count": 52
        }
      ]
    },
    {
      "cell_type": "code",
      "metadata": {
        "id": "fmjniF4_qvx8"
      },
      "source": [
        "def get_input_channels(model):\n",
        "  for i in model.parameters():\n",
        "    return i.shape[1]"
      ],
      "execution_count": 53,
      "outputs": []
    },
    {
      "cell_type": "code",
      "metadata": {
        "id": "ny8zkXia8qe6"
      },
      "source": [
        "class UnetBlock(nn.Module):\n",
        "  def __init__(self, up_in_c, x_in_c, hook_x):\n",
        "    super().__init__()\n",
        "    #up_in_c: number of channels input\n",
        "    #x_in_c: number of channels in hooked output of downsampling path\n",
        "    #hook_x: hooked_output of downsampling path\n",
        "  \n",
        "    #TODO: 1. Create a upsampling layer, where the input gets scaled to half the channel size and the double the image size\n",
        "    #2. Create a conv layer\n",
        "    #3. Create a res block\n",
        "    \n",
        "    self.shuff = PixelShuffle_ICNR(up_in_c, up_in_c//2, scale = 2)\n",
        "    ni = (x_in_c + up_in_c//2)\n",
        "    nf = ni//2\n",
        "    \n",
        "    # self.conv = get_conv(ni, nf, stride = 1)\n",
        "    # self.res = ResBlock(nf)\n",
        "    \n",
        "    self.bn = nn.BatchNorm2d(x_in_c)\n",
        "    self.hook_x = hook_x\n",
        "    self.layer = nn.Sequential(get_conv(ni, nf, stride = 1), ResBlock(nf))\n",
        "  \n",
        "  def forward(self, x_b):\n",
        "    #1. up scale the x_b by using self.shuff\n",
        "    #2. check the new x_b_up shape and self.hook_x.shape matches[-1, -2], if not interpolate to that level\n",
        "    #3. concat x_b with self.hook_x\n",
        "    #4. return the op of self.layer(merged_inputs)\n",
        "    #1\n",
        "    x_b_up = self.shuff(x_b)\n",
        "    hook_stored = self.bn(self.hook_x.stored)\n",
        "    if x_b_up.device != hook_stored.device:\n",
        "      self.hook_x = self.hook_x.cuda()\n",
        "    #2\n",
        "    if x_b_up.shape[-1] != hook_stored.shape[-1] or x_b_up.shape[-2] != hook_stored.shape[-2]:\n",
        "      #interpolate\n",
        "      x_b_up = F.interpolate(x_b_up, size = hook_stored.shape[-2:], mode = 'nearest')\n",
        "    \n",
        "    #3\n",
        "    concated_input = torch.cat((x_b_up, hook_stored), dim = 1)\n",
        "    \n",
        "    #4\n",
        "    return self.layer(concated_input)"
      ],
      "execution_count": 54,
      "outputs": []
    },
    {
      "cell_type": "code",
      "metadata": {
        "id": "ur8o_5A57X1j"
      },
      "source": [
        "class MergeActs(nn.Module):\n",
        "  def __init__(self, hook):\n",
        "    super().__init__()\n",
        "    self.hook = hook\n",
        "    self.bn = nn.BatchNorm2d(hook.stored.shape[1])\n",
        "  \n",
        "  def forward(self, x):\n",
        "    y = self.hook.stored\n",
        "    return torch.cat((x, y), dim = 1)"
      ],
      "execution_count": 55,
      "outputs": []
    },
    {
      "cell_type": "code",
      "metadata": {
        "id": "jvl-i_wMCosm"
      },
      "source": [
        "class UnetLearner(nn.Module):\n",
        "  def __init__(self, model, image_size, num_of_classes):\n",
        "    super().__init__()\n",
        "\n",
        "    model = nn.Sequential(*[i for i in model(pretrained = True).children()][:8])\n",
        "\n",
        "    #1. model - nn.Squential model.. where we can loop through multiple layers\n",
        "    init_layer = nn.Sequential(get_conv(3, 3, stride = 1), ResBlock(3))\n",
        "    self.init_layer_hook = Hook(init_layer)\n",
        "    \n",
        "    # self.model = model\n",
        "    self.im_size = image_size if type(image_size) is list else listify(image_size)\n",
        "    self.hooks = [Hook(i) for i in model]\n",
        "    \n",
        "    #2. create a dummy batch with a batch size > 1 -- 4 in our case\n",
        "    dummy_batch = torch.randn((4, get_input_channels(model), *self.im_size))\n",
        "    dummy_res = init_layer(dummy_batch)\n",
        "    #3. Store all the outputs of each layer\n",
        "    dummy_res = model(dummy_batch)\n",
        "    \n",
        "    #4.identify all the layers where the output is down_sampled\n",
        "    self.down_idxs = []\n",
        "    for i in range(len(self.hooks)):\n",
        "      if i > 0 and self.hooks[i].stored.shape != self.hooks[i-1].stored.shape:\n",
        "        self.down_idxs.append(i-1)\n",
        "\n",
        "    #5. Create a middle conv and \n",
        "    ni = dummy_res.shape[1] \n",
        "    self.middle_conv = nn.Sequential(nn.ReLU(), nn.BatchNorm2d(ni), get_conv(ni, ni*2, stride = 1), ResBlock(ni*2) ,get_conv(ni*2, ni, stride = 1), nn.BatchNorm2d(ni))\n",
        "    dummy_res = self.middle_conv(dummy_res)\n",
        "    \n",
        "    #for a resnet... the shape should be 4*512*x*y\n",
        "    #6. Start upsampling the given output\n",
        "    self.layers = [init_layer, *(i for i in model), self.middle_conv]\n",
        "    \n",
        "    for down_idx in reversed(self.down_idxs):\n",
        "      stored_hook = self.hooks[down_idx]\n",
        "      up_in_c = dummy_res.shape[1]\n",
        "      x_in_c = stored_hook.stored.shape[1]\n",
        "      unet_block = UnetBlock(up_in_c = up_in_c, x_in_c = x_in_c, hook_x = stored_hook)\n",
        "      dummy_res = unet_block(dummy_res)\n",
        "      self.layers.append(unet_block)\n",
        "\n",
        "    #7. Basically... use of our model is over now...\n",
        "    # for a resent arch: the current dummy_res shape is torch.Size([4, 48, 48, 64]) - for a 96*128 image with 32 channels\n",
        "    # TODO: make the torch.Size([4, 48, 48, 64]) sized op to 4*32*96*128\n",
        "\n",
        "    ni = dummy_res.shape[1]\n",
        "    dummy_res = PixelShuffle_ICNR(ni, ni//2)(dummy_res)\n",
        "    self.layers.append(PixelShuffle_ICNR(ni, ni//2))\n",
        "\n",
        "    if dummy_res.shape[-2:] != dummy_batch.shape[-2:]:\n",
        "      dummy_res = F.interpolate(dummy_res, size = dummy_batch[:-2])\n",
        "      self.layers.append(F.interpolate(dummy_res, size = dummy_batch[:-2]))\n",
        "\n",
        "    # self.first_part = nn.Sequential(*self.layers)\n",
        "    #create a merge layer and get the output\n",
        "\n",
        "    self.merge = MergeActs(self.init_layer_hook)\n",
        "    dummy_res = self.merge(dummy_res)\n",
        "    #create a final layer which takes this merged op and convert it to our desired shape\n",
        "    ni = dummy_res.shape[1]\n",
        "    nf = num_of_classes\n",
        "    c1, res1 = get_conv(ni, nf, stride= 1), ResBlock(nf)\n",
        "    self.last_layers = [c1, res1, nn.BatchNorm2d(nf), nn.ReLU()]\n",
        "    dummy_res = nn.Sequential(*self.last_layers)(dummy_res)\n",
        "    self.arch = nn.Sequential(*self.layers, self.merge, *self.last_layers)\n",
        "    dummy_res = self.arch(dummy_batch)\n",
        "    print(dummy_res.shape)\n",
        "    \n",
        "  def forward(self, xb):\n",
        "    return self.arch(xb)\n"
      ],
      "execution_count": 56,
      "outputs": []
    },
    {
      "cell_type": "code",
      "metadata": {
        "id": "DK8jXGZu7A5I",
        "outputId": "1e3bfddd-3aa3-48fc-8053-ab57522bfbea",
        "colab": {
          "base_uri": "https://localhost:8080/",
          "height": 35
        }
      },
      "source": [
        "# test\n",
        "test = UnetLearner(models.resnet34, [96, 128], len(data.classes)).cuda()\n",
        "for xb, yb in data.train_dl:\n",
        "  pass"
      ],
      "execution_count": 57,
      "outputs": [
        {
          "output_type": "stream",
          "text": [
            "torch.Size([4, 32, 96, 128])\n"
          ],
          "name": "stdout"
        }
      ]
    },
    {
      "cell_type": "code",
      "metadata": {
        "id": "PJYeqbejTBRp",
        "outputId": "6d105e7d-fc90-4f54-c7af-ee3afa7bb2ad",
        "colab": {
          "base_uri": "https://localhost:8080/",
          "height": 69
        }
      },
      "source": [
        "xb.shape, yb.shape, xb.device"
      ],
      "execution_count": 58,
      "outputs": [
        {
          "output_type": "execute_result",
          "data": {
            "text/plain": [
              "(torch.Size([8, 3, 96, 128]),\n",
              " torch.Size([8, 1, 96, 128]),\n",
              " device(type='cuda', index=0))"
            ]
          },
          "metadata": {
            "tags": []
          },
          "execution_count": 58
        }
      ]
    },
    {
      "cell_type": "code",
      "metadata": {
        "id": "HiVzrpDOTMBw",
        "outputId": "363bdb29-d971-4b1c-cac4-f6cf70b45a73",
        "colab": {
          "base_uri": "https://localhost:8080/",
          "height": 35
        }
      },
      "source": [
        "res = test(xb)\n",
        "res.shape"
      ],
      "execution_count": 59,
      "outputs": [
        {
          "output_type": "execute_result",
          "data": {
            "text/plain": [
              "torch.Size([8, 32, 96, 128])"
            ]
          },
          "metadata": {
            "tags": []
          },
          "execution_count": 59
        }
      ]
    },
    {
      "cell_type": "code",
      "metadata": {
        "id": "DC4yGBh5tstt",
        "outputId": "227a3d2b-dce3-46ea-dbe7-a1fe59be47ba",
        "colab": {
          "base_uri": "https://localhost:8080/",
          "height": 35
        }
      },
      "source": [
        "#test\n",
        "b = [1, 2, 3, 4]\n",
        "a = recurse(lambda x: x**2, b)\n",
        "a, b"
      ],
      "execution_count": 60,
      "outputs": [
        {
          "output_type": "execute_result",
          "data": {
            "text/plain": [
              "([1, 4, 9, 16], [1, 2, 3, 4])"
            ]
          },
          "metadata": {
            "tags": []
          },
          "execution_count": 60
        }
      ]
    },
    {
      "cell_type": "code",
      "metadata": {
        "id": "XdZ-cIdDwkbf",
        "outputId": "f1ce5b4d-2a88-4437-ebc5-ba6ec9f40b21",
        "colab": {
          "base_uri": "https://localhost:8080/",
          "height": 35
        }
      },
      "source": [
        "learn.loss_func"
      ],
      "execution_count": 61,
      "outputs": [
        {
          "output_type": "execute_result",
          "data": {
            "text/plain": [
              "FlattenedLoss of CrossEntropyLoss()"
            ]
          },
          "metadata": {
            "tags": []
          },
          "execution_count": 61
        }
      ]
    },
    {
      "cell_type": "code",
      "metadata": {
        "id": "JJk2NTEuWUHF",
        "outputId": "7e036285-fe62-44f6-dabd-8ac996345938",
        "colab": {
          "base_uri": "https://localhost:8080/",
          "height": 86
        }
      },
      "source": [
        "#test\n",
        "m = nn.Sequential(\n",
        "    nn.Conv2d(1, 32, 5, 1, 1),\n",
        "    nn.Flatten())\n",
        "m"
      ],
      "execution_count": 62,
      "outputs": [
        {
          "output_type": "execute_result",
          "data": {
            "text/plain": [
              "Sequential(\n",
              "  (0): Conv2d(1, 32, kernel_size=(5, 5), stride=(1, 1), padding=(1, 1))\n",
              "  (1): Flatten()\n",
              ")"
            ]
          },
          "metadata": {
            "tags": []
          },
          "execution_count": 62
        }
      ]
    },
    {
      "cell_type": "code",
      "metadata": {
        "id": "NdEWhfqRWkP1",
        "outputId": "595f9f00-f87c-4592-a49c-978afd468b22",
        "colab": {
          "base_uri": "https://localhost:8080/",
          "height": 35
        }
      },
      "source": [
        "#test\n",
        "x = torch.randn((1, 1, 10, 10))\n",
        "x.shape\n",
        "res = m(x)\n",
        "res.shape"
      ],
      "execution_count": 63,
      "outputs": [
        {
          "output_type": "execute_result",
          "data": {
            "text/plain": [
              "torch.Size([1, 2048])"
            ]
          },
          "metadata": {
            "tags": []
          },
          "execution_count": 63
        }
      ]
    },
    {
      "cell_type": "code",
      "metadata": {
        "id": "v8JEYSzdW5_O",
        "outputId": "80f4463e-4d2e-4338-f747-3c50a189d1b7",
        "colab": {
          "base_uri": "https://localhost:8080/",
          "height": 35
        }
      },
      "source": [
        "#test\n",
        "l = nn.Conv2d(1, 32, 5, 1, 1)\n",
        "res = l(x)\n",
        "res.shape"
      ],
      "execution_count": 64,
      "outputs": [
        {
          "output_type": "execute_result",
          "data": {
            "text/plain": [
              "torch.Size([1, 32, 8, 8])"
            ]
          },
          "metadata": {
            "tags": []
          },
          "execution_count": 64
        }
      ]
    },
    {
      "cell_type": "code",
      "metadata": {
        "id": "pDtGp0m6XW2Y"
      },
      "source": [
        "#test\n",
        "from fastai.torch_core import *\n",
        "layers = [i for i in models.resnet34().children()]\n",
        "layers = layers[:8]\n",
        "test_m = nn.Sequential(*layers)\n",
        "flat_test_m = flatten_model(test_m)\n",
        "# flat_test_m, layers"
      ],
      "execution_count": 65,
      "outputs": []
    },
    {
      "cell_type": "code",
      "metadata": {
        "id": "pwT2k_uycgoN"
      },
      "source": [
        "from fastai.callback import *\n",
        "c = Callback"
      ],
      "execution_count": 66,
      "outputs": []
    },
    {
      "cell_type": "code",
      "metadata": {
        "id": "WtsRyd2uW7Kn",
        "outputId": "68c2b3cf-1415-4465-affc-f226a06e483d",
        "colab": {
          "base_uri": "https://localhost:8080/",
          "height": 242
        }
      },
      "source": [
        "losses = []\n",
        "v_losses = []\n",
        "loss_func = learn.loss_func\n",
        "unet_learner = UnetLearner(models.resnet34, [96, 128], 32).cuda()\n",
        "print(\"{} -- {} -- {}\".format('epoch', 'train_loss', 'valid_loss'))\n",
        "def update(lr, wd, moms, epocs = 10):\n",
        "  optim = torch.optim.Adam(unet_learner.parameters(), lr = lr, weight_decay=wd, betas = (0.9, 0.9))\n",
        "  e = 0\n",
        "  while e <= epocs:\n",
        "    lo = torch.Tensor()\n",
        "    vlo = torch.Tensor()\n",
        "    for xb, yb in data.train_dl:\n",
        "      yhat = unet_learner(xb)\n",
        "      loss = loss_func(yhat, yb)\n",
        "      loss.backward()\n",
        "      optim.step()\n",
        "      optim.zero_grad()\n",
        "      lo = torch.cat((lo, torch.Tensor([loss.item()])), dim = 0)\n",
        "    \n",
        "    with torch.no_grad():\n",
        "      for xb, yb in data.valid_dl:\n",
        "        yhat = unet_learner(xb)\n",
        "        loss = loss_func(yhat, yb)\n",
        "        optim.zero_grad()\n",
        "        vlo = torch.cat((vlo, torch.Tensor([loss.item()])), dim = 0)\n",
        "    \n",
        "    e += 1\n",
        "    # print(lo, vlo)\n",
        "    losses.append(lo.mean())\n",
        "    v_losses.append(vlo.mean())\n",
        "    print(\"{} -- {} -- {}\".format(e, lo.mean(), vlo.mean()))\n",
        "\n",
        "update(lr = 1e-02, wd = 1e-04, moms = 0)"
      ],
      "execution_count": 67,
      "outputs": [
        {
          "output_type": "stream",
          "text": [
            "torch.Size([4, 32, 96, 128])\n",
            "epoch -- train_loss -- valid_loss\n",
            "1 -- 3.0014917850494385 -- 2.5850980281829834\n",
            "2 -- 2.453192710876465 -- 2.3351142406463623\n",
            "3 -- 2.2250514030456543 -- 2.1836133003234863\n",
            "4 -- 2.1043593883514404 -- 2.0635015964508057\n",
            "5 -- 1.9733966588974 -- 1.9564377069473267\n",
            "6 -- 1.8266916275024414 -- 1.8155287504196167\n",
            "7 -- 1.7040449380874634 -- 1.7240285873413086\n",
            "8 -- 1.602975845336914 -- 1.6357269287109375\n",
            "9 -- 1.4960525035858154 -- 1.584606647491455\n",
            "10 -- 1.4211663007736206 -- 1.483042597770691\n",
            "11 -- 1.3541733026504517 -- 1.3685535192489624\n"
          ],
          "name": "stdout"
        }
      ]
    },
    {
      "cell_type": "code",
      "metadata": {
        "id": "BAk9UGZ8Ya_9",
        "outputId": "54089681-5c35-41b1-f671-ad7169f69ca0",
        "colab": {
          "base_uri": "https://localhost:8080/",
          "height": 299
        }
      },
      "source": [
        "plt.plot(losses), plt.plot(v_losses)"
      ],
      "execution_count": 68,
      "outputs": [
        {
          "output_type": "execute_result",
          "data": {
            "text/plain": [
              "([<matplotlib.lines.Line2D at 0x7fe2016ba978>],\n",
              " [<matplotlib.lines.Line2D at 0x7fe2016baa90>])"
            ]
          },
          "metadata": {
            "tags": []
          },
          "execution_count": 68
        },
        {
          "output_type": "display_data",
          "data": {
            "image/png": "[encoded data removed]",
            "text/plain": [
              "<Figure size 432x288 with 1 Axes>"
            ]
          },
          "metadata": {
            "tags": [],
            "needs_background": "light"
          }
        }
      ]
    },
    {
      "cell_type": "code",
      "metadata": {
        "id": "V1_zb-Hms6G5",
        "outputId": "7460334b-066e-4276-b851-454ab86f1ff8",
        "colab": {
          "base_uri": "https://localhost:8080/",
          "height": 35
        }
      },
      "source": [
        "#test\n",
        "# test = torch.cat((data.train_ds[0][0], data.train_ds[0][1]). dim = 0)\n",
        "test = data.train_ds[0][0].data[None], data.train_ds[1][0].data[None]\n",
        "test = torch.cat(test, dim = 0)\n",
        "test = test.cuda()\n",
        "\n",
        "y = data.train_ds[0][1].data[None], data.train_ds[1][1].data[None]\n",
        "y = torch.cat(y, dim = 0)\n",
        "y = y.cuda()\n",
        "y.shape, test.shape"
      ],
      "execution_count": 69,
      "outputs": [
        {
          "output_type": "execute_result",
          "data": {
            "text/plain": [
              "(torch.Size([2, 1, 96, 128]), torch.Size([2, 3, 96, 128]))"
            ]
          },
          "metadata": {
            "tags": []
          },
          "execution_count": 69
        }
      ]
    },
    {
      "cell_type": "code",
      "metadata": {
        "id": "kG65l8w2r83k",
        "outputId": "90fe32e3-8ac8-4ab2-b20a-0df6223ebd0e",
        "colab": {
          "base_uri": "https://localhost:8080/",
          "height": 35
        }
      },
      "source": [
        "#test\n",
        "tres = unet_learner(test)\n",
        "tres.shape"
      ],
      "execution_count": 70,
      "outputs": [
        {
          "output_type": "execute_result",
          "data": {
            "text/plain": [
              "torch.Size([2, 32, 96, 128])"
            ]
          },
          "metadata": {
            "tags": []
          },
          "execution_count": 70
        }
      ]
    },
    {
      "cell_type": "code",
      "metadata": {
        "id": "4cZYw9TYuiSy",
        "outputId": "2e9544c4-9c47-4639-a92c-43e1b1e06622",
        "colab": {
          "base_uri": "https://localhost:8080/",
          "height": 35
        }
      },
      "source": [
        "#test\n",
        "nres = tres.argmax(dim = 1)\n",
        "nres.shape"
      ],
      "execution_count": 71,
      "outputs": [
        {
          "output_type": "execute_result",
          "data": {
            "text/plain": [
              "torch.Size([2, 96, 128])"
            ]
          },
          "metadata": {
            "tags": []
          },
          "execution_count": 71
        }
      ]
    },
    {
      "cell_type": "code",
      "metadata": {
        "id": "KSJSRtWauq5p",
        "outputId": "5982c15d-3542-403f-ac45-ea199e117401",
        "colab": {
          "base_uri": "https://localhost:8080/",
          "height": 35
        }
      },
      "source": [
        "acc_camvid(tres, y)"
      ],
      "execution_count": 72,
      "outputs": [
        {
          "output_type": "execute_result",
          "data": {
            "text/plain": [
              "tensor(0.5813, device='cuda:0')"
            ]
          },
          "metadata": {
            "tags": []
          },
          "execution_count": 72
        }
      ]
    },
    {
      "cell_type": "code",
      "metadata": {
        "id": "8mCKeWcAkn3d",
        "outputId": "8be0bffe-82b2-4290-9aad-bf77c98a3b74",
        "colab": {
          "base_uri": "https://localhost:8080/",
          "height": 259
        }
      },
      "source": [
        "#test\n",
        "test = torch.randn(3, 4, 5)\n",
        "# test = torch.randint(0, 2, (4,5)).float()\n",
        "test.shape, test"
      ],
      "execution_count": 82,
      "outputs": [
        {
          "output_type": "execute_result",
          "data": {
            "text/plain": [
              "(torch.Size([3, 4, 5]), tensor([[[-0.7568,  0.0490,  0.3440, -0.1950,  1.7393],\n",
              "          [ 0.3348, -0.1025,  0.7781,  0.1661,  0.0908],\n",
              "          [-0.5839,  2.6850,  2.4140, -0.0257, -0.1869],\n",
              "          [-0.6153,  0.1048, -0.2995, -0.1649, -0.0261]],\n",
              " \n",
              "         [[-0.7566, -0.0718,  1.7465, -0.7903,  0.0921],\n",
              "          [-0.1547,  0.2777,  2.4969,  0.2602,  0.2552],\n",
              "          [-0.5337, -0.8901,  0.0449, -1.0099,  0.3616],\n",
              "          [ 0.4111, -0.9005,  0.6895,  2.0578, -0.1571]],\n",
              " \n",
              "         [[ 1.2707, -0.9753, -0.8372, -0.2786, -1.7857],\n",
              "          [ 0.3436,  1.2657, -0.1504, -1.4172,  1.9779],\n",
              "          [ 0.1258, -0.9390,  0.3486,  0.2361, -1.0007],\n",
              "          [ 0.8640, -1.0623,  1.7746,  0.5046, -1.1707]]]))"
            ]
          },
          "metadata": {
            "tags": []
          },
          "execution_count": 82
        }
      ]
    },
    {
      "cell_type": "code",
      "metadata": {
        "id": "V2iBh7Z_lXoA",
        "outputId": "53196ccb-ac46-404b-ba5a-e0212a85f9f1",
        "colab": {
          "base_uri": "https://localhost:8080/",
          "height": 35
        }
      },
      "source": [
        "#test\n",
        "l = nn.Flatten(start_dim = 2)\n",
        "l(test).shape"
      ],
      "execution_count": 85,
      "outputs": [
        {
          "output_type": "execute_result",
          "data": {
            "text/plain": [
              "torch.Size([3, 4, 5])"
            ]
          },
          "metadata": {
            "tags": []
          },
          "execution_count": 85
        }
      ]
    },
    {
      "cell_type": "code",
      "metadata": {
        "id": "GfNnBdp3oQTk",
        "outputId": "25ac9b2a-1a2f-4380-f050-6004c6441e43",
        "colab": {
          "base_uri": "https://localhost:8080/",
          "height": 191
        }
      },
      "source": [
        "doc(CrossEntropyFlat)"
      ],
      "execution_count": 86,
      "outputs": [
        {
          "output_type": "display_data",
          "data": {
            "text/html": [
              "<h4 id=\"CrossEntropyFlat\" class=\"doc_header\"><code>CrossEntropyFlat</code><a href=\"https://github.com/fastai/fastai/blob/master/fastai/layers.py#L245\" class=\"source_link\" style=\"float:right\">[source]</a><a class=\"source_link\" data-toggle=\"collapse\" data-target=\"#CrossEntropyFlat-pytest\" style=\"float:right; padding-right:10px\">[test]</a></h4><blockquote><p><code>CrossEntropyFlat</code>(<strong>*<code>args</code></strong>, <strong><code>axis</code></strong>:<code>int</code>=<strong><em><code>-1</code></em></strong>, <strong>**<code>kwargs</code></strong>)</p>\n",
              "</blockquote>\n",
              "<div class=\"collapse\" id=\"CrossEntropyFlat-pytest\"><div class=\"card card-body pytest_card\"><a type=\"button\" data-toggle=\"collapse\" data-target=\"#CrossEntropyFlat-pytest\" class=\"close\" aria-label=\"Close\"><span aria-hidden=\"true\">&times;</span></a><p>No tests found for <code>CrossEntropyFlat</code>. To contribute a test please refer to <a href=\"/dev/test.html\">this guide</a> and <a href=\"https://forums.fast.ai/t/improving-expanding-functional-tests/32929\">this discussion</a>.</p></div></div><p>Same as <a href=\"https://pytorch.org/docs/stable/nn.html#torch.nn.CrossEntropyLoss\"><code>nn.CrossEntropyLoss</code></a>, but flattens input and target.</p>\n",
              "<p><a href=\"https://docs.fast.ai/layers.html#CrossEntropyFlat\" target=\"_blank\" rel=\"noreferrer noopener\">Show in docs</a></p>\n"
            ],
            "text/plain": [
              "<IPython.core.display.HTML object>"
            ]
          },
          "metadata": {
            "tags": []
          }
        }
      ]
    },
    {
      "cell_type": "code",
      "metadata": {
        "id": "dnFhSTXvoKwA"
      },
      "source": [
        "#test\n",
        "loss_fn = CrossEntropyFlat()\n",
        "for x, y in data.train_dl:\n",
        "  break\n",
        "yhat = unet_learner(x)"
      ],
      "execution_count": 87,
      "outputs": []
    },
    {
      "cell_type": "code",
      "metadata": {
        "id": "14ya2_5Pqjpm",
        "outputId": "bff94237-ddeb-45ae-ebf5-70b7f4257d3d",
        "colab": {
          "base_uri": "https://localhost:8080/",
          "height": 52
        }
      },
      "source": [
        "loss_fn = learn.loss_func\n",
        "print('inda')\n",
        "loss = loss_fn(yhat, y)\n",
        "loss"
      ],
      "execution_count": 102,
      "outputs": [
        {
          "output_type": "stream",
          "text": [
            "inda\n"
          ],
          "name": "stdout"
        },
        {
          "output_type": "execute_result",
          "data": {
            "text/plain": [
              "tensor(1.1010, device='cuda:0', grad_fn=<NllLossBackward>)"
            ]
          },
          "metadata": {
            "tags": []
          },
          "execution_count": 102
        }
      ]
    },
    {
      "cell_type": "code",
      "metadata": {
        "id": "6BGjzFRJokbt",
        "outputId": "03f58805-6d7e-40b4-c450-011c583d6111",
        "colab": {
          "base_uri": "https://localhost:8080/",
          "height": 35
        }
      },
      "source": [
        "#test\n",
        "yhat.shape, y.shape\n",
        "loss_fn = CrossEntropyFlat(axis= 1)\n",
        "# loss_fn.__dict__\n",
        "yhat.shape, y.shape\n",
        "# st()\n",
        "loss_fn(yhat, y), loss"
      ],
      "execution_count": 100,
      "outputs": [
        {
          "output_type": "execute_result",
          "data": {
            "text/plain": [
              "tensor(1.1010, device='cuda:0', grad_fn=<NllLossBackward>)"
            ]
          },
          "metadata": {
            "tags": []
          },
          "execution_count": 100
        }
      ]
    }
  ]
}