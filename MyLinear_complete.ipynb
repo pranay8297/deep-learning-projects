{
  "nbformat": 4,
  "nbformat_minor": 0,
  "metadata": {
    "colab": {
      "name": "MyLinear.ipynb",
      "provenance": [],
      "collapsed_sections": [],
      "authorship_tag": "ABX9TyORdiWDDy6lpxPdYrgbQGjp",
      "include_colab_link": true
    },
    "kernelspec": {
      "name": "python3",
      "display_name": "Python 3"
    },
    "accelerator": "GPU"
  },
  "cells": [
    {
      "cell_type": "markdown",
      "metadata": {
        "id": "view-in-github",
        "colab_type": "text"
      },
      "source": [
        "<a href=\"https://colab.research.google.com/github/pranay8297/deep-learning-projects/blob/master/MyLinear_complete.ipynb\" target=\"_parent\"><img src=\"https://colab.research.google.com/assets/colab-badge.svg\" alt=\"Open In Colab\"/></a>"
      ]
    },
    {
      "cell_type": "code",
      "metadata": {
        "id": "s4qHsogexMiu",
        "colab_type": "code",
        "colab": {}
      },
      "source": [
        "import torch\n",
        "import numpy as np"
      ],
      "execution_count": 0,
      "outputs": []
    },
    {
      "cell_type": "code",
      "metadata": {
        "id": "FNnmsUdIgi4k",
        "colab_type": "code",
        "colab": {}
      },
      "source": [
        "from torch.nn.parameter import Parameter"
      ],
      "execution_count": 0,
      "outputs": []
    },
    {
      "cell_type": "code",
      "metadata": {
        "id": "-a3MQEHLsbhP",
        "colab_type": "code",
        "colab": {}
      },
      "source": [
        "from fastai.basics import *"
      ],
      "execution_count": 0,
      "outputs": []
    },
    {
      "cell_type": "code",
      "metadata": {
        "id": "ZBoiJsLpbjLM",
        "colab_type": "code",
        "colab": {}
      },
      "source": [
        "cuda0 = torch.device('cuda:0')"
      ],
      "execution_count": 0,
      "outputs": []
    },
    {
      "cell_type": "code",
      "metadata": {
        "id": "Pys0Sq3Fbkdr",
        "colab_type": "code",
        "colab": {
          "base_uri": "https://localhost:8080/",
          "height": 35
        },
        "outputId": "75a663df-5def-4be1-bf0f-46f48584d901"
      },
      "source": [
        "cuda0"
      ],
      "execution_count": 45,
      "outputs": [
        {
          "output_type": "execute_result",
          "data": {
            "text/plain": [
              "device(type='cuda', index=0)"
            ]
          },
          "metadata": {
            "tags": []
          },
          "execution_count": 45
        }
      ]
    },
    {
      "cell_type": "code",
      "metadata": {
        "id": "73SrXr5Obmp6",
        "colab_type": "code",
        "colab": {}
      },
      "source": [
        "lin = nn.Linear(100,10).cuda()"
      ],
      "execution_count": 0,
      "outputs": []
    },
    {
      "cell_type": "code",
      "metadata": {
        "id": "IE5kPyxibpq4",
        "colab_type": "code",
        "colab": {
          "base_uri": "https://localhost:8080/",
          "height": 1000
        },
        "outputId": "0dfb9be2-6922-425d-e145-36c9cfecc0bd"
      },
      "source": [
        "params = [i for i in lin.parameters()]\n",
        "params"
      ],
      "execution_count": 50,
      "outputs": [
        {
          "output_type": "execute_result",
          "data": {
            "text/plain": [
              "[Parameter containing:\n",
              " tensor([[-4.8194e-02,  3.2661e-03, -2.6576e-02, -1.3800e-02,  6.1212e-02,\n",
              "          -8.9127e-02,  1.1482e-02, -4.9211e-02, -8.4559e-02, -1.3039e-02,\n",
              "          -8.4302e-02, -9.9381e-02,  7.7602e-02,  6.6465e-02,  8.2780e-02,\n",
              "          -4.1025e-02, -3.4087e-02, -5.8901e-02,  9.2968e-02,  6.2049e-02,\n",
              "          -4.7608e-02, -9.3100e-02,  1.9410e-02,  7.4386e-02, -4.9447e-03,\n",
              "           1.5020e-02, -3.1180e-02,  4.7160e-02, -5.7854e-02, -3.4044e-02,\n",
              "          -4.8939e-02,  8.9813e-02,  7.7868e-02,  6.8303e-02, -1.3343e-02,\n",
              "           7.0514e-02,  4.9544e-02, -7.6671e-03, -8.6776e-02, -8.1218e-02,\n",
              "           8.8289e-02,  7.2377e-02,  4.1388e-03,  8.5504e-02,  2.0907e-02,\n",
              "           5.3221e-02,  3.9917e-02, -1.3506e-02, -1.9884e-02,  4.7062e-02,\n",
              "          -5.8868e-02,  1.9006e-02, -7.5801e-02,  5.6114e-02,  4.7221e-02,\n",
              "           8.3496e-02,  5.0298e-02, -9.7236e-02, -7.9198e-02, -8.9234e-02,\n",
              "          -8.9771e-02,  3.4836e-02,  2.0349e-02, -8.7804e-02, -4.6875e-02,\n",
              "          -1.2478e-02,  6.0202e-03, -5.3496e-02, -4.3104e-02,  4.9708e-02,\n",
              "          -7.0526e-02, -9.4643e-02,  6.3090e-03, -9.1243e-02,  5.7848e-03,\n",
              "          -8.9794e-02, -3.9750e-02, -2.6065e-02, -5.9711e-02, -9.3153e-02,\n",
              "          -8.9849e-03, -5.7567e-02,  1.7190e-02,  8.2217e-02, -8.7412e-02,\n",
              "          -9.8551e-02,  6.2684e-02,  6.0941e-02, -6.6171e-02,  2.7558e-02,\n",
              "           4.3721e-02,  6.1733e-02,  8.7384e-02,  6.1019e-02, -3.1164e-02,\n",
              "           9.6962e-02, -9.0833e-03,  4.1780e-02, -8.3464e-02, -4.8806e-02],\n",
              "         [-2.3295e-02, -1.4112e-02,  7.6304e-02, -7.1187e-02, -4.1714e-02,\n",
              "          -5.0721e-02, -9.6866e-02, -2.1325e-02,  9.8261e-02,  9.5760e-02,\n",
              "           7.7501e-03,  4.0126e-02, -1.3504e-03,  6.9387e-02, -3.1330e-02,\n",
              "           1.3245e-02,  9.1373e-02, -7.2245e-02, -9.3727e-02, -8.0731e-02,\n",
              "          -5.9722e-02,  6.8299e-03,  6.4737e-02,  5.1109e-02, -2.5487e-02,\n",
              "           6.1735e-02, -8.3329e-02,  1.6020e-02,  3.8256e-02,  5.2078e-02,\n",
              "           5.4068e-02, -4.3168e-02, -9.5260e-02,  3.7476e-04, -1.5290e-02,\n",
              "           7.0221e-02,  5.8033e-02,  9.7324e-02, -6.2611e-02, -2.1659e-03,\n",
              "           8.4644e-02, -7.5398e-02, -9.9934e-02, -3.7886e-02,  3.1148e-02,\n",
              "          -5.3016e-02, -3.2644e-03, -2.9588e-02,  5.3812e-02,  4.1796e-02,\n",
              "          -6.4417e-02,  2.2464e-02, -1.0616e-02,  3.2348e-02, -7.9263e-02,\n",
              "           3.0212e-02, -6.9258e-02,  4.2148e-02,  6.9922e-02,  2.7856e-02,\n",
              "          -9.0667e-02, -7.2741e-03, -4.2390e-02, -1.5885e-02,  9.7735e-02,\n",
              "           2.8007e-02, -7.6624e-02, -4.7763e-02, -9.9050e-02,  2.2312e-02,\n",
              "          -6.1938e-02, -5.1143e-02, -5.7742e-02, -2.7674e-02,  3.0751e-03,\n",
              "          -2.8705e-02, -5.2322e-02,  4.2861e-02,  2.1849e-02,  6.8755e-02,\n",
              "          -8.4259e-02, -6.3938e-02, -4.9136e-02,  6.9924e-02, -4.5926e-02,\n",
              "           4.5728e-02,  9.1101e-02,  5.8348e-02, -1.1698e-03,  9.6842e-04,\n",
              "           5.8019e-02, -1.6139e-02,  8.9149e-02,  3.8938e-02, -3.5507e-02,\n",
              "          -2.8187e-02, -1.7979e-02, -5.5160e-02,  2.2110e-02, -3.9558e-02],\n",
              "         [ 1.0210e-02,  2.6114e-02, -6.7941e-02, -6.3998e-03, -9.2770e-02,\n",
              "          -2.9099e-03,  9.7598e-02, -2.2481e-02,  7.8570e-02, -5.9323e-02,\n",
              "          -8.3624e-02, -7.9359e-02,  8.5022e-02,  4.8847e-02, -8.8690e-02,\n",
              "          -7.7650e-02,  5.9009e-02,  8.9936e-02, -1.0405e-04,  1.3796e-02,\n",
              "           7.9600e-02, -7.2677e-02,  5.8795e-02,  8.6662e-02,  6.2105e-02,\n",
              "           5.8992e-02, -2.0779e-02,  9.2340e-02, -3.3170e-02,  3.5009e-02,\n",
              "           9.2964e-03, -7.7427e-02,  1.4505e-02,  7.8786e-02, -2.9443e-02,\n",
              "           5.8039e-02,  1.3244e-03,  5.7322e-02, -3.5891e-02,  7.3829e-02,\n",
              "           7.9547e-02,  2.0449e-02, -7.1013e-02,  6.3080e-02,  3.6636e-02,\n",
              "           5.0083e-02, -8.9760e-02, -6.6480e-02, -1.6229e-02,  7.1706e-02,\n",
              "          -9.8255e-02,  6.3259e-03,  9.0460e-02, -8.6450e-02,  5.2445e-03,\n",
              "          -9.1724e-02,  1.9684e-02, -5.2042e-02,  8.6885e-02,  2.4906e-02,\n",
              "          -5.5738e-02,  2.8268e-02, -2.4931e-02,  8.9956e-02,  3.7081e-02,\n",
              "          -3.3795e-02,  3.6707e-02, -5.6239e-03, -5.2859e-02,  9.6425e-02,\n",
              "          -9.5718e-02, -9.2138e-03,  2.0845e-02, -3.9903e-02, -9.9220e-02,\n",
              "          -5.9871e-02,  1.5857e-02,  9.1870e-02,  7.8637e-02, -6.0634e-02,\n",
              "           4.0084e-03,  1.0257e-02, -2.3078e-02, -9.4392e-02,  6.2409e-02,\n",
              "          -5.7225e-02,  5.3599e-02, -2.2866e-02,  2.8988e-02,  6.5717e-02,\n",
              "           9.0676e-02, -4.1199e-03,  1.3330e-02,  5.3215e-02, -1.2000e-02,\n",
              "          -6.3398e-02, -4.4464e-02, -6.3383e-02, -3.8592e-02,  5.0328e-03],\n",
              "         [-7.7770e-02, -1.0020e-03, -5.7334e-02, -5.4998e-02, -6.8581e-02,\n",
              "          -8.0066e-02,  2.8423e-02,  6.2019e-02,  6.7721e-02, -9.8903e-03,\n",
              "          -9.9976e-02,  5.3083e-02, -2.0451e-02, -2.6275e-02, -6.5097e-02,\n",
              "          -7.3470e-03,  9.9807e-02,  2.1538e-02,  2.6672e-02, -3.5991e-02,\n",
              "           6.4248e-02, -1.9628e-02,  9.0886e-02,  8.4716e-02,  7.3538e-02,\n",
              "           9.6736e-02, -8.9716e-02,  2.7799e-02,  5.2043e-02, -3.3383e-02,\n",
              "          -2.9436e-02,  2.3811e-02,  8.8172e-02, -9.4797e-02,  9.1029e-03,\n",
              "          -9.8441e-02,  2.0856e-02,  8.5580e-02, -9.8634e-02, -7.2208e-02,\n",
              "          -6.5355e-02, -3.8434e-02, -6.7554e-02, -8.6992e-02,  6.8569e-02,\n",
              "           1.3342e-02, -7.3643e-02, -4.0153e-02,  3.1964e-03,  2.7880e-02,\n",
              "          -9.5291e-02, -3.0341e-03, -1.5865e-02, -4.0306e-02, -3.4060e-02,\n",
              "          -4.3956e-03,  3.1830e-02, -5.1596e-02, -2.6359e-02,  1.5782e-02,\n",
              "           9.6767e-02,  4.8335e-02,  3.1112e-03, -3.7115e-02,  4.3214e-02,\n",
              "           6.1820e-02,  7.7032e-02, -9.1941e-02, -3.2742e-02, -2.1135e-02,\n",
              "           5.5340e-02, -3.5567e-03, -5.6129e-02, -2.2699e-02, -8.9945e-02,\n",
              "           2.2593e-02,  9.0117e-02,  1.4380e-02, -4.2756e-02, -5.5657e-02,\n",
              "          -6.6230e-02,  5.6369e-02,  7.1665e-02,  2.8734e-02, -5.5550e-02,\n",
              "           8.5127e-02,  6.4243e-02,  1.1132e-02,  4.0300e-03, -8.0741e-02,\n",
              "           1.9192e-02,  7.4554e-02,  1.8671e-02,  4.5715e-02, -6.2842e-02,\n",
              "           6.5499e-02, -2.7618e-02,  4.3845e-03,  4.4523e-02, -7.5816e-02],\n",
              "         [-6.9850e-02, -1.9504e-02,  9.7028e-02,  2.8748e-02, -1.6606e-02,\n",
              "           9.4759e-02,  4.5670e-02, -6.2641e-02,  2.1199e-02,  9.6303e-02,\n",
              "           6.4283e-02, -7.1955e-02, -5.9495e-02, -5.1505e-02, -5.2516e-02,\n",
              "          -5.1106e-02,  3.7466e-02,  6.6620e-02,  5.9537e-02, -3.2101e-02,\n",
              "          -2.8022e-02,  7.5448e-02, -4.3942e-02,  3.7198e-02, -3.8725e-02,\n",
              "           9.2840e-02, -8.7591e-03, -8.0158e-02, -9.9184e-02, -9.7378e-02,\n",
              "           6.7558e-02,  3.2797e-02, -4.0343e-02, -6.4247e-02,  6.9081e-02,\n",
              "           4.6168e-03,  5.9602e-02,  4.1133e-02,  1.5721e-02, -6.7540e-02,\n",
              "           5.4033e-02,  7.5286e-02,  5.8308e-03,  6.7267e-02, -4.2635e-02,\n",
              "          -4.6387e-02,  1.2595e-02, -9.3611e-02,  3.1348e-03, -8.2710e-02,\n",
              "           4.8200e-02,  3.9535e-03,  6.0928e-02, -2.5098e-02,  1.8698e-02,\n",
              "          -4.1877e-02, -6.1784e-02, -6.8289e-02,  6.5027e-03, -1.4898e-02,\n",
              "           2.5598e-02, -1.0129e-02,  2.7132e-02,  9.0771e-02,  2.5770e-02,\n",
              "          -4.4696e-02,  2.6170e-02,  5.2880e-02, -3.3540e-02, -4.2225e-02,\n",
              "          -1.0570e-02,  3.0180e-02, -2.6617e-02, -2.3446e-02,  4.2626e-02,\n",
              "           1.1624e-02,  2.5272e-02, -4.2426e-02,  1.4795e-02, -6.7092e-02,\n",
              "          -2.2256e-02, -5.1305e-02, -1.8286e-02, -4.7040e-03, -3.9236e-02,\n",
              "          -4.8253e-02,  5.4347e-02,  8.9946e-02, -2.4262e-02,  4.7851e-02,\n",
              "          -8.5302e-02, -6.8256e-02,  1.7726e-02, -6.8311e-02, -1.1273e-02,\n",
              "           8.5041e-02, -3.8283e-02, -2.6753e-02, -4.5098e-02,  8.0216e-02],\n",
              "         [ 1.9548e-02,  5.8376e-02,  6.4791e-02, -3.6259e-02, -3.6389e-03,\n",
              "          -9.3610e-02,  5.1311e-02,  9.5626e-02, -5.3438e-02, -8.2790e-02,\n",
              "           8.0668e-03, -2.2757e-02,  5.9432e-02,  9.8258e-02,  7.8767e-02,\n",
              "          -6.3255e-02, -6.1736e-02,  6.3204e-02, -1.9492e-02,  4.9990e-02,\n",
              "          -6.8017e-02, -5.8756e-02, -5.6576e-02, -3.4974e-02,  8.3665e-02,\n",
              "           4.8514e-02,  4.1644e-02,  5.7430e-02, -9.4133e-03, -5.9911e-02,\n",
              "          -1.5531e-02, -4.3504e-02,  7.9198e-02,  4.1907e-02,  6.0717e-02,\n",
              "          -6.1533e-02, -2.9043e-02, -3.0451e-02, -2.0330e-02, -4.0473e-02,\n",
              "           9.6503e-02, -8.3793e-02,  7.7375e-02,  6.4017e-02,  8.9097e-02,\n",
              "          -8.1429e-02,  4.2679e-02,  9.8989e-02, -4.1112e-02,  5.5464e-02,\n",
              "          -1.6769e-02, -6.3667e-03,  6.2888e-02, -1.6266e-04,  6.5532e-02,\n",
              "           3.1268e-02,  9.9628e-02,  7.2044e-02,  1.5950e-02,  1.6693e-03,\n",
              "           6.7424e-03, -7.8493e-02, -1.9748e-02, -6.0983e-02, -9.3549e-02,\n",
              "          -4.5842e-02,  2.7791e-02,  5.6715e-02, -5.5066e-02,  2.7915e-02,\n",
              "          -2.8830e-02, -4.1439e-02, -8.3177e-02,  4.4337e-02, -9.2732e-02,\n",
              "           6.8583e-02, -4.7470e-02,  1.1612e-02, -9.0602e-02,  5.1535e-02,\n",
              "          -3.7383e-02,  6.6245e-02, -9.9080e-02, -4.6466e-02,  6.6899e-04,\n",
              "           8.9843e-02, -6.9139e-03,  9.0496e-02,  4.6281e-02, -8.1747e-02,\n",
              "          -8.4506e-02,  1.9840e-02, -6.4200e-02,  6.5078e-02,  3.4150e-02,\n",
              "           2.1763e-02,  5.2021e-04, -2.7277e-02,  6.0721e-03,  8.8225e-02],\n",
              "         [ 5.6284e-02, -4.7836e-02, -8.2784e-02,  5.8059e-02, -5.2608e-02,\n",
              "           2.8206e-02, -5.9365e-02, -8.5253e-02, -1.4668e-02, -2.9531e-02,\n",
              "           2.3265e-02, -9.4957e-02, -4.7294e-02, -4.6234e-02,  3.7157e-02,\n",
              "          -2.3623e-02, -2.5455e-02, -6.9610e-02,  2.6778e-02, -4.7126e-03,\n",
              "          -2.5246e-03,  2.8857e-02,  7.5569e-02, -5.7545e-02, -1.0653e-02,\n",
              "          -3.2648e-02,  6.3423e-02, -5.0217e-02,  5.0019e-02,  9.7357e-02,\n",
              "          -5.5215e-02, -1.5400e-02,  6.7441e-02, -3.4239e-02,  9.6002e-02,\n",
              "          -8.7955e-03,  4.1668e-02, -8.0424e-03, -5.0061e-02, -6.7272e-04,\n",
              "          -1.1907e-02,  4.1342e-02, -8.9076e-02,  5.2173e-02, -8.5088e-02,\n",
              "          -9.1908e-02,  8.1606e-02, -2.9806e-02,  2.8380e-02, -8.0089e-02,\n",
              "          -7.3110e-02,  3.3628e-02,  4.7451e-02,  7.7658e-02, -3.6907e-02,\n",
              "          -4.7618e-02,  8.2634e-02, -5.4909e-02, -8.1067e-02, -4.4626e-02,\n",
              "           6.8257e-02, -1.8851e-02,  5.0484e-02,  5.7585e-02,  4.4221e-02,\n",
              "          -1.1137e-02,  7.8942e-02, -8.8264e-02, -6.5457e-02,  5.0490e-03,\n",
              "          -1.6834e-02,  7.4720e-02, -7.4445e-02, -4.5269e-02,  6.3318e-02,\n",
              "          -5.2653e-02,  6.9185e-02,  5.0768e-02,  6.8653e-02,  8.6795e-02,\n",
              "          -3.2008e-02,  5.1799e-02, -4.3704e-02, -1.8488e-02,  9.6741e-02,\n",
              "           9.7339e-02, -8.8944e-02,  1.7514e-02, -8.3602e-02,  9.5633e-03,\n",
              "          -4.7427e-02, -1.7117e-02,  6.1133e-02, -2.0425e-02,  2.9098e-02,\n",
              "           7.1093e-02,  9.4025e-03,  4.1615e-02, -3.2613e-02, -6.3001e-03],\n",
              "         [-5.2784e-02,  7.9981e-02,  3.3842e-02,  8.0326e-02,  2.5122e-02,\n",
              "           7.0333e-02,  7.5036e-02,  9.5157e-02,  2.6026e-02, -6.1787e-02,\n",
              "           7.1430e-02, -3.8272e-03, -1.6505e-02, -3.8280e-02,  5.4867e-02,\n",
              "          -2.4139e-02,  3.6092e-03,  2.5060e-02, -2.2794e-02,  3.7718e-02,\n",
              "          -1.6947e-02, -4.4577e-02,  5.9931e-02,  7.2472e-02,  1.7716e-02,\n",
              "          -7.9324e-02, -7.8957e-02,  6.6209e-03,  3.3887e-02,  7.5975e-02,\n",
              "          -2.4376e-02, -9.1176e-02, -2.1778e-02,  7.8642e-02,  9.4754e-02,\n",
              "           1.9635e-02, -3.8483e-02,  5.2478e-02,  6.2540e-02,  9.2252e-02,\n",
              "          -8.6119e-02, -3.7920e-02, -4.7318e-02, -6.2717e-02, -6.7641e-02,\n",
              "          -3.1068e-02, -7.6263e-02, -1.3170e-02, -3.9115e-02, -5.2545e-02,\n",
              "          -1.2320e-02, -8.6471e-02,  5.6809e-02,  2.4530e-02, -5.2400e-02,\n",
              "           7.7104e-02,  6.8402e-02,  2.3722e-02, -8.5381e-02,  2.1718e-03,\n",
              "           1.8804e-02,  4.0898e-02, -4.3352e-02, -1.6095e-02,  4.4157e-02,\n",
              "          -1.0184e-02, -2.2571e-02,  3.5627e-02, -6.9730e-02, -7.5205e-02,\n",
              "          -6.6165e-02,  7.5281e-03, -5.8299e-02,  3.1229e-02,  4.6989e-02,\n",
              "          -6.6519e-02, -7.3155e-02, -6.0929e-02,  5.6718e-02, -2.3277e-02,\n",
              "          -9.7333e-02, -1.5610e-02,  9.1985e-02, -5.2874e-02, -5.8948e-02,\n",
              "          -1.3269e-05,  8.8019e-02,  8.3002e-02,  2.3083e-02,  2.3930e-03,\n",
              "          -5.5918e-03,  5.1524e-02, -5.1128e-02,  2.7734e-02, -8.9017e-02,\n",
              "           4.8644e-02,  3.8673e-02, -6.1175e-02,  7.2956e-02,  5.7375e-04],\n",
              "         [ 2.9972e-02, -8.0610e-02,  4.1264e-02, -9.9756e-02,  5.7269e-02,\n",
              "          -2.2821e-02,  1.8436e-03,  5.9638e-02, -5.3132e-03,  3.3603e-02,\n",
              "          -5.5681e-02,  9.1174e-02,  2.4494e-02,  7.8948e-02, -8.9441e-02,\n",
              "          -8.5085e-02, -1.0334e-02,  1.3081e-02, -6.5687e-02,  6.7156e-02,\n",
              "           9.0943e-02, -3.0625e-02,  2.2096e-02, -7.0624e-02, -2.1764e-02,\n",
              "           9.4216e-02, -9.2609e-03,  7.7138e-02,  1.7503e-02,  7.8436e-02,\n",
              "           2.7173e-02, -9.3269e-02,  9.7129e-03, -2.3254e-02,  7.5048e-02,\n",
              "          -6.1236e-02,  2.2611e-02,  3.9104e-02,  8.8178e-02, -7.5164e-02,\n",
              "          -7.2963e-02, -3.7910e-02,  7.8217e-02, -7.5970e-02, -6.1019e-02,\n",
              "          -3.9474e-02,  1.1660e-02,  5.2197e-02, -5.8725e-03,  7.0227e-02,\n",
              "          -6.8269e-02, -2.1137e-02, -3.6852e-04,  9.4782e-02,  1.8335e-03,\n",
              "          -7.6166e-03, -1.8864e-02,  2.5394e-02, -5.1654e-02,  6.5808e-02,\n",
              "           1.5218e-02, -2.6362e-02, -6.0779e-02, -4.3599e-02, -4.0410e-02,\n",
              "           2.0829e-03,  4.6519e-02,  5.4679e-02,  1.8433e-02, -3.8084e-02,\n",
              "           5.2128e-02,  7.9158e-03,  3.9358e-02, -6.5929e-02, -7.5463e-02,\n",
              "          -6.5818e-02, -2.2285e-02, -7.4131e-02, -6.3759e-02,  6.5740e-02,\n",
              "          -9.7463e-02, -9.6673e-02, -9.3606e-02, -5.4992e-02,  2.9720e-03,\n",
              "          -2.5290e-02,  5.4932e-03, -4.3932e-02, -5.6950e-02, -1.3849e-03,\n",
              "          -3.6822e-02,  3.6712e-03, -4.6013e-02, -7.6968e-02, -7.6154e-03,\n",
              "           3.6641e-02,  2.5192e-02, -7.6416e-02,  9.4167e-02,  1.6536e-02],\n",
              "         [ 2.6673e-02, -2.4791e-02,  8.3990e-02,  5.3943e-02, -5.3917e-02,\n",
              "          -2.1691e-02, -8.2342e-02, -3.3122e-02, -2.9702e-02,  9.2982e-02,\n",
              "           2.7329e-02,  7.7210e-02, -2.6287e-02, -8.3762e-02,  4.8182e-02,\n",
              "          -6.2955e-02, -1.1826e-02, -4.9257e-02,  3.7922e-02, -1.6771e-02,\n",
              "          -5.6742e-02,  2.3479e-02, -7.3615e-02,  3.6677e-02, -3.0542e-02,\n",
              "          -6.6963e-03,  5.1646e-02,  2.0616e-02,  5.6516e-02, -8.8905e-03,\n",
              "          -7.8693e-03, -4.2868e-02, -4.3366e-02, -9.0621e-02,  1.8558e-02,\n",
              "           6.4473e-02,  9.8533e-03,  3.5523e-02,  8.0783e-02,  2.7541e-02,\n",
              "           2.2320e-02,  5.7172e-02,  8.6156e-02,  5.2191e-02, -5.4079e-04,\n",
              "          -5.1320e-02,  5.0668e-02,  5.9450e-04, -8.1764e-02, -1.4925e-02,\n",
              "          -2.4890e-02, -4.2857e-02,  6.4980e-02, -3.1411e-02,  5.5464e-02,\n",
              "           1.7577e-02, -1.3085e-02,  2.2367e-02, -7.8113e-02,  7.0620e-02,\n",
              "           1.8284e-03,  5.0811e-02,  5.4323e-02,  4.2696e-02, -2.6888e-02,\n",
              "           7.9626e-02,  9.5651e-02,  8.3347e-03, -9.3443e-02, -9.5025e-02,\n",
              "          -3.6212e-02, -8.0983e-02,  1.0838e-02,  3.5767e-02,  7.9218e-02,\n",
              "           2.2493e-02, -4.1215e-02,  1.6125e-02,  2.2409e-02, -3.3626e-02,\n",
              "          -7.3887e-02,  1.1182e-02,  7.4710e-02,  8.6722e-02,  4.3161e-02,\n",
              "           1.6569e-02, -3.9489e-02,  8.5742e-02, -6.9825e-02, -1.9396e-02,\n",
              "          -2.3938e-03, -1.2788e-02, -5.0844e-02,  7.7961e-02, -2.0651e-03,\n",
              "           1.7721e-03, -5.4560e-02,  4.5805e-02,  7.1022e-02, -3.9312e-02]],\n",
              "        device='cuda:0', requires_grad=True), Parameter containing:\n",
              " tensor([-0.0754,  0.0213, -0.0479,  0.0222, -0.0152, -0.0461, -0.0196, -0.0366,\n",
              "         -0.0754,  0.0508], device='cuda:0', requires_grad=True)]"
            ]
          },
          "metadata": {
            "tags": []
          },
          "execution_count": 50
        }
      ]
    },
    {
      "cell_type": "code",
      "metadata": {
        "id": "bDRGZinq7jT7",
        "colab_type": "code",
        "outputId": "07adf70e-ced0-4461-ea8e-185da19f4e2d",
        "colab": {
          "base_uri": "https://localhost:8080/",
          "height": 397
        }
      },
      "source": [
        "!pip install ipdb"
      ],
      "execution_count": 4,
      "outputs": [
        {
          "output_type": "stream",
          "text": [
            "Collecting ipdb\n",
            "  Downloading https://files.pythonhosted.org/packages/2c/bb/a3e1a441719ebd75c6dac8170d3ddba884b7ee8a5c0f9aefa7297386627a/ipdb-0.13.2.tar.gz\n",
            "Requirement already satisfied: setuptools in /usr/local/lib/python3.6/dist-packages (from ipdb) (46.1.3)\n",
            "Requirement already satisfied: ipython>=5.1.0 in /usr/local/lib/python3.6/dist-packages (from ipdb) (5.5.0)\n",
            "Requirement already satisfied: traitlets>=4.2 in /usr/local/lib/python3.6/dist-packages (from ipython>=5.1.0->ipdb) (4.3.3)\n",
            "Requirement already satisfied: pexpect; sys_platform != \"win32\" in /usr/local/lib/python3.6/dist-packages (from ipython>=5.1.0->ipdb) (4.8.0)\n",
            "Requirement already satisfied: decorator in /usr/local/lib/python3.6/dist-packages (from ipython>=5.1.0->ipdb) (4.4.2)\n",
            "Requirement already satisfied: pickleshare in /usr/local/lib/python3.6/dist-packages (from ipython>=5.1.0->ipdb) (0.7.5)\n",
            "Requirement already satisfied: pygments in /usr/local/lib/python3.6/dist-packages (from ipython>=5.1.0->ipdb) (2.1.3)\n",
            "Requirement already satisfied: simplegeneric>0.8 in /usr/local/lib/python3.6/dist-packages (from ipython>=5.1.0->ipdb) (0.8.1)\n",
            "Requirement already satisfied: prompt-toolkit<2.0.0,>=1.0.4 in /usr/local/lib/python3.6/dist-packages (from ipython>=5.1.0->ipdb) (1.0.18)\n",
            "Requirement already satisfied: six in /usr/local/lib/python3.6/dist-packages (from traitlets>=4.2->ipython>=5.1.0->ipdb) (1.12.0)\n",
            "Requirement already satisfied: ipython-genutils in /usr/local/lib/python3.6/dist-packages (from traitlets>=4.2->ipython>=5.1.0->ipdb) (0.2.0)\n",
            "Requirement already satisfied: ptyprocess>=0.5 in /usr/local/lib/python3.6/dist-packages (from pexpect; sys_platform != \"win32\"->ipython>=5.1.0->ipdb) (0.6.0)\n",
            "Requirement already satisfied: wcwidth in /usr/local/lib/python3.6/dist-packages (from prompt-toolkit<2.0.0,>=1.0.4->ipython>=5.1.0->ipdb) (0.1.9)\n",
            "Building wheels for collected packages: ipdb\n",
            "  Building wheel for ipdb (setup.py) ... \u001b[?25l\u001b[?25hdone\n",
            "  Created wheel for ipdb: filename=ipdb-0.13.2-cp36-none-any.whl size=10522 sha256=0557c904d9ab5e0fb90f172359f4997508852b3bb765d9b728ff8f781f879fa3\n",
            "  Stored in directory: /root/.cache/pip/wheels/60/c2/15/793365e3c9318c46ba914263740d90f1fe67f544b979141ce4\n",
            "Successfully built ipdb\n",
            "Installing collected packages: ipdb\n",
            "Successfully installed ipdb-0.13.2\n"
          ],
          "name": "stdout"
        }
      ]
    },
    {
      "cell_type": "code",
      "metadata": {
        "id": "1qfsoMue7mAz",
        "colab_type": "code",
        "colab": {}
      },
      "source": [
        "from ipdb import set_trace as st"
      ],
      "execution_count": 0,
      "outputs": []
    },
    {
      "cell_type": "code",
      "metadata": {
        "id": "QB8YGPMRI2K3",
        "colab_type": "code",
        "outputId": "669991b9-0689-43d9-b924-886043e7d090",
        "colab": {
          "base_uri": "https://localhost:8080/",
          "height": 35
        }
      },
      "source": [
        "x = torch.randn(2, 2, requires_grad = True)\n",
        "\n",
        "# From numpy\n",
        "x = np.array([1., 2., 3.]) #Only Tensors of floating point dtype can require gradients\n",
        "x = torch.from_numpy(x)\n",
        "# Now enable gradient \n",
        "x.requires_grad_(True)\n",
        "# _ above makes the change in-place (its a common pytorch thing)"
      ],
      "execution_count": 20,
      "outputs": [
        {
          "output_type": "execute_result",
          "data": {
            "text/plain": [
              "tensor([1., 2., 3.], dtype=torch.float64, requires_grad=True)"
            ]
          },
          "metadata": {
            "tags": []
          },
          "execution_count": 20
        }
      ]
    },
    {
      "cell_type": "code",
      "metadata": {
        "id": "Ni1_nWKHZFG5",
        "colab_type": "code",
        "colab": {
          "base_uri": "https://localhost:8080/",
          "height": 35
        },
        "outputId": "d31285aa-97a6-47d7-bead-eb5dbc3faf64"
      },
      "source": [
        "x.data.zero_()"
      ],
      "execution_count": 22,
      "outputs": [
        {
          "output_type": "execute_result",
          "data": {
            "text/plain": [
              "tensor([0., 0., 0.], dtype=torch.float64)"
            ]
          },
          "metadata": {
            "tags": []
          },
          "execution_count": 22
        }
      ]
    },
    {
      "cell_type": "code",
      "metadata": {
        "id": "EqCbkcg3ZJjf",
        "colab_type": "code",
        "colab": {
          "base_uri": "https://localhost:8080/",
          "height": 35
        },
        "outputId": "55957896-87a4-4be4-dee0-a4715a06bbcf"
      },
      "source": [
        "x"
      ],
      "execution_count": 23,
      "outputs": [
        {
          "output_type": "execute_result",
          "data": {
            "text/plain": [
              "tensor([0., 0., 0.], dtype=torch.float64, requires_grad=True)"
            ]
          },
          "metadata": {
            "tags": []
          },
          "execution_count": 23
        }
      ]
    },
    {
      "cell_type": "code",
      "metadata": {
        "id": "_EEwVGZBxVB6",
        "colab_type": "code",
        "colab": {}
      },
      "source": [
        "x = torch.randn(2, 2, requires_grad= True)"
      ],
      "execution_count": 0,
      "outputs": []
    },
    {
      "cell_type": "code",
      "metadata": {
        "id": "ZYimtCCPxddY",
        "colab_type": "code",
        "colab": {}
      },
      "source": [
        "x = np.array([1., 2., 3.])"
      ],
      "execution_count": 0,
      "outputs": []
    },
    {
      "cell_type": "code",
      "metadata": {
        "id": "uHc2mISHI7sU",
        "colab_type": "code",
        "outputId": "9abcdbcf-c469-4862-9749-9e3c9bceaba8",
        "colab": {
          "base_uri": "https://localhost:8080/",
          "height": 35
        }
      },
      "source": [
        "x"
      ],
      "execution_count": 25,
      "outputs": [
        {
          "output_type": "execute_result",
          "data": {
            "text/plain": [
              "array([1., 2., 3.])"
            ]
          },
          "metadata": {
            "tags": []
          },
          "execution_count": 25
        }
      ]
    },
    {
      "cell_type": "code",
      "metadata": {
        "id": "lZo3kavAJIX6",
        "colab_type": "code",
        "colab": {}
      },
      "source": [
        "x_1 = map(torch.tensor, (x))"
      ],
      "execution_count": 0,
      "outputs": []
    },
    {
      "cell_type": "code",
      "metadata": {
        "id": "LmEYumTYI-sq",
        "colab_type": "code",
        "colab": {}
      },
      "source": [
        "x = torch.from_numpy(x)"
      ],
      "execution_count": 0,
      "outputs": []
    },
    {
      "cell_type": "code",
      "metadata": {
        "id": "O3OJac6pJGQG",
        "colab_type": "code",
        "outputId": "d29347a3-6dd8-4adb-daf4-48ae3823b68f",
        "colab": {
          "base_uri": "https://localhost:8080/",
          "height": 35
        }
      },
      "source": [
        "x"
      ],
      "execution_count": 28,
      "outputs": [
        {
          "output_type": "execute_result",
          "data": {
            "text/plain": [
              "tensor([1., 2., 3.], dtype=torch.float64)"
            ]
          },
          "metadata": {
            "tags": []
          },
          "execution_count": 28
        }
      ]
    },
    {
      "cell_type": "code",
      "metadata": {
        "id": "z2XgxDgwJUNf",
        "colab_type": "code",
        "outputId": "28934f17-53df-4b65-8818-2787c80b8b40",
        "colab": {
          "base_uri": "https://localhost:8080/",
          "height": 35
        }
      },
      "source": [
        "x.requires_grad = True\n",
        "x"
      ],
      "execution_count": 29,
      "outputs": [
        {
          "output_type": "execute_result",
          "data": {
            "text/plain": [
              "tensor([1., 2., 3.], dtype=torch.float64, requires_grad=True)"
            ]
          },
          "metadata": {
            "tags": []
          },
          "execution_count": 29
        }
      ]
    },
    {
      "cell_type": "code",
      "metadata": {
        "id": "U2_HyGR_Jt2S",
        "colab_type": "code",
        "outputId": "bd080c90-ec87-40f4-da59-70824cbca620",
        "colab": {
          "base_uri": "https://localhost:8080/",
          "height": 35
        }
      },
      "source": [
        "x.requires_grad_(True)\n",
        "x"
      ],
      "execution_count": 30,
      "outputs": [
        {
          "output_type": "execute_result",
          "data": {
            "text/plain": [
              "tensor([1., 2., 3.], dtype=torch.float64, requires_grad=True)"
            ]
          },
          "metadata": {
            "tags": []
          },
          "execution_count": 30
        }
      ]
    },
    {
      "cell_type": "code",
      "metadata": {
        "id": "rjMZU95UK4wa",
        "colab_type": "code",
        "outputId": "08d913ee-caf3-4563-b201-65a7fff16a06",
        "colab": {
          "base_uri": "https://localhost:8080/",
          "height": 380
        }
      },
      "source": [
        "import torch\n",
        "\n",
        "# Creating the graph\n",
        "x = torch.tensor(1.0, requires_grad = True)\n",
        "y = torch.tensor(2.0)\n",
        "z = x * y\n",
        "\n",
        "# Displaying\n",
        "for i, name in zip([x, y, z], \"xyz\"):\n",
        "    print(f\"{name}\\ndata: {i.data}\\nrequires_grad: {i.requires_grad}\\n\\grad: {i.grad}\\ngrad_fn: {i.grad_fn}\\nis_leaf: {i.is_leaf}\\n\")"
      ],
      "execution_count": 31,
      "outputs": [
        {
          "output_type": "stream",
          "text": [
            "x\n",
            "data: 1.0\n",
            "requires_grad: True\n",
            "\\grad: None\n",
            "grad_fn: None\n",
            "is_leaf: True\n",
            "\n",
            "y\n",
            "data: 2.0\n",
            "requires_grad: False\n",
            "\\grad: None\n",
            "grad_fn: None\n",
            "is_leaf: True\n",
            "\n",
            "z\n",
            "data: 2.0\n",
            "requires_grad: True\n",
            "\\grad: None\n",
            "grad_fn: <MulBackward0 object at 0x7feafd6de978>\n",
            "is_leaf: False\n",
            "\n"
          ],
          "name": "stdout"
        }
      ]
    },
    {
      "cell_type": "code",
      "metadata": {
        "id": "3P3Po5ELsLnw",
        "colab_type": "code",
        "colab": {
          "base_uri": "https://localhost:8080/",
          "height": 207
        },
        "outputId": "66e0821a-6d4d-4467-93c4-f0a0e414f5d2"
      },
      "source": [
        "!wget http://deeplearning.net/data/mnist/mnist.pkl.gz"
      ],
      "execution_count": 6,
      "outputs": [
        {
          "output_type": "stream",
          "text": [
            "--2020-04-26 12:08:12--  http://deeplearning.net/data/mnist/mnist.pkl.gz\n",
            "Resolving deeplearning.net (deeplearning.net)... 132.204.26.28\n",
            "Connecting to deeplearning.net (deeplearning.net)|132.204.26.28|:80... connected.\n",
            "HTTP request sent, awaiting response... 200 OK\n",
            "Length: 16168813 (15M) [application/x-gzip]\n",
            "Saving to: ‘mnist.pkl.gz’\n",
            "\n",
            "\rmnist.pkl.gz          0%[                    ]       0  --.-KB/s               \rmnist.pkl.gz          0%[                    ]  84.83K   348KB/s               \rmnist.pkl.gz          1%[                    ] 256.53K   526KB/s               \rmnist.pkl.gz          3%[                    ] 549.22K   750KB/s               \rmnist.pkl.gz          6%[>                   ]   1001K  1.00MB/s               \rmnist.pkl.gz         11%[=>                  ]   1.73M  1.41MB/s               \rmnist.pkl.gz         19%[==>                 ]   2.97M  2.03MB/s               \rmnist.pkl.gz         33%[=====>              ]   5.12M  2.99MB/s               \rmnist.pkl.gz         56%[==========>         ]   8.78M  4.49MB/s               \rmnist.pkl.gz         98%[==================> ]  15.12M  6.91MB/s               \rmnist.pkl.gz        100%[===================>]  15.42M  7.01MB/s    in 2.2s    \n",
            "\n",
            "2020-04-26 12:08:15 (7.01 MB/s) - ‘mnist.pkl.gz’ saved [16168813/16168813]\n",
            "\n"
          ],
          "name": "stdout"
        }
      ]
    },
    {
      "cell_type": "code",
      "metadata": {
        "id": "P1-D5LuAsTjJ",
        "colab_type": "code",
        "colab": {
          "base_uri": "https://localhost:8080/",
          "height": 35
        },
        "outputId": "9decc3d1-dd6f-4629-b6f6-2a095a52dc77"
      },
      "source": [
        "!pwd"
      ],
      "execution_count": 7,
      "outputs": [
        {
          "output_type": "stream",
          "text": [
            "/content\n"
          ],
          "name": "stdout"
        }
      ]
    },
    {
      "cell_type": "code",
      "metadata": {
        "id": "T8NJYEVjsVgH",
        "colab_type": "code",
        "colab": {}
      },
      "source": [
        "path = Path('/content')"
      ],
      "execution_count": 0,
      "outputs": []
    },
    {
      "cell_type": "code",
      "metadata": {
        "id": "DfAMoQYXsYYN",
        "colab_type": "code",
        "colab": {
          "base_uri": "https://localhost:8080/",
          "height": 69
        },
        "outputId": "023cf4c2-aeb4-4534-f6b8-b7acc6bf00db"
      },
      "source": [
        "path.ls()"
      ],
      "execution_count": 9,
      "outputs": [
        {
          "output_type": "execute_result",
          "data": {
            "text/plain": [
              "[PosixPath('/content/.config'),\n",
              " PosixPath('/content/mnist.pkl.gz'),\n",
              " PosixPath('/content/sample_data')]"
            ]
          },
          "metadata": {
            "tags": []
          },
          "execution_count": 9
        }
      ]
    },
    {
      "cell_type": "code",
      "metadata": {
        "id": "wqQkEJXbsg0t",
        "colab_type": "code",
        "colab": {}
      },
      "source": [
        "with gzip.open(path/'mnist.pkl.gz', 'rb') as f:\n",
        "  (x_train, y_train), (x_valid, y_valid), _ = pickle.load(f, encoding = 'latin-1')"
      ],
      "execution_count": 0,
      "outputs": []
    },
    {
      "cell_type": "code",
      "metadata": {
        "id": "PUqjEgFAs3QY",
        "colab_type": "code",
        "colab": {
          "base_uri": "https://localhost:8080/",
          "height": 190
        },
        "outputId": "cec3642c-fbb2-417a-f856-1adde2981d6b"
      },
      "source": [
        "x_train, y_train"
      ],
      "execution_count": 11,
      "outputs": [
        {
          "output_type": "execute_result",
          "data": {
            "text/plain": [
              "(array([[0., 0., 0., 0., ..., 0., 0., 0., 0.],\n",
              "        [0., 0., 0., 0., ..., 0., 0., 0., 0.],\n",
              "        [0., 0., 0., 0., ..., 0., 0., 0., 0.],\n",
              "        [0., 0., 0., 0., ..., 0., 0., 0., 0.],\n",
              "        ...,\n",
              "        [0., 0., 0., 0., ..., 0., 0., 0., 0.],\n",
              "        [0., 0., 0., 0., ..., 0., 0., 0., 0.],\n",
              "        [0., 0., 0., 0., ..., 0., 0., 0., 0.],\n",
              "        [0., 0., 0., 0., ..., 0., 0., 0., 0.]], dtype=float32),\n",
              " array([5, 0, 4, 1, ..., 0, 8, 4, 8]))"
            ]
          },
          "metadata": {
            "tags": []
          },
          "execution_count": 11
        }
      ]
    },
    {
      "cell_type": "code",
      "metadata": {
        "id": "e_yThZRes5TS",
        "colab_type": "code",
        "colab": {
          "base_uri": "https://localhost:8080/",
          "height": 282
        },
        "outputId": "ad4a24d4-7e6a-4928-c69c-b44b4456e09d"
      },
      "source": [
        "plt.imshow(x_train[3].reshape((28,28)))"
      ],
      "execution_count": 12,
      "outputs": [
        {
          "output_type": "execute_result",
          "data": {
            "text/plain": [
              "<matplotlib.image.AxesImage at 0x7ff77a4df198>"
            ]
          },
          "metadata": {
            "tags": []
          },
          "execution_count": 12
        },
        {
          "output_type": "display_data",
          "data": {
            "image/png": "[encoded data removed]",
            "text/plain": [
              "<Figure size 432x288 with 1 Axes>"
            ]
          },
          "metadata": {
            "tags": [],
            "needs_background": "light"
          }
        }
      ]
    },
    {
      "cell_type": "code",
      "metadata": {
        "id": "9L4XH_6RtCNB",
        "colab_type": "code",
        "colab": {}
      },
      "source": [
        "x_train, y_train, x_valid, y_valid = map(torch.tensor, (x_train, y_train, x_valid, y_valid))"
      ],
      "execution_count": 0,
      "outputs": []
    },
    {
      "cell_type": "code",
      "metadata": {
        "id": "OCqPmQidtXgG",
        "colab_type": "code",
        "colab": {
          "base_uri": "https://localhost:8080/",
          "height": 35
        },
        "outputId": "5c97d76c-aaff-4877-c086-899a37b8ab9f"
      },
      "source": [
        "x_train.shape"
      ],
      "execution_count": 14,
      "outputs": [
        {
          "output_type": "execute_result",
          "data": {
            "text/plain": [
              "torch.Size([50000, 784])"
            ]
          },
          "metadata": {
            "tags": []
          },
          "execution_count": 14
        }
      ]
    },
    {
      "cell_type": "code",
      "metadata": {
        "id": "ZB3bU555xnrh",
        "colab_type": "code",
        "colab": {}
      },
      "source": [
        "test = torch.rand(5, 5)\n",
        "test_2 = torch.rand(5, 5)"
      ],
      "execution_count": 0,
      "outputs": []
    },
    {
      "cell_type": "code",
      "metadata": {
        "id": "TgWPNXepxqIb",
        "colab_type": "code",
        "colab": {
          "base_uri": "https://localhost:8080/",
          "height": 104
        },
        "outputId": "9c10933a-1a6e-4bf0-b0e2-aa047b3915b3"
      },
      "source": [
        "test.cuda()"
      ],
      "execution_count": 133,
      "outputs": [
        {
          "output_type": "execute_result",
          "data": {
            "text/plain": [
              "tensor([[0.3013, 0.3417, 0.4416, 0.4393, 0.8587],\n",
              "        [0.4555, 0.4339, 0.4446, 0.3584, 0.0542],\n",
              "        [0.4183, 0.5120, 0.9956, 0.7079, 0.4810],\n",
              "        [0.1974, 0.9558, 0.7099, 0.8816, 0.8581],\n",
              "        [0.5408, 0.6494, 0.4579, 0.9321, 0.6539]], device='cuda:0')"
            ]
          },
          "metadata": {
            "tags": []
          },
          "execution_count": 133
        }
      ]
    },
    {
      "cell_type": "code",
      "metadata": {
        "id": "QZOOrMs9yosf",
        "colab_type": "code",
        "colab": {}
      },
      "source": [
        "train_ds = TensorDataset(x_train, y_train)\n",
        "valid_ds = TensorDataset(x_valid, y_valid)"
      ],
      "execution_count": 0,
      "outputs": []
    },
    {
      "cell_type": "code",
      "metadata": {
        "id": "f9_RQoOTyzfZ",
        "colab_type": "code",
        "colab": {}
      },
      "source": [
        "bs = 64\n",
        "data= DataBunch.create(train_ds, valid_ds, bs)"
      ],
      "execution_count": 0,
      "outputs": []
    },
    {
      "cell_type": "code",
      "metadata": {
        "id": "hrg9fv42y6K5",
        "colab_type": "code",
        "colab": {
          "base_uri": "https://localhost:8080/",
          "height": 138
        },
        "outputId": "c2e20a42-3560-4f0b-c593-ca976bc759f8"
      },
      "source": [
        "data"
      ],
      "execution_count": 16,
      "outputs": [
        {
          "output_type": "execute_result",
          "data": {
            "text/plain": [
              "DataBunch;\n",
              "\n",
              "Train: <torch.utils.data.dataset.TensorDataset object at 0x7ff77a4df7f0>;\n",
              "\n",
              "Valid: <torch.utils.data.dataset.TensorDataset object at 0x7ff77a4df860>;\n",
              "\n",
              "Test: 64"
            ]
          },
          "metadata": {
            "tags": []
          },
          "execution_count": 16
        }
      ]
    },
    {
      "cell_type": "code",
      "metadata": {
        "id": "erVCCBAny83O",
        "colab_type": "code",
        "colab": {}
      },
      "source": [
        "x, y = next(iter(data.train_dl))"
      ],
      "execution_count": 0,
      "outputs": []
    },
    {
      "cell_type": "code",
      "metadata": {
        "id": "2lRwg7lMBmAm",
        "colab_type": "code",
        "colab": {}
      },
      "source": [
        "loss_function = nn.CrossEntropyLoss()"
      ],
      "execution_count": 0,
      "outputs": []
    },
    {
      "cell_type": "code",
      "metadata": {
        "id": "tJfMr5d9L9Vg",
        "colab_type": "code",
        "colab": {}
      },
      "source": [
        "a = torch.Tensor()"
      ],
      "execution_count": 0,
      "outputs": []
    },
    {
      "cell_type": "code",
      "metadata": {
        "id": "uUmPE093MEVU",
        "colab_type": "code",
        "colab": {
          "base_uri": "https://localhost:8080/",
          "height": 35
        },
        "outputId": "41c08ad0-2529-484e-8fc7-c0abafcc14de"
      },
      "source": [
        "a.add(torch.tensor(2))"
      ],
      "execution_count": 118,
      "outputs": [
        {
          "output_type": "execute_result",
          "data": {
            "text/plain": [
              "tensor([])"
            ]
          },
          "metadata": {
            "tags": []
          },
          "execution_count": 118
        }
      ]
    },
    {
      "cell_type": "code",
      "metadata": {
        "id": "XhBnrsVOMV7J",
        "colab_type": "code",
        "colab": {
          "base_uri": "https://localhost:8080/",
          "height": 165
        },
        "outputId": "7b3e2596-48fa-4dd7-bb6f-80f7de0cc315"
      },
      "source": [
        "torch.ones([2, 4], dtype=torch.float64, device=cuda0)"
      ],
      "execution_count": 43,
      "outputs": [
        {
          "output_type": "error",
          "ename": "NameError",
          "evalue": "ignored",
          "traceback": [
            "\u001b[0;31m---------------------------------------------------------------------------\u001b[0m",
            "\u001b[0;31mNameError\u001b[0m                                 Traceback (most recent call last)",
            "\u001b[0;32m<ipython-input-43-46aac5ac0f53>\u001b[0m in \u001b[0;36m<module>\u001b[0;34m()\u001b[0m\n\u001b[0;32m----> 1\u001b[0;31m \u001b[0mtorch\u001b[0m\u001b[0;34m.\u001b[0m\u001b[0mones\u001b[0m\u001b[0;34m(\u001b[0m\u001b[0;34m[\u001b[0m\u001b[0;36m2\u001b[0m\u001b[0;34m,\u001b[0m \u001b[0;36m4\u001b[0m\u001b[0;34m]\u001b[0m\u001b[0;34m,\u001b[0m \u001b[0mdtype\u001b[0m\u001b[0;34m=\u001b[0m\u001b[0mtorch\u001b[0m\u001b[0;34m.\u001b[0m\u001b[0mfloat64\u001b[0m\u001b[0;34m,\u001b[0m \u001b[0mdevice\u001b[0m\u001b[0;34m=\u001b[0m\u001b[0mcuda0\u001b[0m\u001b[0;34m)\u001b[0m\u001b[0;34m\u001b[0m\u001b[0;34m\u001b[0m\u001b[0m\n\u001b[0m",
            "\u001b[0;31mNameError\u001b[0m: name 'cuda0' is not defined"
          ]
        }
      ]
    },
    {
      "cell_type": "code",
      "metadata": {
        "id": "_oN3V9PytZFQ",
        "colab_type": "code",
        "colab": {}
      },
      "source": [
        "class Linear(nn.Module):\n",
        "  def __init__(self, in_features, out_features, with_bias = False):\n",
        "    super().__init__()\n",
        "    self.with_bias = with_bias\n",
        "    self.in_features = in_features\n",
        "    self.out_features = out_features\n",
        "\n",
        "    # self.weights = Parameter(torch.rand(out_features, in_features, requires_grad= True))\n",
        "    # self.bias = Parameter(torch.rand(out_features, requires_grad= True))\n",
        "\n",
        "    self.weights = torch.rand(out_features, in_features, requires_grad= True, device=cuda0)\n",
        "    self.bias = torch.rand(out_features, requires_grad= True, device=cuda0)\n",
        "\n",
        "    self.parameter = []\n",
        "\n",
        "    self.bound_parameters()\n",
        "    self.register_parameters()\n",
        "\n",
        "  def forward(self, xb):\n",
        "    activation = xb @ torch.transpose(self.weights, 0, 1)\n",
        "    if self.with_bias:\n",
        "      for act in activation:\n",
        "        act.add_(self.bias)\n",
        "    return activation\n",
        "\n",
        "  def bound_parameters(self):\n",
        "    stdv = 1./math.sqrt(self.weights.shape[1])\n",
        "    self.weights.data.uniform_(-stdv, stdv)\n",
        "    if self.with_bias:\n",
        "      self.bias.data.uniform_(-stdv, stdv)\n",
        "  \n",
        "  def register_parameters(self):\n",
        "    self.parameter.append(self.weights)\n",
        "    if self.with_bias:\n",
        "      self.parameter.append(self.bias)\n",
        "  \n",
        "  def parameters(self):\n",
        "    for param in self.parameter:\n",
        "      yield param\n",
        "  \n",
        "  def reset_grads(self):\n",
        "    for param in self.parameters():\n",
        "      if max(param.grad) != 0.0:\n",
        "        param.grad.zero_()"
      ],
      "execution_count": 0,
      "outputs": []
    },
    {
      "cell_type": "code",
      "metadata": {
        "id": "QEOmbiFJJkN_",
        "colab_type": "code",
        "colab": {
          "base_uri": "https://localhost:8080/",
          "height": 234
        },
        "outputId": "54527261-71f4-4503-f9cc-67a88cd05a12"
      },
      "source": [
        "doc(Parameter)"
      ],
      "execution_count": 40,
      "outputs": [
        {
          "output_type": "display_data",
          "data": {
            "text/html": [
              "<h2 id=\"Parameter\" class=\"doc_header\"><code>class</code> <code>Parameter</code><a class=\"source_link\" data-toggle=\"collapse\" data-target=\"#Parameter-pytest\" style=\"float:right; padding-right:10px\">[test]</a></h2><blockquote><p><code>Parameter</code>(<strong><code>data</code></strong>=<strong><em><code>None</code></em></strong>, <strong><code>requires_grad</code></strong>=<strong><em><code>True</code></em></strong>) :: <code>Tensor</code></p>\n",
              "</blockquote>\n",
              "<div class=\"collapse\" id=\"Parameter-pytest\"><div class=\"card card-body pytest_card\"><a type=\"button\" data-toggle=\"collapse\" data-target=\"#Parameter-pytest\" class=\"close\" aria-label=\"Close\"><span aria-hidden=\"true\">&times;</span></a><p>No tests found for <code>Parameter</code>. To contribute a test please refer to <a href=\"/dev/test.html\">this guide</a> and <a href=\"https://forums.fast.ai/t/improving-expanding-functional-tests/32929\">this discussion</a>.</p></div></div><p>A kind of Tensor that is to be considered a module parameter. Parameters are :class:<code>~torch.Tensor</code> subclasses, that have a\n",
              "very special property when used with :class:<code>Module</code> s - when they're\n",
              "assigned as Module attributes they are automatically added to the list of\n",
              "its parameters, and will appear e.g. in :meth:<code>~Module.parameters</code> iterator.\n",
              "Assigning a Tensor doesn't have such effect. This is because one might\n",
              "want to cache some temporary state, like last hidden state of the RNN, in\n",
              "the model. If there was no such class as :class:<a href=\"https://pytorch.org/docs/stable/nn.html#torch.nn.Parameter\"><code>Parameter</code></a>, these\n",
              "temporaries would get registered too.</p>\n",
              "<p>Arguments:\n",
              "    data (Tensor): parameter tensor.\n",
              "    requires_grad (bool, optional): if the parameter requires gradient. See\n",
              "        :ref:<code>excluding-subgraphs</code> for more details. Default: <code>True</code></p>\n"
            ],
            "text/plain": [
              "<IPython.core.display.HTML object>"
            ]
          },
          "metadata": {
            "tags": []
          }
        }
      ]
    },
    {
      "cell_type": "code",
      "metadata": {
        "id": "uXcy8AdgzAHs",
        "colab_type": "code",
        "colab": {}
      },
      "source": [
        "lin = Linear(784, 10, True).cuda()"
      ],
      "execution_count": 0,
      "outputs": []
    },
    {
      "cell_type": "code",
      "metadata": {
        "id": "aGaKggJxGUTC",
        "colab_type": "code",
        "colab": {}
      },
      "source": [
        "M = torch.Tensor([[[1, 2, 3], [4, 5, 6]],[[10, 20, 30], [40, 50, 60]]])"
      ],
      "execution_count": 0,
      "outputs": []
    },
    {
      "cell_type": "code",
      "metadata": {
        "id": "Ti16HHCpFFMh",
        "colab_type": "code",
        "colab": {}
      },
      "source": [
        "pars = [i for i in lin.parameters()]"
      ],
      "execution_count": 0,
      "outputs": []
    },
    {
      "cell_type": "code",
      "metadata": {
        "id": "Gy0hkklBISxS",
        "colab_type": "code",
        "colab": {
          "base_uri": "https://localhost:8080/",
          "height": 155
        },
        "outputId": "c25af3cd-2e1b-43d7-9273-3a1b0939ba78"
      },
      "source": [
        "pars[0].data"
      ],
      "execution_count": 54,
      "outputs": [
        {
          "output_type": "execute_result",
          "data": {
            "text/plain": [
              "tensor([[ 0.0107,  0.0092,  0.0009,  ..., -0.0297, -0.0204, -0.0270],\n",
              "        [ 0.0064, -0.0050,  0.0088,  ..., -0.0305,  0.0215,  0.0156],\n",
              "        [ 0.0108, -0.0119,  0.0173,  ...,  0.0307, -0.0356,  0.0345],\n",
              "        ...,\n",
              "        [-0.0102,  0.0233,  0.0196,  ...,  0.0310, -0.0246, -0.0247],\n",
              "        [-0.0187, -0.0348,  0.0012,  ...,  0.0120,  0.0212, -0.0295],\n",
              "        [-0.0239,  0.0345, -0.0344,  ..., -0.0131, -0.0155,  0.0321]],\n",
              "       device='cuda:0')"
            ]
          },
          "metadata": {
            "tags": []
          },
          "execution_count": 54
        }
      ]
    },
    {
      "cell_type": "code",
      "metadata": {
        "id": "ovQ7NbhiPhHF",
        "colab_type": "code",
        "colab": {
          "base_uri": "https://localhost:8080/",
          "height": 190
        },
        "outputId": "f2e8cd4e-7934-44a9-f43e-31a3ed9f3a85"
      },
      "source": [
        "pars"
      ],
      "execution_count": 59,
      "outputs": [
        {
          "output_type": "execute_result",
          "data": {
            "text/plain": [
              "[tensor([[-0.0264,  0.0137, -0.0016,  ...,  0.0341, -0.0104,  0.0065],\n",
              "         [-0.0155,  0.0250, -0.0266,  ...,  0.0053, -0.0161,  0.0072],\n",
              "         [-0.0306,  0.0098,  0.0130,  ...,  0.0072,  0.0041,  0.0017],\n",
              "         ...,\n",
              "         [ 0.0041,  0.0171,  0.0141,  ..., -0.0057, -0.0094, -0.0209],\n",
              "         [ 0.0350,  0.0068,  0.0021,  ...,  0.0134,  0.0044,  0.0167],\n",
              "         [ 0.0179, -0.0310,  0.0184,  ...,  0.0088, -0.0262,  0.0065]],\n",
              "        device='cuda:0', requires_grad=True),\n",
              " tensor([-0.0122, -0.0335,  0.0259,  0.0139, -0.0238, -0.0329,  0.0074, -0.0190,\n",
              "         -0.0312,  0.0244], device='cuda:0', requires_grad=True)]"
            ]
          },
          "metadata": {
            "tags": []
          },
          "execution_count": 59
        }
      ]
    },
    {
      "cell_type": "code",
      "metadata": {
        "id": "Vr3S0bllQjNv",
        "colab_type": "code",
        "colab": {
          "base_uri": "https://localhost:8080/",
          "height": 155
        },
        "outputId": "b70a233b-24f5-4517-c6e3-0d80d3827b07"
      },
      "source": [
        "pars[0].data"
      ],
      "execution_count": 96,
      "outputs": [
        {
          "output_type": "execute_result",
          "data": {
            "text/plain": [
              "tensor([[ 0.0122,  0.0022,  0.0085,  ..., -0.0201,  0.0119, -0.0316],\n",
              "        [-0.0315, -0.0305,  0.0047,  ..., -0.0260, -0.0010, -0.0139],\n",
              "        [ 0.0327,  0.0236, -0.0287,  ..., -0.0084, -0.0013,  0.0273],\n",
              "        ...,\n",
              "        [-0.0323,  0.0232,  0.0221,  ..., -0.0007,  0.0196,  0.0195],\n",
              "        [-0.0149, -0.0237,  0.0199,  ...,  0.0210,  0.0025,  0.0182],\n",
              "        [ 0.0258,  0.0062, -0.0214,  ...,  0.0159,  0.0217,  0.0303]],\n",
              "       device='cuda:0')"
            ]
          },
          "metadata": {
            "tags": []
          },
          "execution_count": 96
        }
      ]
    },
    {
      "cell_type": "code",
      "metadata": {
        "id": "zPiX4HRp-hgQ",
        "colab_type": "code",
        "colab": {}
      },
      "source": [
        "new_lin = nn.Linear(784, 10, True).cuda()"
      ],
      "execution_count": 0,
      "outputs": []
    },
    {
      "cell_type": "code",
      "metadata": {
        "id": "L6GTNZRRBZgO",
        "colab_type": "code",
        "colab": {}
      },
      "source": [
        "# new_yhat = new_lin(x)\n",
        "y_hat = lin(x)"
      ],
      "execution_count": 0,
      "outputs": []
    },
    {
      "cell_type": "code",
      "metadata": {
        "id": "ikfrq9bZRzQ0",
        "colab_type": "code",
        "colab": {}
      },
      "source": [
        "y_hat"
      ],
      "execution_count": 0,
      "outputs": []
    },
    {
      "cell_type": "code",
      "metadata": {
        "id": "x8ee0lyPBdPp",
        "colab_type": "code",
        "colab": {}
      },
      "source": [
        "# n_loss = loss_function(new_yhat, y)\n",
        "loss = loss_function(y_hat, y)"
      ],
      "execution_count": 0,
      "outputs": []
    },
    {
      "cell_type": "code",
      "metadata": {
        "id": "tzFLr1UcDG4R",
        "colab_type": "code",
        "colab": {
          "base_uri": "https://localhost:8080/",
          "height": 35
        },
        "outputId": "301732e0-f1e2-451a-ee51-c166d130d8bb"
      },
      "source": [
        "loss"
      ],
      "execution_count": 64,
      "outputs": [
        {
          "output_type": "execute_result",
          "data": {
            "text/plain": [
              "tensor(2.3616, device='cuda:0', grad_fn=<NllLossBackward>)"
            ]
          },
          "metadata": {
            "tags": []
          },
          "execution_count": 64
        }
      ]
    },
    {
      "cell_type": "code",
      "metadata": {
        "id": "JswIHkHvB2Q-",
        "colab_type": "code",
        "colab": {}
      },
      "source": [
        "# n_loss.backward()\n",
        "loss.backward()"
      ],
      "execution_count": 0,
      "outputs": []
    },
    {
      "cell_type": "code",
      "metadata": {
        "id": "QfhvNsGv-rBx",
        "colab_type": "code",
        "colab": {}
      },
      "source": [
        "params = [i for i in lin.parameters()]"
      ],
      "execution_count": 0,
      "outputs": []
    },
    {
      "cell_type": "code",
      "metadata": {
        "id": "35MgncogDLtm",
        "colab_type": "code",
        "colab": {
          "base_uri": "https://localhost:8080/",
          "height": 35
        },
        "outputId": "8631a039-9775-4edf-d0c5-09da14ab0dc5"
      },
      "source": [
        "lin.weights.grad.shape, lin.weights.shape"
      ],
      "execution_count": 68,
      "outputs": [
        {
          "output_type": "execute_result",
          "data": {
            "text/plain": [
              "(torch.Size([10, 784]), torch.Size([10, 784]))"
            ]
          },
          "metadata": {
            "tags": []
          },
          "execution_count": 68
        }
      ]
    },
    {
      "cell_type": "code",
      "metadata": {
        "id": "ce0cBw5USBU_",
        "colab_type": "code",
        "colab": {
          "base_uri": "https://localhost:8080/",
          "height": 35
        },
        "outputId": "436fbc0a-c5e7-4da5-f3ce-35c9200ce933"
      },
      "source": [
        "lin.weights.grad.data.max(), lin.weights.grad.data.min()"
      ],
      "execution_count": 69,
      "outputs": [
        {
          "output_type": "execute_result",
          "data": {
            "text/plain": [
              "(tensor(0.0764, device='cuda:0'), tensor(-0.0938, device='cuda:0'))"
            ]
          },
          "metadata": {
            "tags": []
          },
          "execution_count": 69
        }
      ]
    },
    {
      "cell_type": "code",
      "metadata": {
        "id": "SQzDLm_WGijg",
        "colab_type": "code",
        "colab": {}
      },
      "source": [
        "wd = 1e-05\n",
        "w2 = "
      ],
      "execution_count": 0,
      "outputs": []
    },
    {
      "cell_type": "code",
      "metadata": {
        "id": "69BsnEvRKW2t",
        "colab_type": "code",
        "colab": {}
      },
      "source": [
        "lr = 1e-02\n",
        "with torch.no_grad():\n",
        "  lin.weights.sub_(lr*lin.weights.grad)\n",
        "  lin.bias.sub_(lr*lin.bias.grad)\n",
        "  lin.weights.grad.zero_()\n",
        "  lin.bias.grad.zero_()"
      ],
      "execution_count": 0,
      "outputs": []
    },
    {
      "cell_type": "code",
      "metadata": {
        "id": "SrXvRihlPyRj",
        "colab_type": "code",
        "colab": {}
      },
      "source": [
        "a = torch.tensor([2., 3.])"
      ],
      "execution_count": 0,
      "outputs": []
    },
    {
      "cell_type": "code",
      "metadata": {
        "id": "8lQXnfAKKSp5",
        "colab_type": "code",
        "colab": {
          "base_uri": "https://localhost:8080/",
          "height": 35
        },
        "outputId": "d527d953-f5a6-4447-c08b-24f47f86d28a"
      },
      "source": [
        "def test_a():\n",
        "  for i in a:\n",
        "    yield i\n",
        "\n",
        "test_a()"
      ],
      "execution_count": 47,
      "outputs": [
        {
          "output_type": "execute_result",
          "data": {
            "text/plain": [
              "<generator object test_a at 0x7f46ba667888>"
            ]
          },
          "metadata": {
            "tags": []
          },
          "execution_count": 47
        }
      ]
    },
    {
      "cell_type": "code",
      "metadata": {
        "id": "Ux6wZsD3KlQc",
        "colab_type": "code",
        "colab": {
          "base_uri": "https://localhost:8080/",
          "height": 52
        },
        "outputId": "b9b3d888-68a1-44de-bd93-de070493a0d8"
      },
      "source": [
        "for i in test_a():\n",
        "  print(i)"
      ],
      "execution_count": 48,
      "outputs": [
        {
          "output_type": "stream",
          "text": [
            "tensor(2.)\n",
            "tensor(3.)\n"
          ],
          "name": "stdout"
        }
      ]
    },
    {
      "cell_type": "code",
      "metadata": {
        "id": "-aEck5j7MuV9",
        "colab_type": "code",
        "colab": {}
      },
      "source": [
        "a = []\n",
        "for i in range(4):\n",
        "    a.append(torch.rand(1, 2))\n",
        "\n",
        "b = torch.Tensor(3, 4)\n",
        "c = torch.cat(a, out=b)"
      ],
      "execution_count": 0,
      "outputs": []
    },
    {
      "cell_type": "code",
      "metadata": {
        "id": "WQ9vPjpxM8mf",
        "colab_type": "code",
        "colab": {}
      },
      "source": [
        "a = torch.tensor([1., 2.])\n",
        "b = torch.tensor([3., 4., 5.])\n",
        "c = torch.cat(a, b))"
      ],
      "execution_count": 0,
      "outputs": []
    },
    {
      "cell_type": "code",
      "metadata": {
        "id": "XDfYGVjkNJDi",
        "colab_type": "code",
        "colab": {
          "base_uri": "https://localhost:8080/",
          "height": 35
        },
        "outputId": "85233ea5-7fbf-495c-b759-935cc45c1f48"
      },
      "source": [
        "c"
      ],
      "execution_count": 63,
      "outputs": [
        {
          "output_type": "execute_result",
          "data": {
            "text/plain": [
              "tensor([1., 2., 3., 4., 5.])"
            ]
          },
          "metadata": {
            "tags": []
          },
          "execution_count": 63
        }
      ]
    },
    {
      "cell_type": "code",
      "metadata": {
        "id": "w-iN936NKXUw",
        "colab_type": "code",
        "colab": {}
      },
      "source": [
        "class MnistOwn(nn.Module):\n",
        "  def __init__(self, in_features, out_features, with_bias):\n",
        "    super().__init__()\n",
        "    self.lin = Linear(in_features, 50, with_bias)\n",
        "    self.lin_1 = Linear(50, out_features, with_bias)\n",
        "  \n",
        "  def forward(self, xb):\n",
        "    act = F.relu(self.lin(xb))\n",
        "    return self.lin_1(act)"
      ],
      "execution_count": 0,
      "outputs": []
    },
    {
      "cell_type": "code",
      "metadata": {
        "id": "9T4XwFtfg8oV",
        "colab_type": "code",
        "colab": {}
      },
      "source": [
        "nd = [i for i in model.parameters()]"
      ],
      "execution_count": 0,
      "outputs": []
    },
    {
      "cell_type": "code",
      "metadata": {
        "id": "mGBv2AD0hAyk",
        "colab_type": "code",
        "colab": {
          "base_uri": "https://localhost:8080/",
          "height": 35
        },
        "outputId": "c94e9075-bc4d-44da-f78f-b55c41f09139"
      },
      "source": [
        ""
      ],
      "execution_count": 88,
      "outputs": [
        {
          "output_type": "execute_result",
          "data": {
            "text/plain": [
              "[]"
            ]
          },
          "metadata": {
            "tags": []
          },
          "execution_count": 88
        }
      ]
    },
    {
      "cell_type": "code",
      "metadata": {
        "id": "IaGk0qi7aR8W",
        "colab_type": "code",
        "colab": {
          "base_uri": "https://localhost:8080/",
          "height": 190
        },
        "outputId": "1e692d52-8a60-4233-c34d-ed016ed07b9d"
      },
      "source": [
        "model.lin.weights, model.lin.bias"
      ],
      "execution_count": 75,
      "outputs": [
        {
          "output_type": "execute_result",
          "data": {
            "text/plain": [
              "(tensor([[-0.0322,  0.0246, -0.0028,  ...,  0.0018,  0.0201, -0.0118],\n",
              "         [-0.0341,  0.0240,  0.0291,  ..., -0.0083, -0.0253, -0.0004],\n",
              "         [ 0.0161,  0.0168,  0.0187,  ..., -0.0344, -0.0079, -0.0168],\n",
              "         ...,\n",
              "         [ 0.0179,  0.0079,  0.0333,  ...,  0.0113,  0.0180, -0.0265],\n",
              "         [ 0.0005, -0.0089,  0.0205,  ...,  0.0280,  0.0014,  0.0166],\n",
              "         [-0.0032,  0.0232,  0.0321,  ...,  0.0313,  0.0036,  0.0077]],\n",
              "        device='cuda:0', requires_grad=True),\n",
              " tensor([-0.0315,  0.0203, -0.0193, -0.0116, -0.0318,  0.0055, -0.0114, -0.0129,\n",
              "         -0.0260,  0.0234], device='cuda:0', requires_grad=True))"
            ]
          },
          "metadata": {
            "tags": []
          },
          "execution_count": 75
        }
      ]
    },
    {
      "cell_type": "code",
      "metadata": {
        "id": "tO_G6XeYdkcY",
        "colab_type": "code",
        "colab": {
          "base_uri": "https://localhost:8080/",
          "height": 35
        },
        "outputId": "5e8ac430-21bd-43b5-b2c9-8d8530b5f6bf"
      },
      "source": [
        "w2 = 0\n",
        "for i in model.lin.parameters():\n",
        "  w2 += i.sum()\n"
      ],
      "execution_count": 79,
      "outputs": [
        {
          "output_type": "execute_result",
          "data": {
            "text/plain": [
              "tensor(-0.3595, device='cuda:0', grad_fn=<AddBackward0>)"
            ]
          },
          "metadata": {
            "tags": []
          },
          "execution_count": 79
        }
      ]
    },
    {
      "cell_type": "code",
      "metadata": {
        "id": "KTdqaD11dVI-",
        "colab_type": "code",
        "colab": {}
      },
      "source": [
        "wd = 1e-05\n",
        "lr = 1e-02\n",
        "def update(x, y, lr):\n",
        "  y_hat = model(x)\n",
        "  w2 = 0\n",
        "  for i in model.lin.parameters():\n",
        "    w2 += i.sum()\n",
        "  loss = loss_function(y_hat, y) + (w2**2)*wd\n",
        "  loss.backward()\n",
        "  with torch.no_grad():\n",
        "    for param in model.lin.parameters():\n",
        "      param.sub_(7e-02*param.grad)\n",
        "      param.grad.zero_()\n",
        "    for parm_1 in model.lin_1.parameters():\n",
        "      parm_1.sub_(lr*parm_1.grad)\n",
        "      parm_1.grad.zero_()\n",
        "  return loss.item()"
      ],
      "execution_count": 0,
      "outputs": []
    },
    {
      "cell_type": "code",
      "metadata": {
        "id": "cNlC_PnRaNOG",
        "colab_type": "code",
        "colab": {}
      },
      "source": [
        "model = MnistOwn(784, 10, True).cuda()"
      ],
      "execution_count": 0,
      "outputs": []
    },
    {
      "cell_type": "code",
      "metadata": {
        "id": "Im7556msfGLy",
        "colab_type": "code",
        "colab": {}
      },
      "source": [
        "losses = [update(x, y, lr) for x, y in data.train_dl]"
      ],
      "execution_count": 0,
      "outputs": []
    },
    {
      "cell_type": "code",
      "metadata": {
        "id": "Hk1ViDtGfT2N",
        "colab_type": "code",
        "colab": {
          "base_uri": "https://localhost:8080/",
          "height": 282
        },
        "outputId": "21d7ae7d-8c4b-4587-8bb6-af7a78136e4c"
      },
      "source": [
        "plt.plot(losses)"
      ],
      "execution_count": 124,
      "outputs": [
        {
          "output_type": "execute_result",
          "data": {
            "text/plain": [
              "[<matplotlib.lines.Line2D at 0x7ff770654518>]"
            ]
          },
          "metadata": {
            "tags": []
          },
          "execution_count": 124
        },
        {
          "output_type": "display_data",
          "data": {
            "image/png": "[encoded data removed]",
            "text/plain": [
              "<Figure size 432x288 with 1 Axes>"
            ]
          },
          "metadata": {
            "tags": [],
            "needs_background": "light"
          }
        }
      ]
    },
    {
      "cell_type": "code",
      "metadata": {
        "id": "uAKNoRdZfZPV",
        "colab_type": "code",
        "colab": {}
      },
      "source": [
        "acts = model(x)"
      ],
      "execution_count": 0,
      "outputs": []
    },
    {
      "cell_type": "code",
      "metadata": {
        "id": "rgzyBGwckKal",
        "colab_type": "code",
        "colab": {}
      },
      "source": [
        "preds = []\n",
        "for i in acts:\n",
        "  max_prob = i.max()\n",
        "  preds.append(list(i).index(max_prob))"
      ],
      "execution_count": 0,
      "outputs": []
    },
    {
      "cell_type": "code",
      "metadata": {
        "id": "E03BSYQtk56h",
        "colab_type": "code",
        "colab": {
          "base_uri": "https://localhost:8080/",
          "height": 35
        },
        "outputId": "6203729f-c486-4407-e0b2-185469255f56"
      },
      "source": [
        "len(preds)"
      ],
      "execution_count": 132,
      "outputs": [
        {
          "output_type": "execute_result",
          "data": {
            "text/plain": [
              "64"
            ]
          },
          "metadata": {
            "tags": []
          },
          "execution_count": 132
        }
      ]
    },
    {
      "cell_type": "code",
      "metadata": {
        "id": "mscFMnwukdjB",
        "colab_type": "code",
        "colab": {
          "base_uri": "https://localhost:8080/",
          "height": 35
        },
        "outputId": "4cea79a4-cddb-438d-c82e-acf1ae66627a"
      },
      "source": [
        "correct = 0\n",
        "for i in range (0, len(preds)):\n",
        "  if preds[i] == y[i]:\n",
        "    correct += 1\n",
        "acc = correct/len(preds)\n",
        "acc"
      ],
      "execution_count": 136,
      "outputs": [
        {
          "output_type": "execute_result",
          "data": {
            "text/plain": [
              "0.859375"
            ]
          },
          "metadata": {
            "tags": []
          },
          "execution_count": 136
        }
      ]
    },
    {
      "cell_type": "code",
      "metadata": {
        "id": "6p6Nhl-WlIe_",
        "colab_type": "code",
        "colab": {
          "base_uri": "https://localhost:8080/",
          "height": 35
        },
        "outputId": "725e78a5-1563-44de-aff2-27e2b15082e0"
      },
      "source": [
        "preds = []\n",
        "for i, k in data.valid_dl:\n",
        "  act = model(i)\n",
        "  for j in act:\n",
        "    max_prob = j.max()\n",
        "    preds.append(list(j).index(max_prob))\n",
        "\n",
        "correct_data = valid_ds.tensors[1]\n",
        "correct_preds = 0\n",
        "for i in range(len(preds)):\n",
        "  if preds[i] == correct_data[i]:\n",
        "    correct_preds +=1\n",
        "\n",
        "acc = correct_preds/len(preds)\n",
        "acc"
      ],
      "execution_count": 141,
      "outputs": [
        {
          "output_type": "execute_result",
          "data": {
            "text/plain": [
              "0.9019"
            ]
          },
          "metadata": {
            "tags": []
          },
          "execution_count": 141
        }
      ]
    },
    {
      "cell_type": "code",
      "metadata": {
        "id": "6F5MkynTkeNL",
        "colab_type": "code",
        "colab": {
          "base_uri": "https://localhost:8080/",
          "height": 69
        },
        "outputId": "49030876-d29f-401d-8288-d3c1e9583982"
      },
      "source": [
        "y"
      ],
      "execution_count": 129,
      "outputs": [
        {
          "output_type": "execute_result",
          "data": {
            "text/plain": [
              "tensor([6, 8, 5, 8, 8, 9, 1, 4, 0, 9, 9, 6, 9, 4, 5, 3, 6, 0, 1, 4, 7, 0, 1, 1,\n",
              "        9, 7, 7, 0, 8, 1, 8, 7, 6, 3, 8, 7, 9, 8, 7, 6, 3, 9, 3, 8, 4, 3, 9, 0,\n",
              "        7, 5, 6, 8, 0, 4, 0, 7, 4, 1, 0, 4, 5, 3, 6, 2], device='cuda:0')"
            ]
          },
          "metadata": {
            "tags": []
          },
          "execution_count": 129
        }
      ]
    }
  ]
}