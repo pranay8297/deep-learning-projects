{
  "nbformat": 4,
  "nbformat_minor": 0,
  "metadata": {
    "colab": {
      "name": "collab_nn_v3.ipynb",
      "provenance": [],
      "collapsed_sections": [],
      "machine_shape": "hm",
      "authorship_tag": "ABX9TyN73VovcRq+0ZO72i7F37WV",
      "include_colab_link": true
    },
    "kernelspec": {
      "name": "python3",
      "display_name": "Python 3"
    },
    "accelerator": "GPU"
  },
  "cells": [
    {
      "cell_type": "markdown",
      "metadata": {
        "id": "view-in-github",
        "colab_type": "text"
      },
      "source": [
        "<a href=\"https://colab.research.google.com/github/pranay8297/deep-learning-projects/blob/master/collab_nn_v3.ipynb\" target=\"_parent\"><img src=\"https://colab.research.google.com/assets/colab-badge.svg\" alt=\"Open In Colab\"/></a>"
      ]
    },
    {
      "cell_type": "code",
      "metadata": {
        "colab": {
          "base_uri": "https://localhost:8080/"
        },
        "id": "Arj-taC-X4EW",
        "outputId": "8ef2b582-dbf2-41e9-c629-6a57df94469e"
      },
      "source": [
        "!pip install \"torch==1.4\" \"torchvision==0.5.0\" #use the old version"
      ],
      "execution_count": 2,
      "outputs": [
        {
          "output_type": "stream",
          "text": [
            "Collecting torch==1.4\n",
            "\u001b[?25l  Downloading https://files.pythonhosted.org/packages/24/19/4804aea17cd136f1705a5e98a00618cb8f6ccc375ad8bfa437408e09d058/torch-1.4.0-cp36-cp36m-manylinux1_x86_64.whl (753.4MB)\n",
            "\u001b[K     |████████████████████████████████| 753.4MB 21kB/s \n",
            "\u001b[?25hCollecting torchvision==0.5.0\n",
            "\u001b[?25l  Downloading https://files.pythonhosted.org/packages/7e/90/6141bf41f5655c78e24f40f710fdd4f8a8aff6c8b7c6f0328240f649bdbe/torchvision-0.5.0-cp36-cp36m-manylinux1_x86_64.whl (4.0MB)\n",
            "\u001b[K     |████████████████████████████████| 4.0MB 50.8MB/s \n",
            "\u001b[?25hRequirement already satisfied: six in /usr/local/lib/python3.6/dist-packages (from torchvision==0.5.0) (1.15.0)\n",
            "Requirement already satisfied: numpy in /usr/local/lib/python3.6/dist-packages (from torchvision==0.5.0) (1.19.4)\n",
            "Requirement already satisfied: pillow>=4.1.1 in /usr/local/lib/python3.6/dist-packages (from torchvision==0.5.0) (7.0.0)\n",
            "Installing collected packages: torch, torchvision\n",
            "  Found existing installation: torch 1.7.0+cu101\n",
            "    Uninstalling torch-1.7.0+cu101:\n",
            "      Successfully uninstalled torch-1.7.0+cu101\n",
            "  Found existing installation: torchvision 0.8.1+cu101\n",
            "    Uninstalling torchvision-0.8.1+cu101:\n",
            "      Successfully uninstalled torchvision-0.8.1+cu101\n",
            "Successfully installed torch-1.4.0 torchvision-0.5.0\n"
          ],
          "name": "stdout"
        }
      ]
    },
    {
      "cell_type": "code",
      "metadata": {
        "id": "Hz1GcfO5nGf8"
      },
      "source": [
        "from fastai import *\n",
        "from fastai.collab import *"
      ],
      "execution_count": 3,
      "outputs": []
    },
    {
      "cell_type": "code",
      "metadata": {
        "colab": {
          "base_uri": "https://localhost:8080/"
        },
        "id": "38FLR89snRjK",
        "outputId": "2400154e-b299-4098-a4a7-ceb36d09c026"
      },
      "source": [
        "!pip install ipdb"
      ],
      "execution_count": 4,
      "outputs": [
        {
          "output_type": "stream",
          "text": [
            "Collecting ipdb\n",
            "  Downloading https://files.pythonhosted.org/packages/44/8c/76b33b115f4f2c090e2809a0247fe777eb3832f9d606479bf0139b29ca2c/ipdb-0.13.4.tar.gz\n",
            "Requirement already satisfied: setuptools in /usr/local/lib/python3.6/dist-packages (from ipdb) (50.3.2)\n",
            "Requirement already satisfied: ipython>=5.1.0 in /usr/local/lib/python3.6/dist-packages (from ipdb) (5.5.0)\n",
            "Requirement already satisfied: traitlets>=4.2 in /usr/local/lib/python3.6/dist-packages (from ipython>=5.1.0->ipdb) (4.3.3)\n",
            "Requirement already satisfied: decorator in /usr/local/lib/python3.6/dist-packages (from ipython>=5.1.0->ipdb) (4.4.2)\n",
            "Requirement already satisfied: pexpect; sys_platform != \"win32\" in /usr/local/lib/python3.6/dist-packages (from ipython>=5.1.0->ipdb) (4.8.0)\n",
            "Requirement already satisfied: pickleshare in /usr/local/lib/python3.6/dist-packages (from ipython>=5.1.0->ipdb) (0.7.5)\n",
            "Requirement already satisfied: pygments in /usr/local/lib/python3.6/dist-packages (from ipython>=5.1.0->ipdb) (2.6.1)\n",
            "Requirement already satisfied: prompt-toolkit<2.0.0,>=1.0.4 in /usr/local/lib/python3.6/dist-packages (from ipython>=5.1.0->ipdb) (1.0.18)\n",
            "Requirement already satisfied: simplegeneric>0.8 in /usr/local/lib/python3.6/dist-packages (from ipython>=5.1.0->ipdb) (0.8.1)\n",
            "Requirement already satisfied: ipython-genutils in /usr/local/lib/python3.6/dist-packages (from traitlets>=4.2->ipython>=5.1.0->ipdb) (0.2.0)\n",
            "Requirement already satisfied: six in /usr/local/lib/python3.6/dist-packages (from traitlets>=4.2->ipython>=5.1.0->ipdb) (1.15.0)\n",
            "Requirement already satisfied: ptyprocess>=0.5 in /usr/local/lib/python3.6/dist-packages (from pexpect; sys_platform != \"win32\"->ipython>=5.1.0->ipdb) (0.6.0)\n",
            "Requirement already satisfied: wcwidth in /usr/local/lib/python3.6/dist-packages (from prompt-toolkit<2.0.0,>=1.0.4->ipython>=5.1.0->ipdb) (0.2.5)\n",
            "Building wheels for collected packages: ipdb\n",
            "  Building wheel for ipdb (setup.py) ... \u001b[?25l\u001b[?25hdone\n",
            "  Created wheel for ipdb: filename=ipdb-0.13.4-cp36-none-any.whl size=10973 sha256=9b17d76f3142ddbcd0b84bdb45e663f452655342ef22cbb6a3943176d807dc54\n",
            "  Stored in directory: /root/.cache/pip/wheels/56/51/e4/c91c61e3481a1a967beb18c4ea7a2b138a63cce94170b2e206\n",
            "Successfully built ipdb\n",
            "Installing collected packages: ipdb\n",
            "Successfully installed ipdb-0.13.4\n"
          ],
          "name": "stdout"
        }
      ]
    },
    {
      "cell_type": "code",
      "metadata": {
        "id": "GrzHHL8sZgL4"
      },
      "source": [
        "from ipdb import set_trace as st"
      ],
      "execution_count": 5,
      "outputs": []
    },
    {
      "cell_type": "code",
      "metadata": {
        "colab": {
          "base_uri": "https://localhost:8080/"
        },
        "id": "hgbEf46Onyj3",
        "outputId": "447747a8-5d2d-4a2e-bf61-e7b78abbd1ce"
      },
      "source": [
        "!wget http://files.grouplens.org/datasets/movielens/ml-1m.zip\n",
        "!unzip ml-1m.zip\n",
        "!cd ml-1m\n",
        "!pwd"
      ],
      "execution_count": 6,
      "outputs": [
        {
          "output_type": "stream",
          "text": [
            "--2020-12-20 06:08:56--  http://files.grouplens.org/datasets/movielens/ml-1m.zip\n",
            "Resolving files.grouplens.org (files.grouplens.org)... 128.101.65.152\n",
            "Connecting to files.grouplens.org (files.grouplens.org)|128.101.65.152|:80... connected.\n",
            "HTTP request sent, awaiting response... 200 OK\n",
            "Length: 5917549 (5.6M) [application/zip]\n",
            "Saving to: ‘ml-1m.zip’\n",
            "\n",
            "ml-1m.zip           100%[===================>]   5.64M  6.73MB/s    in 0.8s    \n",
            "\n",
            "2020-12-20 06:08:57 (6.73 MB/s) - ‘ml-1m.zip’ saved [5917549/5917549]\n",
            "\n",
            "Archive:  ml-1m.zip\n",
            "   creating: ml-1m/\n",
            "  inflating: ml-1m/movies.dat        \n",
            "  inflating: ml-1m/ratings.dat       \n",
            "  inflating: ml-1m/README            \n",
            "  inflating: ml-1m/users.dat         \n",
            "/content\n"
          ],
          "name": "stdout"
        }
      ]
    },
    {
      "cell_type": "code",
      "metadata": {
        "colab": {
          "base_uri": "https://localhost:8080/"
        },
        "id": "4f1u7wFFnV5S",
        "outputId": "22727021-741d-41a8-8c02-7a57a97133e6"
      },
      "source": [
        "path = Path('/content/ml-1m') \n",
        "path.ls()"
      ],
      "execution_count": 7,
      "outputs": [
        {
          "output_type": "execute_result",
          "data": {
            "text/plain": [
              "[PosixPath('/content/ml-1m/README'),\n",
              " PosixPath('/content/ml-1m/users.dat'),\n",
              " PosixPath('/content/ml-1m/movies.dat'),\n",
              " PosixPath('/content/ml-1m/ratings.dat')]"
            ]
          },
          "metadata": {
            "tags": []
          },
          "execution_count": 7
        }
      ]
    },
    {
      "cell_type": "code",
      "metadata": {
        "colab": {
          "base_uri": "https://localhost:8080/"
        },
        "id": "rTa2utWLn8N0",
        "outputId": "88817853-a63d-42af-e963-4449e9f3f984"
      },
      "source": [
        "ratings = pd.read_csv(path/'ratings.dat', delimiter= '::', encoding = 'latin-1', header = None, names = ['user_id', 'movie_id', 'rating', 'ts'])\n",
        "movies = pd.read_csv(path/'movies.dat', delimiter= '::', encoding= 'latin-1', header = None, names = ['movie_id', 'movie', 'geners'])"
      ],
      "execution_count": 9,
      "outputs": [
        {
          "output_type": "stream",
          "text": [
            "/usr/local/lib/python3.6/dist-packages/ipykernel_launcher.py:1: ParserWarning: Falling back to the 'python' engine because the 'c' engine does not support regex separators (separators > 1 char and different from '\\s+' are interpreted as regex); you can avoid this warning by specifying engine='python'.\n",
            "  \"\"\"Entry point for launching an IPython kernel.\n",
            "/usr/local/lib/python3.6/dist-packages/ipykernel_launcher.py:2: ParserWarning: Falling back to the 'python' engine because the 'c' engine does not support regex separators (separators > 1 char and different from '\\s+' are interpreted as regex); you can avoid this warning by specifying engine='python'.\n",
            "  \n"
          ],
          "name": "stderr"
        }
      ]
    },
    {
      "cell_type": "code",
      "metadata": {
        "colab": {
          "base_uri": "https://localhost:8080/",
          "height": 198
        },
        "id": "qE9pqunAo8lN",
        "outputId": "93de58fb-9edc-4942-eda4-7e313fd4786f"
      },
      "source": [
        "ratings.head()"
      ],
      "execution_count": 10,
      "outputs": [
        {
          "output_type": "execute_result",
          "data": {
            "text/html": [
              "<div>\n",
              "<style scoped>\n",
              "    .dataframe tbody tr th:only-of-type {\n",
              "        vertical-align: middle;\n",
              "    }\n",
              "\n",
              "    .dataframe tbody tr th {\n",
              "        vertical-align: top;\n",
              "    }\n",
              "\n",
              "    .dataframe thead th {\n",
              "        text-align: right;\n",
              "    }\n",
              "</style>\n",
              "<table border=\"1\" class=\"dataframe\">\n",
              "  <thead>\n",
              "    <tr style=\"text-align: right;\">\n",
              "      <th></th>\n",
              "      <th>user_id</th>\n",
              "      <th>movie_id</th>\n",
              "      <th>rating</th>\n",
              "      <th>ts</th>\n",
              "    </tr>\n",
              "  </thead>\n",
              "  <tbody>\n",
              "    <tr>\n",
              "      <th>0</th>\n",
              "      <td>1</td>\n",
              "      <td>1193</td>\n",
              "      <td>5</td>\n",
              "      <td>978300760</td>\n",
              "    </tr>\n",
              "    <tr>\n",
              "      <th>1</th>\n",
              "      <td>1</td>\n",
              "      <td>661</td>\n",
              "      <td>3</td>\n",
              "      <td>978302109</td>\n",
              "    </tr>\n",
              "    <tr>\n",
              "      <th>2</th>\n",
              "      <td>1</td>\n",
              "      <td>914</td>\n",
              "      <td>3</td>\n",
              "      <td>978301968</td>\n",
              "    </tr>\n",
              "    <tr>\n",
              "      <th>3</th>\n",
              "      <td>1</td>\n",
              "      <td>3408</td>\n",
              "      <td>4</td>\n",
              "      <td>978300275</td>\n",
              "    </tr>\n",
              "    <tr>\n",
              "      <th>4</th>\n",
              "      <td>1</td>\n",
              "      <td>2355</td>\n",
              "      <td>5</td>\n",
              "      <td>978824291</td>\n",
              "    </tr>\n",
              "  </tbody>\n",
              "</table>\n",
              "</div>"
            ],
            "text/plain": [
              "   user_id  movie_id  rating         ts\n",
              "0        1      1193       5  978300760\n",
              "1        1       661       3  978302109\n",
              "2        1       914       3  978301968\n",
              "3        1      3408       4  978300275\n",
              "4        1      2355       5  978824291"
            ]
          },
          "metadata": {
            "tags": []
          },
          "execution_count": 10
        }
      ]
    },
    {
      "cell_type": "code",
      "metadata": {
        "colab": {
          "base_uri": "https://localhost:8080/",
          "height": 198
        },
        "id": "xJB0k8MrpQ1U",
        "outputId": "b7ae39b1-91d6-4998-a24a-30ac59660b86"
      },
      "source": [
        "movies.head() "
      ],
      "execution_count": 11,
      "outputs": [
        {
          "output_type": "execute_result",
          "data": {
            "text/html": [
              "<div>\n",
              "<style scoped>\n",
              "    .dataframe tbody tr th:only-of-type {\n",
              "        vertical-align: middle;\n",
              "    }\n",
              "\n",
              "    .dataframe tbody tr th {\n",
              "        vertical-align: top;\n",
              "    }\n",
              "\n",
              "    .dataframe thead th {\n",
              "        text-align: right;\n",
              "    }\n",
              "</style>\n",
              "<table border=\"1\" class=\"dataframe\">\n",
              "  <thead>\n",
              "    <tr style=\"text-align: right;\">\n",
              "      <th></th>\n",
              "      <th>movie_id</th>\n",
              "      <th>movie</th>\n",
              "      <th>geners</th>\n",
              "    </tr>\n",
              "  </thead>\n",
              "  <tbody>\n",
              "    <tr>\n",
              "      <th>0</th>\n",
              "      <td>1</td>\n",
              "      <td>Toy Story (1995)</td>\n",
              "      <td>Animation|Children's|Comedy</td>\n",
              "    </tr>\n",
              "    <tr>\n",
              "      <th>1</th>\n",
              "      <td>2</td>\n",
              "      <td>Jumanji (1995)</td>\n",
              "      <td>Adventure|Children's|Fantasy</td>\n",
              "    </tr>\n",
              "    <tr>\n",
              "      <th>2</th>\n",
              "      <td>3</td>\n",
              "      <td>Grumpier Old Men (1995)</td>\n",
              "      <td>Comedy|Romance</td>\n",
              "    </tr>\n",
              "    <tr>\n",
              "      <th>3</th>\n",
              "      <td>4</td>\n",
              "      <td>Waiting to Exhale (1995)</td>\n",
              "      <td>Comedy|Drama</td>\n",
              "    </tr>\n",
              "    <tr>\n",
              "      <th>4</th>\n",
              "      <td>5</td>\n",
              "      <td>Father of the Bride Part II (1995)</td>\n",
              "      <td>Comedy</td>\n",
              "    </tr>\n",
              "  </tbody>\n",
              "</table>\n",
              "</div>"
            ],
            "text/plain": [
              "   movie_id                               movie                        geners\n",
              "0         1                    Toy Story (1995)   Animation|Children's|Comedy\n",
              "1         2                      Jumanji (1995)  Adventure|Children's|Fantasy\n",
              "2         3             Grumpier Old Men (1995)                Comedy|Romance\n",
              "3         4            Waiting to Exhale (1995)                  Comedy|Drama\n",
              "4         5  Father of the Bride Part II (1995)                        Comedy"
            ]
          },
          "metadata": {
            "tags": []
          },
          "execution_count": 11
        }
      ]
    },
    {
      "cell_type": "code",
      "metadata": {
        "colab": {
          "base_uri": "https://localhost:8080/",
          "height": 198
        },
        "id": "OzfXsWCNppmq",
        "outputId": "5842d16d-7376-4cfb-c060-e5c1ed1e5042"
      },
      "source": [
        "movie_ratings = ratings.merge(movies, left_on= 'movie_id', right_on='movie_id')\n",
        "movie_ratings.head()"
      ],
      "execution_count": 13,
      "outputs": [
        {
          "output_type": "execute_result",
          "data": {
            "text/html": [
              "<div>\n",
              "<style scoped>\n",
              "    .dataframe tbody tr th:only-of-type {\n",
              "        vertical-align: middle;\n",
              "    }\n",
              "\n",
              "    .dataframe tbody tr th {\n",
              "        vertical-align: top;\n",
              "    }\n",
              "\n",
              "    .dataframe thead th {\n",
              "        text-align: right;\n",
              "    }\n",
              "</style>\n",
              "<table border=\"1\" class=\"dataframe\">\n",
              "  <thead>\n",
              "    <tr style=\"text-align: right;\">\n",
              "      <th></th>\n",
              "      <th>user_id</th>\n",
              "      <th>movie_id</th>\n",
              "      <th>rating</th>\n",
              "      <th>ts</th>\n",
              "      <th>movie</th>\n",
              "      <th>geners</th>\n",
              "    </tr>\n",
              "  </thead>\n",
              "  <tbody>\n",
              "    <tr>\n",
              "      <th>0</th>\n",
              "      <td>1</td>\n",
              "      <td>1193</td>\n",
              "      <td>5</td>\n",
              "      <td>978300760</td>\n",
              "      <td>One Flew Over the Cuckoo's Nest (1975)</td>\n",
              "      <td>Drama</td>\n",
              "    </tr>\n",
              "    <tr>\n",
              "      <th>1</th>\n",
              "      <td>2</td>\n",
              "      <td>1193</td>\n",
              "      <td>5</td>\n",
              "      <td>978298413</td>\n",
              "      <td>One Flew Over the Cuckoo's Nest (1975)</td>\n",
              "      <td>Drama</td>\n",
              "    </tr>\n",
              "    <tr>\n",
              "      <th>2</th>\n",
              "      <td>12</td>\n",
              "      <td>1193</td>\n",
              "      <td>4</td>\n",
              "      <td>978220179</td>\n",
              "      <td>One Flew Over the Cuckoo's Nest (1975)</td>\n",
              "      <td>Drama</td>\n",
              "    </tr>\n",
              "    <tr>\n",
              "      <th>3</th>\n",
              "      <td>15</td>\n",
              "      <td>1193</td>\n",
              "      <td>4</td>\n",
              "      <td>978199279</td>\n",
              "      <td>One Flew Over the Cuckoo's Nest (1975)</td>\n",
              "      <td>Drama</td>\n",
              "    </tr>\n",
              "    <tr>\n",
              "      <th>4</th>\n",
              "      <td>17</td>\n",
              "      <td>1193</td>\n",
              "      <td>5</td>\n",
              "      <td>978158471</td>\n",
              "      <td>One Flew Over the Cuckoo's Nest (1975)</td>\n",
              "      <td>Drama</td>\n",
              "    </tr>\n",
              "  </tbody>\n",
              "</table>\n",
              "</div>"
            ],
            "text/plain": [
              "   user_id  movie_id  ...                                   movie  geners\n",
              "0        1      1193  ...  One Flew Over the Cuckoo's Nest (1975)   Drama\n",
              "1        2      1193  ...  One Flew Over the Cuckoo's Nest (1975)   Drama\n",
              "2       12      1193  ...  One Flew Over the Cuckoo's Nest (1975)   Drama\n",
              "3       15      1193  ...  One Flew Over the Cuckoo's Nest (1975)   Drama\n",
              "4       17      1193  ...  One Flew Over the Cuckoo's Nest (1975)   Drama\n",
              "\n",
              "[5 rows x 6 columns]"
            ]
          },
          "metadata": {
            "tags": []
          },
          "execution_count": 13
        }
      ]
    },
    {
      "cell_type": "code",
      "metadata": {
        "colab": {
          "base_uri": "https://localhost:8080/",
          "height": 198
        },
        "id": "MAGWO8fpp1ge",
        "outputId": "b501124d-e990-4d8f-e736-2e30bd4fbec8"
      },
      "source": [
        "bs = 64\n",
        "data = CollabDataBunch.from_df(movie_ratings , user_name='user_id', item_name= 'movie', rating_name='rating', bs = bs)\n",
        "data.show_batch()"
      ],
      "execution_count": 14,
      "outputs": [
        {
          "output_type": "display_data",
          "data": {
            "text/html": [
              "<table border=\"1\" class=\"dataframe\">\n",
              "  <thead>\n",
              "    <tr style=\"text-align: right;\">\n",
              "      <th>user_id</th>\n",
              "      <th>movie</th>\n",
              "      <th>target</th>\n",
              "    </tr>\n",
              "  </thead>\n",
              "  <tbody>\n",
              "    <tr>\n",
              "      <td>1181</td>\n",
              "      <td>Nighthawks (1981)</td>\n",
              "      <td>2.0</td>\n",
              "    </tr>\n",
              "    <tr>\n",
              "      <td>535</td>\n",
              "      <td>Galaxy Quest (1999)</td>\n",
              "      <td>4.0</td>\n",
              "    </tr>\n",
              "    <tr>\n",
              "      <td>225</td>\n",
              "      <td>Man Bites Dog (C'est arrivé près de chez vous) (1992)</td>\n",
              "      <td>4.0</td>\n",
              "    </tr>\n",
              "    <tr>\n",
              "      <td>1449</td>\n",
              "      <td>Dancer in the Dark (2000)</td>\n",
              "      <td>4.0</td>\n",
              "    </tr>\n",
              "    <tr>\n",
              "      <td>5691</td>\n",
              "      <td>Wedding Singer, The (1998)</td>\n",
              "      <td>4.0</td>\n",
              "    </tr>\n",
              "  </tbody>\n",
              "</table>"
            ],
            "text/plain": [
              "<IPython.core.display.HTML object>"
            ]
          },
          "metadata": {
            "tags": []
          }
        }
      ]
    },
    {
      "cell_type": "code",
      "metadata": {
        "colab": {
          "base_uri": "https://localhost:8080/",
          "height": 373
        },
        "id": "vptJJ0jJqMZP",
        "outputId": "cdfeff5e-1df5-4778-a357-182fdab9d36a"
      },
      "source": [
        "learn = collab_learner(data, n_factors= 40, y_range = [0., 5.5])\n",
        "learn.lr_find()\n",
        "learn.recorder.plot(skip_end= 10)"
      ],
      "execution_count": 15,
      "outputs": [
        {
          "output_type": "display_data",
          "data": {
            "text/html": [
              "\n",
              "    <div>\n",
              "        <style>\n",
              "            /* Turns off some styling */\n",
              "            progress {\n",
              "                /* gets rid of default border in Firefox and Opera. */\n",
              "                border: none;\n",
              "                /* Needs to be in here for Safari polyfill so background images work as expected. */\n",
              "                background-size: auto;\n",
              "            }\n",
              "            .progress-bar-interrupted, .progress-bar-interrupted::-webkit-progress-bar {\n",
              "                background: #F44336;\n",
              "            }\n",
              "        </style>\n",
              "      <progress value='0' class='' max='1' style='width:300px; height:20px; vertical-align: middle;'></progress>\n",
              "      0.00% [0/1 00:00<00:00]\n",
              "    </div>\n",
              "    \n",
              "<table border=\"1\" class=\"dataframe\">\n",
              "  <thead>\n",
              "    <tr style=\"text-align: left;\">\n",
              "      <th>epoch</th>\n",
              "      <th>train_loss</th>\n",
              "      <th>valid_loss</th>\n",
              "      <th>time</th>\n",
              "    </tr>\n",
              "  </thead>\n",
              "  <tbody>\n",
              "  </tbody>\n",
              "</table><p>\n",
              "\n",
              "    <div>\n",
              "        <style>\n",
              "            /* Turns off some styling */\n",
              "            progress {\n",
              "                /* gets rid of default border in Firefox and Opera. */\n",
              "                border: none;\n",
              "                /* Needs to be in here for Safari polyfill so background images work as expected. */\n",
              "                background-size: auto;\n",
              "            }\n",
              "            .progress-bar-interrupted, .progress-bar-interrupted::-webkit-progress-bar {\n",
              "                background: #F44336;\n",
              "            }\n",
              "        </style>\n",
              "      <progress value='91' class='' max='12502' style='width:300px; height:20px; vertical-align: middle;'></progress>\n",
              "      0.73% [91/12502 00:00<01:30 1.9839]\n",
              "    </div>\n",
              "    "
            ],
            "text/plain": [
              "<IPython.core.display.HTML object>"
            ]
          },
          "metadata": {
            "tags": []
          }
        },
        {
          "output_type": "stream",
          "text": [
            "LR Finder is complete, type {learner_name}.recorder.plot() to see the graph.\n"
          ],
          "name": "stdout"
        },
        {
          "output_type": "display_data",
          "data": {
            "image/png": "[encoded data removed]",
            "text/plain": [
              "<Figure size 432x288 with 1 Axes>"
            ]
          },
          "metadata": {
            "tags": [],
            "needs_background": "light"
          }
        }
      ]
    },
    {
      "cell_type": "code",
      "metadata": {
        "colab": {
          "base_uri": "https://localhost:8080/",
          "height": 108
        },
        "id": "VCfpeowBqkNY",
        "outputId": "f8fdd9b4-a54b-4db6-9b5b-25a690e63cb3"
      },
      "source": [
        "learn.fit_one_cycle(2, 9e-03)"
      ],
      "execution_count": 16,
      "outputs": [
        {
          "output_type": "display_data",
          "data": {
            "text/html": [
              "<table border=\"1\" class=\"dataframe\">\n",
              "  <thead>\n",
              "    <tr style=\"text-align: left;\">\n",
              "      <th>epoch</th>\n",
              "      <th>train_loss</th>\n",
              "      <th>valid_loss</th>\n",
              "      <th>time</th>\n",
              "    </tr>\n",
              "  </thead>\n",
              "  <tbody>\n",
              "    <tr>\n",
              "      <td>0</td>\n",
              "      <td>0.987562</td>\n",
              "      <td>0.973540</td>\n",
              "      <td>01:03</td>\n",
              "    </tr>\n",
              "    <tr>\n",
              "      <td>1</td>\n",
              "      <td>0.735859</td>\n",
              "      <td>0.796177</td>\n",
              "      <td>01:02</td>\n",
              "    </tr>\n",
              "  </tbody>\n",
              "</table>"
            ],
            "text/plain": [
              "<IPython.core.display.HTML object>"
            ]
          },
          "metadata": {
            "tags": []
          }
        }
      ]
    },
    {
      "cell_type": "code",
      "metadata": {
        "id": "kKPm68Fvrwsy"
      },
      "source": [
        "class EDB(nn.Module):\n",
        "\n",
        "  def __init__(self, nu, ni, nf, y_range):\n",
        "    super().__init__()\n",
        "    self.y_range = y_range\n",
        "    self.u_w, self.i_w, self.u_b, self.i_b = [nn.Embedding(*x) for x in [(nu, nf), (ni, nf), (nu, 1), (ni, 1)]]\n",
        "  \n",
        "  def forward(self, users, items):\n",
        "    dot = self.u_w(users) * self.i_w(items)\n",
        "    res = dot.sum(1) + self.u_b(users).squeeze(1) + self.i_b(items).squeeze(1)\n",
        "    return torch.sigmoid(res)*y_range[1] + y_range[0]"
      ],
      "execution_count": 17,
      "outputs": []
    },
    {
      "cell_type": "code",
      "metadata": {
        "id": "dPnSTkh3u9_z"
      },
      "source": [
        "nu, ni, nf, y_range = len(data.x.classes['user_id']), len(data.x.classes['movie']), 40, [0., 5.5]"
      ],
      "execution_count": 18,
      "outputs": []
    },
    {
      "cell_type": "code",
      "metadata": {
        "id": "XrjG9pxsvVjW"
      },
      "source": [
        "model = EDB(nu, ni, nf, y_range).cuda()"
      ],
      "execution_count": 19,
      "outputs": []
    },
    {
      "cell_type": "code",
      "metadata": {
        "colab": {
          "base_uri": "https://localhost:8080/"
        },
        "id": "F0lIOIVOvk7G",
        "outputId": "d599776e-0b29-41bc-c05e-7f1f7789b85a"
      },
      "source": [
        "for i in model.parameters():\n",
        "  print(i.shape)"
      ],
      "execution_count": 20,
      "outputs": [
        {
          "output_type": "stream",
          "text": [
            "torch.Size([6041, 40])\n",
            "torch.Size([3686, 40])\n",
            "torch.Size([6041, 1])\n",
            "torch.Size([3686, 1])\n"
          ],
          "name": "stdout"
        }
      ]
    },
    {
      "cell_type": "code",
      "metadata": {
        "id": "qbN5U2_pxOH3"
      },
      "source": [
        "loss_func = learn.loss_func"
      ],
      "execution_count": 21,
      "outputs": []
    },
    {
      "cell_type": "code",
      "metadata": {
        "id": "MUNhzAQ1JybT"
      },
      "source": [
        "import statistics"
      ],
      "execution_count": 22,
      "outputs": []
    },
    {
      "cell_type": "code",
      "metadata": {
        "colab": {
          "base_uri": "https://localhost:8080/"
        },
        "id": "CS8fvgd-vpj3",
        "outputId": "f31d12f0-cbf0-418a-e17f-324b7e22d5c2"
      },
      "source": [
        "model = EDB(nu, ni, nf, y_range).cuda()\n",
        "optimizer = optim.Adam(model.parameters(), lr = 6e-03, momentum = 0.9)\n",
        "c = 0\n",
        "losses = []\n",
        "e = 7\n",
        "while e >= 0:\n",
        "  for x, y in data.train_dl:\n",
        "    optimizer.zero_grad()\n",
        "    y_hat = model(*x)\n",
        "    loss = loss_func(y_hat, y)\n",
        "    loss.backward()\n",
        "    optimizer.step()\n",
        "    c += 1\n",
        "    if c%5000 == 0:\n",
        "      print(loss.item())\n",
        "    losses.append(loss.item())\n",
        "  e -= 1\n",
        "  print(f'Average mean for epoc: {7-e} is {statistics.mean(losses)}')\n",
        "  losses = []"
      ],
      "execution_count": 24,
      "outputs": [
        {
          "output_type": "stream",
          "text": [
            "6.361891746520996\n",
            "5.485948085784912\n",
            "Average mean for epoc: 1 is 5.3919510788735225\n",
            "3.4964840412139893\n",
            "2.91939115524292\n",
            "3.2455124855041504\n",
            "Average mean for epoc: 2 is 3.2181520398626935\n",
            "1.8645029067993164\n",
            "1.719012975692749\n",
            "Average mean for epoc: 3 is 2.033644449012868\n",
            "1.4496265649795532\n",
            "1.515934944152832\n",
            "1.2346709966659546\n",
            "Average mean for epoc: 4 is 1.461947190668121\n",
            "1.3530030250549316\n",
            "1.1524101495742798\n",
            "Average mean for epoc: 5 is 1.236501846513144\n",
            "1.0142433643341064\n",
            "1.085806131362915\n",
            "1.3948466777801514\n",
            "Average mean for epoc: 6 is 1.1284124815326713\n",
            "1.6418955326080322\n",
            "0.7161968946456909\n",
            "Average mean for epoc: 7 is 1.070438890178439\n",
            "0.7914189100265503\n",
            "1.034062147140503\n",
            "1.1236083507537842\n",
            "Average mean for epoc: 8 is 1.0398628147430105\n"
          ],
          "name": "stdout"
        }
      ]
    },
    {
      "cell_type": "code",
      "metadata": {
        "id": "iqT_SiZ-yK3A"
      },
      "source": [
        "for batch in data.train_dl:\n",
        "  break\n",
        "u, i = batch[0]\n",
        "y = batch[1]"
      ],
      "execution_count": 22,
      "outputs": []
    },
    {
      "cell_type": "code",
      "metadata": {
        "colab": {
          "base_uri": "https://localhost:8080/"
        },
        "id": "dluZobFbMNDA",
        "outputId": "a30a79c5-cfc6-4a7b-9ec2-3b23767ed193"
      },
      "source": [
        "model = learn.model\n",
        "model.__dict__"
      ],
      "execution_count": 23,
      "outputs": [
        {
          "output_type": "execute_result",
          "data": {
            "text/plain": [
              "{'_backward_hooks': OrderedDict(),\n",
              " '_buffers': OrderedDict(),\n",
              " '_forward_hooks': OrderedDict(),\n",
              " '_forward_pre_hooks': OrderedDict(),\n",
              " '_load_state_dict_pre_hooks': OrderedDict(),\n",
              " '_modules': OrderedDict([('u_weight', Embedding(6041, 40)),\n",
              "              ('i_weight', Embedding(3675, 40)),\n",
              "              ('u_bias', Embedding(6041, 1)),\n",
              "              ('i_bias', Embedding(3675, 1))]),\n",
              " '_parameters': OrderedDict(),\n",
              " '_state_dict_hooks': OrderedDict(),\n",
              " 'training': False,\n",
              " 'y_range': [0.0, 5.5]}"
            ]
          },
          "metadata": {
            "tags": []
          },
          "execution_count": 23
        }
      ]
    },
    {
      "cell_type": "code",
      "metadata": {
        "colab": {
          "base_uri": "https://localhost:8080/"
        },
        "id": "ukYscaMNMTqr",
        "outputId": "d745fff2-0003-4dfe-cced-9eb9cae0e04b"
      },
      "source": [
        "params = []\n",
        "for i in model.parameters():\n",
        "  params.append(i)\n",
        "params[0].shape"
      ],
      "execution_count": 25,
      "outputs": [
        {
          "output_type": "execute_result",
          "data": {
            "text/plain": [
              "torch.Size([6041, 40])"
            ]
          },
          "metadata": {
            "tags": []
          },
          "execution_count": 25
        }
      ]
    },
    {
      "cell_type": "code",
      "metadata": {
        "colab": {
          "base_uri": "https://localhost:8080/"
        },
        "id": "V7cQv9u_McLi",
        "outputId": "4ec75607-b519-4a2d-bc6a-1010b6f1d61b"
      },
      "source": [
        "torch.mean(params[0]), torch.std(params[0]), torch.mean(params[2]), torch.std(params[2])"
      ],
      "execution_count": 25,
      "outputs": [
        {
          "output_type": "execute_result",
          "data": {
            "text/plain": [
              "(tensor(-0.0047, device='cuda:0', grad_fn=<MeanBackward0>),\n",
              " tensor(0.2205, device='cuda:0', grad_fn=<StdBackward0>),\n",
              " tensor(0.1990, device='cuda:0', grad_fn=<MeanBackward0>),\n",
              " tensor(0.2621, device='cuda:0', grad_fn=<StdBackward0>))"
            ]
          },
          "metadata": {
            "tags": []
          },
          "execution_count": 25
        }
      ]
    },
    {
      "cell_type": "code",
      "metadata": {
        "colab": {
          "base_uri": "https://localhost:8080/"
        },
        "id": "AXidpl_LOqWC",
        "outputId": "e4bf3704-2161-436c-d48b-6f0f3fab1bcd"
      },
      "source": [
        "n_model = model = EDB(nu, ni, nf, y_range).cuda()\n",
        "torch.mean(n_model.u_w.weight), torch.std(n_model.u_w.weight), torch.mean(n_model.i_w.weight), torch.std(n_model.i_w.weight)"
      ],
      "execution_count": 26,
      "outputs": [
        {
          "output_type": "execute_result",
          "data": {
            "text/plain": [
              "(tensor(0.0008, device='cuda:0', grad_fn=<MeanBackward0>),\n",
              " tensor(0.9987, device='cuda:0', grad_fn=<StdBackward0>),\n",
              " tensor(-0.0024, device='cuda:0', grad_fn=<MeanBackward0>),\n",
              " tensor(0.9998, device='cuda:0', grad_fn=<StdBackward0>))"
            ]
          },
          "metadata": {
            "tags": []
          },
          "execution_count": 26
        }
      ]
    },
    {
      "cell_type": "code",
      "metadata": {
        "colab": {
          "base_uri": "https://localhost:8080/"
        },
        "id": "HzEHOWj4QSE7",
        "outputId": "6db30573-39f4-482f-fd06-c96b08f8d87e"
      },
      "source": [
        "n_learn = collab_learner(data, n_factors= 40, y_range = [0., 5.5])\n",
        "new_params = []\n",
        "\n",
        "for i in n_learn.model.parameters():\n",
        "  new_params.append(i)\n",
        "torch.mean(new_params[0]), torch.std(new_params[0]), torch.mean(new_params[2]), torch.std(new_params[2])"
      ],
      "execution_count": 27,
      "outputs": [
        {
          "output_type": "execute_result",
          "data": {
            "text/plain": [
              "(tensor(-1.7457e-05, device='cuda:0', grad_fn=<MeanBackward0>),\n",
              " tensor(0.0087, device='cuda:0', grad_fn=<StdBackward0>),\n",
              " tensor(-6.3940e-05, device='cuda:0', grad_fn=<MeanBackward0>),\n",
              " tensor(0.0086, device='cuda:0', grad_fn=<StdBackward0>))"
            ]
          },
          "metadata": {
            "tags": []
          },
          "execution_count": 27
        }
      ]
    },
    {
      "cell_type": "code",
      "metadata": {
        "colab": {
          "base_uri": "https://localhost:8080/"
        },
        "id": "ouHmpflgr3To",
        "outputId": "f9686bd8-9f73-4038-dd32-7e15b22aeae4"
      },
      "source": [
        "1. -1.7457e-05, 1. -6.3940e-05"
      ],
      "execution_count": 33,
      "outputs": [
        {
          "output_type": "execute_result",
          "data": {
            "text/plain": [
              "(0.999982543, 0.99993606)"
            ]
          },
          "metadata": {
            "tags": []
          },
          "execution_count": 33
        }
      ]
    },
    {
      "cell_type": "code",
      "metadata": {
        "colab": {
          "base_uri": "https://localhost:8080/"
        },
        "id": "z4ElKgPKXg4u",
        "outputId": "d1e5a40a-fa75-4e31-c912-b191bf5feee8"
      },
      "source": [
        "math.sqrt(5.)"
      ],
      "execution_count": 65,
      "outputs": [
        {
          "output_type": "execute_result",
          "data": {
            "text/plain": [
              "2.23606797749979"
            ]
          },
          "metadata": {
            "tags": []
          },
          "execution_count": 65
        }
      ]
    },
    {
      "cell_type": "code",
      "metadata": {
        "colab": {
          "base_uri": "https://localhost:8080/"
        },
        "id": "WFxGVEcbYG0R",
        "outputId": "fbf1af04-3b4f-4677-ebde-01e68722be4c"
      },
      "source": [
        "#test\n"
      ],
      "execution_count": 28,
      "outputs": [
        {
          "output_type": "stream",
          "text": [
            "tensor([[ 1.1348, -0.2441,  0.8195,  0.4311,  1.3768],\n",
            "        [-1.4104,  1.2685, -1.1772,  1.4026, -2.1436],\n",
            "        [-1.0180, -0.6123,  1.2245,  0.9331,  0.2532]])\n"
          ],
          "name": "stdout"
        },
        {
          "output_type": "execute_result",
          "data": {
            "text/plain": [
              "(tensor(0.1492), tensor(1.1698))"
            ]
          },
          "metadata": {
            "tags": []
          },
          "execution_count": 28
        }
      ]
    },
    {
      "cell_type": "code",
      "metadata": {
        "colab": {
          "base_uri": "https://localhost:8080/"
        },
        "id": "LhSYYNiYYRR2",
        "outputId": "e6ceb0d4-5bbf-44e3-fe71-d0e4610d32a3"
      },
      "source": [
        "nn.init.kaiming_uniform_(w, a = math.sqrt(5), mode='fan_in', nonlinearity='relu')\n",
        "print(w, w.mean(), w.std())\n",
        "torch.mean(w), torch.std(w)"
      ],
      "execution_count": 30,
      "outputs": [
        {
          "output_type": "stream",
          "text": [
            "tensor([[ 0.8000,  0.8419,  0.9478, -0.1901,  0.7816],\n",
            "        [-0.2616, -0.6666, -0.9656,  0.9526,  0.9633],\n",
            "        [-0.1488,  0.1081,  0.7782, -0.5330, -0.6388]]) tensor(0.1846) tensor(0.7068)\n"
          ],
          "name": "stdout"
        },
        {
          "output_type": "execute_result",
          "data": {
            "text/plain": [
              "(tensor(0.1846), tensor(0.7068))"
            ]
          },
          "metadata": {
            "tags": []
          },
          "execution_count": 30
        }
      ]
    },
    {
      "cell_type": "code",
      "metadata": {
        "colab": {
          "base_uri": "https://localhost:8080/"
        },
        "id": "TSX7xuZB830F",
        "outputId": "74980c6c-2813-45ae-cd13-7c804a1aa6e2"
      },
      "source": [
        "\n",
        "a = math.sqrt(5)\n",
        "gain = math.sqrt(2/(1 + a**2))"
      ],
      "execution_count": 38,
      "outputs": [
        {
          "output_type": "execute_result",
          "data": {
            "text/plain": [
              "0.5773502691896257"
            ]
          },
          "metadata": {
            "tags": []
          },
          "execution_count": 38
        }
      ]
    },
    {
      "cell_type": "code",
      "metadata": {
        "colab": {
          "base_uri": "https://localhost:8080/"
        },
        "id": "BXkBTj4973sU",
        "outputId": "5bbce334-23e8-428e-fadd-062e62054423"
      },
      "source": [
        "w = torch.randn(3, 5)\n",
        "fan = nn.init._calculate_correct_fan(w, 'fan_in')\n",
        "gain = nn.init.calculate_gain('leaky_relu', math.sqrt(5))\n",
        "# fan, gain\n",
        "std = gain/math.sqrt(fan)\n",
        "# std, fan, gain\n",
        "bound = math.sqrt(3) * std\n",
        "std, fan, gain, bound"
      ],
      "execution_count": 46,
      "outputs": [
        {
          "output_type": "execute_result",
          "data": {
            "text/plain": [
              "(0.2581988897471611, 5, 0.5773502691896257, 0.44721359549995787)"
            ]
          },
          "metadata": {
            "tags": []
          },
          "execution_count": 46
        }
      ]
    },
    {
      "cell_type": "code",
      "metadata": {
        "colab": {
          "base_uri": "https://localhost:8080/"
        },
        "id": "2FaZHHB98KWs",
        "outputId": "004669dd-efa3-4b67-ff0a-5b8407e205e6"
      },
      "source": [
        "print(torch.mean(w), torch.std(w))\n",
        "w.uniform_(-bound, bound)\n",
        "print(torch.mean(w), torch.std(w))"
      ],
      "execution_count": 47,
      "outputs": [
        {
          "output_type": "stream",
          "text": [
            "tensor(-0.0485) tensor(1.0980)\n",
            "tensor(-0.0293) tensor(0.3018)\n"
          ],
          "name": "stdout"
        }
      ]
    },
    {
      "cell_type": "code",
      "metadata": {
        "id": "oTYqH8Xd_CC1"
      },
      "source": [
        "class EDB_NN(nn.Module):\n",
        "\n",
        "  def __init__(self, nu, ni, nf, y_range):\n",
        "    super().__init__()\n",
        "    self.y_range = y_range\n",
        "    self.u_w, self.i_w = [nn.Embedding(*x) for x in [(nu, nf), (ni, nf)]]\n",
        "    self.w = nn.Linear(nf, 1, bias = True)\n",
        "\n",
        "  def forward(self, users, items):\n",
        "    res = self.w(self.u_w(users) * self.i_w(items))\n",
        "    return torch.sigmoid(res)*y_range[1] + y_range[0]"
      ],
      "execution_count": 66,
      "outputs": []
    },
    {
      "cell_type": "code",
      "metadata": {
        "id": "pO-QgbcgAI0Y"
      },
      "source": [
        "newm = EDB_NN(nu, ni, nf, y_range).cuda()\n",
        "yhat = newm(*x)"
      ],
      "execution_count": 67,
      "outputs": []
    },
    {
      "cell_type": "code",
      "metadata": {
        "colab": {
          "base_uri": "https://localhost:8080/"
        },
        "id": "BkgH2gXHAZUs",
        "outputId": "8cb405f7-349b-47ef-ec56-4caf36f85554"
      },
      "source": [
        "yhat.shape, y.shape"
      ],
      "execution_count": 68,
      "outputs": [
        {
          "output_type": "execute_result",
          "data": {
            "text/plain": [
              "(torch.Size([64, 1]), torch.Size([64]))"
            ]
          },
          "metadata": {
            "tags": []
          },
          "execution_count": 68
        }
      ]
    },
    {
      "cell_type": "code",
      "metadata": {
        "colab": {
          "base_uri": "https://localhost:8080/"
        },
        "id": "ZZMKMegeAcW9",
        "outputId": "adb4eda2-e20d-4fb2-e6b9-37cd9c706a63"
      },
      "source": [
        "loss = loss_func(y_hat, y)\n",
        "loss"
      ],
      "execution_count": 69,
      "outputs": [
        {
          "output_type": "execute_result",
          "data": {
            "text/plain": [
              "tensor(0.5286, device='cuda:0', grad_fn=<MseLossBackward>)"
            ]
          },
          "metadata": {
            "tags": []
          },
          "execution_count": 69
        }
      ]
    },
    {
      "cell_type": "code",
      "metadata": {
        "colab": {
          "base_uri": "https://localhost:8080/"
        },
        "id": "NlrzZwnAAhZr",
        "outputId": "af0078af-2e6c-4b0e-87bb-e1e85e51565b"
      },
      "source": [
        "model = EDB_NN(nu, ni, nf, y_range).cuda()\n",
        "optimizer = optim.Adam(model.parameters(), lr = 9e-03)\n",
        "c = 0\n",
        "losses = []\n",
        "e = 2\n",
        "while e >= 0:\n",
        "  for x, y in data.train_dl:\n",
        "    optimizer.zero_grad()\n",
        "    y_hat = model(*x)\n",
        "    loss = loss_func(y_hat, y)\n",
        "    loss.backward()\n",
        "    optimizer.step()\n",
        "    c += 1\n",
        "    if c%5000 == 0:\n",
        "      print(loss.item())\n",
        "    losses.append(loss.item())\n",
        "  e -= 1\n",
        "  print(f'Average mean for epoc: {7-e} is {statistics.mean(losses)}')\n",
        "  losses = []"
      ],
      "execution_count": 70,
      "outputs": [
        {
          "output_type": "stream",
          "text": [
            "1.065464735031128\n",
            "1.6436424255371094\n",
            "Average mean for epoc: 6 is 1.2825727221956635\n",
            "1.2617601156234741\n",
            "1.2321463823318481\n",
            "0.7678769826889038\n",
            "Average mean for epoc: 7 is 1.1800807996800071\n",
            "0.9783095121383667\n",
            "0.9127510190010071\n",
            "Average mean for epoc: 8 is 0.8916966381182272\n"
          ],
          "name": "stdout"
        }
      ]
    },
    {
      "cell_type": "code",
      "metadata": {
        "colab": {
          "base_uri": "https://localhost:8080/",
          "height": 111
        },
        "id": "6jtHn5dwAniB",
        "outputId": "a4b38934-bb5b-4d50-9f2b-cb3315e0a774"
      },
      "source": [
        "model = EDB_NN(nu, ni, nf, y_range).cuda()\n",
        "learn = CollabLearner(data, model)\n",
        "learn.lr_find()"
      ],
      "execution_count": 71,
      "outputs": [
        {
          "output_type": "display_data",
          "data": {
            "text/html": [
              "\n",
              "    <div>\n",
              "        <style>\n",
              "            /* Turns off some styling */\n",
              "            progress {\n",
              "                /* gets rid of default border in Firefox and Opera. */\n",
              "                border: none;\n",
              "                /* Needs to be in here for Safari polyfill so background images work as expected. */\n",
              "                background-size: auto;\n",
              "            }\n",
              "            .progress-bar-interrupted, .progress-bar-interrupted::-webkit-progress-bar {\n",
              "                background: #F44336;\n",
              "            }\n",
              "        </style>\n",
              "      <progress value='0' class='' max='1' style='width:300px; height:20px; vertical-align: middle;'></progress>\n",
              "      0.00% [0/1 00:00<00:00]\n",
              "    </div>\n",
              "    \n",
              "<table border=\"1\" class=\"dataframe\">\n",
              "  <thead>\n",
              "    <tr style=\"text-align: left;\">\n",
              "      <th>epoch</th>\n",
              "      <th>train_loss</th>\n",
              "      <th>valid_loss</th>\n",
              "      <th>time</th>\n",
              "    </tr>\n",
              "  </thead>\n",
              "  <tbody>\n",
              "  </tbody>\n",
              "</table><p>\n",
              "\n",
              "    <div>\n",
              "        <style>\n",
              "            /* Turns off some styling */\n",
              "            progress {\n",
              "                /* gets rid of default border in Firefox and Opera. */\n",
              "                border: none;\n",
              "                /* Needs to be in here for Safari polyfill so background images work as expected. */\n",
              "                background-size: auto;\n",
              "            }\n",
              "            .progress-bar-interrupted, .progress-bar-interrupted::-webkit-progress-bar {\n",
              "                background: #F44336;\n",
              "            }\n",
              "        </style>\n",
              "      <progress value='75' class='' max='12502' style='width:300px; height:20px; vertical-align: middle;'></progress>\n",
              "      0.60% [75/12502 00:00<01:26 0.8021]\n",
              "    </div>\n",
              "    "
            ],
            "text/plain": [
              "<IPython.core.display.HTML object>"
            ]
          },
          "metadata": {
            "tags": []
          }
        },
        {
          "output_type": "stream",
          "text": [
            "LR Finder is complete, type {learner_name}.recorder.plot() to see the graph.\n"
          ],
          "name": "stdout"
        }
      ]
    },
    {
      "cell_type": "code",
      "metadata": {
        "colab": {
          "base_uri": "https://localhost:8080/",
          "height": 279
        },
        "id": "4OzCd9ARA8uc",
        "outputId": "30bf0059-289a-43ad-cdab-7ef3cf7ab807"
      },
      "source": [
        "learn.recorder.plot(skip_ends = 20)"
      ],
      "execution_count": 72,
      "outputs": [
        {
          "output_type": "display_data",
          "data": {
            "image/png": "[encoded data removed]",
            "text/plain": [
              "<Figure size 432x288 with 1 Axes>"
            ]
          },
          "metadata": {
            "tags": [],
            "needs_background": "light"
          }
        }
      ]
    },
    {
      "cell_type": "code",
      "metadata": {
        "colab": {
          "base_uri": "https://localhost:8080/",
          "height": 108
        },
        "id": "2As3RvSCB2Ke",
        "outputId": "03d6cd9a-e7b7-452f-e15d-a084de0255f2"
      },
      "source": [
        "learn.fit_one_cycle(2, 9e-03)"
      ],
      "execution_count": 73,
      "outputs": [
        {
          "output_type": "display_data",
          "data": {
            "text/html": [
              "<table border=\"1\" class=\"dataframe\">\n",
              "  <thead>\n",
              "    <tr style=\"text-align: left;\">\n",
              "      <th>epoch</th>\n",
              "      <th>train_loss</th>\n",
              "      <th>valid_loss</th>\n",
              "      <th>time</th>\n",
              "    </tr>\n",
              "  </thead>\n",
              "  <tbody>\n",
              "    <tr>\n",
              "      <td>0</td>\n",
              "      <td>0.831444</td>\n",
              "      <td>0.829462</td>\n",
              "      <td>01:01</td>\n",
              "    </tr>\n",
              "    <tr>\n",
              "      <td>1</td>\n",
              "      <td>0.744288</td>\n",
              "      <td>0.804601</td>\n",
              "      <td>01:00</td>\n",
              "    </tr>\n",
              "  </tbody>\n",
              "</table>"
            ],
            "text/plain": [
              "<IPython.core.display.HTML object>"
            ]
          },
          "metadata": {
            "tags": []
          }
        }
      ]
    },
    {
      "cell_type": "code",
      "metadata": {
        "colab": {
          "base_uri": "https://localhost:8080/"
        },
        "id": "b_3m4Z3fE4Bg",
        "outputId": "757cdbe6-ac5a-4224-daa3-2014e2f9c4b4"
      },
      "source": [
        "m = learn.model"
      ],
      "execution_count": 76,
      "outputs": [
        {
          "output_type": "execute_result",
          "data": {
            "text/plain": [
              "Parameter containing:\n",
              "tensor([[-0.1197, -0.1998,  0.0434, -0.0044, -0.3200, -0.1041, -0.1512, -0.0354,\n",
              "          0.0025,  0.1019,  0.0880,  0.0130,  0.6431, -0.1753,  0.0877, -0.2104,\n",
              "          0.0479, -0.0333, -0.1333, -0.0278, -0.0052, -0.1298,  0.0137, -0.0184,\n",
              "         -0.1217, -0.1001,  0.0373,  0.1790,  0.0791,  0.0294, -0.1575,  0.1668,\n",
              "          0.1178, -0.0646,  0.0811, -0.0506, -0.0011, -0.1921, -0.1183, -0.4595]],\n",
              "       device='cuda:0', requires_grad=True)"
            ]
          },
          "metadata": {
            "tags": []
          },
          "execution_count": 76
        }
      ]
    },
    {
      "cell_type": "code",
      "metadata": {
        "colab": {
          "base_uri": "https://localhost:8080/"
        },
        "id": "_jQSyXb3Enna",
        "outputId": "1d314b7a-79d3-4dda-b244-485799564732"
      },
      "source": [
        "torch.mean(m.u_w.weight), torch.std(m.u_w.weight), torch.mean(m.i_w.weight), torch.std(m.i_w.weight), torch.mean(m.w.weight), torch.std(m.w.weight)"
      ],
      "execution_count": 79,
      "outputs": [
        {
          "output_type": "execute_result",
          "data": {
            "text/plain": [
              "(tensor(-0.0091, device='cuda:0', grad_fn=<MeanBackward0>),\n",
              " tensor(0.5104, device='cuda:0', grad_fn=<StdBackward0>),\n",
              " tensor(-0.0140, device='cuda:0', grad_fn=<MeanBackward0>),\n",
              " tensor(0.4802, device='cuda:0', grad_fn=<StdBackward0>),\n",
              " tensor(-0.0300, device='cuda:0', grad_fn=<MeanBackward0>),\n",
              " tensor(0.1694, device='cuda:0', grad_fn=<StdBackward0>))"
            ]
          },
          "metadata": {
            "tags": []
          },
          "execution_count": 79
        }
      ]
    },
    {
      "cell_type": "code",
      "metadata": {
        "colab": {
          "base_uri": "https://localhost:8080/"
        },
        "id": "5-KGnprWFVW_",
        "outputId": "1015f80a-f993-48e6-e55e-d5e6fdcfe72b"
      },
      "source": [
        "m = EDB_NN(nu, ni, nf, y_range).cuda()\n",
        "torch.mean(m.u_w.weight), torch.std(m.u_w.weight), torch.mean(m.i_w.weight), torch.std(m.i_w.weight), torch.mean(m.w.weight), torch.std(m.w.weight)"
      ],
      "execution_count": 80,
      "outputs": [
        {
          "output_type": "execute_result",
          "data": {
            "text/plain": [
              "(tensor(0.0022, device='cuda:0', grad_fn=<MeanBackward0>),\n",
              " tensor(0.9966, device='cuda:0', grad_fn=<StdBackward0>),\n",
              " tensor(0.0035, device='cuda:0', grad_fn=<MeanBackward0>),\n",
              " tensor(1.0027, device='cuda:0', grad_fn=<StdBackward0>),\n",
              " tensor(-0.0209, device='cuda:0', grad_fn=<MeanBackward0>),\n",
              " tensor(0.0838, device='cuda:0', grad_fn=<StdBackward0>))"
            ]
          },
          "metadata": {
            "tags": []
          },
          "execution_count": 80
        }
      ]
    }
  ]
}